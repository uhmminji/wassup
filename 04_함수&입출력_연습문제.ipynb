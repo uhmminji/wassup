{
 "cells": [
  {
   "cell_type": "markdown",
   "id": "a37cc3f2",
   "metadata": {},
   "source": [
    "# 주어진 자연수가 홀수인지 짝수인지 판별해 주는 함수(is_odd)를 작성해 보자.\n",
    "```\n",
    "def is_odd(number):\n",
    "    if ???    # 2로 나누었을 때 나머지가 1이면 홀수이다.\n",
    "        return True\n",
    "    else:\n",
    "        return False\n",
    "```"
   ]
  },
  {
   "cell_type": "code",
   "execution_count": 2,
   "id": "4fbd3389",
   "metadata": {
    "ExecuteTime": {
     "end_time": "2023-12-05T12:32:01.420148Z",
     "start_time": "2023-12-05T12:32:01.407372Z"
    }
   },
   "outputs": [
    {
     "name": "stdout",
     "output_type": "stream",
     "text": [
      "True\n"
     ]
    }
   ],
   "source": [
    "# 첫번째 풀이: 정답\n",
    "\n",
    "def is_odd(number):\n",
    "    if number%2 == 1: # 2로 나누었을 때 나머지가 1이면 홀수이다.\n",
    "        return True\n",
    "    else:\n",
    "        return False\n",
    "\n",
    "print(is_odd(3))"
   ]
  },
  {
   "cell_type": "markdown",
   "id": "4115d3c9",
   "metadata": {},
   "source": [
    "# 입력으로 들어오는 모든 수의 평균 값을 계산해 주는 함수를 작성해 보자.\n",
    "(단 입력으로 들어오는 수의 개수는 정해져 있지 않다.)\n",
    "```\n",
    "def avg_numbers(???):\n",
    "    result = 0\n",
    "    for i in args:\n",
    "        result += i\n",
    "    return ?????\n",
    "\n",
    "avg_numbers(1,2)       # 1.5 출력\n",
    "avg_numbers(1,2,3,4,5) # 3.0 출력\n",
    "```"
   ]
  },
  {
   "cell_type": "code",
   "execution_count": 24,
   "id": "5584c9d1",
   "metadata": {
    "ExecuteTime": {
     "end_time": "2023-12-06T02:42:21.342059Z",
     "start_time": "2023-12-06T02:42:21.333780Z"
    }
   },
   "outputs": [
    {
     "name": "stdout",
     "output_type": "stream",
     "text": [
      "1.5\n",
      "3.0\n"
     ]
    }
   ],
   "source": [
    "# 첫번째 풀이: 정답\n",
    "\n",
    "def avg_numbers(*args): # *args: 튜플 / **kwargs: 딕셔너리로 받아옴\n",
    "    result = 0\n",
    "    for i in args:\n",
    "        result += i\n",
    "    return result/len(args)\n",
    "\n",
    "print(avg_numbers(1, 2))\n",
    "print(avg_numbers(1, 2, 3, 4, 5))"
   ]
  },
  {
   "cell_type": "markdown",
   "id": "eb039d0c",
   "metadata": {},
   "source": [
    "# 다음은 두 개의 숫자를 입력받아 더하여 돌려주는 프로그램이다.\n",
    "```\n",
    "input1 = input(\"첫번째 숫자를 입력하세요:\")\n",
    "input2 = input(\"두번째 숫자를 입력하세요:\")\n",
    "\n",
    "total = input1 + input2\n",
    "print(\"두 수의 합은 %s 입니다\" % total)\n",
    "```\n",
    "이 프로그램을 수행해 보자.\n",
    "```\n",
    "첫번째 숫자를 입력하세요: 3\n",
    "두번째 숫자를 입력하세요: 6\n",
    "두 수의 합은 36 입니다.\n",
    "```\n",
    "3과 6을 입력했을 때 9가 아닌 36이라는 결괏값이 나왔다. 이 프로그램의 오류를 수정해보자."
   ]
  },
  {
   "cell_type": "code",
   "execution_count": 8,
   "id": "50e8e4fd",
   "metadata": {
    "ExecuteTime": {
     "end_time": "2023-12-05T13:13:49.918291Z",
     "start_time": "2023-12-05T13:13:47.997208Z"
    }
   },
   "outputs": [
    {
     "name": "stdout",
     "output_type": "stream",
     "text": [
      "첫번째 숫자를 입력하세요:3\n",
      "두번째 숫자를 입력하세요:6\n",
      "두 수의 합은 9 입니다\n"
     ]
    }
   ],
   "source": [
    "# 첫번째 풀이: 정답\n",
    "\n",
    "input1 = input(\"첫번째 숫자를 입력하세요:\")\n",
    "input2 = input(\"두번째 숫자를 입력하세요:\")\n",
    "\n",
    "total = int(input1) + int(input2)\n",
    "print(\"두 수의 합은 %s 입니다\" % total)"
   ]
  },
  {
   "cell_type": "markdown",
   "id": "792e9473",
   "metadata": {},
   "source": [
    "# 다음 중 출력 결과가 다른 것 한 개를 골라 보자.\n",
    "```\n",
    "1. print(\"you\" \"need\" \"python\")\n",
    "2. print(\"you\"+\"need\"+\"python\")\n",
    "3. print(\"you\",\"need\",\"python\")\n",
    "4. print(\"\".join([\"you\",\"need\",\"python\"]))\n",
    "```"
   ]
  },
  {
   "cell_type": "code",
   "execution_count": null,
   "id": "08ee243f",
   "metadata": {},
   "outputs": [],
   "source": [
    "# 첫번째 풀이: 정답\n",
    "\n",
    "3번. 쉼표가 띄어쓰기를 의미함"
   ]
  },
  {
   "cell_type": "markdown",
   "id": "f1de406e",
   "metadata": {},
   "source": [
    "# 다음은 \"test.txt\"라는 파일에 \"Life is too short\" 문자열을 저장한 후 다시 그 파일을 읽어서 출력하는 프로그램이다.\n",
    "```\n",
    "f1 = open(\"test.txt\", 'w')\n",
    "f1.write(\"Life is too short\")\n",
    "\n",
    "f2 = open(\"test.txt\", 'r')\n",
    "print(f2.read())\n",
    "```\n",
    "이 프로그램은 우리가 예상한 \"Life is too short\"라는 문장을 출력하지 않는다.   \n",
    "우리가 예상한 값을 출력할 수 있도록 프로그램을 수정해보자."
   ]
  },
  {
   "cell_type": "code",
   "execution_count": 12,
   "id": "eed5545e",
   "metadata": {
    "ExecuteTime": {
     "end_time": "2023-12-05T23:40:50.198778Z",
     "start_time": "2023-12-05T23:40:50.161193Z"
    }
   },
   "outputs": [
    {
     "name": "stdout",
     "output_type": "stream",
     "text": [
      "Life is too short\n"
     ]
    }
   ],
   "source": [
    "# 첫번째 풀이: 정답\n",
    "\n",
    "f1 = open(\"test.txt\", 'w')\n",
    "f1.write(\"Life is too short\")\n",
    "f1.close()\n",
    "\n",
    "f2 = open(\"test.txt\", 'r')\n",
    "print(f2.read())\n",
    "f2.close()"
   ]
  },
  {
   "cell_type": "markdown",
   "id": "51e82b74",
   "metadata": {},
   "source": [
    "# 사용자의 입력을 파일(test.txt)에 저장하는 프로그램을 작성해 보자.\n",
    "(단 프로그램을 다시 실행하더라도 기존에 작성한 내용을 유지하고 새로 입력한 내용을 추가해야 한다.)\n",
    "```\n",
    "user_input = input(\"저장할 내용을 입력하세요: \")\n",
    "f = open('test.txt', ?????) # 내용을 추가하기 위해 'a'를 사용\n",
    "f.write(user_input)\n",
    "f.write(????????) # 입력한 내용을 줄단위로 구분하기 위해 줄 바꿈 문자 삽입\n",
    "f.close()\n",
    "```"
   ]
  },
  {
   "cell_type": "code",
   "execution_count": 20,
   "id": "ecde2a7b",
   "metadata": {
    "ExecuteTime": {
     "end_time": "2023-12-06T02:09:58.175317Z",
     "start_time": "2023-12-06T02:09:58.164727Z"
    }
   },
   "outputs": [
    {
     "ename": "SyntaxError",
     "evalue": "unexpected character after line continuation character (1155650847.py, line 6)",
     "output_type": "error",
     "traceback": [
      "\u001b[1;36m  Cell \u001b[1;32mIn[20], line 6\u001b[1;36m\u001b[0m\n\u001b[1;33m    f.write(\\n)\u001b[0m\n\u001b[1;37m             ^\u001b[0m\n\u001b[1;31mSyntaxError\u001b[0m\u001b[1;31m:\u001b[0m unexpected character after line continuation character\n"
     ]
    }
   ],
   "source": [
    "# 첫번째 풀이: 정답\n",
    "\n",
    "user_input = input('저장할 내용을 입력하세요: ')\n",
    "f = open('test.txt', 'a')\n",
    "f.write(user_input)\n",
    "f.write('\\n')\n",
    "f.close()"
   ]
  },
  {
   "cell_type": "markdown",
   "id": "081bc501",
   "metadata": {},
   "source": [
    "# 다음과 같은 내용을 지닌 파일 test.txt가 있다. 이 파일의 내용 중 'java'라는 문자열을 'python'으로 바꾸어서 저장해 보자.\n",
    "```\n",
    "Life is too short\n",
    "you need java\n",
    "```\n",
    "\n",
    "```\n",
    "f = open('test.txt', 'r')\n",
    "body = ????? # test.txt 파일의 내용을 body 변수에 저장\n",
    "f.close()\n",
    "\n",
    "body = ?????   # body 문자열에서 \"java\"를 \"python\"으로 변경\n",
    "\n",
    "f = open('test.txt', ????)  # 파일을 쓰기 모드로 다시 실행\n",
    "f.write(body)\n",
    "f.close()\n",
    "```"
   ]
  },
  {
   "cell_type": "code",
   "execution_count": 22,
   "id": "a75e71f2",
   "metadata": {
    "ExecuteTime": {
     "end_time": "2023-12-06T02:15:30.820678Z",
     "start_time": "2023-12-06T02:15:30.810765Z"
    }
   },
   "outputs": [],
   "source": [
    "# 첫번째 풀이\n",
    "\n",
    "f = open('test.txt', 'r')\n",
    "body = 'Life is too short\\nyou need java'\n",
    "f.close()\n",
    "\n",
    "body = body.replace('java', 'python')\n",
    "\n",
    "f = open('test.txt', 'a')\n",
    "f.write(body)\n",
    "f.close()"
   ]
  },
  {
   "cell_type": "code",
   "execution_count": null,
   "id": "fb9d50e3",
   "metadata": {},
   "outputs": [],
   "source": [
    "# 답\n",
    "\n",
    "f = open('test.txt', 'r')\n",
    "body = f.read()\n",
    "f.close()\n",
    "\n",
    "body = body.replace('java', 'python')\n",
    "\n",
    "f = open('test.txt', 'w')\n",
    "f.write(body)\n",
    "f.close()"
   ]
  },
  {
   "cell_type": "code",
   "execution_count": null,
   "id": "4563f96c",
   "metadata": {},
   "outputs": [],
   "source": []
  }
 ],
 "metadata": {
  "kernelspec": {
   "display_name": "Python 3 (ipykernel)",
   "language": "python",
   "name": "python3"
  },
  "language_info": {
   "codemirror_mode": {
    "name": "ipython",
    "version": 3
   },
   "file_extension": ".py",
   "mimetype": "text/x-python",
   "name": "python",
   "nbconvert_exporter": "python",
   "pygments_lexer": "ipython3",
   "version": "3.11.5"
  },
  "toc": {
   "base_numbering": 1,
   "nav_menu": {},
   "number_sections": true,
   "sideBar": true,
   "skip_h1_title": false,
   "title_cell": "Table of Contents",
   "title_sidebar": "Contents",
   "toc_cell": false,
   "toc_position": {},
   "toc_section_display": true,
   "toc_window_display": false
  }
 },
 "nbformat": 4,
 "nbformat_minor": 5
}
