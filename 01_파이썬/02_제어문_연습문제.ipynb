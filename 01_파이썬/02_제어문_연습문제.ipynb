{
 "cells": [
  {
   "cell_type": "markdown",
   "id": "007633e9",
   "metadata": {
    "ExecuteTime": {
     "end_time": "2023-12-02T07:40:00.527177Z",
     "start_time": "2023-12-02T07:40:00.516179Z"
    }
   },
   "source": [
    "# 다음 코드의 결괏값은 무엇일까?\n",
    "\n",
    "```\n",
    "a = 'Life is too short, you need python'\n",
    "if 'wife' in a: print('wife')\n",
    "elif 'python' in a and 'you' not in a : print('python')\n",
    "elif 'shirt' not in a : print('shirt')\n",
    "elif 'need' in a: print('need')\n",
    "else: print('none')\n",
    "```"
   ]
  },
  {
   "cell_type": "code",
   "execution_count": null,
   "id": "ff3db3f4",
   "metadata": {},
   "outputs": [],
   "source": [
    "if 'wife' in a: print('wife') # 거짓이므로 미츨력\n",
    "elif 'python' in a and 'you' not in a : print('python') # 거짓이므로 미츨력\n",
    "elif 'shirt' not in a : print('shirt') #참이므로 출력\n",
    "elif 'need' in a: print('need') #참이지만 실행 안됨\n",
    "else: print('none')"
   ]
  },
  {
   "cell_type": "markdown",
   "id": "3ebde5e0",
   "metadata": {},
   "source": [
    "# while문을 사용해 1부터 1000까지의 자연수 중 3의 배수의 합을 구해 보자.\n",
    "```\n",
    "result = 0\n",
    "i = 1\n",
    "while i <= 1000:\n",
    "    if ?????  # 3으로 나누어 떨어지는 수는 3의 배수\n",
    "        result += i\n",
    "    i += 1\n",
    "print(result) # 166833 출력\n",
    "```"
   ]
  },
  {
   "cell_type": "code",
   "execution_count": 10,
   "id": "dd185a6d",
   "metadata": {
    "ExecuteTime": {
     "end_time": "2023-12-02T07:55:32.568795Z",
     "start_time": "2023-12-02T07:55:32.558493Z"
    }
   },
   "outputs": [
    {
     "name": "stdout",
     "output_type": "stream",
     "text": [
      "166833\n"
     ]
    }
   ],
   "source": [
    "result = 0\n",
    "i = 1\n",
    "\n",
    "while i <= 1000:\n",
    "    if i % 3 == 0 :  # 3으로 나누어 떨어지는 수는 3의 배수\n",
    "        result += i\n",
    "    i += 1\n",
    "print(result) # 166833 출력"
   ]
  },
  {
   "cell_type": "markdown",
   "id": "9df9f149",
   "metadata": {},
   "source": [
    "# while문을 사용하여 다음과 같이 별(*)을 표시하는 프로그램을 작성해 보자.\n",
    "```\n",
    "*\n",
    "**\n",
    "***\n",
    "****\n",
    "*****\n",
    "```"
   ]
  },
  {
   "cell_type": "code",
   "execution_count": 28,
   "id": "7e48f544",
   "metadata": {
    "ExecuteTime": {
     "end_time": "2023-12-02T08:02:32.055785Z",
     "start_time": "2023-12-02T08:02:32.049346Z"
    }
   },
   "outputs": [
    {
     "name": "stdout",
     "output_type": "stream",
     "text": [
      "*\n",
      "**\n",
      "***\n",
      "****\n",
      "*****\n"
     ]
    }
   ],
   "source": [
    "# 내 풀이\n",
    "\n",
    "s = ''\n",
    "while len(s) <5:\n",
    "    s = s + '*'\n",
    "    print(s)"
   ]
  },
  {
   "cell_type": "code",
   "execution_count": null,
   "id": "77cc1e7a",
   "metadata": {},
   "outputs": [],
   "source": [
    "#답\n",
    "\n",
    "i = 1\n",
    "while i < 6:\n",
    "    print('*'*i)\n",
    "    i += 1"
   ]
  },
  {
   "cell_type": "markdown",
   "id": "9620215a",
   "metadata": {},
   "source": [
    "# for문을 사용해 1부터 100까지의 숫자를 출력해보자\n",
    "```\n",
    "for i in ???\n",
    "    print(i)\n",
    "```"
   ]
  },
  {
   "cell_type": "code",
   "execution_count": 30,
   "id": "7968c9ea",
   "metadata": {
    "ExecuteTime": {
     "end_time": "2023-12-02T08:04:00.264074Z",
     "start_time": "2023-12-02T08:04:00.257770Z"
    }
   },
   "outputs": [
    {
     "name": "stdout",
     "output_type": "stream",
     "text": [
      "1\n",
      "2\n",
      "3\n",
      "4\n",
      "5\n",
      "6\n",
      "7\n",
      "8\n",
      "9\n",
      "10\n",
      "11\n",
      "12\n",
      "13\n",
      "14\n",
      "15\n",
      "16\n",
      "17\n",
      "18\n",
      "19\n",
      "20\n",
      "21\n",
      "22\n",
      "23\n",
      "24\n",
      "25\n",
      "26\n",
      "27\n",
      "28\n",
      "29\n",
      "30\n",
      "31\n",
      "32\n",
      "33\n",
      "34\n",
      "35\n",
      "36\n",
      "37\n",
      "38\n",
      "39\n",
      "40\n",
      "41\n",
      "42\n",
      "43\n",
      "44\n",
      "45\n",
      "46\n",
      "47\n",
      "48\n",
      "49\n",
      "50\n",
      "51\n",
      "52\n",
      "53\n",
      "54\n",
      "55\n",
      "56\n",
      "57\n",
      "58\n",
      "59\n",
      "60\n",
      "61\n",
      "62\n",
      "63\n",
      "64\n",
      "65\n",
      "66\n",
      "67\n",
      "68\n",
      "69\n",
      "70\n",
      "71\n",
      "72\n",
      "73\n",
      "74\n",
      "75\n",
      "76\n",
      "77\n",
      "78\n",
      "79\n",
      "80\n",
      "81\n",
      "82\n",
      "83\n",
      "84\n",
      "85\n",
      "86\n",
      "87\n",
      "88\n",
      "89\n",
      "90\n",
      "91\n",
      "92\n",
      "93\n",
      "94\n",
      "95\n",
      "96\n",
      "97\n",
      "98\n",
      "99\n",
      "100\n"
     ]
    }
   ],
   "source": [
    "# 맞춤\n",
    "\n",
    "for i in range(1, 101):\n",
    "    print(i)"
   ]
  },
  {
   "cell_type": "markdown",
   "id": "01f9b16d",
   "metadata": {},
   "source": [
    "# A학급에 총 10명의 학생이 있다. 이 학생들의 중간고사 점수는 다음과 같다.\n",
    "for문을 사용하여 A 학급의 평균 점수를 구해보자.\n",
    "```\n",
    "A = [70, 60, 55, 75, 95, 90, 80, 80, 85, 100]\n",
    "total = 0\n",
    "for score in A:\n",
    "    total += ???? # A학급의 점수를 모두 더한다.\n",
    "average = ???? # 평균을 구하기 위해 총 점수를 총 학생수로 나눈다.\n",
    "print(average)\n",
    "```"
   ]
  },
  {
   "cell_type": "code",
   "execution_count": 32,
   "id": "2a74624b",
   "metadata": {
    "ExecuteTime": {
     "end_time": "2023-12-02T08:06:30.830654Z",
     "start_time": "2023-12-02T08:06:30.820481Z"
    }
   },
   "outputs": [
    {
     "name": "stdout",
     "output_type": "stream",
     "text": [
      "79.0\n"
     ]
    }
   ],
   "source": [
    "# 내 풀이: 정답\n",
    "\n",
    "A = [70, 60, 55, 75, 95, 90, 80, 80, 85, 100]\n",
    "total = 0\n",
    "for score in A:\n",
    "    total += score # A학급의 점수를 모두 더한다.\n",
    "average = total/len(A) # 평균을 구하기 위해 총 점수를 총 학생수로 나눈다.\n",
    "print(average)"
   ]
  },
  {
   "cell_type": "markdown",
   "id": "9b333417",
   "metadata": {},
   "source": [
    "# 리스트 중에서 홀수에만 2를 곱하여 저장하는 다음 코드가 있다.\n",
    "\n",
    "```\n",
    "numbers = [1, 2, 3, 4, 5]\n",
    "result = []\n",
    "for n in numbers:\n",
    "if n % 2 == 1:\n",
    "    result.append(n*2)\n",
    "```\n",
    "위 코드를 리스트 내포(list comprehension)을 사용하여 표현해보자.\n",
    "```\n",
    "numbers = [1, 2, 3, 4, 5]\n",
    "result = ?????\n",
    "print(result)\n",
    "```"
   ]
  },
  {
   "cell_type": "code",
   "execution_count": 38,
   "id": "21befa99",
   "metadata": {
    "ExecuteTime": {
     "end_time": "2023-12-02T08:10:06.754764Z",
     "start_time": "2023-12-02T08:10:06.748333Z"
    }
   },
   "outputs": [
    {
     "name": "stdout",
     "output_type": "stream",
     "text": [
      "[2, 6, 10]\n"
     ]
    }
   ],
   "source": [
    "# 내 풀이: 정답\n",
    "\n",
    "numbers = [1, 2, 3, 4, 5]\n",
    "result = [n*2 for n in numbers if n%2 == 1]\n",
    "print(result)"
   ]
  },
  {
   "cell_type": "code",
   "execution_count": null,
   "id": "53f4b091",
   "metadata": {},
   "outputs": [],
   "source": []
  }
 ],
 "metadata": {
  "kernelspec": {
   "display_name": "Python 3 (ipykernel)",
   "language": "python",
   "name": "python3"
  },
  "language_info": {
   "codemirror_mode": {
    "name": "ipython",
    "version": 3
   },
   "file_extension": ".py",
   "mimetype": "text/x-python",
   "name": "python",
   "nbconvert_exporter": "python",
   "pygments_lexer": "ipython3",
   "version": "3.11.5"
  },
  "toc": {
   "base_numbering": 1,
   "nav_menu": {},
   "number_sections": true,
   "sideBar": true,
   "skip_h1_title": false,
   "title_cell": "Table of Contents",
   "title_sidebar": "Contents",
   "toc_cell": false,
   "toc_position": {},
   "toc_section_display": true,
   "toc_window_display": false
  }
 },
 "nbformat": 4,
 "nbformat_minor": 5
}
