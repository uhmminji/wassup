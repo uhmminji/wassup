{
 "cells": [
  {
   "cell_type": "markdown",
   "id": "e8fbbe14",
   "metadata": {},
   "source": [
    "# if\n",
    "if 조건문:   \n",
    "\n",
    "    수행할_문장1   \n",
    "    수행할_문장2   \n",
    "else:   \n",
    "\n",
    "    수행할_문장A   \n",
    "    수행할_문장B   "
   ]
  },
  {
   "cell_type": "code",
   "execution_count": 2,
   "id": "4e6fcb67",
   "metadata": {
    "ExecuteTime": {
     "end_time": "2023-11-30T03:54:34.610451Z",
     "start_time": "2023-11-30T03:54:34.602468Z"
    }
   },
   "outputs": [
    {
     "name": "stdout",
     "output_type": "stream",
     "text": [
      "택시를 타고 가라\n"
     ]
    }
   ],
   "source": [
    "money = True\n",
    "if money:\n",
    "    print(\"택시를 타고 가라\")\n",
    "else:\n",
    "    print(\"걸어가라\")"
   ]
  },
  {
   "cell_type": "markdown",
   "id": "963a53b5",
   "metadata": {},
   "source": [
    "## 비교 연산자\n",
    "|비교연산자|설명|\n",
    "|:---|:---|\n",
    "|x < y|x가 y보다 작다.|\n",
    "|x > y|x가 y보다 크다.|  \n",
    "|x == y|x와 y가 같다.| \n",
    "|x != y|x와 y가 같지 않다.|\n",
    "|x >= y|x가 y보다 크거나 같다.|\n",
    "|x <= y|x가 y보다 작거나 같다.|"
   ]
  },
  {
   "cell_type": "code",
   "execution_count": 4,
   "id": "553c9370",
   "metadata": {
    "ExecuteTime": {
     "end_time": "2023-11-30T05:00:21.563667Z",
     "start_time": "2023-11-30T05:00:21.554314Z"
    }
   },
   "outputs": [
    {
     "data": {
      "text/plain": [
       "True"
      ]
     },
     "execution_count": 4,
     "metadata": {},
     "output_type": "execute_result"
    }
   ],
   "source": [
    "x = 3\n",
    "y = 2\n",
    "x > y"
   ]
  },
  {
   "cell_type": "code",
   "execution_count": 5,
   "id": "c6b6c395",
   "metadata": {
    "ExecuteTime": {
     "end_time": "2023-11-30T05:00:28.636843Z",
     "start_time": "2023-11-30T05:00:28.624639Z"
    }
   },
   "outputs": [
    {
     "data": {
      "text/plain": [
       "False"
      ]
     },
     "execution_count": 5,
     "metadata": {},
     "output_type": "execute_result"
    }
   ],
   "source": [
    "x < y"
   ]
  },
  {
   "cell_type": "code",
   "execution_count": 8,
   "id": "c029b6f9",
   "metadata": {
    "ExecuteTime": {
     "end_time": "2023-11-30T07:07:31.461182Z",
     "start_time": "2023-11-30T07:07:31.447552Z"
    },
    "scrolled": true
   },
   "outputs": [
    {
     "data": {
      "text/plain": [
       "False"
      ]
     },
     "execution_count": 8,
     "metadata": {},
     "output_type": "execute_result"
    }
   ],
   "source": [
    "x == y"
   ]
  },
  {
   "cell_type": "code",
   "execution_count": 9,
   "id": "8472c745",
   "metadata": {
    "ExecuteTime": {
     "end_time": "2023-11-30T07:07:40.494473Z",
     "start_time": "2023-11-30T07:07:40.484784Z"
    }
   },
   "outputs": [
    {
     "data": {
      "text/plain": [
       "True"
      ]
     },
     "execution_count": 9,
     "metadata": {},
     "output_type": "execute_result"
    }
   ],
   "source": [
    "x != y"
   ]
  },
  {
   "cell_type": "code",
   "execution_count": 14,
   "id": "12e89268",
   "metadata": {
    "ExecuteTime": {
     "end_time": "2023-11-30T07:09:16.039669Z",
     "start_time": "2023-11-30T07:09:16.023556Z"
    }
   },
   "outputs": [
    {
     "name": "stdout",
     "output_type": "stream",
     "text": [
      "걸어가라\n"
     ]
    }
   ],
   "source": [
    "money = 2000\n",
    "if money >= 3000:\n",
    "    print('택시를 타라')\n",
    "else:\n",
    "    print('걸어가라')"
   ]
  },
  {
   "cell_type": "markdown",
   "id": "928f13f2",
   "metadata": {},
   "source": [
    "## and, or, not\n",
    "\n",
    "|연산자|설명|\n",
    "|:--|:--|\n",
    "|x or y|x와 y 둘 중 하나만 참이어도 참이다.|\n",
    "|x and y|x와 y 모두 참이어야 참이다.|\n",
    "|not x|x가 거짓이면 참이다.|"
   ]
  },
  {
   "cell_type": "code",
   "execution_count": 11,
   "id": "8e50da51",
   "metadata": {
    "ExecuteTime": {
     "end_time": "2023-12-01T01:52:03.324255Z",
     "start_time": "2023-12-01T01:52:03.318022Z"
    }
   },
   "outputs": [
    {
     "name": "stdout",
     "output_type": "stream",
     "text": [
      "택시를 타라\n"
     ]
    }
   ],
   "source": [
    "# 돈이 3000원 이상 있거나 카드가 있다면 택시를 타고 가고, 그렇지 않으면 걸어가라.\n",
    "\n",
    "money = 2000\n",
    "card = True\n",
    "if 'money' or 'card':\n",
    "    print('택시를 타라')\n",
    "else:\n",
    "    print('걸어가라')"
   ]
  },
  {
   "cell_type": "code",
   "execution_count": null,
   "id": "43fab555",
   "metadata": {},
   "outputs": [],
   "source": [
    "#160번\n",
    "\n",
    "리스트 = ['intra.h', 'intra.c', 'define.h', 'run.py']\n",
    "\n",
    "for 변수 in 리스트:\n",
    "    확장자 = 변수.split('.')[1]\n",
    "    if 확장자 == 'h' or 확장자 == 'c':\n",
    "        print(변수)"
   ]
  },
  {
   "cell_type": "markdown",
   "id": "92518ab2",
   "metadata": {},
   "source": [
    "## in, not in\n",
    "\n",
    "|in|not in|\n",
    "|:--|:--|\n",
    "|x in 리스트\t|x not in 리스트|\n",
    "|x in 튜플\t|x not in 튜플|\n",
    "|x in 문자열\t|x not in 문자열|"
   ]
  },
  {
   "cell_type": "code",
   "execution_count": 12,
   "id": "a9920694",
   "metadata": {
    "ExecuteTime": {
     "end_time": "2023-12-01T02:11:50.415139Z",
     "start_time": "2023-12-01T02:11:50.370787Z"
    }
   },
   "outputs": [
    {
     "data": {
      "text/plain": [
       "True"
      ]
     },
     "execution_count": 12,
     "metadata": {},
     "output_type": "execute_result"
    }
   ],
   "source": [
    "1 in [1, 2, 3]"
   ]
  },
  {
   "cell_type": "code",
   "execution_count": 13,
   "id": "85370fb5",
   "metadata": {
    "ExecuteTime": {
     "end_time": "2023-12-01T02:11:55.180654Z",
     "start_time": "2023-12-01T02:11:55.169779Z"
    }
   },
   "outputs": [
    {
     "data": {
      "text/plain": [
       "False"
      ]
     },
     "execution_count": 13,
     "metadata": {},
     "output_type": "execute_result"
    }
   ],
   "source": [
    "1 not in [1, 2, 3]"
   ]
  },
  {
   "cell_type": "code",
   "execution_count": 16,
   "id": "7e93300e",
   "metadata": {
    "ExecuteTime": {
     "end_time": "2023-12-01T02:14:08.381928Z",
     "start_time": "2023-12-01T02:14:08.374765Z"
    }
   },
   "outputs": [
    {
     "name": "stdout",
     "output_type": "stream",
     "text": [
      "택시를 타고 가라\n"
     ]
    }
   ],
   "source": [
    "# 만약 주머니에 돈이 있으면 택시를 타고 가고, 없으면 걸어가라.\n",
    "\n",
    "pocket = ['money']\n",
    "if 'money' in pocket:\n",
    "    print('택시를 타고 가라')\n",
    "else:\n",
    "    print('걸어가라')"
   ]
  },
  {
   "cell_type": "markdown",
   "id": "a2403d1f",
   "metadata": {},
   "source": [
    "## pass\n",
    "- 아무런 일도 하지 않게 설정"
   ]
  },
  {
   "cell_type": "code",
   "execution_count": 20,
   "id": "d16539b6",
   "metadata": {
    "ExecuteTime": {
     "end_time": "2023-12-01T02:21:04.044849Z",
     "start_time": "2023-12-01T02:21:04.015146Z"
    }
   },
   "outputs": [],
   "source": [
    "# 주머니에 돈이 있으면 가만히 있고, 주머니에 돈이 없으면 카드를 꺼내라.\n",
    "\n",
    "pocket = ['money', 'card']\n",
    "if 'money' in pocket:\n",
    "    pass\n",
    "else:\n",
    "    print('카드를 꺼내라')"
   ]
  },
  {
   "cell_type": "markdown",
   "id": "e1350829",
   "metadata": {},
   "source": [
    "## elif: 다양한 조건을 판단\n",
    "### 기본 구조"
   ]
  },
  {
   "cell_type": "code",
   "execution_count": null,
   "id": "a826a77e",
   "metadata": {},
   "outputs": [],
   "source": [
    "if 조건문:  \n",
    "    수행할_문장1  \n",
    "elif 조건문: # if가 거짓일 때, 개수 제한 없음 \n",
    "    수행할_문장1   \n",
    "else:  # elif가 거짓일 때\n",
    "    수행할_문장1   "
   ]
  },
  {
   "cell_type": "markdown",
   "id": "bd87b56c",
   "metadata": {},
   "source": [
    "### 문제\n",
    "주머니에 돈이 있으면 택시를 타고 가고,   \n",
    "주머니에 돈은 없지만 카드가 있으면 택시를 타고 가고,   \n",
    "돈도 없고 카드도 없으면 걸어가라.\n",
    "\n",
    "- 풀어보기"
   ]
  },
  {
   "cell_type": "code",
   "execution_count": 25,
   "id": "6cd38517",
   "metadata": {
    "ExecuteTime": {
     "end_time": "2023-12-01T02:32:33.688674Z",
     "start_time": "2023-12-01T02:32:33.678330Z"
    }
   },
   "outputs": [
    {
     "name": "stdout",
     "output_type": "stream",
     "text": [
      "택시를 타라\n"
     ]
    }
   ],
   "source": [
    "pocket = ['money', 'card']\n",
    "if 'money' in pocket:\n",
    "    print('택시를 타라')\n",
    "if 'money' not in pocket and 'card' in pocket:\n",
    "    print('택시를 타라')\n",
    "if 'money' not in pocket and 'card' not in pocket:\n",
    "    print('걸어가라')"
   ]
  },
  {
   "cell_type": "markdown",
   "id": "5d2105b9",
   "metadata": {},
   "source": [
    "- 답"
   ]
  },
  {
   "cell_type": "code",
   "execution_count": 28,
   "id": "6449ff40",
   "metadata": {
    "ExecuteTime": {
     "end_time": "2023-12-01T02:35:33.510294Z",
     "start_time": "2023-12-01T02:35:33.503920Z"
    }
   },
   "outputs": [
    {
     "name": "stdout",
     "output_type": "stream",
     "text": [
      "택시를 타고 가라\n"
     ]
    }
   ],
   "source": [
    "pocket = ['money']\n",
    "card = True\n",
    "\n",
    "if 'money' in pocket:\n",
    "    print('택시를 타고 가라')\n",
    "else:\n",
    "    if card:\n",
    "        print('택시를 타고 가라')\n",
    "    else:\n",
    "        print('걸어가라')"
   ]
  },
  {
   "cell_type": "markdown",
   "id": "cf9e8647",
   "metadata": {},
   "source": [
    "- elif 사용"
   ]
  },
  {
   "cell_type": "code",
   "execution_count": 29,
   "id": "ffe50aad",
   "metadata": {
    "ExecuteTime": {
     "end_time": "2023-12-01T02:37:49.963900Z",
     "start_time": "2023-12-01T02:37:49.956786Z"
    }
   },
   "outputs": [
    {
     "name": "stdout",
     "output_type": "stream",
     "text": [
      "택시를 타고 가라\n"
     ]
    }
   ],
   "source": [
    "pocket = ['money']\n",
    "card = True\n",
    "\n",
    "if 'money' in pocket:\n",
    "    print('택시를 타고 가라')\n",
    "elif card:\n",
    "    print('택시를 타고 가라')\n",
    "else:\n",
    "    print('걸어가라')"
   ]
  },
  {
   "cell_type": "markdown",
   "id": "703ea6e3",
   "metadata": {},
   "source": [
    "## if문 한 줄로 작성하기"
   ]
  },
  {
   "cell_type": "code",
   "execution_count": 30,
   "id": "1ce9eb5a",
   "metadata": {
    "ExecuteTime": {
     "end_time": "2023-12-01T02:45:52.043650Z",
     "start_time": "2023-12-01T02:45:52.038465Z"
    }
   },
   "outputs": [],
   "source": [
    "pocket = ['paper', 'money', 'cellphone']\n",
    "if 'money' in pocket: pass\n",
    "else: print(\"카드를 꺼내라\")"
   ]
  },
  {
   "cell_type": "markdown",
   "id": "1672302a",
   "metadata": {},
   "source": [
    "## 조건부 표현식\n",
    "**변수** = 조건문이_참인_경우의_값 **if** 조건문 **else** 조건문이_거짓인_경우의_값"
   ]
  },
  {
   "cell_type": "code",
   "execution_count": 32,
   "id": "7daac85d",
   "metadata": {
    "ExecuteTime": {
     "end_time": "2023-12-01T02:47:25.739177Z",
     "start_time": "2023-12-01T02:47:25.734779Z"
    }
   },
   "outputs": [],
   "source": [
    "if score >= 60: message = \"success\"\n",
    "else: message = 'failure'"
   ]
  },
  {
   "cell_type": "code",
   "execution_count": 33,
   "id": "87d5c288",
   "metadata": {
    "ExecuteTime": {
     "end_time": "2023-12-01T02:49:00.771796Z",
     "start_time": "2023-12-01T02:49:00.766685Z"
    }
   },
   "outputs": [],
   "source": [
    "# 조건부 표현식 사용\n",
    "\n",
    "message = 'success' if score>=60 else 'failure'"
   ]
  },
  {
   "cell_type": "markdown",
   "id": "771face9",
   "metadata": {},
   "source": [
    "# while\n",
    "- 문장을 반복해서 수행해야 할 경우\n",
    "## 기본 구조"
   ]
  },
  {
   "cell_type": "code",
   "execution_count": null,
   "id": "07708e62",
   "metadata": {},
   "outputs": [],
   "source": [
    "while 조건문:\n",
    "    수행할_문장1\n",
    "    수행할_문장2\n",
    "    수행할_문장3"
   ]
  },
  {
   "cell_type": "markdown",
   "id": "e313949f",
   "metadata": {
    "ExecuteTime": {
     "end_time": "2023-12-02T05:08:26.281752Z",
     "start_time": "2023-12-02T05:08:26.265543Z"
    }
   },
   "source": [
    "- 열 번 찍어 안 넘어가는 나무 없다"
   ]
  },
  {
   "cell_type": "code",
   "execution_count": 40,
   "id": "69483c08",
   "metadata": {
    "ExecuteTime": {
     "end_time": "2023-12-02T05:06:58.626161Z",
     "start_time": "2023-12-02T05:06:58.618869Z"
    }
   },
   "outputs": [
    {
     "name": "stdout",
     "output_type": "stream",
     "text": [
      "나무를 1 번 찍었습니다.\n",
      "나무를 2 번 찍었습니다.\n",
      "나무를 3 번 찍었습니다.\n",
      "나무를 4 번 찍었습니다.\n",
      "나무를 5 번 찍었습니다.\n",
      "나무를 6 번 찍었습니다.\n",
      "나무를 7 번 찍었습니다.\n",
      "나무를 8 번 찍었습니다.\n",
      "나무를 9 번 찍었습니다.\n",
      "나무를 10 번 찍었습니다.\n",
      "나무가 넘어갑니다.\n"
     ]
    }
   ],
   "source": [
    "treehit = 0\n",
    "while treehit <10:\n",
    "    treehit += 1\n",
    "    print('나무를 %d 번 찍었습니다.' % treehit)\n",
    "    if treehit == 10:\n",
    "        print('나무가 넘어갑니다.')"
   ]
  },
  {
   "cell_type": "markdown",
   "id": "f0db4c12",
   "metadata": {},
   "source": [
    "## while 문 만들기\n",
    "-  여러 가지 선택지 중 하나를 선택해서 입력받는 예제"
   ]
  },
  {
   "cell_type": "code",
   "execution_count": 44,
   "id": "35a9c85b",
   "metadata": {
    "ExecuteTime": {
     "end_time": "2023-12-02T05:24:32.236153Z",
     "start_time": "2023-12-02T05:24:32.219415Z"
    }
   },
   "outputs": [],
   "source": [
    "prompt = '''\n",
    "1. Add\n",
    "2. Del\n",
    "3. List\n",
    "4. Quit\n",
    "\n",
    "Enter number:'''"
   ]
  },
  {
   "cell_type": "code",
   "execution_count": 45,
   "id": "da1098f2",
   "metadata": {
    "ExecuteTime": {
     "end_time": "2023-12-02T05:24:48.841585Z",
     "start_time": "2023-12-02T05:24:48.833386Z"
    }
   },
   "outputs": [
    {
     "name": "stdout",
     "output_type": "stream",
     "text": [
      "\n",
      "1. Add\n",
      "2. Del\n",
      "3. List\n",
      "4. Quit\n",
      "\n",
      "Enter number:\n"
     ]
    }
   ],
   "source": [
    "print(prompt)"
   ]
  },
  {
   "cell_type": "code",
   "execution_count": 46,
   "id": "82f78b8c",
   "metadata": {
    "ExecuteTime": {
     "end_time": "2023-12-02T05:25:23.146341Z",
     "start_time": "2023-12-02T05:25:13.284741Z"
    }
   },
   "outputs": [
    {
     "name": "stdout",
     "output_type": "stream",
     "text": [
      "\n",
      "1. Add\n",
      "2. Del\n",
      "3. List\n",
      "4. Quit\n",
      "\n",
      "Enter number:\n",
      "1\n",
      "\n",
      "1. Add\n",
      "2. Del\n",
      "3. List\n",
      "4. Quit\n",
      "\n",
      "Enter number:\n",
      "2\n",
      "\n",
      "1. Add\n",
      "2. Del\n",
      "3. List\n",
      "4. Quit\n",
      "\n",
      "Enter number:\n",
      "3\n",
      "\n",
      "1. Add\n",
      "2. Del\n",
      "3. List\n",
      "4. Quit\n",
      "\n",
      "Enter number:\n",
      "4\n"
     ]
    }
   ],
   "source": [
    "number = 0 # 초기 변수 설정 필수\n",
    "while number != 4: # 같지 않다\n",
    "    print(prompt)\n",
    "    number = int(input()) # 숫자 입력창"
   ]
  },
  {
   "cell_type": "markdown",
   "id": "2be8fcbf",
   "metadata": {},
   "source": [
    "## while 문 강제로 빠져나가기: break\n",
    "- 판매를 중지하고 싶을 때\n",
    "- 커피 자판기"
   ]
  },
  {
   "cell_type": "code",
   "execution_count": 51,
   "id": "f2d4c8f3",
   "metadata": {
    "ExecuteTime": {
     "end_time": "2023-12-02T05:31:58.655024Z",
     "start_time": "2023-12-02T05:31:58.648222Z"
    }
   },
   "outputs": [
    {
     "name": "stdout",
     "output_type": "stream",
     "text": [
      "커피를 추출합니다.\n",
      "커피를 추출합니다.\n",
      "커피를 추출합니다.\n",
      "커피를 추출합니다.\n",
      "커피를 추출합니다.\n",
      "커피를 추출합니다.\n",
      "커피를 추출합니다.\n",
      "커피를 추출합니다.\n",
      "커피를 추출합니다.\n",
      "커피를 추출합니다.\n",
      "동전을 반환합니다.\n"
     ]
    }
   ],
   "source": [
    "coffee = 10\n",
    "while 0 < coffee <= 10:\n",
    "    coffee = coffee -1\n",
    "    print('커피를 추출합니다.')\n",
    "    if coffee == 0:\n",
    "        print('동전을 반환합니다.')"
   ]
  },
  {
   "cell_type": "code",
   "execution_count": 52,
   "id": "4e45fb1d",
   "metadata": {
    "ExecuteTime": {
     "end_time": "2023-12-02T05:33:32.218879Z",
     "start_time": "2023-12-02T05:33:32.210357Z"
    }
   },
   "outputs": [
    {
     "name": "stdout",
     "output_type": "stream",
     "text": [
      "돈을 받았으니 커피를 줍니다.\n",
      "남은 커피의 양은 9개입니다.\n",
      "돈을 받았으니 커피를 줍니다.\n",
      "남은 커피의 양은 8개입니다.\n",
      "돈을 받았으니 커피를 줍니다.\n",
      "남은 커피의 양은 7개입니다.\n",
      "돈을 받았으니 커피를 줍니다.\n",
      "남은 커피의 양은 6개입니다.\n",
      "돈을 받았으니 커피를 줍니다.\n",
      "남은 커피의 양은 5개입니다.\n",
      "돈을 받았으니 커피를 줍니다.\n",
      "남은 커피의 양은 4개입니다.\n",
      "돈을 받았으니 커피를 줍니다.\n",
      "남은 커피의 양은 3개입니다.\n",
      "돈을 받았으니 커피를 줍니다.\n",
      "남은 커피의 양은 2개입니다.\n",
      "돈을 받았으니 커피를 줍니다.\n",
      "남은 커피의 양은 1개입니다.\n",
      "돈을 받았으니 커피를 줍니다.\n",
      "남은 커피의 양은 0개입니다.\n",
      "커피가 다 떨어졌습니다. 판매를 중지합니다.\n"
     ]
    }
   ],
   "source": [
    "coffee = 10\n",
    "money = 300\n",
    "while money:\n",
    "    print('돈을 받았으니 커피를 줍니다.')\n",
    "    coffee -= 1\n",
    "    print('남은 커피의 양은 %d개입니다.' %coffee)\n",
    "    if coffee ==0:\n",
    "        print('커피가 다 떨어졌습니다. 판매를 중지합니다.')\n",
    "        break"
   ]
  },
  {
   "cell_type": "code",
   "execution_count": null,
   "id": "42d2ac1a",
   "metadata": {
    "ExecuteTime": {
     "end_time": "2023-12-02T06:02:11.355476Z",
     "start_time": "2023-12-02T06:02:11.355476Z"
    }
   },
   "outputs": [],
   "source": [
    "# coffee.py\n",
    "\n",
    "coffee = 10\n",
    "while True:\n",
    "    money = int(input('돈을 넣어 주세요: '))\n",
    "    if money == 300:\n",
    "        print('커피를 줍니다.')\n",
    "        coffee -= 1\n",
    "    elif money > 300:\n",
    "        print('거스름돈을 %d원 줍니다.' %(money - 300))\n",
    "        coffee -= 1\n",
    "    else:\n",
    "        print('돈을 다시 돌려주고 커피를 주지 않습니다.')\n",
    "        print('남은 커피의 양은 %d 개 입니다.' %coffee)\n",
    "    if coffee == 0:\n",
    "        print('커피가 다 떨어졌습니다. 판매를 중지합니다.')\n",
    "        break # 판매 중지"
   ]
  },
  {
   "cell_type": "markdown",
   "id": "db82e3a7",
   "metadata": {},
   "source": [
    "## while 처음으로 돌아가기: continue\n",
    "- 1부터 10까지의 숫자 중에서 홀수만 출력"
   ]
  },
  {
   "cell_type": "code",
   "execution_count": 18,
   "id": "42fc6c72",
   "metadata": {
    "ExecuteTime": {
     "end_time": "2023-12-02T06:11:04.661086Z",
     "start_time": "2023-12-02T06:11:04.654887Z"
    },
    "scrolled": true
   },
   "outputs": [
    {
     "name": "stdout",
     "output_type": "stream",
     "text": [
      "1\n",
      "3\n",
      "5\n",
      "7\n",
      "9\n"
     ]
    }
   ],
   "source": [
    "num = 0\n",
    "while num <10:\n",
    "    num += 1\n",
    "    if num%2 == 0: continue #참(짝수)이면 continue 실행 -> 처음으로 돌아감\n",
    "    print(num)"
   ]
  },
  {
   "cell_type": "markdown",
   "id": "bc19caf3",
   "metadata": {},
   "source": [
    "## 무한 루프\n",
    "- 자주 사용됨\n",
    "### 기본 형태"
   ]
  },
  {
   "cell_type": "code",
   "execution_count": null,
   "id": "b9140f93",
   "metadata": {},
   "outputs": [],
   "source": [
    "while True: \n",
    "    수행할_문장1 \n",
    "    수행할_문장2 "
   ]
  },
  {
   "cell_type": "markdown",
   "id": "ead5d608",
   "metadata": {},
   "source": [
    "### 예시"
   ]
  },
  {
   "cell_type": "code",
   "execution_count": null,
   "id": "e47832cf",
   "metadata": {},
   "outputs": [],
   "source": [
    ">>> while True:\n",
    "...     print(\"Ctrl+C를 눌러야 while문을 빠져나갈 수 있습니다.\")\n",
    "...\n",
    "Ctrl+C를 눌러야 while문을 빠져나갈 수 있습니다.\n",
    "Ctrl+C를 눌러야 while문을 빠져나갈 수 있습니다.\n",
    "Ctrl+C를 눌러야 while문을 빠져나갈 수 있습니다."
   ]
  },
  {
   "cell_type": "markdown",
   "id": "d301f4d2",
   "metadata": {},
   "source": [
    "# for\n",
    "## 기본 구조"
   ]
  },
  {
   "cell_type": "code",
   "execution_count": null,
   "id": "4d04ebcf",
   "metadata": {},
   "outputs": [],
   "source": [
    "for 변수 in 리스트(또는 튜플, 문자열):\n",
    "    수행할_문장1\n",
    "    수행할_문장2\n",
    "    ..."
   ]
  },
  {
   "cell_type": "markdown",
   "id": "08202c46",
   "metadata": {},
   "source": [
    "## 예제\n",
    "### 전형적인 for 문"
   ]
  },
  {
   "cell_type": "code",
   "execution_count": 19,
   "id": "69e08cb6",
   "metadata": {
    "ExecuteTime": {
     "end_time": "2023-12-02T06:16:13.872054Z",
     "start_time": "2023-12-02T06:16:13.865760Z"
    },
    "scrolled": false
   },
   "outputs": [
    {
     "name": "stdout",
     "output_type": "stream",
     "text": [
      "one\n",
      "two\n",
      "three\n"
     ]
    }
   ],
   "source": [
    "test_list = ['one', 'two', 'three']\n",
    "for i in test_list: # i에 one이 대입\n",
    "    print(i)"
   ]
  },
  {
   "cell_type": "markdown",
   "id": "e9c6a516",
   "metadata": {},
   "source": [
    "### 문자열을 분리해서 호출함"
   ]
  },
  {
   "cell_type": "code",
   "execution_count": 1,
   "id": "97083c70",
   "metadata": {
    "ExecuteTime": {
     "end_time": "2023-12-07T02:01:13.084951Z",
     "start_time": "2023-12-07T02:01:12.954179Z"
    }
   },
   "outputs": [
    {
     "name": "stdout",
     "output_type": "stream",
     "text": [
      "l\n",
      "o\n",
      "v\n",
      "e\n"
     ]
    }
   ],
   "source": [
    "a = 'love'\n",
    "for i in a:\n",
    "    print(i)"
   ]
  },
  {
   "cell_type": "markdown",
   "id": "244947d1",
   "metadata": {},
   "source": [
    "### 다양한 for 문의 사용"
   ]
  },
  {
   "cell_type": "code",
   "execution_count": 20,
   "id": "7957556d",
   "metadata": {
    "ExecuteTime": {
     "end_time": "2023-12-02T06:27:39.471478Z",
     "start_time": "2023-12-02T06:27:39.464492Z"
    },
    "scrolled": true
   },
   "outputs": [
    {
     "name": "stdout",
     "output_type": "stream",
     "text": [
      "3\n",
      "7\n",
      "11\n"
     ]
    }
   ],
   "source": [
    "a = [(1, 2), (3, 4), (5, 6)]\n",
    "for (first, last) in a:\n",
    "    print(first + last)"
   ]
  },
  {
   "cell_type": "markdown",
   "id": "6732c9df",
   "metadata": {},
   "source": [
    "### for 문의 응용\n",
    "- 총 5명의 학생이 시험을 보았는데 시험 점수가 60점 이상이면 합격이고 그렇지 않으면 불합격이다. 합격인지, 불합격인지 결과를 보여 주시오."
   ]
  },
  {
   "cell_type": "code",
   "execution_count": 25,
   "id": "ca7e387b",
   "metadata": {
    "ExecuteTime": {
     "end_time": "2023-12-02T06:32:26.439374Z",
     "start_time": "2023-12-02T06:32:26.429898Z"
    }
   },
   "outputs": [
    {
     "name": "stdout",
     "output_type": "stream",
     "text": [
      "1번 학생은 합격입니다.\n",
      "2번 불학생은 합격입니다.\n",
      "3번 학생은 합격입니다.\n",
      "4번 불학생은 합격입니다.\n",
      "5번 학생은 합격입니다.\n"
     ]
    }
   ],
   "source": [
    "# marks1.py\n",
    "\n",
    "marks = [90, 25, 67, 45, 80]  # 학생들의 시험 점수 리스트\n",
    "\n",
    "number = 0 # 학생에게 붙여 줄 번호\n",
    "for mark in marks: # 90, 25, 67, 45, 80을 순서대로 mark에 대입\n",
    "    number += 1\n",
    "    if mark >= 60:\n",
    "        print('%d번 학생은 합격입니다.' %number)\n",
    "    else:\n",
    "        print('%d번 불학생은 합격입니다.' %number)"
   ]
  },
  {
   "cell_type": "markdown",
   "id": "d4254a10",
   "metadata": {},
   "source": [
    "## for 문과 continue 문\n",
    "- 앞에서 for 문 응용 예제를 그대로 사용해서 60점 이상인 사람에게는 축하 메시지를 보내고 나머지 사람에게는 아무런 메시지도 전하지 않는 프로그램"
   ]
  },
  {
   "cell_type": "code",
   "execution_count": 27,
   "id": "9c51a071",
   "metadata": {
    "ExecuteTime": {
     "end_time": "2023-12-02T06:39:52.656251Z",
     "start_time": "2023-12-02T06:39:52.648528Z"
    }
   },
   "outputs": [
    {
     "name": "stdout",
     "output_type": "stream",
     "text": [
      "1번 학생 합격입니다. 축하합니다.\n",
      "3번 학생 합격입니다. 축하합니다.\n",
      "5번 학생 합격입니다. 축하합니다.\n"
     ]
    }
   ],
   "source": [
    "marks = [90, 25, 67, 45, 80]  # 학생들의 시험 점수 리스트\n",
    "\n",
    "number = 0 # 학생에게 붙여 줄 번호\n",
    "for mark in marks: # 90, 25, 67, 45, 80을 순서대로 mark에 대입\n",
    "    number += 1\n",
    "    if mark < 60: continue\n",
    "    print('%d번 학생 합격입니다. 축하합니다.' %number) "
   ]
  },
  {
   "cell_type": "markdown",
   "id": "db1b66e8",
   "metadata": {},
   "source": [
    "## for 문과 함께 자주 사용하는 range 함수\n",
    "- range: 숫자 리스트를 자동으로 만들어줌\n",
    "### 기본 형태\n",
    "- range(10): 0~10 미만\n",
    "- range(1, 11): 1~11 미만  \n",
    "- range(1, 10, 2): 1부터 2개씩 띄어서 9까지\n",
    "- range(99, -1, -1): 0부터 99까지 역순\n",
    "#### 예시\n",
    "- 1부터 10까지 더하기"
   ]
  },
  {
   "cell_type": "code",
   "execution_count": 30,
   "id": "7bab39fd",
   "metadata": {
    "ExecuteTime": {
     "end_time": "2023-12-02T06:45:37.636186Z",
     "start_time": "2023-12-02T06:45:37.627554Z"
    }
   },
   "outputs": [
    {
     "name": "stdout",
     "output_type": "stream",
     "text": [
      "55\n"
     ]
    }
   ],
   "source": [
    "add = 0\n",
    "for i in range(1, 11): # 1 이상 11 미만\n",
    "    add = add + i # 문장을 반복 수행\n",
    "print(add)"
   ]
  },
  {
   "cell_type": "markdown",
   "id": "4267a870",
   "metadata": {},
   "source": [
    "- range로 바꿔보기"
   ]
  },
  {
   "cell_type": "code",
   "execution_count": 36,
   "id": "b5c1d575",
   "metadata": {
    "ExecuteTime": {
     "end_time": "2023-12-02T07:03:49.540532Z",
     "start_time": "2023-12-02T07:03:49.533928Z"
    }
   },
   "outputs": [
    {
     "name": "stdout",
     "output_type": "stream",
     "text": [
      "1번 학생 축하합니다. 합격입니다.\n",
      "3번 학생 축하합니다. 합격입니다.\n",
      "5번 학생 축하합니다. 합격입니다.\n"
     ]
    }
   ],
   "source": [
    "# marks3.py\n",
    "\n",
    "marks = [90, 25, 67, 45, 80]\n",
    "\n",
    "for number in range(len(marks)):\n",
    "    if marks[number] < 60:\n",
    "        continue\n",
    "    print('%d번 학생 축하합니다. 합격입니다.' %(number+1))"
   ]
  },
  {
   "cell_type": "markdown",
   "id": "65ca34b3",
   "metadata": {},
   "source": [
    "#### for와 range를 이용한 구구단"
   ]
  },
  {
   "cell_type": "code",
   "execution_count": 59,
   "id": "6667e892",
   "metadata": {
    "ExecuteTime": {
     "end_time": "2023-12-02T07:22:56.734221Z",
     "start_time": "2023-12-02T07:22:56.726937Z"
    }
   },
   "outputs": [
    {
     "name": "stdout",
     "output_type": "stream",
     "text": [
      "1 2 3 4 5 6 7 8 9 \n",
      "2 4 6 8 10 12 14 16 18 \n",
      "3 6 9 12 15 18 21 24 27 \n",
      "4 8 12 16 20 24 28 32 36 \n",
      "5 10 15 20 25 30 35 40 45 \n",
      "6 12 18 24 30 36 42 48 54 \n",
      "7 14 21 28 35 42 49 56 63 \n",
      "8 16 24 32 40 48 56 64 72 \n",
      "9 18 27 36 45 54 63 72 81 \n"
     ]
    }
   ],
   "source": [
    "for i in range(1, 10):\n",
    "    for j in range(1, 10):\n",
    "        print(i*j, end=' ') # end: 한 줄에 출력\n",
    "    print('') # 첫번째 for에 포함. 다음 줄에 출력"
   ]
  },
  {
   "cell_type": "markdown",
   "id": "1d809d62",
   "metadata": {},
   "source": [
    "- end: print 출력 후 내용"
   ]
  },
  {
   "cell_type": "code",
   "execution_count": 49,
   "id": "da233065",
   "metadata": {
    "ExecuteTime": {
     "end_time": "2023-12-02T07:14:20.985066Z",
     "start_time": "2023-12-02T07:14:20.978625Z"
    }
   },
   "outputs": [
    {
     "name": "stdout",
     "output_type": "stream",
     "text": [
      "1-1칸 1-2칸 1-3칸 끝"
     ]
    }
   ],
   "source": [
    "print(\"1-1칸\",\"1-2칸\",\"1-3칸\",end = \" 끝\")"
   ]
  },
  {
   "cell_type": "markdown",
   "id": "1dde3be1",
   "metadata": {},
   "source": [
    "## 리스트 컴프리헨션 사용하기\n",
    "### 기본 형태"
   ]
  },
  {
   "cell_type": "code",
   "execution_count": null,
   "id": "99e52fb5",
   "metadata": {},
   "outputs": [],
   "source": [
    "[표현식 for 항목 in 반복_가능_객체 if 조건문]\n",
    "\n",
    "[표현식 for 항목1 in 반복_가능_객체1 if 조건문1\n",
    "      for 항목2 in 반복_가능_객체2 if 조건문2\n",
    "      ...\n",
    "      for 항목n in 반복_가능_객체n if 조건문n]"
   ]
  },
  {
   "cell_type": "markdown",
   "id": "35bf5d5a",
   "metadata": {},
   "source": [
    "### 예제\n",
    "- 리스트에 3 곱하기"
   ]
  },
  {
   "cell_type": "code",
   "execution_count": 63,
   "id": "7c50eb62",
   "metadata": {
    "ExecuteTime": {
     "end_time": "2023-12-02T07:27:41.148828Z",
     "start_time": "2023-12-02T07:27:41.143137Z"
    }
   },
   "outputs": [
    {
     "name": "stdout",
     "output_type": "stream",
     "text": [
      "[3, 6, 9, 12]\n"
     ]
    }
   ],
   "source": [
    "a = [1,2,3,4]\n",
    "\n",
    "result = []\n",
    "for num in a:\n",
    "    result.append(num*3)\n",
    "print(result)"
   ]
  },
  {
   "cell_type": "code",
   "execution_count": 64,
   "id": "cc24ee3e",
   "metadata": {
    "ExecuteTime": {
     "end_time": "2023-12-02T07:28:22.624284Z",
     "start_time": "2023-12-02T07:28:22.617592Z"
    }
   },
   "outputs": [
    {
     "name": "stdout",
     "output_type": "stream",
     "text": [
      "[3, 6, 9, 12]\n"
     ]
    }
   ],
   "source": [
    "a = [1,2,3,4]\n",
    "result = [num * 3 for num in a]\n",
    "print(result)"
   ]
  },
  {
   "cell_type": "markdown",
   "id": "cabff5b1",
   "metadata": {},
   "source": [
    "- 짝수에만 3 곱하기"
   ]
  },
  {
   "cell_type": "code",
   "execution_count": 70,
   "id": "26d09951",
   "metadata": {
    "ExecuteTime": {
     "end_time": "2023-12-02T07:30:26.338082Z",
     "start_time": "2023-12-02T07:30:26.330955Z"
    }
   },
   "outputs": [
    {
     "name": "stdout",
     "output_type": "stream",
     "text": [
      "[6, 12]\n"
     ]
    }
   ],
   "source": [
    "a = [1,2,3,4]\n",
    "result = [num*3 for num in a if num%2 == 0]\n",
    "print(result)"
   ]
  },
  {
   "cell_type": "markdown",
   "id": "661da3ee",
   "metadata": {},
   "source": [
    "- 구구단"
   ]
  },
  {
   "cell_type": "code",
   "execution_count": 73,
   "id": "00569d23",
   "metadata": {
    "ExecuteTime": {
     "end_time": "2023-12-02T07:33:15.396826Z",
     "start_time": "2023-12-02T07:33:15.388711Z"
    }
   },
   "outputs": [
    {
     "name": "stdout",
     "output_type": "stream",
     "text": [
      "[1, 2, 3, 4, 5, 6, 7, 8, 9, 2, 4, 6, 8, 10, 12, 14, 16, 18, 3, 6, 9, 12, 15, 18, 21, 24, 27, 4, 8, 12, 16, 20, 24, 28, 32, 36, 5, 10, 15, 20, 25, 30, 35, 40, 45, 6, 12, 18, 24, 30, 36, 42, 48, 54, 7, 14, 21, 28, 35, 42, 49, 56, 63, 8, 16, 24, 32, 40, 48, 56, 64, 72, 9, 18, 27, 36, 45, 54, 63, 72, 81]\n"
     ]
    }
   ],
   "source": [
    "result = [i*j for i in range(1,10)\n",
    "              for j in range(1,10)]\n",
    "print(result)"
   ]
  },
  {
   "cell_type": "markdown",
   "id": "ee4f180a",
   "metadata": {},
   "source": [
    "- == 비교 / = 대입"
   ]
  },
  {
   "cell_type": "code",
   "execution_count": null,
   "id": "135da248",
   "metadata": {},
   "outputs": [],
   "source": []
  }
 ],
 "metadata": {
  "kernelspec": {
   "display_name": "Python 3 (ipykernel)",
   "language": "python",
   "name": "python3"
  },
  "language_info": {
   "codemirror_mode": {
    "name": "ipython",
    "version": 3
   },
   "file_extension": ".py",
   "mimetype": "text/x-python",
   "name": "python",
   "nbconvert_exporter": "python",
   "pygments_lexer": "ipython3",
   "version": "3.11.5"
  },
  "toc": {
   "base_numbering": 1,
   "nav_menu": {},
   "number_sections": true,
   "sideBar": true,
   "skip_h1_title": false,
   "title_cell": "Table of Contents",
   "title_sidebar": "Contents",
   "toc_cell": false,
   "toc_position": {},
   "toc_section_display": true,
   "toc_window_display": false
  }
 },
 "nbformat": 4,
 "nbformat_minor": 5
}
