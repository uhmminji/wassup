{
 "cells": [
  {
   "cell_type": "markdown",
   "id": "c6fbd628",
   "metadata": {},
   "source": [
    "# 숫자형\n",
    "## 정수형"
   ]
  },
  {
   "cell_type": "code",
   "execution_count": 3,
   "id": "55bc6467",
   "metadata": {
    "ExecuteTime": {
     "end_time": "2023-11-23T07:49:44.444026Z",
     "start_time": "2023-11-23T07:49:44.435886Z"
    }
   },
   "outputs": [
    {
     "data": {
      "text/plain": [
       "123"
      ]
     },
     "execution_count": 3,
     "metadata": {},
     "output_type": "execute_result"
    }
   ],
   "source": [
    "a=123\n",
    "a"
   ]
  },
  {
   "cell_type": "code",
   "execution_count": 4,
   "id": "1275d21c",
   "metadata": {
    "ExecuteTime": {
     "end_time": "2023-11-23T07:49:52.569732Z",
     "start_time": "2023-11-23T07:49:52.561209Z"
    }
   },
   "outputs": [
    {
     "data": {
      "text/plain": [
       "-178"
      ]
     },
     "execution_count": 4,
     "metadata": {},
     "output_type": "execute_result"
    }
   ],
   "source": [
    "a=-178\n",
    "a"
   ]
  },
  {
   "cell_type": "code",
   "execution_count": 6,
   "id": "814118b2",
   "metadata": {
    "ExecuteTime": {
     "end_time": "2023-11-23T07:50:03.089476Z",
     "start_time": "2023-11-23T07:50:03.080867Z"
    }
   },
   "outputs": [
    {
     "data": {
      "text/plain": [
       "0"
      ]
     },
     "execution_count": 6,
     "metadata": {},
     "output_type": "execute_result"
    }
   ],
   "source": [
    "a=0\n",
    "a"
   ]
  },
  {
   "cell_type": "markdown",
   "id": "ec4cbe6e",
   "metadata": {},
   "source": [
    "## 실수형: float"
   ]
  },
  {
   "cell_type": "code",
   "execution_count": 7,
   "id": "91e1388c",
   "metadata": {
    "ExecuteTime": {
     "end_time": "2023-11-23T07:52:57.221560Z",
     "start_time": "2023-11-23T07:52:57.210401Z"
    }
   },
   "outputs": [
    {
     "data": {
      "text/plain": [
       "1.2"
      ]
     },
     "execution_count": 7,
     "metadata": {},
     "output_type": "execute_result"
    }
   ],
   "source": [
    "a=1.2\n",
    "a"
   ]
  },
  {
   "cell_type": "code",
   "execution_count": 9,
   "id": "57153b86",
   "metadata": {
    "ExecuteTime": {
     "end_time": "2023-11-23T07:53:06.897324Z",
     "start_time": "2023-11-23T07:53:06.888992Z"
    }
   },
   "outputs": [
    {
     "data": {
      "text/plain": [
       "-3.45"
      ]
     },
     "execution_count": 9,
     "metadata": {},
     "output_type": "execute_result"
    }
   ],
   "source": [
    "a=-3.45\n",
    "a"
   ]
  },
  {
   "cell_type": "code",
   "execution_count": 10,
   "id": "6e695846",
   "metadata": {
    "ExecuteTime": {
     "end_time": "2023-11-23T07:53:18.135485Z",
     "start_time": "2023-11-23T07:53:18.126798Z"
    }
   },
   "outputs": [
    {
     "data": {
      "text/plain": [
       "42400000000.0"
      ]
     },
     "execution_count": 10,
     "metadata": {},
     "output_type": "execute_result"
    }
   ],
   "source": [
    "a=4.24E10\n",
    "a"
   ]
  },
  {
   "cell_type": "code",
   "execution_count": 12,
   "id": "af89a6e3",
   "metadata": {
    "ExecuteTime": {
     "end_time": "2023-11-23T08:04:22.684973Z",
     "start_time": "2023-11-23T08:04:22.675173Z"
    }
   },
   "outputs": [
    {
     "data": {
      "text/plain": [
       "4.24e-10"
      ]
     },
     "execution_count": 12,
     "metadata": {},
     "output_type": "execute_result"
    }
   ],
   "source": [
    "a=4.24E-10\n",
    "a"
   ]
  },
  {
   "cell_type": "markdown",
   "id": "a35812c1",
   "metadata": {},
   "source": [
    "## 8진수와 16진수\n",
    "### 8진수"
   ]
  },
  {
   "cell_type": "code",
   "execution_count": 16,
   "id": "6d40b9d7",
   "metadata": {
    "ExecuteTime": {
     "end_time": "2023-11-23T08:06:50.989310Z",
     "start_time": "2023-11-23T08:06:50.982454Z"
    }
   },
   "outputs": [
    {
     "name": "stdout",
     "output_type": "stream",
     "text": [
      "127\n"
     ]
    }
   ],
   "source": [
    "a=0o177\n",
    "print(a)"
   ]
  },
  {
   "cell_type": "markdown",
   "id": "7d2e4fd3",
   "metadata": {},
   "source": [
    "### 16진수"
   ]
  },
  {
   "cell_type": "code",
   "execution_count": 17,
   "id": "2b20576a",
   "metadata": {
    "ExecuteTime": {
     "end_time": "2023-11-23T08:08:27.271925Z",
     "start_time": "2023-11-23T08:08:27.266155Z"
    }
   },
   "outputs": [
    {
     "name": "stdout",
     "output_type": "stream",
     "text": [
      "2748\n"
     ]
    }
   ],
   "source": [
    "a=0x8ff\n",
    "b=0xABC\n",
    "print(b)"
   ]
  },
  {
   "cell_type": "markdown",
   "id": "3c2e018d",
   "metadata": {},
   "source": [
    "## 사칙 연산"
   ]
  },
  {
   "cell_type": "code",
   "execution_count": 18,
   "id": "e7f0f68c",
   "metadata": {
    "ExecuteTime": {
     "end_time": "2023-11-23T08:09:08.963153Z",
     "start_time": "2023-11-23T08:09:08.953328Z"
    }
   },
   "outputs": [
    {
     "data": {
      "text/plain": [
       "7"
      ]
     },
     "execution_count": 18,
     "metadata": {},
     "output_type": "execute_result"
    }
   ],
   "source": [
    "a=3\n",
    "b=4\n",
    "a+b"
   ]
  },
  {
   "cell_type": "code",
   "execution_count": 19,
   "id": "14eba028",
   "metadata": {
    "ExecuteTime": {
     "end_time": "2023-11-23T08:09:14.927368Z",
     "start_time": "2023-11-23T08:09:14.919360Z"
    }
   },
   "outputs": [
    {
     "data": {
      "text/plain": [
       "-1"
      ]
     },
     "execution_count": 19,
     "metadata": {},
     "output_type": "execute_result"
    }
   ],
   "source": [
    "a-b"
   ]
  },
  {
   "cell_type": "code",
   "execution_count": 20,
   "id": "d32cb6c9",
   "metadata": {
    "ExecuteTime": {
     "end_time": "2023-11-23T08:09:20.620382Z",
     "start_time": "2023-11-23T08:09:20.611792Z"
    }
   },
   "outputs": [
    {
     "data": {
      "text/plain": [
       "12"
      ]
     },
     "execution_count": 20,
     "metadata": {},
     "output_type": "execute_result"
    }
   ],
   "source": [
    "a*b"
   ]
  },
  {
   "cell_type": "code",
   "execution_count": 21,
   "id": "d70bceef",
   "metadata": {
    "ExecuteTime": {
     "end_time": "2023-11-23T08:09:23.850718Z",
     "start_time": "2023-11-23T08:09:23.842606Z"
    },
    "scrolled": true
   },
   "outputs": [
    {
     "data": {
      "text/plain": [
       "0.75"
      ]
     },
     "execution_count": 21,
     "metadata": {},
     "output_type": "execute_result"
    }
   ],
   "source": [
    "a/b"
   ]
  },
  {
   "cell_type": "markdown",
   "id": "61c19568",
   "metadata": {},
   "source": [
    "## 절대값: abs()"
   ]
  },
  {
   "cell_type": "code",
   "execution_count": null,
   "id": "4bac7737",
   "metadata": {},
   "outputs": [],
   "source": [
    "my_list = [100, 200, 400, 800]\n",
    "for i in range(len(my_list) - 1):\n",
    "    print(abs(my_list[i+1] - my_list[i]))"
   ]
  },
  {
   "cell_type": "markdown",
   "id": "a1ac3749",
   "metadata": {},
   "source": [
    "## 내림: int()"
   ]
  },
  {
   "cell_type": "code",
   "execution_count": null,
   "id": "5f97a024",
   "metadata": {},
   "outputs": [],
   "source": [
    "#228번\n",
    "def calc_monthly_salary(연봉):\n",
    "    print(int(round(연봉/12)))\n",
    "\n",
    "calc_monthly_salary(12000000)"
   ]
  },
  {
   "cell_type": "markdown",
   "id": "2b7672c5",
   "metadata": {},
   "source": [
    "## x의 y제곱을 나타냄: **"
   ]
  },
  {
   "cell_type": "code",
   "execution_count": 22,
   "id": "e23cae6c",
   "metadata": {
    "ExecuteTime": {
     "end_time": "2023-11-23T08:09:48.543584Z",
     "start_time": "2023-11-23T08:09:48.535382Z"
    }
   },
   "outputs": [
    {
     "data": {
      "text/plain": [
       "81"
      ]
     },
     "execution_count": 22,
     "metadata": {},
     "output_type": "execute_result"
    }
   ],
   "source": [
    "a**b"
   ]
  },
  {
   "cell_type": "markdown",
   "id": "18e828ce",
   "metadata": {},
   "source": [
    "## 나눗셈 후 나머지를 리턴: %"
   ]
  },
  {
   "cell_type": "code",
   "execution_count": 23,
   "id": "7a38fe67",
   "metadata": {
    "ExecuteTime": {
     "end_time": "2023-11-23T08:11:17.652758Z",
     "start_time": "2023-11-23T08:11:17.644825Z"
    }
   },
   "outputs": [
    {
     "data": {
      "text/plain": [
       "1"
      ]
     },
     "execution_count": 23,
     "metadata": {},
     "output_type": "execute_result"
    }
   ],
   "source": [
    "7%3"
   ]
  },
  {
   "cell_type": "code",
   "execution_count": 24,
   "id": "6425aa56",
   "metadata": {
    "ExecuteTime": {
     "end_time": "2023-11-23T08:11:25.206222Z",
     "start_time": "2023-11-23T08:11:25.198817Z"
    }
   },
   "outputs": [
    {
     "data": {
      "text/plain": [
       "3"
      ]
     },
     "execution_count": 24,
     "metadata": {},
     "output_type": "execute_result"
    }
   ],
   "source": [
    "3%7"
   ]
  },
  {
   "cell_type": "markdown",
   "id": "795aa339",
   "metadata": {},
   "source": [
    "# 문자열\n",
    "## 문자열 만들기"
   ]
  },
  {
   "cell_type": "code",
   "execution_count": 26,
   "id": "d7e79f09",
   "metadata": {
    "ExecuteTime": {
     "end_time": "2023-11-23T08:15:01.807392Z",
     "start_time": "2023-11-23T08:15:01.797189Z"
    }
   },
   "outputs": [
    {
     "data": {
      "text/plain": [
       "'Hello World'"
      ]
     },
     "execution_count": 26,
     "metadata": {},
     "output_type": "execute_result"
    }
   ],
   "source": [
    "\"Hello World\""
   ]
  },
  {
   "cell_type": "code",
   "execution_count": 27,
   "id": "db26e52e",
   "metadata": {
    "ExecuteTime": {
     "end_time": "2023-11-23T08:15:06.450523Z",
     "start_time": "2023-11-23T08:15:06.443790Z"
    }
   },
   "outputs": [
    {
     "data": {
      "text/plain": [
       "'python is fun'"
      ]
     },
     "execution_count": 27,
     "metadata": {},
     "output_type": "execute_result"
    }
   ],
   "source": [
    "'python is fun'"
   ]
  },
  {
   "cell_type": "code",
   "execution_count": 28,
   "id": "f07e4b2c",
   "metadata": {
    "ExecuteTime": {
     "end_time": "2023-11-23T08:15:10.191681Z",
     "start_time": "2023-11-23T08:15:10.184728Z"
    }
   },
   "outputs": [
    {
     "data": {
      "text/plain": [
       "'Life is too short, You need python'"
      ]
     },
     "execution_count": 28,
     "metadata": {},
     "output_type": "execute_result"
    }
   ],
   "source": [
    "\"\"\"Life is too short, You need python\"\"\""
   ]
  },
  {
   "cell_type": "code",
   "execution_count": 29,
   "id": "ad266f62",
   "metadata": {
    "ExecuteTime": {
     "end_time": "2023-11-23T08:15:12.199364Z",
     "start_time": "2023-11-23T08:15:12.192616Z"
    }
   },
   "outputs": [
    {
     "data": {
      "text/plain": [
       "'Life is too short, You need python'"
      ]
     },
     "execution_count": 29,
     "metadata": {},
     "output_type": "execute_result"
    }
   ],
   "source": [
    "'''Life is too short, You need python'''"
   ]
  },
  {
   "cell_type": "markdown",
   "id": "d6dbca8e",
   "metadata": {},
   "source": [
    "## 문자열에 나 포함시키기\n",
    "### 문자열에 작은따옴표 포함하기: 큰따옴표로 감싸기"
   ]
  },
  {
   "cell_type": "code",
   "execution_count": 32,
   "id": "1879aea6",
   "metadata": {
    "ExecuteTime": {
     "end_time": "2023-11-23T08:19:41.935245Z",
     "start_time": "2023-11-23T08:19:41.925848Z"
    }
   },
   "outputs": [
    {
     "data": {
      "text/plain": [
       "\"Python's favorite food is perl\""
      ]
     },
     "execution_count": 32,
     "metadata": {},
     "output_type": "execute_result"
    }
   ],
   "source": [
    "food=\"Python's favorite food is perl\"\n",
    "food"
   ]
  },
  {
   "cell_type": "markdown",
   "id": "d7ff557f",
   "metadata": {},
   "source": [
    "### 문자열에 큰따옴표 포함하기: 작은따옴표로 감싸기"
   ]
  },
  {
   "cell_type": "code",
   "execution_count": 34,
   "id": "9947e2d8",
   "metadata": {
    "ExecuteTime": {
     "end_time": "2023-11-23T08:22:35.341761Z",
     "start_time": "2023-11-23T08:22:35.334117Z"
    }
   },
   "outputs": [
    {
     "data": {
      "text/plain": [
       "'\"Python is very east.\" he says.'"
      ]
     },
     "execution_count": 34,
     "metadata": {},
     "output_type": "execute_result"
    }
   ],
   "source": [
    "say='\"Python is very east.\" he says.'\n",
    "say"
   ]
  },
  {
   "cell_type": "markdown",
   "id": "1263e507",
   "metadata": {},
   "source": [
    "### 역슬래시 사용하기: 같은 따옴표 쓰려면 앞에 \\ 넣기"
   ]
  },
  {
   "cell_type": "code",
   "execution_count": 38,
   "id": "858abae7",
   "metadata": {
    "ExecuteTime": {
     "end_time": "2023-11-23T08:25:07.873720Z",
     "start_time": "2023-11-23T08:25:07.864286Z"
    }
   },
   "outputs": [
    {
     "data": {
      "text/plain": [
       "\"Python's favorite food is perl\""
      ]
     },
     "execution_count": 38,
     "metadata": {},
     "output_type": "execute_result"
    }
   ],
   "source": [
    "food='Python\\'s favorite food is perl'\n",
    "food"
   ]
  },
  {
   "cell_type": "code",
   "execution_count": 40,
   "id": "a188c381",
   "metadata": {
    "ExecuteTime": {
     "end_time": "2023-11-23T08:25:22.596203Z",
     "start_time": "2023-11-23T08:25:22.587286Z"
    }
   },
   "outputs": [
    {
     "data": {
      "text/plain": [
       "'\"Python is very east.\" he says.'"
      ]
     },
     "execution_count": 40,
     "metadata": {},
     "output_type": "execute_result"
    }
   ],
   "source": [
    "say=\"\\\"Python is very east.\\\" he says.\"\n",
    "say"
   ]
  },
  {
   "cell_type": "markdown",
   "id": "46a48e95",
   "metadata": {},
   "source": [
    "## 여러 줄인 문자열에 변수 대입\n",
    "### 줄 바꾸기 위해 이스케이프 코드 삽입: \\n"
   ]
  },
  {
   "cell_type": "code",
   "execution_count": 3,
   "id": "fc207a6b",
   "metadata": {
    "ExecuteTime": {
     "end_time": "2023-11-24T00:34:19.001162Z",
     "start_time": "2023-11-24T00:34:18.996124Z"
    }
   },
   "outputs": [
    {
     "name": "stdout",
     "output_type": "stream",
     "text": [
      "Life is too short\n",
      "You need python\n"
     ]
    }
   ],
   "source": [
    "multiline=\"Life is too short\\nYou need python\"\n",
    "print(multiline)"
   ]
  },
  {
   "cell_type": "markdown",
   "id": "42153cd1",
   "metadata": {},
   "source": [
    "### 연속된 큰 or 작은따옴표 3개 "
   ]
  },
  {
   "cell_type": "code",
   "execution_count": 13,
   "id": "1e7ee153",
   "metadata": {
    "ExecuteTime": {
     "end_time": "2023-11-25T06:25:30.981517Z",
     "start_time": "2023-11-25T06:25:30.975971Z"
    }
   },
   "outputs": [
    {
     "name": "stdout",
     "output_type": "stream",
     "text": [
      "Life is too short.\n",
      "You need python.\n"
     ]
    }
   ],
   "source": [
    "multiline=\"\"\"Life is too short.\n",
    "You need python.\"\"\"\n",
    "print(multiline)"
   ]
  },
  {
   "cell_type": "code",
   "execution_count": null,
   "id": "19bd35cf",
   "metadata": {},
   "outputs": [],
   "source": [
    "이스케이프 코드\n",
    "\n",
    "\\n: 문자열 안에서 줄 바꿈\n",
    "\\t: 탭\n",
    "\\\\: \\를 그대로 표현\n",
    "\\': '를 그대로 표현\n",
    "\\\": \"를 그대로 표현"
   ]
  },
  {
   "cell_type": "markdown",
   "id": "0b2bd4fa",
   "metadata": {},
   "source": [
    "## 문자열 연산하기: 문자를 더하거나 곱하기\n",
    "### 문자열 더해서 연결하기"
   ]
  },
  {
   "cell_type": "code",
   "execution_count": 14,
   "id": "454f84fa",
   "metadata": {
    "ExecuteTime": {
     "end_time": "2023-11-25T06:28:55.072290Z",
     "start_time": "2023-11-25T06:28:55.062053Z"
    },
    "scrolled": true
   },
   "outputs": [
    {
     "data": {
      "text/plain": [
       "'Python is fun'"
      ]
     },
     "execution_count": 14,
     "metadata": {},
     "output_type": "execute_result"
    }
   ],
   "source": [
    "head = \"Python\"\n",
    "tail = \" is fun\"\n",
    "head + tail"
   ]
  },
  {
   "cell_type": "markdown",
   "id": "5a0b7753",
   "metadata": {},
   "source": [
    "### 문자열 곱하기"
   ]
  },
  {
   "cell_type": "code",
   "execution_count": 15,
   "id": "c27df440",
   "metadata": {
    "ExecuteTime": {
     "end_time": "2023-11-25T06:30:03.371826Z",
     "start_time": "2023-11-25T06:30:03.364732Z"
    },
    "scrolled": true
   },
   "outputs": [
    {
     "data": {
      "text/plain": [
       "'pythonpython'"
      ]
     },
     "execution_count": 15,
     "metadata": {},
     "output_type": "execute_result"
    }
   ],
   "source": [
    "a = \"python\"\n",
    "a * 2"
   ]
  },
  {
   "cell_type": "code",
   "execution_count": 17,
   "id": "26e0d32f",
   "metadata": {
    "ExecuteTime": {
     "end_time": "2023-11-25T06:32:31.399216Z",
     "start_time": "2023-11-25T06:32:31.393079Z"
    },
    "scrolled": true
   },
   "outputs": [
    {
     "name": "stdout",
     "output_type": "stream",
     "text": [
      "==================================================\n",
      "My program\n",
      "==================================================\n"
     ]
    }
   ],
   "source": [
    "print(\"=\"*50)\n",
    "print(\"My program\")\n",
    "print(\"=\"*50)"
   ]
  },
  {
   "cell_type": "markdown",
   "id": "f290def1",
   "metadata": {},
   "source": [
    "### 문자열 길이 구하기"
   ]
  },
  {
   "cell_type": "code",
   "execution_count": 19,
   "id": "8be838f8",
   "metadata": {
    "ExecuteTime": {
     "end_time": "2023-11-25T06:33:31.474791Z",
     "start_time": "2023-11-25T06:33:31.468760Z"
    },
    "scrolled": true
   },
   "outputs": [
    {
     "data": {
      "text/plain": [
       "17"
      ]
     },
     "execution_count": 19,
     "metadata": {},
     "output_type": "execute_result"
    }
   ],
   "source": [
    "# len: 공백도 포함\n",
    "a = \"Life is too short\"\n",
    "len(a)"
   ]
  },
  {
   "cell_type": "markdown",
   "id": "410f1a05",
   "metadata": {},
   "source": [
    "## 문자열 인덱싱과 슬라이싱\n",
    "### 문자열 인덱싱"
   ]
  },
  {
   "cell_type": "code",
   "execution_count": 20,
   "id": "7d0a70b3",
   "metadata": {
    "ExecuteTime": {
     "end_time": "2023-11-25T06:35:03.028408Z",
     "start_time": "2023-11-25T06:35:03.021616Z"
    }
   },
   "outputs": [
    {
     "data": {
      "text/plain": [
       "'Life is too short, You need Python'"
      ]
     },
     "execution_count": 20,
     "metadata": {},
     "output_type": "execute_result"
    }
   ],
   "source": [
    "a = \"Life is too short, You need Python\"\n",
    "a"
   ]
  },
  {
   "cell_type": "code",
   "execution_count": 8,
   "id": "7d7eece3",
   "metadata": {
    "ExecuteTime": {
     "end_time": "2023-11-24T00:38:15.386919Z",
     "start_time": "2023-11-24T00:38:15.379449Z"
    }
   },
   "outputs": [
    {
     "data": {
      "text/plain": [
       "'e'"
      ]
     },
     "execution_count": 8,
     "metadata": {},
     "output_type": "execute_result"
    }
   ],
   "source": [
    "a[3]"
   ]
  },
  {
   "cell_type": "code",
   "execution_count": 9,
   "id": "ec09120c",
   "metadata": {
    "ExecuteTime": {
     "end_time": "2023-11-24T00:38:40.484880Z",
     "start_time": "2023-11-24T00:38:40.477899Z"
    }
   },
   "outputs": [
    {
     "data": {
      "text/plain": [
       "'L'"
      ]
     },
     "execution_count": 9,
     "metadata": {},
     "output_type": "execute_result"
    }
   ],
   "source": [
    "# 파이썬은 0부터 숫자를 센다\n",
    "a[0]"
   ]
  },
  {
   "cell_type": "code",
   "execution_count": 10,
   "id": "a1d2f0b1",
   "metadata": {
    "ExecuteTime": {
     "end_time": "2023-11-24T00:39:09.911046Z",
     "start_time": "2023-11-24T00:39:09.902023Z"
    }
   },
   "outputs": [
    {
     "data": {
      "text/plain": [
       "'n'"
      ]
     },
     "execution_count": 10,
     "metadata": {},
     "output_type": "execute_result"
    }
   ],
   "source": [
    "# 뒤에서 첫번째\n",
    "a[-1]"
   ]
  },
  {
   "cell_type": "code",
   "execution_count": 11,
   "id": "27ac91ba",
   "metadata": {
    "ExecuteTime": {
     "end_time": "2023-11-24T00:39:46.017794Z",
     "start_time": "2023-11-24T00:39:46.011035Z"
    }
   },
   "outputs": [
    {
     "data": {
      "text/plain": [
       "'L'"
      ]
     },
     "execution_count": 11,
     "metadata": {},
     "output_type": "execute_result"
    }
   ],
   "source": [
    "# 0=-0\n",
    "a[-0]"
   ]
  },
  {
   "cell_type": "markdown",
   "id": "6104a0c0",
   "metadata": {},
   "source": [
    "## 문자열 인덱싱과 슬라이싱\n",
    "### 문자열 슬라이싱: 단어를 뽑아내기\n",
    "범위[start index : endindex+1]"
   ]
  },
  {
   "cell_type": "code",
   "execution_count": 23,
   "id": "4a68fb4c",
   "metadata": {
    "ExecuteTime": {
     "end_time": "2023-11-25T06:42:46.030598Z",
     "start_time": "2023-11-25T06:42:46.023298Z"
    }
   },
   "outputs": [
    {
     "data": {
      "text/plain": [
       "'Life'"
      ]
     },
     "execution_count": 23,
     "metadata": {},
     "output_type": "execute_result"
    }
   ],
   "source": [
    "# Life 요소 잘라내기\n",
    "a = 'Life is too short, You need python'\n",
    "b = a[0] + a[1] + a[2] + a[3]\n",
    "b"
   ]
  },
  {
   "cell_type": "code",
   "execution_count": 26,
   "id": "c0b231da",
   "metadata": {
    "ExecuteTime": {
     "end_time": "2023-11-25T06:45:34.598193Z",
     "start_time": "2023-11-25T06:45:34.590822Z"
    }
   },
   "outputs": [
    {
     "data": {
      "text/plain": [
       "'Life'"
      ]
     },
     "execution_count": 26,
     "metadata": {},
     "output_type": "execute_result"
    }
   ],
   "source": [
    "# 슬라이싱: 끝에 +1을 해주기\n",
    "# a[0:3] = 0≤ a < 3\n",
    "a = 'Life is too short, You need python'\n",
    "b = a[0:4]\n",
    "b"
   ]
  },
  {
   "cell_type": "code",
   "execution_count": 27,
   "id": "705515a2",
   "metadata": {
    "ExecuteTime": {
     "end_time": "2023-11-25T06:47:19.202430Z",
     "start_time": "2023-11-25T06:47:19.194792Z"
    }
   },
   "outputs": [
    {
     "data": {
      "text/plain": [
       "'You need python'"
      ]
     },
     "execution_count": 27,
     "metadata": {},
     "output_type": "execute_result"
    }
   ],
   "source": [
    "# 시작번호 부터 끝까지\n",
    "a[19:]"
   ]
  },
  {
   "cell_type": "code",
   "execution_count": 29,
   "id": "59fc39e1",
   "metadata": {
    "ExecuteTime": {
     "end_time": "2023-11-25T06:47:35.250673Z",
     "start_time": "2023-11-25T06:47:35.244167Z"
    }
   },
   "outputs": [
    {
     "data": {
      "text/plain": [
       "'Life '"
      ]
     },
     "execution_count": 29,
     "metadata": {},
     "output_type": "execute_result"
    }
   ],
   "source": [
    "# 처음부터 끝번호까지\n",
    "a[:5]"
   ]
  },
  {
   "cell_type": "code",
   "execution_count": 30,
   "id": "1efef537",
   "metadata": {
    "ExecuteTime": {
     "end_time": "2023-11-25T06:47:43.652030Z",
     "start_time": "2023-11-25T06:47:43.646017Z"
    }
   },
   "outputs": [
    {
     "data": {
      "text/plain": [
       "'Life is too short, You need python'"
      ]
     },
     "execution_count": 30,
     "metadata": {},
     "output_type": "execute_result"
    }
   ],
   "source": [
    "# 처음부터 끝까지\n",
    "a[:]"
   ]
  },
  {
   "cell_type": "code",
   "execution_count": 23,
   "id": "58779196",
   "metadata": {
    "ExecuteTime": {
     "end_time": "2023-11-24T00:44:31.756697Z",
     "start_time": "2023-11-24T00:44:31.749584Z"
    }
   },
   "outputs": [
    {
     "data": {
      "text/plain": [
       "'You need'"
      ]
     },
     "execution_count": 23,
     "metadata": {},
     "output_type": "execute_result"
    }
   ],
   "source": [
    "a[19:-7]"
   ]
  },
  {
   "cell_type": "markdown",
   "id": "16b27cac",
   "metadata": {},
   "source": [
    "### 슬라이싱: [::2]\n",
    "a[ start : end : step ]\n",
    "\n",
    "step이 양수일 때: 오른쪽으로 step만큼 이동하면서 가져옵니다.\n",
    "step이 음수일 때: 왼쪽으로 step만큼 이동하면서 가져옵니다."
   ]
  },
  {
   "cell_type": "code",
   "execution_count": 9,
   "id": "067e89e6",
   "metadata": {
    "ExecuteTime": {
     "end_time": "2023-12-03T11:07:35.610319Z",
     "start_time": "2023-12-03T11:07:35.604605Z"
    }
   },
   "outputs": [
    {
     "name": "stdout",
     "output_type": "stream",
     "text": [
      "홀홀홀\n"
     ]
    }
   ],
   "source": [
    "string = '홀짝홀짝홀짝'\n",
    "print(string[::2])"
   ]
  },
  {
   "cell_type": "code",
   "execution_count": 11,
   "id": "4491592c",
   "metadata": {
    "ExecuteTime": {
     "end_time": "2023-12-03T11:57:15.104836Z",
     "start_time": "2023-12-03T11:57:15.098598Z"
    }
   },
   "outputs": [
    {
     "name": "stdout",
     "output_type": "stream",
     "text": [
      "(2, 4, 6, 8, 10, 12, 14, 16, 18, 20, 22, 24, 26, 28, 30, 32, 34, 36, 38, 40, 42, 44, 46, 48, 50, 52, 54, 56, 58, 60, 62, 64, 66, 68, 70, 72, 74, 76, 78, 80, 82, 84, 86, 88, 90, 92, 94, 96, 98)\n"
     ]
    }
   ],
   "source": [
    "a = tuple(range(99)[2: 100: 2])\n",
    "print(a)"
   ]
  },
  {
   "cell_type": "markdown",
   "id": "406a2ae7",
   "metadata": {},
   "source": [
    "### 슬라이싱으로 문자열 나누기"
   ]
  },
  {
   "cell_type": "code",
   "execution_count": 25,
   "id": "afc9555e",
   "metadata": {
    "ExecuteTime": {
     "end_time": "2023-11-24T00:47:56.886151Z",
     "start_time": "2023-11-24T00:47:56.879645Z"
    }
   },
   "outputs": [
    {
     "name": "stdout",
     "output_type": "stream",
     "text": [
      "20231124\n",
      "Sunny\n"
     ]
    }
   ],
   "source": [
    "a = \"20231124Sunny\"\n",
    "date = a[:8]\n",
    "weather = a[8:]\n",
    "print(date)\n",
    "print(weather)"
   ]
  },
  {
   "cell_type": "code",
   "execution_count": 32,
   "id": "a3678c55",
   "metadata": {
    "ExecuteTime": {
     "end_time": "2023-11-25T06:54:33.692677Z",
     "start_time": "2023-11-25T06:54:33.686137Z"
    }
   },
   "outputs": [
    {
     "name": "stdout",
     "output_type": "stream",
     "text": [
      "2023\n",
      "1124\n",
      "Sunny\n"
     ]
    }
   ],
   "source": [
    "year = a[:4]\n",
    "day = a[4:8]\n",
    "print(year)\n",
    "print(day)\n",
    "print(weather)"
   ]
  },
  {
   "cell_type": "markdown",
   "id": "899d8642",
   "metadata": {},
   "source": [
    "## Pithon을 Python으로 바꾸기"
   ]
  },
  {
   "cell_type": "code",
   "execution_count": 29,
   "id": "1536aba5",
   "metadata": {
    "ExecuteTime": {
     "end_time": "2023-11-24T01:01:42.658031Z",
     "start_time": "2023-11-24T01:01:42.652089Z"
    }
   },
   "outputs": [
    {
     "data": {
      "text/plain": [
       "'i'"
      ]
     },
     "execution_count": 29,
     "metadata": {},
     "output_type": "execute_result"
    }
   ],
   "source": [
    "a = 'pithon'\n",
    "a[1]"
   ]
  },
  {
   "cell_type": "code",
   "execution_count": 33,
   "id": "0ad47c78",
   "metadata": {
    "ExecuteTime": {
     "end_time": "2023-11-25T06:55:45.283734Z",
     "start_time": "2023-11-25T06:55:44.226652Z"
    }
   },
   "outputs": [
    {
     "ename": "TypeError",
     "evalue": "'str' object does not support item assignment",
     "output_type": "error",
     "traceback": [
      "\u001b[1;31m---------------------------------------------------------------------------\u001b[0m",
      "\u001b[1;31mTypeError\u001b[0m                                 Traceback (most recent call last)",
      "Cell \u001b[1;32mIn[33], line 1\u001b[0m\n\u001b[1;32m----> 1\u001b[0m a[\u001b[38;5;241m1\u001b[39m] \u001b[38;5;241m=\u001b[39m \u001b[38;5;124m'\u001b[39m\u001b[38;5;124my\u001b[39m\u001b[38;5;124m'\u001b[39m\n",
      "\u001b[1;31mTypeError\u001b[0m: 'str' object does not support item assignment"
     ]
    }
   ],
   "source": [
    "# 불가능함\n",
    "a[1] = 'y'"
   ]
  },
  {
   "cell_type": "code",
   "execution_count": 35,
   "id": "e4fc10d9",
   "metadata": {
    "ExecuteTime": {
     "end_time": "2023-11-25T06:56:55.443052Z",
     "start_time": "2023-11-25T06:56:55.435532Z"
    }
   },
   "outputs": [
    {
     "data": {
      "text/plain": [
       "'python'"
      ]
     },
     "execution_count": 35,
     "metadata": {},
     "output_type": "execute_result"
    }
   ],
   "source": [
    "a = 'pithon'\n",
    "a[0] + 'y' + a[2:]"
   ]
  },
  {
   "cell_type": "markdown",
   "id": "ac49a77c",
   "metadata": {},
   "source": [
    "## 문자열 포매팅: 문자열 안에 값 삽입\n",
    "현재 온도는 20도 입니다.\n",
    "현재 온도는 -3도 입니다."
   ]
  },
  {
   "cell_type": "markdown",
   "id": "2c8ca2c4",
   "metadata": {},
   "source": [
    "### 숫자 바로 대입: %d_정수(integer)"
   ]
  },
  {
   "cell_type": "code",
   "execution_count": 32,
   "id": "e6040eef",
   "metadata": {
    "ExecuteTime": {
     "end_time": "2023-11-24T01:09:32.450846Z",
     "start_time": "2023-11-24T01:09:32.440343Z"
    }
   },
   "outputs": [
    {
     "data": {
      "text/plain": [
       "'I eat 3 apples'"
      ]
     },
     "execution_count": 32,
     "metadata": {},
     "output_type": "execute_result"
    }
   ],
   "source": [
    "\"I eat %d apples\" %3"
   ]
  },
  {
   "cell_type": "markdown",
   "id": "665ca231",
   "metadata": {},
   "source": [
    "### 문자열 바로 대입: %s_문자열(string)"
   ]
  },
  {
   "cell_type": "code",
   "execution_count": 36,
   "id": "a4c3cdb8",
   "metadata": {
    "ExecuteTime": {
     "end_time": "2023-11-25T07:01:39.785877Z",
     "start_time": "2023-11-25T07:01:39.776971Z"
    },
    "scrolled": true
   },
   "outputs": [
    {
     "data": {
      "text/plain": [
       "'I eat five apples'"
      ]
     },
     "execution_count": 36,
     "metadata": {},
     "output_type": "execute_result"
    }
   ],
   "source": [
    "\"I eat %s apples\" %\"five\""
   ]
  },
  {
   "cell_type": "markdown",
   "id": "03fe1386",
   "metadata": {},
   "source": [
    "### 숫자 값을 나타내는 변수로 대입"
   ]
  },
  {
   "cell_type": "code",
   "execution_count": 37,
   "id": "6f32293f",
   "metadata": {
    "ExecuteTime": {
     "end_time": "2023-11-25T07:03:31.928077Z",
     "start_time": "2023-11-25T07:03:31.920774Z"
    }
   },
   "outputs": [
    {
     "data": {
      "text/plain": [
       "'I eat 3 apples'"
      ]
     },
     "execution_count": 37,
     "metadata": {},
     "output_type": "execute_result"
    }
   ],
   "source": [
    "number = 3\n",
    "\"I eat %d apples\" %number"
   ]
  },
  {
   "cell_type": "markdown",
   "id": "dd1a82a9",
   "metadata": {},
   "source": [
    "### 2개 이상 값 넣기: %(,)"
   ]
  },
  {
   "cell_type": "code",
   "execution_count": 40,
   "id": "f75674a3",
   "metadata": {
    "ExecuteTime": {
     "end_time": "2023-11-25T07:05:05.657486Z",
     "start_time": "2023-11-25T07:05:05.650310Z"
    }
   },
   "outputs": [
    {
     "data": {
      "text/plain": [
       "'I ate 3 apples. so i was sick for three days'"
      ]
     },
     "execution_count": 40,
     "metadata": {},
     "output_type": "execute_result"
    }
   ],
   "source": [
    "number = 3\n",
    "day = \"three\"\n",
    "\"I ate %d apples. so i was sick for %s days\" %(number, day)"
   ]
  },
  {
   "cell_type": "markdown",
   "id": "2ec5ef5b",
   "metadata": {},
   "source": [
    "## 포맷 코드와 숫자 함께 사용하기\n",
    "### 정렬과 공백: %10s"
   ]
  },
  {
   "cell_type": "code",
   "execution_count": 42,
   "id": "afaed0ac",
   "metadata": {
    "ExecuteTime": {
     "end_time": "2023-11-25T07:13:46.075506Z",
     "start_time": "2023-11-25T07:13:46.067783Z"
    }
   },
   "outputs": [
    {
     "data": {
      "text/plain": [
       "'        hi'"
      ]
     },
     "execution_count": 42,
     "metadata": {},
     "output_type": "execute_result"
    }
   ],
   "source": [
    "# 전체 길이 10인 공간 만들고, 대입값을 우측 정렬, 빈곳은 공백으로 채우기\n",
    "# 양수: 우정렬\n",
    "\"%10s\" %\"hi\""
   ]
  },
  {
   "cell_type": "code",
   "execution_count": 44,
   "id": "02c940fe",
   "metadata": {
    "ExecuteTime": {
     "end_time": "2023-11-25T07:14:03.855801Z",
     "start_time": "2023-11-25T07:14:03.848689Z"
    }
   },
   "outputs": [
    {
     "data": {
      "text/plain": [
       "'hi        '"
      ]
     },
     "execution_count": 44,
     "metadata": {},
     "output_type": "execute_result"
    }
   ],
   "source": [
    "# 음수: 좌정렬\n",
    "\"%-10s\" %\"hi\""
   ]
  },
  {
   "cell_type": "markdown",
   "id": "88a84496",
   "metadata": {
    "ExecuteTime": {
     "end_time": "2023-11-24T01:15:08.422133Z",
     "start_time": "2023-11-24T01:15:08.415135Z"
    }
   },
   "source": [
    "### 소수점 표현하기: %0.4f"
   ]
  },
  {
   "cell_type": "code",
   "execution_count": 42,
   "id": "05b0d3b0",
   "metadata": {
    "ExecuteTime": {
     "end_time": "2023-11-24T01:15:31.982663Z",
     "start_time": "2023-11-24T01:15:31.975718Z"
    }
   },
   "outputs": [
    {
     "data": {
      "text/plain": [
       "'3.4212'"
      ]
     },
     "execution_count": 42,
     "metadata": {},
     "output_type": "execute_result"
    }
   ],
   "source": [
    "# 소수점 네번째 자리까지만 표현\n",
    "\"%0.4f\" %3.42123455"
   ]
  },
  {
   "cell_type": "code",
   "execution_count": 45,
   "id": "1979b5dd",
   "metadata": {
    "ExecuteTime": {
     "end_time": "2023-11-25T07:17:43.869240Z",
     "start_time": "2023-11-25T07:17:43.862231Z"
    }
   },
   "outputs": [
    {
     "data": {
      "text/plain": [
       "'    3.4213'"
      ]
     },
     "execution_count": 45,
     "metadata": {},
     "output_type": "execute_result"
    }
   ],
   "source": [
    "# 우측 정렬 + 소수점 네번째 자리까지 표현\n",
    "\"%10.4f\" %3.42134234"
   ]
  },
  {
   "cell_type": "markdown",
   "id": "0ab9c1fc",
   "metadata": {},
   "source": [
    "## 포맷함수로를 사용한 포매팅\n",
    "### 숫자 바로 대입하기: .format()"
   ]
  },
  {
   "cell_type": "code",
   "execution_count": 44,
   "id": "06d803ad",
   "metadata": {
    "ExecuteTime": {
     "end_time": "2023-11-24T01:17:57.794746Z",
     "start_time": "2023-11-24T01:17:57.787676Z"
    }
   },
   "outputs": [
    {
     "data": {
      "text/plain": [
       "str"
      ]
     },
     "execution_count": 44,
     "metadata": {},
     "output_type": "execute_result"
    }
   ],
   "source": [
    "type(\"i ead{}apples\")"
   ]
  },
  {
   "cell_type": "code",
   "execution_count": 43,
   "id": "8ec6dba3",
   "metadata": {
    "ExecuteTime": {
     "end_time": "2023-11-24T01:16:12.252849Z",
     "start_time": "2023-11-24T01:16:12.244870Z"
    }
   },
   "outputs": [
    {
     "data": {
      "text/plain": [
       "'i ead 3 apples'"
      ]
     },
     "execution_count": 43,
     "metadata": {},
     "output_type": "execute_result"
    }
   ],
   "source": [
    "\"i eat {} apples\".format(3)"
   ]
  },
  {
   "cell_type": "markdown",
   "id": "44647709",
   "metadata": {},
   "source": [
    "### 문자열 바로 대입하기: .format()"
   ]
  },
  {
   "cell_type": "code",
   "execution_count": 46,
   "id": "aae73d40",
   "metadata": {
    "ExecuteTime": {
     "end_time": "2023-11-25T07:22:11.793278Z",
     "start_time": "2023-11-25T07:22:11.785883Z"
    }
   },
   "outputs": [
    {
     "data": {
      "text/plain": [
       "'i eat five apples'"
      ]
     },
     "execution_count": 46,
     "metadata": {},
     "output_type": "execute_result"
    }
   ],
   "source": [
    "\"i eat {} apples\".format(\"five\")"
   ]
  },
  {
   "cell_type": "markdown",
   "id": "e0933399",
   "metadata": {},
   "source": [
    "### 숫자 값을 가진 변수로 대입하기: .format()"
   ]
  },
  {
   "cell_type": "code",
   "execution_count": 47,
   "id": "30b903e4",
   "metadata": {
    "ExecuteTime": {
     "end_time": "2023-11-25T07:23:26.884166Z",
     "start_time": "2023-11-25T07:23:26.877196Z"
    }
   },
   "outputs": [
    {
     "data": {
      "text/plain": [
       "'i eat 3 apples'"
      ]
     },
     "execution_count": 47,
     "metadata": {},
     "output_type": "execute_result"
    }
   ],
   "source": [
    "number = 3\n",
    "\"i eat {} apples\".format(number)"
   ]
  },
  {
   "cell_type": "markdown",
   "id": "9074d94a",
   "metadata": {},
   "source": [
    "### 2개 이상의 값 넣기: .format(,)"
   ]
  },
  {
   "cell_type": "code",
   "execution_count": 49,
   "id": "704ef732",
   "metadata": {
    "ExecuteTime": {
     "end_time": "2023-11-25T07:24:46.911036Z",
     "start_time": "2023-11-25T07:24:46.904394Z"
    }
   },
   "outputs": [
    {
     "data": {
      "text/plain": [
       "'I ate 3 apples. so i was sick for three days'"
      ]
     },
     "execution_count": 49,
     "metadata": {},
     "output_type": "execute_result"
    }
   ],
   "source": [
    "number = 3\n",
    "day = \"three\"\n",
    "'I ate {} apples. so i was sick for {} days'.format(number, day)"
   ]
  },
  {
   "cell_type": "markdown",
   "id": "49d4e86c",
   "metadata": {},
   "source": [
    "### 이름으로 넣기: .format(number=3, day='three')"
   ]
  },
  {
   "cell_type": "code",
   "execution_count": 50,
   "id": "38d01859",
   "metadata": {
    "ExecuteTime": {
     "end_time": "2023-11-25T07:27:34.693014Z",
     "start_time": "2023-11-25T07:27:34.685552Z"
    }
   },
   "outputs": [
    {
     "data": {
      "text/plain": [
       "'I ate 3 apples. so i was sick for three days'"
      ]
     },
     "execution_count": 50,
     "metadata": {},
     "output_type": "execute_result"
    }
   ],
   "source": [
    "'I ate {number} apples. so i was sick for {day} days'.format(number=3, day='three')"
   ]
  },
  {
   "cell_type": "code",
   "execution_count": 52,
   "id": "fe90f4a1",
   "metadata": {
    "ExecuteTime": {
     "end_time": "2023-11-25T07:28:53.445234Z",
     "start_time": "2023-11-25T07:28:53.438290Z"
    }
   },
   "outputs": [
    {
     "data": {
      "text/plain": [
       "'I ate 3 apples. so i was sick for three days'"
      ]
     },
     "execution_count": 52,
     "metadata": {},
     "output_type": "execute_result"
    }
   ],
   "source": [
    "# 포맷 순서를 바꿔도 작동\n",
    "'I ate {number} apples. so i was sick for {day} days'.format(day='three', number=3)"
   ]
  },
  {
   "cell_type": "code",
   "execution_count": 54,
   "id": "4813c239",
   "metadata": {
    "ExecuteTime": {
     "end_time": "2023-11-25T07:32:50.277154Z",
     "start_time": "2023-11-25T07:32:50.238868Z"
    }
   },
   "outputs": [
    {
     "ename": "IndexError",
     "evalue": "Replacement index 1 out of range for positional args tuple",
     "output_type": "error",
     "traceback": [
      "\u001b[1;31m---------------------------------------------------------------------------\u001b[0m",
      "\u001b[1;31mIndexError\u001b[0m                                Traceback (most recent call last)",
      "Cell \u001b[1;32mIn[54], line 2\u001b[0m\n\u001b[0;32m      1\u001b[0m \u001b[38;5;66;03m# 뭔지 모르겠음\u001b[39;00m\n\u001b[1;32m----> 2\u001b[0m \u001b[38;5;124m'\u001b[39m\u001b[38;5;124mI ate \u001b[39m\u001b[38;5;132;01m{}\u001b[39;00m\u001b[38;5;124m apples. so i was sick for \u001b[39m\u001b[38;5;132;01m{}\u001b[39;00m\u001b[38;5;124m days\u001b[39m\u001b[38;5;124m'\u001b[39m\u001b[38;5;241m.\u001b[39mformat(\u001b[38;5;241m3\u001b[39m, number\u001b[38;5;241m=\u001b[39m\u001b[38;5;241m10\u001b[39m)\n",
      "\u001b[1;31mIndexError\u001b[0m: Replacement index 1 out of range for positional args tuple"
     ]
    }
   ],
   "source": [
    "# 뭔지 모르겠음\n",
    "'I ate {} apples. so i was sick for {} days'.format(3, number=10)"
   ]
  },
  {
   "cell_type": "markdown",
   "id": "b20cde63",
   "metadata": {},
   "source": [
    "## f 문자열 포매팅\n",
    "### 문자: f'문자열' = f-string"
   ]
  },
  {
   "cell_type": "code",
   "execution_count": 57,
   "id": "91075255",
   "metadata": {
    "ExecuteTime": {
     "end_time": "2023-11-25T07:35:40.693371Z",
     "start_time": "2023-11-25T07:35:40.685968Z"
    }
   },
   "outputs": [
    {
     "data": {
      "text/plain": [
       "'나의 이름 홍길동입니다. 나이는 30입니다.'"
      ]
     },
     "execution_count": 57,
     "metadata": {},
     "output_type": "execute_result"
    }
   ],
   "source": [
    "name = '홍길동'\n",
    "age = 30\n",
    "f\"나의 이름 {name}입니다. 나이는 {age}입니다.\""
   ]
  },
  {
   "cell_type": "code",
   "execution_count": 52,
   "id": "b4244216",
   "metadata": {
    "ExecuteTime": {
     "end_time": "2023-11-24T01:24:09.654937Z",
     "start_time": "2023-11-24T01:24:09.647158Z"
    }
   },
   "outputs": [
    {
     "data": {
      "text/plain": [
       "'나는 내년이면 31살이 됩니다.'"
      ]
     },
     "execution_count": 52,
     "metadata": {},
     "output_type": "execute_result"
    }
   ],
   "source": [
    "f\"나는 내년이면 {age+1}살이 됩니다.\""
   ]
  },
  {
   "cell_type": "code",
   "execution_count": 58,
   "id": "777117dc",
   "metadata": {
    "ExecuteTime": {
     "end_time": "2023-11-25T07:36:40.896133Z",
     "start_time": "2023-11-25T07:36:40.888587Z"
    },
    "scrolled": true
   },
   "outputs": [
    {
     "data": {
      "text/plain": [
       "'나의 이름은 홍길동입니다. 나이는 30입니다.'"
      ]
     },
     "execution_count": 58,
     "metadata": {},
     "output_type": "execute_result"
    }
   ],
   "source": [
    "d = {'name':'홍길동', 'age':30}\n",
    "f\"나의 이름은 {d['name']}입니다. 나이는 {d['age']}입니다.\""
   ]
  },
  {
   "cell_type": "markdown",
   "id": "ddd568b1",
   "metadata": {},
   "source": [
    "### 소수: f'{y:0.4f}"
   ]
  },
  {
   "cell_type": "code",
   "execution_count": 59,
   "id": "df7fd40c",
   "metadata": {
    "ExecuteTime": {
     "end_time": "2023-11-25T07:38:56.784215Z",
     "start_time": "2023-11-25T07:38:56.777144Z"
    }
   },
   "outputs": [
    {
     "data": {
      "text/plain": [
       "'3.4123'"
      ]
     },
     "execution_count": 59,
     "metadata": {},
     "output_type": "execute_result"
    }
   ],
   "source": [
    "# 소수점 4자리까지 표현\n",
    "y=3.4123123\n",
    "f'{y:0.4f}'"
   ]
  },
  {
   "cell_type": "markdown",
   "id": "61400575",
   "metadata": {},
   "source": [
    "## 문자열 관련 함수\n",
    "### 문자 개수 세기: a.count()"
   ]
  },
  {
   "cell_type": "code",
   "execution_count": 63,
   "id": "47522942",
   "metadata": {
    "ExecuteTime": {
     "end_time": "2023-11-25T07:43:00.902596Z",
     "start_time": "2023-11-25T07:43:00.892316Z"
    },
    "scrolled": true
   },
   "outputs": [
    {
     "data": {
      "text/plain": [
       "2"
      ]
     },
     "execution_count": 63,
     "metadata": {},
     "output_type": "execute_result"
    }
   ],
   "source": [
    "# b의 개수 리턴\n",
    "a = \"hobby\"\n",
    "a.count('b')"
   ]
  },
  {
   "cell_type": "markdown",
   "id": "720b7ede",
   "metadata": {},
   "source": [
    "### 함수에 대한 정보 얻기"
   ]
  },
  {
   "cell_type": "code",
   "execution_count": 66,
   "id": "4d5e6f86",
   "metadata": {
    "ExecuteTime": {
     "end_time": "2023-11-25T07:45:15.342370Z",
     "start_time": "2023-11-25T07:45:15.333057Z"
    }
   },
   "outputs": [],
   "source": [
    "a.count?"
   ]
  },
  {
   "cell_type": "code",
   "execution_count": 67,
   "id": "cbae15cf",
   "metadata": {
    "ExecuteTime": {
     "end_time": "2023-11-25T07:45:20.853970Z",
     "start_time": "2023-11-25T07:45:20.846034Z"
    }
   },
   "outputs": [
    {
     "name": "stdout",
     "output_type": "stream",
     "text": [
      "Help on built-in function count:\n",
      "\n",
      "count(...) method of builtins.str instance\n",
      "    S.count(sub[, start[, end]]) -> int\n",
      "    \n",
      "    Return the number of non-overlapping occurrences of substring sub in\n",
      "    string S[start:end].  Optional arguments start and end are\n",
      "    interpreted as in slice notation.\n",
      "\n"
     ]
    }
   ],
   "source": [
    "help(a.count)"
   ]
  },
  {
   "cell_type": "markdown",
   "id": "4ed8ece2",
   "metadata": {
    "ExecuteTime": {
     "end_time": "2023-11-24T01:30:49.857461Z",
     "start_time": "2023-11-24T01:30:49.849482Z"
    }
   },
   "source": [
    "### 위치 알려주기1: a.find()"
   ]
  },
  {
   "cell_type": "code",
   "execution_count": 65,
   "id": "5e57d5f4",
   "metadata": {
    "ExecuteTime": {
     "end_time": "2023-11-25T07:44:37.594725Z",
     "start_time": "2023-11-25T07:44:37.588219Z"
    }
   },
   "outputs": [
    {
     "data": {
      "text/plain": [
       "14"
      ]
     },
     "execution_count": 65,
     "metadata": {},
     "output_type": "execute_result"
    }
   ],
   "source": [
    "# b의 위치 찾기\n",
    "a = 'Python is the best choice'\n",
    "a.find('b')"
   ]
  },
  {
   "cell_type": "code",
   "execution_count": 63,
   "id": "be4b589b",
   "metadata": {
    "ExecuteTime": {
     "end_time": "2023-11-24T01:35:55.537841Z",
     "start_time": "2023-11-24T01:35:55.530038Z"
    }
   },
   "outputs": [
    {
     "data": {
      "text/plain": [
       "-1"
      ]
     },
     "execution_count": 63,
     "metadata": {},
     "output_type": "execute_result"
    }
   ],
   "source": [
    "# 문자열이 존재x: -1\n",
    "# false=0\n",
    "a.find('k')"
   ]
  },
  {
   "cell_type": "markdown",
   "id": "dc2e1cec",
   "metadata": {},
   "source": [
    "### 위치 알려주기2: a.index()"
   ]
  },
  {
   "cell_type": "code",
   "execution_count": 69,
   "id": "56aacbf9",
   "metadata": {
    "ExecuteTime": {
     "end_time": "2023-11-25T07:49:09.432443Z",
     "start_time": "2023-11-25T07:49:09.425628Z"
    }
   },
   "outputs": [
    {
     "data": {
      "text/plain": [
       "14"
      ]
     },
     "execution_count": 69,
     "metadata": {},
     "output_type": "execute_result"
    }
   ],
   "source": [
    "a.index('b')"
   ]
  },
  {
   "cell_type": "code",
   "execution_count": 70,
   "id": "e86ed0ad",
   "metadata": {
    "ExecuteTime": {
     "end_time": "2023-11-25T07:49:28.298318Z",
     "start_time": "2023-11-25T07:49:28.268882Z"
    }
   },
   "outputs": [
    {
     "ename": "ValueError",
     "evalue": "substring not found",
     "output_type": "error",
     "traceback": [
      "\u001b[1;31m---------------------------------------------------------------------------\u001b[0m",
      "\u001b[1;31mValueError\u001b[0m                                Traceback (most recent call last)",
      "Cell \u001b[1;32mIn[70], line 2\u001b[0m\n\u001b[0;32m      1\u001b[0m \u001b[38;5;66;03m# find: 없는 값을 -1로 반환, index: 에러남\u001b[39;00m\n\u001b[1;32m----> 2\u001b[0m a\u001b[38;5;241m.\u001b[39mindex(\u001b[38;5;124m'\u001b[39m\u001b[38;5;124mk\u001b[39m\u001b[38;5;124m'\u001b[39m)\n",
      "\u001b[1;31mValueError\u001b[0m: substring not found"
     ]
    }
   ],
   "source": [
    "# find: 없는 값을 -1로 반환, index: 에러남\n",
    "a.index('k')"
   ]
  },
  {
   "cell_type": "markdown",
   "id": "d4502d34",
   "metadata": {},
   "source": [
    "### 문자열 삽입: \"\".join()"
   ]
  },
  {
   "cell_type": "code",
   "execution_count": 71,
   "id": "a6468e5c",
   "metadata": {
    "ExecuteTime": {
     "end_time": "2023-11-25T07:53:21.120417Z",
     "start_time": "2023-11-25T07:53:21.113534Z"
    }
   },
   "outputs": [
    {
     "data": {
      "text/plain": [
       "'a,b,c,d'"
      ]
     },
     "execution_count": 71,
     "metadata": {},
     "output_type": "execute_result"
    }
   ],
   "source": [
    "# a, b, c,d 문자열 사이에 , 를 삽입\n",
    "\",\".join('abcd')"
   ]
  },
  {
   "cell_type": "code",
   "execution_count": 74,
   "id": "d7a36611",
   "metadata": {
    "ExecuteTime": {
     "end_time": "2023-11-25T07:55:08.103776Z",
     "start_time": "2023-11-25T07:55:08.097159Z"
    }
   },
   "outputs": [
    {
     "data": {
      "text/plain": [
       "'a,b,c,d'"
      ]
     },
     "execution_count": 74,
     "metadata": {},
     "output_type": "execute_result"
    }
   ],
   "source": [
    "a = ','\n",
    "a.join('abcd')"
   ]
  },
  {
   "cell_type": "code",
   "execution_count": 72,
   "id": "ae983590",
   "metadata": {
    "ExecuteTime": {
     "end_time": "2023-11-25T07:54:01.158734Z",
     "start_time": "2023-11-25T07:54:01.151856Z"
    }
   },
   "outputs": [
    {
     "data": {
      "text/plain": [
       "'a,b,c,d'"
      ]
     },
     "execution_count": 72,
     "metadata": {},
     "output_type": "execute_result"
    }
   ],
   "source": [
    "\",\".join(['a','b','c','d'])"
   ]
  },
  {
   "cell_type": "markdown",
   "id": "df417b40",
   "metadata": {},
   "source": [
    "### 소문자를 대문자로 바꾸기: a.upper()"
   ]
  },
  {
   "cell_type": "code",
   "execution_count": 77,
   "id": "1f7e14b9",
   "metadata": {
    "ExecuteTime": {
     "end_time": "2023-11-25T08:18:44.714940Z",
     "start_time": "2023-11-25T08:18:44.708435Z"
    }
   },
   "outputs": [
    {
     "data": {
      "text/plain": [
       "'HI'"
      ]
     },
     "execution_count": 77,
     "metadata": {},
     "output_type": "execute_result"
    }
   ],
   "source": [
    "a = 'hi'\n",
    "a.upper()"
   ]
  },
  {
   "cell_type": "markdown",
   "id": "37276d95",
   "metadata": {},
   "source": [
    "### 대문자를 소문자로 바꾸기: a.lower()"
   ]
  },
  {
   "cell_type": "code",
   "execution_count": 76,
   "id": "43f208a1",
   "metadata": {
    "ExecuteTime": {
     "end_time": "2023-11-25T08:18:41.645091Z",
     "start_time": "2023-11-25T08:18:41.638303Z"
    },
    "scrolled": true
   },
   "outputs": [
    {
     "data": {
      "text/plain": [
       "'hi'"
      ]
     },
     "execution_count": 76,
     "metadata": {},
     "output_type": "execute_result"
    }
   ],
   "source": [
    "a = 'HI'\n",
    "a.lower()"
   ]
  },
  {
   "cell_type": "markdown",
   "id": "ea5c74dd",
   "metadata": {},
   "source": [
    "### 대문자 판별: a.isupper()"
   ]
  },
  {
   "cell_type": "code",
   "execution_count": null,
   "id": "3111f82e",
   "metadata": {},
   "outputs": [],
   "source": [
    "#155번\n",
    "\n",
    "리스트 = [\"A\", \"b\", \"c\", \"D\"]\n",
    "\n",
    "for 변수 in 리스트:\n",
    "    if 변수.isupper():\n",
    "        print(변수)"
   ]
  },
  {
   "cell_type": "markdown",
   "id": "d9384e42",
   "metadata": {},
   "source": [
    "### 소문자 판별: a.islower()"
   ]
  },
  {
   "cell_type": "code",
   "execution_count": null,
   "id": "897784d6",
   "metadata": {},
   "outputs": [],
   "source": [
    "#121번\n",
    "\n",
    "user = input('')\n",
    "if user.islower():\n",
    "    print(user.upper())\n",
    "else:\n",
    "    print(user.down())"
   ]
  },
  {
   "cell_type": "markdown",
   "id": "39a7ffe2",
   "metadata": {},
   "source": [
    "### 첫글자 대문자로 바꾸기: a.capitalize()"
   ]
  },
  {
   "cell_type": "code",
   "execution_count": 2,
   "id": "60d70e9a",
   "metadata": {
    "ExecuteTime": {
     "end_time": "2023-12-03T09:42:01.460904Z",
     "start_time": "2023-12-03T09:42:01.360711Z"
    }
   },
   "outputs": [
    {
     "name": "stdout",
     "output_type": "stream",
     "text": [
      "Hello\n"
     ]
    }
   ],
   "source": [
    "a = \"hello\"\n",
    "print(a.capitalize())"
   ]
  },
  {
   "cell_type": "markdown",
   "id": "af1962bf",
   "metadata": {},
   "source": [
    "### 지정 문자열로 끝나는지 확인하기: a.endswith('지정 문자열')"
   ]
  },
  {
   "cell_type": "code",
   "execution_count": 3,
   "id": "94e008d6",
   "metadata": {
    "ExecuteTime": {
     "end_time": "2023-12-03T10:11:01.534706Z",
     "start_time": "2023-12-03T10:11:01.523632Z"
    }
   },
   "outputs": [
    {
     "name": "stdout",
     "output_type": "stream",
     "text": [
      "True\n"
     ]
    }
   ],
   "source": [
    "file_name = \"보고서.xlsx\"\n",
    "a = file_name.endswith('xlsx')\n",
    "print(a)"
   ]
  },
  {
   "cell_type": "markdown",
   "id": "eeafca17",
   "metadata": {},
   "source": [
    "### 지정 문자열로 시작하는지 확인하기: a.startswith('지정 문자열')"
   ]
  },
  {
   "cell_type": "code",
   "execution_count": 4,
   "id": "2d8e463b",
   "metadata": {
    "ExecuteTime": {
     "end_time": "2023-12-03T10:13:49.049037Z",
     "start_time": "2023-12-03T10:13:49.039658Z"
    }
   },
   "outputs": [
    {
     "name": "stdout",
     "output_type": "stream",
     "text": [
      "True\n"
     ]
    }
   ],
   "source": [
    "file_name = \"2020_보고서.xlsx\"\n",
    "print(file_name.startswith('2020'))"
   ]
  },
  {
   "cell_type": "markdown",
   "id": "53ad8d48",
   "metadata": {},
   "source": [
    "### 왼쪽 공백 지우기: a.lstrip()"
   ]
  },
  {
   "cell_type": "code",
   "execution_count": 75,
   "id": "69c060f8",
   "metadata": {
    "ExecuteTime": {
     "end_time": "2023-11-25T08:18:37.230011Z",
     "start_time": "2023-11-25T08:18:37.209742Z"
    }
   },
   "outputs": [
    {
     "data": {
      "text/plain": [
       "'hi    '"
      ]
     },
     "execution_count": 75,
     "metadata": {},
     "output_type": "execute_result"
    }
   ],
   "source": [
    "a = \"    hi    \"\n",
    "a.lstrip()"
   ]
  },
  {
   "cell_type": "markdown",
   "id": "3099a929",
   "metadata": {},
   "source": [
    "### 오른쪽 공백 지우기: a.rstrip()"
   ]
  },
  {
   "cell_type": "code",
   "execution_count": 73,
   "id": "5aeeeff7",
   "metadata": {
    "ExecuteTime": {
     "end_time": "2023-11-24T01:42:28.247326Z",
     "start_time": "2023-11-24T01:42:28.238975Z"
    }
   },
   "outputs": [
    {
     "data": {
      "text/plain": [
       "'    hi'"
      ]
     },
     "execution_count": 73,
     "metadata": {},
     "output_type": "execute_result"
    }
   ],
   "source": [
    "a=\"    hi    \"\n",
    "a.rstrip()"
   ]
  },
  {
   "cell_type": "markdown",
   "id": "16f51188",
   "metadata": {},
   "source": [
    "### 양쪽 공백 지우기: a.strip()"
   ]
  },
  {
   "cell_type": "code",
   "execution_count": 74,
   "id": "c7cb30b0",
   "metadata": {
    "ExecuteTime": {
     "end_time": "2023-11-24T01:42:36.221976Z",
     "start_time": "2023-11-24T01:42:36.214959Z"
    }
   },
   "outputs": [
    {
     "data": {
      "text/plain": [
       "'hi'"
      ]
     },
     "execution_count": 74,
     "metadata": {},
     "output_type": "execute_result"
    }
   ],
   "source": [
    "a=\"    hi    \"\n",
    "a.strip()"
   ]
  },
  {
   "cell_type": "markdown",
   "id": "33b7bdca",
   "metadata": {},
   "source": [
    "### 문자열 바꾸기: a.replace(전, 후)"
   ]
  },
  {
   "cell_type": "code",
   "execution_count": 81,
   "id": "7f59949e",
   "metadata": {
    "ExecuteTime": {
     "end_time": "2023-11-25T08:20:30.327789Z",
     "start_time": "2023-11-25T08:20:30.319846Z"
    }
   },
   "outputs": [
    {
     "data": {
      "text/plain": [
       "'your leg is too short'"
      ]
     },
     "execution_count": 81,
     "metadata": {},
     "output_type": "execute_result"
    }
   ],
   "source": [
    "a = \"Life is too short\"\n",
    "a.replace(\"Life\", \"your leg\")"
   ]
  },
  {
   "cell_type": "markdown",
   "id": "8150895b",
   "metadata": {},
   "source": [
    "### 문자열 나누기: a.split()"
   ]
  },
  {
   "cell_type": "code",
   "execution_count": 82,
   "id": "192fc105",
   "metadata": {
    "ExecuteTime": {
     "end_time": "2023-11-25T08:24:12.548278Z",
     "start_time": "2023-11-25T08:24:12.539999Z"
    },
    "scrolled": true
   },
   "outputs": [
    {
     "data": {
      "text/plain": [
       "['Life', 'is', 'too', 'short']"
      ]
     },
     "execution_count": 82,
     "metadata": {},
     "output_type": "execute_result"
    }
   ],
   "source": [
    "# 기준: 공백\n",
    "a = \"Life is too short\"\n",
    "a.split()"
   ]
  },
  {
   "cell_type": "code",
   "execution_count": 85,
   "id": "ba6327d8",
   "metadata": {
    "ExecuteTime": {
     "end_time": "2023-11-25T08:26:04.034826Z",
     "start_time": "2023-11-25T08:26:04.028194Z"
    }
   },
   "outputs": [
    {
     "data": {
      "text/plain": [
       "['a', 'b', 'c', 'd']"
      ]
     },
     "execution_count": 85,
     "metadata": {},
     "output_type": "execute_result"
    }
   ],
   "source": [
    "# 기준: \":\"\n",
    "b = \"a:b:c:d\"\n",
    "b.split(\":\")"
   ]
  },
  {
   "cell_type": "markdown",
   "id": "ead6b9d3",
   "metadata": {},
   "source": [
    "### 문자열 합치기: ' '.join()"
   ]
  },
  {
   "cell_type": "code",
   "execution_count": 82,
   "id": "cba984e1",
   "metadata": {
    "ExecuteTime": {
     "end_time": "2023-11-24T01:49:18.165936Z",
     "start_time": "2023-11-24T01:49:18.158427Z"
    },
    "scrolled": true
   },
   "outputs": [
    {
     "data": {
      "text/plain": [
       "'life is too short'"
      ]
     },
     "execution_count": 82,
     "metadata": {},
     "output_type": "execute_result"
    }
   ],
   "source": [
    "' '.join(a1)"
   ]
  },
  {
   "cell_type": "markdown",
   "id": "cd592199",
   "metadata": {},
   "source": [
    "# 리스트 자료형: []\n",
    "리스트명 = [요소1, 요소2, 요소3, ...]"
   ]
  },
  {
   "cell_type": "code",
   "execution_count": 85,
   "id": "f64e667f",
   "metadata": {
    "ExecuteTime": {
     "end_time": "2023-11-24T02:03:08.181415Z",
     "start_time": "2023-11-24T02:03:08.172287Z"
    },
    "scrolled": true
   },
   "outputs": [
    {
     "data": {
      "text/plain": [
       "[1, 3, 5, 7, 9]"
      ]
     },
     "execution_count": 85,
     "metadata": {},
     "output_type": "execute_result"
    }
   ],
   "source": [
    "odd=[1, 3, 5, 7, 9]\n",
    "odd"
   ]
  },
  {
   "cell_type": "markdown",
   "id": "56529dcb",
   "metadata": {},
   "source": [
    "## 리스트 기본값"
   ]
  },
  {
   "cell_type": "code",
   "execution_count": 87,
   "id": "d2fb955e",
   "metadata": {
    "ExecuteTime": {
     "end_time": "2023-11-25T14:53:09.955636Z",
     "start_time": "2023-11-25T14:53:09.945362Z"
    }
   },
   "outputs": [
    {
     "name": "stdout",
     "output_type": "stream",
     "text": [
      "[] [1, 2, 3] ['Life', 'is', 'too', 'short'] [1, 2, 'Life', 'is'] [1, 2, ['life', 'is']]\n",
      "<class 'list'> <class 'list'> <class 'list'> <class 'list'> <class 'list'>\n"
     ]
    }
   ],
   "source": [
    "a = []\n",
    "b = [1, 2, 3]\n",
    "c = ['Life', 'is', 'too', 'short']\n",
    "d = [1, 2, 'Life', 'is']\n",
    "e = [1, 2, ['life', 'is']]\n",
    "print(a, b, c, d, e)\n",
    "print(type(a), type(b), type(c), type(d), type(e))"
   ]
  },
  {
   "cell_type": "code",
   "execution_count": 88,
   "id": "da18b24a",
   "metadata": {
    "ExecuteTime": {
     "end_time": "2023-11-24T02:06:03.479097Z",
     "start_time": "2023-11-24T02:06:03.471072Z"
    }
   },
   "outputs": [
    {
     "data": {
      "text/plain": [
       "(4, 3)"
      ]
     },
     "execution_count": 88,
     "metadata": {},
     "output_type": "execute_result"
    }
   ],
   "source": [
    "len(d), len(e)"
   ]
  },
  {
   "cell_type": "markdown",
   "id": "d1cb6212",
   "metadata": {},
   "source": [
    "## 리스트의 인덱싱과 슬라이싱\n",
    "### 인덱싱"
   ]
  },
  {
   "cell_type": "code",
   "execution_count": 88,
   "id": "0487521d",
   "metadata": {
    "ExecuteTime": {
     "end_time": "2023-11-25T15:07:20.432386Z",
     "start_time": "2023-11-25T15:07:20.418301Z"
    }
   },
   "outputs": [
    {
     "data": {
      "text/plain": [
       "[1, 2, 3]"
      ]
     },
     "execution_count": 88,
     "metadata": {},
     "output_type": "execute_result"
    }
   ],
   "source": [
    "a = [1, 2, 3]\n",
    "a"
   ]
  },
  {
   "cell_type": "code",
   "execution_count": 89,
   "id": "9bcc9744",
   "metadata": {
    "ExecuteTime": {
     "end_time": "2023-11-25T15:07:36.411691Z",
     "start_time": "2023-11-25T15:07:36.400668Z"
    }
   },
   "outputs": [
    {
     "data": {
      "text/plain": [
       "1"
      ]
     },
     "execution_count": 89,
     "metadata": {},
     "output_type": "execute_result"
    }
   ],
   "source": [
    "a[0]"
   ]
  },
  {
   "cell_type": "code",
   "execution_count": 90,
   "id": "6a6699a1",
   "metadata": {
    "ExecuteTime": {
     "end_time": "2023-11-25T15:07:52.739672Z",
     "start_time": "2023-11-25T15:07:52.727212Z"
    }
   },
   "outputs": [
    {
     "data": {
      "text/plain": [
       "int"
      ]
     },
     "execution_count": 90,
     "metadata": {},
     "output_type": "execute_result"
    }
   ],
   "source": [
    "type(a[0])"
   ]
  },
  {
   "cell_type": "code",
   "execution_count": 91,
   "id": "f755cf0b",
   "metadata": {
    "ExecuteTime": {
     "end_time": "2023-11-25T15:08:36.056679Z",
     "start_time": "2023-11-25T15:08:36.047618Z"
    }
   },
   "outputs": [
    {
     "data": {
      "text/plain": [
       "3"
      ]
     },
     "execution_count": 91,
     "metadata": {},
     "output_type": "execute_result"
    }
   ],
   "source": [
    "a[0] * a[2]"
   ]
  },
  {
   "cell_type": "code",
   "execution_count": 92,
   "id": "d72a96d0",
   "metadata": {
    "ExecuteTime": {
     "end_time": "2023-11-25T15:08:55.978970Z",
     "start_time": "2023-11-25T15:08:55.967874Z"
    }
   },
   "outputs": [
    {
     "data": {
      "text/plain": [
       "3"
      ]
     },
     "execution_count": 92,
     "metadata": {},
     "output_type": "execute_result"
    }
   ],
   "source": [
    "a[-1]"
   ]
  },
  {
   "cell_type": "code",
   "execution_count": 93,
   "id": "96a8d9e4",
   "metadata": {
    "ExecuteTime": {
     "end_time": "2023-11-25T15:09:31.205051Z",
     "start_time": "2023-11-25T15:09:31.196967Z"
    }
   },
   "outputs": [
    {
     "data": {
      "text/plain": [
       "1"
      ]
     },
     "execution_count": 93,
     "metadata": {},
     "output_type": "execute_result"
    }
   ],
   "source": [
    "b = [1, 2, 3, ['a', 'b', 'c']]\n",
    "b[0]"
   ]
  },
  {
   "cell_type": "code",
   "execution_count": 94,
   "id": "b24d34f0",
   "metadata": {
    "ExecuteTime": {
     "end_time": "2023-11-25T15:09:40.271054Z",
     "start_time": "2023-11-25T15:09:40.262822Z"
    }
   },
   "outputs": [
    {
     "data": {
      "text/plain": [
       "['a', 'b', 'c']"
      ]
     },
     "execution_count": 94,
     "metadata": {},
     "output_type": "execute_result"
    }
   ],
   "source": [
    "b[-1]"
   ]
  },
  {
   "cell_type": "code",
   "execution_count": 95,
   "id": "e8523001",
   "metadata": {
    "ExecuteTime": {
     "end_time": "2023-11-25T15:09:56.921930Z",
     "start_time": "2023-11-25T15:09:56.914000Z"
    }
   },
   "outputs": [
    {
     "data": {
      "text/plain": [
       "'a'"
      ]
     },
     "execution_count": 95,
     "metadata": {},
     "output_type": "execute_result"
    }
   ],
   "source": [
    "# 3 리스트의 0번째\n",
    "b[3][0]"
   ]
  },
  {
   "cell_type": "code",
   "execution_count": 97,
   "id": "b570b5e1",
   "metadata": {
    "ExecuteTime": {
     "end_time": "2023-11-25T15:11:10.403963Z",
     "start_time": "2023-11-25T15:11:10.396338Z"
    }
   },
   "outputs": [
    {
     "data": {
      "text/plain": [
       "'b'"
      ]
     },
     "execution_count": 97,
     "metadata": {},
     "output_type": "execute_result"
    }
   ],
   "source": [
    "# -1 리스트의 1번째\n",
    "b[-1][1]"
   ]
  },
  {
   "cell_type": "markdown",
   "id": "75b32b48",
   "metadata": {},
   "source": [
    "### 삼중 리스트에서 인덱싱하기"
   ]
  },
  {
   "cell_type": "code",
   "execution_count": 98,
   "id": "4f881d9e",
   "metadata": {
    "ExecuteTime": {
     "end_time": "2023-11-25T15:11:48.621058Z",
     "start_time": "2023-11-25T15:11:48.613323Z"
    }
   },
   "outputs": [
    {
     "data": {
      "text/plain": [
       "[1, 2, ['a', 'b', ['Life', 'is']]]"
      ]
     },
     "execution_count": 98,
     "metadata": {},
     "output_type": "execute_result"
    }
   ],
   "source": [
    "c = [1, 2, ['a', 'b', ['Life', 'is']]]\n",
    "c"
   ]
  },
  {
   "cell_type": "code",
   "execution_count": 100,
   "id": "42367429",
   "metadata": {
    "ExecuteTime": {
     "end_time": "2023-11-25T15:13:05.661967Z",
     "start_time": "2023-11-25T15:13:05.655048Z"
    }
   },
   "outputs": [
    {
     "data": {
      "text/plain": [
       "'Life'"
      ]
     },
     "execution_count": 100,
     "metadata": {},
     "output_type": "execute_result"
    }
   ],
   "source": [
    "# 2번 리스트 안의 2번 리스트의 0번\n",
    "c[2][2][0]"
   ]
  },
  {
   "cell_type": "code",
   "execution_count": 101,
   "id": "97efa1d4",
   "metadata": {
    "ExecuteTime": {
     "end_time": "2023-11-25T15:13:24.183493Z",
     "start_time": "2023-11-25T15:13:24.175202Z"
    },
    "scrolled": true
   },
   "outputs": [
    {
     "data": {
      "text/plain": [
       "'Life'"
      ]
     },
     "execution_count": 101,
     "metadata": {},
     "output_type": "execute_result"
    }
   ],
   "source": [
    "c[-1][-1][0]"
   ]
  },
  {
   "cell_type": "markdown",
   "id": "ccd913c5",
   "metadata": {},
   "source": [
    "### 리스트의 슬라이싱"
   ]
  },
  {
   "cell_type": "code",
   "execution_count": 102,
   "id": "30189241",
   "metadata": {
    "ExecuteTime": {
     "end_time": "2023-11-25T15:13:59.596253Z",
     "start_time": "2023-11-25T15:13:59.588438Z"
    }
   },
   "outputs": [
    {
     "data": {
      "text/plain": [
       "[1, 2]"
      ]
     },
     "execution_count": 102,
     "metadata": {},
     "output_type": "execute_result"
    }
   ],
   "source": [
    "a = [1, 2, 3, 4, 5]\n",
    "a[0:2]"
   ]
  },
  {
   "cell_type": "code",
   "execution_count": 103,
   "id": "e3cd42c1",
   "metadata": {
    "ExecuteTime": {
     "end_time": "2023-11-25T15:14:19.538891Z",
     "start_time": "2023-11-25T15:14:19.526398Z"
    }
   },
   "outputs": [
    {
     "data": {
      "text/plain": [
       "'12'"
      ]
     },
     "execution_count": 103,
     "metadata": {},
     "output_type": "execute_result"
    }
   ],
   "source": [
    "a = \"12345\"\n",
    "a[0:2]"
   ]
  },
  {
   "cell_type": "code",
   "execution_count": 104,
   "id": "ea40e93d",
   "metadata": {
    "ExecuteTime": {
     "end_time": "2023-11-25T15:14:54.082438Z",
     "start_time": "2023-11-25T15:14:54.075413Z"
    }
   },
   "outputs": [
    {
     "name": "stdout",
     "output_type": "stream",
     "text": [
      "[1, 2] [3, 4, 5]\n"
     ]
    }
   ],
   "source": [
    "a = [1, 2, 3, 4, 5]\n",
    "b = a[:2]\n",
    "c = a[2:]\n",
    "print(b, c)"
   ]
  },
  {
   "cell_type": "markdown",
   "id": "4aaa39e1",
   "metadata": {},
   "source": [
    "### 중첩된 리스트에서 슬라이싱하기"
   ]
  },
  {
   "cell_type": "code",
   "execution_count": 105,
   "id": "484fe0e1",
   "metadata": {
    "ExecuteTime": {
     "end_time": "2023-11-25T15:15:21.786593Z",
     "start_time": "2023-11-25T15:15:21.778490Z"
    }
   },
   "outputs": [
    {
     "data": {
      "text/plain": [
       "[3, ['a', 'b', 'c'], 4]"
      ]
     },
     "execution_count": 105,
     "metadata": {},
     "output_type": "execute_result"
    }
   ],
   "source": [
    "a = [1, 2 ,3, ['a', 'b', 'c'], 4, 5]\n",
    "a[2:5]"
   ]
  },
  {
   "cell_type": "code",
   "execution_count": 107,
   "id": "8b082d4f",
   "metadata": {
    "ExecuteTime": {
     "end_time": "2023-11-25T15:16:09.206666Z",
     "start_time": "2023-11-25T15:16:09.199239Z"
    }
   },
   "outputs": [
    {
     "data": {
      "text/plain": [
       "['a', 'b']"
      ]
     },
     "execution_count": 107,
     "metadata": {},
     "output_type": "execute_result"
    }
   ],
   "source": [
    "# 3번 리스트의 0부터 1까지\n",
    "\n",
    "a[3][:2]"
   ]
  },
  {
   "cell_type": "markdown",
   "id": "f8e4c5b8",
   "metadata": {},
   "source": [
    "## 리스트 연산하기\n",
    "### 리스트 더하기: +"
   ]
  },
  {
   "cell_type": "code",
   "execution_count": 108,
   "id": "0a837b0d",
   "metadata": {
    "ExecuteTime": {
     "end_time": "2023-11-25T15:18:38.379441Z",
     "start_time": "2023-11-25T15:18:38.365681Z"
    }
   },
   "outputs": [
    {
     "data": {
      "text/plain": [
       "[1, 2, 3, 4, 5, 6]"
      ]
     },
     "execution_count": 108,
     "metadata": {},
     "output_type": "execute_result"
    }
   ],
   "source": [
    "a = [1, 2, 3]\n",
    "b = [4, 5, 6]\n",
    "a + b"
   ]
  },
  {
   "cell_type": "markdown",
   "id": "0d00bab2",
   "metadata": {},
   "source": [
    "### 리스트 반복하기: *"
   ]
  },
  {
   "cell_type": "code",
   "execution_count": 109,
   "id": "5138c928",
   "metadata": {
    "ExecuteTime": {
     "end_time": "2023-11-25T15:19:47.256794Z",
     "start_time": "2023-11-25T15:19:47.248420Z"
    }
   },
   "outputs": [
    {
     "data": {
      "text/plain": [
       "[1, 2, 3, 1, 2, 3, 1, 2, 3]"
      ]
     },
     "execution_count": 109,
     "metadata": {},
     "output_type": "execute_result"
    }
   ],
   "source": [
    "a * 3"
   ]
  },
  {
   "cell_type": "markdown",
   "id": "8cb2ed5a",
   "metadata": {},
   "source": [
    "### 리스트 길이 구하기: len(리)"
   ]
  },
  {
   "cell_type": "code",
   "execution_count": 110,
   "id": "7c2e25a4",
   "metadata": {
    "ExecuteTime": {
     "end_time": "2023-11-25T15:20:16.005808Z",
     "start_time": "2023-11-25T15:20:15.998430Z"
    }
   },
   "outputs": [
    {
     "data": {
      "text/plain": [
       "3"
      ]
     },
     "execution_count": 110,
     "metadata": {},
     "output_type": "execute_result"
    }
   ],
   "source": [
    "len(a)"
   ]
  },
  {
   "cell_type": "markdown",
   "id": "0ce5e1d9",
   "metadata": {},
   "source": [
    "### 리스트 합 구하기: sum(리)"
   ]
  },
  {
   "cell_type": "code",
   "execution_count": null,
   "id": "93a065bd",
   "metadata": {},
   "outputs": [],
   "source": [
    "nums = [1, 2, 3, 4, 5]\n",
    "print(sum(nums))"
   ]
  },
  {
   "cell_type": "markdown",
   "id": "4a695e26",
   "metadata": {},
   "source": [
    "## 리스트의 수정과 삭제\n",
    "### 리스트의 값 수정하기"
   ]
  },
  {
   "cell_type": "code",
   "execution_count": null,
   "id": "021ce995",
   "metadata": {},
   "outputs": [],
   "source": [
    "a = [1, 2, 3]\n",
    "a[2] = 4\n",
    "a"
   ]
  },
  {
   "cell_type": "markdown",
   "id": "1f8321ef",
   "metadata": {},
   "source": [
    "### 리스트 요소 삭제하기: del"
   ]
  },
  {
   "cell_type": "code",
   "execution_count": 111,
   "id": "c33de0b1",
   "metadata": {
    "ExecuteTime": {
     "end_time": "2023-11-25T15:24:11.142515Z",
     "start_time": "2023-11-25T15:24:11.133797Z"
    },
    "scrolled": true
   },
   "outputs": [
    {
     "data": {
      "text/plain": [
       "[1, 3]"
      ]
     },
     "execution_count": 111,
     "metadata": {},
     "output_type": "execute_result"
    }
   ],
   "source": [
    "a = [1, 2, 3]\n",
    "del a[1]\n",
    "a"
   ]
  },
  {
   "cell_type": "code",
   "execution_count": 112,
   "id": "30647718",
   "metadata": {
    "ExecuteTime": {
     "end_time": "2023-11-25T15:24:29.939990Z",
     "start_time": "2023-11-25T15:24:29.930326Z"
    }
   },
   "outputs": [
    {
     "data": {
      "text/plain": [
       "[1, 2]"
      ]
     },
     "execution_count": 112,
     "metadata": {},
     "output_type": "execute_result"
    }
   ],
   "source": [
    "a = [1, 2, 3, 4, 5]\n",
    "del a[2:]\n",
    "a"
   ]
  },
  {
   "cell_type": "code",
   "execution_count": 6,
   "id": "1c3d8841",
   "metadata": {
    "ExecuteTime": {
     "end_time": "2023-12-03T10:30:41.375882Z",
     "start_time": "2023-12-03T10:30:41.371126Z"
    }
   },
   "outputs": [
    {
     "name": "stdout",
     "output_type": "stream",
     "text": [
      "['닥터 스트레인지', '슈퍼맨']\n"
     ]
    }
   ],
   "source": [
    "# 여러개 삭제하기\n",
    "\n",
    "movie_rank = ['닥터 스트레인지', '슈퍼맨', '스플릿', '배트맨']\n",
    "del movie_rank[2]\n",
    "del movie_rank[2]\n",
    "print(movie_rank)"
   ]
  },
  {
   "cell_type": "markdown",
   "id": "d17074a3",
   "metadata": {},
   "source": [
    "## 리스트 관련 함수\n",
    "### 리스트에 요소 추가하기: a.append()"
   ]
  },
  {
   "cell_type": "code",
   "execution_count": 115,
   "id": "9c25bed3",
   "metadata": {
    "ExecuteTime": {
     "end_time": "2023-11-25T15:26:31.324602Z",
     "start_time": "2023-11-25T15:26:31.315673Z"
    }
   },
   "outputs": [
    {
     "data": {
      "text/plain": [
       "[1, 2, 3, 4]"
      ]
     },
     "execution_count": 115,
     "metadata": {},
     "output_type": "execute_result"
    }
   ],
   "source": [
    "a = [1, 2, 3]\n",
    "a.append(4)\n",
    "a"
   ]
  },
  {
   "cell_type": "code",
   "execution_count": 116,
   "id": "c8fa9a24",
   "metadata": {
    "ExecuteTime": {
     "end_time": "2023-11-25T15:26:35.470630Z",
     "start_time": "2023-11-25T15:26:35.463891Z"
    }
   },
   "outputs": [
    {
     "data": {
      "text/plain": [
       "[1, 2, 3, 4, [5, 6]]"
      ]
     },
     "execution_count": 116,
     "metadata": {},
     "output_type": "execute_result"
    }
   ],
   "source": [
    "a.append([5, 6])\n",
    "a"
   ]
  },
  {
   "cell_type": "markdown",
   "id": "c414fd12",
   "metadata": {},
   "source": [
    "### 리스트 정렬: a.sort()"
   ]
  },
  {
   "cell_type": "code",
   "execution_count": 117,
   "id": "c218a52c",
   "metadata": {
    "ExecuteTime": {
     "end_time": "2023-11-25T15:27:28.740502Z",
     "start_time": "2023-11-25T15:27:28.732097Z"
    }
   },
   "outputs": [
    {
     "data": {
      "text/plain": [
       "[1, 2, 3, 4]"
      ]
     },
     "execution_count": 117,
     "metadata": {},
     "output_type": "execute_result"
    }
   ],
   "source": [
    "a = [1, 4, 3, 2]\n",
    "a.sort()\n",
    "a"
   ]
  },
  {
   "cell_type": "code",
   "execution_count": 118,
   "id": "64373449",
   "metadata": {
    "ExecuteTime": {
     "end_time": "2023-11-25T15:27:40.581101Z",
     "start_time": "2023-11-25T15:27:40.571912Z"
    }
   },
   "outputs": [
    {
     "data": {
      "text/plain": [
       "['a', 'b', 'c']"
      ]
     },
     "execution_count": 118,
     "metadata": {},
     "output_type": "execute_result"
    }
   ],
   "source": [
    "a = ['a', 'c', 'b']\n",
    "a.sort()\n",
    "a"
   ]
  },
  {
   "cell_type": "markdown",
   "id": "0d76a6d8",
   "metadata": {},
   "source": [
    "### 리스트 뒤집기: a.reverse()\n",
    "- 문자는 reverse가 없음. [::-1] 사용하기"
   ]
  },
  {
   "cell_type": "code",
   "execution_count": 119,
   "id": "2775e941",
   "metadata": {
    "ExecuteTime": {
     "end_time": "2023-11-25T15:28:14.938446Z",
     "start_time": "2023-11-25T15:28:14.929541Z"
    }
   },
   "outputs": [
    {
     "data": {
      "text/plain": [
       "['b', 'c', 'a']"
      ]
     },
     "execution_count": 119,
     "metadata": {},
     "output_type": "execute_result"
    }
   ],
   "source": [
    "a = ['a', 'c', 'b']\n",
    "a.reverse()\n",
    "a"
   ]
  },
  {
   "cell_type": "markdown",
   "id": "0ad817d2",
   "metadata": {},
   "source": [
    "### 인덱스 반환: a.index()"
   ]
  },
  {
   "cell_type": "code",
   "execution_count": 120,
   "id": "3d7d5ae6",
   "metadata": {
    "ExecuteTime": {
     "end_time": "2023-11-25T15:29:50.274253Z",
     "start_time": "2023-11-25T15:29:50.266496Z"
    }
   },
   "outputs": [
    {
     "data": {
      "text/plain": [
       "2"
      ]
     },
     "execution_count": 120,
     "metadata": {},
     "output_type": "execute_result"
    }
   ],
   "source": [
    "# index(x): 리스트에 x 값이 있으면 x의 위치값을 리턴\n",
    "a = [1, 2, 3]\n",
    "a.index(3)"
   ]
  },
  {
   "cell_type": "code",
   "execution_count": 122,
   "id": "3fefc594",
   "metadata": {
    "ExecuteTime": {
     "end_time": "2023-11-25T15:30:34.884444Z",
     "start_time": "2023-11-25T15:30:34.847456Z"
    }
   },
   "outputs": [
    {
     "ename": "ValueError",
     "evalue": "5 is not in list",
     "output_type": "error",
     "traceback": [
      "\u001b[1;31m---------------------------------------------------------------------------\u001b[0m",
      "\u001b[1;31mValueError\u001b[0m                                Traceback (most recent call last)",
      "Cell \u001b[1;32mIn[122], line 2\u001b[0m\n\u001b[0;32m      1\u001b[0m \u001b[38;5;66;03m# 없으면 오류가 발생함\u001b[39;00m\n\u001b[1;32m----> 2\u001b[0m a\u001b[38;5;241m.\u001b[39mindex(\u001b[38;5;241m5\u001b[39m)\n",
      "\u001b[1;31mValueError\u001b[0m: 5 is not in list"
     ]
    }
   ],
   "source": [
    "# 없으면 오류가 발생함\n",
    "a.index(5)"
   ]
  },
  {
   "cell_type": "markdown",
   "id": "1f0a887c",
   "metadata": {},
   "source": [
    "### 리스트에 요소 삽입: a.insert(위치, 입력값)"
   ]
  },
  {
   "cell_type": "code",
   "execution_count": 123,
   "id": "5c512d36",
   "metadata": {
    "ExecuteTime": {
     "end_time": "2023-11-25T15:32:01.035142Z",
     "start_time": "2023-11-25T15:32:01.027760Z"
    }
   },
   "outputs": [
    {
     "data": {
      "text/plain": [
       "[4, 1, 2, 3]"
      ]
     },
     "execution_count": 123,
     "metadata": {},
     "output_type": "execute_result"
    }
   ],
   "source": [
    "a = [1, 2, 3]\n",
    "a.insert(0, 4)\n",
    "a"
   ]
  },
  {
   "cell_type": "code",
   "execution_count": 124,
   "id": "42c4b4e8",
   "metadata": {
    "ExecuteTime": {
     "end_time": "2023-11-25T15:32:51.351627Z",
     "start_time": "2023-11-25T15:32:51.312406Z"
    }
   },
   "outputs": [
    {
     "ename": "TypeError",
     "evalue": "insert expected 2 arguments, got 1",
     "output_type": "error",
     "traceback": [
      "\u001b[1;31m---------------------------------------------------------------------------\u001b[0m",
      "\u001b[1;31mTypeError\u001b[0m                                 Traceback (most recent call last)",
      "Cell \u001b[1;32mIn[124], line 1\u001b[0m\n\u001b[1;32m----> 1\u001b[0m a\u001b[38;5;241m.\u001b[39minsert(\u001b[38;5;241m5\u001b[39m)\n\u001b[0;32m      2\u001b[0m a\n",
      "\u001b[1;31mTypeError\u001b[0m: insert expected 2 arguments, got 1"
     ]
    }
   ],
   "source": [
    "# 오류 발생함\n",
    "a.insert(5)\n",
    "a"
   ]
  },
  {
   "cell_type": "markdown",
   "id": "2b11a2df",
   "metadata": {},
   "source": [
    "### 리스트 요소 제거: a.remove()\n",
    "remove(x): 리스트에서 첫번째로 나오는 x를 삭제"
   ]
  },
  {
   "cell_type": "code",
   "execution_count": 125,
   "id": "8c2ffb00",
   "metadata": {
    "ExecuteTime": {
     "end_time": "2023-11-25T15:34:55.237785Z",
     "start_time": "2023-11-25T15:34:55.229929Z"
    }
   },
   "outputs": [
    {
     "data": {
      "text/plain": [
       "[1, 2, 1, 2, 3]"
      ]
     },
     "execution_count": 125,
     "metadata": {},
     "output_type": "execute_result"
    }
   ],
   "source": [
    "a = [1, 2, 3, 1, 2, 3]\n",
    "a.remove(3)\n",
    "a"
   ]
  },
  {
   "cell_type": "markdown",
   "id": "9e31ee65",
   "metadata": {},
   "source": [
    "### 요소 추출: a.pop(위치)\n",
    "del: 내장 함수. 요소 삭제 / pop: 리스트 객체 메서드. 해당 인덱스 요소를 출력하고, 삭제해줌"
   ]
  },
  {
   "cell_type": "code",
   "execution_count": 130,
   "id": "530da3a1",
   "metadata": {
    "ExecuteTime": {
     "end_time": "2023-11-25T15:37:37.470935Z",
     "start_time": "2023-11-25T15:37:37.462678Z"
    }
   },
   "outputs": [
    {
     "data": {
      "text/plain": [
       "3"
      ]
     },
     "execution_count": 130,
     "metadata": {},
     "output_type": "execute_result"
    }
   ],
   "source": [
    "# pop(): 리스트 맨 마지막 요소를 리턴하고 삭제\n",
    "\n",
    "a = [1, 2, 3]\n",
    "a.pop()"
   ]
  },
  {
   "cell_type": "code",
   "execution_count": 129,
   "id": "026c0d4e",
   "metadata": {
    "ExecuteTime": {
     "end_time": "2023-11-25T15:37:32.953679Z",
     "start_time": "2023-11-25T15:37:32.946001Z"
    }
   },
   "outputs": [
    {
     "data": {
      "text/plain": [
       "[1, 2]"
      ]
     },
     "execution_count": 129,
     "metadata": {},
     "output_type": "execute_result"
    }
   ],
   "source": [
    "a"
   ]
  },
  {
   "cell_type": "code",
   "execution_count": 134,
   "id": "53553e62",
   "metadata": {
    "ExecuteTime": {
     "end_time": "2023-11-25T15:50:23.157565Z",
     "start_time": "2023-11-25T15:50:23.147251Z"
    }
   },
   "outputs": [
    {
     "data": {
      "text/plain": [
       "2"
      ]
     },
     "execution_count": 134,
     "metadata": {},
     "output_type": "execute_result"
    }
   ],
   "source": [
    "# 1번째 요소 리턴하고 삭제\n",
    "\n",
    "a = [1, 2, 3]\n",
    "a.pop(1)"
   ]
  },
  {
   "cell_type": "markdown",
   "id": "8ecf19d8",
   "metadata": {},
   "source": [
    "### 리스트 확장: a.extend(리스트)"
   ]
  },
  {
   "cell_type": "code",
   "execution_count": 145,
   "id": "24bcf875",
   "metadata": {
    "ExecuteTime": {
     "end_time": "2023-11-25T15:53:54.182590Z",
     "start_time": "2023-11-25T15:53:54.174047Z"
    }
   },
   "outputs": [
    {
     "data": {
      "text/plain": [
       "[1, 2, 3, 4, 5]"
      ]
     },
     "execution_count": 145,
     "metadata": {},
     "output_type": "execute_result"
    }
   ],
   "source": [
    "a = [1, 2, 3]\n",
    "a.extend([4, 5])\n",
    "a"
   ]
  },
  {
   "cell_type": "code",
   "execution_count": 146,
   "id": "76919bf5",
   "metadata": {
    "ExecuteTime": {
     "end_time": "2023-11-25T15:53:56.014541Z",
     "start_time": "2023-11-25T15:53:56.010240Z"
    }
   },
   "outputs": [],
   "source": [
    "b = [6, 7]\n",
    "a.extend(b)"
   ]
  },
  {
   "cell_type": "code",
   "execution_count": 147,
   "id": "47dc4874",
   "metadata": {
    "ExecuteTime": {
     "end_time": "2023-11-25T15:53:58.820451Z",
     "start_time": "2023-11-25T15:53:58.813037Z"
    }
   },
   "outputs": [
    {
     "data": {
      "text/plain": [
       "[1, 2, 3, 4, 5, 6, 7]"
      ]
     },
     "execution_count": 147,
     "metadata": {},
     "output_type": "execute_result"
    }
   ],
   "source": [
    "a"
   ]
  },
  {
   "cell_type": "code",
   "execution_count": 148,
   "id": "495fd4b5",
   "metadata": {
    "ExecuteTime": {
     "end_time": "2023-11-25T15:54:00.850604Z",
     "start_time": "2023-11-25T15:54:00.842295Z"
    }
   },
   "outputs": [
    {
     "data": {
      "text/plain": [
       "[1, 2, 3, 4, 5, 6, 7, 4, 5]"
      ]
     },
     "execution_count": 148,
     "metadata": {},
     "output_type": "execute_result"
    }
   ],
   "source": [
    "# a = a + [4, 5]를 줄인 것\n",
    "a += [4,5]\n",
    "a"
   ]
  },
  {
   "cell_type": "markdown",
   "id": "84cbfe3c",
   "metadata": {},
   "source": [
    "### 최댓값 구하기: max(리)"
   ]
  },
  {
   "cell_type": "code",
   "execution_count": 7,
   "id": "c5f9f188",
   "metadata": {
    "ExecuteTime": {
     "end_time": "2023-12-03T10:35:32.590624Z",
     "start_time": "2023-12-03T10:35:32.585638Z"
    }
   },
   "outputs": [
    {
     "name": "stdout",
     "output_type": "stream",
     "text": [
      "max:  7\n"
     ]
    }
   ],
   "source": [
    "nums = [1, 2, 3, 4, 5, 6, 7]\n",
    "print('max: ', max(nums))"
   ]
  },
  {
   "cell_type": "markdown",
   "id": "4d386419",
   "metadata": {},
   "source": [
    "### 최솟값 구하기: max(리)"
   ]
  },
  {
   "cell_type": "code",
   "execution_count": 8,
   "id": "ec4d6557",
   "metadata": {
    "ExecuteTime": {
     "end_time": "2023-12-03T10:35:43.154287Z",
     "start_time": "2023-12-03T10:35:43.149279Z"
    }
   },
   "outputs": [
    {
     "name": "stdout",
     "output_type": "stream",
     "text": [
      "min:  1\n"
     ]
    }
   ],
   "source": [
    "nums = [1, 2, 3, 4, 5, 6, 7]\n",
    "print('min: ', min(nums))"
   ]
  },
  {
   "cell_type": "markdown",
   "id": "7f446c12",
   "metadata": {},
   "source": [
    "# 튜플: (), 요소 변경 불가 ->list로 변경 후 가능\n",
    "- vs 리스트: [], 요소 변경 가능\n",
    "## 튜플 기본형"
   ]
  },
  {
   "cell_type": "code",
   "execution_count": 149,
   "id": "f51c13bc",
   "metadata": {
    "ExecuteTime": {
     "end_time": "2023-11-25T16:04:18.066934Z",
     "start_time": "2023-11-25T16:04:18.007783Z"
    }
   },
   "outputs": [
    {
     "name": "stdout",
     "output_type": "stream",
     "text": [
      "() (1,) (1, 2, 3) (1, 2, 3) ('a', 'b', ('ab', 'cd'))\n",
      "<class 'tuple'> <class 'tuple'> <class 'tuple'> <class 'tuple'> <class 'tuple'>\n"
     ]
    }
   ],
   "source": [
    "t1 = () # 빈 객체만 만들어진겁니다.\n",
    "t2 = (1, ) # 한 개의 요소인 경우 , 필수\n",
    "t3 = (1, 2, 3)\n",
    "t4 = 1, 2, 3 # 소괄호 생략 가능\n",
    "t5 = ('a', 'b', ('ab', 'cd'))\n",
    "print(t1, t2, t3, t4, t5)\n",
    "print(type(t1), type(t2), type(t3), type(t4), type(t5))"
   ]
  },
  {
   "cell_type": "code",
   "execution_count": 150,
   "id": "4a1c0eba",
   "metadata": {
    "ExecuteTime": {
     "end_time": "2023-11-25T16:07:23.297757Z",
     "start_time": "2023-11-25T16:07:23.287575Z"
    }
   },
   "outputs": [
    {
     "data": {
      "text/plain": [
       "1"
      ]
     },
     "execution_count": 150,
     "metadata": {},
     "output_type": "execute_result"
    }
   ],
   "source": [
    "t6 = (1) # 값을 가지고 객체를 만드는 것\n",
    "t6"
   ]
  },
  {
   "cell_type": "code",
   "execution_count": 151,
   "id": "2844b729",
   "metadata": {
    "ExecuteTime": {
     "end_time": "2023-11-25T16:07:31.940405Z",
     "start_time": "2023-11-25T16:07:31.934568Z"
    },
    "scrolled": true
   },
   "outputs": [
    {
     "name": "stdout",
     "output_type": "stream",
     "text": [
      "1 <class 'int'>\n"
     ]
    }
   ],
   "source": [
    "print(t6, type(t6))"
   ]
  },
  {
   "cell_type": "markdown",
   "id": "acaea8f6",
   "metadata": {},
   "source": [
    "### 튜플은 수정 불가"
   ]
  },
  {
   "cell_type": "code",
   "execution_count": 152,
   "id": "21c15bff",
   "metadata": {
    "ExecuteTime": {
     "end_time": "2023-11-25T16:08:38.713871Z",
     "start_time": "2023-11-25T16:08:38.639128Z"
    }
   },
   "outputs": [
    {
     "ename": "TypeError",
     "evalue": "'tuple' object doesn't support item deletion",
     "output_type": "error",
     "traceback": [
      "\u001b[1;31m---------------------------------------------------------------------------\u001b[0m",
      "\u001b[1;31mTypeError\u001b[0m                                 Traceback (most recent call last)",
      "Cell \u001b[1;32mIn[152], line 2\u001b[0m\n\u001b[0;32m      1\u001b[0m t1 \u001b[38;5;241m=\u001b[39m (\u001b[38;5;241m1\u001b[39m, \u001b[38;5;241m2\u001b[39m, \u001b[38;5;124m'\u001b[39m\u001b[38;5;124ma\u001b[39m\u001b[38;5;124m'\u001b[39m, \u001b[38;5;124m'\u001b[39m\u001b[38;5;124mb\u001b[39m\u001b[38;5;124m'\u001b[39m)\n\u001b[1;32m----> 2\u001b[0m \u001b[38;5;28;01mdel\u001b[39;00m t1[\u001b[38;5;241m0\u001b[39m]\n",
      "\u001b[1;31mTypeError\u001b[0m: 'tuple' object doesn't support item deletion"
     ]
    }
   ],
   "source": [
    "t1 = (1, 2, 'a', 'b')\n",
    "del t1[0]"
   ]
  },
  {
   "cell_type": "code",
   "execution_count": 153,
   "id": "0ae33931",
   "metadata": {
    "ExecuteTime": {
     "end_time": "2023-11-25T16:08:41.129376Z",
     "start_time": "2023-11-25T16:08:41.096525Z"
    }
   },
   "outputs": [
    {
     "ename": "TypeError",
     "evalue": "'tuple' object does not support item assignment",
     "output_type": "error",
     "traceback": [
      "\u001b[1;31m---------------------------------------------------------------------------\u001b[0m",
      "\u001b[1;31mTypeError\u001b[0m                                 Traceback (most recent call last)",
      "Cell \u001b[1;32mIn[153], line 2\u001b[0m\n\u001b[0;32m      1\u001b[0m t1 \u001b[38;5;241m=\u001b[39m (\u001b[38;5;241m1\u001b[39m, \u001b[38;5;241m2\u001b[39m, \u001b[38;5;124m'\u001b[39m\u001b[38;5;124ma\u001b[39m\u001b[38;5;124m'\u001b[39m, \u001b[38;5;124m'\u001b[39m\u001b[38;5;124mb\u001b[39m\u001b[38;5;124m'\u001b[39m)\n\u001b[1;32m----> 2\u001b[0m t1[\u001b[38;5;241m0\u001b[39m] \u001b[38;5;241m=\u001b[39m \u001b[38;5;124m'\u001b[39m\u001b[38;5;124mc\u001b[39m\u001b[38;5;124m'\u001b[39m\n",
      "\u001b[1;31mTypeError\u001b[0m: 'tuple' object does not support item assignment"
     ]
    }
   ],
   "source": [
    "t1 = (1, 2, 'a', 'b')\n",
    "t1[0] = 'c'"
   ]
  },
  {
   "cell_type": "markdown",
   "id": "2e95ade8",
   "metadata": {},
   "source": [
    "# 딕셔너리 자료형: {Key1: Value1, }\n",
    "- 사전처럼 key와 value를 한 쌍으로 가지는 자료형\n",
    "- 매핑타입. 키를 가지고 조회함\n",
    "- 리스트, 튜플(순서 有) vs 딕셔너리: key를 통해 조회, 집합(순서 無)"
   ]
  },
  {
   "cell_type": "markdown",
   "id": "a5928778",
   "metadata": {
    "ExecuteTime": {
     "end_time": "2023-11-29T07:38:55.618593Z",
     "start_time": "2023-11-29T07:38:55.574118Z"
    }
   },
   "source": [
    "## 기본형"
   ]
  },
  {
   "cell_type": "code",
   "execution_count": null,
   "id": "b447db71",
   "metadata": {},
   "outputs": [],
   "source": [
    "{Key1: Value1, Key2: Value2, Key3: Value3, ...}\n",
    "\n",
    "dic = {'name': 'pey', 'phone': '010-9999-1234', 'birth': '1118'}\n",
    "a = {1: 'hi'}\n",
    "a = {'a': [1, 2, 3]} #리스트도 가능"
   ]
  },
  {
   "cell_type": "markdown",
   "id": "9f209c6a",
   "metadata": {},
   "source": [
    "## 딕셔너리 쌍 추가, 삭제하기\n",
    "### 딕셔너리 쌍 추가하기: a[key] = 'value'"
   ]
  },
  {
   "cell_type": "code",
   "execution_count": 14,
   "id": "dab13f2a",
   "metadata": {
    "ExecuteTime": {
     "end_time": "2023-11-29T07:44:55.665263Z",
     "start_time": "2023-11-29T07:44:55.656012Z"
    }
   },
   "outputs": [
    {
     "data": {
      "text/plain": [
       "{1: 'a', 2: 'b'}"
      ]
     },
     "execution_count": 14,
     "metadata": {},
     "output_type": "execute_result"
    }
   ],
   "source": [
    "a = {1: 'a'}\n",
    "a[2] = 'b'\n",
    "a"
   ]
  },
  {
   "cell_type": "code",
   "execution_count": 15,
   "id": "39c90bf9",
   "metadata": {
    "ExecuteTime": {
     "end_time": "2023-11-29T07:45:00.392972Z",
     "start_time": "2023-11-29T07:45:00.385673Z"
    }
   },
   "outputs": [
    {
     "data": {
      "text/plain": [
       "{1: 'a', 2: 'b', 3: [1, 2, 3]}"
      ]
     },
     "execution_count": 15,
     "metadata": {},
     "output_type": "execute_result"
    }
   ],
   "source": [
    "#리스트 추가도 가능\n",
    "\n",
    "a[3] = [1, 2, 3]\n",
    "a"
   ]
  },
  {
   "cell_type": "markdown",
   "id": "9a6a9099",
   "metadata": {},
   "source": [
    "### 딕셔너리 요소 삭제하기: del 딕[key]"
   ]
  },
  {
   "cell_type": "code",
   "execution_count": 16,
   "id": "6c78fe0c",
   "metadata": {
    "ExecuteTime": {
     "end_time": "2023-11-29T07:45:04.340419Z",
     "start_time": "2023-11-29T07:45:04.331884Z"
    },
    "scrolled": true
   },
   "outputs": [
    {
     "data": {
      "text/plain": [
       "{2: 'b', 3: [1, 2, 3]}"
      ]
     },
     "execution_count": 16,
     "metadata": {},
     "output_type": "execute_result"
    }
   ],
   "source": [
    "del a[1]\n",
    "a"
   ]
  },
  {
   "cell_type": "markdown",
   "id": "494af6fd",
   "metadata": {},
   "source": [
    "### 딕셔너리 value 수정하기: 딕['key'] = '수정 value'"
   ]
  },
  {
   "cell_type": "code",
   "execution_count": 16,
   "id": "e8506229",
   "metadata": {
    "ExecuteTime": {
     "end_time": "2023-12-03T12:30:40.172079Z",
     "start_time": "2023-12-03T12:30:40.164323Z"
    }
   },
   "outputs": [
    {
     "name": "stdout",
     "output_type": "stream",
     "text": [
      "{'메로나': 1300, '폴로포': 1200, '빵빠레': 1800, '죠스바': 1200, '월드콘': 1500}\n"
     ]
    }
   ],
   "source": [
    "ice = {'메로나': 1000,\n",
    "       '폴로포': 1200,\n",
    "       '빵빠레': 1800,\n",
    "       '죠스바': 1200,\n",
    "       '월드콘': 1500}\n",
    "\n",
    "ice[\"메로나\"] = 1300\n",
    "print(ice)"
   ]
  },
  {
   "cell_type": "markdown",
   "id": "673dd9aa",
   "metadata": {},
   "source": [
    "### 여러개 값 넣기: 딕.update(수정할 딕)"
   ]
  },
  {
   "cell_type": "code",
   "execution_count": 18,
   "id": "f1d64cd7",
   "metadata": {
    "ExecuteTime": {
     "end_time": "2023-12-03T12:58:22.598770Z",
     "start_time": "2023-12-03T12:58:22.589112Z"
    }
   },
   "outputs": [
    {
     "name": "stdout",
     "output_type": "stream",
     "text": [
      "{'탱크보이': 1200, '폴라포': 1200, '빵빠레': 1800, '월드콘': 1500, '메로나': 1000, '팥빙수': 2700, '아맛나': 1000}\n"
     ]
    }
   ],
   "source": [
    "icecream = {'탱크보이': 1200, '폴라포': 1200, '빵빠레': 1800, '월드콘': 1500, '메로나': 1000}\n",
    "new_product = {'팥빙수':2700, '아맛나':1000}\n",
    "\n",
    "icecream.update(new_product)\n",
    "\n",
    "print(icecream)"
   ]
  },
  {
   "cell_type": "markdown",
   "id": "8a8ec01f",
   "metadata": {},
   "source": [
    "## 딕셔너리를 사용하는 방법\n",
    "### 딕셔너리 key를 사용해 value 얻기: 딕셔너리[key]"
   ]
  },
  {
   "cell_type": "code",
   "execution_count": 4,
   "id": "77608f1d",
   "metadata": {
    "ExecuteTime": {
     "end_time": "2023-11-27T01:32:57.834686Z",
     "start_time": "2023-11-27T01:32:57.818224Z"
    }
   },
   "outputs": [
    {
     "data": {
      "text/plain": [
       "10"
      ]
     },
     "execution_count": 4,
     "metadata": {},
     "output_type": "execute_result"
    }
   ],
   "source": [
    "grade = {'pey': 10, 'julliet': 99}\n",
    "grade['pey']"
   ]
  },
  {
   "cell_type": "code",
   "execution_count": 5,
   "id": "d519bd9d",
   "metadata": {
    "ExecuteTime": {
     "end_time": "2023-11-27T01:32:59.632533Z",
     "start_time": "2023-11-27T01:32:59.613382Z"
    }
   },
   "outputs": [
    {
     "data": {
      "text/plain": [
       "99"
      ]
     },
     "execution_count": 5,
     "metadata": {},
     "output_type": "execute_result"
    }
   ],
   "source": [
    "grade['julliet']"
   ]
  },
  {
   "cell_type": "code",
   "execution_count": null,
   "id": "eeeb7ef9",
   "metadata": {},
   "outputs": [],
   "source": [
    "#딕셔너리는 인덱싱 불가\n",
    "a = {1:'a', 2:'b'}\n",
    "a[1] # key를 의미할 뿐, 순서 의미X"
   ]
  },
  {
   "cell_type": "markdown",
   "id": "6949e54c",
   "metadata": {},
   "source": [
    "### 리스트의 value 얻기"
   ]
  },
  {
   "cell_type": "code",
   "execution_count": null,
   "id": "e4142725",
   "metadata": {},
   "outputs": [],
   "source": [
    "inventory = {\"메로나\": [300, 20],\n",
    "              \"비비빅\": [400, 3],\n",
    "              \"죠스바\": [250, 100]}\n",
    "\n",
    "print(inventory['메로나'][0], '원')"
   ]
  },
  {
   "cell_type": "markdown",
   "id": "a3b4b62d",
   "metadata": {},
   "source": [
    "### 두개의 튜플을 하나의 딕셔너리로 만들기: dict(zip(, ))"
   ]
  },
  {
   "cell_type": "code",
   "execution_count": null,
   "id": "27fc1ec7",
   "metadata": {},
   "outputs": [],
   "source": [
    "keys = (\"apple\", \"pear\", \"peach\")\n",
    "vals = (300, 250, 400)\n",
    "print(dict(zip(keys, vals)))"
   ]
  },
  {
   "cell_type": "markdown",
   "id": "6c8ac233",
   "metadata": {},
   "source": [
    "### 딕셔너리 만들 때 주의할 사항\n",
    "- key: 중복 불가\n",
    "- key: 리스트(수정가능)X, 튜플(수정불가)O\n",
    "- value:모두 가능"
   ]
  },
  {
   "cell_type": "code",
   "execution_count": 18,
   "id": "393f2cf8",
   "metadata": {
    "ExecuteTime": {
     "end_time": "2023-11-29T07:53:20.395267Z",
     "start_time": "2023-11-29T07:53:20.385873Z"
    }
   },
   "outputs": [
    {
     "data": {
      "text/plain": [
       "{1: 'b'}"
      ]
     },
     "execution_count": 18,
     "metadata": {},
     "output_type": "execute_result"
    }
   ],
   "source": [
    "a = {1:'a', 1:'b'}\n",
    "a"
   ]
  },
  {
   "cell_type": "code",
   "execution_count": 20,
   "id": "1837e1d5",
   "metadata": {
    "ExecuteTime": {
     "end_time": "2023-11-29T07:55:43.004022Z",
     "start_time": "2023-11-29T07:55:42.995240Z"
    },
    "scrolled": true
   },
   "outputs": [
    {
     "ename": "SyntaxError",
     "evalue": "invalid syntax. Perhaps you forgot a comma? (2128010176.py, line 2)",
     "output_type": "error",
     "traceback": [
      "\u001b[1;36m  Cell \u001b[1;32mIn[20], line 2\u001b[1;36m\u001b[0m\n\u001b[1;33m    Traceback (most recent call last):\u001b[0m\n\u001b[1;37m               ^\u001b[0m\n\u001b[1;31mSyntaxError\u001b[0m\u001b[1;31m:\u001b[0m invalid syntax. Perhaps you forgot a comma?\n"
     ]
    }
   ],
   "source": [
    "a = {[1,2] : 'hi'}\n",
    "Traceback (most recent call last):\n",
    "  File \"<stdin>\", line 1, in <module>"
   ]
  },
  {
   "cell_type": "markdown",
   "id": "4143d7fd",
   "metadata": {},
   "source": [
    "## 딕셔너리 관련 함수\n",
    "### Key 리스트 만들기: 딕셔너리.keys()"
   ]
  },
  {
   "cell_type": "code",
   "execution_count": 21,
   "id": "698fb7eb",
   "metadata": {
    "ExecuteTime": {
     "end_time": "2023-11-29T08:01:57.386632Z",
     "start_time": "2023-11-29T08:01:57.377769Z"
    }
   },
   "outputs": [
    {
     "data": {
      "text/plain": [
       "dict_keys(['name', 'phone', 'birth'])"
      ]
     },
     "execution_count": 21,
     "metadata": {},
     "output_type": "execute_result"
    }
   ],
   "source": [
    "a = {'name': 'pey', 'phone': '010-9999-1234', 'birth': '1118'}\n",
    "a.keys()"
   ]
  },
  {
   "cell_type": "markdown",
   "id": "cad832e9",
   "metadata": {},
   "source": [
    "### Value 리스트 만들기: 딕셔너리.values()"
   ]
  },
  {
   "cell_type": "code",
   "execution_count": 22,
   "id": "1897fd3e",
   "metadata": {
    "ExecuteTime": {
     "end_time": "2023-11-29T08:04:25.118992Z",
     "start_time": "2023-11-29T08:04:25.110224Z"
    }
   },
   "outputs": [
    {
     "data": {
      "text/plain": [
       "dict_values(['pey', '010-9999-1234', '1118'])"
      ]
     },
     "execution_count": 22,
     "metadata": {},
     "output_type": "execute_result"
    }
   ],
   "source": [
    "a.values()"
   ]
  },
  {
   "cell_type": "markdown",
   "id": "ccb0e342",
   "metadata": {},
   "source": [
    "### Key, Value 쌍 얻기: 딕셔너리.items()"
   ]
  },
  {
   "cell_type": "code",
   "execution_count": 23,
   "id": "a866279b",
   "metadata": {
    "ExecuteTime": {
     "end_time": "2023-11-29T08:04:56.056772Z",
     "start_time": "2023-11-29T08:04:56.044348Z"
    }
   },
   "outputs": [
    {
     "data": {
      "text/plain": [
       "dict_items([('name', 'pey'), ('phone', '010-9999-1234'), ('birth', '1118')])"
      ]
     },
     "execution_count": 23,
     "metadata": {},
     "output_type": "execute_result"
    }
   ],
   "source": [
    "a.items()"
   ]
  },
  {
   "cell_type": "markdown",
   "id": "746a84f3",
   "metadata": {},
   "source": [
    "### Key: Value 쌍 모두 지우기: 딕셔너리.clear()"
   ]
  },
  {
   "cell_type": "code",
   "execution_count": 25,
   "id": "d9a25c0f",
   "metadata": {
    "ExecuteTime": {
     "end_time": "2023-11-29T08:05:33.444840Z",
     "start_time": "2023-11-29T08:05:33.436845Z"
    }
   },
   "outputs": [
    {
     "data": {
      "text/plain": [
       "{}"
      ]
     },
     "execution_count": 25,
     "metadata": {},
     "output_type": "execute_result"
    }
   ],
   "source": [
    "a.clear()\n",
    "a"
   ]
  },
  {
   "cell_type": "markdown",
   "id": "5dad27dd",
   "metadata": {},
   "source": [
    "### Key로 Value 얻기: 딕.get(key) = 딕(key)\n",
    "- 딕.get(key): 없는 key 사용 > none(거짓)\n",
    "- 딕(key): 없는 key 사용 > 에러"
   ]
  },
  {
   "cell_type": "code",
   "execution_count": 26,
   "id": "1aa1b539",
   "metadata": {
    "ExecuteTime": {
     "end_time": "2023-11-29T08:07:17.244908Z",
     "start_time": "2023-11-29T08:07:17.235502Z"
    }
   },
   "outputs": [
    {
     "data": {
      "text/plain": [
       "'pey'"
      ]
     },
     "execution_count": 26,
     "metadata": {},
     "output_type": "execute_result"
    }
   ],
   "source": [
    "a = {'name': 'pey', 'phone': '010-9999-1234', 'birth': '1118'}\n",
    "a.get('name')"
   ]
  },
  {
   "cell_type": "markdown",
   "id": "b14f30bb",
   "metadata": {},
   "source": [
    "#### 딕.get(key) VS 딕(key)\n",
    "- 딕.get(key): 없는 key 사용 > none(거짓)\n",
    "- 딕(key): 없는 key 사용 > 에러"
   ]
  },
  {
   "cell_type": "code",
   "execution_count": 29,
   "id": "2896ab0e",
   "metadata": {
    "ExecuteTime": {
     "end_time": "2023-11-29T08:11:42.997313Z",
     "start_time": "2023-11-29T08:11:42.990576Z"
    },
    "scrolled": true
   },
   "outputs": [
    {
     "name": "stdout",
     "output_type": "stream",
     "text": [
      "None\n"
     ]
    }
   ],
   "source": [
    "a = {'name':'pey', 'phone':'010-9999-1234', 'birth': '1118'}\n",
    "print(a.get('nonkey'))"
   ]
  },
  {
   "cell_type": "code",
   "execution_count": 30,
   "id": "54211cda",
   "metadata": {
    "ExecuteTime": {
     "end_time": "2023-11-29T08:11:59.707200Z",
     "start_time": "2023-11-29T08:11:59.578504Z"
    }
   },
   "outputs": [
    {
     "ename": "KeyError",
     "evalue": "'nonkey'",
     "output_type": "error",
     "traceback": [
      "\u001b[1;31m---------------------------------------------------------------------------\u001b[0m",
      "\u001b[1;31mKeyError\u001b[0m                                  Traceback (most recent call last)",
      "Cell \u001b[1;32mIn[30], line 2\u001b[0m\n\u001b[0;32m      1\u001b[0m a \u001b[38;5;241m=\u001b[39m {\u001b[38;5;124m'\u001b[39m\u001b[38;5;124mname\u001b[39m\u001b[38;5;124m'\u001b[39m:\u001b[38;5;124m'\u001b[39m\u001b[38;5;124mpey\u001b[39m\u001b[38;5;124m'\u001b[39m, \u001b[38;5;124m'\u001b[39m\u001b[38;5;124mphone\u001b[39m\u001b[38;5;124m'\u001b[39m:\u001b[38;5;124m'\u001b[39m\u001b[38;5;124m010-9999-1234\u001b[39m\u001b[38;5;124m'\u001b[39m, \u001b[38;5;124m'\u001b[39m\u001b[38;5;124mbirth\u001b[39m\u001b[38;5;124m'\u001b[39m: \u001b[38;5;124m'\u001b[39m\u001b[38;5;124m1118\u001b[39m\u001b[38;5;124m'\u001b[39m}\n\u001b[1;32m----> 2\u001b[0m \u001b[38;5;28mprint\u001b[39m(a[\u001b[38;5;124m'\u001b[39m\u001b[38;5;124mnonkey\u001b[39m\u001b[38;5;124m'\u001b[39m])\n",
      "\u001b[1;31mKeyError\u001b[0m: 'nonkey'"
     ]
    }
   ],
   "source": [
    "a = {'name':'pey', 'phone':'010-9999-1234', 'birth': '1118'}\n",
    "print(a['nonkey'])"
   ]
  },
  {
   "cell_type": "markdown",
   "id": "d2473ddc",
   "metadata": {},
   "source": [
    "#### key가 없으면 디폴드값 출력: 딕.get(key, '디폴트값')"
   ]
  },
  {
   "cell_type": "code",
   "execution_count": 32,
   "id": "c01e3234",
   "metadata": {
    "ExecuteTime": {
     "end_time": "2023-11-29T08:15:03.278076Z",
     "start_time": "2023-11-29T08:15:03.271058Z"
    }
   },
   "outputs": [
    {
     "data": {
      "text/plain": [
       "'foo'"
      ]
     },
     "execution_count": 32,
     "metadata": {},
     "output_type": "execute_result"
    }
   ],
   "source": [
    "a.get('nokey', 'foo')"
   ]
  },
  {
   "cell_type": "markdown",
   "id": "baf58085",
   "metadata": {},
   "source": [
    "### 해당 Key가 딕셔너리 안에 있는지 조사하기: 'key' in 딕"
   ]
  },
  {
   "cell_type": "code",
   "execution_count": 34,
   "id": "3f09acb2",
   "metadata": {
    "ExecuteTime": {
     "end_time": "2023-11-29T08:17:51.878487Z",
     "start_time": "2023-11-29T08:17:51.869199Z"
    }
   },
   "outputs": [
    {
     "data": {
      "text/plain": [
       "True"
      ]
     },
     "execution_count": 34,
     "metadata": {},
     "output_type": "execute_result"
    }
   ],
   "source": [
    "a = {'name':'pey', 'phone':'010-9999-1234', 'birth': '1118'}\n",
    "'name' in a"
   ]
  },
  {
   "cell_type": "code",
   "execution_count": 35,
   "id": "c059e16c",
   "metadata": {
    "ExecuteTime": {
     "end_time": "2023-11-29T08:18:09.530619Z",
     "start_time": "2023-11-29T08:18:09.519857Z"
    }
   },
   "outputs": [
    {
     "data": {
      "text/plain": [
       "False"
      ]
     },
     "execution_count": 35,
     "metadata": {},
     "output_type": "execute_result"
    }
   ],
   "source": [
    "'email' in a"
   ]
  },
  {
   "cell_type": "markdown",
   "id": "d6cbb71c",
   "metadata": {},
   "source": [
    "### 별 표현식: *"
   ]
  },
  {
   "cell_type": "code",
   "execution_count": 12,
   "id": "2e0a54cc",
   "metadata": {
    "ExecuteTime": {
     "end_time": "2023-12-03T12:19:06.425358Z",
     "start_time": "2023-12-03T12:19:06.417727Z"
    },
    "scrolled": true
   },
   "outputs": [
    {
     "name": "stdout",
     "output_type": "stream",
     "text": [
      "0\n",
      "1\n",
      "[2, 3, 4, 5]\n"
     ]
    }
   ],
   "source": [
    "a, b, *c = (0, 1, 2, 3, 4, 5)\n",
    "print(a)\n",
    "print(b)\n",
    "print(c)"
   ]
  },
  {
   "cell_type": "code",
   "execution_count": 14,
   "id": "d10e03a9",
   "metadata": {
    "ExecuteTime": {
     "end_time": "2023-12-03T12:21:27.006071Z",
     "start_time": "2023-12-03T12:21:26.999718Z"
    }
   },
   "outputs": [
    {
     "name": "stdout",
     "output_type": "stream",
     "text": [
      "[8.8, 8.9, 8.7, 9.2, 9.3, 9.7, 9.9, 9.5]\n"
     ]
    }
   ],
   "source": [
    "scores = [8.8, 8.9, 8.7, 9.2, 9.3, 9.7, 9.9, 9.5, 7.8, 9.4]\n",
    "*valid_score, a, b = scores\n",
    "print(valid_score)"
   ]
  },
  {
   "cell_type": "markdown",
   "id": "68dc90fa",
   "metadata": {},
   "source": [
    "# 집합 자료형: set()\n",
    "## 기본형\n",
    "- 중복을 허용하지 않는다.\n",
    "- 순서가 없다. 리스트, 튜플(순서 有) vs 딕셔너리, 집합(순서 無)"
   ]
  },
  {
   "cell_type": "code",
   "execution_count": 37,
   "id": "106babdf",
   "metadata": {
    "ExecuteTime": {
     "end_time": "2023-11-29T08:22:22.114576Z",
     "start_time": "2023-11-29T08:22:22.100355Z"
    }
   },
   "outputs": [
    {
     "data": {
      "text/plain": [
       "{1, 2, 3}"
      ]
     },
     "execution_count": 37,
     "metadata": {},
     "output_type": "execute_result"
    }
   ],
   "source": [
    "s1 = set([1, 2, 3])\n",
    "s1"
   ]
  },
  {
   "cell_type": "code",
   "execution_count": 39,
   "id": "b3c8e65e",
   "metadata": {
    "ExecuteTime": {
     "end_time": "2023-11-29T08:22:30.466871Z",
     "start_time": "2023-11-29T08:22:30.457922Z"
    }
   },
   "outputs": [
    {
     "data": {
      "text/plain": [
       "{'H', 'e', 'l', 'o'}"
      ]
     },
     "execution_count": 39,
     "metadata": {},
     "output_type": "execute_result"
    }
   ],
   "source": [
    "s2 = set(\"Hello\")\n",
    "s2"
   ]
  },
  {
   "cell_type": "markdown",
   "id": "1d25e519",
   "metadata": {},
   "source": [
    "## 교집합, 합집합, 차집합 구하기"
   ]
  },
  {
   "cell_type": "code",
   "execution_count": 40,
   "id": "666210bd",
   "metadata": {
    "ExecuteTime": {
     "end_time": "2023-11-29T08:27:18.543072Z",
     "start_time": "2023-11-29T08:27:18.537284Z"
    }
   },
   "outputs": [],
   "source": [
    "s1 = set([1, 2, 3, 4, 5, 6])\n",
    "s2 = set([4, 5, 6, 7, 8, 9])"
   ]
  },
  {
   "cell_type": "markdown",
   "id": "33d7cd1d",
   "metadata": {},
   "source": [
    "### 교집합 구하기: 세1 & 세2 = 세1.instersection(세2)"
   ]
  },
  {
   "cell_type": "code",
   "execution_count": 41,
   "id": "18c91fcf",
   "metadata": {
    "ExecuteTime": {
     "end_time": "2023-11-29T08:27:56.048600Z",
     "start_time": "2023-11-29T08:27:56.039625Z"
    }
   },
   "outputs": [
    {
     "data": {
      "text/plain": [
       "{4, 5, 6}"
      ]
     },
     "execution_count": 41,
     "metadata": {},
     "output_type": "execute_result"
    }
   ],
   "source": [
    "s1 & s2"
   ]
  },
  {
   "cell_type": "code",
   "execution_count": 42,
   "id": "a6a0296d",
   "metadata": {
    "ExecuteTime": {
     "end_time": "2023-11-29T08:28:36.806963Z",
     "start_time": "2023-11-29T08:28:36.799009Z"
    }
   },
   "outputs": [
    {
     "data": {
      "text/plain": [
       "{4, 5, 6}"
      ]
     },
     "execution_count": 42,
     "metadata": {},
     "output_type": "execute_result"
    }
   ],
   "source": [
    "s1.intersection(s2)"
   ]
  },
  {
   "cell_type": "markdown",
   "id": "346e4a20",
   "metadata": {},
   "source": [
    "### 합집합 구하기: 세1 | 세2 = 세1.union(세2)\n",
    "- 중복값은 1개만 표현"
   ]
  },
  {
   "cell_type": "code",
   "execution_count": 43,
   "id": "629cf1b6",
   "metadata": {
    "ExecuteTime": {
     "end_time": "2023-11-29T08:31:51.531537Z",
     "start_time": "2023-11-29T08:31:51.523315Z"
    }
   },
   "outputs": [
    {
     "data": {
      "text/plain": [
       "{1, 2, 3, 4, 5, 6, 7, 8, 9}"
      ]
     },
     "execution_count": 43,
     "metadata": {},
     "output_type": "execute_result"
    }
   ],
   "source": [
    "s1 | s2"
   ]
  },
  {
   "cell_type": "code",
   "execution_count": 44,
   "id": "1ff8875f",
   "metadata": {
    "ExecuteTime": {
     "end_time": "2023-11-29T08:32:43.199305Z",
     "start_time": "2023-11-29T08:32:43.191360Z"
    }
   },
   "outputs": [
    {
     "data": {
      "text/plain": [
       "{1, 2, 3, 4, 5, 6, 7, 8, 9}"
      ]
     },
     "execution_count": 44,
     "metadata": {},
     "output_type": "execute_result"
    }
   ],
   "source": [
    "s1.union(s2)"
   ]
  },
  {
   "cell_type": "markdown",
   "id": "a27332f3",
   "metadata": {},
   "source": [
    "### 차집합 구하기: 세1 - 세2 = 세1.difference(세2)"
   ]
  },
  {
   "cell_type": "code",
   "execution_count": 45,
   "id": "04f90be7",
   "metadata": {
    "ExecuteTime": {
     "end_time": "2023-11-29T08:33:06.433874Z",
     "start_time": "2023-11-29T08:33:06.424989Z"
    },
    "scrolled": true
   },
   "outputs": [
    {
     "data": {
      "text/plain": [
       "{1, 2, 3}"
      ]
     },
     "execution_count": 45,
     "metadata": {},
     "output_type": "execute_result"
    }
   ],
   "source": [
    "s1 - s2"
   ]
  },
  {
   "cell_type": "code",
   "execution_count": 46,
   "id": "f51e256a",
   "metadata": {
    "ExecuteTime": {
     "end_time": "2023-11-29T08:33:33.551333Z",
     "start_time": "2023-11-29T08:33:33.544240Z"
    }
   },
   "outputs": [
    {
     "data": {
      "text/plain": [
       "{1, 2, 3}"
      ]
     },
     "execution_count": 46,
     "metadata": {},
     "output_type": "execute_result"
    }
   ],
   "source": [
    "s1.difference(s2)"
   ]
  },
  {
   "cell_type": "markdown",
   "id": "e45df276",
   "metadata": {},
   "source": [
    "## 집합 자료형 관련 함수\n",
    "### 값 1개 추가하기: s.add(추가 값)"
   ]
  },
  {
   "cell_type": "code",
   "execution_count": 47,
   "id": "984ff2f7",
   "metadata": {
    "ExecuteTime": {
     "end_time": "2023-11-29T08:39:13.431331Z",
     "start_time": "2023-11-29T08:39:13.400582Z"
    }
   },
   "outputs": [
    {
     "data": {
      "text/plain": [
       "{1, 2, 3, 4}"
      ]
     },
     "execution_count": 47,
     "metadata": {},
     "output_type": "execute_result"
    }
   ],
   "source": [
    "s1 = set([1, 2, 3])\n",
    "s1.add(4)\n",
    "s1"
   ]
  },
  {
   "cell_type": "markdown",
   "id": "21c4360f",
   "metadata": {},
   "source": [
    "### 값 여러 개 추가하기: s.update(추가 값)"
   ]
  },
  {
   "cell_type": "code",
   "execution_count": 48,
   "id": "f63bc64e",
   "metadata": {
    "ExecuteTime": {
     "end_time": "2023-11-29T08:39:41.185511Z",
     "start_time": "2023-11-29T08:39:41.174900Z"
    }
   },
   "outputs": [
    {
     "data": {
      "text/plain": [
       "{1, 2, 3, 4, 5, 6}"
      ]
     },
     "execution_count": 48,
     "metadata": {},
     "output_type": "execute_result"
    }
   ],
   "source": [
    "s1 = set([1, 2, 3])\n",
    "s1.update([4, 5, 6])\n",
    "s1"
   ]
  },
  {
   "cell_type": "markdown",
   "id": "2c1a197a",
   "metadata": {},
   "source": [
    "### 특정 값 제거하기: s.remove(특정 값)"
   ]
  },
  {
   "cell_type": "code",
   "execution_count": 49,
   "id": "4be58480",
   "metadata": {
    "ExecuteTime": {
     "end_time": "2023-11-29T08:40:45.092158Z",
     "start_time": "2023-11-29T08:40:45.082569Z"
    }
   },
   "outputs": [
    {
     "data": {
      "text/plain": [
       "{1, 3}"
      ]
     },
     "execution_count": 49,
     "metadata": {},
     "output_type": "execute_result"
    }
   ],
   "source": [
    "s1 = set([1, 2, 3])\n",
    "s1.remove(2)\n",
    "s1"
   ]
  },
  {
   "cell_type": "markdown",
   "id": "dd147a5a",
   "metadata": {},
   "source": [
    "# 불(bool) 자료형: 참 거짓만을 나타냄\n",
    "## 기본형\n",
    "- True, False: 항상 대문자로 작성하기"
   ]
  },
  {
   "cell_type": "code",
   "execution_count": 50,
   "id": "24d1d472",
   "metadata": {
    "ExecuteTime": {
     "end_time": "2023-11-29T08:42:59.859593Z",
     "start_time": "2023-11-29T08:42:59.854534Z"
    }
   },
   "outputs": [],
   "source": [
    "a = True\n",
    "b = False"
   ]
  },
  {
   "cell_type": "markdown",
   "id": "a7050a11",
   "metadata": {},
   "source": [
    "자료형의 참과 거짓"
   ]
  },
  {
   "cell_type": "code",
   "execution_count": 51,
   "id": "30014ef8",
   "metadata": {
    "ExecuteTime": {
     "end_time": "2023-11-29T08:43:37.338888Z",
     "start_time": "2023-11-29T08:43:37.330728Z"
    }
   },
   "outputs": [
    {
     "data": {
      "text/plain": [
       "bool"
      ]
     },
     "execution_count": 51,
     "metadata": {},
     "output_type": "execute_result"
    }
   ],
   "source": [
    "# type(x): x의 자료형 확인\n",
    "type(a)"
   ]
  },
  {
   "cell_type": "markdown",
   "id": "45d0b570",
   "metadata": {},
   "source": [
    "#### 1 == 1 은 ‘1과 1이 같은가?’"
   ]
  },
  {
   "cell_type": "code",
   "execution_count": 52,
   "id": "1e5b818f",
   "metadata": {
    "ExecuteTime": {
     "end_time": "2023-11-29T08:48:37.935183Z",
     "start_time": "2023-11-29T08:48:37.924809Z"
    }
   },
   "outputs": [
    {
     "data": {
      "text/plain": [
       "True"
      ]
     },
     "execution_count": 52,
     "metadata": {},
     "output_type": "execute_result"
    }
   ],
   "source": [
    "1 == 1"
   ]
  },
  {
   "cell_type": "code",
   "execution_count": 53,
   "id": "02b1acb1",
   "metadata": {
    "ExecuteTime": {
     "end_time": "2023-11-29T08:49:28.556439Z",
     "start_time": "2023-11-29T08:49:28.547831Z"
    }
   },
   "outputs": [
    {
     "data": {
      "text/plain": [
       "True"
      ]
     },
     "execution_count": 53,
     "metadata": {},
     "output_type": "execute_result"
    }
   ],
   "source": [
    "2 > 1"
   ]
  },
  {
   "cell_type": "code",
   "execution_count": 54,
   "id": "7b4648d3",
   "metadata": {
    "ExecuteTime": {
     "end_time": "2023-11-29T08:49:37.658920Z",
     "start_time": "2023-11-29T08:49:37.650701Z"
    }
   },
   "outputs": [
    {
     "data": {
      "text/plain": [
       "False"
      ]
     },
     "execution_count": 54,
     "metadata": {},
     "output_type": "execute_result"
    }
   ],
   "source": [
    "2 < 1"
   ]
  },
  {
   "cell_type": "markdown",
   "id": "b7e424f4",
   "metadata": {},
   "source": [
    "## 자료형의 참과 거짓\n",
    "- 거짓: 값 無(\"\", [], (), {}, 0, none)\n",
    "- 참: 값 有"
   ]
  },
  {
   "cell_type": "code",
   "execution_count": 55,
   "id": "2d8eea5a",
   "metadata": {
    "ExecuteTime": {
     "end_time": "2023-11-30T00:41:36.738943Z",
     "start_time": "2023-11-30T00:41:36.675988Z"
    },
    "scrolled": true
   },
   "outputs": [
    {
     "name": "stdout",
     "output_type": "stream",
     "text": [
      "4\n",
      "3\n",
      "2\n",
      "1\n"
     ]
    }
   ],
   "source": [
    "# a가 참이면(요소가 존재하면) 조건 실행해\n",
    "\n",
    "a = [1, 2, 3, 4] \n",
    "while a:\n",
    "    print(a.pop()) # pop: 마지막 요소 출력"
   ]
  },
  {
   "cell_type": "code",
   "execution_count": 56,
   "id": "94145be2",
   "metadata": {
    "ExecuteTime": {
     "end_time": "2023-11-30T00:43:45.355606Z",
     "start_time": "2023-11-30T00:43:45.344053Z"
    }
   },
   "outputs": [
    {
     "name": "stdout",
     "output_type": "stream",
     "text": [
      "참\n"
     ]
    }
   ],
   "source": [
    "# [1, 2, 3]은 리스트가 있기에 참\n",
    "\n",
    "if [1, 2, 3]:\n",
    "     print(\"참\")\n",
    "else:\n",
    "     print(\"거짓\")"
   ]
  },
  {
   "cell_type": "markdown",
   "id": "e53f7e25",
   "metadata": {},
   "source": [
    "## 불 연산"
   ]
  },
  {
   "cell_type": "code",
   "execution_count": 57,
   "id": "b2126aa3",
   "metadata": {
    "ExecuteTime": {
     "end_time": "2023-11-30T00:44:14.536925Z",
     "start_time": "2023-11-30T00:44:14.519615Z"
    }
   },
   "outputs": [
    {
     "data": {
      "text/plain": [
       "True"
      ]
     },
     "execution_count": 57,
     "metadata": {},
     "output_type": "execute_result"
    }
   ],
   "source": [
    "bool('python')"
   ]
  },
  {
   "cell_type": "code",
   "execution_count": 58,
   "id": "ec486c40",
   "metadata": {
    "ExecuteTime": {
     "end_time": "2023-11-30T00:44:28.652543Z",
     "start_time": "2023-11-30T00:44:28.639048Z"
    }
   },
   "outputs": [
    {
     "data": {
      "text/plain": [
       "False"
      ]
     },
     "execution_count": 58,
     "metadata": {},
     "output_type": "execute_result"
    }
   ],
   "source": [
    "bool('')"
   ]
  },
  {
   "cell_type": "code",
   "execution_count": 59,
   "id": "678a275b",
   "metadata": {
    "ExecuteTime": {
     "end_time": "2023-11-30T00:44:36.583373Z",
     "start_time": "2023-11-30T00:44:36.576392Z"
    }
   },
   "outputs": [
    {
     "data": {
      "text/plain": [
       "True"
      ]
     },
     "execution_count": 59,
     "metadata": {},
     "output_type": "execute_result"
    }
   ],
   "source": [
    "bool([1, 2, 3])"
   ]
  },
  {
   "cell_type": "code",
   "execution_count": 60,
   "id": "9c8f837f",
   "metadata": {
    "ExecuteTime": {
     "end_time": "2023-11-30T00:44:41.415512Z",
     "start_time": "2023-11-30T00:44:41.406372Z"
    }
   },
   "outputs": [
    {
     "data": {
      "text/plain": [
       "False"
      ]
     },
     "execution_count": 60,
     "metadata": {},
     "output_type": "execute_result"
    }
   ],
   "source": [
    "bool([])"
   ]
  },
  {
   "cell_type": "code",
   "execution_count": 61,
   "id": "887cec9e",
   "metadata": {
    "ExecuteTime": {
     "end_time": "2023-11-30T00:44:49.136737Z",
     "start_time": "2023-11-30T00:44:49.129216Z"
    }
   },
   "outputs": [
    {
     "data": {
      "text/plain": [
       "False"
      ]
     },
     "execution_count": 61,
     "metadata": {},
     "output_type": "execute_result"
    }
   ],
   "source": [
    "bool(0)"
   ]
  },
  {
   "cell_type": "code",
   "execution_count": 62,
   "id": "59646543",
   "metadata": {
    "ExecuteTime": {
     "end_time": "2023-11-30T00:44:53.903393Z",
     "start_time": "2023-11-30T00:44:53.893419Z"
    }
   },
   "outputs": [
    {
     "data": {
      "text/plain": [
       "True"
      ]
     },
     "execution_count": 62,
     "metadata": {},
     "output_type": "execute_result"
    }
   ],
   "source": [
    "bool(3)"
   ]
  },
  {
   "cell_type": "markdown",
   "id": "c3ac3b31",
   "metadata": {},
   "source": [
    "# 자료형의 값을 저장하는 공간, 변수"
   ]
  },
  {
   "cell_type": "code",
   "execution_count": null,
   "id": "f00a5772",
   "metadata": {},
   "outputs": [],
   "source": []
  },
  {
   "cell_type": "code",
   "execution_count": 9,
   "id": "b3bb403d",
   "metadata": {
    "ExecuteTime": {
     "end_time": "2023-11-27T02:19:04.497808Z",
     "start_time": "2023-11-27T02:19:04.463352Z"
    }
   },
   "outputs": [
    {
     "ename": "NameError",
     "evalue": "name 'false' is not defined",
     "output_type": "error",
     "traceback": [
      "\u001b[1;31m---------------------------------------------------------------------------\u001b[0m",
      "\u001b[1;31mNameError\u001b[0m                                 Traceback (most recent call last)",
      "Cell \u001b[1;32mIn[9], line 1\u001b[0m\n\u001b[1;32m----> 1\u001b[0m \u001b[38;5;124m'\u001b[39m\u001b[38;5;124mpython\u001b[39m\u001b[38;5;124m'\u001b[39m \u001b[38;5;241m==\u001b[39m false\n",
      "\u001b[1;31mNameError\u001b[0m: name 'false' is not defined"
     ]
    }
   ],
   "source": [
    "'python' == false #비교"
   ]
  },
  {
   "cell_type": "code",
   "execution_count": 8,
   "id": "7abd997d",
   "metadata": {
    "ExecuteTime": {
     "end_time": "2023-11-27T02:18:55.327772Z",
     "start_time": "2023-11-27T02:18:55.297914Z"
    }
   },
   "outputs": [
    {
     "ename": "NameError",
     "evalue": "name 'true' is not defined",
     "output_type": "error",
     "traceback": [
      "\u001b[1;31m---------------------------------------------------------------------------\u001b[0m",
      "\u001b[1;31mNameError\u001b[0m                                 Traceback (most recent call last)",
      "Cell \u001b[1;32mIn[8], line 1\u001b[0m\n\u001b[1;32m----> 1\u001b[0m \u001b[38;5;124m'\u001b[39m\u001b[38;5;124mpython\u001b[39m\u001b[38;5;124m'\u001b[39m \u001b[38;5;241m==\u001b[39m true\n",
      "\u001b[1;31mNameError\u001b[0m: name 'true' is not defined"
     ]
    }
   ],
   "source": [
    "'python' == true"
   ]
  },
  {
   "cell_type": "markdown",
   "id": "a077065a",
   "metadata": {},
   "source": [
    "## 불 연산"
   ]
  },
  {
   "cell_type": "code",
   "execution_count": 10,
   "id": "a1e2ba11",
   "metadata": {
    "ExecuteTime": {
     "end_time": "2023-11-27T02:23:03.410202Z",
     "start_time": "2023-11-27T02:23:03.403685Z"
    }
   },
   "outputs": [
    {
     "data": {
      "text/plain": [
       "True"
      ]
     },
     "execution_count": 10,
     "metadata": {},
     "output_type": "execute_result"
    }
   ],
   "source": [
    "bool('python')"
   ]
  },
  {
   "cell_type": "code",
   "execution_count": 11,
   "id": "76f5a19c",
   "metadata": {
    "ExecuteTime": {
     "end_time": "2023-11-27T02:23:17.120009Z",
     "start_time": "2023-11-27T02:23:17.114047Z"
    }
   },
   "outputs": [
    {
     "data": {
      "text/plain": [
       "False"
      ]
     },
     "execution_count": 11,
     "metadata": {},
     "output_type": "execute_result"
    }
   ],
   "source": [
    "bool('')"
   ]
  },
  {
   "cell_type": "markdown",
   "id": "0da8ea3a",
   "metadata": {},
   "source": [
    "# 변수: id\n",
    "- id: 객체의 주소 값\n",
    "- 변수 할당 시각화 사이트 https://pythontutor.com\n",
    "## 기본 값"
   ]
  },
  {
   "cell_type": "code",
   "execution_count": 64,
   "id": "dada7c13",
   "metadata": {
    "ExecuteTime": {
     "end_time": "2023-11-30T01:07:35.327338Z",
     "start_time": "2023-11-30T01:07:35.313360Z"
    }
   },
   "outputs": [
    {
     "data": {
      "text/plain": [
       "2712194639104"
      ]
     },
     "execution_count": 64,
     "metadata": {},
     "output_type": "execute_result"
    }
   ],
   "source": [
    "a = [1, 2, 3]\n",
    "id(a)"
   ]
  },
  {
   "cell_type": "markdown",
   "id": "1921c020",
   "metadata": {},
   "source": [
    "## 리스트 복사\n",
    "- 복사하면 id(b)=id(a) 동일하게 됨"
   ]
  },
  {
   "cell_type": "code",
   "execution_count": 65,
   "id": "3e87b7e4",
   "metadata": {
    "ExecuteTime": {
     "end_time": "2023-11-30T01:10:22.949665Z",
     "start_time": "2023-11-30T01:10:22.942406Z"
    }
   },
   "outputs": [],
   "source": [
    "b = a"
   ]
  },
  {
   "cell_type": "code",
   "execution_count": 66,
   "id": "09cebecd",
   "metadata": {
    "ExecuteTime": {
     "end_time": "2023-11-30T01:10:26.331145Z",
     "start_time": "2023-11-30T01:10:26.321428Z"
    }
   },
   "outputs": [
    {
     "data": {
      "text/plain": [
       "2712194639104"
      ]
     },
     "execution_count": 66,
     "metadata": {},
     "output_type": "execute_result"
    }
   ],
   "source": [
    "id(b)"
   ]
  },
  {
   "cell_type": "code",
   "execution_count": 67,
   "id": "bbc487b8",
   "metadata": {
    "ExecuteTime": {
     "end_time": "2023-11-30T01:11:15.544914Z",
     "start_time": "2023-11-30T01:11:15.531949Z"
    }
   },
   "outputs": [
    {
     "data": {
      "text/plain": [
       "True"
      ]
     },
     "execution_count": 67,
     "metadata": {},
     "output_type": "execute_result"
    }
   ],
   "source": [
    "a is b"
   ]
  },
  {
   "cell_type": "code",
   "execution_count": 68,
   "id": "48da9eb7",
   "metadata": {
    "ExecuteTime": {
     "end_time": "2023-11-30T01:11:30.989837Z",
     "start_time": "2023-11-30T01:11:30.979922Z"
    }
   },
   "outputs": [
    {
     "data": {
      "text/plain": [
       "[1, 4, 3]"
      ]
     },
     "execution_count": 68,
     "metadata": {},
     "output_type": "execute_result"
    }
   ],
   "source": [
    "a[1] = 4\n",
    "a"
   ]
  },
  {
   "cell_type": "code",
   "execution_count": 69,
   "id": "f6348ff4",
   "metadata": {
    "ExecuteTime": {
     "end_time": "2023-11-30T01:11:58.137563Z",
     "start_time": "2023-11-30T01:11:58.131065Z"
    }
   },
   "outputs": [
    {
     "data": {
      "text/plain": [
       "[1, 4, 3]"
      ]
     },
     "execution_count": 69,
     "metadata": {},
     "output_type": "execute_result"
    }
   ],
   "source": [
    "b"
   ]
  },
  {
   "cell_type": "markdown",
   "id": "bbf60082",
   "metadata": {},
   "source": [
    "## b와 a의 id 다르게 하기\n",
    "### [:] 이용하기: b = a[:]"
   ]
  },
  {
   "cell_type": "code",
   "execution_count": 70,
   "id": "174ca4c5",
   "metadata": {
    "ExecuteTime": {
     "end_time": "2023-11-30T01:14:03.450227Z",
     "start_time": "2023-11-30T01:14:03.445957Z"
    }
   },
   "outputs": [],
   "source": [
    "a = [1, 2, 3]\n",
    "b = a[:]"
   ]
  },
  {
   "cell_type": "code",
   "execution_count": 72,
   "id": "d01e3fb8",
   "metadata": {
    "ExecuteTime": {
     "end_time": "2023-11-30T01:14:19.433673Z",
     "start_time": "2023-11-30T01:14:19.422702Z"
    }
   },
   "outputs": [
    {
     "data": {
      "text/plain": [
       "[1, 4, 3]"
      ]
     },
     "execution_count": 72,
     "metadata": {},
     "output_type": "execute_result"
    }
   ],
   "source": [
    "a[1] = 4\n",
    "a"
   ]
  },
  {
   "cell_type": "code",
   "execution_count": 73,
   "id": "fe254a7a",
   "metadata": {
    "ExecuteTime": {
     "end_time": "2023-11-30T01:14:28.605221Z",
     "start_time": "2023-11-30T01:14:28.596723Z"
    }
   },
   "outputs": [
    {
     "data": {
      "text/plain": [
       "[1, 2, 3]"
      ]
     },
     "execution_count": 73,
     "metadata": {},
     "output_type": "execute_result"
    }
   ],
   "source": [
    "b"
   ]
  },
  {
   "cell_type": "markdown",
   "id": "e9c6edcd",
   "metadata": {},
   "source": [
    "### copy 모듈 이용하기: b = copy(a)\n",
    "- 딥 카피"
   ]
  },
  {
   "cell_type": "code",
   "execution_count": 19,
   "id": "ba3e9a0d",
   "metadata": {
    "ExecuteTime": {
     "end_time": "2023-11-27T02:33:34.282740Z",
     "start_time": "2023-11-27T02:33:34.277939Z"
    }
   },
   "outputs": [],
   "source": [
    "from copy import copy\n",
    "a = [1, 2, 3]\n",
    "b = copy(a)"
   ]
  },
  {
   "cell_type": "code",
   "execution_count": 74,
   "id": "c4a07799",
   "metadata": {
    "ExecuteTime": {
     "end_time": "2023-11-30T01:22:00.816259Z",
     "start_time": "2023-11-30T01:22:00.805451Z"
    }
   },
   "outputs": [
    {
     "data": {
      "text/plain": [
       "False"
      ]
     },
     "execution_count": 74,
     "metadata": {},
     "output_type": "execute_result"
    }
   ],
   "source": [
    "# b is a: 객체 비교-id가 다름\n",
    "# b==a: 요소 비교\n",
    "\n",
    "b is a"
   ]
  },
  {
   "cell_type": "code",
   "execution_count": 23,
   "id": "472a9507",
   "metadata": {
    "ExecuteTime": {
     "end_time": "2023-11-27T02:34:39.103814Z",
     "start_time": "2023-11-27T02:34:39.096357Z"
    }
   },
   "outputs": [
    {
     "data": {
      "text/plain": [
       "False"
      ]
     },
     "execution_count": 23,
     "metadata": {},
     "output_type": "execute_result"
    }
   ],
   "source": []
  },
  {
   "cell_type": "markdown",
   "id": "180b8c0d",
   "metadata": {},
   "source": [
    "## 변수를 만드는 여러 가지 방법"
   ]
  },
  {
   "cell_type": "code",
   "execution_count": null,
   "id": "905777ad",
   "metadata": {},
   "outputs": [],
   "source": [
    "a, b = ('python', 'life') # 튜플\n",
    "(a, b) = 'python', 'life' # 튜플: 괄호 생략 가능\n",
    "[a, b] = ['python', 'life'] #리스트\n",
    "a = b = 'python' # 여러 개 변수에 대입"
   ]
  },
  {
   "cell_type": "markdown",
   "id": "d97d05fc",
   "metadata": {},
   "source": [
    "### 변수 순서 바꾸기"
   ]
  },
  {
   "cell_type": "code",
   "execution_count": 75,
   "id": "eec7f3cc",
   "metadata": {
    "ExecuteTime": {
     "end_time": "2023-11-30T01:26:17.734882Z",
     "start_time": "2023-11-30T01:26:17.726940Z"
    }
   },
   "outputs": [
    {
     "data": {
      "text/plain": [
       "(5, 3)"
      ]
     },
     "execution_count": 75,
     "metadata": {},
     "output_type": "execute_result"
    }
   ],
   "source": [
    "a = 3\n",
    "b = 5\n",
    "a, b = b, a\n",
    "a, b"
   ]
  },
  {
   "cell_type": "markdown",
   "id": "c9858b65",
   "metadata": {},
   "source": [
    "==================="
   ]
  },
  {
   "cell_type": "markdown",
   "id": "b8433507",
   "metadata": {},
   "source": [
    "# 리스트 컴프리헨션 퍼포먼스\n",
    "시간 측정을 위한 코드, 2배넘게 차이남"
   ]
  },
  {
   "cell_type": "code",
   "execution_count": 2,
   "id": "0aca471d",
   "metadata": {
    "ExecuteTime": {
     "end_time": "2023-11-29T01:03:04.361244Z",
     "start_time": "2023-11-29T01:03:03.987584Z"
    }
   },
   "outputs": [
    {
     "name": "stdout",
     "output_type": "stream",
     "text": [
      "List Comprehension Time: 0.15259385108947754\n",
      "For loop Time: 0.21342802047729492\n"
     ]
    }
   ],
   "source": [
    "import time\n",
    "\n",
    "start = time.time() \n",
    "numbers = [i for i in range(1000000)] \n",
    "end = time.time() \n",
    "print('List Comprehension Time:', end-start)\n",
    "\n",
    "start = time.time() \n",
    "numbers = []\n",
    "for i in range(1000000):\n",
    "    numbers.append(i)\n",
    "end = time.time() \n",
    "print('For loop Time:', end-start)"
   ]
  }
 ],
 "metadata": {
  "kernelspec": {
   "display_name": "Python 3 (ipykernel)",
   "language": "python",
   "name": "python3"
  },
  "language_info": {
   "codemirror_mode": {
    "name": "ipython",
    "version": 3
   },
   "file_extension": ".py",
   "mimetype": "text/x-python",
   "name": "python",
   "nbconvert_exporter": "python",
   "pygments_lexer": "ipython3",
   "version": "3.11.5"
  },
  "toc": {
   "base_numbering": 1,
   "nav_menu": {},
   "number_sections": true,
   "sideBar": true,
   "skip_h1_title": false,
   "title_cell": "Table of Contents",
   "title_sidebar": "Contents",
   "toc_cell": false,
   "toc_position": {},
   "toc_section_display": true,
   "toc_window_display": false
  }
 },
 "nbformat": 4,
 "nbformat_minor": 5
}
