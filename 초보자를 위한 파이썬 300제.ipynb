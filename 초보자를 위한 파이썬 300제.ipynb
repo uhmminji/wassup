{
 "cells": [
  {
   "cell_type": "markdown",
   "id": "99f7ceab",
   "metadata": {},
   "source": [
    "# 파이썬 시작하기 001~010"
   ]
  },
  {
   "cell_type": "code",
   "execution_count": 2,
   "id": "88b1b507",
   "metadata": {
    "ExecuteTime": {
     "end_time": "2023-12-02T08:57:58.563042Z",
     "start_time": "2023-12-02T08:57:58.557105Z"
    }
   },
   "outputs": [
    {
     "name": "stdout",
     "output_type": "stream",
     "text": [
      "Hello world\n"
     ]
    }
   ],
   "source": [
    "#1번\n",
    "\n",
    "print('Hello world')"
   ]
  },
  {
   "cell_type": "code",
   "execution_count": 3,
   "id": "3d82447d",
   "metadata": {
    "ExecuteTime": {
     "end_time": "2023-12-02T08:58:28.311923Z",
     "start_time": "2023-12-02T08:58:28.305901Z"
    }
   },
   "outputs": [
    {
     "name": "stdout",
     "output_type": "stream",
     "text": [
      "Mary's cosmetics\n"
     ]
    }
   ],
   "source": [
    "#2번\n",
    "\n",
    "print(\"Mary's cosmetics\")"
   ]
  },
  {
   "cell_type": "code",
   "execution_count": 4,
   "id": "1bb7c6be",
   "metadata": {
    "ExecuteTime": {
     "end_time": "2023-12-02T08:58:51.419807Z",
     "start_time": "2023-12-02T08:58:51.413032Z"
    }
   },
   "outputs": [
    {
     "name": "stdout",
     "output_type": "stream",
     "text": [
      "신씨가 소리질렀다. \"도둑이야\".\n"
     ]
    }
   ],
   "source": [
    "#3번\n",
    "\n",
    "print('신씨가 소리질렀다. \"도둑이야\".')"
   ]
  },
  {
   "cell_type": "code",
   "execution_count": 5,
   "id": "1c732640",
   "metadata": {
    "ExecuteTime": {
     "end_time": "2023-12-02T08:59:19.692111Z",
     "start_time": "2023-12-02T08:59:19.685969Z"
    }
   },
   "outputs": [
    {
     "name": "stdout",
     "output_type": "stream",
     "text": [
      "C:|Windows\n"
     ]
    }
   ],
   "source": [
    "#4번\n",
    "print('C:|Windows')"
   ]
  },
  {
   "cell_type": "code",
   "execution_count": null,
   "id": "f4ac4def",
   "metadata": {},
   "outputs": [],
   "source": [
    "#5번\n",
    "\n",
    "/n: 줄 바꿈\n",
    "/t: 탭"
   ]
  },
  {
   "cell_type": "code",
   "execution_count": 62,
   "id": "93e5365e",
   "metadata": {
    "ExecuteTime": {
     "end_time": "2023-12-02T12:17:57.663757Z",
     "start_time": "2023-12-02T12:17:57.656918Z"
    }
   },
   "outputs": [
    {
     "name": "stdout",
     "output_type": "stream",
     "text": [
      "오늘은일요일\n",
      "오늘은 일요일\n"
     ]
    }
   ],
   "source": [
    "#6번\n",
    "\n",
    "print('오늘은' '일요일')\n",
    "print('오늘은', '일요일')"
   ]
  },
  {
   "cell_type": "code",
   "execution_count": 9,
   "id": "e86cc3e6",
   "metadata": {
    "ExecuteTime": {
     "end_time": "2023-12-02T09:02:10.397553Z",
     "start_time": "2023-12-02T09:02:10.391601Z"
    }
   },
   "outputs": [
    {
     "name": "stdout",
     "output_type": "stream",
     "text": [
      "naver;kakao;sk;samsung\n"
     ]
    }
   ],
   "source": [
    "#7번\n",
    "print('naver', 'kakao', 'sk', 'samsung', sep=';')"
   ]
  },
  {
   "cell_type": "code",
   "execution_count": 10,
   "id": "08150b72",
   "metadata": {
    "ExecuteTime": {
     "end_time": "2023-12-02T09:03:26.933149Z",
     "start_time": "2023-12-02T09:03:26.926912Z"
    }
   },
   "outputs": [
    {
     "name": "stdout",
     "output_type": "stream",
     "text": [
      "naver/kakao/sk/samsung\n"
     ]
    }
   ],
   "source": [
    "#8번\n",
    "\n",
    "print('naver', 'kakao', 'sk', 'samsung', sep='/')"
   ]
  },
  {
   "cell_type": "code",
   "execution_count": 12,
   "id": "78d26d31",
   "metadata": {
    "ExecuteTime": {
     "end_time": "2023-12-02T09:04:07.074208Z",
     "start_time": "2023-12-02T09:04:07.067346Z"
    }
   },
   "outputs": [
    {
     "name": "stdout",
     "output_type": "stream",
     "text": [
      "firstsecond\n"
     ]
    }
   ],
   "source": [
    "#9번\n",
    "\n",
    "print('first', end='');print('second')"
   ]
  },
  {
   "cell_type": "code",
   "execution_count": 13,
   "id": "6d724496",
   "metadata": {
    "ExecuteTime": {
     "end_time": "2023-12-02T09:04:22.648828Z",
     "start_time": "2023-12-02T09:04:22.632822Z"
    }
   },
   "outputs": [
    {
     "data": {
      "text/plain": [
       "1.6666666666666667"
      ]
     },
     "execution_count": 13,
     "metadata": {},
     "output_type": "execute_result"
    }
   ],
   "source": [
    "#10번\n",
    "\n",
    "5/3"
   ]
  },
  {
   "cell_type": "markdown",
   "id": "7bdedda4",
   "metadata": {},
   "source": [
    "# 파이썬 변수 011~020"
   ]
  },
  {
   "cell_type": "code",
   "execution_count": 15,
   "id": "62b75c0f",
   "metadata": {
    "ExecuteTime": {
     "end_time": "2023-12-02T09:05:54.107966Z",
     "start_time": "2023-12-02T09:05:54.100984Z"
    }
   },
   "outputs": [
    {
     "name": "stdout",
     "output_type": "stream",
     "text": [
      "500000\n"
     ]
    }
   ],
   "source": [
    "#11번\n",
    "\n",
    "삼성전자 = 50000\n",
    "총평가금액 = 삼성전자 * 10\n",
    "print(총평가금액)"
   ]
  },
  {
   "cell_type": "code",
   "execution_count": 16,
   "id": "60a63870",
   "metadata": {
    "ExecuteTime": {
     "end_time": "2023-12-02T09:08:15.346553Z",
     "start_time": "2023-12-02T09:08:15.338394Z"
    }
   },
   "outputs": [
    {
     "name": "stdout",
     "output_type": "stream",
     "text": [
      "29800000000000\n",
      "50000\n",
      "15.79\n"
     ]
    }
   ],
   "source": [
    "#12번\n",
    "\n",
    "시가총액 = 29800000000000\n",
    "현재가 = 50000\n",
    "PER = 15.79\n",
    "\n",
    "print(시가총액)\n",
    "print(현재가)\n",
    "print(PER)"
   ]
  },
  {
   "cell_type": "code",
   "execution_count": 19,
   "id": "76c4678d",
   "metadata": {
    "ExecuteTime": {
     "end_time": "2023-12-02T09:09:13.390818Z",
     "start_time": "2023-12-02T09:09:13.385249Z"
    }
   },
   "outputs": [
    {
     "name": "stdout",
     "output_type": "stream",
     "text": [
      "hello! python\n"
     ]
    }
   ],
   "source": [
    "#13번\n",
    "\n",
    "s = 'hello'\n",
    "t = 'python'\n",
    "print(s + '!', t)"
   ]
  },
  {
   "cell_type": "code",
   "execution_count": 20,
   "id": "48239a98",
   "metadata": {
    "ExecuteTime": {
     "end_time": "2023-12-02T09:09:27.309163Z",
     "start_time": "2023-12-02T09:09:27.301002Z"
    }
   },
   "outputs": [
    {
     "data": {
      "text/plain": [
       "8"
      ]
     },
     "execution_count": 20,
     "metadata": {},
     "output_type": "execute_result"
    }
   ],
   "source": [
    "#14번\n",
    "\n",
    "2+2*3"
   ]
  },
  {
   "cell_type": "markdown",
   "id": "bc22fff7",
   "metadata": {},
   "source": [
    "## 데이터 타입 판별: type()"
   ]
  },
  {
   "cell_type": "code",
   "execution_count": 22,
   "id": "9e7b7304",
   "metadata": {
    "ExecuteTime": {
     "end_time": "2023-12-02T09:10:57.892334Z",
     "start_time": "2023-12-02T09:10:57.885985Z"
    }
   },
   "outputs": [
    {
     "name": "stdout",
     "output_type": "stream",
     "text": [
      "<class 'str'>\n"
     ]
    }
   ],
   "source": [
    "#15번\n",
    "\n",
    "a = '132'\n",
    "print(type(a))"
   ]
  },
  {
   "cell_type": "markdown",
   "id": "06613d39",
   "metadata": {},
   "source": [
    "## 타입 변환: int()"
   ]
  },
  {
   "cell_type": "code",
   "execution_count": 27,
   "id": "1e31e774",
   "metadata": {
    "ExecuteTime": {
     "end_time": "2023-12-02T09:13:58.530326Z",
     "start_time": "2023-12-02T09:13:58.522629Z"
    }
   },
   "outputs": [
    {
     "name": "stdout",
     "output_type": "stream",
     "text": [
      "<class 'int'>\n"
     ]
    }
   ],
   "source": [
    "#16번\n",
    "\n",
    "num_str = '720'\n",
    "print(type(int(num_str)))"
   ]
  },
  {
   "cell_type": "code",
   "execution_count": 29,
   "id": "df8cf758",
   "metadata": {
    "ExecuteTime": {
     "end_time": "2023-12-02T09:19:44.072084Z",
     "start_time": "2023-12-02T09:19:44.065259Z"
    }
   },
   "outputs": [
    {
     "name": "stdout",
     "output_type": "stream",
     "text": [
      "<class 'str'>\n"
     ]
    }
   ],
   "source": [
    "#17번\n",
    "\n",
    "num = 100\n",
    "print(type(str(num)))"
   ]
  },
  {
   "cell_type": "code",
   "execution_count": 30,
   "id": "beaa65bd",
   "metadata": {
    "ExecuteTime": {
     "end_time": "2023-12-02T09:20:19.753217Z",
     "start_time": "2023-12-02T09:20:19.747405Z"
    }
   },
   "outputs": [
    {
     "name": "stdout",
     "output_type": "stream",
     "text": [
      "<class 'float'>\n"
     ]
    }
   ],
   "source": [
    "#18번\n",
    "\n",
    "print(type(float(15.79)))"
   ]
  },
  {
   "cell_type": "code",
   "execution_count": 33,
   "id": "4d387454",
   "metadata": {
    "ExecuteTime": {
     "end_time": "2023-12-02T09:22:09.053575Z",
     "start_time": "2023-12-02T09:22:09.046839Z"
    }
   },
   "outputs": [
    {
     "name": "stdout",
     "output_type": "stream",
     "text": [
      "2020 2019 2018\n"
     ]
    }
   ],
   "source": [
    "#19번\n",
    "\n",
    "year = '2020'\n",
    "y = int(year)\n",
    "print(y, y-1, y-2)"
   ]
  },
  {
   "cell_type": "code",
   "execution_count": 35,
   "id": "8f9d3980",
   "metadata": {
    "ExecuteTime": {
     "end_time": "2023-12-02T09:23:38.131222Z",
     "start_time": "2023-12-02T09:23:38.121713Z"
    }
   },
   "outputs": [
    {
     "name": "stdout",
     "output_type": "stream",
     "text": [
      "1749024\n"
     ]
    }
   ],
   "source": [
    "#20번\n",
    "\n",
    "월 = 48584\n",
    "기간 = 36\n",
    "총금액 = 월*기간\n",
    "print(총금액)"
   ]
  },
  {
   "cell_type": "markdown",
   "id": "9a75c651",
   "metadata": {},
   "source": [
    "# 파이썬 문자열 021~050"
   ]
  },
  {
   "cell_type": "code",
   "execution_count": 40,
   "id": "c2cb5701",
   "metadata": {
    "ExecuteTime": {
     "end_time": "2023-12-02T09:25:14.874039Z",
     "start_time": "2023-12-02T09:25:14.865312Z"
    }
   },
   "outputs": [
    {
     "name": "stdout",
     "output_type": "stream",
     "text": [
      "p t\n"
     ]
    }
   ],
   "source": [
    "#21번\n",
    "\n",
    "letters = 'python'\n",
    "print(letters[0], letters[2])"
   ]
  },
  {
   "cell_type": "code",
   "execution_count": 41,
   "id": "2540f5f7",
   "metadata": {
    "ExecuteTime": {
     "end_time": "2023-12-02T09:26:01.976125Z",
     "start_time": "2023-12-02T09:26:01.968117Z"
    }
   },
   "outputs": [
    {
     "name": "stdout",
     "output_type": "stream",
     "text": [
      "2210\n"
     ]
    }
   ],
   "source": [
    "#22번\n",
    "\n",
    "license_plate = '24가 2210'\n",
    "print(license_plate[-4:])"
   ]
  },
  {
   "cell_type": "markdown",
   "id": "c11c5e32",
   "metadata": {},
   "source": [
    "## 슬라이싱: [::2]\n",
    "a[ start : end : step ]\n",
    "- step이 양수일 때: 오른쪽으로 step만큼 이동하면서 가져옵니다.\n",
    "- step이 음수일 때: 왼쪽으로 step만큼 이동하면서 가져옵니다."
   ]
  },
  {
   "cell_type": "code",
   "execution_count": 46,
   "id": "78ed4362",
   "metadata": {
    "ExecuteTime": {
     "end_time": "2023-12-02T12:09:14.555136Z",
     "start_time": "2023-12-02T12:09:14.547347Z"
    }
   },
   "outputs": [
    {
     "name": "stdout",
     "output_type": "stream",
     "text": [
      "홀홀홀\n"
     ]
    }
   ],
   "source": [
    "#23번\n",
    "\n",
    "string = '홀짝홀짝홀짝'\n",
    "print(string[::2])"
   ]
  },
  {
   "cell_type": "code",
   "execution_count": 57,
   "id": "f31cb428",
   "metadata": {
    "ExecuteTime": {
     "end_time": "2023-12-02T12:15:42.538032Z",
     "start_time": "2023-12-02T12:15:42.531374Z"
    }
   },
   "outputs": [
    {
     "name": "stdout",
     "output_type": "stream",
     "text": [
      "nohtyp\n"
     ]
    }
   ],
   "source": [
    "#24번\n",
    "\n",
    "string = 'python'\n",
    "print(string[::-1])"
   ]
  },
  {
   "cell_type": "code",
   "execution_count": 66,
   "id": "81632e7a",
   "metadata": {
    "ExecuteTime": {
     "end_time": "2023-12-02T12:19:52.823599Z",
     "start_time": "2023-12-02T12:19:52.815297Z"
    },
    "scrolled": true
   },
   "outputs": [
    {
     "name": "stdout",
     "output_type": "stream",
     "text": [
      "010 1111 2222\n",
      "010 1111 2222\n"
     ]
    }
   ],
   "source": [
    "#25번\n",
    "\n",
    "#내 풀이\n",
    "phone_number = \"010-1111-2222\"\n",
    "print(phone_number[:3], phone_number[4:8], phone_number[9:])\n",
    "\n",
    "#답\n",
    "print(phone_number.replace('-', ' '))"
   ]
  },
  {
   "cell_type": "code",
   "execution_count": 70,
   "id": "a6ae19b4",
   "metadata": {
    "ExecuteTime": {
     "end_time": "2023-12-02T12:20:56.339979Z",
     "start_time": "2023-12-02T12:20:56.333076Z"
    },
    "scrolled": true
   },
   "outputs": [
    {
     "name": "stdout",
     "output_type": "stream",
     "text": [
      "01011112222\n"
     ]
    }
   ],
   "source": [
    "#26번\n",
    "\n",
    "phone_number = \"010-1111-2222\"\n",
    "print(phone_number.replace('-',''))"
   ]
  },
  {
   "cell_type": "code",
   "execution_count": 74,
   "id": "73011f18",
   "metadata": {
    "ExecuteTime": {
     "end_time": "2023-12-02T12:22:49.443353Z",
     "start_time": "2023-12-02T12:22:49.436801Z"
    }
   },
   "outputs": [
    {
     "name": "stdout",
     "output_type": "stream",
     "text": [
      "kr\n"
     ]
    }
   ],
   "source": [
    "#27번\n",
    "\n",
    "#내 풀이\n",
    "url = \"http://sharebook.kr\"\n",
    "print(url[-2:])\n",
    "\n",
    "#답\n",
    "url = \"http://sharebook.kr\"\n",
    "domain = url.split('.')\n",
    "print(domain[-1])"
   ]
  },
  {
   "cell_type": "code",
   "execution_count": 77,
   "id": "74452968",
   "metadata": {
    "ExecuteTime": {
     "end_time": "2023-12-02T12:26:13.597038Z",
     "start_time": "2023-12-02T12:26:13.587804Z"
    }
   },
   "outputs": [
    {
     "ename": "SyntaxError",
     "evalue": "invalid syntax (1639539643.py, line 3)",
     "output_type": "error",
     "traceback": [
      "\u001b[1;36m  Cell \u001b[1;32mIn[77], line 3\u001b[1;36m\u001b[0m\n\u001b[1;33m    >> lang = 'python'\u001b[0m\n\u001b[1;37m    ^\u001b[0m\n\u001b[1;31mSyntaxError\u001b[0m\u001b[1;31m:\u001b[0m invalid syntax\n"
     ]
    }
   ],
   "source": [
    "#28번\n",
    "\n",
    "문자열은 수정 불가\n",
    ">> lang = 'python'\n",
    ">> lang[0] = 'P'\n",
    ">> print(lang)"
   ]
  },
  {
   "cell_type": "code",
   "execution_count": 84,
   "id": "f6f1f08b",
   "metadata": {
    "ExecuteTime": {
     "end_time": "2023-12-02T12:32:21.820360Z",
     "start_time": "2023-12-02T12:32:21.814252Z"
    }
   },
   "outputs": [
    {
     "name": "stdout",
     "output_type": "stream",
     "text": [
      "Abcdfe2A354A32A\n"
     ]
    }
   ],
   "source": [
    "#29번\n",
    "\n",
    "#내 풀이\n",
    "string = 'abcdfe2a354a32a'\n",
    "print(string.replace('a', 'A'))\n",
    "\n",
    "#답\n",
    "string = 'abcdfe2a354a32a'\n",
    "string = string.replace('a', 'A')\n",
    "print(string)"
   ]
  },
  {
   "cell_type": "code",
   "execution_count": 86,
   "id": "d7c6d1d0",
   "metadata": {
    "ExecuteTime": {
     "end_time": "2023-12-02T12:33:53.553360Z",
     "start_time": "2023-12-02T12:33:53.547025Z"
    }
   },
   "outputs": [
    {
     "name": "stdout",
     "output_type": "stream",
     "text": [
      "abcd\n"
     ]
    }
   ],
   "source": [
    "#30번\n",
    "\n",
    "string = 'abcd'\n",
    "string.replace('b', 'B')\n",
    "print(string)\n",
    "\n",
    "#abcd가 그대로 출력됨. 원본은 그대로 둔 채로 새로운 문자를 리턴해줌."
   ]
  },
  {
   "cell_type": "code",
   "execution_count": null,
   "id": "2ef00fa4",
   "metadata": {},
   "outputs": [],
   "source": [
    "#31번\n",
    "\n",
    "문자라서 34"
   ]
  },
  {
   "cell_type": "code",
   "execution_count": null,
   "id": "68519d83",
   "metadata": {},
   "outputs": [],
   "source": [
    "#32번\n",
    "\n",
    "HiHiHi"
   ]
  },
  {
   "cell_type": "code",
   "execution_count": 87,
   "id": "74f51a52",
   "metadata": {
    "ExecuteTime": {
     "end_time": "2023-12-02T12:35:40.894896Z",
     "start_time": "2023-12-02T12:35:40.889072Z"
    }
   },
   "outputs": [
    {
     "name": "stdout",
     "output_type": "stream",
     "text": [
      "--------------------------------------------------------------------------------\n"
     ]
    }
   ],
   "source": [
    "#33번\n",
    "print('-'*80)"
   ]
  },
  {
   "cell_type": "code",
   "execution_count": 90,
   "id": "ed1a770c",
   "metadata": {
    "ExecuteTime": {
     "end_time": "2023-12-02T12:40:18.046969Z",
     "start_time": "2023-12-02T12:40:18.039799Z"
    }
   },
   "outputs": [
    {
     "name": "stdout",
     "output_type": "stream",
     "text": [
      "python java python java python java python java \n"
     ]
    }
   ],
   "source": [
    "#34번\n",
    "\n",
    "t1 = 'python'\n",
    "t2 = 'java'\n",
    "\n",
    "print((t1+ ' ' + t2 + ' ')*4)"
   ]
  },
  {
   "cell_type": "code",
   "execution_count": 102,
   "id": "964a967c",
   "metadata": {
    "ExecuteTime": {
     "end_time": "2023-12-02T12:50:06.973181Z",
     "start_time": "2023-12-02T12:50:06.965878Z"
    }
   },
   "outputs": [
    {
     "name": "stdout",
     "output_type": "stream",
     "text": [
      "이름: 김민수 나이: 10\n",
      "이름: 이철희 나이: 13\n"
     ]
    }
   ],
   "source": [
    "#35번\n",
    "\n",
    "name1 = \"김민수\" \n",
    "age1 = 10\n",
    "name2 = \"이철희\"\n",
    "age2 = 13\n",
    "\n",
    "print('이름: %s 나이: %d' %(name1, age1))\n",
    "print('이름: %s 나이: %d' %(name2, age2))"
   ]
  },
  {
   "cell_type": "code",
   "execution_count": 99,
   "id": "ba84d942",
   "metadata": {
    "ExecuteTime": {
     "end_time": "2023-12-02T12:47:04.256913Z",
     "start_time": "2023-12-02T12:47:04.250302Z"
    },
    "scrolled": true
   },
   "outputs": [
    {
     "name": "stdout",
     "output_type": "stream",
     "text": [
      "이름: 김민수 나이: 10\n",
      "이름: 이철희 나이: 13\n"
     ]
    }
   ],
   "source": [
    "#36번\n",
    "\n",
    "name1 = \"김민수\" \n",
    "age1 = 10\n",
    "name2 = \"이철희\"\n",
    "age2 = 13\n",
    "\n",
    "print('이름: {} 나이: {}'.format(name1, age1))\n",
    "print('이름: {} 나이: {}'.format(name2, age2))"
   ]
  },
  {
   "cell_type": "code",
   "execution_count": 115,
   "id": "6fe2a36c",
   "metadata": {
    "ExecuteTime": {
     "end_time": "2023-12-02T12:56:52.475662Z",
     "start_time": "2023-12-02T12:56:52.467437Z"
    }
   },
   "outputs": [
    {
     "name": "stdout",
     "output_type": "stream",
     "text": [
      "이름: 김민수 나이: 10\n",
      "이름: 이철희 나이: 13\n"
     ]
    }
   ],
   "source": [
    "#37번\n",
    "\n",
    "name1 = \"김민수\" \n",
    "age1 = 10\n",
    "name2 = \"이철희\"\n",
    "age2 = 13\n",
    "\n",
    "print(f'이름: {name1} 나이: {age1}')\n",
    "print(f'이름: {name2} 나이: {age2}')"
   ]
  },
  {
   "cell_type": "code",
   "execution_count": 108,
   "id": "35afcefa",
   "metadata": {
    "ExecuteTime": {
     "end_time": "2023-12-02T12:53:12.891126Z",
     "start_time": "2023-12-02T12:53:12.884660Z"
    },
    "scrolled": true
   },
   "outputs": [
    {
     "name": "stdout",
     "output_type": "stream",
     "text": [
      "5969782550 <class 'int'>\n"
     ]
    }
   ],
   "source": [
    "#38번\n",
    "\n",
    "상장주식수 = \"5,969,782,550\"\n",
    "a = 상장주식수.replace(',', '')\n",
    "\n",
    "print(int(a), type(int(a)))"
   ]
  },
  {
   "cell_type": "code",
   "execution_count": 111,
   "id": "4c09ae40",
   "metadata": {
    "ExecuteTime": {
     "end_time": "2023-12-02T12:54:00.143498Z",
     "start_time": "2023-12-02T12:54:00.135821Z"
    }
   },
   "outputs": [
    {
     "name": "stdout",
     "output_type": "stream",
     "text": [
      "2020/03\n"
     ]
    }
   ],
   "source": [
    "#39번\n",
    "\n",
    "분기 = \"2020/03(E) (IFRS연결)\"\n",
    "print(분기[:7])"
   ]
  },
  {
   "cell_type": "code",
   "execution_count": 114,
   "id": "08cd2831",
   "metadata": {
    "ExecuteTime": {
     "end_time": "2023-12-02T12:54:47.256740Z",
     "start_time": "2023-12-02T12:54:47.250109Z"
    }
   },
   "outputs": [
    {
     "name": "stdout",
     "output_type": "stream",
     "text": [
      "삼성전자\n"
     ]
    }
   ],
   "source": [
    "#40번\n",
    "\n",
    "data = \"   삼성전자    \"\n",
    "print(data.strip())"
   ]
  },
  {
   "cell_type": "code",
   "execution_count": 116,
   "id": "e4788229",
   "metadata": {
    "ExecuteTime": {
     "end_time": "2023-12-03T09:39:24.282029Z",
     "start_time": "2023-12-03T09:39:24.275956Z"
    }
   },
   "outputs": [
    {
     "name": "stdout",
     "output_type": "stream",
     "text": [
      "BTC_KRW\n"
     ]
    }
   ],
   "source": [
    "#41번\n",
    "\n",
    "ticker = \"btc_krw\"\n",
    "print(ticker.upper())"
   ]
  },
  {
   "cell_type": "code",
   "execution_count": 117,
   "id": "f1b75325",
   "metadata": {
    "ExecuteTime": {
     "end_time": "2023-12-03T09:39:54.816087Z",
     "start_time": "2023-12-03T09:39:54.810911Z"
    }
   },
   "outputs": [
    {
     "name": "stdout",
     "output_type": "stream",
     "text": [
      "btc_krw\n"
     ]
    }
   ],
   "source": [
    "#42번\n",
    "\n",
    "ticker = \"BTC_KRW\"\n",
    "print(ticker.lower())"
   ]
  },
  {
   "cell_type": "code",
   "execution_count": 121,
   "id": "2e3f3169",
   "metadata": {
    "ExecuteTime": {
     "end_time": "2023-12-03T09:41:10.069189Z",
     "start_time": "2023-12-03T09:41:10.063611Z"
    }
   },
   "outputs": [
    {
     "name": "stdout",
     "output_type": "stream",
     "text": [
      "Hello\n",
      "Hello\n"
     ]
    }
   ],
   "source": [
    "#43번\n",
    "\n",
    "a = 'hello'\n",
    "print(a.replace('h', 'H'))\n",
    "\n",
    "#답\n",
    "\n",
    "a = \"hello\"\n",
    "print(a.capitalize())"
   ]
  },
  {
   "cell_type": "code",
   "execution_count": 126,
   "id": "e34f3e3e",
   "metadata": {
    "ExecuteTime": {
     "end_time": "2023-12-03T10:09:19.406187Z",
     "start_time": "2023-12-03T10:09:19.401056Z"
    }
   },
   "outputs": [
    {
     "name": "stdout",
     "output_type": "stream",
     "text": [
      "True\n"
     ]
    }
   ],
   "source": [
    "#44번\n",
    "\n",
    "file_name = \"보고서.xlsx\"\n",
    "a = file_name.endswith('xlsx')\n",
    "print(a)"
   ]
  },
  {
   "cell_type": "code",
   "execution_count": 129,
   "id": "41dca6a0",
   "metadata": {
    "ExecuteTime": {
     "end_time": "2023-12-03T10:11:55.732870Z",
     "start_time": "2023-12-03T10:11:55.726205Z"
    }
   },
   "outputs": [
    {
     "name": "stdout",
     "output_type": "stream",
     "text": [
      "False\n"
     ]
    }
   ],
   "source": [
    "#45번\n",
    "\n",
    "file_name = \"보고서.xlsx\"\n",
    "a = file_name.endswith('xls')\n",
    "print(a)"
   ]
  },
  {
   "cell_type": "code",
   "execution_count": 130,
   "id": "b6f08f15",
   "metadata": {
    "ExecuteTime": {
     "end_time": "2023-12-03T10:13:37.604484Z",
     "start_time": "2023-12-03T10:13:37.598908Z"
    }
   },
   "outputs": [
    {
     "name": "stdout",
     "output_type": "stream",
     "text": [
      "True\n"
     ]
    }
   ],
   "source": [
    "#46번\n",
    "\n",
    "file_name = \"2020_보고서.xlsx\"\n",
    "print(file_name.startswith('2020'))"
   ]
  },
  {
   "cell_type": "code",
   "execution_count": 132,
   "id": "466daf23",
   "metadata": {
    "ExecuteTime": {
     "end_time": "2023-12-03T10:14:54.628587Z",
     "start_time": "2023-12-03T10:14:54.620630Z"
    }
   },
   "outputs": [
    {
     "data": {
      "text/plain": [
       "['hello', 'world']"
      ]
     },
     "execution_count": 132,
     "metadata": {},
     "output_type": "execute_result"
    }
   ],
   "source": [
    "#47번\n",
    "\n",
    "a = \"hello world\"\n",
    "a.split(' ')"
   ]
  },
  {
   "cell_type": "code",
   "execution_count": 133,
   "id": "ea0b9a64",
   "metadata": {
    "ExecuteTime": {
     "end_time": "2023-12-03T10:15:20.046582Z",
     "start_time": "2023-12-03T10:15:20.038005Z"
    }
   },
   "outputs": [
    {
     "data": {
      "text/plain": [
       "['btc', 'krw']"
      ]
     },
     "execution_count": 133,
     "metadata": {},
     "output_type": "execute_result"
    }
   ],
   "source": [
    "#48번\n",
    "\n",
    "ticker = \"btc_krw\"\n",
    "ticker.split('_')"
   ]
  },
  {
   "cell_type": "code",
   "execution_count": 134,
   "id": "32b2c888",
   "metadata": {
    "ExecuteTime": {
     "end_time": "2023-12-03T10:15:49.079980Z",
     "start_time": "2023-12-03T10:15:49.073420Z"
    }
   },
   "outputs": [
    {
     "data": {
      "text/plain": [
       "['2020', '05', '01']"
      ]
     },
     "execution_count": 134,
     "metadata": {},
     "output_type": "execute_result"
    }
   ],
   "source": [
    "#49번\n",
    "\n",
    "date = \"2020-05-01\"\n",
    "date.split('-')"
   ]
  },
  {
   "cell_type": "code",
   "execution_count": 137,
   "id": "488ef113",
   "metadata": {
    "ExecuteTime": {
     "end_time": "2023-12-03T10:16:57.493735Z",
     "start_time": "2023-12-03T10:16:57.488450Z"
    }
   },
   "outputs": [
    {
     "name": "stdout",
     "output_type": "stream",
     "text": [
      "039490\n"
     ]
    }
   ],
   "source": [
    "#50번\n",
    "\n",
    "data = \"039490     \"\n",
    "data = data.strip()\n",
    "print(data)"
   ]
  },
  {
   "cell_type": "markdown",
   "id": "dd7812a7",
   "metadata": {},
   "source": [
    "# 파이썬 리스트 051~070"
   ]
  },
  {
   "cell_type": "code",
   "execution_count": 139,
   "id": "704e45ae",
   "metadata": {
    "ExecuteTime": {
     "end_time": "2023-12-03T10:18:25.970372Z",
     "start_time": "2023-12-03T10:18:25.963950Z"
    }
   },
   "outputs": [
    {
     "name": "stdout",
     "output_type": "stream",
     "text": [
      "['닥터 스트레인지', '스플릿', '럭키']\n"
     ]
    }
   ],
   "source": [
    "#51번\n",
    "\n",
    "movie_rank = ['닥터 스트레인지', '스플릿', '럭키']\n",
    "print(movie_rank)"
   ]
  },
  {
   "cell_type": "code",
   "execution_count": 140,
   "id": "4e67eab2",
   "metadata": {
    "ExecuteTime": {
     "end_time": "2023-12-03T10:26:55.801427Z",
     "start_time": "2023-12-03T10:26:55.796268Z"
    }
   },
   "outputs": [
    {
     "name": "stdout",
     "output_type": "stream",
     "text": [
      "['닥터 스트레인지', '스플릿', '럭키', '배트맨']\n"
     ]
    }
   ],
   "source": [
    "#52번\n",
    "\n",
    "movie_rank.append('배트맨')\n",
    "print(movie_rank)"
   ]
  },
  {
   "cell_type": "code",
   "execution_count": 141,
   "id": "927964ea",
   "metadata": {
    "ExecuteTime": {
     "end_time": "2023-12-03T10:27:54.474257Z",
     "start_time": "2023-12-03T10:27:54.468631Z"
    }
   },
   "outputs": [
    {
     "name": "stdout",
     "output_type": "stream",
     "text": [
      "['닥터 스트레인지', '슈퍼맨', '스플릿', '럭키', '배트맨']\n"
     ]
    }
   ],
   "source": [
    "#53번\n",
    "\n",
    "movie_rank.insert(1, '슈퍼맨')\n",
    "print(movie_rank)"
   ]
  },
  {
   "cell_type": "code",
   "execution_count": 143,
   "id": "aaeb8e02",
   "metadata": {
    "ExecuteTime": {
     "end_time": "2023-12-03T10:29:00.069304Z",
     "start_time": "2023-12-03T10:29:00.063709Z"
    }
   },
   "outputs": [
    {
     "name": "stdout",
     "output_type": "stream",
     "text": [
      "['닥터 스트레인지', '슈퍼맨', '스플릿', '배트맨']\n"
     ]
    }
   ],
   "source": [
    "#54번\n",
    "\n",
    "del movie_rank[3]\n",
    "print(movie_rank)"
   ]
  },
  {
   "cell_type": "code",
   "execution_count": 145,
   "id": "97f28bfe",
   "metadata": {
    "ExecuteTime": {
     "end_time": "2023-12-03T10:30:00.880191Z",
     "start_time": "2023-12-03T10:30:00.874312Z"
    }
   },
   "outputs": [
    {
     "name": "stdout",
     "output_type": "stream",
     "text": [
      "['닥터 스트레인지', '슈퍼맨']\n"
     ]
    }
   ],
   "source": [
    "#55번\n",
    "\n",
    "del movie_rank[2:]\n",
    "print(movie_rank)"
   ]
  },
  {
   "cell_type": "code",
   "execution_count": 146,
   "id": "7a2228bf",
   "metadata": {
    "ExecuteTime": {
     "end_time": "2023-12-03T10:31:49.897882Z",
     "start_time": "2023-12-03T10:31:49.889228Z"
    }
   },
   "outputs": [
    {
     "name": "stdout",
     "output_type": "stream",
     "text": [
      "['C', 'C++', 'JAVA', 'Python', 'Go', 'C#']\n"
     ]
    }
   ],
   "source": [
    "#56번\n",
    "\n",
    "lang1 = [\"C\", \"C++\", \"JAVA\"]\n",
    "lang2 = [\"Python\", \"Go\", \"C#\"]\n",
    "\n",
    "langs = lang1 + lang2\n",
    "print(langs)"
   ]
  },
  {
   "cell_type": "code",
   "execution_count": 149,
   "id": "b4003102",
   "metadata": {
    "ExecuteTime": {
     "end_time": "2023-12-03T10:34:58.802154Z",
     "start_time": "2023-12-03T10:34:58.797186Z"
    }
   },
   "outputs": [
    {
     "name": "stdout",
     "output_type": "stream",
     "text": [
      "max:  7\n",
      "min:  1\n"
     ]
    }
   ],
   "source": [
    "#57번\n",
    "\n",
    "nums = [1, 2, 3, 4, 5, 6, 7]\n",
    "print('max: ', max(nums))\n",
    "print('min: ', min(nums))"
   ]
  },
  {
   "cell_type": "code",
   "execution_count": 153,
   "id": "72bf53ca",
   "metadata": {
    "ExecuteTime": {
     "end_time": "2023-12-03T10:39:57.512745Z",
     "start_time": "2023-12-03T10:39:57.508424Z"
    }
   },
   "outputs": [
    {
     "name": "stdout",
     "output_type": "stream",
     "text": [
      "15\n"
     ]
    }
   ],
   "source": [
    "#58번\n",
    "\n",
    "nums = [1, 2, 3, 4, 5]\n",
    "print(sum(nums))"
   ]
  },
  {
   "cell_type": "code",
   "execution_count": 154,
   "id": "d2823628",
   "metadata": {
    "ExecuteTime": {
     "end_time": "2023-12-03T10:40:37.841787Z",
     "start_time": "2023-12-03T10:40:37.830897Z"
    }
   },
   "outputs": [
    {
     "data": {
      "text/plain": [
       "12"
      ]
     },
     "execution_count": 154,
     "metadata": {},
     "output_type": "execute_result"
    }
   ],
   "source": [
    "#59번\n",
    "\n",
    "cook = [\"피자\", \"김밥\", \"만두\", \"양념치킨\", \"족발\", \"피자\", \"김치만두\", \"쫄면\", \"소시지\", \"라면\", \"팥빙수\", \"김치전\"]\n",
    "len(cook)"
   ]
  },
  {
   "cell_type": "code",
   "execution_count": 155,
   "id": "c0c58deb",
   "metadata": {
    "ExecuteTime": {
     "end_time": "2023-12-03T10:41:41.614663Z",
     "start_time": "2023-12-03T10:41:41.606039Z"
    }
   },
   "outputs": [
    {
     "name": "stdout",
     "output_type": "stream",
     "text": [
      "3.0\n"
     ]
    }
   ],
   "source": [
    "#60번\n",
    "\n",
    "nums = [1, 2, 3, 4, 5]\n",
    "평균 = sum(nums) / len(nums)\n",
    "print(평균)"
   ]
  },
  {
   "cell_type": "code",
   "execution_count": 156,
   "id": "858c768e",
   "metadata": {
    "ExecuteTime": {
     "end_time": "2023-12-03T11:05:45.508780Z",
     "start_time": "2023-12-03T11:05:45.497401Z"
    }
   },
   "outputs": [
    {
     "data": {
      "text/plain": [
       "[100, 130, 140, 150, 160, 170]"
      ]
     },
     "execution_count": 156,
     "metadata": {},
     "output_type": "execute_result"
    }
   ],
   "source": [
    "#61번\n",
    "\n",
    "price = ['20180728', 100, 130, 140, 150, 160, 170]\n",
    "price[1:]"
   ]
  },
  {
   "cell_type": "code",
   "execution_count": 157,
   "id": "3edf5c82",
   "metadata": {
    "ExecuteTime": {
     "end_time": "2023-12-03T11:06:22.718652Z",
     "start_time": "2023-12-03T11:06:22.709298Z"
    }
   },
   "outputs": [
    {
     "data": {
      "text/plain": [
       "[1, 3, 5, 7, 9]"
      ]
     },
     "execution_count": 157,
     "metadata": {},
     "output_type": "execute_result"
    }
   ],
   "source": [
    "#62번\n",
    "\n",
    "nums = [1, 2, 3, 4, 5, 6, 7, 8, 9, 10]\n",
    "nums[::2]"
   ]
  },
  {
   "cell_type": "code",
   "execution_count": 164,
   "id": "3c3629d0",
   "metadata": {
    "ExecuteTime": {
     "end_time": "2023-12-03T11:09:27.757510Z",
     "start_time": "2023-12-03T11:09:27.749339Z"
    }
   },
   "outputs": [
    {
     "data": {
      "text/plain": [
       "[2, 4, 6, 8, 10]"
      ]
     },
     "execution_count": 164,
     "metadata": {},
     "output_type": "execute_result"
    }
   ],
   "source": [
    "#63번\n",
    "\n",
    "nums = [1, 2, 3, 4, 5, 6, 7, 8, 9, 10]\n",
    "nums[1:: 2]"
   ]
  },
  {
   "cell_type": "code",
   "execution_count": 165,
   "id": "e9ccd671",
   "metadata": {
    "ExecuteTime": {
     "end_time": "2023-12-03T11:09:51.375433Z",
     "start_time": "2023-12-03T11:09:51.366802Z"
    }
   },
   "outputs": [
    {
     "data": {
      "text/plain": [
       "[5, 4, 3, 2, 1]"
      ]
     },
     "execution_count": 165,
     "metadata": {},
     "output_type": "execute_result"
    }
   ],
   "source": [
    "#64번\n",
    "\n",
    "nums = [1, 2, 3, 4, 5]\n",
    "nums[::-1]"
   ]
  },
  {
   "cell_type": "code",
   "execution_count": 175,
   "id": "a8a85c25",
   "metadata": {
    "ExecuteTime": {
     "end_time": "2023-12-03T11:13:43.871378Z",
     "start_time": "2023-12-03T11:13:43.863171Z"
    }
   },
   "outputs": [
    {
     "name": "stdout",
     "output_type": "stream",
     "text": [
      "삼성전자 Naver\n"
     ]
    }
   ],
   "source": [
    "#65번\n",
    "\n",
    "interest = ['삼성전자', 'LG전자', 'Naver']\n",
    "print(interest[0], interest[2])"
   ]
  },
  {
   "cell_type": "code",
   "execution_count": 177,
   "id": "83c70a9a",
   "metadata": {
    "ExecuteTime": {
     "end_time": "2023-12-03T11:17:25.710140Z",
     "start_time": "2023-12-03T11:17:25.702155Z"
    }
   },
   "outputs": [
    {
     "name": "stdout",
     "output_type": "stream",
     "text": [
      "삼성전자 LG전자 Naver SK하이닉스 미래에셋대우\n"
     ]
    }
   ],
   "source": [
    "#66번\n",
    "\n",
    "interest = ['삼성전자', 'LG전자', 'Naver', 'SK하이닉스', '미래에셋대우']\n",
    "print(' '.join(interest))"
   ]
  },
  {
   "cell_type": "code",
   "execution_count": 178,
   "id": "d4b93be6",
   "metadata": {
    "ExecuteTime": {
     "end_time": "2023-12-03T11:18:02.563038Z",
     "start_time": "2023-12-03T11:18:02.555773Z"
    }
   },
   "outputs": [
    {
     "name": "stdout",
     "output_type": "stream",
     "text": [
      "삼성전자/LG전자/Naver/SK하이닉스/미래에셋대우\n"
     ]
    }
   ],
   "source": [
    "#67번\n",
    "\n",
    "interest = ['삼성전자', 'LG전자', 'Naver', 'SK하이닉스', '미래에셋대우']\n",
    "print('/'.join(interest))"
   ]
  },
  {
   "cell_type": "code",
   "execution_count": 179,
   "id": "4fec7306",
   "metadata": {
    "ExecuteTime": {
     "end_time": "2023-12-03T11:20:17.865016Z",
     "start_time": "2023-12-03T11:20:17.858319Z"
    }
   },
   "outputs": [
    {
     "name": "stdout",
     "output_type": "stream",
     "text": [
      "삼성전자\n",
      "LG전자\n",
      "Naver\n",
      "SK하이닉스\n",
      "미래에셋대우\n"
     ]
    }
   ],
   "source": [
    "#68번\n",
    "\n",
    "interest = ['삼성전자', 'LG전자', 'Naver', 'SK하이닉스', '미래에셋대우']\n",
    "print('\\n'.join(interest))"
   ]
  },
  {
   "cell_type": "code",
   "execution_count": 184,
   "id": "ad07f704",
   "metadata": {
    "ExecuteTime": {
     "end_time": "2023-12-03T11:22:28.478704Z",
     "start_time": "2023-12-03T11:22:28.472016Z"
    }
   },
   "outputs": [
    {
     "name": "stdout",
     "output_type": "stream",
     "text": [
      "['삼성전자', 'LG전자', 'Naver']\n"
     ]
    }
   ],
   "source": [
    "#69번\n",
    "\n",
    "string = \"삼성전자/LG전자/Naver\"\n",
    "interest = string.split('/')\n",
    "print(interest)"
   ]
  },
  {
   "cell_type": "code",
   "execution_count": 187,
   "id": "383334a7",
   "metadata": {
    "ExecuteTime": {
     "end_time": "2023-12-03T11:23:28.532731Z",
     "start_time": "2023-12-03T11:23:28.524567Z"
    }
   },
   "outputs": [
    {
     "data": {
      "text/plain": [
       "[1, 2, 3, 4, 5, 9, 10]"
      ]
     },
     "execution_count": 187,
     "metadata": {},
     "output_type": "execute_result"
    }
   ],
   "source": [
    "#70번\n",
    "\n",
    "data = [2, 4, 3, 1, 5, 10, 9]\n",
    "data.sort()\n",
    "data"
   ]
  },
  {
   "cell_type": "markdown",
   "id": "e40c025d",
   "metadata": {},
   "source": [
    "# 파이썬 튜플 071~080"
   ]
  },
  {
   "cell_type": "code",
   "execution_count": 188,
   "id": "19ad54fd",
   "metadata": {
    "ExecuteTime": {
     "end_time": "2023-12-03T11:29:04.430031Z",
     "start_time": "2023-12-03T11:29:04.419969Z"
    }
   },
   "outputs": [],
   "source": [
    "#71번\n",
    "\n",
    "my_variable = {}"
   ]
  },
  {
   "cell_type": "code",
   "execution_count": 190,
   "id": "837b84e6",
   "metadata": {
    "ExecuteTime": {
     "end_time": "2023-12-03T11:30:25.964665Z",
     "start_time": "2023-12-03T11:30:25.957782Z"
    }
   },
   "outputs": [
    {
     "name": "stdout",
     "output_type": "stream",
     "text": [
      "{'스플릿', '닥터 스트레인지', '럭키'}\n"
     ]
    }
   ],
   "source": [
    "#72번\n",
    "\n",
    "movie_rank = {'닥터 스트레인지', '스플릿', '럭키'}\n",
    "print(movie_rank)"
   ]
  },
  {
   "cell_type": "code",
   "execution_count": 191,
   "id": "eec74c24",
   "metadata": {
    "ExecuteTime": {
     "end_time": "2023-12-03T11:30:49.704562Z",
     "start_time": "2023-12-03T11:30:49.697160Z"
    }
   },
   "outputs": [
    {
     "data": {
      "text/plain": [
       "{1}"
      ]
     },
     "execution_count": 191,
     "metadata": {},
     "output_type": "execute_result"
    }
   ],
   "source": [
    "#73번\n",
    "\n",
    "a = {1,}\n",
    "a"
   ]
  },
  {
   "cell_type": "code",
   "execution_count": 192,
   "id": "c0fc2f8a",
   "metadata": {
    "ExecuteTime": {
     "end_time": "2023-12-03T11:31:38.742285Z",
     "start_time": "2023-12-03T11:31:38.706791Z"
    }
   },
   "outputs": [
    {
     "ename": "TypeError",
     "evalue": "'tuple' object does not support item assignment",
     "output_type": "error",
     "traceback": [
      "\u001b[1;31m---------------------------------------------------------------------------\u001b[0m",
      "\u001b[1;31mTypeError\u001b[0m                                 Traceback (most recent call last)",
      "Cell \u001b[1;32mIn[192], line 4\u001b[0m\n\u001b[0;32m      1\u001b[0m \u001b[38;5;66;03m#74번\u001b[39;00m\n\u001b[0;32m      3\u001b[0m t \u001b[38;5;241m=\u001b[39m (\u001b[38;5;241m1\u001b[39m, \u001b[38;5;241m2\u001b[39m, \u001b[38;5;241m3\u001b[39m)\n\u001b[1;32m----> 4\u001b[0m t[\u001b[38;5;241m0\u001b[39m] \u001b[38;5;241m=\u001b[39m \u001b[38;5;124m'\u001b[39m\u001b[38;5;124ma\u001b[39m\u001b[38;5;124m'\u001b[39m\n",
      "\u001b[1;31mTypeError\u001b[0m: 'tuple' object does not support item assignment"
     ]
    }
   ],
   "source": [
    "#74번\n",
    "\n",
    "t = (1, 2, 3)\n",
    "t[0] = 'a'"
   ]
  },
  {
   "cell_type": "code",
   "execution_count": 194,
   "id": "ab0b6d5d",
   "metadata": {
    "ExecuteTime": {
     "end_time": "2023-12-03T11:32:19.817075Z",
     "start_time": "2023-12-03T11:32:19.807339Z"
    }
   },
   "outputs": [
    {
     "data": {
      "text/plain": [
       "tuple"
      ]
     },
     "execution_count": 194,
     "metadata": {},
     "output_type": "execute_result"
    }
   ],
   "source": [
    "#75번\n",
    "\n",
    "t = 1, 2, 3, 4\n",
    "type(t)"
   ]
  },
  {
   "cell_type": "code",
   "execution_count": 207,
   "id": "77f652a7",
   "metadata": {
    "ExecuteTime": {
     "end_time": "2023-12-03T11:41:51.761953Z",
     "start_time": "2023-12-03T11:41:51.754840Z"
    }
   },
   "outputs": [
    {
     "name": "stdout",
     "output_type": "stream",
     "text": [
      "('A', 'b', 'c')\n"
     ]
    }
   ],
   "source": [
    "#76번\n",
    "\n",
    "t = ('a', 'b', 'c')\n",
    "l = list(t)\n",
    "l[0] = 'A'\n",
    "print(tuple(l))"
   ]
  },
  {
   "cell_type": "code",
   "execution_count": 210,
   "id": "ee190f6d",
   "metadata": {
    "ExecuteTime": {
     "end_time": "2023-12-03T11:43:43.038926Z",
     "start_time": "2023-12-03T11:43:43.033318Z"
    }
   },
   "outputs": [
    {
     "name": "stdout",
     "output_type": "stream",
     "text": [
      "['삼성전자', 'LG전자', 'SK Hynix'] <class 'list'>\n"
     ]
    }
   ],
   "source": [
    "#77번\n",
    "\n",
    "interest = ('삼성전자', 'LG전자', 'SK Hynix')\n",
    "interest2 = list(interest)\n",
    "print(interest2, type(interest2))"
   ]
  },
  {
   "cell_type": "code",
   "execution_count": 211,
   "id": "f3f6b848",
   "metadata": {
    "ExecuteTime": {
     "end_time": "2023-12-03T11:44:10.358359Z",
     "start_time": "2023-12-03T11:44:10.348394Z"
    }
   },
   "outputs": [
    {
     "data": {
      "text/plain": [
       "('삼성전자', 'LG전자', 'SK Hynix')"
      ]
     },
     "execution_count": 211,
     "metadata": {},
     "output_type": "execute_result"
    }
   ],
   "source": [
    "#78번\n",
    "\n",
    "interest = ['삼성전자', 'LG전자', 'SK Hynix']\n",
    "tuple(interest)"
   ]
  },
  {
   "cell_type": "code",
   "execution_count": 212,
   "id": "10d0f434",
   "metadata": {
    "ExecuteTime": {
     "end_time": "2023-12-03T11:44:45.411279Z",
     "start_time": "2023-12-03T11:44:45.401867Z"
    }
   },
   "outputs": [
    {
     "name": "stdout",
     "output_type": "stream",
     "text": [
      "apple banana cake\n"
     ]
    }
   ],
   "source": [
    "#79번\n",
    "\n",
    "temp = ('apple', 'banana', 'cake')\n",
    "a, b, c = temp\n",
    "print(a, b, c)"
   ]
  },
  {
   "cell_type": "code",
   "execution_count": 226,
   "id": "77c72349",
   "metadata": {
    "ExecuteTime": {
     "end_time": "2023-12-03T11:58:06.914410Z",
     "start_time": "2023-12-03T11:58:06.907137Z"
    }
   },
   "outputs": [
    {
     "name": "stdout",
     "output_type": "stream",
     "text": [
      "(2, 4, 6, 8, 10, 12, 14, 16, 18, 20, 22, 24, 26, 28, 30, 32, 34, 36, 38, 40, 42, 44, 46, 48, 50, 52, 54, 56, 58, 60, 62, 64, 66, 68, 70, 72, 74, 76, 78, 80, 82, 84, 86, 88, 90, 92, 94, 96, 98)\n",
      "(2, 4, 6, 8, 10, 12, 14, 16, 18, 20, 22, 24, 26, 28, 30, 32, 34, 36, 38, 40, 42, 44, 46, 48, 50, 52, 54, 56, 58, 60, 62, 64, 66, 68, 70, 72, 74, 76, 78, 80, 82, 84, 86, 88, 90, 92, 94, 96, 98)\n"
     ]
    }
   ],
   "source": [
    "#80번\n",
    "\n",
    "a = tuple(range(99)[2: 100: 2])\n",
    "print(a)\n",
    "\n",
    "#답\n",
    "data = tuple(range(2, 100, 2))\n",
    "print( data )"
   ]
  },
  {
   "cell_type": "markdown",
   "id": "d097c4a6",
   "metadata": {},
   "source": [
    "# 파이썬 딕셔너리 081~100"
   ]
  },
  {
   "cell_type": "code",
   "execution_count": 227,
   "id": "d2d7cd9d",
   "metadata": {
    "ExecuteTime": {
     "end_time": "2023-12-03T12:17:38.695589Z",
     "start_time": "2023-12-03T12:17:38.686772Z"
    }
   },
   "outputs": [
    {
     "data": {
      "text/plain": [
       "[8.8, 8.9, 8.7, 9.2, 9.3, 9.7, 9.9, 9.5]"
      ]
     },
     "execution_count": 227,
     "metadata": {},
     "output_type": "execute_result"
    }
   ],
   "source": [
    "#81번\n",
    "\n",
    "scores = [8.8, 8.9, 8.7, 9.2, 9.3, 9.7, 9.9, 9.5, 7.8, 9.4]\n",
    "*valid_score, a, b = scores\n",
    "valid_score"
   ]
  },
  {
   "cell_type": "code",
   "execution_count": 229,
   "id": "fdde7881",
   "metadata": {
    "ExecuteTime": {
     "end_time": "2023-12-03T12:20:32.758748Z",
     "start_time": "2023-12-03T12:20:32.750985Z"
    }
   },
   "outputs": [
    {
     "name": "stdout",
     "output_type": "stream",
     "text": [
      "[8.7, 9.2, 9.3, 9.7, 9.9, 9.5, 7.8, 9.4]\n"
     ]
    }
   ],
   "source": [
    "#82번\n",
    "\n",
    "scores = [8.8, 8.9, 8.7, 9.2, 9.3, 9.7, 9.9, 9.5, 7.8, 9.4]\n",
    "a, b, *valid_score = scores\n",
    "print(valid_score)"
   ]
  },
  {
   "cell_type": "code",
   "execution_count": 230,
   "id": "4bb7148b",
   "metadata": {
    "ExecuteTime": {
     "end_time": "2023-12-03T12:21:04.471385Z",
     "start_time": "2023-12-03T12:21:04.463877Z"
    }
   },
   "outputs": [
    {
     "name": "stdout",
     "output_type": "stream",
     "text": [
      "[8.9, 8.7, 9.2, 9.3, 9.7, 9.9, 9.5, 7.8]\n"
     ]
    }
   ],
   "source": [
    "#83번\n",
    "\n",
    "scores = [8.8, 8.9, 8.7, 9.2, 9.3, 9.7, 9.9, 9.5, 7.8, 9.4]\n",
    "a, *valid_score, b = scores\n",
    "print(valid_score)"
   ]
  },
  {
   "cell_type": "code",
   "execution_count": 233,
   "id": "838a9674",
   "metadata": {
    "ExecuteTime": {
     "end_time": "2023-12-03T12:22:30.572922Z",
     "start_time": "2023-12-03T12:22:30.566597Z"
    }
   },
   "outputs": [
    {
     "name": "stdout",
     "output_type": "stream",
     "text": [
      "{} <class 'dict'>\n"
     ]
    }
   ],
   "source": [
    "#84번\n",
    "\n",
    "temp = {}\n",
    "print(temp, type(temp))"
   ]
  },
  {
   "cell_type": "code",
   "execution_count": 237,
   "id": "842130be",
   "metadata": {
    "ExecuteTime": {
     "end_time": "2023-12-03T12:24:03.665981Z",
     "start_time": "2023-12-03T12:24:03.658911Z"
    }
   },
   "outputs": [
    {
     "name": "stdout",
     "output_type": "stream",
     "text": [
      "{'메로나': 1000, '폴라포': 1200, '빵빠레': 1800}\n"
     ]
    }
   ],
   "source": [
    "#85번\n",
    "\n",
    "ice = {'메로나' : 1000, '폴라포' : 1200, '빵빠레' : 1800}\n",
    "print(ice)"
   ]
  },
  {
   "cell_type": "code",
   "execution_count": 240,
   "id": "900b4c7c",
   "metadata": {
    "ExecuteTime": {
     "end_time": "2023-12-03T12:25:02.180778Z",
     "start_time": "2023-12-03T12:25:02.174773Z"
    }
   },
   "outputs": [
    {
     "name": "stdout",
     "output_type": "stream",
     "text": [
      "{'메로나': 1000, '폴라포': 1200, '빵빠레': 1800, '죠스바': 1200, '월드콘': 1500}\n"
     ]
    }
   ],
   "source": [
    "#86번\n",
    "\n",
    "ice['죠스바']=1200\n",
    "ice['월드콘']=1500\n",
    "print(ice)"
   ]
  },
  {
   "cell_type": "code",
   "execution_count": 243,
   "id": "a41045b0",
   "metadata": {
    "ExecuteTime": {
     "end_time": "2023-12-03T12:27:53.652936Z",
     "start_time": "2023-12-03T12:27:53.646438Z"
    }
   },
   "outputs": [
    {
     "name": "stdout",
     "output_type": "stream",
     "text": [
      "메로나 가격: 1000\n"
     ]
    }
   ],
   "source": [
    "#87번\n",
    "\n",
    "ice = {'메로나': 1000,\n",
    "       '폴로포': 1200,\n",
    "       '빵빠레': 1800,\n",
    "       '죠스바': 1200,\n",
    "       '월드콘': 1500}\n",
    "\n",
    "print('메로나 가격:', ice['메로나'])"
   ]
  },
  {
   "cell_type": "code",
   "execution_count": 245,
   "id": "b77e55bf",
   "metadata": {
    "ExecuteTime": {
     "end_time": "2023-12-03T12:29:25.651257Z",
     "start_time": "2023-12-03T12:29:25.643035Z"
    }
   },
   "outputs": [
    {
     "name": "stdout",
     "output_type": "stream",
     "text": [
      "{'메로나': '1300', '폴로포': 1200, '빵빠레': 1800, '죠스바': 1200, '월드콘': 1500}\n"
     ]
    }
   ],
   "source": [
    "#88번\n",
    "\n",
    "ice = {'메로나': 1000,\n",
    "       '폴로포': 1200,\n",
    "       '빵빠레': 1800,\n",
    "       '죠스바': 1200,\n",
    "       '월드콘': 1500}\n",
    "\n",
    "ice['메로나']='1300'\n",
    "print(ice)"
   ]
  },
  {
   "cell_type": "code",
   "execution_count": 246,
   "id": "ccb33ee6",
   "metadata": {
    "ExecuteTime": {
     "end_time": "2023-12-03T12:33:10.698496Z",
     "start_time": "2023-12-03T12:33:10.691338Z"
    }
   },
   "outputs": [
    {
     "name": "stdout",
     "output_type": "stream",
     "text": [
      "{'폴로포': 1200, '빵빠레': 1800, '죠스바': 1200, '월드콘': 1500}\n"
     ]
    }
   ],
   "source": [
    "#89번\n",
    "\n",
    "ice = {'메로나': 1000,\n",
    "       '폴로포': 1200,\n",
    "       '빵빠레': 1800,\n",
    "       '죠스바': 1200,\n",
    "       '월드콘': 1500}\n",
    "\n",
    "del ice['메로나']\n",
    "print(ice)"
   ]
  },
  {
   "cell_type": "code",
   "execution_count": null,
   "id": "01f67983",
   "metadata": {},
   "outputs": [],
   "source": [
    "#90번\n",
    "\n",
    "icecream = {'폴라포': 1200, '빵빠레': 1800, '월드콘': 1500, '메로나': 1000}\n",
    "icecream['누가바']\n",
    "\n",
    "#value를 넣지 않아서 오류 발생"
   ]
  },
  {
   "cell_type": "code",
   "execution_count": 250,
   "id": "16ea7dd3",
   "metadata": {
    "ExecuteTime": {
     "end_time": "2023-12-03T12:37:30.919943Z",
     "start_time": "2023-12-03T12:37:30.913658Z"
    },
    "scrolled": true
   },
   "outputs": [
    {
     "name": "stdout",
     "output_type": "stream",
     "text": [
      "{'메로나': [300, 20], '비비빅': [400, 3], '죠스바': [250, 100]}\n"
     ]
    }
   ],
   "source": [
    "#91번\n",
    "\n",
    "inventory = {'메로나':[300, 20], '비비빅':[400, 3], '죠스바':[250, 100]}\n",
    "print(inventory)"
   ]
  },
  {
   "cell_type": "code",
   "execution_count": 257,
   "id": "61b33d46",
   "metadata": {
    "ExecuteTime": {
     "end_time": "2023-12-03T12:39:37.201735Z",
     "start_time": "2023-12-03T12:39:37.193785Z"
    }
   },
   "outputs": [
    {
     "name": "stdout",
     "output_type": "stream",
     "text": [
      "300 원\n"
     ]
    }
   ],
   "source": [
    "#92번\n",
    "\n",
    "inventory = {\"메로나\": [300, 20],\n",
    "              \"비비빅\": [400, 3],\n",
    "              \"죠스바\": [250, 100]}\n",
    "\n",
    "print(inventory['메로나'][0], '원')"
   ]
  },
  {
   "cell_type": "code",
   "execution_count": 258,
   "id": "884bcc6a",
   "metadata": {
    "ExecuteTime": {
     "end_time": "2023-12-03T12:41:17.042691Z",
     "start_time": "2023-12-03T12:41:17.034872Z"
    }
   },
   "outputs": [
    {
     "name": "stdout",
     "output_type": "stream",
     "text": [
      "20 개\n"
     ]
    }
   ],
   "source": [
    "#93번\n",
    "\n",
    "inventory = {\"메로나\": [300, 20],\n",
    "              \"비비빅\": [400, 3],\n",
    "              \"죠스바\": [250, 100]}\n",
    "\n",
    "print(inventory['메로나'][1], '개')"
   ]
  },
  {
   "cell_type": "code",
   "execution_count": 259,
   "id": "6f309aa6",
   "metadata": {
    "ExecuteTime": {
     "end_time": "2023-12-03T12:41:58.974511Z",
     "start_time": "2023-12-03T12:41:58.966382Z"
    }
   },
   "outputs": [
    {
     "name": "stdout",
     "output_type": "stream",
     "text": [
      "{'메로나': [300, 20], '비비빅': [400, 3], '죠스바': [250, 100], '월드콘': [500, 7]}\n"
     ]
    }
   ],
   "source": [
    "#94번\n",
    "\n",
    "inventory = {\"메로나\": [300, 20],\n",
    "              \"비비빅\": [400, 3],\n",
    "              \"죠스바\": [250, 100]}\n",
    "\n",
    "inventory['월드콘'] = [500, 7]\n",
    "print(inventory)"
   ]
  },
  {
   "cell_type": "code",
   "execution_count": 266,
   "id": "9c55994f",
   "metadata": {
    "ExecuteTime": {
     "end_time": "2023-12-03T12:52:42.687749Z",
     "start_time": "2023-12-03T12:52:42.680376Z"
    }
   },
   "outputs": [
    {
     "name": "stdout",
     "output_type": "stream",
     "text": [
      "['탱크보이', '폴라포', '빵빠레', '월드콘', '메로나']\n"
     ]
    }
   ],
   "source": [
    "#95번\n",
    "\n",
    "icecream = {'탱크보이': 1200, '폴라포': 1200, '빵빠레': 1800, '월드콘': 1500, '메로나': 1000}\n",
    "a = icecream.keys()\n",
    "print(list(a))"
   ]
  },
  {
   "cell_type": "code",
   "execution_count": 267,
   "id": "4c397a59",
   "metadata": {
    "ExecuteTime": {
     "end_time": "2023-12-03T12:53:10.236240Z",
     "start_time": "2023-12-03T12:53:10.227832Z"
    }
   },
   "outputs": [
    {
     "name": "stdout",
     "output_type": "stream",
     "text": [
      "[1200, 1200, 1800, 1500, 1000]\n"
     ]
    }
   ],
   "source": [
    "#96번\n",
    "\n",
    "icecream = {'탱크보이': 1200, '폴라포': 1200, '빵빠레': 1800, '월드콘': 1500, '메로나': 1000}\n",
    "a = icecream.values()\n",
    "print(list(a))"
   ]
  },
  {
   "cell_type": "code",
   "execution_count": 270,
   "id": "d6c7caa8",
   "metadata": {
    "ExecuteTime": {
     "end_time": "2023-12-03T12:55:05.953768Z",
     "start_time": "2023-12-03T12:55:05.945074Z"
    }
   },
   "outputs": [
    {
     "name": "stdout",
     "output_type": "stream",
     "text": [
      "6700\n"
     ]
    }
   ],
   "source": [
    "#97번\n",
    "\n",
    "icecream = {'탱크보이': 1200, '폴라포': 1200, '빵빠레': 1800, '월드콘': 1500, '메로나': 1000}\n",
    "price = icecream.values()\n",
    "print(sum(price))"
   ]
  },
  {
   "cell_type": "code",
   "execution_count": 272,
   "id": "9d29085a",
   "metadata": {
    "ExecuteTime": {
     "end_time": "2023-12-03T12:58:10.952957Z",
     "start_time": "2023-12-03T12:58:10.939528Z"
    }
   },
   "outputs": [
    {
     "name": "stdout",
     "output_type": "stream",
     "text": [
      "{'탱크보이': 1200, '폴라포': 1200, '빵빠레': 1800, '월드콘': 1500, '메로나': 1000, '팥빙수': 2700, '아맛나': 1000}\n",
      "{'탱크보이': 1200, '폴라포': 1200, '빵빠레': 1800, '월드콘': 1500, '메로나': 1000, '팥빙수': 2700, '아맛나': 1000}\n"
     ]
    }
   ],
   "source": [
    "#98번\n",
    "\n",
    "icecream = {'탱크보이': 1200, '폴라포': 1200, '빵빠레': 1800, '월드콘': 1500, '메로나': 1000}\n",
    "icecream['팥빙수'] = 2700\n",
    "icecream['아맛나'] = 1000\n",
    "print(icecream)\n",
    "\n",
    "#답\n",
    "icecream = {'탱크보이': 1200, '폴라포': 1200, '빵빠레': 1800, '월드콘': 1500, '메로나': 1000}\n",
    "new_product = {'팥빙수':2700, '아맛나':1000}\n",
    "icecream.update(new_product)\n",
    "print(icecream)"
   ]
  },
  {
   "cell_type": "code",
   "execution_count": 282,
   "id": "9adef35c",
   "metadata": {
    "ExecuteTime": {
     "end_time": "2023-12-03T13:11:01.384224Z",
     "start_time": "2023-12-03T13:11:01.375322Z"
    }
   },
   "outputs": [
    {
     "name": "stdout",
     "output_type": "stream",
     "text": [
      "{'apple': 300, 'pear': 250, 'peach': 400}\n",
      "<zip object at 0x0000021487C9BF00>\n"
     ]
    }
   ],
   "source": [
    "#99번\n",
    "\n",
    "keys = (\"apple\", \"pear\", \"peach\")\n",
    "vals = (300, 250, 400)\n",
    "\n",
    "a = {keys[0] : vals[0], keys[1] : vals[1], keys[2] : vals[2]}\n",
    "print(a)\n",
    "\n",
    "#답\n",
    "keys = (\"apple\", \"pear\", \"peach\")\n",
    "vals = (300, 250, 400)\n",
    "print(dict(zip(keys, vals)))"
   ]
  },
  {
   "cell_type": "code",
   "execution_count": 283,
   "id": "c01cd3f6",
   "metadata": {
    "ExecuteTime": {
     "end_time": "2023-12-03T13:12:17.588169Z",
     "start_time": "2023-12-03T13:12:17.580313Z"
    }
   },
   "outputs": [
    {
     "name": "stdout",
     "output_type": "stream",
     "text": [
      "{'09/05': 10500, '09/06': 10300, '09/07': 10100, '09/08': 10800, '09/09': 11000}\n"
     ]
    }
   ],
   "source": [
    "#100번\n",
    "\n",
    "date = ['09/05', '09/06', '09/07', '09/08', '09/09']\n",
    "close_price = [10500, 10300, 10100, 10800, 11000]\n",
    "\n",
    "close_table = dict(zip(date, close_price))\n",
    "print(close_table)"
   ]
  },
  {
   "cell_type": "markdown",
   "id": "ab298a10",
   "metadata": {},
   "source": [
    "# 파이썬 분기문 101~130"
   ]
  },
  {
   "cell_type": "code",
   "execution_count": 284,
   "id": "2679df6e",
   "metadata": {
    "ExecuteTime": {
     "end_time": "2023-12-03T13:12:48.720050Z",
     "start_time": "2023-12-03T13:12:48.715109Z"
    }
   },
   "outputs": [],
   "source": [
    "#101번\n",
    "\n",
    "bool 타입"
   ]
  },
  {
   "cell_type": "code",
   "execution_count": 285,
   "id": "21ca008d",
   "metadata": {
    "ExecuteTime": {
     "end_time": "2023-12-03T13:14:39.468708Z",
     "start_time": "2023-12-03T13:14:39.462892Z"
    }
   },
   "outputs": [
    {
     "name": "stdout",
     "output_type": "stream",
     "text": [
      "False\n"
     ]
    }
   ],
   "source": [
    "#102번\n",
    "\n",
    "print(3 == 5)"
   ]
  },
  {
   "cell_type": "code",
   "execution_count": 287,
   "id": "959cf207",
   "metadata": {
    "ExecuteTime": {
     "end_time": "2023-12-03T13:14:51.035626Z",
     "start_time": "2023-12-03T13:14:51.029796Z"
    },
    "scrolled": true
   },
   "outputs": [
    {
     "name": "stdout",
     "output_type": "stream",
     "text": [
      "True\n"
     ]
    }
   ],
   "source": [
    "#103번\n",
    "\n",
    "print(3 < 5)"
   ]
  },
  {
   "cell_type": "code",
   "execution_count": 288,
   "id": "3350fab1",
   "metadata": {
    "ExecuteTime": {
     "end_time": "2023-12-03T13:15:12.910715Z",
     "start_time": "2023-12-03T13:15:12.904248Z"
    },
    "scrolled": true
   },
   "outputs": [
    {
     "name": "stdout",
     "output_type": "stream",
     "text": [
      "True\n"
     ]
    }
   ],
   "source": [
    "#104번\n",
    "\n",
    "x = 4\n",
    "print(1 < x < 5)"
   ]
  },
  {
   "cell_type": "code",
   "execution_count": null,
   "id": "5cda3d72",
   "metadata": {},
   "outputs": [],
   "source": [
    "#105번\n",
    "\n",
    "print ((3 == 3) and (4 != 3))"
   ]
  },
  {
   "cell_type": "code",
   "execution_count": 289,
   "id": "c6c78fa3",
   "metadata": {
    "ExecuteTime": {
     "end_time": "2023-12-03T13:15:56.767793Z",
     "start_time": "2023-12-03T13:15:56.755865Z"
    },
    "scrolled": true
   },
   "outputs": [
    {
     "ename": "SyntaxError",
     "evalue": "expression cannot contain assignment, perhaps you meant \"==\"? (1186473956.py, line 3)",
     "output_type": "error",
     "traceback": [
      "\u001b[1;36m  Cell \u001b[1;32mIn[289], line 3\u001b[1;36m\u001b[0m\n\u001b[1;33m    print(3 => 4)\u001b[0m\n\u001b[1;37m          ^\u001b[0m\n\u001b[1;31mSyntaxError\u001b[0m\u001b[1;31m:\u001b[0m expression cannot contain assignment, perhaps you meant \"==\"?\n"
     ]
    }
   ],
   "source": [
    "#106번\n",
    "\n",
    "print(3 => 4) #지원하지 않는 연산자"
   ]
  },
  {
   "cell_type": "code",
   "execution_count": 290,
   "id": "1539c75d",
   "metadata": {
    "ExecuteTime": {
     "end_time": "2023-12-03T13:16:41.129415Z",
     "start_time": "2023-12-03T13:16:41.125229Z"
    }
   },
   "outputs": [],
   "source": [
    "#107번\n",
    "\n",
    "if 4 < 3:\n",
    "    print(\"Hello World\") #false이기 때문에 아무것도 출력x"
   ]
  },
  {
   "cell_type": "code",
   "execution_count": 291,
   "id": "d170166e",
   "metadata": {
    "ExecuteTime": {
     "end_time": "2023-12-03T13:17:19.775764Z",
     "start_time": "2023-12-03T13:17:19.770215Z"
    }
   },
   "outputs": [
    {
     "name": "stdout",
     "output_type": "stream",
     "text": [
      "Hi, there.\n"
     ]
    }
   ],
   "source": [
    "#108번\n",
    "\n",
    "if 4 < 3:\n",
    "    print(\"Hello World.\")\n",
    "else:\n",
    "    print(\"Hi, there.\") #false이기 때문에 출력"
   ]
  },
  {
   "cell_type": "code",
   "execution_count": 292,
   "id": "127ac9aa",
   "metadata": {
    "ExecuteTime": {
     "end_time": "2023-12-03T13:18:20.584861Z",
     "start_time": "2023-12-03T13:18:20.578056Z"
    }
   },
   "outputs": [
    {
     "name": "stdout",
     "output_type": "stream",
     "text": [
      "1\n",
      "2\n",
      "4\n"
     ]
    }
   ],
   "source": [
    "#109번\n",
    "\n",
    "if True :\n",
    "    print (\"1\") #True니까 출력\n",
    "    print (\"2\")\n",
    "else :\n",
    "    print(\"3\")\n",
    "print(\"4\")"
   ]
  },
  {
   "cell_type": "code",
   "execution_count": 293,
   "id": "b0872b6f",
   "metadata": {
    "ExecuteTime": {
     "end_time": "2023-12-03T13:18:57.988418Z",
     "start_time": "2023-12-03T13:18:57.980375Z"
    }
   },
   "outputs": [
    {
     "name": "stdout",
     "output_type": "stream",
     "text": [
      "3\n",
      "5\n"
     ]
    }
   ],
   "source": [
    "#110번\n",
    "\n",
    "if True :\n",
    "    if False:\n",
    "        print(\"1\")\n",
    "        print(\"2\")\n",
    "    else:\n",
    "        print(\"3\") #출력\n",
    "else :\n",
    "    print(\"4\")\n",
    "print(\"5\") #출력"
   ]
  },
  {
   "cell_type": "code",
   "execution_count": null,
   "id": "c74a5be9",
   "metadata": {},
   "outputs": [],
   "source": [
    "#111번\n",
    "\n",
    "'안녕하세요'*2"
   ]
  }
 ],
 "metadata": {
  "kernelspec": {
   "display_name": "Python 3 (ipykernel)",
   "language": "python",
   "name": "python3"
  },
  "language_info": {
   "codemirror_mode": {
    "name": "ipython",
    "version": 3
   },
   "file_extension": ".py",
   "mimetype": "text/x-python",
   "name": "python",
   "nbconvert_exporter": "python",
   "pygments_lexer": "ipython3",
   "version": "3.11.5"
  },
  "toc": {
   "base_numbering": 1,
   "nav_menu": {},
   "number_sections": true,
   "sideBar": true,
   "skip_h1_title": false,
   "title_cell": "Table of Contents",
   "title_sidebar": "Contents",
   "toc_cell": false,
   "toc_position": {},
   "toc_section_display": true,
   "toc_window_display": false
  }
 },
 "nbformat": 4,
 "nbformat_minor": 5
}
