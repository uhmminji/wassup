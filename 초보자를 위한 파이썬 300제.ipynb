{
 "cells": [
  {
   "cell_type": "markdown",
   "id": "99f7ceab",
   "metadata": {},
   "source": [
    "# 파이썬 시작하기 001~010"
   ]
  },
  {
   "cell_type": "code",
   "execution_count": 2,
   "id": "88b1b507",
   "metadata": {
    "ExecuteTime": {
     "end_time": "2023-12-02T08:57:58.563042Z",
     "start_time": "2023-12-02T08:57:58.557105Z"
    }
   },
   "outputs": [
    {
     "name": "stdout",
     "output_type": "stream",
     "text": [
      "Hello world\n"
     ]
    }
   ],
   "source": [
    "#1번\n",
    "\n",
    "print('Hello world')"
   ]
  },
  {
   "cell_type": "code",
   "execution_count": 3,
   "id": "3d82447d",
   "metadata": {
    "ExecuteTime": {
     "end_time": "2023-12-02T08:58:28.311923Z",
     "start_time": "2023-12-02T08:58:28.305901Z"
    }
   },
   "outputs": [
    {
     "name": "stdout",
     "output_type": "stream",
     "text": [
      "Mary's cosmetics\n"
     ]
    }
   ],
   "source": [
    "#2번\n",
    "\n",
    "print(\"Mary's cosmetics\")"
   ]
  },
  {
   "cell_type": "code",
   "execution_count": 4,
   "id": "1bb7c6be",
   "metadata": {
    "ExecuteTime": {
     "end_time": "2023-12-02T08:58:51.419807Z",
     "start_time": "2023-12-02T08:58:51.413032Z"
    }
   },
   "outputs": [
    {
     "name": "stdout",
     "output_type": "stream",
     "text": [
      "신씨가 소리질렀다. \"도둑이야\".\n"
     ]
    }
   ],
   "source": [
    "#3번\n",
    "\n",
    "print('신씨가 소리질렀다. \"도둑이야\".')"
   ]
  },
  {
   "cell_type": "code",
   "execution_count": 5,
   "id": "1c732640",
   "metadata": {
    "ExecuteTime": {
     "end_time": "2023-12-02T08:59:19.692111Z",
     "start_time": "2023-12-02T08:59:19.685969Z"
    }
   },
   "outputs": [
    {
     "name": "stdout",
     "output_type": "stream",
     "text": [
      "C:|Windows\n"
     ]
    }
   ],
   "source": [
    "#4번\n",
    "print('C:|Windows')"
   ]
  },
  {
   "cell_type": "code",
   "execution_count": null,
   "id": "f4ac4def",
   "metadata": {},
   "outputs": [],
   "source": [
    "#5번\n",
    "\n",
    "/n: 줄 바꿈\n",
    "/t: 탭"
   ]
  },
  {
   "cell_type": "code",
   "execution_count": 62,
   "id": "93e5365e",
   "metadata": {
    "ExecuteTime": {
     "end_time": "2023-12-02T12:17:57.663757Z",
     "start_time": "2023-12-02T12:17:57.656918Z"
    }
   },
   "outputs": [
    {
     "name": "stdout",
     "output_type": "stream",
     "text": [
      "오늘은일요일\n",
      "오늘은 일요일\n"
     ]
    }
   ],
   "source": [
    "#6번\n",
    "\n",
    "print('오늘은' '일요일')\n",
    "print('오늘은', '일요일')"
   ]
  },
  {
   "cell_type": "code",
   "execution_count": 9,
   "id": "e86cc3e6",
   "metadata": {
    "ExecuteTime": {
     "end_time": "2023-12-02T09:02:10.397553Z",
     "start_time": "2023-12-02T09:02:10.391601Z"
    }
   },
   "outputs": [
    {
     "name": "stdout",
     "output_type": "stream",
     "text": [
      "naver;kakao;sk;samsung\n"
     ]
    }
   ],
   "source": [
    "#7번\n",
    "print('naver', 'kakao', 'sk', 'samsung', sep=';')"
   ]
  },
  {
   "cell_type": "code",
   "execution_count": 10,
   "id": "08150b72",
   "metadata": {
    "ExecuteTime": {
     "end_time": "2023-12-02T09:03:26.933149Z",
     "start_time": "2023-12-02T09:03:26.926912Z"
    }
   },
   "outputs": [
    {
     "name": "stdout",
     "output_type": "stream",
     "text": [
      "naver/kakao/sk/samsung\n"
     ]
    }
   ],
   "source": [
    "#8번\n",
    "\n",
    "print('naver', 'kakao', 'sk', 'samsung', sep='/')"
   ]
  },
  {
   "cell_type": "code",
   "execution_count": 12,
   "id": "78d26d31",
   "metadata": {
    "ExecuteTime": {
     "end_time": "2023-12-02T09:04:07.074208Z",
     "start_time": "2023-12-02T09:04:07.067346Z"
    }
   },
   "outputs": [
    {
     "name": "stdout",
     "output_type": "stream",
     "text": [
      "firstsecond\n"
     ]
    }
   ],
   "source": [
    "#9번\n",
    "\n",
    "print('first', end='');print('second')"
   ]
  },
  {
   "cell_type": "code",
   "execution_count": 13,
   "id": "6d724496",
   "metadata": {
    "ExecuteTime": {
     "end_time": "2023-12-02T09:04:22.648828Z",
     "start_time": "2023-12-02T09:04:22.632822Z"
    }
   },
   "outputs": [
    {
     "data": {
      "text/plain": [
       "1.6666666666666667"
      ]
     },
     "execution_count": 13,
     "metadata": {},
     "output_type": "execute_result"
    }
   ],
   "source": [
    "#10번\n",
    "\n",
    "5/3"
   ]
  },
  {
   "cell_type": "markdown",
   "id": "7bdedda4",
   "metadata": {},
   "source": [
    "# 파이썬 변수 011~020"
   ]
  },
  {
   "cell_type": "code",
   "execution_count": 15,
   "id": "62b75c0f",
   "metadata": {
    "ExecuteTime": {
     "end_time": "2023-12-02T09:05:54.107966Z",
     "start_time": "2023-12-02T09:05:54.100984Z"
    }
   },
   "outputs": [
    {
     "name": "stdout",
     "output_type": "stream",
     "text": [
      "500000\n"
     ]
    }
   ],
   "source": [
    "#11번\n",
    "\n",
    "삼성전자 = 50000\n",
    "총평가금액 = 삼성전자 * 10\n",
    "print(총평가금액)"
   ]
  },
  {
   "cell_type": "code",
   "execution_count": 16,
   "id": "60a63870",
   "metadata": {
    "ExecuteTime": {
     "end_time": "2023-12-02T09:08:15.346553Z",
     "start_time": "2023-12-02T09:08:15.338394Z"
    }
   },
   "outputs": [
    {
     "name": "stdout",
     "output_type": "stream",
     "text": [
      "29800000000000\n",
      "50000\n",
      "15.79\n"
     ]
    }
   ],
   "source": [
    "#12번\n",
    "\n",
    "시가총액 = 29800000000000\n",
    "현재가 = 50000\n",
    "PER = 15.79\n",
    "\n",
    "print(시가총액)\n",
    "print(현재가)\n",
    "print(PER)"
   ]
  },
  {
   "cell_type": "code",
   "execution_count": 19,
   "id": "76c4678d",
   "metadata": {
    "ExecuteTime": {
     "end_time": "2023-12-02T09:09:13.390818Z",
     "start_time": "2023-12-02T09:09:13.385249Z"
    }
   },
   "outputs": [
    {
     "name": "stdout",
     "output_type": "stream",
     "text": [
      "hello! python\n"
     ]
    }
   ],
   "source": [
    "#13번\n",
    "\n",
    "s = 'hello'\n",
    "t = 'python'\n",
    "print(s + '!', t)"
   ]
  },
  {
   "cell_type": "code",
   "execution_count": 20,
   "id": "48239a98",
   "metadata": {
    "ExecuteTime": {
     "end_time": "2023-12-02T09:09:27.309163Z",
     "start_time": "2023-12-02T09:09:27.301002Z"
    }
   },
   "outputs": [
    {
     "data": {
      "text/plain": [
       "8"
      ]
     },
     "execution_count": 20,
     "metadata": {},
     "output_type": "execute_result"
    }
   ],
   "source": [
    "#14번\n",
    "\n",
    "2+2*3"
   ]
  },
  {
   "cell_type": "markdown",
   "id": "bc22fff7",
   "metadata": {},
   "source": [
    "## 데이터 타입 판별: type()"
   ]
  },
  {
   "cell_type": "code",
   "execution_count": 22,
   "id": "9e7b7304",
   "metadata": {
    "ExecuteTime": {
     "end_time": "2023-12-02T09:10:57.892334Z",
     "start_time": "2023-12-02T09:10:57.885985Z"
    }
   },
   "outputs": [
    {
     "name": "stdout",
     "output_type": "stream",
     "text": [
      "<class 'str'>\n"
     ]
    }
   ],
   "source": [
    "#15번\n",
    "\n",
    "a = '132'\n",
    "print(type(a))"
   ]
  },
  {
   "cell_type": "markdown",
   "id": "06613d39",
   "metadata": {},
   "source": [
    "## 타입 변환: int()"
   ]
  },
  {
   "cell_type": "code",
   "execution_count": 27,
   "id": "1e31e774",
   "metadata": {
    "ExecuteTime": {
     "end_time": "2023-12-02T09:13:58.530326Z",
     "start_time": "2023-12-02T09:13:58.522629Z"
    }
   },
   "outputs": [
    {
     "name": "stdout",
     "output_type": "stream",
     "text": [
      "<class 'int'>\n"
     ]
    }
   ],
   "source": [
    "#16번\n",
    "\n",
    "num_str = '720'\n",
    "print(type(int(num_str)))"
   ]
  },
  {
   "cell_type": "code",
   "execution_count": 29,
   "id": "df8cf758",
   "metadata": {
    "ExecuteTime": {
     "end_time": "2023-12-02T09:19:44.072084Z",
     "start_time": "2023-12-02T09:19:44.065259Z"
    }
   },
   "outputs": [
    {
     "name": "stdout",
     "output_type": "stream",
     "text": [
      "<class 'str'>\n"
     ]
    }
   ],
   "source": [
    "#17번\n",
    "\n",
    "num = 100\n",
    "print(type(str(num)))"
   ]
  },
  {
   "cell_type": "code",
   "execution_count": 30,
   "id": "beaa65bd",
   "metadata": {
    "ExecuteTime": {
     "end_time": "2023-12-02T09:20:19.753217Z",
     "start_time": "2023-12-02T09:20:19.747405Z"
    }
   },
   "outputs": [
    {
     "name": "stdout",
     "output_type": "stream",
     "text": [
      "<class 'float'>\n"
     ]
    }
   ],
   "source": [
    "#18번\n",
    "\n",
    "print(type(float(15.79)))"
   ]
  },
  {
   "cell_type": "code",
   "execution_count": 33,
   "id": "4d387454",
   "metadata": {
    "ExecuteTime": {
     "end_time": "2023-12-02T09:22:09.053575Z",
     "start_time": "2023-12-02T09:22:09.046839Z"
    }
   },
   "outputs": [
    {
     "name": "stdout",
     "output_type": "stream",
     "text": [
      "2020 2019 2018\n"
     ]
    }
   ],
   "source": [
    "#19번\n",
    "\n",
    "year = '2020'\n",
    "y = int(year)\n",
    "print(y, y-1, y-2)"
   ]
  },
  {
   "cell_type": "code",
   "execution_count": 35,
   "id": "8f9d3980",
   "metadata": {
    "ExecuteTime": {
     "end_time": "2023-12-02T09:23:38.131222Z",
     "start_time": "2023-12-02T09:23:38.121713Z"
    }
   },
   "outputs": [
    {
     "name": "stdout",
     "output_type": "stream",
     "text": [
      "1749024\n"
     ]
    }
   ],
   "source": [
    "#20번\n",
    "\n",
    "월 = 48584\n",
    "기간 = 36\n",
    "총금액 = 월*기간\n",
    "print(총금액)"
   ]
  },
  {
   "cell_type": "markdown",
   "id": "9a75c651",
   "metadata": {},
   "source": [
    "# 파이썬 문자열 021~050"
   ]
  },
  {
   "cell_type": "code",
   "execution_count": 40,
   "id": "c2cb5701",
   "metadata": {
    "ExecuteTime": {
     "end_time": "2023-12-02T09:25:14.874039Z",
     "start_time": "2023-12-02T09:25:14.865312Z"
    }
   },
   "outputs": [
    {
     "name": "stdout",
     "output_type": "stream",
     "text": [
      "p t\n"
     ]
    }
   ],
   "source": [
    "#21번\n",
    "\n",
    "letters = 'python'\n",
    "print(letters[0], letters[2])"
   ]
  },
  {
   "cell_type": "code",
   "execution_count": 41,
   "id": "2540f5f7",
   "metadata": {
    "ExecuteTime": {
     "end_time": "2023-12-02T09:26:01.976125Z",
     "start_time": "2023-12-02T09:26:01.968117Z"
    }
   },
   "outputs": [
    {
     "name": "stdout",
     "output_type": "stream",
     "text": [
      "2210\n"
     ]
    }
   ],
   "source": [
    "#22번\n",
    "\n",
    "license_plate = '24가 2210'\n",
    "print(license_plate[-4:])"
   ]
  },
  {
   "cell_type": "markdown",
   "id": "c11c5e32",
   "metadata": {},
   "source": [
    "## 슬라이싱: [::2]\n",
    "a[ start : end : step ]\n",
    "- step이 양수일 때: 오른쪽으로 step만큼 이동하면서 가져옵니다.\n",
    "- step이 음수일 때: 왼쪽으로 step만큼 이동하면서 가져옵니다."
   ]
  },
  {
   "cell_type": "code",
   "execution_count": 46,
   "id": "78ed4362",
   "metadata": {
    "ExecuteTime": {
     "end_time": "2023-12-02T12:09:14.555136Z",
     "start_time": "2023-12-02T12:09:14.547347Z"
    }
   },
   "outputs": [
    {
     "name": "stdout",
     "output_type": "stream",
     "text": [
      "홀홀홀\n"
     ]
    }
   ],
   "source": [
    "#23번\n",
    "\n",
    "string = '홀짝홀짝홀짝'\n",
    "print(string[::2])"
   ]
  },
  {
   "cell_type": "code",
   "execution_count": 57,
   "id": "f31cb428",
   "metadata": {
    "ExecuteTime": {
     "end_time": "2023-12-02T12:15:42.538032Z",
     "start_time": "2023-12-02T12:15:42.531374Z"
    }
   },
   "outputs": [
    {
     "name": "stdout",
     "output_type": "stream",
     "text": [
      "nohtyp\n"
     ]
    }
   ],
   "source": [
    "#24번\n",
    "\n",
    "string = 'python'\n",
    "print(string[::-1])"
   ]
  },
  {
   "cell_type": "code",
   "execution_count": 66,
   "id": "81632e7a",
   "metadata": {
    "ExecuteTime": {
     "end_time": "2023-12-02T12:19:52.823599Z",
     "start_time": "2023-12-02T12:19:52.815297Z"
    },
    "scrolled": true
   },
   "outputs": [
    {
     "name": "stdout",
     "output_type": "stream",
     "text": [
      "010 1111 2222\n",
      "010 1111 2222\n"
     ]
    }
   ],
   "source": [
    "#25번\n",
    "\n",
    "#내 풀이\n",
    "phone_number = \"010-1111-2222\"\n",
    "print(phone_number[:3], phone_number[4:8], phone_number[9:])\n",
    "\n",
    "#답\n",
    "print(phone_number.replace('-', ' '))"
   ]
  },
  {
   "cell_type": "code",
   "execution_count": 70,
   "id": "a6ae19b4",
   "metadata": {
    "ExecuteTime": {
     "end_time": "2023-12-02T12:20:56.339979Z",
     "start_time": "2023-12-02T12:20:56.333076Z"
    },
    "scrolled": true
   },
   "outputs": [
    {
     "name": "stdout",
     "output_type": "stream",
     "text": [
      "01011112222\n"
     ]
    }
   ],
   "source": [
    "#26번\n",
    "\n",
    "phone_number = \"010-1111-2222\"\n",
    "print(phone_number.replace('-',''))"
   ]
  },
  {
   "cell_type": "code",
   "execution_count": 74,
   "id": "73011f18",
   "metadata": {
    "ExecuteTime": {
     "end_time": "2023-12-02T12:22:49.443353Z",
     "start_time": "2023-12-02T12:22:49.436801Z"
    }
   },
   "outputs": [
    {
     "name": "stdout",
     "output_type": "stream",
     "text": [
      "kr\n"
     ]
    }
   ],
   "source": [
    "#27번\n",
    "\n",
    "#내 풀이\n",
    "url = \"http://sharebook.kr\"\n",
    "print(url[-2:])\n",
    "\n",
    "#답\n",
    "url = \"http://sharebook.kr\"\n",
    "domain = url.split('.')\n",
    "print(domain[-1])"
   ]
  },
  {
   "cell_type": "code",
   "execution_count": 77,
   "id": "74452968",
   "metadata": {
    "ExecuteTime": {
     "end_time": "2023-12-02T12:26:13.597038Z",
     "start_time": "2023-12-02T12:26:13.587804Z"
    }
   },
   "outputs": [
    {
     "ename": "SyntaxError",
     "evalue": "invalid syntax (1639539643.py, line 3)",
     "output_type": "error",
     "traceback": [
      "\u001b[1;36m  Cell \u001b[1;32mIn[77], line 3\u001b[1;36m\u001b[0m\n\u001b[1;33m    >> lang = 'python'\u001b[0m\n\u001b[1;37m    ^\u001b[0m\n\u001b[1;31mSyntaxError\u001b[0m\u001b[1;31m:\u001b[0m invalid syntax\n"
     ]
    }
   ],
   "source": [
    "#28번\n",
    "\n",
    "문자열은 수정 불가\n",
    ">> lang = 'python'\n",
    ">> lang[0] = 'P'\n",
    ">> print(lang)"
   ]
  },
  {
   "cell_type": "code",
   "execution_count": 84,
   "id": "f6f1f08b",
   "metadata": {
    "ExecuteTime": {
     "end_time": "2023-12-02T12:32:21.820360Z",
     "start_time": "2023-12-02T12:32:21.814252Z"
    }
   },
   "outputs": [
    {
     "name": "stdout",
     "output_type": "stream",
     "text": [
      "Abcdfe2A354A32A\n"
     ]
    }
   ],
   "source": [
    "#29번\n",
    "\n",
    "#내 풀이\n",
    "string = 'abcdfe2a354a32a'\n",
    "print(string.replace('a', 'A'))\n",
    "\n",
    "#답\n",
    "string = 'abcdfe2a354a32a'\n",
    "string = string.replace('a', 'A')\n",
    "print(string)"
   ]
  },
  {
   "cell_type": "code",
   "execution_count": 86,
   "id": "d7c6d1d0",
   "metadata": {
    "ExecuteTime": {
     "end_time": "2023-12-02T12:33:53.553360Z",
     "start_time": "2023-12-02T12:33:53.547025Z"
    }
   },
   "outputs": [
    {
     "name": "stdout",
     "output_type": "stream",
     "text": [
      "abcd\n"
     ]
    }
   ],
   "source": [
    "#30번\n",
    "\n",
    "string = 'abcd'\n",
    "string.replace('b', 'B')\n",
    "print(string)\n",
    "\n",
    "#abcd가 그대로 출력됨. 원본은 그대로 둔 채로 새로운 문자를 리턴해줌."
   ]
  },
  {
   "cell_type": "code",
   "execution_count": null,
   "id": "2ef00fa4",
   "metadata": {},
   "outputs": [],
   "source": [
    "#31번\n",
    "\n",
    "문자라서 34"
   ]
  },
  {
   "cell_type": "code",
   "execution_count": null,
   "id": "68519d83",
   "metadata": {},
   "outputs": [],
   "source": [
    "#32번\n",
    "\n",
    "HiHiHi"
   ]
  },
  {
   "cell_type": "code",
   "execution_count": 87,
   "id": "74f51a52",
   "metadata": {
    "ExecuteTime": {
     "end_time": "2023-12-02T12:35:40.894896Z",
     "start_time": "2023-12-02T12:35:40.889072Z"
    }
   },
   "outputs": [
    {
     "name": "stdout",
     "output_type": "stream",
     "text": [
      "--------------------------------------------------------------------------------\n"
     ]
    }
   ],
   "source": [
    "#33번\n",
    "print('-'*80)"
   ]
  },
  {
   "cell_type": "code",
   "execution_count": 90,
   "id": "ed1a770c",
   "metadata": {
    "ExecuteTime": {
     "end_time": "2023-12-02T12:40:18.046969Z",
     "start_time": "2023-12-02T12:40:18.039799Z"
    }
   },
   "outputs": [
    {
     "name": "stdout",
     "output_type": "stream",
     "text": [
      "python java python java python java python java \n"
     ]
    }
   ],
   "source": [
    "#34번\n",
    "\n",
    "t1 = 'python'\n",
    "t2 = 'java'\n",
    "\n",
    "print((t1+ ' ' + t2 + ' ')*4)"
   ]
  },
  {
   "cell_type": "code",
   "execution_count": 102,
   "id": "964a967c",
   "metadata": {
    "ExecuteTime": {
     "end_time": "2023-12-02T12:50:06.973181Z",
     "start_time": "2023-12-02T12:50:06.965878Z"
    }
   },
   "outputs": [
    {
     "name": "stdout",
     "output_type": "stream",
     "text": [
      "이름: 김민수 나이: 10\n",
      "이름: 이철희 나이: 13\n"
     ]
    }
   ],
   "source": [
    "#35번\n",
    "\n",
    "name1 = \"김민수\" \n",
    "age1 = 10\n",
    "name2 = \"이철희\"\n",
    "age2 = 13\n",
    "\n",
    "print('이름: %s 나이: %d' %(name1, age1))\n",
    "print('이름: %s 나이: %d' %(name2, age2))"
   ]
  },
  {
   "cell_type": "code",
   "execution_count": 99,
   "id": "ba84d942",
   "metadata": {
    "ExecuteTime": {
     "end_time": "2023-12-02T12:47:04.256913Z",
     "start_time": "2023-12-02T12:47:04.250302Z"
    },
    "scrolled": true
   },
   "outputs": [
    {
     "name": "stdout",
     "output_type": "stream",
     "text": [
      "이름: 김민수 나이: 10\n",
      "이름: 이철희 나이: 13\n"
     ]
    }
   ],
   "source": [
    "#36번\n",
    "\n",
    "name1 = \"김민수\" \n",
    "age1 = 10\n",
    "name2 = \"이철희\"\n",
    "age2 = 13\n",
    "\n",
    "print('이름: {} 나이: {}'.format(name1, age1))\n",
    "print('이름: {} 나이: {}'.format(name2, age2))"
   ]
  },
  {
   "cell_type": "code",
   "execution_count": 115,
   "id": "6fe2a36c",
   "metadata": {
    "ExecuteTime": {
     "end_time": "2023-12-02T12:56:52.475662Z",
     "start_time": "2023-12-02T12:56:52.467437Z"
    }
   },
   "outputs": [
    {
     "name": "stdout",
     "output_type": "stream",
     "text": [
      "이름: 김민수 나이: 10\n",
      "이름: 이철희 나이: 13\n"
     ]
    }
   ],
   "source": [
    "#37번\n",
    "\n",
    "name1 = \"김민수\" \n",
    "age1 = 10\n",
    "name2 = \"이철희\"\n",
    "age2 = 13\n",
    "\n",
    "print(f'이름: {name1} 나이: {age1}')\n",
    "print(f'이름: {name2} 나이: {age2}')"
   ]
  },
  {
   "cell_type": "code",
   "execution_count": 108,
   "id": "35afcefa",
   "metadata": {
    "ExecuteTime": {
     "end_time": "2023-12-02T12:53:12.891126Z",
     "start_time": "2023-12-02T12:53:12.884660Z"
    },
    "scrolled": true
   },
   "outputs": [
    {
     "name": "stdout",
     "output_type": "stream",
     "text": [
      "5969782550 <class 'int'>\n"
     ]
    }
   ],
   "source": [
    "#38번\n",
    "\n",
    "상장주식수 = \"5,969,782,550\"\n",
    "a = 상장주식수.replace(',', '')\n",
    "\n",
    "print(int(a), type(int(a)))"
   ]
  },
  {
   "cell_type": "code",
   "execution_count": 111,
   "id": "4c09ae40",
   "metadata": {
    "ExecuteTime": {
     "end_time": "2023-12-02T12:54:00.143498Z",
     "start_time": "2023-12-02T12:54:00.135821Z"
    }
   },
   "outputs": [
    {
     "name": "stdout",
     "output_type": "stream",
     "text": [
      "2020/03\n"
     ]
    }
   ],
   "source": [
    "#39번\n",
    "\n",
    "분기 = \"2020/03(E) (IFRS연결)\"\n",
    "print(분기[:7])"
   ]
  },
  {
   "cell_type": "code",
   "execution_count": 114,
   "id": "08cd2831",
   "metadata": {
    "ExecuteTime": {
     "end_time": "2023-12-02T12:54:47.256740Z",
     "start_time": "2023-12-02T12:54:47.250109Z"
    }
   },
   "outputs": [
    {
     "name": "stdout",
     "output_type": "stream",
     "text": [
      "삼성전자\n"
     ]
    }
   ],
   "source": [
    "#40번\n",
    "\n",
    "data = \"   삼성전자    \"\n",
    "print(data.strip())"
   ]
  },
  {
   "cell_type": "code",
   "execution_count": 116,
   "id": "e4788229",
   "metadata": {
    "ExecuteTime": {
     "end_time": "2023-12-03T09:39:24.282029Z",
     "start_time": "2023-12-03T09:39:24.275956Z"
    }
   },
   "outputs": [
    {
     "name": "stdout",
     "output_type": "stream",
     "text": [
      "BTC_KRW\n"
     ]
    }
   ],
   "source": [
    "#41번\n",
    "\n",
    "ticker = \"btc_krw\"\n",
    "print(ticker.upper())"
   ]
  },
  {
   "cell_type": "code",
   "execution_count": 117,
   "id": "f1b75325",
   "metadata": {
    "ExecuteTime": {
     "end_time": "2023-12-03T09:39:54.816087Z",
     "start_time": "2023-12-03T09:39:54.810911Z"
    }
   },
   "outputs": [
    {
     "name": "stdout",
     "output_type": "stream",
     "text": [
      "btc_krw\n"
     ]
    }
   ],
   "source": [
    "#42번\n",
    "\n",
    "ticker = \"BTC_KRW\"\n",
    "print(ticker.lower())"
   ]
  },
  {
   "cell_type": "code",
   "execution_count": 121,
   "id": "2e3f3169",
   "metadata": {
    "ExecuteTime": {
     "end_time": "2023-12-03T09:41:10.069189Z",
     "start_time": "2023-12-03T09:41:10.063611Z"
    }
   },
   "outputs": [
    {
     "name": "stdout",
     "output_type": "stream",
     "text": [
      "Hello\n",
      "Hello\n"
     ]
    }
   ],
   "source": [
    "#43번\n",
    "\n",
    "a = 'hello'\n",
    "print(a.replace('h', 'H'))\n",
    "\n",
    "#답\n",
    "\n",
    "a = \"hello\"\n",
    "print(a.capitalize())"
   ]
  },
  {
   "cell_type": "code",
   "execution_count": 126,
   "id": "e34f3e3e",
   "metadata": {
    "ExecuteTime": {
     "end_time": "2023-12-03T10:09:19.406187Z",
     "start_time": "2023-12-03T10:09:19.401056Z"
    }
   },
   "outputs": [
    {
     "name": "stdout",
     "output_type": "stream",
     "text": [
      "True\n"
     ]
    }
   ],
   "source": [
    "#44번\n",
    "\n",
    "file_name = \"보고서.xlsx\"\n",
    "a = file_name.endswith('xlsx')\n",
    "print(a)"
   ]
  },
  {
   "cell_type": "code",
   "execution_count": 129,
   "id": "41dca6a0",
   "metadata": {
    "ExecuteTime": {
     "end_time": "2023-12-03T10:11:55.732870Z",
     "start_time": "2023-12-03T10:11:55.726205Z"
    }
   },
   "outputs": [
    {
     "name": "stdout",
     "output_type": "stream",
     "text": [
      "False\n"
     ]
    }
   ],
   "source": [
    "#45번\n",
    "\n",
    "file_name = \"보고서.xlsx\"\n",
    "a = file_name.endswith('xls')\n",
    "print(a)"
   ]
  },
  {
   "cell_type": "code",
   "execution_count": 130,
   "id": "b6f08f15",
   "metadata": {
    "ExecuteTime": {
     "end_time": "2023-12-03T10:13:37.604484Z",
     "start_time": "2023-12-03T10:13:37.598908Z"
    }
   },
   "outputs": [
    {
     "name": "stdout",
     "output_type": "stream",
     "text": [
      "True\n"
     ]
    }
   ],
   "source": [
    "#46번\n",
    "\n",
    "file_name = \"2020_보고서.xlsx\"\n",
    "print(file_name.startswith('2020'))"
   ]
  },
  {
   "cell_type": "code",
   "execution_count": 132,
   "id": "466daf23",
   "metadata": {
    "ExecuteTime": {
     "end_time": "2023-12-03T10:14:54.628587Z",
     "start_time": "2023-12-03T10:14:54.620630Z"
    }
   },
   "outputs": [
    {
     "data": {
      "text/plain": [
       "['hello', 'world']"
      ]
     },
     "execution_count": 132,
     "metadata": {},
     "output_type": "execute_result"
    }
   ],
   "source": [
    "#47번\n",
    "\n",
    "a = \"hello world\"\n",
    "a.split(' ')"
   ]
  },
  {
   "cell_type": "code",
   "execution_count": 133,
   "id": "ea0b9a64",
   "metadata": {
    "ExecuteTime": {
     "end_time": "2023-12-03T10:15:20.046582Z",
     "start_time": "2023-12-03T10:15:20.038005Z"
    }
   },
   "outputs": [
    {
     "data": {
      "text/plain": [
       "['btc', 'krw']"
      ]
     },
     "execution_count": 133,
     "metadata": {},
     "output_type": "execute_result"
    }
   ],
   "source": [
    "#48번\n",
    "\n",
    "ticker = \"btc_krw\"\n",
    "ticker.split('_')"
   ]
  },
  {
   "cell_type": "code",
   "execution_count": 134,
   "id": "32b2c888",
   "metadata": {
    "ExecuteTime": {
     "end_time": "2023-12-03T10:15:49.079980Z",
     "start_time": "2023-12-03T10:15:49.073420Z"
    }
   },
   "outputs": [
    {
     "data": {
      "text/plain": [
       "['2020', '05', '01']"
      ]
     },
     "execution_count": 134,
     "metadata": {},
     "output_type": "execute_result"
    }
   ],
   "source": [
    "#49번\n",
    "\n",
    "date = \"2020-05-01\"\n",
    "date.split('-')"
   ]
  },
  {
   "cell_type": "code",
   "execution_count": 137,
   "id": "488ef113",
   "metadata": {
    "ExecuteTime": {
     "end_time": "2023-12-03T10:16:57.493735Z",
     "start_time": "2023-12-03T10:16:57.488450Z"
    }
   },
   "outputs": [
    {
     "name": "stdout",
     "output_type": "stream",
     "text": [
      "039490\n"
     ]
    }
   ],
   "source": [
    "#50번\n",
    "\n",
    "data = \"039490     \"\n",
    "data = data.strip()\n",
    "print(data)"
   ]
  },
  {
   "cell_type": "markdown",
   "id": "dd7812a7",
   "metadata": {},
   "source": [
    "# 파이썬 리스트 051~070"
   ]
  },
  {
   "cell_type": "code",
   "execution_count": 139,
   "id": "704e45ae",
   "metadata": {
    "ExecuteTime": {
     "end_time": "2023-12-03T10:18:25.970372Z",
     "start_time": "2023-12-03T10:18:25.963950Z"
    }
   },
   "outputs": [
    {
     "name": "stdout",
     "output_type": "stream",
     "text": [
      "['닥터 스트레인지', '스플릿', '럭키']\n"
     ]
    }
   ],
   "source": [
    "#51번\n",
    "\n",
    "movie_rank = ['닥터 스트레인지', '스플릿', '럭키']\n",
    "print(movie_rank)"
   ]
  },
  {
   "cell_type": "code",
   "execution_count": 140,
   "id": "4e67eab2",
   "metadata": {
    "ExecuteTime": {
     "end_time": "2023-12-03T10:26:55.801427Z",
     "start_time": "2023-12-03T10:26:55.796268Z"
    }
   },
   "outputs": [
    {
     "name": "stdout",
     "output_type": "stream",
     "text": [
      "['닥터 스트레인지', '스플릿', '럭키', '배트맨']\n"
     ]
    }
   ],
   "source": [
    "#52번\n",
    "\n",
    "movie_rank.append('배트맨')\n",
    "print(movie_rank)"
   ]
  },
  {
   "cell_type": "code",
   "execution_count": 141,
   "id": "927964ea",
   "metadata": {
    "ExecuteTime": {
     "end_time": "2023-12-03T10:27:54.474257Z",
     "start_time": "2023-12-03T10:27:54.468631Z"
    }
   },
   "outputs": [
    {
     "name": "stdout",
     "output_type": "stream",
     "text": [
      "['닥터 스트레인지', '슈퍼맨', '스플릿', '럭키', '배트맨']\n"
     ]
    }
   ],
   "source": [
    "#53번\n",
    "\n",
    "movie_rank.insert(1, '슈퍼맨')\n",
    "print(movie_rank)"
   ]
  },
  {
   "cell_type": "code",
   "execution_count": 143,
   "id": "aaeb8e02",
   "metadata": {
    "ExecuteTime": {
     "end_time": "2023-12-03T10:29:00.069304Z",
     "start_time": "2023-12-03T10:29:00.063709Z"
    }
   },
   "outputs": [
    {
     "name": "stdout",
     "output_type": "stream",
     "text": [
      "['닥터 스트레인지', '슈퍼맨', '스플릿', '배트맨']\n"
     ]
    }
   ],
   "source": [
    "#54번\n",
    "\n",
    "del movie_rank[3]\n",
    "print(movie_rank)"
   ]
  },
  {
   "cell_type": "code",
   "execution_count": 145,
   "id": "97f28bfe",
   "metadata": {
    "ExecuteTime": {
     "end_time": "2023-12-03T10:30:00.880191Z",
     "start_time": "2023-12-03T10:30:00.874312Z"
    }
   },
   "outputs": [
    {
     "name": "stdout",
     "output_type": "stream",
     "text": [
      "['닥터 스트레인지', '슈퍼맨']\n"
     ]
    }
   ],
   "source": [
    "#55번\n",
    "\n",
    "del movie_rank[2:]\n",
    "print(movie_rank)"
   ]
  },
  {
   "cell_type": "code",
   "execution_count": 146,
   "id": "7a2228bf",
   "metadata": {
    "ExecuteTime": {
     "end_time": "2023-12-03T10:31:49.897882Z",
     "start_time": "2023-12-03T10:31:49.889228Z"
    }
   },
   "outputs": [
    {
     "name": "stdout",
     "output_type": "stream",
     "text": [
      "['C', 'C++', 'JAVA', 'Python', 'Go', 'C#']\n"
     ]
    }
   ],
   "source": [
    "#56번\n",
    "\n",
    "lang1 = [\"C\", \"C++\", \"JAVA\"]\n",
    "lang2 = [\"Python\", \"Go\", \"C#\"]\n",
    "\n",
    "langs = lang1 + lang2\n",
    "print(langs)"
   ]
  },
  {
   "cell_type": "code",
   "execution_count": 149,
   "id": "b4003102",
   "metadata": {
    "ExecuteTime": {
     "end_time": "2023-12-03T10:34:58.802154Z",
     "start_time": "2023-12-03T10:34:58.797186Z"
    }
   },
   "outputs": [
    {
     "name": "stdout",
     "output_type": "stream",
     "text": [
      "max:  7\n",
      "min:  1\n"
     ]
    }
   ],
   "source": [
    "#57번\n",
    "\n",
    "nums = [1, 2, 3, 4, 5, 6, 7]\n",
    "print('max: ', max(nums))\n",
    "print('min: ', min(nums))"
   ]
  },
  {
   "cell_type": "code",
   "execution_count": 153,
   "id": "72bf53ca",
   "metadata": {
    "ExecuteTime": {
     "end_time": "2023-12-03T10:39:57.512745Z",
     "start_time": "2023-12-03T10:39:57.508424Z"
    }
   },
   "outputs": [
    {
     "name": "stdout",
     "output_type": "stream",
     "text": [
      "15\n"
     ]
    }
   ],
   "source": [
    "#58번\n",
    "\n",
    "nums = [1, 2, 3, 4, 5]\n",
    "print(sum(nums))"
   ]
  },
  {
   "cell_type": "code",
   "execution_count": 154,
   "id": "d2823628",
   "metadata": {
    "ExecuteTime": {
     "end_time": "2023-12-03T10:40:37.841787Z",
     "start_time": "2023-12-03T10:40:37.830897Z"
    }
   },
   "outputs": [
    {
     "data": {
      "text/plain": [
       "12"
      ]
     },
     "execution_count": 154,
     "metadata": {},
     "output_type": "execute_result"
    }
   ],
   "source": [
    "#59번\n",
    "\n",
    "cook = [\"피자\", \"김밥\", \"만두\", \"양념치킨\", \"족발\", \"피자\", \"김치만두\", \"쫄면\", \"소시지\", \"라면\", \"팥빙수\", \"김치전\"]\n",
    "len(cook)"
   ]
  },
  {
   "cell_type": "code",
   "execution_count": 155,
   "id": "c0c58deb",
   "metadata": {
    "ExecuteTime": {
     "end_time": "2023-12-03T10:41:41.614663Z",
     "start_time": "2023-12-03T10:41:41.606039Z"
    }
   },
   "outputs": [
    {
     "name": "stdout",
     "output_type": "stream",
     "text": [
      "3.0\n"
     ]
    }
   ],
   "source": [
    "#60번\n",
    "\n",
    "nums = [1, 2, 3, 4, 5]\n",
    "평균 = sum(nums) / len(nums)\n",
    "print(평균)"
   ]
  },
  {
   "cell_type": "code",
   "execution_count": 156,
   "id": "858c768e",
   "metadata": {
    "ExecuteTime": {
     "end_time": "2023-12-03T11:05:45.508780Z",
     "start_time": "2023-12-03T11:05:45.497401Z"
    }
   },
   "outputs": [
    {
     "data": {
      "text/plain": [
       "[100, 130, 140, 150, 160, 170]"
      ]
     },
     "execution_count": 156,
     "metadata": {},
     "output_type": "execute_result"
    }
   ],
   "source": [
    "#61번\n",
    "\n",
    "price = ['20180728', 100, 130, 140, 150, 160, 170]\n",
    "price[1:]"
   ]
  },
  {
   "cell_type": "code",
   "execution_count": 157,
   "id": "3edf5c82",
   "metadata": {
    "ExecuteTime": {
     "end_time": "2023-12-03T11:06:22.718652Z",
     "start_time": "2023-12-03T11:06:22.709298Z"
    }
   },
   "outputs": [
    {
     "data": {
      "text/plain": [
       "[1, 3, 5, 7, 9]"
      ]
     },
     "execution_count": 157,
     "metadata": {},
     "output_type": "execute_result"
    }
   ],
   "source": [
    "#62번\n",
    "\n",
    "nums = [1, 2, 3, 4, 5, 6, 7, 8, 9, 10]\n",
    "nums[::2]"
   ]
  },
  {
   "cell_type": "code",
   "execution_count": 164,
   "id": "3c3629d0",
   "metadata": {
    "ExecuteTime": {
     "end_time": "2023-12-03T11:09:27.757510Z",
     "start_time": "2023-12-03T11:09:27.749339Z"
    }
   },
   "outputs": [
    {
     "data": {
      "text/plain": [
       "[2, 4, 6, 8, 10]"
      ]
     },
     "execution_count": 164,
     "metadata": {},
     "output_type": "execute_result"
    }
   ],
   "source": [
    "#63번\n",
    "\n",
    "nums = [1, 2, 3, 4, 5, 6, 7, 8, 9, 10]\n",
    "nums[1:: 2]"
   ]
  },
  {
   "cell_type": "code",
   "execution_count": 165,
   "id": "e9ccd671",
   "metadata": {
    "ExecuteTime": {
     "end_time": "2023-12-03T11:09:51.375433Z",
     "start_time": "2023-12-03T11:09:51.366802Z"
    }
   },
   "outputs": [
    {
     "data": {
      "text/plain": [
       "[5, 4, 3, 2, 1]"
      ]
     },
     "execution_count": 165,
     "metadata": {},
     "output_type": "execute_result"
    }
   ],
   "source": [
    "#64번\n",
    "\n",
    "nums = [1, 2, 3, 4, 5]\n",
    "nums[::-1]"
   ]
  },
  {
   "cell_type": "code",
   "execution_count": 175,
   "id": "a8a85c25",
   "metadata": {
    "ExecuteTime": {
     "end_time": "2023-12-03T11:13:43.871378Z",
     "start_time": "2023-12-03T11:13:43.863171Z"
    }
   },
   "outputs": [
    {
     "name": "stdout",
     "output_type": "stream",
     "text": [
      "삼성전자 Naver\n"
     ]
    }
   ],
   "source": [
    "#65번\n",
    "\n",
    "interest = ['삼성전자', 'LG전자', 'Naver']\n",
    "print(interest[0], interest[2])"
   ]
  },
  {
   "cell_type": "code",
   "execution_count": 177,
   "id": "83c70a9a",
   "metadata": {
    "ExecuteTime": {
     "end_time": "2023-12-03T11:17:25.710140Z",
     "start_time": "2023-12-03T11:17:25.702155Z"
    }
   },
   "outputs": [
    {
     "name": "stdout",
     "output_type": "stream",
     "text": [
      "삼성전자 LG전자 Naver SK하이닉스 미래에셋대우\n"
     ]
    }
   ],
   "source": [
    "#66번\n",
    "\n",
    "interest = ['삼성전자', 'LG전자', 'Naver', 'SK하이닉스', '미래에셋대우']\n",
    "print(' '.join(interest))"
   ]
  },
  {
   "cell_type": "code",
   "execution_count": 178,
   "id": "d4b93be6",
   "metadata": {
    "ExecuteTime": {
     "end_time": "2023-12-03T11:18:02.563038Z",
     "start_time": "2023-12-03T11:18:02.555773Z"
    }
   },
   "outputs": [
    {
     "name": "stdout",
     "output_type": "stream",
     "text": [
      "삼성전자/LG전자/Naver/SK하이닉스/미래에셋대우\n"
     ]
    }
   ],
   "source": [
    "#67번\n",
    "\n",
    "interest = ['삼성전자', 'LG전자', 'Naver', 'SK하이닉스', '미래에셋대우']\n",
    "print('/'.join(interest))"
   ]
  },
  {
   "cell_type": "code",
   "execution_count": 179,
   "id": "4fec7306",
   "metadata": {
    "ExecuteTime": {
     "end_time": "2023-12-03T11:20:17.865016Z",
     "start_time": "2023-12-03T11:20:17.858319Z"
    }
   },
   "outputs": [
    {
     "name": "stdout",
     "output_type": "stream",
     "text": [
      "삼성전자\n",
      "LG전자\n",
      "Naver\n",
      "SK하이닉스\n",
      "미래에셋대우\n"
     ]
    }
   ],
   "source": [
    "#68번\n",
    "\n",
    "interest = ['삼성전자', 'LG전자', 'Naver', 'SK하이닉스', '미래에셋대우']\n",
    "print('\\n'.join(interest))"
   ]
  },
  {
   "cell_type": "code",
   "execution_count": 184,
   "id": "ad07f704",
   "metadata": {
    "ExecuteTime": {
     "end_time": "2023-12-03T11:22:28.478704Z",
     "start_time": "2023-12-03T11:22:28.472016Z"
    }
   },
   "outputs": [
    {
     "name": "stdout",
     "output_type": "stream",
     "text": [
      "['삼성전자', 'LG전자', 'Naver']\n"
     ]
    }
   ],
   "source": [
    "#69번\n",
    "\n",
    "string = \"삼성전자/LG전자/Naver\"\n",
    "interest = string.split('/')\n",
    "print(interest)"
   ]
  },
  {
   "cell_type": "code",
   "execution_count": 187,
   "id": "383334a7",
   "metadata": {
    "ExecuteTime": {
     "end_time": "2023-12-03T11:23:28.532731Z",
     "start_time": "2023-12-03T11:23:28.524567Z"
    }
   },
   "outputs": [
    {
     "data": {
      "text/plain": [
       "[1, 2, 3, 4, 5, 9, 10]"
      ]
     },
     "execution_count": 187,
     "metadata": {},
     "output_type": "execute_result"
    }
   ],
   "source": [
    "#70번\n",
    "\n",
    "data = [2, 4, 3, 1, 5, 10, 9]\n",
    "data.sort()\n",
    "data"
   ]
  },
  {
   "cell_type": "markdown",
   "id": "e40c025d",
   "metadata": {},
   "source": [
    "# 파이썬 튜플 071~080"
   ]
  },
  {
   "cell_type": "code",
   "execution_count": 188,
   "id": "19ad54fd",
   "metadata": {
    "ExecuteTime": {
     "end_time": "2023-12-03T11:29:04.430031Z",
     "start_time": "2023-12-03T11:29:04.419969Z"
    }
   },
   "outputs": [],
   "source": [
    "#71번\n",
    "\n",
    "my_variable = {}"
   ]
  },
  {
   "cell_type": "code",
   "execution_count": 190,
   "id": "837b84e6",
   "metadata": {
    "ExecuteTime": {
     "end_time": "2023-12-03T11:30:25.964665Z",
     "start_time": "2023-12-03T11:30:25.957782Z"
    }
   },
   "outputs": [
    {
     "name": "stdout",
     "output_type": "stream",
     "text": [
      "{'스플릿', '닥터 스트레인지', '럭키'}\n"
     ]
    }
   ],
   "source": [
    "#72번\n",
    "\n",
    "movie_rank = {'닥터 스트레인지', '스플릿', '럭키'}\n",
    "print(movie_rank)"
   ]
  },
  {
   "cell_type": "code",
   "execution_count": 191,
   "id": "eec74c24",
   "metadata": {
    "ExecuteTime": {
     "end_time": "2023-12-03T11:30:49.704562Z",
     "start_time": "2023-12-03T11:30:49.697160Z"
    }
   },
   "outputs": [
    {
     "data": {
      "text/plain": [
       "{1}"
      ]
     },
     "execution_count": 191,
     "metadata": {},
     "output_type": "execute_result"
    }
   ],
   "source": [
    "#73번\n",
    "\n",
    "a = {1,}\n",
    "a"
   ]
  },
  {
   "cell_type": "code",
   "execution_count": 192,
   "id": "c0fc2f8a",
   "metadata": {
    "ExecuteTime": {
     "end_time": "2023-12-03T11:31:38.742285Z",
     "start_time": "2023-12-03T11:31:38.706791Z"
    }
   },
   "outputs": [
    {
     "ename": "TypeError",
     "evalue": "'tuple' object does not support item assignment",
     "output_type": "error",
     "traceback": [
      "\u001b[1;31m---------------------------------------------------------------------------\u001b[0m",
      "\u001b[1;31mTypeError\u001b[0m                                 Traceback (most recent call last)",
      "Cell \u001b[1;32mIn[192], line 4\u001b[0m\n\u001b[0;32m      1\u001b[0m \u001b[38;5;66;03m#74번\u001b[39;00m\n\u001b[0;32m      3\u001b[0m t \u001b[38;5;241m=\u001b[39m (\u001b[38;5;241m1\u001b[39m, \u001b[38;5;241m2\u001b[39m, \u001b[38;5;241m3\u001b[39m)\n\u001b[1;32m----> 4\u001b[0m t[\u001b[38;5;241m0\u001b[39m] \u001b[38;5;241m=\u001b[39m \u001b[38;5;124m'\u001b[39m\u001b[38;5;124ma\u001b[39m\u001b[38;5;124m'\u001b[39m\n",
      "\u001b[1;31mTypeError\u001b[0m: 'tuple' object does not support item assignment"
     ]
    }
   ],
   "source": [
    "#74번\n",
    "\n",
    "t = (1, 2, 3)\n",
    "t[0] = 'a'"
   ]
  },
  {
   "cell_type": "code",
   "execution_count": 194,
   "id": "ab0b6d5d",
   "metadata": {
    "ExecuteTime": {
     "end_time": "2023-12-03T11:32:19.817075Z",
     "start_time": "2023-12-03T11:32:19.807339Z"
    }
   },
   "outputs": [
    {
     "data": {
      "text/plain": [
       "tuple"
      ]
     },
     "execution_count": 194,
     "metadata": {},
     "output_type": "execute_result"
    }
   ],
   "source": [
    "#75번\n",
    "\n",
    "t = 1, 2, 3, 4\n",
    "type(t)"
   ]
  },
  {
   "cell_type": "code",
   "execution_count": 207,
   "id": "77f652a7",
   "metadata": {
    "ExecuteTime": {
     "end_time": "2023-12-03T11:41:51.761953Z",
     "start_time": "2023-12-03T11:41:51.754840Z"
    }
   },
   "outputs": [
    {
     "name": "stdout",
     "output_type": "stream",
     "text": [
      "('A', 'b', 'c')\n"
     ]
    }
   ],
   "source": [
    "#76번\n",
    "\n",
    "t = ('a', 'b', 'c')\n",
    "l = list(t)\n",
    "l[0] = 'A'\n",
    "print(tuple(l))"
   ]
  },
  {
   "cell_type": "code",
   "execution_count": 210,
   "id": "ee190f6d",
   "metadata": {
    "ExecuteTime": {
     "end_time": "2023-12-03T11:43:43.038926Z",
     "start_time": "2023-12-03T11:43:43.033318Z"
    }
   },
   "outputs": [
    {
     "name": "stdout",
     "output_type": "stream",
     "text": [
      "['삼성전자', 'LG전자', 'SK Hynix'] <class 'list'>\n"
     ]
    }
   ],
   "source": [
    "#77번\n",
    "\n",
    "interest = ('삼성전자', 'LG전자', 'SK Hynix')\n",
    "interest2 = list(interest)\n",
    "print(interest2, type(interest2))"
   ]
  },
  {
   "cell_type": "code",
   "execution_count": 211,
   "id": "f3f6b848",
   "metadata": {
    "ExecuteTime": {
     "end_time": "2023-12-03T11:44:10.358359Z",
     "start_time": "2023-12-03T11:44:10.348394Z"
    }
   },
   "outputs": [
    {
     "data": {
      "text/plain": [
       "('삼성전자', 'LG전자', 'SK Hynix')"
      ]
     },
     "execution_count": 211,
     "metadata": {},
     "output_type": "execute_result"
    }
   ],
   "source": [
    "#78번\n",
    "\n",
    "interest = ['삼성전자', 'LG전자', 'SK Hynix']\n",
    "tuple(interest)"
   ]
  },
  {
   "cell_type": "code",
   "execution_count": 212,
   "id": "10d0f434",
   "metadata": {
    "ExecuteTime": {
     "end_time": "2023-12-03T11:44:45.411279Z",
     "start_time": "2023-12-03T11:44:45.401867Z"
    }
   },
   "outputs": [
    {
     "name": "stdout",
     "output_type": "stream",
     "text": [
      "apple banana cake\n"
     ]
    }
   ],
   "source": [
    "#79번\n",
    "\n",
    "temp = ('apple', 'banana', 'cake')\n",
    "a, b, c = temp\n",
    "print(a, b, c)"
   ]
  },
  {
   "cell_type": "code",
   "execution_count": 226,
   "id": "77c72349",
   "metadata": {
    "ExecuteTime": {
     "end_time": "2023-12-03T11:58:06.914410Z",
     "start_time": "2023-12-03T11:58:06.907137Z"
    }
   },
   "outputs": [
    {
     "name": "stdout",
     "output_type": "stream",
     "text": [
      "(2, 4, 6, 8, 10, 12, 14, 16, 18, 20, 22, 24, 26, 28, 30, 32, 34, 36, 38, 40, 42, 44, 46, 48, 50, 52, 54, 56, 58, 60, 62, 64, 66, 68, 70, 72, 74, 76, 78, 80, 82, 84, 86, 88, 90, 92, 94, 96, 98)\n",
      "(2, 4, 6, 8, 10, 12, 14, 16, 18, 20, 22, 24, 26, 28, 30, 32, 34, 36, 38, 40, 42, 44, 46, 48, 50, 52, 54, 56, 58, 60, 62, 64, 66, 68, 70, 72, 74, 76, 78, 80, 82, 84, 86, 88, 90, 92, 94, 96, 98)\n"
     ]
    }
   ],
   "source": [
    "#80번\n",
    "\n",
    "a = tuple(range(99)[2: 100: 2])\n",
    "print(a)\n",
    "\n",
    "#답\n",
    "data = tuple(range(2, 100, 2))\n",
    "print( data )"
   ]
  },
  {
   "cell_type": "markdown",
   "id": "d097c4a6",
   "metadata": {},
   "source": [
    "# 파이썬 딕셔너리 081~100"
   ]
  },
  {
   "cell_type": "code",
   "execution_count": 227,
   "id": "d2d7cd9d",
   "metadata": {
    "ExecuteTime": {
     "end_time": "2023-12-03T12:17:38.695589Z",
     "start_time": "2023-12-03T12:17:38.686772Z"
    }
   },
   "outputs": [
    {
     "data": {
      "text/plain": [
       "[8.8, 8.9, 8.7, 9.2, 9.3, 9.7, 9.9, 9.5]"
      ]
     },
     "execution_count": 227,
     "metadata": {},
     "output_type": "execute_result"
    }
   ],
   "source": [
    "#81번\n",
    "\n",
    "scores = [8.8, 8.9, 8.7, 9.2, 9.3, 9.7, 9.9, 9.5, 7.8, 9.4]\n",
    "*valid_score, a, b = scores\n",
    "valid_score"
   ]
  },
  {
   "cell_type": "code",
   "execution_count": 229,
   "id": "fdde7881",
   "metadata": {
    "ExecuteTime": {
     "end_time": "2023-12-03T12:20:32.758748Z",
     "start_time": "2023-12-03T12:20:32.750985Z"
    }
   },
   "outputs": [
    {
     "name": "stdout",
     "output_type": "stream",
     "text": [
      "[8.7, 9.2, 9.3, 9.7, 9.9, 9.5, 7.8, 9.4]\n"
     ]
    }
   ],
   "source": [
    "#82번\n",
    "\n",
    "scores = [8.8, 8.9, 8.7, 9.2, 9.3, 9.7, 9.9, 9.5, 7.8, 9.4]\n",
    "a, b, *valid_score = scores\n",
    "print(valid_score)"
   ]
  },
  {
   "cell_type": "code",
   "execution_count": 230,
   "id": "4bb7148b",
   "metadata": {
    "ExecuteTime": {
     "end_time": "2023-12-03T12:21:04.471385Z",
     "start_time": "2023-12-03T12:21:04.463877Z"
    }
   },
   "outputs": [
    {
     "name": "stdout",
     "output_type": "stream",
     "text": [
      "[8.9, 8.7, 9.2, 9.3, 9.7, 9.9, 9.5, 7.8]\n"
     ]
    }
   ],
   "source": [
    "#83번\n",
    "\n",
    "scores = [8.8, 8.9, 8.7, 9.2, 9.3, 9.7, 9.9, 9.5, 7.8, 9.4]\n",
    "a, *valid_score, b = scores\n",
    "print(valid_score)"
   ]
  },
  {
   "cell_type": "code",
   "execution_count": 233,
   "id": "838a9674",
   "metadata": {
    "ExecuteTime": {
     "end_time": "2023-12-03T12:22:30.572922Z",
     "start_time": "2023-12-03T12:22:30.566597Z"
    }
   },
   "outputs": [
    {
     "name": "stdout",
     "output_type": "stream",
     "text": [
      "{} <class 'dict'>\n"
     ]
    }
   ],
   "source": [
    "#84번\n",
    "\n",
    "temp = {}\n",
    "print(temp, type(temp))"
   ]
  },
  {
   "cell_type": "code",
   "execution_count": 237,
   "id": "842130be",
   "metadata": {
    "ExecuteTime": {
     "end_time": "2023-12-03T12:24:03.665981Z",
     "start_time": "2023-12-03T12:24:03.658911Z"
    }
   },
   "outputs": [
    {
     "name": "stdout",
     "output_type": "stream",
     "text": [
      "{'메로나': 1000, '폴라포': 1200, '빵빠레': 1800}\n"
     ]
    }
   ],
   "source": [
    "#85번\n",
    "\n",
    "ice = {'메로나' : 1000, '폴라포' : 1200, '빵빠레' : 1800}\n",
    "print(ice)"
   ]
  },
  {
   "cell_type": "code",
   "execution_count": 240,
   "id": "900b4c7c",
   "metadata": {
    "ExecuteTime": {
     "end_time": "2023-12-03T12:25:02.180778Z",
     "start_time": "2023-12-03T12:25:02.174773Z"
    }
   },
   "outputs": [
    {
     "name": "stdout",
     "output_type": "stream",
     "text": [
      "{'메로나': 1000, '폴라포': 1200, '빵빠레': 1800, '죠스바': 1200, '월드콘': 1500}\n"
     ]
    }
   ],
   "source": [
    "#86번\n",
    "\n",
    "ice['죠스바']=1200\n",
    "ice['월드콘']=1500\n",
    "print(ice)"
   ]
  },
  {
   "cell_type": "code",
   "execution_count": 243,
   "id": "a41045b0",
   "metadata": {
    "ExecuteTime": {
     "end_time": "2023-12-03T12:27:53.652936Z",
     "start_time": "2023-12-03T12:27:53.646438Z"
    }
   },
   "outputs": [
    {
     "name": "stdout",
     "output_type": "stream",
     "text": [
      "메로나 가격: 1000\n"
     ]
    }
   ],
   "source": [
    "#87번\n",
    "\n",
    "ice = {'메로나': 1000,\n",
    "       '폴로포': 1200,\n",
    "       '빵빠레': 1800,\n",
    "       '죠스바': 1200,\n",
    "       '월드콘': 1500}\n",
    "\n",
    "print('메로나 가격:', ice['메로나'])"
   ]
  },
  {
   "cell_type": "code",
   "execution_count": 245,
   "id": "b77e55bf",
   "metadata": {
    "ExecuteTime": {
     "end_time": "2023-12-03T12:29:25.651257Z",
     "start_time": "2023-12-03T12:29:25.643035Z"
    }
   },
   "outputs": [
    {
     "name": "stdout",
     "output_type": "stream",
     "text": [
      "{'메로나': '1300', '폴로포': 1200, '빵빠레': 1800, '죠스바': 1200, '월드콘': 1500}\n"
     ]
    }
   ],
   "source": [
    "#88번\n",
    "\n",
    "ice = {'메로나': 1000,\n",
    "       '폴로포': 1200,\n",
    "       '빵빠레': 1800,\n",
    "       '죠스바': 1200,\n",
    "       '월드콘': 1500}\n",
    "\n",
    "ice['메로나']='1300'\n",
    "print(ice)"
   ]
  },
  {
   "cell_type": "code",
   "execution_count": 246,
   "id": "ccb33ee6",
   "metadata": {
    "ExecuteTime": {
     "end_time": "2023-12-03T12:33:10.698496Z",
     "start_time": "2023-12-03T12:33:10.691338Z"
    }
   },
   "outputs": [
    {
     "name": "stdout",
     "output_type": "stream",
     "text": [
      "{'폴로포': 1200, '빵빠레': 1800, '죠스바': 1200, '월드콘': 1500}\n"
     ]
    }
   ],
   "source": [
    "#89번\n",
    "\n",
    "ice = {'메로나': 1000,\n",
    "       '폴로포': 1200,\n",
    "       '빵빠레': 1800,\n",
    "       '죠스바': 1200,\n",
    "       '월드콘': 1500}\n",
    "\n",
    "del ice['메로나']\n",
    "print(ice)"
   ]
  },
  {
   "cell_type": "code",
   "execution_count": null,
   "id": "01f67983",
   "metadata": {},
   "outputs": [],
   "source": [
    "#90번\n",
    "\n",
    "icecream = {'폴라포': 1200, '빵빠레': 1800, '월드콘': 1500, '메로나': 1000}\n",
    "icecream['누가바']\n",
    "\n",
    "#value를 넣지 않아서 오류 발생"
   ]
  },
  {
   "cell_type": "code",
   "execution_count": 250,
   "id": "16ea7dd3",
   "metadata": {
    "ExecuteTime": {
     "end_time": "2023-12-03T12:37:30.919943Z",
     "start_time": "2023-12-03T12:37:30.913658Z"
    },
    "scrolled": true
   },
   "outputs": [
    {
     "name": "stdout",
     "output_type": "stream",
     "text": [
      "{'메로나': [300, 20], '비비빅': [400, 3], '죠스바': [250, 100]}\n"
     ]
    }
   ],
   "source": [
    "#91번\n",
    "\n",
    "inventory = {'메로나':[300, 20], '비비빅':[400, 3], '죠스바':[250, 100]}\n",
    "print(inventory)"
   ]
  },
  {
   "cell_type": "code",
   "execution_count": 257,
   "id": "61b33d46",
   "metadata": {
    "ExecuteTime": {
     "end_time": "2023-12-03T12:39:37.201735Z",
     "start_time": "2023-12-03T12:39:37.193785Z"
    }
   },
   "outputs": [
    {
     "name": "stdout",
     "output_type": "stream",
     "text": [
      "300 원\n"
     ]
    }
   ],
   "source": [
    "#92번\n",
    "\n",
    "inventory = {\"메로나\": [300, 20],\n",
    "              \"비비빅\": [400, 3],\n",
    "              \"죠스바\": [250, 100]}\n",
    "\n",
    "print(inventory['메로나'][0], '원')"
   ]
  },
  {
   "cell_type": "code",
   "execution_count": 258,
   "id": "884bcc6a",
   "metadata": {
    "ExecuteTime": {
     "end_time": "2023-12-03T12:41:17.042691Z",
     "start_time": "2023-12-03T12:41:17.034872Z"
    }
   },
   "outputs": [
    {
     "name": "stdout",
     "output_type": "stream",
     "text": [
      "20 개\n"
     ]
    }
   ],
   "source": [
    "#93번\n",
    "\n",
    "inventory = {\"메로나\": [300, 20],\n",
    "              \"비비빅\": [400, 3],\n",
    "              \"죠스바\": [250, 100]}\n",
    "\n",
    "print(inventory['메로나'][1], '개')"
   ]
  },
  {
   "cell_type": "code",
   "execution_count": 259,
   "id": "6f309aa6",
   "metadata": {
    "ExecuteTime": {
     "end_time": "2023-12-03T12:41:58.974511Z",
     "start_time": "2023-12-03T12:41:58.966382Z"
    }
   },
   "outputs": [
    {
     "name": "stdout",
     "output_type": "stream",
     "text": [
      "{'메로나': [300, 20], '비비빅': [400, 3], '죠스바': [250, 100], '월드콘': [500, 7]}\n"
     ]
    }
   ],
   "source": [
    "#94번\n",
    "\n",
    "inventory = {\"메로나\": [300, 20],\n",
    "              \"비비빅\": [400, 3],\n",
    "              \"죠스바\": [250, 100]}\n",
    "\n",
    "inventory['월드콘'] = [500, 7]\n",
    "print(inventory)"
   ]
  },
  {
   "cell_type": "code",
   "execution_count": 266,
   "id": "9c55994f",
   "metadata": {
    "ExecuteTime": {
     "end_time": "2023-12-03T12:52:42.687749Z",
     "start_time": "2023-12-03T12:52:42.680376Z"
    }
   },
   "outputs": [
    {
     "name": "stdout",
     "output_type": "stream",
     "text": [
      "['탱크보이', '폴라포', '빵빠레', '월드콘', '메로나']\n"
     ]
    }
   ],
   "source": [
    "#95번\n",
    "\n",
    "icecream = {'탱크보이': 1200, '폴라포': 1200, '빵빠레': 1800, '월드콘': 1500, '메로나': 1000}\n",
    "a = icecream.keys()\n",
    "print(list(a))"
   ]
  },
  {
   "cell_type": "code",
   "execution_count": 267,
   "id": "4c397a59",
   "metadata": {
    "ExecuteTime": {
     "end_time": "2023-12-03T12:53:10.236240Z",
     "start_time": "2023-12-03T12:53:10.227832Z"
    }
   },
   "outputs": [
    {
     "name": "stdout",
     "output_type": "stream",
     "text": [
      "[1200, 1200, 1800, 1500, 1000]\n"
     ]
    }
   ],
   "source": [
    "#96번\n",
    "\n",
    "icecream = {'탱크보이': 1200, '폴라포': 1200, '빵빠레': 1800, '월드콘': 1500, '메로나': 1000}\n",
    "a = icecream.values()\n",
    "print(list(a))"
   ]
  },
  {
   "cell_type": "code",
   "execution_count": 270,
   "id": "d6c7caa8",
   "metadata": {
    "ExecuteTime": {
     "end_time": "2023-12-03T12:55:05.953768Z",
     "start_time": "2023-12-03T12:55:05.945074Z"
    }
   },
   "outputs": [
    {
     "name": "stdout",
     "output_type": "stream",
     "text": [
      "6700\n"
     ]
    }
   ],
   "source": [
    "#97번\n",
    "\n",
    "icecream = {'탱크보이': 1200, '폴라포': 1200, '빵빠레': 1800, '월드콘': 1500, '메로나': 1000}\n",
    "price = icecream.values()\n",
    "print(sum(price))"
   ]
  },
  {
   "cell_type": "code",
   "execution_count": 272,
   "id": "9d29085a",
   "metadata": {
    "ExecuteTime": {
     "end_time": "2023-12-03T12:58:10.952957Z",
     "start_time": "2023-12-03T12:58:10.939528Z"
    }
   },
   "outputs": [
    {
     "name": "stdout",
     "output_type": "stream",
     "text": [
      "{'탱크보이': 1200, '폴라포': 1200, '빵빠레': 1800, '월드콘': 1500, '메로나': 1000, '팥빙수': 2700, '아맛나': 1000}\n",
      "{'탱크보이': 1200, '폴라포': 1200, '빵빠레': 1800, '월드콘': 1500, '메로나': 1000, '팥빙수': 2700, '아맛나': 1000}\n"
     ]
    }
   ],
   "source": [
    "#98번\n",
    "\n",
    "icecream = {'탱크보이': 1200, '폴라포': 1200, '빵빠레': 1800, '월드콘': 1500, '메로나': 1000}\n",
    "icecream['팥빙수'] = 2700\n",
    "icecream['아맛나'] = 1000\n",
    "print(icecream)\n",
    "\n",
    "#답\n",
    "icecream = {'탱크보이': 1200, '폴라포': 1200, '빵빠레': 1800, '월드콘': 1500, '메로나': 1000}\n",
    "new_product = {'팥빙수':2700, '아맛나':1000}\n",
    "icecream.update(new_product)\n",
    "print(icecream)"
   ]
  },
  {
   "cell_type": "code",
   "execution_count": 282,
   "id": "9adef35c",
   "metadata": {
    "ExecuteTime": {
     "end_time": "2023-12-03T13:11:01.384224Z",
     "start_time": "2023-12-03T13:11:01.375322Z"
    }
   },
   "outputs": [
    {
     "name": "stdout",
     "output_type": "stream",
     "text": [
      "{'apple': 300, 'pear': 250, 'peach': 400}\n",
      "<zip object at 0x0000021487C9BF00>\n"
     ]
    }
   ],
   "source": [
    "#99번\n",
    "\n",
    "keys = (\"apple\", \"pear\", \"peach\")\n",
    "vals = (300, 250, 400)\n",
    "\n",
    "a = {keys[0] : vals[0], keys[1] : vals[1], keys[2] : vals[2]}\n",
    "print(a)\n",
    "\n",
    "#답\n",
    "keys = (\"apple\", \"pear\", \"peach\")\n",
    "vals = (300, 250, 400)\n",
    "print(dict(zip(keys, vals)))"
   ]
  },
  {
   "cell_type": "code",
   "execution_count": 283,
   "id": "c01cd3f6",
   "metadata": {
    "ExecuteTime": {
     "end_time": "2023-12-03T13:12:17.588169Z",
     "start_time": "2023-12-03T13:12:17.580313Z"
    }
   },
   "outputs": [
    {
     "name": "stdout",
     "output_type": "stream",
     "text": [
      "{'09/05': 10500, '09/06': 10300, '09/07': 10100, '09/08': 10800, '09/09': 11000}\n"
     ]
    }
   ],
   "source": [
    "#100번\n",
    "\n",
    "date = ['09/05', '09/06', '09/07', '09/08', '09/09']\n",
    "close_price = [10500, 10300, 10100, 10800, 11000]\n",
    "\n",
    "close_table = dict(zip(date, close_price))\n",
    "print(close_table)"
   ]
  },
  {
   "cell_type": "markdown",
   "id": "ab298a10",
   "metadata": {},
   "source": [
    "# 파이썬 분기문 101~130"
   ]
  },
  {
   "cell_type": "code",
   "execution_count": 284,
   "id": "2679df6e",
   "metadata": {
    "ExecuteTime": {
     "end_time": "2023-12-03T13:12:48.720050Z",
     "start_time": "2023-12-03T13:12:48.715109Z"
    }
   },
   "outputs": [],
   "source": [
    "#101번\n",
    "\n",
    "bool 타입"
   ]
  },
  {
   "cell_type": "code",
   "execution_count": 285,
   "id": "21ca008d",
   "metadata": {
    "ExecuteTime": {
     "end_time": "2023-12-03T13:14:39.468708Z",
     "start_time": "2023-12-03T13:14:39.462892Z"
    }
   },
   "outputs": [
    {
     "name": "stdout",
     "output_type": "stream",
     "text": [
      "False\n"
     ]
    }
   ],
   "source": [
    "#102번\n",
    "\n",
    "print(3 == 5)"
   ]
  },
  {
   "cell_type": "code",
   "execution_count": 287,
   "id": "959cf207",
   "metadata": {
    "ExecuteTime": {
     "end_time": "2023-12-03T13:14:51.035626Z",
     "start_time": "2023-12-03T13:14:51.029796Z"
    },
    "scrolled": true
   },
   "outputs": [
    {
     "name": "stdout",
     "output_type": "stream",
     "text": [
      "True\n"
     ]
    }
   ],
   "source": [
    "#103번\n",
    "\n",
    "print(3 < 5)"
   ]
  },
  {
   "cell_type": "code",
   "execution_count": 288,
   "id": "3350fab1",
   "metadata": {
    "ExecuteTime": {
     "end_time": "2023-12-03T13:15:12.910715Z",
     "start_time": "2023-12-03T13:15:12.904248Z"
    },
    "scrolled": true
   },
   "outputs": [
    {
     "name": "stdout",
     "output_type": "stream",
     "text": [
      "True\n"
     ]
    }
   ],
   "source": [
    "#104번\n",
    "\n",
    "x = 4\n",
    "print(1 < x < 5)"
   ]
  },
  {
   "cell_type": "code",
   "execution_count": null,
   "id": "5cda3d72",
   "metadata": {},
   "outputs": [],
   "source": [
    "#105번\n",
    "\n",
    "print ((3 == 3) and (4 != 3))"
   ]
  },
  {
   "cell_type": "code",
   "execution_count": 289,
   "id": "c6c78fa3",
   "metadata": {
    "ExecuteTime": {
     "end_time": "2023-12-03T13:15:56.767793Z",
     "start_time": "2023-12-03T13:15:56.755865Z"
    },
    "scrolled": true
   },
   "outputs": [
    {
     "ename": "SyntaxError",
     "evalue": "expression cannot contain assignment, perhaps you meant \"==\"? (1186473956.py, line 3)",
     "output_type": "error",
     "traceback": [
      "\u001b[1;36m  Cell \u001b[1;32mIn[289], line 3\u001b[1;36m\u001b[0m\n\u001b[1;33m    print(3 => 4)\u001b[0m\n\u001b[1;37m          ^\u001b[0m\n\u001b[1;31mSyntaxError\u001b[0m\u001b[1;31m:\u001b[0m expression cannot contain assignment, perhaps you meant \"==\"?\n"
     ]
    }
   ],
   "source": [
    "#106번\n",
    "\n",
    "print(3 => 4) #지원하지 않는 연산자"
   ]
  },
  {
   "cell_type": "code",
   "execution_count": 290,
   "id": "1539c75d",
   "metadata": {
    "ExecuteTime": {
     "end_time": "2023-12-03T13:16:41.129415Z",
     "start_time": "2023-12-03T13:16:41.125229Z"
    }
   },
   "outputs": [],
   "source": [
    "#107번\n",
    "\n",
    "if 4 < 3:\n",
    "    print(\"Hello World\") #false이기 때문에 아무것도 출력x"
   ]
  },
  {
   "cell_type": "code",
   "execution_count": 291,
   "id": "d170166e",
   "metadata": {
    "ExecuteTime": {
     "end_time": "2023-12-03T13:17:19.775764Z",
     "start_time": "2023-12-03T13:17:19.770215Z"
    }
   },
   "outputs": [
    {
     "name": "stdout",
     "output_type": "stream",
     "text": [
      "Hi, there.\n"
     ]
    }
   ],
   "source": [
    "#108번\n",
    "\n",
    "if 4 < 3:\n",
    "    print(\"Hello World.\")\n",
    "else:\n",
    "    print(\"Hi, there.\") #false이기 때문에 출력"
   ]
  },
  {
   "cell_type": "code",
   "execution_count": 292,
   "id": "127ac9aa",
   "metadata": {
    "ExecuteTime": {
     "end_time": "2023-12-03T13:18:20.584861Z",
     "start_time": "2023-12-03T13:18:20.578056Z"
    }
   },
   "outputs": [
    {
     "name": "stdout",
     "output_type": "stream",
     "text": [
      "1\n",
      "2\n",
      "4\n"
     ]
    }
   ],
   "source": [
    "#109번\n",
    "\n",
    "if True :\n",
    "    print (\"1\") #True니까 출력\n",
    "    print (\"2\")\n",
    "else :\n",
    "    print(\"3\")\n",
    "print(\"4\")"
   ]
  },
  {
   "cell_type": "code",
   "execution_count": 293,
   "id": "b0872b6f",
   "metadata": {
    "ExecuteTime": {
     "end_time": "2023-12-03T13:18:57.988418Z",
     "start_time": "2023-12-03T13:18:57.980375Z"
    }
   },
   "outputs": [
    {
     "name": "stdout",
     "output_type": "stream",
     "text": [
      "3\n",
      "5\n"
     ]
    }
   ],
   "source": [
    "#110번\n",
    "\n",
    "if True :\n",
    "    if False:\n",
    "        print(\"1\")\n",
    "        print(\"2\")\n",
    "    else:\n",
    "        print(\"3\") #출력\n",
    "else :\n",
    "    print(\"4\")\n",
    "print(\"5\") #출력"
   ]
  },
  {
   "cell_type": "code",
   "execution_count": null,
   "id": "c74a5be9",
   "metadata": {
    "ExecuteTime": {
     "end_time": "2023-12-06T14:24:57.445739Z",
     "start_time": "2023-12-06T14:24:57.445739Z"
    }
   },
   "outputs": [],
   "source": [
    "#111번\n",
    "\n",
    "user = input('')*2\n",
    "print(input)\n",
    "\n",
    "# 답\n",
    "user = input(\"입력:\")\n",
    "print(user * 2)"
   ]
  },
  {
   "cell_type": "code",
   "execution_count": 3,
   "id": "0254c1bb",
   "metadata": {
    "ExecuteTime": {
     "end_time": "2023-12-06T14:24:07.457139Z",
     "start_time": "2023-12-06T14:24:05.894814Z"
    }
   },
   "outputs": [
    {
     "name": "stdout",
     "output_type": "stream",
     "text": [
      "숫자를 입력하세요: 4\n",
      "14\n"
     ]
    }
   ],
   "source": [
    "#112번\n",
    "\n",
    "a = input('숫자를 입력하세요: ')\n",
    "print(10 + int(a))"
   ]
  },
  {
   "cell_type": "code",
   "execution_count": 2,
   "id": "61b9f450",
   "metadata": {
    "ExecuteTime": {
     "end_time": "2023-12-06T14:24:01.857010Z",
     "start_time": "2023-12-06T14:23:59.935388Z"
    }
   },
   "outputs": [
    {
     "name": "stdout",
     "output_type": "stream",
     "text": [
      "4\n",
      "짝수\n"
     ]
    }
   ],
   "source": [
    "#113번\n",
    "\n",
    "a = input('')\n",
    "if int(a)%2 == 0:\n",
    "    print('짝수')\n",
    "else:\n",
    "    print('홀수')"
   ]
  },
  {
   "cell_type": "code",
   "execution_count": 1,
   "id": "f3cfc94b",
   "metadata": {
    "ExecuteTime": {
     "end_time": "2023-12-06T14:23:53.430772Z",
     "start_time": "2023-12-06T14:23:48.968877Z"
    },
    "scrolled": true
   },
   "outputs": [
    {
     "name": "stdout",
     "output_type": "stream",
     "text": [
      "입력값: 400\n",
      "255\n"
     ]
    }
   ],
   "source": [
    "#114번\n",
    "\n",
    "user = input('입력값: ')\n",
    "if int(user)+20 < 255:\n",
    "    print(int(user)+20)\n",
    "else:\n",
    "    print(255)"
   ]
  },
  {
   "cell_type": "code",
   "execution_count": 7,
   "id": "8084674c",
   "metadata": {
    "ExecuteTime": {
     "end_time": "2023-12-06T14:31:44.368479Z",
     "start_time": "2023-12-06T14:31:42.324477Z"
    }
   },
   "outputs": [
    {
     "name": "stdout",
     "output_type": "stream",
     "text": [
      "입력값: 15\n",
      "0\n"
     ]
    }
   ],
   "source": [
    "#115번\n",
    "\n",
    "user = input('입력값: ')\n",
    "if int(user) - 20 < 0:\n",
    "    print(0)\n",
    "elif int(user) - 20 >255:\n",
    "    print(255)\n",
    "else:\n",
    "    print(int(user)-20)\n",
    "    \n",
    "#답\n",
    "\n",
    "user = input(\"입력값: \")\n",
    "num = int(user) - 20\n",
    "if num > 255:\n",
    "    print(255)\n",
    "elif num < 0:\n",
    "    print(0)\n",
    "else:\n",
    "    print(num)"
   ]
  },
  {
   "cell_type": "code",
   "execution_count": 10,
   "id": "f9aef7f1",
   "metadata": {
    "ExecuteTime": {
     "end_time": "2023-12-06T14:35:02.227208Z",
     "start_time": "2023-12-06T14:34:59.918480Z"
    }
   },
   "outputs": [
    {
     "name": "stdout",
     "output_type": "stream",
     "text": [
      "현재시간: 02:00\n",
      "정각입니다.\n"
     ]
    }
   ],
   "source": [
    "#116번\n",
    "\n",
    "time = input('현재시간: ')\n",
    "if int(time[-2:]) == 00:\n",
    "    print('정각입니다.')\n",
    "else:\n",
    "    print('정각이 아닙니다.')"
   ]
  },
  {
   "cell_type": "code",
   "execution_count": 11,
   "id": "87161451",
   "metadata": {
    "ExecuteTime": {
     "end_time": "2023-12-06T14:35:06.938478Z",
     "start_time": "2023-12-06T14:35:03.773221Z"
    }
   },
   "outputs": [
    {
     "name": "stdout",
     "output_type": "stream",
     "text": [
      "현재시간: 03:10\n",
      "정각이 아닙니다.\n"
     ]
    }
   ],
   "source": [
    "time = input('현재시간: ')\n",
    "if int(time[-2:]) == 00:\n",
    "    print('정각입니다.')\n",
    "else:\n",
    "    print('정각이 아닙니다.')"
   ]
  },
  {
   "cell_type": "code",
   "execution_count": 13,
   "id": "447f2e8b",
   "metadata": {
    "ExecuteTime": {
     "end_time": "2023-12-06T14:42:51.298963Z",
     "start_time": "2023-12-06T14:42:49.180706Z"
    }
   },
   "outputs": [
    {
     "name": "stdout",
     "output_type": "stream",
     "text": [
      "좋아하는 과일은? 사과\n",
      "정답입니다.\n"
     ]
    }
   ],
   "source": [
    "#117번\n",
    "\n",
    "fruit = ['사과', '포도', '홍시']\n",
    "\n",
    "user = input('좋아하는 과일은? ')\n",
    "if user[:-2] in fruit:   # user값은 '입력값'만임. '좋아하는~'은 해당X\n",
    "    print('정답입니다.')\n",
    "else:\n",
    "    print('오답입니다.')\n",
    "\n",
    "#답\n",
    "\n",
    "fruit = [\"사과\", \"포도\", \"홍시\"]\n",
    "user = input(\"좋아하는 과일은?\")\n",
    "if user in fruit: # 그냥 user라고 해도 됨\n",
    "    print(\"정답입니다.\")\n",
    "else:\n",
    "    print(\"오답입니다.\")"
   ]
  },
  {
   "cell_type": "code",
   "execution_count": 15,
   "id": "96a013c3",
   "metadata": {
    "ExecuteTime": {
     "end_time": "2023-12-06T14:43:45.202069Z",
     "start_time": "2023-12-06T14:43:42.604616Z"
    }
   },
   "outputs": [
    {
     "name": "stdout",
     "output_type": "stream",
     "text": [
      "좋아하는 과일은? 사과\n",
      "사과\n"
     ]
    }
   ],
   "source": [
    "user = input('좋아하는 과일은? ')\n",
    "print(user[:2])"
   ]
  },
  {
   "cell_type": "code",
   "execution_count": 17,
   "id": "defe81e6",
   "metadata": {
    "ExecuteTime": {
     "end_time": "2023-12-06T14:46:06.753472Z",
     "start_time": "2023-12-06T14:46:03.963036Z"
    },
    "scrolled": true
   },
   "outputs": [
    {
     "name": "stdout",
     "output_type": "stream",
     "text": [
      "종목명: Google\n",
      "투자 경고 종목입니다.\n"
     ]
    }
   ],
   "source": [
    "#118번\n",
    "\n",
    "warn_investment_list = [\"Microsoft\", \"Google\", \"Naver\", \"Kakao\", \"SAMSUNG\", \"LG\"]\n",
    "\n",
    "a = input('종목명: ')\n",
    "if a in warn_investment_list:\n",
    "    print('투자 경고 종목입니다.')\n",
    "else:\n",
    "    print('투자 경고 종목이 아닙니다.')"
   ]
  },
  {
   "cell_type": "markdown",
   "id": "cfaaf94c",
   "metadata": {},
   "source": [
    "- 딕셔너리 in 조건에서 key는 리스트 추출해도되고 안해도 됨. value는 리스트 추출 필수"
   ]
  },
  {
   "cell_type": "code",
   "execution_count": 18,
   "id": "f363d094",
   "metadata": {
    "ExecuteTime": {
     "end_time": "2023-12-06T14:48:06.287498Z",
     "start_time": "2023-12-06T14:48:03.553595Z"
    }
   },
   "outputs": [
    {
     "name": "stdout",
     "output_type": "stream",
     "text": [
      "제가 좋아하는 계절은: 봄\n",
      "정답입니다.\n"
     ]
    }
   ],
   "source": [
    "#119번\n",
    "\n",
    "fruit = {\"봄\" : \"딸기\", \"여름\" : \"토마토\", \"가을\" : \"사과\"}\n",
    "a = input('제가 좋아하는 계절은: ')\n",
    "if a in fruit.keys():\n",
    "    print('정답입니다.')\n",
    "else:\n",
    "    print('오답입니다.')"
   ]
  },
  {
   "cell_type": "code",
   "execution_count": 19,
   "id": "e3acfcbd",
   "metadata": {
    "ExecuteTime": {
     "end_time": "2023-12-06T14:48:34.825741Z",
     "start_time": "2023-12-06T14:48:31.716523Z"
    }
   },
   "outputs": [
    {
     "name": "stdout",
     "output_type": "stream",
     "text": [
      "제가좋아하는계절은: 딸기\n",
      "오답입니다.\n"
     ]
    }
   ],
   "source": [
    "#답: key만 딕셔너리에 포함되어 있다고 나옴\n",
    "\n",
    "fruit = {\"봄\" : \"딸기\", \"여름\" : \"토마토\", \"가을\" : \"사과\"}\n",
    "user = input(\"제가좋아하는계절은: \")\n",
    "if user in fruit:\n",
    "    print(\"정답입니다.\")\n",
    "else:\n",
    "    print(\"오답입니다.\")"
   ]
  },
  {
   "cell_type": "code",
   "execution_count": 20,
   "id": "80dbca53",
   "metadata": {
    "ExecuteTime": {
     "end_time": "2023-12-06T14:51:31.006585Z",
     "start_time": "2023-12-06T14:51:28.953220Z"
    }
   },
   "outputs": [
    {
     "name": "stdout",
     "output_type": "stream",
     "text": [
      "좋아하는 과일은? 한라봉\n",
      "오답입니다.\n"
     ]
    }
   ],
   "source": [
    "#120번\n",
    "\n",
    "fruit = {\"봄\" : \"딸기\", \"여름\" : \"토마토\", \"가을\" : \"사과\"}\n",
    "\n",
    "a = input('좋아하는 과일은? ')\n",
    "if a in fruit.values():\n",
    "    print('정답입니다.')\n",
    "else:\n",
    "    print('오답입니다.')"
   ]
  },
  {
   "cell_type": "code",
   "execution_count": 34,
   "id": "1836a5b4",
   "metadata": {
    "ExecuteTime": {
     "end_time": "2023-12-06T15:00:58.522173Z",
     "start_time": "2023-12-06T15:00:55.694227Z"
    }
   },
   "outputs": [
    {
     "name": "stdout",
     "output_type": "stream",
     "text": [
      "F\n",
      "f\n"
     ]
    }
   ],
   "source": [
    "#121번\n",
    "\n",
    "user = input('')\n",
    "if user.islower():\n",
    "    print(user.upper())\n",
    "else:\n",
    "    print(user.lower())"
   ]
  },
  {
   "cell_type": "code",
   "execution_count": 37,
   "id": "32da7c9c",
   "metadata": {
    "ExecuteTime": {
     "end_time": "2023-12-06T15:05:08.676156Z",
     "start_time": "2023-12-06T15:05:07.045760Z"
    }
   },
   "outputs": [
    {
     "name": "stdout",
     "output_type": "stream",
     "text": [
      "score: 77\n",
      "grade is B\n"
     ]
    }
   ],
   "source": [
    "#122번\n",
    "\n",
    "user = input('score: ')\n",
    "a = int(user)\n",
    "if a >= 81:\n",
    "    print('grade is A')\n",
    "elif a >= 61:\n",
    "    print('grade is B')\n",
    "elif a >= 41:\n",
    "    print('grade is C')\n",
    "elif a >= 21:\n",
    "    print('grade is D')\n",
    "else:\n",
    "    print('grade is E')"
   ]
  },
  {
   "cell_type": "code",
   "execution_count": 43,
   "id": "0e1226b7",
   "metadata": {
    "ExecuteTime": {
     "end_time": "2023-12-06T15:16:24.544313Z",
     "start_time": "2023-12-06T15:16:21.816149Z"
    }
   },
   "outputs": [
    {
     "name": "stdout",
     "output_type": "stream",
     "text": [
      "입력: 100 달러\n",
      "116700\n"
     ]
    }
   ],
   "source": [
    "#123번\n",
    "\n",
    "user = input('입력: ')\n",
    "\n",
    "통화명 = user[-2:]\n",
    "금액 = int(user[:-2])\n",
    "\n",
    "if 통화명 == '달러':\n",
    "    print(금액*1167)\n",
    "elif 통화명 == '엔':\n",
    "    print(금액*1.096)\n",
    "elif 통화명 == '유로':\n",
    "    print(금액*1268)\n",
    "else:\n",
    "    print(금액*171)"
   ]
  },
  {
   "cell_type": "code",
   "execution_count": null,
   "id": "3a679fa5",
   "metadata": {},
   "outputs": [],
   "source": [
    "#답\n",
    "\n",
    "환율 = {\"달러\": 1167, \n",
    "        \"엔\": 1.096, \n",
    "        \"유로\": 1268, \n",
    "        \"위안\": 171}\n",
    "user = input(\"입력: \")\n",
    "num, currency = user.split()\n",
    "print(float(num) * 환율[currency], \"원\")"
   ]
  },
  {
   "cell_type": "code",
   "execution_count": 44,
   "id": "9a1868d6",
   "metadata": {
    "ExecuteTime": {
     "end_time": "2023-12-06T15:22:00.790058Z",
     "start_time": "2023-12-06T15:21:55.443277Z"
    }
   },
   "outputs": [
    {
     "name": "stdout",
     "output_type": "stream",
     "text": [
      "number1: 10\n",
      "number2: 9\n",
      "number3: 20\n",
      "20\n"
     ]
    }
   ],
   "source": [
    "#124번\n",
    "\n",
    "a = int(input('number1: '))\n",
    "b = int(input('number2: '))\n",
    "c = int(input('number3: '))\n",
    "\n",
    "num = [a, b, c]\n",
    "print(max(num))"
   ]
  },
  {
   "cell_type": "code",
   "execution_count": null,
   "id": "6a3cdaa6",
   "metadata": {},
   "outputs": [],
   "source": [
    "#답\n",
    "\n",
    "num1 = input(\"input number1: \")\n",
    "num2 = input(\"input number2: \")\n",
    "num3 = input(\"input number3: \")\n",
    "num1 = int(num1)\n",
    "num2 = int(num2)\n",
    "num3 = int(num3)\n",
    "\n",
    "if num1 >= num2 and num1 >= num3:\n",
    "    print(num1)\n",
    "elif num2 >= num1 and num2 >= num3:\n",
    "    print(num2)\n",
    "else:\n",
    "    print(num3)"
   ]
  },
  {
   "cell_type": "code",
   "execution_count": 49,
   "id": "fb8a3a69",
   "metadata": {
    "ExecuteTime": {
     "end_time": "2023-12-06T15:26:19.651965Z",
     "start_time": "2023-12-06T15:26:11.487644Z"
    }
   },
   "outputs": [
    {
     "name": "stdout",
     "output_type": "stream",
     "text": [
      "휴대전화 번호 입력: 011-4067-9122\n",
      "당신은 SKT 사용자입니다.\n"
     ]
    }
   ],
   "source": [
    "#125번\n",
    "\n",
    "phone = input('휴대전화 번호 입력: ')\n",
    "번호 = phone[:3]\n",
    "if 번호 == '011':\n",
    "    print('당신은 SKT 사용자입니다.')\n",
    "elif 번호 == '016':\n",
    "    print('당신은 KT 사용자입니다.')\n",
    "elif 번호 == '019':\n",
    "    print('당신은 LGU 사용자입니다.')\n",
    "else:\n",
    "    print('알수없음')"
   ]
  },
  {
   "cell_type": "code",
   "execution_count": null,
   "id": "a6b7a719",
   "metadata": {},
   "outputs": [],
   "source": [
    "# 답\n",
    "\n",
    "number = input(\"휴대전화 번호 입력: \")\n",
    "num = number.split(\"-\")[0] # -로 나눠서 첫번째 문자열\n",
    "if num == \"011\":\n",
    "    com = \"SKT\"\n",
    "elif num == \"016\":\n",
    "    com = \"KT\"\n",
    "elif num == \"019\":\n",
    "    com = \"LGU\"\n",
    "else:\n",
    "    com = \"알수없음\"\n",
    "print(f\"당신은 {com} 사용자입니다.\") # f 문자열 사용"
   ]
  },
  {
   "cell_type": "code",
   "execution_count": 50,
   "id": "273b51d9",
   "metadata": {
    "ExecuteTime": {
     "end_time": "2023-12-06T15:34:41.291714Z",
     "start_time": "2023-12-06T15:34:37.583655Z"
    }
   },
   "outputs": [
    {
     "name": "stdout",
     "output_type": "stream",
     "text": [
      "우편번호: 01400\n",
      "도봉구\n"
     ]
    }
   ],
   "source": [
    "#126번\n",
    "\n",
    "강북구 = [0, 1, 2]\n",
    "도봉구 = [3, 4, 5]\n",
    "노원구 = [6, 7, 8, 9]\n",
    "\n",
    "user = input('우편번호: ')\n",
    "우편번호 = int(user[2])\n",
    "if 우편번호 in 강북구:\n",
    "    print('강북구')\n",
    "elif 우편번호 in 도봉구:\n",
    "    print('도봉구')\n",
    "else:\n",
    "    print('노원구')"
   ]
  },
  {
   "cell_type": "code",
   "execution_count": null,
   "id": "3ebcae0e",
   "metadata": {},
   "outputs": [],
   "source": [
    "# 답\n",
    "\n",
    "우편번호 = input(\"우편번호: \")\n",
    "우편번호 = 우편번호[:3]\n",
    "if 우편번호 in [\"010\", \"011\", \"012\"]:\n",
    "    print(\"강북구\")\n",
    "elif 우편번호 in [\"014\", \"015\", \"016\"]:\n",
    "    print(\"도봉구\")\n",
    "else:\n",
    "    print(\"노원구\")"
   ]
  },
  {
   "cell_type": "code",
   "execution_count": 52,
   "id": "6bb91d65",
   "metadata": {
    "ExecuteTime": {
     "end_time": "2023-12-06T15:37:51.171229Z",
     "start_time": "2023-12-06T15:37:44.758161Z"
    }
   },
   "outputs": [
    {
     "name": "stdout",
     "output_type": "stream",
     "text": [
      "주민등록번호: 821010-3635210\n",
      "남자\n"
     ]
    }
   ],
   "source": [
    "#127번\n",
    "\n",
    "user = input('주민등록번호: ')\n",
    "성별 = int(user[-7])\n",
    "\n",
    "if 성별 == 1 or 3:\n",
    "    print('남자')\n",
    "else:\n",
    "    print('여자')"
   ]
  },
  {
   "cell_type": "code",
   "execution_count": null,
   "id": "96c302d2",
   "metadata": {},
   "outputs": [],
   "source": [
    "주민번호 = input(\"주민등록번호: \")\n",
    "주민번호 = 주민번호.split(\"-\")[1]\n",
    "if 주민번호[0] == \"1\" or 주민번호[0] == \"3\":\n",
    "    print(\"남자\")\n",
    "else:\n",
    "    print(\"여자\")"
   ]
  },
  {
   "cell_type": "code",
   "execution_count": 54,
   "id": "7f450f43",
   "metadata": {
    "ExecuteTime": {
     "end_time": "2023-12-06T15:41:01.479644Z",
     "start_time": "2023-12-06T15:40:52.513358Z"
    }
   },
   "outputs": [
    {
     "name": "stdout",
     "output_type": "stream",
     "text": [
      "주민등록번호: 821010-1635210\n",
      "서울이 아닙니다.\n"
     ]
    }
   ],
   "source": [
    "#128번\n",
    "\n",
    "user = input('주민등록번호: ')\n",
    "지역코드 = int(user[-7:-5])\n",
    "if 지역코드 in range(0, 8):\n",
    "    print('서울입니다.')\n",
    "else:\n",
    "    print('서울이 아닙니다.')"
   ]
  },
  {
   "cell_type": "code",
   "execution_count": null,
   "id": "443093ad",
   "metadata": {},
   "outputs": [],
   "source": [
    "# 답\n",
    "\n",
    "주민번호 = input(\"주민등록번호: \")\n",
    "뒷자리 = 주민번호.split(\"-\")[1]\n",
    "if 0 <= int(뒷자리[1:3]) <= 8:\n",
    "    print(\"서울입니다.\")\n",
    "else:\n",
    "    print(\"서울이 아닙니다.\")"
   ]
  },
  {
   "cell_type": "code",
   "execution_count": 55,
   "id": "0dc6f582",
   "metadata": {
    "ExecuteTime": {
     "end_time": "2023-12-07T00:07:50.775157Z",
     "start_time": "2023-12-07T00:07:50.766991Z"
    }
   },
   "outputs": [
    {
     "ename": "SyntaxError",
     "evalue": "invalid decimal literal (2191711349.py, line 4)",
     "output_type": "error",
     "traceback": [
      "\u001b[1;36m  Cell \u001b[1;32mIn[55], line 4\u001b[1;36m\u001b[0m\n\u001b[1;33m    1차계산 = int(주민번호[0])*2 + int(주민번호[1])*3 + int(주민번호[2])*4 + int(주민번호[3])*5 + int(주민번호[4])*6 + int(주민번호[5])*7 + int(주민번호[7])*8 + int(주민번호[8])*9 + int(주민번호[9])*2 + int(주민번호[10)]*3 + int(주민번호[11])*4 + int(주민번호[12])*5\u001b[0m\n\u001b[1;37m    ^\u001b[0m\n\u001b[1;31mSyntaxError\u001b[0m\u001b[1;31m:\u001b[0m invalid decimal literal\n"
     ]
    }
   ],
   "source": [
    "#129번\n",
    "\n",
    "user = input('주민등록번호: ')\n",
    "주민번호 = int(user)\n",
    "1차계산 = sum(주민번호[0:6]*range(2, 8)) + sum(주민번호[])\n",
    "if 2차계산 == int(주민번호[13]):\n",
    "    print('유효한 주민등록번호입니다.')\n",
    "else:\n",
    "    print('유효하지 않은 주민등록번호입니다.')"
   ]
  },
  {
   "cell_type": "code",
   "execution_count": null,
   "id": "bf50af9d",
   "metadata": {},
   "outputs": [],
   "source": [
    "주민번호[0]*2 + 주민번호[1]*3 + 주민번호[2])*4 + int(주민번호[3])*5 + int(주민번호[4])*6 + int(주민번호[5])*7 + int(주민번호[7])*8 + int(주민번호[8])*9 + int(주민번호[9])*2 + int(주민번호[10)]*3 + int(주민번호[11])*4 + int(주민번호[12])*5\n",
    "2차계산 = 11-(1차계산%11)"
   ]
  },
  {
   "cell_type": "code",
   "execution_count": 72,
   "id": "c04baca2",
   "metadata": {
    "ExecuteTime": {
     "end_time": "2023-12-07T02:22:30.738454Z",
     "start_time": "2023-12-07T02:22:30.726566Z"
    }
   },
   "outputs": [
    {
     "ename": "SyntaxError",
     "evalue": "invalid syntax (417545308.py, line 8)",
     "output_type": "error",
     "traceback": [
      "\u001b[1;36m  Cell \u001b[1;32mIn[72], line 8\u001b[1;36m\u001b[0m\n\u001b[1;33m    sum(앞*i) for 앞 in 앞\u001b[0m\n\u001b[1;37m             ^\u001b[0m\n\u001b[1;31mSyntaxError\u001b[0m\u001b[1;31m:\u001b[0m invalid syntax\n"
     ]
    }
   ],
   "source": [
    "a = input('주민등록번호: ')\n",
    "i = [2, 3, 4, 5, 6, 7]\n",
    "j = [2, 3, 4, 5,]\n",
    "\n",
    "for 주민번호 in a:\n",
    "    앞 = int(주민번호[:6])\n",
    "    뒤 = int(주민번호[7:])\n",
    "    sum(앞*i) for 앞 in 앞\n",
    "                for i in i\n",
    "    print(sum(앞*i))"
   ]
  },
  {
   "cell_type": "code",
   "execution_count": null,
   "id": "ac2a82c3",
   "metadata": {},
   "outputs": [],
   "source": [
    "1차계산 = sum(앞*i) + sum(뒤*j)\n",
    "print(1차계산)"
   ]
  },
  {
   "cell_type": "code",
   "execution_count": 84,
   "id": "62fd8050",
   "metadata": {
    "ExecuteTime": {
     "end_time": "2023-12-07T03:45:09.570036Z",
     "start_time": "2023-12-07T03:45:09.558283Z"
    }
   },
   "outputs": [
    {
     "name": "stdout",
     "output_type": "stream",
     "text": [
      "상승장\n"
     ]
    }
   ],
   "source": [
    "#130번\n",
    "\n",
    "btc = {'opening_price': '60616000', 'closing_price': '60739000', 'min_price': '59850000', 'max_price': '60786000', 'units_traded': '1250.70727694', 'acc_trade_value': '75452102222.981', 'prev_closing_price': '60630000', 'units_traded_24H': '3198.94856975', 'acc_trade_value_24H': '192854316119.6498', 'fluctate_24H': '969000', 'fluctate_rate_24H': '1.62', 'date': '1701920433114'}\n",
    "\n",
    "변동폭 = int(btc['max_price']) - int(btc['min_price'])\n",
    "\n",
    "if int(btc['opening_price']) + 변동폭 > int(btc['max_price']):\n",
    "    print('상승장')\n",
    "else:\n",
    "    print('하락장')"
   ]
  },
  {
   "cell_type": "code",
   "execution_count": null,
   "id": "9aa692ab",
   "metadata": {},
   "outputs": [],
   "source": [
    "# 답\n",
    "\n",
    "import requests\n",
    "btc = requests.get(\"https://api.bithumb.com/public/ticker/\").json()['data']\n",
    "\n",
    "변동폭 = float(btc['max_price']) - float(btc['min_price'])\n",
    "시가 = float(btc['opening_price'])\n",
    "최고가 = float(btc['max_price'])\n",
    "\n",
    "if (시가+변동폭) > 최고가:\n",
    "    print(\"상승장\")\n",
    "else:\n",
    "    print(\"하락장\")"
   ]
  },
  {
   "cell_type": "markdown",
   "id": "6eedb132",
   "metadata": {},
   "source": [
    "# 파이썬 반복문 131~200"
   ]
  },
  {
   "cell_type": "code",
   "execution_count": 85,
   "id": "85263820",
   "metadata": {
    "ExecuteTime": {
     "end_time": "2023-12-07T03:49:33.224519Z",
     "start_time": "2023-12-07T03:49:33.217360Z"
    }
   },
   "outputs": [
    {
     "name": "stdout",
     "output_type": "stream",
     "text": [
      "사과\n",
      "귤\n",
      "수박\n"
     ]
    }
   ],
   "source": [
    "#131번\n",
    "\n",
    "과일 = [\"사과\", \"귤\", \"수박\"]\n",
    "for 변수 in 과일:\n",
    "    print(변수)"
   ]
  },
  {
   "cell_type": "code",
   "execution_count": 86,
   "id": "2f328c60",
   "metadata": {
    "ExecuteTime": {
     "end_time": "2023-12-07T03:50:12.845692Z",
     "start_time": "2023-12-07T03:50:12.839906Z"
    }
   },
   "outputs": [
    {
     "name": "stdout",
     "output_type": "stream",
     "text": [
      "#####\n",
      "#####\n",
      "#####\n"
     ]
    }
   ],
   "source": [
    "#132번\n",
    "\n",
    "과일 = [\"사과\", \"귤\", \"수박\"]\n",
    "for 변수 in 과일:\n",
    "  print(\"#####\")"
   ]
  },
  {
   "cell_type": "code",
   "execution_count": 93,
   "id": "26b3b45e",
   "metadata": {
    "ExecuteTime": {
     "end_time": "2023-12-07T04:11:53.736857Z",
     "start_time": "2023-12-07T04:11:53.729741Z"
    }
   },
   "outputs": [
    {
     "name": "stdout",
     "output_type": "stream",
     "text": [
      "A\n",
      "B\n",
      "C\n"
     ]
    }
   ],
   "source": [
    "#133번\n",
    "\n",
    "print('A')\n",
    "print('B')\n",
    "print('C')"
   ]
  },
  {
   "cell_type": "code",
   "execution_count": 90,
   "id": "c12016cf",
   "metadata": {
    "ExecuteTime": {
     "end_time": "2023-12-07T04:10:00.970136Z",
     "start_time": "2023-12-07T04:10:00.964387Z"
    }
   },
   "outputs": [
    {
     "name": "stdout",
     "output_type": "stream",
     "text": [
      "출력: A\n",
      "출력: B\n",
      "출력: C\n"
     ]
    }
   ],
   "source": [
    "#134번\n",
    "\n",
    "print('출력:', 'A')\n",
    "print('출력:', 'B')\n",
    "print('출력:', 'C')"
   ]
  },
  {
   "cell_type": "code",
   "execution_count": 97,
   "id": "e5b24985",
   "metadata": {
    "ExecuteTime": {
     "end_time": "2023-12-07T04:13:38.162420Z",
     "start_time": "2023-12-07T04:13:38.155791Z"
    }
   },
   "outputs": [
    {
     "name": "stdout",
     "output_type": "stream",
     "text": [
      "변환: a\n",
      "변환: b\n",
      "변환: c\n"
     ]
    }
   ],
   "source": [
    "#135번\n",
    "\n",
    "print('변환:', 'A'.lower())\n",
    "print('변환:', 'B'.lower())\n",
    "print('변환:', 'C'.lower())"
   ]
  },
  {
   "cell_type": "code",
   "execution_count": 98,
   "id": "207e2cbf",
   "metadata": {
    "ExecuteTime": {
     "end_time": "2023-12-07T04:14:27.984127Z",
     "start_time": "2023-12-07T04:14:27.977716Z"
    }
   },
   "outputs": [
    {
     "name": "stdout",
     "output_type": "stream",
     "text": [
      "10\n",
      "20\n",
      "30\n"
     ]
    }
   ],
   "source": [
    "#136번\n",
    "\n",
    "for 변수 in [10, 20, 30]:\n",
    "    print(변수)"
   ]
  },
  {
   "cell_type": "code",
   "execution_count": 99,
   "id": "e448c664",
   "metadata": {
    "ExecuteTime": {
     "end_time": "2023-12-07T04:15:28.534801Z",
     "start_time": "2023-12-07T04:15:28.527766Z"
    }
   },
   "outputs": [
    {
     "name": "stdout",
     "output_type": "stream",
     "text": [
      "10\n",
      "20\n",
      "30\n"
     ]
    }
   ],
   "source": [
    "#137번\n",
    "\n",
    "for 변수 in [10, 20, 30]:\n",
    "    print(변수)"
   ]
  },
  {
   "cell_type": "code",
   "execution_count": 101,
   "id": "980db5f2",
   "metadata": {
    "ExecuteTime": {
     "end_time": "2023-12-07T04:16:18.903913Z",
     "start_time": "2023-12-07T04:16:18.898746Z"
    }
   },
   "outputs": [
    {
     "name": "stdout",
     "output_type": "stream",
     "text": [
      "10\n",
      "-------\n",
      "20\n",
      "-------\n",
      "30\n",
      "-------\n"
     ]
    }
   ],
   "source": [
    "#138번\n",
    "\n",
    "for 변수 in [10, 20, 30]:\n",
    "    print(변수)\n",
    "    print(\"-------\")"
   ]
  },
  {
   "cell_type": "code",
   "execution_count": null,
   "id": "9cdd6e0f",
   "metadata": {},
   "outputs": [],
   "source": [
    "#139번\n",
    "\n",
    "for 변수 in [10, 20, 30]:\n",
    "    \n",
    "    print(변수)"
   ]
  },
  {
   "cell_type": "code",
   "execution_count": 102,
   "id": "48d99407",
   "metadata": {
    "ExecuteTime": {
     "end_time": "2023-12-07T04:55:30.407272Z",
     "start_time": "2023-12-07T04:55:30.392985Z"
    }
   },
   "outputs": [
    {
     "name": "stdout",
     "output_type": "stream",
     "text": [
      "-------\n",
      "-------\n",
      "-------\n",
      "-------\n"
     ]
    }
   ],
   "source": [
    "#140번\n",
    "\n",
    "for 변수 in [1, 2, 3, 4]:\n",
    "    print(\"-------\")"
   ]
  },
  {
   "cell_type": "code",
   "execution_count": 103,
   "id": "0a8171db",
   "metadata": {
    "ExecuteTime": {
     "end_time": "2023-12-07T04:57:02.129322Z",
     "start_time": "2023-12-07T04:57:02.120484Z"
    }
   },
   "outputs": [
    {
     "name": "stdout",
     "output_type": "stream",
     "text": [
      "110\n",
      "210\n",
      "310\n"
     ]
    }
   ],
   "source": [
    "#141번\n",
    "\n",
    "리스트 = [100, 200, 300]\n",
    "부가세 = 10\n",
    "\n",
    "for 판매가 in 리스트:\n",
    "    가격 =  판매가 + 부가세\n",
    "    print(가격)"
   ]
  },
  {
   "cell_type": "code",
   "execution_count": 104,
   "id": "f2e1fac1",
   "metadata": {
    "ExecuteTime": {
     "end_time": "2023-12-07T04:59:06.321169Z",
     "start_time": "2023-12-07T04:59:06.314342Z"
    }
   },
   "outputs": [
    {
     "name": "stdout",
     "output_type": "stream",
     "text": [
      "오늘의 메뉴: 김밥\n",
      "오늘의 메뉴: 라면\n",
      "오늘의 메뉴: 튀김\n"
     ]
    }
   ],
   "source": [
    "#142번\n",
    "\n",
    "리스트 = [\"김밥\", \"라면\", \"튀김\"]\n",
    "\n",
    "for 메뉴 in 리스트:\n",
    "    print('오늘의 메뉴:', 메뉴)"
   ]
  },
  {
   "cell_type": "code",
   "execution_count": 105,
   "id": "719f716e",
   "metadata": {
    "ExecuteTime": {
     "end_time": "2023-12-07T04:59:57.548111Z",
     "start_time": "2023-12-07T04:59:57.541505Z"
    }
   },
   "outputs": [
    {
     "name": "stdout",
     "output_type": "stream",
     "text": [
      "6\n",
      "4\n",
      "4\n"
     ]
    }
   ],
   "source": [
    "#143번\n",
    "\n",
    "리스트 = [\"SK하이닉스\", \"삼성전자\", \"LG전자\"]\n",
    "\n",
    "for 종목 in 리스트:\n",
    "    print(len(종목))"
   ]
  },
  {
   "cell_type": "code",
   "execution_count": 107,
   "id": "7a75ee35",
   "metadata": {
    "ExecuteTime": {
     "end_time": "2023-12-07T05:00:51.587740Z",
     "start_time": "2023-12-07T05:00:51.581677Z"
    }
   },
   "outputs": [
    {
     "name": "stdout",
     "output_type": "stream",
     "text": [
      "dog 3\n",
      "cat 3\n",
      "parrot 6\n"
     ]
    }
   ],
   "source": [
    "#144번\n",
    "\n",
    "리스트 = ['dog', 'cat', 'parrot']\n",
    "\n",
    "for 동물 in 리스트:\n",
    "    print(동물, len(동물))"
   ]
  },
  {
   "cell_type": "code",
   "execution_count": 108,
   "id": "49c15bc0",
   "metadata": {
    "ExecuteTime": {
     "end_time": "2023-12-07T05:01:32.252104Z",
     "start_time": "2023-12-07T05:01:32.247344Z"
    }
   },
   "outputs": [
    {
     "name": "stdout",
     "output_type": "stream",
     "text": [
      "d\n",
      "c\n",
      "p\n"
     ]
    }
   ],
   "source": [
    "#145번\n",
    "\n",
    "리스트 = ['dog', 'cat', 'parrot']\n",
    "\n",
    "for 동물 in 리스트:\n",
    "    print(동물[0])"
   ]
  },
  {
   "cell_type": "code",
   "execution_count": 109,
   "id": "5da8501c",
   "metadata": {
    "ExecuteTime": {
     "end_time": "2023-12-07T05:02:13.243372Z",
     "start_time": "2023-12-07T05:02:13.237616Z"
    }
   },
   "outputs": [
    {
     "name": "stdout",
     "output_type": "stream",
     "text": [
      "3 x 1\n",
      "3 x 2\n",
      "3 x 3\n"
     ]
    }
   ],
   "source": [
    "#146번\n",
    "\n",
    "리스트 = [1, 2, 3]\n",
    "\n",
    "for 숫자 in 리스트:\n",
    "    print('3 x', 숫자)"
   ]
  },
  {
   "cell_type": "code",
   "execution_count": 110,
   "id": "29e1af2a",
   "metadata": {
    "ExecuteTime": {
     "end_time": "2023-12-07T06:52:55.090415Z",
     "start_time": "2023-12-07T06:52:55.074505Z"
    }
   },
   "outputs": [
    {
     "name": "stdout",
     "output_type": "stream",
     "text": [
      "3 x 1 = 3\n",
      "3 x 2 = 6\n",
      "3 x 3 = 9\n"
     ]
    }
   ],
   "source": [
    "#147번\n",
    "\n",
    "리스트 = [1, 2, 3]\n",
    "\n",
    "for 숫자 in 리스트:\n",
    "    print('3 x', 숫자, '=', 3*숫자)"
   ]
  },
  {
   "cell_type": "code",
   "execution_count": 112,
   "id": "e73f5dd0",
   "metadata": {
    "ExecuteTime": {
     "end_time": "2023-12-07T06:58:34.925098Z",
     "start_time": "2023-12-07T06:58:34.917377Z"
    }
   },
   "outputs": [
    {
     "name": "stdout",
     "output_type": "stream",
     "text": [
      "나\n",
      "다\n",
      "라\n"
     ]
    }
   ],
   "source": [
    "#148번\n",
    "\n",
    "리스트 = [\"가\", \"나\", \"다\", \"라\"]\n",
    "\n",
    "for 문자 in 리스트[1:]:\n",
    "    print(문자)"
   ]
  },
  {
   "cell_type": "code",
   "execution_count": 113,
   "id": "3608c1fb",
   "metadata": {
    "ExecuteTime": {
     "end_time": "2023-12-07T06:59:35.481192Z",
     "start_time": "2023-12-07T06:59:35.474877Z"
    }
   },
   "outputs": [
    {
     "name": "stdout",
     "output_type": "stream",
     "text": [
      "가\n",
      "다\n"
     ]
    }
   ],
   "source": [
    "#149번\n",
    "\n",
    "리스트 = [\"가\", \"나\", \"다\", \"라\"]\n",
    "\n",
    "for 문자 in 리스트[::2]:\n",
    "    print(문자)"
   ]
  },
  {
   "cell_type": "code",
   "execution_count": 123,
   "id": "fd3e0379",
   "metadata": {
    "ExecuteTime": {
     "end_time": "2023-12-07T07:12:16.571463Z",
     "start_time": "2023-12-07T07:12:16.534575Z"
    }
   },
   "outputs": [
    {
     "ename": "TypeError",
     "evalue": "'NoneType' object is not iterable",
     "output_type": "error",
     "traceback": [
      "\u001b[1;31m---------------------------------------------------------------------------\u001b[0m",
      "\u001b[1;31mTypeError\u001b[0m                                 Traceback (most recent call last)",
      "Cell \u001b[1;32mIn[123], line 5\u001b[0m\n\u001b[0;32m      1\u001b[0m \u001b[38;5;66;03m#150번\u001b[39;00m\n\u001b[0;32m      3\u001b[0m 리스트 \u001b[38;5;241m=\u001b[39m [\u001b[38;5;124m\"\u001b[39m\u001b[38;5;124m가\u001b[39m\u001b[38;5;124m\"\u001b[39m, \u001b[38;5;124m\"\u001b[39m\u001b[38;5;124m나\u001b[39m\u001b[38;5;124m\"\u001b[39m, \u001b[38;5;124m\"\u001b[39m\u001b[38;5;124m다\u001b[39m\u001b[38;5;124m\"\u001b[39m, \u001b[38;5;124m\"\u001b[39m\u001b[38;5;124m라\u001b[39m\u001b[38;5;124m\"\u001b[39m]\n\u001b[1;32m----> 5\u001b[0m \u001b[38;5;28;01mfor\u001b[39;00m 문자 \u001b[38;5;129;01min\u001b[39;00m 리스트\u001b[38;5;241m.\u001b[39mreverse():\n\u001b[0;32m      6\u001b[0m     \u001b[38;5;28mprint\u001b[39m(문자)\n",
      "\u001b[1;31mTypeError\u001b[0m: 'NoneType' object is not iterable"
     ]
    }
   ],
   "source": [
    "#150번\n",
    "\n",
    "리스트 = [\"가\", \"나\", \"다\", \"라\"]\n",
    "\n",
    "for 문자 in 리스트.reverse():\n",
    "    print(문자)"
   ]
  },
  {
   "cell_type": "code",
   "execution_count": null,
   "id": "809e2eb4",
   "metadata": {},
   "outputs": [],
   "source": [
    "# 답\n",
    "\n",
    "리스트 = [\"가\", \"나\", \"다\", \"라\"]\n",
    "for 변수 in 리스트[: :-1]:\n",
    "  print(변수)"
   ]
  },
  {
   "cell_type": "code",
   "execution_count": 128,
   "id": "0acbd2df",
   "metadata": {
    "ExecuteTime": {
     "end_time": "2023-12-07T07:19:47.078410Z",
     "start_time": "2023-12-07T07:19:47.071129Z"
    }
   },
   "outputs": [
    {
     "name": "stdout",
     "output_type": "stream",
     "text": [
      "-20\n",
      "-3\n"
     ]
    }
   ],
   "source": [
    "#151번\n",
    "\n",
    "리스트 = [3, -20, -3, 44]\n",
    "\n",
    "for 변수 in 리스트:\n",
    "    if 변수 < 0:\n",
    "        print(변수)"
   ]
  },
  {
   "cell_type": "code",
   "execution_count": 129,
   "id": "d5d690cf",
   "metadata": {
    "ExecuteTime": {
     "end_time": "2023-12-07T07:20:31.067345Z",
     "start_time": "2023-12-07T07:20:31.061378Z"
    }
   },
   "outputs": [
    {
     "name": "stdout",
     "output_type": "stream",
     "text": [
      "3\n"
     ]
    }
   ],
   "source": [
    "#152번\n",
    "\n",
    "리스트 = [3, 100, 23, 44]\n",
    "\n",
    "for 변수 in 리스트:\n",
    "    if 변수%3 == 0:\n",
    "        print(변수)"
   ]
  },
  {
   "cell_type": "code",
   "execution_count": 130,
   "id": "e76cc73d",
   "metadata": {
    "ExecuteTime": {
     "end_time": "2023-12-07T07:21:29.724005Z",
     "start_time": "2023-12-07T07:21:29.718192Z"
    }
   },
   "outputs": [
    {
     "name": "stdout",
     "output_type": "stream",
     "text": [
      "12\n",
      "18\n"
     ]
    }
   ],
   "source": [
    "#153번\n",
    "\n",
    "리스트 = [13, 21, 12, 14, 30, 18]\n",
    "\n",
    "for 변수 in 리스트:\n",
    "    if 변수%3 == 0 and 변수 <20:\n",
    "        print(변수)"
   ]
  },
  {
   "cell_type": "code",
   "execution_count": 132,
   "id": "236d8395",
   "metadata": {
    "ExecuteTime": {
     "end_time": "2023-12-07T07:22:41.026835Z",
     "start_time": "2023-12-07T07:22:41.020990Z"
    }
   },
   "outputs": [
    {
     "name": "stdout",
     "output_type": "stream",
     "text": [
      "study\n",
      "python\n",
      "language\n"
     ]
    }
   ],
   "source": [
    "#154번\n",
    "\n",
    "리스트 = [\"I\", \"study\", \"python\", \"language\", \"!\"]\n",
    "\n",
    "for 변수 in 리스트:\n",
    "    if len(변수) >= 3:\n",
    "        print(변수)"
   ]
  },
  {
   "cell_type": "code",
   "execution_count": 133,
   "id": "91a203bf",
   "metadata": {
    "ExecuteTime": {
     "end_time": "2023-12-07T07:25:29.894468Z",
     "start_time": "2023-12-07T07:25:29.886322Z"
    }
   },
   "outputs": [
    {
     "name": "stdout",
     "output_type": "stream",
     "text": [
      "A\n",
      "D\n"
     ]
    }
   ],
   "source": [
    "#155번\n",
    "\n",
    "리스트 = [\"A\", \"b\", \"c\", \"D\"]\n",
    "\n",
    "for 변수 in 리스트:\n",
    "    if 변수.isupper():\n",
    "        print(변수)"
   ]
  },
  {
   "cell_type": "code",
   "execution_count": 134,
   "id": "812d2b6f",
   "metadata": {
    "ExecuteTime": {
     "end_time": "2023-12-07T07:26:17.259641Z",
     "start_time": "2023-12-07T07:26:17.252916Z"
    }
   },
   "outputs": [
    {
     "name": "stdout",
     "output_type": "stream",
     "text": [
      "b\n",
      "c\n"
     ]
    }
   ],
   "source": [
    "#156번\n",
    "\n",
    "리스트 = [\"A\", \"b\", \"c\", \"D\"]\n",
    "\n",
    "for 변수 in 리스트:\n",
    "    if 변수.islower():\n",
    "        print(변수)"
   ]
  },
  {
   "cell_type": "code",
   "execution_count": 136,
   "id": "d1c62f94",
   "metadata": {
    "ExecuteTime": {
     "end_time": "2023-12-07T07:28:00.099863Z",
     "start_time": "2023-12-07T07:28:00.092920Z"
    }
   },
   "outputs": [
    {
     "name": "stdout",
     "output_type": "stream",
     "text": [
      "Dog\n",
      "Cat\n",
      "Parrot\n"
     ]
    }
   ],
   "source": [
    "#157번\n",
    "\n",
    "리스트 = ['dog', 'cat', 'parrot']\n",
    "\n",
    "for 변수 in 리스트:\n",
    "    print(변수.upper()[0]+변수[1:])"
   ]
  },
  {
   "cell_type": "code",
   "execution_count": 142,
   "id": "fd62cb4b",
   "metadata": {
    "ExecuteTime": {
     "end_time": "2023-12-07T07:38:56.410060Z",
     "start_time": "2023-12-07T07:38:56.403651Z"
    }
   },
   "outputs": [
    {
     "name": "stdout",
     "output_type": "stream",
     "text": [
      "hello\n",
      "ex01\n",
      "intro\n"
     ]
    }
   ],
   "source": [
    "#158번\n",
    "\n",
    "리스트 = ['hello.py', 'ex01.py', 'intro.hwp']\n",
    "\n",
    "for 변수 in 리스트:\n",
    "    파일명 = 변수.split('.')[0]\n",
    "    print(파일명)"
   ]
  },
  {
   "cell_type": "code",
   "execution_count": 137,
   "id": "03b9c49f",
   "metadata": {
    "ExecuteTime": {
     "end_time": "2023-12-07T07:29:25.484716Z",
     "start_time": "2023-12-07T07:29:25.474936Z"
    }
   },
   "outputs": [
    {
     "name": "stdout",
     "output_type": "stream",
     "text": [
      "intra.h\n",
      "define.h\n"
     ]
    }
   ],
   "source": [
    "#159번\n",
    "\n",
    "리스트 = ['intra.h', 'intra.c', 'define.h', 'run.py']\n",
    "\n",
    "for 변수 in 리스트:\n",
    "    if 변수[-2:] == '.h':\n",
    "        print(변수)"
   ]
  },
  {
   "cell_type": "code",
   "execution_count": 141,
   "id": "76b3922b",
   "metadata": {
    "ExecuteTime": {
     "end_time": "2023-12-07T07:36:39.985611Z",
     "start_time": "2023-12-07T07:36:39.979531Z"
    },
    "scrolled": true
   },
   "outputs": [
    {
     "name": "stdout",
     "output_type": "stream",
     "text": [
      "intra.h\n",
      "define.h\n"
     ]
    }
   ],
   "source": [
    "#답\n",
    "리스트 = ['intra.h', 'intra.c', 'define.h', 'run.py']\n",
    "for 변수 in 리스트:\n",
    "    확장자 = 변수.split('.')\n",
    "    if 확장자[1] == 'h':\n",
    "        print(변수)"
   ]
  },
  {
   "cell_type": "code",
   "execution_count": 152,
   "id": "98efc7b4",
   "metadata": {
    "ExecuteTime": {
     "end_time": "2023-12-07T08:02:27.887932Z",
     "start_time": "2023-12-07T08:02:27.879812Z"
    }
   },
   "outputs": [
    {
     "name": "stdout",
     "output_type": "stream",
     "text": [
      "intra.h\n",
      "intra.c\n",
      "define.h\n"
     ]
    }
   ],
   "source": [
    "#160번\n",
    "\n",
    "리스트 = ['intra.h', 'intra.c', 'define.h', 'run.py']\n",
    "\n",
    "for 변수 in 리스트:\n",
    "    확장자 = 변수.split('.')[1]\n",
    "    if 확장자 == 'h' or 확장자 == 'c':\n",
    "        print(변수)"
   ]
  },
  {
   "cell_type": "code",
   "execution_count": 153,
   "id": "eb31ae39",
   "metadata": {
    "ExecuteTime": {
     "end_time": "2023-12-07T08:08:21.742774Z",
     "start_time": "2023-12-07T08:08:21.732177Z"
    }
   },
   "outputs": [
    {
     "name": "stdout",
     "output_type": "stream",
     "text": [
      "0\n",
      "1\n",
      "2\n",
      "3\n",
      "4\n",
      "5\n",
      "6\n",
      "7\n",
      "8\n",
      "9\n",
      "10\n",
      "11\n",
      "12\n",
      "13\n",
      "14\n",
      "15\n",
      "16\n",
      "17\n",
      "18\n",
      "19\n",
      "20\n",
      "21\n",
      "22\n",
      "23\n",
      "24\n",
      "25\n",
      "26\n",
      "27\n",
      "28\n",
      "29\n",
      "30\n",
      "31\n",
      "32\n",
      "33\n",
      "34\n",
      "35\n",
      "36\n",
      "37\n",
      "38\n",
      "39\n",
      "40\n",
      "41\n",
      "42\n",
      "43\n",
      "44\n",
      "45\n",
      "46\n",
      "47\n",
      "48\n",
      "49\n",
      "50\n",
      "51\n",
      "52\n",
      "53\n",
      "54\n",
      "55\n",
      "56\n",
      "57\n",
      "58\n",
      "59\n",
      "60\n",
      "61\n",
      "62\n",
      "63\n",
      "64\n",
      "65\n",
      "66\n",
      "67\n",
      "68\n",
      "69\n",
      "70\n",
      "71\n",
      "72\n",
      "73\n",
      "74\n",
      "75\n",
      "76\n",
      "77\n",
      "78\n",
      "79\n",
      "80\n",
      "81\n",
      "82\n",
      "83\n",
      "84\n",
      "85\n",
      "86\n",
      "87\n",
      "88\n",
      "89\n",
      "90\n",
      "91\n",
      "92\n",
      "93\n",
      "94\n",
      "95\n",
      "96\n",
      "97\n",
      "98\n",
      "99\n"
     ]
    }
   ],
   "source": [
    "#161번\n",
    "\n",
    "for n in range(0, 100): #range(100) 해도 됨\n",
    "    print(n)"
   ]
  },
  {
   "cell_type": "code",
   "execution_count": 155,
   "id": "281124d6",
   "metadata": {
    "ExecuteTime": {
     "end_time": "2023-12-07T08:11:01.734273Z",
     "start_time": "2023-12-07T08:11:01.727763Z"
    }
   },
   "outputs": [
    {
     "name": "stdout",
     "output_type": "stream",
     "text": [
      "2002\n",
      "2006\n",
      "2010\n",
      "2014\n",
      "2018\n",
      "2022\n",
      "2026\n",
      "2030\n",
      "2034\n",
      "2038\n",
      "2042\n",
      "2046\n",
      "2050\n"
     ]
    }
   ],
   "source": [
    "#162번\n",
    "\n",
    "for 연도 in range(2002, 2051, 4):\n",
    "    print(연도)"
   ]
  },
  {
   "cell_type": "code",
   "execution_count": 156,
   "id": "7add7e1e",
   "metadata": {
    "ExecuteTime": {
     "end_time": "2023-12-07T08:14:49.215675Z",
     "start_time": "2023-12-07T08:14:49.207676Z"
    }
   },
   "outputs": [
    {
     "name": "stdout",
     "output_type": "stream",
     "text": [
      "3\n",
      "6\n",
      "9\n",
      "12\n",
      "15\n",
      "18\n",
      "21\n",
      "24\n",
      "27\n",
      "30\n"
     ]
    }
   ],
   "source": [
    "#163번\n",
    "\n",
    "for n in range(1, 31):\n",
    "    if n%3 == 0:\n",
    "        print(n)"
   ]
  },
  {
   "cell_type": "code",
   "execution_count": 169,
   "id": "b3d7282a",
   "metadata": {
    "ExecuteTime": {
     "end_time": "2023-12-07T08:32:44.503567Z",
     "start_time": "2023-12-07T08:32:44.494984Z"
    }
   },
   "outputs": [
    {
     "name": "stdout",
     "output_type": "stream",
     "text": [
      "99\n",
      "98\n",
      "97\n",
      "96\n",
      "95\n",
      "94\n",
      "93\n",
      "92\n",
      "91\n",
      "90\n",
      "89\n",
      "88\n",
      "87\n",
      "86\n",
      "85\n",
      "84\n",
      "83\n",
      "82\n",
      "81\n",
      "80\n",
      "79\n",
      "78\n",
      "77\n",
      "76\n",
      "75\n",
      "74\n",
      "73\n",
      "72\n",
      "71\n",
      "70\n",
      "69\n",
      "68\n",
      "67\n",
      "66\n",
      "65\n",
      "64\n",
      "63\n",
      "62\n",
      "61\n",
      "60\n",
      "59\n",
      "58\n",
      "57\n",
      "56\n",
      "55\n",
      "54\n",
      "53\n",
      "52\n",
      "51\n",
      "50\n",
      "49\n",
      "48\n",
      "47\n",
      "46\n",
      "45\n",
      "44\n",
      "43\n",
      "42\n",
      "41\n",
      "40\n",
      "39\n",
      "38\n",
      "37\n",
      "36\n",
      "35\n",
      "34\n",
      "33\n",
      "32\n",
      "31\n",
      "30\n",
      "29\n",
      "28\n",
      "27\n",
      "26\n",
      "25\n",
      "24\n",
      "23\n",
      "22\n",
      "21\n",
      "20\n",
      "19\n",
      "18\n",
      "17\n",
      "16\n",
      "15\n",
      "14\n",
      "13\n",
      "12\n",
      "11\n",
      "10\n",
      "9\n",
      "8\n",
      "7\n",
      "6\n",
      "5\n",
      "4\n",
      "3\n",
      "2\n",
      "1\n",
      "0\n"
     ]
    }
   ],
   "source": [
    "#164번\n",
    "\n",
    "for n in range(99, -1, -1):\n",
    "    print(n)\n",
    "    \n",
    "#답\n",
    "for i in range(100):\n",
    "    print(99 - i)"
   ]
  },
  {
   "cell_type": "code",
   "execution_count": 177,
   "id": "348048cb",
   "metadata": {
    "ExecuteTime": {
     "end_time": "2023-12-07T08:42:08.253376Z",
     "start_time": "2023-12-07T08:42:08.247636Z"
    }
   },
   "outputs": [
    {
     "name": "stdout",
     "output_type": "stream",
     "text": [
      "0.0\n",
      "0.1\n",
      "0.2\n",
      "0.30000000000000004\n",
      "0.4\n",
      "0.5\n",
      "0.6000000000000001\n",
      "0.7000000000000001\n",
      "0.8\n",
      "0.9\n"
     ]
    }
   ],
   "source": [
    "#165번\n",
    "\n",
    "for n in range(10):\n",
    "    a = 0.1*n\n",
    "    print(a)"
   ]
  },
  {
   "cell_type": "code",
   "execution_count": 192,
   "id": "7273bfb0",
   "metadata": {
    "ExecuteTime": {
     "end_time": "2023-12-07T11:13:01.775520Z",
     "start_time": "2023-12-07T11:13:01.769881Z"
    }
   },
   "outputs": [
    {
     "name": "stdout",
     "output_type": "stream",
     "text": [
      "3x0 = 0\n",
      "3x1 = 3\n",
      "3x2 = 6\n",
      "3x3 = 9\n",
      "3x4 = 12\n",
      "3x5 = 15\n",
      "3x6 = 18\n",
      "3x7 = 21\n",
      "3x8 = 24\n",
      "3x9 = 27\n"
     ]
    }
   ],
   "source": [
    "#166번\n",
    "\n",
    "for n in range(10):\n",
    "    print(f'3x{n} =', n * 3)"
   ]
  },
  {
   "cell_type": "code",
   "execution_count": 193,
   "id": "cf3696ed",
   "metadata": {
    "ExecuteTime": {
     "end_time": "2023-12-07T11:15:24.041975Z",
     "start_time": "2023-12-07T11:15:24.034971Z"
    }
   },
   "outputs": [
    {
     "name": "stdout",
     "output_type": "stream",
     "text": [
      "3x1 = 3\n",
      "3x3 = 9\n",
      "3x5 = 15\n",
      "3x7 = 21\n",
      "3x9 = 27\n"
     ]
    }
   ],
   "source": [
    "#167번\n",
    "\n",
    "for n in range(10):\n",
    "    if n%2 == 1:\n",
    "        print(f'3x{n} =', 3*n)\n",
    "\n",
    "#답\n",
    "\n",
    "num = 3\n",
    "for i in range(1, 10, 2) :\n",
    "    print (num, \"x\", i, \" = \", num * i)"
   ]
  },
  {
   "cell_type": "code",
   "execution_count": 206,
   "id": "12018fc3",
   "metadata": {
    "ExecuteTime": {
     "end_time": "2023-12-07T11:31:46.257486Z",
     "start_time": "2023-12-07T11:31:46.250716Z"
    },
    "scrolled": true
   },
   "outputs": [
    {
     "name": "stdout",
     "output_type": "stream",
     "text": [
      "합 : 55\n"
     ]
    }
   ],
   "source": [
    "#168번\n",
    "num = 0\n",
    "for i in range(1, 11):\n",
    "    num = num + i\n",
    "print('합 :', num)"
   ]
  },
  {
   "cell_type": "code",
   "execution_count": 209,
   "id": "b8a4fdf5",
   "metadata": {
    "ExecuteTime": {
     "end_time": "2023-12-07T11:33:23.044642Z",
     "start_time": "2023-12-07T11:33:23.037870Z"
    }
   },
   "outputs": [
    {
     "name": "stdout",
     "output_type": "stream",
     "text": [
      "합: 25\n"
     ]
    }
   ],
   "source": [
    "#169번\n",
    "\n",
    "num = 0\n",
    "for i in range(1, 11, 2):\n",
    "    num += i\n",
    "print('합:', num)"
   ]
  },
  {
   "cell_type": "code",
   "execution_count": 210,
   "id": "e118eb8a",
   "metadata": {
    "ExecuteTime": {
     "end_time": "2023-12-07T11:34:30.183379Z",
     "start_time": "2023-12-07T11:34:30.175823Z"
    }
   },
   "outputs": [
    {
     "name": "stdout",
     "output_type": "stream",
     "text": [
      "3628800\n"
     ]
    }
   ],
   "source": [
    "#170번\n",
    "\n",
    "num = 1\n",
    "for i in range(1, 11):\n",
    "    num = num * i\n",
    "print(num)"
   ]
  },
  {
   "cell_type": "code",
   "execution_count": 240,
   "id": "e8d26469",
   "metadata": {
    "ExecuteTime": {
     "end_time": "2023-12-08T02:30:00.496844Z",
     "start_time": "2023-12-08T02:30:00.488276Z"
    }
   },
   "outputs": [
    {
     "name": "stdout",
     "output_type": "stream",
     "text": [
      "32100\n",
      "32150\n",
      "32000\n",
      "32500\n",
      "32100\n",
      "32150\n",
      "32000\n",
      "32500\n"
     ]
    }
   ],
   "source": [
    "#171번\n",
    "\n",
    "price_list = [32100, 32150, 32000, 32500]\n",
    "\n",
    "for i in price_list:\n",
    "    range(4), print(i)\n",
    "\n",
    "#답\n",
    "\n",
    "for i in range(4):\n",
    "    print(price_list[i])"
   ]
  },
  {
   "cell_type": "code",
   "execution_count": 241,
   "id": "08eae146",
   "metadata": {
    "ExecuteTime": {
     "end_time": "2023-12-08T02:30:52.015954Z",
     "start_time": "2023-12-08T02:30:52.010483Z"
    }
   },
   "outputs": [
    {
     "name": "stdout",
     "output_type": "stream",
     "text": [
      "0 32100\n",
      "1 32150\n",
      "2 32000\n",
      "3 32500\n"
     ]
    }
   ],
   "source": [
    "#172번\n",
    "\n",
    "price_list = [32100, 32150, 32000, 32500]\n",
    "\n",
    "for i in range(4):\n",
    "    print(i, price_list[i])"
   ]
  },
  {
   "cell_type": "code",
   "execution_count": 249,
   "id": "8c210ae9",
   "metadata": {
    "ExecuteTime": {
     "end_time": "2023-12-08T02:38:43.912836Z",
     "start_time": "2023-12-08T02:38:43.903228Z"
    }
   },
   "outputs": [
    {
     "name": "stdout",
     "output_type": "stream",
     "text": [
      "3 32100\n",
      "2 32150\n",
      "1 32000\n",
      "0 32500\n",
      "3 32100\n",
      "2 32150\n",
      "1 32000\n",
      "0 32500\n"
     ]
    }
   ],
   "source": [
    "#173번\n",
    "\n",
    "price_list = [32100, 32150, 32000, 32500]\n",
    "a = price_list[::-1]\n",
    "\n",
    "for i in range(3, -1, -1):\n",
    "    print(i, a[i])\n",
    "\n",
    "#답\n",
    "\n",
    "for i in range(len(price_list)):\n",
    "    print((len(price_list)-1)-i, price_list[i])"
   ]
  },
  {
   "cell_type": "code",
   "execution_count": 252,
   "id": "9c2d7bd8",
   "metadata": {
    "ExecuteTime": {
     "end_time": "2023-12-08T02:45:52.988144Z",
     "start_time": "2023-12-08T02:45:52.979812Z"
    }
   },
   "outputs": [
    {
     "name": "stdout",
     "output_type": "stream",
     "text": [
      "100 32150\n",
      "110 32000\n",
      "120 32500\n",
      "100 32150\n",
      "110 32000\n",
      "120 32500\n"
     ]
    }
   ],
   "source": [
    "#174번\n",
    "\n",
    "price_list = [32100, 32150, 32000, 32500]\n",
    "\n",
    "for i in range(3):\n",
    "    a = i*10 + 100\n",
    "    b = price_list[i+1]\n",
    "    print(a, b)\n",
    "\n",
    "#답\n",
    "for i in range(1, 4):\n",
    "    print(i*10+90, price_list[i])"
   ]
  },
  {
   "cell_type": "code",
   "execution_count": 255,
   "id": "5eb26af3",
   "metadata": {
    "ExecuteTime": {
     "end_time": "2023-12-08T02:49:31.151742Z",
     "start_time": "2023-12-08T02:49:31.140811Z"
    }
   },
   "outputs": [
    {
     "name": "stdout",
     "output_type": "stream",
     "text": [
      "가 나\n",
      "나 다\n",
      "다 라\n",
      "가 나\n",
      "나 다\n",
      "다 라\n"
     ]
    }
   ],
   "source": [
    "#175번\n",
    "\n",
    "my_list = [\"가\", \"나\", \"다\", \"라\"]\n",
    "\n",
    "for i in range(3):\n",
    "    print(my_list[i], my_list[i+1])\n",
    "\n",
    "#답\n",
    "for i in range(len(my_list)-1):\n",
    "    print(my_list[i], my_list[i+1])"
   ]
  },
  {
   "cell_type": "code",
   "execution_count": 261,
   "id": "d383061e",
   "metadata": {
    "ExecuteTime": {
     "end_time": "2023-12-08T02:53:40.655355Z",
     "start_time": "2023-12-08T02:53:40.649495Z"
    }
   },
   "outputs": [
    {
     "name": "stdout",
     "output_type": "stream",
     "text": [
      "가 나 다\n",
      "나 다 라\n",
      "다 라 마\n"
     ]
    }
   ],
   "source": [
    "#176번\n",
    "\n",
    "my_list = [\"가\", \"나\", \"다\", \"라\", \"마\"]\n",
    "for i in range(len(my_list)-2):\n",
    "    print(my_list[i], my_list[i+1], my_list[i+2])"
   ]
  },
  {
   "cell_type": "code",
   "execution_count": 263,
   "id": "d6759b6d",
   "metadata": {
    "ExecuteTime": {
     "end_time": "2023-12-08T02:58:34.447832Z",
     "start_time": "2023-12-08T02:58:34.442258Z"
    }
   },
   "outputs": [
    {
     "name": "stdout",
     "output_type": "stream",
     "text": [
      "라 다\n",
      "다 나\n",
      "나 가\n"
     ]
    }
   ],
   "source": [
    "#177번\n",
    "\n",
    "my_list = [\"가\", \"나\", \"다\", \"라\"]\n",
    "for i in range(len(my_list)-1, 0, -1):\n",
    "    print(my_list[i], my_list[i-1])"
   ]
  },
  {
   "cell_type": "code",
   "execution_count": 265,
   "id": "06831ad5",
   "metadata": {
    "ExecuteTime": {
     "end_time": "2023-12-08T03:03:00.519650Z",
     "start_time": "2023-12-08T03:03:00.513384Z"
    }
   },
   "outputs": [
    {
     "name": "stdout",
     "output_type": "stream",
     "text": [
      "100\n",
      "200\n",
      "400\n"
     ]
    }
   ],
   "source": [
    "#178번\n",
    "\n",
    "my_list = [100, 200, 400, 800]\n",
    "for i in range(len(my_list)-1):\n",
    "    print(abs(my_list[i+1] - my_list[i])) #절대값"
   ]
  },
  {
   "cell_type": "code",
   "execution_count": 268,
   "id": "a79277d3",
   "metadata": {
    "ExecuteTime": {
     "end_time": "2023-12-08T03:06:58.218643Z",
     "start_time": "2023-12-08T03:06:58.212607Z"
    }
   },
   "outputs": [
    {
     "name": "stdout",
     "output_type": "stream",
     "text": [
      "233.33333333333334\n",
      "466.6666666666667\n",
      "733.3333333333334\n",
      "1033.3333333333333\n"
     ]
    }
   ],
   "source": [
    "#179번\n",
    "my_list = [100, 200, 400, 800, 1000, 1300]\n",
    "for i in range(len(my_list)-2):\n",
    "    j = sum(my_list[i:i+3])/3\n",
    "    print(j)"
   ]
  },
  {
   "cell_type": "code",
   "execution_count": 293,
   "id": "d3edeec7",
   "metadata": {
    "ExecuteTime": {
     "end_time": "2023-12-08T03:44:29.303069Z",
     "start_time": "2023-12-08T03:44:29.296044Z"
    }
   },
   "outputs": [
    {
     "name": "stdout",
     "output_type": "stream",
     "text": [
      "[0, 0]\n",
      "[50, 100, 30, 80, 0]\n"
     ]
    }
   ],
   "source": [
    "#180번\n",
    "low_prices  = [100, 200, 400, 800, 1000]\n",
    "high_prices = [150, 300, 430, 880, 1000]\n",
    "\n",
    "for i in range(5):\n",
    "    volatility = []\n",
    "    변동폭 = high_prices[i] - low_prices[i]\n",
    "    volatility.append(변동폭)\n",
    "volatility.append(변동폭)\n",
    "print(volatility)\n",
    "\n",
    "#답\n",
    "\n",
    "volatility = []\n",
    "for i in range(len(low_prices)) :\n",
    "    volatility.append(high_prices[i] - low_prices[i])"
   ]
  },
  {
   "cell_type": "code",
   "execution_count": null,
   "id": "58386cd9",
   "metadata": {},
   "outputs": [],
   "source": [
    "#181번\n",
    "apart = [['101호', '102호'], ['201호', '202호'], ['301호, 302호']]"
   ]
  },
  {
   "cell_type": "code",
   "execution_count": null,
   "id": "120be36d",
   "metadata": {},
   "outputs": [],
   "source": [
    "#182번\n",
    "stock=[['시가', 100, 200, 300],['종가', 80, 210, 330]]"
   ]
  },
  {
   "cell_type": "code",
   "execution_count": null,
   "id": "9b84f03e",
   "metadata": {},
   "outputs": [],
   "source": [
    "#183번\n",
    "stock = {'시가':[100, 200, 300], '종가':[80, 210, 330]}"
   ]
  },
  {
   "cell_type": "code",
   "execution_count": null,
   "id": "041e4a93",
   "metadata": {},
   "outputs": [],
   "source": [
    "#184번\n",
    "stock={'10/10':[80, 110, 70, 90], '10/11':[210, 230, 190, 200]}"
   ]
  },
  {
   "cell_type": "code",
   "execution_count": 294,
   "id": "5da84140",
   "metadata": {
    "ExecuteTime": {
     "end_time": "2023-12-08T04:15:27.527476Z",
     "start_time": "2023-12-08T04:15:27.517183Z"
    }
   },
   "outputs": [
    {
     "name": "stdout",
     "output_type": "stream",
     "text": [
      "101 호\n",
      "102 호\n",
      "201 호\n",
      "202 호\n",
      "301 호\n",
      "302 호\n"
     ]
    }
   ],
   "source": [
    "#185번\n",
    "apart = [ [101, 102], [201, 202], [301, 302] ]\n",
    "for i in apart:\n",
    "    for j in i:\n",
    "        print(j, '호')"
   ]
  },
  {
   "cell_type": "code",
   "execution_count": 295,
   "id": "c69ca1c4",
   "metadata": {
    "ExecuteTime": {
     "end_time": "2023-12-08T04:17:16.510211Z",
     "start_time": "2023-12-08T04:17:16.502883Z"
    }
   },
   "outputs": [
    {
     "name": "stdout",
     "output_type": "stream",
     "text": [
      "301 호\n",
      "302 호\n",
      "201 호\n",
      "202 호\n",
      "101 호\n",
      "102 호\n"
     ]
    }
   ],
   "source": [
    "#186번\n",
    "apart = [ [101, 102], [201, 202], [301, 302] ]\n",
    "for i in apart[::-1]:\n",
    "    for j in i:\n",
    "        print(j, '호')"
   ]
  },
  {
   "cell_type": "code",
   "execution_count": 296,
   "id": "16f480b3",
   "metadata": {
    "ExecuteTime": {
     "end_time": "2023-12-08T04:18:06.647189Z",
     "start_time": "2023-12-08T04:18:06.640427Z"
    }
   },
   "outputs": [
    {
     "name": "stdout",
     "output_type": "stream",
     "text": [
      "302 호\n",
      "301 호\n",
      "202 호\n",
      "201 호\n",
      "102 호\n",
      "101 호\n"
     ]
    }
   ],
   "source": [
    "#187번\n",
    "apart = [ [101, 102], [201, 202], [301, 302] ]\n",
    "for i in apart[::-1]:\n",
    "    for j in i[::-1]:\n",
    "        print(j, '호')"
   ]
  },
  {
   "cell_type": "code",
   "execution_count": 307,
   "id": "a56b4b74",
   "metadata": {
    "ExecuteTime": {
     "end_time": "2023-12-08T04:20:50.308715Z",
     "start_time": "2023-12-08T04:20:50.302267Z"
    }
   },
   "outputs": [
    {
     "name": "stdout",
     "output_type": "stream",
     "text": [
      "101 호\n",
      "-----\n",
      "102 호\n",
      "-----\n",
      "201 호\n",
      "-----\n",
      "202 호\n",
      "-----\n",
      "301 호\n",
      "-----\n",
      "302 호\n",
      "-----\n"
     ]
    }
   ],
   "source": [
    "#188번\n",
    "apart = [ [101, 102], [201, 202], [301, 302] ]\n",
    "for i in apart:\n",
    "    for j in i:\n",
    "        print(j, '호')\n",
    "        print('-----')"
   ]
  },
  {
   "cell_type": "code",
   "execution_count": 309,
   "id": "d729e5f2",
   "metadata": {
    "ExecuteTime": {
     "end_time": "2023-12-08T04:31:36.684781Z",
     "start_time": "2023-12-08T04:31:36.679357Z"
    }
   },
   "outputs": [
    {
     "name": "stdout",
     "output_type": "stream",
     "text": [
      "101 호\n",
      "102 호\n",
      "-----\n",
      "201 호\n",
      "202 호\n",
      "-----\n",
      "301 호\n",
      "302 호\n",
      "-----\n"
     ]
    }
   ],
   "source": [
    "#189번\n",
    "apart = [ [101, 102], [201, 202], [301, 302] ]\n",
    "for i in apart:\n",
    "    for j in i:\n",
    "        print(j,'호')\n",
    "    print('-'*5)"
   ]
  },
  {
   "cell_type": "code",
   "execution_count": 315,
   "id": "bbdbb4a6",
   "metadata": {
    "ExecuteTime": {
     "end_time": "2023-12-08T04:33:53.336643Z",
     "start_time": "2023-12-08T04:33:53.330168Z"
    }
   },
   "outputs": [
    {
     "name": "stdout",
     "output_type": "stream",
     "text": [
      "101 호\n",
      "102 호\n",
      "201 호\n",
      "202 호\n",
      "301 호\n",
      "302 호\n",
      "-----\n"
     ]
    }
   ],
   "source": [
    "#190번\n",
    "apart = [ [101, 102], [201, 202], [301, 302] ]\n",
    "for i in apart:\n",
    "    for j in i:\n",
    "        print(j, '호')\n",
    "print('-----')"
   ]
  },
  {
   "cell_type": "code",
   "execution_count": 320,
   "id": "06c4be80",
   "metadata": {
    "ExecuteTime": {
     "end_time": "2023-12-08T04:39:54.265156Z",
     "start_time": "2023-12-08T04:39:54.258397Z"
    }
   },
   "outputs": [
    {
     "name": "stdout",
     "output_type": "stream",
     "text": [
      "2000.28\n",
      "3050.427\n",
      "2050.287\n",
      "1980.2772\n",
      "7501.05\n",
      "2050.287\n",
      "2050.287\n",
      "1980.2772\n",
      "15452.163\n",
      "15052.107\n",
      "15552.177\n",
      "14902.086\n"
     ]
    }
   ],
   "source": [
    "#191번\n",
    "data = [\n",
    "    [ 2000,  3050,  2050,  1980],\n",
    "    [ 7500,  2050,  2050,  1980],\n",
    "    [15450, 15050, 15550, 14900]\n",
    "]\n",
    "수수료 = 0.00014\n",
    "for i in data:\n",
    "    for j in i:\n",
    "        a = j + j*수수료\n",
    "        print(a)"
   ]
  },
  {
   "cell_type": "code",
   "execution_count": 322,
   "id": "bde766d9",
   "metadata": {
    "ExecuteTime": {
     "end_time": "2023-12-08T04:42:34.210748Z",
     "start_time": "2023-12-08T04:42:34.204623Z"
    }
   },
   "outputs": [
    {
     "name": "stdout",
     "output_type": "stream",
     "text": [
      "2000.28\n",
      "3050.427\n",
      "2050.2870000000003\n",
      "1980.2772\n",
      "----\n",
      "7501.05\n",
      "2050.2870000000003\n",
      "2050.2870000000003\n",
      "1980.2772\n",
      "----\n",
      "15452.163\n",
      "15052.107\n",
      "15552.177\n",
      "14902.086000000001\n",
      "----\n"
     ]
    }
   ],
   "source": [
    "#192번\n",
    "data = [\n",
    "    [ 2000,  3050,  2050,  1980],\n",
    "    [ 7500,  2050,  2050,  1980],\n",
    "    [15450, 15050, 15550, 14900]\n",
    "]\n",
    "\n",
    "for i in data:\n",
    "    for j in i:\n",
    "        print(j*1.00014)\n",
    "    print('----')"
   ]
  },
  {
   "cell_type": "code",
   "execution_count": 325,
   "id": "8ccdf791",
   "metadata": {
    "ExecuteTime": {
     "end_time": "2023-12-08T04:43:53.707708Z",
     "start_time": "2023-12-08T04:43:53.698529Z"
    }
   },
   "outputs": [
    {
     "name": "stdout",
     "output_type": "stream",
     "text": [
      "[2000.28, 3050.427, 2050.2870000000003, 1980.2772, 7501.05, 2050.2870000000003, 2050.2870000000003, 1980.2772, 15452.163, 15052.107, 15552.177, 14902.086000000001]\n"
     ]
    }
   ],
   "source": [
    "#193번\n",
    "data = [\n",
    "    [ 2000,  3050,  2050,  1980],\n",
    "    [ 7500,  2050,  2050,  1980],\n",
    "    [15450, 15050, 15550, 14900]\n",
    "]\n",
    "\n",
    "result = []\n",
    "for i in data:\n",
    "    for j in i:\n",
    "        result.append(j*1.00014)\n",
    "print(result)"
   ]
  },
  {
   "cell_type": "code",
   "execution_count": 336,
   "id": "faec2508",
   "metadata": {
    "ExecuteTime": {
     "end_time": "2023-12-08T04:59:17.602758Z",
     "start_time": "2023-12-08T04:59:17.596209Z"
    }
   },
   "outputs": [
    {
     "name": "stdout",
     "output_type": "stream",
     "text": [
      "[[2000.28, 3050.427, 2050.2870000000003, 1980.2772], [7501.05, 2050.2870000000003, 2050.2870000000003, 1980.2772], [15452.163, 15052.107, 15552.177, 14902.086000000001]]\n"
     ]
    }
   ],
   "source": [
    "#194번\n",
    "data = [\n",
    "    [ 2000,  3050,  2050,  1980],\n",
    "    [ 7500,  2050,  2050,  1980],\n",
    "    [15450, 15050, 15550, 14900]\n",
    "]\n",
    "\n",
    "result = []\n",
    "for i in data:\n",
    "    a = []\n",
    "    for j in i:\n",
    "        a.append(j*1.00014)\n",
    "    result.append(a)\n",
    "print(result)"
   ]
  },
  {
   "cell_type": "code",
   "execution_count": 341,
   "id": "0d55610e",
   "metadata": {
    "ExecuteTime": {
     "end_time": "2023-12-08T05:04:20.948793Z",
     "start_time": "2023-12-08T05:04:20.941753Z"
    }
   },
   "outputs": [
    {
     "name": "stdout",
     "output_type": "stream",
     "text": [
      "100\n",
      "190\n",
      "310\n"
     ]
    }
   ],
   "source": [
    "#195번\n",
    "ohlc = [[\"open\", \"high\", \"low\", \"close\"],\n",
    "        [100, 110, 70, 100],\n",
    "        [200, 210, 180, 190],\n",
    "        [300, 310, 300, 310]]\n",
    "for i in ohlc[1:]:\n",
    "    print(i[3])"
   ]
  },
  {
   "cell_type": "code",
   "execution_count": 355,
   "id": "002371f2",
   "metadata": {
    "ExecuteTime": {
     "end_time": "2023-12-08T05:14:03.726864Z",
     "start_time": "2023-12-08T05:14:03.720368Z"
    }
   },
   "outputs": [
    {
     "name": "stdout",
     "output_type": "stream",
     "text": [
      "190\n",
      "310\n"
     ]
    }
   ],
   "source": [
    "#196번\n",
    "ohlc = [[\"open\", \"high\", \"low\", \"close\"],\n",
    "        [100, 110, 70, 100],\n",
    "        [200, 210, 180, 190],\n",
    "        [300, 310, 300, 310]]\n",
    "for i in ohlc[1:]:\n",
    "    for j in i[3:]:\n",
    "        if j >= 150:\n",
    "            print(j)\n",
    "#답\n",
    "for row in ohlc[1:]:\n",
    "    if(row[3:] >=150):\n",
    "        print(row[3:])"
   ]
  },
  {
   "cell_type": "code",
   "execution_count": 358,
   "id": "8b2e5912",
   "metadata": {
    "ExecuteTime": {
     "end_time": "2023-12-08T05:16:36.069418Z",
     "start_time": "2023-12-08T05:16:36.063381Z"
    }
   },
   "outputs": [
    {
     "name": "stdout",
     "output_type": "stream",
     "text": [
      "100\n",
      "310\n"
     ]
    }
   ],
   "source": [
    "#197번\n",
    "ohlc = [[\"open\", \"high\", \"low\", \"close\"],\n",
    "        [100, 110, 70, 100],\n",
    "        [200, 210, 180, 190],\n",
    "        [300, 310, 300, 310]]\n",
    "for i in ohlc[1:]:\n",
    "    if i[3]>=i[0]:\n",
    "        print(i[3])"
   ]
  },
  {
   "cell_type": "code",
   "execution_count": 362,
   "id": "27ec5116",
   "metadata": {
    "ExecuteTime": {
     "end_time": "2023-12-08T05:18:24.772039Z",
     "start_time": "2023-12-08T05:18:24.764218Z"
    }
   },
   "outputs": [
    {
     "name": "stdout",
     "output_type": "stream",
     "text": [
      "[40, 30, 10]\n"
     ]
    }
   ],
   "source": [
    "#198번\n",
    "ohlc = [[\"open\", \"high\", \"low\", \"close\"],\n",
    "        [100, 110, 70, 100],\n",
    "        [200, 210, 180, 190],\n",
    "        [300, 310, 300, 310]]\n",
    "volatility = []\n",
    "for i in ohlc[1:]:\n",
    "    volatility.append(abs(i[1]-i[2]))\n",
    "print(volatility)"
   ]
  },
  {
   "cell_type": "code",
   "execution_count": 363,
   "id": "b6fab959",
   "metadata": {
    "ExecuteTime": {
     "end_time": "2023-12-08T05:22:41.618359Z",
     "start_time": "2023-12-08T05:22:41.608349Z"
    }
   },
   "outputs": [
    {
     "name": "stdout",
     "output_type": "stream",
     "text": [
      "10\n"
     ]
    }
   ],
   "source": [
    "#199번\n",
    "ohlc = [[\"open\", \"high\", \"low\", \"close\"],\n",
    "        [100, 110, 70, 100],\n",
    "        [200, 210, 180, 190],\n",
    "        [300, 310, 300, 310]]\n",
    "for i in ohlc[1:]:\n",
    "    if i[3] > i[0]:\n",
    "        print(abs(i[3]-i[0]))"
   ]
  },
  {
   "cell_type": "code",
   "execution_count": 374,
   "id": "c1084c24",
   "metadata": {
    "ExecuteTime": {
     "end_time": "2023-12-08T05:33:19.527299Z",
     "start_time": "2023-12-08T05:33:19.520566Z"
    }
   },
   "outputs": [
    {
     "name": "stdout",
     "output_type": "stream",
     "text": [
      "0\n"
     ]
    }
   ],
   "source": [
    "#200번\n",
    "ohlc = [[\"open\", \"high\", \"low\", \"close\"],\n",
    "        [100, 110, 70, 100],\n",
    "        [200, 210, 180, 190],\n",
    "        [300, 310, 300, 310]]\n",
    "a = 0\n",
    "for i in ohlc[1:]:\n",
    "    a = a + (i[3]-i[0])\n",
    "    \n",
    "print(a)"
   ]
  },
  {
   "cell_type": "markdown",
   "id": "dac5a1dd",
   "metadata": {},
   "source": [
    "# 파이썬 함수 201~240"
   ]
  },
  {
   "cell_type": "code",
   "execution_count": null,
   "id": "a2d900e6",
   "metadata": {},
   "outputs": [],
   "source": [
    "#201번\n",
    "def print_coin():\n",
    "    print('비트코인')"
   ]
  },
  {
   "cell_type": "code",
   "execution_count": 379,
   "id": "662b8956",
   "metadata": {
    "ExecuteTime": {
     "end_time": "2023-12-08T06:51:32.085291Z",
     "start_time": "2023-12-08T06:51:32.080044Z"
    }
   },
   "outputs": [
    {
     "name": "stdout",
     "output_type": "stream",
     "text": [
      "비트코인\n"
     ]
    }
   ],
   "source": [
    "#202번\n",
    "def print_coin():\n",
    "    print('비트코인')\n",
    "print_coin()"
   ]
  },
  {
   "cell_type": "code",
   "execution_count": 389,
   "id": "ddce79ca",
   "metadata": {
    "ExecuteTime": {
     "end_time": "2023-12-08T07:20:07.658479Z",
     "start_time": "2023-12-08T07:20:07.651670Z"
    }
   },
   "outputs": [
    {
     "name": "stdout",
     "output_type": "stream",
     "text": [
      "비트코인\n",
      "비트코인\n",
      "비트코인\n",
      "비트코인\n",
      "비트코인\n",
      "비트코인\n",
      "비트코인\n",
      "비트코인\n",
      "비트코인\n",
      "비트코인\n",
      "비트코인\n",
      "비트코인\n",
      "비트코인\n",
      "비트코인\n",
      "비트코인\n",
      "비트코인\n",
      "비트코인\n",
      "비트코인\n",
      "비트코인\n",
      "비트코인\n",
      "비트코인\n",
      "비트코인\n",
      "비트코인\n",
      "비트코인\n",
      "비트코인\n",
      "비트코인\n",
      "비트코인\n",
      "비트코인\n",
      "비트코인\n",
      "비트코인\n",
      "비트코인\n",
      "비트코인\n",
      "비트코인\n",
      "비트코인\n",
      "비트코인\n",
      "비트코인\n",
      "비트코인\n",
      "비트코인\n",
      "비트코인\n",
      "비트코인\n",
      "비트코인\n",
      "비트코인\n",
      "비트코인\n",
      "비트코인\n",
      "비트코인\n",
      "비트코인\n",
      "비트코인\n",
      "비트코인\n",
      "비트코인\n",
      "비트코인\n",
      "비트코인\n",
      "비트코인\n",
      "비트코인\n",
      "비트코인\n",
      "비트코인\n",
      "비트코인\n",
      "비트코인\n",
      "비트코인\n",
      "비트코인\n",
      "비트코인\n",
      "비트코인\n",
      "비트코인\n",
      "비트코인\n",
      "비트코인\n",
      "비트코인\n",
      "비트코인\n",
      "비트코인\n",
      "비트코인\n",
      "비트코인\n",
      "비트코인\n",
      "비트코인\n",
      "비트코인\n",
      "비트코인\n",
      "비트코인\n",
      "비트코인\n",
      "비트코인\n",
      "비트코인\n",
      "비트코인\n",
      "비트코인\n",
      "비트코인\n",
      "비트코인\n",
      "비트코인\n",
      "비트코인\n",
      "비트코인\n",
      "비트코인\n",
      "비트코인\n",
      "비트코인\n",
      "비트코인\n",
      "비트코인\n",
      "비트코인\n",
      "비트코인\n",
      "비트코인\n",
      "비트코인\n",
      "비트코인\n",
      "비트코인\n",
      "비트코인\n",
      "비트코인\n",
      "비트코인\n",
      "비트코인\n",
      "비트코인\n"
     ]
    }
   ],
   "source": [
    "#203번\n",
    "print_coin()*100\n",
    "\n",
    "#답\n",
    "def print_coin():\n",
    "    print('비트코인')\n",
    "for i in range(100):\n",
    "    print_coin()"
   ]
  },
  {
   "cell_type": "code",
   "execution_count": 385,
   "id": "f2638e3e",
   "metadata": {
    "ExecuteTime": {
     "end_time": "2023-12-08T06:55:03.668999Z",
     "start_time": "2023-12-08T06:55:03.660952Z"
    }
   },
   "outputs": [
    {
     "name": "stdout",
     "output_type": "stream",
     "text": [
      "비트코인비트코인비트코인비트코인비트코인비트코인비트코인비트코인비트코인비트코인비트코인비트코인비트코인비트코인비트코인비트코인비트코인비트코인비트코인비트코인비트코인비트코인비트코인비트코인비트코인비트코인비트코인비트코인비트코인비트코인비트코인비트코인비트코인비트코인비트코인비트코인비트코인비트코인비트코인비트코인비트코인비트코인비트코인비트코인비트코인비트코인비트코인비트코인비트코인비트코인비트코인비트코인비트코인비트코인비트코인비트코인비트코인비트코인비트코인비트코인비트코인비트코인비트코인비트코인비트코인비트코인비트코인비트코인비트코인비트코인비트코인비트코인비트코인비트코인비트코인비트코인비트코인비트코인비트코인비트코인비트코인비트코인비트코인비트코인비트코인비트코인비트코인비트코인비트코인비트코인비트코인비트코인비트코인비트코인비트코인비트코인비트코인비트코인비트코인비트코인\n"
     ]
    }
   ],
   "source": [
    "#204번\n",
    "def print_coins():\n",
    "    print('비트코인'*100)\n",
    "print_coins()\n",
    "\n",
    "#답\n",
    "def print_coins():\n",
    "    for i in range(100):\n",
    "        print('비트코인')"
   ]
  },
  {
   "cell_type": "code",
   "execution_count": null,
   "id": "9d9cd10e",
   "metadata": {},
   "outputs": [],
   "source": [
    "#205번\n",
    "함수 정의를 뒤에 함"
   ]
  },
  {
   "cell_type": "code",
   "execution_count": null,
   "id": "1307c7da",
   "metadata": {},
   "outputs": [],
   "source": [
    "#206번\n",
    "A\n",
    "B\n",
    "C\n",
    "A\n",
    "B"
   ]
  },
  {
   "cell_type": "code",
   "execution_count": null,
   "id": "a60b59d0",
   "metadata": {},
   "outputs": [],
   "source": [
    "#207번\n",
    "A\n",
    "C\n",
    "B"
   ]
  },
  {
   "cell_type": "code",
   "execution_count": null,
   "id": "32ffe804",
   "metadata": {},
   "outputs": [],
   "source": [
    "#208번\n",
    "A\n",
    "C\n",
    "B\n",
    "E\n",
    "D"
   ]
  },
  {
   "cell_type": "code",
   "execution_count": null,
   "id": "c905fe89",
   "metadata": {},
   "outputs": [],
   "source": [
    "#209번\n",
    "B\n",
    "A"
   ]
  },
  {
   "cell_type": "code",
   "execution_count": null,
   "id": "4be98bfd",
   "metadata": {},
   "outputs": [],
   "source": [
    "#210번\n",
    "B\n",
    "C\n",
    "B\n",
    "C\n",
    "B\n",
    "C\n",
    "A"
   ]
  },
  {
   "cell_type": "code",
   "execution_count": null,
   "id": "be241cf6",
   "metadata": {},
   "outputs": [],
   "source": [
    "#211번\n",
    "안녕\n",
    "Hi"
   ]
  },
  {
   "cell_type": "code",
   "execution_count": null,
   "id": "4fc16357",
   "metadata": {},
   "outputs": [],
   "source": [
    "#212번\n",
    "7\n",
    "15"
   ]
  },
  {
   "cell_type": "code",
   "execution_count": null,
   "id": "83c9e382",
   "metadata": {},
   "outputs": [],
   "source": [
    "#213번\n",
    "문자열을 넣지 않아서"
   ]
  },
  {
   "cell_type": "code",
   "execution_count": null,
   "id": "9c716f2f",
   "metadata": {},
   "outputs": [],
   "source": [
    "#214번\n",
    "문자열과 숫자는 더할 수 없음"
   ]
  },
  {
   "cell_type": "code",
   "execution_count": 391,
   "id": "53b2410e",
   "metadata": {
    "ExecuteTime": {
     "end_time": "2023-12-08T07:34:53.758029Z",
     "start_time": "2023-12-08T07:34:53.751908Z"
    }
   },
   "outputs": [
    {
     "name": "stdout",
     "output_type": "stream",
     "text": [
      "LOVE:D\n"
     ]
    }
   ],
   "source": [
    "#215번\n",
    "def print_with_smile(a):\n",
    "    print(a+':D') # 쉼표는 띄어서 나옴\n",
    "print_with_smile('LOVE')"
   ]
  },
  {
   "cell_type": "code",
   "execution_count": 392,
   "id": "d007c03d",
   "metadata": {
    "ExecuteTime": {
     "end_time": "2023-12-08T07:35:25.156092Z",
     "start_time": "2023-12-08T07:35:25.150751Z"
    }
   },
   "outputs": [
    {
     "name": "stdout",
     "output_type": "stream",
     "text": [
      "안녕하세요:D\n"
     ]
    }
   ],
   "source": [
    "#216번\n",
    "print_with_smile('안녕하세요')"
   ]
  },
  {
   "cell_type": "code",
   "execution_count": null,
   "id": "977df363",
   "metadata": {},
   "outputs": [],
   "source": [
    "#217번\n",
    "def print_upper_price(현재가격):\n",
    "    print(현재가격*1.3)"
   ]
  },
  {
   "cell_type": "code",
   "execution_count": null,
   "id": "4424e954",
   "metadata": {},
   "outputs": [],
   "source": [
    "#218번\n",
    "def print_sum(a, b):\n",
    "    print(a+b)"
   ]
  },
  {
   "cell_type": "code",
   "execution_count": 394,
   "id": "88d7a671",
   "metadata": {
    "ExecuteTime": {
     "end_time": "2023-12-08T07:38:53.198535Z",
     "start_time": "2023-12-08T07:38:53.191144Z"
    }
   },
   "outputs": [
    {
     "name": "stdout",
     "output_type": "stream",
     "text": [
      "3 + 4 = 7\n",
      "3 - 4 = -1\n",
      "3 * 4 = 12\n",
      "3 / 4 = 0.75\n"
     ]
    }
   ],
   "source": [
    "#219번\n",
    "def print_arithmetic_operation(a, b):\n",
    "    print(a, '+', b, '=', a+b)\n",
    "    print(a, '-', b, '=', a-b)\n",
    "    print(a, '*', b, '=', a*b)\n",
    "    print(a, '/', b, '=', a/b)\n",
    "\n",
    "print_arithmetic_operation(3, 4)"
   ]
  },
  {
   "cell_type": "code",
   "execution_count": null,
   "id": "9a7a29fd",
   "metadata": {},
   "outputs": [],
   "source": [
    "#220번\n",
    "def print_max(a, b, c):\n",
    "    if (a>b) and (a>c):\n",
    "        print(a)\n",
    "    elif (b>a) and (b>c):\n",
    "        print(b)\n",
    "    else:\n",
    "        print(c)"
   ]
  },
  {
   "cell_type": "code",
   "execution_count": 398,
   "id": "2ce6282d",
   "metadata": {
    "ExecuteTime": {
     "end_time": "2023-12-08T07:49:47.736815Z",
     "start_time": "2023-12-08T07:49:47.730025Z"
    }
   },
   "outputs": [
    {
     "name": "stdout",
     "output_type": "stream",
     "text": [
      "nohtyp\n"
     ]
    }
   ],
   "source": [
    "#221번\n",
    "def print_reverse(문자):\n",
    "    print(문자[::-1])\n",
    "\n",
    "print_reverse(\"python\")"
   ]
  },
  {
   "cell_type": "code",
   "execution_count": 400,
   "id": "1ec1f8c2",
   "metadata": {
    "ExecuteTime": {
     "end_time": "2023-12-08T07:51:50.241753Z",
     "start_time": "2023-12-08T07:51:50.234999Z"
    }
   },
   "outputs": [
    {
     "name": "stdout",
     "output_type": "stream",
     "text": [
      "2.0\n"
     ]
    }
   ],
   "source": [
    "#222번\n",
    "def print_score(성적리스트):\n",
    "    총합 = 0\n",
    "    for 성적 in 성적리스트:\n",
    "        총합 += 성적\n",
    "    평균 = 총합/len(성적리스트)\n",
    "    print(평균)\n",
    "\n",
    "print_score ([1, 2, 3]) \n",
    "\n",
    "#답\n",
    "def print_score(score_list):\n",
    "    print(sum(score_list)/len(score_list))"
   ]
  },
  {
   "cell_type": "code",
   "execution_count": 401,
   "id": "e1551e76",
   "metadata": {
    "ExecuteTime": {
     "end_time": "2023-12-08T07:54:05.857015Z",
     "start_time": "2023-12-08T07:54:05.849942Z"
    }
   },
   "outputs": [
    {
     "name": "stdout",
     "output_type": "stream",
     "text": [
      "2\n",
      "10\n",
      "12\n"
     ]
    }
   ],
   "source": [
    "#223번\n",
    "def print_even(리스트):\n",
    "    for i in 리스트:\n",
    "        if i%2 == 0:\n",
    "            print(i)\n",
    "print_even ([1, 3, 2, 10, 12, 11, 15])"
   ]
  },
  {
   "cell_type": "code",
   "execution_count": 405,
   "id": "be37c516",
   "metadata": {
    "ExecuteTime": {
     "end_time": "2023-12-08T07:56:49.153164Z",
     "start_time": "2023-12-08T07:56:49.145964Z"
    }
   },
   "outputs": [
    {
     "name": "stdout",
     "output_type": "stream",
     "text": [
      "이름\n",
      "나이\n",
      "성별\n"
     ]
    }
   ],
   "source": [
    "#224번\n",
    "def print_keys(딕셔너리):\n",
    "    for i in 딕셔너리:\n",
    "        print(i)\n",
    "print_keys ({\"이름\":\"김말똥\", \"나이\":30, \"성별\":0})\n",
    "\n",
    "#답\n",
    "def print_keys(dic):\n",
    "    for keys in dic.keys():\n",
    "        print(keys)"
   ]
  },
  {
   "cell_type": "code",
   "execution_count": 406,
   "id": "1973cca3",
   "metadata": {
    "ExecuteTime": {
     "end_time": "2023-12-08T09:12:52.741121Z",
     "start_time": "2023-12-08T09:12:52.731760Z"
    }
   },
   "outputs": [
    {
     "name": "stdout",
     "output_type": "stream",
     "text": [
      "[100, 130, 100, 100]\n"
     ]
    }
   ],
   "source": [
    "#225번\n",
    "my_dict = {\"10/26\" : [100, 130, 100, 100],\n",
    "           \"10/27\" : [10, 12, 10, 11]}\n",
    "def print_value_by_key(리스트, 날짜):\n",
    "    print(리스트[날짜])\n",
    "print_value_by_key  (my_dict, \"10/26\")\n",
    "\n",
    "#답\n",
    "def print_value_by_key (my_dict, key) :\n",
    "    print(my_dict[key])"
   ]
  },
  {
   "cell_type": "code",
   "execution_count": 412,
   "id": "1c691f79",
   "metadata": {
    "ExecuteTime": {
     "end_time": "2023-12-08T09:39:17.225764Z",
     "start_time": "2023-12-08T09:39:17.219155Z"
    }
   },
   "outputs": [
    {
     "name": "stdout",
     "output_type": "stream",
     "text": [
      "아이엠어보\n",
      "이유알어걸\n"
     ]
    }
   ],
   "source": [
    "#226번\n",
    "def print_5xn(a):\n",
    "    for i in range(0, len(a), 5):\n",
    "        print(a[i:i+5])\n",
    "print_5xn(\"아이엠어보이유알어걸\")"
   ]
  },
  {
   "cell_type": "code",
   "execution_count": 417,
   "id": "973bde4c",
   "metadata": {
    "ExecuteTime": {
     "end_time": "2023-12-08T09:47:49.917792Z",
     "start_time": "2023-12-08T09:47:49.911351Z"
    }
   },
   "outputs": [
    {
     "name": "stdout",
     "output_type": "stream",
     "text": [
      "아이엠\n",
      "어보이\n",
      "유알어\n",
      "걸\n"
     ]
    }
   ],
   "source": [
    "#227번\n",
    "def print_mxn(문자, 글자수):\n",
    "    for i in range(0, len(문자), 글자수):\n",
    "        print(문자[i:i+글자수])\n",
    "\n",
    "print_mxn(\"아이엠어보이유알어걸\", 3)"
   ]
  },
  {
   "cell_type": "code",
   "execution_count": 422,
   "id": "b4d772ba",
   "metadata": {
    "ExecuteTime": {
     "end_time": "2023-12-08T09:53:54.889291Z",
     "start_time": "2023-12-08T09:53:54.883400Z"
    }
   },
   "outputs": [
    {
     "name": "stdout",
     "output_type": "stream",
     "text": [
      "1000000\n"
     ]
    }
   ],
   "source": [
    "#228번\n",
    "def calc_monthly_salary(연봉):\n",
    "    print(int(round(연봉/12)))\n",
    "\n",
    "calc_monthly_salary(12000000)"
   ]
  },
  {
   "cell_type": "code",
   "execution_count": null,
   "id": "8d2b0433",
   "metadata": {},
   "outputs": [],
   "source": [
    "#229번\n",
    "왼쪽: 100\n",
    "오른쪽: 200"
   ]
  },
  {
   "cell_type": "code",
   "execution_count": null,
   "id": "d4018a60",
   "metadata": {},
   "outputs": [],
   "source": [
    "#230번\n",
    "왼쪽: 200\n",
    "오른쪽: 100"
   ]
  },
  {
   "cell_type": "code",
   "execution_count": null,
   "id": "ef680f8f",
   "metadata": {},
   "outputs": [],
   "source": [
    "#231번\n",
    "4\n",
    "result가 없어서 출력x #함수 내부 계산 값 전달하려면 : return"
   ]
  },
  {
   "cell_type": "code",
   "execution_count": 423,
   "id": "cb5adf31",
   "metadata": {
    "ExecuteTime": {
     "end_time": "2023-12-08T09:58:50.094973Z",
     "start_time": "2023-12-08T09:58:50.089406Z"
    }
   },
   "outputs": [
    {
     "name": "stdout",
     "output_type": "stream",
     "text": [
      "www.naver.com\n"
     ]
    }
   ],
   "source": [
    "#232번\n",
    "def make_url(사이트):\n",
    "    return 'www.'+사이트+'.com'\n",
    "\n",
    "make_url(\"naver\")"
   ]
  },
  {
   "cell_type": "code",
   "execution_count": 433,
   "id": "28b9b7a7",
   "metadata": {
    "ExecuteTime": {
     "end_time": "2023-12-08T10:09:26.403397Z",
     "start_time": "2023-12-08T10:09:26.397668Z"
    }
   },
   "outputs": [
    {
     "name": "stdout",
     "output_type": "stream",
     "text": [
      "['a', 'b', 'c', 'd']\n"
     ]
    }
   ],
   "source": [
    "#233번\n",
    "\n",
    "def make_list(문자):\n",
    "    a = []\n",
    "    for i in 문자:\n",
    "        a.append(i)\n",
    "    print(a)\n",
    "make_list(\"abcd\")"
   ]
  },
  {
   "cell_type": "code",
   "execution_count": 435,
   "id": "38c380a2",
   "metadata": {
    "ExecuteTime": {
     "end_time": "2023-12-08T10:12:52.572904Z",
     "start_time": "2023-12-08T10:12:52.566633Z"
    }
   },
   "outputs": [
    {
     "name": "stdout",
     "output_type": "stream",
     "text": [
      "[4, 6, 8]\n"
     ]
    }
   ],
   "source": [
    "#234번\n",
    "def pickup_even(리스트):\n",
    "    e =[]\n",
    "    for n in 리스트:\n",
    "        if n%2 == 0:\n",
    "            e.append(n)\n",
    "    print(e)\n",
    "\n",
    "pickup_even([3, 4, 5, 6, 7, 8])"
   ]
  },
  {
   "cell_type": "code",
   "execution_count": 439,
   "id": "b105b4a4",
   "metadata": {
    "ExecuteTime": {
     "end_time": "2023-12-08T10:17:01.306353Z",
     "start_time": "2023-12-08T10:17:01.300024Z"
    }
   },
   "outputs": [
    {
     "name": "stdout",
     "output_type": "stream",
     "text": [
      "1234567\n"
     ]
    }
   ],
   "source": [
    "#235번\n",
    "def convert_int(숫자):\n",
    "    a = 숫자.replace(',','')\n",
    "    print(int(a))\n",
    "\n",
    "convert_int(\"1,234,567\")"
   ]
  },
  {
   "cell_type": "code",
   "execution_count": 438,
   "id": "578d7c42",
   "metadata": {
    "ExecuteTime": {
     "end_time": "2023-12-08T10:16:43.356018Z",
     "start_time": "2023-12-08T10:16:43.349919Z"
    }
   },
   "outputs": [
    {
     "data": {
      "text/plain": [
       "'1234567'"
      ]
     },
     "execution_count": 438,
     "metadata": {},
     "output_type": "execute_result"
    }
   ],
   "source": [
    "#236번\n",
    "22"
   ]
  },
  {
   "cell_type": "code",
   "execution_count": null,
   "id": "16e2f07f",
   "metadata": {},
   "outputs": [],
   "source": [
    "#237번\n",
    "22"
   ]
  },
  {
   "cell_type": "code",
   "execution_count": null,
   "id": "59816fd0",
   "metadata": {},
   "outputs": [],
   "source": [
    "#238번\n",
    "140"
   ]
  },
  {
   "cell_type": "code",
   "execution_count": null,
   "id": "0af93e5a",
   "metadata": {},
   "outputs": [],
   "source": [
    "#239번\n",
    "16"
   ]
  },
  {
   "cell_type": "code",
   "execution_count": null,
   "id": "bb1df66c",
   "metadata": {},
   "outputs": [],
   "source": [
    "#240번\n",
    "28"
   ]
  },
  {
   "cell_type": "code",
   "execution_count": null,
   "id": "0319f1bb",
   "metadata": {},
   "outputs": [],
   "source": []
  },
  {
   "cell_type": "markdown",
   "id": "fe518f51",
   "metadata": {},
   "source": [
    "# 파이썬 모듈 241~250"
   ]
  },
  {
   "cell_type": "markdown",
   "id": "e3f996a2",
   "metadata": {},
   "source": [
    "# 파이썬 클래스 251~290"
   ]
  },
  {
   "cell_type": "code",
   "execution_count": null,
   "id": "f51e5123",
   "metadata": {},
   "outputs": [],
   "source": [
    "#251번\n",
    "클래스: 붕어빵틀, 객체: 붕어빵"
   ]
  },
  {
   "cell_type": "code",
   "execution_count": null,
   "id": "90a2254b",
   "metadata": {},
   "outputs": [],
   "source": [
    "#252번\n",
    "class Human:\n",
    "    pass"
   ]
  },
  {
   "cell_type": "code",
   "execution_count": 442,
   "id": "284005db",
   "metadata": {
    "ExecuteTime": {
     "end_time": "2023-12-08T14:06:08.891308Z",
     "start_time": "2023-12-08T14:06:08.884699Z"
    }
   },
   "outputs": [
    {
     "name": "stdout",
     "output_type": "stream",
     "text": [
      "응애응애\n"
     ]
    }
   ],
   "source": [
    "#253번 https://wikidocs.net/7035#google_vignette\n",
    "class Human:\n",
    "    pass\n",
    "areum = Human()"
   ]
  },
  {
   "cell_type": "code",
   "execution_count": 1,
   "id": "2784dbc7",
   "metadata": {
    "ExecuteTime": {
     "end_time": "2023-12-14T11:39:28.861119Z",
     "start_time": "2023-12-14T11:39:28.843116Z"
    }
   },
   "outputs": [
    {
     "name": "stdout",
     "output_type": "stream",
     "text": [
      "응애응애\n"
     ]
    }
   ],
   "source": [
    "#254번\n",
    "\n",
    "class Human:\n",
    "    def __init__(self):\n",
    "        print('응애응애')\n",
    "\n",
    "areum = Human()"
   ]
  },
  {
   "cell_type": "code",
   "execution_count": 5,
   "id": "b39ef5a7",
   "metadata": {
    "ExecuteTime": {
     "end_time": "2023-12-14T11:54:58.415961Z",
     "start_time": "2023-12-14T11:54:58.407766Z"
    }
   },
   "outputs": [
    {
     "name": "stdout",
     "output_type": "stream",
     "text": [
      "아름\n"
     ]
    }
   ],
   "source": [
    "#255번\n",
    "\n",
    "class Human:\n",
    "    def __init__(self, 이름, 나이, 성별):\n",
    "        self.이름 = 이름\n",
    "        self.나이 = 나이\n",
    "        self.성별 = 성별\n",
    "\n",
    "areum = Human('아름', 25, '여자')\n",
    "print(areum.이름)"
   ]
  },
  {
   "cell_type": "code",
   "execution_count": 2,
   "id": "78f45ffc",
   "metadata": {
    "ExecuteTime": {
     "end_time": "2023-12-15T08:39:51.273140Z",
     "start_time": "2023-12-15T08:39:51.262730Z"
    }
   },
   "outputs": [
    {
     "name": "stdout",
     "output_type": "stream",
     "text": [
      "25\n"
     ]
    }
   ],
   "source": [
    "#256번\n",
    "\n",
    "class Human:\n",
    "    def __init__(self, 이름, 나이, 성별):\n",
    "        self.이름 = 이름\n",
    "        self.나이 = 나이\n",
    "        self.성별 = 성별\n",
    "\n",
    "areum = Human('조아름', 25, '여자')\n",
    "print(areum.나이)"
   ]
  },
  {
   "cell_type": "code",
   "execution_count": 11,
   "id": "9272bf57",
   "metadata": {
    "ExecuteTime": {
     "end_time": "2023-12-16T12:23:00.341185Z",
     "start_time": "2023-12-16T12:23:00.305154Z"
    }
   },
   "outputs": [
    {
     "name": "stdout",
     "output_type": "stream",
     "text": [
      "이름: 조아름, 나이: 25, 성별: 여자\n"
     ]
    }
   ],
   "source": [
    "#257번\n",
    "class Human:\n",
    "    def __init__(self, 이름, 나이, 성별):\n",
    "        self.이름 = 이름\n",
    "        self.나이 = 나이\n",
    "        self.성별 = 성별\n",
    "    def who(self):\n",
    "        print('이름: {}, 나이: {}, 성별: {}'.format(self.이름, self.나이, self.성별))\n",
    "\n",
    "areum = Human('조아름', 25, '여자')\n",
    "areum.who()"
   ]
  },
  {
   "cell_type": "code",
   "execution_count": 14,
   "id": "eb1e6217",
   "metadata": {
    "ExecuteTime": {
     "end_time": "2023-12-16T12:36:19.683670Z",
     "start_time": "2023-12-16T12:36:19.666918Z"
    }
   },
   "outputs": [],
   "source": [
    "#258번\n",
    "class Human:\n",
    "    def __init__(self, name, age, sex):\n",
    "        self.name = name\n",
    "        self.age = age\n",
    "        self.sex = sex\n",
    "    def who(self):\n",
    "        print('이름: {}, 나이: {}, 성별:{}'.format(self.name, self.age, self.sex))\n",
    "    def setInfo(self, name, age, sex):\n",
    "        self.name = name\n",
    "        self.age = age\n",
    "        self.sex = sex\n",
    "\n",
    "areum = Human(\"모름\", 0, \"모름\")\n",
    "areum.setInfo(\"아름\", 25, \"여자\")"
   ]
  },
  {
   "cell_type": "code",
   "execution_count": 17,
   "id": "2fd3245a",
   "metadata": {
    "ExecuteTime": {
     "end_time": "2023-12-16T13:11:28.792425Z",
     "start_time": "2023-12-16T13:11:28.771701Z"
    }
   },
   "outputs": [
    {
     "name": "stdout",
     "output_type": "stream",
     "text": [
      "나의 죽음을 알리지 말라\n"
     ]
    }
   ],
   "source": [
    "#259번\n",
    "class Human:\n",
    "    def __init__(self, name, age, sex):\n",
    "        self.name = name\n",
    "        self.age = age\n",
    "        self.sex = sex\n",
    "    def __del__(slef):\n",
    "        print('나의 죽음을 알리지 말라')\n",
    "    def who(self):\n",
    "        print('이름: {}, 나이: {}, 성별:{}'.format(self.name, self.age, self.sex))\n",
    "    def setInfo(self, name, age, sex):\n",
    "        self.name = name\n",
    "        self.age = age\n",
    "        self.sex = sex\n",
    "\n",
    "areum = Human(\"아름\", 25, \"여자\")\n",
    "del areum"
   ]
  },
  {
   "cell_type": "code",
   "execution_count": 16,
   "id": "9f360c5a",
   "metadata": {
    "ExecuteTime": {
     "end_time": "2023-12-16T12:44:50.334581Z",
     "start_time": "2023-12-16T12:44:50.262222Z"
    }
   },
   "outputs": [
    {
     "ename": "TypeError",
     "evalue": "OMG.print() takes 0 positional arguments but 1 was given",
     "output_type": "error",
     "traceback": [
      "\u001b[1;31m---------------------------------------------------------------------------\u001b[0m",
      "\u001b[1;31mTypeError\u001b[0m                                 Traceback (most recent call last)",
      "Cell \u001b[1;32mIn[16], line 7\u001b[0m\n\u001b[0;32m      4\u001b[0m         \u001b[38;5;28mprint\u001b[39m(\u001b[38;5;124m\"\u001b[39m\u001b[38;5;124mOh my god\u001b[39m\u001b[38;5;124m\"\u001b[39m)\n\u001b[0;32m      6\u001b[0m myStock \u001b[38;5;241m=\u001b[39m OMG()\n\u001b[1;32m----> 7\u001b[0m myStock\u001b[38;5;241m.\u001b[39mprint()\n",
      "\u001b[1;31mTypeError\u001b[0m: OMG.print() takes 0 positional arguments but 1 was given"
     ]
    }
   ],
   "source": [
    "#260번\n",
    "class OMG : \n",
    "    def print() :\n",
    "        print(\"Oh my god\")\n",
    "    \n",
    "myStock = OMG()\n",
    "myStock.print()"
   ]
  },
  {
   "cell_type": "code",
   "execution_count": 18,
   "id": "124ac7f2",
   "metadata": {
    "ExecuteTime": {
     "end_time": "2023-12-16T13:12:55.397676Z",
     "start_time": "2023-12-16T13:12:55.390492Z"
    }
   },
   "outputs": [],
   "source": [
    "#261번\n",
    "class Stock:\n",
    "    pass"
   ]
  },
  {
   "cell_type": "code",
   "execution_count": 26,
   "id": "e1807aa5",
   "metadata": {
    "ExecuteTime": {
     "end_time": "2023-12-16T13:18:57.042140Z",
     "start_time": "2023-12-16T13:18:57.034847Z"
    }
   },
   "outputs": [],
   "source": [
    "#262번\n",
    "class Stock:\n",
    "    def __init__(self, 종목, 종목코드):\n",
    "        self.종목 = 종목\n",
    "        self.종목코드 = 종목코드\n",
    "    def set_name(self, 종목):\n",
    "        self.종목 = 종목\n",
    "\n",
    "a = Stock(None, None)\n",
    "a.set_name(\"삼성전자\")"
   ]
  },
  {
   "cell_type": "code",
   "execution_count": null,
   "id": "78c02ed9",
   "metadata": {},
   "outputs": [],
   "source": [
    "위부터풀기"
   ]
  }
 ],
 "metadata": {
  "kernelspec": {
   "display_name": "Python 3 (ipykernel)",
   "language": "python",
   "name": "python3"
  },
  "language_info": {
   "codemirror_mode": {
    "name": "ipython",
    "version": 3
   },
   "file_extension": ".py",
   "mimetype": "text/x-python",
   "name": "python",
   "nbconvert_exporter": "python",
   "pygments_lexer": "ipython3",
   "version": "3.11.5"
  },
  "toc": {
   "base_numbering": 1,
   "nav_menu": {},
   "number_sections": true,
   "sideBar": true,
   "skip_h1_title": false,
   "title_cell": "Table of Contents",
   "title_sidebar": "Contents",
   "toc_cell": false,
   "toc_position": {},
   "toc_section_display": true,
   "toc_window_display": false
  }
 },
 "nbformat": 4,
 "nbformat_minor": 5
}
