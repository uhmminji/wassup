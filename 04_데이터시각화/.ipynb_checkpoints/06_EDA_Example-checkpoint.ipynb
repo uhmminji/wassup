{
 "cells": [
  {
   "cell_type": "markdown",
   "id": "634d4283",
   "metadata": {},
   "source": [
    "### 복붙해두고 읽어만보기"
   ]
  },
  {
   "cell_type": "code",
   "execution_count": 1,
   "id": "c0d6cc07",
   "metadata": {
    "ExecuteTime": {
     "end_time": "2023-12-27T06:39:15.480192Z",
     "start_time": "2023-12-27T06:39:09.497664Z"
    }
   },
   "outputs": [],
   "source": [
    "import pandas as pd\n",
    "import numpy as np\n",
    "import matplotlib.pyplot as plt\n",
    "import seaborn as sns"
   ]
  },
  {
   "cell_type": "code",
   "execution_count": 2,
   "id": "3418293a",
   "metadata": {
    "ExecuteTime": {
     "end_time": "2023-12-27T06:39:27.101204Z",
     "start_time": "2023-12-27T06:39:26.739979Z"
    }
   },
   "outputs": [],
   "source": [
    "# 한글 및 특정 문자 깨짐 문제 해결\n",
    "import koreanize_matplotlib # 시본의 한글 깨짐은 해결못하지만, - 깨짐 해결\n",
    "\n",
    "from matplotlib import font_manager, rc # 폰트 세팅을 위한 모듈 추가\n",
    "font_path = \"C:/Windows/Fonts/malgun.ttf\" # 사용할 폰트명 경로 삽입\n",
    "font = font_manager.FontProperties(fname = font_path).get_name()\n",
    "rc('font', family = font)"
   ]
  },
  {
   "cell_type": "code",
   "execution_count": 3,
   "id": "432466b3",
   "metadata": {
    "ExecuteTime": {
     "end_time": "2023-12-27T06:39:32.381309Z",
     "start_time": "2023-12-27T06:39:32.377186Z"
    }
   },
   "outputs": [],
   "source": [
    "# 주의 메시지 숨기기\n",
    "import warnings\n",
    "warnings.filterwarnings(\"ignore\")"
   ]
  },
  {
   "cell_type": "code",
   "execution_count": 4,
   "id": "8dcca87d",
   "metadata": {
    "ExecuteTime": {
     "end_time": "2023-12-27T06:39:37.975585Z",
     "start_time": "2023-12-27T06:39:37.895881Z"
    }
   },
   "outputs": [
    {
     "data": {
      "text/html": [
       "<div>\n",
       "<style scoped>\n",
       "    .dataframe tbody tr th:only-of-type {\n",
       "        vertical-align: middle;\n",
       "    }\n",
       "\n",
       "    .dataframe tbody tr th {\n",
       "        vertical-align: top;\n",
       "    }\n",
       "\n",
       "    .dataframe thead th {\n",
       "        text-align: right;\n",
       "    }\n",
       "</style>\n",
       "<table border=\"1\" class=\"dataframe\">\n",
       "  <thead>\n",
       "    <tr style=\"text-align: right;\">\n",
       "      <th></th>\n",
       "      <th>기준년월</th>\n",
       "      <th>지역명</th>\n",
       "      <th>지역코드</th>\n",
       "      <th>법정동</th>\n",
       "      <th>아파트</th>\n",
       "      <th>거래금액</th>\n",
       "      <th>년</th>\n",
       "      <th>월</th>\n",
       "      <th>일</th>\n",
       "      <th>건축년도</th>\n",
       "      <th>전용면적</th>\n",
       "      <th>지번</th>\n",
       "      <th>층</th>\n",
       "    </tr>\n",
       "  </thead>\n",
       "  <tbody>\n",
       "    <tr>\n",
       "      <th>0</th>\n",
       "      <td>202306</td>\n",
       "      <td>종로구</td>\n",
       "      <td>11110</td>\n",
       "      <td>사직동</td>\n",
       "      <td>광화문스페이스본(101동~105동)</td>\n",
       "      <td>138000</td>\n",
       "      <td>2023</td>\n",
       "      <td>6</td>\n",
       "      <td>9</td>\n",
       "      <td>2008</td>\n",
       "      <td>95.880</td>\n",
       "      <td>9</td>\n",
       "      <td>9</td>\n",
       "    </tr>\n",
       "    <tr>\n",
       "      <th>1</th>\n",
       "      <td>202306</td>\n",
       "      <td>종로구</td>\n",
       "      <td>11110</td>\n",
       "      <td>사직동</td>\n",
       "      <td>광화문스페이스본(101동~105동)</td>\n",
       "      <td>170000</td>\n",
       "      <td>2023</td>\n",
       "      <td>6</td>\n",
       "      <td>10</td>\n",
       "      <td>2008</td>\n",
       "      <td>146.920</td>\n",
       "      <td>9</td>\n",
       "      <td>8</td>\n",
       "    </tr>\n",
       "    <tr>\n",
       "      <th>2</th>\n",
       "      <td>202306</td>\n",
       "      <td>종로구</td>\n",
       "      <td>11110</td>\n",
       "      <td>사직동</td>\n",
       "      <td>사직아파트</td>\n",
       "      <td>84000</td>\n",
       "      <td>2023</td>\n",
       "      <td>6</td>\n",
       "      <td>12</td>\n",
       "      <td>1970</td>\n",
       "      <td>116.230</td>\n",
       "      <td>1-8</td>\n",
       "      <td>6</td>\n",
       "    </tr>\n",
       "    <tr>\n",
       "      <th>3</th>\n",
       "      <td>202306</td>\n",
       "      <td>종로구</td>\n",
       "      <td>11110</td>\n",
       "      <td>당주동</td>\n",
       "      <td>롯데미도파광화문빌딩</td>\n",
       "      <td>93000</td>\n",
       "      <td>2023</td>\n",
       "      <td>6</td>\n",
       "      <td>20</td>\n",
       "      <td>1981</td>\n",
       "      <td>149.950</td>\n",
       "      <td>145</td>\n",
       "      <td>9</td>\n",
       "    </tr>\n",
       "    <tr>\n",
       "      <th>4</th>\n",
       "      <td>202306</td>\n",
       "      <td>종로구</td>\n",
       "      <td>11110</td>\n",
       "      <td>신문로2가</td>\n",
       "      <td>디팰리스</td>\n",
       "      <td>408000</td>\n",
       "      <td>2023</td>\n",
       "      <td>6</td>\n",
       "      <td>24</td>\n",
       "      <td>2020</td>\n",
       "      <td>148.111</td>\n",
       "      <td>171</td>\n",
       "      <td>10</td>\n",
       "    </tr>\n",
       "  </tbody>\n",
       "</table>\n",
       "</div>"
      ],
      "text/plain": [
       "     기준년월  지역명   지역코드     법정동                  아파트    거래금액     년  월   일  건축년도  \\\n",
       "0  202306  종로구  11110     사직동  광화문스페이스본(101동~105동)  138000  2023  6   9  2008   \n",
       "1  202306  종로구  11110     사직동  광화문스페이스본(101동~105동)  170000  2023  6  10  2008   \n",
       "2  202306  종로구  11110     사직동                사직아파트   84000  2023  6  12  1970   \n",
       "3  202306  종로구  11110     당주동           롯데미도파광화문빌딩   93000  2023  6  20  1981   \n",
       "4  202306  종로구  11110   신문로2가                 디팰리스  408000  2023  6  24  2020   \n",
       "\n",
       "      전용면적   지번   층  \n",
       "0   95.880    9   9  \n",
       "1  146.920    9   8  \n",
       "2  116.230  1-8   6  \n",
       "3  149.950  145   9  \n",
       "4  148.111  171  10  "
      ]
     },
     "execution_count": 4,
     "metadata": {},
     "output_type": "execute_result"
    }
   ],
   "source": [
    "df = pd.read_csv('data/trade_apt_api_2023_address.txt', sep='\\t')\n",
    "df['거래금액'] = df['거래금액'].str.replace(',', '').str.replace(' ', '').astype(int)\n",
    "df.head()"
   ]
  },
  {
   "cell_type": "code",
   "execution_count": null,
   "id": "bb7d805a",
   "metadata": {},
   "outputs": [],
   "source": []
  },
  {
   "cell_type": "code",
   "execution_count": null,
   "id": "4fc8836e",
   "metadata": {},
   "outputs": [],
   "source": []
  },
  {
   "cell_type": "markdown",
   "id": "e121c899",
   "metadata": {},
   "source": [
    "# boxplot"
   ]
  },
  {
   "cell_type": "code",
   "execution_count": 5,
   "id": "7a6bbb33",
   "metadata": {
    "ExecuteTime": {
     "end_time": "2023-12-27T06:44:03.817524Z",
     "start_time": "2023-12-27T06:44:00.144736Z"
    }
   },
   "outputs": [
    {
     "ename": "NameError",
     "evalue": "name 'data1' is not defined",
     "output_type": "error",
     "traceback": [
      "\u001b[1;31m---------------------------------------------------------------------------\u001b[0m",
      "\u001b[1;31mNameError\u001b[0m                                 Traceback (most recent call last)",
      "Cell \u001b[1;32mIn[5], line 1\u001b[0m\n\u001b[1;32m----> 1\u001b[0m plt\u001b[38;5;241m.\u001b[39mboxplot([data1, data2, data3, data4])\n\u001b[0;32m      2\u001b[0m plt\u001b[38;5;241m.\u001b[39mxticks(np\u001b[38;5;241m.\u001b[39marange(\u001b[38;5;241m1\u001b[39m, \u001b[38;5;241m5\u001b[39m), labels\u001b[38;5;241m=\u001b[39m[\u001b[38;5;124m'\u001b[39m\u001b[38;5;124m거래금액\u001b[39m\u001b[38;5;124m'\u001b[39m, \u001b[38;5;124m'\u001b[39m\u001b[38;5;124m층\u001b[39m\u001b[38;5;124m'\u001b[39m, \u001b[38;5;124m'\u001b[39m\u001b[38;5;124m전용면적\u001b[39m\u001b[38;5;124m'\u001b[39m, \u001b[38;5;124m'\u001b[39m\u001b[38;5;124m건축년도\u001b[39m\u001b[38;5;124m'\u001b[39m])\n\u001b[0;32m      4\u001b[0m plt\u001b[38;5;241m.\u001b[39mshow()\n",
      "\u001b[1;31mNameError\u001b[0m: name 'data1' is not defined"
     ]
    }
   ],
   "source": [
    "plt.boxplot([data1, data2, data3, data4])\n",
    "plt.xticks(np.arange(1, 5), labels=['거래금액', '층', '전용면적', '건축년도'])\n",
    "\n",
    "plt.show()"
   ]
  },
  {
   "cell_type": "code",
   "execution_count": null,
   "id": "331b20b0",
   "metadata": {},
   "outputs": [],
   "source": [
    "fig, axs = plt.subplots(2, 2, figsize=(10, 5))\n",
    "\n",
    "axs[0,0].boxplot(data1.values)\n",
    "axs[0,0].set_title('거래금액')\n",
    "\n",
    "axs[0,1].boxplot(data2.values)\n",
    "axs[0,1].set_title('층')\n",
    "\n",
    "axs[1,0].boxplot(data3.values)\n",
    "axs[1,0].set_title('전용면적')\n",
    "\n",
    "axs[1,1].boxplot(data4.values)\n",
    "axs[1,1].set_title('건축년도')\n",
    "\n",
    "fig.subplots_adjust(hspace=0.5)\n",
    "plt.show()"
   ]
  },
  {
   "cell_type": "code",
   "execution_count": null,
   "id": "4fc2f020",
   "metadata": {},
   "outputs": [],
   "source": []
  },
  {
   "cell_type": "code",
   "execution_count": null,
   "id": "eded85fb",
   "metadata": {},
   "outputs": [],
   "source": []
  },
  {
   "cell_type": "code",
   "execution_count": null,
   "id": "58ddc4cc",
   "metadata": {},
   "outputs": [],
   "source": []
  },
  {
   "cell_type": "code",
   "execution_count": null,
   "id": "2e47dc9c",
   "metadata": {},
   "outputs": [],
   "source": []
  }
 ],
 "metadata": {
  "kernelspec": {
   "display_name": "Python 3 (ipykernel)",
   "language": "python",
   "name": "python3"
  },
  "language_info": {
   "codemirror_mode": {
    "name": "ipython",
    "version": 3
   },
   "file_extension": ".py",
   "mimetype": "text/x-python",
   "name": "python",
   "nbconvert_exporter": "python",
   "pygments_lexer": "ipython3",
   "version": "3.11.5"
  },
  "toc": {
   "base_numbering": 1,
   "nav_menu": {},
   "number_sections": true,
   "sideBar": true,
   "skip_h1_title": false,
   "title_cell": "Table of Contents",
   "title_sidebar": "Contents",
   "toc_cell": false,
   "toc_position": {},
   "toc_section_display": true,
   "toc_window_display": false
  }
 },
 "nbformat": 4,
 "nbformat_minor": 5
}
