{
 "cells": [
  {
   "cell_type": "markdown",
   "id": "8044f1ea",
   "metadata": {},
   "source": [
    "# Parser\n",
    "## 뷰티플수프 설치하기"
   ]
  },
  {
   "cell_type": "code",
   "execution_count": 5,
   "id": "5461c48f",
   "metadata": {
    "ExecuteTime": {
     "end_time": "2023-12-11T13:50:54.180673Z",
     "start_time": "2023-12-11T13:50:53.939973Z"
    }
   },
   "outputs": [],
   "source": [
    "from bs4 import BeautifulSoup\n",
    "import lxml"
   ]
  },
  {
   "cell_type": "code",
   "execution_count": 7,
   "id": "7d883ca5",
   "metadata": {
    "ExecuteTime": {
     "end_time": "2023-12-11T13:51:02.655517Z",
     "start_time": "2023-12-11T13:51:02.646023Z"
    }
   },
   "outputs": [],
   "source": [
    "BeautifulSoup?"
   ]
  },
  {
   "cell_type": "markdown",
   "id": "d332ca4b",
   "metadata": {},
   "source": [
    "## lxml VS html.paser 비교해보기"
   ]
  },
  {
   "cell_type": "code",
   "execution_count": 8,
   "id": "eebca047",
   "metadata": {
    "ExecuteTime": {
     "end_time": "2023-12-11T13:51:06.186208Z",
     "start_time": "2023-12-11T13:51:06.180197Z"
    }
   },
   "outputs": [],
   "source": [
    "# 열기는 있지만 닫기 코드가 없는 경우가 많음. 파서는 닫는 코드를 만들어줌.\n",
    "\n",
    "html = '''\n",
    "<div id=prices >\n",
    "    <table >\n",
    "        <tr class=bb>\n",
    "            <th class=\"bb lm lft\">Date\n",
    "            <th class=\"rgt bb\">Open\n",
    "            <th class=\"rgt bb\">High\n",
    "            <th class=\"rgt bb\">Low\n",
    "            <th class=\"rgt bb\">Close\n",
    "            <th class=\"rgt bb rm\">Volume\n",
    "        <tr>\n",
    "            <td class=\"lm\">Feb 28, 2014\n",
    "            <td class=\"rgt\">100.71\n",
    "            <td class=\"rgt\">100.71\n",
    "            <td class=\"rgt\">100.71\n",
    "            <td class=\"rgt\">100.71\n",
    "            <td class=\"rgt rm\">0\n",
    "     </table>\n",
    "'''"
   ]
  },
  {
   "cell_type": "markdown",
   "id": "47689ba3",
   "metadata": {},
   "source": [
    "### lxml"
   ]
  },
  {
   "cell_type": "code",
   "execution_count": 9,
   "id": "8f0303fc",
   "metadata": {
    "ExecuteTime": {
     "end_time": "2023-12-11T13:51:08.270289Z",
     "start_time": "2023-12-11T13:51:08.251951Z"
    }
   },
   "outputs": [
    {
     "data": {
      "text/plain": [
       "<html><body><div id=\"prices\">\n",
       "<table>\n",
       "<tr class=\"bb\">\n",
       "<th class=\"bb lm lft\">Date\n",
       "            </th><th class=\"rgt bb\">Open\n",
       "            </th><th class=\"rgt bb\">High\n",
       "            </th><th class=\"rgt bb\">Low\n",
       "            </th><th class=\"rgt bb\">Close\n",
       "            </th><th class=\"rgt bb rm\">Volume\n",
       "        </th></tr><tr>\n",
       "<td class=\"lm\">Feb 28, 2014\n",
       "            </td><td class=\"rgt\">100.71\n",
       "            </td><td class=\"rgt\">100.71\n",
       "            </td><td class=\"rgt\">100.71\n",
       "            </td><td class=\"rgt\">100.71\n",
       "            </td><td class=\"rgt rm\">0\n",
       "     </td></tr></table>\n",
       "</div></body></html>"
      ]
     },
     "execution_count": 9,
     "metadata": {},
     "output_type": "execute_result"
    }
   ],
   "source": [
    "BeautifulSoup(html, 'lxml') \n",
    "#bs4 라이브러리에서 BeautifulSoup 모듈을 끌어와서 쓰겠다. 해석기는 lxml을 쓸게"
   ]
  },
  {
   "cell_type": "markdown",
   "id": "6f2a65cd",
   "metadata": {},
   "source": [
    "### html.parser"
   ]
  },
  {
   "cell_type": "code",
   "execution_count": 10,
   "id": "f941a20c",
   "metadata": {
    "ExecuteTime": {
     "end_time": "2023-12-11T13:51:10.978375Z",
     "start_time": "2023-12-11T13:51:10.970001Z"
    }
   },
   "outputs": [
    {
     "data": {
      "text/plain": [
       "\n",
       "<div id=\"prices\">\n",
       "<table>\n",
       "<tr class=\"bb\">\n",
       "<th class=\"bb lm lft\">Date\n",
       "            <th class=\"rgt bb\">Open\n",
       "            <th class=\"rgt bb\">High\n",
       "            <th class=\"rgt bb\">Low\n",
       "            <th class=\"rgt bb\">Close\n",
       "            <th class=\"rgt bb rm\">Volume\n",
       "        <tr>\n",
       "<td class=\"lm\">Feb 28, 2014\n",
       "            <td class=\"rgt\">100.71\n",
       "            <td class=\"rgt\">100.71\n",
       "            <td class=\"rgt\">100.71\n",
       "            <td class=\"rgt\">100.71\n",
       "            <td class=\"rgt rm\">0\n",
       "     </td></td></td></td></td></td></tr></th></th></th></th></th></th></tr></table>\n",
       "</div>"
      ]
     },
     "execution_count": 10,
     "metadata": {},
     "output_type": "execute_result"
    }
   ],
   "source": [
    "BeautifulSoup(html, 'html.parser')"
   ]
  },
  {
   "cell_type": "markdown",
   "id": "f90f5326",
   "metadata": {},
   "source": [
    "# BS4 객체의 속성과 메서드"
   ]
  },
  {
   "cell_type": "code",
   "execution_count": 12,
   "id": "11353743",
   "metadata": {
    "ExecuteTime": {
     "end_time": "2023-12-11T13:51:20.205816Z",
     "start_time": "2023-12-11T13:51:20.200544Z"
    }
   },
   "outputs": [],
   "source": [
    "#html_file(파일객체), market.html을 열기\n",
    "\n",
    "html_file = open('sample/market.html', encoding='utf-8') \n",
    "html_src = html_file.read()\n",
    "html_file.close()"
   ]
  },
  {
   "cell_type": "code",
   "execution_count": 13,
   "id": "88e8bd38",
   "metadata": {
    "ExecuteTime": {
     "end_time": "2023-12-11T13:51:22.184084Z",
     "start_time": "2023-12-11T13:51:22.177819Z"
    }
   },
   "outputs": [
    {
     "data": {
      "text/plain": [
       "'<html>\\n    <body>\\n        <h1> 과일 목록 </h1>\\n        <div>\\n                <p id=\\'banana\\' class=\\'fruit\\' title=\\'바나나\\'>\\n                      <span class = \\'price\\'> 3000원 </span>\\n                      <span class = \\'count\\'> 10개 </span>\\n                      <span class = \\'store\\'> 바나나가게 </span>\\n                      <a href = \\'https://www.banana.com\\'> banana.com </a>\\n                </p>\\n                <p id=\\'cherry\\' class=\\'fruit\\' title=\\'체리\\'>\\n                    <span class = \\'price\\'> 100원 </span>\\n                    <span class = \\'count\\'> 50개 </span>\\n                    <span class = \\'store\\'> 체리가게</span>\\n                    <a href = \\'https://www.cherry.com\\'> cherry.com </a>\\n                </p>\\n                <p id=\\'orange\\' class=\\'fruit best\\' title=\\'오렌지\\'>\\n                    <span class = \\'price\\'> 500원 </span>\\n                    <span class = \\'count\\'> 20개 </span>\\n                    <span class = \\'store\\'> 오렌지가게</span>\\n                    <a href = \\'https://www.orange.com\\'> orange.com </a>\\n                    <span>\\n                        <a href=\"https://www.orange.blog/\">오렌지 효능</a>\\n                    </span>\\n                </p>\\n        </div>\\n    </body> \\n</html>'"
      ]
     },
     "execution_count": 13,
     "metadata": {},
     "output_type": "execute_result"
    }
   ],
   "source": [
    "# 파일을 읽어서 출력\n",
    "html_src"
   ]
  },
  {
   "cell_type": "code",
   "execution_count": 14,
   "id": "5a30d37c",
   "metadata": {
    "ExecuteTime": {
     "end_time": "2023-12-11T13:51:23.945144Z",
     "start_time": "2023-12-11T13:51:23.939277Z"
    }
   },
   "outputs": [
    {
     "name": "stdout",
     "output_type": "stream",
     "text": [
      "<html>\n",
      "    <body>\n",
      "        <h1> 과일 목록 </h1>\n",
      "        <div>\n",
      "                <p id='banana' class='fruit' title='바나나'>\n",
      "                      <span class = 'price'> 3000원 </span>\n",
      "                      <span class = 'count'> 10개 </span>\n",
      "                      <span class = 'store'> 바나나가게 </span>\n",
      "                      <a href = 'https://www.banana.com'> banana.com </a>\n",
      "                </p>\n",
      "                <p id='cherry' class='fruit' title='체리'>\n",
      "                    <span class = 'price'> 100원 </span>\n",
      "                    <span class = 'count'> 50개 </span>\n",
      "                    <span class = 'store'> 체리가게</span>\n",
      "                    <a href = 'https://www.cherry.com'> cherry.com </a>\n",
      "                </p>\n",
      "                <p id='orange' class='fruit best' title='오렌지'>\n",
      "                    <span class = 'price'> 500원 </span>\n",
      "                    <span class = 'count'> 20개 </span>\n",
      "                    <span class = 'store'> 오렌지가게</span>\n",
      "                    <a href = 'https://www.orange.com'> orange.com </a>\n",
      "                    <span>\n",
      "                        <a href=\"https://www.orange.blog/\">오렌지 효능</a>\n",
      "                    </span>\n",
      "                </p>\n",
      "        </div>\n",
      "    </body> \n",
      "</html>\n"
     ]
    }
   ],
   "source": [
    "# print 쓰면 정리해서 보여줌\n",
    "print(html_src)"
   ]
  },
  {
   "cell_type": "markdown",
   "id": "7d904b9e",
   "metadata": {},
   "source": [
    "# DOM구조로 변환(구문 분석)"
   ]
  },
  {
   "cell_type": "code",
   "execution_count": 15,
   "id": "e609079e",
   "metadata": {
    "ExecuteTime": {
     "end_time": "2023-12-11T13:51:26.438615Z",
     "start_time": "2023-12-11T13:51:26.431428Z"
    }
   },
   "outputs": [],
   "source": [
    "# soup은 객체, soup은 BeautifulSoup의 인스턴스\n",
    "\n",
    "soup = BeautifulSoup(html_src,'lxml')"
   ]
  },
  {
   "cell_type": "code",
   "execution_count": 16,
   "id": "69118608",
   "metadata": {
    "ExecuteTime": {
     "end_time": "2023-12-11T13:51:27.385845Z",
     "start_time": "2023-12-11T13:51:27.380444Z"
    }
   },
   "outputs": [
    {
     "data": {
      "text/plain": [
       "bs4.BeautifulSoup"
      ]
     },
     "execution_count": 16,
     "metadata": {},
     "output_type": "execute_result"
    }
   ],
   "source": [
    "type(soup)"
   ]
  },
  {
   "cell_type": "code",
   "execution_count": 17,
   "id": "97e41b4f",
   "metadata": {
    "ExecuteTime": {
     "end_time": "2023-12-11T13:51:29.627945Z",
     "start_time": "2023-12-11T13:51:29.614219Z"
    }
   },
   "outputs": [
    {
     "data": {
      "text/plain": [
       "<html>\n",
       "<body>\n",
       "<h1> 과일 목록 </h1>\n",
       "<div>\n",
       "<p class=\"fruit\" id=\"banana\" title=\"바나나\">\n",
       "<span class=\"price\"> 3000원 </span>\n",
       "<span class=\"count\"> 10개 </span>\n",
       "<span class=\"store\"> 바나나가게 </span>\n",
       "<a href=\"https://www.banana.com\"> banana.com </a>\n",
       "</p>\n",
       "<p class=\"fruit\" id=\"cherry\" title=\"체리\">\n",
       "<span class=\"price\"> 100원 </span>\n",
       "<span class=\"count\"> 50개 </span>\n",
       "<span class=\"store\"> 체리가게</span>\n",
       "<a href=\"https://www.cherry.com\"> cherry.com </a>\n",
       "</p>\n",
       "<p class=\"fruit best\" id=\"orange\" title=\"오렌지\">\n",
       "<span class=\"price\"> 500원 </span>\n",
       "<span class=\"count\"> 20개 </span>\n",
       "<span class=\"store\"> 오렌지가게</span>\n",
       "<a href=\"https://www.orange.com\"> orange.com </a>\n",
       "<span>\n",
       "<a href=\"https://www.orange.blog/\">오렌지 효능</a>\n",
       "</span>\n",
       "</p>\n",
       "</div>\n",
       "</body>\n",
       "</html>"
      ]
     },
     "execution_count": 17,
     "metadata": {},
     "output_type": "execute_result"
    }
   ],
   "source": [
    "#lxml 써서 정리해줌\n",
    "soup"
   ]
  },
  {
   "cell_type": "markdown",
   "id": "4e903613",
   "metadata": {},
   "source": [
    "# 메서드를 사용한 요소 탐색\n",
    "## find\n",
    "- soup.find/find_all(태그, id=orange, class_= ‘fruit)   \n",
    "class는 예약어이기 때문에 class_으로 매개변수명을 구분함\n",
    "- soup.find(name = \"요소명\") : 첫번째 요소 찾기\n",
    "- soup.find(attrs = {\"속성\":\"값\"})\n",
    "- soup.find(속성 = \"값\") # 키워드 가변 인수\n",
    "- soup.find(string = \"텍스트\")\n",
    "- soup.find(recursive = \"True\") # 기본값, 후손 요소 전체에서 검색\n",
    "- soup.find(reculsive = \"False\") # 직계 자식 내에서만 검색\n",
    "- soup.find_all() : 모든 요소 찾기\n",
    "- name, attrs, string, **kwargs, recursive, limit(final_all에서만 가능, limit=2는 2개만 찾기)\n",
    "\n",
    "------\n",
    "- soup.find('p'): 처음 발견된 하나만 찾아줌\n",
    "- soup.find('p', id=\"orange\"): p요소의 orange를 찾아줘\n",
    "--------\n",
    "- soup.find_all('p'): 여러개를 다 찾아서 리스트로 반환해줌\n",
    "- soup.find_all(class_='fruit'): fruit 클래스는 다 찾아줘\n"
   ]
  },
  {
   "cell_type": "code",
   "execution_count": 19,
   "id": "225ea617",
   "metadata": {
    "ExecuteTime": {
     "end_time": "2023-12-07T05:19:13.958033Z",
     "start_time": "2023-12-07T05:19:13.944849Z"
    }
   },
   "outputs": [],
   "source": [
    "soup.find?"
   ]
  },
  {
   "cell_type": "code",
   "execution_count": null,
   "id": "5e0b6ce5",
   "metadata": {},
   "outputs": [],
   "source": [
    "soup. # 탭"
   ]
  },
  {
   "cell_type": "code",
   "execution_count": 20,
   "id": "6cf7fbd4",
   "metadata": {
    "ExecuteTime": {
     "end_time": "2023-12-07T05:20:11.857681Z",
     "start_time": "2023-12-07T05:20:11.848233Z"
    }
   },
   "outputs": [
    {
     "data": {
      "text/plain": [
       "<p class=\"fruit\" id=\"banana\" title=\"바나나\">\n",
       "<span class=\"price\"> 3000원 </span>\n",
       "<span class=\"count\"> 10개 </span>\n",
       "<span class=\"store\"> 바나나가게 </span>\n",
       "<a href=\"https://www.banana.com\"> banana.com </a>\n",
       "</p>"
      ]
     },
     "execution_count": 20,
     "metadata": {},
     "output_type": "execute_result"
    }
   ],
   "source": [
    "soup.find('p')\n",
    "#처음 발견된 하나만 찾아줌"
   ]
  },
  {
   "cell_type": "code",
   "execution_count": 21,
   "id": "d35fc7af",
   "metadata": {
    "ExecuteTime": {
     "end_time": "2023-12-07T05:20:36.241017Z",
     "start_time": "2023-12-07T05:20:36.234843Z"
    }
   },
   "outputs": [
    {
     "data": {
      "text/plain": [
       "bs4.element.Tag"
      ]
     },
     "execution_count": 21,
     "metadata": {},
     "output_type": "execute_result"
    }
   ],
   "source": [
    "type(soup.find('p'))"
   ]
  },
  {
   "cell_type": "code",
   "execution_count": 22,
   "id": "e633def1",
   "metadata": {
    "ExecuteTime": {
     "end_time": "2023-12-07T05:20:42.926832Z",
     "start_time": "2023-12-07T05:20:42.916171Z"
    }
   },
   "outputs": [
    {
     "data": {
      "text/plain": [
       "[<p class=\"fruit\" id=\"banana\" title=\"바나나\">\n",
       " <span class=\"price\"> 3000원 </span>\n",
       " <span class=\"count\"> 10개 </span>\n",
       " <span class=\"store\"> 바나나가게 </span>\n",
       " <a href=\"https://www.banana.com\"> banana.com </a>\n",
       " </p>,\n",
       " <p class=\"fruit\" id=\"cherry\" title=\"체리\">\n",
       " <span class=\"price\"> 100원 </span>\n",
       " <span class=\"count\"> 50개 </span>\n",
       " <span class=\"store\"> 체리가게</span>\n",
       " <a href=\"https://www.cherry.com\"> cherry.com </a>\n",
       " </p>,\n",
       " <p class=\"fruit best\" id=\"orange\" title=\"오렌지\">\n",
       " <span class=\"price\"> 500원 </span>\n",
       " <span class=\"count\"> 20개 </span>\n",
       " <span class=\"store\"> 오렌지가게</span>\n",
       " <a href=\"https://www.orange.com\"> orange.com </a>\n",
       " <span>\n",
       " <a href=\"https://www.orange.blog/\">오렌지 효능</a>\n",
       " </span>\n",
       " </p>]"
      ]
     },
     "execution_count": 22,
     "metadata": {},
     "output_type": "execute_result"
    }
   ],
   "source": [
    "soup.find_all('p')\n",
    "#여러개를 다 찾아서 리스트로 반환해줌\n",
    "#class, id를 지정해주는 이유? 스타일 때문"
   ]
  },
  {
   "cell_type": "code",
   "execution_count": 23,
   "id": "4d328a13",
   "metadata": {
    "ExecuteTime": {
     "end_time": "2023-12-07T05:22:08.598440Z",
     "start_time": "2023-12-07T05:22:08.588230Z"
    }
   },
   "outputs": [
    {
     "data": {
      "text/plain": [
       "<p class=\"fruit best\" id=\"orange\" title=\"오렌지\">\n",
       "<span class=\"price\"> 500원 </span>\n",
       "<span class=\"count\"> 20개 </span>\n",
       "<span class=\"store\"> 오렌지가게</span>\n",
       "<a href=\"https://www.orange.com\"> orange.com </a>\n",
       "<span>\n",
       "<a href=\"https://www.orange.blog/\">오렌지 효능</a>\n",
       "</span>\n",
       "</p>"
      ]
     },
     "execution_count": 23,
     "metadata": {},
     "output_type": "execute_result"
    }
   ],
   "source": [
    "soup.find('p', id=\"orange\")\n",
    "#p요소의 orange를 찾아줘"
   ]
  },
  {
   "cell_type": "code",
   "execution_count": 24,
   "id": "30623d1e",
   "metadata": {
    "ExecuteTime": {
     "end_time": "2023-12-07T05:24:25.713998Z",
     "start_time": "2023-12-07T05:24:25.705385Z"
    }
   },
   "outputs": [
    {
     "data": {
      "text/plain": [
       "[<p class=\"fruit\" id=\"banana\" title=\"바나나\">\n",
       " <span class=\"price\"> 3000원 </span>\n",
       " <span class=\"count\"> 10개 </span>\n",
       " <span class=\"store\"> 바나나가게 </span>\n",
       " <a href=\"https://www.banana.com\"> banana.com </a>\n",
       " </p>,\n",
       " <p class=\"fruit\" id=\"cherry\" title=\"체리\">\n",
       " <span class=\"price\"> 100원 </span>\n",
       " <span class=\"count\"> 50개 </span>\n",
       " <span class=\"store\"> 체리가게</span>\n",
       " <a href=\"https://www.cherry.com\"> cherry.com </a>\n",
       " </p>,\n",
       " <p class=\"fruit best\" id=\"orange\" title=\"오렌지\">\n",
       " <span class=\"price\"> 500원 </span>\n",
       " <span class=\"count\"> 20개 </span>\n",
       " <span class=\"store\"> 오렌지가게</span>\n",
       " <a href=\"https://www.orange.com\"> orange.com </a>\n",
       " <span>\n",
       " <a href=\"https://www.orange.blog/\">오렌지 효능</a>\n",
       " </span>\n",
       " </p>]"
      ]
     },
     "execution_count": 24,
     "metadata": {},
     "output_type": "execute_result"
    }
   ],
   "source": [
    "soup.find_all(class_='fruit')\n",
    "#fruit 클래스는 다 찾아줘\n",
    "#class : 예약어 -> 인자는 _로 구분해줘야함"
   ]
  },
  {
   "cell_type": "markdown",
   "id": "c581f07c",
   "metadata": {},
   "source": [
    "## select\n",
    "- soup.select/select_one(태그, '#orange', '.fruit')\n",
    "- find와 select의 차이: select는 css선택자 사용, 관계 연결 가능\n",
    "- 하나만 찾아줌: find / select-one\n",
    "- 전부 찾아줌: find all / select\n",
    "---------\n",
    "- soup.select_one('p')\n",
    "-------\n",
    "- soup.select('p')\n",
    "- soup.select('#orange'): id\n",
    "- soup.select('.price'): 클래스\n",
    "- soup.select('p#orange'): AND관계. p요소의 id=orange를 조회\n",
    "- soup.select('a, .store'): OR 관계. a 태그 또는 store 클래스에 해당하는 요소를 조회\n",
    "- soup.select('.fruit.best'): AND. 클래스가 fruit이면서 best\n",
    "-------\n",
    "- soup.select('.fruit.best>a'): fruit best 클래스의 자식 a\n",
    "- soup.select('.fruit.best a'): 자식, 자손 모두"
   ]
  },
  {
   "cell_type": "code",
   "execution_count": 25,
   "id": "c9523f52",
   "metadata": {
    "ExecuteTime": {
     "end_time": "2023-12-07T05:27:14.041808Z",
     "start_time": "2023-12-07T05:27:14.032973Z"
    }
   },
   "outputs": [],
   "source": [
    "soup.select?"
   ]
  },
  {
   "cell_type": "code",
   "execution_count": 26,
   "id": "07ff194b",
   "metadata": {
    "ExecuteTime": {
     "end_time": "2023-12-07T05:28:57.839513Z",
     "start_time": "2023-12-07T05:28:57.829889Z"
    }
   },
   "outputs": [
    {
     "data": {
      "text/plain": [
       "[<p class=\"fruit\" id=\"banana\" title=\"바나나\">\n",
       " <span class=\"price\"> 3000원 </span>\n",
       " <span class=\"count\"> 10개 </span>\n",
       " <span class=\"store\"> 바나나가게 </span>\n",
       " <a href=\"https://www.banana.com\"> banana.com </a>\n",
       " </p>,\n",
       " <p class=\"fruit\" id=\"cherry\" title=\"체리\">\n",
       " <span class=\"price\"> 100원 </span>\n",
       " <span class=\"count\"> 50개 </span>\n",
       " <span class=\"store\"> 체리가게</span>\n",
       " <a href=\"https://www.cherry.com\"> cherry.com </a>\n",
       " </p>,\n",
       " <p class=\"fruit best\" id=\"orange\" title=\"오렌지\">\n",
       " <span class=\"price\"> 500원 </span>\n",
       " <span class=\"count\"> 20개 </span>\n",
       " <span class=\"store\"> 오렌지가게</span>\n",
       " <a href=\"https://www.orange.com\"> orange.com </a>\n",
       " <span>\n",
       " <a href=\"https://www.orange.blog/\">오렌지 효능</a>\n",
       " </span>\n",
       " </p>]"
      ]
     },
     "execution_count": 26,
     "metadata": {},
     "output_type": "execute_result"
    }
   ],
   "source": [
    "soup.select('p')"
   ]
  },
  {
   "cell_type": "code",
   "execution_count": 27,
   "id": "ba4c63b6",
   "metadata": {
    "ExecuteTime": {
     "end_time": "2023-12-07T05:29:00.931364Z",
     "start_time": "2023-12-07T05:29:00.922339Z"
    }
   },
   "outputs": [
    {
     "data": {
      "text/plain": [
       "<p class=\"fruit\" id=\"banana\" title=\"바나나\">\n",
       "<span class=\"price\"> 3000원 </span>\n",
       "<span class=\"count\"> 10개 </span>\n",
       "<span class=\"store\"> 바나나가게 </span>\n",
       "<a href=\"https://www.banana.com\"> banana.com </a>\n",
       "</p>"
      ]
     },
     "execution_count": 27,
     "metadata": {},
     "output_type": "execute_result"
    }
   ],
   "source": [
    "soup.select_one('p')"
   ]
  },
  {
   "cell_type": "code",
   "execution_count": 28,
   "id": "c6fc76af",
   "metadata": {
    "ExecuteTime": {
     "end_time": "2023-12-07T05:29:05.294467Z",
     "start_time": "2023-12-07T05:29:05.287048Z"
    }
   },
   "outputs": [
    {
     "data": {
      "text/plain": [
       "[<p class=\"fruit best\" id=\"orange\" title=\"오렌지\">\n",
       " <span class=\"price\"> 500원 </span>\n",
       " <span class=\"count\"> 20개 </span>\n",
       " <span class=\"store\"> 오렌지가게</span>\n",
       " <a href=\"https://www.orange.com\"> orange.com </a>\n",
       " <span>\n",
       " <a href=\"https://www.orange.blog/\">오렌지 효능</a>\n",
       " </span>\n",
       " </p>]"
      ]
     },
     "execution_count": 28,
     "metadata": {},
     "output_type": "execute_result"
    }
   ],
   "source": [
    "soup.select('#orange') # id 속성. id는 한 페이지당 하나"
   ]
  },
  {
   "cell_type": "code",
   "execution_count": 29,
   "id": "8a623004",
   "metadata": {
    "ExecuteTime": {
     "end_time": "2023-12-07T05:29:43.958408Z",
     "start_time": "2023-12-07T05:29:43.949825Z"
    }
   },
   "outputs": [
    {
     "data": {
      "text/plain": [
       "<p class=\"fruit best\" id=\"orange\" title=\"오렌지\">\n",
       "<span class=\"price\"> 500원 </span>\n",
       "<span class=\"count\"> 20개 </span>\n",
       "<span class=\"store\"> 오렌지가게</span>\n",
       "<a href=\"https://www.orange.com\"> orange.com </a>\n",
       "<span>\n",
       "<a href=\"https://www.orange.blog/\">오렌지 효능</a>\n",
       "</span>\n",
       "</p>"
      ]
     },
     "execution_count": 29,
     "metadata": {},
     "output_type": "execute_result"
    }
   ],
   "source": [
    "soup.select_one('#orange') # id"
   ]
  },
  {
   "cell_type": "code",
   "execution_count": 30,
   "id": "e4b29df4",
   "metadata": {
    "ExecuteTime": {
     "end_time": "2023-12-07T05:29:51.428745Z",
     "start_time": "2023-12-07T05:29:51.421215Z"
    }
   },
   "outputs": [
    {
     "data": {
      "text/plain": [
       "[<span class=\"price\"> 3000원 </span>,\n",
       " <span class=\"price\"> 100원 </span>,\n",
       " <span class=\"price\"> 500원 </span>]"
      ]
     },
     "execution_count": 30,
     "metadata": {},
     "output_type": "execute_result"
    }
   ],
   "source": [
    "soup.select('.price') # class 속성"
   ]
  },
  {
   "cell_type": "code",
   "execution_count": 31,
   "id": "bf4663a0",
   "metadata": {
    "ExecuteTime": {
     "end_time": "2023-12-07T05:30:30.610821Z",
     "start_time": "2023-12-07T05:30:30.603095Z"
    }
   },
   "outputs": [
    {
     "data": {
      "text/plain": [
       "[<p class=\"fruit best\" id=\"orange\" title=\"오렌지\">\n",
       " <span class=\"price\"> 500원 </span>\n",
       " <span class=\"count\"> 20개 </span>\n",
       " <span class=\"store\"> 오렌지가게</span>\n",
       " <a href=\"https://www.orange.com\"> orange.com </a>\n",
       " <span>\n",
       " <a href=\"https://www.orange.blog/\">오렌지 효능</a>\n",
       " </span>\n",
       " </p>]"
      ]
     },
     "execution_count": 31,
     "metadata": {},
     "output_type": "execute_result"
    }
   ],
   "source": [
    "soup.select('p#orange') \n",
    "#AND관계 : p요소의 orange를 조회"
   ]
  },
  {
   "cell_type": "code",
   "execution_count": 32,
   "id": "c0d32410",
   "metadata": {
    "ExecuteTime": {
     "end_time": "2023-12-07T05:32:08.172713Z",
     "start_time": "2023-12-07T05:32:08.165196Z"
    }
   },
   "outputs": [
    {
     "data": {
      "text/plain": [
       "[<span class=\"store\"> 바나나가게 </span>,\n",
       " <a href=\"https://www.banana.com\"> banana.com </a>,\n",
       " <span class=\"store\"> 체리가게</span>,\n",
       " <a href=\"https://www.cherry.com\"> cherry.com </a>,\n",
       " <span class=\"store\"> 오렌지가게</span>,\n",
       " <a href=\"https://www.orange.com\"> orange.com </a>,\n",
       " <a href=\"https://www.orange.blog/\">오렌지 효능</a>]"
      ]
     },
     "execution_count": 32,
     "metadata": {},
     "output_type": "execute_result"
    }
   ],
   "source": [
    "soup.select('a, .store')  \n",
    "# ,(= OR 관계): a 태그 또는 store클래스에 해당하는 요소를 찾아줘"
   ]
  },
  {
   "cell_type": "code",
   "execution_count": 33,
   "id": "09604507",
   "metadata": {
    "ExecuteTime": {
     "end_time": "2023-12-07T05:33:01.969981Z",
     "start_time": "2023-12-07T05:33:01.962482Z"
    },
    "scrolled": true
   },
   "outputs": [
    {
     "data": {
      "text/plain": [
       "[<p class=\"fruit best\" id=\"orange\" title=\"오렌지\">\n",
       " <span class=\"price\"> 500원 </span>\n",
       " <span class=\"count\"> 20개 </span>\n",
       " <span class=\"store\"> 오렌지가게</span>\n",
       " <a href=\"https://www.orange.com\"> orange.com </a>\n",
       " <span>\n",
       " <a href=\"https://www.orange.blog/\">오렌지 효능</a>\n",
       " </span>\n",
       " </p>]"
      ]
     },
     "execution_count": 33,
     "metadata": {},
     "output_type": "execute_result"
    }
   ],
   "source": [
    "soup.select('.fruit.best') \n",
    "# 클래스값이 2개인 태그: and는 붙이면 된다. fruit이면서 best 클래스"
   ]
  },
  {
   "cell_type": "markdown",
   "id": "a490c256",
   "metadata": {},
   "source": [
    "- 자식, 자손 관계"
   ]
  },
  {
   "attachments": {
    "image.png": {
     "image/png": "[encoded data removed]"
    }
   },
   "cell_type": "markdown",
   "id": "938624d3",
   "metadata": {},
   "source": [
    "![image.png](attachment:image.png)"
   ]
  },
  {
   "cell_type": "code",
   "execution_count": 28,
   "id": "06d624e6",
   "metadata": {
    "ExecuteTime": {
     "end_time": "2023-12-11T13:52:48.843470Z",
     "start_time": "2023-12-11T13:52:48.836719Z"
    }
   },
   "outputs": [
    {
     "data": {
      "text/plain": [
       "[<a href=\"https://www.orange.com\"> orange.com </a>]"
      ]
     },
     "execution_count": 28,
     "metadata": {},
     "output_type": "execute_result"
    }
   ],
   "source": [
    "soup.select('.fruit.best>a')\n",
    "# >는 자식관계를 의미함. 공백 없어야함(주의하기)\n",
    "#fruit클래스에서 a의 자식을 찾아줘"
   ]
  },
  {
   "cell_type": "code",
   "execution_count": 29,
   "id": "8f0ea5fd",
   "metadata": {
    "ExecuteTime": {
     "end_time": "2023-12-11T13:52:49.934851Z",
     "start_time": "2023-12-11T13:52:49.927608Z"
    }
   },
   "outputs": [
    {
     "data": {
      "text/plain": [
       "[<a href=\"https://www.orange.com\"> orange.com </a>,\n",
       " <a href=\"https://www.orange.blog/\">오렌지 효능</a>]"
      ]
     },
     "execution_count": 29,
     "metadata": {},
     "output_type": "execute_result"
    }
   ],
   "source": [
    "soup.select('.fruit.best a')\n",
    "# 공백 자손 관계: 자식, 자손 다 나옴"
   ]
  },
  {
   "cell_type": "code",
   "execution_count": 30,
   "id": "d894b357",
   "metadata": {
    "ExecuteTime": {
     "end_time": "2023-12-11T13:52:51.391214Z",
     "start_time": "2023-12-11T13:52:51.384247Z"
    }
   },
   "outputs": [
    {
     "data": {
      "text/plain": [
       "[<a href=\"https://www.orange.blog/\">오렌지 효능</a>]"
      ]
     },
     "execution_count": 30,
     "metadata": {},
     "output_type": "execute_result"
    }
   ],
   "source": [
    "soup.select('.fruit.best > span > a')"
   ]
  },
  {
   "cell_type": "code",
   "execution_count": 31,
   "id": "1fafc6cf",
   "metadata": {
    "ExecuteTime": {
     "end_time": "2023-12-11T13:52:52.186722Z",
     "start_time": "2023-12-11T13:52:52.178694Z"
    }
   },
   "outputs": [
    {
     "data": {
      "text/plain": [
       "bs4.element.ResultSet"
      ]
     },
     "execution_count": 31,
     "metadata": {},
     "output_type": "execute_result"
    }
   ],
   "source": [
    "#fruit에서 a만 추출\n",
    "\n",
    "mylist = soup.select('.fruit.best a')\n",
    "type(mylist) #string이 아니라 객체(element)가 나옴: 메서드를 또 활용가능하군."
   ]
  },
  {
   "cell_type": "code",
   "execution_count": 32,
   "id": "8ae60001",
   "metadata": {
    "ExecuteTime": {
     "end_time": "2023-12-11T13:52:54.185777Z",
     "start_time": "2023-12-11T13:52:54.178889Z"
    }
   },
   "outputs": [
    {
     "data": {
      "text/plain": [
       "bs4.element.Tag"
      ]
     },
     "execution_count": 32,
     "metadata": {},
     "output_type": "execute_result"
    }
   ],
   "source": [
    "type(mylist[0])"
   ]
  },
  {
   "cell_type": "code",
   "execution_count": 34,
   "id": "ec1fa03f",
   "metadata": {
    "ExecuteTime": {
     "end_time": "2023-12-11T13:53:42.025241Z",
     "start_time": "2023-12-11T13:53:42.019479Z"
    }
   },
   "outputs": [
    {
     "name": "stdout",
     "output_type": "stream",
     "text": [
      " orange.com \n",
      "오렌지 효능\n"
     ]
    }
   ],
   "source": [
    "for tagItem in mylist:\n",
    "    print(tagItem.text) # 리스트 안에있는 텍스트 요소들을 추출"
   ]
  },
  {
   "cell_type": "code",
   "execution_count": 40,
   "id": "6c8163ca",
   "metadata": {
    "ExecuteTime": {
     "end_time": "2023-12-07T05:48:05.895252Z",
     "start_time": "2023-12-07T05:48:05.889593Z"
    }
   },
   "outputs": [
    {
     "name": "stdout",
     "output_type": "stream",
     "text": [
      "<a href=\"https://www.orange.blog/\">오렌지 효능</a>\n"
     ]
    }
   ],
   "source": [
    "print(tagItem)\n",
    "#a href: 속성, htt~: 속성값"
   ]
  },
  {
   "cell_type": "code",
   "execution_count": 41,
   "id": "75769370",
   "metadata": {
    "ExecuteTime": {
     "end_time": "2023-12-07T05:49:13.528328Z",
     "start_time": "2023-12-07T05:49:13.522825Z"
    }
   },
   "outputs": [
    {
     "name": "stdout",
     "output_type": "stream",
     "text": [
      "https://www.orange.com\n",
      "https://www.orange.blog/\n"
     ]
    }
   ],
   "source": [
    "for item in mylist : #bs는 딕셔너리 형태. href는 key\n",
    "    print(item['href']) "
   ]
  },
  {
   "cell_type": "code",
   "execution_count": 36,
   "id": "bd72e952",
   "metadata": {
    "ExecuteTime": {
     "end_time": "2023-12-11T14:14:34.438706Z",
     "start_time": "2023-12-11T14:14:34.430249Z"
    }
   },
   "outputs": [
    {
     "name": "stdout",
     "output_type": "stream",
     "text": [
      "[<p class=\"fruit\" id=\"banana\" title=\"바나나\">\n",
      "<span class=\"price\"> 3000원 </span>\n",
      "<span class=\"count\"> 10개 </span>\n",
      "<span class=\"store\"> 바나나가게 </span>\n",
      "<a href=\"https://www.banana.com\"> banana.com </a>\n",
      "</p>, <p class=\"fruit\" id=\"cherry\" title=\"체리\">\n",
      "<span class=\"price\"> 100원 </span>\n",
      "<span class=\"count\"> 50개 </span>\n",
      "<span class=\"store\"> 체리가게</span>\n",
      "<a href=\"https://www.cherry.com\"> cherry.com </a>\n",
      "</p>, <p class=\"fruit best\" id=\"orange\" title=\"오렌지\">\n",
      "<span class=\"price\"> 500원 </span>\n",
      "<span class=\"count\"> 20개 </span>\n",
      "<span class=\"store\"> 오렌지가게</span>\n",
      "<a href=\"https://www.orange.com\"> orange.com </a>\n",
      "<span>\n",
      "<a href=\"https://www.orange.blog/\">오렌지 효능</a>\n",
      "</span>\n",
      "</p>]\n"
     ]
    }
   ],
   "source": [
    "items = soup.select('.fruit')\n",
    "print(items)\n",
    "#각각이 다 객체다"
   ]
  },
  {
   "cell_type": "code",
   "execution_count": 37,
   "id": "b92acd97",
   "metadata": {
    "ExecuteTime": {
     "end_time": "2023-12-11T14:14:36.264185Z",
     "start_time": "2023-12-11T14:14:36.257187Z"
    }
   },
   "outputs": [
    {
     "name": "stdout",
     "output_type": "stream",
     "text": [
      "바나나  3000원   10개   바나나가게 \n",
      "체리  100원   50개   체리가게\n",
      "오렌지  500원   20개   오렌지가게\n"
     ]
    }
   ],
   "source": [
    "for item in items:\n",
    "    name = item['title']\n",
    "    price = item.find('span', 'price').text\n",
    "    count = item.find('span', 'count').text\n",
    "    store = item.find('span', 'store').text\n",
    "    print(f'{name} {price} {count} {store}')"
   ]
  },
  {
   "attachments": {
    "image.png": {
     "image/png": "[encoded data removed]"
    }
   },
   "cell_type": "markdown",
   "id": "22a6c007",
   "metadata": {},
   "source": [
    "# 요소의 속성 및 텍스트 반환\n",
    "- e.name : 요소의 이름 얻기\n",
    "- e['속성명'] : 요소의 속성 얻기\n",
    "- e.attrs : 요소의 속성 목록(dict)\n",
    "- e.string : 요소의 텍스트\n",
    "- e.strings : 자식과 후손 요소 텍스트 목록(iter)\n",
    "- e.text : 자식과 후손 요소의 텍스트를 문자열로 얻기\n",
    "![image.png](attachment:image.png)"
   ]
  },
  {
   "cell_type": "code",
   "execution_count": 38,
   "id": "a25079f4",
   "metadata": {
    "ExecuteTime": {
     "end_time": "2023-12-11T14:24:41.127120Z",
     "start_time": "2023-12-11T14:24:41.118395Z"
    },
    "scrolled": true
   },
   "outputs": [
    {
     "data": {
      "text/plain": [
       "<p class=\"fruit best\" id=\"orange\" title=\"오렌지\">\n",
       "<span class=\"price\"> 500원 </span>\n",
       "<span class=\"count\"> 20개 </span>\n",
       "<span class=\"store\"> 오렌지가게</span>\n",
       "<a href=\"https://www.orange.com\"> orange.com </a>\n",
       "<span>\n",
       "<a href=\"https://www.orange.blog/\">오렌지 효능</a>\n",
       "</span>\n",
       "</p>"
      ]
     },
     "execution_count": 38,
     "metadata": {},
     "output_type": "execute_result"
    }
   ],
   "source": [
    "soup.find('p', id=\"orange\") # p 요소의 id orange"
   ]
  },
  {
   "cell_type": "code",
   "execution_count": 40,
   "id": "c7c4b31d",
   "metadata": {
    "ExecuteTime": {
     "end_time": "2023-12-11T14:27:29.746469Z",
     "start_time": "2023-12-11T14:27:29.740080Z"
    }
   },
   "outputs": [
    {
     "data": {
      "text/plain": [
       "'p'"
      ]
     },
     "execution_count": 40,
     "metadata": {},
     "output_type": "execute_result"
    }
   ],
   "source": [
    "e.name # 요소의 이름 얻기"
   ]
  },
  {
   "cell_type": "code",
   "execution_count": 41,
   "id": "33d70b1c",
   "metadata": {
    "ExecuteTime": {
     "end_time": "2023-12-11T14:28:05.714822Z",
     "start_time": "2023-12-11T14:28:05.707023Z"
    }
   },
   "outputs": [
    {
     "data": {
      "text/plain": [
       "{'id': 'orange', 'class': ['fruit', 'best'], 'title': '오렌지'}"
      ]
     },
     "execution_count": 41,
     "metadata": {},
     "output_type": "execute_result"
    }
   ],
   "source": [
    "e.attrs # 요소의 속성 목록(dict)"
   ]
  },
  {
   "cell_type": "code",
   "execution_count": 42,
   "id": "97ed7d07",
   "metadata": {
    "ExecuteTime": {
     "end_time": "2023-12-11T14:29:55.862723Z",
     "start_time": "2023-12-11T14:29:55.855833Z"
    }
   },
   "outputs": [
    {
     "data": {
      "text/plain": [
       "'오렌지'"
      ]
     },
     "execution_count": 42,
     "metadata": {},
     "output_type": "execute_result"
    }
   ],
   "source": [
    "e['title'] # 요소의 속성 얻기"
   ]
  },
  {
   "cell_type": "code",
   "execution_count": 44,
   "id": "640cd84c",
   "metadata": {
    "ExecuteTime": {
     "end_time": "2023-12-11T14:30:25.588541Z",
     "start_time": "2023-12-11T14:30:25.582724Z"
    }
   },
   "outputs": [
    {
     "name": "stdout",
     "output_type": "stream",
     "text": [
      "None\n"
     ]
    }
   ],
   "source": [
    "print(e.string) # 요소의 텍스트"
   ]
  },
  {
   "cell_type": "code",
   "execution_count": 45,
   "id": "42405ada",
   "metadata": {
    "ExecuteTime": {
     "end_time": "2023-12-11T14:30:43.907856Z",
     "start_time": "2023-12-11T14:30:43.901045Z"
    },
    "scrolled": true
   },
   "outputs": [
    {
     "data": {
      "text/plain": [
       "<generator object Tag._all_strings at 0x0000022E08C4A540>"
      ]
     },
     "execution_count": 45,
     "metadata": {},
     "output_type": "execute_result"
    }
   ],
   "source": [
    "e.strings # 자식과 후손 요소 텍스트 목록(iter)"
   ]
  },
  {
   "cell_type": "code",
   "execution_count": 46,
   "id": "0ef63f38",
   "metadata": {
    "ExecuteTime": {
     "end_time": "2023-12-11T14:31:45.871577Z",
     "start_time": "2023-12-11T14:31:45.866139Z"
    },
    "scrolled": true
   },
   "outputs": [
    {
     "name": "stdout",
     "output_type": "stream",
     "text": [
      "\n",
      "\n",
      " 500원 \n",
      "\n",
      "\n",
      " 20개 \n",
      "\n",
      "\n",
      " 오렌지가게\n",
      "\n",
      "\n",
      " orange.com \n",
      "\n",
      "\n",
      "\n",
      "\n",
      "오렌지 효능\n",
      "\n",
      "\n",
      "\n",
      "\n"
     ]
    }
   ],
   "source": [
    "for item in e.strings:\n",
    "    print(item)"
   ]
  },
  {
   "cell_type": "code",
   "execution_count": 47,
   "id": "f4a320bc",
   "metadata": {
    "ExecuteTime": {
     "end_time": "2023-12-11T14:33:23.889366Z",
     "start_time": "2023-12-11T14:33:23.882630Z"
    },
    "scrolled": true
   },
   "outputs": [
    {
     "data": {
      "text/plain": [
       "'\\n 500원 \\n 20개 \\n 오렌지가게\\n orange.com \\n\\n오렌지 효능\\n\\n'"
      ]
     },
     "execution_count": 47,
     "metadata": {},
     "output_type": "execute_result"
    }
   ],
   "source": [
    "e.text # 자식과 후손 요소의 텍스트를 문자열로 얻기"
   ]
  },
  {
   "attachments": {
    "image.png": {
     "image/png": "[encoded data removed]"
    }
   },
   "cell_type": "markdown",
   "id": "1245ff6a",
   "metadata": {},
   "source": [
    "# 트리 구조를 활용한 요소 탐색\n",
    "- e.요소명 : e 하위의 첫번째 요소\n",
    "- e.parent : 부모 요소\n",
    "- e.parents : 모든 조상 요소(iter)\n",
    "- e.contents : 모든 자식 요소(list)\n",
    "- e.children : 모든 자식 요소(iter)\n",
    "- e.descendants : 모든 후손 요소(iter)\n",
    "- e.previous_sibling : 바로 앞의 형제 요소\n",
    "- e.previous_siblings : 모든 앞의 형제 요소(iter)\n",
    "- e.next_sibling : 바로 뒤의 형제 요소\n",
    "- e.next_siblings : 모든 뒤의 형제 요소(iter)\n",
    "- e.previous_element : 바로 앞의 요소\n",
    "- e.previous_elements : 모든 앞에 있는 요소(iter)\n",
    "- e.next_element : 바로 뒤의 요소\n",
    "- e.next_elements : 모든 뒤에 있는 요소(iter)\n",
    "![image.png](attachment:image.png)"
   ]
  },
  {
   "cell_type": "code",
   "execution_count": 48,
   "id": "2668070f",
   "metadata": {
    "ExecuteTime": {
     "end_time": "2023-12-11T14:34:47.484968Z",
     "start_time": "2023-12-11T14:34:47.474736Z"
    },
    "scrolled": true
   },
   "outputs": [
    {
     "data": {
      "text/plain": [
       "<div>\n",
       "<p class=\"fruit\" id=\"banana\" title=\"바나나\">\n",
       "<span class=\"price\"> 3000원 </span>\n",
       "<span class=\"count\"> 10개 </span>\n",
       "<span class=\"store\"> 바나나가게 </span>\n",
       "<a href=\"https://www.banana.com\"> banana.com </a>\n",
       "</p>\n",
       "<p class=\"fruit\" id=\"cherry\" title=\"체리\">\n",
       "<span class=\"price\"> 100원 </span>\n",
       "<span class=\"count\"> 50개 </span>\n",
       "<span class=\"store\"> 체리가게</span>\n",
       "<a href=\"https://www.cherry.com\"> cherry.com </a>\n",
       "</p>\n",
       "<p class=\"fruit best\" id=\"orange\" title=\"오렌지\">\n",
       "<span class=\"price\"> 500원 </span>\n",
       "<span class=\"count\"> 20개 </span>\n",
       "<span class=\"store\"> 오렌지가게</span>\n",
       "<a href=\"https://www.orange.com\"> orange.com </a>\n",
       "<span>\n",
       "<a href=\"https://www.orange.blog/\">오렌지 효능</a>\n",
       "</span>\n",
       "</p>\n",
       "</div>"
      ]
     },
     "execution_count": 48,
     "metadata": {},
     "output_type": "execute_result"
    }
   ],
   "source": [
    "# 부모 요소\n",
    "e.parent"
   ]
  },
  {
   "cell_type": "code",
   "execution_count": 49,
   "id": "896640fe",
   "metadata": {
    "ExecuteTime": {
     "end_time": "2023-12-11T14:37:04.051173Z",
     "start_time": "2023-12-11T14:37:04.043189Z"
    }
   },
   "outputs": [
    {
     "data": {
      "text/plain": [
       "<generator object PageElement.parents at 0x0000022E08DE0C40>"
      ]
     },
     "execution_count": 49,
     "metadata": {},
     "output_type": "execute_result"
    }
   ],
   "source": [
    "# 모든 조상 요소\n",
    "e.parents"
   ]
  },
  {
   "cell_type": "code",
   "execution_count": 50,
   "id": "b2a8a6c4",
   "metadata": {
    "ExecuteTime": {
     "end_time": "2023-12-11T14:37:15.810352Z",
     "start_time": "2023-12-11T14:37:15.803714Z"
    }
   },
   "outputs": [
    {
     "name": "stdout",
     "output_type": "stream",
     "text": [
      "div\n",
      "body\n",
      "html\n",
      "[document]\n"
     ]
    }
   ],
   "source": [
    "for item in e.parents:\n",
    "    print(item.name)"
   ]
  },
  {
   "cell_type": "code",
   "execution_count": 51,
   "id": "d179c0ae",
   "metadata": {
    "ExecuteTime": {
     "end_time": "2023-12-11T14:38:13.938235Z",
     "start_time": "2023-12-11T14:38:13.931220Z"
    }
   },
   "outputs": [
    {
     "data": {
      "text/plain": [
       "['\\n',\n",
       " <span class=\"price\"> 500원 </span>,\n",
       " '\\n',\n",
       " <span class=\"count\"> 20개 </span>,\n",
       " '\\n',\n",
       " <span class=\"store\"> 오렌지가게</span>,\n",
       " '\\n',\n",
       " <a href=\"https://www.orange.com\"> orange.com </a>,\n",
       " '\\n',\n",
       " <span>\n",
       " <a href=\"https://www.orange.blog/\">오렌지 효능</a>\n",
       " </span>,\n",
       " '\\n']"
      ]
     },
     "execution_count": 51,
     "metadata": {},
     "output_type": "execute_result"
    }
   ],
   "source": [
    "# 모든 자식 요소(list)\n",
    "e.contents"
   ]
  },
  {
   "cell_type": "code",
   "execution_count": 52,
   "id": "6f1412cf",
   "metadata": {
    "ExecuteTime": {
     "end_time": "2023-12-11T14:38:58.611010Z",
     "start_time": "2023-12-11T14:38:58.604446Z"
    }
   },
   "outputs": [
    {
     "data": {
      "text/plain": [
       "<list_iterator at 0x22e08e1bfd0>"
      ]
     },
     "execution_count": 52,
     "metadata": {},
     "output_type": "execute_result"
    }
   ],
   "source": [
    "# 모든 자식 요소(eter)\n",
    "e.children"
   ]
  },
  {
   "cell_type": "code",
   "execution_count": 53,
   "id": "6fd76a69",
   "metadata": {
    "ExecuteTime": {
     "end_time": "2023-12-11T14:39:05.323616Z",
     "start_time": "2023-12-11T14:39:05.317160Z"
    }
   },
   "outputs": [
    {
     "name": "stdout",
     "output_type": "stream",
     "text": [
      "None\n",
      "span\n",
      "None\n",
      "span\n",
      "None\n",
      "span\n",
      "None\n",
      "a\n",
      "None\n",
      "span\n",
      "None\n"
     ]
    }
   ],
   "source": [
    "for item in e.children:\n",
    "    print(item.name)"
   ]
  }
 ],
 "metadata": {
  "kernelspec": {
   "display_name": "Python 3 (ipykernel)",
   "language": "python",
   "name": "python3"
  },
  "language_info": {
   "codemirror_mode": {
    "name": "ipython",
    "version": 3
   },
   "file_extension": ".py",
   "mimetype": "text/x-python",
   "name": "python",
   "nbconvert_exporter": "python",
   "pygments_lexer": "ipython3",
   "version": "3.11.5"
  },
  "toc": {
   "base_numbering": 1,
   "nav_menu": {},
   "number_sections": true,
   "sideBar": true,
   "skip_h1_title": false,
   "title_cell": "Table of Contents",
   "title_sidebar": "Contents",
   "toc_cell": false,
   "toc_position": {},
   "toc_section_display": true,
   "toc_window_display": false
  }
 },
 "nbformat": 4,
 "nbformat_minor": 5
}
