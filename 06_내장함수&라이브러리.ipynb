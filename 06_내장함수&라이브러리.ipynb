{
 "cells": [
  {
   "cell_type": "markdown",
   "id": "29654350",
   "metadata": {},
   "source": [
    "# 내장 함수"
   ]
  },
  {
   "cell_type": "markdown",
   "id": "ec6a30b5",
   "metadata": {},
   "source": [
    "## abs: 절댓값"
   ]
  },
  {
   "cell_type": "code",
   "execution_count": 1,
   "id": "bd53a493",
   "metadata": {
    "ExecuteTime": {
     "end_time": "2023-12-10T06:19:40.323696Z",
     "start_time": "2023-12-10T06:19:40.304987Z"
    }
   },
   "outputs": [
    {
     "name": "stdout",
     "output_type": "stream",
     "text": [
      "3\n",
      "3\n"
     ]
    }
   ],
   "source": [
    "print(abs(3))\n",
    "print(abs(-3))"
   ]
  },
  {
   "cell_type": "markdown",
   "id": "52f823d6",
   "metadata": {},
   "source": [
    "## all\n",
    "- all(x)는 반복 가능한 데이터 x를 입력값으로 받으며 이 x의 요소가 모두 참이면 True, 거짓이 하나라도 있으면 False를 리턴한다.\n",
    "- 반복 가능한 데이터: for 문에서 사용할 수 있는 자료형 ex. 리스트, 튜플, 문자열, 딕셔너리, 집합 등"
   ]
  },
  {
   "cell_type": "code",
   "execution_count": 2,
   "id": "27382d41",
   "metadata": {
    "ExecuteTime": {
     "end_time": "2023-12-10T06:21:45.620436Z",
     "start_time": "2023-12-10T06:21:45.614614Z"
    },
    "scrolled": true
   },
   "outputs": [
    {
     "name": "stdout",
     "output_type": "stream",
     "text": [
      "True\n",
      "False\n",
      "True\n"
     ]
    }
   ],
   "source": [
    "print(all([1, 2, 3]))\n",
    "print(all([1, 2, 3, 0]))\n",
    "print(all([])) #빈값 True"
   ]
  },
  {
   "cell_type": "markdown",
   "id": "60121420",
   "metadata": {},
   "source": [
    "## any <-> all\n",
    "- any(x)는 반복 가능한 데이터 x를 입력으로 받아 x의 요소 중 하나라도 참이 있으면 True를 리턴하고 x가 모두 거짓일 때만 False를 리턴한다."
   ]
  },
  {
   "cell_type": "code",
   "execution_count": 3,
   "id": "82c563a7",
   "metadata": {
    "ExecuteTime": {
     "end_time": "2023-12-10T06:37:07.295888Z",
     "start_time": "2023-12-10T06:37:07.289519Z"
    },
    "scrolled": true
   },
   "outputs": [
    {
     "name": "stdout",
     "output_type": "stream",
     "text": [
      "True\n",
      "False\n",
      "False\n"
     ]
    }
   ],
   "source": [
    "print(any([1, 2, 3, 0])) # 0만 거짓\n",
    "print(any([0, \"\"])) # 모두 거짓\n",
    "print(any([])) # 빈값 False <-> all"
   ]
  },
  {
   "cell_type": "markdown",
   "id": "2657fd3f",
   "metadata": {},
   "source": [
    "## chr\n",
    "- 유니코드 숫자 값을 입력받아 그 코드에 해당하는 문자를 리턴하는 함수"
   ]
  },
  {
   "cell_type": "code",
   "execution_count": 4,
   "id": "e4206de6",
   "metadata": {
    "ExecuteTime": {
     "end_time": "2023-12-10T06:40:05.804710Z",
     "start_time": "2023-12-10T06:40:05.798873Z"
    },
    "scrolled": false
   },
   "outputs": [
    {
     "name": "stdout",
     "output_type": "stream",
     "text": [
      "a\n",
      "가\n"
     ]
    }
   ],
   "source": [
    "print(chr(97))\n",
    "print(chr(44032))"
   ]
  },
  {
   "cell_type": "markdown",
   "id": "fd46a94e",
   "metadata": {},
   "source": [
    "## dir\n",
    "- 객체가 지닌 변수나 함수를 보여 주는 함수"
   ]
  },
  {
   "cell_type": "code",
   "execution_count": 6,
   "id": "6da914f1",
   "metadata": {
    "ExecuteTime": {
     "end_time": "2023-12-10T06:52:18.223805Z",
     "start_time": "2023-12-10T06:52:18.215295Z"
    },
    "scrolled": true
   },
   "outputs": [
    {
     "name": "stdout",
     "output_type": "stream",
     "text": [
      "['__add__', '__class__', '__class_getitem__', '__contains__', '__delattr__', '__delitem__', '__dir__', '__doc__', '__eq__', '__format__', '__ge__', '__getattribute__', '__getitem__', '__getstate__', '__gt__', '__hash__', '__iadd__', '__imul__', '__init__', '__init_subclass__', '__iter__', '__le__', '__len__', '__lt__', '__mul__', '__ne__', '__new__', '__reduce__', '__reduce_ex__', '__repr__', '__reversed__', '__rmul__', '__setattr__', '__setitem__', '__sizeof__', '__str__', '__subclasshook__', 'append', 'clear', 'copy', 'count', 'extend', 'index', 'insert', 'pop', 'remove', 'reverse', 'sort']\n"
     ]
    }
   ],
   "source": [
    "print(dir([1, 2, 3]))"
   ]
  },
  {
   "cell_type": "markdown",
   "id": "d8412162",
   "metadata": {},
   "source": [
    "## divmod(a, b)\n",
    "- a를 b로 나눈 몫과 나머지를 튜플로 리턴한다."
   ]
  },
  {
   "cell_type": "code",
   "execution_count": 7,
   "id": "d3db77a3",
   "metadata": {
    "ExecuteTime": {
     "end_time": "2023-12-10T06:53:11.830939Z",
     "start_time": "2023-12-10T06:53:11.817729Z"
    }
   },
   "outputs": [
    {
     "data": {
      "text/plain": [
       "(2, 1)"
      ]
     },
     "execution_count": 7,
     "metadata": {},
     "output_type": "execute_result"
    }
   ],
   "source": [
    "divmod(7, 3)"
   ]
  },
  {
   "cell_type": "markdown",
   "id": "c6535d27",
   "metadata": {},
   "source": [
    "## ★enumerate\n",
    "- 순서가 있는 데이터(리스트, 튜플, 문자열)를 입력으로 받아 인덱스 값을 포함하는 enumerate 객체를 리턴한다.\n",
    "- for 문과 함께 사용한다."
   ]
  },
  {
   "cell_type": "code",
   "execution_count": 8,
   "id": "6a0ee665",
   "metadata": {
    "ExecuteTime": {
     "end_time": "2023-12-10T07:13:59.306856Z",
     "start_time": "2023-12-10T07:13:59.300079Z"
    },
    "scrolled": true
   },
   "outputs": [
    {
     "name": "stdout",
     "output_type": "stream",
     "text": [
      "0 body\n",
      "1 foo\n",
      "2 bar\n"
     ]
    }
   ],
   "source": [
    "for i, name in enumerate(['body', 'foo', 'bar']):\n",
    "    print(i, name)"
   ]
  },
  {
   "cell_type": "markdown",
   "id": "686d2f11",
   "metadata": {},
   "source": [
    "## eval(expression)\n",
    "- 문자열로 구성된 표현식을 입력으로 받아 해당 문자열을 실행한 결괏값을 리턴"
   ]
  },
  {
   "cell_type": "code",
   "execution_count": 10,
   "id": "b09785eb",
   "metadata": {
    "ExecuteTime": {
     "end_time": "2023-12-10T07:16:33.528909Z",
     "start_time": "2023-12-10T07:16:33.521958Z"
    },
    "scrolled": true
   },
   "outputs": [
    {
     "name": "stdout",
     "output_type": "stream",
     "text": [
      "3\n",
      "hia\n",
      "(1, 1)\n"
     ]
    }
   ],
   "source": [
    "print(eval('1+2'))\n",
    "print(eval(\"'hi' + 'a'\"))\n",
    "print(eval('divmod(4, 3)'))"
   ]
  },
  {
   "cell_type": "markdown",
   "id": "2a682040",
   "metadata": {},
   "source": [
    "## ★filter\n",
    "filter(함수, 반복_가능한_데이터)\n",
    "- 반복 가능한 데이터의 요소 순서대로 함수를 호출했을 때 리턴값이 참인 것만 묶어서(걸러 내서) 리턴한다.\n",
    "### 리스트를 입력으로 받아 각각의 요소를 판별해서 양수 값만 리턴하는 함수"
   ]
  },
  {
   "cell_type": "code",
   "execution_count": 11,
   "id": "161e9cc7",
   "metadata": {
    "ExecuteTime": {
     "end_time": "2023-12-10T07:18:39.448987Z",
     "start_time": "2023-12-10T07:18:39.441383Z"
    }
   },
   "outputs": [
    {
     "name": "stdout",
     "output_type": "stream",
     "text": [
      "[1, 2, 6]\n"
     ]
    }
   ],
   "source": [
    "def positive(l): \n",
    "    result = [] \n",
    "    for i in l: \n",
    "        if i > 0: \n",
    "            result.append(i) \n",
    "    return result\n",
    "\n",
    "print(positive([1,-3,2,0,-5,6]))"
   ]
  },
  {
   "cell_type": "markdown",
   "id": "4df28cb6",
   "metadata": {},
   "source": [
    "### filter 사용하기"
   ]
  },
  {
   "cell_type": "code",
   "execution_count": 12,
   "id": "44005f46",
   "metadata": {
    "ExecuteTime": {
     "end_time": "2023-12-10T07:20:02.576555Z",
     "start_time": "2023-12-10T07:20:02.569086Z"
    }
   },
   "outputs": [
    {
     "name": "stdout",
     "output_type": "stream",
     "text": [
      "[1, 2, 6]\n"
     ]
    }
   ],
   "source": [
    "def positive(x):\n",
    "    return x > 0\n",
    "\n",
    "print(list(filter(positive, [1, -3, 2, 0, -5, 6])))"
   ]
  },
  {
   "cell_type": "markdown",
   "id": "4986a923",
   "metadata": {},
   "source": [
    "### lambda 사용하기"
   ]
  },
  {
   "cell_type": "code",
   "execution_count": 15,
   "id": "389fcd59",
   "metadata": {
    "ExecuteTime": {
     "end_time": "2023-12-10T07:22:13.081230Z",
     "start_time": "2023-12-10T07:22:13.068112Z"
    }
   },
   "outputs": [
    {
     "data": {
      "text/plain": [
       "[1, 2, 6]"
      ]
     },
     "execution_count": 15,
     "metadata": {},
     "output_type": "execute_result"
    }
   ],
   "source": [
    "list(filter(lambda x: x > 0, [1, -3, 2, 0, -5, 6]))"
   ]
  },
  {
   "cell_type": "markdown",
   "id": "9b266235",
   "metadata": {},
   "source": [
    "### 리스트 컴프리헨션 사용하기"
   ]
  },
  {
   "cell_type": "code",
   "execution_count": null,
   "id": "bd3b3464",
   "metadata": {},
   "outputs": [],
   "source": [
    "[i for i in [1, -3, 2, 0, -5, 6] if i > 0]"
   ]
  },
  {
   "cell_type": "markdown",
   "id": "650277d8",
   "metadata": {},
   "source": [
    "## hex\n",
    "- 정수를 입력받아 16진수(hexadecimal) 문자열로 변환하여 리턴"
   ]
  },
  {
   "cell_type": "code",
   "execution_count": 16,
   "id": "ec33e47e",
   "metadata": {
    "ExecuteTime": {
     "end_time": "2023-12-10T07:24:21.110600Z",
     "start_time": "2023-12-10T07:24:21.104241Z"
    },
    "scrolled": true
   },
   "outputs": [
    {
     "name": "stdout",
     "output_type": "stream",
     "text": [
      "0xea\n",
      "0x3\n"
     ]
    }
   ],
   "source": [
    "print(hex(234))\n",
    "print(hex(3))"
   ]
  },
  {
   "cell_type": "markdown",
   "id": "2d744049",
   "metadata": {},
   "source": [
    "## id\n",
    "- 객체를 입력받아 객체의 고유 주솟값(레퍼런스)을 리턴"
   ]
  },
  {
   "cell_type": "code",
   "execution_count": 18,
   "id": "07149d7d",
   "metadata": {
    "ExecuteTime": {
     "end_time": "2023-12-10T07:25:56.817786Z",
     "start_time": "2023-12-10T07:25:56.811410Z"
    }
   },
   "outputs": [
    {
     "name": "stdout",
     "output_type": "stream",
     "text": [
      "140736780276584\n",
      "140736780276584\n",
      "140736780276584\n"
     ]
    }
   ],
   "source": [
    "a = 3\n",
    "b = a\n",
    "print(id(3))\n",
    "print(id(a))\n",
    "print(id(b))"
   ]
  },
  {
   "cell_type": "markdown",
   "id": "bb457057",
   "metadata": {},
   "source": [
    "## input\n",
    "- 사용자 입력을 받는 함수. 입력 인수로 문자열을 전달하면 그 문자열은 프롬프트가 된다."
   ]
  },
  {
   "cell_type": "code",
   "execution_count": 19,
   "id": "190b222a",
   "metadata": {
    "ExecuteTime": {
     "end_time": "2023-12-10T07:26:47.345504Z",
     "start_time": "2023-12-10T07:26:44.938407Z"
    }
   },
   "outputs": [
    {
     "name": "stdout",
     "output_type": "stream",
     "text": [
      "hi\n",
      "hi\n"
     ]
    }
   ],
   "source": [
    "a = input()\n",
    "print(a)"
   ]
  },
  {
   "cell_type": "markdown",
   "id": "f5af4c3c",
   "metadata": {},
   "source": [
    "## int\n",
    "- 문자열 형태의 숫자나 소수점이 있는 숫자를 정수로 리턴하는 함수"
   ]
  },
  {
   "cell_type": "code",
   "execution_count": 20,
   "id": "a6b2ce9c",
   "metadata": {
    "ExecuteTime": {
     "end_time": "2023-12-10T07:27:43.876529Z",
     "start_time": "2023-12-10T07:27:43.869195Z"
    }
   },
   "outputs": [
    {
     "name": "stdout",
     "output_type": "stream",
     "text": [
      "3\n",
      "3\n",
      "3\n",
      "26\n"
     ]
    }
   ],
   "source": [
    "print(int('3'))\n",
    "print(int(3.4))\n",
    "print(int('11', 2)) # 2진수를 10진수로 표현\n",
    "print(int('1A', 16)) # 16진수를 10진수로 표현"
   ]
  },
  {
   "cell_type": "markdown",
   "id": "7f99dffa",
   "metadata": {},
   "source": [
    "## isinstance(객체, 클래스)\n",
    "- 입력으로 받은 객체가 그 클래스의 인스턴스인지를 판단하여 참이면 True, 거짓이면 False를 리턴"
   ]
  },
  {
   "cell_type": "code",
   "execution_count": 21,
   "id": "eb8fb81a",
   "metadata": {
    "ExecuteTime": {
     "end_time": "2023-12-10T07:28:55.332340Z",
     "start_time": "2023-12-10T07:28:55.325436Z"
    }
   },
   "outputs": [
    {
     "data": {
      "text/plain": [
       "True"
      ]
     },
     "execution_count": 21,
     "metadata": {},
     "output_type": "execute_result"
    }
   ],
   "source": [
    "class Person:\n",
    "    pass\n",
    "\n",
    "a = Person()\n",
    "isinstance(a, Person)"
   ]
  },
  {
   "cell_type": "markdown",
   "id": "ac7853a1",
   "metadata": {},
   "source": [
    "## len\n",
    "- 입력값의 길이(요소의 전체 개수)를 리턴하는 함수"
   ]
  },
  {
   "cell_type": "code",
   "execution_count": 22,
   "id": "0c6fffb7",
   "metadata": {
    "ExecuteTime": {
     "end_time": "2023-12-10T07:29:42.850881Z",
     "start_time": "2023-12-10T07:29:42.842781Z"
    }
   },
   "outputs": [
    {
     "data": {
      "text/plain": [
       "6"
      ]
     },
     "execution_count": 22,
     "metadata": {},
     "output_type": "execute_result"
    }
   ],
   "source": [
    "len(\"python\")"
   ]
  },
  {
   "cell_type": "markdown",
   "id": "aadbd26c",
   "metadata": {},
   "source": [
    "## list\n",
    "- 반복 가능한 데이터를 입력받아 리스트로 만들어 리턴"
   ]
  },
  {
   "cell_type": "code",
   "execution_count": 23,
   "id": "46b0317e",
   "metadata": {
    "ExecuteTime": {
     "end_time": "2023-12-10T07:30:22.443734Z",
     "start_time": "2023-12-10T07:30:22.436628Z"
    },
    "scrolled": true
   },
   "outputs": [
    {
     "name": "stdout",
     "output_type": "stream",
     "text": [
      "['p', 'y', 't', 'h', 'o', 'n']\n",
      "[1, 2, 3]\n"
     ]
    }
   ],
   "source": [
    "print(list(\"python\"))\n",
    "print(list((1,2,3)))"
   ]
  },
  {
   "cell_type": "markdown",
   "id": "c6c0000e",
   "metadata": {},
   "source": [
    "## ★map(함수, 데이터)\n",
    "- 데이터의 각 요소에 함수 f를 적용한 결과를 리턴\n",
    "### 함수로 만들기"
   ]
  },
  {
   "cell_type": "code",
   "execution_count": 24,
   "id": "e1929f3b",
   "metadata": {
    "ExecuteTime": {
     "end_time": "2023-12-10T07:43:40.111919Z",
     "start_time": "2023-12-10T07:43:40.102851Z"
    }
   },
   "outputs": [
    {
     "name": "stdout",
     "output_type": "stream",
     "text": [
      "[2, 4, 6, 8]\n"
     ]
    }
   ],
   "source": [
    "def two_times(numberList):\n",
    "    result = []\n",
    "    for number in numberList:\n",
    "        result.append(number*2)\n",
    "    return result\n",
    "\n",
    "result = two_times([1, 2, 3, 4])\n",
    "print(result)"
   ]
  },
  {
   "cell_type": "markdown",
   "id": "20b07cad",
   "metadata": {},
   "source": [
    "### map으로 만들기"
   ]
  },
  {
   "cell_type": "code",
   "execution_count": 25,
   "id": "fa722d3d",
   "metadata": {
    "ExecuteTime": {
     "end_time": "2023-12-10T07:43:41.401756Z",
     "start_time": "2023-12-10T07:43:41.394245Z"
    }
   },
   "outputs": [
    {
     "data": {
      "text/plain": [
       "[2, 4, 6, 8]"
      ]
     },
     "execution_count": 25,
     "metadata": {},
     "output_type": "execute_result"
    }
   ],
   "source": [
    "def two_times(x): \n",
    "    return x*2    \n",
    "\n",
    "list(map(two_times, [1, 2, 3, 4]))"
   ]
  },
  {
   "cell_type": "markdown",
   "id": "2e027419",
   "metadata": {},
   "source": [
    "### lambda로 만들기"
   ]
  },
  {
   "cell_type": "code",
   "execution_count": 26,
   "id": "60d988b1",
   "metadata": {
    "ExecuteTime": {
     "end_time": "2023-12-10T07:43:43.195990Z",
     "start_time": "2023-12-10T07:43:43.187323Z"
    }
   },
   "outputs": [
    {
     "data": {
      "text/plain": [
       "[2, 4, 6, 8]"
      ]
     },
     "execution_count": 26,
     "metadata": {},
     "output_type": "execute_result"
    }
   ],
   "source": [
    "list(map(lambda a: a*2, [1, 2, 3, 4]))"
   ]
  },
  {
   "cell_type": "code",
   "execution_count": null,
   "id": "db623630",
   "metadata": {},
   "outputs": [],
   "source": [
    "# Filter는 특정 기준으로 입력을 걸러줌 -> 조건, Map -> 함수를 적용\n",
    "def two_times(x):\n",
    "    if x % 2 == 0:\n",
    "        return x * 2\n",
    "    else:\n",
    "        return '짝수 아님ㅋㅋ'\n",
    "list(map(two_times, [1, 2, 3, 4]))"
   ]
  },
  {
   "cell_type": "markdown",
   "id": "97302c3d",
   "metadata": {},
   "source": [
    "## ord: 문자의 유니코드 숫자 값을 리턴"
   ]
  },
  {
   "cell_type": "code",
   "execution_count": 27,
   "id": "d6348a9b",
   "metadata": {
    "ExecuteTime": {
     "end_time": "2023-12-10T07:50:12.356285Z",
     "start_time": "2023-12-10T07:50:12.349444Z"
    },
    "scrolled": true
   },
   "outputs": [
    {
     "data": {
      "text/plain": [
       "97"
      ]
     },
     "execution_count": 27,
     "metadata": {},
     "output_type": "execute_result"
    }
   ],
   "source": [
    "ord('a')"
   ]
  },
  {
   "cell_type": "markdown",
   "id": "76ce0698",
   "metadata": {},
   "source": [
    "## pow(x, y)\n",
    "- x를 y제곱한 결괏값을 리턴"
   ]
  },
  {
   "cell_type": "code",
   "execution_count": null,
   "id": "d9d54672",
   "metadata": {},
   "outputs": [],
   "source": [
    "pow(2, 4)"
   ]
  },
  {
   "cell_type": "markdown",
   "id": "1952d896",
   "metadata": {},
   "source": [
    "## range([start,] stop [,step])\n",
    "- for 문과 함께 자주 사용\n",
    "- 입력받은 숫자에 해당하는 범위 값을 반복 가능한 객체로 만들어 리턴"
   ]
  },
  {
   "cell_type": "markdown",
   "id": "34218c28",
   "metadata": {},
   "source": [
    "### 인수가 하나일 경우\n",
    "- 시작 숫자를 지정해 주지 않으면 range 함수는 0부터 시작"
   ]
  },
  {
   "cell_type": "code",
   "execution_count": 29,
   "id": "b4607bb2",
   "metadata": {
    "ExecuteTime": {
     "end_time": "2023-12-10T07:54:03.212714Z",
     "start_time": "2023-12-10T07:54:03.205344Z"
    }
   },
   "outputs": [
    {
     "data": {
      "text/plain": [
       "[0, 1, 2, 3, 4]"
      ]
     },
     "execution_count": 29,
     "metadata": {},
     "output_type": "execute_result"
    }
   ],
   "source": [
    "list(range(5))"
   ]
  },
  {
   "cell_type": "markdown",
   "id": "d81d8784",
   "metadata": {},
   "source": [
    "### 인수가 2개일 경우: range(시작, 끝)\n",
    "- 끝 숫자는 해당 범위에 포함x"
   ]
  },
  {
   "cell_type": "code",
   "execution_count": 28,
   "id": "1dcfe896",
   "metadata": {
    "ExecuteTime": {
     "end_time": "2023-12-10T07:54:02.141167Z",
     "start_time": "2023-12-10T07:54:02.134279Z"
    }
   },
   "outputs": [
    {
     "data": {
      "text/plain": [
       "[5, 6, 7, 8, 9]"
      ]
     },
     "execution_count": 28,
     "metadata": {},
     "output_type": "execute_result"
    }
   ],
   "source": [
    "list(range(5, 10))"
   ]
  },
  {
   "cell_type": "markdown",
   "id": "cd9864fb",
   "metadata": {},
   "source": [
    "### 인수가 3개일 경우: range(시작, 끝, 거리)"
   ]
  },
  {
   "cell_type": "code",
   "execution_count": 30,
   "id": "927d1d95",
   "metadata": {
    "ExecuteTime": {
     "end_time": "2023-12-10T07:54:09.497321Z",
     "start_time": "2023-12-10T07:54:09.488892Z"
    },
    "scrolled": true
   },
   "outputs": [
    {
     "data": {
      "text/plain": [
       "[1, 3, 5, 7, 9]"
      ]
     },
     "execution_count": 30,
     "metadata": {},
     "output_type": "execute_result"
    }
   ],
   "source": [
    "list(range(1, 10, 2))"
   ]
  },
  {
   "cell_type": "code",
   "execution_count": 31,
   "id": "6dcc7fe7",
   "metadata": {
    "ExecuteTime": {
     "end_time": "2023-12-10T07:54:20.564475Z",
     "start_time": "2023-12-10T07:54:20.555011Z"
    },
    "scrolled": true
   },
   "outputs": [
    {
     "data": {
      "text/plain": [
       "[0, -1, -2, -3, -4, -5, -6, -7, -8, -9]"
      ]
     },
     "execution_count": 31,
     "metadata": {},
     "output_type": "execute_result"
    }
   ],
   "source": [
    "list(range(0, -10, -1))"
   ]
  },
  {
   "cell_type": "markdown",
   "id": "6c2a0cdf",
   "metadata": {},
   "source": [
    "## round(숫자, [소수점]): 반올림"
   ]
  },
  {
   "cell_type": "code",
   "execution_count": 32,
   "id": "93aadf9d",
   "metadata": {
    "ExecuteTime": {
     "end_time": "2023-12-10T07:56:14.331857Z",
     "start_time": "2023-12-10T07:56:14.324072Z"
    }
   },
   "outputs": [
    {
     "name": "stdout",
     "output_type": "stream",
     "text": [
      "5\n",
      "4\n",
      "5.68\n"
     ]
    }
   ],
   "source": [
    "print(round(4.6))\n",
    "print(round(4.2))\n",
    "print(round(5.678, 2))"
   ]
  },
  {
   "cell_type": "markdown",
   "id": "036b6ee7",
   "metadata": {},
   "source": [
    "## sorted\n",
    "- 입력 데이터를 정렬한 후 그 결과를 리스트로 리턴\n",
    "- 리스트 자료형에도 sort 함수가 있다. 하지만 리스트 자료형의 sort 함수는 리스트 객체 그 자체를 정렬만 할 뿐, 정렬된 결과를 리턴하지는 않는다."
   ]
  },
  {
   "cell_type": "code",
   "execution_count": 33,
   "id": "c414fca9",
   "metadata": {
    "ExecuteTime": {
     "end_time": "2023-12-10T08:05:16.649065Z",
     "start_time": "2023-12-10T08:05:16.641242Z"
    },
    "scrolled": true
   },
   "outputs": [
    {
     "name": "stdout",
     "output_type": "stream",
     "text": [
      "[1, 2, 3]\n",
      "['e', 'o', 'r', 'z']\n",
      "[1, 2, 3]\n"
     ]
    }
   ],
   "source": [
    "print(sorted([3, 1, 2]))\n",
    "print(sorted(\"zero\"))\n",
    "print(sorted((3, 2, 1)))"
   ]
  },
  {
   "cell_type": "markdown",
   "id": "0d1705b0",
   "metadata": {},
   "source": [
    "## sum\n",
    "- 데이터의 합을 리턴"
   ]
  },
  {
   "cell_type": "code",
   "execution_count": 34,
   "id": "be03bbdf",
   "metadata": {
    "ExecuteTime": {
     "end_time": "2023-12-10T08:07:52.011933Z",
     "start_time": "2023-12-10T08:07:52.003478Z"
    }
   },
   "outputs": [
    {
     "data": {
      "text/plain": [
       "6"
      ]
     },
     "execution_count": 34,
     "metadata": {},
     "output_type": "execute_result"
    }
   ],
   "source": [
    "sum([1, 2, 3])"
   ]
  },
  {
   "cell_type": "markdown",
   "id": "b8fc9f0e",
   "metadata": {},
   "source": [
    "## tuple\n",
    "- 반복 가능한 데이터를 튜플로 바꾸어 리턴"
   ]
  },
  {
   "cell_type": "code",
   "execution_count": 36,
   "id": "20a71363",
   "metadata": {
    "ExecuteTime": {
     "end_time": "2023-12-10T08:09:03.824811Z",
     "start_time": "2023-12-10T08:09:03.818512Z"
    }
   },
   "outputs": [
    {
     "name": "stdout",
     "output_type": "stream",
     "text": [
      "('a', 'b', 'c')\n",
      "(1, 2, 3)\n"
     ]
    }
   ],
   "source": [
    "print(tuple(\"abc\"))\n",
    "print(tuple([1, 2, 3]))"
   ]
  },
  {
   "cell_type": "markdown",
   "id": "40d73a61",
   "metadata": {},
   "source": [
    "## type\n",
    "- 입력값의 자료형이 무엇인지 알려 주는 함수"
   ]
  },
  {
   "cell_type": "code",
   "execution_count": 37,
   "id": "7d6f77d7",
   "metadata": {
    "ExecuteTime": {
     "end_time": "2023-12-10T08:09:22.919405Z",
     "start_time": "2023-12-10T08:09:22.911142Z"
    }
   },
   "outputs": [
    {
     "data": {
      "text/plain": [
       "str"
      ]
     },
     "execution_count": 37,
     "metadata": {},
     "output_type": "execute_result"
    }
   ],
   "source": [
    "type(\"abc\")"
   ]
  },
  {
   "cell_type": "markdown",
   "id": "5226ce2a",
   "metadata": {},
   "source": [
    "## ★zip(*iterable)\n",
    "- 동일한 개수로 이루어진 데이터들을 묶어서 리턴하는 함수\n",
    "- *iterable: 반복 가능한 데이터를 여러 개 입력할 수 있다는 의미"
   ]
  },
  {
   "cell_type": "code",
   "execution_count": 38,
   "id": "554995f2",
   "metadata": {
    "ExecuteTime": {
     "end_time": "2023-12-10T08:10:29.114573Z",
     "start_time": "2023-12-10T08:10:29.106754Z"
    }
   },
   "outputs": [
    {
     "name": "stdout",
     "output_type": "stream",
     "text": [
      "[(1, 4), (2, 5), (3, 6)]\n",
      "[(1, 4, 7), (2, 5, 8), (3, 6, 9)]\n",
      "[('a', 'd'), ('b', 'e'), ('c', 'f')]\n"
     ]
    }
   ],
   "source": [
    "print(list(zip([1, 2, 3], [4, 5, 6])))\n",
    "print(list(zip([1, 2, 3], [4, 5, 6], [7, 8, 9])))\n",
    "print(list(zip(\"abc\", \"def\")))"
   ]
  },
  {
   "cell_type": "markdown",
   "id": "5908d1f5",
   "metadata": {},
   "source": [
    "# 표준 라이브러리\n",
    "## datetime.date\n",
    "- 연, 월, 일로 날짜를 표현할 때 사용하는 함수\n",
    "### 두 날짜의 차이: diff"
   ]
  },
  {
   "cell_type": "code",
   "execution_count": 40,
   "id": "cf9726d3",
   "metadata": {
    "ExecuteTime": {
     "end_time": "2023-12-10T23:10:21.719627Z",
     "start_time": "2023-12-10T23:10:21.696422Z"
    }
   },
   "outputs": [
    {
     "data": {
      "text/plain": [
       "477"
      ]
     },
     "execution_count": 40,
     "metadata": {},
     "output_type": "execute_result"
    }
   ],
   "source": [
    "import datetime\n",
    "day1 = datetime.date(2021, 12, 14) #객체 생성\n",
    "day2 = datetime.date(2023, 4, 5) #객체 생성\n",
    "\n",
    "diff = day2 - day1 # datetime 모듈의 timedelta 객체가 리턴\n",
    "diff.days"
   ]
  },
  {
   "cell_type": "markdown",
   "id": "cfe5a0c8",
   "metadata": {},
   "source": [
    "### 요일 구하기: weekday\n",
    "- 월요일: 0"
   ]
  },
  {
   "cell_type": "code",
   "execution_count": 41,
   "id": "614ac75c",
   "metadata": {
    "ExecuteTime": {
     "end_time": "2023-12-10T23:10:22.928196Z",
     "start_time": "2023-12-10T23:10:22.917466Z"
    }
   },
   "outputs": [
    {
     "data": {
      "text/plain": [
       "1"
      ]
     },
     "execution_count": 41,
     "metadata": {},
     "output_type": "execute_result"
    }
   ],
   "source": [
    "day = datetime.date(2021, 12, 14) #객체 생성\n",
    "day.weekday() #화요일"
   ]
  },
  {
   "cell_type": "markdown",
   "id": "25639c54",
   "metadata": {},
   "source": [
    "### 요일 구하기: isoweekday\n",
    "- 월요일: 1"
   ]
  },
  {
   "cell_type": "code",
   "execution_count": 42,
   "id": "e5842af0",
   "metadata": {
    "ExecuteTime": {
     "end_time": "2023-12-10T23:11:32.731242Z",
     "start_time": "2023-12-10T23:11:32.721550Z"
    },
    "scrolled": true
   },
   "outputs": [
    {
     "data": {
      "text/plain": [
       "2"
      ]
     },
     "execution_count": 42,
     "metadata": {},
     "output_type": "execute_result"
    }
   ],
   "source": [
    "day.isoweekday() #화요일"
   ]
  },
  {
   "cell_type": "markdown",
   "id": "9c4c7788",
   "metadata": {},
   "source": [
    "## time\n",
    "### time.time\n",
    "- UTC(universal time coordinated, 협정 세계 표준시)를 사용하여 현재 시간을 실수 형태로 리턴하는 함수이다. 1970년 1월 1일 0시 0분 0초를 기준으로 지난 시간을 초 단위로 리턴"
   ]
  },
  {
   "cell_type": "code",
   "execution_count": 43,
   "id": "1ae0f163",
   "metadata": {
    "ExecuteTime": {
     "end_time": "2023-12-10T23:15:06.801047Z",
     "start_time": "2023-12-10T23:15:06.792917Z"
    }
   },
   "outputs": [
    {
     "data": {
      "text/plain": [
       "1702250106.7969077"
      ]
     },
     "execution_count": 43,
     "metadata": {},
     "output_type": "execute_result"
    }
   ],
   "source": [
    "import time\n",
    "time.time()"
   ]
  },
  {
   "cell_type": "markdown",
   "id": "a91be85f",
   "metadata": {},
   "source": [
    "### time.localtime\n",
    "- time.time()이 리턴한 실숫값을 사용해서 연, 월, 일, 시, 분, 초, ... 의 형태로 바꾸어 주는 함수"
   ]
  },
  {
   "cell_type": "code",
   "execution_count": 44,
   "id": "27eb3e73",
   "metadata": {
    "ExecuteTime": {
     "end_time": "2023-12-10T23:15:14.414472Z",
     "start_time": "2023-12-10T23:15:14.404975Z"
    },
    "scrolled": true
   },
   "outputs": [
    {
     "data": {
      "text/plain": [
       "time.struct_time(tm_year=2023, tm_mon=12, tm_mday=11, tm_hour=8, tm_min=15, tm_sec=14, tm_wday=0, tm_yday=345, tm_isdst=0)"
      ]
     },
     "execution_count": 44,
     "metadata": {},
     "output_type": "execute_result"
    }
   ],
   "source": [
    "time.localtime(time.time())"
   ]
  },
  {
   "cell_type": "markdown",
   "id": "40468cf6",
   "metadata": {
    "ExecuteTime": {
     "end_time": "2023-12-10T23:18:03.263166Z",
     "start_time": "2023-12-10T23:18:03.247232Z"
    }
   },
   "source": [
    "### time.asctime\n",
    "- time.localtime가 리턴된 튜플 형태의 값을 인수로 받아서 날짜와 시간을 알아보기 쉬운 형태로 리턴하는 함수"
   ]
  },
  {
   "cell_type": "code",
   "execution_count": 46,
   "id": "67ad8929",
   "metadata": {
    "ExecuteTime": {
     "end_time": "2023-12-10T23:18:11.370746Z",
     "start_time": "2023-12-10T23:18:11.362086Z"
    },
    "scrolled": true
   },
   "outputs": [
    {
     "data": {
      "text/plain": [
       "'Mon Dec 11 08:18:11 2023'"
      ]
     },
     "execution_count": 46,
     "metadata": {},
     "output_type": "execute_result"
    }
   ],
   "source": [
    "time.asctime(time.localtime(time.time()))"
   ]
  },
  {
   "cell_type": "markdown",
   "id": "12a5a433",
   "metadata": {},
   "source": [
    "### time.ctime()\n",
    "- asctime과 달리 현재 시간만 리턴"
   ]
  },
  {
   "cell_type": "code",
   "execution_count": 47,
   "id": "3186fe85",
   "metadata": {
    "ExecuteTime": {
     "end_time": "2023-12-10T23:19:09.015068Z",
     "start_time": "2023-12-10T23:19:09.006952Z"
    }
   },
   "outputs": [
    {
     "data": {
      "text/plain": [
       "'Mon Dec 11 08:19:09 2023'"
      ]
     },
     "execution_count": 47,
     "metadata": {},
     "output_type": "execute_result"
    }
   ],
   "source": [
    "time.ctime() # = time.asctime(time.localtime(time.time()))"
   ]
  },
  {
   "cell_type": "markdown",
   "id": "7e3a4924",
   "metadata": {},
   "source": [
    "### time.strftime\n",
    "- 시간에 관계된 것을 세밀하게 표현하는 여러 가지 포맷 코드를 제공\n",
    "- time.strftime('출력할 형식 포맷 코드', time.localtime(time.time()))"
   ]
  },
  {
   "cell_type": "code",
   "execution_count": 48,
   "id": "62e952aa",
   "metadata": {
    "ExecuteTime": {
     "end_time": "2023-12-10T23:21:46.795142Z",
     "start_time": "2023-12-10T23:21:46.789535Z"
    },
    "scrolled": true
   },
   "outputs": [
    {
     "name": "stdout",
     "output_type": "stream",
     "text": [
      "12/11/23\n",
      "Mon Dec 11 08:21:46 2023\n"
     ]
    }
   ],
   "source": [
    "print(time.strftime('%x', time.localtime(time.time()))) # %x: 현재 설정된 지역에 기반한 날짜 출력\n",
    "print(time.strftime('%c', time.localtime(time.time()))) # %c: 날짜와 시간을 출력함."
   ]
  },
  {
   "cell_type": "markdown",
   "id": "ceb118e0",
   "metadata": {},
   "source": [
    "### time.sleep\n",
    "- 주로 루프 안에서 많이 사용.이 함수를 사용하면 일정한 시간 간격을 두고 루프를 실행할 수 있다."
   ]
  },
  {
   "cell_type": "code",
   "execution_count": 49,
   "id": "8932f74d",
   "metadata": {
    "ExecuteTime": {
     "end_time": "2023-12-10T23:23:27.055933Z",
     "start_time": "2023-12-10T23:23:17.041210Z"
    },
    "scrolled": false
   },
   "outputs": [
    {
     "name": "stdout",
     "output_type": "stream",
     "text": [
      "0\n",
      "1\n",
      "2\n",
      "3\n",
      "4\n",
      "5\n",
      "6\n",
      "7\n",
      "8\n",
      "9\n"
     ]
    }
   ],
   "source": [
    "for i in range(10):\n",
    "    print(i)\n",
    "    time.sleep(1) #1초 간격으로 0부터 9까지의 숫자를 출력"
   ]
  },
  {
   "cell_type": "markdown",
   "id": "9c59d244",
   "metadata": {},
   "source": [
    "### 인수 없이 time 함수 사용하기\n",
    "- time.localtime, time.asctime, time.strftime 함수는 다음처럼 입력 인수 없이 사용할 수 있다. 입력 인수 없이 사용할 경우 현재 시각을 기준으로 함수가 수행된다."
   ]
  },
  {
   "cell_type": "code",
   "execution_count": 50,
   "id": "135a040a",
   "metadata": {
    "ExecuteTime": {
     "end_time": "2023-12-10T23:24:21.058273Z",
     "start_time": "2023-12-10T23:24:21.051128Z"
    },
    "scrolled": true
   },
   "outputs": [
    {
     "data": {
      "text/plain": [
       "time.struct_time(tm_year=2023, tm_mon=12, tm_mday=11, tm_hour=8, tm_min=24, tm_sec=21, tm_wday=0, tm_yday=345, tm_isdst=0)"
      ]
     },
     "execution_count": 50,
     "metadata": {},
     "output_type": "execute_result"
    }
   ],
   "source": [
    "time.localtime()"
   ]
  },
  {
   "cell_type": "code",
   "execution_count": 52,
   "id": "bbb79243",
   "metadata": {
    "ExecuteTime": {
     "end_time": "2023-12-10T23:24:34.673848Z",
     "start_time": "2023-12-10T23:24:34.666150Z"
    }
   },
   "outputs": [
    {
     "data": {
      "text/plain": [
       "'Mon Dec 11 08:24:34 2023'"
      ]
     },
     "execution_count": 52,
     "metadata": {},
     "output_type": "execute_result"
    }
   ],
   "source": [
    "time.asctime()"
   ]
  },
  {
   "cell_type": "code",
   "execution_count": 51,
   "id": "465bf980",
   "metadata": {
    "ExecuteTime": {
     "end_time": "2023-12-10T23:24:33.683146Z",
     "start_time": "2023-12-10T23:24:33.676886Z"
    }
   },
   "outputs": [
    {
     "data": {
      "text/plain": [
       "'Mon Dec 11 08:24:33 2023'"
      ]
     },
     "execution_count": 51,
     "metadata": {},
     "output_type": "execute_result"
    }
   ],
   "source": [
    "time.strftime('%c')"
   ]
  },
  {
   "cell_type": "markdown",
   "id": "ca21cf81",
   "metadata": {},
   "source": [
    "## ★random: 많이씀\n",
    "### 0.0에서 1.0 사이의 실수"
   ]
  },
  {
   "cell_type": "code",
   "execution_count": 53,
   "id": "30cecb51",
   "metadata": {
    "ExecuteTime": {
     "end_time": "2023-12-10T23:25:58.369955Z",
     "start_time": "2023-12-10T23:25:58.359982Z"
    }
   },
   "outputs": [
    {
     "data": {
      "text/plain": [
       "0.7468664951782001"
      ]
     },
     "execution_count": 53,
     "metadata": {},
     "output_type": "execute_result"
    }
   ],
   "source": [
    "import random\n",
    "random.random()"
   ]
  },
  {
   "cell_type": "markdown",
   "id": "b904680a",
   "metadata": {},
   "source": [
    "### 1에서 10 사이의 정수 "
   ]
  },
  {
   "cell_type": "code",
   "execution_count": 54,
   "id": "ad843258",
   "metadata": {
    "ExecuteTime": {
     "end_time": "2023-12-10T23:27:52.427408Z",
     "start_time": "2023-12-10T23:27:52.417242Z"
    }
   },
   "outputs": [
    {
     "data": {
      "text/plain": [
       "8"
      ]
     },
     "execution_count": 54,
     "metadata": {},
     "output_type": "execute_result"
    }
   ],
   "source": [
    "random.randint(1, 10)"
   ]
  },
  {
   "cell_type": "markdown",
   "id": "252b4cf5",
   "metadata": {},
   "source": [
    "### 1에서 55 사이의 정수"
   ]
  },
  {
   "cell_type": "code",
   "execution_count": 55,
   "id": "bb816bf8",
   "metadata": {
    "ExecuteTime": {
     "end_time": "2023-12-10T23:27:53.408066Z",
     "start_time": "2023-12-10T23:27:53.400602Z"
    }
   },
   "outputs": [
    {
     "data": {
      "text/plain": [
       "53"
      ]
     },
     "execution_count": 55,
     "metadata": {},
     "output_type": "execute_result"
    }
   ],
   "source": [
    "random.randint(1, 55)"
   ]
  },
  {
   "cell_type": "markdown",
   "id": "d7f303bb",
   "metadata": {},
   "source": [
    "glob\n",
    "pickle\n",
    "os\n",
    "os.getcwd()\n",
    "json: 중요\n",
    "urllib"
   ]
  },
  {
   "cell_type": "code",
   "execution_count": 56,
   "id": "cfebecd8",
   "metadata": {
    "ExecuteTime": {
     "end_time": "2023-12-10T23:28:32.390797Z",
     "start_time": "2023-12-10T23:28:32.381618Z"
    },
    "scrolled": true
   },
   "outputs": [
    {
     "name": "stdout",
     "output_type": "stream",
     "text": [
      "5\n",
      "3\n",
      "4\n",
      "1\n",
      "2\n"
     ]
    }
   ],
   "source": [
    "import random\n",
    "def random_pop(data): #리스트의 요소 중에서 무작위로 하나를 선택\n",
    "    number = random.randint(0, len(data)-1)\n",
    "    return data.pop(number)\n",
    "\n",
    "if __name__ == \"__main__\":\n",
    "    data = [1, 2, 3, 4, 5]\n",
    "    while data: \n",
    "        print(random_pop(data))"
   ]
  },
  {
   "cell_type": "code",
   "execution_count": 57,
   "id": "032212bb",
   "metadata": {
    "ExecuteTime": {
     "end_time": "2023-12-10T23:30:05.109596Z",
     "start_time": "2023-12-10T23:30:05.101260Z"
    },
    "scrolled": true
   },
   "outputs": [
    {
     "name": "stdout",
     "output_type": "stream",
     "text": [
      "4\n",
      "5\n",
      "1\n",
      "2\n",
      "3\n"
     ]
    }
   ],
   "source": [
    "def random_pop(data):\n",
    "    number = random.choice(data)\n",
    "    data.remove(number)\n",
    "    return number\n",
    "\n",
    "data = [1, 2, 3, 4, 5]\n",
    "while data:\n",
    "    print(random_pop(data))"
   ]
  },
  {
   "cell_type": "code",
   "execution_count": null,
   "id": "db6f2f2e",
   "metadata": {},
   "outputs": [],
   "source": [
    "import random\n",
    "data = [1, 2, 3, 4, 5]\n",
    "random.sample(data, len(data)) # 리스트의 항목을 무작위로 섞고 싶을 때"
   ]
  },
  {
   "cell_type": "code",
   "execution_count": null,
   "id": "1049fb78",
   "metadata": {},
   "outputs": [],
   "source": [
    "random.sample(data, 2)"
   ]
  },
  {
   "cell_type": "markdown",
   "id": "b825afaa",
   "metadata": {},
   "source": [
    "## glob\n",
    "- 특정 디렉터리에 있는 파일 이름 모두를 알아야 할 때\n",
    "### 디렉터리에 있는 파일들을 리스트로 만들기 - glob(pathname)"
   ]
  },
  {
   "cell_type": "code",
   "execution_count": 58,
   "id": "b6bcc255",
   "metadata": {
    "ExecuteTime": {
     "end_time": "2023-12-10T23:34:43.074398Z",
     "start_time": "2023-12-10T23:34:43.061785Z"
    },
    "scrolled": true
   },
   "outputs": [
    {
     "data": {
      "text/plain": [
       "['.\\\\06_내장함수&라이브러리.ipynb',\n",
       " '.\\\\300제(삭제 예정).ipynb',\n",
       " '.\\\\test.txt',\n",
       " '.\\\\wassup',\n",
       " '.\\\\새파일.txt']"
      ]
     },
     "execution_count": 58,
     "metadata": {},
     "output_type": "execute_result"
    }
   ],
   "source": [
    "import glob\n",
    "glob.glob(\"./*\")"
   ]
  },
  {
   "cell_type": "code",
   "execution_count": 59,
   "id": "7cb21eb2",
   "metadata": {
    "ExecuteTime": {
     "end_time": "2023-12-10T23:35:10.097322Z",
     "start_time": "2023-12-10T23:35:10.089865Z"
    }
   },
   "outputs": [
    {
     "data": {
      "text/plain": [
       "['.\\\\06_내장함수&라이브러리.ipynb', '.\\\\300제(삭제 예정).ipynb']"
      ]
     },
     "execution_count": 59,
     "metadata": {},
     "output_type": "execute_result"
    }
   ],
   "source": [
    "glob.glob(\"./*.ipynb\")"
   ]
  },
  {
   "cell_type": "code",
   "execution_count": 60,
   "id": "edcc58d3",
   "metadata": {
    "ExecuteTime": {
     "end_time": "2023-12-10T23:35:35.511065Z",
     "start_time": "2023-12-10T23:35:34.256639Z"
    },
    "scrolled": true
   },
   "outputs": [
    {
     "ename": "IndexError",
     "evalue": "list index out of range",
     "output_type": "error",
     "traceback": [
      "\u001b[1;31m---------------------------------------------------------------------------\u001b[0m",
      "\u001b[1;31mIndexError\u001b[0m                                Traceback (most recent call last)",
      "Cell \u001b[1;32mIn[60], line 3\u001b[0m\n\u001b[0;32m      1\u001b[0m \u001b[38;5;66;03m# 파일명 추출하기\u001b[39;00m\n\u001b[0;32m      2\u001b[0m file_list \u001b[38;5;241m=\u001b[39m glob\u001b[38;5;241m.\u001b[39mglob(\u001b[38;5;124m\"\u001b[39m\u001b[38;5;124m*\u001b[39m\u001b[38;5;124m\"\u001b[39m)\n\u001b[1;32m----> 3\u001b[0m file_name \u001b[38;5;241m=\u001b[39m \u001b[38;5;28mlist\u001b[39m(\u001b[38;5;28mmap\u001b[39m(\u001b[38;5;28;01mlambda\u001b[39;00m x: x\u001b[38;5;241m.\u001b[39msplit(\u001b[38;5;124m'\u001b[39m\u001b[38;5;124m.\u001b[39m\u001b[38;5;124m'\u001b[39m)[\u001b[38;5;241m-\u001b[39m\u001b[38;5;241m2\u001b[39m], file_list))\n\u001b[0;32m      4\u001b[0m \u001b[38;5;28mprint\u001b[39m(file_name)\n",
      "Cell \u001b[1;32mIn[60], line 3\u001b[0m, in \u001b[0;36m<lambda>\u001b[1;34m(x)\u001b[0m\n\u001b[0;32m      1\u001b[0m \u001b[38;5;66;03m# 파일명 추출하기\u001b[39;00m\n\u001b[0;32m      2\u001b[0m file_list \u001b[38;5;241m=\u001b[39m glob\u001b[38;5;241m.\u001b[39mglob(\u001b[38;5;124m\"\u001b[39m\u001b[38;5;124m*\u001b[39m\u001b[38;5;124m\"\u001b[39m)\n\u001b[1;32m----> 3\u001b[0m file_name \u001b[38;5;241m=\u001b[39m \u001b[38;5;28mlist\u001b[39m(\u001b[38;5;28mmap\u001b[39m(\u001b[38;5;28;01mlambda\u001b[39;00m x: x\u001b[38;5;241m.\u001b[39msplit(\u001b[38;5;124m'\u001b[39m\u001b[38;5;124m.\u001b[39m\u001b[38;5;124m'\u001b[39m)[\u001b[38;5;241m-\u001b[39m\u001b[38;5;241m2\u001b[39m], file_list))\n\u001b[0;32m      4\u001b[0m \u001b[38;5;28mprint\u001b[39m(file_name)\n",
      "\u001b[1;31mIndexError\u001b[0m: list index out of range"
     ]
    }
   ],
   "source": [
    "# 파일명 추출하기\n",
    "file_list = glob.glob(\"*\")\n",
    "file_name = list(map(lambda x: x.split('.')[-2], file_list))\n",
    "print(file_name)"
   ]
  },
  {
   "cell_type": "markdown",
   "id": "5012c5b3",
   "metadata": {},
   "source": [
    "## os"
   ]
  },
  {
   "cell_type": "markdown",
   "id": "a631b551",
   "metadata": {},
   "source": [
    "# 외부 라이브러리"
   ]
  },
  {
   "cell_type": "code",
   "execution_count": 1,
   "id": "cbc741bc",
   "metadata": {
    "ExecuteTime": {
     "end_time": "2023-12-06T05:25:05.644258Z",
     "start_time": "2023-12-06T05:24:57.636476Z"
    }
   },
   "outputs": [
    {
     "name": "stdout",
     "output_type": "stream",
     "text": [
      "Package                           Version\n",
      "--------------------------------- ---------------\n",
      "aiobotocore                       2.5.0\n",
      "aiofiles                          22.1.0\n",
      "aiohttp                           3.8.5\n",
      "aioitertools                      0.7.1\n",
      "aiosignal                         1.2.0\n",
      "aiosqlite                         0.18.0\n",
      "alabaster                         0.7.12\n",
      "anaconda-anon-usage               0.4.2\n",
      "anaconda-catalogs                 0.2.0\n",
      "anaconda-client                   1.12.1\n",
      "anaconda-cloud-auth               0.1.3\n",
      "anaconda-navigator                2.5.0\n",
      "anaconda-project                  0.11.1\n",
      "anyio                             3.5.0\n",
      "appdirs                           1.4.4\n",
      "argon2-cffi                       21.3.0\n",
      "argon2-cffi-bindings              21.2.0\n",
      "arrow                             1.2.3\n",
      "astroid                           2.14.2\n",
      "astropy                           5.1\n",
      "asttokens                         2.0.5\n",
      "async-timeout                     4.0.2\n",
      "atomicwrites                      1.4.0\n",
      "attrs                             22.1.0\n",
      "Automat                           20.2.0\n",
      "autopep8                          1.6.0\n",
      "Babel                             2.11.0\n",
      "backcall                          0.2.0\n",
      "backports.functools-lru-cache     1.6.4\n",
      "backports.tempfile                1.0\n",
      "backports.weakref                 1.0.post1\n",
      "bcrypt                            3.2.0\n",
      "beautifulsoup4                    4.12.2\n",
      "binaryornot                       0.4.4\n",
      "black                             0.0\n",
      "bleach                            4.1.0\n",
      "bokeh                             3.2.1\n",
      "boltons                           23.0.0\n",
      "botocore                          1.29.76\n",
      "Bottleneck                        1.3.5\n",
      "brotlipy                          0.7.0\n",
      "certifi                           2023.7.22\n",
      "cffi                              1.15.1\n",
      "chardet                           4.0.0\n",
      "charset-normalizer                2.0.4\n",
      "click                             8.0.4\n",
      "cloudpickle                       2.2.1\n",
      "clyent                            1.2.2\n",
      "colorama                          0.4.6\n",
      "colorcet                          3.0.1\n",
      "comm                              0.1.2\n",
      "conda                             23.7.4\n",
      "conda-build                       3.26.1\n",
      "conda-content-trust               0.2.0\n",
      "conda_index                       0.3.0\n",
      "conda-libmamba-solver             23.7.0\n",
      "conda-pack                        0.6.0\n",
      "conda-package-handling            2.2.0\n",
      "conda_package_streaming           0.9.0\n",
      "conda-repo-cli                    1.0.75\n",
      "conda-token                       0.4.0\n",
      "conda-verify                      3.4.2\n",
      "constantly                        15.1.0\n",
      "contourpy                         1.0.5\n",
      "cookiecutter                      1.7.3\n",
      "cryptography                      41.0.3\n",
      "cssselect                         1.1.0\n",
      "cycler                            0.11.0\n",
      "cytoolz                           0.12.0\n",
      "daal4py                           2023.1.1\n",
      "dask                              2023.6.0\n",
      "datasets                          2.12.0\n",
      "datashader                        0.15.2\n",
      "datashape                         0.5.4\n",
      "debugpy                           1.6.7\n",
      "decorator                         5.1.1\n",
      "defusedxml                        0.7.1\n",
      "diff-match-patch                  20200713\n",
      "dill                              0.3.6\n",
      "distributed                       2023.6.0\n",
      "docstring-to-markdown             0.11\n",
      "docutils                          0.18.1\n",
      "entrypoints                       0.4\n",
      "et-xmlfile                        1.1.0\n",
      "executing                         0.8.3\n",
      "fastjsonschema                    2.16.2\n",
      "filelock                          3.9.0\n",
      "flake8                            6.0.0\n",
      "Flask                             2.2.2\n",
      "fonttools                         4.25.0\n",
      "frozenlist                        1.3.3\n",
      "fsspec                            2023.4.0\n",
      "future                            0.18.3\n",
      "gensim                            4.3.0\n",
      "glob2                             0.7\n",
      "greenlet                          2.0.1\n",
      "h5py                              3.9.0\n",
      "HeapDict                          1.0.1\n",
      "holoviews                         1.17.1\n",
      "huggingface-hub                   0.15.1\n",
      "hvplot                            0.8.4\n",
      "hyperlink                         21.0.0\n",
      "idna                              3.4\n",
      "imagecodecs                       2023.1.23\n",
      "imageio                           2.26.0\n",
      "imagesize                         1.4.1\n",
      "imbalanced-learn                  0.10.1\n",
      "importlib-metadata                6.0.0\n",
      "incremental                       21.3.0\n",
      "inflection                        0.5.1\n",
      "iniconfig                         1.1.1\n",
      "intake                            0.6.8\n",
      "intervaltree                      3.1.0\n",
      "ipykernel                         6.25.0\n",
      "ipython                           8.15.0\n",
      "ipython-genutils                  0.2.0\n",
      "ipywidgets                        8.0.4\n",
      "isort                             5.9.3\n",
      "itemadapter                       0.3.0\n",
      "itemloaders                       1.0.4\n",
      "itsdangerous                      2.0.1\n",
      "jaraco.classes                    3.2.1\n",
      "jedi                              0.18.1\n",
      "jellyfish                         1.0.1\n",
      "Jinja2                            3.1.2\n",
      "jinja2-time                       0.2.0\n",
      "jmespath                          0.10.0\n",
      "joblib                            1.2.0\n",
      "json5                             0.9.6\n",
      "jsonpatch                         1.32\n",
      "jsonpointer                       2.1\n",
      "jsonschema                        4.17.3\n",
      "jupyter                           1.0.0\n",
      "jupyter_client                    7.4.9\n",
      "jupyter-console                   6.6.3\n",
      "jupyter-contrib-core              0.4.2\n",
      "jupyter-contrib-nbextensions      0.7.0\n",
      "jupyter_core                      5.3.0\n",
      "jupyter-events                    0.6.3\n",
      "jupyter-highlight-selected-word   0.2.0\n",
      "jupyter-nbextensions-configurator 0.6.3\n",
      "jupyter-server                    1.23.4\n",
      "jupyter_server_fileid             0.9.0\n",
      "jupyter_server_ydoc               0.8.0\n",
      "jupyter-ydoc                      0.2.4\n",
      "jupyterlab                        3.6.3\n",
      "jupyterlab-pygments               0.1.2\n",
      "jupyterlab_server                 2.22.0\n",
      "jupyterlab-widgets                3.0.5\n",
      "kaleido                           0.2.1\n",
      "keyring                           23.13.1\n",
      "kiwisolver                        1.4.4\n",
      "lazy_loader                       0.2\n",
      "lazy-object-proxy                 1.6.0\n",
      "libarchive-c                      2.9\n",
      "libmambapy                        1.5.1\n",
      "linkify-it-py                     2.0.0\n",
      "llvmlite                          0.40.0\n",
      "lmdb                              1.4.1\n",
      "locket                            1.0.0\n",
      "lxml                              4.9.3\n",
      "lz4                               4.3.2\n",
      "Markdown                          3.4.1\n",
      "markdown-it-py                    2.2.0\n",
      "MarkupSafe                        2.1.1\n",
      "matplotlib                        3.7.2\n",
      "matplotlib-inline                 0.1.6\n",
      "mccabe                            0.7.0\n",
      "mdit-py-plugins                   0.3.0\n",
      "mdurl                             0.1.0\n",
      "menuinst                          1.4.19\n",
      "mistune                           0.8.4\n",
      "mkl-fft                           1.3.8\n",
      "mkl-random                        1.2.4\n",
      "mkl-service                       2.4.0\n",
      "more-itertools                    8.12.0\n",
      "mpmath                            1.3.0\n",
      "msgpack                           1.0.3\n",
      "multidict                         6.0.2\n",
      "multipledispatch                  0.6.0\n",
      "multiprocess                      0.70.14\n",
      "munkres                           1.1.4\n",
      "mypy-extensions                   1.0.0\n",
      "navigator-updater                 0.4.0\n",
      "nbclassic                         0.5.5\n",
      "nbclient                          0.5.13\n",
      "nbconvert                         6.5.4\n",
      "nbformat                          5.9.2\n",
      "nest-asyncio                      1.5.6\n",
      "networkx                          3.1\n",
      "nltk                              3.8.1\n",
      "notebook                          6.5.4\n",
      "notebook_shim                     0.2.2\n",
      "numba                             0.57.1\n",
      "numexpr                           2.8.4\n",
      "numpy                             1.24.3\n",
      "numpydoc                          1.5.0\n",
      "openpyxl                          3.0.10\n",
      "packaging                         23.1\n",
      "pandas                            2.0.3\n",
      "pandocfilters                     1.5.0\n",
      "panel                             1.2.3\n",
      "param                             1.13.0\n",
      "paramiko                          2.8.1\n",
      "parsel                            1.6.0\n",
      "parso                             0.8.3\n",
      "partd                             1.4.0\n",
      "pathlib                           1.0.1\n",
      "pathspec                          0.10.3\n",
      "patsy                             0.5.3\n",
      "pep8                              1.7.1\n",
      "pexpect                           4.8.0\n",
      "pickleshare                       0.7.5\n",
      "Pillow                            9.4.0\n",
      "pip                               23.2.1\n",
      "pkce                              1.0.3\n",
      "pkginfo                           1.9.6\n",
      "platformdirs                      3.10.0\n",
      "plotly                            5.9.0\n",
      "pluggy                            1.0.0\n",
      "ply                               3.11\n",
      "poyo                              0.5.0\n",
      "prometheus-client                 0.14.1\n",
      "prompt-toolkit                    3.0.36\n",
      "Protego                           0.1.16\n",
      "psutil                            5.9.0\n",
      "ptyprocess                        0.7.0\n",
      "pure-eval                         0.2.2\n",
      "py-cpuinfo                        8.0.0\n",
      "pyarrow                           11.0.0\n",
      "pyasn1                            0.4.8\n",
      "pyasn1-modules                    0.2.8\n",
      "pycodestyle                       2.10.0\n",
      "pycosat                           0.6.4\n",
      "pycparser                         2.21\n",
      "pyct                              0.5.0\n",
      "pycurl                            7.45.2\n",
      "pydantic                          1.10.8\n",
      "PyDispatcher                      2.0.5\n",
      "pydocstyle                        6.3.0\n",
      "pyerfa                            2.0.0\n",
      "pyflakes                          3.0.1\n",
      "Pygments                          2.15.1\n",
      "PyJWT                             2.4.0\n",
      "pylint                            2.16.2\n",
      "pylint-venv                       2.3.0\n",
      "pyls-spyder                       0.4.0\n",
      "PyNaCl                            1.5.0\n",
      "pyodbc                            4.0.34\n",
      "pyOpenSSL                         23.2.0\n",
      "pyparsing                         3.0.9\n",
      "PyQt5                             5.15.7\n",
      "PyQt5-sip                         12.11.0\n",
      "PyQtWebEngine                     5.15.4\n",
      "pyrsistent                        0.18.0\n",
      "PySocks                           1.7.1\n",
      "pytest                            7.4.0\n",
      "python-dateutil                   2.8.2\n",
      "python-dotenv                     0.21.0\n",
      "python-json-logger                2.0.7\n",
      "python-lsp-black                  1.2.1\n",
      "python-lsp-jsonrpc                1.0.0\n",
      "python-lsp-server                 1.7.2\n",
      "python-slugify                    5.0.2\n",
      "python-snappy                     0.6.1\n",
      "pytoolconfig                      1.2.5\n",
      "pytz                              2023.3.post1\n",
      "pyviz-comms                       2.3.0\n",
      "PyWavelets                        1.4.1\n",
      "pywin32                           305.1\n",
      "pywin32-ctypes                    0.2.0\n",
      "pywinpty                          2.0.10\n",
      "PyYAML                            6.0\n",
      "pyzmq                             23.2.0\n",
      "QDarkStyle                        3.0.2\n",
      "qstylizer                         0.2.2\n",
      "QtAwesome                         1.2.2\n",
      "qtconsole                         5.4.2\n",
      "QtPy                              2.2.0\n",
      "queuelib                          1.5.0\n",
      "regex                             2022.7.9\n",
      "requests                          2.31.0\n",
      "requests-file                     1.5.1\n",
      "requests-toolbelt                 1.0.0\n",
      "responses                         0.13.3\n",
      "rfc3339-validator                 0.1.4\n",
      "rfc3986-validator                 0.1.1\n",
      "rope                              1.7.0\n",
      "Rtree                             1.0.1\n",
      "ruamel.yaml                       0.17.21\n",
      "ruamel-yaml-conda                 0.17.21\n",
      "s3fs                              2023.4.0\n",
      "safetensors                       0.3.2\n",
      "scikit-image                      0.20.0\n",
      "scikit-learn                      1.3.0\n",
      "scikit-learn-intelex              20230426.121932\n",
      "scipy                             1.11.1\n",
      "Scrapy                            2.8.0\n",
      "seaborn                           0.12.2\n",
      "Send2Trash                        1.8.0\n",
      "service-identity                  18.1.0\n",
      "setuptools                        68.0.0\n",
      "sip                               6.6.2\n",
      "six                               1.16.0\n",
      "smart-open                        5.2.1\n",
      "sniffio                           1.2.0\n",
      "snowballstemmer                   2.2.0\n",
      "sortedcontainers                  2.4.0\n",
      "soupsieve                         2.4\n",
      "Sphinx                            5.0.2\n",
      "sphinxcontrib-applehelp           1.0.2\n",
      "sphinxcontrib-devhelp             1.0.2\n",
      "sphinxcontrib-htmlhelp            2.0.0\n",
      "sphinxcontrib-jsmath              1.0.1\n",
      "sphinxcontrib-qthelp              1.0.3\n",
      "sphinxcontrib-serializinghtml     1.1.5\n",
      "spyder                            5.4.3\n",
      "spyder-kernels                    2.4.4\n",
      "SQLAlchemy                        1.4.39\n",
      "stack-data                        0.2.0\n",
      "statsmodels                       0.14.0\n",
      "sympy                             1.11.1\n",
      "tables                            3.8.0\n",
      "tabulate                          0.8.10\n",
      "TBB                               0.2\n",
      "tblib                             1.7.0\n",
      "tenacity                          8.2.2\n",
      "terminado                         0.17.1\n",
      "text-unidecode                    1.3\n",
      "textdistance                      4.2.1\n",
      "threadpoolctl                     2.2.0\n",
      "three-merge                       0.1.1\n",
      "tifffile                          2023.4.12\n",
      "tinycss2                          1.2.1\n",
      "tldextract                        3.2.0\n",
      "tokenizers                        0.13.2\n",
      "toml                              0.10.2\n",
      "tomlkit                           0.11.1\n",
      "toolz                             0.12.0\n",
      "tornado                           6.3.2\n",
      "tqdm                              4.65.0\n",
      "traitlets                         5.7.1\n",
      "transformers                      4.32.1\n",
      "Twisted                           22.10.0\n",
      "twisted-iocpsupport               1.0.2\n",
      "typing_extensions                 4.7.1\n",
      "tzdata                            2023.3\n",
      "uc-micro-py                       1.0.1\n",
      "ujson                             5.4.0\n",
      "Unidecode                         1.2.0\n",
      "urllib3                           1.26.16\n",
      "w3lib                             1.21.0\n",
      "watchdog                          2.1.6\n",
      "wcwidth                           0.2.5\n",
      "webencodings                      0.5.1\n",
      "websocket-client                  0.58.0\n",
      "Werkzeug                          2.2.3\n",
      "whatthepatch                      1.0.2\n",
      "wheel                             0.38.4\n",
      "widgetsnbextension                4.0.5\n",
      "win-inet-pton                     1.1.0\n",
      "wrapt                             1.14.1\n",
      "xarray                            2023.6.0\n",
      "xlwings                           0.29.1\n",
      "xxhash                            2.0.2\n",
      "xyzservices                       2022.9.0\n",
      "y-py                              0.5.9\n",
      "yapf                              0.31.0\n",
      "yarl                              1.8.1\n",
      "ypy-websocket                     0.8.2\n",
      "zict                              2.2.0\n",
      "zipp                              3.11.0\n",
      "zope.interface                    5.4.0\n",
      "zstandard                         0.19.0\n",
      "Note: you may need to restart the kernel to use updated packages.\n"
     ]
    }
   ],
   "source": [
    "pip list"
   ]
  },
  {
   "cell_type": "code",
   "execution_count": 2,
   "id": "ee841328",
   "metadata": {
    "ExecuteTime": {
     "end_time": "2023-12-06T05:26:22.285733Z",
     "start_time": "2023-12-06T05:26:21.057386Z"
    }
   },
   "outputs": [
    {
     "name": "stdout",
     "output_type": "stream",
     "text": [
      "pip 23.2.1 from C:\\Users\\minji\\anaconda3\\Lib\\site-packages\\pip (python 3.11)\n",
      "\n",
      "Note: you may need to restart the kernel to use updated packages.\n"
     ]
    }
   ],
   "source": [
    "pip --version"
   ]
  },
  {
   "cell_type": "code",
   "execution_count": 3,
   "id": "6da35e06",
   "metadata": {
    "ExecuteTime": {
     "end_time": "2023-12-06T05:27:22.198919Z",
     "start_time": "2023-12-06T05:26:51.183294Z"
    }
   },
   "outputs": [
    {
     "name": "stdout",
     "output_type": "stream",
     "text": [
      "^C\n",
      "Note: you may need to restart the kernel to use updated packages.\n"
     ]
    }
   ],
   "source": [
    "pip install --upgrade pip"
   ]
  },
  {
   "cell_type": "code",
   "execution_count": 4,
   "id": "c2ed659f",
   "metadata": {
    "ExecuteTime": {
     "end_time": "2023-12-06T05:27:45.636509Z",
     "start_time": "2023-12-06T05:27:34.286546Z"
    }
   },
   "outputs": [
    {
     "name": "stdout",
     "output_type": "stream",
     "text": [
      "# packages in environment at C:\\Users\\minji\\anaconda3:\n",
      "#\n",
      "# Name                    Version                   Build  Channel\n",
      "_anaconda_depends         2023.09             py311_mkl_1  \n",
      "abseil-cpp                20211102.0           hd77b12b_0  \n",
      "aiobotocore               2.5.0           py311haa95532_0  \n",
      "aiofiles                  22.1.0          py311haa95532_0  \n",
      "aiohttp                   3.8.5           py311h2bbff1b_0  \n",
      "aioitertools              0.7.1              pyhd3eb1b0_0  \n",
      "aiosignal                 1.2.0              pyhd3eb1b0_0  \n",
      "aiosqlite                 0.18.0          py311haa95532_0  \n",
      "alabaster                 0.7.12             pyhd3eb1b0_0  \n",
      "anaconda-anon-usage       0.4.2           py311hfc23b7f_0  \n",
      "anaconda-catalogs         0.2.0           py311haa95532_0  \n",
      "anaconda-client           1.12.1          py311haa95532_0  \n",
      "anaconda-cloud-auth       0.1.3           py311haa95532_0  \n",
      "anaconda-navigator        2.5.0           py311haa95532_0  \n",
      "anaconda-project          0.11.1          py311haa95532_0  \n",
      "anyio                     3.5.0           py311haa95532_0  \n",
      "aom                       3.6.0                hd77b12b_0  \n",
      "appdirs                   1.4.4              pyhd3eb1b0_0  \n",
      "argon2-cffi               21.3.0             pyhd3eb1b0_0  \n",
      "argon2-cffi-bindings      21.2.0          py311h2bbff1b_0  \n",
      "arrow                     1.2.3           py311haa95532_1  \n",
      "arrow-cpp                 11.0.0               ha81ea56_2  \n",
      "astroid                   2.14.2          py311haa95532_0  \n",
      "astropy                   5.1             py311h5bb9823_0  \n",
      "asttokens                 2.0.5              pyhd3eb1b0_0  \n",
      "async-timeout             4.0.2           py311haa95532_0  \n",
      "atomicwrites              1.4.0                      py_0  \n",
      "attrs                     22.1.0          py311haa95532_0  \n",
      "automat                   20.2.0                     py_0  \n",
      "autopep8                  1.6.0              pyhd3eb1b0_1  \n",
      "aws-c-common              0.6.8                h2bbff1b_1  \n",
      "aws-c-event-stream        0.1.6                hd77b12b_6  \n",
      "aws-checksums             0.1.11               h2bbff1b_2  \n",
      "aws-sdk-cpp               1.8.185              hd77b12b_1  \n",
      "babel                     2.11.0          py311haa95532_0  \n",
      "backcall                  0.2.0              pyhd3eb1b0_0  \n",
      "backports                 1.1                pyhd3eb1b0_0  \n",
      "backports.functools_lru_cache 1.6.4              pyhd3eb1b0_0  \n",
      "backports.tempfile        1.0                pyhd3eb1b0_1  \n",
      "backports.weakref         1.0.post1                  py_1  \n",
      "bcrypt                    3.2.0           py311h2bbff1b_1  \n",
      "beautifulsoup4            4.12.2          py311haa95532_0  \n",
      "binaryornot               0.4.4              pyhd3eb1b0_1  \n",
      "black                     23.3.0          py311haa95532_0  \n",
      "blas                      1.0                         mkl  \n",
      "bleach                    4.1.0              pyhd3eb1b0_0  \n",
      "blosc                     1.21.3               h6c2663c_0  \n",
      "bokeh                     3.2.1           py311h746a85d_0  \n",
      "boltons                   23.0.0          py311haa95532_0  \n",
      "boost-cpp                 1.82.0               h59b6b97_1  \n",
      "botocore                  1.29.76         py311haa95532_0  \n",
      "bottleneck                1.3.5           py311h5bb9823_0  \n",
      "brotli                    1.0.9                h2bbff1b_7  \n",
      "brotli-bin                1.0.9                h2bbff1b_7  \n",
      "brotlipy                  0.7.0           py311h2bbff1b_1002  \n",
      "bzip2                     1.0.8                he774522_0  \n",
      "c-ares                    1.19.1               h2bbff1b_0  \n",
      "c-blosc2                  2.8.0                hd77b12b_0  \n",
      "ca-certificates           2023.08.22           haa95532_0  \n",
      "certifi                   2023.7.22       py311haa95532_0  \n",
      "cffi                      1.15.1          py311h2bbff1b_3  \n",
      "cfitsio                   3.470                h2bbff1b_7  \n",
      "chardet                   4.0.0           py311haa95532_1003  \n",
      "charls                    2.2.0                h6c2663c_0  \n",
      "charset-normalizer        2.0.4              pyhd3eb1b0_0  \n",
      "click                     8.0.4           py311haa95532_0  \n",
      "cloudpickle               2.2.1           py311haa95532_0  \n",
      "clyent                    1.2.2           py311haa95532_1  \n",
      "colorama                  0.4.6           py311haa95532_0  \n",
      "colorcet                  3.0.1           py311haa95532_0  \n",
      "comm                      0.1.2           py311haa95532_0  \n",
      "conda                     23.7.4          py311haa95532_0  \n",
      "conda-build               3.26.1          py311haa95532_0  \n",
      "conda-content-trust       0.2.0           py311haa95532_0  \n",
      "conda-index               0.3.0           py311haa95532_0  \n",
      "conda-libmamba-solver     23.7.0          py311haa95532_0  \n",
      "conda-pack                0.6.0              pyhd3eb1b0_0  \n",
      "conda-package-handling    2.2.0           py311haa95532_0  \n",
      "conda-package-streaming   0.9.0           py311haa95532_0  \n",
      "conda-repo-cli            1.0.75          py311haa95532_0  \n",
      "conda-token               0.4.0              pyhd3eb1b0_0  \n",
      "conda-verify              3.4.2                      py_1  \n",
      "console_shortcut          0.1.1                         4  \n",
      "constantly                15.1.0          py311haa95532_0  \n",
      "contourpy                 1.0.5           py311h59b6b97_0  \n",
      "cookiecutter              1.7.3              pyhd3eb1b0_0  \n",
      "cryptography              41.0.3          py311h89fc84f_0  \n",
      "cssselect                 1.1.0              pyhd3eb1b0_0  \n",
      "curl                      8.1.1                h2bbff1b_0  \n",
      "cycler                    0.11.0             pyhd3eb1b0_0  \n",
      "cytoolz                   0.12.0          py311h2bbff1b_0  \n",
      "daal4py                   2023.1.1        py311h30df693_0  \n",
      "dal                       2023.1.1         h59b6b97_48681  \n",
      "dask                      2023.6.0        py311haa95532_0  \n",
      "dask-core                 2023.6.0        py311haa95532_0  \n",
      "datasets                  2.12.0          py311haa95532_0  \n",
      "datashader                0.15.2          py311haa95532_0  \n",
      "datashape                 0.5.4           py311haa95532_1  \n",
      "dav1d                     1.2.1                h2bbff1b_0  \n",
      "debugpy                   1.6.7           py311hd77b12b_0  \n",
      "decorator                 5.1.1              pyhd3eb1b0_0  \n",
      "defusedxml                0.7.1              pyhd3eb1b0_0  \n",
      "diff-match-patch          20200713           pyhd3eb1b0_0  \n",
      "dill                      0.3.6           py311haa95532_0  \n",
      "distributed               2023.6.0        py311haa95532_0  \n",
      "docstring-to-markdown     0.11            py311haa95532_0  \n",
      "docutils                  0.18.1          py311haa95532_3  \n",
      "entrypoints               0.4             py311haa95532_0  \n",
      "et_xmlfile                1.1.0           py311haa95532_0  \n",
      "executing                 0.8.3              pyhd3eb1b0_0  \n",
      "filelock                  3.9.0           py311haa95532_0  \n",
      "flake8                    6.0.0           py311haa95532_0  \n",
      "flask                     2.2.2           py311haa95532_0  \n",
      "fmt                       9.1.0                h6d14046_0  \n",
      "fonttools                 4.25.0             pyhd3eb1b0_0  \n",
      "freetype                  2.12.1               ha860e81_0  \n",
      "frozenlist                1.3.3           py311h2bbff1b_0  \n",
      "fsspec                    2023.4.0        py311haa95532_0  \n",
      "future                    0.18.3          py311haa95532_0  \n",
      "gensim                    4.3.0           py311heda8569_0  \n",
      "gflags                    2.2.2                ha925a31_0  \n",
      "giflib                    5.2.1                h8cc25b3_3  \n",
      "glib                      2.69.1               h5dc1a3c_2  \n",
      "glob2                     0.7                pyhd3eb1b0_0  \n",
      "glog                      0.5.0                hd77b12b_0  \n",
      "greenlet                  2.0.1           py311hd77b12b_0  \n",
      "grpc-cpp                  1.48.2               hfe90ff0_1  \n",
      "h5py                      3.9.0           py311h4e0e482_0  \n",
      "hdf5                      1.12.1               h51c971a_3  \n",
      "heapdict                  1.0.1              pyhd3eb1b0_0  \n",
      "holoviews                 1.17.1          py311haa95532_0  \n",
      "huggingface_hub           0.15.1          py311haa95532_0  \n",
      "hvplot                    0.8.4           py311haa95532_0  \n",
      "hyperlink                 21.0.0             pyhd3eb1b0_0  \n",
      "icc_rt                    2022.1.0             h6049295_2  \n",
      "icu                       58.2                 ha925a31_3  \n",
      "idna                      3.4             py311haa95532_0  \n",
      "imagecodecs               2023.1.23       py311he6ff3c7_0  \n",
      "imageio                   2.26.0          py311haa95532_0  \n",
      "imagesize                 1.4.1           py311haa95532_0  \n",
      "imbalanced-learn          0.10.1          py311haa95532_1  \n",
      "importlib-metadata        6.0.0           py311haa95532_0  \n",
      "importlib_metadata        6.0.0                hd3eb1b0_0  \n",
      "incremental               21.3.0             pyhd3eb1b0_0  \n",
      "inflection                0.5.1           py311haa95532_0  \n",
      "iniconfig                 1.1.1              pyhd3eb1b0_0  \n",
      "intake                    0.6.8           py311haa95532_0  \n",
      "intel-openmp              2023.1.0         h59b6b97_46319  \n",
      "intervaltree              3.1.0              pyhd3eb1b0_0  \n",
      "ipykernel                 6.25.0          py311h746a85d_0  \n",
      "ipython                   8.15.0          py311haa95532_0  \n",
      "ipython_genutils          0.2.0              pyhd3eb1b0_1  \n",
      "ipywidgets                8.0.4           py311haa95532_0  \n",
      "isort                     5.9.3              pyhd3eb1b0_0  \n",
      "itemadapter               0.3.0              pyhd3eb1b0_0  \n",
      "itemloaders               1.0.4              pyhd3eb1b0_1  \n",
      "itsdangerous              2.0.1              pyhd3eb1b0_0  \n",
      "jaraco.classes            3.2.1              pyhd3eb1b0_0  \n",
      "jedi                      0.18.1          py311haa95532_1  \n",
      "jellyfish                 1.0.1           py311h36a85e1_0  \n",
      "jinja2                    3.1.2           py311haa95532_0  \n",
      "jinja2-time               0.2.0              pyhd3eb1b0_3  \n",
      "jmespath                  0.10.0             pyhd3eb1b0_0  \n",
      "joblib                    1.2.0           py311haa95532_0  \n",
      "jpeg                      9e                   h2bbff1b_1  \n",
      "jq                        1.6                  haa95532_1  \n",
      "json5                     0.9.6              pyhd3eb1b0_0  \n",
      "jsonpatch                 1.32               pyhd3eb1b0_0  \n",
      "jsonpointer               2.1                pyhd3eb1b0_0  \n",
      "jsonschema                4.17.3          py311haa95532_0  \n",
      "jupyter                   1.0.0           py311haa95532_8  \n",
      "jupyter-contrib-core      0.4.2                    pypi_0    pypi\n",
      "jupyter-contrib-nbextensions 0.7.0                    pypi_0    pypi\n",
      "jupyter-highlight-selected-word 0.2.0                    pypi_0    pypi\n",
      "jupyter-nbextensions-configurator 0.6.3                    pypi_0    pypi\n",
      "jupyter_client            7.4.9           py311haa95532_0  \n",
      "jupyter_console           6.6.3           py311haa95532_0  \n",
      "jupyter_core              5.3.0           py311haa95532_0  \n",
      "jupyter_events            0.6.3           py311haa95532_0  \n",
      "jupyter_server            1.23.4          py311haa95532_0  \n",
      "jupyter_server_fileid     0.9.0           py311haa95532_0  \n",
      "jupyter_server_ydoc       0.8.0           py311haa95532_1  \n",
      "jupyter_ydoc              0.2.4           py311haa95532_0  \n",
      "jupyterlab                3.6.3           py311haa95532_0  \n",
      "jupyterlab_pygments       0.1.2                      py_0  \n",
      "jupyterlab_server         2.22.0          py311haa95532_0  \n",
      "jupyterlab_widgets        3.0.5           py311haa95532_0  \n",
      "kaleido-core              0.2.1                h2bbff1b_0  \n",
      "keyring                   23.13.1         py311haa95532_0  \n",
      "kiwisolver                1.4.4           py311hd77b12b_0  \n",
      "krb5                      1.20.1               h5b6d351_0  \n",
      "lazy-object-proxy         1.6.0           py311h2bbff1b_0  \n",
      "lazy_loader               0.2             py311haa95532_0  \n",
      "lcms2                     2.12                 h83e58a3_0  \n",
      "lerc                      3.0                  hd77b12b_0  \n",
      "libaec                    1.0.4                h33f27b4_1  \n",
      "libarchive                3.6.2                hb62f4d4_2  \n",
      "libavif                   0.11.1               h2bbff1b_0  \n",
      "libboost                  1.82.0               hae598e9_1  \n",
      "libbrotlicommon           1.0.9                h2bbff1b_7  \n",
      "libbrotlidec              1.0.9                h2bbff1b_7  \n",
      "libbrotlienc              1.0.9                h2bbff1b_7  \n",
      "libclang                  14.0.6          default_hb5a9fac_1  \n",
      "libclang13                14.0.6          default_h8e68704_1  \n",
      "libcurl                   8.1.1                h86230a5_0  \n",
      "libdeflate                1.17                 h2bbff1b_0  \n",
      "libevent                  2.1.12               h56d1f94_1  \n",
      "libffi                    3.4.4                hd77b12b_0  \n",
      "libiconv                  1.16                 h2bbff1b_2  \n",
      "liblief                   0.12.3               hd77b12b_0  \n",
      "libmamba                  1.5.1                hcd6fe79_0  \n",
      "libmambapy                1.5.1           py311h77c03ed_0  \n",
      "libpng                    1.6.39               h8cc25b3_0  \n",
      "libpq                     12.15                h906ac69_1  \n",
      "libprotobuf               3.20.3               h23ce68f_0  \n",
      "libsodium                 1.0.18               h62dcd97_0  \n",
      "libsolv                   0.7.24               h23ce68f_0  \n",
      "libspatialindex           1.9.3                h6c2663c_0  \n",
      "libssh2                   1.10.0               he2ea4bf_2  \n",
      "libthrift                 0.15.0               h4364b78_2  \n",
      "libtiff                   4.5.1                hd77b12b_0  \n",
      "libwebp                   1.3.2                hbc33d0d_0  \n",
      "libwebp-base              1.3.2                h2bbff1b_0  \n",
      "libxml2                   2.10.4               h0ad7f3c_1  \n",
      "libxslt                   1.1.37               h2bbff1b_1  \n",
      "libzopfli                 1.0.3                ha925a31_0  \n",
      "linkify-it-py             2.0.0           py311haa95532_0  \n",
      "llvmlite                  0.40.0          py311hf2fb9eb_0  \n",
      "locket                    1.0.0           py311haa95532_0  \n",
      "lxml                      4.9.3           py311h09808a7_0  \n",
      "lz4                       4.3.2           py311h2bbff1b_0  \n",
      "lz4-c                     1.9.4                h2bbff1b_0  \n",
      "lzo                       2.10                 he774522_2  \n",
      "m2-msys2-runtime          2.5.0.17080.65c939c               3  \n",
      "m2-patch                  2.7.5                         2  \n",
      "m2w64-libwinpthread-git   5.0.0.4634.697f757               2  \n",
      "markdown                  3.4.1           py311haa95532_0  \n",
      "markdown-it-py            2.2.0           py311haa95532_1  \n",
      "markupsafe                2.1.1           py311h2bbff1b_0  \n",
      "mathjax                   2.7.5                haa95532_0  \n",
      "matplotlib                3.7.2           py311haa95532_0  \n",
      "matplotlib-base           3.7.2           py311hf62ec03_0  \n",
      "matplotlib-inline         0.1.6           py311haa95532_0  \n",
      "mccabe                    0.7.0              pyhd3eb1b0_0  \n",
      "mdit-py-plugins           0.3.0           py311haa95532_0  \n",
      "mdurl                     0.1.0           py311haa95532_0  \n",
      "menuinst                  1.4.19          py311h59b6b97_1  \n",
      "mistune                   0.8.4           py311h2bbff1b_1000  \n",
      "mkl                       2023.1.0         h6b88ed4_46357  \n",
      "mkl-service               2.4.0           py311h2bbff1b_1  \n",
      "mkl_fft                   1.3.8           py311h2bbff1b_0  \n",
      "mkl_random                1.2.4           py311h59b6b97_0  \n",
      "more-itertools            8.12.0             pyhd3eb1b0_0  \n",
      "mpmath                    1.3.0           py311haa95532_0  \n",
      "msgpack-python            1.0.3           py311h59b6b97_0  \n",
      "msys2-conda-epoch         20160418                      1  \n",
      "multidict                 6.0.2           py311h2bbff1b_0  \n",
      "multipledispatch          0.6.0           py311haa95532_0  \n",
      "multiprocess              0.70.14         py311haa95532_0  \n",
      "munkres                   1.1.4                      py_0  \n",
      "mypy_extensions           1.0.0           py311haa95532_0  \n",
      "navigator-updater         0.4.0           py311haa95532_1  \n",
      "nbclassic                 0.5.5           py311haa95532_0  \n",
      "nbclient                  0.5.13          py311haa95532_0  \n",
      "nbconvert                 6.5.4           py311haa95532_0  \n",
      "nbformat                  5.9.2           py311haa95532_0  \n",
      "nest-asyncio              1.5.6           py311haa95532_0  \n",
      "networkx                  3.1             py311haa95532_0  \n",
      "nltk                      3.8.1           py311haa95532_0  \n",
      "notebook                  6.5.4           py311haa95532_1  \n",
      "notebook-shim             0.2.2           py311haa95532_0  \n",
      "numba                     0.57.1          py311hf62ec03_0  \n",
      "numexpr                   2.8.4           py311h1fcbade_1  \n",
      "numpy                     1.24.3          py311hdab7c0b_1  \n",
      "numpy-base                1.24.3          py311hd01c5d8_1  \n",
      "numpydoc                  1.5.0           py311haa95532_0  \n",
      "openjpeg                  2.4.0                h4fc8c34_0  \n",
      "openpyxl                  3.0.10          py311h2bbff1b_0  \n",
      "openssl                   3.0.10               h2bbff1b_2  \n",
      "orc                       1.7.4                h623e30f_1  \n",
      "packaging                 23.1            py311haa95532_0  \n",
      "pandas                    2.0.3           py311hf62ec03_0  \n",
      "pandocfilters             1.5.0              pyhd3eb1b0_0  \n",
      "panel                     1.2.3           py311haa95532_0  \n",
      "param                     1.13.0          py311haa95532_0  \n",
      "paramiko                  2.8.1              pyhd3eb1b0_0  \n",
      "parsel                    1.6.0           py311haa95532_0  \n",
      "parso                     0.8.3              pyhd3eb1b0_0  \n",
      "partd                     1.4.0           py311haa95532_0  \n",
      "pathlib                   1.0.1              pyhd3eb1b0_1  \n",
      "pathspec                  0.10.3          py311haa95532_0  \n",
      "patsy                     0.5.3           py311haa95532_0  \n",
      "pcre                      8.45                 hd77b12b_0  \n",
      "pcre2                     10.42                h0ff8eda_0  \n",
      "pep8                      1.7.1           py311haa95532_1  \n",
      "pexpect                   4.8.0              pyhd3eb1b0_3  \n",
      "pickleshare               0.7.5           pyhd3eb1b0_1003  \n",
      "pillow                    9.4.0           py311hd77b12b_1  \n",
      "pip                       23.2.1          py311haa95532_0  \n",
      "pkce                      1.0.3           py311haa95532_0  \n",
      "pkginfo                   1.9.6           py311haa95532_0  \n",
      "platformdirs              3.10.0          py311haa95532_0  \n",
      "plotly                    5.9.0           py311haa95532_0  \n",
      "pluggy                    1.0.0           py311haa95532_1  \n",
      "ply                       3.11            py311haa95532_0  \n",
      "powershell_shortcut       0.0.1                         3  \n",
      "poyo                      0.5.0              pyhd3eb1b0_0  \n",
      "prometheus_client         0.14.1          py311haa95532_0  \n",
      "prompt-toolkit            3.0.36          py311haa95532_0  \n",
      "prompt_toolkit            3.0.36               hd3eb1b0_0  \n",
      "protego                   0.1.16                     py_0  \n",
      "psutil                    5.9.0           py311h2bbff1b_0  \n",
      "ptyprocess                0.7.0              pyhd3eb1b0_2  \n",
      "pure_eval                 0.2.2              pyhd3eb1b0_0  \n",
      "py-cpuinfo                8.0.0              pyhd3eb1b0_1  \n",
      "py-lief                   0.12.3          py311hd77b12b_0  \n",
      "pyarrow                   11.0.0          py311h8a3a540_1  \n",
      "pyasn1                    0.4.8              pyhd3eb1b0_0  \n",
      "pyasn1-modules            0.2.8                      py_0  \n",
      "pybind11-abi              4                    hd3eb1b0_1  \n",
      "pycodestyle               2.10.0          py311haa95532_0  \n",
      "pycosat                   0.6.4           py311h2bbff1b_0  \n",
      "pycparser                 2.21               pyhd3eb1b0_0  \n",
      "pyct                      0.5.0           py311haa95532_0  \n",
      "pycurl                    7.45.2          py311he2ea4bf_1  \n",
      "pydantic                  1.10.8          py311h2bbff1b_0  \n",
      "pydispatcher              2.0.5           py311haa95532_2  \n",
      "pydocstyle                6.3.0           py311haa95532_0  \n",
      "pyerfa                    2.0.0           py311h2bbff1b_0  \n",
      "pyflakes                  3.0.1           py311haa95532_0  \n",
      "pygments                  2.15.1          py311haa95532_1  \n",
      "pyjwt                     2.4.0           py311haa95532_0  \n",
      "pylint                    2.16.2          py311haa95532_0  \n",
      "pylint-venv               2.3.0           py311haa95532_0  \n",
      "pyls-spyder               0.4.0              pyhd3eb1b0_0  \n",
      "pynacl                    1.5.0           py311h8cc25b3_0  \n",
      "pyodbc                    4.0.34          py311hd77b12b_0  \n",
      "pyopenssl                 23.2.0          py311haa95532_0  \n",
      "pyparsing                 3.0.9           py311haa95532_0  \n",
      "pyqt                      5.15.7          py311hd77b12b_0  \n",
      "pyqt5-sip                 12.11.0         py311hd77b12b_0  \n",
      "pyqtwebengine             5.15.7          py311hd77b12b_0  \n",
      "pyrsistent                0.18.0          py311h2bbff1b_0  \n",
      "pysocks                   1.7.1           py311haa95532_0  \n",
      "pytables                  3.8.0           py311h4671533_3  \n",
      "pytest                    7.4.0           py311haa95532_0  \n",
      "python                    3.11.5               he1021f5_0  \n",
      "python-dateutil           2.8.2              pyhd3eb1b0_0  \n",
      "python-dotenv             0.21.0          py311haa95532_0  \n",
      "python-fastjsonschema     2.16.2          py311haa95532_0  \n",
      "python-json-logger        2.0.7           py311haa95532_0  \n",
      "python-kaleido            0.2.1           py311haa95532_0  \n",
      "python-libarchive-c       2.9                pyhd3eb1b0_1  \n",
      "python-lmdb               1.4.1           py311hd77b12b_0  \n",
      "python-lsp-black          1.2.1           py311haa95532_0  \n",
      "python-lsp-jsonrpc        1.0.0              pyhd3eb1b0_0  \n",
      "python-lsp-server         1.7.2           py311haa95532_0  \n",
      "python-slugify            5.0.2              pyhd3eb1b0_0  \n",
      "python-snappy             0.6.1           py311hd77b12b_0  \n",
      "python-tzdata             2023.3             pyhd3eb1b0_0  \n",
      "python-xxhash             2.0.2           py311h2bbff1b_1  \n",
      "pytoolconfig              1.2.5           py311haa95532_1  \n",
      "pytz                      2023.3.post1    py311haa95532_0  \n",
      "pyviz_comms               2.3.0           py311haa95532_0  \n",
      "pywavelets                1.4.1           py311h2bbff1b_0  \n",
      "pywin32                   305             py311h2bbff1b_0  \n",
      "pywin32-ctypes            0.2.0           py311haa95532_1000  \n",
      "pywinpty                  2.0.10          py311h5da7b33_0  \n",
      "pyyaml                    6.0             py311h2bbff1b_1  \n",
      "pyzmq                     23.2.0          py311hd77b12b_0  \n",
      "qdarkstyle                3.0.2              pyhd3eb1b0_0  \n",
      "qstylizer                 0.2.2           py311haa95532_0  \n",
      "qt-main                   5.15.2               h879a1e9_9  \n",
      "qt-webengine              5.15.9               h5bd16bc_7  \n",
      "qtawesome                 1.2.2           py311haa95532_0  \n",
      "qtconsole                 5.4.2           py311haa95532_0  \n",
      "qtpy                      2.2.0           py311haa95532_0  \n",
      "qtwebkit                  5.212                h2bbfb41_5  \n",
      "queuelib                  1.5.0           py311haa95532_0  \n",
      "re2                       2022.04.01           hd77b12b_0  \n",
      "regex                     2022.7.9        py311h2bbff1b_0  \n",
      "reproc                    14.2.4               hd77b12b_1  \n",
      "reproc-cpp                14.2.4               hd77b12b_1  \n",
      "requests                  2.31.0          py311haa95532_0  \n",
      "requests-file             1.5.1              pyhd3eb1b0_0  \n",
      "requests-toolbelt         1.0.0           py311haa95532_0  \n",
      "responses                 0.13.3             pyhd3eb1b0_0  \n",
      "rfc3339-validator         0.1.4           py311haa95532_0  \n",
      "rfc3986-validator         0.1.1           py311haa95532_0  \n",
      "rope                      1.7.0           py311haa95532_0  \n",
      "rtree                     1.0.1           py311h2eaa2aa_0  \n",
      "ruamel.yaml               0.17.21         py311h2bbff1b_0  \n",
      "ruamel_yaml               0.17.21         py311h2bbff1b_0  \n",
      "s3fs                      2023.4.0        py311haa95532_0  \n",
      "safetensors               0.3.2           py311h062c2fa_0  \n",
      "scikit-image              0.20.0          py311h3513d60_0  \n",
      "scikit-learn              1.3.0           py311hf62ec03_0  \n",
      "scikit-learn-intelex      2023.1.1        py311haa95532_0  \n",
      "scipy                     1.11.1          py311hc1ccb85_0  \n",
      "scrapy                    2.8.0           py311haa95532_0  \n",
      "seaborn                   0.12.2          py311haa95532_0  \n",
      "send2trash                1.8.0              pyhd3eb1b0_1  \n",
      "service_identity          18.1.0             pyhd3eb1b0_1  \n",
      "setuptools                68.0.0          py311haa95532_0  \n",
      "sip                       6.6.2           py311hd77b12b_0  \n",
      "six                       1.16.0             pyhd3eb1b0_1  \n",
      "smart_open                5.2.1           py311haa95532_0  \n",
      "snappy                    1.1.9                h6c2663c_0  \n",
      "sniffio                   1.2.0           py311haa95532_1  \n",
      "snowballstemmer           2.2.0              pyhd3eb1b0_0  \n",
      "sortedcontainers          2.4.0              pyhd3eb1b0_0  \n",
      "soupsieve                 2.4             py311haa95532_0  \n",
      "sphinx                    5.0.2           py311haa95532_0  \n",
      "sphinxcontrib-applehelp   1.0.2              pyhd3eb1b0_0  \n",
      "sphinxcontrib-devhelp     1.0.2              pyhd3eb1b0_0  \n",
      "sphinxcontrib-htmlhelp    2.0.0              pyhd3eb1b0_0  \n",
      "sphinxcontrib-jsmath      1.0.1              pyhd3eb1b0_0  \n",
      "sphinxcontrib-qthelp      1.0.3              pyhd3eb1b0_0  \n",
      "sphinxcontrib-serializinghtml 1.1.5              pyhd3eb1b0_0  \n",
      "spyder                    5.4.3           py311haa95532_1  \n",
      "spyder-kernels            2.4.4           py311haa95532_0  \n",
      "sqlalchemy                1.4.39          py311h2bbff1b_0  \n",
      "sqlite                    3.41.2               h2bbff1b_0  \n",
      "stack_data                0.2.0              pyhd3eb1b0_0  \n",
      "statsmodels               0.14.0          py311hd7041d2_0  \n",
      "sympy                     1.11.1          py311haa95532_0  \n",
      "tabulate                  0.8.10          py311haa95532_0  \n",
      "tbb                       2021.8.0             h59b6b97_0  \n",
      "tbb4py                    2021.8.0        py311h59b6b97_0  \n",
      "tblib                     1.7.0              pyhd3eb1b0_0  \n",
      "tenacity                  8.2.2           py311haa95532_0  \n",
      "terminado                 0.17.1          py311haa95532_0  \n",
      "text-unidecode            1.3                pyhd3eb1b0_0  \n",
      "textdistance              4.2.1              pyhd3eb1b0_0  \n",
      "threadpoolctl             2.2.0              pyh0d69192_0  \n",
      "three-merge               0.1.1              pyhd3eb1b0_0  \n",
      "tifffile                  2023.4.12       py311haa95532_0  \n",
      "tinycss2                  1.2.1           py311haa95532_0  \n",
      "tk                        8.6.12               h2bbff1b_0  \n",
      "tldextract                3.2.0              pyhd3eb1b0_0  \n",
      "tokenizers                0.13.2          py311h49fca51_1  \n",
      "toml                      0.10.2             pyhd3eb1b0_0  \n",
      "tomlkit                   0.11.1          py311haa95532_0  \n",
      "toolz                     0.12.0          py311haa95532_0  \n",
      "tornado                   6.3.2           py311h2bbff1b_0  \n",
      "tqdm                      4.65.0          py311h746a85d_0  \n",
      "traitlets                 5.7.1           py311haa95532_0  \n",
      "transformers              4.32.1          py311haa95532_0  \n",
      "twisted                   22.10.0         py311h2bbff1b_0  \n",
      "twisted-iocpsupport       1.0.2           py311h2bbff1b_0  \n",
      "typing-extensions         4.7.1           py311haa95532_0  \n",
      "typing_extensions         4.7.1           py311haa95532_0  \n",
      "tzdata                    2023c                h04d1e81_0  \n",
      "uc-micro-py               1.0.1           py311haa95532_0  \n",
      "ujson                     5.4.0           py311hd77b12b_0  \n",
      "unidecode                 1.2.0              pyhd3eb1b0_0  \n",
      "urllib3                   1.26.16         py311haa95532_0  \n",
      "utf8proc                  2.6.1                h2bbff1b_0  \n",
      "vc                        14.2                 h21ff451_1  \n",
      "vs2015_runtime            14.27.29016          h5e58377_2  \n",
      "w3lib                     1.21.0             pyhd3eb1b0_0  \n",
      "watchdog                  2.1.6           py311haa95532_0  \n",
      "wcwidth                   0.2.5              pyhd3eb1b0_0  \n",
      "webencodings              0.5.1           py311haa95532_1  \n",
      "websocket-client          0.58.0          py311haa95532_4  \n",
      "werkzeug                  2.2.3           py311haa95532_0  \n",
      "whatthepatch              1.0.2           py311haa95532_0  \n",
      "wheel                     0.38.4          py311haa95532_0  \n",
      "widgetsnbextension        4.0.5           py311haa95532_0  \n",
      "win_inet_pton             1.1.0           py311haa95532_0  \n",
      "winpty                    0.4.3                         4  \n",
      "wrapt                     1.14.1          py311h2bbff1b_0  \n",
      "xarray                    2023.6.0        py311haa95532_0  \n",
      "xlwings                   0.29.1          py311haa95532_0  \n",
      "xxhash                    0.8.0                h2bbff1b_3  \n",
      "xyzservices               2022.9.0        py311haa95532_1  \n",
      "xz                        5.4.2                h8cc25b3_0  \n",
      "y-py                      0.5.9           py311hb6bf4ef_0  \n",
      "yaml                      0.2.5                he774522_0  \n",
      "yaml-cpp                  0.7.0                hd77b12b_1  \n",
      "yapf                      0.31.0             pyhd3eb1b0_0  \n",
      "yarl                      1.8.1           py311h2bbff1b_0  \n",
      "ypy-websocket             0.8.2           py311haa95532_0  \n",
      "zeromq                    4.3.4                hd77b12b_0  \n",
      "zfp                       1.0.0                hd77b12b_0  \n",
      "zict                      2.2.0           py311haa95532_0  \n",
      "zipp                      3.11.0          py311haa95532_0  \n",
      "zlib                      1.2.13               h8cc25b3_0  \n",
      "zlib-ng                   2.0.7                h2bbff1b_0  \n",
      "zope                      1.0             py311haa95532_1  \n",
      "zope.interface            5.4.0           py311h2bbff1b_0  \n",
      "zstandard                 0.19.0          py311h2bbff1b_0  \n",
      "zstd                      1.5.5                hd43e919_0  \n",
      "\n",
      "Note: you may need to restart the kernel to use updated packages.\n"
     ]
    },
    {
     "name": "stdout",
     "output_type": "stream",
     "text": [
      "Requirement already satisfied: pip in c:\\users\\minji\\anaconda3\\lib\\site-packages (23.2.1)\n",
      "Collecting pip\n",
      "  Obtaining dependency information for pip from https://files.pythonhosted.org/packages/47/6a/453160888fab7c6a432a6e25f8afe6256d0d9f2cbd25971021da6491d899/pip-23.3.1-py3-none-any.whl.metadata\n",
      "  Downloading pip-23.3.1-py3-none-any.whl.metadata (3.5 kB)\n",
      "Downloading pip-23.3.1-py3-none-any.whl (2.1 MB)\n",
      "   ---------------------------------------- 0.0/2.1 MB ? eta -:--:--\n",
      "   ---------------------------------------- 0.0/2.1 MB ? eta -:--:--\n",
      "   ---------------------------------------- 0.0/2.1 MB ? eta -:--:--\n",
      "   ---------------------------------------- 0.0/2.1 MB ? eta -:--:--\n",
      "    --------------------------------------- 0.0/2.1 MB 326.8 kB/s eta 0:00:07\n",
      "   -- ------------------------------------- 0.1/2.1 MB 944.1 kB/s eta 0:00:03\n",
      "   --- ------------------------------------ 0.2/2.1 MB 1.1 MB/s eta 0:00:02\n",
      "   ----- ---------------------------------- 0.3/2.1 MB 1.2 MB/s eta 0:00:02\n",
      "   ------ --------------------------------- 0.4/2.1 MB 1.3 MB/s eta 0:00:02\n",
      "   -------- ------------------------------- 0.5/2.1 MB 1.4 MB/s eta 0:00:02\n",
      "   ---------- ----------------------------- 0.5/2.1 MB 1.5 MB/s eta 0:00:02\n",
      "   ---------- ----------------------------- 0.6/2.1 MB 1.3 MB/s eta 0:00:02\n",
      "   ---------- ----------------------------- 0.6/2.1 MB 1.3 MB/s eta 0:00:02\n",
      "   ---------- ----------------------------- 0.6/2.1 MB 1.3 MB/s eta 0:00:02\n",
      "   ---------- ----------------------------- 0.6/2.1 MB 1.3 MB/s eta 0:00:02\n",
      "   ---------- ----------------------------- 0.6/2.1 MB 1.3 MB/s eta 0:00:02\n",
      "   ----------- ---------------------------- 0.6/2.1 MB 935.2 kB/s eta 0:00:02\n",
      "   ------------ --------------------------- 0.7/2.1 MB 937.7 kB/s eta 0:00:02\n",
      "   ------------ --------------------------- 0.7/2.1 MB 905.6 kB/s eta 0:00:02\n",
      "   ------------- -------------------------- 0.7/2.1 MB 877.3 kB/s eta 0:00:02\n",
      "   ------------- -------------------------- 0.7/2.1 MB 825.0 kB/s eta 0:00:02\n",
      "   -------------- ------------------------- 0.8/2.1 MB 854.3 kB/s eta 0:00:02\n",
      "   -------------- ------------------------- 0.8/2.1 MB 833.0 kB/s eta 0:00:02\n",
      "   -------------- ------------------------- 0.8/2.1 MB 833.0 kB/s eta 0:00:02\n",
      "   -------------- ------------------------- 0.8/2.1 MB 833.0 kB/s eta 0:00:02\n",
      "   -------------- ------------------------- 0.8/2.1 MB 833.0 kB/s eta 0:00:02\n",
      "   -------------- ------------------------- 0.8/2.1 MB 833.0 kB/s eta 0:00:02\n",
      "   -------------- ------------------------- 0.8/2.1 MB 833.0 kB/s eta 0:00:02\n",
      "   --------------- ------------------------ 0.8/2.1 MB 663.6 kB/s eta 0:00:02\n",
      "   ---------------- ----------------------- 0.9/2.1 MB 679.9 kB/s eta 0:00:02\n",
      "   ---------------- ----------------------- 0.9/2.1 MB 671.0 kB/s eta 0:00:02\n",
      "   ---------------- ----------------------- 0.9/2.1 MB 663.1 kB/s eta 0:00:02\n",
      "   ----------------- ---------------------- 0.9/2.1 MB 647.9 kB/s eta 0:00:02\n",
      "   ----------------- ---------------------- 0.9/2.1 MB 633.8 kB/s eta 0:00:02\n",
      "   ------------------ --------------------- 1.0/2.1 MB 648.2 kB/s eta 0:00:02\n",
      "   ------------------ --------------------- 1.0/2.1 MB 641.7 kB/s eta 0:00:02\n",
      "   ------------------ --------------------- 1.0/2.1 MB 641.7 kB/s eta 0:00:02\n",
      "   ------------------- -------------------- 1.0/2.1 MB 616.9 kB/s eta 0:00:02\n",
      "   ------------------- -------------------- 1.0/2.1 MB 616.9 kB/s eta 0:00:02\n",
      "   ------------------- -------------------- 1.0/2.1 MB 600.6 kB/s eta 0:00:02\n",
      "   ------------------- -------------------- 1.0/2.1 MB 590.2 kB/s eta 0:00:02\n",
      "   -------------------- ------------------- 1.1/2.1 MB 586.1 kB/s eta 0:00:02\n",
      "   -------------------- ------------------- 1.1/2.1 MB 567.1 kB/s eta 0:00:02\n",
      "   -------------------- ------------------- 1.1/2.1 MB 567.1 kB/s eta 0:00:02\n",
      "   -------------------- ------------------- 1.1/2.1 MB 567.1 kB/s eta 0:00:02\n",
      "   -------------------- ------------------- 1.1/2.1 MB 541.7 kB/s eta 0:00:02\n",
      "   -------------------- ------------------- 1.1/2.1 MB 541.7 kB/s eta 0:00:02\n",
      "   -------------------- ------------------- 1.1/2.1 MB 541.7 kB/s eta 0:00:02\n",
      "   -------------------- ------------------- 1.1/2.1 MB 541.7 kB/s eta 0:00:02\n",
      "   -------------------- ------------------- 1.1/2.1 MB 541.7 kB/s eta 0:00:02\n",
      "   -------------------- ------------------- 1.1/2.1 MB 541.7 kB/s eta 0:00:02\n",
      "   -------------------- ------------------- 1.1/2.1 MB 541.7 kB/s eta 0:00:02\n",
      "   -------------------- ------------------- 1.1/2.1 MB 541.7 kB/s eta 0:00:02\n",
      "   -------------------- ------------------- 1.1/2.1 MB 541.7 kB/s eta 0:00:02\n",
      "   -------------------- ------------------- 1.1/2.1 MB 541.7 kB/s eta 0:00:02\n",
      "   -------------------- ------------------- 1.1/2.1 MB 541.7 kB/s eta 0:00:02\n",
      "   -------------------- ------------------- 1.1/2.1 MB 541.7 kB/s eta 0:00:02\n",
      "   -------------------- ------------------- 1.1/2.1 MB 541.7 kB/s eta 0:00:02\n",
      "   -------------------- ------------------- 1.1/2.1 MB 541.7 kB/s eta 0:00:02\n",
      "   -------------------- ------------------- 1.1/2.1 MB 541.7 kB/s eta 0:00:02\n",
      "   -------------------- ------------------- 1.1/2.1 MB 541.7 kB/s eta 0:00:02\n",
      "   -------------------- ------------------- 1.1/2.1 MB 541.7 kB/s eta 0:00:02\n",
      "   -------------------- ------------------- 1.1/2.1 MB 541.7 kB/s eta 0:00:02\n",
      "   -------------------- ------------------- 1.1/2.1 MB 541.7 kB/s eta 0:00:02\n",
      "   -------------------- ------------------- 1.1/2.1 MB 541.7 kB/s eta 0:00:02\n",
      "   -------------------- ------------------- 1.1/2.1 MB 541.7 kB/s eta 0:00:02\n",
      "   -------------------- ------------------- 1.1/2.1 MB 541.7 kB/s eta 0:00:02\n",
      "   -------------------- ------------------- 1.1/2.1 MB 541.7 kB/s eta 0:00:02\n",
      "   -------------------- ------------------- 1.1/2.1 MB 541.7 kB/s eta 0:00:02\n",
      "   -------------------- ------------------- 1.1/2.1 MB 541.7 kB/s eta 0:00:02\n",
      "   -------------------- ------------------- 1.1/2.1 MB 541.7 kB/s eta 0:00:02\n",
      "   -------------------- ------------------- 1.1/2.1 MB 541.7 kB/s eta 0:00:02\n",
      "   -------------------- ------------------- 1.1/2.1 MB 541.7 kB/s eta 0:00:02\n",
      "   -------------------- ------------------- 1.1/2.1 MB 541.7 kB/s eta 0:00:02\n",
      "   -------------------- ------------------- 1.1/2.1 MB 541.7 kB/s eta 0:00:02\n",
      "   -------------------- ------------------- 1.1/2.1 MB 541.7 kB/s eta 0:00:02\n",
      "   -------------------- ------------------- 1.1/2.1 MB 541.7 kB/s eta 0:00:02\n",
      "   -------------------- ------------------- 1.1/2.1 MB 541.7 kB/s eta 0:00:02\n",
      "   -------------------- ------------------- 1.1/2.1 MB 541.7 kB/s eta 0:00:02\n",
      "   -------------------- ------------------- 1.1/2.1 MB 541.7 kB/s eta 0:00:02\n",
      "   -------------------- ------------------- 1.1/2.1 MB 541.7 kB/s eta 0:00:02\n",
      "   -------------------- ------------------- 1.1/2.1 MB 541.7 kB/s eta 0:00:02\n",
      "   -------------------- ------------------- 1.1/2.1 MB 541.7 kB/s eta 0:00:02\n",
      "   -------------------- ------------------- 1.1/2.1 MB 541.7 kB/s eta 0:00:02\n",
      "   -------------------- ------------------- 1.1/2.1 MB 541.7 kB/s eta 0:00:02\n",
      "   -------------------- ------------------- 1.1/2.1 MB 541.7 kB/s eta 0:00:02\n",
      "   -------------------- ------------------- 1.1/2.1 MB 541.7 kB/s eta 0:00:02\n",
      "   -------------------- ------------------- 1.1/2.1 MB 541.7 kB/s eta 0:00:02\n",
      "   -------------------- ------------------- 1.1/2.1 MB 541.7 kB/s eta 0:00:02\n",
      "   -------------------- ------------------- 1.1/2.1 MB 541.7 kB/s eta 0:00:02\n",
      "   -------------------- ------------------- 1.1/2.1 MB 541.7 kB/s eta 0:00:02\n",
      "   -------------------- ------------------- 1.1/2.1 MB 541.7 kB/s eta 0:00:02\n",
      "   -------------------- ------------------- 1.1/2.1 MB 541.7 kB/s eta 0:00:02\n",
      "   -------------------- ------------------- 1.1/2.1 MB 541.7 kB/s eta 0:00:02\n",
      "   -------------------- ------------------- 1.1/2.1 MB 541.7 kB/s eta 0:00:02\n",
      "   -------------------- ------------------- 1.1/2.1 MB 541.7 kB/s eta 0:00:02\n",
      "   -------------------- ------------------- 1.1/2.1 MB 541.7 kB/s eta 0:00:02\n",
      "   -------------------- ------------------- 1.1/2.1 MB 541.7 kB/s eta 0:00:02\n",
      "   -------------------- ------------------- 1.1/2.1 MB 541.7 kB/s eta 0:00:02\n",
      "   -------------------- ------------------- 1.1/2.1 MB 541.7 kB/s eta 0:00:02\n",
      "   -------------------- ------------------- 1.1/2.1 MB 541.7 kB/s eta 0:00:02\n",
      "   -------------------- ------------------- 1.1/2.1 MB 541.7 kB/s eta 0:00:02\n",
      "   -------------------- ------------------- 1.1/2.1 MB 541.7 kB/s eta 0:00:02\n",
      "   -------------------- ------------------- 1.1/2.1 MB 541.7 kB/s eta 0:00:02\n",
      "   -------------------- ------------------- 1.1/2.1 MB 541.7 kB/s eta 0:00:02\n",
      "   -------------------- ------------------- 1.1/2.1 MB 541.7 kB/s eta 0:00:02\n",
      "   -------------------- ------------------- 1.1/2.1 MB 541.7 kB/s eta 0:00:02\n",
      "   -------------------- ------------------- 1.1/2.1 MB 541.7 kB/s eta 0:00:02\n",
      "   -------------------- ------------------- 1.1/2.1 MB 541.7 kB/s eta 0:00:02\n",
      "   -------------------- ------------------- 1.1/2.1 MB 541.7 kB/s eta 0:00:02\n",
      "   -------------------- ------------------- 1.1/2.1 MB 541.7 kB/s eta 0:00:02\n",
      "   -------------------- ------------------- 1.1/2.1 MB 541.7 kB/s eta 0:00:02\n",
      "   -------------------- ------------------- 1.1/2.1 MB 541.7 kB/s eta 0:00:02\n",
      "   -------------------- ------------------- 1.1/2.1 MB 541.7 kB/s eta 0:00:02\n",
      "   -------------------- ------------------- 1.1/2.1 MB 541.7 kB/s eta 0:00:02\n",
      "   -------------------- ------------------- 1.1/2.1 MB 541.7 kB/s eta 0:00:02\n",
      "   -------------------- ------------------- 1.1/2.1 MB 541.7 kB/s eta 0:00:02\n",
      "   -------------------- ------------------- 1.1/2.1 MB 541.7 kB/s eta 0:00:02\n",
      "   -------------------- ------------------- 1.1/2.1 MB 541.7 kB/s eta 0:00:02\n",
      "   -------------------- ------------------- 1.1/2.1 MB 541.7 kB/s eta 0:00:02\n",
      "   -------------------- ------------------- 1.1/2.1 MB 541.7 kB/s eta 0:00:02\n",
      "   -------------------- ------------------- 1.1/2.1 MB 541.7 kB/s eta 0:00:02\n",
      "   -------------------- ------------------- 1.1/2.1 MB 541.7 kB/s eta 0:00:02\n",
      "   -------------------- ------------------- 1.1/2.1 MB 541.7 kB/s eta 0:00:02\n",
      "   -------------------- ------------------- 1.1/2.1 MB 541.7 kB/s eta 0:00:02\n",
      "   -------------------- ------------------- 1.1/2.1 MB 541.7 kB/s eta 0:00:02\n",
      "   -------------------- ------------------- 1.1/2.1 MB 541.7 kB/s eta 0:00:02\n",
      "   -------------------- ------------------- 1.1/2.1 MB 541.7 kB/s eta 0:00:02\n",
      "   -------------------- ------------------- 1.1/2.1 MB 541.7 kB/s eta 0:00:02\n",
      "   -------------------- ------------------- 1.1/2.1 MB 541.7 kB/s eta 0:00:02\n",
      "   -------------------- ------------------- 1.1/2.1 MB 541.7 kB/s eta 0:00:02\n",
      "   -------------------- ------------------- 1.1/2.1 MB 541.7 kB/s eta 0:00:02\n",
      "   -------------------- ------------------- 1.1/2.1 MB 541.7 kB/s eta 0:00:02\n",
      "   -------------------- ------------------- 1.1/2.1 MB 541.7 kB/s eta 0:00:02\n",
      "   -------------------- ------------------- 1.1/2.1 MB 541.7 kB/s eta 0:00:02\n",
      "   -------------------- ------------------- 1.1/2.1 MB 541.7 kB/s eta 0:00:02\n",
      "   -------------------- ------------------- 1.1/2.1 MB 541.7 kB/s eta 0:00:02\n",
      "   -------------------- ------------------- 1.1/2.1 MB 541.7 kB/s eta 0:00:02\n",
      "   -------------------- ------------------- 1.1/2.1 MB 541.7 kB/s eta 0:00:02\n",
      "   -------------------- ------------------- 1.1/2.1 MB 541.7 kB/s eta 0:00:02\n",
      "   -------------------- ------------------- 1.1/2.1 MB 541.7 kB/s eta 0:00:02\n",
      "   -------------------- ------------------- 1.1/2.1 MB 541.7 kB/s eta 0:00:02\n",
      "   -------------------- ------------------- 1.1/2.1 MB 541.7 kB/s eta 0:00:02\n",
      "   -------------------- ------------------- 1.1/2.1 MB 541.7 kB/s eta 0:00:02\n",
      "   -------------------- ------------------- 1.1/2.1 MB 541.7 kB/s eta 0:00:02\n",
      "   -------------------- ------------------- 1.1/2.1 MB 541.7 kB/s eta 0:00:02\n",
      "   -------------------- ------------------- 1.1/2.1 MB 541.7 kB/s eta 0:00:02\n",
      "   -------------------- ------------------- 1.1/2.1 MB 541.7 kB/s eta 0:00:02\n",
      "   -------------------- ------------------- 1.1/2.1 MB 541.7 kB/s eta 0:00:02\n",
      "   -------------------- ------------------- 1.1/2.1 MB 541.7 kB/s eta 0:00:02\n",
      "   -------------------- ------------------- 1.1/2.1 MB 541.7 kB/s eta 0:00:02\n",
      "   -------------------- ------------------- 1.1/2.1 MB 541.7 kB/s eta 0:00:02\n",
      "   -------------------- ------------------- 1.1/2.1 MB 541.7 kB/s eta 0:00:02\n",
      "   -------------------- ------------------- 1.1/2.1 MB 541.7 kB/s eta 0:00:02\n",
      "   -------------------- ------------------- 1.1/2.1 MB 541.7 kB/s eta 0:00:02\n",
      "   -------------------- ------------------- 1.1/2.1 MB 541.7 kB/s eta 0:00:02\n",
      "   -------------------- ------------------- 1.1/2.1 MB 541.7 kB/s eta 0:00:02\n",
      "   -------------------- ------------------- 1.1/2.1 MB 541.7 kB/s eta 0:00:02\n",
      "   -------------------- ------------------- 1.1/2.1 MB 541.7 kB/s eta 0:00:02\n",
      "   -------------------- ------------------- 1.1/2.1 MB 541.7 kB/s eta 0:00:02\n",
      "   -------------------- ------------------- 1.1/2.1 MB 541.7 kB/s eta 0:00:02\n",
      "   -------------------- ------------------- 1.1/2.1 MB 541.7 kB/s eta 0:00:02\n",
      "   -------------------- ------------------- 1.1/2.1 MB 541.7 kB/s eta 0:00:02\n",
      "   -------------------- ------------------- 1.1/2.1 MB 541.7 kB/s eta 0:00:02\n",
      "   -------------------- ------------------- 1.1/2.1 MB 541.7 kB/s eta 0:00:02\n",
      "   -------------------- ------------------- 1.1/2.1 MB 541.7 kB/s eta 0:00:02\n",
      "   -------------------- ------------------- 1.1/2.1 MB 541.7 kB/s eta 0:00:02\n",
      "   -------------------- ------------------- 1.1/2.1 MB 541.7 kB/s eta 0:00:02\n",
      "   -------------------- ------------------- 1.1/2.1 MB 541.7 kB/s eta 0:00:02\n",
      "   -------------------- ------------------- 1.1/2.1 MB 541.7 kB/s eta 0:00:02\n",
      "   -------------------- ------------------- 1.1/2.1 MB 541.7 kB/s eta 0:00:02\n",
      "   -------------------- ------------------- 1.1/2.1 MB 541.7 kB/s eta 0:00:02\n",
      "   -------------------- ------------------- 1.1/2.1 MB 541.7 kB/s eta 0:00:02\n",
      "   -------------------- ------------------- 1.1/2.1 MB 541.7 kB/s eta 0:00:02\n",
      "   -------------------- ------------------- 1.1/2.1 MB 541.7 kB/s eta 0:00:02\n",
      "   -------------------- ------------------- 1.1/2.1 MB 541.7 kB/s eta 0:00:02\n",
      "   -------------------- ------------------- 1.1/2.1 MB 541.7 kB/s eta 0:00:02\n",
      "   -------------------- ------------------- 1.1/2.1 MB 541.7 kB/s eta 0:00:02\n",
      "   -------------------- ------------------- 1.1/2.1 MB 541.7 kB/s eta 0:00:02\n",
      "   -------------------- ------------------- 1.1/2.1 MB 541.7 kB/s eta 0:00:02\n",
      "   -------------------- ------------------- 1.1/2.1 MB 541.7 kB/s eta 0:00:02\n",
      "   -------------------- ------------------- 1.1/2.1 MB 541.7 kB/s eta 0:00:02\n",
      "   -------------------- ------------------- 1.1/2.1 MB 541.7 kB/s eta 0:00:02\n",
      "   -------------------- ------------------- 1.1/2.1 MB 541.7 kB/s eta 0:00:02\n",
      "   -------------------- ------------------- 1.1/2.1 MB 541.7 kB/s eta 0:00:02\n",
      "   -------------------- ------------------- 1.1/2.1 MB 541.7 kB/s eta 0:00:02\n",
      "   -------------------- ------------------- 1.1/2.1 MB 541.7 kB/s eta 0:00:02\n",
      "   -------------------- ------------------- 1.1/2.1 MB 541.7 kB/s eta 0:00:02\n",
      "   -------------------- ------------------- 1.1/2.1 MB 541.7 kB/s eta 0:00:02\n",
      "   -------------------- ------------------- 1.1/2.1 MB 541.7 kB/s eta 0:00:02\n",
      "   -------------------- ------------------- 1.1/2.1 MB 541.7 kB/s eta 0:00:02\n",
      "   -------------------- ------------------- 1.1/2.1 MB 541.7 kB/s eta 0:00:02\n",
      "   -------------------- ------------------- 1.1/2.1 MB 541.7 kB/s eta 0:00:02\n",
      "   -------------------- ------------------- 1.1/2.1 MB 541.7 kB/s eta 0:00:02\n",
      "   -------------------- ------------------- 1.1/2.1 MB 541.7 kB/s eta 0:00:02\n",
      "   -------------------- ------------------- 1.1/2.1 MB 541.7 kB/s eta 0:00:02\n",
      "   -------------------- ------------------- 1.1/2.1 MB 541.7 kB/s eta 0:00:02\n",
      "   -------------------- ------------------- 1.1/2.1 MB 541.7 kB/s eta 0:00:02\n",
      "   -------------------- ------------------- 1.1/2.1 MB 541.7 kB/s eta 0:00:02\n",
      "   -------------------- ------------------- 1.1/2.1 MB 541.7 kB/s eta 0:00:02\n",
      "   -------------------- ------------------- 1.1/2.1 MB 541.7 kB/s eta 0:00:02\n",
      "   -------------------- ------------------- 1.1/2.1 MB 541.7 kB/s eta 0:00:02\n",
      "   -------------------- ------------------- 1.1/2.1 MB 541.7 kB/s eta 0:00:02\n",
      "   -------------------- ------------------- 1.1/2.1 MB 541.7 kB/s eta 0:00:02\n",
      "   -------------------- ------------------- 1.1/2.1 MB 541.7 kB/s eta 0:00:02\n",
      "   -------------------- ------------------- 1.1/2.1 MB 541.7 kB/s eta 0:00:02\n",
      "   -------------------- ------------------- 1.1/2.1 MB 541.7 kB/s eta 0:00:02\n",
      "   -------------------- ------------------- 1.1/2.1 MB 541.7 kB/s eta 0:00:02\n",
      "   -------------------- ------------------- 1.1/2.1 MB 541.7 kB/s eta 0:00:02\n",
      "   -------------------- ------------------- 1.1/2.1 MB 541.7 kB/s eta 0:00:02\n",
      "   -------------------- ------------------- 1.1/2.1 MB 541.7 kB/s eta 0:00:02\n",
      "   -------------------- ------------------- 1.1/2.1 MB 541.7 kB/s eta 0:00:02\n",
      "   -------------------- ------------------- 1.1/2.1 MB 541.7 kB/s eta 0:00:02\n",
      "   -------------------- ------------------- 1.1/2.1 MB 541.7 kB/s eta 0:00:02\n",
      "   -------------------- ------------------- 1.1/2.1 MB 541.7 kB/s eta 0:00:02\n",
      "   -------------------- ------------------- 1.1/2.1 MB 541.7 kB/s eta 0:00:02\n",
      "   -------------------- ------------------- 1.1/2.1 MB 541.7 kB/s eta 0:00:02\n",
      "   -------------------- ------------------- 1.1/2.1 MB 541.7 kB/s eta 0:00:02\n",
      "   -------------------- ------------------- 1.1/2.1 MB 541.7 kB/s eta 0:00:02\n",
      "   -------------------- ------------------- 1.1/2.1 MB 541.7 kB/s eta 0:00:02\n",
      "   -------------------- ------------------- 1.1/2.1 MB 541.7 kB/s eta 0:00:02\n",
      "   -------------------- ------------------- 1.1/2.1 MB 541.7 kB/s eta 0:00:02\n",
      "   -------------------- ------------------- 1.1/2.1 MB 541.7 kB/s eta 0:00:02\n",
      "   -------------------- ------------------- 1.1/2.1 MB 541.7 kB/s eta 0:00:02\n",
      "   -------------------- ------------------- 1.1/2.1 MB 541.7 kB/s eta 0:00:02\n",
      "   -------------------- ------------------- 1.1/2.1 MB 541.7 kB/s eta 0:00:02\n",
      "   -------------------- ------------------- 1.1/2.1 MB 541.7 kB/s eta 0:00:02\n",
      "   -------------------- ------------------- 1.1/2.1 MB 541.7 kB/s eta 0:00:02\n",
      "   -------------------- ------------------- 1.1/2.1 MB 541.7 kB/s eta 0:00:02\n",
      "   -------------------- ------------------- 1.1/2.1 MB 541.7 kB/s eta 0:00:02\n",
      "   -------------------- ------------------- 1.1/2.1 MB 541.7 kB/s eta 0:00:02\n",
      "   -------------------- ------------------- 1.1/2.1 MB 541.7 kB/s eta 0:00:02\n",
      "   -------------------- ------------------- 1.1/2.1 MB 541.7 kB/s eta 0:00:02\n",
      "   -------------------- ------------------- 1.1/2.1 MB 541.7 kB/s eta 0:00:02\n",
      "   -------------------- ------------------- 1.1/2.1 MB 541.7 kB/s eta 0:00:02\n",
      "   -------------------- ------------------- 1.1/2.1 MB 541.7 kB/s eta 0:00:02\n",
      "   -------------------- ------------------- 1.1/2.1 MB 541.7 kB/s eta 0:00:02\n",
      "   -------------------- ------------------- 1.1/2.1 MB 541.7 kB/s eta 0:00:02\n",
      "   -------------------- ------------------- 1.1/2.1 MB 541.7 kB/s eta 0:00:02\n",
      "   -------------------- ------------------- 1.1/2.1 MB 541.7 kB/s eta 0:00:02\n",
      "   -------------------- ------------------- 1.1/2.1 MB 541.7 kB/s eta 0:00:02\n",
      "   -------------------- ------------------- 1.1/2.1 MB 541.7 kB/s eta 0:00:02\n",
      "   -------------------- ------------------- 1.1/2.1 MB 541.7 kB/s eta 0:00:02\n",
      "   -------------------- ------------------- 1.1/2.1 MB 541.7 kB/s eta 0:00:02\n",
      "   -------------------- ------------------- 1.1/2.1 MB 541.7 kB/s eta 0:00:02\n",
      "   -------------------- ------------------- 1.1/2.1 MB 541.7 kB/s eta 0:00:02\n",
      "   -------------------- ------------------- 1.1/2.1 MB 541.7 kB/s eta 0:00:02\n",
      "   -------------------- ------------------- 1.1/2.1 MB 541.7 kB/s eta 0:00:02\n",
      "   -------------------- ------------------- 1.1/2.1 MB 541.7 kB/s eta 0:00:02\n",
      "   -------------------- ------------------- 1.1/2.1 MB 541.7 kB/s eta 0:00:02\n",
      "   -------------------- ------------------- 1.1/2.1 MB 541.7 kB/s eta 0:00:02\n",
      "   -------------------- ------------------- 1.1/2.1 MB 541.7 kB/s eta 0:00:02\n",
      "   -------------------- ------------------- 1.1/2.1 MB 541.7 kB/s eta 0:00:02\n",
      "   -------------------- ------------------- 1.1/2.1 MB 541.7 kB/s eta 0:00:02\n",
      "   -------------------- ------------------- 1.1/2.1 MB 541.7 kB/s eta 0:00:02\n",
      "   -------------------- ------------------- 1.1/2.1 MB 541.7 kB/s eta 0:00:02\n",
      "   -------------------- ------------------- 1.1/2.1 MB 541.7 kB/s eta 0:00:02\n",
      "   -------------------- ------------------- 1.1/2.1 MB 541.7 kB/s eta 0:00:02\n",
      "   -------------------- ------------------- 1.1/2.1 MB 541.7 kB/s eta 0:00:02\n",
      "   -------------------- ------------------- 1.1/2.1 MB 541.7 kB/s eta 0:00:02\n",
      "   -------------------- ------------------- 1.1/2.1 MB 541.7 kB/s eta 0:00:02\n",
      "   -------------------- ------------------- 1.1/2.1 MB 541.7 kB/s eta 0:00:02\n",
      "   -------------------- ------------------- 1.1/2.1 MB 541.7 kB/s eta 0:00:02\n",
      "   -------------------- ------------------- 1.1/2.1 MB 541.7 kB/s eta 0:00:02\n",
      "   -------------------- ------------------- 1.1/2.1 MB 541.7 kB/s eta 0:00:02\n",
      "   -------------------- ------------------- 1.1/2.1 MB 541.7 kB/s eta 0:00:02\n",
      "   -------------------- ------------------- 1.1/2.1 MB 541.7 kB/s eta 0:00:02\n",
      "   -------------------- ------------------- 1.1/2.1 MB 541.7 kB/s eta 0:00:02\n",
      "   -------------------- ------------------- 1.1/2.1 MB 541.7 kB/s eta 0:00:02\n",
      "   -------------------- ------------------- 1.1/2.1 MB 541.7 kB/s eta 0:00:02\n",
      "   -------------------- ------------------- 1.1/2.1 MB 541.7 kB/s eta 0:00:02\n",
      "   -------------------- ------------------- 1.1/2.1 MB 541.7 kB/s eta 0:00:02\n",
      "   -------------------- ------------------- 1.1/2.1 MB 541.7 kB/s eta 0:00:02\n",
      "   -------------------- ------------------- 1.1/2.1 MB 541.7 kB/s eta 0:00:02\n",
      "   -------------------- ------------------- 1.1/2.1 MB 541.7 kB/s eta 0:00:02\n",
      "   -------------------- ------------------- 1.1/2.1 MB 541.7 kB/s eta 0:00:02\n",
      "   -------------------- ------------------- 1.1/2.1 MB 541.7 kB/s eta 0:00:02\n",
      "   -------------------- ------------------- 1.1/2.1 MB 541.7 kB/s eta 0:00:02\n",
      "   -------------------- ------------------- 1.1/2.1 MB 541.7 kB/s eta 0:00:02\n",
      "   -------------------- ------------------- 1.1/2.1 MB 541.7 kB/s eta 0:00:02\n",
      "   -------------------- ------------------- 1.1/2.1 MB 541.7 kB/s eta 0:00:02\n",
      "   -------------------- ------------------- 1.1/2.1 MB 541.7 kB/s eta 0:00:02\n",
      "   -------------------- ------------------- 1.1/2.1 MB 541.7 kB/s eta 0:00:02\n",
      "   -------------------- ------------------- 1.1/2.1 MB 541.7 kB/s eta 0:00:02\n",
      "   -------------------- ------------------- 1.1/2.1 MB 541.7 kB/s eta 0:00:02\n",
      "   -------------------- ------------------- 1.1/2.1 MB 541.7 kB/s eta 0:00:02\n",
      "   -------------------- ------------------- 1.1/2.1 MB 541.7 kB/s eta 0:00:02\n",
      "   -------------------- ------------------- 1.1/2.1 MB 541.7 kB/s eta 0:00:02\n",
      "   -------------------- ------------------- 1.1/2.1 MB 541.7 kB/s eta 0:00:02\n",
      "   -------------------- ------------------- 1.1/2.1 MB 541.7 kB/s eta 0:00:02\n",
      "   -------------------- ------------------- 1.1/2.1 MB 541.7 kB/s eta 0:00:02\n",
      "   -------------------- ------------------- 1.1/2.1 MB 81.6 kB/s eta 0:00:13\n",
      "   -------------------- ------------------- 1.1/2.1 MB 81.6 kB/s eta 0:00:13\n",
      "   -------------------- ------------------- 1.1/2.1 MB 81.6 kB/s eta 0:00:13\n",
      "   -------------------- ------------------- 1.1/2.1 MB 81.6 kB/s eta 0:00:13\n",
      "   -------------------- ------------------- 1.1/2.1 MB 81.6 kB/s eta 0:00:13\n",
      "   -------------------- ------------------- 1.1/2.1 MB 81.6 kB/s eta 0:00:13\n",
      "   -------------------- ------------------- 1.1/2.1 MB 81.6 kB/s eta 0:00:13\n",
      "   -------------------- ------------------- 1.1/2.1 MB 81.6 kB/s eta 0:00:13\n",
      "   -------------------- ------------------- 1.1/2.1 MB 81.6 kB/s eta 0:00:13\n",
      "   -------------------- ------------------- 1.1/2.1 MB 81.6 kB/s eta 0:00:13\n",
      "   -------------------- ------------------- 1.1/2.1 MB 81.6 kB/s eta 0:00:13\n",
      "   -------------------- ------------------- 1.1/2.1 MB 81.6 kB/s eta 0:00:13\n",
      "   -------------------- ------------------- 1.1/2.1 MB 81.6 kB/s eta 0:00:13\n",
      "   -------------------- ------------------- 1.1/2.1 MB 81.6 kB/s eta 0:00:13\n",
      "   -------------------- ------------------- 1.1/2.1 MB 81.6 kB/s eta 0:00:13\n",
      "   -------------------- ------------------- 1.1/2.1 MB 81.6 kB/s eta 0:00:13\n",
      "   -------------------- ------------------- 1.1/2.1 MB 81.6 kB/s eta 0:00:13\n",
      "   -------------------- ------------------- 1.1/2.1 MB 81.6 kB/s eta 0:00:13\n",
      "   -------------------- ------------------- 1.1/2.1 MB 81.6 kB/s eta 0:00:13\n",
      "   -------------------- ------------------- 1.1/2.1 MB 81.6 kB/s eta 0:00:13\n",
      "   -------------------- ------------------- 1.1/2.1 MB 81.6 kB/s eta 0:00:13\n",
      "   -------------------- ------------------- 1.1/2.1 MB 81.6 kB/s eta 0:00:13\n",
      "   -------------------- ------------------- 1.1/2.1 MB 81.6 kB/s eta 0:00:13\n",
      "   -------------------- ------------------- 1.1/2.1 MB 81.6 kB/s eta 0:00:13\n",
      "   -------------------- ------------------- 1.1/2.1 MB 81.6 kB/s eta 0:00:13\n",
      "   -------------------- ------------------- 1.1/2.1 MB 81.6 kB/s eta 0:00:13\n",
      "   -------------------- ------------------- 1.1/2.1 MB 81.6 kB/s eta 0:00:13\n",
      "   -------------------- ------------------- 1.1/2.1 MB 81.6 kB/s eta 0:00:13\n",
      "   -------------------- ------------------- 1.1/2.1 MB 81.6 kB/s eta 0:00:13\n",
      "   -------------------- ------------------- 1.1/2.1 MB 81.6 kB/s eta 0:00:13\n",
      "   -------------------- ------------------- 1.1/2.1 MB 81.6 kB/s eta 0:00:13\n",
      "   -------------------- ------------------- 1.1/2.1 MB 81.6 kB/s eta 0:00:13\n",
      "   -------------------- ------------------- 1.1/2.1 MB 81.6 kB/s eta 0:00:13\n",
      "   -------------------- ------------------- 1.1/2.1 MB 81.6 kB/s eta 0:00:13\n",
      "   -------------------- ------------------- 1.1/2.1 MB 81.6 kB/s eta 0:00:13\n",
      "   -------------------- ------------------- 1.1/2.1 MB 81.6 kB/s eta 0:00:13\n",
      "   -------------------- ------------------- 1.1/2.1 MB 81.6 kB/s eta 0:00:13\n",
      "   -------------------- ------------------- 1.1/2.1 MB 81.6 kB/s eta 0:00:13\n",
      "   -------------------- ------------------- 1.1/2.1 MB 81.6 kB/s eta 0:00:13\n",
      "   -------------------- ------------------- 1.1/2.1 MB 81.6 kB/s eta 0:00:13\n",
      "   -------------------- ------------------- 1.1/2.1 MB 81.6 kB/s eta 0:00:13\n",
      "   -------------------- ------------------- 1.1/2.1 MB 81.6 kB/s eta 0:00:13\n",
      "   -------------------- ------------------- 1.1/2.1 MB 81.6 kB/s eta 0:00:13\n",
      "   -------------------- ------------------- 1.1/2.1 MB 81.6 kB/s eta 0:00:13\n",
      "   -------------------- ------------------- 1.1/2.1 MB 81.6 kB/s eta 0:00:13\n",
      "   -------------------- ------------------- 1.1/2.1 MB 81.6 kB/s eta 0:00:13\n",
      "   -------------------- ------------------- 1.1/2.1 MB 81.6 kB/s eta 0:00:13\n",
      "   -------------------- ------------------- 1.1/2.1 MB 81.6 kB/s eta 0:00:13\n",
      "   -------------------- ------------------- 1.1/2.1 MB 81.6 kB/s eta 0:00:13\n",
      "   -------------------- ------------------- 1.1/2.1 MB 81.6 kB/s eta 0:00:13\n",
      "   -------------------- ------------------- 1.1/2.1 MB 81.6 kB/s eta 0:00:13\n",
      "   -------------------- ------------------- 1.1/2.1 MB 81.6 kB/s eta 0:00:13\n",
      "   -------------------- ------------------- 1.1/2.1 MB 81.6 kB/s eta 0:00:13\n",
      "   -------------------- ------------------- 1.1/2.1 MB 81.6 kB/s eta 0:00:13\n",
      "   -------------------- ------------------- 1.1/2.1 MB 81.6 kB/s eta 0:00:13\n",
      "   -------------------- ------------------- 1.1/2.1 MB 81.6 kB/s eta 0:00:13\n",
      "   -------------------- ------------------- 1.1/2.1 MB 81.6 kB/s eta 0:00:13\n",
      "   -------------------- ------------------- 1.1/2.1 MB 81.6 kB/s eta 0:00:13\n",
      "   -------------------- ------------------- 1.1/2.1 MB 81.6 kB/s eta 0:00:13\n",
      "   --------------------- ------------------ 1.1/2.1 MB 68.4 kB/s eta 0:00:15\n",
      "   --------------------- ------------------ 1.1/2.1 MB 68.4 kB/s eta 0:00:15\n",
      "   --------------------- ------------------ 1.1/2.1 MB 68.4 kB/s eta 0:00:15\n",
      "   --------------------- ------------------ 1.1/2.1 MB 68.4 kB/s eta 0:00:15\n",
      "   --------------------- ------------------ 1.1/2.1 MB 68.4 kB/s eta 0:00:15\n",
      "   --------------------- ------------------ 1.1/2.1 MB 68.4 kB/s eta 0:00:15\n",
      "   --------------------- ------------------ 1.1/2.1 MB 68.4 kB/s eta 0:00:15\n",
      "   --------------------- ------------------ 1.1/2.1 MB 68.4 kB/s eta 0:00:15\n",
      "   --------------------- ------------------ 1.1/2.1 MB 68.4 kB/s eta 0:00:15\n",
      "   --------------------- ------------------ 1.1/2.1 MB 68.4 kB/s eta 0:00:15\n",
      "   --------------------- ------------------ 1.1/2.1 MB 68.4 kB/s eta 0:00:15\n",
      "   --------------------- ------------------ 1.1/2.1 MB 68.4 kB/s eta 0:00:15\n",
      "   --------------------- ------------------ 1.1/2.1 MB 68.4 kB/s eta 0:00:15\n",
      "   --------------------- ------------------ 1.1/2.1 MB 68.4 kB/s eta 0:00:15\n",
      "   --------------------- ------------------ 1.1/2.1 MB 68.4 kB/s eta 0:00:15\n",
      "   --------------------- ------------------ 1.1/2.1 MB 68.4 kB/s eta 0:00:15\n",
      "   --------------------- ------------------ 1.1/2.1 MB 68.4 kB/s eta 0:00:15\n",
      "   --------------------- ------------------ 1.1/2.1 MB 68.4 kB/s eta 0:00:15\n",
      "   --------------------- ------------------ 1.1/2.1 MB 68.4 kB/s eta 0:00:15\n",
      "   --------------------- ------------------ 1.1/2.1 MB 68.4 kB/s eta 0:00:15\n",
      "   --------------------- ------------------ 1.1/2.1 MB 68.4 kB/s eta 0:00:15\n",
      "   --------------------- ------------------ 1.1/2.1 MB 68.4 kB/s eta 0:00:15\n",
      "   --------------------- ------------------ 1.1/2.1 MB 68.4 kB/s eta 0:00:15\n",
      "   --------------------- ------------------ 1.1/2.1 MB 68.4 kB/s eta 0:00:15\n",
      "   --------------------- ------------------ 1.1/2.1 MB 68.4 kB/s eta 0:00:15\n",
      "   --------------------- ------------------ 1.1/2.1 MB 68.4 kB/s eta 0:00:15\n",
      "   --------------------- ------------------ 1.1/2.1 MB 68.4 kB/s eta 0:00:15\n",
      "   --------------------- ------------------ 1.1/2.1 MB 68.4 kB/s eta 0:00:15\n",
      "   --------------------- ------------------ 1.1/2.1 MB 68.4 kB/s eta 0:00:15\n",
      "   --------------------- ------------------ 1.1/2.1 MB 68.4 kB/s eta 0:00:15\n",
      "   --------------------- ------------------ 1.1/2.1 MB 68.4 kB/s eta 0:00:15\n",
      "   --------------------- ------------------ 1.1/2.1 MB 68.4 kB/s eta 0:00:15\n",
      "   --------------------- ------------------ 1.1/2.1 MB 68.4 kB/s eta 0:00:15\n",
      "   --------------------- ------------------ 1.1/2.1 MB 68.4 kB/s eta 0:00:15\n",
      "   --------------------- ------------------ 1.1/2.1 MB 68.4 kB/s eta 0:00:15\n",
      "   --------------------- ------------------ 1.1/2.1 MB 68.4 kB/s eta 0:00:15\n",
      "   --------------------- ------------------ 1.1/2.1 MB 68.4 kB/s eta 0:00:15\n",
      "   --------------------- ------------------ 1.1/2.1 MB 68.4 kB/s eta 0:00:15\n",
      "   --------------------- ------------------ 1.1/2.1 MB 68.4 kB/s eta 0:00:15\n",
      "   --------------------- ------------------ 1.1/2.1 MB 68.4 kB/s eta 0:00:15\n",
      "   --------------------- ------------------ 1.1/2.1 MB 68.4 kB/s eta 0:00:15\n",
      "   --------------------- ------------------ 1.1/2.1 MB 68.4 kB/s eta 0:00:15\n",
      "   --------------------- ------------------ 1.1/2.1 MB 68.4 kB/s eta 0:00:15\n",
      "   --------------------- ------------------ 1.1/2.1 MB 68.4 kB/s eta 0:00:15\n",
      "   --------------------- ------------------ 1.1/2.1 MB 68.4 kB/s eta 0:00:15\n",
      "   --------------------- ------------------ 1.1/2.1 MB 68.4 kB/s eta 0:00:15\n",
      "   --------------------- ------------------ 1.1/2.1 MB 68.4 kB/s eta 0:00:15\n",
      "   --------------------- ------------------ 1.1/2.1 MB 68.4 kB/s eta 0:00:15\n",
      "   --------------------- ------------------ 1.1/2.1 MB 68.4 kB/s eta 0:00:15\n",
      "   --------------------- ------------------ 1.1/2.1 MB 68.4 kB/s eta 0:00:15\n",
      "   --------------------- ------------------ 1.1/2.1 MB 68.4 kB/s eta 0:00:15\n",
      "   --------------------- ------------------ 1.1/2.1 MB 68.4 kB/s eta 0:00:15\n",
      "   --------------------- ------------------ 1.1/2.1 MB 68.4 kB/s eta 0:00:15\n",
      "   --------------------- ------------------ 1.1/2.1 MB 68.4 kB/s eta 0:00:15\n",
      "   --------------------- ------------------ 1.1/2.1 MB 68.4 kB/s eta 0:00:15\n",
      "   --------------------- ------------------ 1.1/2.1 MB 68.4 kB/s eta 0:00:15\n",
      "   --------------------- ------------------ 1.1/2.1 MB 68.4 kB/s eta 0:00:15\n",
      "   --------------------- ------------------ 1.1/2.1 MB 68.4 kB/s eta 0:00:15\n",
      "   --------------------- ------------------ 1.1/2.1 MB 68.4 kB/s eta 0:00:15\n",
      "   --------------------- ------------------ 1.1/2.1 MB 68.4 kB/s eta 0:00:15\n",
      "   --------------------- ------------------ 1.1/2.1 MB 68.4 kB/s eta 0:00:15\n",
      "   --------------------- ------------------ 1.1/2.1 MB 68.4 kB/s eta 0:00:15\n",
      "   --------------------- ------------------ 1.1/2.1 MB 68.4 kB/s eta 0:00:15\n",
      "   --------------------- ------------------ 1.1/2.1 MB 68.4 kB/s eta 0:00:15\n",
      "   --------------------- ------------------ 1.1/2.1 MB 68.4 kB/s eta 0:00:15\n",
      "   --------------------- ------------------ 1.1/2.1 MB 68.4 kB/s eta 0:00:15\n",
      "   --------------------- ------------------ 1.1/2.1 MB 68.4 kB/s eta 0:00:15\n",
      "   --------------------- ------------------ 1.1/2.1 MB 68.4 kB/s eta 0:00:15\n",
      "   --------------------- ------------------ 1.1/2.1 MB 68.4 kB/s eta 0:00:15\n",
      "   --------------------- ------------------ 1.1/2.1 MB 68.4 kB/s eta 0:00:15\n",
      "   --------------------- ------------------ 1.1/2.1 MB 68.4 kB/s eta 0:00:15\n",
      "   --------------------- ------------------ 1.1/2.1 MB 68.4 kB/s eta 0:00:15\n",
      "   --------------------- ------------------ 1.1/2.1 MB 68.4 kB/s eta 0:00:15\n",
      "   --------------------- ------------------ 1.1/2.1 MB 68.4 kB/s eta 0:00:15\n",
      "   --------------------- ------------------ 1.1/2.1 MB 68.4 kB/s eta 0:00:15\n",
      "   --------------------- ------------------ 1.1/2.1 MB 68.4 kB/s eta 0:00:15\n",
      "   --------------------- ------------------ 1.1/2.1 MB 68.4 kB/s eta 0:00:15\n",
      "   --------------------- ------------------ 1.1/2.1 MB 68.4 kB/s eta 0:00:15\n",
      "   --------------------- ------------------ 1.1/2.1 MB 68.4 kB/s eta 0:00:15\n",
      "   --------------------- ------------------ 1.1/2.1 MB 68.4 kB/s eta 0:00:15\n",
      "   --------------------- ------------------ 1.1/2.1 MB 68.4 kB/s eta 0:00:15\n",
      "   --------------------- ------------------ 1.1/2.1 MB 68.4 kB/s eta 0:00:15\n",
      "   --------------------- ------------------ 1.1/2.1 MB 68.4 kB/s eta 0:00:15\n",
      "   --------------------- ------------------ 1.1/2.1 MB 68.4 kB/s eta 0:00:15\n",
      "   --------------------- ------------------ 1.1/2.1 MB 68.4 kB/s eta 0:00:15\n",
      "   --------------------- ------------------ 1.1/2.1 MB 68.4 kB/s eta 0:00:15\n",
      "   --------------------- ------------------ 1.1/2.1 MB 68.4 kB/s eta 0:00:15\n",
      "   --------------------- ------------------ 1.1/2.1 MB 68.4 kB/s eta 0:00:15\n",
      "   --------------------- ------------------ 1.1/2.1 MB 68.4 kB/s eta 0:00:15\n",
      "   --------------------- ------------------ 1.1/2.1 MB 68.4 kB/s eta 0:00:15\n",
      "   --------------------- ------------------ 1.1/2.1 MB 68.4 kB/s eta 0:00:15\n",
      "   --------------------- ------------------ 1.1/2.1 MB 55.8 kB/s eta 0:00:18\n",
      "   --------------------- ------------------ 1.1/2.1 MB 55.8 kB/s eta 0:00:18\n",
      "   --------------------- ------------------ 1.1/2.1 MB 55.8 kB/s eta 0:00:18\n",
      "   --------------------- ------------------ 1.1/2.1 MB 55.8 kB/s eta 0:00:18\n",
      "   --------------------- ------------------ 1.1/2.1 MB 55.8 kB/s eta 0:00:18\n",
      "   --------------------- ------------------ 1.1/2.1 MB 55.8 kB/s eta 0:00:18\n",
      "   --------------------- ------------------ 1.1/2.1 MB 55.8 kB/s eta 0:00:18\n",
      "   --------------------- ------------------ 1.1/2.1 MB 55.8 kB/s eta 0:00:18\n",
      "   --------------------- ------------------ 1.1/2.1 MB 55.8 kB/s eta 0:00:18\n",
      "   --------------------- ------------------ 1.1/2.1 MB 55.8 kB/s eta 0:00:18\n",
      "   --------------------- ------------------ 1.1/2.1 MB 55.8 kB/s eta 0:00:18\n",
      "   --------------------- ------------------ 1.1/2.1 MB 55.8 kB/s eta 0:00:18\n",
      "   --------------------- ------------------ 1.1/2.1 MB 55.8 kB/s eta 0:00:18\n",
      "   --------------------- ------------------ 1.1/2.1 MB 55.8 kB/s eta 0:00:18\n",
      "   --------------------- ------------------ 1.1/2.1 MB 55.8 kB/s eta 0:00:18\n",
      "   --------------------- ------------------ 1.1/2.1 MB 55.8 kB/s eta 0:00:18\n",
      "   --------------------- ------------------ 1.1/2.1 MB 55.8 kB/s eta 0:00:18\n",
      "   --------------------- ------------------ 1.1/2.1 MB 55.8 kB/s eta 0:00:18\n",
      "   --------------------- ------------------ 1.1/2.1 MB 55.8 kB/s eta 0:00:18\n",
      "   --------------------- ------------------ 1.1/2.1 MB 55.8 kB/s eta 0:00:18\n",
      "   --------------------- ------------------ 1.1/2.1 MB 55.8 kB/s eta 0:00:18\n",
      "   --------------------- ------------------ 1.1/2.1 MB 55.8 kB/s eta 0:00:18\n",
      "   --------------------- ------------------ 1.1/2.1 MB 55.8 kB/s eta 0:00:18\n",
      "   --------------------- ------------------ 1.1/2.1 MB 55.8 kB/s eta 0:00:18\n",
      "   --------------------- ------------------ 1.1/2.1 MB 55.8 kB/s eta 0:00:18\n",
      "   --------------------- ------------------ 1.1/2.1 MB 55.8 kB/s eta 0:00:18\n",
      "   --------------------- ------------------ 1.1/2.1 MB 55.8 kB/s eta 0:00:18\n",
      "   --------------------- ------------------ 1.1/2.1 MB 55.8 kB/s eta 0:00:18\n",
      "   --------------------- ------------------ 1.1/2.1 MB 55.8 kB/s eta 0:00:18\n",
      "   --------------------- ------------------ 1.1/2.1 MB 55.8 kB/s eta 0:00:18\n",
      "   --------------------- ------------------ 1.1/2.1 MB 55.8 kB/s eta 0:00:18\n",
      "   --------------------- ------------------ 1.1/2.1 MB 55.8 kB/s eta 0:00:18\n",
      "   --------------------- ------------------ 1.1/2.1 MB 55.8 kB/s eta 0:00:18\n",
      "   --------------------- ------------------ 1.1/2.1 MB 55.8 kB/s eta 0:00:18\n",
      "   --------------------- ------------------ 1.1/2.1 MB 55.8 kB/s eta 0:00:18\n",
      "   --------------------- ------------------ 1.1/2.1 MB 55.8 kB/s eta 0:00:18\n",
      "   --------------------- ------------------ 1.1/2.1 MB 55.8 kB/s eta 0:00:18\n",
      "   --------------------- ------------------ 1.1/2.1 MB 55.8 kB/s eta 0:00:18\n",
      "   --------------------- ------------------ 1.1/2.1 MB 55.8 kB/s eta 0:00:18\n",
      "   --------------------- ------------------ 1.1/2.1 MB 55.8 kB/s eta 0:00:18\n",
      "   --------------------- ------------------ 1.1/2.1 MB 55.8 kB/s eta 0:00:18\n",
      "   --------------------- ------------------ 1.1/2.1 MB 55.8 kB/s eta 0:00:18\n",
      "   --------------------- ------------------ 1.1/2.1 MB 55.8 kB/s eta 0:00:18\n",
      "   --------------------- ------------------ 1.1/2.1 MB 55.8 kB/s eta 0:00:18\n",
      "   --------------------- ------------------ 1.1/2.1 MB 55.8 kB/s eta 0:00:18\n",
      "   --------------------- ------------------ 1.1/2.1 MB 55.8 kB/s eta 0:00:18\n",
      "   --------------------- ------------------ 1.1/2.1 MB 55.8 kB/s eta 0:00:18\n",
      "   --------------------- ------------------ 1.1/2.1 MB 55.8 kB/s eta 0:00:18\n",
      "   --------------------- ------------------ 1.1/2.1 MB 55.8 kB/s eta 0:00:18\n",
      "   --------------------- ------------------ 1.1/2.1 MB 55.8 kB/s eta 0:00:18\n",
      "   --------------------- ------------------ 1.1/2.1 MB 55.8 kB/s eta 0:00:18\n",
      "   --------------------- ------------------ 1.1/2.1 MB 55.8 kB/s eta 0:00:18\n",
      "   --------------------- ------------------ 1.1/2.1 MB 55.8 kB/s eta 0:00:18\n",
      "   --------------------- ------------------ 1.1/2.1 MB 55.8 kB/s eta 0:00:18\n",
      "   --------------------- ------------------ 1.1/2.1 MB 55.8 kB/s eta 0:00:18\n",
      "   --------------------- ------------------ 1.1/2.1 MB 55.8 kB/s eta 0:00:18\n",
      "   --------------------- ------------------ 1.1/2.1 MB 55.8 kB/s eta 0:00:18\n",
      "   --------------------- ------------------ 1.1/2.1 MB 55.8 kB/s eta 0:00:18\n",
      "   --------------------- ------------------ 1.1/2.1 MB 55.8 kB/s eta 0:00:18\n",
      "   --------------------- ------------------ 1.1/2.1 MB 55.8 kB/s eta 0:00:18\n",
      "   --------------------- ------------------ 1.1/2.1 MB 55.8 kB/s eta 0:00:18\n",
      "   --------------------- ------------------ 1.1/2.1 MB 55.8 kB/s eta 0:00:18\n",
      "   --------------------- ------------------ 1.1/2.1 MB 55.8 kB/s eta 0:00:18\n",
      "   --------------------- ------------------ 1.1/2.1 MB 55.8 kB/s eta 0:00:18\n",
      "   --------------------- ------------------ 1.1/2.1 MB 55.8 kB/s eta 0:00:18\n",
      "   --------------------- ------------------ 1.1/2.1 MB 55.8 kB/s eta 0:00:18\n",
      "   --------------------- ------------------ 1.1/2.1 MB 55.8 kB/s eta 0:00:18\n",
      "   --------------------- ------------------ 1.1/2.1 MB 55.8 kB/s eta 0:00:18\n",
      "   --------------------- ------------------ 1.1/2.1 MB 55.8 kB/s eta 0:00:18\n",
      "   --------------------- ------------------ 1.1/2.1 MB 55.8 kB/s eta 0:00:18\n",
      "   --------------------- ------------------ 1.1/2.1 MB 55.8 kB/s eta 0:00:18\n",
      "   --------------------- ------------------ 1.1/2.1 MB 55.8 kB/s eta 0:00:18\n",
      "   --------------------- ------------------ 1.1/2.1 MB 55.8 kB/s eta 0:00:18\n",
      "   --------------------- ------------------ 1.1/2.1 MB 55.8 kB/s eta 0:00:18\n",
      "   --------------------- ------------------ 1.1/2.1 MB 55.8 kB/s eta 0:00:18\n",
      "   --------------------- ------------------ 1.1/2.1 MB 55.8 kB/s eta 0:00:18\n",
      "   --------------------- ------------------ 1.1/2.1 MB 55.8 kB/s eta 0:00:18\n",
      "   --------------------- ------------------ 1.1/2.1 MB 55.8 kB/s eta 0:00:18\n",
      "   --------------------- ------------------ 1.1/2.1 MB 55.8 kB/s eta 0:00:18\n",
      "   --------------------- ------------------ 1.1/2.1 MB 55.8 kB/s eta 0:00:18\n",
      "   --------------------- ------------------ 1.1/2.1 MB 55.8 kB/s eta 0:00:18\n",
      "   --------------------- ------------------ 1.1/2.1 MB 55.8 kB/s eta 0:00:18\n",
      "   --------------------- ------------------ 1.1/2.1 MB 55.8 kB/s eta 0:00:18\n",
      "   --------------------- ------------------ 1.1/2.1 MB 55.8 kB/s eta 0:00:18\n",
      "   --------------------- ------------------ 1.1/2.1 MB 55.8 kB/s eta 0:00:18\n",
      "   --------------------- ------------------ 1.1/2.1 MB 55.8 kB/s eta 0:00:18\n",
      "   --------------------- ------------------ 1.1/2.1 MB 55.8 kB/s eta 0:00:18\n",
      "   --------------------- ------------------ 1.1/2.1 MB 55.8 kB/s eta 0:00:18\n",
      "   --------------------- ------------------ 1.1/2.1 MB 55.8 kB/s eta 0:00:18\n",
      "   --------------------- ------------------ 1.1/2.1 MB 55.8 kB/s eta 0:00:18\n",
      "   --------------------- ------------------ 1.1/2.1 MB 55.8 kB/s eta 0:00:18\n",
      "   --------------------- ------------------ 1.1/2.1 MB 55.8 kB/s eta 0:00:18\n",
      "   --------------------- ------------------ 1.1/2.1 MB 55.8 kB/s eta 0:00:18\n",
      "   --------------------- ------------------ 1.1/2.1 MB 55.8 kB/s eta 0:00:18\n",
      "   --------------------- ------------------ 1.1/2.1 MB 55.8 kB/s eta 0:00:18\n",
      "   --------------------- ------------------ 1.1/2.1 MB 55.8 kB/s eta 0:00:18\n",
      "   --------------------- ------------------ 1.1/2.1 MB 55.8 kB/s eta 0:00:18\n",
      "   --------------------- ------------------ 1.1/2.1 MB 55.8 kB/s eta 0:00:18\n",
      "   --------------------- ------------------ 1.1/2.1 MB 55.8 kB/s eta 0:00:18\n",
      "   --------------------- ------------------ 1.1/2.1 MB 55.8 kB/s eta 0:00:18\n",
      "   --------------------- ------------------ 1.1/2.1 MB 55.8 kB/s eta 0:00:18\n",
      "   --------------------- ------------------ 1.1/2.1 MB 55.8 kB/s eta 0:00:18\n",
      "   --------------------- ------------------ 1.1/2.1 MB 55.8 kB/s eta 0:00:18\n",
      "   --------------------- ------------------ 1.1/2.1 MB 55.8 kB/s eta 0:00:18\n",
      "   --------------------- ------------------ 1.1/2.1 MB 55.8 kB/s eta 0:00:18\n",
      "   --------------------- ------------------ 1.1/2.1 MB 55.8 kB/s eta 0:00:18\n",
      "   --------------------- ------------------ 1.1/2.1 MB 55.8 kB/s eta 0:00:18\n",
      "   --------------------- ------------------ 1.1/2.1 MB 55.8 kB/s eta 0:00:18\n",
      "   --------------------- ------------------ 1.1/2.1 MB 55.8 kB/s eta 0:00:18\n",
      "   --------------------- ------------------ 1.1/2.1 MB 55.8 kB/s eta 0:00:18\n",
      "   --------------------- ------------------ 1.1/2.1 MB 55.8 kB/s eta 0:00:18\n",
      "   --------------------- ------------------ 1.1/2.1 MB 55.8 kB/s eta 0:00:18\n",
      "   --------------------- ------------------ 1.1/2.1 MB 55.8 kB/s eta 0:00:18\n",
      "   --------------------- ------------------ 1.1/2.1 MB 55.8 kB/s eta 0:00:18\n",
      "   --------------------- ------------------ 1.1/2.1 MB 55.8 kB/s eta 0:00:18\n",
      "   --------------------- ------------------ 1.1/2.1 MB 55.8 kB/s eta 0:00:18\n",
      "   --------------------- ------------------ 1.1/2.1 MB 55.8 kB/s eta 0:00:18\n",
      "   --------------------- ------------------ 1.1/2.1 MB 55.8 kB/s eta 0:00:18\n",
      "   --------------------- ------------------ 1.1/2.1 MB 55.8 kB/s eta 0:00:18\n",
      "   --------------------- ------------------ 1.1/2.1 MB 55.8 kB/s eta 0:00:18\n",
      "   --------------------- ------------------ 1.1/2.1 MB 55.8 kB/s eta 0:00:18\n",
      "   --------------------- ------------------ 1.1/2.1 MB 55.8 kB/s eta 0:00:18\n",
      "   --------------------- ------------------ 1.1/2.1 MB 55.8 kB/s eta 0:00:18\n",
      "   --------------------- ------------------ 1.1/2.1 MB 55.8 kB/s eta 0:00:18\n",
      "   ---------------------- ----------------- 1.2/2.1 MB 45.4 kB/s eta 0:00:21\n",
      "   ---------------------- ----------------- 1.2/2.1 MB 45.4 kB/s eta 0:00:21\n",
      "   ---------------------- ----------------- 1.2/2.1 MB 45.4 kB/s eta 0:00:21\n",
      "   ---------------------- ----------------- 1.2/2.1 MB 45.4 kB/s eta 0:00:21\n",
      "   ---------------------- ----------------- 1.2/2.1 MB 45.4 kB/s eta 0:00:21\n",
      "   ---------------------- ----------------- 1.2/2.1 MB 45.4 kB/s eta 0:00:21\n",
      "   ---------------------- ----------------- 1.2/2.1 MB 45.4 kB/s eta 0:00:21\n",
      "   ---------------------- ----------------- 1.2/2.1 MB 45.4 kB/s eta 0:00:21\n",
      "   ---------------------- ----------------- 1.2/2.1 MB 45.4 kB/s eta 0:00:21\n",
      "   ---------------------- ----------------- 1.2/2.1 MB 45.4 kB/s eta 0:00:21\n",
      "   ---------------------- ----------------- 1.2/2.1 MB 45.4 kB/s eta 0:00:21\n",
      "   ---------------------- ----------------- 1.2/2.1 MB 45.4 kB/s eta 0:00:21\n",
      "   ---------------------- ----------------- 1.2/2.1 MB 45.4 kB/s eta 0:00:21\n",
      "   ---------------------- ----------------- 1.2/2.1 MB 45.4 kB/s eta 0:00:21\n",
      "   ---------------------- ----------------- 1.2/2.1 MB 45.4 kB/s eta 0:00:21\n",
      "   ---------------------- ----------------- 1.2/2.1 MB 45.4 kB/s eta 0:00:21\n",
      "   ---------------------- ----------------- 1.2/2.1 MB 45.4 kB/s eta 0:00:21\n",
      "   ---------------------- ----------------- 1.2/2.1 MB 45.4 kB/s eta 0:00:21\n",
      "   ---------------------- ----------------- 1.2/2.1 MB 45.4 kB/s eta 0:00:21\n",
      "   ---------------------- ----------------- 1.2/2.1 MB 45.4 kB/s eta 0:00:21\n",
      "   ---------------------- ----------------- 1.2/2.1 MB 45.4 kB/s eta 0:00:21\n",
      "   ---------------------- ----------------- 1.2/2.1 MB 45.4 kB/s eta 0:00:21\n",
      "   ---------------------- ----------------- 1.2/2.1 MB 45.4 kB/s eta 0:00:21\n",
      "   ---------------------- ----------------- 1.2/2.1 MB 45.4 kB/s eta 0:00:21\n",
      "   ---------------------- ----------------- 1.2/2.1 MB 45.4 kB/s eta 0:00:21\n",
      "   ---------------------- ----------------- 1.2/2.1 MB 45.4 kB/s eta 0:00:21\n",
      "   ---------------------- ----------------- 1.2/2.1 MB 45.4 kB/s eta 0:00:21\n",
      "   ---------------------- ----------------- 1.2/2.1 MB 45.4 kB/s eta 0:00:21\n",
      "   ---------------------- ----------------- 1.2/2.1 MB 45.4 kB/s eta 0:00:21\n",
      "   ---------------------- ----------------- 1.2/2.1 MB 45.4 kB/s eta 0:00:21\n",
      "   ---------------------- ----------------- 1.2/2.1 MB 45.4 kB/s eta 0:00:21\n",
      "   ---------------------- ----------------- 1.2/2.1 MB 45.4 kB/s eta 0:00:21\n",
      "   ---------------------- ----------------- 1.2/2.1 MB 45.4 kB/s eta 0:00:21\n",
      "   ---------------------- ----------------- 1.2/2.1 MB 45.4 kB/s eta 0:00:21\n",
      "   ---------------------- ----------------- 1.2/2.1 MB 45.4 kB/s eta 0:00:21\n",
      "   ---------------------- ----------------- 1.2/2.1 MB 45.4 kB/s eta 0:00:21\n",
      "   ---------------------- ----------------- 1.2/2.1 MB 45.4 kB/s eta 0:00:21\n",
      "   ---------------------- ----------------- 1.2/2.1 MB 45.4 kB/s eta 0:00:21\n",
      "   ---------------------- ----------------- 1.2/2.1 MB 45.4 kB/s eta 0:00:21\n",
      "   ---------------------- ----------------- 1.2/2.1 MB 45.4 kB/s eta 0:00:21\n",
      "   ---------------------- ----------------- 1.2/2.1 MB 45.4 kB/s eta 0:00:21\n",
      "   ---------------------- ----------------- 1.2/2.1 MB 45.4 kB/s eta 0:00:21\n",
      "   ---------------------- ----------------- 1.2/2.1 MB 45.4 kB/s eta 0:00:21\n",
      "   ---------------------- ----------------- 1.2/2.1 MB 45.4 kB/s eta 0:00:21\n",
      "   ---------------------- ----------------- 1.2/2.1 MB 45.4 kB/s eta 0:00:21\n",
      "   ---------------------- ----------------- 1.2/2.1 MB 45.4 kB/s eta 0:00:21\n",
      "   ---------------------- ----------------- 1.2/2.1 MB 45.4 kB/s eta 0:00:21\n",
      "   ---------------------- ----------------- 1.2/2.1 MB 45.4 kB/s eta 0:00:21\n",
      "   ---------------------- ----------------- 1.2/2.1 MB 45.4 kB/s eta 0:00:21\n",
      "   ---------------------- ----------------- 1.2/2.1 MB 45.4 kB/s eta 0:00:21\n",
      "   ---------------------- ----------------- 1.2/2.1 MB 45.4 kB/s eta 0:00:21\n",
      "   ---------------------- ----------------- 1.2/2.1 MB 45.4 kB/s eta 0:00:21\n",
      "   ---------------------- ----------------- 1.2/2.1 MB 45.4 kB/s eta 0:00:21\n",
      "   ---------------------- ----------------- 1.2/2.1 MB 45.4 kB/s eta 0:00:21\n",
      "   ---------------------- ----------------- 1.2/2.1 MB 45.4 kB/s eta 0:00:21\n",
      "   ---------------------- ----------------- 1.2/2.1 MB 45.4 kB/s eta 0:00:21\n",
      "   ---------------------- ----------------- 1.2/2.1 MB 45.4 kB/s eta 0:00:21\n",
      "   ---------------------- ----------------- 1.2/2.1 MB 45.4 kB/s eta 0:00:21\n",
      "   ---------------------- ----------------- 1.2/2.1 MB 45.4 kB/s eta 0:00:21\n",
      "   ---------------------- ----------------- 1.2/2.1 MB 45.4 kB/s eta 0:00:21\n",
      "   ---------------------- ----------------- 1.2/2.1 MB 45.4 kB/s eta 0:00:21\n",
      "   ---------------------- ----------------- 1.2/2.1 MB 45.4 kB/s eta 0:00:21\n",
      "   ---------------------- ----------------- 1.2/2.1 MB 45.4 kB/s eta 0:00:21\n",
      "   ---------------------- ----------------- 1.2/2.1 MB 45.4 kB/s eta 0:00:21\n",
      "   ---------------------- ----------------- 1.2/2.1 MB 45.4 kB/s eta 0:00:21\n",
      "   ---------------------- ----------------- 1.2/2.1 MB 45.4 kB/s eta 0:00:21\n",
      "   ---------------------- ----------------- 1.2/2.1 MB 45.4 kB/s eta 0:00:21\n",
      "   ---------------------- ----------------- 1.2/2.1 MB 45.4 kB/s eta 0:00:21\n",
      "   ---------------------- ----------------- 1.2/2.1 MB 45.4 kB/s eta 0:00:21\n",
      "   ---------------------- ----------------- 1.2/2.1 MB 45.4 kB/s eta 0:00:21\n",
      "   ---------------------- ----------------- 1.2/2.1 MB 45.4 kB/s eta 0:00:21\n",
      "   ---------------------- ----------------- 1.2/2.1 MB 45.4 kB/s eta 0:00:21\n",
      "   ---------------------- ----------------- 1.2/2.1 MB 45.4 kB/s eta 0:00:21\n",
      "   ---------------------- ----------------- 1.2/2.1 MB 45.4 kB/s eta 0:00:21\n",
      "   ---------------------- ----------------- 1.2/2.1 MB 45.4 kB/s eta 0:00:21\n",
      "   ---------------------- ----------------- 1.2/2.1 MB 45.4 kB/s eta 0:00:21\n",
      "   ---------------------- ----------------- 1.2/2.1 MB 45.4 kB/s eta 0:00:21\n",
      "   ---------------------- ----------------- 1.2/2.1 MB 45.4 kB/s eta 0:00:21\n",
      "   ---------------------- ----------------- 1.2/2.1 MB 45.4 kB/s eta 0:00:21\n",
      "   ---------------------- ----------------- 1.2/2.1 MB 45.4 kB/s eta 0:00:21\n",
      "   ---------------------- ----------------- 1.2/2.1 MB 45.4 kB/s eta 0:00:21\n",
      "   ---------------------- ----------------- 1.2/2.1 MB 45.4 kB/s eta 0:00:21\n",
      "   ---------------------- ----------------- 1.2/2.1 MB 45.4 kB/s eta 0:00:21\n",
      "   ---------------------- ----------------- 1.2/2.1 MB 45.4 kB/s eta 0:00:21\n",
      "   ---------------------- ----------------- 1.2/2.1 MB 45.4 kB/s eta 0:00:21\n",
      "   ---------------------- ----------------- 1.2/2.1 MB 45.4 kB/s eta 0:00:21\n",
      "   ---------------------- ----------------- 1.2/2.1 MB 45.4 kB/s eta 0:00:21\n",
      "   ---------------------- ----------------- 1.2/2.1 MB 45.4 kB/s eta 0:00:21\n",
      "   ---------------------- ----------------- 1.2/2.1 MB 45.4 kB/s eta 0:00:21\n",
      "   ---------------------- ----------------- 1.2/2.1 MB 45.4 kB/s eta 0:00:21\n",
      "   ---------------------- ----------------- 1.2/2.1 MB 45.4 kB/s eta 0:00:21\n",
      "   ---------------------- ----------------- 1.2/2.1 MB 45.4 kB/s eta 0:00:21\n",
      "   ---------------------- ----------------- 1.2/2.1 MB 45.4 kB/s eta 0:00:21\n",
      "   ---------------------- ----------------- 1.2/2.1 MB 45.4 kB/s eta 0:00:21\n",
      "   ---------------------- ----------------- 1.2/2.1 MB 45.4 kB/s eta 0:00:21\n",
      "   ---------------------- ----------------- 1.2/2.1 MB 45.4 kB/s eta 0:00:21\n",
      "   ---------------------- ----------------- 1.2/2.1 MB 45.4 kB/s eta 0:00:21\n",
      "   ---------------------- ----------------- 1.2/2.1 MB 45.4 kB/s eta 0:00:21\n",
      "   ---------------------- ----------------- 1.2/2.1 MB 45.4 kB/s eta 0:00:21\n",
      "   ---------------------- ----------------- 1.2/2.1 MB 45.4 kB/s eta 0:00:21\n",
      "   ---------------------- ----------------- 1.2/2.1 MB 45.4 kB/s eta 0:00:21\n",
      "   ---------------------- ----------------- 1.2/2.1 MB 45.4 kB/s eta 0:00:21\n",
      "   ---------------------- ----------------- 1.2/2.1 MB 45.4 kB/s eta 0:00:21\n",
      "   ---------------------- ----------------- 1.2/2.1 MB 45.4 kB/s eta 0:00:21\n",
      "   ---------------------- ----------------- 1.2/2.1 MB 45.4 kB/s eta 0:00:21\n",
      "   ---------------------- ----------------- 1.2/2.1 MB 45.4 kB/s eta 0:00:21\n",
      "   ---------------------- ----------------- 1.2/2.1 MB 45.4 kB/s eta 0:00:21\n",
      "   ---------------------- ----------------- 1.2/2.1 MB 45.4 kB/s eta 0:00:21\n",
      "   ---------------------- ----------------- 1.2/2.1 MB 45.4 kB/s eta 0:00:21\n",
      "   ---------------------- ----------------- 1.2/2.1 MB 45.4 kB/s eta 0:00:21\n",
      "   ---------------------- ----------------- 1.2/2.1 MB 45.4 kB/s eta 0:00:21\n",
      "   ---------------------- ----------------- 1.2/2.1 MB 45.4 kB/s eta 0:00:21\n",
      "   ---------------------- ----------------- 1.2/2.1 MB 45.4 kB/s eta 0:00:21\n",
      "   ---------------------- ----------------- 1.2/2.1 MB 45.4 kB/s eta 0:00:21\n",
      "   ---------------------- ----------------- 1.2/2.1 MB 45.4 kB/s eta 0:00:21\n",
      "   ---------------------- ----------------- 1.2/2.1 MB 45.4 kB/s eta 0:00:21\n",
      "   ------------------------ --------------- 1.3/2.1 MB 9.6 kB/s eta 0:01:27\n",
      "   ------------------------ --------------- 1.3/2.1 MB 9.6 kB/s eta 0:01:27\n",
      "   ------------------------ --------------- 1.3/2.1 MB 9.6 kB/s eta 0:01:27\n",
      "   ------------------------ --------------- 1.3/2.1 MB 9.6 kB/s eta 0:01:27\n",
      "   ------------------------ --------------- 1.3/2.1 MB 9.6 kB/s eta 0:01:27\n",
      "   ------------------------ --------------- 1.3/2.1 MB 9.6 kB/s eta 0:01:27\n",
      "   ------------------------ --------------- 1.3/2.1 MB 9.6 kB/s eta 0:01:27\n",
      "   ------------------------ --------------- 1.3/2.1 MB 9.6 kB/s eta 0:01:27\n",
      "   ------------------------ --------------- 1.3/2.1 MB 9.6 kB/s eta 0:01:27\n",
      "   ------------------------ --------------- 1.3/2.1 MB 9.6 kB/s eta 0:01:27\n",
      "   ------------------------ --------------- 1.3/2.1 MB 9.6 kB/s eta 0:01:27\n",
      "   ------------------------ --------------- 1.3/2.1 MB 9.6 kB/s eta 0:01:27\n",
      "   ------------------------ --------------- 1.3/2.1 MB 11.0 kB/s eta 0:01:14\n",
      "   ------------------------ --------------- 1.3/2.1 MB 11.0 kB/s eta 0:01:14\n",
      "   ------------------------ --------------- 1.3/2.1 MB 11.0 kB/s eta 0:01:14\n",
      "   ------------------------ --------------- 1.3/2.1 MB 11.0 kB/s eta 0:01:14\n",
      "   ------------------------ --------------- 1.3/2.1 MB 11.0 kB/s eta 0:01:14\n",
      "   ------------------------ --------------- 1.3/2.1 MB 11.0 kB/s eta 0:01:14\n",
      "   ------------------------ --------------- 1.3/2.1 MB 11.3 kB/s eta 0:01:11\n",
      "   ------------------------ --------------- 1.3/2.1 MB 11.3 kB/s eta 0:01:11\n",
      "   ------------------------ --------------- 1.3/2.1 MB 11.3 kB/s eta 0:01:11\n",
      "   ------------------------ --------------- 1.3/2.1 MB 11.3 kB/s eta 0:01:11\n",
      "   ------------------------ --------------- 1.3/2.1 MB 11.3 kB/s eta 0:01:11\n",
      "   ------------------------ --------------- 1.3/2.1 MB 11.3 kB/s eta 0:01:11\n",
      "   ------------------------ --------------- 1.3/2.1 MB 11.3 kB/s eta 0:01:11\n",
      "   ------------------------ --------------- 1.3/2.1 MB 11.3 kB/s eta 0:01:11\n",
      "   ------------------------ --------------- 1.3/2.1 MB 11.3 kB/s eta 0:01:11\n",
      "   ------------------------ --------------- 1.3/2.1 MB 11.3 kB/s eta 0:01:11\n",
      "   ------------------------ --------------- 1.3/2.1 MB 11.3 kB/s eta 0:01:11\n",
      "   ------------------------ --------------- 1.3/2.1 MB 11.3 kB/s eta 0:01:11\n",
      "   ------------------------ --------------- 1.3/2.1 MB 11.3 kB/s eta 0:01:11\n",
      "   ------------------------ --------------- 1.3/2.1 MB 11.3 kB/s eta 0:01:11\n",
      "   ------------------------ --------------- 1.3/2.1 MB 11.3 kB/s eta 0:01:11\n",
      "   ------------------------ --------------- 1.3/2.1 MB 11.3 kB/s eta 0:01:11\n",
      "   ------------------------ --------------- 1.3/2.1 MB 11.3 kB/s eta 0:01:11\n",
      "   ------------------------ --------------- 1.3/2.1 MB 11.3 kB/s eta 0:01:11\n",
      "   ------------------------ --------------- 1.3/2.1 MB 11.3 kB/s eta 0:01:11\n",
      "   ------------------------ --------------- 1.3/2.1 MB 11.3 kB/s eta 0:01:11\n",
      "   ------------------------ --------------- 1.3/2.1 MB 11.3 kB/s eta 0:01:11\n",
      "   ------------------------ --------------- 1.3/2.1 MB 11.3 kB/s eta 0:01:11\n",
      "   ------------------------ --------------- 1.3/2.1 MB 11.3 kB/s eta 0:01:11\n",
      "   ------------------------ --------------- 1.3/2.1 MB 11.3 kB/s eta 0:01:11\n",
      "   ------------------------ --------------- 1.3/2.1 MB 11.3 kB/s eta 0:01:11\n",
      "   ------------------------ --------------- 1.3/2.1 MB 11.3 kB/s eta 0:01:11\n",
      "   ------------------------ --------------- 1.3/2.1 MB 11.3 kB/s eta 0:01:11\n",
      "   ------------------------ --------------- 1.3/2.1 MB 11.3 kB/s eta 0:01:11\n",
      "   ------------------------ --------------- 1.3/2.1 MB 11.3 kB/s eta 0:01:11\n",
      "   ------------------------ --------------- 1.3/2.1 MB 11.3 kB/s eta 0:01:11\n",
      "   ------------------------ --------------- 1.3/2.1 MB 11.3 kB/s eta 0:01:11\n",
      "   ------------------------ --------------- 1.3/2.1 MB 11.3 kB/s eta 0:01:11\n",
      "   ------------------------ --------------- 1.3/2.1 MB 11.3 kB/s eta 0:01:11\n",
      "   ------------------------ --------------- 1.3/2.1 MB 11.3 kB/s eta 0:01:11\n",
      "   ------------------------ --------------- 1.3/2.1 MB 11.3 kB/s eta 0:01:11\n",
      "   ------------------------ --------------- 1.3/2.1 MB 11.3 kB/s eta 0:01:11\n",
      "   ------------------------ --------------- 1.3/2.1 MB 11.3 kB/s eta 0:01:11\n",
      "   ------------------------ --------------- 1.3/2.1 MB 11.3 kB/s eta 0:01:11\n",
      "   ------------------------ --------------- 1.3/2.1 MB 11.3 kB/s eta 0:01:11\n",
      "   ------------------------ --------------- 1.3/2.1 MB 11.3 kB/s eta 0:01:11\n",
      "   ------------------------ --------------- 1.3/2.1 MB 11.3 kB/s eta 0:01:11\n",
      "   ------------------------ --------------- 1.3/2.1 MB 11.3 kB/s eta 0:01:11\n",
      "   ------------------------ --------------- 1.3/2.1 MB 11.3 kB/s eta 0:01:11\n",
      "   ------------------------ --------------- 1.3/2.1 MB 11.3 kB/s eta 0:01:11\n",
      "   ------------------------ --------------- 1.3/2.1 MB 11.3 kB/s eta 0:01:11\n",
      "   ------------------------ --------------- 1.3/2.1 MB 11.3 kB/s eta 0:01:11\n",
      "   ------------------------ --------------- 1.3/2.1 MB 11.3 kB/s eta 0:01:11\n",
      "   ------------------------ --------------- 1.3/2.1 MB 11.3 kB/s eta 0:01:11\n",
      "   ------------------------ --------------- 1.3/2.1 MB 11.3 kB/s eta 0:01:11\n",
      "   ------------------------ --------------- 1.3/2.1 MB 11.3 kB/s eta 0:01:11\n",
      "   ------------------------ --------------- 1.3/2.1 MB 11.3 kB/s eta 0:01:11\n",
      "   ------------------------ --------------- 1.3/2.1 MB 11.3 kB/s eta 0:01:11\n",
      "   ------------------------ --------------- 1.3/2.1 MB 11.3 kB/s eta 0:01:11\n",
      "   ------------------------ --------------- 1.3/2.1 MB 11.3 kB/s eta 0:01:11\n",
      "   ------------------------ --------------- 1.3/2.1 MB 11.3 kB/s eta 0:01:11\n",
      "   ------------------------ --------------- 1.3/2.1 MB 11.3 kB/s eta 0:01:11\n",
      "   ------------------------ --------------- 1.3/2.1 MB 11.3 kB/s eta 0:01:11\n",
      "   ------------------------ --------------- 1.3/2.1 MB 11.3 kB/s eta 0:01:11\n",
      "   ------------------------ --------------- 1.3/2.1 MB 11.3 kB/s eta 0:01:11\n",
      "   ------------------------ --------------- 1.3/2.1 MB 11.3 kB/s eta 0:01:11\n",
      "   ------------------------ --------------- 1.3/2.1 MB 11.3 kB/s eta 0:01:11\n",
      "   ------------------------ --------------- 1.3/2.1 MB 11.3 kB/s eta 0:01:11\n",
      "   ------------------------ --------------- 1.3/2.1 MB 11.3 kB/s eta 0:01:11\n",
      "   ------------------------ --------------- 1.3/2.1 MB 11.3 kB/s eta 0:01:11\n",
      "   ------------------------ --------------- 1.3/2.1 MB 11.3 kB/s eta 0:01:11\n",
      "   ------------------------ --------------- 1.3/2.1 MB 11.3 kB/s eta 0:01:11\n",
      "   ------------------------ --------------- 1.3/2.1 MB 11.3 kB/s eta 0:01:11\n",
      "   ------------------------ --------------- 1.3/2.1 MB 11.3 kB/s eta 0:01:11\n",
      "   ------------------------ --------------- 1.3/2.1 MB 11.3 kB/s eta 0:01:11\n",
      "   ------------------------ --------------- 1.3/2.1 MB 11.3 kB/s eta 0:01:11\n",
      "   ------------------------ --------------- 1.3/2.1 MB 11.3 kB/s eta 0:01:11\n",
      "   ------------------------ --------------- 1.3/2.1 MB 11.3 kB/s eta 0:01:11\n",
      "   ------------------------ --------------- 1.3/2.1 MB 11.3 kB/s eta 0:01:11\n",
      "   ------------------------ --------------- 1.3/2.1 MB 11.3 kB/s eta 0:01:11\n",
      "   ------------------------ --------------- 1.3/2.1 MB 11.3 kB/s eta 0:01:11\n",
      "   ------------------------ --------------- 1.3/2.1 MB 11.3 kB/s eta 0:01:11\n",
      "   ------------------------ --------------- 1.3/2.1 MB 11.3 kB/s eta 0:01:11\n",
      "   ------------------------ --------------- 1.3/2.1 MB 11.3 kB/s eta 0:01:11\n",
      "   ------------------------ --------------- 1.3/2.1 MB 11.3 kB/s eta 0:01:11\n",
      "   ------------------------ --------------- 1.3/2.1 MB 11.3 kB/s eta 0:01:11\n",
      "   ------------------------ --------------- 1.3/2.1 MB 11.3 kB/s eta 0:01:11\n",
      "   ------------------------ --------------- 1.3/2.1 MB 11.3 kB/s eta 0:01:11\n",
      "   ------------------------ --------------- 1.3/2.1 MB 11.3 kB/s eta 0:01:11\n",
      "   ------------------------ --------------- 1.3/2.1 MB 11.3 kB/s eta 0:01:11\n",
      "   ------------------------ --------------- 1.3/2.1 MB 11.3 kB/s eta 0:01:11\n",
      "   ------------------------ --------------- 1.3/2.1 MB 11.3 kB/s eta 0:01:11\n",
      "   ------------------------- -------------- 1.4/2.1 MB 11.6 kB/s eta 0:01:05\n",
      "   ------------------------- -------------- 1.4/2.1 MB 11.6 kB/s eta 0:01:05\n",
      "   ------------------------- -------------- 1.4/2.1 MB 11.6 kB/s eta 0:01:05\n",
      "   ------------------------- -------------- 1.4/2.1 MB 11.6 kB/s eta 0:01:05\n",
      "   ------------------------- -------------- 1.4/2.1 MB 11.6 kB/s eta 0:01:05\n",
      "   ------------------------- -------------- 1.4/2.1 MB 11.6 kB/s eta 0:01:05\n",
      "   ------------------------- -------------- 1.4/2.1 MB 11.6 kB/s eta 0:01:05\n",
      "   -------------------------- ------------- 1.4/2.1 MB 12.3 kB/s eta 0:00:59\n",
      "   -------------------------- ------------- 1.4/2.1 MB 12.3 kB/s eta 0:00:59\n",
      "   -------------------------- ------------- 1.4/2.1 MB 12.3 kB/s eta 0:00:59\n",
      "   -------------------------- ------------- 1.4/2.1 MB 12.3 kB/s eta 0:00:59\n",
      "   -------------------------- ------------- 1.4/2.1 MB 12.3 kB/s eta 0:00:59\n",
      "   -------------------------- ------------- 1.4/2.1 MB 12.3 kB/s eta 0:00:59\n",
      "   -------------------------- ------------- 1.4/2.1 MB 12.3 kB/s eta 0:00:59\n",
      "   -------------------------- ------------- 1.4/2.1 MB 12.6 kB/s eta 0:00:57\n",
      "   -------------------------- ------------- 1.4/2.1 MB 12.6 kB/s eta 0:00:57\n",
      "   -------------------------- ------------- 1.4/2.1 MB 12.6 kB/s eta 0:00:57\n",
      "   -------------------------- ------------- 1.4/2.1 MB 12.6 kB/s eta 0:00:57\n",
      "   -------------------------- ------------- 1.4/2.1 MB 12.6 kB/s eta 0:00:57\n",
      "   -------------------------- ------------- 1.4/2.1 MB 12.6 kB/s eta 0:00:57\n",
      "   -------------------------- ------------- 1.4/2.1 MB 12.6 kB/s eta 0:00:57\n",
      "   -------------------------- ------------- 1.4/2.1 MB 12.6 kB/s eta 0:00:57\n",
      "   -------------------------- ------------- 1.4/2.1 MB 12.6 kB/s eta 0:00:57\n",
      "   -------------------------- ------------- 1.4/2.1 MB 13.2 kB/s eta 0:00:53\n",
      "   -------------------------- ------------- 1.4/2.1 MB 13.2 kB/s eta 0:00:53\n",
      "   -------------------------- ------------- 1.4/2.1 MB 13.2 kB/s eta 0:00:53\n",
      "   -------------------------- ------------- 1.4/2.1 MB 13.2 kB/s eta 0:00:53\n",
      "   -------------------------- ------------- 1.4/2.1 MB 13.2 kB/s eta 0:00:53\n",
      "   -------------------------- ------------- 1.4/2.1 MB 13.2 kB/s eta 0:00:53\n",
      "   -------------------------- ------------- 1.4/2.1 MB 13.2 kB/s eta 0:00:53\n",
      "   -------------------------- ------------- 1.4/2.1 MB 13.2 kB/s eta 0:00:53\n",
      "   -------------------------- ------------- 1.4/2.1 MB 13.2 kB/s eta 0:00:53\n",
      "   -------------------------- ------------- 1.4/2.1 MB 13.2 kB/s eta 0:00:53\n",
      "   -------------------------- ------------- 1.4/2.1 MB 13.2 kB/s eta 0:00:53\n",
      "   -------------------------- ------------- 1.4/2.1 MB 13.2 kB/s eta 0:00:53\n",
      "   -------------------------- ------------- 1.4/2.1 MB 13.2 kB/s eta 0:00:53\n",
      "   -------------------------- ------------- 1.4/2.1 MB 13.2 kB/s eta 0:00:53\n",
      "   -------------------------- ------------- 1.4/2.1 MB 13.2 kB/s eta 0:00:53\n",
      "   -------------------------- ------------- 1.4/2.1 MB 13.2 kB/s eta 0:00:53\n",
      "   -------------------------- ------------- 1.4/2.1 MB 13.2 kB/s eta 0:00:53\n",
      "   -------------------------- ------------- 1.4/2.1 MB 13.2 kB/s eta 0:00:53\n",
      "   -------------------------- ------------- 1.4/2.1 MB 13.2 kB/s eta 0:00:53\n",
      "   -------------------------- ------------- 1.4/2.1 MB 13.2 kB/s eta 0:00:53\n",
      "   -------------------------- ------------- 1.4/2.1 MB 13.2 kB/s eta 0:00:53\n",
      "   -------------------------- ------------- 1.4/2.1 MB 13.2 kB/s eta 0:00:53\n",
      "   -------------------------- ------------- 1.4/2.1 MB 13.2 kB/s eta 0:00:53\n",
      "   -------------------------- ------------- 1.4/2.1 MB 13.2 kB/s eta 0:00:53\n",
      "   -------------------------- ------------- 1.4/2.1 MB 13.2 kB/s eta 0:00:53\n",
      "   -------------------------- ------------- 1.4/2.1 MB 13.2 kB/s eta 0:00:53\n",
      "   -------------------------- ------------- 1.4/2.1 MB 13.2 kB/s eta 0:00:53\n",
      "   -------------------------- ------------- 1.4/2.1 MB 13.2 kB/s eta 0:00:53\n",
      "   -------------------------- ------------- 1.4/2.1 MB 13.2 kB/s eta 0:00:53\n",
      "   -------------------------- ------------- 1.4/2.1 MB 13.2 kB/s eta 0:00:53\n",
      "   -------------------------- ------------- 1.4/2.1 MB 13.2 kB/s eta 0:00:53\n",
      "   -------------------------- ------------- 1.4/2.1 MB 13.2 kB/s eta 0:00:53\n",
      "   -------------------------- ------------- 1.4/2.1 MB 13.2 kB/s eta 0:00:53\n",
      "   -------------------------- ------------- 1.4/2.1 MB 13.2 kB/s eta 0:00:53\n",
      "   -------------------------- ------------- 1.4/2.1 MB 13.2 kB/s eta 0:00:53\n",
      "   -------------------------- ------------- 1.4/2.1 MB 13.2 kB/s eta 0:00:53\n",
      "   -------------------------- ------------- 1.4/2.1 MB 13.2 kB/s eta 0:00:53\n",
      "   -------------------------- ------------- 1.4/2.1 MB 13.2 kB/s eta 0:00:53\n",
      "   -------------------------- ------------- 1.4/2.1 MB 13.2 kB/s eta 0:00:53\n",
      "   -------------------------- ------------- 1.4/2.1 MB 13.2 kB/s eta 0:00:53\n",
      "   -------------------------- ------------- 1.4/2.1 MB 13.2 kB/s eta 0:00:53\n",
      "   -------------------------- ------------- 1.4/2.1 MB 13.2 kB/s eta 0:00:53\n",
      "   -------------------------- ------------- 1.4/2.1 MB 13.2 kB/s eta 0:00:53\n",
      "   -------------------------- ------------- 1.4/2.1 MB 13.2 kB/s eta 0:00:53\n",
      "   -------------------------- ------------- 1.4/2.1 MB 13.2 kB/s eta 0:00:53\n",
      "   -------------------------- ------------- 1.4/2.1 MB 13.2 kB/s eta 0:00:53\n",
      "   -------------------------- ------------- 1.4/2.1 MB 13.2 kB/s eta 0:00:53\n",
      "   -------------------------- ------------- 1.4/2.1 MB 13.2 kB/s eta 0:00:53\n",
      "   -------------------------- ------------- 1.4/2.1 MB 13.2 kB/s eta 0:00:53\n",
      "   -------------------------- ------------- 1.4/2.1 MB 13.2 kB/s eta 0:00:53\n",
      "   -------------------------- ------------- 1.4/2.1 MB 13.2 kB/s eta 0:00:53\n",
      "   -------------------------- ------------- 1.4/2.1 MB 13.2 kB/s eta 0:00:53\n",
      "   -------------------------- ------------- 1.4/2.1 MB 13.2 kB/s eta 0:00:53\n",
      "   -------------------------- ------------- 1.4/2.1 MB 13.2 kB/s eta 0:00:53\n",
      "   -------------------------- ------------- 1.4/2.1 MB 13.2 kB/s eta 0:00:53\n",
      "   -------------------------- ------------- 1.4/2.1 MB 13.2 kB/s eta 0:00:53\n",
      "   -------------------------- ------------- 1.4/2.1 MB 13.2 kB/s eta 0:00:53\n",
      "   -------------------------- ------------- 1.4/2.1 MB 13.2 kB/s eta 0:00:53\n",
      "   -------------------------- ------------- 1.4/2.1 MB 13.2 kB/s eta 0:00:53\n",
      "   -------------------------- ------------- 1.4/2.1 MB 13.2 kB/s eta 0:00:53\n",
      "   -------------------------- ------------- 1.4/2.1 MB 13.2 kB/s eta 0:00:53\n",
      "   -------------------------- ------------- 1.4/2.1 MB 13.2 kB/s eta 0:00:53\n",
      "   -------------------------- ------------- 1.4/2.1 MB 13.2 kB/s eta 0:00:53\n",
      "   -------------------------- ------------- 1.4/2.1 MB 13.2 kB/s eta 0:00:53\n",
      "   -------------------------- ------------- 1.4/2.1 MB 13.2 kB/s eta 0:00:53\n",
      "   -------------------------- ------------- 1.4/2.1 MB 13.2 kB/s eta 0:00:53\n",
      "   -------------------------- ------------- 1.4/2.1 MB 13.2 kB/s eta 0:00:53\n",
      "   -------------------------- ------------- 1.4/2.1 MB 13.2 kB/s eta 0:00:53\n",
      "   -------------------------- ------------- 1.4/2.1 MB 13.2 kB/s eta 0:00:53\n",
      "   -------------------------- ------------- 1.4/2.1 MB 13.2 kB/s eta 0:00:53\n",
      "   -------------------------- ------------- 1.4/2.1 MB 13.2 kB/s eta 0:00:53\n",
      "   -------------------------- ------------- 1.4/2.1 MB 13.2 kB/s eta 0:00:53\n",
      "   -------------------------- ------------- 1.4/2.1 MB 13.2 kB/s eta 0:00:53\n",
      "   -------------------------- ------------- 1.4/2.1 MB 13.2 kB/s eta 0:00:53\n",
      "   -------------------------- ------------- 1.4/2.1 MB 13.2 kB/s eta 0:00:53\n",
      "   -------------------------- ------------- 1.4/2.1 MB 13.2 kB/s eta 0:00:53\n",
      "   -------------------------- ------------- 1.4/2.1 MB 13.2 kB/s eta 0:00:53\n",
      "   -------------------------- ------------- 1.4/2.1 MB 13.2 kB/s eta 0:00:53\n",
      "   -------------------------- ------------- 1.4/2.1 MB 13.2 kB/s eta 0:00:53\n",
      "   -------------------------- ------------- 1.4/2.1 MB 13.2 kB/s eta 0:00:53\n",
      "   -------------------------- ------------- 1.4/2.1 MB 13.2 kB/s eta 0:00:53\n",
      "   -------------------------- ------------- 1.4/2.1 MB 13.2 kB/s eta 0:00:53\n",
      "   -------------------------- ------------- 1.4/2.1 MB 13.2 kB/s eta 0:00:53\n",
      "   -------------------------- ------------- 1.4/2.1 MB 13.2 kB/s eta 0:00:53\n",
      "   -------------------------- ------------- 1.4/2.1 MB 13.2 kB/s eta 0:00:53\n",
      "   -------------------------- ------------- 1.4/2.1 MB 13.2 kB/s eta 0:00:53\n",
      "   -------------------------- ------------- 1.4/2.1 MB 13.2 kB/s eta 0:00:53\n",
      "   -------------------------- ------------- 1.4/2.1 MB 13.2 kB/s eta 0:00:53\n",
      "   -------------------------- ------------- 1.4/2.1 MB 13.2 kB/s eta 0:00:53\n",
      "   -------------------------- ------------- 1.4/2.1 MB 13.2 kB/s eta 0:00:53\n",
      "   -------------------------- ------------- 1.4/2.1 MB 13.2 kB/s eta 0:00:53\n",
      "   --------------------------- ------------ 1.4/2.1 MB 11.9 kB/s eta 0:00:57\n",
      "   --------------------------- ------------ 1.4/2.1 MB 11.9 kB/s eta 0:00:57\n",
      "   --------------------------- ------------ 1.4/2.1 MB 11.9 kB/s eta 0:00:57\n",
      "   --------------------------- ------------ 1.4/2.1 MB 11.9 kB/s eta 0:00:57\n",
      "   --------------------------- ------------ 1.4/2.1 MB 11.9 kB/s eta 0:00:57\n",
      "   --------------------------- ------------ 1.4/2.1 MB 11.9 kB/s eta 0:00:57\n",
      "   --------------------------- ------------ 1.4/2.1 MB 11.9 kB/s eta 0:00:57\n",
      "   --------------------------- ------------ 1.4/2.1 MB 11.9 kB/s eta 0:00:57\n",
      "   --------------------------- ------------ 1.4/2.1 MB 11.9 kB/s eta 0:00:57\n",
      "   --------------------------- ------------ 1.4/2.1 MB 11.9 kB/s eta 0:00:57\n",
      "   --------------------------- ------------ 1.4/2.1 MB 11.9 kB/s eta 0:00:57\n",
      "   --------------------------- ------------ 1.4/2.1 MB 11.9 kB/s eta 0:00:57\n",
      "   --------------------------- ------------ 1.4/2.1 MB 11.9 kB/s eta 0:00:57\n",
      "   --------------------------- ------------ 1.4/2.1 MB 11.9 kB/s eta 0:00:57\n",
      "   --------------------------- ------------ 1.4/2.1 MB 11.9 kB/s eta 0:00:57\n",
      "   --------------------------- ------------ 1.4/2.1 MB 11.9 kB/s eta 0:00:57\n",
      "   --------------------------- ------------ 1.4/2.1 MB 11.9 kB/s eta 0:00:57\n",
      "   --------------------------- ------------ 1.4/2.1 MB 11.9 kB/s eta 0:00:57\n",
      "   --------------------------- ------------ 1.4/2.1 MB 11.9 kB/s eta 0:00:57\n",
      "   --------------------------- ------------ 1.4/2.1 MB 11.9 kB/s eta 0:00:57\n",
      "   --------------------------- ------------ 1.4/2.1 MB 11.9 kB/s eta 0:00:57\n",
      "   --------------------------- ------------ 1.4/2.1 MB 11.9 kB/s eta 0:00:57\n",
      "   --------------------------- ------------ 1.4/2.1 MB 11.9 kB/s eta 0:00:57\n",
      "   --------------------------- ------------ 1.4/2.1 MB 11.9 kB/s eta 0:00:57\n",
      "   --------------------------- ------------ 1.4/2.1 MB 11.9 kB/s eta 0:00:57\n",
      "   --------------------------- ------------ 1.4/2.1 MB 11.9 kB/s eta 0:00:57\n",
      "   --------------------------- ------------ 1.4/2.1 MB 11.9 kB/s eta 0:00:57\n",
      "   --------------------------- ------------ 1.4/2.1 MB 11.9 kB/s eta 0:00:57\n",
      "   --------------------------- ------------ 1.4/2.1 MB 11.9 kB/s eta 0:00:57\n",
      "   --------------------------- ------------ 1.4/2.1 MB 11.9 kB/s eta 0:00:57\n",
      "   --------------------------- ------------ 1.4/2.1 MB 11.9 kB/s eta 0:00:57\n",
      "   --------------------------- ------------ 1.4/2.1 MB 11.9 kB/s eta 0:00:57\n",
      "   --------------------------- ------------ 1.4/2.1 MB 11.9 kB/s eta 0:00:57\n",
      "   --------------------------- ------------ 1.4/2.1 MB 11.9 kB/s eta 0:00:57\n",
      "   --------------------------- ------------ 1.4/2.1 MB 11.9 kB/s eta 0:00:57\n",
      "   --------------------------- ------------ 1.4/2.1 MB 11.9 kB/s eta 0:00:57\n",
      "   --------------------------- ------------ 1.4/2.1 MB 11.9 kB/s eta 0:00:57\n",
      "   --------------------------- ------------ 1.4/2.1 MB 11.9 kB/s eta 0:00:57\n",
      "   --------------------------- ------------ 1.4/2.1 MB 11.9 kB/s eta 0:00:57\n",
      "   --------------------------- ------------ 1.4/2.1 MB 11.9 kB/s eta 0:00:57\n",
      "   --------------------------- ------------ 1.4/2.1 MB 11.9 kB/s eta 0:00:57\n",
      "   --------------------------- ------------ 1.4/2.1 MB 11.9 kB/s eta 0:00:57\n",
      "   --------------------------- ------------ 1.4/2.1 MB 11.9 kB/s eta 0:00:57\n",
      "   --------------------------- ------------ 1.4/2.1 MB 11.9 kB/s eta 0:00:57\n",
      "   --------------------------- ------------ 1.4/2.1 MB 11.9 kB/s eta 0:00:57\n",
      "   --------------------------- ------------ 1.4/2.1 MB 11.9 kB/s eta 0:00:57\n",
      "   --------------------------- ------------ 1.4/2.1 MB 11.9 kB/s eta 0:00:57\n",
      "   --------------------------- ------------ 1.4/2.1 MB 11.9 kB/s eta 0:00:57\n",
      "   --------------------------- ------------ 1.4/2.1 MB 11.9 kB/s eta 0:00:57\n",
      "   --------------------------- ------------ 1.4/2.1 MB 11.9 kB/s eta 0:00:57\n",
      "   --------------------------- ------------ 1.4/2.1 MB 11.9 kB/s eta 0:00:57\n",
      "   --------------------------- ------------ 1.4/2.1 MB 11.9 kB/s eta 0:00:57\n",
      "   --------------------------- ------------ 1.4/2.1 MB 11.9 kB/s eta 0:00:57\n",
      "   --------------------------- ------------ 1.4/2.1 MB 11.9 kB/s eta 0:00:57\n",
      "   --------------------------- ------------ 1.4/2.1 MB 11.9 kB/s eta 0:00:57\n",
      "   --------------------------- ------------ 1.4/2.1 MB 11.9 kB/s eta 0:00:57\n",
      "   --------------------------- ------------ 1.4/2.1 MB 11.9 kB/s eta 0:00:57\n",
      "   --------------------------- ------------ 1.4/2.1 MB 11.9 kB/s eta 0:00:57\n",
      "   --------------------------- ------------ 1.4/2.1 MB 11.9 kB/s eta 0:00:57\n",
      "   --------------------------- ------------ 1.4/2.1 MB 11.9 kB/s eta 0:00:57\n",
      "   --------------------------- ------------ 1.4/2.1 MB 11.9 kB/s eta 0:00:57\n",
      "   --------------------------- ------------ 1.4/2.1 MB 11.9 kB/s eta 0:00:57\n",
      "   --------------------------- ------------ 1.4/2.1 MB 11.9 kB/s eta 0:00:57\n",
      "   --------------------------- ------------ 1.4/2.1 MB 11.9 kB/s eta 0:00:57\n",
      "   --------------------------- ------------ 1.4/2.1 MB 11.9 kB/s eta 0:00:57\n",
      "   --------------------------- ------------ 1.4/2.1 MB 11.9 kB/s eta 0:00:57\n",
      "   --------------------------- ------------ 1.4/2.1 MB 11.9 kB/s eta 0:00:57\n",
      "   --------------------------- ------------ 1.4/2.1 MB 11.9 kB/s eta 0:00:57\n",
      "   --------------------------- ------------ 1.4/2.1 MB 11.9 kB/s eta 0:00:57\n",
      "   --------------------------- ------------ 1.4/2.1 MB 11.9 kB/s eta 0:00:57\n",
      "   --------------------------- ------------ 1.4/2.1 MB 11.9 kB/s eta 0:00:57\n",
      "   --------------------------- ------------ 1.4/2.1 MB 11.9 kB/s eta 0:00:57\n",
      "   --------------------------- ------------ 1.4/2.1 MB 11.9 kB/s eta 0:00:57\n",
      "   --------------------------- ------------ 1.4/2.1 MB 11.9 kB/s eta 0:00:57\n",
      "   --------------------------- ------------ 1.4/2.1 MB 11.9 kB/s eta 0:00:57\n",
      "   --------------------------- ------------ 1.4/2.1 MB 11.9 kB/s eta 0:00:57\n",
      "   --------------------------- ------------ 1.4/2.1 MB 11.9 kB/s eta 0:00:57\n",
      "   --------------------------- ------------ 1.4/2.1 MB 11.9 kB/s eta 0:00:57\n",
      "   --------------------------- ------------ 1.4/2.1 MB 11.9 kB/s eta 0:00:57\n",
      "   --------------------------- ------------ 1.4/2.1 MB 11.9 kB/s eta 0:00:57\n",
      "   --------------------------- ------------ 1.4/2.1 MB 11.9 kB/s eta 0:00:57\n",
      "   --------------------------- ------------ 1.4/2.1 MB 11.9 kB/s eta 0:00:57\n",
      "   --------------------------- ------------ 1.4/2.1 MB 11.9 kB/s eta 0:00:57\n",
      "   --------------------------- ------------ 1.4/2.1 MB 11.9 kB/s eta 0:00:57\n",
      "   --------------------------- ------------ 1.4/2.1 MB 11.9 kB/s eta 0:00:57\n",
      "   --------------------------- ------------ 1.4/2.1 MB 11.9 kB/s eta 0:00:57\n",
      "   --------------------------- ------------ 1.4/2.1 MB 11.9 kB/s eta 0:00:57\n",
      "   --------------------------- ------------ 1.4/2.1 MB 11.9 kB/s eta 0:00:57\n",
      "   --------------------------- ------------ 1.4/2.1 MB 11.9 kB/s eta 0:00:57\n",
      "   --------------------------- ------------ 1.4/2.1 MB 11.9 kB/s eta 0:00:57\n",
      "   --------------------------- ------------ 1.4/2.1 MB 11.9 kB/s eta 0:00:57\n",
      "   --------------------------- ------------ 1.4/2.1 MB 11.9 kB/s eta 0:00:57\n",
      "   --------------------------- ------------ 1.4/2.1 MB 11.9 kB/s eta 0:00:57\n",
      "   --------------------------- ------------ 1.4/2.1 MB 11.9 kB/s eta 0:00:57\n",
      "   --------------------------- ------------ 1.4/2.1 MB 11.9 kB/s eta 0:00:57\n",
      "   --------------------------- ------------ 1.4/2.1 MB 11.9 kB/s eta 0:00:57\n",
      "   --------------------------- ------------ 1.4/2.1 MB 11.9 kB/s eta 0:00:57\n",
      "   --------------------------- ------------ 1.4/2.1 MB 11.9 kB/s eta 0:00:57\n",
      "   --------------------------- ------------ 1.4/2.1 MB 11.9 kB/s eta 0:00:57\n",
      "   --------------------------- ------------ 1.4/2.1 MB 11.9 kB/s eta 0:00:57\n",
      "   --------------------------- ------------ 1.4/2.1 MB 11.9 kB/s eta 0:00:57\n",
      "   --------------------------- ------------ 1.4/2.1 MB 11.9 kB/s eta 0:00:57\n",
      "   --------------------------- ------------ 1.4/2.1 MB 11.9 kB/s eta 0:00:57\n",
      "   --------------------------- ------------ 1.4/2.1 MB 11.9 kB/s eta 0:00:57\n",
      "   --------------------------- ------------ 1.4/2.1 MB 11.9 kB/s eta 0:00:57\n",
      "   --------------------------- ------------ 1.4/2.1 MB 11.9 kB/s eta 0:00:57\n",
      "   --------------------------- ------------ 1.4/2.1 MB 11.9 kB/s eta 0:00:57\n",
      "   --------------------------- ------------ 1.4/2.1 MB 11.9 kB/s eta 0:00:57\n",
      "   --------------------------- ------------ 1.4/2.1 MB 11.9 kB/s eta 0:00:57\n",
      "   --------------------------- ------------ 1.4/2.1 MB 11.9 kB/s eta 0:00:57\n",
      "   --------------------------- ------------ 1.4/2.1 MB 11.9 kB/s eta 0:00:57\n",
      "   --------------------------- ------------ 1.4/2.1 MB 11.9 kB/s eta 0:00:57\n",
      "   --------------------------- ------------ 1.4/2.1 MB 11.9 kB/s eta 0:00:57\n",
      "   --------------------------- ------------ 1.4/2.1 MB 11.9 kB/s eta 0:00:57\n",
      "   --------------------------- ------------ 1.4/2.1 MB 11.9 kB/s eta 0:00:57\n",
      "   --------------------------- ------------ 1.4/2.1 MB 11.9 kB/s eta 0:00:57\n",
      "   --------------------------- ------------ 1.4/2.1 MB 11.9 kB/s eta 0:00:57\n",
      "   --------------------------- ------------ 1.4/2.1 MB 11.9 kB/s eta 0:00:57\n",
      "   --------------------------- ------------ 1.4/2.1 MB 11.9 kB/s eta 0:00:57\n",
      "   --------------------------- ------------ 1.4/2.1 MB 11.9 kB/s eta 0:00:57\n",
      "   --------------------------- ------------ 1.4/2.1 MB 11.9 kB/s eta 0:00:57\n",
      "   --------------------------- ------------ 1.4/2.1 MB 11.9 kB/s eta 0:00:57\n",
      "   --------------------------- ------------ 1.4/2.1 MB 11.9 kB/s eta 0:00:57\n",
      "   --------------------------- ------------ 1.4/2.1 MB 11.9 kB/s eta 0:00:57\n",
      "   --------------------------- ------------ 1.4/2.1 MB 11.9 kB/s eta 0:00:57\n",
      "   --------------------------- ------------ 1.4/2.1 MB 11.9 kB/s eta 0:00:57\n",
      "   --------------------------- ------------ 1.4/2.1 MB 11.9 kB/s eta 0:00:57\n",
      "   --------------------------- ------------ 1.4/2.1 MB 11.9 kB/s eta 0:00:57\n",
      "   --------------------------- ------------ 1.4/2.1 MB 11.9 kB/s eta 0:00:57\n",
      "   --------------------------- ------------ 1.4/2.1 MB 11.9 kB/s eta 0:00:57\n",
      "   --------------------------- ------------ 1.4/2.1 MB 11.9 kB/s eta 0:00:57\n",
      "   --------------------------- ------------ 1.4/2.1 MB 11.9 kB/s eta 0:00:57\n",
      "   --------------------------- ------------ 1.4/2.1 MB 11.9 kB/s eta 0:00:57\n",
      "   --------------------------- ------------ 1.4/2.1 MB 11.9 kB/s eta 0:00:57\n",
      "   --------------------------- ------------ 1.4/2.1 MB 11.9 kB/s eta 0:00:57\n",
      "   --------------------------- ------------ 1.4/2.1 MB 11.9 kB/s eta 0:00:57\n",
      "   --------------------------- ------------ 1.4/2.1 MB 11.9 kB/s eta 0:00:57\n",
      "   --------------------------- ------------ 1.4/2.1 MB 11.9 kB/s eta 0:00:57\n",
      "   --------------------------- ------------ 1.4/2.1 MB 11.9 kB/s eta 0:00:57\n",
      "   --------------------------- ------------ 1.4/2.1 MB 11.9 kB/s eta 0:00:57\n",
      "   --------------------------- ------------ 1.4/2.1 MB 11.9 kB/s eta 0:00:57\n",
      "   --------------------------- ------------ 1.4/2.1 MB 11.9 kB/s eta 0:00:57\n",
      "   --------------------------- ------------ 1.4/2.1 MB 11.9 kB/s eta 0:00:57\n",
      "   --------------------------- ------------ 1.4/2.1 MB 11.9 kB/s eta 0:00:57\n",
      "   --------------------------- ------------ 1.4/2.1 MB 11.9 kB/s eta 0:00:57\n",
      "   --------------------------- ------------ 1.4/2.1 MB 11.9 kB/s eta 0:00:57\n",
      "   --------------------------- ------------ 1.4/2.1 MB 11.9 kB/s eta 0:00:57\n",
      "   --------------------------- ------------ 1.4/2.1 MB 11.9 kB/s eta 0:00:57\n",
      "   --------------------------- ------------ 1.4/2.1 MB 11.9 kB/s eta 0:00:57\n",
      "   --------------------------- ------------ 1.4/2.1 MB 11.9 kB/s eta 0:00:57\n",
      "   --------------------------- ------------ 1.4/2.1 MB 11.9 kB/s eta 0:00:57\n",
      "   --------------------------- ------------ 1.4/2.1 MB 11.9 kB/s eta 0:00:57\n",
      "   --------------------------- ------------ 1.4/2.1 MB 11.9 kB/s eta 0:00:57\n",
      "   --------------------------- ------------ 1.4/2.1 MB 11.9 kB/s eta 0:00:57\n",
      "   --------------------------- ------------ 1.4/2.1 MB 11.9 kB/s eta 0:00:57\n",
      "   --------------------------- ------------ 1.4/2.1 MB 11.9 kB/s eta 0:00:57\n",
      "   --------------------------- ------------ 1.4/2.1 MB 11.9 kB/s eta 0:00:57\n",
      "   --------------------------- ------------ 1.4/2.1 MB 11.9 kB/s eta 0:00:57\n",
      "   --------------------------- ------------ 1.4/2.1 MB 11.9 kB/s eta 0:00:57\n",
      "   --------------------------- ------------ 1.4/2.1 MB 11.9 kB/s eta 0:00:57\n",
      "   --------------------------- ------------ 1.4/2.1 MB 11.9 kB/s eta 0:00:57\n",
      "   --------------------------- ------------ 1.4/2.1 MB 11.9 kB/s eta 0:00:57\n",
      "   --------------------------- ------------ 1.4/2.1 MB 11.9 kB/s eta 0:00:57\n",
      "   --------------------------- ------------ 1.4/2.1 MB 11.9 kB/s eta 0:00:57\n",
      "   --------------------------- ------------ 1.4/2.1 MB 11.9 kB/s eta 0:00:57\n",
      "   --------------------------- ------------ 1.4/2.1 MB 11.9 kB/s eta 0:00:57\n",
      "   --------------------------- ------------ 1.4/2.1 MB 11.9 kB/s eta 0:00:57\n",
      "   --------------------------- ------------ 1.4/2.1 MB 11.9 kB/s eta 0:00:57\n",
      "   --------------------------- ------------ 1.4/2.1 MB 11.9 kB/s eta 0:00:57\n",
      "   --------------------------- ------------ 1.4/2.1 MB 11.9 kB/s eta 0:00:57\n",
      "   --------------------------- ------------ 1.4/2.1 MB 11.9 kB/s eta 0:00:57\n",
      "   --------------------------- ------------ 1.4/2.1 MB 11.9 kB/s eta 0:00:57\n",
      "   --------------------------- ------------ 1.4/2.1 MB 11.9 kB/s eta 0:00:57\n",
      "   --------------------------- ------------ 1.4/2.1 MB 11.9 kB/s eta 0:00:57\n",
      "   --------------------------- ------------ 1.4/2.1 MB 11.9 kB/s eta 0:00:57\n",
      "   --------------------------- ------------ 1.4/2.1 MB 11.9 kB/s eta 0:00:57\n",
      "   --------------------------- ------------ 1.4/2.1 MB 11.9 kB/s eta 0:00:57\n",
      "   --------------------------- ------------ 1.4/2.1 MB 11.9 kB/s eta 0:00:57\n",
      "   --------------------------- ------------ 1.4/2.1 MB 11.9 kB/s eta 0:00:57\n",
      "   --------------------------- ------------ 1.4/2.1 MB 11.9 kB/s eta 0:00:57\n",
      "   --------------------------- ------------ 1.4/2.1 MB 11.9 kB/s eta 0:00:57\n",
      "   --------------------------- ------------ 1.4/2.1 MB 11.9 kB/s eta 0:00:57\n",
      "   --------------------------- ------------ 1.4/2.1 MB 11.9 kB/s eta 0:00:57\n",
      "   --------------------------- ------------ 1.4/2.1 MB 11.9 kB/s eta 0:00:57\n",
      "   --------------------------- ------------ 1.4/2.1 MB 11.9 kB/s eta 0:00:57\n",
      "   --------------------------- ------------ 1.4/2.1 MB 11.9 kB/s eta 0:00:57\n",
      "   --------------------------- ------------ 1.4/2.1 MB 11.9 kB/s eta 0:00:57\n",
      "   --------------------------- ------------ 1.4/2.1 MB 11.9 kB/s eta 0:00:57\n",
      "   --------------------------- ------------ 1.4/2.1 MB 11.9 kB/s eta 0:00:57\n",
      "   --------------------------- ------------ 1.4/2.1 MB 11.9 kB/s eta 0:00:57\n",
      "   --------------------------- ------------ 1.4/2.1 MB 11.9 kB/s eta 0:00:57\n",
      "   --------------------------- ------------ 1.4/2.1 MB 11.9 kB/s eta 0:00:57\n",
      "   --------------------------- ------------ 1.4/2.1 MB 11.9 kB/s eta 0:00:57\n",
      "   --------------------------- ------------ 1.4/2.1 MB 11.9 kB/s eta 0:00:57\n",
      "   --------------------------- ------------ 1.4/2.1 MB 11.9 kB/s eta 0:00:57\n",
      "   --------------------------- ------------ 1.4/2.1 MB 11.9 kB/s eta 0:00:57\n",
      "   --------------------------- ------------ 1.4/2.1 MB 11.9 kB/s eta 0:00:57\n",
      "   --------------------------- ------------ 1.5/2.1 MB 12.4 kB/s eta 0:00:52\n",
      "   --------------------------- ------------ 1.5/2.1 MB 12.4 kB/s eta 0:00:52\n",
      "   --------------------------- ------------ 1.5/2.1 MB 12.4 kB/s eta 0:00:52\n",
      "   --------------------------- ------------ 1.5/2.1 MB 12.4 kB/s eta 0:00:52\n",
      "   --------------------------- ------------ 1.5/2.1 MB 12.4 kB/s eta 0:00:52\n",
      "   --------------------------- ------------ 1.5/2.1 MB 12.4 kB/s eta 0:00:52\n",
      "   --------------------------- ------------ 1.5/2.1 MB 12.4 kB/s eta 0:00:52\n",
      "   --------------------------- ------------ 1.5/2.1 MB 12.4 kB/s eta 0:00:52\n",
      "   --------------------------- ------------ 1.5/2.1 MB 12.4 kB/s eta 0:00:52\n",
      "   --------------------------- ------------ 1.5/2.1 MB 12.4 kB/s eta 0:00:52\n",
      "   --------------------------- ------------ 1.5/2.1 MB 12.4 kB/s eta 0:00:52\n",
      "   --------------------------- ------------ 1.5/2.1 MB 12.4 kB/s eta 0:00:52\n",
      "   --------------------------- ------------ 1.5/2.1 MB 12.4 kB/s eta 0:00:52\n",
      "   --------------------------- ------------ 1.5/2.1 MB 12.4 kB/s eta 0:00:52\n",
      "   --------------------------- ------------ 1.5/2.1 MB 12.4 kB/s eta 0:00:52\n",
      "   --------------------------- ------------ 1.5/2.1 MB 12.4 kB/s eta 0:00:52\n",
      "   --------------------------- ------------ 1.5/2.1 MB 12.4 kB/s eta 0:00:52\n",
      "   --------------------------- ------------ 1.5/2.1 MB 12.4 kB/s eta 0:00:52\n",
      "   --------------------------- ------------ 1.5/2.1 MB 12.4 kB/s eta 0:00:52\n",
      "   --------------------------- ------------ 1.5/2.1 MB 12.4 kB/s eta 0:00:52\n",
      "   --------------------------- ------------ 1.5/2.1 MB 12.4 kB/s eta 0:00:52\n",
      "   --------------------------- ------------ 1.5/2.1 MB 12.4 kB/s eta 0:00:52\n",
      "   --------------------------- ------------ 1.5/2.1 MB 12.4 kB/s eta 0:00:52\n",
      "   --------------------------- ------------ 1.5/2.1 MB 12.4 kB/s eta 0:00:52\n",
      "   --------------------------- ------------ 1.5/2.1 MB 12.4 kB/s eta 0:00:52\n",
      "   --------------------------- ------------ 1.5/2.1 MB 12.4 kB/s eta 0:00:52\n",
      "   --------------------------- ------------ 1.5/2.1 MB 12.4 kB/s eta 0:00:52\n",
      "   --------------------------- ------------ 1.5/2.1 MB 12.4 kB/s eta 0:00:52\n",
      "   --------------------------- ------------ 1.5/2.1 MB 12.4 kB/s eta 0:00:52\n",
      "   --------------------------- ------------ 1.5/2.1 MB 12.4 kB/s eta 0:00:52\n",
      "   --------------------------- ------------ 1.5/2.1 MB 12.4 kB/s eta 0:00:52\n",
      "   --------------------------- ------------ 1.5/2.1 MB 12.4 kB/s eta 0:00:52\n",
      "   --------------------------- ------------ 1.5/2.1 MB 12.4 kB/s eta 0:00:52\n",
      "   --------------------------- ------------ 1.5/2.1 MB 12.4 kB/s eta 0:00:52\n",
      "   --------------------------- ------------ 1.5/2.1 MB 12.4 kB/s eta 0:00:52\n",
      "   --------------------------- ------------ 1.5/2.1 MB 12.4 kB/s eta 0:00:52\n",
      "   --------------------------- ------------ 1.5/2.1 MB 12.4 kB/s eta 0:00:52\n",
      "   --------------------------- ------------ 1.5/2.1 MB 12.4 kB/s eta 0:00:52\n",
      "   --------------------------- ------------ 1.5/2.1 MB 12.4 kB/s eta 0:00:52\n",
      "   --------------------------- ------------ 1.5/2.1 MB 12.4 kB/s eta 0:00:52\n",
      "   --------------------------- ------------ 1.5/2.1 MB 12.4 kB/s eta 0:00:52\n",
      "   --------------------------- ------------ 1.5/2.1 MB 12.4 kB/s eta 0:00:52\n",
      "   --------------------------- ------------ 1.5/2.1 MB 12.4 kB/s eta 0:00:52\n",
      "   --------------------------- ------------ 1.5/2.1 MB 12.4 kB/s eta 0:00:52\n",
      "   --------------------------- ------------ 1.5/2.1 MB 12.4 kB/s eta 0:00:52\n",
      "   --------------------------- ------------ 1.5/2.1 MB 12.4 kB/s eta 0:00:52\n",
      "   --------------------------- ------------ 1.5/2.1 MB 12.4 kB/s eta 0:00:52\n",
      "   --------------------------- ------------ 1.5/2.1 MB 12.4 kB/s eta 0:00:52\n",
      "   --------------------------- ------------ 1.5/2.1 MB 12.4 kB/s eta 0:00:52\n",
      "   --------------------------- ------------ 1.5/2.1 MB 12.4 kB/s eta 0:00:52\n",
      "   --------------------------- ------------ 1.5/2.1 MB 12.4 kB/s eta 0:00:52\n",
      "   --------------------------- ------------ 1.5/2.1 MB 12.4 kB/s eta 0:00:52\n",
      "   --------------------------- ------------ 1.5/2.1 MB 12.4 kB/s eta 0:00:52\n",
      "   --------------------------- ------------ 1.5/2.1 MB 12.4 kB/s eta 0:00:52\n",
      "   --------------------------- ------------ 1.5/2.1 MB 12.4 kB/s eta 0:00:52\n",
      "   --------------------------- ------------ 1.5/2.1 MB 12.4 kB/s eta 0:00:52\n",
      "   --------------------------- ------------ 1.5/2.1 MB 12.4 kB/s eta 0:00:52\n",
      "   --------------------------- ------------ 1.5/2.1 MB 12.4 kB/s eta 0:00:52\n",
      "   --------------------------- ------------ 1.5/2.1 MB 12.4 kB/s eta 0:00:52\n",
      "   --------------------------- ------------ 1.5/2.1 MB 12.4 kB/s eta 0:00:52\n",
      "   --------------------------- ------------ 1.5/2.1 MB 12.4 kB/s eta 0:00:52\n",
      "   --------------------------- ------------ 1.5/2.1 MB 12.4 kB/s eta 0:00:52\n",
      "   --------------------------- ------------ 1.5/2.1 MB 12.4 kB/s eta 0:00:52\n",
      "   --------------------------- ------------ 1.5/2.1 MB 12.4 kB/s eta 0:00:52\n",
      "   --------------------------- ------------ 1.5/2.1 MB 12.4 kB/s eta 0:00:52\n",
      "   --------------------------- ------------ 1.5/2.1 MB 12.4 kB/s eta 0:00:52\n",
      "   --------------------------- ------------ 1.5/2.1 MB 12.4 kB/s eta 0:00:52\n",
      "   --------------------------- ------------ 1.5/2.1 MB 12.4 kB/s eta 0:00:52\n",
      "   --------------------------- ------------ 1.5/2.1 MB 12.4 kB/s eta 0:00:52\n",
      "   --------------------------- ------------ 1.5/2.1 MB 12.4 kB/s eta 0:00:52\n",
      "   --------------------------- ------------ 1.5/2.1 MB 12.4 kB/s eta 0:00:52\n",
      "   --------------------------- ------------ 1.5/2.1 MB 12.4 kB/s eta 0:00:52\n",
      "   --------------------------- ------------ 1.5/2.1 MB 12.4 kB/s eta 0:00:52\n",
      "   --------------------------- ------------ 1.5/2.1 MB 12.4 kB/s eta 0:00:52\n",
      "   --------------------------- ------------ 1.5/2.1 MB 12.4 kB/s eta 0:00:52\n",
      "   --------------------------- ------------ 1.5/2.1 MB 12.4 kB/s eta 0:00:52\n",
      "   --------------------------- ------------ 1.5/2.1 MB 12.4 kB/s eta 0:00:52\n",
      "   --------------------------- ------------ 1.5/2.1 MB 12.4 kB/s eta 0:00:52\n",
      "   --------------------------- ------------ 1.5/2.1 MB 12.4 kB/s eta 0:00:52\n",
      "   --------------------------- ------------ 1.5/2.1 MB 12.4 kB/s eta 0:00:52\n",
      "   --------------------------- ------------ 1.5/2.1 MB 12.4 kB/s eta 0:00:52\n",
      "   --------------------------- ------------ 1.5/2.1 MB 12.4 kB/s eta 0:00:52\n",
      "   --------------------------- ------------ 1.5/2.1 MB 12.4 kB/s eta 0:00:52\n",
      "   --------------------------- ------------ 1.5/2.1 MB 12.4 kB/s eta 0:00:52\n",
      "   --------------------------- ------------ 1.5/2.1 MB 12.4 kB/s eta 0:00:52\n",
      "   --------------------------- ------------ 1.5/2.1 MB 12.4 kB/s eta 0:00:52\n",
      "   --------------------------- ------------ 1.5/2.1 MB 12.4 kB/s eta 0:00:52\n",
      "   --------------------------- ------------ 1.5/2.1 MB 12.4 kB/s eta 0:00:52\n",
      "   --------------------------- ------------ 1.5/2.1 MB 12.4 kB/s eta 0:00:52\n",
      "   --------------------------- ------------ 1.5/2.1 MB 12.4 kB/s eta 0:00:52\n",
      "   --------------------------- ------------ 1.5/2.1 MB 12.4 kB/s eta 0:00:52\n",
      "   --------------------------- ------------ 1.5/2.1 MB 12.4 kB/s eta 0:00:52\n",
      "   --------------------------- ------------ 1.5/2.1 MB 12.4 kB/s eta 0:00:52\n",
      "   --------------------------- ------------ 1.5/2.1 MB 12.4 kB/s eta 0:00:52\n",
      "   --------------------------- ------------ 1.5/2.1 MB 12.4 kB/s eta 0:00:52\n",
      "   --------------------------- ------------ 1.5/2.1 MB 12.4 kB/s eta 0:00:52\n",
      "   --------------------------- ------------ 1.5/2.1 MB 12.4 kB/s eta 0:00:52\n",
      "   --------------------------- ------------ 1.5/2.1 MB 12.4 kB/s eta 0:00:52\n",
      "   --------------------------- ------------ 1.5/2.1 MB 12.4 kB/s eta 0:00:52\n",
      "   --------------------------- ------------ 1.5/2.1 MB 12.4 kB/s eta 0:00:52\n",
      "   --------------------------- ------------ 1.5/2.1 MB 12.4 kB/s eta 0:00:52\n",
      "   --------------------------- ------------ 1.5/2.1 MB 12.4 kB/s eta 0:00:52\n",
      "   --------------------------- ------------ 1.5/2.1 MB 12.4 kB/s eta 0:00:52\n",
      "   --------------------------- ------------ 1.5/2.1 MB 12.4 kB/s eta 0:00:52\n",
      "   --------------------------- ------------ 1.5/2.1 MB 12.4 kB/s eta 0:00:52\n",
      "   --------------------------- ------------ 1.5/2.1 MB 12.4 kB/s eta 0:00:52\n",
      "   --------------------------- ------------ 1.5/2.1 MB 12.4 kB/s eta 0:00:52\n",
      "   --------------------------- ------------ 1.5/2.1 MB 12.4 kB/s eta 0:00:52\n",
      "   --------------------------- ------------ 1.5/2.1 MB 12.4 kB/s eta 0:00:52\n",
      "   --------------------------- ------------ 1.5/2.1 MB 12.4 kB/s eta 0:00:52\n",
      "   --------------------------- ------------ 1.5/2.1 MB 12.4 kB/s eta 0:00:52\n",
      "   --------------------------- ------------ 1.5/2.1 MB 12.4 kB/s eta 0:00:52\n",
      "   --------------------------- ------------ 1.5/2.1 MB 12.4 kB/s eta 0:00:52\n",
      "   --------------------------- ------------ 1.5/2.1 MB 12.4 kB/s eta 0:00:52\n",
      "   --------------------------- ------------ 1.5/2.1 MB 12.4 kB/s eta 0:00:52\n",
      "   --------------------------- ------------ 1.5/2.1 MB 12.4 kB/s eta 0:00:52\n",
      "   --------------------------- ------------ 1.5/2.1 MB 12.4 kB/s eta 0:00:52\n",
      "   --------------------------- ------------ 1.5/2.1 MB 12.4 kB/s eta 0:00:52\n",
      "   --------------------------- ------------ 1.5/2.1 MB 12.4 kB/s eta 0:00:52\n",
      "   --------------------------- ------------ 1.5/2.1 MB 12.4 kB/s eta 0:00:52\n",
      "   --------------------------- ------------ 1.5/2.1 MB 12.4 kB/s eta 0:00:52\n",
      "   --------------------------- ------------ 1.5/2.1 MB 12.4 kB/s eta 0:00:52\n",
      "   --------------------------- ------------ 1.5/2.1 MB 12.4 kB/s eta 0:00:52\n",
      "   --------------------------- ------------ 1.5/2.1 MB 12.4 kB/s eta 0:00:52\n",
      "   --------------------------- ------------ 1.5/2.1 MB 12.4 kB/s eta 0:00:52\n",
      "   --------------------------- ------------ 1.5/2.1 MB 12.4 kB/s eta 0:00:52\n",
      "   --------------------------- ------------ 1.5/2.1 MB 12.4 kB/s eta 0:00:52\n",
      "   --------------------------- ------------ 1.5/2.1 MB 12.4 kB/s eta 0:00:52\n",
      "   --------------------------- ------------ 1.5/2.1 MB 12.4 kB/s eta 0:00:52\n",
      "   --------------------------- ------------ 1.5/2.1 MB 12.4 kB/s eta 0:00:52\n",
      "   --------------------------- ------------ 1.5/2.1 MB 12.4 kB/s eta 0:00:52\n",
      "   --------------------------- ------------ 1.5/2.1 MB 12.4 kB/s eta 0:00:52\n",
      "   --------------------------- ------------ 1.5/2.1 MB 12.4 kB/s eta 0:00:52\n",
      "   --------------------------- ------------ 1.5/2.1 MB 12.4 kB/s eta 0:00:52\n",
      "   --------------------------- ------------ 1.5/2.1 MB 12.4 kB/s eta 0:00:52\n",
      "   --------------------------- ------------ 1.5/2.1 MB 12.4 kB/s eta 0:00:52\n",
      "   --------------------------- ------------ 1.5/2.1 MB 12.4 kB/s eta 0:00:52\n",
      "   --------------------------- ------------ 1.5/2.1 MB 12.4 kB/s eta 0:00:52\n",
      "   --------------------------- ------------ 1.5/2.1 MB 12.4 kB/s eta 0:00:52\n",
      "   --------------------------- ------------ 1.5/2.1 MB 12.4 kB/s eta 0:00:52\n",
      "   --------------------------- ------------ 1.5/2.1 MB 12.4 kB/s eta 0:00:52\n",
      "   --------------------------- ------------ 1.5/2.1 MB 12.4 kB/s eta 0:00:52\n",
      "   --------------------------- ------------ 1.5/2.1 MB 12.4 kB/s eta 0:00:52\n",
      "   --------------------------- ------------ 1.5/2.1 MB 12.4 kB/s eta 0:00:52\n",
      "   --------------------------- ------------ 1.5/2.1 MB 12.4 kB/s eta 0:00:52\n",
      "   --------------------------- ------------ 1.5/2.1 MB 12.4 kB/s eta 0:00:52\n",
      "   --------------------------- ------------ 1.5/2.1 MB 12.4 kB/s eta 0:00:52\n",
      "   --------------------------- ------------ 1.5/2.1 MB 12.4 kB/s eta 0:00:52\n",
      "   --------------------------- ------------ 1.5/2.1 MB 12.4 kB/s eta 0:00:52\n",
      "   --------------------------- ------------ 1.5/2.1 MB 12.4 kB/s eta 0:00:52\n",
      "   --------------------------- ------------ 1.5/2.1 MB 12.4 kB/s eta 0:00:52\n",
      "   --------------------------- ------------ 1.5/2.1 MB 12.4 kB/s eta 0:00:52\n",
      "   --------------------------- ------------ 1.5/2.1 MB 12.4 kB/s eta 0:00:52\n",
      "   --------------------------- ------------ 1.5/2.1 MB 12.4 kB/s eta 0:00:52\n",
      "   --------------------------- ------------ 1.5/2.1 MB 12.4 kB/s eta 0:00:52\n",
      "   --------------------------- ------------ 1.5/2.1 MB 12.4 kB/s eta 0:00:52\n",
      "   --------------------------- ------------ 1.5/2.1 MB 12.4 kB/s eta 0:00:52\n",
      "   --------------------------- ------------ 1.5/2.1 MB 12.4 kB/s eta 0:00:52\n",
      "   --------------------------- ------------ 1.5/2.1 MB 12.4 kB/s eta 0:00:52\n",
      "   --------------------------- ------------ 1.5/2.1 MB 12.4 kB/s eta 0:00:52\n",
      "   --------------------------- ------------ 1.5/2.1 MB 12.4 kB/s eta 0:00:52\n",
      "   --------------------------- ------------ 1.5/2.1 MB 12.4 kB/s eta 0:00:52\n",
      "   --------------------------- ------------ 1.5/2.1 MB 12.4 kB/s eta 0:00:52\n",
      "   --------------------------- ------------ 1.5/2.1 MB 12.4 kB/s eta 0:00:52\n",
      "   --------------------------- ------------ 1.5/2.1 MB 12.4 kB/s eta 0:00:52\n",
      "   --------------------------- ------------ 1.5/2.1 MB 12.4 kB/s eta 0:00:52\n",
      "   --------------------------- ------------ 1.5/2.1 MB 12.4 kB/s eta 0:00:52\n",
      "   --------------------------- ------------ 1.5/2.1 MB 12.4 kB/s eta 0:00:52\n",
      "   --------------------------- ------------ 1.5/2.1 MB 12.4 kB/s eta 0:00:52\n",
      "   --------------------------- ------------ 1.5/2.1 MB 12.4 kB/s eta 0:00:52\n",
      "   --------------------------- ------------ 1.5/2.1 MB 12.4 kB/s eta 0:00:52\n",
      "   --------------------------- ------------ 1.5/2.1 MB 12.4 kB/s eta 0:00:52\n",
      "   --------------------------- ------------ 1.5/2.1 MB 12.4 kB/s eta 0:00:52\n",
      "   --------------------------- ------------ 1.5/2.1 MB 12.4 kB/s eta 0:00:52\n",
      "   --------------------------- ------------ 1.5/2.1 MB 12.4 kB/s eta 0:00:52\n",
      "   --------------------------- ------------ 1.5/2.1 MB 12.4 kB/s eta 0:00:52\n",
      "   --------------------------- ------------ 1.5/2.1 MB 12.4 kB/s eta 0:00:52\n",
      "   --------------------------- ------------ 1.5/2.1 MB 12.4 kB/s eta 0:00:52\n",
      "   --------------------------- ------------ 1.5/2.1 MB 12.4 kB/s eta 0:00:52\n",
      "   --------------------------- ------------ 1.5/2.1 MB 12.4 kB/s eta 0:00:52\n",
      "   --------------------------- ------------ 1.5/2.1 MB 12.4 kB/s eta 0:00:52\n",
      "   --------------------------- ------------ 1.5/2.1 MB 12.4 kB/s eta 0:00:52\n",
      "   --------------------------- ------------ 1.5/2.1 MB 12.4 kB/s eta 0:00:52\n",
      "   --------------------------- ------------ 1.5/2.1 MB 12.4 kB/s eta 0:00:52\n",
      "   --------------------------- ------------ 1.5/2.1 MB 12.4 kB/s eta 0:00:52\n",
      "   --------------------------- ------------ 1.5/2.1 MB 12.4 kB/s eta 0:00:52\n",
      "   --------------------------- ------------ 1.5/2.1 MB 12.4 kB/s eta 0:00:52\n",
      "   --------------------------- ------------ 1.5/2.1 MB 12.4 kB/s eta 0:00:52\n",
      "   --------------------------- ------------ 1.5/2.1 MB 12.4 kB/s eta 0:00:52\n",
      "   --------------------------- ------------ 1.5/2.1 MB 12.4 kB/s eta 0:00:52\n",
      "   --------------------------- ------------ 1.5/2.1 MB 12.4 kB/s eta 0:00:52\n",
      "   --------------------------- ------------ 1.5/2.1 MB 12.4 kB/s eta 0:00:52\n",
      "   --------------------------- ------------ 1.5/2.1 MB 12.4 kB/s eta 0:00:52\n",
      "   --------------------------- ------------ 1.5/2.1 MB 12.4 kB/s eta 0:00:52\n",
      "   --------------------------- ------------ 1.5/2.1 MB 12.4 kB/s eta 0:00:52\n",
      "   --------------------------- ------------ 1.5/2.1 MB 12.4 kB/s eta 0:00:52\n",
      "   --------------------------- ------------ 1.5/2.1 MB 12.4 kB/s eta 0:00:52\n",
      "   --------------------------- ------------ 1.5/2.1 MB 12.4 kB/s eta 0:00:52\n",
      "   --------------------------- ------------ 1.5/2.1 MB 12.4 kB/s eta 0:00:52\n",
      "   --------------------------- ------------ 1.5/2.1 MB 12.4 kB/s eta 0:00:52\n",
      "   --------------------------- ------------ 1.5/2.1 MB 12.4 kB/s eta 0:00:52\n",
      "   --------------------------- ------------ 1.5/2.1 MB 12.4 kB/s eta 0:00:52\n",
      "   --------------------------- ------------ 1.5/2.1 MB 12.4 kB/s eta 0:00:52\n",
      "   --------------------------- ------------ 1.5/2.1 MB 12.4 kB/s eta 0:00:52\n",
      "   --------------------------- ------------ 1.5/2.1 MB 12.4 kB/s eta 0:00:52\n",
      "   --------------------------- ------------ 1.5/2.1 MB 12.4 kB/s eta 0:00:52\n",
      "   --------------------------- ------------ 1.5/2.1 MB 12.4 kB/s eta 0:00:52\n",
      "   --------------------------- ------------ 1.5/2.1 MB 12.4 kB/s eta 0:00:52\n",
      "   --------------------------- ------------ 1.5/2.1 MB 12.4 kB/s eta 0:00:52\n",
      "   --------------------------- ------------ 1.5/2.1 MB 12.4 kB/s eta 0:00:52\n",
      "   --------------------------- ------------ 1.5/2.1 MB 12.4 kB/s eta 0:00:52\n",
      "   --------------------------- ------------ 1.5/2.1 MB 12.4 kB/s eta 0:00:52\n",
      "   --------------------------- ------------ 1.5/2.1 MB 12.4 kB/s eta 0:00:52\n",
      "   --------------------------- ------------ 1.5/2.1 MB 12.4 kB/s eta 0:00:52\n",
      "   --------------------------- ------------ 1.5/2.1 MB 12.4 kB/s eta 0:00:52\n",
      "   --------------------------- ------------ 1.5/2.1 MB 12.4 kB/s eta 0:00:52\n",
      "   --------------------------- ------------ 1.5/2.1 MB 12.4 kB/s eta 0:00:52\n",
      "   --------------------------- ------------ 1.5/2.1 MB 12.4 kB/s eta 0:00:52\n",
      "   --------------------------- ------------ 1.5/2.1 MB 12.4 kB/s eta 0:00:52\n",
      "   --------------------------- ------------ 1.5/2.1 MB 12.4 kB/s eta 0:00:52\n",
      "   --------------------------- ------------ 1.5/2.1 MB 12.4 kB/s eta 0:00:52\n",
      "   --------------------------- ------------ 1.5/2.1 MB 12.4 kB/s eta 0:00:52\n",
      "   --------------------------- ------------ 1.5/2.1 MB 12.4 kB/s eta 0:00:52\n",
      "   --------------------------- ------------ 1.5/2.1 MB 12.4 kB/s eta 0:00:52\n",
      "   --------------------------- ------------ 1.5/2.1 MB 12.4 kB/s eta 0:00:52\n",
      "   --------------------------- ------------ 1.5/2.1 MB 12.4 kB/s eta 0:00:52\n",
      "   --------------------------- ------------ 1.5/2.1 MB 12.4 kB/s eta 0:00:52\n",
      "   --------------------------- ------------ 1.5/2.1 MB 12.4 kB/s eta 0:00:52\n",
      "   --------------------------- ------------ 1.5/2.1 MB 12.4 kB/s eta 0:00:52\n",
      "   --------------------------- ------------ 1.5/2.1 MB 12.4 kB/s eta 0:00:52\n",
      "   --------------------------- ------------ 1.5/2.1 MB 12.4 kB/s eta 0:00:52\n",
      "   --------------------------- ------------ 1.5/2.1 MB 12.4 kB/s eta 0:00:52\n",
      "   --------------------------- ------------ 1.5/2.1 MB 12.4 kB/s eta 0:00:52\n",
      "   --------------------------- ------------ 1.5/2.1 MB 12.4 kB/s eta 0:00:52\n",
      "   --------------------------- ------------ 1.5/2.1 MB 12.4 kB/s eta 0:00:52\n",
      "   --------------------------- ------------ 1.5/2.1 MB 12.4 kB/s eta 0:00:52\n",
      "   --------------------------- ------------ 1.5/2.1 MB 12.4 kB/s eta 0:00:52\n",
      "   --------------------------- ------------ 1.5/2.1 MB 12.4 kB/s eta 0:00:52\n",
      "   --------------------------- ------------ 1.5/2.1 MB 12.4 kB/s eta 0:00:52\n",
      "   --------------------------- ------------ 1.5/2.1 MB 12.4 kB/s eta 0:00:52\n",
      "   --------------------------- ------------ 1.5/2.1 MB 12.4 kB/s eta 0:00:52\n",
      "   --------------------------- ------------ 1.5/2.1 MB 12.4 kB/s eta 0:00:52\n",
      "   --------------------------- ------------ 1.5/2.1 MB 12.4 kB/s eta 0:00:52\n",
      "   --------------------------- ------------ 1.5/2.1 MB 12.4 kB/s eta 0:00:52\n",
      "   --------------------------- ------------ 1.5/2.1 MB 12.4 kB/s eta 0:00:52\n",
      "   --------------------------- ------------ 1.5/2.1 MB 12.4 kB/s eta 0:00:52\n",
      "   --------------------------- ------------ 1.5/2.1 MB 12.4 kB/s eta 0:00:52\n",
      "   --------------------------- ------------ 1.5/2.1 MB 12.4 kB/s eta 0:00:52\n",
      "   --------------------------- ------------ 1.5/2.1 MB 12.4 kB/s eta 0:00:52\n",
      "   --------------------------- ------------ 1.5/2.1 MB 12.4 kB/s eta 0:00:52\n",
      "   --------------------------- ------------ 1.5/2.1 MB 12.4 kB/s eta 0:00:52\n",
      "   --------------------------- ------------ 1.5/2.1 MB 12.4 kB/s eta 0:00:52\n",
      "   --------------------------- ------------ 1.5/2.1 MB 12.4 kB/s eta 0:00:52\n",
      "   --------------------------- ------------ 1.5/2.1 MB 12.4 kB/s eta 0:00:52\n",
      "   --------------------------- ------------ 1.5/2.1 MB 12.4 kB/s eta 0:00:52\n",
      "   --------------------------- ------------ 1.5/2.1 MB 12.4 kB/s eta 0:00:52\n",
      "   --------------------------- ------------ 1.5/2.1 MB 12.4 kB/s eta 0:00:52\n",
      "   --------------------------- ------------ 1.5/2.1 MB 12.4 kB/s eta 0:00:52\n",
      "   --------------------------- ------------ 1.5/2.1 MB 12.4 kB/s eta 0:00:52\n",
      "   --------------------------- ------------ 1.5/2.1 MB 12.4 kB/s eta 0:00:52\n",
      "   --------------------------- ------------ 1.5/2.1 MB 12.4 kB/s eta 0:00:52\n",
      "   --------------------------- ------------ 1.5/2.1 MB 12.4 kB/s eta 0:00:52\n",
      "   --------------------------- ------------ 1.5/2.1 MB 12.4 kB/s eta 0:00:52\n",
      "   --------------------------- ------------ 1.5/2.1 MB 12.4 kB/s eta 0:00:52\n",
      "   --------------------------- ------------ 1.5/2.1 MB 12.4 kB/s eta 0:00:52\n",
      "   --------------------------- ------------ 1.5/2.1 MB 12.4 kB/s eta 0:00:52\n",
      "   --------------------------- ------------ 1.5/2.1 MB 12.4 kB/s eta 0:00:52\n",
      "   --------------------------- ------------ 1.5/2.1 MB 12.4 kB/s eta 0:00:52\n",
      "   --------------------------- ------------ 1.5/2.1 MB 12.4 kB/s eta 0:00:52\n",
      "   --------------------------- ------------ 1.5/2.1 MB 12.4 kB/s eta 0:00:52\n",
      "   --------------------------- ------------ 1.5/2.1 MB 12.4 kB/s eta 0:00:52\n",
      "   --------------------------- ------------ 1.5/2.1 MB 12.4 kB/s eta 0:00:52\n",
      "   --------------------------- ------------ 1.5/2.1 MB 12.4 kB/s eta 0:00:52\n",
      "   --------------------------- ------------ 1.5/2.1 MB 12.4 kB/s eta 0:00:52\n",
      "   --------------------------- ------------ 1.5/2.1 MB 12.4 kB/s eta 0:00:52\n",
      "   --------------------------- ------------ 1.5/2.1 MB 12.4 kB/s eta 0:00:52\n",
      "   --------------------------- ------------ 1.5/2.1 MB 12.4 kB/s eta 0:00:52\n",
      "   --------------------------- ------------ 1.5/2.1 MB 12.4 kB/s eta 0:00:52\n",
      "   --------------------------- ------------ 1.5/2.1 MB 12.4 kB/s eta 0:00:52\n",
      "   --------------------------- ------------ 1.5/2.1 MB 12.4 kB/s eta 0:00:52\n",
      "   --------------------------- ------------ 1.5/2.1 MB 12.4 kB/s eta 0:00:52\n",
      "   --------------------------- ------------ 1.5/2.1 MB 12.4 kB/s eta 0:00:52\n",
      "   --------------------------- ------------ 1.5/2.1 MB 12.4 kB/s eta 0:00:52\n",
      "   --------------------------- ------------ 1.5/2.1 MB 12.4 kB/s eta 0:00:52\n",
      "   --------------------------- ------------ 1.5/2.1 MB 12.4 kB/s eta 0:00:52\n",
      "   --------------------------- ------------ 1.5/2.1 MB 12.4 kB/s eta 0:00:52\n",
      "   --------------------------- ------------ 1.5/2.1 MB 12.4 kB/s eta 0:00:52\n",
      "   --------------------------- ------------ 1.5/2.1 MB 12.4 kB/s eta 0:00:52\n",
      "   --------------------------- ------------ 1.5/2.1 MB 12.4 kB/s eta 0:00:52\n",
      "   --------------------------- ------------ 1.5/2.1 MB 12.4 kB/s eta 0:00:52\n",
      "   --------------------------- ------------ 1.5/2.1 MB 12.4 kB/s eta 0:00:52\n",
      "   --------------------------- ------------ 1.5/2.1 MB 12.4 kB/s eta 0:00:52\n",
      "   --------------------------- ------------ 1.5/2.1 MB 12.4 kB/s eta 0:00:52\n",
      "   --------------------------- ------------ 1.5/2.1 MB 12.4 kB/s eta 0:00:52\n",
      "   --------------------------- ------------ 1.5/2.1 MB 12.4 kB/s eta 0:00:52\n",
      "   --------------------------- ------------ 1.5/2.1 MB 12.4 kB/s eta 0:00:52\n",
      "   --------------------------- ------------ 1.5/2.1 MB 12.4 kB/s eta 0:00:52\n",
      "   --------------------------- ------------ 1.5/2.1 MB 12.4 kB/s eta 0:00:52\n",
      "   --------------------------- ------------ 1.5/2.1 MB 12.4 kB/s eta 0:00:52\n",
      "   --------------------------- ------------ 1.5/2.1 MB 12.4 kB/s eta 0:00:52\n",
      "   --------------------------- ------------ 1.5/2.1 MB 12.4 kB/s eta 0:00:52\n",
      "   --------------------------- ------------ 1.5/2.1 MB 12.4 kB/s eta 0:00:52\n",
      "   --------------------------- ------------ 1.5/2.1 MB 12.4 kB/s eta 0:00:52\n",
      "   --------------------------- ------------ 1.5/2.1 MB 12.4 kB/s eta 0:00:52\n",
      "   --------------------------- ------------ 1.5/2.1 MB 12.4 kB/s eta 0:00:52\n",
      "   --------------------------- ------------ 1.5/2.1 MB 12.4 kB/s eta 0:00:52\n",
      "   --------------------------- ------------ 1.5/2.1 MB 12.4 kB/s eta 0:00:52\n",
      "   --------------------------- ------------ 1.5/2.1 MB 12.4 kB/s eta 0:00:52\n",
      "   --------------------------- ------------ 1.5/2.1 MB 12.4 kB/s eta 0:00:52\n",
      "   --------------------------- ------------ 1.5/2.1 MB 12.4 kB/s eta 0:00:52\n",
      "   --------------------------- ------------ 1.5/2.1 MB 12.4 kB/s eta 0:00:52\n",
      "   --------------------------- ------------ 1.5/2.1 MB 12.4 kB/s eta 0:00:52\n",
      "   --------------------------- ------------ 1.5/2.1 MB 12.4 kB/s eta 0:00:52\n",
      "   --------------------------- ------------ 1.5/2.1 MB 12.4 kB/s eta 0:00:52\n",
      "   --------------------------- ------------ 1.5/2.1 MB 12.4 kB/s eta 0:00:52\n",
      "   --------------------------- ------------ 1.5/2.1 MB 12.4 kB/s eta 0:00:52\n",
      "   --------------------------- ------------ 1.5/2.1 MB 12.4 kB/s eta 0:00:52\n",
      "   --------------------------- ------------ 1.5/2.1 MB 12.4 kB/s eta 0:00:52\n",
      "   --------------------------- ------------ 1.5/2.1 MB 12.4 kB/s eta 0:00:52\n",
      "   --------------------------- ------------ 1.5/2.1 MB 12.4 kB/s eta 0:00:52\n",
      "   --------------------------- ------------ 1.5/2.1 MB 12.4 kB/s eta 0:00:52\n",
      "   --------------------------- ------------ 1.5/2.1 MB 12.4 kB/s eta 0:00:52\n",
      "   --------------------------- ------------ 1.5/2.1 MB 12.4 kB/s eta 0:00:52\n"
     ]
    },
    {
     "name": "stderr",
     "output_type": "stream",
     "text": [
      "ERROR: Exception:\n",
      "Traceback (most recent call last):\n",
      "  File \"C:\\Users\\minji\\anaconda3\\Lib\\site-packages\\pip\\_vendor\\urllib3\\response.py\", line 438, in _error_catcher\n",
      "    yield\n",
      "  File \"C:\\Users\\minji\\anaconda3\\Lib\\site-packages\\pip\\_vendor\\urllib3\\response.py\", line 561, in read\n",
      "    data = self._fp_read(amt) if not fp_closed else b\"\"\n",
      "           ^^^^^^^^^^^^^^^^^^\n",
      "  File \"C:\\Users\\minji\\anaconda3\\Lib\\site-packages\\pip\\_vendor\\urllib3\\response.py\", line 527, in _fp_read\n",
      "    return self._fp.read(amt) if amt is not None else self._fp.read()\n",
      "           ^^^^^^^^^^^^^^^^^^\n",
      "  File \"C:\\Users\\minji\\anaconda3\\Lib\\site-packages\\pip\\_vendor\\cachecontrol\\filewrapper.py\", line 90, in read\n",
      "    data = self.__fp.read(amt)\n",
      "           ^^^^^^^^^^^^^^^^^^^\n",
      "  File \"C:\\Users\\minji\\anaconda3\\Lib\\http\\client.py\", line 466, in read\n",
      "    s = self.fp.read(amt)\n",
      "        ^^^^^^^^^^^^^^^^^\n",
      "  File \"C:\\Users\\minji\\anaconda3\\Lib\\socket.py\", line 706, in readinto\n",
      "    return self._sock.recv_into(b)\n",
      "           ^^^^^^^^^^^^^^^^^^^^^^^\n",
      "  File \"C:\\Users\\minji\\anaconda3\\Lib\\ssl.py\", line 1311, in recv_into\n",
      "    return self.read(nbytes, buffer)\n",
      "           ^^^^^^^^^^^^^^^^^^^^^^^^^\n",
      "  File \"C:\\Users\\minji\\anaconda3\\Lib\\ssl.py\", line 1167, in read\n",
      "    return self._sslobj.read(len, buffer)\n",
      "           ^^^^^^^^^^^^^^^^^^^^^^^^^^^^^^\n",
      "TimeoutError: The read operation timed out\n",
      "\n",
      "During handling of the above exception, another exception occurred:\n",
      "\n",
      "Traceback (most recent call last):\n",
      "  File \"C:\\Users\\minji\\anaconda3\\Lib\\site-packages\\pip\\_internal\\cli\\base_command.py\", line 180, in exc_logging_wrapper\n",
      "    status = run_func(*args)\n",
      "             ^^^^^^^^^^^^^^^\n",
      "  File \"C:\\Users\\minji\\anaconda3\\Lib\\site-packages\\pip\\_internal\\cli\\req_command.py\", line 248, in wrapper\n",
      "    return func(self, options, args)\n",
      "           ^^^^^^^^^^^^^^^^^^^^^^^^^\n",
      "  File \"C:\\Users\\minji\\anaconda3\\Lib\\site-packages\\pip\\_internal\\commands\\install.py\", line 377, in run\n",
      "    requirement_set = resolver.resolve(\n",
      "                      ^^^^^^^^^^^^^^^^^\n",
      "  File \"C:\\Users\\minji\\anaconda3\\Lib\\site-packages\\pip\\_internal\\resolution\\resolvelib\\resolver.py\", line 161, in resolve\n",
      "    self.factory.preparer.prepare_linked_requirements_more(reqs)\n",
      "  File \"C:\\Users\\minji\\anaconda3\\Lib\\site-packages\\pip\\_internal\\operations\\prepare.py\", line 565, in prepare_linked_requirements_more\n",
      "    self._complete_partial_requirements(\n",
      "  File \"C:\\Users\\minji\\anaconda3\\Lib\\site-packages\\pip\\_internal\\operations\\prepare.py\", line 479, in _complete_partial_requirements\n",
      "    for link, (filepath, _) in batch_download:\n",
      "  File \"C:\\Users\\minji\\anaconda3\\Lib\\site-packages\\pip\\_internal\\network\\download.py\", line 183, in __call__\n",
      "    for chunk in chunks:\n",
      "  File \"C:\\Users\\minji\\anaconda3\\Lib\\site-packages\\pip\\_internal\\cli\\progress_bars.py\", line 53, in _rich_progress_bar\n",
      "    for chunk in iterable:\n",
      "  File \"C:\\Users\\minji\\anaconda3\\Lib\\site-packages\\pip\\_internal\\network\\utils.py\", line 63, in response_chunks\n",
      "    for chunk in response.raw.stream(\n",
      "  File \"C:\\Users\\minji\\anaconda3\\Lib\\site-packages\\pip\\_vendor\\urllib3\\response.py\", line 622, in stream\n",
      "    data = self.read(amt=amt, decode_content=decode_content)\n",
      "           ^^^^^^^^^^^^^^^^^^^^^^^^^^^^^^^^^^^^^^^^^^^^^^^^^\n",
      "  File \"C:\\Users\\minji\\anaconda3\\Lib\\site-packages\\pip\\_vendor\\urllib3\\response.py\", line 560, in read\n",
      "    with self._error_catcher():\n",
      "  File \"C:\\Users\\minji\\anaconda3\\Lib\\contextlib.py\", line 155, in __exit__\n",
      "    self.gen.throw(typ, value, traceback)\n",
      "  File \"C:\\Users\\minji\\anaconda3\\Lib\\site-packages\\pip\\_vendor\\urllib3\\response.py\", line 443, in _error_catcher\n",
      "    raise ReadTimeoutError(self._pool, None, \"Read timed out.\")\n",
      "pip._vendor.urllib3.exceptions.ReadTimeoutError: HTTPSConnectionPool(host='files.pythonhosted.org', port=443): Read timed out.\n"
     ]
    }
   ],
   "source": [
    "conda list"
   ]
  },
  {
   "cell_type": "code",
   "execution_count": 6,
   "id": "79cbe881",
   "metadata": {
    "ExecuteTime": {
     "end_time": "2023-12-06T05:34:43.980365Z",
     "start_time": "2023-12-06T05:34:14.216592Z"
    }
   },
   "outputs": [
    {
     "name": "stdout",
     "output_type": "stream",
     "text": [
      "Collecting FakerNote: you may need to restart the kernel to use updated packages.\n",
      "\n",
      "  Obtaining dependency information for Faker from https://files.pythonhosted.org/packages/cc/9a/74db0cf3115df2f71edcaf8d86ed556195ac31575212c20425820f81bfd0/Faker-20.1.0-py3-none-any.whl.metadata\n",
      "  Using cached Faker-20.1.0-py3-none-any.whl.metadata (15 kB)\n",
      "Requirement already satisfied: python-dateutil>=2.4 in c:\\users\\minji\\anaconda3\\lib\\site-packages (from Faker) (2.8.2)\n",
      "Requirement already satisfied: six>=1.5 in c:\\users\\minji\\anaconda3\\lib\\site-packages (from python-dateutil>=2.4->Faker) (1.16.0)\n",
      "Downloading Faker-20.1.0-py3-none-any.whl (1.7 MB)\n",
      "   ---------------------------------------- 0.0/1.7 MB ? eta -:--:--\n",
      "   ---------------------------------------- 0.0/1.7 MB ? eta -:--:--\n",
      "   ---------------------------------------- 0.0/1.7 MB ? eta -:--:--\n",
      "   ---------------------------------------- 0.0/1.7 MB ? eta -:--:--\n",
      "    --------------------------------------- 0.0/1.7 MB 262.6 kB/s eta 0:00:07\n",
      "    --------------------------------------- 0.0/1.7 MB 245.8 kB/s eta 0:00:07\n",
      "   - -------------------------------------- 0.1/1.7 MB 353.1 kB/s eta 0:00:05\n",
      "   -- ------------------------------------- 0.1/1.7 MB 327.7 kB/s eta 0:00:06\n",
      "   -- ------------------------------------- 0.1/1.7 MB 344.8 kB/s eta 0:00:05\n",
      "   -- ------------------------------------- 0.1/1.7 MB 344.8 kB/s eta 0:00:05\n",
      "   -- ------------------------------------- 0.1/1.7 MB 327.4 kB/s eta 0:00:05\n",
      "   --- ------------------------------------ 0.1/1.7 MB 341.3 kB/s eta 0:00:05\n",
      "   --- ------------------------------------ 0.1/1.7 MB 341.3 kB/s eta 0:00:05\n",
      "   --- ------------------------------------ 0.1/1.7 MB 341.3 kB/s eta 0:00:05\n",
      "   --- ------------------------------------ 0.1/1.7 MB 341.3 kB/s eta 0:00:05\n",
      "   --- ------------------------------------ 0.2/1.7 MB 258.6 kB/s eta 0:00:07\n",
      "   --- ------------------------------------ 0.2/1.7 MB 258.6 kB/s eta 0:00:07\n",
      "   --- ------------------------------------ 0.2/1.7 MB 258.6 kB/s eta 0:00:07\n",
      "   --- ------------------------------------ 0.2/1.7 MB 258.6 kB/s eta 0:00:07\n",
      "   --- ------------------------------------ 0.2/1.7 MB 258.6 kB/s eta 0:00:07\n",
      "   --- ------------------------------------ 0.2/1.7 MB 258.6 kB/s eta 0:00:07\n",
      "   ---- ----------------------------------- 0.2/1.7 MB 184.1 kB/s eta 0:00:09\n",
      "   ---- ----------------------------------- 0.2/1.7 MB 196.7 kB/s eta 0:00:08\n",
      "   ---- ----------------------------------- 0.2/1.7 MB 200.8 kB/s eta 0:00:08\n",
      "   ----- ---------------------------------- 0.2/1.7 MB 208.6 kB/s eta 0:00:08\n",
      "   ----- ---------------------------------- 0.2/1.7 MB 208.6 kB/s eta 0:00:08\n",
      "   ----- ---------------------------------- 0.2/1.7 MB 208.6 kB/s eta 0:00:08\n",
      "   ----- ---------------------------------- 0.2/1.7 MB 208.6 kB/s eta 0:00:08\n",
      "   ----- ---------------------------------- 0.2/1.7 MB 208.6 kB/s eta 0:00:08\n",
      "   ----- ---------------------------------- 0.2/1.7 MB 208.6 kB/s eta 0:00:08\n",
      "   ----- ---------------------------------- 0.2/1.7 MB 208.6 kB/s eta 0:00:08\n",
      "   ----- ---------------------------------- 0.2/1.7 MB 208.6 kB/s eta 0:00:08\n",
      "   ----- ---------------------------------- 0.2/1.7 MB 208.6 kB/s eta 0:00:08\n",
      "   ----- ---------------------------------- 0.2/1.7 MB 208.6 kB/s eta 0:00:08\n",
      "   ----- ---------------------------------- 0.2/1.7 MB 208.6 kB/s eta 0:00:08\n",
      "   ----- ---------------------------------- 0.2/1.7 MB 208.6 kB/s eta 0:00:08\n",
      "   ----- ---------------------------------- 0.2/1.7 MB 208.6 kB/s eta 0:00:08\n",
      "   ----- ---------------------------------- 0.2/1.7 MB 208.6 kB/s eta 0:00:08\n",
      "   ----- ---------------------------------- 0.2/1.7 MB 208.6 kB/s eta 0:00:08\n",
      "   ----- ---------------------------------- 0.2/1.7 MB 208.6 kB/s eta 0:00:08\n",
      "   ----- ---------------------------------- 0.2/1.7 MB 208.6 kB/s eta 0:00:08\n",
      "   ----- ---------------------------------- 0.2/1.7 MB 208.6 kB/s eta 0:00:08\n",
      "   ----- ---------------------------------- 0.2/1.7 MB 208.6 kB/s eta 0:00:08\n",
      "   ----- ---------------------------------- 0.2/1.7 MB 208.6 kB/s eta 0:00:08\n",
      "   ----- ---------------------------------- 0.2/1.7 MB 208.6 kB/s eta 0:00:08\n",
      "   ----- ---------------------------------- 0.2/1.7 MB 208.6 kB/s eta 0:00:08\n",
      "   ----- ---------------------------------- 0.2/1.7 MB 208.6 kB/s eta 0:00:08\n",
      "   ----- ---------------------------------- 0.2/1.7 MB 208.6 kB/s eta 0:00:08\n",
      "   ----- ---------------------------------- 0.2/1.7 MB 208.6 kB/s eta 0:00:08\n",
      "   ----- ---------------------------------- 0.2/1.7 MB 208.6 kB/s eta 0:00:08\n",
      "   ----- ---------------------------------- 0.2/1.7 MB 208.6 kB/s eta 0:00:08\n",
      "   ----- ---------------------------------- 0.2/1.7 MB 208.6 kB/s eta 0:00:08\n",
      "   ----- ---------------------------------- 0.2/1.7 MB 208.6 kB/s eta 0:00:08\n",
      "   ----- ---------------------------------- 0.2/1.7 MB 208.6 kB/s eta 0:00:08\n",
      "   ----- ---------------------------------- 0.2/1.7 MB 208.6 kB/s eta 0:00:08\n",
      "   ----- ---------------------------------- 0.2/1.7 MB 208.6 kB/s eta 0:00:08\n",
      "   ----- ---------------------------------- 0.2/1.7 MB 208.6 kB/s eta 0:00:08\n",
      "   ----- ---------------------------------- 0.2/1.7 MB 208.6 kB/s eta 0:00:08\n",
      "   ----- ---------------------------------- 0.2/1.7 MB 208.6 kB/s eta 0:00:08\n",
      "   ----- ---------------------------------- 0.2/1.7 MB 208.6 kB/s eta 0:00:08\n",
      "   ----- ---------------------------------- 0.2/1.7 MB 208.6 kB/s eta 0:00:08\n",
      "   ----- ---------------------------------- 0.2/1.7 MB 208.6 kB/s eta 0:00:08\n",
      "   ----- ---------------------------------- 0.2/1.7 MB 208.6 kB/s eta 0:00:08\n",
      "   ----- ---------------------------------- 0.2/1.7 MB 208.6 kB/s eta 0:00:08\n",
      "   ----- ---------------------------------- 0.2/1.7 MB 208.6 kB/s eta 0:00:08\n",
      "   ----- ---------------------------------- 0.2/1.7 MB 208.6 kB/s eta 0:00:08\n",
      "   ----- ---------------------------------- 0.2/1.7 MB 208.6 kB/s eta 0:00:08\n",
      "   ----- ---------------------------------- 0.2/1.7 MB 208.6 kB/s eta 0:00:08\n",
      "   ----- ---------------------------------- 0.2/1.7 MB 208.6 kB/s eta 0:00:08\n",
      "   ----- ---------------------------------- 0.2/1.7 MB 208.6 kB/s eta 0:00:08\n",
      "   ----- ---------------------------------- 0.2/1.7 MB 208.6 kB/s eta 0:00:08\n",
      "   ----- ---------------------------------- 0.2/1.7 MB 208.6 kB/s eta 0:00:08\n",
      "   ----- ---------------------------------- 0.2/1.7 MB 208.6 kB/s eta 0:00:08\n",
      "   ----- ---------------------------------- 0.2/1.7 MB 208.6 kB/s eta 0:00:08\n",
      "   ----- ---------------------------------- 0.2/1.7 MB 208.6 kB/s eta 0:00:08\n",
      "   ----- ---------------------------------- 0.2/1.7 MB 208.6 kB/s eta 0:00:08\n",
      "   ----- ---------------------------------- 0.2/1.7 MB 208.6 kB/s eta 0:00:08\n",
      "   ----- ---------------------------------- 0.2/1.7 MB 208.6 kB/s eta 0:00:08\n",
      "   ----- ---------------------------------- 0.2/1.7 MB 208.6 kB/s eta 0:00:08\n",
      "   ----- ---------------------------------- 0.2/1.7 MB 208.6 kB/s eta 0:00:08\n",
      "   ----- ---------------------------------- 0.2/1.7 MB 208.6 kB/s eta 0:00:08\n",
      "   ----- ---------------------------------- 0.2/1.7 MB 208.6 kB/s eta 0:00:08\n",
      "   ----- ---------------------------------- 0.2/1.7 MB 208.6 kB/s eta 0:00:08\n",
      "   ----- ---------------------------------- 0.2/1.7 MB 208.6 kB/s eta 0:00:08\n",
      "   ----- ---------------------------------- 0.2/1.7 MB 208.6 kB/s eta 0:00:08\n",
      "   ----- ---------------------------------- 0.2/1.7 MB 208.6 kB/s eta 0:00:08\n",
      "   ----- ---------------------------------- 0.2/1.7 MB 59.8 kB/s eta 0:00:25\n",
      "   ----- ---------------------------------- 0.2/1.7 MB 59.8 kB/s eta 0:00:25\n",
      "   ----- ---------------------------------- 0.2/1.7 MB 59.8 kB/s eta 0:00:25\n",
      "   ----- ---------------------------------- 0.2/1.7 MB 59.8 kB/s eta 0:00:25\n",
      "   ----- ---------------------------------- 0.2/1.7 MB 59.8 kB/s eta 0:00:25\n",
      "   ------- -------------------------------- 0.3/1.7 MB 71.5 kB/s eta 0:00:21\n",
      "   ------- -------------------------------- 0.3/1.7 MB 71.5 kB/s eta 0:00:21\n",
      "   ------- -------------------------------- 0.3/1.7 MB 74.7 kB/s eta 0:00:19\n",
      "   ------- -------------------------------- 0.3/1.7 MB 74.7 kB/s eta 0:00:19\n",
      "   ------- -------------------------------- 0.3/1.7 MB 74.7 kB/s eta 0:00:19\n",
      "   ------- -------------------------------- 0.3/1.7 MB 74.7 kB/s eta 0:00:19\n",
      "   ------- -------------------------------- 0.3/1.7 MB 74.7 kB/s eta 0:00:19\n",
      "   ------- -------------------------------- 0.3/1.7 MB 73.3 kB/s eta 0:00:20\n",
      "   ------- -------------------------------- 0.3/1.7 MB 73.3 kB/s eta 0:00:20\n",
      "   ------- -------------------------------- 0.3/1.7 MB 73.3 kB/s eta 0:00:20\n",
      "   ------- -------------------------------- 0.3/1.7 MB 73.3 kB/s eta 0:00:20\n",
      "   ------- -------------------------------- 0.3/1.7 MB 73.3 kB/s eta 0:00:20\n",
      "   -------- ------------------------------- 0.4/1.7 MB 74.0 kB/s eta 0:00:19\n",
      "   -------- ------------------------------- 0.4/1.7 MB 74.0 kB/s eta 0:00:19\n",
      "   -------- ------------------------------- 0.4/1.7 MB 74.0 kB/s eta 0:00:19\n",
      "   -------- ------------------------------- 0.4/1.7 MB 74.0 kB/s eta 0:00:19\n",
      "   -------- ------------------------------- 0.4/1.7 MB 74.0 kB/s eta 0:00:19\n",
      "   -------- ------------------------------- 0.4/1.7 MB 74.0 kB/s eta 0:00:19\n",
      "   -------- ------------------------------- 0.4/1.7 MB 74.0 kB/s eta 0:00:19\n",
      "   -------- ------------------------------- 0.4/1.7 MB 71.5 kB/s eta 0:00:20\n",
      "   -------- ------------------------------- 0.4/1.7 MB 71.5 kB/s eta 0:00:20\n",
      "   -------- ------------------------------- 0.4/1.7 MB 71.5 kB/s eta 0:00:20\n",
      "   -------- ------------------------------- 0.4/1.7 MB 71.5 kB/s eta 0:00:20\n",
      "   -------- ------------------------------- 0.4/1.7 MB 71.5 kB/s eta 0:00:20\n",
      "   -------- ------------------------------- 0.4/1.7 MB 71.5 kB/s eta 0:00:20\n",
      "   -------- ------------------------------- 0.4/1.7 MB 71.1 kB/s eta 0:00:19\n",
      "   -------- ------------------------------- 0.4/1.7 MB 71.1 kB/s eta 0:00:19\n",
      "   -------- ------------------------------- 0.4/1.7 MB 71.1 kB/s eta 0:00:19\n",
      "   -------- ------------------------------- 0.4/1.7 MB 71.1 kB/s eta 0:00:19\n",
      "   -------- ------------------------------- 0.4/1.7 MB 71.1 kB/s eta 0:00:19\n",
      "   --------- ------------------------------ 0.4/1.7 MB 72.2 kB/s eta 0:00:19\n",
      "   --------- ------------------------------ 0.4/1.7 MB 72.2 kB/s eta 0:00:19\n",
      "   --------- ------------------------------ 0.4/1.7 MB 72.2 kB/s eta 0:00:19\n",
      "   --------- ------------------------------ 0.4/1.7 MB 72.2 kB/s eta 0:00:19\n",
      "   --------- ------------------------------ 0.4/1.7 MB 71.4 kB/s eta 0:00:19\n",
      "   --------- ------------------------------ 0.4/1.7 MB 71.4 kB/s eta 0:00:19\n",
      "   --------- ------------------------------ 0.4/1.7 MB 71.4 kB/s eta 0:00:19\n",
      "   --------- ------------------------------ 0.4/1.7 MB 71.4 kB/s eta 0:00:19\n",
      "   --------- ------------------------------ 0.4/1.7 MB 71.4 kB/s eta 0:00:19\n",
      "   --------- ------------------------------ 0.4/1.7 MB 71.4 kB/s eta 0:00:19\n",
      "   ---------- ----------------------------- 0.4/1.7 MB 71.9 kB/s eta 0:00:19\n",
      "   ---------- ----------------------------- 0.4/1.7 MB 71.9 kB/s eta 0:00:19\n",
      "   ---------- ----------------------------- 0.4/1.7 MB 71.9 kB/s eta 0:00:19\n",
      "   ---------- ----------------------------- 0.4/1.7 MB 71.9 kB/s eta 0:00:19\n",
      "   ---------- ----------------------------- 0.5/1.7 MB 71.0 kB/s eta 0:00:19\n",
      "   ---------- ----------------------------- 0.5/1.7 MB 71.0 kB/s eta 0:00:19\n",
      "   ---------- ----------------------------- 0.5/1.7 MB 71.0 kB/s eta 0:00:19\n",
      "   ---------- ----------------------------- 0.5/1.7 MB 71.0 kB/s eta 0:00:19\n",
      "   ---------- ----------------------------- 0.5/1.7 MB 71.0 kB/s eta 0:00:19\n",
      "   ---------- ----------------------------- 0.5/1.7 MB 71.8 kB/s eta 0:00:18\n",
      "   ---------- ----------------------------- 0.5/1.7 MB 71.8 kB/s eta 0:00:18\n",
      "   ---------- ----------------------------- 0.5/1.7 MB 71.8 kB/s eta 0:00:18\n",
      "   ---------- ----------------------------- 0.5/1.7 MB 71.8 kB/s eta 0:00:18\n",
      "   ---------- ----------------------------- 0.5/1.7 MB 71.8 kB/s eta 0:00:18\n",
      "   ----------- ---------------------------- 0.5/1.7 MB 72.5 kB/s eta 0:00:18\n",
      "   ----------- ---------------------------- 0.5/1.7 MB 72.5 kB/s eta 0:00:18\n",
      "   ----------- ---------------------------- 0.5/1.7 MB 72.5 kB/s eta 0:00:18\n",
      "   ----------- ---------------------------- 0.5/1.7 MB 72.5 kB/s eta 0:00:18\n",
      "   ----------- ---------------------------- 0.5/1.7 MB 71.7 kB/s eta 0:00:18\n",
      "   ----------- ---------------------------- 0.5/1.7 MB 71.7 kB/s eta 0:00:18\n",
      "   ----------- ---------------------------- 0.5/1.7 MB 71.7 kB/s eta 0:00:18\n",
      "   ----------- ---------------------------- 0.5/1.7 MB 71.7 kB/s eta 0:00:18\n",
      "   ------------ --------------------------- 0.5/1.7 MB 72.7 kB/s eta 0:00:17\n",
      "   ------------ --------------------------- 0.5/1.7 MB 72.7 kB/s eta 0:00:17\n",
      "   ------------ --------------------------- 0.5/1.7 MB 72.7 kB/s eta 0:00:17\n",
      "   ------------ --------------------------- 0.5/1.7 MB 72.7 kB/s eta 0:00:17\n",
      "   ------------ --------------------------- 0.5/1.7 MB 72.7 kB/s eta 0:00:17\n",
      "   ------------ --------------------------- 0.5/1.7 MB 71.9 kB/s eta 0:00:17\n",
      "   ------------ --------------------------- 0.5/1.7 MB 71.9 kB/s eta 0:00:17\n",
      "   ------------ --------------------------- 0.5/1.7 MB 71.9 kB/s eta 0:00:17\n",
      "   ------------ --------------------------- 0.5/1.7 MB 71.9 kB/s eta 0:00:17\n",
      "   ------------ --------------------------- 0.5/1.7 MB 71.9 kB/s eta 0:00:17\n",
      "   ------------ --------------------------- 0.5/1.7 MB 71.9 kB/s eta 0:00:17\n",
      "   ------------ --------------------------- 0.5/1.7 MB 71.9 kB/s eta 0:00:17\n",
      "   ------------ --------------------------- 0.5/1.7 MB 71.9 kB/s eta 0:00:17\n",
      "   ------------ --------------------------- 0.5/1.7 MB 71.9 kB/s eta 0:00:17\n",
      "   ------------ --------------------------- 0.5/1.7 MB 71.9 kB/s eta 0:00:17\n",
      "   ------------ --------------------------- 0.5/1.7 MB 71.9 kB/s eta 0:00:17\n",
      "   ------------ --------------------------- 0.5/1.7 MB 71.9 kB/s eta 0:00:17\n",
      "   ------------ --------------------------- 0.5/1.7 MB 71.9 kB/s eta 0:00:17\n",
      "   ------------ --------------------------- 0.5/1.7 MB 71.9 kB/s eta 0:00:17\n",
      "   ------------ --------------------------- 0.6/1.7 MB 68.6 kB/s eta 0:00:18\n",
      "   ------------ --------------------------- 0.6/1.7 MB 68.6 kB/s eta 0:00:18\n",
      "   ------------ --------------------------- 0.6/1.7 MB 68.6 kB/s eta 0:00:18\n",
      "   ------------ --------------------------- 0.6/1.7 MB 68.6 kB/s eta 0:00:18\n",
      "   ------------ --------------------------- 0.6/1.7 MB 68.6 kB/s eta 0:00:18\n",
      "   ------------- -------------------------- 0.6/1.7 MB 68.9 kB/s eta 0:00:17\n",
      "   ------------- -------------------------- 0.6/1.7 MB 68.9 kB/s eta 0:00:17\n",
      "   ------------- -------------------------- 0.6/1.7 MB 68.9 kB/s eta 0:00:17\n",
      "   ------------- -------------------------- 0.6/1.7 MB 69.4 kB/s eta 0:00:17\n",
      "   ------------- -------------------------- 0.6/1.7 MB 70.2 kB/s eta 0:00:17\n",
      "   -------------- ------------------------- 0.6/1.7 MB 72.0 kB/s eta 0:00:16\n",
      "   -------------- ------------------------- 0.6/1.7 MB 72.0 kB/s eta 0:00:16\n",
      "   -------------- ------------------------- 0.6/1.7 MB 72.0 kB/s eta 0:00:16\n",
      "   -------------- ------------------------- 0.6/1.7 MB 72.0 kB/s eta 0:00:16\n",
      "   -------------- ------------------------- 0.6/1.7 MB 71.5 kB/s eta 0:00:16\n",
      "   -------------- ------------------------- 0.6/1.7 MB 71.5 kB/s eta 0:00:16\n",
      "   -------------- ------------------------- 0.6/1.7 MB 73.5 kB/s eta 0:00:15\n",
      "   -------------- ------------------------- 0.6/1.7 MB 73.5 kB/s eta 0:00:15\n",
      "   -------------- ------------------------- 0.6/1.7 MB 73.5 kB/s eta 0:00:15\n",
      "   -------------- ------------------------- 0.6/1.7 MB 73.5 kB/s eta 0:00:15\n",
      "   --------------- ------------------------ 0.7/1.7 MB 74.0 kB/s eta 0:00:15\n",
      "   --------------- ------------------------ 0.7/1.7 MB 74.7 kB/s eta 0:00:15\n",
      "   --------------- ------------------------ 0.7/1.7 MB 74.7 kB/s eta 0:00:15\n",
      "   ---------------- ----------------------- 0.7/1.7 MB 76.2 kB/s eta 0:00:14\n",
      "   ---------------- ----------------------- 0.7/1.7 MB 76.2 kB/s eta 0:00:14\n",
      "   ---------------- ----------------------- 0.7/1.7 MB 76.8 kB/s eta 0:00:14\n",
      "   ----------------- ---------------------- 0.7/1.7 MB 80.7 kB/s eta 0:00:13\n",
      "   ----------------- ---------------------- 0.8/1.7 MB 83.7 kB/s eta 0:00:12\n",
      "   ------------------- -------------------- 0.8/1.7 MB 88.6 kB/s eta 0:00:11\n",
      "   -------------------- ------------------- 0.9/1.7 MB 93.8 kB/s eta 0:00:10\n",
      "   --------------------- ------------------ 0.9/1.7 MB 97.7 kB/s eta 0:00:09\n",
      "   ---------------------- ----------------- 1.0/1.7 MB 101.6 kB/s eta 0:00:08\n",
      "   ----------------------- ---------------- 1.0/1.7 MB 105.4 kB/s eta 0:00:07\n",
      "   ----------------------- ---------------- 1.0/1.7 MB 108.1 kB/s eta 0:00:07\n",
      "   ------------------------ --------------- 1.1/1.7 MB 111.0 kB/s eta 0:00:07\n",
      "   ------------------------- -------------- 1.1/1.7 MB 115.7 kB/s eta 0:00:06\n",
      "   -------------------------- ------------- 1.1/1.7 MB 118.5 kB/s eta 0:00:05\n",
      "   --------------------------- ------------ 1.2/1.7 MB 120.9 kB/s eta 0:00:05\n",
      "   --------------------------- ------------ 1.2/1.7 MB 123.7 kB/s eta 0:00:05\n",
      "   ---------------------------- ----------- 1.2/1.7 MB 125.2 kB/s eta 0:00:05\n",
      "   ---------------------------- ----------- 1.3/1.7 MB 127.7 kB/s eta 0:00:04\n",
      "   ----------------------------- ---------- 1.3/1.7 MB 129.4 kB/s eta 0:00:04\n",
      "   ----------------------------- ---------- 1.3/1.7 MB 129.4 kB/s eta 0:00:04\n",
      "   ----------------------------- ---------- 1.3/1.7 MB 129.4 kB/s eta 0:00:04\n",
      "   ----------------------------- ---------- 1.3/1.7 MB 128.6 kB/s eta 0:00:04\n",
      "   ------------------------------ --------- 1.3/1.7 MB 132.7 kB/s eta 0:00:03\n",
      "   -------------------------------- ------- 1.4/1.7 MB 137.4 kB/s eta 0:00:03\n",
      "   --------------------------------- ------ 1.5/1.7 MB 144.6 kB/s eta 0:00:02\n",
      "   ------------------------------------- -- 1.6/1.7 MB 158.0 kB/s eta 0:00:01\n",
      "   ---------------------------------------  1.7/1.7 MB 168.6 kB/s eta 0:00:01\n",
      "   ---------------------------------------- 1.7/1.7 MB 168.9 kB/s eta 0:00:00\n",
      "Installing collected packages: Faker\n",
      "Successfully installed Faker-20.1.0\n"
     ]
    }
   ],
   "source": [
    "pip install Faker"
   ]
  },
  {
   "cell_type": "markdown",
   "id": "5b450585",
   "metadata": {},
   "source": []
  }
 ],
 "metadata": {
  "kernelspec": {
   "display_name": "Python 3 (ipykernel)",
   "language": "python",
   "name": "python3"
  },
  "language_info": {
   "codemirror_mode": {
    "name": "ipython",
    "version": 3
   },
   "file_extension": ".py",
   "mimetype": "text/x-python",
   "name": "python",
   "nbconvert_exporter": "python",
   "pygments_lexer": "ipython3",
   "version": "3.11.5"
  },
  "toc": {
   "base_numbering": 1,
   "nav_menu": {},
   "number_sections": true,
   "sideBar": true,
   "skip_h1_title": false,
   "title_cell": "Table of Contents",
   "title_sidebar": "Contents",
   "toc_cell": false,
   "toc_position": {},
   "toc_section_display": true,
   "toc_window_display": false
  }
 },
 "nbformat": 4,
 "nbformat_minor": 5
}
