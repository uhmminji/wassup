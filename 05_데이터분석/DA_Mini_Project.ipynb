{
 "cells": [
  {
   "cell_type": "markdown",
   "id": "ad7181c2-2b55-4c85-b98b-73f88cd2f077",
   "metadata": {},
   "source": [
    "# DA Mini Project\n",
    "* 주제 : 온라인 학습 플랫폼 사용자 행동 패턴 분석\n",
    "* 개요 :\n",
    "```\n",
    "이번 프로젝트는 학습 서비스를 이용하는 독자들 중 누가 서비스 구독을 연장할지 예측하기 위한 사전 파악에 초점을 맞추고 있습니다. 우리의 목표는 유저들의 학습 습관, 선호도, 이용 행태 등 다양한 측면을 면밀히 분석하는 것입니다.\n",
    "\n",
    "\n",
    "이를 위해, 우리는 유저들의 학습 패턴, 서비스 이용 시간, 콘텐츠에 대한 반응, 그리고 이들이 얼마나 자주 서비스를 이용하는지 등 다양한 데이터를 수집하고 분석할 계획입니다. 이 데이터는 유저들이 서비스에 얼마나 만족하고 있는지, 어떤 요소들이 그들의 구독 결정에 영향을 미치는지 이해하는 데 중요한 역할을 할 것입니다.\n",
    "```\n",
    "* 데이터셋 : mini.csv\n",
    "    * 메타데이터\n",
    "        * user_id: 사용자의 고유 식별자\n",
    "        * subscription_duration: 사용자가 서비스에 가입한 기간 (월)\n",
    "        * recent_login_time: 사용자가 마지막으로 로그인한 시간 (일)\n",
    "        * average_login_time:  사용자의 일반적인 로그인 시간\n",
    "        * average_time_per_learning_session: 각 학습 세션에 소요된 평균 시간 (분)\n",
    "        * monthly_active_learning_days: 월간 활동적인 학습 일수\n",
    "        * total_completed_courses: 완료한 총 코스 수\n",
    "        * recent_learning_achievement: 최근 학습 성취도\n",
    "        * abandoned_learning_sessions: 중단된 학습 세션 수\n",
    "        * community_engagement_level: 커뮤니티 참여도\n",
    "        * preferred_difficulty_level: 선호하는 난이도\n",
    "        * subscription_type: 구독 유형\n",
    "        * customer_inquiry_history: 고객 문의 이력\n",
    "        * payment_pattern : 사용자의 지난 3개월 간의 결제 패턴을 10진수로 표현한 값.\n",
    "          - 7: 3개월 모두 결제함\n",
    "          - 6: 첫 2개월은 결제했으나 마지막 달에는 결제하지 않음\n",
    "          - 5: 첫 달과 마지막 달에 결제함\n",
    "          - 4: 첫 달에만 결제함\n",
    "          - 3: 마지막 2개월에 결제함\n",
    "          - 2: 가운데 달에만 결제함\n",
    "          - 1: 마지막 달에만 결제함\n",
    "          - 0: 3개월 동안 결제하지 않음\n",
    "        - target: 사용자가 다음달에도 구독을 게속할지(1) 취소할지(0)"
   ]
  },
  {
   "cell_type": "markdown",
   "id": "67b58ce6",
   "metadata": {},
   "source": [
    "목표: 유저들의 학습 습관, 선호도, 이용 행태 도출 -> 학습 서비스를 이용하는 독자들 중 누가 서비스 구독을 연장할지 예측\n",
    "\n"
   ]
  },
  {
   "cell_type": "markdown",
   "id": "49a64497",
   "metadata": {},
   "source": [
    "1) 문제 정의 및 가설 설정하기 → 2) 데이터 분석 기본 세팅 하기 → 3) 데이터 분석하기 → 4) 분석 결과 시각화 하기 → 5) 최종 결론 내리기"
   ]
  },
  {
   "cell_type": "markdown",
   "id": "fa8b95f0",
   "metadata": {},
   "source": [
    "# 문제 정의 및 가설 설정하기\n",
    "## 목표\n",
    "- 유저들의 학습 습관, 선호도, 이용 행태 도출 등 면밀히 분석-> 학습 서비스를 이용하는 독자들 중 누가 서비스 구독을 연장할지 예측\n",
    "- 1.서비스 만족도 2. 구독 결정 요인 분석하기\n",
    "## 구독 여정\n",
    "0. 가입한다.\n",
    "1. 마음을 먹고 구독을 결제한다.\n",
    "2. 어떤 학습 세션이 있는지 탐색하며 여러가지를 수강해본다.\n",
    "    - 수강 시간이 짧은 세션은 필터링할 필요가 있다.\n",
    "3. 마음에 드는 세션을 선택해 꾸준히 수강한다.\n",
    "    - 이 단계에서 만족도가 올라게 된다.\n",
    "    - 수강 과정에서 만족도에 영향을 미치는 요소가 무엇인지 파악해야 한다.\n",
    "4. 구독 연장을 결심한다.\n",
    "## 가설 설정하기\n",
    "- 3번째 '세션 수강 단계'에서 만족도가 좌우된다. 만족도가 높을 수록 구독을 연장할 것이다.\n",
    "## 필요 메타데이터\n",
    "- 만족도 상관관계 파악하기: 지난달 기준, 다음 달에 구독 연장했는지 여부\n",
    "    -  각 요소 별 관계성 파악해보기 -> 그것을 만족도 관련 요소로 쓰기\n",
    "- '세션 수강 단계'에서 만족도 관련 요소\n",
    "    - average_time_per_learning_session: 각 학습 세션에 소요된 평균 시간 (분)\n",
    "    - monthly_active_learning_days: 월간 활동적인 학습 일수\n",
    "    - total_completed_courses: 완료한 총 코스 수\n",
    "        - 가입 기간이 길 수록 많을 것이니 가공 필요함.\n",
    "        - 총 코스 수/가입 개월수\n",
    "    - recent_learning_achievement: 최근 학습 성취도\n",
    "        - 최근의 범위?\n",
    "    - abandoned_learning_sessions: 중단된 학습 세션 수\n",
    "- 유저 정보\n",
    "    - user_id: 사용자의 고유 식별자\n",
    "- 결제 정보\n",
    "    - payment_pattern : 사용자의 지난 3개월 간의 결제 패턴을 10진수로 표현한 값.\n",
    "        - 구독 '연장'이 목표이므로 직전 달에 결제한 사용자만 필터링해야함"
   ]
  },
  {
   "cell_type": "markdown",
   "id": "32902013",
   "metadata": {},
   "source": [
    "# 데이터 분석 기본 세팅 하기"
   ]
  },
  {
   "cell_type": "code",
   "execution_count": 37,
   "id": "3a906b17",
   "metadata": {
    "ExecuteTime": {
     "end_time": "2023-12-28T08:23:24.984373Z",
     "start_time": "2023-12-28T08:23:24.569290Z"
    }
   },
   "outputs": [],
   "source": [
    "import pandas as pd\n",
    "import numpy as np\n",
    "import matplotlib.pyplot as plt\n",
    "import koreanize_matplotlib"
   ]
  },
  {
   "cell_type": "code",
   "execution_count": 17,
   "id": "87f938f6",
   "metadata": {
    "ExecuteTime": {
     "end_time": "2023-12-28T08:04:46.437412Z",
     "start_time": "2023-12-28T08:04:46.329378Z"
    },
    "scrolled": true
   },
   "outputs": [
    {
     "data": {
      "text/html": [
       "<div>\n",
       "<style scoped>\n",
       "    .dataframe tbody tr th:only-of-type {\n",
       "        vertical-align: middle;\n",
       "    }\n",
       "\n",
       "    .dataframe tbody tr th {\n",
       "        vertical-align: top;\n",
       "    }\n",
       "\n",
       "    .dataframe thead th {\n",
       "        text-align: right;\n",
       "    }\n",
       "</style>\n",
       "<table border=\"1\" class=\"dataframe\">\n",
       "  <thead>\n",
       "    <tr style=\"text-align: right;\">\n",
       "      <th></th>\n",
       "      <th>user_id</th>\n",
       "      <th>subscription_duration</th>\n",
       "      <th>recent_login_time</th>\n",
       "      <th>average_login_time</th>\n",
       "      <th>average_time_per_learning_session</th>\n",
       "      <th>monthly_active_learning_days</th>\n",
       "      <th>total_completed_courses</th>\n",
       "      <th>recent_learning_achievement</th>\n",
       "      <th>abandoned_learning_sessions</th>\n",
       "      <th>community_engagement_level</th>\n",
       "      <th>preferred_difficulty_level</th>\n",
       "      <th>subscription_type</th>\n",
       "      <th>customer_inquiry_history</th>\n",
       "      <th>payment_pattern</th>\n",
       "      <th>target</th>\n",
       "    </tr>\n",
       "  </thead>\n",
       "  <tbody>\n",
       "    <tr>\n",
       "      <th>0</th>\n",
       "      <td>b919c29d</td>\n",
       "      <td>13</td>\n",
       "      <td>14</td>\n",
       "      <td>14.946163</td>\n",
       "      <td>8.427187</td>\n",
       "      <td>18</td>\n",
       "      <td>16</td>\n",
       "      <td>68.360455</td>\n",
       "      <td>3</td>\n",
       "      <td>4</td>\n",
       "      <td>Low</td>\n",
       "      <td>Basic</td>\n",
       "      <td>4</td>\n",
       "      <td>5</td>\n",
       "      <td>0</td>\n",
       "    </tr>\n",
       "    <tr>\n",
       "      <th>1</th>\n",
       "      <td>a0a60abb</td>\n",
       "      <td>16</td>\n",
       "      <td>18</td>\n",
       "      <td>18.453224</td>\n",
       "      <td>72.646087</td>\n",
       "      <td>16</td>\n",
       "      <td>13</td>\n",
       "      <td>97.567322</td>\n",
       "      <td>2</td>\n",
       "      <td>3</td>\n",
       "      <td>Medium</td>\n",
       "      <td>Basic</td>\n",
       "      <td>1</td>\n",
       "      <td>6</td>\n",
       "      <td>1</td>\n",
       "    </tr>\n",
       "    <tr>\n",
       "      <th>2</th>\n",
       "      <td>b9f171ae</td>\n",
       "      <td>22</td>\n",
       "      <td>1</td>\n",
       "      <td>16.195228</td>\n",
       "      <td>21.774492</td>\n",
       "      <td>13</td>\n",
       "      <td>14</td>\n",
       "      <td>94.358763</td>\n",
       "      <td>3</td>\n",
       "      <td>4</td>\n",
       "      <td>Medium</td>\n",
       "      <td>Premium</td>\n",
       "      <td>0</td>\n",
       "      <td>7</td>\n",
       "      <td>1</td>\n",
       "    </tr>\n",
       "    <tr>\n",
       "      <th>3</th>\n",
       "      <td>5dc0ba8b</td>\n",
       "      <td>1</td>\n",
       "      <td>19</td>\n",
       "      <td>17.628656</td>\n",
       "      <td>42.659066</td>\n",
       "      <td>19</td>\n",
       "      <td>18</td>\n",
       "      <td>70.153228</td>\n",
       "      <td>0</td>\n",
       "      <td>3</td>\n",
       "      <td>Low</td>\n",
       "      <td>Basic</td>\n",
       "      <td>1</td>\n",
       "      <td>0</td>\n",
       "      <td>1</td>\n",
       "    </tr>\n",
       "    <tr>\n",
       "      <th>4</th>\n",
       "      <td>65c83654</td>\n",
       "      <td>4</td>\n",
       "      <td>5</td>\n",
       "      <td>21.390656</td>\n",
       "      <td>30.744287</td>\n",
       "      <td>19</td>\n",
       "      <td>10</td>\n",
       "      <td>81.917908</td>\n",
       "      <td>2</td>\n",
       "      <td>4</td>\n",
       "      <td>Medium</td>\n",
       "      <td>Basic</td>\n",
       "      <td>3</td>\n",
       "      <td>0</td>\n",
       "      <td>1</td>\n",
       "    </tr>\n",
       "  </tbody>\n",
       "</table>\n",
       "</div>"
      ],
      "text/plain": [
       "    user_id  subscription_duration  recent_login_time  average_login_time  \\\n",
       "0  b919c29d                     13                 14           14.946163   \n",
       "1  a0a60abb                     16                 18           18.453224   \n",
       "2  b9f171ae                     22                  1           16.195228   \n",
       "3  5dc0ba8b                      1                 19           17.628656   \n",
       "4  65c83654                      4                  5           21.390656   \n",
       "\n",
       "   average_time_per_learning_session  monthly_active_learning_days  \\\n",
       "0                           8.427187                            18   \n",
       "1                          72.646087                            16   \n",
       "2                          21.774492                            13   \n",
       "3                          42.659066                            19   \n",
       "4                          30.744287                            19   \n",
       "\n",
       "   total_completed_courses  recent_learning_achievement  \\\n",
       "0                       16                    68.360455   \n",
       "1                       13                    97.567322   \n",
       "2                       14                    94.358763   \n",
       "3                       18                    70.153228   \n",
       "4                       10                    81.917908   \n",
       "\n",
       "   abandoned_learning_sessions  community_engagement_level  \\\n",
       "0                            3                           4   \n",
       "1                            2                           3   \n",
       "2                            3                           4   \n",
       "3                            0                           3   \n",
       "4                            2                           4   \n",
       "\n",
       "  preferred_difficulty_level subscription_type  customer_inquiry_history  \\\n",
       "0                        Low             Basic                         4   \n",
       "1                     Medium             Basic                         1   \n",
       "2                     Medium           Premium                         0   \n",
       "3                        Low             Basic                         1   \n",
       "4                     Medium             Basic                         3   \n",
       "\n",
       "   payment_pattern  target  \n",
       "0                5       0  \n",
       "1                6       1  \n",
       "2                7       1  \n",
       "3                0       1  \n",
       "4                0       1  "
      ]
     },
     "execution_count": 17,
     "metadata": {},
     "output_type": "execute_result"
    }
   ],
   "source": [
    "user_data = pd.read_table('data/mini.csv',sep=',')\n",
    "user_data.head()"
   ]
  },
  {
   "cell_type": "code",
   "execution_count": 3,
   "id": "96bceeeb",
   "metadata": {
    "ExecuteTime": {
     "end_time": "2023-12-28T07:30:09.677201Z",
     "start_time": "2023-12-28T07:30:09.577332Z"
    },
    "scrolled": true
   },
   "outputs": [
    {
     "name": "stdout",
     "output_type": "stream",
     "text": [
      "<class 'pandas.core.frame.DataFrame'>\n",
      "RangeIndex: 10000 entries, 0 to 9999\n",
      "Data columns (total 15 columns):\n",
      " #   Column                             Non-Null Count  Dtype  \n",
      "---  ------                             --------------  -----  \n",
      " 0   user_id                            10000 non-null  object \n",
      " 1   subscription_duration              10000 non-null  int64  \n",
      " 2   recent_login_time                  10000 non-null  int64  \n",
      " 3   average_login_time                 10000 non-null  float64\n",
      " 4   average_time_per_learning_session  10000 non-null  float64\n",
      " 5   monthly_active_learning_days       10000 non-null  int64  \n",
      " 6   total_completed_courses            10000 non-null  int64  \n",
      " 7   recent_learning_achievement        10000 non-null  float64\n",
      " 8   abandoned_learning_sessions        10000 non-null  int64  \n",
      " 9   community_engagement_level         10000 non-null  int64  \n",
      " 10  preferred_difficulty_level         10000 non-null  object \n",
      " 11  subscription_type                  10000 non-null  object \n",
      " 12  customer_inquiry_history           10000 non-null  int64  \n",
      " 13  payment_pattern                    10000 non-null  int64  \n",
      " 14  target                             10000 non-null  int64  \n",
      "dtypes: float64(3), int64(9), object(3)\n",
      "memory usage: 1.1+ MB\n"
     ]
    }
   ],
   "source": [
    "# 결측치 체크\n",
    "user_data.info()"
   ]
  },
  {
   "cell_type": "code",
   "execution_count": 4,
   "id": "a5302058",
   "metadata": {
    "ExecuteTime": {
     "end_time": "2023-12-28T07:30:28.474496Z",
     "start_time": "2023-12-28T07:30:28.359861Z"
    },
    "scrolled": true
   },
   "outputs": [
    {
     "data": {
      "text/html": [
       "<div>\n",
       "<style scoped>\n",
       "    .dataframe tbody tr th:only-of-type {\n",
       "        vertical-align: middle;\n",
       "    }\n",
       "\n",
       "    .dataframe tbody tr th {\n",
       "        vertical-align: top;\n",
       "    }\n",
       "\n",
       "    .dataframe thead th {\n",
       "        text-align: right;\n",
       "    }\n",
       "</style>\n",
       "<table border=\"1\" class=\"dataframe\">\n",
       "  <thead>\n",
       "    <tr style=\"text-align: right;\">\n",
       "      <th></th>\n",
       "      <th>subscription_duration</th>\n",
       "      <th>recent_login_time</th>\n",
       "      <th>average_login_time</th>\n",
       "      <th>average_time_per_learning_session</th>\n",
       "      <th>monthly_active_learning_days</th>\n",
       "      <th>total_completed_courses</th>\n",
       "      <th>recent_learning_achievement</th>\n",
       "      <th>abandoned_learning_sessions</th>\n",
       "      <th>community_engagement_level</th>\n",
       "      <th>customer_inquiry_history</th>\n",
       "      <th>payment_pattern</th>\n",
       "      <th>target</th>\n",
       "    </tr>\n",
       "  </thead>\n",
       "  <tbody>\n",
       "    <tr>\n",
       "      <th>count</th>\n",
       "      <td>10000.000000</td>\n",
       "      <td>10000.000000</td>\n",
       "      <td>10000.000000</td>\n",
       "      <td>10000.000000</td>\n",
       "      <td>10000.000000</td>\n",
       "      <td>10000.000000</td>\n",
       "      <td>10000.000000</td>\n",
       "      <td>10000.000000</td>\n",
       "      <td>10000.000000</td>\n",
       "      <td>10000.000000</td>\n",
       "      <td>10000.000000</td>\n",
       "      <td>10000.000000</td>\n",
       "    </tr>\n",
       "    <tr>\n",
       "      <th>mean</th>\n",
       "      <td>11.897400</td>\n",
       "      <td>15.013200</td>\n",
       "      <td>14.994076</td>\n",
       "      <td>54.917720</td>\n",
       "      <td>12.545400</td>\n",
       "      <td>12.227500</td>\n",
       "      <td>75.029513</td>\n",
       "      <td>3.043600</td>\n",
       "      <td>3.886100</td>\n",
       "      <td>2.010500</td>\n",
       "      <td>3.502900</td>\n",
       "      <td>0.619900</td>\n",
       "    </tr>\n",
       "    <tr>\n",
       "      <th>std</th>\n",
       "      <td>6.600896</td>\n",
       "      <td>8.362573</td>\n",
       "      <td>3.001869</td>\n",
       "      <td>56.024310</td>\n",
       "      <td>6.932239</td>\n",
       "      <td>3.634125</td>\n",
       "      <td>9.968529</td>\n",
       "      <td>1.755052</td>\n",
       "      <td>1.262175</td>\n",
       "      <td>1.420983</td>\n",
       "      <td>2.311261</td>\n",
       "      <td>0.485435</td>\n",
       "    </tr>\n",
       "    <tr>\n",
       "      <th>min</th>\n",
       "      <td>1.000000</td>\n",
       "      <td>1.000000</td>\n",
       "      <td>2.366189</td>\n",
       "      <td>0.011515</td>\n",
       "      <td>1.000000</td>\n",
       "      <td>1.000000</td>\n",
       "      <td>35.941755</td>\n",
       "      <td>0.000000</td>\n",
       "      <td>1.000000</td>\n",
       "      <td>0.000000</td>\n",
       "      <td>0.000000</td>\n",
       "      <td>0.000000</td>\n",
       "    </tr>\n",
       "    <tr>\n",
       "      <th>25%</th>\n",
       "      <td>6.000000</td>\n",
       "      <td>8.000000</td>\n",
       "      <td>13.025597</td>\n",
       "      <td>15.276611</td>\n",
       "      <td>7.000000</td>\n",
       "      <td>10.000000</td>\n",
       "      <td>68.278054</td>\n",
       "      <td>2.000000</td>\n",
       "      <td>3.000000</td>\n",
       "      <td>1.000000</td>\n",
       "      <td>1.000000</td>\n",
       "      <td>0.000000</td>\n",
       "    </tr>\n",
       "    <tr>\n",
       "      <th>50%</th>\n",
       "      <td>12.000000</td>\n",
       "      <td>15.000000</td>\n",
       "      <td>14.979228</td>\n",
       "      <td>37.578818</td>\n",
       "      <td>13.000000</td>\n",
       "      <td>12.000000</td>\n",
       "      <td>75.126061</td>\n",
       "      <td>3.000000</td>\n",
       "      <td>4.000000</td>\n",
       "      <td>2.000000</td>\n",
       "      <td>4.000000</td>\n",
       "      <td>1.000000</td>\n",
       "    </tr>\n",
       "    <tr>\n",
       "      <th>75%</th>\n",
       "      <td>18.000000</td>\n",
       "      <td>22.000000</td>\n",
       "      <td>16.995340</td>\n",
       "      <td>75.584200</td>\n",
       "      <td>19.000000</td>\n",
       "      <td>15.000000</td>\n",
       "      <td>81.718976</td>\n",
       "      <td>4.000000</td>\n",
       "      <td>5.000000</td>\n",
       "      <td>3.000000</td>\n",
       "      <td>6.000000</td>\n",
       "      <td>1.000000</td>\n",
       "    </tr>\n",
       "    <tr>\n",
       "      <th>max</th>\n",
       "      <td>23.000000</td>\n",
       "      <td>29.000000</td>\n",
       "      <td>26.998490</td>\n",
       "      <td>503.372616</td>\n",
       "      <td>24.000000</td>\n",
       "      <td>27.000000</td>\n",
       "      <td>112.643828</td>\n",
       "      <td>12.000000</td>\n",
       "      <td>5.000000</td>\n",
       "      <td>10.000000</td>\n",
       "      <td>7.000000</td>\n",
       "      <td>1.000000</td>\n",
       "    </tr>\n",
       "  </tbody>\n",
       "</table>\n",
       "</div>"
      ],
      "text/plain": [
       "       subscription_duration  recent_login_time  average_login_time  \\\n",
       "count           10000.000000       10000.000000        10000.000000   \n",
       "mean               11.897400          15.013200           14.994076   \n",
       "std                 6.600896           8.362573            3.001869   \n",
       "min                 1.000000           1.000000            2.366189   \n",
       "25%                 6.000000           8.000000           13.025597   \n",
       "50%                12.000000          15.000000           14.979228   \n",
       "75%                18.000000          22.000000           16.995340   \n",
       "max                23.000000          29.000000           26.998490   \n",
       "\n",
       "       average_time_per_learning_session  monthly_active_learning_days  \\\n",
       "count                       10000.000000                  10000.000000   \n",
       "mean                           54.917720                     12.545400   \n",
       "std                            56.024310                      6.932239   \n",
       "min                             0.011515                      1.000000   \n",
       "25%                            15.276611                      7.000000   \n",
       "50%                            37.578818                     13.000000   \n",
       "75%                            75.584200                     19.000000   \n",
       "max                           503.372616                     24.000000   \n",
       "\n",
       "       total_completed_courses  recent_learning_achievement  \\\n",
       "count             10000.000000                 10000.000000   \n",
       "mean                 12.227500                    75.029513   \n",
       "std                   3.634125                     9.968529   \n",
       "min                   1.000000                    35.941755   \n",
       "25%                  10.000000                    68.278054   \n",
       "50%                  12.000000                    75.126061   \n",
       "75%                  15.000000                    81.718976   \n",
       "max                  27.000000                   112.643828   \n",
       "\n",
       "       abandoned_learning_sessions  community_engagement_level  \\\n",
       "count                 10000.000000                10000.000000   \n",
       "mean                      3.043600                    3.886100   \n",
       "std                       1.755052                    1.262175   \n",
       "min                       0.000000                    1.000000   \n",
       "25%                       2.000000                    3.000000   \n",
       "50%                       3.000000                    4.000000   \n",
       "75%                       4.000000                    5.000000   \n",
       "max                      12.000000                    5.000000   \n",
       "\n",
       "       customer_inquiry_history  payment_pattern        target  \n",
       "count              10000.000000     10000.000000  10000.000000  \n",
       "mean                   2.010500         3.502900      0.619900  \n",
       "std                    1.420983         2.311261      0.485435  \n",
       "min                    0.000000         0.000000      0.000000  \n",
       "25%                    1.000000         1.000000      0.000000  \n",
       "50%                    2.000000         4.000000      1.000000  \n",
       "75%                    3.000000         6.000000      1.000000  \n",
       "max                   10.000000         7.000000      1.000000  "
      ]
     },
     "execution_count": 4,
     "metadata": {},
     "output_type": "execute_result"
    }
   ],
   "source": [
    "user_data.describe()"
   ]
  },
  {
   "attachments": {
    "image-2.png": {
     "image/png": "[encoded data removed]"
    }
   },
   "cell_type": "markdown",
   "id": "78985c88",
   "metadata": {},
   "source": [
    "# 데이터 전처리\n",
    "## 만족도에 영향을 미치는 요소가 무엇인지 파악하기\n",
    "지난달 결제한 사용자만 추출해서 각 요소와 비교하기 -> 상관 있는 요소 파악하기\n",
    "\n",
    "- 지난달 결제한 사용자\n",
    "    - payment_pattern : 사용자의 지난 3개월 간의 결제 패턴을 10진수로 표현한 값.\n",
    "![image-2.png](attachment:image-2.png)\n",
    "- '세션 수강 단계'에서 만족도 관련 요소\n",
    "    - average_time_per_learning_session: 각 학습 세션에 소요된 평균 시간 (분)\n",
    "    - monthly_active_learning_days: 월간 활동적인 학습 일수\n",
    "    - total_completed_courses: 완료한 총 코스 수\n",
    "        - 가입 기간이 길 수록 많을 것이니 가공 필요함.\n",
    "        - 총 코스 수/가입 개월수\n",
    "    - recent_learning_achievement: 최근 학습 성취도\n",
    "        - 최근의 범위?\n",
    "    - abandoned_learning_sessions: 중단된 학습 세션 수"
   ]
  },
  {
   "attachments": {},
   "cell_type": "markdown",
   "id": "43d8f673",
   "metadata": {},
   "source": [
    "### 각 단계별 사람 수 추출"
   ]
  },
  {
   "cell_type": "code",
   "execution_count": 30,
   "id": "2fc681f4",
   "metadata": {
    "ExecuteTime": {
     "end_time": "2023-12-28T08:18:45.166015Z",
     "start_time": "2023-12-28T08:18:45.148629Z"
    }
   },
   "outputs": [
    {
     "data": {
      "text/plain": [
       "payment_pattern\n",
       "0    1275\n",
       "1    1285\n",
       "2    1206\n",
       "3    1230\n",
       "4    1214\n",
       "5    1238\n",
       "6    1268\n",
       "7    1284\n",
       "Name: user_id, dtype: int64"
      ]
     },
     "execution_count": 30,
     "metadata": {},
     "output_type": "execute_result"
    }
   ],
   "source": [
    "인원수 = user_data.groupby('payment_pattern')['user_id'].count()\n",
    "인원수"
   ]
  },
  {
   "cell_type": "markdown",
   "id": "ac744883",
   "metadata": {},
   "source": [
    "### 각 요소 넣어보기\n",
    "#### average_time_per_learning_session: 각 학습 세션에 소요된 평균 시간 (분)"
   ]
  },
  {
   "cell_type": "code",
   "execution_count": 29,
   "id": "7fd02d37",
   "metadata": {
    "ExecuteTime": {
     "end_time": "2023-12-28T08:18:23.450669Z",
     "start_time": "2023-12-28T08:18:23.431877Z"
    }
   },
   "outputs": [
    {
     "data": {
      "text/plain": [
       "payment_pattern\n",
       "0    66546.803814\n",
       "1    74236.038080\n",
       "2    65375.055224\n",
       "3    68499.327316\n",
       "4    69576.883099\n",
       "5    67509.511644\n",
       "6    67845.982641\n",
       "7    69587.602743\n",
       "Name: average_time_per_learning_session, dtype: float64"
      ]
     },
     "execution_count": 29,
     "metadata": {},
     "output_type": "execute_result"
    }
   ],
   "source": [
    "평균시간 = user_data.groupby('payment_pattern')['average_time_per_learning_session'].sum()\n",
    "평균시간"
   ]
  },
  {
   "cell_type": "code",
   "execution_count": 32,
   "id": "8eaf68ce",
   "metadata": {
    "ExecuteTime": {
     "end_time": "2023-12-28T08:19:39.790009Z",
     "start_time": "2023-12-28T08:19:39.785218Z"
    }
   },
   "outputs": [],
   "source": [
    "개인평균시간 = 평균시간/인원수"
   ]
  },
  {
   "cell_type": "code",
   "execution_count": 42,
   "id": "9234f17f",
   "metadata": {
    "ExecuteTime": {
     "end_time": "2023-12-28T08:26:34.364549Z",
     "start_time": "2023-12-28T08:26:33.709754Z"
    }
   },
   "outputs": [
    {
     "data": {
      "image/png": "[encoded data removed]",
      "text/plain": [
       "<Figure size 600x600 with 1 Axes>"
      ]
     },
     "metadata": {},
     "output_type": "display_data"
    }
   ],
   "source": [
    "# 바그래프 그리기 \n",
    "\n",
    "plt.figure(figsize=(6,6))\n",
    "plt.bar(개인평균시간.index, 개인평균시간)\n",
    "\n",
    "plt.title('<결제 패턴 별 평균 학습 시간>')\n",
    "plt.xlabel('3개월 간 결제 패턴')\n",
    "plt.ylabel('평균 학습 시간')\n",
    "\n",
    "plt.show()"
   ]
  },
  {
   "cell_type": "markdown",
   "id": "fa24be42",
   "metadata": {},
   "source": [
    "#### monthly_active_learning_days: 월간 활동적인 학습 일수"
   ]
  },
  {
   "cell_type": "code",
   "execution_count": 43,
   "id": "0ac1f33b",
   "metadata": {
    "ExecuteTime": {
     "end_time": "2023-12-28T08:28:54.989567Z",
     "start_time": "2023-12-28T08:28:54.976400Z"
    }
   },
   "outputs": [
    {
     "data": {
      "text/plain": [
       "payment_pattern\n",
       "0    16253\n",
       "1    16337\n",
       "2    14745\n",
       "3    15240\n",
       "4    15235\n",
       "5    15529\n",
       "6    16038\n",
       "7    16077\n",
       "Name: monthly_active_learning_days, dtype: int64"
      ]
     },
     "execution_count": 43,
     "metadata": {},
     "output_type": "execute_result"
    }
   ],
   "source": [
    "평균일수 = user_data.groupby('payment_pattern')['monthly_active_learning_days'].sum()\n",
    "평균일수"
   ]
  },
  {
   "cell_type": "code",
   "execution_count": 44,
   "id": "d69a3010",
   "metadata": {
    "ExecuteTime": {
     "end_time": "2023-12-28T08:29:10.809556Z",
     "start_time": "2023-12-28T08:29:10.804487Z"
    }
   },
   "outputs": [],
   "source": [
    "개인평균일수 = 평균일수/인원수"
   ]
  },
  {
   "cell_type": "code",
   "execution_count": 52,
   "id": "874d6ac4",
   "metadata": {
    "ExecuteTime": {
     "end_time": "2023-12-28T08:44:04.333557Z",
     "start_time": "2023-12-28T08:44:03.839911Z"
    },
    "scrolled": true
   },
   "outputs": [
    {
     "data": {
      "image/png": "[encoded data removed]",
      "text/plain": [
       "<Figure size 640x480 with 1 Axes>"
      ]
     },
     "metadata": {},
     "output_type": "display_data"
    }
   ],
   "source": [
    "# 바그래프 그리기 \n",
    "\n",
    "plt.bar(개인평균일수.index, 개인평균일수)\n",
    "\n",
    "plt.title('<결제 패턴 별 평균 학습 일수>')\n",
    "plt.xlabel('3개월 간 결제 패턴')\n",
    "plt.ylabel('평균 학습 일수')\n",
    "\n",
    "plt.show()"
   ]
  },
  {
   "cell_type": "markdown",
   "id": "0fa8251a",
   "metadata": {},
   "source": [
    "#### total_completed_courses: 완료한 총 코스 수"
   ]
  },
  {
   "cell_type": "code",
   "execution_count": 46,
   "id": "a841a1b3",
   "metadata": {
    "ExecuteTime": {
     "end_time": "2023-12-28T08:30:17.984723Z",
     "start_time": "2023-12-28T08:30:17.971304Z"
    }
   },
   "outputs": [
    {
     "data": {
      "text/plain": [
       "payment_pattern\n",
       "0    15602\n",
       "1    15886\n",
       "2    14736\n",
       "3    15192\n",
       "4    14779\n",
       "5    14986\n",
       "6    15467\n",
       "7    15627\n",
       "Name: total_completed_courses, dtype: int64"
      ]
     },
     "execution_count": 46,
     "metadata": {},
     "output_type": "execute_result"
    }
   ],
   "source": [
    "평균코스수 = user_data.groupby('payment_pattern')['total_completed_courses'].sum()\n",
    "평균코스수"
   ]
  },
  {
   "cell_type": "code",
   "execution_count": 48,
   "id": "b1297b84",
   "metadata": {
    "ExecuteTime": {
     "end_time": "2023-12-28T08:30:50.415134Z",
     "start_time": "2023-12-28T08:30:50.408934Z"
    }
   },
   "outputs": [],
   "source": [
    "개인평균코스수 = 평균코스수/인원수"
   ]
  },
  {
   "cell_type": "code",
   "execution_count": 49,
   "id": "9169d67e",
   "metadata": {
    "ExecuteTime": {
     "end_time": "2023-12-28T08:30:51.844133Z",
     "start_time": "2023-12-28T08:30:51.374039Z"
    },
    "scrolled": false
   },
   "outputs": [
    {
     "data": {
      "image/png": "[encoded data removed]",
      "text/plain": [
       "<Figure size 600x600 with 1 Axes>"
      ]
     },
     "metadata": {},
     "output_type": "display_data"
    }
   ],
   "source": [
    "# 바그래프 그리기 \n",
    "\n",
    "plt.figure(figsize=(6,6))\n",
    "plt.bar(개인평균코스수.index, 개인평균코스수)\n",
    "\n",
    "plt.title('<결제 패턴 별 평균 코스 수>')\n",
    "plt.xlabel('3개월 간 결제 패턴')\n",
    "plt.ylabel('평균 코스 수')\n",
    "\n",
    "plt.show()"
   ]
  },
  {
   "cell_type": "markdown",
   "id": "ef9d8f6a",
   "metadata": {},
   "source": [
    "#### recent_learning_achievement: 최근 학습 성취도"
   ]
  },
  {
   "cell_type": "code",
   "execution_count": 51,
   "id": "db30258e",
   "metadata": {
    "ExecuteTime": {
     "end_time": "2023-12-28T08:40:05.205739Z",
     "start_time": "2023-12-28T08:40:05.193059Z"
    }
   },
   "outputs": [
    {
     "data": {
      "text/plain": [
       "payment_pattern\n",
       "0    3742\n",
       "1    3884\n",
       "2    3817\n",
       "3    3758\n",
       "4    3642\n",
       "5    3816\n",
       "6    3847\n",
       "7    3930\n",
       "Name: abandoned_learning_sessions, dtype: int64"
      ]
     },
     "execution_count": 51,
     "metadata": {},
     "output_type": "execute_result"
    }
   ],
   "source": [
    "평균코스수 = user_data.groupby('payment_pattern')['abandoned_learning_sessions'].sum()\n",
    "평균코스수"
   ]
  },
  {
   "cell_type": "code",
   "execution_count": 48,
   "id": "ecf89420",
   "metadata": {
    "ExecuteTime": {
     "end_time": "2023-12-28T08:30:50.415134Z",
     "start_time": "2023-12-28T08:30:50.408934Z"
    }
   },
   "outputs": [],
   "source": [
    "개인평균코스수 = 평균코스수/인원수"
   ]
  },
  {
   "cell_type": "code",
   "execution_count": 49,
   "id": "2441fe16",
   "metadata": {
    "ExecuteTime": {
     "end_time": "2023-12-28T08:30:51.844133Z",
     "start_time": "2023-12-28T08:30:51.374039Z"
    },
    "scrolled": false
   },
   "outputs": [
    {
     "data": {
      "image/png": "[encoded data removed]",
      "text/plain": [
       "<Figure size 600x600 with 1 Axes>"
      ]
     },
     "metadata": {},
     "output_type": "display_data"
    }
   ],
   "source": [
    "# 바그래프 그리기 \n",
    "\n",
    "plt.figure(figsize=(6,6))\n",
    "plt.bar(개인평균코스수.index, 개인평균코스수)\n",
    "\n",
    "plt.title('<결제 패턴 별 평균 코스 수>')\n",
    "plt.xlabel('3개월 간 결제 패턴')\n",
    "plt.ylabel('평균 코스 수')\n",
    "\n",
    "plt.show()"
   ]
  },
  {
   "cell_type": "code",
   "execution_count": null,
   "id": "2b8ae670",
   "metadata": {},
   "outputs": [],
   "source": []
  }
 ],
 "metadata": {
  "kernelspec": {
   "display_name": "Python 3 (ipykernel)",
   "language": "python",
   "name": "python3"
  },
  "language_info": {
   "codemirror_mode": {
    "name": "ipython",
    "version": 3
   },
   "file_extension": ".py",
   "mimetype": "text/x-python",
   "name": "python",
   "nbconvert_exporter": "python",
   "pygments_lexer": "ipython3",
   "version": "3.11.5"
  },
  "toc": {
   "base_numbering": 1,
   "nav_menu": {},
   "number_sections": true,
   "sideBar": true,
   "skip_h1_title": false,
   "title_cell": "Table of Contents",
   "title_sidebar": "Contents",
   "toc_cell": false,
   "toc_position": {},
   "toc_section_display": true,
   "toc_window_display": false
  }
 },
 "nbformat": 4,
 "nbformat_minor": 5
}
