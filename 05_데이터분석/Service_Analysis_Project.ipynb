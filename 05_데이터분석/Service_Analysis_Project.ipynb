{
 "cells": [
  {
   "cell_type": "code",
   "execution_count": 13,
   "id": "47d75adc",
   "metadata": {
    "ExecuteTime": {
     "end_time": "2023-12-28T00:28:36.632520Z",
     "start_time": "2023-12-28T00:28:36.627986Z"
    },
    "collapsed": true
   },
   "outputs": [],
   "source": [
    "import pandas as pd"
   ]
  },
  {
   "cell_type": "code",
   "execution_count": 2,
   "id": "cc1e37d7",
   "metadata": {
    "ExecuteTime": {
     "end_time": "2023-12-27T07:21:31.577400Z",
     "start_time": "2023-12-27T07:21:31.526962Z"
    }
   },
   "outputs": [],
   "source": [
    "access_data = pd.read_table('data/access_detail.csv',sep=',')"
   ]
  },
  {
   "cell_type": "code",
   "execution_count": 3,
   "id": "0bcb09d4",
   "metadata": {
    "ExecuteTime": {
     "end_time": "2023-12-27T07:21:39.252380Z",
     "start_time": "2023-12-27T07:21:39.224355Z"
    }
   },
   "outputs": [
    {
     "data": {
      "text/html": [
       "<div>\n",
       "<style scoped>\n",
       "    .dataframe tbody tr th:only-of-type {\n",
       "        vertical-align: middle;\n",
       "    }\n",
       "\n",
       "    .dataframe tbody tr th {\n",
       "        vertical-align: top;\n",
       "    }\n",
       "\n",
       "    .dataframe thead th {\n",
       "        text-align: right;\n",
       "    }\n",
       "</style>\n",
       "<table border=\"1\" class=\"dataframe\">\n",
       "  <thead>\n",
       "    <tr style=\"text-align: right;\">\n",
       "      <th></th>\n",
       "      <th>lecture_id</th>\n",
       "      <th>access_date</th>\n",
       "      <th>user_id</th>\n",
       "    </tr>\n",
       "  </thead>\n",
       "  <tbody>\n",
       "    <tr>\n",
       "      <th>0</th>\n",
       "      <td>5f266927e67b8fcf4340c087</td>\n",
       "      <td>2020-08-18 23:15:34</td>\n",
       "      <td>78ff837c7cea9f33</td>\n",
       "    </tr>\n",
       "    <tr>\n",
       "      <th>1</th>\n",
       "      <td>5f266927e67b8fcf4340c087</td>\n",
       "      <td>2020-08-04 11:56:07</td>\n",
       "      <td>2987aa87d23c9e3d</td>\n",
       "    </tr>\n",
       "    <tr>\n",
       "      <th>2</th>\n",
       "      <td>5f266927e67b8fcf4340c087</td>\n",
       "      <td>2020-08-03 12:19:58</td>\n",
       "      <td>23182525e9996864</td>\n",
       "    </tr>\n",
       "    <tr>\n",
       "      <th>3</th>\n",
       "      <td>5f266927e67b8fcf4340c087</td>\n",
       "      <td>2020-08-08 15:15:16</td>\n",
       "      <td>ffb6913842d617a5</td>\n",
       "    </tr>\n",
       "    <tr>\n",
       "      <th>4</th>\n",
       "      <td>5f266927e67b8fcf4340c087</td>\n",
       "      <td>2020-08-04 10:30:59</td>\n",
       "      <td>2c6822e7e833dc95</td>\n",
       "    </tr>\n",
       "  </tbody>\n",
       "</table>\n",
       "</div>"
      ],
      "text/plain": [
       "                 lecture_id          access_date           user_id\n",
       "0  5f266927e67b8fcf4340c087  2020-08-18 23:15:34  78ff837c7cea9f33\n",
       "1  5f266927e67b8fcf4340c087  2020-08-04 11:56:07  2987aa87d23c9e3d\n",
       "2  5f266927e67b8fcf4340c087  2020-08-03 12:19:58  23182525e9996864\n",
       "3  5f266927e67b8fcf4340c087  2020-08-08 15:15:16  ffb6913842d617a5\n",
       "4  5f266927e67b8fcf4340c087  2020-08-04 10:30:59  2c6822e7e833dc95"
      ]
     },
     "execution_count": 3,
     "metadata": {},
     "output_type": "execute_result"
    }
   ],
   "source": [
    "access_data.head()"
   ]
  },
  {
   "cell_type": "code",
   "execution_count": 4,
   "id": "89b34397",
   "metadata": {
    "ExecuteTime": {
     "end_time": "2023-12-27T07:24:45.524292Z",
     "start_time": "2023-12-27T07:24:45.507328Z"
    }
   },
   "outputs": [
    {
     "name": "stdout",
     "output_type": "stream",
     "text": [
      "<class 'pandas.core.frame.DataFrame'>\n",
      "RangeIndex: 8128 entries, 0 to 8127\n",
      "Data columns (total 3 columns):\n",
      " #   Column       Non-Null Count  Dtype \n",
      "---  ------       --------------  ----- \n",
      " 0   lecture_id   8128 non-null   object\n",
      " 1   access_date  8128 non-null   object\n",
      " 2   user_id      8128 non-null   object\n",
      "dtypes: object(3)\n",
      "memory usage: 190.6+ KB\n"
     ]
    }
   ],
   "source": [
    "access_data.info() #데이터 로드하면 무조건 보기"
   ]
  },
  {
   "cell_type": "code",
   "execution_count": 5,
   "id": "5a0a1d2d",
   "metadata": {
    "ExecuteTime": {
     "end_time": "2023-12-27T07:25:25.396253Z",
     "start_time": "2023-12-27T07:25:25.354317Z"
    }
   },
   "outputs": [
    {
     "data": {
      "text/html": [
       "<div>\n",
       "<style scoped>\n",
       "    .dataframe tbody tr th:only-of-type {\n",
       "        vertical-align: middle;\n",
       "    }\n",
       "\n",
       "    .dataframe tbody tr th {\n",
       "        vertical-align: top;\n",
       "    }\n",
       "\n",
       "    .dataframe thead th {\n",
       "        text-align: right;\n",
       "    }\n",
       "</style>\n",
       "<table border=\"1\" class=\"dataframe\">\n",
       "  <thead>\n",
       "    <tr style=\"text-align: right;\">\n",
       "      <th></th>\n",
       "      <th>lecture_id</th>\n",
       "      <th>access_date</th>\n",
       "      <th>user_id</th>\n",
       "    </tr>\n",
       "  </thead>\n",
       "  <tbody>\n",
       "    <tr>\n",
       "      <th>count</th>\n",
       "      <td>8128</td>\n",
       "      <td>8128</td>\n",
       "      <td>8128</td>\n",
       "    </tr>\n",
       "    <tr>\n",
       "      <th>unique</th>\n",
       "      <td>77</td>\n",
       "      <td>7420</td>\n",
       "      <td>8128</td>\n",
       "    </tr>\n",
       "    <tr>\n",
       "      <th>top</th>\n",
       "      <td>5f266927e67b8fcf4340c087</td>\n",
       "      <td>2020-08-18 18:12:41</td>\n",
       "      <td>78ff837c7cea9f33</td>\n",
       "    </tr>\n",
       "    <tr>\n",
       "      <th>freq</th>\n",
       "      <td>157</td>\n",
       "      <td>112</td>\n",
       "      <td>1</td>\n",
       "    </tr>\n",
       "  </tbody>\n",
       "</table>\n",
       "</div>"
      ],
      "text/plain": [
       "                      lecture_id          access_date           user_id\n",
       "count                       8128                 8128              8128\n",
       "unique                        77                 7420              8128\n",
       "top     5f266927e67b8fcf4340c087  2020-08-18 18:12:41  78ff837c7cea9f33\n",
       "freq                         157                  112                 1"
      ]
     },
     "execution_count": 5,
     "metadata": {},
     "output_type": "execute_result"
    }
   ],
   "source": [
    "access_data.describe() #오브젝트라서 이렇게 나옴\n",
    "#유니크한 id가 77개, 유저id가 8128개, 유니크하니까 1개만 나옴"
   ]
  },
  {
   "cell_type": "code",
   "execution_count": 6,
   "id": "2da2f264",
   "metadata": {
    "ExecuteTime": {
     "end_time": "2023-12-27T07:33:01.989578Z",
     "start_time": "2023-12-27T07:33:01.978971Z"
    }
   },
   "outputs": [
    {
     "data": {
      "text/plain": [
       "str"
      ]
     },
     "execution_count": 6,
     "metadata": {},
     "output_type": "execute_result"
    }
   ],
   "source": [
    "# step1) access_date 의 데이터 종류를 확인 해봅시다!\n",
    "type(access_data['access_date'][0])"
   ]
  },
  {
   "cell_type": "code",
   "execution_count": null,
   "id": "d8e5f6fe",
   "metadata": {},
   "outputs": [],
   "source": [
    "pd.to_datetime?"
   ]
  },
  {
   "cell_type": "code",
   "execution_count": 7,
   "id": "f9ffec05",
   "metadata": {
    "ExecuteTime": {
     "end_time": "2023-12-27T07:33:08.469993Z",
     "start_time": "2023-12-27T07:33:08.403430Z"
    }
   },
   "outputs": [
    {
     "name": "stdout",
     "output_type": "stream",
     "text": [
      "<class 'pandas._libs.tslibs.timestamps.Timestamp'>\n"
     ]
    },
    {
     "data": {
      "text/html": [
       "<div>\n",
       "<style scoped>\n",
       "    .dataframe tbody tr th:only-of-type {\n",
       "        vertical-align: middle;\n",
       "    }\n",
       "\n",
       "    .dataframe tbody tr th {\n",
       "        vertical-align: top;\n",
       "    }\n",
       "\n",
       "    .dataframe thead th {\n",
       "        text-align: right;\n",
       "    }\n",
       "</style>\n",
       "<table border=\"1\" class=\"dataframe\">\n",
       "  <thead>\n",
       "    <tr style=\"text-align: right;\">\n",
       "      <th></th>\n",
       "      <th>lecture_id</th>\n",
       "      <th>access_date</th>\n",
       "      <th>user_id</th>\n",
       "      <th>access_date_time</th>\n",
       "    </tr>\n",
       "  </thead>\n",
       "  <tbody>\n",
       "    <tr>\n",
       "      <th>8123</th>\n",
       "      <td>5f36558829f38171335a890a</td>\n",
       "      <td>2020-09-03 22:37:33</td>\n",
       "      <td>6da398d852411234</td>\n",
       "      <td>2020-09-03 22:37:33</td>\n",
       "    </tr>\n",
       "    <tr>\n",
       "      <th>8124</th>\n",
       "      <td>5f36558829f38171335a890a</td>\n",
       "      <td>2020-08-29 11:09:58</td>\n",
       "      <td>6da398d852411235</td>\n",
       "      <td>2020-08-29 11:09:58</td>\n",
       "    </tr>\n",
       "    <tr>\n",
       "      <th>8125</th>\n",
       "      <td>5f36558829f38171335a890a</td>\n",
       "      <td>2020-09-06 12:25:25</td>\n",
       "      <td>6da398d852411236</td>\n",
       "      <td>2020-09-06 12:25:25</td>\n",
       "    </tr>\n",
       "    <tr>\n",
       "      <th>8126</th>\n",
       "      <td>5f36558829f38171335a890a</td>\n",
       "      <td>2020-09-07 22:11:20</td>\n",
       "      <td>6da398d852411237</td>\n",
       "      <td>2020-09-07 22:11:20</td>\n",
       "    </tr>\n",
       "    <tr>\n",
       "      <th>8127</th>\n",
       "      <td>5f36558829f38171335a890a</td>\n",
       "      <td>2020-08-22 21:12:23</td>\n",
       "      <td>6da398d852411238</td>\n",
       "      <td>2020-08-22 21:12:23</td>\n",
       "    </tr>\n",
       "  </tbody>\n",
       "</table>\n",
       "</div>"
      ],
      "text/plain": [
       "                    lecture_id          access_date           user_id  \\\n",
       "8123  5f36558829f38171335a890a  2020-09-03 22:37:33  6da398d852411234   \n",
       "8124  5f36558829f38171335a890a  2020-08-29 11:09:58  6da398d852411235   \n",
       "8125  5f36558829f38171335a890a  2020-09-06 12:25:25  6da398d852411236   \n",
       "8126  5f36558829f38171335a890a  2020-09-07 22:11:20  6da398d852411237   \n",
       "8127  5f36558829f38171335a890a  2020-08-22 21:12:23  6da398d852411238   \n",
       "\n",
       "        access_date_time  \n",
       "8123 2020-09-03 22:37:33  \n",
       "8124 2020-08-29 11:09:58  \n",
       "8125 2020-09-06 12:25:25  \n",
       "8126 2020-09-07 22:11:20  \n",
       "8127 2020-08-22 21:12:23  "
      ]
     },
     "execution_count": 7,
     "metadata": {},
     "output_type": "execute_result"
    }
   ],
   "source": [
    "# step2) 우리가 원하는 시간의 데이터 형태로 변경하기\n",
    "\n",
    "# format='%Y-%m-%dT%H:%M:%S.%f'\n",
    "access_data['access_date_time'] = pd.to_datetime(access_data['access_date'], format='mixed')\n",
    "# access_data['access_date_time'] = pd.to_datetime(access_data['access_date'], format=format)\n",
    "print(type(access_data['access_date_time'][0]))\n",
    "access_data.tail(5)"
   ]
  },
  {
   "cell_type": "code",
   "execution_count": 8,
   "id": "b5fb4206",
   "metadata": {
    "ExecuteTime": {
     "end_time": "2023-12-27T07:33:20.640240Z",
     "start_time": "2023-12-27T07:33:20.607289Z"
    }
   },
   "outputs": [
    {
     "data": {
      "text/html": [
       "<div>\n",
       "<style scoped>\n",
       "    .dataframe tbody tr th:only-of-type {\n",
       "        vertical-align: middle;\n",
       "    }\n",
       "\n",
       "    .dataframe tbody tr th {\n",
       "        vertical-align: top;\n",
       "    }\n",
       "\n",
       "    .dataframe thead th {\n",
       "        text-align: right;\n",
       "    }\n",
       "</style>\n",
       "<table border=\"1\" class=\"dataframe\">\n",
       "  <thead>\n",
       "    <tr style=\"text-align: right;\">\n",
       "      <th></th>\n",
       "      <th>lecture_id</th>\n",
       "      <th>access_date</th>\n",
       "      <th>user_id</th>\n",
       "      <th>access_date_time</th>\n",
       "      <th>access_date_time_weekday</th>\n",
       "    </tr>\n",
       "  </thead>\n",
       "  <tbody>\n",
       "    <tr>\n",
       "      <th>8123</th>\n",
       "      <td>5f36558829f38171335a890a</td>\n",
       "      <td>2020-09-03 22:37:33</td>\n",
       "      <td>6da398d852411234</td>\n",
       "      <td>2020-09-03 22:37:33</td>\n",
       "      <td>Thursday</td>\n",
       "    </tr>\n",
       "    <tr>\n",
       "      <th>8124</th>\n",
       "      <td>5f36558829f38171335a890a</td>\n",
       "      <td>2020-08-29 11:09:58</td>\n",
       "      <td>6da398d852411235</td>\n",
       "      <td>2020-08-29 11:09:58</td>\n",
       "      <td>Saturday</td>\n",
       "    </tr>\n",
       "    <tr>\n",
       "      <th>8125</th>\n",
       "      <td>5f36558829f38171335a890a</td>\n",
       "      <td>2020-09-06 12:25:25</td>\n",
       "      <td>6da398d852411236</td>\n",
       "      <td>2020-09-06 12:25:25</td>\n",
       "      <td>Sunday</td>\n",
       "    </tr>\n",
       "    <tr>\n",
       "      <th>8126</th>\n",
       "      <td>5f36558829f38171335a890a</td>\n",
       "      <td>2020-09-07 22:11:20</td>\n",
       "      <td>6da398d852411237</td>\n",
       "      <td>2020-09-07 22:11:20</td>\n",
       "      <td>Monday</td>\n",
       "    </tr>\n",
       "    <tr>\n",
       "      <th>8127</th>\n",
       "      <td>5f36558829f38171335a890a</td>\n",
       "      <td>2020-08-22 21:12:23</td>\n",
       "      <td>6da398d852411238</td>\n",
       "      <td>2020-08-22 21:12:23</td>\n",
       "      <td>Saturday</td>\n",
       "    </tr>\n",
       "  </tbody>\n",
       "</table>\n",
       "</div>"
      ],
      "text/plain": [
       "                    lecture_id          access_date           user_id  \\\n",
       "8123  5f36558829f38171335a890a  2020-09-03 22:37:33  6da398d852411234   \n",
       "8124  5f36558829f38171335a890a  2020-08-29 11:09:58  6da398d852411235   \n",
       "8125  5f36558829f38171335a890a  2020-09-06 12:25:25  6da398d852411236   \n",
       "8126  5f36558829f38171335a890a  2020-09-07 22:11:20  6da398d852411237   \n",
       "8127  5f36558829f38171335a890a  2020-08-22 21:12:23  6da398d852411238   \n",
       "\n",
       "        access_date_time access_date_time_weekday  \n",
       "8123 2020-09-03 22:37:33                 Thursday  \n",
       "8124 2020-08-29 11:09:58                 Saturday  \n",
       "8125 2020-09-06 12:25:25                   Sunday  \n",
       "8126 2020-09-07 22:11:20                   Monday  \n",
       "8127 2020-08-22 21:12:23                 Saturday  "
      ]
     },
     "execution_count": 8,
     "metadata": {},
     "output_type": "execute_result"
    }
   ],
   "source": [
    "# step3) 요일 추가하기\n",
    "#월요일이 0일수도 1일수도 있음\n",
    "# [날짜 컬럼].dt.day_name 으로 해당 날짜의 요일을 가져오자\n",
    "access_data['access_date_time_weekday'] = access_data['access_date_time'].dt.day_name()\n",
    "access_data.tail(5)"
   ]
  },
  {
   "cell_type": "code",
   "execution_count": 9,
   "id": "c8a26db8",
   "metadata": {
    "ExecuteTime": {
     "end_time": "2023-12-27T07:33:26.330347Z",
     "start_time": "2023-12-27T07:33:26.311866Z"
    }
   },
   "outputs": [
    {
     "data": {
      "text/plain": [
       "access_date_time_weekday\n",
       "Friday        859\n",
       "Monday       1354\n",
       "Saturday      926\n",
       "Sunday       1541\n",
       "Thursday      937\n",
       "Tuesday      1624\n",
       "Wednesday     887\n",
       "Name: user_id, dtype: int64"
      ]
     },
     "execution_count": 9,
     "metadata": {},
     "output_type": "execute_result"
    }
   ],
   "source": [
    "# step4) 요일 별 접속한 수강생 수 구하기: 요일마다 그룹바이해서 수강생 수 알 수 있음\n",
    "weekdata = access_data.groupby('access_date_time_weekday')['user_id'].count()\n",
    "weekdata\n"
   ]
  },
  {
   "cell_type": "code",
   "execution_count": 10,
   "id": "22f3618d",
   "metadata": {
    "ExecuteTime": {
     "end_time": "2023-12-27T07:37:10.853986Z",
     "start_time": "2023-12-27T07:37:10.839852Z"
    }
   },
   "outputs": [
    {
     "data": {
      "text/plain": [
       "Monday       1354\n",
       "Tuesday      1624\n",
       "Wednesday     887\n",
       "Thursday      937\n",
       "Friday        859\n",
       "Saturday      926\n",
       "Sunday       1541\n",
       "Name: user_id, dtype: int64"
      ]
     },
     "execution_count": 10,
     "metadata": {},
     "output_type": "execute_result"
    }
   ],
   "source": [
    "# 요일 순서대로 정렬하기\n",
    "weeks = ['Monday', 'Tuesday', 'Wednesday', 'Thursday', 'Friday', 'Saturday', 'Sunday']\n",
    "weekdata = weekdata.agg(weeks) #weeks의 리스트에 따라 재배열\n",
    "weekdata"
   ]
  },
  {
   "cell_type": "code",
   "execution_count": 11,
   "id": "d30c6f5e",
   "metadata": {
    "ExecuteTime": {
     "end_time": "2023-12-27T07:37:16.476304Z",
     "start_time": "2023-12-27T07:37:16.457594Z"
    }
   },
   "outputs": [
    {
     "data": {
      "text/plain": [
       "access_date_time_hour\n",
       "0      343\n",
       "1      197\n",
       "2      144\n",
       "3      123\n",
       "4       65\n",
       "5       50\n",
       "6       62\n",
       "7       84\n",
       "8      126\n",
       "9      216\n",
       "10     297\n",
       "11     279\n",
       "12     259\n",
       "13     361\n",
       "14     387\n",
       "15     477\n",
       "16     523\n",
       "17     471\n",
       "18    1115\n",
       "19     445\n",
       "20     517\n",
       "21     581\n",
       "22     580\n",
       "23     426\n",
       "Name: user_id, dtype: int64"
      ]
     },
     "execution_count": 11,
     "metadata": {},
     "output_type": "execute_result"
    }
   ],
   "source": [
    "# step5) 시간 별 접속한 수강생 수 전처리 하기\n",
    "\n",
    "access_data['access_date_time_hour'] = access_data['access_date_time'].dt.hour\n",
    "\n",
    "hourdata = access_data.groupby('access_date_time_hour')['user_id'].count()\n",
    "hourdata = hourdata.sort_index()\n",
    "hourdata"
   ]
  },
  {
   "cell_type": "code",
   "execution_count": 15,
   "id": "c092513c",
   "metadata": {
    "ExecuteTime": {
     "end_time": "2023-12-28T00:29:03.028994Z",
     "start_time": "2023-12-28T00:29:00.655241Z"
    }
   },
   "outputs": [],
   "source": [
    "import matplotlib.pyplot as plt\n",
    "import numpy as np\n",
    "import koreanize_matplotlib"
   ]
  },
  {
   "cell_type": "code",
   "execution_count": 13,
   "id": "2c44ecac",
   "metadata": {
    "ExecuteTime": {
     "end_time": "2023-12-27T07:37:34.755509Z",
     "start_time": "2023-12-27T07:37:34.055933Z"
    }
   },
   "outputs": [
    {
     "data": {
      "text/plain": [
       "<BarContainer object of 7 artists>"
      ]
     },
     "execution_count": 13,
     "metadata": {},
     "output_type": "execute_result"
    },
    {
     "data": {
      "image/png": "[encoded data removed]",
      "text/plain": [
       "<Figure size 640x480 with 1 Axes>"
      ]
     },
     "metadata": {},
     "output_type": "display_data"
    }
   ],
   "source": [
    "plt.bar(weekdata.index, weekdata.values)"
   ]
  },
  {
   "cell_type": "code",
   "execution_count": 14,
   "id": "bdb64180",
   "metadata": {
    "ExecuteTime": {
     "end_time": "2023-12-27T07:38:21.741086Z",
     "start_time": "2023-12-27T07:38:20.941330Z"
    }
   },
   "outputs": [
    {
     "data": {
      "image/png": "[encoded data removed]",
      "text/plain": [
       "<Figure size 1000x500 with 1 Axes>"
      ]
     },
     "metadata": {},
     "output_type": "display_data"
    }
   ],
   "source": [
    "# 시간 별 접속 하는 수강생 수의 꺾은선 그래프 그리기\n",
    "\n",
    "#그래프 사이즈 변경\n",
    "plt.figure(figsize=(10,5))\n",
    "\n",
    "#그래프 x축 y축\n",
    "plt.plot(hourdata.index, hourdata.values)\n",
    "\n",
    "#그래프 명\n",
    "plt.title('시간별 수강 완료 사용자 수')\n",
    "\n",
    "#그래프 x축 레이블\n",
    "plt.xlabel('시간')\n",
    "\n",
    "#그래프 y축 레이블\n",
    "plt.ylabel('사용자(명)')\n",
    "\n",
    "#x축 눈금 표시 하기\n",
    "plt.xticks(np.arange(24))\n",
    "\n",
    "#그래프 출력\n",
    "plt.show()"
   ]
  },
  {
   "cell_type": "code",
   "execution_count": 17,
   "id": "7b0d2489",
   "metadata": {
    "ExecuteTime": {
     "end_time": "2023-12-27T07:44:52.069556Z",
     "start_time": "2023-12-27T07:44:51.935774Z"
    }
   },
   "outputs": [
    {
     "data": {
      "text/html": [
       "<div>\n",
       "<style scoped>\n",
       "    .dataframe tbody tr th:only-of-type {\n",
       "        vertical-align: middle;\n",
       "    }\n",
       "\n",
       "    .dataframe tbody tr th {\n",
       "        vertical-align: top;\n",
       "    }\n",
       "\n",
       "    .dataframe thead th {\n",
       "        text-align: right;\n",
       "    }\n",
       "</style>\n",
       "<table border=\"1\" class=\"dataframe\">\n",
       "  <thead>\n",
       "    <tr style=\"text-align: right;\">\n",
       "      <th>access_date_time_hour</th>\n",
       "      <th>0</th>\n",
       "      <th>1</th>\n",
       "      <th>2</th>\n",
       "      <th>3</th>\n",
       "      <th>4</th>\n",
       "      <th>5</th>\n",
       "      <th>6</th>\n",
       "      <th>7</th>\n",
       "      <th>8</th>\n",
       "      <th>9</th>\n",
       "      <th>...</th>\n",
       "      <th>14</th>\n",
       "      <th>15</th>\n",
       "      <th>16</th>\n",
       "      <th>17</th>\n",
       "      <th>18</th>\n",
       "      <th>19</th>\n",
       "      <th>20</th>\n",
       "      <th>21</th>\n",
       "      <th>22</th>\n",
       "      <th>23</th>\n",
       "    </tr>\n",
       "  </thead>\n",
       "  <tbody>\n",
       "    <tr>\n",
       "      <th>Monday</th>\n",
       "      <td>67</td>\n",
       "      <td>31</td>\n",
       "      <td>30</td>\n",
       "      <td>27</td>\n",
       "      <td>3</td>\n",
       "      <td>5</td>\n",
       "      <td>19</td>\n",
       "      <td>14</td>\n",
       "      <td>28</td>\n",
       "      <td>22</td>\n",
       "      <td>...</td>\n",
       "      <td>62</td>\n",
       "      <td>55</td>\n",
       "      <td>101</td>\n",
       "      <td>84</td>\n",
       "      <td>68</td>\n",
       "      <td>86</td>\n",
       "      <td>119</td>\n",
       "      <td>117</td>\n",
       "      <td>118</td>\n",
       "      <td>86</td>\n",
       "    </tr>\n",
       "    <tr>\n",
       "      <th>Tuesday</th>\n",
       "      <td>51</td>\n",
       "      <td>27</td>\n",
       "      <td>17</td>\n",
       "      <td>12</td>\n",
       "      <td>6</td>\n",
       "      <td>3</td>\n",
       "      <td>6</td>\n",
       "      <td>14</td>\n",
       "      <td>20</td>\n",
       "      <td>26</td>\n",
       "      <td>...</td>\n",
       "      <td>41</td>\n",
       "      <td>56</td>\n",
       "      <td>68</td>\n",
       "      <td>34</td>\n",
       "      <td>713</td>\n",
       "      <td>56</td>\n",
       "      <td>66</td>\n",
       "      <td>97</td>\n",
       "      <td>92</td>\n",
       "      <td>86</td>\n",
       "    </tr>\n",
       "    <tr>\n",
       "      <th>Wednesday</th>\n",
       "      <td>47</td>\n",
       "      <td>19</td>\n",
       "      <td>12</td>\n",
       "      <td>8</td>\n",
       "      <td>10</td>\n",
       "      <td>15</td>\n",
       "      <td>14</td>\n",
       "      <td>3</td>\n",
       "      <td>22</td>\n",
       "      <td>20</td>\n",
       "      <td>...</td>\n",
       "      <td>34</td>\n",
       "      <td>68</td>\n",
       "      <td>40</td>\n",
       "      <td>68</td>\n",
       "      <td>80</td>\n",
       "      <td>71</td>\n",
       "      <td>56</td>\n",
       "      <td>75</td>\n",
       "      <td>82</td>\n",
       "      <td>52</td>\n",
       "    </tr>\n",
       "    <tr>\n",
       "      <th>Thursday</th>\n",
       "      <td>39</td>\n",
       "      <td>30</td>\n",
       "      <td>10</td>\n",
       "      <td>15</td>\n",
       "      <td>14</td>\n",
       "      <td>2</td>\n",
       "      <td>5</td>\n",
       "      <td>11</td>\n",
       "      <td>10</td>\n",
       "      <td>18</td>\n",
       "      <td>...</td>\n",
       "      <td>46</td>\n",
       "      <td>69</td>\n",
       "      <td>80</td>\n",
       "      <td>60</td>\n",
       "      <td>61</td>\n",
       "      <td>61</td>\n",
       "      <td>70</td>\n",
       "      <td>62</td>\n",
       "      <td>94</td>\n",
       "      <td>65</td>\n",
       "    </tr>\n",
       "    <tr>\n",
       "      <th>Friday</th>\n",
       "      <td>72</td>\n",
       "      <td>36</td>\n",
       "      <td>20</td>\n",
       "      <td>9</td>\n",
       "      <td>5</td>\n",
       "      <td>1</td>\n",
       "      <td>5</td>\n",
       "      <td>2</td>\n",
       "      <td>10</td>\n",
       "      <td>34</td>\n",
       "      <td>...</td>\n",
       "      <td>44</td>\n",
       "      <td>61</td>\n",
       "      <td>57</td>\n",
       "      <td>70</td>\n",
       "      <td>67</td>\n",
       "      <td>51</td>\n",
       "      <td>45</td>\n",
       "      <td>45</td>\n",
       "      <td>47</td>\n",
       "      <td>33</td>\n",
       "    </tr>\n",
       "    <tr>\n",
       "      <th>Saturday</th>\n",
       "      <td>31</td>\n",
       "      <td>17</td>\n",
       "      <td>10</td>\n",
       "      <td>22</td>\n",
       "      <td>7</td>\n",
       "      <td>4</td>\n",
       "      <td>4</td>\n",
       "      <td>19</td>\n",
       "      <td>9</td>\n",
       "      <td>51</td>\n",
       "      <td>...</td>\n",
       "      <td>72</td>\n",
       "      <td>78</td>\n",
       "      <td>66</td>\n",
       "      <td>82</td>\n",
       "      <td>55</td>\n",
       "      <td>26</td>\n",
       "      <td>47</td>\n",
       "      <td>70</td>\n",
       "      <td>52</td>\n",
       "      <td>37</td>\n",
       "    </tr>\n",
       "    <tr>\n",
       "      <th>Sunday</th>\n",
       "      <td>36</td>\n",
       "      <td>37</td>\n",
       "      <td>45</td>\n",
       "      <td>30</td>\n",
       "      <td>20</td>\n",
       "      <td>20</td>\n",
       "      <td>9</td>\n",
       "      <td>21</td>\n",
       "      <td>27</td>\n",
       "      <td>45</td>\n",
       "      <td>...</td>\n",
       "      <td>88</td>\n",
       "      <td>90</td>\n",
       "      <td>111</td>\n",
       "      <td>73</td>\n",
       "      <td>71</td>\n",
       "      <td>94</td>\n",
       "      <td>114</td>\n",
       "      <td>115</td>\n",
       "      <td>95</td>\n",
       "      <td>67</td>\n",
       "    </tr>\n",
       "  </tbody>\n",
       "</table>\n",
       "<p>7 rows × 24 columns</p>\n",
       "</div>"
      ],
      "text/plain": [
       "access_date_time_hour  0   1   2   3   4   5   6   7   8   9   ...  14  15  \\\n",
       "Monday                 67  31  30  27   3   5  19  14  28  22  ...  62  55   \n",
       "Tuesday                51  27  17  12   6   3   6  14  20  26  ...  41  56   \n",
       "Wednesday              47  19  12   8  10  15  14   3  22  20  ...  34  68   \n",
       "Thursday               39  30  10  15  14   2   5  11  10  18  ...  46  69   \n",
       "Friday                 72  36  20   9   5   1   5   2  10  34  ...  44  61   \n",
       "Saturday               31  17  10  22   7   4   4  19   9  51  ...  72  78   \n",
       "Sunday                 36  37  45  30  20  20   9  21  27  45  ...  88  90   \n",
       "\n",
       "access_date_time_hour   16  17   18  19   20   21   22  23  \n",
       "Monday                 101  84   68  86  119  117  118  86  \n",
       "Tuesday                 68  34  713  56   66   97   92  86  \n",
       "Wednesday               40  68   80  71   56   75   82  52  \n",
       "Thursday                80  60   61  61   70   62   94  65  \n",
       "Friday                  57  70   67  51   45   45   47  33  \n",
       "Saturday                66  82   55  26   47   70   52  37  \n",
       "Sunday                 111  73   71  94  114  115   95  67  \n",
       "\n",
       "[7 rows x 24 columns]"
      ]
     },
     "execution_count": 17,
     "metadata": {},
     "output_type": "execute_result"
    }
   ],
   "source": [
    "# 요일 별 접속 시간 살펴보기 \n",
    "\n",
    "#피벗테이블 만들기\n",
    "est_data_pivot_table = pd.pivot_table(access_data, values='user_id',   #values : 열에 들어 가는 부분\n",
    "                       index=['access_date_time_weekday'], #index : 행에 들어가는 부분\n",
    "                       columns=['access_date_time_hour'],  \n",
    "                       aggfunc=\"count\").agg(weeks)  #aggfunc : 데이터 축약시 사용할 함수\n",
    "est_data_pivot_table"
   ]
  },
  {
   "cell_type": "code",
   "execution_count": 18,
   "id": "9d9650ca",
   "metadata": {
    "ExecuteTime": {
     "end_time": "2023-12-27T07:44:54.152693Z",
     "start_time": "2023-12-27T07:44:53.374349Z"
    }
   },
   "outputs": [
    {
     "data": {
      "image/png": "[encoded data removed]",
      "text/plain": [
       "<Figure size 1400x500 with 2 Axes>"
      ]
     },
     "metadata": {},
     "output_type": "display_data"
    }
   ],
   "source": [
    "# 히트맵으로 나타내기\n",
    "#그래프 사이즈 변경\n",
    "plt.figure(figsize=(14,5))\n",
    "\n",
    "#pcolor를 이용하여 heatmap 그리기\n",
    "plt.pcolor(est_data_pivot_table)\n",
    "\n",
    "#히트맵에서의 x축\n",
    "plt.xticks(np.arange(0.5, len(est_data_pivot_table.columns), 1), est_data_pivot_table.columns)\n",
    "\n",
    "#히트맵에서의 y축\n",
    "plt.yticks(np.arange(0.5, len(est_data_pivot_table.index), 1), est_data_pivot_table.index)\n",
    "\n",
    "#그래프 명\n",
    "plt.title('요일별 종료 시간 히트맵')\n",
    "\n",
    "#그래프 x축 레이블\n",
    "plt.xlabel('시간')\n",
    "\n",
    "#그래프 y축 레이블\n",
    "plt.ylabel('요일')\n",
    "\n",
    "#plt.colorbar() 명령어를 추가하면 그래프 옆에 숫자별 색상값을 나타내는 컬러바를 보여 줍니다\n",
    "plt.colorbar()\n",
    "plt.show()"
   ]
  },
  {
   "cell_type": "markdown",
   "id": "311f68b7",
   "metadata": {},
   "source": [
    "# 미션2\n",
    "- 온라인 강의 플랫폼이라면 어떤 데이터를 가지고 있을까?"
   ]
  },
  {
   "cell_type": "code",
   "execution_count": 1,
   "id": "bf22a694",
   "metadata": {
    "ExecuteTime": {
     "end_time": "2023-12-28T00:21:02.257474Z",
     "start_time": "2023-12-28T00:20:59.954107Z"
    }
   },
   "outputs": [
    {
     "data": {
      "text/html": [
       "<div>\n",
       "<style scoped>\n",
       "    .dataframe tbody tr th:only-of-type {\n",
       "        vertical-align: middle;\n",
       "    }\n",
       "\n",
       "    .dataframe tbody tr th {\n",
       "        vertical-align: top;\n",
       "    }\n",
       "\n",
       "    .dataframe thead th {\n",
       "        text-align: right;\n",
       "    }\n",
       "</style>\n",
       "<table border=\"1\" class=\"dataframe\">\n",
       "  <thead>\n",
       "    <tr style=\"text-align: right;\">\n",
       "      <th></th>\n",
       "      <th>lecture_id</th>\n",
       "      <th>area</th>\n",
       "      <th>latitude</th>\n",
       "      <th>longitude</th>\n",
       "      <th>user_id</th>\n",
       "    </tr>\n",
       "  </thead>\n",
       "  <tbody>\n",
       "    <tr>\n",
       "      <th>0</th>\n",
       "      <td>5f2cfa581c0c783e4e825379</td>\n",
       "      <td>부산</td>\n",
       "      <td>35.179554</td>\n",
       "      <td>129.075642</td>\n",
       "      <td>78ff837c7cea9f33</td>\n",
       "    </tr>\n",
       "    <tr>\n",
       "      <th>1</th>\n",
       "      <td>5f35370cf9b9ed3dee7f1b73</td>\n",
       "      <td>대전</td>\n",
       "      <td>36.348315</td>\n",
       "      <td>127.390594</td>\n",
       "      <td>2987aa87d23c9e3d</td>\n",
       "    </tr>\n",
       "    <tr>\n",
       "      <th>2</th>\n",
       "      <td>5f266927e67b8fcf4340c1464</td>\n",
       "      <td>서울</td>\n",
       "      <td>37.487935</td>\n",
       "      <td>126.857758</td>\n",
       "      <td>23182525e9996864</td>\n",
       "    </tr>\n",
       "    <tr>\n",
       "      <th>3</th>\n",
       "      <td>5f35370cf9b9ed3dee7f1b6a</td>\n",
       "      <td>부산</td>\n",
       "      <td>35.179554</td>\n",
       "      <td>129.075642</td>\n",
       "      <td>ffb6913842d617a5</td>\n",
       "    </tr>\n",
       "    <tr>\n",
       "      <th>4</th>\n",
       "      <td>5f266927e67b8fcf4340c1705</td>\n",
       "      <td>서울</td>\n",
       "      <td>37.487935</td>\n",
       "      <td>126.857758</td>\n",
       "      <td>2c6822e7e833dc95</td>\n",
       "    </tr>\n",
       "  </tbody>\n",
       "</table>\n",
       "</div>"
      ],
      "text/plain": [
       "                  lecture_id area   latitude   longitude           user_id\n",
       "0   5f2cfa581c0c783e4e825379   부산  35.179554  129.075642  78ff837c7cea9f33\n",
       "1   5f35370cf9b9ed3dee7f1b73   대전  36.348315  127.390594  2987aa87d23c9e3d\n",
       "2  5f266927e67b8fcf4340c1464   서울  37.487935  126.857758  23182525e9996864\n",
       "3   5f35370cf9b9ed3dee7f1b6a   부산  35.179554  129.075642  ffb6913842d617a5\n",
       "4  5f266927e67b8fcf4340c1705   서울  37.487935  126.857758  2c6822e7e833dc95"
      ]
     },
     "execution_count": 1,
     "metadata": {},
     "output_type": "execute_result"
    }
   ],
   "source": [
    "import pandas as pd\n",
    "area_data = pd.read_table('data/students_area_detail.csv',sep=',')\n",
    "area_data.head()"
   ]
  },
  {
   "cell_type": "code",
   "execution_count": 2,
   "id": "ec301bb5",
   "metadata": {
    "ExecuteTime": {
     "end_time": "2023-12-28T00:21:04.370397Z",
     "start_time": "2023-12-28T00:21:04.349198Z"
    }
   },
   "outputs": [
    {
     "name": "stdout",
     "output_type": "stream",
     "text": [
      "<class 'pandas.core.frame.DataFrame'>\n",
      "RangeIndex: 10605 entries, 0 to 10604\n",
      "Data columns (total 5 columns):\n",
      " #   Column      Non-Null Count  Dtype  \n",
      "---  ------      --------------  -----  \n",
      " 0   lecture_id  10605 non-null  object \n",
      " 1   area        10605 non-null  object \n",
      " 2   latitude    10605 non-null  float64\n",
      " 3   longitude   10605 non-null  float64\n",
      " 4   user_id     10605 non-null  object \n",
      "dtypes: float64(2), object(3)\n",
      "memory usage: 414.4+ KB\n"
     ]
    }
   ],
   "source": [
    "area_data.info()"
   ]
  },
  {
   "cell_type": "code",
   "execution_count": 3,
   "id": "e270578b",
   "metadata": {
    "ExecuteTime": {
     "end_time": "2023-12-28T00:21:12.645145Z",
     "start_time": "2023-12-28T00:21:12.618134Z"
    }
   },
   "outputs": [
    {
     "data": {
      "text/html": [
       "<div>\n",
       "<style scoped>\n",
       "    .dataframe tbody tr th:only-of-type {\n",
       "        vertical-align: middle;\n",
       "    }\n",
       "\n",
       "    .dataframe tbody tr th {\n",
       "        vertical-align: top;\n",
       "    }\n",
       "\n",
       "    .dataframe thead th {\n",
       "        text-align: right;\n",
       "    }\n",
       "</style>\n",
       "<table border=\"1\" class=\"dataframe\">\n",
       "  <thead>\n",
       "    <tr style=\"text-align: right;\">\n",
       "      <th></th>\n",
       "      <th>latitude</th>\n",
       "      <th>longitude</th>\n",
       "    </tr>\n",
       "  </thead>\n",
       "  <tbody>\n",
       "    <tr>\n",
       "      <th>count</th>\n",
       "      <td>10605.000000</td>\n",
       "      <td>10605.000000</td>\n",
       "    </tr>\n",
       "    <tr>\n",
       "      <th>mean</th>\n",
       "      <td>36.828465</td>\n",
       "      <td>127.300652</td>\n",
       "    </tr>\n",
       "    <tr>\n",
       "      <th>std</th>\n",
       "      <td>1.007433</td>\n",
       "      <td>0.763835</td>\n",
       "    </tr>\n",
       "    <tr>\n",
       "      <th>min</th>\n",
       "      <td>33.499621</td>\n",
       "      <td>126.531188</td>\n",
       "    </tr>\n",
       "    <tr>\n",
       "      <th>25%</th>\n",
       "      <td>36.348315</td>\n",
       "      <td>126.857758</td>\n",
       "    </tr>\n",
       "    <tr>\n",
       "      <th>50%</th>\n",
       "      <td>37.487935</td>\n",
       "      <td>126.857758</td>\n",
       "    </tr>\n",
       "    <tr>\n",
       "      <th>75%</th>\n",
       "      <td>37.487935</td>\n",
       "      <td>127.390594</td>\n",
       "    </tr>\n",
       "    <tr>\n",
       "      <th>max</th>\n",
       "      <td>37.885693</td>\n",
       "      <td>129.247284</td>\n",
       "    </tr>\n",
       "  </tbody>\n",
       "</table>\n",
       "</div>"
      ],
      "text/plain": [
       "           latitude     longitude\n",
       "count  10605.000000  10605.000000\n",
       "mean      36.828465    127.300652\n",
       "std        1.007433      0.763835\n",
       "min       33.499621    126.531188\n",
       "25%       36.348315    126.857758\n",
       "50%       37.487935    126.857758\n",
       "75%       37.487935    127.390594\n",
       "max       37.885693    129.247284"
      ]
     },
     "execution_count": 3,
     "metadata": {},
     "output_type": "execute_result"
    }
   ],
   "source": [
    "area_data.describe()"
   ]
  },
  {
   "cell_type": "code",
   "execution_count": 4,
   "id": "b61db319",
   "metadata": {
    "ExecuteTime": {
     "end_time": "2023-12-28T00:21:34.502976Z",
     "start_time": "2023-12-28T00:21:34.427737Z"
    }
   },
   "outputs": [
    {
     "data": {
      "text/html": [
       "<div>\n",
       "<style scoped>\n",
       "    .dataframe tbody tr th:only-of-type {\n",
       "        vertical-align: middle;\n",
       "    }\n",
       "\n",
       "    .dataframe tbody tr th {\n",
       "        vertical-align: top;\n",
       "    }\n",
       "\n",
       "    .dataframe thead th {\n",
       "        text-align: right;\n",
       "    }\n",
       "</style>\n",
       "<table border=\"1\" class=\"dataframe\">\n",
       "  <thead>\n",
       "    <tr style=\"text-align: right;\">\n",
       "      <th></th>\n",
       "      <th>lecture_id</th>\n",
       "      <th>area</th>\n",
       "      <th>latitude</th>\n",
       "      <th>longitude</th>\n",
       "      <th>user_id</th>\n",
       "    </tr>\n",
       "  </thead>\n",
       "  <tbody>\n",
       "    <tr>\n",
       "      <th>count</th>\n",
       "      <td>10605</td>\n",
       "      <td>10605</td>\n",
       "      <td>10605.000000</td>\n",
       "      <td>10605.000000</td>\n",
       "      <td>10605</td>\n",
       "    </tr>\n",
       "    <tr>\n",
       "      <th>unique</th>\n",
       "      <td>1887</td>\n",
       "      <td>12</td>\n",
       "      <td>NaN</td>\n",
       "      <td>NaN</td>\n",
       "      <td>10605</td>\n",
       "    </tr>\n",
       "    <tr>\n",
       "      <th>top</th>\n",
       "      <td>5f266927e67b8fcf4340c088</td>\n",
       "      <td>서울</td>\n",
       "      <td>NaN</td>\n",
       "      <td>NaN</td>\n",
       "      <td>78ff837c7cea9f33</td>\n",
       "    </tr>\n",
       "    <tr>\n",
       "      <th>freq</th>\n",
       "      <td>159</td>\n",
       "      <td>5296</td>\n",
       "      <td>NaN</td>\n",
       "      <td>NaN</td>\n",
       "      <td>1</td>\n",
       "    </tr>\n",
       "    <tr>\n",
       "      <th>mean</th>\n",
       "      <td>NaN</td>\n",
       "      <td>NaN</td>\n",
       "      <td>36.828465</td>\n",
       "      <td>127.300652</td>\n",
       "      <td>NaN</td>\n",
       "    </tr>\n",
       "    <tr>\n",
       "      <th>std</th>\n",
       "      <td>NaN</td>\n",
       "      <td>NaN</td>\n",
       "      <td>1.007433</td>\n",
       "      <td>0.763835</td>\n",
       "      <td>NaN</td>\n",
       "    </tr>\n",
       "    <tr>\n",
       "      <th>min</th>\n",
       "      <td>NaN</td>\n",
       "      <td>NaN</td>\n",
       "      <td>33.499621</td>\n",
       "      <td>126.531188</td>\n",
       "      <td>NaN</td>\n",
       "    </tr>\n",
       "    <tr>\n",
       "      <th>25%</th>\n",
       "      <td>NaN</td>\n",
       "      <td>NaN</td>\n",
       "      <td>36.348315</td>\n",
       "      <td>126.857758</td>\n",
       "      <td>NaN</td>\n",
       "    </tr>\n",
       "    <tr>\n",
       "      <th>50%</th>\n",
       "      <td>NaN</td>\n",
       "      <td>NaN</td>\n",
       "      <td>37.487935</td>\n",
       "      <td>126.857758</td>\n",
       "      <td>NaN</td>\n",
       "    </tr>\n",
       "    <tr>\n",
       "      <th>75%</th>\n",
       "      <td>NaN</td>\n",
       "      <td>NaN</td>\n",
       "      <td>37.487935</td>\n",
       "      <td>127.390594</td>\n",
       "      <td>NaN</td>\n",
       "    </tr>\n",
       "    <tr>\n",
       "      <th>max</th>\n",
       "      <td>NaN</td>\n",
       "      <td>NaN</td>\n",
       "      <td>37.885693</td>\n",
       "      <td>129.247284</td>\n",
       "      <td>NaN</td>\n",
       "    </tr>\n",
       "  </tbody>\n",
       "</table>\n",
       "</div>"
      ],
      "text/plain": [
       "                      lecture_id   area      latitude     longitude  \\\n",
       "count                      10605  10605  10605.000000  10605.000000   \n",
       "unique                      1887     12           NaN           NaN   \n",
       "top     5f266927e67b8fcf4340c088     서울           NaN           NaN   \n",
       "freq                         159   5296           NaN           NaN   \n",
       "mean                         NaN    NaN     36.828465    127.300652   \n",
       "std                          NaN    NaN      1.007433      0.763835   \n",
       "min                          NaN    NaN     33.499621    126.531188   \n",
       "25%                          NaN    NaN     36.348315    126.857758   \n",
       "50%                          NaN    NaN     37.487935    126.857758   \n",
       "75%                          NaN    NaN     37.487935    127.390594   \n",
       "max                          NaN    NaN     37.885693    129.247284   \n",
       "\n",
       "                 user_id  \n",
       "count              10605  \n",
       "unique             10605  \n",
       "top     78ff837c7cea9f33  \n",
       "freq                   1  \n",
       "mean                 NaN  \n",
       "std                  NaN  \n",
       "min                  NaN  \n",
       "25%                  NaN  \n",
       "50%                  NaN  \n",
       "75%                  NaN  \n",
       "max                  NaN  "
      ]
     },
     "execution_count": 4,
     "metadata": {},
     "output_type": "execute_result"
    }
   ],
   "source": [
    "area_data.describe(include='all') #전체를 뽑아줌"
   ]
  },
  {
   "cell_type": "markdown",
   "id": "9731ea8d",
   "metadata": {},
   "source": [
    "여기에서 필요한 테이블은 무엇일까요?\n",
    "“어떤\" 수강생이 “어디에서” 주로 접속 하는지 알아야 하니,\n",
    "접속지역, 해당지역 위도 및 경도, 유저아이디가 필요하겠군요!"
   ]
  },
  {
   "cell_type": "code",
   "execution_count": null,
   "id": "77343ab6",
   "metadata": {},
   "outputs": [],
   "source": [
    "area_data['area'].unique()"
   ]
  },
  {
   "cell_type": "code",
   "execution_count": 5,
   "id": "e313a7c8",
   "metadata": {
    "ExecuteTime": {
     "end_time": "2023-12-28T00:23:05.633729Z",
     "start_time": "2023-12-28T00:23:05.624778Z"
    }
   },
   "outputs": [
    {
     "name": "stdout",
     "output_type": "stream",
     "text": [
      "{'경북', '경남', '대전', '경기', '서울', '전북', '제주', '부산', '세종', '강원', '충북', '광주'} 12\n"
     ]
    }
   ],
   "source": [
    "# 지역 분류 하기\n",
    "category_range = set(area_data['area']) # 유니크한 지역정보 #집합. 중복제거해줌\n",
    "print(category_range, len(category_range))"
   ]
  },
  {
   "cell_type": "code",
   "execution_count": 6,
   "id": "cd34ac66",
   "metadata": {
    "ExecuteTime": {
     "end_time": "2023-12-28T00:23:11.333145Z",
     "start_time": "2023-12-28T00:23:11.316587Z"
    }
   },
   "outputs": [
    {
     "data": {
      "text/html": [
       "<div>\n",
       "<style scoped>\n",
       "    .dataframe tbody tr th:only-of-type {\n",
       "        vertical-align: middle;\n",
       "    }\n",
       "\n",
       "    .dataframe tbody tr th {\n",
       "        vertical-align: top;\n",
       "    }\n",
       "\n",
       "    .dataframe thead th {\n",
       "        text-align: right;\n",
       "    }\n",
       "</style>\n",
       "<table border=\"1\" class=\"dataframe\">\n",
       "  <thead>\n",
       "    <tr style=\"text-align: right;\">\n",
       "      <th></th>\n",
       "      <th>area</th>\n",
       "      <th>latitude</th>\n",
       "      <th>longitude</th>\n",
       "    </tr>\n",
       "  </thead>\n",
       "  <tbody>\n",
       "    <tr>\n",
       "      <th>0</th>\n",
       "      <td>부산</td>\n",
       "      <td>35.179554</td>\n",
       "      <td>129.075642</td>\n",
       "    </tr>\n",
       "    <tr>\n",
       "      <th>1</th>\n",
       "      <td>대전</td>\n",
       "      <td>36.348315</td>\n",
       "      <td>127.390594</td>\n",
       "    </tr>\n",
       "    <tr>\n",
       "      <th>2</th>\n",
       "      <td>서울</td>\n",
       "      <td>37.487935</td>\n",
       "      <td>126.857758</td>\n",
       "    </tr>\n",
       "    <tr>\n",
       "      <th>3</th>\n",
       "      <td>부산</td>\n",
       "      <td>35.179554</td>\n",
       "      <td>129.075642</td>\n",
       "    </tr>\n",
       "    <tr>\n",
       "      <th>4</th>\n",
       "      <td>서울</td>\n",
       "      <td>37.487935</td>\n",
       "      <td>126.857758</td>\n",
       "    </tr>\n",
       "  </tbody>\n",
       "</table>\n",
       "</div>"
      ],
      "text/plain": [
       "  area   latitude   longitude\n",
       "0   부산  35.179554  129.075642\n",
       "1   대전  36.348315  127.390594\n",
       "2   서울  37.487935  126.857758\n",
       "3   부산  35.179554  129.075642\n",
       "4   서울  37.487935  126.857758"
      ]
     },
     "execution_count": 6,
     "metadata": {},
     "output_type": "execute_result"
    }
   ],
   "source": [
    "# (1) “접속지역, 해당 지역 위도, 해당 지역 경도” 만으로 이루어진 테이블 만들기\n",
    "#새로운 테이블을 만들고자 할 땐 기존의 테이블에서 필요한 \"열의 이름\"을 대괄호에 넣어 변수에 지정해 주면 됩니다\n",
    "area_info = area_data[['area','latitude','longitude']]\n",
    "\n",
    "#잘 만들어졌는지 초기 5개의 데이터 확인하기\n",
    "area_info.head()"
   ]
  },
  {
   "cell_type": "code",
   "execution_count": 7,
   "id": "011d3450",
   "metadata": {
    "ExecuteTime": {
     "end_time": "2023-12-28T00:24:24.598949Z",
     "start_time": "2023-12-28T00:24:24.574306Z"
    }
   },
   "outputs": [
    {
     "data": {
      "text/html": [
       "<div>\n",
       "<style scoped>\n",
       "    .dataframe tbody tr th:only-of-type {\n",
       "        vertical-align: middle;\n",
       "    }\n",
       "\n",
       "    .dataframe tbody tr th {\n",
       "        vertical-align: top;\n",
       "    }\n",
       "\n",
       "    .dataframe thead th {\n",
       "        text-align: right;\n",
       "    }\n",
       "</style>\n",
       "<table border=\"1\" class=\"dataframe\">\n",
       "  <thead>\n",
       "    <tr style=\"text-align: right;\">\n",
       "      <th></th>\n",
       "      <th>area</th>\n",
       "      <th>latitude</th>\n",
       "      <th>longitude</th>\n",
       "    </tr>\n",
       "  </thead>\n",
       "  <tbody>\n",
       "    <tr>\n",
       "      <th>0</th>\n",
       "      <td>부산</td>\n",
       "      <td>35.179554</td>\n",
       "      <td>129.075642</td>\n",
       "    </tr>\n",
       "    <tr>\n",
       "      <th>1</th>\n",
       "      <td>대전</td>\n",
       "      <td>36.348315</td>\n",
       "      <td>127.390594</td>\n",
       "    </tr>\n",
       "    <tr>\n",
       "      <th>2</th>\n",
       "      <td>서울</td>\n",
       "      <td>37.487935</td>\n",
       "      <td>126.857758</td>\n",
       "    </tr>\n",
       "    <tr>\n",
       "      <th>5</th>\n",
       "      <td>전북</td>\n",
       "      <td>35.574683</td>\n",
       "      <td>126.852264</td>\n",
       "    </tr>\n",
       "    <tr>\n",
       "      <th>11</th>\n",
       "      <td>광주</td>\n",
       "      <td>36.084621</td>\n",
       "      <td>126.951141</td>\n",
       "    </tr>\n",
       "    <tr>\n",
       "      <th>13</th>\n",
       "      <td>경기</td>\n",
       "      <td>37.546755</td>\n",
       "      <td>127.203827</td>\n",
       "    </tr>\n",
       "    <tr>\n",
       "      <th>36</th>\n",
       "      <td>강원</td>\n",
       "      <td>37.531510</td>\n",
       "      <td>129.000000</td>\n",
       "    </tr>\n",
       "    <tr>\n",
       "      <th>41</th>\n",
       "      <td>세종</td>\n",
       "      <td>36.560000</td>\n",
       "      <td>127.278000</td>\n",
       "    </tr>\n",
       "    <tr>\n",
       "      <th>53</th>\n",
       "      <td>경북</td>\n",
       "      <td>36.129002</td>\n",
       "      <td>128.343658</td>\n",
       "    </tr>\n",
       "    <tr>\n",
       "      <th>59</th>\n",
       "      <td>경남</td>\n",
       "      <td>35.556809</td>\n",
       "      <td>129.247284</td>\n",
       "    </tr>\n",
       "    <tr>\n",
       "      <th>91</th>\n",
       "      <td>충북</td>\n",
       "      <td>37.885693</td>\n",
       "      <td>127.733917</td>\n",
       "    </tr>\n",
       "    <tr>\n",
       "      <th>166</th>\n",
       "      <td>제주</td>\n",
       "      <td>33.499621</td>\n",
       "      <td>126.531188</td>\n",
       "    </tr>\n",
       "  </tbody>\n",
       "</table>\n",
       "</div>"
      ],
      "text/plain": [
       "    area   latitude   longitude\n",
       "0     부산  35.179554  129.075642\n",
       "1     대전  36.348315  127.390594\n",
       "2     서울  37.487935  126.857758\n",
       "5     전북  35.574683  126.852264\n",
       "11    광주  36.084621  126.951141\n",
       "13    경기  37.546755  127.203827\n",
       "36    강원  37.531510  129.000000\n",
       "41    세종  36.560000  127.278000\n",
       "53    경북  36.129002  128.343658\n",
       "59    경남  35.556809  129.247284\n",
       "91    충북  37.885693  127.733917\n",
       "166   제주  33.499621  126.531188"
      ]
     },
     "execution_count": 7,
     "metadata": {},
     "output_type": "execute_result"
    }
   ],
   "source": [
    "# (2) 수많은 중복 정보 삭제 하기 \n",
    "# step1) 중복되는 테이블의 정보를 삭제 시켜봅시다!\n",
    "#drop_duplicates()을 이용하면, area(지역) 컬럼의 중복 데이터를 처리 할 수 있습니다. :)\n",
    "\n",
    "area_info=area_info.drop_duplicates(['area'])\n",
    "area_info\n"
   ]
  },
  {
   "cell_type": "code",
   "execution_count": 8,
   "id": "2d038fb5",
   "metadata": {
    "ExecuteTime": {
     "end_time": "2023-12-28T00:24:58.294170Z",
     "start_time": "2023-12-28T00:24:58.270948Z"
    }
   },
   "outputs": [
    {
     "data": {
      "text/html": [
       "<div>\n",
       "<style scoped>\n",
       "    .dataframe tbody tr th:only-of-type {\n",
       "        vertical-align: middle;\n",
       "    }\n",
       "\n",
       "    .dataframe tbody tr th {\n",
       "        vertical-align: top;\n",
       "    }\n",
       "\n",
       "    .dataframe thead th {\n",
       "        text-align: right;\n",
       "    }\n",
       "</style>\n",
       "<table border=\"1\" class=\"dataframe\">\n",
       "  <thead>\n",
       "    <tr style=\"text-align: right;\">\n",
       "      <th></th>\n",
       "      <th>index</th>\n",
       "      <th>area</th>\n",
       "      <th>latitude</th>\n",
       "      <th>longitude</th>\n",
       "    </tr>\n",
       "  </thead>\n",
       "  <tbody>\n",
       "    <tr>\n",
       "      <th>0</th>\n",
       "      <td>0</td>\n",
       "      <td>부산</td>\n",
       "      <td>35.179554</td>\n",
       "      <td>129.075642</td>\n",
       "    </tr>\n",
       "    <tr>\n",
       "      <th>1</th>\n",
       "      <td>1</td>\n",
       "      <td>대전</td>\n",
       "      <td>36.348315</td>\n",
       "      <td>127.390594</td>\n",
       "    </tr>\n",
       "    <tr>\n",
       "      <th>2</th>\n",
       "      <td>2</td>\n",
       "      <td>서울</td>\n",
       "      <td>37.487935</td>\n",
       "      <td>126.857758</td>\n",
       "    </tr>\n",
       "    <tr>\n",
       "      <th>3</th>\n",
       "      <td>5</td>\n",
       "      <td>전북</td>\n",
       "      <td>35.574683</td>\n",
       "      <td>126.852264</td>\n",
       "    </tr>\n",
       "    <tr>\n",
       "      <th>4</th>\n",
       "      <td>11</td>\n",
       "      <td>광주</td>\n",
       "      <td>36.084621</td>\n",
       "      <td>126.951141</td>\n",
       "    </tr>\n",
       "    <tr>\n",
       "      <th>5</th>\n",
       "      <td>13</td>\n",
       "      <td>경기</td>\n",
       "      <td>37.546755</td>\n",
       "      <td>127.203827</td>\n",
       "    </tr>\n",
       "    <tr>\n",
       "      <th>6</th>\n",
       "      <td>36</td>\n",
       "      <td>강원</td>\n",
       "      <td>37.531510</td>\n",
       "      <td>129.000000</td>\n",
       "    </tr>\n",
       "    <tr>\n",
       "      <th>7</th>\n",
       "      <td>41</td>\n",
       "      <td>세종</td>\n",
       "      <td>36.560000</td>\n",
       "      <td>127.278000</td>\n",
       "    </tr>\n",
       "    <tr>\n",
       "      <th>8</th>\n",
       "      <td>53</td>\n",
       "      <td>경북</td>\n",
       "      <td>36.129002</td>\n",
       "      <td>128.343658</td>\n",
       "    </tr>\n",
       "    <tr>\n",
       "      <th>9</th>\n",
       "      <td>59</td>\n",
       "      <td>경남</td>\n",
       "      <td>35.556809</td>\n",
       "      <td>129.247284</td>\n",
       "    </tr>\n",
       "    <tr>\n",
       "      <th>10</th>\n",
       "      <td>91</td>\n",
       "      <td>충북</td>\n",
       "      <td>37.885693</td>\n",
       "      <td>127.733917</td>\n",
       "    </tr>\n",
       "    <tr>\n",
       "      <th>11</th>\n",
       "      <td>166</td>\n",
       "      <td>제주</td>\n",
       "      <td>33.499621</td>\n",
       "      <td>126.531188</td>\n",
       "    </tr>\n",
       "  </tbody>\n",
       "</table>\n",
       "</div>"
      ],
      "text/plain": [
       "    index area   latitude   longitude\n",
       "0       0   부산  35.179554  129.075642\n",
       "1       1   대전  36.348315  127.390594\n",
       "2       2   서울  37.487935  126.857758\n",
       "3       5   전북  35.574683  126.852264\n",
       "4      11   광주  36.084621  126.951141\n",
       "5      13   경기  37.546755  127.203827\n",
       "6      36   강원  37.531510  129.000000\n",
       "7      41   세종  36.560000  127.278000\n",
       "8      53   경북  36.129002  128.343658\n",
       "9      59   경남  35.556809  129.247284\n",
       "10     91   충북  37.885693  127.733917\n",
       "11    166   제주  33.499621  126.531188"
      ]
     },
     "execution_count": 8,
     "metadata": {},
     "output_type": "execute_result"
    }
   ],
   "source": [
    "#.reset_index()를 이용해, 인덱스를 재정렬 할 수 있어요!\n",
    "area_info= area_info.reset_index()\n",
    "area_info"
   ]
  },
  {
   "cell_type": "code",
   "execution_count": 9,
   "id": "ad718842",
   "metadata": {
    "ExecuteTime": {
     "end_time": "2023-12-28T00:25:10.034577Z",
     "start_time": "2023-12-28T00:25:10.017837Z"
    }
   },
   "outputs": [
    {
     "data": {
      "text/html": [
       "<div>\n",
       "<style scoped>\n",
       "    .dataframe tbody tr th:only-of-type {\n",
       "        vertical-align: middle;\n",
       "    }\n",
       "\n",
       "    .dataframe tbody tr th {\n",
       "        vertical-align: top;\n",
       "    }\n",
       "\n",
       "    .dataframe thead th {\n",
       "        text-align: right;\n",
       "    }\n",
       "</style>\n",
       "<table border=\"1\" class=\"dataframe\">\n",
       "  <thead>\n",
       "    <tr style=\"text-align: right;\">\n",
       "      <th></th>\n",
       "      <th>index</th>\n",
       "      <th>area</th>\n",
       "      <th>latitude</th>\n",
       "      <th>longitude</th>\n",
       "    </tr>\n",
       "  </thead>\n",
       "  <tbody>\n",
       "    <tr>\n",
       "      <th>6</th>\n",
       "      <td>36</td>\n",
       "      <td>강원</td>\n",
       "      <td>37.531510</td>\n",
       "      <td>129.000000</td>\n",
       "    </tr>\n",
       "    <tr>\n",
       "      <th>5</th>\n",
       "      <td>13</td>\n",
       "      <td>경기</td>\n",
       "      <td>37.546755</td>\n",
       "      <td>127.203827</td>\n",
       "    </tr>\n",
       "    <tr>\n",
       "      <th>9</th>\n",
       "      <td>59</td>\n",
       "      <td>경남</td>\n",
       "      <td>35.556809</td>\n",
       "      <td>129.247284</td>\n",
       "    </tr>\n",
       "    <tr>\n",
       "      <th>8</th>\n",
       "      <td>53</td>\n",
       "      <td>경북</td>\n",
       "      <td>36.129002</td>\n",
       "      <td>128.343658</td>\n",
       "    </tr>\n",
       "    <tr>\n",
       "      <th>4</th>\n",
       "      <td>11</td>\n",
       "      <td>광주</td>\n",
       "      <td>36.084621</td>\n",
       "      <td>126.951141</td>\n",
       "    </tr>\n",
       "    <tr>\n",
       "      <th>1</th>\n",
       "      <td>1</td>\n",
       "      <td>대전</td>\n",
       "      <td>36.348315</td>\n",
       "      <td>127.390594</td>\n",
       "    </tr>\n",
       "    <tr>\n",
       "      <th>0</th>\n",
       "      <td>0</td>\n",
       "      <td>부산</td>\n",
       "      <td>35.179554</td>\n",
       "      <td>129.075642</td>\n",
       "    </tr>\n",
       "    <tr>\n",
       "      <th>2</th>\n",
       "      <td>2</td>\n",
       "      <td>서울</td>\n",
       "      <td>37.487935</td>\n",
       "      <td>126.857758</td>\n",
       "    </tr>\n",
       "    <tr>\n",
       "      <th>7</th>\n",
       "      <td>41</td>\n",
       "      <td>세종</td>\n",
       "      <td>36.560000</td>\n",
       "      <td>127.278000</td>\n",
       "    </tr>\n",
       "    <tr>\n",
       "      <th>3</th>\n",
       "      <td>5</td>\n",
       "      <td>전북</td>\n",
       "      <td>35.574683</td>\n",
       "      <td>126.852264</td>\n",
       "    </tr>\n",
       "    <tr>\n",
       "      <th>11</th>\n",
       "      <td>166</td>\n",
       "      <td>제주</td>\n",
       "      <td>33.499621</td>\n",
       "      <td>126.531188</td>\n",
       "    </tr>\n",
       "    <tr>\n",
       "      <th>10</th>\n",
       "      <td>91</td>\n",
       "      <td>충북</td>\n",
       "      <td>37.885693</td>\n",
       "      <td>127.733917</td>\n",
       "    </tr>\n",
       "  </tbody>\n",
       "</table>\n",
       "</div>"
      ],
      "text/plain": [
       "    index area   latitude   longitude\n",
       "6      36   강원  37.531510  129.000000\n",
       "5      13   경기  37.546755  127.203827\n",
       "9      59   경남  35.556809  129.247284\n",
       "8      53   경북  36.129002  128.343658\n",
       "4      11   광주  36.084621  126.951141\n",
       "1       1   대전  36.348315  127.390594\n",
       "0       0   부산  35.179554  129.075642\n",
       "2       2   서울  37.487935  126.857758\n",
       "7      41   세종  36.560000  127.278000\n",
       "3       5   전북  35.574683  126.852264\n",
       "11    166   제주  33.499621  126.531188\n",
       "10     91   충북  37.885693  127.733917"
      ]
     },
     "execution_count": 9,
     "metadata": {},
     "output_type": "execute_result"
    }
   ],
   "source": [
    "# (3) 가공된 테이블인 “지역의 이름”을 기준으로 데이터를 정렬하기!\n",
    "area_info = area_info.sort_values(by=\"area\", ascending=True) #오름차순\n",
    "area_info"
   ]
  },
  {
   "cell_type": "code",
   "execution_count": 10,
   "id": "b1f06961",
   "metadata": {
    "ExecuteTime": {
     "end_time": "2023-12-28T00:25:55.279550Z",
     "start_time": "2023-12-28T00:25:55.262548Z"
    }
   },
   "outputs": [
    {
     "data": {
      "text/html": [
       "<div>\n",
       "<style scoped>\n",
       "    .dataframe tbody tr th:only-of-type {\n",
       "        vertical-align: middle;\n",
       "    }\n",
       "\n",
       "    .dataframe tbody tr th {\n",
       "        vertical-align: top;\n",
       "    }\n",
       "\n",
       "    .dataframe thead th {\n",
       "        text-align: right;\n",
       "    }\n",
       "</style>\n",
       "<table border=\"1\" class=\"dataframe\">\n",
       "  <thead>\n",
       "    <tr style=\"text-align: right;\">\n",
       "      <th></th>\n",
       "      <th>user_id</th>\n",
       "    </tr>\n",
       "    <tr>\n",
       "      <th>area</th>\n",
       "      <th></th>\n",
       "    </tr>\n",
       "  </thead>\n",
       "  <tbody>\n",
       "    <tr>\n",
       "      <th>강원</th>\n",
       "      <td>261</td>\n",
       "    </tr>\n",
       "    <tr>\n",
       "      <th>경기</th>\n",
       "      <td>804</td>\n",
       "    </tr>\n",
       "    <tr>\n",
       "      <th>경남</th>\n",
       "      <td>79</td>\n",
       "    </tr>\n",
       "    <tr>\n",
       "      <th>경북</th>\n",
       "      <td>85</td>\n",
       "    </tr>\n",
       "    <tr>\n",
       "      <th>광주</th>\n",
       "      <td>565</td>\n",
       "    </tr>\n",
       "    <tr>\n",
       "      <th>대전</th>\n",
       "      <td>1238</td>\n",
       "    </tr>\n",
       "    <tr>\n",
       "      <th>부산</th>\n",
       "      <td>1162</td>\n",
       "    </tr>\n",
       "    <tr>\n",
       "      <th>서울</th>\n",
       "      <td>5296</td>\n",
       "    </tr>\n",
       "    <tr>\n",
       "      <th>세종</th>\n",
       "      <td>446</td>\n",
       "    </tr>\n",
       "    <tr>\n",
       "      <th>전북</th>\n",
       "      <td>160</td>\n",
       "    </tr>\n",
       "    <tr>\n",
       "      <th>제주</th>\n",
       "      <td>314</td>\n",
       "    </tr>\n",
       "    <tr>\n",
       "      <th>충북</th>\n",
       "      <td>195</td>\n",
       "    </tr>\n",
       "  </tbody>\n",
       "</table>\n",
       "</div>"
      ],
      "text/plain": [
       "      user_id\n",
       "area         \n",
       "강원        261\n",
       "경기        804\n",
       "경남         79\n",
       "경북         85\n",
       "광주        565\n",
       "대전       1238\n",
       "부산       1162\n",
       "서울       5296\n",
       "세종        446\n",
       "전북        160\n",
       "제주        314\n",
       "충북        195"
      ]
     },
     "execution_count": 10,
     "metadata": {},
     "output_type": "execute_result"
    }
   ],
   "source": [
    "# (4) 각 지역별 총 학생수 구하기\n",
    "number_of_students = pd.DataFrame(area_data.groupby('area')['user_id'].count())\n",
    "number_of_students"
   ]
  },
  {
   "cell_type": "code",
   "execution_count": 11,
   "id": "7616649c",
   "metadata": {
    "ExecuteTime": {
     "end_time": "2023-12-28T00:26:25.119581Z",
     "start_time": "2023-12-28T00:26:25.097815Z"
    }
   },
   "outputs": [
    {
     "data": {
      "text/html": [
       "<div>\n",
       "<style scoped>\n",
       "    .dataframe tbody tr th:only-of-type {\n",
       "        vertical-align: middle;\n",
       "    }\n",
       "\n",
       "    .dataframe tbody tr th {\n",
       "        vertical-align: top;\n",
       "    }\n",
       "\n",
       "    .dataframe thead th {\n",
       "        text-align: right;\n",
       "    }\n",
       "</style>\n",
       "<table border=\"1\" class=\"dataframe\">\n",
       "  <thead>\n",
       "    <tr style=\"text-align: right;\">\n",
       "      <th></th>\n",
       "      <th>index</th>\n",
       "      <th>area</th>\n",
       "      <th>latitude</th>\n",
       "      <th>longitude</th>\n",
       "      <th>user_id</th>\n",
       "    </tr>\n",
       "  </thead>\n",
       "  <tbody>\n",
       "    <tr>\n",
       "      <th>0</th>\n",
       "      <td>36</td>\n",
       "      <td>강원</td>\n",
       "      <td>37.531510</td>\n",
       "      <td>129.000000</td>\n",
       "      <td>261</td>\n",
       "    </tr>\n",
       "    <tr>\n",
       "      <th>1</th>\n",
       "      <td>13</td>\n",
       "      <td>경기</td>\n",
       "      <td>37.546755</td>\n",
       "      <td>127.203827</td>\n",
       "      <td>804</td>\n",
       "    </tr>\n",
       "    <tr>\n",
       "      <th>2</th>\n",
       "      <td>59</td>\n",
       "      <td>경남</td>\n",
       "      <td>35.556809</td>\n",
       "      <td>129.247284</td>\n",
       "      <td>79</td>\n",
       "    </tr>\n",
       "    <tr>\n",
       "      <th>3</th>\n",
       "      <td>53</td>\n",
       "      <td>경북</td>\n",
       "      <td>36.129002</td>\n",
       "      <td>128.343658</td>\n",
       "      <td>85</td>\n",
       "    </tr>\n",
       "    <tr>\n",
       "      <th>4</th>\n",
       "      <td>11</td>\n",
       "      <td>광주</td>\n",
       "      <td>36.084621</td>\n",
       "      <td>126.951141</td>\n",
       "      <td>565</td>\n",
       "    </tr>\n",
       "    <tr>\n",
       "      <th>5</th>\n",
       "      <td>1</td>\n",
       "      <td>대전</td>\n",
       "      <td>36.348315</td>\n",
       "      <td>127.390594</td>\n",
       "      <td>1238</td>\n",
       "    </tr>\n",
       "    <tr>\n",
       "      <th>6</th>\n",
       "      <td>0</td>\n",
       "      <td>부산</td>\n",
       "      <td>35.179554</td>\n",
       "      <td>129.075642</td>\n",
       "      <td>1162</td>\n",
       "    </tr>\n",
       "    <tr>\n",
       "      <th>7</th>\n",
       "      <td>2</td>\n",
       "      <td>서울</td>\n",
       "      <td>37.487935</td>\n",
       "      <td>126.857758</td>\n",
       "      <td>5296</td>\n",
       "    </tr>\n",
       "    <tr>\n",
       "      <th>8</th>\n",
       "      <td>41</td>\n",
       "      <td>세종</td>\n",
       "      <td>36.560000</td>\n",
       "      <td>127.278000</td>\n",
       "      <td>446</td>\n",
       "    </tr>\n",
       "    <tr>\n",
       "      <th>9</th>\n",
       "      <td>5</td>\n",
       "      <td>전북</td>\n",
       "      <td>35.574683</td>\n",
       "      <td>126.852264</td>\n",
       "      <td>160</td>\n",
       "    </tr>\n",
       "    <tr>\n",
       "      <th>10</th>\n",
       "      <td>166</td>\n",
       "      <td>제주</td>\n",
       "      <td>33.499621</td>\n",
       "      <td>126.531188</td>\n",
       "      <td>314</td>\n",
       "    </tr>\n",
       "    <tr>\n",
       "      <th>11</th>\n",
       "      <td>91</td>\n",
       "      <td>충북</td>\n",
       "      <td>37.885693</td>\n",
       "      <td>127.733917</td>\n",
       "      <td>195</td>\n",
       "    </tr>\n",
       "  </tbody>\n",
       "</table>\n",
       "</div>"
      ],
      "text/plain": [
       "    index area   latitude   longitude  user_id\n",
       "0      36   강원  37.531510  129.000000      261\n",
       "1      13   경기  37.546755  127.203827      804\n",
       "2      59   경남  35.556809  129.247284       79\n",
       "3      53   경북  36.129002  128.343658       85\n",
       "4      11   광주  36.084621  126.951141      565\n",
       "5       1   대전  36.348315  127.390594     1238\n",
       "6       0   부산  35.179554  129.075642     1162\n",
       "7       2   서울  37.487935  126.857758     5296\n",
       "8      41   세종  36.560000  127.278000      446\n",
       "9       5   전북  35.574683  126.852264      160\n",
       "10    166   제주  33.499621  126.531188      314\n",
       "11     91   충북  37.885693  127.733917      195"
      ]
     },
     "execution_count": 11,
     "metadata": {},
     "output_type": "execute_result"
    }
   ],
   "source": [
    "# (5) 지역별 총 학생수를 기존 테이블과 합치기\n",
    "#merge()를 이용하여, 두 테이블을 병합 할수 있어요 :)!\n",
    "result = pd.merge(area_info, number_of_students, on=\"area\") #merge(칼럼기준)와 join(인덱스 기준)\n",
    "result"
   ]
  },
  {
   "cell_type": "code",
   "execution_count": 16,
   "id": "9a3df881",
   "metadata": {
    "ExecuteTime": {
     "end_time": "2023-12-28T00:29:06.582440Z",
     "start_time": "2023-12-28T00:29:05.751928Z"
    }
   },
   "outputs": [
    {
     "data": {
      "image/png": "[encoded data removed]",
      "text/plain": [
       "<Figure size 1000x500 with 1 Axes>"
      ]
     },
     "metadata": {},
     "output_type": "display_data"
    }
   ],
   "source": [
    "# 지역별 수강생 수 라인 그래프 그리기\n",
    "\n",
    "#그래프 사이즈 변경\n",
    "plt.figure(figsize=(10,5))\n",
    "\n",
    "#그래프 x축 y축\n",
    "plt.plot(result['area'], result['user_id']) #x 지역, y id\n",
    "\n",
    "#그래프 명\n",
    "plt.title('지역별 사용자 수')\n",
    "\n",
    "#그래프 x축 레이블\n",
    "plt.xlabel('지역')\n",
    "\n",
    "#그래프 y축 레이블\n",
    "plt.ylabel('사용자(명)')\n",
    "\n",
    "#x축 눈금 수\n",
    "plt.xticks(np.arange(13))\n",
    "\n",
    "#그래프 출력\n",
    "plt.show()\n"
   ]
  },
  {
   "cell_type": "code",
   "execution_count": 17,
   "id": "8fde2854",
   "metadata": {
    "ExecuteTime": {
     "end_time": "2023-12-28T00:29:20.194075Z",
     "start_time": "2023-12-28T00:29:17.892303Z"
    }
   },
   "outputs": [],
   "source": [
    "# 필요한 라이브러리 사용 선언하기\n",
    "import folium\n",
    "from folium.plugins import MarkerCluster"
   ]
  },
  {
   "cell_type": "code",
   "execution_count": 18,
   "id": "0b653d1c",
   "metadata": {
    "ExecuteTime": {
     "end_time": "2023-12-28T00:29:29.263351Z",
     "start_time": "2023-12-28T00:29:29.244172Z"
    }
   },
   "outputs": [
    {
     "data": {
      "text/html": [
       "<div style=\"width:100%;\"><div style=\"position:relative;width:100%;height:0;padding-bottom:60%;\"><span style=\"color:#565656\">Make this Notebook Trusted to load map: File -> Trust Notebook</span><iframe srcdoc=\"&lt;!DOCTYPE html&gt;\n",
       "&lt;html&gt;\n",
       "&lt;head&gt;\n",
       "    \n",
       "    &lt;meta http-equiv=&quot;content-type&quot; content=&quot;text/html; charset=UTF-8&quot; /&gt;\n",
       "    \n",
       "        &lt;script&gt;\n",
       "            L_NO_TOUCH = false;\n",
       "            L_DISABLE_3D = false;\n",
       "        &lt;/script&gt;\n",
       "    \n",
       "    &lt;style&gt;html, body {width: 100%;height: 100%;margin: 0;padding: 0;}&lt;/style&gt;\n",
       "    &lt;style&gt;#map {position:absolute;top:0;bottom:0;right:0;left:0;}&lt;/style&gt;\n",
       "    &lt;script src=&quot;https://cdn.jsdelivr.net/npm/leaflet@1.9.3/dist/leaflet.js&quot;&gt;&lt;/script&gt;\n",
       "    &lt;script src=&quot;https://code.jquery.com/jquery-3.7.1.min.js&quot;&gt;&lt;/script&gt;\n",
       "    &lt;script src=&quot;https://cdn.jsdelivr.net/npm/bootstrap@5.2.2/dist/js/bootstrap.bundle.min.js&quot;&gt;&lt;/script&gt;\n",
       "    &lt;script src=&quot;https://cdnjs.cloudflare.com/ajax/libs/Leaflet.awesome-markers/2.0.2/leaflet.awesome-markers.js&quot;&gt;&lt;/script&gt;\n",
       "    &lt;link rel=&quot;stylesheet&quot; href=&quot;https://cdn.jsdelivr.net/npm/leaflet@1.9.3/dist/leaflet.css&quot;/&gt;\n",
       "    &lt;link rel=&quot;stylesheet&quot; href=&quot;https://cdn.jsdelivr.net/npm/bootstrap@5.2.2/dist/css/bootstrap.min.css&quot;/&gt;\n",
       "    &lt;link rel=&quot;stylesheet&quot; href=&quot;https://netdna.bootstrapcdn.com/bootstrap/3.0.0/css/bootstrap.min.css&quot;/&gt;\n",
       "    &lt;link rel=&quot;stylesheet&quot; href=&quot;https://cdn.jsdelivr.net/npm/@fortawesome/fontawesome-free@6.2.0/css/all.min.css&quot;/&gt;\n",
       "    &lt;link rel=&quot;stylesheet&quot; href=&quot;https://cdnjs.cloudflare.com/ajax/libs/Leaflet.awesome-markers/2.0.2/leaflet.awesome-markers.css&quot;/&gt;\n",
       "    &lt;link rel=&quot;stylesheet&quot; href=&quot;https://cdn.jsdelivr.net/gh/python-visualization/folium/folium/templates/leaflet.awesome.rotate.min.css&quot;/&gt;\n",
       "    \n",
       "            &lt;meta name=&quot;viewport&quot; content=&quot;width=device-width,\n",
       "                initial-scale=1.0, maximum-scale=1.0, user-scalable=no&quot; /&gt;\n",
       "            &lt;style&gt;\n",
       "                #map_a1b2522d195573954f99a8a216bbdbdf {\n",
       "                    position: relative;\n",
       "                    width: 100.0%;\n",
       "                    height: 100.0%;\n",
       "                    left: 0.0%;\n",
       "                    top: 0.0%;\n",
       "                }\n",
       "                .leaflet-container { font-size: 1rem; }\n",
       "            &lt;/style&gt;\n",
       "        \n",
       "&lt;/head&gt;\n",
       "&lt;body&gt;\n",
       "    \n",
       "    \n",
       "            &lt;div class=&quot;folium-map&quot; id=&quot;map_a1b2522d195573954f99a8a216bbdbdf&quot; &gt;&lt;/div&gt;\n",
       "        \n",
       "&lt;/body&gt;\n",
       "&lt;script&gt;\n",
       "    \n",
       "    \n",
       "            var map_a1b2522d195573954f99a8a216bbdbdf = L.map(\n",
       "                &quot;map_a1b2522d195573954f99a8a216bbdbdf&quot;,\n",
       "                {\n",
       "                    center: [36.3398175, 127.3940486],\n",
       "                    crs: L.CRS.EPSG3857,\n",
       "                    zoom: 7,\n",
       "                    zoomControl: true,\n",
       "                    preferCanvas: false,\n",
       "                }\n",
       "            );\n",
       "\n",
       "            \n",
       "\n",
       "        \n",
       "    \n",
       "            var tile_layer_408c0cd199f6738ed7a12477a3d9fddb = L.tileLayer(\n",
       "                &quot;https://tile.openstreetmap.org/{z}/{x}/{y}.png&quot;,\n",
       "                {&quot;attribution&quot;: &quot;\\u0026copy; \\u003ca href=\\&quot;https://www.openstreetmap.org/copyright\\&quot;\\u003eOpenStreetMap\\u003c/a\\u003e contributors&quot;, &quot;detectRetina&quot;: false, &quot;maxNativeZoom&quot;: 19, &quot;maxZoom&quot;: 19, &quot;minZoom&quot;: 0, &quot;noWrap&quot;: false, &quot;opacity&quot;: 1, &quot;subdomains&quot;: &quot;abc&quot;, &quot;tms&quot;: false}\n",
       "            );\n",
       "        \n",
       "    \n",
       "            tile_layer_408c0cd199f6738ed7a12477a3d9fddb.addTo(map_a1b2522d195573954f99a8a216bbdbdf);\n",
       "        \n",
       "&lt;/script&gt;\n",
       "&lt;/html&gt;\" style=\"position:absolute;width:100%;height:100%;left:0;top:0;border:none !important;\" allowfullscreen webkitallowfullscreen mozallowfullscreen></iframe></div></div>"
      ],
      "text/plain": [
       "<folium.folium.Map at 0x1ea00902f50>"
      ]
     },
     "execution_count": 18,
     "metadata": {},
     "output_type": "execute_result"
    }
   ],
   "source": [
    "# (1) 대한민국 위도 경도 설정 하기 (대전광역시 : 36.3398175, 127.3940486): 한눈에 보려고 대전을 중심으로\n",
    "m = folium.Map(location=[36.3398175, 127.3940486], zoom_start=7) \n",
    "m"
   ]
  },
  {
   "cell_type": "code",
   "execution_count": 19,
   "id": "6705a6a6",
   "metadata": {
    "ExecuteTime": {
     "end_time": "2023-12-28T00:29:46.529317Z",
     "start_time": "2023-12-28T00:29:46.487377Z"
    }
   },
   "outputs": [
    {
     "data": {
      "text/html": [
       "<div style=\"width:100%;\"><div style=\"position:relative;width:100%;height:0;padding-bottom:60%;\"><span style=\"color:#565656\">Make this Notebook Trusted to load map: File -> Trust Notebook</span><iframe srcdoc=\"&lt;!DOCTYPE html&gt;\n",
       "&lt;html&gt;\n",
       "&lt;head&gt;\n",
       "    \n",
       "    &lt;meta http-equiv=&quot;content-type&quot; content=&quot;text/html; charset=UTF-8&quot; /&gt;\n",
       "    \n",
       "        &lt;script&gt;\n",
       "            L_NO_TOUCH = false;\n",
       "            L_DISABLE_3D = false;\n",
       "        &lt;/script&gt;\n",
       "    \n",
       "    &lt;style&gt;html, body {width: 100%;height: 100%;margin: 0;padding: 0;}&lt;/style&gt;\n",
       "    &lt;style&gt;#map {position:absolute;top:0;bottom:0;right:0;left:0;}&lt;/style&gt;\n",
       "    &lt;script src=&quot;https://cdn.jsdelivr.net/npm/leaflet@1.9.3/dist/leaflet.js&quot;&gt;&lt;/script&gt;\n",
       "    &lt;script src=&quot;https://code.jquery.com/jquery-3.7.1.min.js&quot;&gt;&lt;/script&gt;\n",
       "    &lt;script src=&quot;https://cdn.jsdelivr.net/npm/bootstrap@5.2.2/dist/js/bootstrap.bundle.min.js&quot;&gt;&lt;/script&gt;\n",
       "    &lt;script src=&quot;https://cdnjs.cloudflare.com/ajax/libs/Leaflet.awesome-markers/2.0.2/leaflet.awesome-markers.js&quot;&gt;&lt;/script&gt;\n",
       "    &lt;link rel=&quot;stylesheet&quot; href=&quot;https://cdn.jsdelivr.net/npm/leaflet@1.9.3/dist/leaflet.css&quot;/&gt;\n",
       "    &lt;link rel=&quot;stylesheet&quot; href=&quot;https://cdn.jsdelivr.net/npm/bootstrap@5.2.2/dist/css/bootstrap.min.css&quot;/&gt;\n",
       "    &lt;link rel=&quot;stylesheet&quot; href=&quot;https://netdna.bootstrapcdn.com/bootstrap/3.0.0/css/bootstrap.min.css&quot;/&gt;\n",
       "    &lt;link rel=&quot;stylesheet&quot; href=&quot;https://cdn.jsdelivr.net/npm/@fortawesome/fontawesome-free@6.2.0/css/all.min.css&quot;/&gt;\n",
       "    &lt;link rel=&quot;stylesheet&quot; href=&quot;https://cdnjs.cloudflare.com/ajax/libs/Leaflet.awesome-markers/2.0.2/leaflet.awesome-markers.css&quot;/&gt;\n",
       "    &lt;link rel=&quot;stylesheet&quot; href=&quot;https://cdn.jsdelivr.net/gh/python-visualization/folium/folium/templates/leaflet.awesome.rotate.min.css&quot;/&gt;\n",
       "    \n",
       "            &lt;meta name=&quot;viewport&quot; content=&quot;width=device-width,\n",
       "                initial-scale=1.0, maximum-scale=1.0, user-scalable=no&quot; /&gt;\n",
       "            &lt;style&gt;\n",
       "                #map_a1b2522d195573954f99a8a216bbdbdf {\n",
       "                    position: relative;\n",
       "                    width: 100.0%;\n",
       "                    height: 100.0%;\n",
       "                    left: 0.0%;\n",
       "                    top: 0.0%;\n",
       "                }\n",
       "                .leaflet-container { font-size: 1rem; }\n",
       "            &lt;/style&gt;\n",
       "        \n",
       "&lt;/head&gt;\n",
       "&lt;body&gt;\n",
       "    \n",
       "    \n",
       "            &lt;div class=&quot;folium-map&quot; id=&quot;map_a1b2522d195573954f99a8a216bbdbdf&quot; &gt;&lt;/div&gt;\n",
       "        \n",
       "&lt;/body&gt;\n",
       "&lt;script&gt;\n",
       "    \n",
       "    \n",
       "            var map_a1b2522d195573954f99a8a216bbdbdf = L.map(\n",
       "                &quot;map_a1b2522d195573954f99a8a216bbdbdf&quot;,\n",
       "                {\n",
       "                    center: [36.3398175, 127.3940486],\n",
       "                    crs: L.CRS.EPSG3857,\n",
       "                    zoom: 7,\n",
       "                    zoomControl: true,\n",
       "                    preferCanvas: false,\n",
       "                }\n",
       "            );\n",
       "\n",
       "            \n",
       "\n",
       "        \n",
       "    \n",
       "            var tile_layer_408c0cd199f6738ed7a12477a3d9fddb = L.tileLayer(\n",
       "                &quot;https://tile.openstreetmap.org/{z}/{x}/{y}.png&quot;,\n",
       "                {&quot;attribution&quot;: &quot;\\u0026copy; \\u003ca href=\\&quot;https://www.openstreetmap.org/copyright\\&quot;\\u003eOpenStreetMap\\u003c/a\\u003e contributors&quot;, &quot;detectRetina&quot;: false, &quot;maxNativeZoom&quot;: 19, &quot;maxZoom&quot;: 19, &quot;minZoom&quot;: 0, &quot;noWrap&quot;: false, &quot;opacity&quot;: 1, &quot;subdomains&quot;: &quot;abc&quot;, &quot;tms&quot;: false}\n",
       "            );\n",
       "        \n",
       "    \n",
       "            tile_layer_408c0cd199f6738ed7a12477a3d9fddb.addTo(map_a1b2522d195573954f99a8a216bbdbdf);\n",
       "        \n",
       "    \n",
       "            tile_layer_408c0cd199f6738ed7a12477a3d9fddb.addTo(map_a1b2522d195573954f99a8a216bbdbdf);\n",
       "        \n",
       "    \n",
       "            var circle_marker_4c741c77c098244196bcd0cb99339c9c = L.circleMarker(\n",
       "                [37.53151, 129.0],\n",
       "                {&quot;bubblingMouseEvents&quot;: true, &quot;color&quot;: &quot;#3388ff&quot;, &quot;dashArray&quot;: null, &quot;dashOffset&quot;: null, &quot;fill&quot;: true, &quot;fillColor&quot;: &quot;#3388ff&quot;, &quot;fillOpacity&quot;: 0.2, &quot;fillRule&quot;: &quot;evenodd&quot;, &quot;lineCap&quot;: &quot;round&quot;, &quot;lineJoin&quot;: &quot;round&quot;, &quot;opacity&quot;: 1.0, &quot;radius&quot;: 5.22, &quot;stroke&quot;: true, &quot;weight&quot;: 3}\n",
       "            ).addTo(map_a1b2522d195573954f99a8a216bbdbdf);\n",
       "        \n",
       "    \n",
       "            var circle_marker_4cde0f31c8ccda119effd862ee8a6be5 = L.circleMarker(\n",
       "                [37.546755, 127.203827],\n",
       "                {&quot;bubblingMouseEvents&quot;: true, &quot;color&quot;: &quot;#3388ff&quot;, &quot;dashArray&quot;: null, &quot;dashOffset&quot;: null, &quot;fill&quot;: true, &quot;fillColor&quot;: &quot;#3388ff&quot;, &quot;fillOpacity&quot;: 0.2, &quot;fillRule&quot;: &quot;evenodd&quot;, &quot;lineCap&quot;: &quot;round&quot;, &quot;lineJoin&quot;: &quot;round&quot;, &quot;opacity&quot;: 1.0, &quot;radius&quot;: 16.08, &quot;stroke&quot;: true, &quot;weight&quot;: 3}\n",
       "            ).addTo(map_a1b2522d195573954f99a8a216bbdbdf);\n",
       "        \n",
       "    \n",
       "            var circle_marker_f2cc5e30b4ac5db9460c95ed2dce2949 = L.circleMarker(\n",
       "                [35.556809, 129.247284],\n",
       "                {&quot;bubblingMouseEvents&quot;: true, &quot;color&quot;: &quot;#3388ff&quot;, &quot;dashArray&quot;: null, &quot;dashOffset&quot;: null, &quot;fill&quot;: true, &quot;fillColor&quot;: &quot;#3388ff&quot;, &quot;fillOpacity&quot;: 0.2, &quot;fillRule&quot;: &quot;evenodd&quot;, &quot;lineCap&quot;: &quot;round&quot;, &quot;lineJoin&quot;: &quot;round&quot;, &quot;opacity&quot;: 1.0, &quot;radius&quot;: 1.58, &quot;stroke&quot;: true, &quot;weight&quot;: 3}\n",
       "            ).addTo(map_a1b2522d195573954f99a8a216bbdbdf);\n",
       "        \n",
       "    \n",
       "            var circle_marker_2226a8db1b8c762b5e0b9fa3c99c27f1 = L.circleMarker(\n",
       "                [36.129002, 128.343658],\n",
       "                {&quot;bubblingMouseEvents&quot;: true, &quot;color&quot;: &quot;#3388ff&quot;, &quot;dashArray&quot;: null, &quot;dashOffset&quot;: null, &quot;fill&quot;: true, &quot;fillColor&quot;: &quot;#3388ff&quot;, &quot;fillOpacity&quot;: 0.2, &quot;fillRule&quot;: &quot;evenodd&quot;, &quot;lineCap&quot;: &quot;round&quot;, &quot;lineJoin&quot;: &quot;round&quot;, &quot;opacity&quot;: 1.0, &quot;radius&quot;: 1.7, &quot;stroke&quot;: true, &quot;weight&quot;: 3}\n",
       "            ).addTo(map_a1b2522d195573954f99a8a216bbdbdf);\n",
       "        \n",
       "    \n",
       "            var circle_marker_02c72051a2ea70bf60db281eb10c563a = L.circleMarker(\n",
       "                [36.084621, 126.951141],\n",
       "                {&quot;bubblingMouseEvents&quot;: true, &quot;color&quot;: &quot;#3388ff&quot;, &quot;dashArray&quot;: null, &quot;dashOffset&quot;: null, &quot;fill&quot;: true, &quot;fillColor&quot;: &quot;#3388ff&quot;, &quot;fillOpacity&quot;: 0.2, &quot;fillRule&quot;: &quot;evenodd&quot;, &quot;lineCap&quot;: &quot;round&quot;, &quot;lineJoin&quot;: &quot;round&quot;, &quot;opacity&quot;: 1.0, &quot;radius&quot;: 11.3, &quot;stroke&quot;: true, &quot;weight&quot;: 3}\n",
       "            ).addTo(map_a1b2522d195573954f99a8a216bbdbdf);\n",
       "        \n",
       "    \n",
       "            var circle_marker_ef98110260a5f4aefd316ec0d722ca12 = L.circleMarker(\n",
       "                [36.348315, 127.390594],\n",
       "                {&quot;bubblingMouseEvents&quot;: true, &quot;color&quot;: &quot;#3388ff&quot;, &quot;dashArray&quot;: null, &quot;dashOffset&quot;: null, &quot;fill&quot;: true, &quot;fillColor&quot;: &quot;#3388ff&quot;, &quot;fillOpacity&quot;: 0.2, &quot;fillRule&quot;: &quot;evenodd&quot;, &quot;lineCap&quot;: &quot;round&quot;, &quot;lineJoin&quot;: &quot;round&quot;, &quot;opacity&quot;: 1.0, &quot;radius&quot;: 24.76, &quot;stroke&quot;: true, &quot;weight&quot;: 3}\n",
       "            ).addTo(map_a1b2522d195573954f99a8a216bbdbdf);\n",
       "        \n",
       "    \n",
       "            var circle_marker_c3d623f5afb3ce8930b8b31559bc44cb = L.circleMarker(\n",
       "                [35.179554, 129.0756416],\n",
       "                {&quot;bubblingMouseEvents&quot;: true, &quot;color&quot;: &quot;#3388ff&quot;, &quot;dashArray&quot;: null, &quot;dashOffset&quot;: null, &quot;fill&quot;: true, &quot;fillColor&quot;: &quot;#3388ff&quot;, &quot;fillOpacity&quot;: 0.2, &quot;fillRule&quot;: &quot;evenodd&quot;, &quot;lineCap&quot;: &quot;round&quot;, &quot;lineJoin&quot;: &quot;round&quot;, &quot;opacity&quot;: 1.0, &quot;radius&quot;: 23.24, &quot;stroke&quot;: true, &quot;weight&quot;: 3}\n",
       "            ).addTo(map_a1b2522d195573954f99a8a216bbdbdf);\n",
       "        \n",
       "    \n",
       "            var circle_marker_47dba961002fbd4393a4b0bbcc82743e = L.circleMarker(\n",
       "                [37.487935, 126.857758],\n",
       "                {&quot;bubblingMouseEvents&quot;: true, &quot;color&quot;: &quot;#3388ff&quot;, &quot;dashArray&quot;: null, &quot;dashOffset&quot;: null, &quot;fill&quot;: true, &quot;fillColor&quot;: &quot;#3388ff&quot;, &quot;fillOpacity&quot;: 0.2, &quot;fillRule&quot;: &quot;evenodd&quot;, &quot;lineCap&quot;: &quot;round&quot;, &quot;lineJoin&quot;: &quot;round&quot;, &quot;opacity&quot;: 1.0, &quot;radius&quot;: 105.92, &quot;stroke&quot;: true, &quot;weight&quot;: 3}\n",
       "            ).addTo(map_a1b2522d195573954f99a8a216bbdbdf);\n",
       "        \n",
       "    \n",
       "            var circle_marker_b8be73e02c86f383505643b66af1d4b4 = L.circleMarker(\n",
       "                [36.56, 127.278],\n",
       "                {&quot;bubblingMouseEvents&quot;: true, &quot;color&quot;: &quot;#3388ff&quot;, &quot;dashArray&quot;: null, &quot;dashOffset&quot;: null, &quot;fill&quot;: true, &quot;fillColor&quot;: &quot;#3388ff&quot;, &quot;fillOpacity&quot;: 0.2, &quot;fillRule&quot;: &quot;evenodd&quot;, &quot;lineCap&quot;: &quot;round&quot;, &quot;lineJoin&quot;: &quot;round&quot;, &quot;opacity&quot;: 1.0, &quot;radius&quot;: 8.92, &quot;stroke&quot;: true, &quot;weight&quot;: 3}\n",
       "            ).addTo(map_a1b2522d195573954f99a8a216bbdbdf);\n",
       "        \n",
       "    \n",
       "            var circle_marker_335384d76ef1c257fe677476240cb66d = L.circleMarker(\n",
       "                [35.574683, 126.852264],\n",
       "                {&quot;bubblingMouseEvents&quot;: true, &quot;color&quot;: &quot;#3388ff&quot;, &quot;dashArray&quot;: null, &quot;dashOffset&quot;: null, &quot;fill&quot;: true, &quot;fillColor&quot;: &quot;#3388ff&quot;, &quot;fillOpacity&quot;: 0.2, &quot;fillRule&quot;: &quot;evenodd&quot;, &quot;lineCap&quot;: &quot;round&quot;, &quot;lineJoin&quot;: &quot;round&quot;, &quot;opacity&quot;: 1.0, &quot;radius&quot;: 3.2, &quot;stroke&quot;: true, &quot;weight&quot;: 3}\n",
       "            ).addTo(map_a1b2522d195573954f99a8a216bbdbdf);\n",
       "        \n",
       "    \n",
       "            var circle_marker_e254dff5cb8f2401fb4d18fb0f66e1ca = L.circleMarker(\n",
       "                [33.4996213, 126.5311884],\n",
       "                {&quot;bubblingMouseEvents&quot;: true, &quot;color&quot;: &quot;#3388ff&quot;, &quot;dashArray&quot;: null, &quot;dashOffset&quot;: null, &quot;fill&quot;: true, &quot;fillColor&quot;: &quot;#3388ff&quot;, &quot;fillOpacity&quot;: 0.2, &quot;fillRule&quot;: &quot;evenodd&quot;, &quot;lineCap&quot;: &quot;round&quot;, &quot;lineJoin&quot;: &quot;round&quot;, &quot;opacity&quot;: 1.0, &quot;radius&quot;: 6.28, &quot;stroke&quot;: true, &quot;weight&quot;: 3}\n",
       "            ).addTo(map_a1b2522d195573954f99a8a216bbdbdf);\n",
       "        \n",
       "    \n",
       "            var circle_marker_8e08f14e6e576c32b3cdbc4dafae8da8 = L.circleMarker(\n",
       "                [37.885693, 127.733917],\n",
       "                {&quot;bubblingMouseEvents&quot;: true, &quot;color&quot;: &quot;#3388ff&quot;, &quot;dashArray&quot;: null, &quot;dashOffset&quot;: null, &quot;fill&quot;: true, &quot;fillColor&quot;: &quot;#3388ff&quot;, &quot;fillOpacity&quot;: 0.2, &quot;fillRule&quot;: &quot;evenodd&quot;, &quot;lineCap&quot;: &quot;round&quot;, &quot;lineJoin&quot;: &quot;round&quot;, &quot;opacity&quot;: 1.0, &quot;radius&quot;: 3.9, &quot;stroke&quot;: true, &quot;weight&quot;: 3}\n",
       "            ).addTo(map_a1b2522d195573954f99a8a216bbdbdf);\n",
       "        \n",
       "&lt;/script&gt;\n",
       "&lt;/html&gt;\" style=\"position:absolute;width:100%;height:100%;left:0;top:0;border:none !important;\" allowfullscreen webkitallowfullscreen mozallowfullscreen></iframe></div></div>"
      ],
      "text/plain": [
       "<folium.folium.Map at 0x1ea00902f50>"
      ]
     },
     "execution_count": 19,
     "metadata": {},
     "output_type": "execute_result"
    }
   ],
   "source": [
    "# (2) 가공한 데이터를 반복문 으로 읽어서 지도에 찍어주기\n",
    "for n in result.index:\n",
    "  radius = result.loc[n,'user_id'] #사용자 수를 버블 크기로\n",
    "\t#loc[n,\"열 이름\"]  => loc[]를 활용하여 n번째의 열을 조회 할수 있습니다!\n",
    "\t#즉, n번(지역)의 user의 수를 가져 올수 있는 것이죠!\n",
    "  folium.CircleMarker([result['latitude'][n], result['longitude'][n]],\n",
    "                        radius = radius/50, fill=True).add_to(m) #50 정해진 것x\n",
    "\t#.add_to(m)를 활용하여, 지정해 두었던 우리나라의 지도를 가져올 수 있습니다!\n",
    "m"
   ]
  },
  {
   "cell_type": "markdown",
   "id": "913e15db",
   "metadata": {},
   "source": [
    "# Quiz : 최적의 질의응답 시간대를 찾아라!\n",
    "이스트소프트 WASSUP은 멘토님들이 실시간으로 질문에 답변을 해주는 “질의응답”을 운영하고 있습니다.\n",
    "\n",
    "우리는 수강생의 질의응답의 수요가 많은 요일을 알아내서\n",
    "\n",
    "멘토님의 수를 요일에 따라 적절히 배치하고 싶은데요.\n",
    "\n",
    "질의응답은 궁금한 점을 멘토님께 질문하고 답을 얻는 시간이기 때문에,\n",
    "\n",
    "많은 수강생들의 수강이 완료되는 시점을 아는 것이 중요합니다!\n",
    "\n",
    "팀장님께서\n",
    "\n",
    "“수강생들의 수업 완료 시간대는 주로 한가한 주말일 것이다” 라는 가설을 세웠습니다.\n",
    "\n",
    "이 가설을 증명을 해봅시다."
   ]
  },
  {
   "cell_type": "markdown",
   "id": "a22941bb",
   "metadata": {},
   "source": [
    "- 요일, 질문수\n",
    "- 화요일 저녁에 질문이 많았다면, 누적이 되니 다음날에 배치를 해야함"
   ]
  },
  {
   "cell_type": "code",
   "execution_count": 21,
   "id": "f6f4f24f",
   "metadata": {
    "ExecuteTime": {
     "end_time": "2023-12-28T00:36:44.714433Z",
     "start_time": "2023-12-28T00:36:44.605798Z"
    }
   },
   "outputs": [],
   "source": [
    "import pandas as pd\n",
    "done_data = pd.read_table('data/done_detail.csv', sep=',')"
   ]
  },
  {
   "cell_type": "code",
   "execution_count": 24,
   "id": "76511696",
   "metadata": {
    "ExecuteTime": {
     "end_time": "2023-12-28T00:37:19.812378Z",
     "start_time": "2023-12-28T00:37:19.798262Z"
    }
   },
   "outputs": [
    {
     "data": {
      "text/html": [
       "<div>\n",
       "<style scoped>\n",
       "    .dataframe tbody tr th:only-of-type {\n",
       "        vertical-align: middle;\n",
       "    }\n",
       "\n",
       "    .dataframe tbody tr th {\n",
       "        vertical-align: top;\n",
       "    }\n",
       "\n",
       "    .dataframe thead th {\n",
       "        text-align: right;\n",
       "    }\n",
       "</style>\n",
       "<table border=\"1\" class=\"dataframe\">\n",
       "  <thead>\n",
       "    <tr style=\"text-align: right;\">\n",
       "      <th></th>\n",
       "      <th>lecture_id</th>\n",
       "      <th>done_date</th>\n",
       "      <th>user_id</th>\n",
       "    </tr>\n",
       "  </thead>\n",
       "  <tbody>\n",
       "    <tr>\n",
       "      <th>0</th>\n",
       "      <td>5f266927e67b8fcf4340c08e</td>\n",
       "      <td>2020-08-07 12:02:16</td>\n",
       "      <td>78ff837c7cea9f33</td>\n",
       "    </tr>\n",
       "    <tr>\n",
       "      <th>1</th>\n",
       "      <td>5f266927e67b8fcf4340c08b</td>\n",
       "      <td>2020-08-08 1:14:59</td>\n",
       "      <td>2987aa87d23c9e3d</td>\n",
       "    </tr>\n",
       "    <tr>\n",
       "      <th>2</th>\n",
       "      <td>5f266927e67b8fcf4340c090</td>\n",
       "      <td>2020-08-17 17:10:49</td>\n",
       "      <td>23182525e9996864</td>\n",
       "    </tr>\n",
       "    <tr>\n",
       "      <th>3</th>\n",
       "      <td>5f35370cf9b9ed3dee7f1b72</td>\n",
       "      <td>2020-08-30 23:42:58</td>\n",
       "      <td>ffb6913842d617a5</td>\n",
       "    </tr>\n",
       "    <tr>\n",
       "      <th>4</th>\n",
       "      <td>5f35370cf9b9ed3dee7f1b6e</td>\n",
       "      <td>2020-08-25 16:56:15</td>\n",
       "      <td>2c6822e7e833dc95</td>\n",
       "    </tr>\n",
       "  </tbody>\n",
       "</table>\n",
       "</div>"
      ],
      "text/plain": [
       "                 lecture_id            done_date           user_id\n",
       "0  5f266927e67b8fcf4340c08e  2020-08-07 12:02:16  78ff837c7cea9f33\n",
       "1  5f266927e67b8fcf4340c08b   2020-08-08 1:14:59  2987aa87d23c9e3d\n",
       "2  5f266927e67b8fcf4340c090  2020-08-17 17:10:49  23182525e9996864\n",
       "3  5f35370cf9b9ed3dee7f1b72  2020-08-30 23:42:58  ffb6913842d617a5\n",
       "4  5f35370cf9b9ed3dee7f1b6e  2020-08-25 16:56:15  2c6822e7e833dc95"
      ]
     },
     "execution_count": 24,
     "metadata": {},
     "output_type": "execute_result"
    }
   ],
   "source": [
    "done_data.head()"
   ]
  },
  {
   "cell_type": "code",
   "execution_count": 25,
   "id": "8423ecbf",
   "metadata": {
    "ExecuteTime": {
     "end_time": "2023-12-28T00:37:23.004285Z",
     "start_time": "2023-12-28T00:37:22.985796Z"
    },
    "scrolled": true
   },
   "outputs": [
    {
     "name": "stdout",
     "output_type": "stream",
     "text": [
      "<class 'pandas.core.frame.DataFrame'>\n",
      "RangeIndex: 8128 entries, 0 to 8127\n",
      "Data columns (total 3 columns):\n",
      " #   Column      Non-Null Count  Dtype \n",
      "---  ------      --------------  ----- \n",
      " 0   lecture_id  8128 non-null   object\n",
      " 1   done_date   8128 non-null   object\n",
      " 2   user_id     8128 non-null   object\n",
      "dtypes: object(3)\n",
      "memory usage: 190.6+ KB\n"
     ]
    }
   ],
   "source": [
    "done_data.info()"
   ]
  },
  {
   "cell_type": "code",
   "execution_count": 26,
   "id": "5eb6b86d",
   "metadata": {
    "ExecuteTime": {
     "end_time": "2023-12-28T00:37:41.531183Z",
     "start_time": "2023-12-28T00:37:41.498780Z"
    }
   },
   "outputs": [
    {
     "data": {
      "text/html": [
       "<div>\n",
       "<style scoped>\n",
       "    .dataframe tbody tr th:only-of-type {\n",
       "        vertical-align: middle;\n",
       "    }\n",
       "\n",
       "    .dataframe tbody tr th {\n",
       "        vertical-align: top;\n",
       "    }\n",
       "\n",
       "    .dataframe thead th {\n",
       "        text-align: right;\n",
       "    }\n",
       "</style>\n",
       "<table border=\"1\" class=\"dataframe\">\n",
       "  <thead>\n",
       "    <tr style=\"text-align: right;\">\n",
       "      <th></th>\n",
       "      <th>lecture_id</th>\n",
       "      <th>done_date</th>\n",
       "      <th>user_id</th>\n",
       "    </tr>\n",
       "  </thead>\n",
       "  <tbody>\n",
       "    <tr>\n",
       "      <th>count</th>\n",
       "      <td>8128</td>\n",
       "      <td>8128</td>\n",
       "      <td>8128</td>\n",
       "    </tr>\n",
       "    <tr>\n",
       "      <th>unique</th>\n",
       "      <td>77</td>\n",
       "      <td>7420</td>\n",
       "      <td>8128</td>\n",
       "    </tr>\n",
       "    <tr>\n",
       "      <th>top</th>\n",
       "      <td>5f266927e67b8fcf4340c087</td>\n",
       "      <td>2020-08-18 18:12:41</td>\n",
       "      <td>78ff837c7cea9f33</td>\n",
       "    </tr>\n",
       "    <tr>\n",
       "      <th>freq</th>\n",
       "      <td>157</td>\n",
       "      <td>112</td>\n",
       "      <td>1</td>\n",
       "    </tr>\n",
       "  </tbody>\n",
       "</table>\n",
       "</div>"
      ],
      "text/plain": [
       "                      lecture_id            done_date           user_id\n",
       "count                       8128                 8128              8128\n",
       "unique                        77                 7420              8128\n",
       "top     5f266927e67b8fcf4340c087  2020-08-18 18:12:41  78ff837c7cea9f33\n",
       "freq                         157                  112                 1"
      ]
     },
     "execution_count": 26,
     "metadata": {},
     "output_type": "execute_result"
    }
   ],
   "source": [
    "done_data.describe() #기초 정보를 요약해서 보여줌"
   ]
  },
  {
   "cell_type": "code",
   "execution_count": null,
   "id": "16cc2ee8",
   "metadata": {},
   "outputs": [],
   "source": []
  },
  {
   "cell_type": "code",
   "execution_count": null,
   "id": "65a14b8f",
   "metadata": {},
   "outputs": [],
   "source": []
  },
  {
   "cell_type": "markdown",
   "id": "6b1cee49",
   "metadata": {},
   "source": [
    "데이터 분석 프로젝트 2차\n",
    "지금까지는 주어진 상황에 맞게 데이터로 검증을 하는 연습을 했다면\n",
    "이번주부터는 한걸음 더 나아가서 직접 가설을 세워보고 그걸 검증하는 연습을 해볼거예요!\n",
    "\n",
    "# 목표만 주는 경우가 많은데, 배경을 파악하는 것이 중요하다."
   ]
  },
  {
   "cell_type": "code",
   "execution_count": 27,
   "id": "0d355067",
   "metadata": {
    "ExecuteTime": {
     "end_time": "2023-12-28T00:47:38.601583Z",
     "start_time": "2023-12-28T00:47:38.515290Z"
    }
   },
   "outputs": [],
   "source": [
    "import pandas as pd\n",
    "user_data = pd.read_csv('data/user_db.csv')"
   ]
  },
  {
   "cell_type": "code",
   "execution_count": 28,
   "id": "a6c63d7c",
   "metadata": {
    "ExecuteTime": {
     "end_time": "2023-12-28T00:47:42.390062Z",
     "start_time": "2023-12-28T00:47:42.372752Z"
    }
   },
   "outputs": [
    {
     "data": {
      "text/html": [
       "<div>\n",
       "<style scoped>\n",
       "    .dataframe tbody tr th:only-of-type {\n",
       "        vertical-align: middle;\n",
       "    }\n",
       "\n",
       "    .dataframe tbody tr th {\n",
       "        vertical-align: top;\n",
       "    }\n",
       "\n",
       "    .dataframe thead th {\n",
       "        text-align: right;\n",
       "    }\n",
       "</style>\n",
       "<table border=\"1\" class=\"dataframe\">\n",
       "  <thead>\n",
       "    <tr style=\"text-align: right;\">\n",
       "      <th></th>\n",
       "      <th>user_id</th>\n",
       "      <th>gender</th>\n",
       "      <th>area</th>\n",
       "      <th>age</th>\n",
       "      <th>access_media</th>\n",
       "      <th>group</th>\n",
       "      <th>discounted</th>\n",
       "    </tr>\n",
       "  </thead>\n",
       "  <tbody>\n",
       "    <tr>\n",
       "      <th>8123</th>\n",
       "      <td>6da398d852411234</td>\n",
       "      <td>여</td>\n",
       "      <td>은평구</td>\n",
       "      <td>30</td>\n",
       "      <td>지인추천</td>\n",
       "      <td>0</td>\n",
       "      <td>NaN</td>\n",
       "    </tr>\n",
       "    <tr>\n",
       "      <th>8124</th>\n",
       "      <td>6da398d852411235</td>\n",
       "      <td>남</td>\n",
       "      <td>강서구</td>\n",
       "      <td>30</td>\n",
       "      <td>검색</td>\n",
       "      <td>0</td>\n",
       "      <td>NaN</td>\n",
       "    </tr>\n",
       "    <tr>\n",
       "      <th>8125</th>\n",
       "      <td>6da398d852411236</td>\n",
       "      <td>여</td>\n",
       "      <td>용산구</td>\n",
       "      <td>20</td>\n",
       "      <td>인스타그램</td>\n",
       "      <td>0</td>\n",
       "      <td>NaN</td>\n",
       "    </tr>\n",
       "    <tr>\n",
       "      <th>8126</th>\n",
       "      <td>6da398d852411237</td>\n",
       "      <td>남</td>\n",
       "      <td>광진구</td>\n",
       "      <td>30</td>\n",
       "      <td>네이버</td>\n",
       "      <td>0</td>\n",
       "      <td>NaN</td>\n",
       "    </tr>\n",
       "    <tr>\n",
       "      <th>8127</th>\n",
       "      <td>6da398d852411238</td>\n",
       "      <td>여</td>\n",
       "      <td>도봉구</td>\n",
       "      <td>20</td>\n",
       "      <td>인스타그램</td>\n",
       "      <td>0</td>\n",
       "      <td>NaN</td>\n",
       "    </tr>\n",
       "  </tbody>\n",
       "</table>\n",
       "</div>"
      ],
      "text/plain": [
       "               user_id gender area  age access_media  group  discounted\n",
       "8123  6da398d852411234      여  은평구   30         지인추천      0         NaN\n",
       "8124  6da398d852411235      남  강서구   30           검색      0         NaN\n",
       "8125  6da398d852411236      여  용산구   20        인스타그램      0         NaN\n",
       "8126  6da398d852411237      남  광진구   30          네이버      0         NaN\n",
       "8127  6da398d852411238      여  도봉구   20        인스타그램      0         NaN"
      ]
     },
     "execution_count": 28,
     "metadata": {},
     "output_type": "execute_result"
    }
   ],
   "source": [
    "#표의 상단 5개 데이터 읽기. 무슨 정보가 있는지 파악해보기\n",
    "user_data.head()\n",
    "\n",
    "#표의 마지막 5개의 정보를 보려면, tail()이라는 것도 이용할 수 있어요! \n",
    "user_data.tail()\n",
    "\n",
    "#우리에게 필요한 건 id와 경로: 데이터가 많은 게 중요하지x 필요한 정보를 잘 찾아 쓰기\n",
    "#기획자가 여러번 요청하니까 개발자가 유저 데이터를 통째로 주는 경우가 있음"
   ]
  },
  {
   "cell_type": "code",
   "execution_count": 29,
   "id": "293c00f2",
   "metadata": {
    "ExecuteTime": {
     "end_time": "2023-12-28T00:50:16.234800Z",
     "start_time": "2023-12-28T00:50:16.216808Z"
    }
   },
   "outputs": [
    {
     "name": "stdout",
     "output_type": "stream",
     "text": [
      "<class 'pandas.core.frame.DataFrame'>\n",
      "RangeIndex: 8128 entries, 0 to 8127\n",
      "Data columns (total 7 columns):\n",
      " #   Column        Non-Null Count  Dtype  \n",
      "---  ------        --------------  -----  \n",
      " 0   user_id       8128 non-null   object \n",
      " 1   gender        8128 non-null   object \n",
      " 2   area          8128 non-null   object \n",
      " 3   age           8128 non-null   int64  \n",
      " 4   access_media  8128 non-null   object \n",
      " 5   group         8128 non-null   int64  \n",
      " 6   discounted    5654 non-null   float64\n",
      "dtypes: float64(1), int64(2), object(4)\n",
      "memory usage: 444.6+ KB\n"
     ]
    }
   ],
   "source": [
    "# 결측치 체크\n",
    "user_data.info()"
   ]
  },
  {
   "cell_type": "code",
   "execution_count": 30,
   "id": "a16612e5",
   "metadata": {
    "ExecuteTime": {
     "end_time": "2023-12-28T01:08:35.409534Z",
     "start_time": "2023-12-28T01:08:35.397277Z"
    }
   },
   "outputs": [
    {
     "data": {
      "text/plain": [
       "user_id            0\n",
       "gender             0\n",
       "area               0\n",
       "age                0\n",
       "access_media       0\n",
       "group              0\n",
       "discounted      2474\n",
       "dtype: int64"
      ]
     },
     "execution_count": 30,
     "metadata": {},
     "output_type": "execute_result"
    }
   ],
   "source": [
    "# 결측치 확인하기\n",
    "user_data.isnull().sum()"
   ]
  },
  {
   "cell_type": "code",
   "execution_count": 31,
   "id": "07857577",
   "metadata": {
    "ExecuteTime": {
     "end_time": "2023-12-28T01:16:13.985954Z",
     "start_time": "2023-12-28T01:16:13.963360Z"
    }
   },
   "outputs": [
    {
     "name": "stdout",
     "output_type": "stream",
     "text": [
      "<class 'pandas.core.frame.DataFrame'>\n",
      "Index: 5654 entries, 0 to 5653\n",
      "Data columns (total 7 columns):\n",
      " #   Column        Non-Null Count  Dtype  \n",
      "---  ------        --------------  -----  \n",
      " 0   user_id       5654 non-null   object \n",
      " 1   gender        5654 non-null   object \n",
      " 2   area          5654 non-null   object \n",
      " 3   age           5654 non-null   int64  \n",
      " 4   access_media  5654 non-null   object \n",
      " 5   group         5654 non-null   int64  \n",
      " 6   discounted    5654 non-null   float64\n",
      "dtypes: float64(1), int64(2), object(4)\n",
      "memory usage: 353.4+ KB\n"
     ]
    }
   ],
   "source": [
    "# 결측치 제거하기(주의): 답은 없다. 결측치를 빼는게 맞는지 넣는게 맞는지. 여러 결론을 도출하고 그중 채택해야함\n",
    "user_data = user_data.dropna() # 빈데이터가 존재하는 행 제거\n",
    "user_data.info()"
   ]
  },
  {
   "cell_type": "code",
   "execution_count": 32,
   "id": "f6ac9295",
   "metadata": {
    "ExecuteTime": {
     "end_time": "2023-12-28T01:16:45.945659Z",
     "start_time": "2023-12-28T01:16:45.935663Z"
    }
   },
   "outputs": [
    {
     "data": {
      "text/plain": [
       "access_media\n",
       "검색          537\n",
       "네이버         884\n",
       "에브리타임       547\n",
       "오프라인 광고     260\n",
       "인스타그램      1711\n",
       "지인추천        566\n",
       "페이스북       1149\n",
       "Name: user_id, dtype: int64"
      ]
     },
     "execution_count": 32,
     "metadata": {},
     "output_type": "execute_result"
    }
   ],
   "source": [
    "#수업 신청 경로 기준 수강생수 \n",
    "access_media = user_data.groupby('access_media')['user_id'].count()\n",
    "access_media"
   ]
  },
  {
   "cell_type": "code",
   "execution_count": 33,
   "id": "8d0055ca",
   "metadata": {
    "ExecuteTime": {
     "end_time": "2023-12-28T01:16:59.994688Z",
     "start_time": "2023-12-28T01:16:59.645746Z"
    }
   },
   "outputs": [
    {
     "data": {
      "image/png": "[encoded data removed]",
      "text/plain": [
       "<Figure size 600x600 with 1 Axes>"
      ]
     },
     "metadata": {},
     "output_type": "display_data"
    }
   ],
   "source": [
    "# 바그래프 그리기 \n",
    "\n",
    "#plt.figure(width, height) \n",
    "plt.figure(figsize=(6,6))\n",
    "\n",
    "#각각 어떤 값이 들어가야 하는지 입력해 볼까요?\n",
    "#plt.bar(X축값, Y축값)\n",
    "plt.bar(access_media.index , access_media.values)\n",
    "# plt.bar(access_media.index, access_media.values, color = ['gold', 'b', '#FF0000', 'green','orange','red','#000000'], alpha = 0.3)\n",
    "\n",
    "#그래프의 제목\n",
    "plt.title('수강생 별 수강 신청 경로')\n",
    "\n",
    "#그래프의 x축 라벨 이름\n",
    "plt.xlabel('수강 신청 경로')\n",
    "\n",
    "#그래프의 y축 라벨 이름\n",
    "plt.ylabel('수강생 수')\n",
    "\n",
    "#x축 눈금의 글씨의 각도 변경을 위해 plt.xticks(rotation=\"원하는 각도\")를 이용해요!\n",
    "#x축 눈금의 글씨를 45도 회전\n",
    "plt.xticks(rotation=45)\n",
    "\n",
    "#그래프를 화면에 나타나도록 합니다.\n",
    "plt.show()"
   ]
  },
  {
   "cell_type": "markdown",
   "id": "70dd8923",
   "metadata": {},
   "source": [
    "# 오프라인 빼고 인스타x2하면 50%오를 것이다"
   ]
  },
  {
   "cell_type": "markdown",
   "id": "44dbbdc0",
   "metadata": {},
   "source": [
    "데이터 분석 프로젝트 3차\n",
    "패키지 상품 기획하기\n",
    "배경 및 가설 세우기\n",
    "[상황]\n",
    "문제 파악 : 현재 AI기획강의가 다른 패키지에 포함되어 있는 강의들보다 구매 전환율이 저조한 상황입니다\n",
    "\n",
    "추가 정보 : 이전의 웹개발강의와 SQL강의의 패키지 상품을 기획하여 기존 대비 각각 40%의 구매 전환율이 높아진 사례가 있습니다\n",
    "\n",
    "원하는 결과 : 매력적인 패키지 상품을 기획하여 AI기획강의의 구매 전환율을 더욱 높이고자합니다.\n",
    "\n",
    "문제 해결을 위해 세운 가설 확인하기 (자유롭게 고민해봅시다!)\n",
    "AI기획강의을 산 인원 중 가장 많은 인원이 동시에 구입한 강의로 패키지를 기획해 판매한다면 약 30%의 구매 전환율을 높일 수 있을 것이다.\n",
    "AI기획강의를 수강한 사람은 이스트소프트 WASSUP에서 가장 인기 있는 웹개발강의를 가장 많이 신청 했을 것이다.\n",
    "위 2개 강의들로 패키지를 구성하는 것이 AI기획강의의 구매 전환율을 가장 높일 수 있을 것이다.**\n",
    "그럼 데이터분석은 무얼 먼저 해보아야 할까요? 기존에 AI기획강의를 어떤 강의와 함께 많이 구매했는지 확인해보아야겠네요!\n",
    "AI기획강의를 재구매로 선택하는 내부 고객군을 찾아라!"
   ]
  },
  {
   "cell_type": "code",
   "execution_count": 34,
   "id": "5f51c811",
   "metadata": {
    "ExecuteTime": {
     "end_time": "2023-12-28T01:33:44.341161Z",
     "start_time": "2023-12-28T01:33:44.275123Z"
    }
   },
   "outputs": [
    {
     "data": {
      "text/html": [
       "<div>\n",
       "<style scoped>\n",
       "    .dataframe tbody tr th:only-of-type {\n",
       "        vertical-align: middle;\n",
       "    }\n",
       "\n",
       "    .dataframe tbody tr th {\n",
       "        vertical-align: top;\n",
       "    }\n",
       "\n",
       "    .dataframe thead th {\n",
       "        text-align: right;\n",
       "    }\n",
       "</style>\n",
       "<table border=\"1\" class=\"dataframe\">\n",
       "  <thead>\n",
       "    <tr style=\"text-align: right;\">\n",
       "      <th></th>\n",
       "      <th>user_id</th>\n",
       "      <th>web</th>\n",
       "      <th>app</th>\n",
       "      <th>sql</th>\n",
       "      <th>web.1</th>\n",
       "    </tr>\n",
       "  </thead>\n",
       "  <tbody>\n",
       "    <tr>\n",
       "      <th>0</th>\n",
       "      <td>78ff837c7cea9f33</td>\n",
       "      <td>0</td>\n",
       "      <td>0</td>\n",
       "      <td>0</td>\n",
       "      <td>NaN</td>\n",
       "    </tr>\n",
       "    <tr>\n",
       "      <th>1</th>\n",
       "      <td>2987aa87d23c9e3d</td>\n",
       "      <td>0</td>\n",
       "      <td>0</td>\n",
       "      <td>0</td>\n",
       "      <td>NaN</td>\n",
       "    </tr>\n",
       "    <tr>\n",
       "      <th>2</th>\n",
       "      <td>23182525e9996864</td>\n",
       "      <td>1</td>\n",
       "      <td>1</td>\n",
       "      <td>1</td>\n",
       "      <td>NaN</td>\n",
       "    </tr>\n",
       "    <tr>\n",
       "      <th>3</th>\n",
       "      <td>ffb6913842d617a5</td>\n",
       "      <td>0</td>\n",
       "      <td>0</td>\n",
       "      <td>0</td>\n",
       "      <td>NaN</td>\n",
       "    </tr>\n",
       "    <tr>\n",
       "      <th>4</th>\n",
       "      <td>2c6822e7e833dc95</td>\n",
       "      <td>0</td>\n",
       "      <td>0</td>\n",
       "      <td>0</td>\n",
       "      <td>NaN</td>\n",
       "    </tr>\n",
       "    <tr>\n",
       "      <th>...</th>\n",
       "      <td>...</td>\n",
       "      <td>...</td>\n",
       "      <td>...</td>\n",
       "      <td>...</td>\n",
       "      <td>...</td>\n",
       "    </tr>\n",
       "    <tr>\n",
       "      <th>8123</th>\n",
       "      <td>6da398d852411234</td>\n",
       "      <td>0</td>\n",
       "      <td>0</td>\n",
       "      <td>0</td>\n",
       "      <td>NaN</td>\n",
       "    </tr>\n",
       "    <tr>\n",
       "      <th>8124</th>\n",
       "      <td>6da398d852411235</td>\n",
       "      <td>0</td>\n",
       "      <td>0</td>\n",
       "      <td>0</td>\n",
       "      <td>NaN</td>\n",
       "    </tr>\n",
       "    <tr>\n",
       "      <th>8125</th>\n",
       "      <td>6da398d852411236</td>\n",
       "      <td>0</td>\n",
       "      <td>0</td>\n",
       "      <td>0</td>\n",
       "      <td>NaN</td>\n",
       "    </tr>\n",
       "    <tr>\n",
       "      <th>8126</th>\n",
       "      <td>6da398d852411237</td>\n",
       "      <td>0</td>\n",
       "      <td>0</td>\n",
       "      <td>0</td>\n",
       "      <td>NaN</td>\n",
       "    </tr>\n",
       "    <tr>\n",
       "      <th>8127</th>\n",
       "      <td>6da398d852411238</td>\n",
       "      <td>0</td>\n",
       "      <td>0</td>\n",
       "      <td>0</td>\n",
       "      <td>NaN</td>\n",
       "    </tr>\n",
       "  </tbody>\n",
       "</table>\n",
       "<p>8128 rows × 5 columns</p>\n",
       "</div>"
      ],
      "text/plain": [
       "               user_id  web  app  sql  web.1\n",
       "0     78ff837c7cea9f33    0    0    0    NaN\n",
       "1     2987aa87d23c9e3d    0    0    0    NaN\n",
       "2     23182525e9996864    1    1    1    NaN\n",
       "3     ffb6913842d617a5    0    0    0    NaN\n",
       "4     2c6822e7e833dc95    0    0    0    NaN\n",
       "...                ...  ...  ...  ...    ...\n",
       "8123  6da398d852411234    0    0    0    NaN\n",
       "8124  6da398d852411235    0    0    0    NaN\n",
       "8125  6da398d852411236    0    0    0    NaN\n",
       "8126  6da398d852411237    0    0    0    NaN\n",
       "8127  6da398d852411238    0    0    0    NaN\n",
       "\n",
       "[8128 rows x 5 columns]"
      ]
     },
     "execution_count": 34,
     "metadata": {},
     "output_type": "execute_result"
    }
   ],
   "source": [
    "user_class_data = pd.read_table('data/user_registered_class.csv',sep=',')\n",
    "user_class_data"
   ]
  },
  {
   "cell_type": "code",
   "execution_count": 35,
   "id": "a1e47c7b",
   "metadata": {
    "ExecuteTime": {
     "end_time": "2023-12-28T01:34:05.663280Z",
     "start_time": "2023-12-28T01:34:05.650592Z"
    }
   },
   "outputs": [
    {
     "name": "stdout",
     "output_type": "stream",
     "text": [
      "<class 'pandas.core.frame.DataFrame'>\n",
      "RangeIndex: 8128 entries, 0 to 8127\n",
      "Data columns (total 5 columns):\n",
      " #   Column   Non-Null Count  Dtype  \n",
      "---  ------   --------------  -----  \n",
      " 0   user_id  8128 non-null   object \n",
      " 1   web      8128 non-null   int64  \n",
      " 2   app      8128 non-null   int64  \n",
      " 3   sql      8128 non-null   int64  \n",
      " 4   web.1    0 non-null      float64\n",
      "dtypes: float64(1), int64(3), object(1)\n",
      "memory usage: 317.6+ KB\n"
     ]
    }
   ],
   "source": [
    "user_class_data.info()"
   ]
  },
  {
   "cell_type": "code",
   "execution_count": 36,
   "id": "a7a5262d",
   "metadata": {
    "ExecuteTime": {
     "end_time": "2023-12-28T01:34:18.410504Z",
     "start_time": "2023-12-28T01:34:18.384316Z"
    },
    "scrolled": true
   },
   "outputs": [
    {
     "data": {
      "text/html": [
       "<div>\n",
       "<style scoped>\n",
       "    .dataframe tbody tr th:only-of-type {\n",
       "        vertical-align: middle;\n",
       "    }\n",
       "\n",
       "    .dataframe tbody tr th {\n",
       "        vertical-align: top;\n",
       "    }\n",
       "\n",
       "    .dataframe thead th {\n",
       "        text-align: right;\n",
       "    }\n",
       "</style>\n",
       "<table border=\"1\" class=\"dataframe\">\n",
       "  <thead>\n",
       "    <tr style=\"text-align: right;\">\n",
       "      <th></th>\n",
       "      <th>web</th>\n",
       "      <th>app</th>\n",
       "      <th>sql</th>\n",
       "      <th>web.1</th>\n",
       "    </tr>\n",
       "  </thead>\n",
       "  <tbody>\n",
       "    <tr>\n",
       "      <th>count</th>\n",
       "      <td>8128.000000</td>\n",
       "      <td>8128.000000</td>\n",
       "      <td>8128.000000</td>\n",
       "      <td>0.0</td>\n",
       "    </tr>\n",
       "    <tr>\n",
       "      <th>mean</th>\n",
       "      <td>0.073450</td>\n",
       "      <td>0.123647</td>\n",
       "      <td>0.031004</td>\n",
       "      <td>NaN</td>\n",
       "    </tr>\n",
       "    <tr>\n",
       "      <th>std</th>\n",
       "      <td>0.260889</td>\n",
       "      <td>0.329198</td>\n",
       "      <td>0.173339</td>\n",
       "      <td>NaN</td>\n",
       "    </tr>\n",
       "    <tr>\n",
       "      <th>min</th>\n",
       "      <td>0.000000</td>\n",
       "      <td>0.000000</td>\n",
       "      <td>0.000000</td>\n",
       "      <td>NaN</td>\n",
       "    </tr>\n",
       "    <tr>\n",
       "      <th>25%</th>\n",
       "      <td>0.000000</td>\n",
       "      <td>0.000000</td>\n",
       "      <td>0.000000</td>\n",
       "      <td>NaN</td>\n",
       "    </tr>\n",
       "    <tr>\n",
       "      <th>50%</th>\n",
       "      <td>0.000000</td>\n",
       "      <td>0.000000</td>\n",
       "      <td>0.000000</td>\n",
       "      <td>NaN</td>\n",
       "    </tr>\n",
       "    <tr>\n",
       "      <th>75%</th>\n",
       "      <td>0.000000</td>\n",
       "      <td>0.000000</td>\n",
       "      <td>0.000000</td>\n",
       "      <td>NaN</td>\n",
       "    </tr>\n",
       "    <tr>\n",
       "      <th>max</th>\n",
       "      <td>1.000000</td>\n",
       "      <td>1.000000</td>\n",
       "      <td>1.000000</td>\n",
       "      <td>NaN</td>\n",
       "    </tr>\n",
       "  </tbody>\n",
       "</table>\n",
       "</div>"
      ],
      "text/plain": [
       "               web          app          sql  web.1\n",
       "count  8128.000000  8128.000000  8128.000000    0.0\n",
       "mean      0.073450     0.123647     0.031004    NaN\n",
       "std       0.260889     0.329198     0.173339    NaN\n",
       "min       0.000000     0.000000     0.000000    NaN\n",
       "25%       0.000000     0.000000     0.000000    NaN\n",
       "50%       0.000000     0.000000     0.000000    NaN\n",
       "75%       0.000000     0.000000     0.000000    NaN\n",
       "max       1.000000     1.000000     1.000000    NaN"
      ]
     },
     "execution_count": 36,
     "metadata": {},
     "output_type": "execute_result"
    }
   ],
   "source": [
    "user_class_data.describe()\n",
    "#웹1빼고 다 필요하군"
   ]
  },
  {
   "cell_type": "markdown",
   "id": "2706e6e0",
   "metadata": {},
   "source": [
    "데이터 전처리"
   ]
  },
  {
   "cell_type": "code",
   "execution_count": 37,
   "id": "88dde823",
   "metadata": {
    "ExecuteTime": {
     "end_time": "2023-12-28T01:35:42.171392Z",
     "start_time": "2023-12-28T01:35:42.151362Z"
    }
   },
   "outputs": [
    {
     "data": {
      "text/plain": [
       "user_id       0\n",
       "web         597\n",
       "app        1005\n",
       "sql         252\n",
       "web.1         0\n",
       "dtype: int64"
      ]
     },
     "execution_count": 37,
     "metadata": {},
     "output_type": "execute_result"
    }
   ],
   "source": [
    "# (1) 각 강의의 신청자 총합 구하기\n",
    "#각 수업에서 1(수강 신청) 한 사람의 수 세기\n",
    "sum_of_students_by_class = user_class_data[user_class_data==1].count()\n",
    "#user_class_data==1 true면 카운트해줘\n",
    "sum_of_students_by_class"
   ]
  },
  {
   "cell_type": "code",
   "execution_count": 38,
   "id": "8db8fdea",
   "metadata": {
    "ExecuteTime": {
     "end_time": "2023-12-28T01:36:05.067955Z",
     "start_time": "2023-12-28T01:36:05.057071Z"
    },
    "scrolled": true
   },
   "outputs": [
    {
     "data": {
      "text/plain": [
       "web     597\n",
       "app    1005\n",
       "sql     252\n",
       "dtype: int64"
      ]
     },
     "execution_count": 38,
     "metadata": {},
     "output_type": "execute_result"
    }
   ],
   "source": [
    "# (2) 불필요한 “user_id” 부분  제거하기\n",
    "#테이블.drop(\"삭제할 행/열\")을 통해 데이터를 삭제 할수 있습니다.\n",
    "sum_of_students_by_class = sum_of_students_by_class.drop('user_id').drop('web.1')\n",
    "sum_of_students_by_class"
   ]
  },
  {
   "cell_type": "markdown",
   "id": "55b9dc06",
   "metadata": {},
   "source": [
    "데이터 탐색 및 시각화"
   ]
  },
  {
   "cell_type": "code",
   "execution_count": 39,
   "id": "47395364",
   "metadata": {
    "ExecuteTime": {
     "end_time": "2023-12-28T01:36:33.162615Z",
     "start_time": "2023-12-28T01:36:32.894993Z"
    }
   },
   "outputs": [
    {
     "data": {
      "image/png": "[encoded data removed]",
      "text/plain": [
       "<Figure size 1000x500 with 1 Axes>"
      ]
     },
     "metadata": {},
     "output_type": "display_data"
    }
   ],
   "source": [
    "# 바 그래프\n",
    "#그래프 사이즈 설정\n",
    "plt.figure(figsize=(10,5))\n",
    "\n",
    "#각각 어떤 값이 들어가야 하는지 입력해 볼까요?\n",
    "#plt.bar(X축값, Y축값)\n",
    "plt.bar(sum_of_students_by_class.index ,sum_of_students_by_class.values)\n",
    "\n",
    "#그래프 타이틀\n",
    "plt.title('AI기획강의를 신청한 학생 수강이력')\n",
    "\n",
    "#x축 레이블\n",
    "plt.xlabel('강의')\n",
    "\n",
    "#y축 레이블\n",
    "plt.ylabel('수강생(명)')\n",
    "\n",
    "#그래프 보여주기\n",
    "plt.show()"
   ]
  },
  {
   "cell_type": "markdown",
   "id": "1ddadd23",
   "metadata": {},
   "source": [
    "데이터 분석 프로젝트 4차\n",
    "배경 파악 및 가설 세우기\n",
    "[상황]\n",
    "\n",
    "우리는 앱개발 강의 수강자가 AI기획 강의를 다른 강의에 비해 신청이 많은 것을 확인했습니다.\n",
    "\n",
    "그렇다면, 왜 앱개발 강의 수강자가 AI기획강의에 관심이 많은 것인지 확인해보아야겠네요!\n",
    "\n",
    "이 두 클래스를 신청한 사람들의 공통 관심사를 안다면,\n",
    "\n",
    "마케팅 전략을 좀 더 효과적으로 짤수 있겠군요!\n",
    "\n",
    "그래서 우리는 또다른 가설을 세우고, 관련 데이터 분석을 하기로 결심 했습니다\n",
    "\n",
    "가설 new :\n",
    "\n",
    "앱개발 강의수강자과 AI기획강의 신청자의 공통 관심사는 중 가장 큰 비율을 차지하는 것은\n",
    "\n",
    "AI서비스 앱 개발(창업)을 통한 부수입 창출일 것이다.\n",
    "\n",
    "→ 둘 다 자기 계발겸 부수입을 창출할 수 있는 주제이니 애초에 AI서비스 창업에 관심이 있는 인원이 수강신청 했을 듯 합니다!\n",
    "이 내용을 데이터 분석으로 확인해봅시다!\n",
    "\n",
    "앱 개발 수강생과 AI기획 수강생의 가장 큰 수강 목적을 찾아라!"
   ]
  },
  {
   "cell_type": "markdown",
   "id": "63b3e422",
   "metadata": {},
   "source": [
    "데이터 로드 및 살펴보기\n",
    "user_db_app.csv\n",
    "user_db_ai.csv ``user_id`: 회원 고유 아이디\n",
    "gender: 성별\n",
    "\n",
    "area: 지역\n",
    "\n",
    "access_media: 등록 경로\n",
    "\n",
    "goal: 수강 신청 사유 ```"
   ]
  },
  {
   "cell_type": "code",
   "execution_count": 41,
   "id": "a2d78046",
   "metadata": {
    "ExecuteTime": {
     "end_time": "2023-12-28T01:41:31.926592Z",
     "start_time": "2023-12-28T01:41:31.906652Z"
    }
   },
   "outputs": [],
   "source": [
    "#수강 데이터 가지고 오기\n",
    "user_data_app = pd.read_table('data/user_db_app.csv',sep=',')\n",
    "user_data_ai = pd.read_table('data/user_db_ai.csv',sep=',')"
   ]
  },
  {
   "cell_type": "code",
   "execution_count": 42,
   "id": "2ac33595",
   "metadata": {
    "ExecuteTime": {
     "end_time": "2023-12-28T01:41:33.400341Z",
     "start_time": "2023-12-28T01:41:33.384869Z"
    }
   },
   "outputs": [
    {
     "data": {
      "text/html": [
       "<div>\n",
       "<style scoped>\n",
       "    .dataframe tbody tr th:only-of-type {\n",
       "        vertical-align: middle;\n",
       "    }\n",
       "\n",
       "    .dataframe tbody tr th {\n",
       "        vertical-align: top;\n",
       "    }\n",
       "\n",
       "    .dataframe thead th {\n",
       "        text-align: right;\n",
       "    }\n",
       "</style>\n",
       "<table border=\"1\" class=\"dataframe\">\n",
       "  <thead>\n",
       "    <tr style=\"text-align: right;\">\n",
       "      <th></th>\n",
       "      <th>user_id</th>\n",
       "      <th>gender</th>\n",
       "      <th>area</th>\n",
       "      <th>age</th>\n",
       "      <th>access_media</th>\n",
       "      <th>goal</th>\n",
       "    </tr>\n",
       "  </thead>\n",
       "  <tbody>\n",
       "    <tr>\n",
       "      <th>0</th>\n",
       "      <td>1a8adcf53f881ee8</td>\n",
       "      <td>남</td>\n",
       "      <td>송파구</td>\n",
       "      <td>20</td>\n",
       "      <td>인스타그램</td>\n",
       "      <td>아이디어 실현</td>\n",
       "    </tr>\n",
       "    <tr>\n",
       "      <th>1</th>\n",
       "      <td>bfd8847e1257757f</td>\n",
       "      <td>남</td>\n",
       "      <td>강서구</td>\n",
       "      <td>30</td>\n",
       "      <td>검색</td>\n",
       "      <td>부수입 창출</td>\n",
       "    </tr>\n",
       "    <tr>\n",
       "      <th>2</th>\n",
       "      <td>f4445dcb39d1bc54</td>\n",
       "      <td>남</td>\n",
       "      <td>도봉구</td>\n",
       "      <td>20</td>\n",
       "      <td>인스타그램</td>\n",
       "      <td>부수입 창출</td>\n",
       "    </tr>\n",
       "    <tr>\n",
       "      <th>3</th>\n",
       "      <td>75ac4eb719d64179</td>\n",
       "      <td>여</td>\n",
       "      <td>용산구</td>\n",
       "      <td>20</td>\n",
       "      <td>인스타그램</td>\n",
       "      <td>업무효율</td>\n",
       "    </tr>\n",
       "    <tr>\n",
       "      <th>4</th>\n",
       "      <td>f258561fb134f6fd</td>\n",
       "      <td>여</td>\n",
       "      <td>은평구</td>\n",
       "      <td>30</td>\n",
       "      <td>네이버</td>\n",
       "      <td>문제해결</td>\n",
       "    </tr>\n",
       "  </tbody>\n",
       "</table>\n",
       "</div>"
      ],
      "text/plain": [
       "            user_id gender area  age access_media     goal\n",
       "0  1a8adcf53f881ee8      남  송파구   20        인스타그램  아이디어 실현\n",
       "1  bfd8847e1257757f      남  강서구   30           검색   부수입 창출\n",
       "2  f4445dcb39d1bc54      남  도봉구   20        인스타그램   부수입 창출\n",
       "3  75ac4eb719d64179      여  용산구   20        인스타그램     업무효율\n",
       "4  f258561fb134f6fd      여  은평구   30          네이버     문제해결"
      ]
     },
     "execution_count": 42,
     "metadata": {},
     "output_type": "execute_result"
    }
   ],
   "source": [
    "user_data_app.head()"
   ]
  },
  {
   "cell_type": "code",
   "execution_count": 43,
   "id": "91bc3ee0",
   "metadata": {
    "ExecuteTime": {
     "end_time": "2023-12-28T01:41:43.929107Z",
     "start_time": "2023-12-28T01:41:43.918750Z"
    }
   },
   "outputs": [
    {
     "name": "stdout",
     "output_type": "stream",
     "text": [
      "<class 'pandas.core.frame.DataFrame'>\n",
      "RangeIndex: 1000 entries, 0 to 999\n",
      "Data columns (total 6 columns):\n",
      " #   Column        Non-Null Count  Dtype \n",
      "---  ------        --------------  ----- \n",
      " 0   user_id       1000 non-null   object\n",
      " 1   gender        1000 non-null   object\n",
      " 2   area          1000 non-null   object\n",
      " 3   age           1000 non-null   int64 \n",
      " 4   access_media  1000 non-null   object\n",
      " 5   goal          1000 non-null   object\n",
      "dtypes: int64(1), object(5)\n",
      "memory usage: 47.0+ KB\n"
     ]
    }
   ],
   "source": [
    "user_data_app.info() #결측치 없음"
   ]
  },
  {
   "cell_type": "code",
   "execution_count": 44,
   "id": "e56c26a6",
   "metadata": {
    "ExecuteTime": {
     "end_time": "2023-12-28T01:42:01.298390Z",
     "start_time": "2023-12-28T01:42:01.266395Z"
    }
   },
   "outputs": [
    {
     "data": {
      "text/html": [
       "<div>\n",
       "<style scoped>\n",
       "    .dataframe tbody tr th:only-of-type {\n",
       "        vertical-align: middle;\n",
       "    }\n",
       "\n",
       "    .dataframe tbody tr th {\n",
       "        vertical-align: top;\n",
       "    }\n",
       "\n",
       "    .dataframe thead th {\n",
       "        text-align: right;\n",
       "    }\n",
       "</style>\n",
       "<table border=\"1\" class=\"dataframe\">\n",
       "  <thead>\n",
       "    <tr style=\"text-align: right;\">\n",
       "      <th></th>\n",
       "      <th>user_id</th>\n",
       "      <th>gender</th>\n",
       "      <th>area</th>\n",
       "      <th>age</th>\n",
       "      <th>access_media</th>\n",
       "      <th>goal</th>\n",
       "    </tr>\n",
       "  </thead>\n",
       "  <tbody>\n",
       "    <tr>\n",
       "      <th>count</th>\n",
       "      <td>1000</td>\n",
       "      <td>1000</td>\n",
       "      <td>1000</td>\n",
       "      <td>1000.000000</td>\n",
       "      <td>1000</td>\n",
       "      <td>1000</td>\n",
       "    </tr>\n",
       "    <tr>\n",
       "      <th>unique</th>\n",
       "      <td>1000</td>\n",
       "      <td>2</td>\n",
       "      <td>10</td>\n",
       "      <td>NaN</td>\n",
       "      <td>7</td>\n",
       "      <td>6</td>\n",
       "    </tr>\n",
       "    <tr>\n",
       "      <th>top</th>\n",
       "      <td>1a8adcf53f881ee8</td>\n",
       "      <td>여</td>\n",
       "      <td>강남구</td>\n",
       "      <td>NaN</td>\n",
       "      <td>인스타그램</td>\n",
       "      <td>부수입 창출</td>\n",
       "    </tr>\n",
       "    <tr>\n",
       "      <th>freq</th>\n",
       "      <td>1</td>\n",
       "      <td>661</td>\n",
       "      <td>221</td>\n",
       "      <td>NaN</td>\n",
       "      <td>315</td>\n",
       "      <td>400</td>\n",
       "    </tr>\n",
       "    <tr>\n",
       "      <th>mean</th>\n",
       "      <td>NaN</td>\n",
       "      <td>NaN</td>\n",
       "      <td>NaN</td>\n",
       "      <td>23.840000</td>\n",
       "      <td>NaN</td>\n",
       "      <td>NaN</td>\n",
       "    </tr>\n",
       "    <tr>\n",
       "      <th>std</th>\n",
       "      <td>NaN</td>\n",
       "      <td>NaN</td>\n",
       "      <td>NaN</td>\n",
       "      <td>8.895703</td>\n",
       "      <td>NaN</td>\n",
       "      <td>NaN</td>\n",
       "    </tr>\n",
       "    <tr>\n",
       "      <th>min</th>\n",
       "      <td>NaN</td>\n",
       "      <td>NaN</td>\n",
       "      <td>NaN</td>\n",
       "      <td>10.000000</td>\n",
       "      <td>NaN</td>\n",
       "      <td>NaN</td>\n",
       "    </tr>\n",
       "    <tr>\n",
       "      <th>25%</th>\n",
       "      <td>NaN</td>\n",
       "      <td>NaN</td>\n",
       "      <td>NaN</td>\n",
       "      <td>20.000000</td>\n",
       "      <td>NaN</td>\n",
       "      <td>NaN</td>\n",
       "    </tr>\n",
       "    <tr>\n",
       "      <th>50%</th>\n",
       "      <td>NaN</td>\n",
       "      <td>NaN</td>\n",
       "      <td>NaN</td>\n",
       "      <td>20.000000</td>\n",
       "      <td>NaN</td>\n",
       "      <td>NaN</td>\n",
       "    </tr>\n",
       "    <tr>\n",
       "      <th>75%</th>\n",
       "      <td>NaN</td>\n",
       "      <td>NaN</td>\n",
       "      <td>NaN</td>\n",
       "      <td>30.000000</td>\n",
       "      <td>NaN</td>\n",
       "      <td>NaN</td>\n",
       "    </tr>\n",
       "    <tr>\n",
       "      <th>max</th>\n",
       "      <td>NaN</td>\n",
       "      <td>NaN</td>\n",
       "      <td>NaN</td>\n",
       "      <td>50.000000</td>\n",
       "      <td>NaN</td>\n",
       "      <td>NaN</td>\n",
       "    </tr>\n",
       "  </tbody>\n",
       "</table>\n",
       "</div>"
      ],
      "text/plain": [
       "                 user_id gender  area          age access_media    goal\n",
       "count               1000   1000  1000  1000.000000         1000    1000\n",
       "unique              1000      2    10          NaN            7       6\n",
       "top     1a8adcf53f881ee8      여   강남구          NaN        인스타그램  부수입 창출\n",
       "freq                   1    661   221          NaN          315     400\n",
       "mean                 NaN    NaN   NaN    23.840000          NaN     NaN\n",
       "std                  NaN    NaN   NaN     8.895703          NaN     NaN\n",
       "min                  NaN    NaN   NaN    10.000000          NaN     NaN\n",
       "25%                  NaN    NaN   NaN    20.000000          NaN     NaN\n",
       "50%                  NaN    NaN   NaN    20.000000          NaN     NaN\n",
       "75%                  NaN    NaN   NaN    30.000000          NaN     NaN\n",
       "max                  NaN    NaN   NaN    50.000000          NaN     NaN"
      ]
     },
     "execution_count": 44,
     "metadata": {},
     "output_type": "execute_result"
    }
   ],
   "source": [
    "# 수치형 데이터에 맞춰진 듯\n",
    "user_data_app.describe(include='all')\n",
    "#채널은 7개 있다 "
   ]
  },
  {
   "cell_type": "code",
   "execution_count": 45,
   "id": "47ccad3c",
   "metadata": {
    "ExecuteTime": {
     "end_time": "2023-12-28T01:43:59.680423Z",
     "start_time": "2023-12-28T01:43:59.666616Z"
    }
   },
   "outputs": [
    {
     "name": "stdout",
     "output_type": "stream",
     "text": [
      "<class 'pandas.core.frame.DataFrame'>\n",
      "RangeIndex: 1000 entries, 0 to 999\n",
      "Data columns (total 5 columns):\n",
      " #   Column        Non-Null Count  Dtype \n",
      "---  ------        --------------  ----- \n",
      " 0   user_id       1000 non-null   object\n",
      " 1   gender        1000 non-null   object\n",
      " 2   area          1000 non-null   object\n",
      " 3   access_media  1000 non-null   object\n",
      " 4   goal          1000 non-null   object\n",
      "dtypes: object(5)\n",
      "memory usage: 39.2+ KB\n"
     ]
    }
   ],
   "source": [
    "user_data_ai.info()"
   ]
  },
  {
   "cell_type": "code",
   "execution_count": 46,
   "id": "f321cb8c",
   "metadata": {
    "ExecuteTime": {
     "end_time": "2023-12-28T01:44:04.308367Z",
     "start_time": "2023-12-28T01:44:04.277934Z"
    }
   },
   "outputs": [
    {
     "data": {
      "text/html": [
       "<div>\n",
       "<style scoped>\n",
       "    .dataframe tbody tr th:only-of-type {\n",
       "        vertical-align: middle;\n",
       "    }\n",
       "\n",
       "    .dataframe tbody tr th {\n",
       "        vertical-align: top;\n",
       "    }\n",
       "\n",
       "    .dataframe thead th {\n",
       "        text-align: right;\n",
       "    }\n",
       "</style>\n",
       "<table border=\"1\" class=\"dataframe\">\n",
       "  <thead>\n",
       "    <tr style=\"text-align: right;\">\n",
       "      <th></th>\n",
       "      <th>user_id</th>\n",
       "      <th>gender</th>\n",
       "      <th>area</th>\n",
       "      <th>access_media</th>\n",
       "      <th>goal</th>\n",
       "    </tr>\n",
       "  </thead>\n",
       "  <tbody>\n",
       "    <tr>\n",
       "      <th>count</th>\n",
       "      <td>1000</td>\n",
       "      <td>1000</td>\n",
       "      <td>1000</td>\n",
       "      <td>1000</td>\n",
       "      <td>1000</td>\n",
       "    </tr>\n",
       "    <tr>\n",
       "      <th>unique</th>\n",
       "      <td>1000</td>\n",
       "      <td>2</td>\n",
       "      <td>10</td>\n",
       "      <td>7</td>\n",
       "      <td>6</td>\n",
       "    </tr>\n",
       "    <tr>\n",
       "      <th>top</th>\n",
       "      <td>9ba84e9cf8733ce6</td>\n",
       "      <td>여</td>\n",
       "      <td>강남구</td>\n",
       "      <td>인스타그램</td>\n",
       "      <td>부수입 창출</td>\n",
       "    </tr>\n",
       "    <tr>\n",
       "      <th>freq</th>\n",
       "      <td>1</td>\n",
       "      <td>654</td>\n",
       "      <td>192</td>\n",
       "      <td>305</td>\n",
       "      <td>440</td>\n",
       "    </tr>\n",
       "  </tbody>\n",
       "</table>\n",
       "</div>"
      ],
      "text/plain": [
       "                 user_id gender  area access_media    goal\n",
       "count               1000   1000  1000         1000    1000\n",
       "unique              1000      2    10            7       6\n",
       "top     9ba84e9cf8733ce6      여   강남구        인스타그램  부수입 창출\n",
       "freq                   1    654   192          305     440"
      ]
     },
     "execution_count": 46,
     "metadata": {},
     "output_type": "execute_result"
    }
   ],
   "source": [
    "user_data_ai.describe()"
   ]
  },
  {
   "cell_type": "markdown",
   "id": "729747d9",
   "metadata": {},
   "source": [
    "가설을 검증하기 위해 우리가 알아야 할것은\n",
    "\n",
    "각 수업 별 수강 신청 이유(userid, goal)\n",
    "데이터 전처리\n",
    "수강 신청 목표에 따라 수강생의 수의 합계를 구할 필요 있겠죠?\n",
    "⇒ “수강 신청 이유 ” 학생수 구하려면 어떤 메서드를 쓰는게 좋을까요?"
   ]
  },
  {
   "cell_type": "code",
   "execution_count": 47,
   "id": "7fb2f693",
   "metadata": {
    "ExecuteTime": {
     "end_time": "2023-12-28T01:44:36.949352Z",
     "start_time": "2023-12-28T01:44:36.941983Z"
    }
   },
   "outputs": [
    {
     "name": "stdout",
     "output_type": "stream",
     "text": [
      "['아이디어 실현' '부수입 창출' '업무효율' '문제해결' '의사결정' '리서치 능력']\n",
      "['아이디어 실현' '문제해결' '부수입 창출' '의사결정' '리서치 능력' '업무효율']\n"
     ]
    }
   ],
   "source": [
    "print(user_data_app['goal'].unique())\n",
    "print(user_data_ai['goal'].unique())"
   ]
  },
  {
   "cell_type": "code",
   "execution_count": 48,
   "id": "f2b2ff18",
   "metadata": {
    "ExecuteTime": {
     "end_time": "2023-12-28T01:45:00.687512Z",
     "start_time": "2023-12-28T01:45:00.678470Z"
    }
   },
   "outputs": [
    {
     "data": {
      "text/plain": [
       "goal\n",
       "리서치 능력      46\n",
       "문제해결        95\n",
       "부수입 창출     400\n",
       "아이디어 실현    140\n",
       "업무효율       104\n",
       "의사결정       215\n",
       "Name: user_id, dtype: int64"
      ]
     },
     "execution_count": 48,
     "metadata": {},
     "output_type": "execute_result"
    }
   ],
   "source": [
    "#수업 신청 목표 기준으로 수강생 수 집계\n",
    "app_users_goal = user_data_app.groupby('goal')['user_id'].count()\n",
    "app_users_goal"
   ]
  },
  {
   "cell_type": "code",
   "execution_count": 49,
   "id": "f44d89c1",
   "metadata": {
    "ExecuteTime": {
     "end_time": "2023-12-28T01:45:09.718314Z",
     "start_time": "2023-12-28T01:45:09.707797Z"
    },
    "scrolled": true
   },
   "outputs": [
    {
     "data": {
      "text/plain": [
       "goal\n",
       "리서치 능력      50\n",
       "문제해결        70\n",
       "부수입 창출     440\n",
       "아이디어 실현    140\n",
       "업무효율        85\n",
       "의사결정       215\n",
       "Name: user_id, dtype: int64"
      ]
     },
     "execution_count": 49,
     "metadata": {},
     "output_type": "execute_result"
    }
   ],
   "source": [
    "#수업 신청 목표 기준으로 수강생 수 합계\n",
    "ai_users_goal= user_data_ai.groupby('goal')['user_id'].count()\n",
    "ai_users_goal"
   ]
  },
  {
   "cell_type": "markdown",
   "id": "9c2d7be9",
   "metadata": {},
   "source": [
    "데이터 시각화"
   ]
  },
  {
   "cell_type": "code",
   "execution_count": 50,
   "id": "69c9bf56",
   "metadata": {
    "ExecuteTime": {
     "end_time": "2023-12-28T01:45:21.073982Z",
     "start_time": "2023-12-28T01:45:20.708973Z"
    }
   },
   "outputs": [
    {
     "data": {
      "image/png": "[encoded data removed]",
      "text/plain": [
       "<Figure size 800x600 with 1 Axes>"
      ]
     },
     "metadata": {},
     "output_type": "display_data"
    }
   ],
   "source": [
    "#그래프 크기 설정 (인치)\n",
    "plt.figure(figsize=(8,6))\n",
    "\n",
    "#x축 y축 설정을 동일하게 해주고, color와, label을 추가 해주시면 됩니다. 참 쉽죠?\n",
    "\n",
    "#app개발 수강생 관심 분야\n",
    "plt.plot(app_users_goal.index, app_users_goal.values, color=\"red\", label=\"app\")\n",
    "#AI기획 수강생 관심 분야\n",
    "plt.plot(ai_users_goal.index, ai_users_goal.values, color=\"blue\", label=\"ai\")\n",
    "\n",
    "\n",
    "#각 그래프의 범례는 .legend()을 이용하여 만들어 줍니다! :)\n",
    "plt.legend()\n",
    "\n",
    "#그래프 타이틀\n",
    "plt.title(\"앱개발과 AI기획 수강생의 관심사\")\n",
    "#x축 레이블\n",
    "plt.xlabel('수강 목적')\n",
    "#y축 레이블\n",
    "plt.ylabel('수강생 수')\n",
    "\n",
    "#그래프 보여주기\n",
    "plt.show()"
   ]
  },
  {
   "cell_type": "markdown",
   "id": "2ce0d0b4",
   "metadata": {},
   "source": [
    "결론 도출\n",
    "앱 개발반 수강생과 AI반 수강생의 가장 큰 수강 목적을 찾아라!\n",
    "\n",
    "팀장님!\n",
    "\n",
    "“앱개발 과정과 AI기획과정의 신청자의 공통 관심사는 중 가장 큰 비율을 차지하는 것은 부수입 창출일 것이다.”\n",
    "\n",
    "라는 가설 증명을 위해 데이터를 분석해보았는데요~\n",
    "\n",
    "아래 보시는 것과 같이,\n",
    "\n",
    "예상과 같이\n",
    "\n",
    "앱 개발, 그리고 AI기획과정의 신청자의 공통 관심사는 “부수입” 창출 이었습니다.\n",
    "\n",
    "따라서, 판매 증대를 위해,\n",
    "\n",
    "앱개발 과정과 AI기획 과정을 묶어서 부수입 창출을 위한 AI 앱서비스 창업 강의 패키지를 출시하고\n",
    "\n",
    "“부수입 창출 또는 창업”을 메인 키워드로 내세워 홍보 효과를 증대 시킬수 있을 것 같습니다"
   ]
  },
  {
   "cell_type": "markdown",
   "id": "48a58369",
   "metadata": {},
   "source": [
    "데이터 분석 프로젝트 5차\n",
    "할인은 정말 효과적인 선택일까?\n",
    "배경 파악 및 가설 세우기\n",
    "[상황]\n",
    "문제 파악 :\n",
    "\n",
    "결제 마지막 페이지에서 이탈률이 높은 상황입니다.\n",
    "\n",
    "확인 해 본 결과, 결제 페이지 오류는 없는 상황입니다.\n",
    "\n",
    "금액이 고객들의 구매 결정에 걸림돌이 되는 것으로 예상됩니다.\n",
    "\n",
    "원하는 결과 :\n",
    "\n",
    "결제 마지막 페이지에서 고객 이탈율을 줄이고 싶습니다.\n",
    "\n",
    "문제 해결을 위해 세운 가설 확인하기\n",
    "\n",
    "결제 마지막 페이지에서 할인 쿠폰을 제공하여 금액적으로 구매 결정에 걸림돌을 제거해준다면 결제율을 높일수 있을 것이다.\n",
    "\n",
    "그럼 데이터분석은 무얼 먼저 해보아야 할까요?\n",
    "이 부분을 확인 하기 위해 우리는 실험을 진행 하였습니다.\n",
    "\n",
    "같은 기간동안 선착순으로 결제 페이지에 접속한 각 12000명을 대상으로\n",
    "\n",
    "첫번째 그룹 마지막 페이지 결제 접속자 에게 마지막 결제 페이지에 할인 쿠폰을 제공\n",
    "\n",
    "두번째 그룹 마지막 페이지 결제 접속자 에게 할인 쿠폰 미 제공(정가 구매 유도)\n",
    "\n",
    "을 하여 할인 혜택이 실제 결제율에 얼마나 영향을 주는지 알아 봅시다.\n",
    "\n",
    "1.2만명 AB테스트 할인은 정말 효과적인 선택일까?"
   ]
  },
  {
   "cell_type": "code",
   "execution_count": 1,
   "id": "b7c3d09c",
   "metadata": {
    "ExecuteTime": {
     "end_time": "2023-12-28T02:11:17.981955Z",
     "start_time": "2023-12-28T02:11:15.685796Z"
    }
   },
   "outputs": [],
   "source": [
    "import pandas as pd\n",
    "import numpy as np\n",
    "import matplotlib.pyplot as plt"
   ]
  },
  {
   "cell_type": "code",
   "execution_count": 2,
   "id": "f08899fc",
   "metadata": {
    "ExecuteTime": {
     "end_time": "2023-12-28T02:11:19.437990Z",
     "start_time": "2023-12-28T02:11:19.301930Z"
    }
   },
   "outputs": [
    {
     "data": {
      "text/html": [
       "<div>\n",
       "<style scoped>\n",
       "    .dataframe tbody tr th:only-of-type {\n",
       "        vertical-align: middle;\n",
       "    }\n",
       "\n",
       "    .dataframe tbody tr th {\n",
       "        vertical-align: top;\n",
       "    }\n",
       "\n",
       "    .dataframe thead th {\n",
       "        text-align: right;\n",
       "    }\n",
       "</style>\n",
       "<table border=\"1\" class=\"dataframe\">\n",
       "  <thead>\n",
       "    <tr style=\"text-align: right;\">\n",
       "      <th></th>\n",
       "      <th>user_id</th>\n",
       "      <th>gender</th>\n",
       "      <th>area</th>\n",
       "      <th>age</th>\n",
       "      <th>access_media</th>\n",
       "      <th>group</th>\n",
       "      <th>discounted</th>\n",
       "    </tr>\n",
       "  </thead>\n",
       "  <tbody>\n",
       "    <tr>\n",
       "      <th>0</th>\n",
       "      <td>78ff837c7cea9f33</td>\n",
       "      <td>남</td>\n",
       "      <td>송파구</td>\n",
       "      <td>20</td>\n",
       "      <td>인스타그램</td>\n",
       "      <td>1</td>\n",
       "      <td>10000.0</td>\n",
       "    </tr>\n",
       "    <tr>\n",
       "      <th>1</th>\n",
       "      <td>2987aa87d23c9e3d</td>\n",
       "      <td>남</td>\n",
       "      <td>강서구</td>\n",
       "      <td>30</td>\n",
       "      <td>검색</td>\n",
       "      <td>1</td>\n",
       "      <td>30000.0</td>\n",
       "    </tr>\n",
       "    <tr>\n",
       "      <th>2</th>\n",
       "      <td>23182525e9996864</td>\n",
       "      <td>남</td>\n",
       "      <td>도봉구</td>\n",
       "      <td>20</td>\n",
       "      <td>인스타그램</td>\n",
       "      <td>1</td>\n",
       "      <td>20000.0</td>\n",
       "    </tr>\n",
       "    <tr>\n",
       "      <th>3</th>\n",
       "      <td>ffb6913842d617a5</td>\n",
       "      <td>여</td>\n",
       "      <td>용산구</td>\n",
       "      <td>20</td>\n",
       "      <td>인스타그램</td>\n",
       "      <td>1</td>\n",
       "      <td>20000.0</td>\n",
       "    </tr>\n",
       "    <tr>\n",
       "      <th>4</th>\n",
       "      <td>2c6822e7e833dc95</td>\n",
       "      <td>여</td>\n",
       "      <td>은평구</td>\n",
       "      <td>30</td>\n",
       "      <td>네이버</td>\n",
       "      <td>1</td>\n",
       "      <td>30000.0</td>\n",
       "    </tr>\n",
       "    <tr>\n",
       "      <th>...</th>\n",
       "      <td>...</td>\n",
       "      <td>...</td>\n",
       "      <td>...</td>\n",
       "      <td>...</td>\n",
       "      <td>...</td>\n",
       "      <td>...</td>\n",
       "      <td>...</td>\n",
       "    </tr>\n",
       "    <tr>\n",
       "      <th>8123</th>\n",
       "      <td>6da398d852411234</td>\n",
       "      <td>여</td>\n",
       "      <td>은평구</td>\n",
       "      <td>30</td>\n",
       "      <td>지인추천</td>\n",
       "      <td>0</td>\n",
       "      <td>NaN</td>\n",
       "    </tr>\n",
       "    <tr>\n",
       "      <th>8124</th>\n",
       "      <td>6da398d852411235</td>\n",
       "      <td>남</td>\n",
       "      <td>강서구</td>\n",
       "      <td>30</td>\n",
       "      <td>검색</td>\n",
       "      <td>0</td>\n",
       "      <td>NaN</td>\n",
       "    </tr>\n",
       "    <tr>\n",
       "      <th>8125</th>\n",
       "      <td>6da398d852411236</td>\n",
       "      <td>여</td>\n",
       "      <td>용산구</td>\n",
       "      <td>20</td>\n",
       "      <td>인스타그램</td>\n",
       "      <td>0</td>\n",
       "      <td>NaN</td>\n",
       "    </tr>\n",
       "    <tr>\n",
       "      <th>8126</th>\n",
       "      <td>6da398d852411237</td>\n",
       "      <td>남</td>\n",
       "      <td>광진구</td>\n",
       "      <td>30</td>\n",
       "      <td>네이버</td>\n",
       "      <td>0</td>\n",
       "      <td>NaN</td>\n",
       "    </tr>\n",
       "    <tr>\n",
       "      <th>8127</th>\n",
       "      <td>6da398d852411238</td>\n",
       "      <td>여</td>\n",
       "      <td>도봉구</td>\n",
       "      <td>20</td>\n",
       "      <td>인스타그램</td>\n",
       "      <td>0</td>\n",
       "      <td>NaN</td>\n",
       "    </tr>\n",
       "  </tbody>\n",
       "</table>\n",
       "<p>8128 rows × 7 columns</p>\n",
       "</div>"
      ],
      "text/plain": [
       "               user_id gender area  age access_media  group  discounted\n",
       "0     78ff837c7cea9f33      남  송파구   20        인스타그램      1     10000.0\n",
       "1     2987aa87d23c9e3d      남  강서구   30           검색      1     30000.0\n",
       "2     23182525e9996864      남  도봉구   20        인스타그램      1     20000.0\n",
       "3     ffb6913842d617a5      여  용산구   20        인스타그램      1     20000.0\n",
       "4     2c6822e7e833dc95      여  은평구   30          네이버      1     30000.0\n",
       "...                ...    ...  ...  ...          ...    ...         ...\n",
       "8123  6da398d852411234      여  은평구   30         지인추천      0         NaN\n",
       "8124  6da398d852411235      남  강서구   30           검색      0         NaN\n",
       "8125  6da398d852411236      여  용산구   20        인스타그램      0         NaN\n",
       "8126  6da398d852411237      남  광진구   30          네이버      0         NaN\n",
       "8127  6da398d852411238      여  도봉구   20        인스타그램      0         NaN\n",
       "\n",
       "[8128 rows x 7 columns]"
      ]
     },
     "execution_count": 2,
     "metadata": {},
     "output_type": "execute_result"
    }
   ],
   "source": [
    "user_data = pd.read_table('data/user_db.csv',sep=',')\n",
    "user_data"
   ]
  },
  {
   "cell_type": "code",
   "execution_count": 3,
   "id": "37f41190",
   "metadata": {
    "ExecuteTime": {
     "end_time": "2023-12-28T02:11:25.021125Z",
     "start_time": "2023-12-28T02:11:25.002914Z"
    }
   },
   "outputs": [
    {
     "name": "stdout",
     "output_type": "stream",
     "text": [
      "<class 'pandas.core.frame.DataFrame'>\n",
      "RangeIndex: 8128 entries, 0 to 8127\n",
      "Data columns (total 7 columns):\n",
      " #   Column        Non-Null Count  Dtype  \n",
      "---  ------        --------------  -----  \n",
      " 0   user_id       8128 non-null   object \n",
      " 1   gender        8128 non-null   object \n",
      " 2   area          8128 non-null   object \n",
      " 3   age           8128 non-null   int64  \n",
      " 4   access_media  8128 non-null   object \n",
      " 5   group         8128 non-null   int64  \n",
      " 6   discounted    5654 non-null   float64\n",
      "dtypes: float64(1), int64(2), object(4)\n",
      "memory usage: 444.6+ KB\n"
     ]
    }
   ],
   "source": [
    "user_data.info()"
   ]
  },
  {
   "cell_type": "code",
   "execution_count": 4,
   "id": "7d9f5fab",
   "metadata": {
    "ExecuteTime": {
     "end_time": "2023-12-28T02:11:55.360016Z",
     "start_time": "2023-12-28T02:11:55.331632Z"
    }
   },
   "outputs": [
    {
     "data": {
      "text/html": [
       "<div>\n",
       "<style scoped>\n",
       "    .dataframe tbody tr th:only-of-type {\n",
       "        vertical-align: middle;\n",
       "    }\n",
       "\n",
       "    .dataframe tbody tr th {\n",
       "        vertical-align: top;\n",
       "    }\n",
       "\n",
       "    .dataframe thead th {\n",
       "        text-align: right;\n",
       "    }\n",
       "</style>\n",
       "<table border=\"1\" class=\"dataframe\">\n",
       "  <thead>\n",
       "    <tr style=\"text-align: right;\">\n",
       "      <th></th>\n",
       "      <th>age</th>\n",
       "      <th>group</th>\n",
       "      <th>discounted</th>\n",
       "    </tr>\n",
       "  </thead>\n",
       "  <tbody>\n",
       "    <tr>\n",
       "      <th>count</th>\n",
       "      <td>8128.000000</td>\n",
       "      <td>8128.000000</td>\n",
       "      <td>5654.000000</td>\n",
       "    </tr>\n",
       "    <tr>\n",
       "      <th>mean</th>\n",
       "      <td>24.212598</td>\n",
       "      <td>0.695620</td>\n",
       "      <td>24333.215423</td>\n",
       "    </tr>\n",
       "    <tr>\n",
       "      <th>std</th>\n",
       "      <td>8.626341</td>\n",
       "      <td>0.460173</td>\n",
       "      <td>7290.153174</td>\n",
       "    </tr>\n",
       "    <tr>\n",
       "      <th>min</th>\n",
       "      <td>10.000000</td>\n",
       "      <td>0.000000</td>\n",
       "      <td>10000.000000</td>\n",
       "    </tr>\n",
       "    <tr>\n",
       "      <th>25%</th>\n",
       "      <td>20.000000</td>\n",
       "      <td>0.000000</td>\n",
       "      <td>20000.000000</td>\n",
       "    </tr>\n",
       "    <tr>\n",
       "      <th>50%</th>\n",
       "      <td>20.000000</td>\n",
       "      <td>1.000000</td>\n",
       "      <td>30000.000000</td>\n",
       "    </tr>\n",
       "    <tr>\n",
       "      <th>75%</th>\n",
       "      <td>30.000000</td>\n",
       "      <td>1.000000</td>\n",
       "      <td>30000.000000</td>\n",
       "    </tr>\n",
       "    <tr>\n",
       "      <th>max</th>\n",
       "      <td>50.000000</td>\n",
       "      <td>1.000000</td>\n",
       "      <td>30000.000000</td>\n",
       "    </tr>\n",
       "  </tbody>\n",
       "</table>\n",
       "</div>"
      ],
      "text/plain": [
       "               age        group    discounted\n",
       "count  8128.000000  8128.000000   5654.000000\n",
       "mean     24.212598     0.695620  24333.215423\n",
       "std       8.626341     0.460173   7290.153174\n",
       "min      10.000000     0.000000  10000.000000\n",
       "25%      20.000000     0.000000  20000.000000\n",
       "50%      20.000000     1.000000  30000.000000\n",
       "75%      30.000000     1.000000  30000.000000\n",
       "max      50.000000     1.000000  30000.000000"
      ]
     },
     "execution_count": 4,
     "metadata": {},
     "output_type": "execute_result"
    }
   ],
   "source": [
    "user_data.describe()"
   ]
  },
  {
   "cell_type": "markdown",
   "id": "3f10f2c6",
   "metadata": {},
   "source": [
    "가설을 검증 하기 위해 우리가 알아야 할 것\n",
    "\n",
    "실제 결제 한 사람들이 할인 받은지에 대한 여부 (group 할인받은 여부)\n",
    "데이터 전처리"
   ]
  },
  {
   "cell_type": "code",
   "execution_count": 5,
   "id": "fe2bc289",
   "metadata": {
    "ExecuteTime": {
     "end_time": "2023-12-28T02:12:06.327857Z",
     "start_time": "2023-12-28T02:12:06.317519Z"
    }
   },
   "outputs": [
    {
     "data": {
      "text/plain": [
       "5654"
      ]
     },
     "execution_count": 5,
     "metadata": {},
     "output_type": "execute_result"
    }
   ],
   "source": [
    "# step 1) 할인을 받아 결제한 사람과, 정가 결제 한 사람의 인원 수 구하기\n",
    "\n",
    "# user_data['group'] ==1 이라는 조건을 두고 그것이 일치하는 user의 수를 세면 됩니다!\n",
    " #할인 혜택 받은 사람의 결제 수 \n",
    "sum_of_students_by_discounted = user_data[user_data['group']==1]['user_id'].count()\n",
    "sum_of_students_by_discounted"
   ]
  },
  {
   "cell_type": "code",
   "execution_count": 6,
   "id": "c3107ab6",
   "metadata": {
    "ExecuteTime": {
     "end_time": "2023-12-28T02:12:12.771917Z",
     "start_time": "2023-12-28T02:12:12.761615Z"
    }
   },
   "outputs": [
    {
     "data": {
      "text/plain": [
       "2474"
      ]
     },
     "execution_count": 6,
     "metadata": {},
     "output_type": "execute_result"
    }
   ],
   "source": [
    "# 할인 혜택 받지 않은 사람의 결제 수\n",
    "sum_of_students_by_not_discounted = user_data[user_data['group']==0]['user_id'].count()\n",
    "sum_of_students_by_not_discounted"
   ]
  },
  {
   "cell_type": "code",
   "execution_count": 7,
   "id": "9b873d47",
   "metadata": {
    "ExecuteTime": {
     "end_time": "2023-12-28T02:13:17.368310Z",
     "start_time": "2023-12-28T02:13:17.360228Z"
    }
   },
   "outputs": [
    {
     "name": "stdout",
     "output_type": "stream",
     "text": [
      "20.616666666666667 47.11666666666667\n"
     ]
    }
   ],
   "source": [
    "# step 2)각 그룹의 결제 전환율 구하기 \n",
    "\n",
    "#각 결제 인원에서 실제 실험 인원인 12000명을 나누고 각 퍼센테이지 구하기\n",
    "percent_of_students_by_not_discounted = (sum_of_students_by_not_discounted/12000) *100\n",
    "\n",
    "percent_of_students_by_discounted = (sum_of_students_by_discounted/12000) *100\n",
    "\n",
    "print(percent_of_students_by_not_discounted , percent_of_students_by_discounted )"
   ]
  },
  {
   "cell_type": "markdown",
   "id": "0675fefd",
   "metadata": {},
   "source": [
    "데이터 시각화"
   ]
  },
  {
   "cell_type": "code",
   "execution_count": 8,
   "id": "a997bc33",
   "metadata": {
    "ExecuteTime": {
     "end_time": "2023-12-28T02:14:14.057768Z",
     "start_time": "2023-12-28T02:14:13.689422Z"
    }
   },
   "outputs": [
    {
     "name": "stderr",
     "output_type": "stream",
     "text": [
      "C:\\Users\\minji\\anaconda3\\Lib\\site-packages\\IPython\\core\\pylabtools.py:152: UserWarning: Glyph 44208 (\\N{HANGUL SYLLABLE GYEOL}) missing from current font.\n",
      "  fig.canvas.print_figure(bytes_io, **kw)\n",
      "C:\\Users\\minji\\anaconda3\\Lib\\site-packages\\IPython\\core\\pylabtools.py:152: UserWarning: Glyph 51228 (\\N{HANGUL SYLLABLE JE}) missing from current font.\n",
      "  fig.canvas.print_figure(bytes_io, **kw)\n",
      "C:\\Users\\minji\\anaconda3\\Lib\\site-packages\\IPython\\core\\pylabtools.py:152: UserWarning: Glyph 51204 (\\N{HANGUL SYLLABLE JEON}) missing from current font.\n",
      "  fig.canvas.print_figure(bytes_io, **kw)\n",
      "C:\\Users\\minji\\anaconda3\\Lib\\site-packages\\IPython\\core\\pylabtools.py:152: UserWarning: Glyph 54872 (\\N{HANGUL SYLLABLE HWAN}) missing from current font.\n",
      "  fig.canvas.print_figure(bytes_io, **kw)\n",
      "C:\\Users\\minji\\anaconda3\\Lib\\site-packages\\IPython\\core\\pylabtools.py:152: UserWarning: Glyph 50984 (\\N{HANGUL SYLLABLE YUL}) missing from current font.\n",
      "  fig.canvas.print_figure(bytes_io, **kw)\n",
      "C:\\Users\\minji\\anaconda3\\Lib\\site-packages\\IPython\\core\\pylabtools.py:152: UserWarning: Glyph 54624 (\\N{HANGUL SYLLABLE HAL}) missing from current font.\n",
      "  fig.canvas.print_figure(bytes_io, **kw)\n",
      "C:\\Users\\minji\\anaconda3\\Lib\\site-packages\\IPython\\core\\pylabtools.py:152: UserWarning: Glyph 51064 (\\N{HANGUL SYLLABLE IN}) missing from current font.\n",
      "  fig.canvas.print_figure(bytes_io, **kw)\n",
      "C:\\Users\\minji\\anaconda3\\Lib\\site-packages\\IPython\\core\\pylabtools.py:152: UserWarning: Glyph 50668 (\\N{HANGUL SYLLABLE YEO}) missing from current font.\n",
      "  fig.canvas.print_figure(bytes_io, **kw)\n",
      "C:\\Users\\minji\\anaconda3\\Lib\\site-packages\\IPython\\core\\pylabtools.py:152: UserWarning: Glyph 48512 (\\N{HANGUL SYLLABLE BU}) missing from current font.\n",
      "  fig.canvas.print_figure(bytes_io, **kw)\n",
      "C:\\Users\\minji\\anaconda3\\Lib\\site-packages\\IPython\\core\\pylabtools.py:152: UserWarning: Glyph 48708 (\\N{HANGUL SYLLABLE BI}) missing from current font.\n",
      "  fig.canvas.print_figure(bytes_io, **kw)\n",
      "C:\\Users\\minji\\anaconda3\\Lib\\site-packages\\IPython\\core\\pylabtools.py:152: UserWarning: Glyph 44368 (\\N{HANGUL SYLLABLE GYO}) missing from current font.\n",
      "  fig.canvas.print_figure(bytes_io, **kw)\n",
      "C:\\Users\\minji\\anaconda3\\Lib\\site-packages\\IPython\\core\\pylabtools.py:152: UserWarning: Glyph 48516 (\\N{HANGUL SYLLABLE BUN}) missing from current font.\n",
      "  fig.canvas.print_figure(bytes_io, **kw)\n",
      "C:\\Users\\minji\\anaconda3\\Lib\\site-packages\\IPython\\core\\pylabtools.py:152: UserWarning: Glyph 49437 (\\N{HANGUL SYLLABLE SEOG}) missing from current font.\n",
      "  fig.canvas.print_figure(bytes_io, **kw)\n",
      "C:\\Users\\minji\\anaconda3\\Lib\\site-packages\\IPython\\core\\pylabtools.py:152: UserWarning: Glyph 51221 (\\N{HANGUL SYLLABLE JEONG}) missing from current font.\n",
      "  fig.canvas.print_figure(bytes_io, **kw)\n",
      "C:\\Users\\minji\\anaconda3\\Lib\\site-packages\\IPython\\core\\pylabtools.py:152: UserWarning: Glyph 44032 (\\N{HANGUL SYLLABLE GA}) missing from current font.\n",
      "  fig.canvas.print_figure(bytes_io, **kw)\n",
      "C:\\Users\\minji\\anaconda3\\Lib\\site-packages\\IPython\\core\\pylabtools.py:152: UserWarning: Glyph 44396 (\\N{HANGUL SYLLABLE GU}) missing from current font.\n",
      "  fig.canvas.print_figure(bytes_io, **kw)\n",
      "C:\\Users\\minji\\anaconda3\\Lib\\site-packages\\IPython\\core\\pylabtools.py:152: UserWarning: Glyph 51077 (\\N{HANGUL SYLLABLE IB}) missing from current font.\n",
      "  fig.canvas.print_figure(bytes_io, **kw)\n",
      "C:\\Users\\minji\\anaconda3\\Lib\\site-packages\\IPython\\core\\pylabtools.py:152: UserWarning: Glyph 44536 (\\N{HANGUL SYLLABLE GEU}) missing from current font.\n",
      "  fig.canvas.print_figure(bytes_io, **kw)\n",
      "C:\\Users\\minji\\anaconda3\\Lib\\site-packages\\IPython\\core\\pylabtools.py:152: UserWarning: Glyph 47353 (\\N{HANGUL SYLLABLE RUB}) missing from current font.\n",
      "  fig.canvas.print_figure(bytes_io, **kw)\n",
      "C:\\Users\\minji\\anaconda3\\Lib\\site-packages\\IPython\\core\\pylabtools.py:152: UserWarning: Glyph 51201 (\\N{HANGUL SYLLABLE JEOG}) missing from current font.\n",
      "  fig.canvas.print_figure(bytes_io, **kw)\n",
      "C:\\Users\\minji\\anaconda3\\Lib\\site-packages\\IPython\\core\\pylabtools.py:152: UserWarning: Glyph 50857 (\\N{HANGUL SYLLABLE YONG}) missing from current font.\n",
      "  fig.canvas.print_figure(bytes_io, **kw)\n"
     ]
    },
    {
     "data": {
      "image/png": "[encoded data removed]",
      "text/plain": [
       "<Figure size 1000x500 with 1 Axes>"
      ]
     },
     "metadata": {},
     "output_type": "display_data"
    }
   ],
   "source": [
    "#그래프 사이즈\n",
    "plt.figure(figsize=(10,5))\n",
    "#x 그룹 지정하기\n",
    "x_list =[\"정가 구입 그룹\", \"할인 적용 그룹\"]\n",
    "#y 값\n",
    "#각각 어떤 값이 들어가야 하는지 입력해 볼까요?\n",
    "y_list = [percent_of_students_by_not_discounted ,percent_of_students_by_discounted]\n",
    "\n",
    "#x,y값 설정\n",
    "plt.bar(x_list, y_list)\n",
    "#그래프 타이틀\n",
    "plt.title('할인 여부 결제 전환율 비교 분석')\n",
    "#x축 레이블\n",
    "plt.xlabel('할인 적용 여부')\n",
    "#y축 레이블\n",
    "plt.ylabel('결제 전환율')\n",
    "#그래프 보여주기\n",
    "plt.show()\n",
    "\n",
    "#22+46%: 결제한 사람, 나머지: 결제 안 한 사람\n",
    "#결제한 사람을 1로 해도 됨"
   ]
  },
  {
   "cell_type": "markdown",
   "id": "89d6cf87",
   "metadata": {},
   "source": [
    "분석 결론 도출\n",
    "마지막 결제 페이지의 할인 쿠폰은 구매 결정에 결정적일 것인가?\n",
    "\n",
    "팀장님! 결제 마지막 페이지에서 이탈률의 원인이 가격 때문인지 확인을 위해서\n",
    "\n",
    "가격 허들이 낮아질 경우 구입에 긍정적 영향을 미칠 수 있는가에 대하여\n",
    "\n",
    "할인 쿠폰을 제공 여부로 AB테스트를 진행했는데요 해당 내용 결과 공유 드립니다!\n",
    "\n",
    "첫번째 그룹 마지막 페이지 결제 접속자 에게 마지막 결제 페이지에 할인 쿠폰을 제공\n",
    "두번째 그룹 마지막 페이지 결제 접속자 에게 할인 쿠폰 미 제공(정가 구매 유도)\n",
    "위 그래프를 보시는 것과 같이,\n",
    "\n",
    "문제 해결을 위한 세웠던 가설과 동일하게\n",
    "\n",
    "할인 적용 신청 그룹의 신청율이 46% 대 20%로\n",
    "\n",
    "정가 구입 그룹 보다 월등히 높은 것을 확인할 수 있습니다\n",
    "\n",
    "따라서, 고객의 구매 장벽을 낮추기 위해 마지막 페이지에\n",
    "\n",
    "적절한 할인을 제시하는 것이 신규 수강생 모집에 효과적으로 보입니다."
   ]
  },
  {
   "cell_type": "markdown",
   "id": "62f89af1",
   "metadata": {},
   "source": [
    "Quiz\n",
    "결제 마지막 페이지에서 할인 혜택을 제공할 경우\n",
    "\n",
    "결제율을 올릴 수 있다는 것을 확인 했습니다.\n",
    "\n",
    "그렇다면, 얼마만큼의 할인 혜택을 제공하는 것이 결제 전환율을 가장 높일 수 있는지 궁금해졌습니다!\n",
    "\n",
    "할인률이 높으면 높을수록 결제가 많아지는지 데이터를 통해 알아볼까요~?\n",
    "\n",
    "증명하고자 하는 가설 :\n",
    "\n",
    "할인율이 높으면 높을 수록 결제 전환율도 높을 것이다.\n",
    "\n",
    "그리하여, 각 2706명에게 1만원, 2만원, 3만원 쿠폰을 동시에 발송 하였다"
   ]
  },
  {
   "cell_type": "markdown",
   "id": "1a27c54d",
   "metadata": {},
   "source": [
    "데이터 로드 및 살펴보기\n",
    "user_db.csv ``user_id`: 회원 고유 아이디\n",
    "gender: 성별\n",
    "\n",
    "age: 나이대\n",
    "\n",
    "access_media: 수업 신청 경로\n",
    "\n",
    "group: 할인 받은 여부\n",
    "\n",
    "discounted: 할인의 종류 ```"
   ]
  },
  {
   "cell_type": "code",
   "execution_count": 9,
   "id": "16eda57c",
   "metadata": {
    "ExecuteTime": {
     "end_time": "2023-12-28T02:17:18.825013Z",
     "start_time": "2023-12-28T02:17:18.784741Z"
    }
   },
   "outputs": [
    {
     "data": {
      "text/html": [
       "<div>\n",
       "<style scoped>\n",
       "    .dataframe tbody tr th:only-of-type {\n",
       "        vertical-align: middle;\n",
       "    }\n",
       "\n",
       "    .dataframe tbody tr th {\n",
       "        vertical-align: top;\n",
       "    }\n",
       "\n",
       "    .dataframe thead th {\n",
       "        text-align: right;\n",
       "    }\n",
       "</style>\n",
       "<table border=\"1\" class=\"dataframe\">\n",
       "  <thead>\n",
       "    <tr style=\"text-align: right;\">\n",
       "      <th></th>\n",
       "      <th>user_id</th>\n",
       "      <th>gender</th>\n",
       "      <th>area</th>\n",
       "      <th>age</th>\n",
       "      <th>access_media</th>\n",
       "      <th>group</th>\n",
       "      <th>discounted</th>\n",
       "    </tr>\n",
       "  </thead>\n",
       "  <tbody>\n",
       "    <tr>\n",
       "      <th>0</th>\n",
       "      <td>78ff837c7cea9f33</td>\n",
       "      <td>남</td>\n",
       "      <td>송파구</td>\n",
       "      <td>20</td>\n",
       "      <td>인스타그램</td>\n",
       "      <td>1</td>\n",
       "      <td>10000.0</td>\n",
       "    </tr>\n",
       "    <tr>\n",
       "      <th>1</th>\n",
       "      <td>2987aa87d23c9e3d</td>\n",
       "      <td>남</td>\n",
       "      <td>강서구</td>\n",
       "      <td>30</td>\n",
       "      <td>검색</td>\n",
       "      <td>1</td>\n",
       "      <td>30000.0</td>\n",
       "    </tr>\n",
       "    <tr>\n",
       "      <th>2</th>\n",
       "      <td>23182525e9996864</td>\n",
       "      <td>남</td>\n",
       "      <td>도봉구</td>\n",
       "      <td>20</td>\n",
       "      <td>인스타그램</td>\n",
       "      <td>1</td>\n",
       "      <td>20000.0</td>\n",
       "    </tr>\n",
       "    <tr>\n",
       "      <th>3</th>\n",
       "      <td>ffb6913842d617a5</td>\n",
       "      <td>여</td>\n",
       "      <td>용산구</td>\n",
       "      <td>20</td>\n",
       "      <td>인스타그램</td>\n",
       "      <td>1</td>\n",
       "      <td>20000.0</td>\n",
       "    </tr>\n",
       "    <tr>\n",
       "      <th>4</th>\n",
       "      <td>2c6822e7e833dc95</td>\n",
       "      <td>여</td>\n",
       "      <td>은평구</td>\n",
       "      <td>30</td>\n",
       "      <td>네이버</td>\n",
       "      <td>1</td>\n",
       "      <td>30000.0</td>\n",
       "    </tr>\n",
       "    <tr>\n",
       "      <th>...</th>\n",
       "      <td>...</td>\n",
       "      <td>...</td>\n",
       "      <td>...</td>\n",
       "      <td>...</td>\n",
       "      <td>...</td>\n",
       "      <td>...</td>\n",
       "      <td>...</td>\n",
       "    </tr>\n",
       "    <tr>\n",
       "      <th>8123</th>\n",
       "      <td>6da398d852411234</td>\n",
       "      <td>여</td>\n",
       "      <td>은평구</td>\n",
       "      <td>30</td>\n",
       "      <td>지인추천</td>\n",
       "      <td>0</td>\n",
       "      <td>NaN</td>\n",
       "    </tr>\n",
       "    <tr>\n",
       "      <th>8124</th>\n",
       "      <td>6da398d852411235</td>\n",
       "      <td>남</td>\n",
       "      <td>강서구</td>\n",
       "      <td>30</td>\n",
       "      <td>검색</td>\n",
       "      <td>0</td>\n",
       "      <td>NaN</td>\n",
       "    </tr>\n",
       "    <tr>\n",
       "      <th>8125</th>\n",
       "      <td>6da398d852411236</td>\n",
       "      <td>여</td>\n",
       "      <td>용산구</td>\n",
       "      <td>20</td>\n",
       "      <td>인스타그램</td>\n",
       "      <td>0</td>\n",
       "      <td>NaN</td>\n",
       "    </tr>\n",
       "    <tr>\n",
       "      <th>8126</th>\n",
       "      <td>6da398d852411237</td>\n",
       "      <td>남</td>\n",
       "      <td>광진구</td>\n",
       "      <td>30</td>\n",
       "      <td>네이버</td>\n",
       "      <td>0</td>\n",
       "      <td>NaN</td>\n",
       "    </tr>\n",
       "    <tr>\n",
       "      <th>8127</th>\n",
       "      <td>6da398d852411238</td>\n",
       "      <td>여</td>\n",
       "      <td>도봉구</td>\n",
       "      <td>20</td>\n",
       "      <td>인스타그램</td>\n",
       "      <td>0</td>\n",
       "      <td>NaN</td>\n",
       "    </tr>\n",
       "  </tbody>\n",
       "</table>\n",
       "<p>8128 rows × 7 columns</p>\n",
       "</div>"
      ],
      "text/plain": [
       "               user_id gender area  age access_media  group  discounted\n",
       "0     78ff837c7cea9f33      남  송파구   20        인스타그램      1     10000.0\n",
       "1     2987aa87d23c9e3d      남  강서구   30           검색      1     30000.0\n",
       "2     23182525e9996864      남  도봉구   20        인스타그램      1     20000.0\n",
       "3     ffb6913842d617a5      여  용산구   20        인스타그램      1     20000.0\n",
       "4     2c6822e7e833dc95      여  은평구   30          네이버      1     30000.0\n",
       "...                ...    ...  ...  ...          ...    ...         ...\n",
       "8123  6da398d852411234      여  은평구   30         지인추천      0         NaN\n",
       "8124  6da398d852411235      남  강서구   30           검색      0         NaN\n",
       "8125  6da398d852411236      여  용산구   20        인스타그램      0         NaN\n",
       "8126  6da398d852411237      남  광진구   30          네이버      0         NaN\n",
       "8127  6da398d852411238      여  도봉구   20        인스타그램      0         NaN\n",
       "\n",
       "[8128 rows x 7 columns]"
      ]
     },
     "execution_count": 9,
     "metadata": {},
     "output_type": "execute_result"
    }
   ],
   "source": [
    "user_data = pd.read_table('data/user_db.csv',sep=',')\n",
    "user_data\n",
    "\n",
    "#구매한 사람만 보는 거니 결측치 상관x"
   ]
  },
  {
   "cell_type": "markdown",
   "id": "27c00e19",
   "metadata": {},
   "source": [
    "가설 검증을 위한 우리에게 필요한 정보는?\n",
    "`user_id`: 회원 고유 아이디\n",
    "`group`:  할인 받은 여부\n",
    "`discounted`: 할인의 종류\n",
    "\n",
    "데이터 전처리"
   ]
  },
  {
   "cell_type": "code",
   "execution_count": 10,
   "id": "04d389ab",
   "metadata": {
    "ExecuteTime": {
     "end_time": "2023-12-28T02:21:31.183207Z",
     "start_time": "2023-12-28T02:21:31.170805Z"
    }
   },
   "outputs": [
    {
     "data": {
      "text/plain": [
       "discounted\n",
       "10000.0     808\n",
       "20000.0    1588\n",
       "30000.0    3258\n",
       "Name: user_id, dtype: int64"
      ]
     },
     "execution_count": 10,
     "metadata": {},
     "output_type": "execute_result"
    }
   ],
   "source": [
    "#각 할인별 신청한 수강생 수 구하기\n",
    "students_discounted = user_data.groupby('discounted')['user_id'].count()\n",
    "students_discounted"
   ]
  },
  {
   "cell_type": "markdown",
   "id": "0572169f",
   "metadata": {},
   "source": [
    "데이터 시각화"
   ]
  },
  {
   "cell_type": "code",
   "execution_count": 11,
   "id": "f6eab1c3",
   "metadata": {
    "ExecuteTime": {
     "end_time": "2023-12-28T02:21:51.969204Z",
     "start_time": "2023-12-28T02:21:51.075324Z"
    },
    "scrolled": true
   },
   "outputs": [
    {
     "name": "stderr",
     "output_type": "stream",
     "text": [
      "C:\\Users\\minji\\anaconda3\\Lib\\site-packages\\IPython\\core\\pylabtools.py:152: UserWarning: Glyph 49688 (\\N{HANGUL SYLLABLE SU}) missing from current font.\n",
      "  fig.canvas.print_figure(bytes_io, **kw)\n",
      "C:\\Users\\minji\\anaconda3\\Lib\\site-packages\\IPython\\core\\pylabtools.py:152: UserWarning: Glyph 50629 (\\N{HANGUL SYLLABLE EOB}) missing from current font.\n",
      "  fig.canvas.print_figure(bytes_io, **kw)\n",
      "C:\\Users\\minji\\anaconda3\\Lib\\site-packages\\IPython\\core\\pylabtools.py:152: UserWarning: Glyph 49888 (\\N{HANGUL SYLLABLE SIN}) missing from current font.\n",
      "  fig.canvas.print_figure(bytes_io, **kw)\n",
      "C:\\Users\\minji\\anaconda3\\Lib\\site-packages\\IPython\\core\\pylabtools.py:152: UserWarning: Glyph 52397 (\\N{HANGUL SYLLABLE CEONG}) missing from current font.\n",
      "  fig.canvas.print_figure(bytes_io, **kw)\n",
      "C:\\Users\\minji\\anaconda3\\Lib\\site-packages\\IPython\\core\\pylabtools.py:152: UserWarning: Glyph 54620 (\\N{HANGUL SYLLABLE HAN}) missing from current font.\n",
      "  fig.canvas.print_figure(bytes_io, **kw)\n",
      "C:\\Users\\minji\\anaconda3\\Lib\\site-packages\\IPython\\core\\pylabtools.py:152: UserWarning: Glyph 44053 (\\N{HANGUL SYLLABLE GANG}) missing from current font.\n",
      "  fig.canvas.print_figure(bytes_io, **kw)\n",
      "C:\\Users\\minji\\anaconda3\\Lib\\site-packages\\IPython\\core\\pylabtools.py:152: UserWarning: Glyph 49373 (\\N{HANGUL SYLLABLE SAENG}) missing from current font.\n",
      "  fig.canvas.print_figure(bytes_io, **kw)\n",
      "C:\\Users\\minji\\anaconda3\\Lib\\site-packages\\IPython\\core\\pylabtools.py:152: UserWarning: Glyph 54624 (\\N{HANGUL SYLLABLE HAL}) missing from current font.\n",
      "  fig.canvas.print_figure(bytes_io, **kw)\n",
      "C:\\Users\\minji\\anaconda3\\Lib\\site-packages\\IPython\\core\\pylabtools.py:152: UserWarning: Glyph 51064 (\\N{HANGUL SYLLABLE IN}) missing from current font.\n",
      "  fig.canvas.print_figure(bytes_io, **kw)\n",
      "C:\\Users\\minji\\anaconda3\\Lib\\site-packages\\IPython\\core\\pylabtools.py:152: UserWarning: Glyph 50984 (\\N{HANGUL SYLLABLE YUL}) missing from current font.\n",
      "  fig.canvas.print_figure(bytes_io, **kw)\n",
      "C:\\Users\\minji\\anaconda3\\Lib\\site-packages\\IPython\\core\\pylabtools.py:152: UserWarning: Glyph 48324 (\\N{HANGUL SYLLABLE BYEOL}) missing from current font.\n",
      "  fig.canvas.print_figure(bytes_io, **kw)\n",
      "C:\\Users\\minji\\anaconda3\\Lib\\site-packages\\IPython\\core\\pylabtools.py:152: UserWarning: Glyph 51088 (\\N{HANGUL SYLLABLE JA}) missing from current font.\n",
      "  fig.canvas.print_figure(bytes_io, **kw)\n",
      "C:\\Users\\minji\\anaconda3\\Lib\\site-packages\\IPython\\core\\pylabtools.py:152: UserWarning: Glyph 47564 (\\N{HANGUL SYLLABLE MAN}) missing from current font.\n",
      "  fig.canvas.print_figure(bytes_io, **kw)\n",
      "C:\\Users\\minji\\anaconda3\\Lib\\site-packages\\IPython\\core\\pylabtools.py:152: UserWarning: Glyph 50896 (\\N{HANGUL SYLLABLE WEON}) missing from current font.\n",
      "  fig.canvas.print_figure(bytes_io, **kw)\n",
      "C:\\Users\\minji\\anaconda3\\Lib\\site-packages\\IPython\\core\\pylabtools.py:152: UserWarning: Glyph 53216 (\\N{HANGUL SYLLABLE KU}) missing from current font.\n",
      "  fig.canvas.print_figure(bytes_io, **kw)\n",
      "C:\\Users\\minji\\anaconda3\\Lib\\site-packages\\IPython\\core\\pylabtools.py:152: UserWarning: Glyph 54256 (\\N{HANGUL SYLLABLE PON}) missing from current font.\n",
      "  fig.canvas.print_figure(bytes_io, **kw)\n",
      "C:\\Users\\minji\\anaconda3\\Lib\\site-packages\\IPython\\core\\pylabtools.py:152: UserWarning: Glyph 44536 (\\N{HANGUL SYLLABLE GEU}) missing from current font.\n",
      "  fig.canvas.print_figure(bytes_io, **kw)\n",
      "C:\\Users\\minji\\anaconda3\\Lib\\site-packages\\IPython\\core\\pylabtools.py:152: UserWarning: Glyph 47353 (\\N{HANGUL SYLLABLE RUB}) missing from current font.\n",
      "  fig.canvas.print_figure(bytes_io, **kw)\n",
      "C:\\Users\\minji\\anaconda3\\Lib\\site-packages\\IPython\\core\\pylabtools.py:152: UserWarning: Glyph 51201 (\\N{HANGUL SYLLABLE JEOG}) missing from current font.\n",
      "  fig.canvas.print_figure(bytes_io, **kw)\n",
      "C:\\Users\\minji\\anaconda3\\Lib\\site-packages\\IPython\\core\\pylabtools.py:152: UserWarning: Glyph 50857 (\\N{HANGUL SYLLABLE YONG}) missing from current font.\n",
      "  fig.canvas.print_figure(bytes_io, **kw)\n",
      "C:\\Users\\minji\\anaconda3\\Lib\\site-packages\\IPython\\core\\pylabtools.py:152: UserWarning: Glyph 48276 (\\N{HANGUL SYLLABLE BEOM}) missing from current font.\n",
      "  fig.canvas.print_figure(bytes_io, **kw)\n",
      "C:\\Users\\minji\\anaconda3\\Lib\\site-packages\\IPython\\core\\pylabtools.py:152: UserWarning: Glyph 50948 (\\N{HANGUL SYLLABLE WI}) missing from current font.\n",
      "  fig.canvas.print_figure(bytes_io, **kw)\n"
     ]
    },
    {
     "data": {
      "image/png": "[encoded data removed]",
      "text/plain": [
       "<Figure size 1000x500 with 1 Axes>"
      ]
     },
     "metadata": {},
     "output_type": "display_data"
    }
   ],
   "source": [
    "#그래프 사이즈 \n",
    "plt.figure(figsize=(10,5))\n",
    "x_list =[\"1만원 쿠폰 그룹\", \"2만원 쿠폰 그룹\", \"3만원 쿠폰 그룹\"]\n",
    "#x,y값 설정\n",
    "plt.bar(x_list, students_discounted.values)\n",
    "#그래프 타이틀\n",
    "plt.title('할인 율 별 수강 신청 자 수')\n",
    "#x축 레이블\n",
    "plt.xlabel('할인 적용 범위')\n",
    "#y축 레이블\n",
    "plt.ylabel('수업 신청한 수강생')\n",
    "#그래프 보여주기\n",
    "plt.show()"
   ]
  },
  {
   "cell_type": "markdown",
   "id": "671f26de",
   "metadata": {},
   "source": [
    "데이터 분석 프로젝트 6차\n",
    "이스트 팀장\n",
    "\n",
    "“이스트 WASSUP 에서 수강 완주율은 좋은 컨텐츠 제공 여부 및 수강생 관리가 잘 되어 가고 있는지에 대한 가장 중요한 지표 입니다.\n",
    "그런데 지난 8월 중순 부터 웹개발 종합반의 완주율이 크게 떨어졌습니다.”\n",
    "\n",
    "이번 주는 무엇이 수강생들의 완주율에 가장 큰 영향을 미쳤는지 함께 고민 해 보고 개선해 봅시다.\n",
    "\n",
    "> 8월 중순부터 완주율이 크게 떨어졌습니다. 이유를 찾아서 개선해봅시다!\n",
    "저번주와 같이 문제에 대한 직접 가설을 세워보고 그걸 검증하는 연습을 해볼거예요!\n",
    "\n",
    "이제 기존 방식은 충분히 익숙해졌으니 한 걸음 더 나아갈 수 있는 내용을 가져왔어요!\n",
    "\n",
    "가설을 세우는 과정을 좀 더 자세히 배워봅시다\n",
    "기존의 두 가지 요소를 보는 그래프에서 한 단계 업해서 세 가지 요소를 한 눈에 시각화 해봅시다\n",
    "배경 파악 및 가설 세우기\n",
    "고객의 입장에서 수업을 듣는 여정 생각 해보기\n",
    "왜 이 과정이 필요 할까요? 문제해결을 위한 가설을 세우기 이전에 어떤 변수가 있을지 파악해야하기 때문입니다.\n",
    "생각한 가설 이외의 다른 변수가 있으면 데이터 분석이 유효하기 어려우므로\n",
    "전체적으로 보면서 영향을 주는 요소에는 어떤 것이 있을지 살피는 과정이 필요합니다.\n",
    "\n",
    "고객 여정을 생각해보면\n",
    "고객의 여정에 문제가 될 수 있는 것들을 파악 할 수 있습니다.\n",
    "어떤 부분에 개선이 필요한지 보다 명확하게 볼 수 있는 것이죠!\n",
    "→ 우리의 경우 수강생의 완주율과 관련한 수강 여정에 대해 생각해보면 되겠네요?\n",
    "\n",
    "고객은 다음과 같은 과정을 거쳐 우리의 강의를 듣습니다\n",
    "[수강 여정]\n",
    "\n",
    "1. 강의를 들을 수 있는 시간적 여유가 생긴다.\n",
    "\n",
    "우리가 그 사람들을 안 바쁘게 만들 수는 없으므로 아쉽게도 우리가 직접적으로 해결 할 수 있는 문제는 아닙니다!\n",
    "하지만, 추후 새로운 컨텐츠 제작이나 마케팅을 할 때 적절한 포지셔닝을 잡아갈 수 있습니다!\n",
    "이 사람들이 완강하지 못했다는 것은, 우리가 타겟한 사람에게 우리가 진정성 있는 도움을 드리지 못했다는 것이니까요!\n",
    "\n",
    "2. 강의를 들어야겠다고 마음을 먹는다.\n",
    "\n",
    "고객을 동기부여 시키는 구간인데요. 이 부분은 우리가 고객 관리를 통해 개입할 수 있는 부분 입니다.\n",
    "데이터를 살펴보면 좋겠군요! 저희는 “집중 케어”라는 수강을 독려하는 서비스가 있으니 이 부분을 뜯어볼까요~?\n",
    "집중 케어 : 수강생들이 중간에 포기하지 않도록 전화와 메신저로로 집중 관리해드리는 것을 말해요!\n",
    "강의를 듣기 위해 콘텐츠에 접근한다.\n",
    "\n",
    "개입이 가능합니다!\n",
    "강의를 들을때, 오류가 있거나 수강이 불편하게 되어있다면 수업을 더 지속하지 않을 사람들이 많이 있겠죠?\n",
    "고객이 강의 접근 과정에 있어 문제가 없도록 하는 것이 중요합니다.\n",
    "예를 들어, 웹페이지 시스템의 불편 사항, 영상 오류 여부 등이 영향을 미치지는 않았을지 점검 해보아야 합니다.\n",
    "→ 이번 시간에는 “확인 결과 수강 오류는 없었다” 라고 가정하겠습니다-! :)\n",
    "콘텐츠를 2에서 목표한 부분까지 듣는다\n",
    "\n",
    "해당 내용은 컨텐츠를 개선하여 해결이 가능합니다.\n",
    "콘텐츠를 듣지 않는 이유는 다양한 이유가 있겠지만\n",
    "가장 중요한 요소는 “흥미도” 와 “실용성”입니다.\n",
    "우리가 제공하는 컨텐츠가 재미있고 실용적인지 체크가 필요합니다.\n",
    "1, 2, 4번이 각각 문제가 있지는 않을지 확인해보면 어떤 것이 완주를 가로막고 있을지에 대해 파악할 수 있습니다.\n",
    "어떤 점을 개선하면 완주율을 높일 수 있을지 가설을 세워 확인하는 시간을 가져보겠습니다.\n",
    "\n",
    "배경 파악 및 가설 세우기\n",
    "우리는 적절한 타겟에게 판매를 하고 있을까?\n",
    "\n",
    "시간이 없어 듣지 못하는 고객의 경우 저희가 무언가를 개선한다고 완주를 할 수 없습니다.\n",
    "애초에 만족할 수 없는 고객에게 판매를 한 것이니 장기적 관점에서 포지셔닝 변경이 필요합니다.\n",
    "⇒ 이스트WASSUP 정말로 포지셔닝 변경이 필요할지 데이터로 살펴봅시다!\n",
    "\n",
    "* 보통 포지셔닝을 변경하는 일은 흔치 않으나 오늘은 전체적으로 뜯어보기로 하였으니 함께 체크해보아요! :)\n",
    "현재 상황 살펴보기\n",
    "1️⃣ 이스트WASSUP 광고의 메인 타겟은 2-30대입니다.\n",
    "2️⃣ 2-30대의 구매 건수는 다른 나이대에 비해 높은 편입니다.\n",
    "3️⃣ 이번에 완주 후 퀴즈를 제출하는 이벤트에서 2-30대의 참여율이 저조했습니다.\n",
    "4️⃣ 퀴즈에 참여하지 않은 인원의 전화인터뷰에서 “바빠서”라는 답변이 압도적으로 많았습니다.\n",
    "우리가 풀어야할 문제는?\n",
    "8월 중순부터 인공지능과정의 완주율이 크게 떨어진 이유를 밝혀야 합니다.\n",
    "완주가 가능한 수강생들이 수강을 할 수 있도록 적절한 포지셔닝을 고민해야 합니다.\n",
    "위 상황을 보고 예측할 수 있는 것\n",
    "2-30대가 우리 프로덕트에 관심이 있다\n",
    "2-30대가 완주율이 다른 나이대에 비해 낮을 가능성이 있다\n",
    "2-30대가 완주율이 낮은 이유는 다른 나이대에 비해 바쁘기 때문일 수 있다.\n",
    "→ 집단적으로 관심은 있었는데 지속적으로 수강을 할 수 없는 것은, 애초에 시간 부족 등의 이유로 참여하기 어려운 상황이었을 확률이 높습니다.\n",
    "\n",
    "가설 세우기\n",
    "다른 연령대에 비해 바쁜 20~30대의 수강 완주율이 상대적으로 낮을 것이다.\n",
    "생각 정리하기\n",
    "[검증 방법] : 나이대별 완주율을 비교한다\n",
    "[이후 액션] : 2-30대가 실제로 완주율이 낮을 경우 프로덕트가 적절한 고객에게 가지 못해 불만족이 발생하고 있는 상황이므로 프로덕트를 개선하거나 광고 메인 타겟을 변경할 수 있다."
   ]
  },
  {
   "cell_type": "code",
   "execution_count": null,
   "id": "8392c9bd",
   "metadata": {},
   "outputs": [],
   "source": [
    "import pandas as pd\n",
    "import matplotlib.pyplot as plt"
   ]
  },
  {
   "cell_type": "markdown",
   "id": "47ceae03",
   "metadata": {},
   "source": [
    "데이터 로드 및 살펴보기\n",
    "user_data.csv\n",
    "`_id`: 회원 고유 아이디\n",
    "`created_at`: 수강 등록 시점\n",
    "`updated_at`: 최근 수강 완료 시점\n",
    "`name:` 회원 이름\n",
    "`marketing`: 마케팅 수신동의\n",
    "`managed`: 찐한관리 여부\n",
    "`gender`: 성별\n",
    "`age`: 나이대 \n",
    "`progress_rate`: 진도율"
   ]
  },
  {
   "cell_type": "code",
   "execution_count": 12,
   "id": "bae02e7e",
   "metadata": {
    "ExecuteTime": {
     "end_time": "2023-12-28T02:41:07.540940Z",
     "start_time": "2023-12-28T02:41:07.473564Z"
    }
   },
   "outputs": [
    {
     "data": {
      "text/html": [
       "<div>\n",
       "<style scoped>\n",
       "    .dataframe tbody tr th:only-of-type {\n",
       "        vertical-align: middle;\n",
       "    }\n",
       "\n",
       "    .dataframe tbody tr th {\n",
       "        vertical-align: top;\n",
       "    }\n",
       "\n",
       "    .dataframe thead th {\n",
       "        text-align: right;\n",
       "    }\n",
       "</style>\n",
       "<table border=\"1\" class=\"dataframe\">\n",
       "  <thead>\n",
       "    <tr style=\"text-align: right;\">\n",
       "      <th></th>\n",
       "      <th>_id</th>\n",
       "      <th>created_at</th>\n",
       "      <th>updated_at</th>\n",
       "      <th>name</th>\n",
       "      <th>marketing</th>\n",
       "      <th>managed</th>\n",
       "      <th>gender</th>\n",
       "      <th>age</th>\n",
       "      <th>progress_rate</th>\n",
       "    </tr>\n",
       "  </thead>\n",
       "  <tbody>\n",
       "    <tr>\n",
       "      <th>0</th>\n",
       "      <td>e88cbf158991b41c</td>\n",
       "      <td>2022-08-26 10:04:54</td>\n",
       "      <td>2022-10-07 8:35:47</td>\n",
       "      <td>온아린</td>\n",
       "      <td>False</td>\n",
       "      <td>True</td>\n",
       "      <td>male</td>\n",
       "      <td>10</td>\n",
       "      <td>100.00</td>\n",
       "    </tr>\n",
       "    <tr>\n",
       "      <th>1</th>\n",
       "      <td>34525c4c113ea233</td>\n",
       "      <td>2021-02-20 1:23:38</td>\n",
       "      <td>2022-08-08 22:04:00</td>\n",
       "      <td>유강민</td>\n",
       "      <td>False</td>\n",
       "      <td>False</td>\n",
       "      <td>female</td>\n",
       "      <td>40</td>\n",
       "      <td>63.64</td>\n",
       "    </tr>\n",
       "    <tr>\n",
       "      <th>2</th>\n",
       "      <td>8f869d1ce7289b3d</td>\n",
       "      <td>2021-02-20 1:23:38</td>\n",
       "      <td>2022-08-08 22:04:00</td>\n",
       "      <td>문민서</td>\n",
       "      <td>False</td>\n",
       "      <td>False</td>\n",
       "      <td>female</td>\n",
       "      <td>30</td>\n",
       "      <td>63.64</td>\n",
       "    </tr>\n",
       "    <tr>\n",
       "      <th>3</th>\n",
       "      <td>bf1e94f981743e8d</td>\n",
       "      <td>2022-07-22 15:59:44</td>\n",
       "      <td>2022-08-29 21:12:15</td>\n",
       "      <td>석준영</td>\n",
       "      <td>False</td>\n",
       "      <td>False</td>\n",
       "      <td>male</td>\n",
       "      <td>50</td>\n",
       "      <td>64.77</td>\n",
       "    </tr>\n",
       "    <tr>\n",
       "      <th>4</th>\n",
       "      <td>b281c6fc121a338c</td>\n",
       "      <td>2022-07-22 15:59:44</td>\n",
       "      <td>2022-08-29 21:12:15</td>\n",
       "      <td>석도현</td>\n",
       "      <td>False</td>\n",
       "      <td>False</td>\n",
       "      <td>male</td>\n",
       "      <td>20</td>\n",
       "      <td>64.77</td>\n",
       "    </tr>\n",
       "  </tbody>\n",
       "</table>\n",
       "</div>"
      ],
      "text/plain": [
       "                _id           created_at           updated_at name  marketing  \\\n",
       "0  e88cbf158991b41c  2022-08-26 10:04:54   2022-10-07 8:35:47  온아린      False   \n",
       "1  34525c4c113ea233   2021-02-20 1:23:38  2022-08-08 22:04:00  유강민      False   \n",
       "2  8f869d1ce7289b3d   2021-02-20 1:23:38  2022-08-08 22:04:00  문민서      False   \n",
       "3  bf1e94f981743e8d  2022-07-22 15:59:44  2022-08-29 21:12:15  석준영      False   \n",
       "4  b281c6fc121a338c  2022-07-22 15:59:44  2022-08-29 21:12:15  석도현      False   \n",
       "\n",
       "   managed  gender  age  progress_rate  \n",
       "0     True    male   10         100.00  \n",
       "1    False  female   40          63.64  \n",
       "2    False  female   30          63.64  \n",
       "3    False    male   50          64.77  \n",
       "4    False    male   20          64.77  "
      ]
     },
     "execution_count": 12,
     "metadata": {},
     "output_type": "execute_result"
    }
   ],
   "source": [
    "user_data = pd.read_csv('data/user_data.csv')\n",
    "user_data.head()"
   ]
  },
  {
   "cell_type": "code",
   "execution_count": 13,
   "id": "f24845fd",
   "metadata": {
    "ExecuteTime": {
     "end_time": "2023-12-28T02:41:17.000680Z",
     "start_time": "2023-12-28T02:41:16.980135Z"
    }
   },
   "outputs": [
    {
     "name": "stdout",
     "output_type": "stream",
     "text": [
      "<class 'pandas.core.frame.DataFrame'>\n",
      "RangeIndex: 2574 entries, 0 to 2573\n",
      "Data columns (total 9 columns):\n",
      " #   Column         Non-Null Count  Dtype  \n",
      "---  ------         --------------  -----  \n",
      " 0   _id            2574 non-null   object \n",
      " 1   created_at     2574 non-null   object \n",
      " 2   updated_at     2574 non-null   object \n",
      " 3   name           2574 non-null   object \n",
      " 4   marketing      2574 non-null   bool   \n",
      " 5   managed        2574 non-null   bool   \n",
      " 6   gender         2574 non-null   object \n",
      " 7   age            2574 non-null   int64  \n",
      " 8   progress_rate  2574 non-null   float64\n",
      "dtypes: bool(2), float64(1), int64(1), object(5)\n",
      "memory usage: 145.9+ KB\n"
     ]
    }
   ],
   "source": [
    "user_data.info()"
   ]
  },
  {
   "cell_type": "code",
   "execution_count": 14,
   "id": "d63153f8",
   "metadata": {
    "ExecuteTime": {
     "end_time": "2023-12-28T02:41:22.068885Z",
     "start_time": "2023-12-28T02:41:22.041796Z"
    }
   },
   "outputs": [
    {
     "data": {
      "text/html": [
       "<div>\n",
       "<style scoped>\n",
       "    .dataframe tbody tr th:only-of-type {\n",
       "        vertical-align: middle;\n",
       "    }\n",
       "\n",
       "    .dataframe tbody tr th {\n",
       "        vertical-align: top;\n",
       "    }\n",
       "\n",
       "    .dataframe thead th {\n",
       "        text-align: right;\n",
       "    }\n",
       "</style>\n",
       "<table border=\"1\" class=\"dataframe\">\n",
       "  <thead>\n",
       "    <tr style=\"text-align: right;\">\n",
       "      <th></th>\n",
       "      <th>age</th>\n",
       "      <th>progress_rate</th>\n",
       "    </tr>\n",
       "  </thead>\n",
       "  <tbody>\n",
       "    <tr>\n",
       "      <th>count</th>\n",
       "      <td>2574.000000</td>\n",
       "      <td>2574.000000</td>\n",
       "    </tr>\n",
       "    <tr>\n",
       "      <th>mean</th>\n",
       "      <td>26.911422</td>\n",
       "      <td>67.781298</td>\n",
       "    </tr>\n",
       "    <tr>\n",
       "      <th>std</th>\n",
       "      <td>10.545661</td>\n",
       "      <td>40.208622</td>\n",
       "    </tr>\n",
       "    <tr>\n",
       "      <th>min</th>\n",
       "      <td>10.000000</td>\n",
       "      <td>0.000000</td>\n",
       "    </tr>\n",
       "    <tr>\n",
       "      <th>25%</th>\n",
       "      <td>20.000000</td>\n",
       "      <td>27.270000</td>\n",
       "    </tr>\n",
       "    <tr>\n",
       "      <th>50%</th>\n",
       "      <td>30.000000</td>\n",
       "      <td>90.910000</td>\n",
       "    </tr>\n",
       "    <tr>\n",
       "      <th>75%</th>\n",
       "      <td>30.000000</td>\n",
       "      <td>98.860000</td>\n",
       "    </tr>\n",
       "    <tr>\n",
       "      <th>max</th>\n",
       "      <td>50.000000</td>\n",
       "      <td>100.000000</td>\n",
       "    </tr>\n",
       "  </tbody>\n",
       "</table>\n",
       "</div>"
      ],
      "text/plain": [
       "               age  progress_rate\n",
       "count  2574.000000    2574.000000\n",
       "mean     26.911422      67.781298\n",
       "std      10.545661      40.208622\n",
       "min      10.000000       0.000000\n",
       "25%      20.000000      27.270000\n",
       "50%      30.000000      90.910000\n",
       "75%      30.000000      98.860000\n",
       "max      50.000000     100.000000"
      ]
     },
     "execution_count": 14,
     "metadata": {},
     "output_type": "execute_result"
    }
   ],
   "source": [
    "user_data.describe()"
   ]
  },
  {
   "cell_type": "markdown",
   "id": "66874dde",
   "metadata": {},
   "source": [
    "데이터 전처리\n"
   ]
  },
  {
   "cell_type": "code",
   "execution_count": 15,
   "id": "f863dff8",
   "metadata": {
    "ExecuteTime": {
     "end_time": "2023-12-28T02:41:44.237978Z",
     "start_time": "2023-12-28T02:41:44.221532Z"
    }
   },
   "outputs": [
    {
     "data": {
      "text/plain": [
       "age\n",
       "10    14446.05\n",
       "20    74306.47\n",
       "30    56793.87\n",
       "40    15921.31\n",
       "50    13001.36\n",
       "Name: progress_rate, dtype: float64"
      ]
     },
     "execution_count": 15,
     "metadata": {},
     "output_type": "execute_result"
    }
   ],
   "source": [
    "# 나이대별로 수강률 합 구하기\n",
    "progress_rate_by_age = user_data.groupby('age')['progress_rate'].sum()\n",
    "progress_rate_by_age"
   ]
  },
  {
   "cell_type": "code",
   "execution_count": 16,
   "id": "2710533f",
   "metadata": {
    "ExecuteTime": {
     "end_time": "2023-12-28T02:42:16.522096Z",
     "start_time": "2023-12-28T02:42:16.511551Z"
    }
   },
   "outputs": [
    {
     "data": {
      "text/plain": [
       "age\n",
       "10     226\n",
       "20    1043\n",
       "30     835\n",
       "40     240\n",
       "50     230\n",
       "Name: _id, dtype: int64"
      ]
     },
     "execution_count": 16,
     "metadata": {},
     "output_type": "execute_result"
    }
   ],
   "source": [
    "#나이대별 수강인원 구하기\n",
    "number_people_by_age = user_data.groupby('age')['_id'].count()\n",
    "number_people_by_age"
   ]
  },
  {
   "cell_type": "code",
   "execution_count": 17,
   "id": "27150084",
   "metadata": {
    "ExecuteTime": {
     "end_time": "2023-12-28T02:42:29.736318Z",
     "start_time": "2023-12-28T02:42:29.725559Z"
    }
   },
   "outputs": [
    {
     "data": {
      "text/plain": [
       "age\n",
       "10    63.920575\n",
       "20    71.243020\n",
       "30    68.016611\n",
       "40    66.338792\n",
       "50    56.527652\n",
       "dtype: float64"
      ]
     },
     "execution_count": 17,
     "metadata": {},
     "output_type": "execute_result"
    }
   ],
   "source": [
    "#나이대별 완주율 평균 구하기\n",
    "#시리즈가 계산 되는 이유: 배열이라서\n",
    "average = progress_rate_by_age/number_people_by_age\n",
    "average"
   ]
  },
  {
   "cell_type": "code",
   "execution_count": null,
   "id": "e59e2f6a",
   "metadata": {},
   "outputs": [],
   "source": []
  },
  {
   "cell_type": "code",
   "execution_count": 18,
   "id": "f7e5b2bd",
   "metadata": {
    "ExecuteTime": {
     "end_time": "2023-12-28T02:43:30.114603Z",
     "start_time": "2023-12-28T02:43:29.610485Z"
    }
   },
   "outputs": [
    {
     "data": {
      "text/plain": [
       "<BarContainer object of 5 artists>"
      ]
     },
     "execution_count": 18,
     "metadata": {},
     "output_type": "execute_result"
    },
    {
     "data": {
      "image/png": "[encoded data removed]",
      "text/plain": [
       "<Figure size 640x480 with 1 Axes>"
      ]
     },
     "metadata": {},
     "output_type": "display_data"
    }
   ],
   "source": [
    "plt.bar(average.index, average, width=8)"
   ]
  },
  {
   "cell_type": "code",
   "execution_count": 19,
   "id": "de36bf1d",
   "metadata": {
    "ExecuteTime": {
     "end_time": "2023-12-28T02:44:25.790872Z",
     "start_time": "2023-12-28T02:44:25.220817Z"
    }
   },
   "outputs": [
    {
     "name": "stderr",
     "output_type": "stream",
     "text": [
      "C:\\Users\\minji\\anaconda3\\Lib\\site-packages\\IPython\\core\\pylabtools.py:152: UserWarning: Glyph 49688 (\\N{HANGUL SYLLABLE SU}) missing from current font.\n",
      "  fig.canvas.print_figure(bytes_io, **kw)\n",
      "C:\\Users\\minji\\anaconda3\\Lib\\site-packages\\IPython\\core\\pylabtools.py:152: UserWarning: Glyph 44053 (\\N{HANGUL SYLLABLE GANG}) missing from current font.\n",
      "  fig.canvas.print_figure(bytes_io, **kw)\n",
      "C:\\Users\\minji\\anaconda3\\Lib\\site-packages\\IPython\\core\\pylabtools.py:152: UserWarning: Glyph 49373 (\\N{HANGUL SYLLABLE SAENG}) missing from current font.\n",
      "  fig.canvas.print_figure(bytes_io, **kw)\n",
      "C:\\Users\\minji\\anaconda3\\Lib\\site-packages\\IPython\\core\\pylabtools.py:152: UserWarning: Glyph 47749 (\\N{HANGUL SYLLABLE MYEONG}) missing from current font.\n",
      "  fig.canvas.print_figure(bytes_io, **kw)\n",
      "C:\\Users\\minji\\anaconda3\\Lib\\site-packages\\IPython\\core\\pylabtools.py:152: UserWarning: Glyph 45208 (\\N{HANGUL SYLLABLE NA}) missing from current font.\n",
      "  fig.canvas.print_figure(bytes_io, **kw)\n",
      "C:\\Users\\minji\\anaconda3\\Lib\\site-packages\\IPython\\core\\pylabtools.py:152: UserWarning: Glyph 51060 (\\N{HANGUL SYLLABLE I}) missing from current font.\n",
      "  fig.canvas.print_figure(bytes_io, **kw)\n",
      "C:\\Users\\minji\\anaconda3\\Lib\\site-packages\\IPython\\core\\pylabtools.py:152: UserWarning: Glyph 45824 (\\N{HANGUL SYLLABLE DAE}) missing from current font.\n",
      "  fig.canvas.print_figure(bytes_io, **kw)\n",
      "C:\\Users\\minji\\anaconda3\\Lib\\site-packages\\IPython\\core\\pylabtools.py:152: UserWarning: Glyph 48324 (\\N{HANGUL SYLLABLE BYEOL}) missing from current font.\n",
      "  fig.canvas.print_figure(bytes_io, **kw)\n",
      "C:\\Users\\minji\\anaconda3\\Lib\\site-packages\\IPython\\core\\pylabtools.py:152: UserWarning: Glyph 54217 (\\N{HANGUL SYLLABLE PYEONG}) missing from current font.\n",
      "  fig.canvas.print_figure(bytes_io, **kw)\n",
      "C:\\Users\\minji\\anaconda3\\Lib\\site-packages\\IPython\\core\\pylabtools.py:152: UserWarning: Glyph 44512 (\\N{HANGUL SYLLABLE GYUN}) missing from current font.\n",
      "  fig.canvas.print_figure(bytes_io, **kw)\n",
      "C:\\Users\\minji\\anaconda3\\Lib\\site-packages\\IPython\\core\\pylabtools.py:152: UserWarning: Glyph 50984 (\\N{HANGUL SYLLABLE YUL}) missing from current font.\n",
      "  fig.canvas.print_figure(bytes_io, **kw)\n"
     ]
    },
    {
     "data": {
      "image/png": "[encoded data removed]",
      "text/plain": [
       "<Figure size 600x600 with 1 Axes>"
      ]
     },
     "metadata": {},
     "output_type": "display_data"
    }
   ],
   "source": [
    "#plt.figure(width, height) : 넓이와 높이 만큼 이미지를 생성한다는 것을 말해줍니다!\n",
    "plt.figure(figsize=(6,6))\n",
    "\n",
    "#그래프의 x축 눈금 설정\n",
    "plt.xticks([10,20,30,40,50])\n",
    "\n",
    "#그래프의 바에 각 수치율을 추가 해 볼까요?\n",
    "bar = plt.bar(average.index, average, width=8)\n",
    "for rect in bar:\n",
    "    height = rect.get_height()\n",
    "    plt.text(rect.get_x() + rect.get_width()/2.0, height, '%.1f' % height, ha='center', va='bottom', size = 12)\n",
    "\n",
    "#그래프의 제목\n",
    "#타이틀과 그래프와의 간격은 pad= 수치 로 나타내어요!\n",
    "plt.title('[나이대 별 평균 수강율]',fontsize=15,pad=20)\n",
    "\n",
    "#그래프의 x축 라벨 이름\n",
    "#labelpad 파라미터는 축 레이블의 여백을 지정합니다.\n",
    "plt.xlabel('나이',fontsize=12,labelpad=20)\n",
    "\n",
    "#그래프의 y축 라벨 이름\n",
    "plt.ylabel('수강생(명)',fontsize=14,rotation=360,labelpad=35)\n",
    "\n",
    "#그래프를 화면에 나타나도록 합니다.\n",
    "plt.show()"
   ]
  },
  {
   "cell_type": "markdown",
   "id": "8d5c8ba9",
   "metadata": {},
   "source": [
    "분석 결론 도출\n",
    "우리는 적절한 타겟에게 판매를 하고 있을까?\n",
    "\n",
    "팀장님~\n",
    "\n",
    "저번 완주 후 퀴즈 이벤트에서 저희 메인 타겟층인 2-30대 인원의 참여율이 저조했었는데요,\n",
    "\n",
    "실제 완주율도 비슷하게 낮을까 우려가 되어 나이대별 완주율 데이터를 살펴보았습니다!\n",
    "\n",
    "다행히 아래 보시는 바와 같이,\n",
    "\n",
    "2-30대의 완주율 평균이 다른 나이대와 비슷한 비율이라는 점을 확인했습니다-!\n",
    "\n",
    "프로덕트가 적절한 고객에게 가지 못해 불만족이 발생하고 있지는 않을지 우려했는데\n",
    "\n",
    "다행히 프로덕트 개선이나 광고 메인 타겟을 변경 등은 고려에서 배제해도 좋을 것 같습니다!\n",
    "\n",
    "참고 차 공유드려요-!"
   ]
  },
  {
   "cell_type": "code",
   "execution_count": null,
   "id": "d581d57c",
   "metadata": {},
   "outputs": [],
   "source": []
  },
  {
   "cell_type": "code",
   "execution_count": null,
   "id": "666fca4a",
   "metadata": {},
   "outputs": [],
   "source": []
  },
  {
   "attachments": {
    "image.png": {
     "image/png": "[encoded data removed]"
    }
   },
   "cell_type": "markdown",
   "id": "a3faf223",
   "metadata": {},
   "source": [
    "데이터 분석 프로젝트 8차\n",
    "프로덕트 개선은 정말 도움이 되었을까?\n",
    "\n",
    "배경 파악 및 가설 세우기\n",
    "목표한 만큼 강의 컨텐츠를 모두 수강 완료하는 것에 도움을 주려면 콘텐츠가 충분히 흥미있고 유익해야 합니다. 이 부분을 확인해볼까요?\n",
    "\n",
    "→ 앗 이미 8월 즈음 콘텐츠 개편이 완료되어 적용된 상황입니다! → 흠.. 8월이라.. 완주율이 꺾인 시점과 유사한데 좀 더 파볼까요?\n",
    "\n",
    "현재 상황 살펴보기\n",
    "8월 2주 차 개강반부터 새로 제작된 3주차 콘텐츠를 듣기 시작했습니다.\n",
    "우리가 풀어야 할 문제는 무엇인가요?\n",
    "\n",
    "고객이 수강을 완료할 수 있도록 흥미롭고 도움이 되는 콘텐츠를 제공해야 합니다.\n",
    "8월 중순부터 웹개발 종합반의 완주율이 크게 떨어진 이유를 밝혀야 합니다.\n",
    "위 상황에서 알 수 있는 점은 무엇인가요?\n",
    "\n",
    "8월 중순부터 웹개발 종합반의 완주율이 크게 떨어졌으므로, 비슷한 시기에 진행한 프로덕트 개선이 영향을 미쳤을 가능성이 있어보입니다.\n",
    "가설을 세워봅시다\n",
    "\n",
    "8월 둘째 주 부터 변경된 3주 차 강의의 완주율이 현저히 떨어졌을 것이다.\n",
    "가설에 따라 이후 액션이 어떻게 될까요?\n",
    "\n",
    "정말 문제가 있었을 경우 : 이전의 커리큘럼으로 돌아간다\n",
    "문제가 없었을 경우 : 다른 요인을 찾아본다\n",
    "적절한 데이터 검증 방법 생각해보기\n",
    "가설 : 8월 둘째 주 부터 변경된 3주 차 강의의 완주율이 현저히 떨어졌을 것이다.\n",
    "자, 변경을 한 것이 정말 부정적 결과를 낳았는지 확인하려면 어떤 시점의 어떤 데이터를 봐야 할까요?\n",
    "\n",
    "“변경 직전과 변경 완료 시점의 전체 완주율을 비교하면 되는 것 아닐까요?”\n",
    "오호! 합리적이네요. 특정 기점을 기준으로 변경을 했으니 그 직전과 직후의 완주율을 살펴본다면 문제가 있었는지 없었는지 알 수 있겠군요!! 아래 그래프처럼요! \n",
    "![image.png](attachment:image.png)"
   ]
  },
  {
   "cell_type": "markdown",
   "id": "17554501",
   "metadata": {},
   "source": [
    "매주가 개강일\n",
    "\n",
    "코호트=같은 경험을 공유하는 집단"
   ]
  },
  {
   "cell_type": "code",
   "execution_count": 20,
   "id": "28aa74a8",
   "metadata": {
    "ExecuteTime": {
     "end_time": "2023-12-28T04:33:02.640450Z",
     "start_time": "2023-12-28T04:33:02.635797Z"
    }
   },
   "outputs": [],
   "source": [
    "import pandas as pd"
   ]
  },
  {
   "cell_type": "code",
   "execution_count": 21,
   "id": "41aa5249",
   "metadata": {
    "ExecuteTime": {
     "end_time": "2023-12-28T04:33:05.485814Z",
     "start_time": "2023-12-28T04:33:05.407177Z"
    }
   },
   "outputs": [
    {
     "data": {
      "text/html": [
       "<div>\n",
       "<style scoped>\n",
       "    .dataframe tbody tr th:only-of-type {\n",
       "        vertical-align: middle;\n",
       "    }\n",
       "\n",
       "    .dataframe tbody tr th {\n",
       "        vertical-align: top;\n",
       "    }\n",
       "\n",
       "    .dataframe thead th {\n",
       "        text-align: right;\n",
       "    }\n",
       "</style>\n",
       "<table border=\"1\" class=\"dataframe\">\n",
       "  <thead>\n",
       "    <tr style=\"text-align: right;\">\n",
       "      <th></th>\n",
       "      <th>created_at</th>\n",
       "      <th>user_id</th>\n",
       "      <th>name</th>\n",
       "      <th>progress_rate</th>\n",
       "    </tr>\n",
       "  </thead>\n",
       "  <tbody>\n",
       "    <tr>\n",
       "      <th>0</th>\n",
       "      <td>2022. 8. 15</td>\n",
       "      <td>237a15a4c854a19f</td>\n",
       "      <td>이시우</td>\n",
       "      <td>100</td>\n",
       "    </tr>\n",
       "    <tr>\n",
       "      <th>1</th>\n",
       "      <td>2022. 8. 8</td>\n",
       "      <td>9e39ebcdb3e41fdb</td>\n",
       "      <td>경서희</td>\n",
       "      <td>100</td>\n",
       "    </tr>\n",
       "    <tr>\n",
       "      <th>2</th>\n",
       "      <td>2022. 8. 8</td>\n",
       "      <td>ccd9564adf22a5f7</td>\n",
       "      <td>지소희</td>\n",
       "      <td>36</td>\n",
       "    </tr>\n",
       "    <tr>\n",
       "      <th>3</th>\n",
       "      <td>2022. 8. 1</td>\n",
       "      <td>291ad78f3adfa9ee</td>\n",
       "      <td>최가은</td>\n",
       "      <td>100</td>\n",
       "    </tr>\n",
       "    <tr>\n",
       "      <th>4</th>\n",
       "      <td>2022. 8. 22</td>\n",
       "      <td>dfa8afb8ada36a4a</td>\n",
       "      <td>설서영</td>\n",
       "      <td>100</td>\n",
       "    </tr>\n",
       "  </tbody>\n",
       "</table>\n",
       "</div>"
      ],
      "text/plain": [
       "    created_at           user_id name  progress_rate\n",
       "0  2022. 8. 15  237a15a4c854a19f  이시우            100\n",
       "1   2022. 8. 8  9e39ebcdb3e41fdb  경서희            100\n",
       "2   2022. 8. 8  ccd9564adf22a5f7  지소희             36\n",
       "3   2022. 8. 1  291ad78f3adfa9ee  최가은            100\n",
       "4  2022. 8. 22  dfa8afb8ada36a4a  설서영            100"
      ]
     },
     "execution_count": 21,
     "metadata": {},
     "output_type": "execute_result"
    }
   ],
   "source": [
    "cohort_data = pd.read_table('data/cohort_data.csv',sep=',')\n",
    "cohort_data.head()\n",
    "\n",
    "#몇주차인지 데이터가 없음. 추정해야함"
   ]
  },
  {
   "cell_type": "code",
   "execution_count": 22,
   "id": "ba3105d5",
   "metadata": {
    "ExecuteTime": {
     "end_time": "2023-12-28T04:33:10.210296Z",
     "start_time": "2023-12-28T04:33:10.191526Z"
    }
   },
   "outputs": [
    {
     "name": "stdout",
     "output_type": "stream",
     "text": [
      "<class 'pandas.core.frame.DataFrame'>\n",
      "RangeIndex: 1736 entries, 0 to 1735\n",
      "Data columns (total 4 columns):\n",
      " #   Column         Non-Null Count  Dtype \n",
      "---  ------         --------------  ----- \n",
      " 0   created_at     1736 non-null   object\n",
      " 1   user_id        1736 non-null   object\n",
      " 2   name           1736 non-null   object\n",
      " 3   progress_rate  1736 non-null   int64 \n",
      "dtypes: int64(1), object(3)\n",
      "memory usage: 54.4+ KB\n"
     ]
    }
   ],
   "source": [
    "cohort_data.info()"
   ]
  },
  {
   "cell_type": "code",
   "execution_count": 23,
   "id": "342274e0",
   "metadata": {
    "ExecuteTime": {
     "end_time": "2023-12-28T04:33:14.641848Z",
     "start_time": "2023-12-28T04:33:14.621586Z"
    }
   },
   "outputs": [
    {
     "data": {
      "text/html": [
       "<div>\n",
       "<style scoped>\n",
       "    .dataframe tbody tr th:only-of-type {\n",
       "        vertical-align: middle;\n",
       "    }\n",
       "\n",
       "    .dataframe tbody tr th {\n",
       "        vertical-align: top;\n",
       "    }\n",
       "\n",
       "    .dataframe thead th {\n",
       "        text-align: right;\n",
       "    }\n",
       "</style>\n",
       "<table border=\"1\" class=\"dataframe\">\n",
       "  <thead>\n",
       "    <tr style=\"text-align: right;\">\n",
       "      <th></th>\n",
       "      <th>progress_rate</th>\n",
       "    </tr>\n",
       "  </thead>\n",
       "  <tbody>\n",
       "    <tr>\n",
       "      <th>count</th>\n",
       "      <td>1736.000000</td>\n",
       "    </tr>\n",
       "    <tr>\n",
       "      <th>mean</th>\n",
       "      <td>78.471198</td>\n",
       "    </tr>\n",
       "    <tr>\n",
       "      <th>std</th>\n",
       "      <td>32.127202</td>\n",
       "    </tr>\n",
       "    <tr>\n",
       "      <th>min</th>\n",
       "      <td>0.000000</td>\n",
       "    </tr>\n",
       "    <tr>\n",
       "      <th>25%</th>\n",
       "      <td>58.000000</td>\n",
       "    </tr>\n",
       "    <tr>\n",
       "      <th>50%</th>\n",
       "      <td>100.000000</td>\n",
       "    </tr>\n",
       "    <tr>\n",
       "      <th>75%</th>\n",
       "      <td>100.000000</td>\n",
       "    </tr>\n",
       "    <tr>\n",
       "      <th>max</th>\n",
       "      <td>100.000000</td>\n",
       "    </tr>\n",
       "  </tbody>\n",
       "</table>\n",
       "</div>"
      ],
      "text/plain": [
       "       progress_rate\n",
       "count    1736.000000\n",
       "mean       78.471198\n",
       "std        32.127202\n",
       "min         0.000000\n",
       "25%        58.000000\n",
       "50%       100.000000\n",
       "75%       100.000000\n",
       "max       100.000000"
      ]
     },
     "execution_count": 23,
     "metadata": {},
     "output_type": "execute_result"
    }
   ],
   "source": [
    "cohort_data.describe()"
   ]
  },
  {
   "cell_type": "code",
   "execution_count": 24,
   "id": "01f1e017",
   "metadata": {
    "ExecuteTime": {
     "end_time": "2023-12-28T04:33:21.726270Z",
     "start_time": "2023-12-28T04:33:21.717440Z"
    }
   },
   "outputs": [
    {
     "data": {
      "text/plain": [
       "str"
      ]
     },
     "execution_count": 24,
     "metadata": {},
     "output_type": "execute_result"
    }
   ],
   "source": [
    "# 날짜 데이터 타입 확인하기\n",
    "type(cohort_data['created_at'][0])"
   ]
  },
  {
   "cell_type": "code",
   "execution_count": 25,
   "id": "e918d18e",
   "metadata": {
    "ExecuteTime": {
     "end_time": "2023-12-28T04:33:25.374307Z",
     "start_time": "2023-12-28T04:33:25.324550Z"
    }
   },
   "outputs": [
    {
     "data": {
      "text/html": [
       "<div>\n",
       "<style scoped>\n",
       "    .dataframe tbody tr th:only-of-type {\n",
       "        vertical-align: middle;\n",
       "    }\n",
       "\n",
       "    .dataframe tbody tr th {\n",
       "        vertical-align: top;\n",
       "    }\n",
       "\n",
       "    .dataframe thead th {\n",
       "        text-align: right;\n",
       "    }\n",
       "</style>\n",
       "<table border=\"1\" class=\"dataframe\">\n",
       "  <thead>\n",
       "    <tr style=\"text-align: right;\">\n",
       "      <th></th>\n",
       "      <th>created_at</th>\n",
       "      <th>user_id</th>\n",
       "      <th>name</th>\n",
       "      <th>progress_rate</th>\n",
       "      <th>start_time</th>\n",
       "    </tr>\n",
       "  </thead>\n",
       "  <tbody>\n",
       "    <tr>\n",
       "      <th>1731</th>\n",
       "      <td>2022. 8. 22</td>\n",
       "      <td>223c84b864342521</td>\n",
       "      <td>예채원</td>\n",
       "      <td>100</td>\n",
       "      <td>2022-08-22</td>\n",
       "    </tr>\n",
       "    <tr>\n",
       "      <th>1732</th>\n",
       "      <td>2022. 8. 22</td>\n",
       "      <td>8f9795f7fb32495b</td>\n",
       "      <td>하준희</td>\n",
       "      <td>100</td>\n",
       "      <td>2022-08-22</td>\n",
       "    </tr>\n",
       "    <tr>\n",
       "      <th>1733</th>\n",
       "      <td>2022. 9. 6</td>\n",
       "      <td>5642de61e1a3711e</td>\n",
       "      <td>추민준</td>\n",
       "      <td>53</td>\n",
       "      <td>2022-09-06</td>\n",
       "    </tr>\n",
       "    <tr>\n",
       "      <th>1734</th>\n",
       "      <td>2022. 8. 15</td>\n",
       "      <td>5f29bdba68615d6a</td>\n",
       "      <td>옥건</td>\n",
       "      <td>100</td>\n",
       "      <td>2022-08-15</td>\n",
       "    </tr>\n",
       "    <tr>\n",
       "      <th>1735</th>\n",
       "      <td>2022. 8. 15</td>\n",
       "      <td>24d978f6429a5af4</td>\n",
       "      <td>안유림</td>\n",
       "      <td>100</td>\n",
       "      <td>2022-08-15</td>\n",
       "    </tr>\n",
       "  </tbody>\n",
       "</table>\n",
       "</div>"
      ],
      "text/plain": [
       "       created_at           user_id name  progress_rate start_time\n",
       "1731  2022. 8. 22  223c84b864342521  예채원            100 2022-08-22\n",
       "1732  2022. 8. 22  8f9795f7fb32495b  하준희            100 2022-08-22\n",
       "1733   2022. 9. 6  5642de61e1a3711e  추민준             53 2022-09-06\n",
       "1734  2022. 8. 15  5f29bdba68615d6a   옥건            100 2022-08-15\n",
       "1735  2022. 8. 15  24d978f6429a5af4  안유림            100 2022-08-15"
      ]
     },
     "execution_count": 25,
     "metadata": {},
     "output_type": "execute_result"
    }
   ],
   "source": [
    "# 데이터 타임 객체로 변환하기\n",
    "# format='%Y-%m-%dT%H:%M:%S.%f'\n",
    "cohort_data['start_time'] = pd.to_datetime(cohort_data['created_at'], format='mixed')\n",
    "cohort_data.tail()\n"
   ]
  },
  {
   "cell_type": "code",
   "execution_count": 26,
   "id": "0ebe4006",
   "metadata": {
    "ExecuteTime": {
     "end_time": "2023-12-28T04:37:32.500191Z",
     "start_time": "2023-12-28T04:37:32.489364Z"
    }
   },
   "outputs": [
    {
     "data": {
      "text/plain": [
       "pandas._libs.tslibs.timestamps.Timestamp"
      ]
     },
     "execution_count": 26,
     "metadata": {},
     "output_type": "execute_result"
    }
   ],
   "source": [
    "type(cohort_data['start_time'][0])"
   ]
  },
  {
   "cell_type": "code",
   "execution_count": 27,
   "id": "de247e93",
   "metadata": {
    "ExecuteTime": {
     "end_time": "2023-12-28T04:37:36.080389Z",
     "start_time": "2023-12-28T04:37:36.051494Z"
    }
   },
   "outputs": [
    {
     "data": {
      "text/html": [
       "<div>\n",
       "<style scoped>\n",
       "    .dataframe tbody tr th:only-of-type {\n",
       "        vertical-align: middle;\n",
       "    }\n",
       "\n",
       "    .dataframe tbody tr th {\n",
       "        vertical-align: top;\n",
       "    }\n",
       "\n",
       "    .dataframe thead th {\n",
       "        text-align: right;\n",
       "    }\n",
       "</style>\n",
       "<table border=\"1\" class=\"dataframe\">\n",
       "  <thead>\n",
       "    <tr style=\"text-align: right;\">\n",
       "      <th></th>\n",
       "      <th>created_at</th>\n",
       "      <th>user_id</th>\n",
       "      <th>name</th>\n",
       "      <th>progress_rate</th>\n",
       "      <th>start_time</th>\n",
       "      <th>start_week</th>\n",
       "    </tr>\n",
       "  </thead>\n",
       "  <tbody>\n",
       "    <tr>\n",
       "      <th>1731</th>\n",
       "      <td>2022. 8. 22</td>\n",
       "      <td>223c84b864342521</td>\n",
       "      <td>예채원</td>\n",
       "      <td>100</td>\n",
       "      <td>2022-08-22</td>\n",
       "      <td>34</td>\n",
       "    </tr>\n",
       "    <tr>\n",
       "      <th>1732</th>\n",
       "      <td>2022. 8. 22</td>\n",
       "      <td>8f9795f7fb32495b</td>\n",
       "      <td>하준희</td>\n",
       "      <td>100</td>\n",
       "      <td>2022-08-22</td>\n",
       "      <td>34</td>\n",
       "    </tr>\n",
       "    <tr>\n",
       "      <th>1733</th>\n",
       "      <td>2022. 9. 6</td>\n",
       "      <td>5642de61e1a3711e</td>\n",
       "      <td>추민준</td>\n",
       "      <td>53</td>\n",
       "      <td>2022-09-06</td>\n",
       "      <td>36</td>\n",
       "    </tr>\n",
       "    <tr>\n",
       "      <th>1734</th>\n",
       "      <td>2022. 8. 15</td>\n",
       "      <td>5f29bdba68615d6a</td>\n",
       "      <td>옥건</td>\n",
       "      <td>100</td>\n",
       "      <td>2022-08-15</td>\n",
       "      <td>33</td>\n",
       "    </tr>\n",
       "    <tr>\n",
       "      <th>1735</th>\n",
       "      <td>2022. 8. 15</td>\n",
       "      <td>24d978f6429a5af4</td>\n",
       "      <td>안유림</td>\n",
       "      <td>100</td>\n",
       "      <td>2022-08-15</td>\n",
       "      <td>33</td>\n",
       "    </tr>\n",
       "  </tbody>\n",
       "</table>\n",
       "</div>"
      ],
      "text/plain": [
       "       created_at           user_id name  progress_rate start_time  start_week\n",
       "1731  2022. 8. 22  223c84b864342521  예채원            100 2022-08-22          34\n",
       "1732  2022. 8. 22  8f9795f7fb32495b  하준희            100 2022-08-22          34\n",
       "1733   2022. 9. 6  5642de61e1a3711e  추민준             53 2022-09-06          36\n",
       "1734  2022. 8. 15  5f29bdba68615d6a   옥건            100 2022-08-15          33\n",
       "1735  2022. 8. 15  24d978f6429a5af4  안유림            100 2022-08-15          33"
      ]
     },
     "execution_count": 27,
     "metadata": {},
     "output_type": "execute_result"
    }
   ],
   "source": [
    "#수강 시작 주 구하고, 테이블의 열로 추가 하기\n",
    "cohort_data['start_week']= cohort_data['start_time'].dt.isocalendar().week\n",
    "cohort_data.tail()\n",
    "#  .dt.isocalendar().week ⇒ 날짜를 주(week) 로 변경 할수 있습니다. "
   ]
  },
  {
   "cell_type": "code",
   "execution_count": 28,
   "id": "b99386e0",
   "metadata": {
    "ExecuteTime": {
     "end_time": "2023-12-28T04:37:40.777943Z",
     "start_time": "2023-12-28T04:37:40.767522Z"
    }
   },
   "outputs": [
    {
     "data": {
      "text/plain": [
       "{31, 32, 33, 34, 35, 36}"
      ]
     },
     "execution_count": 28,
     "metadata": {},
     "output_type": "execute_result"
    }
   ],
   "source": [
    "# 처음 수강 시작한 주 범위 확인 하기\n",
    "#이전에 배웠듯이 set()은 set안의 데이터는 순서가 정해져있지 않고, 중복되지 않는 고유한 요소를 가져옵니다!\n",
    "category_range = set(cohort_data['start_week'])\n",
    "category_range"
   ]
  },
  {
   "cell_type": "code",
   "execution_count": 29,
   "id": "622bbf42",
   "metadata": {
    "ExecuteTime": {
     "end_time": "2023-12-28T04:37:51.732246Z",
     "start_time": "2023-12-28T04:37:51.724206Z"
    }
   },
   "outputs": [
    {
     "data": {
      "text/plain": [
       "[100, 100, 36, 100, 100, 100, 71, 55, 67, 100]"
      ]
     },
     "execution_count": 29,
     "metadata": {},
     "output_type": "execute_result"
    }
   ],
   "source": [
    "# 2. 범주화할 데이터 리스트 만들기: 보기 좋게 하려고\n",
    "progress_rate = list(cohort_data['progress_rate'])\n",
    "progress_rate[:10]"
   ]
  },
  {
   "cell_type": "code",
   "execution_count": 30,
   "id": "73627c20",
   "metadata": {
    "ExecuteTime": {
     "end_time": "2023-12-28T04:38:58.498401Z",
     "start_time": "2023-12-28T04:38:58.490165Z"
    }
   },
   "outputs": [],
   "source": [
    "# 3. 범주를 구분하는 기준 및 라벨(수강 주차) 만들기\n",
    "#범주를 구분하는 기준 bins 처음(0)과 끝(100) 잊지 말고 기입 해주세요!\n",
    "bins = [0, 4.11, 26.03, 41.10, 61.64, 80.82, 100]\n",
    "#구분한 범주의 라벨 labels\n",
    "labels=[0,1,2,3,4,5]"
   ]
  },
  {
   "cell_type": "code",
   "execution_count": 31,
   "id": "d69ee284",
   "metadata": {
    "ExecuteTime": {
     "end_time": "2023-12-28T04:39:01.849837Z",
     "start_time": "2023-12-28T04:39:01.832848Z"
    }
   },
   "outputs": [
    {
     "data": {
      "text/plain": [
       "[5, 5, 2, 5, 5, ..., 5, 5, 3, 5, 5]\n",
       "Length: 1736\n",
       "Categories (6, int64): [0 < 1 < 2 < 3 < 4 < 5]"
      ]
     },
     "execution_count": 31,
     "metadata": {},
     "output_type": "execute_result"
    }
   ],
   "source": [
    "# 4. 진도율에 따라 주차별로 변경하기\n",
    "# 범주화 하기 pd.cut\n",
    "cuts = pd.cut(progress_rate, bins, right=True, include_lowest=True, labels=labels)\n",
    "cuts"
   ]
  },
  {
   "cell_type": "code",
   "execution_count": 32,
   "id": "ce6e50a3",
   "metadata": {
    "ExecuteTime": {
     "end_time": "2023-12-28T04:39:53.299858Z",
     "start_time": "2023-12-28T04:39:53.287555Z"
    }
   },
   "outputs": [
    {
     "data": {
      "text/html": [
       "<div>\n",
       "<style scoped>\n",
       "    .dataframe tbody tr th:only-of-type {\n",
       "        vertical-align: middle;\n",
       "    }\n",
       "\n",
       "    .dataframe tbody tr th {\n",
       "        vertical-align: top;\n",
       "    }\n",
       "\n",
       "    .dataframe thead th {\n",
       "        text-align: right;\n",
       "    }\n",
       "</style>\n",
       "<table border=\"1\" class=\"dataframe\">\n",
       "  <thead>\n",
       "    <tr style=\"text-align: right;\">\n",
       "      <th></th>\n",
       "      <th>0</th>\n",
       "    </tr>\n",
       "  </thead>\n",
       "  <tbody>\n",
       "    <tr>\n",
       "      <th>1731</th>\n",
       "      <td>5</td>\n",
       "    </tr>\n",
       "    <tr>\n",
       "      <th>1732</th>\n",
       "      <td>5</td>\n",
       "    </tr>\n",
       "    <tr>\n",
       "      <th>1733</th>\n",
       "      <td>3</td>\n",
       "    </tr>\n",
       "    <tr>\n",
       "      <th>1734</th>\n",
       "      <td>5</td>\n",
       "    </tr>\n",
       "    <tr>\n",
       "      <th>1735</th>\n",
       "      <td>5</td>\n",
       "    </tr>\n",
       "  </tbody>\n",
       "</table>\n",
       "</div>"
      ],
      "text/plain": [
       "      0\n",
       "1731  5\n",
       "1732  5\n",
       "1733  3\n",
       "1734  5\n",
       "1735  5"
      ]
     },
     "execution_count": 32,
     "metadata": {},
     "output_type": "execute_result"
    }
   ],
   "source": [
    "#범주화 결과물을 테이블로 변경하기\n",
    "cuts = pd.DataFrame(cuts)\n",
    "cuts.tail()"
   ]
  },
  {
   "cell_type": "code",
   "execution_count": 33,
   "id": "517f581c",
   "metadata": {
    "ExecuteTime": {
     "end_time": "2023-12-28T04:40:18.113470Z",
     "start_time": "2023-12-28T04:40:18.087702Z"
    }
   },
   "outputs": [
    {
     "data": {
      "text/html": [
       "<div>\n",
       "<style scoped>\n",
       "    .dataframe tbody tr th:only-of-type {\n",
       "        vertical-align: middle;\n",
       "    }\n",
       "\n",
       "    .dataframe tbody tr th {\n",
       "        vertical-align: top;\n",
       "    }\n",
       "\n",
       "    .dataframe thead th {\n",
       "        text-align: right;\n",
       "    }\n",
       "</style>\n",
       "<table border=\"1\" class=\"dataframe\">\n",
       "  <thead>\n",
       "    <tr style=\"text-align: right;\">\n",
       "      <th></th>\n",
       "      <th>created_at</th>\n",
       "      <th>user_id</th>\n",
       "      <th>name</th>\n",
       "      <th>progress_rate</th>\n",
       "      <th>start_time</th>\n",
       "      <th>start_week</th>\n",
       "      <th>0</th>\n",
       "    </tr>\n",
       "  </thead>\n",
       "  <tbody>\n",
       "    <tr>\n",
       "      <th>0</th>\n",
       "      <td>2022. 8. 15</td>\n",
       "      <td>237a15a4c854a19f</td>\n",
       "      <td>이시우</td>\n",
       "      <td>100</td>\n",
       "      <td>2022-08-15</td>\n",
       "      <td>33</td>\n",
       "      <td>5</td>\n",
       "    </tr>\n",
       "    <tr>\n",
       "      <th>1</th>\n",
       "      <td>2022. 8. 8</td>\n",
       "      <td>9e39ebcdb3e41fdb</td>\n",
       "      <td>경서희</td>\n",
       "      <td>100</td>\n",
       "      <td>2022-08-08</td>\n",
       "      <td>32</td>\n",
       "      <td>5</td>\n",
       "    </tr>\n",
       "    <tr>\n",
       "      <th>2</th>\n",
       "      <td>2022. 8. 8</td>\n",
       "      <td>ccd9564adf22a5f7</td>\n",
       "      <td>지소희</td>\n",
       "      <td>36</td>\n",
       "      <td>2022-08-08</td>\n",
       "      <td>32</td>\n",
       "      <td>2</td>\n",
       "    </tr>\n",
       "    <tr>\n",
       "      <th>3</th>\n",
       "      <td>2022. 8. 1</td>\n",
       "      <td>291ad78f3adfa9ee</td>\n",
       "      <td>최가은</td>\n",
       "      <td>100</td>\n",
       "      <td>2022-08-01</td>\n",
       "      <td>31</td>\n",
       "      <td>5</td>\n",
       "    </tr>\n",
       "    <tr>\n",
       "      <th>4</th>\n",
       "      <td>2022. 8. 22</td>\n",
       "      <td>dfa8afb8ada36a4a</td>\n",
       "      <td>설서영</td>\n",
       "      <td>100</td>\n",
       "      <td>2022-08-22</td>\n",
       "      <td>34</td>\n",
       "      <td>5</td>\n",
       "    </tr>\n",
       "  </tbody>\n",
       "</table>\n",
       "</div>"
      ],
      "text/plain": [
       "    created_at           user_id name  progress_rate start_time  start_week  0\n",
       "0  2022. 8. 15  237a15a4c854a19f  이시우            100 2022-08-15          33  5\n",
       "1   2022. 8. 8  9e39ebcdb3e41fdb  경서희            100 2022-08-08          32  5\n",
       "2   2022. 8. 8  ccd9564adf22a5f7  지소희             36 2022-08-08          32  2\n",
       "3   2022. 8. 1  291ad78f3adfa9ee  최가은            100 2022-08-01          31  5\n",
       "4  2022. 8. 22  dfa8afb8ada36a4a  설서영            100 2022-08-22          34  5"
      ]
     },
     "execution_count": 33,
     "metadata": {},
     "output_type": "execute_result"
    }
   ],
   "source": [
    "# 기존 테이블에 현재 수강 주차 테이블 합치기 \n",
    "# concat() 함수를 이용하여, cohort_data 테이블과, cuts 테이블 병합 할수 있습니다 :)\n",
    "cohort_data = pd.concat([cohort_data, cuts],axis=1, join='inner')\n",
    "cohort_data.head()"
   ]
  },
  {
   "cell_type": "code",
   "execution_count": 34,
   "id": "1a3ea406",
   "metadata": {
    "ExecuteTime": {
     "end_time": "2023-12-28T04:41:32.329779Z",
     "start_time": "2023-12-28T04:41:27.200808Z"
    }
   },
   "outputs": [
    {
     "ename": "TypeError",
     "evalue": "Index does not support mutable operations",
     "output_type": "error",
     "traceback": [
      "\u001b[1;31m---------------------------------------------------------------------------\u001b[0m",
      "\u001b[1;31mTypeError\u001b[0m                                 Traceback (most recent call last)",
      "Cell \u001b[1;32mIn[34], line 2\u001b[0m\n\u001b[0;32m      1\u001b[0m \u001b[38;5;66;03m# 수강 주차의 컬럼 이름 변경하기: 칼럼을 전부 입력을 해줘야함\u001b[39;00m\n\u001b[1;32m----> 2\u001b[0m cohort_data\u001b[38;5;241m.\u001b[39mcolumns[\u001b[38;5;241m6\u001b[39m]\u001b[38;5;241m=\u001b[39m\u001b[38;5;124m\"\u001b[39m\u001b[38;5;124mweeks\u001b[39m\u001b[38;5;124m\"\u001b[39m\n",
      "File \u001b[1;32m~\\anaconda3\\Lib\\site-packages\\pandas\\core\\indexes\\base.py:5157\u001b[0m, in \u001b[0;36mIndex.__setitem__\u001b[1;34m(self, key, value)\u001b[0m\n\u001b[0;32m   5155\u001b[0m \u001b[38;5;129m@final\u001b[39m\n\u001b[0;32m   5156\u001b[0m \u001b[38;5;28;01mdef\u001b[39;00m \u001b[38;5;21m__setitem__\u001b[39m(\u001b[38;5;28mself\u001b[39m, key, value):\n\u001b[1;32m-> 5157\u001b[0m     \u001b[38;5;28;01mraise\u001b[39;00m \u001b[38;5;167;01mTypeError\u001b[39;00m(\u001b[38;5;124m\"\u001b[39m\u001b[38;5;124mIndex does not support mutable operations\u001b[39m\u001b[38;5;124m\"\u001b[39m)\n",
      "\u001b[1;31mTypeError\u001b[0m: Index does not support mutable operations"
     ]
    }
   ],
   "source": [
    "# 수강 주차의 컬럼 이름 변경하기: 칼럼을 전부 입력을 해줘야함\n",
    "cohort_data.columns[6]=\"weeks\"\n",
    "#6번째의 컬럼의 이름만 \"weeks\" 변경 해주면 되겠죠?\n",
    "#하지만 이렇게 작성하면 오류가 발생 할꺼예요!"
   ]
  },
  {
   "cell_type": "code",
   "execution_count": 35,
   "id": "10156abc",
   "metadata": {
    "ExecuteTime": {
     "end_time": "2023-12-28T04:41:39.642586Z",
     "start_time": "2023-12-28T04:41:39.603135Z"
    }
   },
   "outputs": [
    {
     "data": {
      "text/html": [
       "<div>\n",
       "<style scoped>\n",
       "    .dataframe tbody tr th:only-of-type {\n",
       "        vertical-align: middle;\n",
       "    }\n",
       "\n",
       "    .dataframe tbody tr th {\n",
       "        vertical-align: top;\n",
       "    }\n",
       "\n",
       "    .dataframe thead th {\n",
       "        text-align: right;\n",
       "    }\n",
       "</style>\n",
       "<table border=\"1\" class=\"dataframe\">\n",
       "  <thead>\n",
       "    <tr style=\"text-align: right;\">\n",
       "      <th></th>\n",
       "      <th>created_at</th>\n",
       "      <th>user_id</th>\n",
       "      <th>name</th>\n",
       "      <th>progress_rate</th>\n",
       "      <th>start_time</th>\n",
       "      <th>start_week</th>\n",
       "      <th>week</th>\n",
       "    </tr>\n",
       "  </thead>\n",
       "  <tbody>\n",
       "    <tr>\n",
       "      <th>0</th>\n",
       "      <td>2022. 8. 15</td>\n",
       "      <td>237a15a4c854a19f</td>\n",
       "      <td>이시우</td>\n",
       "      <td>100</td>\n",
       "      <td>2022-08-15</td>\n",
       "      <td>33</td>\n",
       "      <td>5</td>\n",
       "    </tr>\n",
       "    <tr>\n",
       "      <th>1</th>\n",
       "      <td>2022. 8. 8</td>\n",
       "      <td>9e39ebcdb3e41fdb</td>\n",
       "      <td>경서희</td>\n",
       "      <td>100</td>\n",
       "      <td>2022-08-08</td>\n",
       "      <td>32</td>\n",
       "      <td>5</td>\n",
       "    </tr>\n",
       "    <tr>\n",
       "      <th>2</th>\n",
       "      <td>2022. 8. 8</td>\n",
       "      <td>ccd9564adf22a5f7</td>\n",
       "      <td>지소희</td>\n",
       "      <td>36</td>\n",
       "      <td>2022-08-08</td>\n",
       "      <td>32</td>\n",
       "      <td>2</td>\n",
       "    </tr>\n",
       "    <tr>\n",
       "      <th>3</th>\n",
       "      <td>2022. 8. 1</td>\n",
       "      <td>291ad78f3adfa9ee</td>\n",
       "      <td>최가은</td>\n",
       "      <td>100</td>\n",
       "      <td>2022-08-01</td>\n",
       "      <td>31</td>\n",
       "      <td>5</td>\n",
       "    </tr>\n",
       "    <tr>\n",
       "      <th>4</th>\n",
       "      <td>2022. 8. 22</td>\n",
       "      <td>dfa8afb8ada36a4a</td>\n",
       "      <td>설서영</td>\n",
       "      <td>100</td>\n",
       "      <td>2022-08-22</td>\n",
       "      <td>34</td>\n",
       "      <td>5</td>\n",
       "    </tr>\n",
       "    <tr>\n",
       "      <th>...</th>\n",
       "      <td>...</td>\n",
       "      <td>...</td>\n",
       "      <td>...</td>\n",
       "      <td>...</td>\n",
       "      <td>...</td>\n",
       "      <td>...</td>\n",
       "      <td>...</td>\n",
       "    </tr>\n",
       "    <tr>\n",
       "      <th>1731</th>\n",
       "      <td>2022. 8. 22</td>\n",
       "      <td>223c84b864342521</td>\n",
       "      <td>예채원</td>\n",
       "      <td>100</td>\n",
       "      <td>2022-08-22</td>\n",
       "      <td>34</td>\n",
       "      <td>5</td>\n",
       "    </tr>\n",
       "    <tr>\n",
       "      <th>1732</th>\n",
       "      <td>2022. 8. 22</td>\n",
       "      <td>8f9795f7fb32495b</td>\n",
       "      <td>하준희</td>\n",
       "      <td>100</td>\n",
       "      <td>2022-08-22</td>\n",
       "      <td>34</td>\n",
       "      <td>5</td>\n",
       "    </tr>\n",
       "    <tr>\n",
       "      <th>1733</th>\n",
       "      <td>2022. 9. 6</td>\n",
       "      <td>5642de61e1a3711e</td>\n",
       "      <td>추민준</td>\n",
       "      <td>53</td>\n",
       "      <td>2022-09-06</td>\n",
       "      <td>36</td>\n",
       "      <td>3</td>\n",
       "    </tr>\n",
       "    <tr>\n",
       "      <th>1734</th>\n",
       "      <td>2022. 8. 15</td>\n",
       "      <td>5f29bdba68615d6a</td>\n",
       "      <td>옥건</td>\n",
       "      <td>100</td>\n",
       "      <td>2022-08-15</td>\n",
       "      <td>33</td>\n",
       "      <td>5</td>\n",
       "    </tr>\n",
       "    <tr>\n",
       "      <th>1735</th>\n",
       "      <td>2022. 8. 15</td>\n",
       "      <td>24d978f6429a5af4</td>\n",
       "      <td>안유림</td>\n",
       "      <td>100</td>\n",
       "      <td>2022-08-15</td>\n",
       "      <td>33</td>\n",
       "      <td>5</td>\n",
       "    </tr>\n",
       "  </tbody>\n",
       "</table>\n",
       "<p>1736 rows × 7 columns</p>\n",
       "</div>"
      ],
      "text/plain": [
       "       created_at           user_id name  progress_rate start_time  \\\n",
       "0     2022. 8. 15  237a15a4c854a19f  이시우            100 2022-08-15   \n",
       "1      2022. 8. 8  9e39ebcdb3e41fdb  경서희            100 2022-08-08   \n",
       "2      2022. 8. 8  ccd9564adf22a5f7  지소희             36 2022-08-08   \n",
       "3      2022. 8. 1  291ad78f3adfa9ee  최가은            100 2022-08-01   \n",
       "4     2022. 8. 22  dfa8afb8ada36a4a  설서영            100 2022-08-22   \n",
       "...           ...               ...  ...            ...        ...   \n",
       "1731  2022. 8. 22  223c84b864342521  예채원            100 2022-08-22   \n",
       "1732  2022. 8. 22  8f9795f7fb32495b  하준희            100 2022-08-22   \n",
       "1733   2022. 9. 6  5642de61e1a3711e  추민준             53 2022-09-06   \n",
       "1734  2022. 8. 15  5f29bdba68615d6a   옥건            100 2022-08-15   \n",
       "1735  2022. 8. 15  24d978f6429a5af4  안유림            100 2022-08-15   \n",
       "\n",
       "      start_week week  \n",
       "0             33    5  \n",
       "1             32    5  \n",
       "2             32    2  \n",
       "3             31    5  \n",
       "4             34    5  \n",
       "...          ...  ...  \n",
       "1731          34    5  \n",
       "1732          34    5  \n",
       "1733          36    3  \n",
       "1734          33    5  \n",
       "1735          33    5  \n",
       "\n",
       "[1736 rows x 7 columns]"
      ]
     },
     "execution_count": 35,
     "metadata": {},
     "output_type": "execute_result"
    }
   ],
   "source": [
    "#그래서, 귀찮더라도, 우리가 원하는 컬럼의 이름을 다 작성해 줍시다!\n",
    "cohort_data.columns=['created_at','user_id','name','progress_rate','start_time','start_week',\"week\"]\n",
    "cohort_data"
   ]
  },
  {
   "cell_type": "code",
   "execution_count": null,
   "id": "c6f39374",
   "metadata": {},
   "outputs": [],
   "source": []
  },
  {
   "cell_type": "code",
   "execution_count": 36,
   "id": "ac6f5522",
   "metadata": {
    "ExecuteTime": {
     "end_time": "2023-12-28T04:42:41.394369Z",
     "start_time": "2023-12-28T04:42:41.384226Z"
    }
   },
   "outputs": [
    {
     "data": {
      "text/plain": [
       "<pandas.core.groupby.generic.DataFrameGroupBy object at 0x0000017ABA24CAD0>"
      ]
     },
     "execution_count": 36,
     "metadata": {},
     "output_type": "execute_result"
    }
   ],
   "source": [
    "# step 1) 수강 시작 주와, 수강 주차를 기준으로 테이블 만들기\n",
    "grouping = cohort_data.groupby(['start_week', 'week'])\n",
    "grouping"
   ]
  },
  {
   "cell_type": "code",
   "execution_count": null,
   "id": "3a4fae55",
   "metadata": {},
   "outputs": [],
   "source": [
    "pd.Series.nunique?"
   ]
  },
  {
   "cell_type": "code",
   "execution_count": 37,
   "id": "e688507f",
   "metadata": {
    "ExecuteTime": {
     "end_time": "2023-12-28T04:42:48.000406Z",
     "start_time": "2023-12-28T04:42:47.971860Z"
    },
    "scrolled": true
   },
   "outputs": [
    {
     "data": {
      "text/html": [
       "<div>\n",
       "<style scoped>\n",
       "    .dataframe tbody tr th:only-of-type {\n",
       "        vertical-align: middle;\n",
       "    }\n",
       "\n",
       "    .dataframe tbody tr th {\n",
       "        vertical-align: top;\n",
       "    }\n",
       "\n",
       "    .dataframe thead th {\n",
       "        text-align: right;\n",
       "    }\n",
       "</style>\n",
       "<table border=\"1\" class=\"dataframe\">\n",
       "  <thead>\n",
       "    <tr style=\"text-align: right;\">\n",
       "      <th></th>\n",
       "      <th></th>\n",
       "      <th>user_id</th>\n",
       "    </tr>\n",
       "    <tr>\n",
       "      <th>start_week</th>\n",
       "      <th>week</th>\n",
       "      <th></th>\n",
       "    </tr>\n",
       "  </thead>\n",
       "  <tbody>\n",
       "    <tr>\n",
       "      <th rowspan=\"6\" valign=\"top\">31</th>\n",
       "      <th>0</th>\n",
       "      <td>5</td>\n",
       "    </tr>\n",
       "    <tr>\n",
       "      <th>1</th>\n",
       "      <td>14</td>\n",
       "    </tr>\n",
       "    <tr>\n",
       "      <th>2</th>\n",
       "      <td>14</td>\n",
       "    </tr>\n",
       "    <tr>\n",
       "      <th>3</th>\n",
       "      <td>16</td>\n",
       "    </tr>\n",
       "    <tr>\n",
       "      <th>4</th>\n",
       "      <td>14</td>\n",
       "    </tr>\n",
       "    <tr>\n",
       "      <th>5</th>\n",
       "      <td>167</td>\n",
       "    </tr>\n",
       "  </tbody>\n",
       "</table>\n",
       "</div>"
      ],
      "text/plain": [
       "                 user_id\n",
       "start_week week         \n",
       "31         0           5\n",
       "           1          14\n",
       "           2          14\n",
       "           3          16\n",
       "           4          14\n",
       "           5         167"
      ]
     },
     "execution_count": 37,
     "metadata": {},
     "output_type": "execute_result"
    }
   ],
   "source": [
    "# step 2) 수강 시작 주와, 수강 주차에 각 해당하는 수강생 수 구하고, 테이블로 변경하기 \n",
    "cohort_data = grouping['user_id'].apply(pd.Series.nunique)\n",
    "cohort_data = pd.DataFrame(cohort_data)\n",
    "cohort_data.head(6)\n",
    "#유니크한 사람 뽑기\n",
    "#잔여 인원에 대한 데이터만 남음. 현재 그 주차를 수강하고 있는 사람이 나옴 \n",
    "# 1주차 강의에 머물러 있는 사람은 14명. 0-4주차 다 듣고 5주차를 듣고 있는 사람이 167명\n",
    "#위로 누적을 시켜야함"
   ]
  },
  {
   "cell_type": "code",
   "execution_count": 38,
   "id": "73e21a62",
   "metadata": {
    "ExecuteTime": {
     "end_time": "2023-12-28T05:14:03.915352Z",
     "start_time": "2023-12-28T05:14:03.902489Z"
    }
   },
   "outputs": [
    {
     "data": {
      "text/plain": [
       "16"
      ]
     },
     "execution_count": 38,
     "metadata": {},
     "output_type": "execute_result"
    }
   ],
   "source": [
    "cohort_data.at[ (31,3) , 'user_id' ]"
   ]
  },
  {
   "cell_type": "code",
   "execution_count": 39,
   "id": "86dc5de7",
   "metadata": {
    "ExecuteTime": {
     "end_time": "2023-12-28T05:19:32.160654Z",
     "start_time": "2023-12-28T05:19:32.144971Z"
    }
   },
   "outputs": [],
   "source": [
    "# step 3) 수강 주차 별, 수강한 총 인원 구하기\n",
    "# ⇒ 각 주차별로 머물러 있는 수강생 수는 구했지만,\n",
    "# 우리에게 필요한 것은 수강 주차별 수강을 '완료'한 총 인원 입니다!  (누적합)\n",
    "\n",
    "#첫 주가 31주니 변수를 하나 만들어 줍니다!\n",
    "f = 31\n",
    "\n",
    "#기수 , 주차를 돌려야하니 for문 2개\n",
    "\n",
    "#처음 수강 시작한 주의 범위가 {31,32,33,34,35,36} 이니, range(6)으로 합시다!\n",
    "for i in range(6):\n",
    "\t#5주차의 강의가 마지막이고, 0주차까지 이니, 시작은 5에서 시작해 1씩 0까지 감소 시킬수 있어요!\n",
    "  for j in range(5, 0, -1):\n",
    "    # at함수 : 테이블의 하나의 요소에 접근 할수 있습니다 .\n",
    "    cohort_data.at[ (f, j-1) , 'user_id'] = int(cohort_data.at[(f,j),'user_id']) +  int(cohort_data.at[(f,j-1),'user_id'])\n",
    "\t#주차는(31부터 32 33..) 1씩 늘어나죠?\n",
    "  f = f + 1"
   ]
  },
  {
   "cell_type": "code",
   "execution_count": 40,
   "id": "fc8824fe",
   "metadata": {
    "ExecuteTime": {
     "end_time": "2023-12-28T05:19:38.463450Z",
     "start_time": "2023-12-28T05:19:38.445165Z"
    }
   },
   "outputs": [
    {
     "data": {
      "text/html": [
       "<div>\n",
       "<style scoped>\n",
       "    .dataframe tbody tr th:only-of-type {\n",
       "        vertical-align: middle;\n",
       "    }\n",
       "\n",
       "    .dataframe tbody tr th {\n",
       "        vertical-align: top;\n",
       "    }\n",
       "\n",
       "    .dataframe thead th {\n",
       "        text-align: right;\n",
       "    }\n",
       "</style>\n",
       "<table border=\"1\" class=\"dataframe\">\n",
       "  <thead>\n",
       "    <tr style=\"text-align: right;\">\n",
       "      <th></th>\n",
       "      <th>start_week</th>\n",
       "      <th>week</th>\n",
       "      <th>user_id</th>\n",
       "    </tr>\n",
       "  </thead>\n",
       "  <tbody>\n",
       "    <tr>\n",
       "      <th>0</th>\n",
       "      <td>31</td>\n",
       "      <td>0</td>\n",
       "      <td>230</td>\n",
       "    </tr>\n",
       "    <tr>\n",
       "      <th>1</th>\n",
       "      <td>31</td>\n",
       "      <td>1</td>\n",
       "      <td>225</td>\n",
       "    </tr>\n",
       "    <tr>\n",
       "      <th>2</th>\n",
       "      <td>31</td>\n",
       "      <td>2</td>\n",
       "      <td>211</td>\n",
       "    </tr>\n",
       "    <tr>\n",
       "      <th>3</th>\n",
       "      <td>31</td>\n",
       "      <td>3</td>\n",
       "      <td>197</td>\n",
       "    </tr>\n",
       "    <tr>\n",
       "      <th>4</th>\n",
       "      <td>31</td>\n",
       "      <td>4</td>\n",
       "      <td>181</td>\n",
       "    </tr>\n",
       "  </tbody>\n",
       "</table>\n",
       "</div>"
      ],
      "text/plain": [
       "   start_week week  user_id\n",
       "0          31    0      230\n",
       "1          31    1      225\n",
       "2          31    2      211\n",
       "3          31    3      197\n",
       "4          31    4      181"
      ]
     },
     "execution_count": 40,
     "metadata": {},
     "output_type": "execute_result"
    }
   ],
   "source": [
    "# step4) cohort_data에 인덱스 설정하기  \n",
    "cohort_data = cohort_data.reset_index()\n",
    "cohort_data.head()"
   ]
  },
  {
   "cell_type": "code",
   "execution_count": 41,
   "id": "0c68e55f",
   "metadata": {
    "ExecuteTime": {
     "end_time": "2023-12-28T05:21:30.452895Z",
     "start_time": "2023-12-28T05:21:30.417070Z"
    }
   },
   "outputs": [
    {
     "data": {
      "text/html": [
       "<div>\n",
       "<style scoped>\n",
       "    .dataframe tbody tr th:only-of-type {\n",
       "        vertical-align: middle;\n",
       "    }\n",
       "\n",
       "    .dataframe tbody tr th {\n",
       "        vertical-align: top;\n",
       "    }\n",
       "\n",
       "    .dataframe thead th {\n",
       "        text-align: right;\n",
       "    }\n",
       "</style>\n",
       "<table border=\"1\" class=\"dataframe\">\n",
       "  <thead>\n",
       "    <tr style=\"text-align: right;\">\n",
       "      <th>week</th>\n",
       "      <th>0</th>\n",
       "      <th>1</th>\n",
       "      <th>2</th>\n",
       "      <th>3</th>\n",
       "      <th>4</th>\n",
       "      <th>5</th>\n",
       "    </tr>\n",
       "    <tr>\n",
       "      <th>start_week</th>\n",
       "      <th></th>\n",
       "      <th></th>\n",
       "      <th></th>\n",
       "      <th></th>\n",
       "      <th></th>\n",
       "      <th></th>\n",
       "    </tr>\n",
       "  </thead>\n",
       "  <tbody>\n",
       "    <tr>\n",
       "      <th>31</th>\n",
       "      <td>230</td>\n",
       "      <td>225</td>\n",
       "      <td>211</td>\n",
       "      <td>197</td>\n",
       "      <td>181</td>\n",
       "      <td>167</td>\n",
       "    </tr>\n",
       "    <tr>\n",
       "      <th>32</th>\n",
       "      <td>344</td>\n",
       "      <td>340</td>\n",
       "      <td>323</td>\n",
       "      <td>275</td>\n",
       "      <td>233</td>\n",
       "      <td>213</td>\n",
       "    </tr>\n",
       "    <tr>\n",
       "      <th>33</th>\n",
       "      <td>289</td>\n",
       "      <td>277</td>\n",
       "      <td>242</td>\n",
       "      <td>228</td>\n",
       "      <td>202</td>\n",
       "      <td>184</td>\n",
       "    </tr>\n",
       "    <tr>\n",
       "      <th>34</th>\n",
       "      <td>261</td>\n",
       "      <td>247</td>\n",
       "      <td>232</td>\n",
       "      <td>216</td>\n",
       "      <td>203</td>\n",
       "      <td>169</td>\n",
       "    </tr>\n",
       "    <tr>\n",
       "      <th>35</th>\n",
       "      <td>325</td>\n",
       "      <td>302</td>\n",
       "      <td>276</td>\n",
       "      <td>260</td>\n",
       "      <td>234</td>\n",
       "      <td>198</td>\n",
       "    </tr>\n",
       "    <tr>\n",
       "      <th>36</th>\n",
       "      <td>287</td>\n",
       "      <td>278</td>\n",
       "      <td>258</td>\n",
       "      <td>241</td>\n",
       "      <td>218</td>\n",
       "      <td>189</td>\n",
       "    </tr>\n",
       "  </tbody>\n",
       "</table>\n",
       "</div>"
      ],
      "text/plain": [
       "week          0    1    2    3    4    5\n",
       "start_week                              \n",
       "31          230  225  211  197  181  167\n",
       "32          344  340  323  275  233  213\n",
       "33          289  277  242  228  202  184\n",
       "34          261  247  232  216  203  169\n",
       "35          325  302  276  260  234  198\n",
       "36          287  278  258  241  218  189"
      ]
     },
     "execution_count": 41,
     "metadata": {},
     "output_type": "execute_result"
    }
   ],
   "source": [
    "# 피벗테이블 만들기\n",
    "cohort_counts = cohort_data.pivot(index=\"start_week\",\n",
    "                                  columns=\"week\",\n",
    "                                  values=\"user_id\")\n",
    "cohort_counts"
   ]
  },
  {
   "cell_type": "code",
   "execution_count": 42,
   "id": "da42b43b",
   "metadata": {
    "ExecuteTime": {
     "end_time": "2023-12-28T05:37:12.809546Z",
     "start_time": "2023-12-28T05:37:12.793955Z"
    }
   },
   "outputs": [
    {
     "data": {
      "text/plain": [
       "start_week\n",
       "31    230\n",
       "32    344\n",
       "33    289\n",
       "34    261\n",
       "35    325\n",
       "36    287\n",
       "Name: 0, dtype: int64"
      ]
     },
     "execution_count": 42,
     "metadata": {},
     "output_type": "execute_result"
    }
   ],
   "source": [
    "# 리텐션 테이블 생성 및 각 데이터에 나눠 줄 수강 시작 주 총 인원 구하기\n",
    "# 수강 첫 주 총 인원 구하기\n",
    "\n",
    "# 앞서 만든 피벗 테이블을 retention 변수에 저장하기\n",
    "retention = cohort_counts\n",
    "\n",
    "#각 주(week) 별 최초 수강생 수만 가져오기 (나눠줄때, 분모가 되는 부분!)\n",
    "cohort_sizes = cohort_counts.iloc[:, 0]\n",
    "cohort_sizes"
   ]
  },
  {
   "cell_type": "code",
   "execution_count": 43,
   "id": "146d0d58",
   "metadata": {
    "ExecuteTime": {
     "end_time": "2023-12-28T05:37:33.695424Z",
     "start_time": "2023-12-28T05:37:33.673492Z"
    }
   },
   "outputs": [
    {
     "data": {
      "text/html": [
       "<div>\n",
       "<style scoped>\n",
       "    .dataframe tbody tr th:only-of-type {\n",
       "        vertical-align: middle;\n",
       "    }\n",
       "\n",
       "    .dataframe tbody tr th {\n",
       "        vertical-align: top;\n",
       "    }\n",
       "\n",
       "    .dataframe thead th {\n",
       "        text-align: right;\n",
       "    }\n",
       "</style>\n",
       "<table border=\"1\" class=\"dataframe\">\n",
       "  <thead>\n",
       "    <tr style=\"text-align: right;\">\n",
       "      <th>week</th>\n",
       "      <th>0</th>\n",
       "      <th>1</th>\n",
       "      <th>2</th>\n",
       "      <th>3</th>\n",
       "      <th>4</th>\n",
       "      <th>5</th>\n",
       "    </tr>\n",
       "    <tr>\n",
       "      <th>start_week</th>\n",
       "      <th></th>\n",
       "      <th></th>\n",
       "      <th></th>\n",
       "      <th></th>\n",
       "      <th></th>\n",
       "      <th></th>\n",
       "    </tr>\n",
       "  </thead>\n",
       "  <tbody>\n",
       "    <tr>\n",
       "      <th>31</th>\n",
       "      <td>1.0</td>\n",
       "      <td>0.978261</td>\n",
       "      <td>0.917391</td>\n",
       "      <td>0.856522</td>\n",
       "      <td>0.786957</td>\n",
       "      <td>0.726087</td>\n",
       "    </tr>\n",
       "    <tr>\n",
       "      <th>32</th>\n",
       "      <td>1.0</td>\n",
       "      <td>0.988372</td>\n",
       "      <td>0.938953</td>\n",
       "      <td>0.799419</td>\n",
       "      <td>0.677326</td>\n",
       "      <td>0.619186</td>\n",
       "    </tr>\n",
       "    <tr>\n",
       "      <th>33</th>\n",
       "      <td>1.0</td>\n",
       "      <td>0.958478</td>\n",
       "      <td>0.837370</td>\n",
       "      <td>0.788927</td>\n",
       "      <td>0.698962</td>\n",
       "      <td>0.636678</td>\n",
       "    </tr>\n",
       "    <tr>\n",
       "      <th>34</th>\n",
       "      <td>1.0</td>\n",
       "      <td>0.946360</td>\n",
       "      <td>0.888889</td>\n",
       "      <td>0.827586</td>\n",
       "      <td>0.777778</td>\n",
       "      <td>0.647510</td>\n",
       "    </tr>\n",
       "    <tr>\n",
       "      <th>35</th>\n",
       "      <td>1.0</td>\n",
       "      <td>0.929231</td>\n",
       "      <td>0.849231</td>\n",
       "      <td>0.800000</td>\n",
       "      <td>0.720000</td>\n",
       "      <td>0.609231</td>\n",
       "    </tr>\n",
       "  </tbody>\n",
       "</table>\n",
       "</div>"
      ],
      "text/plain": [
       "week          0         1         2         3         4         5\n",
       "start_week                                                       \n",
       "31          1.0  0.978261  0.917391  0.856522  0.786957  0.726087\n",
       "32          1.0  0.988372  0.938953  0.799419  0.677326  0.619186\n",
       "33          1.0  0.958478  0.837370  0.788927  0.698962  0.636678\n",
       "34          1.0  0.946360  0.888889  0.827586  0.777778  0.647510\n",
       "35          1.0  0.929231  0.849231  0.800000  0.720000  0.609231"
      ]
     },
     "execution_count": 43,
     "metadata": {},
     "output_type": "execute_result"
    }
   ],
   "source": [
    "#  각 데이터에 수강 시작 주의 총 인원 나눠주기\n",
    "# 표의 단일 데이터에 최초 수강생의 수를 나누어, 각 주당 수강생 수강율 나타내기! \n",
    "retention = cohort_counts.divide(cohort_sizes, axis=0)\n",
    "retention.head()"
   ]
  },
  {
   "cell_type": "code",
   "execution_count": 44,
   "id": "27dcc53a",
   "metadata": {
    "ExecuteTime": {
     "end_time": "2023-12-28T05:38:36.543329Z",
     "start_time": "2023-12-28T05:38:36.521147Z"
    }
   },
   "outputs": [
    {
     "data": {
      "text/html": [
       "<div>\n",
       "<style scoped>\n",
       "    .dataframe tbody tr th:only-of-type {\n",
       "        vertical-align: middle;\n",
       "    }\n",
       "\n",
       "    .dataframe tbody tr th {\n",
       "        vertical-align: top;\n",
       "    }\n",
       "\n",
       "    .dataframe thead th {\n",
       "        text-align: right;\n",
       "    }\n",
       "</style>\n",
       "<table border=\"1\" class=\"dataframe\">\n",
       "  <thead>\n",
       "    <tr style=\"text-align: right;\">\n",
       "      <th>week</th>\n",
       "      <th>0</th>\n",
       "      <th>1</th>\n",
       "      <th>2</th>\n",
       "      <th>3</th>\n",
       "      <th>4</th>\n",
       "      <th>5</th>\n",
       "    </tr>\n",
       "    <tr>\n",
       "      <th>start_week</th>\n",
       "      <th></th>\n",
       "      <th></th>\n",
       "      <th></th>\n",
       "      <th></th>\n",
       "      <th></th>\n",
       "      <th></th>\n",
       "    </tr>\n",
       "  </thead>\n",
       "  <tbody>\n",
       "    <tr>\n",
       "      <th>31</th>\n",
       "      <td>100.0</td>\n",
       "      <td>97.8</td>\n",
       "      <td>91.7</td>\n",
       "      <td>85.7</td>\n",
       "      <td>78.7</td>\n",
       "      <td>72.6</td>\n",
       "    </tr>\n",
       "    <tr>\n",
       "      <th>32</th>\n",
       "      <td>100.0</td>\n",
       "      <td>98.8</td>\n",
       "      <td>93.9</td>\n",
       "      <td>79.9</td>\n",
       "      <td>67.7</td>\n",
       "      <td>61.9</td>\n",
       "    </tr>\n",
       "    <tr>\n",
       "      <th>33</th>\n",
       "      <td>100.0</td>\n",
       "      <td>95.8</td>\n",
       "      <td>83.7</td>\n",
       "      <td>78.9</td>\n",
       "      <td>69.9</td>\n",
       "      <td>63.7</td>\n",
       "    </tr>\n",
       "    <tr>\n",
       "      <th>34</th>\n",
       "      <td>100.0</td>\n",
       "      <td>94.6</td>\n",
       "      <td>88.9</td>\n",
       "      <td>82.8</td>\n",
       "      <td>77.8</td>\n",
       "      <td>64.8</td>\n",
       "    </tr>\n",
       "    <tr>\n",
       "      <th>35</th>\n",
       "      <td>100.0</td>\n",
       "      <td>92.9</td>\n",
       "      <td>84.9</td>\n",
       "      <td>80.0</td>\n",
       "      <td>72.0</td>\n",
       "      <td>60.9</td>\n",
       "    </tr>\n",
       "    <tr>\n",
       "      <th>36</th>\n",
       "      <td>100.0</td>\n",
       "      <td>96.9</td>\n",
       "      <td>89.9</td>\n",
       "      <td>84.0</td>\n",
       "      <td>76.0</td>\n",
       "      <td>65.9</td>\n",
       "    </tr>\n",
       "  </tbody>\n",
       "</table>\n",
       "</div>"
      ],
      "text/plain": [
       "week            0     1     2     3     4     5\n",
       "start_week                                     \n",
       "31          100.0  97.8  91.7  85.7  78.7  72.6\n",
       "32          100.0  98.8  93.9  79.9  67.7  61.9\n",
       "33          100.0  95.8  83.7  78.9  69.9  63.7\n",
       "34          100.0  94.6  88.9  82.8  77.8  64.8\n",
       "35          100.0  92.9  84.9  80.0  72.0  60.9\n",
       "36          100.0  96.9  89.9  84.0  76.0  65.9"
      ]
     },
     "execution_count": 44,
     "metadata": {},
     "output_type": "execute_result"
    }
   ],
   "source": [
    "#각 수치 퍼센트로 변경하기\n",
    "#round 함수로 3자리 수에서 반올림 한 후, 100을 곱해 줍니다!\n",
    "retention.round(3)*100"
   ]
  },
  {
   "cell_type": "code",
   "execution_count": 45,
   "id": "25dba0ef",
   "metadata": {
    "ExecuteTime": {
     "end_time": "2023-12-28T05:38:50.199418Z",
     "start_time": "2023-12-28T05:38:45.276050Z"
    }
   },
   "outputs": [],
   "source": [
    "import seaborn as sns\n",
    "import matplotlib.pyplot as plt\n",
    "import koreanize_matplotlib"
   ]
  },
  {
   "cell_type": "code",
   "execution_count": 46,
   "id": "bfcd5344",
   "metadata": {
    "ExecuteTime": {
     "end_time": "2023-12-28T05:39:56.481473Z",
     "start_time": "2023-12-28T05:39:55.375237Z"
    }
   },
   "outputs": [
    {
     "data": {
      "image/png": "[encoded data removed]",
      "text/plain": [
       "<Figure size 1000x800 with 2 Axes>"
      ]
     },
     "metadata": {},
     "output_type": "display_data"
    }
   ],
   "source": [
    "import seaborn as sns\n",
    "#테이블 크기 설정 하기\n",
    "plt.figure(figsize=(10,8))\n",
    "\n",
    "sns.heatmap(data= retention,\n",
    "           annot=True, #각 cell의 데이터 표기 유무를 나타냅니다!\n",
    "           fmt='.0%', #values(데이터의 값) 값의 소수점 표기\n",
    "           vmin=0,# 색범위 최소값 설정\n",
    "           vmax=1,# 색범위 최댓값 설정\n",
    "           cmap=\"BuGn\" #히트맵의 색을 설정합니다\n",
    "\t\t\t\t\t\t)\n",
    "\n",
    "plt.xlabel('주차', fontsize=14,labelpad=30)\n",
    "\n",
    "plt.ylabel('개강일', fontsize=14,labelpad=30)\n",
    "plt.yticks()\n",
    "\n",
    "plt.show()\n"
   ]
  },
  {
   "cell_type": "code",
   "execution_count": 47,
   "id": "b2fc18b4",
   "metadata": {
    "ExecuteTime": {
     "end_time": "2023-12-28T05:45:37.293602Z",
     "start_time": "2023-12-28T05:45:36.943694Z"
    }
   },
   "outputs": [
    {
     "data": {
      "text/html": [
       "<div>\n",
       "<style scoped>\n",
       "    .dataframe tbody tr th:only-of-type {\n",
       "        vertical-align: middle;\n",
       "    }\n",
       "\n",
       "    .dataframe tbody tr th {\n",
       "        vertical-align: top;\n",
       "    }\n",
       "\n",
       "    .dataframe thead th {\n",
       "        text-align: right;\n",
       "    }\n",
       "</style>\n",
       "<table border=\"1\" class=\"dataframe\">\n",
       "  <thead>\n",
       "    <tr style=\"text-align: right;\">\n",
       "      <th>week</th>\n",
       "      <th>0</th>\n",
       "      <th>1</th>\n",
       "      <th>2</th>\n",
       "      <th>3</th>\n",
       "      <th>4</th>\n",
       "      <th>5</th>\n",
       "    </tr>\n",
       "    <tr>\n",
       "      <th>start_week</th>\n",
       "      <th></th>\n",
       "      <th></th>\n",
       "      <th></th>\n",
       "      <th></th>\n",
       "      <th></th>\n",
       "      <th></th>\n",
       "    </tr>\n",
       "  </thead>\n",
       "  <tbody>\n",
       "    <tr>\n",
       "      <th>31</th>\n",
       "      <td>100.0</td>\n",
       "      <td>97.8</td>\n",
       "      <td>91.7</td>\n",
       "      <td>85.7</td>\n",
       "      <td>78.7</td>\n",
       "      <td>72.6</td>\n",
       "    </tr>\n",
       "    <tr>\n",
       "      <th>32</th>\n",
       "      <td>100.0</td>\n",
       "      <td>98.8</td>\n",
       "      <td>93.9</td>\n",
       "      <td>79.9</td>\n",
       "      <td>67.7</td>\n",
       "      <td>61.9</td>\n",
       "    </tr>\n",
       "    <tr>\n",
       "      <th>33</th>\n",
       "      <td>100.0</td>\n",
       "      <td>95.8</td>\n",
       "      <td>83.7</td>\n",
       "      <td>78.9</td>\n",
       "      <td>69.9</td>\n",
       "      <td>63.7</td>\n",
       "    </tr>\n",
       "    <tr>\n",
       "      <th>34</th>\n",
       "      <td>100.0</td>\n",
       "      <td>94.6</td>\n",
       "      <td>88.9</td>\n",
       "      <td>82.8</td>\n",
       "      <td>77.8</td>\n",
       "      <td>64.8</td>\n",
       "    </tr>\n",
       "    <tr>\n",
       "      <th>35</th>\n",
       "      <td>100.0</td>\n",
       "      <td>92.9</td>\n",
       "      <td>84.9</td>\n",
       "      <td>80.0</td>\n",
       "      <td>72.0</td>\n",
       "      <td>60.9</td>\n",
       "    </tr>\n",
       "    <tr>\n",
       "      <th>36</th>\n",
       "      <td>100.0</td>\n",
       "      <td>96.9</td>\n",
       "      <td>89.9</td>\n",
       "      <td>84.0</td>\n",
       "      <td>76.0</td>\n",
       "      <td>65.9</td>\n",
       "    </tr>\n",
       "  </tbody>\n",
       "</table>\n",
       "</div>"
      ],
      "text/plain": [
       "week            0     1     2     3     4     5\n",
       "start_week                                     \n",
       "31          100.0  97.8  91.7  85.7  78.7  72.6\n",
       "32          100.0  98.8  93.9  79.9  67.7  61.9\n",
       "33          100.0  95.8  83.7  78.9  69.9  63.7\n",
       "34          100.0  94.6  88.9  82.8  77.8  64.8\n",
       "35          100.0  92.9  84.9  80.0  72.0  60.9\n",
       "36          100.0  96.9  89.9  84.0  76.0  65.9"
      ]
     },
     "execution_count": 47,
     "metadata": {},
     "output_type": "execute_result"
    }
   ],
   "source": [
    "#앞에거복붙\n",
    "cohort_data = pd.read_table('data/cohort_data.csv',sep=',')\n",
    "\n",
    "#날짜 데이터 타입 변경\n",
    "cohort_data['start_time'] = pd.to_datetime(cohort_data['created_at'], format='mixed')\n",
    "\n",
    "#시작 week 구하기\n",
    "cohort_data['start_week']= cohort_data['start_time'].dt.isocalendar().week\n",
    "\n",
    "#시작 주 범위 알기\n",
    "category_range = set(cohort_data['start_week'])\n",
    "\n",
    "# 범주화 하기\n",
    "progress_rate = list(cohort_data['progress_rate'])\n",
    "\n",
    "#범주를 구분하는 기준 bins\n",
    "bins = [0,4.11,26.03,41.10,61.64,80.82,100]\n",
    "\n",
    "#구분한 범주의 라벨 labels\n",
    "labes=[0,1,2,3,4,5]\n",
    "\n",
    "#범주화에 사용하는 함수 pd.cut\n",
    "cuts = pd.cut(progress_rate,bins, right=True,include_lowest=True, labels=labes)\n",
    "cuts = pd.DataFrame(cuts)\n",
    "\n",
    "# 표 합치기\n",
    "cohort_data = pd.concat([cohort_data,cuts],axis=1, join='inner')\n",
    "\n",
    "#표 인덱스 변경하기\n",
    "cohort_data.columns=['created_at','user_id','name','progress_rate','start_time','start_week',\"week\"]\n",
    "\n",
    "#시작주와, 수강 주차별 기준으로 표 grouping 하기\n",
    "grouping = cohort_data.groupby(['start_week','week'])\n",
    "\n",
    "#시작주와, 수강 주차별에 해당하는 수강생 수 구하기\n",
    "cohort_data = grouping['user_id'].apply(pd.Series.nunique)\n",
    "cohort_data = pd.DataFrame(cohort_data)\n",
    "\n",
    "#각 주차별 수강한 수강생 총 합 구하기\n",
    "k=31\n",
    "for i in range(6):\n",
    "  for j in range(5, 0, -1):\n",
    "    cohort_data.at[(k,j-1), 'user_id'] = int(cohort_data.at[(k,j),'user_id']) +  int(cohort_data.at[(k,j-1),'user_id'])\n",
    "  k=k+1\n",
    "cohort_data = cohort_data.reset_index()\n",
    "cohort_data.head()\n",
    "\n",
    "\n",
    "cohort_counts = cohort_data.pivot(index=\"start_week\",\n",
    "                                  columns=\"week\",\n",
    "                                  values=\"user_id\")\n",
    "\n",
    "# 앞서 만든 피벗 테이블을 retention 변수에 저장하기\n",
    "retention = cohort_counts\n",
    "#각 주(week) 별 최초 수강생 수만 가져오기\n",
    "cohort_sizes = cohort_counts.iloc[:,0]\n",
    "\n",
    "\n",
    "# 최초 수강생 수를 각 데이터에 나눠주기\n",
    "retention = cohort_counts.divide(cohort_sizes, axis=0)\n",
    "\n",
    "#각 수치 퍼센트로 변경하기\n",
    "retention.round(3)*100"
   ]
  },
  {
   "cell_type": "code",
   "execution_count": 48,
   "id": "505d88fd",
   "metadata": {
    "ExecuteTime": {
     "end_time": "2023-12-28T05:47:28.941107Z",
     "start_time": "2023-12-28T05:47:28.914258Z"
    }
   },
   "outputs": [
    {
     "data": {
      "text/html": [
       "<div>\n",
       "<style scoped>\n",
       "    .dataframe tbody tr th:only-of-type {\n",
       "        vertical-align: middle;\n",
       "    }\n",
       "\n",
       "    .dataframe tbody tr th {\n",
       "        vertical-align: top;\n",
       "    }\n",
       "\n",
       "    .dataframe thead th {\n",
       "        text-align: right;\n",
       "    }\n",
       "</style>\n",
       "<table border=\"1\" class=\"dataframe\">\n",
       "  <thead>\n",
       "    <tr style=\"text-align: right;\">\n",
       "      <th>week</th>\n",
       "      <th>0</th>\n",
       "      <th>1</th>\n",
       "      <th>2</th>\n",
       "      <th>3</th>\n",
       "      <th>4</th>\n",
       "      <th>5</th>\n",
       "    </tr>\n",
       "    <tr>\n",
       "      <th>start_week</th>\n",
       "      <th></th>\n",
       "      <th></th>\n",
       "      <th></th>\n",
       "      <th></th>\n",
       "      <th></th>\n",
       "      <th></th>\n",
       "    </tr>\n",
       "  </thead>\n",
       "  <tbody>\n",
       "    <tr>\n",
       "      <th>31</th>\n",
       "      <td>1.0</td>\n",
       "      <td>0.978261</td>\n",
       "      <td>0.937778</td>\n",
       "      <td>0.933649</td>\n",
       "      <td>0.918782</td>\n",
       "      <td>0.922652</td>\n",
       "    </tr>\n",
       "    <tr>\n",
       "      <th>32</th>\n",
       "      <td>1.0</td>\n",
       "      <td>0.988372</td>\n",
       "      <td>0.950000</td>\n",
       "      <td>0.851393</td>\n",
       "      <td>0.847273</td>\n",
       "      <td>0.914163</td>\n",
       "    </tr>\n",
       "    <tr>\n",
       "      <th>33</th>\n",
       "      <td>1.0</td>\n",
       "      <td>0.958478</td>\n",
       "      <td>0.873646</td>\n",
       "      <td>0.942149</td>\n",
       "      <td>0.885965</td>\n",
       "      <td>0.910891</td>\n",
       "    </tr>\n",
       "    <tr>\n",
       "      <th>34</th>\n",
       "      <td>1.0</td>\n",
       "      <td>0.946360</td>\n",
       "      <td>0.939271</td>\n",
       "      <td>0.931034</td>\n",
       "      <td>0.939815</td>\n",
       "      <td>0.832512</td>\n",
       "    </tr>\n",
       "    <tr>\n",
       "      <th>35</th>\n",
       "      <td>1.0</td>\n",
       "      <td>0.929231</td>\n",
       "      <td>0.913907</td>\n",
       "      <td>0.942029</td>\n",
       "      <td>0.900000</td>\n",
       "      <td>0.846154</td>\n",
       "    </tr>\n",
       "    <tr>\n",
       "      <th>36</th>\n",
       "      <td>1.0</td>\n",
       "      <td>0.968641</td>\n",
       "      <td>0.928058</td>\n",
       "      <td>0.934109</td>\n",
       "      <td>0.904564</td>\n",
       "      <td>0.866972</td>\n",
       "    </tr>\n",
       "  </tbody>\n",
       "</table>\n",
       "</div>"
      ],
      "text/plain": [
       "week          0         1         2         3         4         5\n",
       "start_week                                                       \n",
       "31          1.0  0.978261  0.937778  0.933649  0.918782  0.922652\n",
       "32          1.0  0.988372  0.950000  0.851393  0.847273  0.914163\n",
       "33          1.0  0.958478  0.873646  0.942149  0.885965  0.910891\n",
       "34          1.0  0.946360  0.939271  0.931034  0.939815  0.832512\n",
       "35          1.0  0.929231  0.913907  0.942029  0.900000  0.846154\n",
       "36          1.0  0.968641  0.928058  0.934109  0.904564  0.866972"
      ]
     },
     "execution_count": 48,
     "metadata": {},
     "output_type": "execute_result"
    }
   ],
   "source": [
    "#이중 인덱스->이중 for문\n",
    "# 1) 주차 간 전환율 리텐션 테이블 만들기\n",
    "#첫 시작주가 31주이죠!\n",
    "w=31\n",
    "#36주까지 있으니, for 구문의 range를 6으로 둡시다\n",
    "for i in range(6):\n",
    "\t#각 시작 주차별 수강 주차는 총 0부터 5까지의 범위가 있죠? 그래서 range(1, 6, 1)로 설정합니다. 1부터 시작하여, 5까지 1씩 커진다는 뜻 입니다!\n",
    "    for j in range(5, 1, -1):\n",
    "        retention.at[(w,j)] = retention.at[(w,j)] / retention.at[(w,j-1)]\n",
    "    w = w+1\n",
    "\n",
    "retention"
   ]
  },
  {
   "cell_type": "code",
   "execution_count": 49,
   "id": "2f638c7f",
   "metadata": {
    "ExecuteTime": {
     "end_time": "2023-12-28T05:47:37.077289Z",
     "start_time": "2023-12-28T05:47:36.173588Z"
    }
   },
   "outputs": [
    {
     "data": {
      "image/png": "[encoded data removed]",
      "text/plain": [
       "<Figure size 1000x800 with 2 Axes>"
      ]
     },
     "metadata": {},
     "output_type": "display_data"
    }
   ],
   "source": [
    "# 2) 주차 간 전환율 그래프로 나타내기\n",
    "plt.figure(figsize=(10,8))\n",
    "\n",
    "sns.heatmap(data=retention,\n",
    "           annot=True,\n",
    "           fmt='.0%',\n",
    "           vmin=0,\n",
    "           vmax=1,\n",
    "           cmap=\"BuGn\")\n",
    "\n",
    "\n",
    "plt.xlabel('주차', fontsize=14,labelpad=30)\n",
    "plt.title('개강일별 직전주차 대비 전환율', fontsize=20)\n",
    "plt.ylabel('개강일', fontsize=14,labelpad=30)\n",
    "plt.yticks()\n",
    "\n",
    "plt.show()"
   ]
  },
  {
   "cell_type": "code",
   "execution_count": null,
   "id": "612d4e8b",
   "metadata": {},
   "outputs": [],
   "source": []
  }
 ],
 "metadata": {
  "kernelspec": {
   "display_name": "Python 3 (ipykernel)",
   "language": "python",
   "name": "python3"
  },
  "language_info": {
   "codemirror_mode": {
    "name": "ipython",
    "version": 3
   },
   "file_extension": ".py",
   "mimetype": "text/x-python",
   "name": "python",
   "nbconvert_exporter": "python",
   "pygments_lexer": "ipython3",
   "version": "3.11.5"
  },
  "toc": {
   "base_numbering": 1,
   "nav_menu": {},
   "number_sections": true,
   "sideBar": true,
   "skip_h1_title": false,
   "title_cell": "Table of Contents",
   "title_sidebar": "Contents",
   "toc_cell": false,
   "toc_position": {},
   "toc_section_display": true,
   "toc_window_display": false
  }
 },
 "nbformat": 4,
 "nbformat_minor": 5
}
