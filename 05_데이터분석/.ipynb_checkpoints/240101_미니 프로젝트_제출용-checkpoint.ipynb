{
 "cells": [
  {
   "cell_type": "markdown",
   "id": "71ba7d16",
   "metadata": {},
   "source": [
    "**DA Mini Project**\n",
    "* 주제 : 온라인 학습 플랫폼 사용자 행동 패턴 분석\n",
    "* 개요 :\n",
    "```\n",
    "이번 프로젝트는 학습 서비스를 이용하는 독자들 중 누가 서비스 구독을 연장할지 예측하기 위한 사전 파악에 초점을 맞추고 있습니다. 우리의 목표는 유저들의 학습 습관, 선호도, 이용 행태 등 다양한 측면을 면밀히 분석하는 것입니다.\n",
    "\n",
    "\n",
    "이를 위해, 우리는 유저들의 학습 패턴, 서비스 이용 시간, 콘텐츠에 대한 반응, 그리고 이들이 얼마나 자주 서비스를 이용하는지 등 다양한 데이터를 수집하고 분석할 계획입니다. 이 데이터는 유저들이 서비스에 얼마나 만족하고 있는지, 어떤 요소들이 그들의 구독 결정에 영향을 미치는지 이해하는 데 중요한 역할을 할 것입니다.\n",
    "```\n",
    "* 데이터셋 : mini.csv\n",
    "    * 메타데이터\n",
    "        * user_id: 사용자의 고유 식별자\n",
    "        * subscription_duration: 사용자가 서비스에 가입한 기간 (월)\n",
    "        * recent_login_time: 사용자가 마지막으로 로그인한 시간 (일)\n",
    "        * average_login_time:  사용자의 일반적인 로그인 시간\n",
    "        * average_time_per_learning_session: 각 학습 세션에 소요된 평균 시간 (분)\n",
    "        * monthly_active_learning_days: 월간 활동적인 학습 일수\n",
    "        * total_completed_courses: 완료한 총 코스 수\n",
    "        * recent_learning_achievement: 최근 학습 성취도\n",
    "        * abandoned_learning_sessions: 중단된 학습 세션 수\n",
    "        * community_engagement_level: 커뮤니티 참여도\n",
    "        * preferred_difficulty_level: 선호하는 난이도\n",
    "        * subscription_type: 구독 유형\n",
    "        * customer_inquiry_history: 고객 문의 이력\n",
    "        * payment_pattern : 사용자의 지난 3개월 간의 결제 패턴을 10진수로 표현한 값.\n",
    "          - 7: 3개월 모두 결제함\n",
    "          - 6: 첫 2개월은 결제했으나 마지막 달에는 결제하지 않음\n",
    "          - 5: 첫 달과 마지막 달에 결제함\n",
    "          - 4: 첫 달에만 결제함\n",
    "          - 3: 마지막 2개월에 결제함\n",
    "          - 2: 가운데 달에만 결제함\n",
    "          - 1: 마지막 달에만 결제함\n",
    "          - 0: 3개월 동안 결제하지 않음\n",
    "        - target: 사용자가 다음달에도 구독을 게속할지(1) 취소할지(0)"
   ]
  },
  {
   "cell_type": "markdown",
   "id": "a396dc86",
   "metadata": {},
   "source": [
    "**1) 문제 정의 및 가설 설정하기 → 2) 데이터 분석 기본 세팅 하기 → 3) 데이터 분석하기 → 4) 분석 결과 시각화 하기 → 5) 최종 결론 내리기**"
   ]
  },
  {
   "cell_type": "markdown",
   "id": "aee04f64",
   "metadata": {},
   "source": [
    "# 1) 문제 정의 및 가설 설정하기"
   ]
  },
  {
   "cell_type": "markdown",
   "id": "cde34966",
   "metadata": {},
   "source": [
    "## 문제 정의\n",
    "\n",
    "- 유저들의 행동 패턴(학습 습관, 선호도, 이용 행태 등) 분석 → 학습 서비스를 이용하는 독자들 중 누가 서비스 구독을 연장할지 예측\n",
    "\n",
    "## 구독여정\n",
    "\n",
    "1. 마음을 먹고 구독을 결제한다.\n",
    "2. 어떤 학습 세션이 있는지 탐색하며 여러가지를 수강해본다.\n",
    "    - 이 단계에서 중단 세션이 발생한다.\n",
    "3. 마음에 드는 세션을 선택해 꾸준히 수강한다.\n",
    "    - 이 단계에서 만족도가 올라게 된다.\n",
    "    - 수강 과정에서 만족도에 영향을 미치는 요소가 무엇인지 파악해야 한다."
   ]
  },
  {
   "cell_type": "markdown",
   "id": "e46aa0c0",
   "metadata": {},
   "source": [
    "## 목표 및 가설\n",
    "1) (목표1) 각 메타데이터 중 구독 연장 여부와 가장 연관 있는 것이 무엇인지 파악해보기\n",
    "1) (가설1) 꾸준히 수강하는 사람일수록 구독 연장율이 높을 것이다.\n",
    "2) (가설2) 구독 첫 한달 동안 완료하는 코스 수가 가장 많을 것이다. \n",
    "\n",
    "## 그 외 분석해볼 것\n",
    "1) (분석1) 선호 난이도: 가장 선호하는 난이도 컨텐츠를 보강하면 구독률을 높일 수 있지 않을까?\n",
    "2) (분석2) 선호 구독 종류"
   ]
  },
  {
   "cell_type": "markdown",
   "id": "dbc52de8",
   "metadata": {},
   "source": [
    "# 2) 데이터 분석 기본 세팅 하기"
   ]
  },
  {
   "cell_type": "code",
   "execution_count": 1,
   "id": "7f2d0c6f",
   "metadata": {
    "ExecuteTime": {
     "end_time": "2024-01-02T04:25:14.944050Z",
     "start_time": "2024-01-02T04:25:09.255217Z"
    }
   },
   "outputs": [],
   "source": [
    "import pandas as pd\n",
    "import numpy as np\n",
    "import matplotlib.pyplot as plt\n",
    "import matplotlib.pylab as plt\n",
    "import koreanize_matplotlib"
   ]
  },
  {
   "cell_type": "code",
   "execution_count": 6,
   "id": "96992b4e",
   "metadata": {
    "ExecuteTime": {
     "end_time": "2024-01-02T04:26:39.742699Z",
     "start_time": "2024-01-02T04:26:39.627409Z"
    }
   },
   "outputs": [
    {
     "data": {
      "text/html": [
       "<div>\n",
       "<style scoped>\n",
       "    .dataframe tbody tr th:only-of-type {\n",
       "        vertical-align: middle;\n",
       "    }\n",
       "\n",
       "    .dataframe tbody tr th {\n",
       "        vertical-align: top;\n",
       "    }\n",
       "\n",
       "    .dataframe thead th {\n",
       "        text-align: right;\n",
       "    }\n",
       "</style>\n",
       "<table border=\"1\" class=\"dataframe\">\n",
       "  <thead>\n",
       "    <tr style=\"text-align: right;\">\n",
       "      <th></th>\n",
       "      <th>user_id</th>\n",
       "      <th>subscription_duration</th>\n",
       "      <th>recent_login_time</th>\n",
       "      <th>average_login_time</th>\n",
       "      <th>average_time_per_learning_session</th>\n",
       "      <th>monthly_active_learning_days</th>\n",
       "      <th>total_completed_courses</th>\n",
       "      <th>recent_learning_achievement</th>\n",
       "      <th>abandoned_learning_sessions</th>\n",
       "      <th>community_engagement_level</th>\n",
       "      <th>preferred_difficulty_level</th>\n",
       "      <th>subscription_type</th>\n",
       "      <th>customer_inquiry_history</th>\n",
       "      <th>payment_pattern</th>\n",
       "      <th>target</th>\n",
       "    </tr>\n",
       "  </thead>\n",
       "  <tbody>\n",
       "    <tr>\n",
       "      <th>0</th>\n",
       "      <td>b919c29d</td>\n",
       "      <td>13</td>\n",
       "      <td>14</td>\n",
       "      <td>14.946163</td>\n",
       "      <td>8.427187</td>\n",
       "      <td>18</td>\n",
       "      <td>16</td>\n",
       "      <td>68.360455</td>\n",
       "      <td>3</td>\n",
       "      <td>4</td>\n",
       "      <td>Low</td>\n",
       "      <td>Basic</td>\n",
       "      <td>4</td>\n",
       "      <td>5</td>\n",
       "      <td>0</td>\n",
       "    </tr>\n",
       "    <tr>\n",
       "      <th>1</th>\n",
       "      <td>a0a60abb</td>\n",
       "      <td>16</td>\n",
       "      <td>18</td>\n",
       "      <td>18.453224</td>\n",
       "      <td>72.646087</td>\n",
       "      <td>16</td>\n",
       "      <td>13</td>\n",
       "      <td>97.567322</td>\n",
       "      <td>2</td>\n",
       "      <td>3</td>\n",
       "      <td>Medium</td>\n",
       "      <td>Basic</td>\n",
       "      <td>1</td>\n",
       "      <td>6</td>\n",
       "      <td>1</td>\n",
       "    </tr>\n",
       "    <tr>\n",
       "      <th>2</th>\n",
       "      <td>b9f171ae</td>\n",
       "      <td>22</td>\n",
       "      <td>1</td>\n",
       "      <td>16.195228</td>\n",
       "      <td>21.774492</td>\n",
       "      <td>13</td>\n",
       "      <td>14</td>\n",
       "      <td>94.358763</td>\n",
       "      <td>3</td>\n",
       "      <td>4</td>\n",
       "      <td>Medium</td>\n",
       "      <td>Premium</td>\n",
       "      <td>0</td>\n",
       "      <td>7</td>\n",
       "      <td>1</td>\n",
       "    </tr>\n",
       "    <tr>\n",
       "      <th>3</th>\n",
       "      <td>5dc0ba8b</td>\n",
       "      <td>1</td>\n",
       "      <td>19</td>\n",
       "      <td>17.628656</td>\n",
       "      <td>42.659066</td>\n",
       "      <td>19</td>\n",
       "      <td>18</td>\n",
       "      <td>70.153228</td>\n",
       "      <td>0</td>\n",
       "      <td>3</td>\n",
       "      <td>Low</td>\n",
       "      <td>Basic</td>\n",
       "      <td>1</td>\n",
       "      <td>0</td>\n",
       "      <td>1</td>\n",
       "    </tr>\n",
       "    <tr>\n",
       "      <th>4</th>\n",
       "      <td>65c83654</td>\n",
       "      <td>4</td>\n",
       "      <td>5</td>\n",
       "      <td>21.390656</td>\n",
       "      <td>30.744287</td>\n",
       "      <td>19</td>\n",
       "      <td>10</td>\n",
       "      <td>81.917908</td>\n",
       "      <td>2</td>\n",
       "      <td>4</td>\n",
       "      <td>Medium</td>\n",
       "      <td>Basic</td>\n",
       "      <td>3</td>\n",
       "      <td>0</td>\n",
       "      <td>1</td>\n",
       "    </tr>\n",
       "    <tr>\n",
       "      <th>...</th>\n",
       "      <td>...</td>\n",
       "      <td>...</td>\n",
       "      <td>...</td>\n",
       "      <td>...</td>\n",
       "      <td>...</td>\n",
       "      <td>...</td>\n",
       "      <td>...</td>\n",
       "      <td>...</td>\n",
       "      <td>...</td>\n",
       "      <td>...</td>\n",
       "      <td>...</td>\n",
       "      <td>...</td>\n",
       "      <td>...</td>\n",
       "      <td>...</td>\n",
       "      <td>...</td>\n",
       "    </tr>\n",
       "    <tr>\n",
       "      <th>9995</th>\n",
       "      <td>ae6b76bc</td>\n",
       "      <td>22</td>\n",
       "      <td>29</td>\n",
       "      <td>14.727623</td>\n",
       "      <td>84.053558</td>\n",
       "      <td>18</td>\n",
       "      <td>16</td>\n",
       "      <td>64.966803</td>\n",
       "      <td>2</td>\n",
       "      <td>5</td>\n",
       "      <td>Low</td>\n",
       "      <td>Premium</td>\n",
       "      <td>1</td>\n",
       "      <td>1</td>\n",
       "      <td>1</td>\n",
       "    </tr>\n",
       "    <tr>\n",
       "      <th>9996</th>\n",
       "      <td>24588752</td>\n",
       "      <td>10</td>\n",
       "      <td>11</td>\n",
       "      <td>19.374054</td>\n",
       "      <td>45.464833</td>\n",
       "      <td>9</td>\n",
       "      <td>8</td>\n",
       "      <td>82.750244</td>\n",
       "      <td>3</td>\n",
       "      <td>3</td>\n",
       "      <td>Medium</td>\n",
       "      <td>Basic</td>\n",
       "      <td>2</td>\n",
       "      <td>7</td>\n",
       "      <td>1</td>\n",
       "    </tr>\n",
       "    <tr>\n",
       "      <th>9997</th>\n",
       "      <td>e4622a54</td>\n",
       "      <td>7</td>\n",
       "      <td>27</td>\n",
       "      <td>18.240978</td>\n",
       "      <td>127.302411</td>\n",
       "      <td>24</td>\n",
       "      <td>14</td>\n",
       "      <td>81.567839</td>\n",
       "      <td>3</td>\n",
       "      <td>5</td>\n",
       "      <td>High</td>\n",
       "      <td>Basic</td>\n",
       "      <td>1</td>\n",
       "      <td>6</td>\n",
       "      <td>1</td>\n",
       "    </tr>\n",
       "    <tr>\n",
       "      <th>9998</th>\n",
       "      <td>e07fbad9</td>\n",
       "      <td>11</td>\n",
       "      <td>7</td>\n",
       "      <td>18.783800</td>\n",
       "      <td>5.297234</td>\n",
       "      <td>10</td>\n",
       "      <td>10</td>\n",
       "      <td>89.885656</td>\n",
       "      <td>4</td>\n",
       "      <td>5</td>\n",
       "      <td>Low</td>\n",
       "      <td>Basic</td>\n",
       "      <td>2</td>\n",
       "      <td>0</td>\n",
       "      <td>1</td>\n",
       "    </tr>\n",
       "    <tr>\n",
       "      <th>9999</th>\n",
       "      <td>e12dcb55</td>\n",
       "      <td>10</td>\n",
       "      <td>5</td>\n",
       "      <td>13.073230</td>\n",
       "      <td>28.120031</td>\n",
       "      <td>3</td>\n",
       "      <td>13</td>\n",
       "      <td>64.811297</td>\n",
       "      <td>4</td>\n",
       "      <td>5</td>\n",
       "      <td>Low</td>\n",
       "      <td>Premium</td>\n",
       "      <td>0</td>\n",
       "      <td>3</td>\n",
       "      <td>0</td>\n",
       "    </tr>\n",
       "  </tbody>\n",
       "</table>\n",
       "<p>10000 rows × 15 columns</p>\n",
       "</div>"
      ],
      "text/plain": [
       "       user_id  subscription_duration  recent_login_time  average_login_time  \\\n",
       "0     b919c29d                     13                 14           14.946163   \n",
       "1     a0a60abb                     16                 18           18.453224   \n",
       "2     b9f171ae                     22                  1           16.195228   \n",
       "3     5dc0ba8b                      1                 19           17.628656   \n",
       "4     65c83654                      4                  5           21.390656   \n",
       "...        ...                    ...                ...                 ...   \n",
       "9995  ae6b76bc                     22                 29           14.727623   \n",
       "9996  24588752                     10                 11           19.374054   \n",
       "9997  e4622a54                      7                 27           18.240978   \n",
       "9998  e07fbad9                     11                  7           18.783800   \n",
       "9999  e12dcb55                     10                  5           13.073230   \n",
       "\n",
       "      average_time_per_learning_session  monthly_active_learning_days  \\\n",
       "0                              8.427187                            18   \n",
       "1                             72.646087                            16   \n",
       "2                             21.774492                            13   \n",
       "3                             42.659066                            19   \n",
       "4                             30.744287                            19   \n",
       "...                                 ...                           ...   \n",
       "9995                          84.053558                            18   \n",
       "9996                          45.464833                             9   \n",
       "9997                         127.302411                            24   \n",
       "9998                           5.297234                            10   \n",
       "9999                          28.120031                             3   \n",
       "\n",
       "      total_completed_courses  recent_learning_achievement  \\\n",
       "0                          16                    68.360455   \n",
       "1                          13                    97.567322   \n",
       "2                          14                    94.358763   \n",
       "3                          18                    70.153228   \n",
       "4                          10                    81.917908   \n",
       "...                       ...                          ...   \n",
       "9995                       16                    64.966803   \n",
       "9996                        8                    82.750244   \n",
       "9997                       14                    81.567839   \n",
       "9998                       10                    89.885656   \n",
       "9999                       13                    64.811297   \n",
       "\n",
       "      abandoned_learning_sessions  community_engagement_level  \\\n",
       "0                               3                           4   \n",
       "1                               2                           3   \n",
       "2                               3                           4   \n",
       "3                               0                           3   \n",
       "4                               2                           4   \n",
       "...                           ...                         ...   \n",
       "9995                            2                           5   \n",
       "9996                            3                           3   \n",
       "9997                            3                           5   \n",
       "9998                            4                           5   \n",
       "9999                            4                           5   \n",
       "\n",
       "     preferred_difficulty_level subscription_type  customer_inquiry_history  \\\n",
       "0                           Low             Basic                         4   \n",
       "1                        Medium             Basic                         1   \n",
       "2                        Medium           Premium                         0   \n",
       "3                           Low             Basic                         1   \n",
       "4                        Medium             Basic                         3   \n",
       "...                         ...               ...                       ...   \n",
       "9995                        Low           Premium                         1   \n",
       "9996                     Medium             Basic                         2   \n",
       "9997                       High             Basic                         1   \n",
       "9998                        Low             Basic                         2   \n",
       "9999                        Low           Premium                         0   \n",
       "\n",
       "      payment_pattern  target  \n",
       "0                   5       0  \n",
       "1                   6       1  \n",
       "2                   7       1  \n",
       "3                   0       1  \n",
       "4                   0       1  \n",
       "...               ...     ...  \n",
       "9995                1       1  \n",
       "9996                7       1  \n",
       "9997                6       1  \n",
       "9998                0       1  \n",
       "9999                3       0  \n",
       "\n",
       "[10000 rows x 15 columns]"
      ]
     },
     "execution_count": 6,
     "metadata": {},
     "output_type": "execute_result"
    }
   ],
   "source": [
    "user_data = pd.read_table('data/mini.csv',sep=',')\n",
    "user_data"
   ]
  },
  {
   "cell_type": "code",
   "execution_count": 7,
   "id": "fc1c6ff8",
   "metadata": {
    "ExecuteTime": {
     "end_time": "2024-01-02T04:26:45.136822Z",
     "start_time": "2024-01-02T04:26:45.108035Z"
    }
   },
   "outputs": [
    {
     "name": "stdout",
     "output_type": "stream",
     "text": [
      "<class 'pandas.core.frame.DataFrame'>\n",
      "RangeIndex: 10000 entries, 0 to 9999\n",
      "Data columns (total 15 columns):\n",
      " #   Column                             Non-Null Count  Dtype  \n",
      "---  ------                             --------------  -----  \n",
      " 0   user_id                            10000 non-null  object \n",
      " 1   subscription_duration              10000 non-null  int64  \n",
      " 2   recent_login_time                  10000 non-null  int64  \n",
      " 3   average_login_time                 10000 non-null  float64\n",
      " 4   average_time_per_learning_session  10000 non-null  float64\n",
      " 5   monthly_active_learning_days       10000 non-null  int64  \n",
      " 6   total_completed_courses            10000 non-null  int64  \n",
      " 7   recent_learning_achievement        10000 non-null  float64\n",
      " 8   abandoned_learning_sessions        10000 non-null  int64  \n",
      " 9   community_engagement_level         10000 non-null  int64  \n",
      " 10  preferred_difficulty_level         10000 non-null  object \n",
      " 11  subscription_type                  10000 non-null  object \n",
      " 12  customer_inquiry_history           10000 non-null  int64  \n",
      " 13  payment_pattern                    10000 non-null  int64  \n",
      " 14  target                             10000 non-null  int64  \n",
      "dtypes: float64(3), int64(9), object(3)\n",
      "memory usage: 1.1+ MB\n"
     ]
    }
   ],
   "source": [
    "# 결측치 체크\n",
    "user_data.info()"
   ]
  },
  {
   "cell_type": "code",
   "execution_count": 8,
   "id": "974d46d1",
   "metadata": {
    "ExecuteTime": {
     "end_time": "2024-01-02T04:26:52.210205Z",
     "start_time": "2024-01-02T04:26:52.066040Z"
    }
   },
   "outputs": [
    {
     "data": {
      "text/html": [
       "<div>\n",
       "<style scoped>\n",
       "    .dataframe tbody tr th:only-of-type {\n",
       "        vertical-align: middle;\n",
       "    }\n",
       "\n",
       "    .dataframe tbody tr th {\n",
       "        vertical-align: top;\n",
       "    }\n",
       "\n",
       "    .dataframe thead th {\n",
       "        text-align: right;\n",
       "    }\n",
       "</style>\n",
       "<table border=\"1\" class=\"dataframe\">\n",
       "  <thead>\n",
       "    <tr style=\"text-align: right;\">\n",
       "      <th></th>\n",
       "      <th>subscription_duration</th>\n",
       "      <th>recent_login_time</th>\n",
       "      <th>average_login_time</th>\n",
       "      <th>average_time_per_learning_session</th>\n",
       "      <th>monthly_active_learning_days</th>\n",
       "      <th>total_completed_courses</th>\n",
       "      <th>recent_learning_achievement</th>\n",
       "      <th>abandoned_learning_sessions</th>\n",
       "      <th>community_engagement_level</th>\n",
       "      <th>customer_inquiry_history</th>\n",
       "      <th>payment_pattern</th>\n",
       "      <th>target</th>\n",
       "    </tr>\n",
       "  </thead>\n",
       "  <tbody>\n",
       "    <tr>\n",
       "      <th>count</th>\n",
       "      <td>10000.000000</td>\n",
       "      <td>10000.000000</td>\n",
       "      <td>10000.000000</td>\n",
       "      <td>10000.000000</td>\n",
       "      <td>10000.000000</td>\n",
       "      <td>10000.000000</td>\n",
       "      <td>10000.000000</td>\n",
       "      <td>10000.000000</td>\n",
       "      <td>10000.000000</td>\n",
       "      <td>10000.000000</td>\n",
       "      <td>10000.000000</td>\n",
       "      <td>10000.000000</td>\n",
       "    </tr>\n",
       "    <tr>\n",
       "      <th>mean</th>\n",
       "      <td>11.897400</td>\n",
       "      <td>15.013200</td>\n",
       "      <td>14.994076</td>\n",
       "      <td>54.917720</td>\n",
       "      <td>12.545400</td>\n",
       "      <td>12.227500</td>\n",
       "      <td>75.029513</td>\n",
       "      <td>3.043600</td>\n",
       "      <td>3.886100</td>\n",
       "      <td>2.010500</td>\n",
       "      <td>3.502900</td>\n",
       "      <td>0.619900</td>\n",
       "    </tr>\n",
       "    <tr>\n",
       "      <th>std</th>\n",
       "      <td>6.600896</td>\n",
       "      <td>8.362573</td>\n",
       "      <td>3.001869</td>\n",
       "      <td>56.024310</td>\n",
       "      <td>6.932239</td>\n",
       "      <td>3.634125</td>\n",
       "      <td>9.968529</td>\n",
       "      <td>1.755052</td>\n",
       "      <td>1.262175</td>\n",
       "      <td>1.420983</td>\n",
       "      <td>2.311261</td>\n",
       "      <td>0.485435</td>\n",
       "    </tr>\n",
       "    <tr>\n",
       "      <th>min</th>\n",
       "      <td>1.000000</td>\n",
       "      <td>1.000000</td>\n",
       "      <td>2.366189</td>\n",
       "      <td>0.011515</td>\n",
       "      <td>1.000000</td>\n",
       "      <td>1.000000</td>\n",
       "      <td>35.941755</td>\n",
       "      <td>0.000000</td>\n",
       "      <td>1.000000</td>\n",
       "      <td>0.000000</td>\n",
       "      <td>0.000000</td>\n",
       "      <td>0.000000</td>\n",
       "    </tr>\n",
       "    <tr>\n",
       "      <th>25%</th>\n",
       "      <td>6.000000</td>\n",
       "      <td>8.000000</td>\n",
       "      <td>13.025597</td>\n",
       "      <td>15.276611</td>\n",
       "      <td>7.000000</td>\n",
       "      <td>10.000000</td>\n",
       "      <td>68.278054</td>\n",
       "      <td>2.000000</td>\n",
       "      <td>3.000000</td>\n",
       "      <td>1.000000</td>\n",
       "      <td>1.000000</td>\n",
       "      <td>0.000000</td>\n",
       "    </tr>\n",
       "    <tr>\n",
       "      <th>50%</th>\n",
       "      <td>12.000000</td>\n",
       "      <td>15.000000</td>\n",
       "      <td>14.979228</td>\n",
       "      <td>37.578818</td>\n",
       "      <td>13.000000</td>\n",
       "      <td>12.000000</td>\n",
       "      <td>75.126061</td>\n",
       "      <td>3.000000</td>\n",
       "      <td>4.000000</td>\n",
       "      <td>2.000000</td>\n",
       "      <td>4.000000</td>\n",
       "      <td>1.000000</td>\n",
       "    </tr>\n",
       "    <tr>\n",
       "      <th>75%</th>\n",
       "      <td>18.000000</td>\n",
       "      <td>22.000000</td>\n",
       "      <td>16.995340</td>\n",
       "      <td>75.584200</td>\n",
       "      <td>19.000000</td>\n",
       "      <td>15.000000</td>\n",
       "      <td>81.718976</td>\n",
       "      <td>4.000000</td>\n",
       "      <td>5.000000</td>\n",
       "      <td>3.000000</td>\n",
       "      <td>6.000000</td>\n",
       "      <td>1.000000</td>\n",
       "    </tr>\n",
       "    <tr>\n",
       "      <th>max</th>\n",
       "      <td>23.000000</td>\n",
       "      <td>29.000000</td>\n",
       "      <td>26.998490</td>\n",
       "      <td>503.372616</td>\n",
       "      <td>24.000000</td>\n",
       "      <td>27.000000</td>\n",
       "      <td>112.643828</td>\n",
       "      <td>12.000000</td>\n",
       "      <td>5.000000</td>\n",
       "      <td>10.000000</td>\n",
       "      <td>7.000000</td>\n",
       "      <td>1.000000</td>\n",
       "    </tr>\n",
       "  </tbody>\n",
       "</table>\n",
       "</div>"
      ],
      "text/plain": [
       "       subscription_duration  recent_login_time  average_login_time  \\\n",
       "count           10000.000000       10000.000000        10000.000000   \n",
       "mean               11.897400          15.013200           14.994076   \n",
       "std                 6.600896           8.362573            3.001869   \n",
       "min                 1.000000           1.000000            2.366189   \n",
       "25%                 6.000000           8.000000           13.025597   \n",
       "50%                12.000000          15.000000           14.979228   \n",
       "75%                18.000000          22.000000           16.995340   \n",
       "max                23.000000          29.000000           26.998490   \n",
       "\n",
       "       average_time_per_learning_session  monthly_active_learning_days  \\\n",
       "count                       10000.000000                  10000.000000   \n",
       "mean                           54.917720                     12.545400   \n",
       "std                            56.024310                      6.932239   \n",
       "min                             0.011515                      1.000000   \n",
       "25%                            15.276611                      7.000000   \n",
       "50%                            37.578818                     13.000000   \n",
       "75%                            75.584200                     19.000000   \n",
       "max                           503.372616                     24.000000   \n",
       "\n",
       "       total_completed_courses  recent_learning_achievement  \\\n",
       "count             10000.000000                 10000.000000   \n",
       "mean                 12.227500                    75.029513   \n",
       "std                   3.634125                     9.968529   \n",
       "min                   1.000000                    35.941755   \n",
       "25%                  10.000000                    68.278054   \n",
       "50%                  12.000000                    75.126061   \n",
       "75%                  15.000000                    81.718976   \n",
       "max                  27.000000                   112.643828   \n",
       "\n",
       "       abandoned_learning_sessions  community_engagement_level  \\\n",
       "count                 10000.000000                10000.000000   \n",
       "mean                      3.043600                    3.886100   \n",
       "std                       1.755052                    1.262175   \n",
       "min                       0.000000                    1.000000   \n",
       "25%                       2.000000                    3.000000   \n",
       "50%                       3.000000                    4.000000   \n",
       "75%                       4.000000                    5.000000   \n",
       "max                      12.000000                    5.000000   \n",
       "\n",
       "       customer_inquiry_history  payment_pattern        target  \n",
       "count              10000.000000     10000.000000  10000.000000  \n",
       "mean                   2.010500         3.502900      0.619900  \n",
       "std                    1.420983         2.311261      0.485435  \n",
       "min                    0.000000         0.000000      0.000000  \n",
       "25%                    1.000000         1.000000      0.000000  \n",
       "50%                    2.000000         4.000000      1.000000  \n",
       "75%                    3.000000         6.000000      1.000000  \n",
       "max                   10.000000         7.000000      1.000000  "
      ]
     },
     "execution_count": 8,
     "metadata": {},
     "output_type": "execute_result"
    }
   ],
   "source": [
    "user_data.describe()"
   ]
  },
  {
   "cell_type": "markdown",
   "id": "edd04203",
   "metadata": {},
   "source": [
    "# 3) 데이터 분석하기, 4) 시각화하기"
   ]
  },
  {
   "cell_type": "markdown",
   "id": "698686ac",
   "metadata": {},
   "source": [
    "## (목표1) 각 메타데이터 중 구독 연장 여부와 가장 연관 있는 것이 무엇인지 파악해보기\n",
    "- 구독 연장 여부에 영향을 미치는 메타데이터는 ‘각 학습 세션에 소요된 평균 시간 (분)(average_time_per_learning_session)’이었다. 그외의 메타데이터는 구독 여부에 미치는 영향이 적었다."
   ]
  },
  {
   "cell_type": "code",
   "execution_count": 92,
   "id": "cf0ad3bd",
   "metadata": {
    "ExecuteTime": {
     "end_time": "2024-01-02T07:44:39.860615Z",
     "start_time": "2024-01-02T07:44:39.606071Z"
    },
    "scrolled": true
   },
   "outputs": [
    {
     "data": {
      "image/png": "[encoded data removed]",
      "text/plain": [
       "<Figure size 400x300 with 1 Axes>"
      ]
     },
     "metadata": {},
     "output_type": "display_data"
    }
   ],
   "source": [
    "#average_time_per_learning_session: 각 학습 세션에 소요된 평균 시간 (분)\n",
    "#0    46.456986 / 1    60.105533\n",
    "\n",
    "타겟별_소요시간 = user_data.groupby('target')['average_time_per_learning_session'].sum()\n",
    "총소요시간 = 타겟별_소요시간/타겟별_인원수\n",
    "plt.figure(figsize=(4,3))\n",
    "총소요시간.plot(kind='bar', rot=0)\n",
    "plt.title(\"구독 연장 여부에 따른 학습 소요 시간\")\n",
    "plt.xlabel(\"구독 연장 여부\")\n",
    "plt.ylabel(\"학습 세션에 소요된 시간\")\n",
    "plt.show()"
   ]
  },
  {
   "cell_type": "code",
   "execution_count": 10,
   "id": "c7656314",
   "metadata": {
    "ExecuteTime": {
     "end_time": "2024-01-02T04:29:36.635012Z",
     "start_time": "2024-01-02T04:29:36.606923Z"
    }
   },
   "outputs": [
    {
     "name": "stdout",
     "output_type": "stream",
     "text": [
      "3801\n",
      "6199\n"
     ]
    }
   ],
   "source": [
    "타겟별_인원수 = user_data.groupby('target')['user_id'].count()\n",
    "타겟별_인원수\n",
    "print(타겟별_인원수[0]) #다음달 구독 취소할 인원\n",
    "print(타겟별_인원수[1]) #구독 연장할 인원"
   ]
  },
  {
   "cell_type": "code",
   "execution_count": 11,
   "id": "6b709925",
   "metadata": {
    "ExecuteTime": {
     "end_time": "2024-01-02T04:29:44.647550Z",
     "start_time": "2024-01-02T04:29:44.635660Z"
    }
   },
   "outputs": [
    {
     "name": "stdout",
     "output_type": "stream",
     "text": [
      "target\n",
      "0    11.953959\n",
      "1    11.862720\n",
      "dtype: float64\n"
     ]
    }
   ],
   "source": [
    "#subscription_duration: 사용자가 서비스에 가입한 기간 (월)\n",
    "\n",
    "타겟별_가입기간 = user_data.groupby('target')['subscription_duration'].sum()\n",
    "타겟별_가입기간\n",
    "\n",
    "print(타겟별_가입기간/타겟별_인원수)"
   ]
  },
  {
   "cell_type": "code",
   "execution_count": 12,
   "id": "becebfb2",
   "metadata": {
    "ExecuteTime": {
     "end_time": "2024-01-02T04:29:49.742111Z",
     "start_time": "2024-01-02T04:29:49.729401Z"
    }
   },
   "outputs": [
    {
     "data": {
      "text/plain": [
       "target\n",
       "0    15.057880\n",
       "1    14.985804\n",
       "dtype: float64"
      ]
     },
     "execution_count": 12,
     "metadata": {},
     "output_type": "execute_result"
    }
   ],
   "source": [
    "#recent_login_time: 사용자가 마지막으로 로그인한 시간 (일)\n",
    "\n",
    "타겟별_최근로그인 = user_data.groupby('target')['recent_login_time'].sum()\n",
    "타겟별_최근로그인/타겟별_인원수"
   ]
  },
  {
   "cell_type": "code",
   "execution_count": 13,
   "id": "8f1d2501",
   "metadata": {
    "ExecuteTime": {
     "end_time": "2024-01-02T04:29:55.416585Z",
     "start_time": "2024-01-02T04:29:55.402608Z"
    }
   },
   "outputs": [
    {
     "data": {
      "text/plain": [
       "target\n",
       "0    15.026762\n",
       "1    14.974035\n",
       "dtype: float64"
      ]
     },
     "execution_count": 13,
     "metadata": {},
     "output_type": "execute_result"
    }
   ],
   "source": [
    "#average_login_time: 사용자의 일반적인 로그인 시간\n",
    "\n",
    "타겟별_로그인시간 = user_data.groupby('target')['average_login_time'].sum()\n",
    "타겟별_로그인시간/타겟별_인원수"
   ]
  },
  {
   "cell_type": "code",
   "execution_count": 16,
   "id": "2f7b1557",
   "metadata": {
    "ExecuteTime": {
     "end_time": "2024-01-02T04:31:21.954844Z",
     "start_time": "2024-01-02T04:31:21.922525Z"
    }
   },
   "outputs": [
    {
     "data": {
      "text/plain": [
       "target\n",
       "0    12.502236\n",
       "1    12.571866\n",
       "dtype: float64"
      ]
     },
     "execution_count": 16,
     "metadata": {},
     "output_type": "execute_result"
    }
   ],
   "source": [
    "#monthly_active_learning_days: 월간 활동적인 학습 일수\n",
    "\n",
    "타겟별_학습일수 = user_data.groupby('target')['monthly_active_learning_days'].sum()\n",
    "타겟별_학습일수/타겟별_인원수"
   ]
  },
  {
   "cell_type": "code",
   "execution_count": 17,
   "id": "c17a266d",
   "metadata": {
    "ExecuteTime": {
     "end_time": "2024-01-02T04:31:29.698164Z",
     "start_time": "2024-01-02T04:31:29.685131Z"
    }
   },
   "outputs": [
    {
     "data": {
      "text/plain": [
       "target\n",
       "0    12.246251\n",
       "1    12.216003\n",
       "dtype: float64"
      ]
     },
     "execution_count": 17,
     "metadata": {},
     "output_type": "execute_result"
    }
   ],
   "source": [
    "#total_completed_courses: 완료한 총 코스 수\n",
    "타겟별_완료코스 = user_data.groupby('target')['total_completed_courses'].sum()\n",
    "타겟별_완료코스/타겟별_인원수"
   ]
  },
  {
   "cell_type": "code",
   "execution_count": 18,
   "id": "98605247",
   "metadata": {
    "ExecuteTime": {
     "end_time": "2024-01-02T04:31:36.707030Z",
     "start_time": "2024-01-02T04:31:36.693098Z"
    }
   },
   "outputs": [
    {
     "data": {
      "text/plain": [
       "target\n",
       "0    75.000310\n",
       "1    75.047419\n",
       "dtype: float64"
      ]
     },
     "execution_count": 18,
     "metadata": {},
     "output_type": "execute_result"
    }
   ],
   "source": [
    "#recent_learning_achievement: 최근 학습 성취도\n",
    "\n",
    "타겟별_학습성취도 = user_data.groupby('target')['recent_learning_achievement'].sum()\n",
    "타겟별_학습성취도/타겟별_인원수"
   ]
  },
  {
   "cell_type": "code",
   "execution_count": 19,
   "id": "263113bd",
   "metadata": {
    "ExecuteTime": {
     "end_time": "2024-01-02T04:31:42.041567Z",
     "start_time": "2024-01-02T04:31:42.025619Z"
    }
   },
   "outputs": [
    {
     "data": {
      "text/plain": [
       "target\n",
       "0    3.087609\n",
       "1    3.016616\n",
       "dtype: float64"
      ]
     },
     "execution_count": 19,
     "metadata": {},
     "output_type": "execute_result"
    }
   ],
   "source": [
    "#abandoned_learning_sessions: 중단된 학습 세션 수\n",
    "\n",
    "타겟별_중단세션수 = user_data.groupby('target')['abandoned_learning_sessions'].sum()\n",
    "타겟별_중단세션수/타겟별_인원수"
   ]
  },
  {
   "cell_type": "code",
   "execution_count": 20,
   "id": "c7c3d72b",
   "metadata": {
    "ExecuteTime": {
     "end_time": "2024-01-02T04:31:46.131461Z",
     "start_time": "2024-01-02T04:31:46.118502Z"
    }
   },
   "outputs": [
    {
     "data": {
      "text/plain": [
       "target\n",
       "0    3.870560\n",
       "1    3.895628\n",
       "dtype: float64"
      ]
     },
     "execution_count": 20,
     "metadata": {},
     "output_type": "execute_result"
    }
   ],
   "source": [
    "#community_engagement_level: 커뮤니티 참여도\n",
    "타겟별_커뮤니티참여도 = user_data.groupby('target')['community_engagement_level'].sum()\n",
    "타겟별_커뮤니티참여도/타겟별_인원수"
   ]
  },
  {
   "cell_type": "code",
   "execution_count": 21,
   "id": "e5bb9199",
   "metadata": {
    "ExecuteTime": {
     "end_time": "2024-01-02T04:31:59.225862Z",
     "start_time": "2024-01-02T04:31:59.207398Z"
    }
   },
   "outputs": [
    {
     "name": "stdout",
     "output_type": "stream",
     "text": [
      "preferred_difficulty_level\n",
      "High       759\n",
      "Low       1945\n",
      "Medium    1097\n",
      "dtype: int64\n",
      "19.968429360694554\n",
      "51.170744540910285\n",
      "28.860826098395158\n"
     ]
    }
   ],
   "source": [
    "타겟별_선호난이도0 = user_data[user_data['target'] == 0].groupby('preferred_difficulty_level').size()\n",
    "print(타겟별_선호난이도0)\n",
    "\n",
    "for i in 타겟별_선호난이도0:\n",
    "    print(i/타겟별_인원수[0]*100)"
   ]
  },
  {
   "cell_type": "code",
   "execution_count": 22,
   "id": "bd0ad000",
   "metadata": {
    "ExecuteTime": {
     "end_time": "2024-01-02T04:32:13.686166Z",
     "start_time": "2024-01-02T04:32:13.672264Z"
    }
   },
   "outputs": [
    {
     "name": "stdout",
     "output_type": "stream",
     "text": [
      "preferred_difficulty_level\n",
      "High      1241\n",
      "Low       3047\n",
      "Medium    1911\n",
      "dtype: int64\n",
      "20.019357960961447\n",
      "49.15308920793676\n",
      "30.82755283110179\n"
     ]
    }
   ],
   "source": [
    "타겟별_선호난이도1 = user_data[user_data['target'] == 1].groupby('preferred_difficulty_level').size()\n",
    "print(타겟별_선호난이도1)\n",
    "\n",
    "for i in 타겟별_선호난이도1:\n",
    "    print(i/타겟별_인원수[1]*100)"
   ]
  },
  {
   "cell_type": "markdown",
   "id": "f2a1b7ed",
   "metadata": {},
   "source": [
    "## 1) (가설1) 꾸준히 수강하는 사람일수록 구독 연장율이 높을 것이다.\n",
    "- 수강패턴을 꾸준히 수강하는 사람과 몰아서 수강하는 사람으로 나눈다. 몰아서 수강하는 경우 주말에 수강하고 8일 이하로 방문한다고 가정한다.\n",
    "- 분석 결과, 가설과 다르게 차이가 없음을 확인했다."
   ]
  },
  {
   "cell_type": "code",
   "execution_count": 23,
   "id": "99543362",
   "metadata": {
    "ExecuteTime": {
     "end_time": "2024-01-02T04:41:59.921752Z",
     "start_time": "2024-01-02T04:41:59.903372Z"
    }
   },
   "outputs": [
    {
     "data": {
      "text/plain": [
       "6647"
      ]
     },
     "execution_count": 23,
     "metadata": {},
     "output_type": "execute_result"
    }
   ],
   "source": [
    "#꾸준히 수강: 6647명\n",
    "꾸준_총인원 = user_data[user_data['monthly_active_learning_days'] > 8].count()['user_id']\n",
    "꾸준_총인원"
   ]
  },
  {
   "cell_type": "code",
   "execution_count": 24,
   "id": "fe6e27c2",
   "metadata": {
    "ExecuteTime": {
     "end_time": "2024-01-02T04:42:06.351556Z",
     "start_time": "2024-01-02T04:42:06.337435Z"
    }
   },
   "outputs": [
    {
     "data": {
      "text/plain": [
       "3353"
      ]
     },
     "execution_count": 24,
     "metadata": {},
     "output_type": "execute_result"
    }
   ],
   "source": [
    "#주말 수강: 3353명\n",
    "주말_총인원 = user_data[user_data['monthly_active_learning_days'] <= 8].count()['user_id']\n",
    "주말_총인원"
   ]
  },
  {
   "cell_type": "code",
   "execution_count": 25,
   "id": "1e331fb2",
   "metadata": {
    "ExecuteTime": {
     "end_time": "2024-01-02T04:42:15.653892Z",
     "start_time": "2024-01-02T04:42:15.614754Z"
    }
   },
   "outputs": [
    {
     "name": "stdout",
     "output_type": "stream",
     "text": [
      "{'꾸준0': 2525, '꾸준1': 4122, '주말0': 1276, '주말1': 2077}\n"
     ]
    }
   ],
   "source": [
    "빈도수 = ['꾸준', '주말']\n",
    "구독여부 = [0, 1]\n",
    "빈도수_구독여부 = {}\n",
    "for i in 빈도수:\n",
    "    for j in 구독여부:\n",
    "        if i == '꾸준':\n",
    "            i_j = user_data[(user_data['target'] == j) & (user_data['monthly_active_learning_days'] > 8)].count()['user_id']\n",
    "            빈도수_구독여부[i+str(j)] = i_j\n",
    "        else:\n",
    "            i_j = user_data[(user_data['target'] == j) & (user_data['monthly_active_learning_days'] <= 8)].count()['user_id']\n",
    "            빈도수_구독여부[i+str(j)] = i_j\n",
    "print(빈도수_구독여부)       "
   ]
  },
  {
   "cell_type": "code",
   "execution_count": 26,
   "id": "bd7b353e",
   "metadata": {
    "ExecuteTime": {
     "end_time": "2024-01-02T04:42:41.407654Z",
     "start_time": "2024-01-02T04:42:41.394035Z"
    }
   },
   "outputs": [
    {
     "data": {
      "text/plain": [
       "{'꾸준0': 38.0, '꾸준1': 62.0, '주말0': 38.1, '주말1': 61.9}"
      ]
     },
     "execution_count": 26,
     "metadata": {},
     "output_type": "execute_result"
    }
   ],
   "source": [
    "빈도수 = ['꾸준', '주말']\n",
    "구독여부 = [0, 1]\n",
    "빈도수_구독여부 = {'꾸준0': 2525, '꾸준1': 4122, '주말0': 1276, '주말1': 2077}\n",
    "빈도수_구독여부_비율 = {}\n",
    "\n",
    "for i in 빈도수:\n",
    "    for j in 구독여부:\n",
    "        if i == '꾸준':\n",
    "            i_j = ((빈도수_구독여부[i+str(j)]/꾸준_총인원)*100).round(1)\n",
    "            빈도수_구독여부_비율[i+str(j)] = i_j\n",
    "        else:\n",
    "            i_j = ((빈도수_구독여부[i+str(j)]/주말_총인원)*100).round(1)\n",
    "            빈도수_구독여부_비율[i+str(j)] = i_j\n",
    "\n",
    "빈도수_구독여부_비율"
   ]
  },
  {
   "cell_type": "code",
   "execution_count": 79,
   "id": "1e9d768b",
   "metadata": {
    "ExecuteTime": {
     "end_time": "2024-01-02T06:41:42.969992Z",
     "start_time": "2024-01-02T06:41:42.965008Z"
    }
   },
   "outputs": [],
   "source": [
    "fruits = ['꾸준히 수강', '주말에 수강']\n",
    "counts = [0.38, 0.381]\n",
    "colors = ['tomato', 'red']"
   ]
  },
  {
   "cell_type": "code",
   "execution_count": 94,
   "id": "04829faf",
   "metadata": {
    "ExecuteTime": {
     "end_time": "2024-01-02T08:10:34.533804Z",
     "start_time": "2024-01-02T08:10:34.322150Z"
    },
    "scrolled": true
   },
   "outputs": [
    {
     "data": {
      "image/png": "[encoded data removed]",
      "text/plain": [
       "<Figure size 400x300 with 1 Axes>"
      ]
     },
     "metadata": {},
     "output_type": "display_data"
    }
   ],
   "source": [
    "counts2 = [0.62, 0.619]\n",
    "colors2 = ['cornflowerblue', 'blue']\n",
    "\n",
    "idx = np.arange(len(counts))\n",
    "\n",
    "width = 0.4\n",
    "plt.figure(figsize=(4,3))\n",
    "\n",
    "plt.bar(idx, counts, width, color=colors)\n",
    "plt.bar(idx + width, counts2, width, color=colors2)\n",
    "\n",
    "plt.xticks(idx + width / 2, fruits)\n",
    "plt.show()"
   ]
  },
  {
   "cell_type": "markdown",
   "id": "f13dd1d0",
   "metadata": {},
   "source": [
    "## 2) (가설2) 구독 첫 한달 동안 완료하는 코스 수가 가장 많을 것이다.\n",
    "- 구독 첫 달에는 가장 열정적으로 수강하여 완료하는 코스가 가장 많은 이용 행태를 보일 것으로 예상했다.\n",
    "- 분석 결과 전체 평균 수강 완료 코스는 2개였다. 반면 개월수로 분석 시 첫 달이 12.3개로 가장 많고, 이후 급격히 감소하는 것을 알 수 있었다."
   ]
  },
  {
   "cell_type": "code",
   "execution_count": 30,
   "id": "aa359f42",
   "metadata": {
    "ExecuteTime": {
     "end_time": "2024-01-02T04:47:07.327711Z",
     "start_time": "2024-01-02T04:47:07.319255Z"
    }
   },
   "outputs": [
    {
     "data": {
      "text/plain": [
       "2.0"
      ]
     },
     "execution_count": 30,
     "metadata": {},
     "output_type": "execute_result"
    }
   ],
   "source": [
    "#한달 평균 완료 코스 수 : 2개\n",
    "(user_data['평균코스수'].sum()/10000).round(2)"
   ]
  },
  {
   "cell_type": "code",
   "execution_count": 27,
   "id": "fdd2431a",
   "metadata": {
    "ExecuteTime": {
     "end_time": "2024-01-02T04:45:54.337424Z",
     "start_time": "2024-01-02T04:45:54.326741Z"
    }
   },
   "outputs": [],
   "source": [
    "user_data['평균코스수'] = user_data['total_completed_courses']/ user_data[\"subscription_duration\"]"
   ]
  },
  {
   "cell_type": "code",
   "execution_count": 28,
   "id": "e3d251af",
   "metadata": {
    "ExecuteTime": {
     "end_time": "2024-01-02T04:46:00.706148Z",
     "start_time": "2024-01-02T04:46:00.665755Z"
    }
   },
   "outputs": [
    {
     "data": {
      "text/html": [
       "<div>\n",
       "<style scoped>\n",
       "    .dataframe tbody tr th:only-of-type {\n",
       "        vertical-align: middle;\n",
       "    }\n",
       "\n",
       "    .dataframe tbody tr th {\n",
       "        vertical-align: top;\n",
       "    }\n",
       "\n",
       "    .dataframe thead th {\n",
       "        text-align: right;\n",
       "    }\n",
       "</style>\n",
       "<table border=\"1\" class=\"dataframe\">\n",
       "  <thead>\n",
       "    <tr style=\"text-align: right;\">\n",
       "      <th></th>\n",
       "      <th>user_id</th>\n",
       "      <th>subscription_duration</th>\n",
       "      <th>recent_login_time</th>\n",
       "      <th>average_login_time</th>\n",
       "      <th>average_time_per_learning_session</th>\n",
       "      <th>monthly_active_learning_days</th>\n",
       "      <th>total_completed_courses</th>\n",
       "      <th>recent_learning_achievement</th>\n",
       "      <th>abandoned_learning_sessions</th>\n",
       "      <th>community_engagement_level</th>\n",
       "      <th>preferred_difficulty_level</th>\n",
       "      <th>subscription_type</th>\n",
       "      <th>customer_inquiry_history</th>\n",
       "      <th>payment_pattern</th>\n",
       "      <th>target</th>\n",
       "      <th>평균코스수</th>\n",
       "    </tr>\n",
       "  </thead>\n",
       "  <tbody>\n",
       "    <tr>\n",
       "      <th>0</th>\n",
       "      <td>b919c29d</td>\n",
       "      <td>13</td>\n",
       "      <td>14</td>\n",
       "      <td>14.946163</td>\n",
       "      <td>8.427187</td>\n",
       "      <td>18</td>\n",
       "      <td>16</td>\n",
       "      <td>68.360455</td>\n",
       "      <td>3</td>\n",
       "      <td>4</td>\n",
       "      <td>Low</td>\n",
       "      <td>Basic</td>\n",
       "      <td>4</td>\n",
       "      <td>5</td>\n",
       "      <td>0</td>\n",
       "      <td>1.230769</td>\n",
       "    </tr>\n",
       "    <tr>\n",
       "      <th>1</th>\n",
       "      <td>a0a60abb</td>\n",
       "      <td>16</td>\n",
       "      <td>18</td>\n",
       "      <td>18.453224</td>\n",
       "      <td>72.646087</td>\n",
       "      <td>16</td>\n",
       "      <td>13</td>\n",
       "      <td>97.567322</td>\n",
       "      <td>2</td>\n",
       "      <td>3</td>\n",
       "      <td>Medium</td>\n",
       "      <td>Basic</td>\n",
       "      <td>1</td>\n",
       "      <td>6</td>\n",
       "      <td>1</td>\n",
       "      <td>0.812500</td>\n",
       "    </tr>\n",
       "    <tr>\n",
       "      <th>2</th>\n",
       "      <td>b9f171ae</td>\n",
       "      <td>22</td>\n",
       "      <td>1</td>\n",
       "      <td>16.195228</td>\n",
       "      <td>21.774492</td>\n",
       "      <td>13</td>\n",
       "      <td>14</td>\n",
       "      <td>94.358763</td>\n",
       "      <td>3</td>\n",
       "      <td>4</td>\n",
       "      <td>Medium</td>\n",
       "      <td>Premium</td>\n",
       "      <td>0</td>\n",
       "      <td>7</td>\n",
       "      <td>1</td>\n",
       "      <td>0.636364</td>\n",
       "    </tr>\n",
       "    <tr>\n",
       "      <th>3</th>\n",
       "      <td>5dc0ba8b</td>\n",
       "      <td>1</td>\n",
       "      <td>19</td>\n",
       "      <td>17.628656</td>\n",
       "      <td>42.659066</td>\n",
       "      <td>19</td>\n",
       "      <td>18</td>\n",
       "      <td>70.153228</td>\n",
       "      <td>0</td>\n",
       "      <td>3</td>\n",
       "      <td>Low</td>\n",
       "      <td>Basic</td>\n",
       "      <td>1</td>\n",
       "      <td>0</td>\n",
       "      <td>1</td>\n",
       "      <td>18.000000</td>\n",
       "    </tr>\n",
       "    <tr>\n",
       "      <th>4</th>\n",
       "      <td>65c83654</td>\n",
       "      <td>4</td>\n",
       "      <td>5</td>\n",
       "      <td>21.390656</td>\n",
       "      <td>30.744287</td>\n",
       "      <td>19</td>\n",
       "      <td>10</td>\n",
       "      <td>81.917908</td>\n",
       "      <td>2</td>\n",
       "      <td>4</td>\n",
       "      <td>Medium</td>\n",
       "      <td>Basic</td>\n",
       "      <td>3</td>\n",
       "      <td>0</td>\n",
       "      <td>1</td>\n",
       "      <td>2.500000</td>\n",
       "    </tr>\n",
       "  </tbody>\n",
       "</table>\n",
       "</div>"
      ],
      "text/plain": [
       "    user_id  subscription_duration  recent_login_time  average_login_time  \\\n",
       "0  b919c29d                     13                 14           14.946163   \n",
       "1  a0a60abb                     16                 18           18.453224   \n",
       "2  b9f171ae                     22                  1           16.195228   \n",
       "3  5dc0ba8b                      1                 19           17.628656   \n",
       "4  65c83654                      4                  5           21.390656   \n",
       "\n",
       "   average_time_per_learning_session  monthly_active_learning_days  \\\n",
       "0                           8.427187                            18   \n",
       "1                          72.646087                            16   \n",
       "2                          21.774492                            13   \n",
       "3                          42.659066                            19   \n",
       "4                          30.744287                            19   \n",
       "\n",
       "   total_completed_courses  recent_learning_achievement  \\\n",
       "0                       16                    68.360455   \n",
       "1                       13                    97.567322   \n",
       "2                       14                    94.358763   \n",
       "3                       18                    70.153228   \n",
       "4                       10                    81.917908   \n",
       "\n",
       "   abandoned_learning_sessions  community_engagement_level  \\\n",
       "0                            3                           4   \n",
       "1                            2                           3   \n",
       "2                            3                           4   \n",
       "3                            0                           3   \n",
       "4                            2                           4   \n",
       "\n",
       "  preferred_difficulty_level subscription_type  customer_inquiry_history  \\\n",
       "0                        Low             Basic                         4   \n",
       "1                     Medium             Basic                         1   \n",
       "2                     Medium           Premium                         0   \n",
       "3                        Low             Basic                         1   \n",
       "4                     Medium             Basic                         3   \n",
       "\n",
       "   payment_pattern  target      평균코스수  \n",
       "0                5       0   1.230769  \n",
       "1                6       1   0.812500  \n",
       "2                7       1   0.636364  \n",
       "3                0       1  18.000000  \n",
       "4                0       1   2.500000  "
      ]
     },
     "execution_count": 28,
     "metadata": {},
     "output_type": "execute_result"
    }
   ],
   "source": [
    "user_data.head()"
   ]
  },
  {
   "cell_type": "code",
   "execution_count": 48,
   "id": "26e5715f",
   "metadata": {
    "ExecuteTime": {
     "end_time": "2024-01-02T05:37:56.324853Z",
     "start_time": "2024-01-02T05:37:56.243421Z"
    },
    "scrolled": false
   },
   "outputs": [
    {
     "data": {
      "text/plain": [
       "{1: 12.3,\n",
       " 2: 3.0,\n",
       " 3: 1.4,\n",
       " 4: 0.8,\n",
       " 5: 0.5,\n",
       " 6: 0.3,\n",
       " 7: 0.3,\n",
       " 8: 0.2,\n",
       " 9: 0.2,\n",
       " 10: 0.1}"
      ]
     },
     "execution_count": 48,
     "metadata": {},
     "output_type": "execute_result"
    }
   ],
   "source": [
    "# 10개월 기준: 첫달이 가장 높고 점차 줄어듦\n",
    "for i in range(1, 11):\n",
    "    구독i개월_인원 = user_data[user_data['subscription_duration']==i].count()['user_id']\n",
    "    구독i개월_총코스수 = user_data[user_data['subscription_duration']==i].sum()['평균코스수']\n",
    "    구독i개월_평균코스수 = (구독i개월_총코스수/i/구독i개월_인원).round(1)\n",
    "    개월별_코스수[i]=구독i개월_평균코스수\n",
    "\n",
    "개월별_코스수"
   ]
  },
  {
   "cell_type": "code",
   "execution_count": 59,
   "id": "89c1b048",
   "metadata": {
    "ExecuteTime": {
     "end_time": "2024-01-02T06:16:21.492970Z",
     "start_time": "2024-01-02T06:16:21.480895Z"
    }
   },
   "outputs": [
    {
     "data": {
      "text/plain": [
       "dict_keys([1, 2, 3, 4, 5, 6, 7, 8, 9, 10])"
      ]
     },
     "execution_count": 59,
     "metadata": {},
     "output_type": "execute_result"
    }
   ],
   "source": [
    "개월별_코스수.keys()"
   ]
  },
  {
   "cell_type": "code",
   "execution_count": 63,
   "id": "26cc5e96",
   "metadata": {
    "ExecuteTime": {
     "end_time": "2024-01-02T06:18:13.605204Z",
     "start_time": "2024-01-02T06:18:13.289101Z"
    }
   },
   "outputs": [
    {
     "data": {
      "image/png": "[encoded data removed]",
      "text/plain": [
       "<Figure size 1000x500 with 1 Axes>"
      ]
     },
     "metadata": {},
     "output_type": "display_data"
    }
   ],
   "source": [
    "x = list(개월별_코스수.keys())\n",
    "y = list(개월별_코스수.values())\n",
    "\n",
    "plt.figure(figsize=(10,5))\n",
    "plt.plot(x, y)\n",
    "plt.xticks(x, [f\"{i}개월\" for i in x])\n",
    "plt.xlabel(\"구독 기간\")\n",
    "plt.ylabel(\"코스 수\")\n",
    "plt.title(\"구독 개월별 코스 수\")\n",
    "plt.show()"
   ]
  },
  {
   "cell_type": "markdown",
   "id": "e56c7aba",
   "metadata": {},
   "source": [
    "## 1) (분석1) 선호 난이도: 가장 선호하는 난이도 컨텐츠를 보강하면 구독률을 높일 수 있지 않을까?\n",
    "- 분석 결과 Low > Medium > High 임을 알 수 있었다.\n",
    "- 선호 난이도가 구독 연장 여부에 영향을 미치는지 분석해보았지만 큰 상관관계가 없었다."
   ]
  },
  {
   "cell_type": "code",
   "execution_count": 81,
   "id": "92ada618",
   "metadata": {
    "ExecuteTime": {
     "end_time": "2024-01-02T06:46:21.173495Z",
     "start_time": "2024-01-02T06:46:21.152009Z"
    },
    "scrolled": true
   },
   "outputs": [
    {
     "data": {
      "text/plain": [
       "preferred_difficulty_level\n",
       "High      2000\n",
       "Low       4992\n",
       "Medium    3008\n",
       "Name: user_id, dtype: int64"
      ]
     },
     "execution_count": 81,
     "metadata": {},
     "output_type": "execute_result"
    }
   ],
   "source": [
    "#전체\n",
    "선호난이도 = user_data.groupby('preferred_difficulty_level')['user_id'].count()\n",
    "선호난이도"
   ]
  },
  {
   "cell_type": "code",
   "execution_count": 82,
   "id": "bd91e5b8",
   "metadata": {
    "ExecuteTime": {
     "end_time": "2024-01-02T06:46:27.425432Z",
     "start_time": "2024-01-02T06:46:27.115081Z"
    }
   },
   "outputs": [
    {
     "data": {
      "image/png": "[encoded data removed]",
      "text/plain": [
       "<Figure size 640x480 with 1 Axes>"
      ]
     },
     "metadata": {},
     "output_type": "display_data"
    }
   ],
   "source": [
    "선호난이도.plot(kind='bar', rot=0)\n",
    "plt.title(\"선호 난이도\")\n",
    "plt.xlabel(\"난이도\")\n",
    "plt.ylabel(\"수강생 수\")\n",
    "plt.show()"
   ]
  },
  {
   "cell_type": "code",
   "execution_count": 33,
   "id": "7abeda17",
   "metadata": {
    "ExecuteTime": {
     "end_time": "2024-01-02T04:49:38.112136Z",
     "start_time": "2024-01-02T04:49:38.098469Z"
    },
    "scrolled": true
   },
   "outputs": [
    {
     "name": "stdout",
     "output_type": "stream",
     "text": [
      "preferred_difficulty_level\n",
      "High       759\n",
      "Low       1945\n",
      "Medium    1097\n",
      "dtype: int64\n",
      "19.968429360694554\n",
      "51.170744540910285\n",
      "28.860826098395158\n"
     ]
    }
   ],
   "source": [
    "#타겟=0\n",
    "타겟별_선호난이도0 = user_data[user_data['target'] == 0].groupby('preferred_difficulty_level').size()\n",
    "print(타겟별_선호난이도0)\n",
    "\n",
    "for i in 타겟별_선호난이도0:\n",
    "    print(i/타겟별_인원수[0]*100)"
   ]
  },
  {
   "cell_type": "code",
   "execution_count": 67,
   "id": "728f6f24",
   "metadata": {
    "ExecuteTime": {
     "end_time": "2024-01-02T06:24:55.488986Z",
     "start_time": "2024-01-02T06:24:55.462854Z"
    }
   },
   "outputs": [
    {
     "name": "stdout",
     "output_type": "stream",
     "text": [
      "preferred_difficulty_level\n",
      "High      1241\n",
      "Low       3047\n",
      "Medium    1911\n",
      "dtype: int64\n",
      "20.019357960961447\n",
      "49.15308920793676\n",
      "30.82755283110179\n"
     ]
    }
   ],
   "source": [
    "#타겟=1\n",
    "타겟별_선호난이도1 = user_data[user_data['target'] == 1].groupby('preferred_difficulty_level').size()\n",
    "print(타겟별_선호난이도1)\n",
    "\n",
    "for i in 타겟별_선호난이도1:\n",
    "    print(i/타겟별_인원수[1]*100)"
   ]
  },
  {
   "cell_type": "markdown",
   "id": "94147d60",
   "metadata": {},
   "source": [
    "## 2) (분석2) 선호 구독 종류\n",
    "- 분석 결과 Basic > Premium 인 것을 알 수 있었다.\n",
    "- 선호 구독 종류와 선호 난이도의 상관관계를 파악해보았으나 관계가 없었다."
   ]
  },
  {
   "cell_type": "code",
   "execution_count": 35,
   "id": "c587c8e4",
   "metadata": {
    "ExecuteTime": {
     "end_time": "2024-01-02T04:51:30.797025Z",
     "start_time": "2024-01-02T04:51:30.783414Z"
    }
   },
   "outputs": [
    {
     "data": {
      "text/plain": [
       "subscription_type\n",
       "Basic      5979\n",
       "Premium    4021\n",
       "Name: user_id, dtype: int64"
      ]
     },
     "execution_count": 35,
     "metadata": {},
     "output_type": "execute_result"
    }
   ],
   "source": [
    "구독 = user_data.groupby('subscription_type')['user_id'].count()\n",
    "구독"
   ]
  },
  {
   "cell_type": "code",
   "execution_count": 83,
   "id": "339f668b",
   "metadata": {
    "ExecuteTime": {
     "end_time": "2024-01-02T06:47:14.518560Z",
     "start_time": "2024-01-02T06:47:14.234285Z"
    }
   },
   "outputs": [
    {
     "data": {
      "image/png": "[encoded data removed]",
      "text/plain": [
       "<Figure size 640x480 with 1 Axes>"
      ]
     },
     "metadata": {},
     "output_type": "display_data"
    }
   ],
   "source": [
    "구독.plot(kind='bar', rot=0)\n",
    "plt.title(\"선호 구독 종류\")\n",
    "plt.xlabel(\"구독 종류\")\n",
    "plt.ylabel(\"수강생 수\")\n",
    "plt.show()"
   ]
  },
  {
   "cell_type": "code",
   "execution_count": 36,
   "id": "2269b8c8",
   "metadata": {
    "ExecuteTime": {
     "end_time": "2024-01-02T04:51:57.202058Z",
     "start_time": "2024-01-02T04:51:57.156821Z"
    }
   },
   "outputs": [
    {
     "data": {
      "text/plain": [
       "{'BasicLow': 3009,\n",
       " 'BasicMedium': 1742,\n",
       " 'BasicHigh': 1228,\n",
       " 'PremiumLow': 1983,\n",
       " 'PremiumMedium': 1266,\n",
       " 'PremiumHigh': 772}"
      ]
     },
     "execution_count": 36,
     "metadata": {},
     "output_type": "execute_result"
    }
   ],
   "source": [
    "선호단계 = ['Low', 'Medium', 'High']\n",
    "구독종류 = ['Basic', 'Premium']\n",
    "선호단계_구독종류 = {}\n",
    "for i in 구독종류:\n",
    "    for j in 선호단계:\n",
    "        i_j = user_data[(user_data['subscription_type']==i) & (user_data['preferred_difficulty_level']==j)]['user_id'].count()\n",
    "        선호단계_구독종류[i+str(j)] = i_j\n",
    "선호단계_구독종류"
   ]
  },
  {
   "cell_type": "code",
   "execution_count": 37,
   "id": "a546088a",
   "metadata": {
    "ExecuteTime": {
     "end_time": "2024-01-02T04:52:00.633258Z",
     "start_time": "2024-01-02T04:52:00.621296Z"
    }
   },
   "outputs": [
    {
     "data": {
      "text/plain": [
       "{'BasicLow': 50.326141495233315,\n",
       " 'BasicMedium': 29.135306907509616,\n",
       " 'BasicHigh': 20.538551597257065}"
      ]
     },
     "execution_count": 37,
     "metadata": {},
     "output_type": "execute_result"
    }
   ],
   "source": [
    "Basic_선호단계_구독종류 = {'BasicLow': 3009, 'BasicMedium': 1742, 'BasicHigh': 1228}\n",
    "Basic_선호단계_구독종류_비율 = {}\n",
    "Basic_총인원 = 5979\n",
    "\n",
    "for i in Basic_선호단계_구독종류:\n",
    "    비율 = (Basic_선호단계_구독종류[i]/Basic_총인원*100)\n",
    "    Basic_선호단계_구독종류_비율[i] = 비율\n",
    "\n",
    "Basic_선호단계_구독종류_비율"
   ]
  },
  {
   "cell_type": "code",
   "execution_count": 38,
   "id": "3e84bdab",
   "metadata": {
    "ExecuteTime": {
     "end_time": "2024-01-02T04:52:23.925788Z",
     "start_time": "2024-01-02T04:52:23.915502Z"
    },
    "scrolled": true
   },
   "outputs": [
    {
     "data": {
      "text/plain": [
       "{'PremiumLow': 49.316090524745086,\n",
       " 'PremiumMedium': 31.484705297189752,\n",
       " 'PremiumHigh': 19.19920417806516}"
      ]
     },
     "execution_count": 38,
     "metadata": {},
     "output_type": "execute_result"
    }
   ],
   "source": [
    "Premium_선호단계_구독종류 = {'PremiumLow': 1983, 'PremiumMedium': 1266, 'PremiumHigh': 772}\n",
    "Premium_선호단계_구독종류_비율 = {}\n",
    "Premium_총인원 = 4021\n",
    "\n",
    "for i in Premium_선호단계_구독종류:\n",
    "    비율 = (Premium_선호단계_구독종류[i]/Premium_총인원*100)\n",
    "    Premium_선호단계_구독종류_비율[i] = 비율\n",
    "\n",
    "Premium_선호단계_구독종류_비율"
   ]
  },
  {
   "cell_type": "code",
   "execution_count": 89,
   "id": "aff27a09",
   "metadata": {
    "ExecuteTime": {
     "end_time": "2024-01-02T06:52:53.518393Z",
     "start_time": "2024-01-02T06:52:53.223232Z"
    }
   },
   "outputs": [
    {
     "data": {
      "image/png": "[encoded data removed]",
      "text/plain": [
       "<Figure size 640x480 with 1 Axes>"
      ]
     },
     "metadata": {},
     "output_type": "display_data"
    },
    {
     "data": {
      "image/png": "[encoded data removed]",
      "text/plain": [
       "<Figure size 640x480 with 1 Axes>"
      ]
     },
     "metadata": {},
     "output_type": "display_data"
    }
   ],
   "source": [
    "plt.axis('equal')\n",
    "plt.title('Basic 구독자의 선호 단계')\n",
    "ratio = [0.503, 0.291, 0.205]\n",
    "grade = ['Low', 'Medium', 'High']\n",
    "plt.pie(ratio, labels=grade, autopct='%.1f%%')\n",
    "colors = ['skyblue', 'coral', 'tomato']\n",
    "\n",
    "plt.show()\n",
    "\n",
    "plt.axis('equal')\n",
    "plt.title('Premium 구독자의 선호 단계')\n",
    "ratio = [0.493, 0.315, 0.192]\n",
    "grade = ['Low', 'Medium', 'High']\n",
    "plt.pie(ratio, labels=grade, autopct='%.1f%%')\n",
    "colors = ['skyblue', 'coral', 'tomato']\n",
    "\n",
    "plt.show()"
   ]
  },
  {
   "cell_type": "markdown",
   "id": "d41bf6c4",
   "metadata": {},
   "source": [
    "# 5) 최종 결론 내리기\n",
    "## 분석 결과 요약\n",
    "1. (목표1) 각 메타데이터 중 구독 연장 여부와 가장 연관 있는 것이 무엇인지 파악해보기\n",
    "    - 구독 연장 여부에 영향을 미치는 메타데이터는 ‘각 학습 세션에 소요된 평균 시간 (분)(average_time_per_learning_session)’이었다. 그외의 메타데이터는 구독 여부와 큰 상관관계가 없었다.\n",
    "2. (가설1) 꾸준히 수강하는 사람일수록 구독 연장율이 높을 것이다.\n",
    "    - 주말 등 몰아서 수강하는 수강생보다 꾸준히 수강한 수강생이 구독 연장율이 높을 것이라고 가설을 세웠지만, 실제 데이터에서는 큰 차이가 없었다.\n",
    "3. (가설2) 구독 첫 한달 동안 완료하는 코스 수가 가장 많을 것이다.\n",
    "    - 구독 첫 달에는 가장 열정적으로 수강하여 완료하는 코스가 가장 많은 이용 행태를 보일 것으로 예상했다. 분석 결과 전체 평균 수강 완료 코스는 2개인 반면 개월수로 분석 시 첫 달이 12.3개로 가장 많고, 이후 급격히 감소하는 것을 알 수 있었다.\n",
    "4. (분석1) 선호 난이도: 가장 선호하는 난이도 컨텐츠를 보강하면 구독률을 높일 수 있지 않을까?\n",
    "    - 분석 결과 Low > Medium > High 임을 알 수 있었다.\n",
    "    - 선호 난이도가 구독 연장 여부에 영향을 미치는지 분석해보았지만 큰 상관관계가 없었다.\n",
    "5. (분석2) 선호 구독 종류\n",
    "    - 분석 결과 Basic > Premium 인 것을 알 수 있었다.\n",
    "    - 선호 구독 종류와 선호 난이도의 상관관계를 파악해보았으나 관계가 없었다."
   ]
  },
  {
   "attachments": {
    "image-2.png": {
     "image/png": "[encoded data removed]"
    },
    "image-3.png": {
     "image/png": "[encoded data removed]"
    },
    "image-4.png": {
     "image/png": "[encoded data removed]"
    },
    "image-5.png": {
     "image/png": "[encoded data removed]"
    },
    "image.png": {
     "image/png": "[encoded data removed]"
    }
   },
   "cell_type": "markdown",
   "id": "7c29a024",
   "metadata": {},
   "source": [
    "## 최종 결론\n",
    "구독 연장 여부에 영향을 미치는 메타데이터는 ‘각 학습 세션에 소요된 평균 시간 (분)(average_time_per_learning_session)’이었다. 구독 연장을 결정한 수강생은 평균 60시간의 세션을 수강한 반면, 구독 취소를 결정한 수강생은 평균 47시간을 수강했다. 그외의 메타데이터는 구독 여부와 큰 상관관계가 없었다.\n",
    "![image-4.png](attachment:image-4.png)\n",
    "월간 활동적인 학습 일수(monthly_active_learning_days)’를 구체화하여 주말 등 몰아서 수강하는 수강생보다 꾸준히 수강한 수강생이 구독 연장율이 높을 것이라고 가설을 세웠지만, 실제 데이터에서는 큰 차이가 없었다.\n",
    "![image-5.png](attachment:image-5.png)\n",
    "구독 첫 달에는 가장 열정적으로 수강하여 완료하는 코스가 가장 많은 이용 행태를 보일 것으로 예상했다. 분석 결과 전체 평균 수강 완료 코스는 2개인 반면 개월수로 분석 시 첫 달이 12.3개로 가장 많고, 두번째 달에는 3개로 급격히 감소하는 것을 알 수 있었다.\n",
    "![image.png](attachment:image.png)\n",
    "수강생이 선호하는 난이도는 Low > Medium > High 순이었으며, 선호하는 구독 종류는 Basic > Premium 순이었다.\n",
    "![image-3.png](attachment:image-3.png), ![image-2.png](attachment:image-2.png)\n",
    "첫 달에 수강 완료하는 코스 수가 많기 때문에, 양질의 Low 단계 콘텐츠를 통해 온보딩을 강화하여 구독 연장률에 영향을 미칠 수 있을 것이다."
   ]
  },
  {
   "cell_type": "code",
   "execution_count": null,
   "id": "57c523a9",
   "metadata": {},
   "outputs": [],
   "source": []
  }
 ],
 "metadata": {
  "kernelspec": {
   "display_name": "Python 3 (ipykernel)",
   "language": "python",
   "name": "python3"
  },
  "language_info": {
   "codemirror_mode": {
    "name": "ipython",
    "version": 3
   },
   "file_extension": ".py",
   "mimetype": "text/x-python",
   "name": "python",
   "nbconvert_exporter": "python",
   "pygments_lexer": "ipython3",
   "version": "3.11.5"
  },
  "toc": {
   "base_numbering": 1,
   "nav_menu": {},
   "number_sections": true,
   "sideBar": true,
   "skip_h1_title": false,
   "title_cell": "Table of Contents",
   "title_sidebar": "Contents",
   "toc_cell": false,
   "toc_position": {},
   "toc_section_display": true,
   "toc_window_display": false
  }
 },
 "nbformat": 4,
 "nbformat_minor": 5
}
