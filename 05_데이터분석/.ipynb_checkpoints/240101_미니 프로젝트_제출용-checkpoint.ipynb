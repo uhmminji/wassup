{
 "cells": [
  {
   "cell_type": "markdown",
   "id": "71ba7d16",
   "metadata": {},
   "source": [
    "**DA Mini Project**\n",
    "* 주제 : 온라인 학습 플랫폼 사용자 행동 패턴 분석\n",
    "* 개요 :\n",
    "```\n",
    "이번 프로젝트는 학습 서비스를 이용하는 독자들 중 누가 서비스 구독을 연장할지 예측하기 위한 사전 파악에 초점을 맞추고 있습니다. 우리의 목표는 유저들의 학습 습관, 선호도, 이용 행태 등 다양한 측면을 면밀히 분석하는 것입니다.\n",
    "\n",
    "\n",
    "이를 위해, 우리는 유저들의 학습 패턴, 서비스 이용 시간, 콘텐츠에 대한 반응, 그리고 이들이 얼마나 자주 서비스를 이용하는지 등 다양한 데이터를 수집하고 분석할 계획입니다. 이 데이터는 유저들이 서비스에 얼마나 만족하고 있는지, 어떤 요소들이 그들의 구독 결정에 영향을 미치는지 이해하는 데 중요한 역할을 할 것입니다.\n",
    "```\n",
    "* 데이터셋 : mini.csv\n",
    "    * 메타데이터\n",
    "        * user_id: 사용자의 고유 식별자\n",
    "        * subscription_duration: 사용자가 서비스에 가입한 기간 (월)\n",
    "        * recent_login_time: 사용자가 마지막으로 로그인한 시간 (일)\n",
    "        * average_login_time:  사용자의 일반적인 로그인 시간\n",
    "        * average_time_per_learning_session: 각 학습 세션에 소요된 평균 시간 (분)\n",
    "        * monthly_active_learning_days: 월간 활동적인 학습 일수\n",
    "        * total_completed_courses: 완료한 총 코스 수\n",
    "        * recent_learning_achievement: 최근 학습 성취도\n",
    "        * abandoned_learning_sessions: 중단된 학습 세션 수\n",
    "        * community_engagement_level: 커뮤니티 참여도\n",
    "        * preferred_difficulty_level: 선호하는 난이도\n",
    "        * subscription_type: 구독 유형\n",
    "        * customer_inquiry_history: 고객 문의 이력\n",
    "        * payment_pattern : 사용자의 지난 3개월 간의 결제 패턴을 10진수로 표현한 값.\n",
    "          - 7: 3개월 모두 결제함\n",
    "          - 6: 첫 2개월은 결제했으나 마지막 달에는 결제하지 않음\n",
    "          - 5: 첫 달과 마지막 달에 결제함\n",
    "          - 4: 첫 달에만 결제함\n",
    "          - 3: 마지막 2개월에 결제함\n",
    "          - 2: 가운데 달에만 결제함\n",
    "          - 1: 마지막 달에만 결제함\n",
    "          - 0: 3개월 동안 결제하지 않음\n",
    "        - target: 사용자가 다음달에도 구독을 게속할지(1) 취소할지(0)"
   ]
  },
  {
   "cell_type": "markdown",
   "id": "a396dc86",
   "metadata": {},
   "source": [
    "**1) 문제 정의 및 가설 설정하기 → 2) 데이터 분석 기본 세팅 하기 → 3) 데이터 분석하기 → 4) 분석 결과 시각화 하기 → 5) 최종 결론 내리기**"
   ]
  },
  {
   "cell_type": "markdown",
   "id": "aee04f64",
   "metadata": {},
   "source": [
    "# 1) 문제 정의 및 가설 설정하기"
   ]
  },
  {
   "cell_type": "markdown",
   "id": "5dd43700",
   "metadata": {},
   "source": [
    "## 목표\n",
    "\n",
    "- 유저들의 행동 패턴(학습 습관, 선호도, 이용 행태 등) 분석 → 학습 서비스를 이용하는 독자들 중 누가 서비스 구독을 연장할지 예측\n",
    "\n",
    "## 구독여정\n",
    "\n",
    "1. 마음을 먹고 구독을 결제한다.\n",
    "2. 어떤 학습 세션이 있는지 탐색하며 여러가지를 수강해본다.\n",
    "    - 이 단계에서 중단 세션이 발생한다.\n",
    "3. 마음에 드는 세션을 선택해 꾸준히 수강한다.\n",
    "    - 이 단계에서 만족도가 올라게 된다.\n",
    "    - 마음에 들지 않으면 이탈한다: 수강 일수가 적고, 성취도가 낮을 것\n",
    "    - 수강 과정에서 만족도에 영향을 미치는 요소가 무엇인지 파악해야 한다."
   ]
  },
  {
   "cell_type": "markdown",
   "id": "6159393d",
   "metadata": {},
   "source": [
    "## 가설\n",
    "### 1. 학습 습관, 학습 패턴\n",
    "\n",
    "1) (가설1) 꾸준한 사람일수록 연장율이 높을 것이다. Why? 수업적게 들으면 아까우니까. (검증완)\n",
    "\n",
    "2) (가설2) 평균 소요시간 높을 수록, 연장 한다. (검증완)\n",
    "\n",
    "### 2. 선호도, 콘텐츠에 대한 반응\n",
    "\n",
    "1) 선호난이도 low > medium >high (분석완)\n",
    "\n",
    "2) 선호 구독 종류: basic >premium (분석완)\n",
    "\n",
    "### 3. 이용 행태, 서비스 이용 시간, 얼마나 자주 서비스를 이용하는지\n",
    "\n",
    "1) 한달에 수강하는 평균 세션 수:  2개 (분석완)\n",
    "\n",
    "2) 가입 한달 동안 완료 세션이 몇개인지, 두달, 세달 점차 몇개로 줄어드는가(줄어드는 시점에, 구독 중단하지 않을까? 그게 몇개일까?) (검증완): 첫달이 가장 많고, 점점 줄어듦"
   ]
  },
  {
   "cell_type": "code",
   "execution_count": null,
   "id": "46f1e641",
   "metadata": {},
   "outputs": [],
   "source": []
  },
  {
   "cell_type": "markdown",
   "id": "91062437",
   "metadata": {},
   "source": [
    "- (가설2) 평균 소요시간 높을 수록, 연장 한다."
   ]
  },
  {
   "cell_type": "code",
   "execution_count": null,
   "id": "a5ae0c74",
   "metadata": {},
   "outputs": [],
   "source": []
  },
  {
   "cell_type": "markdown",
   "id": "1a134bd7",
   "metadata": {},
   "source": [
    "2. 선호도, 콘텐츠에 대한 반응\n",
    "- 1) 선호난이도 low > medium >high"
   ]
  },
  {
   "cell_type": "code",
   "execution_count": null,
   "id": "edcad6be",
   "metadata": {},
   "outputs": [],
   "source": []
  },
  {
   "cell_type": "markdown",
   "id": "9c124c0f",
   "metadata": {},
   "source": [
    "- 2) 선호 구독 종류: basic >premium"
   ]
  },
  {
   "cell_type": "code",
   "execution_count": null,
   "id": "bf9500f3",
   "metadata": {},
   "outputs": [],
   "source": []
  },
  {
   "cell_type": "markdown",
   "id": "f5d73230",
   "metadata": {},
   "source": [
    "3. 이용 행태, 서비스 이용 시간, 얼마나 자주 서비스를 이용하는지\n",
    "- 한달에 수강하는 평균 세션 수:  2개"
   ]
  },
  {
   "cell_type": "code",
   "execution_count": null,
   "id": "c63eca62",
   "metadata": {},
   "outputs": [],
   "source": []
  },
  {
   "cell_type": "markdown",
   "id": "b4a4a0b2",
   "metadata": {},
   "source": [
    "- 가입 한달 동안 완료 세션이 몇개인지, 두달, 세달 점차 몇개로 줄어드는가(줄어드는 시점에, 구독 중단하지 않을까? 그게 몇개일까?) (검증완): 첫달이 가장 많고, 점점 줄어듦"
   ]
  },
  {
   "cell_type": "code",
   "execution_count": null,
   "id": "b9dbd80a",
   "metadata": {},
   "outputs": [],
   "source": []
  }
 ],
 "metadata": {
  "kernelspec": {
   "display_name": "Python 3 (ipykernel)",
   "language": "python",
   "name": "python3"
  },
  "language_info": {
   "codemirror_mode": {
    "name": "ipython",
    "version": 3
   },
   "file_extension": ".py",
   "mimetype": "text/x-python",
   "name": "python",
   "nbconvert_exporter": "python",
   "pygments_lexer": "ipython3",
   "version": "3.11.5"
  },
  "toc": {
   "base_numbering": 1,
   "nav_menu": {},
   "number_sections": true,
   "sideBar": true,
   "skip_h1_title": false,
   "title_cell": "Table of Contents",
   "title_sidebar": "Contents",
   "toc_cell": false,
   "toc_position": {},
   "toc_section_display": true,
   "toc_window_display": false
  }
 },
 "nbformat": 4,
 "nbformat_minor": 5
}
