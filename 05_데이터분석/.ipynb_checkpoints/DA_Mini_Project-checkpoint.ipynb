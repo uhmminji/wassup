{
 "cells": [
  {
   "cell_type": "markdown",
   "id": "ad7181c2-2b55-4c85-b98b-73f88cd2f077",
   "metadata": {},
   "source": [
    "# DA Mini Project\n",
    "* 주제 : 온라인 학습 플랫폼 사용자 행동 패턴 분석\n",
    "* 개요 :\n",
    "```\n",
    "이번 프로젝트는 학습 서비스를 이용하는 독자들 중 누가 서비스 구독을 연장할지 예측하기 위한 사전 파악에 초점을 맞추고 있습니다. 우리의 목표는 유저들의 학습 습관, 선호도, 이용 행태 등 다양한 측면을 면밀히 분석하는 것입니다.\n",
    "\n",
    "\n",
    "이를 위해, 우리는 유저들의 학습 패턴, 서비스 이용 시간, 콘텐츠에 대한 반응, 그리고 이들이 얼마나 자주 서비스를 이용하는지 등 다양한 데이터를 수집하고 분석할 계획입니다. 이 데이터는 유저들이 서비스에 얼마나 만족하고 있는지, 어떤 요소들이 그들의 구독 결정에 영향을 미치는지 이해하는 데 중요한 역할을 할 것입니다.\n",
    "```\n",
    "* 데이터셋 : mini.csv\n",
    "    * 메타데이터\n",
    "        * user_id: 사용자의 고유 식별자\n",
    "        * subscription_duration: 사용자가 서비스에 가입한 기간 (월)\n",
    "        * recent_login_time: 사용자가 마지막으로 로그인한 시간 (일)\n",
    "        * average_login_time:  사용자의 일반적인 로그인 시간\n",
    "        * average_time_per_learning_session: 각 학습 세션에 소요된 평균 시간 (분)\n",
    "        * monthly_active_learning_days: 월간 활동적인 학습 일수\n",
    "        * total_completed_courses: 완료한 총 코스 수\n",
    "        * recent_learning_achievement: 최근 학습 성취도\n",
    "        * abandoned_learning_sessions: 중단된 학습 세션 수\n",
    "        * community_engagement_level: 커뮤니티 참여도\n",
    "        * preferred_difficulty_level: 선호하는 난이도\n",
    "        * subscription_type: 구독 유형\n",
    "        * customer_inquiry_history: 고객 문의 이력\n",
    "        * payment_pattern : 사용자의 지난 3개월 간의 결제 패턴을 10진수로 표현한 값.\n",
    "          - 7: 3개월 모두 결제함\n",
    "          - 6: 첫 2개월은 결제했으나 마지막 달에는 결제하지 않음\n",
    "          - 5: 첫 달과 마지막 달에 결제함\n",
    "          - 4: 첫 달에만 결제함\n",
    "          - 3: 마지막 2개월에 결제함\n",
    "          - 2: 가운데 달에만 결제함\n",
    "          - 1: 마지막 달에만 결제함\n",
    "          - 0: 3개월 동안 결제하지 않음\n",
    "        - target: 사용자가 다음달에도 구독을 게속할지(1) 취소할지(0)"
   ]
  },
  {
   "cell_type": "markdown",
   "id": "67b58ce6",
   "metadata": {},
   "source": [
    "목표: 유저들의 학습 습관, 선호도, 이용 행태 도출 -> 학습 서비스를 이용하는 독자들 중 누가 서비스 구독을 연장할지 예측\n",
    "\n"
   ]
  },
  {
   "cell_type": "markdown",
   "id": "49a64497",
   "metadata": {},
   "source": [
    "1) 문제 정의 및 가설 설정하기 → 2) 데이터 분석 기본 세팅 하기 → 3) 데이터 분석하기 → 4) 분석 결과 시각화 하기 → 5) 최종 결론 내리기"
   ]
  },
  {
   "cell_type": "markdown",
   "id": "fa8b95f0",
   "metadata": {},
   "source": [
    "# 문제 정의 및 가설 설정하기\n",
    "## 목표\n",
    "- 유저들의 학습 습관, 선호도, 이용 행태 도출 등 면밀히 분석-> 학습 서비스를 이용하는 독자들 중 누가 서비스 구독을 연장할지 예측\n",
    "- 1.서비스 만족도 2. 구독 결정 요인 분석하기\n",
    "## 구독 여정\n",
    "0. 가입한다.\n",
    "1. 마음을 먹고 구독을 결제한다.\n",
    "2. 어떤 학습 세션이 있는지 탐색하며 여러가지를 수강해본다.\n",
    "    - 수강 시간이 짧은 세션은 필터링할 필요가 있다.\n",
    "3. 마음에 드는 세션을 선택해 꾸준히 수강한다.\n",
    "    - 이 단계에서 만족도가 올라게 된다.\n",
    "    - 마음에 들지 않으면 이탈한다: 수강 일수가 적고, 성취도가 낮을 것\n",
    "    - 수강 과정에서 만족도에 영향을 미치는 요소가 무엇인지 파악해야 한다.\n",
    "4. 구독 연장을 결심한다.\n",
    "## 가설 설정하기\n",
    "- 3번째 '세션 수강 단계'에서 만족도가 좌우된다. 만족도가 높을 수록 구독을 연장할 것이다.\n",
    "## 필요 메타데이터\n",
    "- 만족도 상관관계 파악하기: 지난달 기준, 다음 달에 구독 연장했는지 여부\n",
    "    -  각 요소 별 관계성 파악해보기 -> 그것을 만족도 관련 요소로 쓰기\n",
    "- '세션 수강 단계'에서 만족도 관련 요소\n",
    "    - average_time_per_learning_session: 각 학습 세션에 소요된 평균 시간 (분)\n",
    "    - monthly_active_learning_days: 월간 활동적인 학습 일수\n",
    "    - total_completed_courses: 완료한 총 코스 수\n",
    "        - 가입 기간이 길 수록 많을 것이니 가공 필요함.\n",
    "        - 총 코스 수/가입 개월수\n",
    "    - recent_learning_achievement: 최근 학습 성취도\n",
    "        - 최근의 범위?\n",
    "    - abandoned_learning_sessions: 중단된 학습 세션 수\n",
    "- 유저 정보\n",
    "    - user_id: 사용자의 고유 식별자\n",
    "- 결제 정보\n",
    "    - payment_pattern : 사용자의 지난 3개월 간의 결제 패턴을 10진수로 표현한 값.\n",
    "        - 구독 '연장'이 목표이므로 직전 달에 결제한 사용자만 필터링해야함"
   ]
  },
  {
   "cell_type": "markdown",
   "id": "32902013",
   "metadata": {},
   "source": [
    "# 데이터 분석 기본 세팅 하기"
   ]
  },
  {
   "cell_type": "code",
   "execution_count": 1,
   "id": "3a906b17",
   "metadata": {
    "ExecuteTime": {
     "end_time": "2023-12-31T06:03:30.259719Z",
     "start_time": "2023-12-31T06:03:26.150859Z"
    }
   },
   "outputs": [],
   "source": [
    "import pandas as pd\n",
    "import numpy as np\n",
    "import matplotlib.pyplot as plt\n",
    "import koreanize_matplotlib"
   ]
  },
  {
   "cell_type": "code",
   "execution_count": 2,
   "id": "87f938f6",
   "metadata": {
    "ExecuteTime": {
     "end_time": "2023-12-31T06:03:30.440285Z",
     "start_time": "2023-12-31T06:03:30.271694Z"
    },
    "scrolled": true
   },
   "outputs": [
    {
     "data": {
      "text/html": [
       "<div>\n",
       "<style scoped>\n",
       "    .dataframe tbody tr th:only-of-type {\n",
       "        vertical-align: middle;\n",
       "    }\n",
       "\n",
       "    .dataframe tbody tr th {\n",
       "        vertical-align: top;\n",
       "    }\n",
       "\n",
       "    .dataframe thead th {\n",
       "        text-align: right;\n",
       "    }\n",
       "</style>\n",
       "<table border=\"1\" class=\"dataframe\">\n",
       "  <thead>\n",
       "    <tr style=\"text-align: right;\">\n",
       "      <th></th>\n",
       "      <th>user_id</th>\n",
       "      <th>subscription_duration</th>\n",
       "      <th>recent_login_time</th>\n",
       "      <th>average_login_time</th>\n",
       "      <th>average_time_per_learning_session</th>\n",
       "      <th>monthly_active_learning_days</th>\n",
       "      <th>total_completed_courses</th>\n",
       "      <th>recent_learning_achievement</th>\n",
       "      <th>abandoned_learning_sessions</th>\n",
       "      <th>community_engagement_level</th>\n",
       "      <th>preferred_difficulty_level</th>\n",
       "      <th>subscription_type</th>\n",
       "      <th>customer_inquiry_history</th>\n",
       "      <th>payment_pattern</th>\n",
       "      <th>target</th>\n",
       "    </tr>\n",
       "  </thead>\n",
       "  <tbody>\n",
       "    <tr>\n",
       "      <th>0</th>\n",
       "      <td>b919c29d</td>\n",
       "      <td>13</td>\n",
       "      <td>14</td>\n",
       "      <td>14.946163</td>\n",
       "      <td>8.427187</td>\n",
       "      <td>18</td>\n",
       "      <td>16</td>\n",
       "      <td>68.360455</td>\n",
       "      <td>3</td>\n",
       "      <td>4</td>\n",
       "      <td>Low</td>\n",
       "      <td>Basic</td>\n",
       "      <td>4</td>\n",
       "      <td>5</td>\n",
       "      <td>0</td>\n",
       "    </tr>\n",
       "    <tr>\n",
       "      <th>1</th>\n",
       "      <td>a0a60abb</td>\n",
       "      <td>16</td>\n",
       "      <td>18</td>\n",
       "      <td>18.453224</td>\n",
       "      <td>72.646087</td>\n",
       "      <td>16</td>\n",
       "      <td>13</td>\n",
       "      <td>97.567322</td>\n",
       "      <td>2</td>\n",
       "      <td>3</td>\n",
       "      <td>Medium</td>\n",
       "      <td>Basic</td>\n",
       "      <td>1</td>\n",
       "      <td>6</td>\n",
       "      <td>1</td>\n",
       "    </tr>\n",
       "    <tr>\n",
       "      <th>2</th>\n",
       "      <td>b9f171ae</td>\n",
       "      <td>22</td>\n",
       "      <td>1</td>\n",
       "      <td>16.195228</td>\n",
       "      <td>21.774492</td>\n",
       "      <td>13</td>\n",
       "      <td>14</td>\n",
       "      <td>94.358763</td>\n",
       "      <td>3</td>\n",
       "      <td>4</td>\n",
       "      <td>Medium</td>\n",
       "      <td>Premium</td>\n",
       "      <td>0</td>\n",
       "      <td>7</td>\n",
       "      <td>1</td>\n",
       "    </tr>\n",
       "    <tr>\n",
       "      <th>3</th>\n",
       "      <td>5dc0ba8b</td>\n",
       "      <td>1</td>\n",
       "      <td>19</td>\n",
       "      <td>17.628656</td>\n",
       "      <td>42.659066</td>\n",
       "      <td>19</td>\n",
       "      <td>18</td>\n",
       "      <td>70.153228</td>\n",
       "      <td>0</td>\n",
       "      <td>3</td>\n",
       "      <td>Low</td>\n",
       "      <td>Basic</td>\n",
       "      <td>1</td>\n",
       "      <td>0</td>\n",
       "      <td>1</td>\n",
       "    </tr>\n",
       "    <tr>\n",
       "      <th>4</th>\n",
       "      <td>65c83654</td>\n",
       "      <td>4</td>\n",
       "      <td>5</td>\n",
       "      <td>21.390656</td>\n",
       "      <td>30.744287</td>\n",
       "      <td>19</td>\n",
       "      <td>10</td>\n",
       "      <td>81.917908</td>\n",
       "      <td>2</td>\n",
       "      <td>4</td>\n",
       "      <td>Medium</td>\n",
       "      <td>Basic</td>\n",
       "      <td>3</td>\n",
       "      <td>0</td>\n",
       "      <td>1</td>\n",
       "    </tr>\n",
       "    <tr>\n",
       "      <th>...</th>\n",
       "      <td>...</td>\n",
       "      <td>...</td>\n",
       "      <td>...</td>\n",
       "      <td>...</td>\n",
       "      <td>...</td>\n",
       "      <td>...</td>\n",
       "      <td>...</td>\n",
       "      <td>...</td>\n",
       "      <td>...</td>\n",
       "      <td>...</td>\n",
       "      <td>...</td>\n",
       "      <td>...</td>\n",
       "      <td>...</td>\n",
       "      <td>...</td>\n",
       "      <td>...</td>\n",
       "    </tr>\n",
       "    <tr>\n",
       "      <th>9995</th>\n",
       "      <td>ae6b76bc</td>\n",
       "      <td>22</td>\n",
       "      <td>29</td>\n",
       "      <td>14.727623</td>\n",
       "      <td>84.053558</td>\n",
       "      <td>18</td>\n",
       "      <td>16</td>\n",
       "      <td>64.966803</td>\n",
       "      <td>2</td>\n",
       "      <td>5</td>\n",
       "      <td>Low</td>\n",
       "      <td>Premium</td>\n",
       "      <td>1</td>\n",
       "      <td>1</td>\n",
       "      <td>1</td>\n",
       "    </tr>\n",
       "    <tr>\n",
       "      <th>9996</th>\n",
       "      <td>24588752</td>\n",
       "      <td>10</td>\n",
       "      <td>11</td>\n",
       "      <td>19.374054</td>\n",
       "      <td>45.464833</td>\n",
       "      <td>9</td>\n",
       "      <td>8</td>\n",
       "      <td>82.750244</td>\n",
       "      <td>3</td>\n",
       "      <td>3</td>\n",
       "      <td>Medium</td>\n",
       "      <td>Basic</td>\n",
       "      <td>2</td>\n",
       "      <td>7</td>\n",
       "      <td>1</td>\n",
       "    </tr>\n",
       "    <tr>\n",
       "      <th>9997</th>\n",
       "      <td>e4622a54</td>\n",
       "      <td>7</td>\n",
       "      <td>27</td>\n",
       "      <td>18.240978</td>\n",
       "      <td>127.302411</td>\n",
       "      <td>24</td>\n",
       "      <td>14</td>\n",
       "      <td>81.567839</td>\n",
       "      <td>3</td>\n",
       "      <td>5</td>\n",
       "      <td>High</td>\n",
       "      <td>Basic</td>\n",
       "      <td>1</td>\n",
       "      <td>6</td>\n",
       "      <td>1</td>\n",
       "    </tr>\n",
       "    <tr>\n",
       "      <th>9998</th>\n",
       "      <td>e07fbad9</td>\n",
       "      <td>11</td>\n",
       "      <td>7</td>\n",
       "      <td>18.783800</td>\n",
       "      <td>5.297234</td>\n",
       "      <td>10</td>\n",
       "      <td>10</td>\n",
       "      <td>89.885656</td>\n",
       "      <td>4</td>\n",
       "      <td>5</td>\n",
       "      <td>Low</td>\n",
       "      <td>Basic</td>\n",
       "      <td>2</td>\n",
       "      <td>0</td>\n",
       "      <td>1</td>\n",
       "    </tr>\n",
       "    <tr>\n",
       "      <th>9999</th>\n",
       "      <td>e12dcb55</td>\n",
       "      <td>10</td>\n",
       "      <td>5</td>\n",
       "      <td>13.073230</td>\n",
       "      <td>28.120031</td>\n",
       "      <td>3</td>\n",
       "      <td>13</td>\n",
       "      <td>64.811297</td>\n",
       "      <td>4</td>\n",
       "      <td>5</td>\n",
       "      <td>Low</td>\n",
       "      <td>Premium</td>\n",
       "      <td>0</td>\n",
       "      <td>3</td>\n",
       "      <td>0</td>\n",
       "    </tr>\n",
       "  </tbody>\n",
       "</table>\n",
       "<p>10000 rows × 15 columns</p>\n",
       "</div>"
      ],
      "text/plain": [
       "       user_id  subscription_duration  recent_login_time  average_login_time  \\\n",
       "0     b919c29d                     13                 14           14.946163   \n",
       "1     a0a60abb                     16                 18           18.453224   \n",
       "2     b9f171ae                     22                  1           16.195228   \n",
       "3     5dc0ba8b                      1                 19           17.628656   \n",
       "4     65c83654                      4                  5           21.390656   \n",
       "...        ...                    ...                ...                 ...   \n",
       "9995  ae6b76bc                     22                 29           14.727623   \n",
       "9996  24588752                     10                 11           19.374054   \n",
       "9997  e4622a54                      7                 27           18.240978   \n",
       "9998  e07fbad9                     11                  7           18.783800   \n",
       "9999  e12dcb55                     10                  5           13.073230   \n",
       "\n",
       "      average_time_per_learning_session  monthly_active_learning_days  \\\n",
       "0                              8.427187                            18   \n",
       "1                             72.646087                            16   \n",
       "2                             21.774492                            13   \n",
       "3                             42.659066                            19   \n",
       "4                             30.744287                            19   \n",
       "...                                 ...                           ...   \n",
       "9995                          84.053558                            18   \n",
       "9996                          45.464833                             9   \n",
       "9997                         127.302411                            24   \n",
       "9998                           5.297234                            10   \n",
       "9999                          28.120031                             3   \n",
       "\n",
       "      total_completed_courses  recent_learning_achievement  \\\n",
       "0                          16                    68.360455   \n",
       "1                          13                    97.567322   \n",
       "2                          14                    94.358763   \n",
       "3                          18                    70.153228   \n",
       "4                          10                    81.917908   \n",
       "...                       ...                          ...   \n",
       "9995                       16                    64.966803   \n",
       "9996                        8                    82.750244   \n",
       "9997                       14                    81.567839   \n",
       "9998                       10                    89.885656   \n",
       "9999                       13                    64.811297   \n",
       "\n",
       "      abandoned_learning_sessions  community_engagement_level  \\\n",
       "0                               3                           4   \n",
       "1                               2                           3   \n",
       "2                               3                           4   \n",
       "3                               0                           3   \n",
       "4                               2                           4   \n",
       "...                           ...                         ...   \n",
       "9995                            2                           5   \n",
       "9996                            3                           3   \n",
       "9997                            3                           5   \n",
       "9998                            4                           5   \n",
       "9999                            4                           5   \n",
       "\n",
       "     preferred_difficulty_level subscription_type  customer_inquiry_history  \\\n",
       "0                           Low             Basic                         4   \n",
       "1                        Medium             Basic                         1   \n",
       "2                        Medium           Premium                         0   \n",
       "3                           Low             Basic                         1   \n",
       "4                        Medium             Basic                         3   \n",
       "...                         ...               ...                       ...   \n",
       "9995                        Low           Premium                         1   \n",
       "9996                     Medium             Basic                         2   \n",
       "9997                       High             Basic                         1   \n",
       "9998                        Low             Basic                         2   \n",
       "9999                        Low           Premium                         0   \n",
       "\n",
       "      payment_pattern  target  \n",
       "0                   5       0  \n",
       "1                   6       1  \n",
       "2                   7       1  \n",
       "3                   0       1  \n",
       "4                   0       1  \n",
       "...               ...     ...  \n",
       "9995                1       1  \n",
       "9996                7       1  \n",
       "9997                6       1  \n",
       "9998                0       1  \n",
       "9999                3       0  \n",
       "\n",
       "[10000 rows x 15 columns]"
      ]
     },
     "execution_count": 2,
     "metadata": {},
     "output_type": "execute_result"
    }
   ],
   "source": [
    "user_data = pd.read_table('data/mini.csv',sep=',')\n",
    "user_data"
   ]
  },
  {
   "cell_type": "code",
   "execution_count": 3,
   "id": "96bceeeb",
   "metadata": {
    "ExecuteTime": {
     "end_time": "2023-12-28T07:30:09.677201Z",
     "start_time": "2023-12-28T07:30:09.577332Z"
    },
    "scrolled": true
   },
   "outputs": [
    {
     "name": "stdout",
     "output_type": "stream",
     "text": [
      "<class 'pandas.core.frame.DataFrame'>\n",
      "RangeIndex: 10000 entries, 0 to 9999\n",
      "Data columns (total 15 columns):\n",
      " #   Column                             Non-Null Count  Dtype  \n",
      "---  ------                             --------------  -----  \n",
      " 0   user_id                            10000 non-null  object \n",
      " 1   subscription_duration              10000 non-null  int64  \n",
      " 2   recent_login_time                  10000 non-null  int64  \n",
      " 3   average_login_time                 10000 non-null  float64\n",
      " 4   average_time_per_learning_session  10000 non-null  float64\n",
      " 5   monthly_active_learning_days       10000 non-null  int64  \n",
      " 6   total_completed_courses            10000 non-null  int64  \n",
      " 7   recent_learning_achievement        10000 non-null  float64\n",
      " 8   abandoned_learning_sessions        10000 non-null  int64  \n",
      " 9   community_engagement_level         10000 non-null  int64  \n",
      " 10  preferred_difficulty_level         10000 non-null  object \n",
      " 11  subscription_type                  10000 non-null  object \n",
      " 12  customer_inquiry_history           10000 non-null  int64  \n",
      " 13  payment_pattern                    10000 non-null  int64  \n",
      " 14  target                             10000 non-null  int64  \n",
      "dtypes: float64(3), int64(9), object(3)\n",
      "memory usage: 1.1+ MB\n"
     ]
    }
   ],
   "source": [
    "# 결측치 체크\n",
    "user_data.info()"
   ]
  },
  {
   "cell_type": "code",
   "execution_count": 4,
   "id": "a5302058",
   "metadata": {
    "ExecuteTime": {
     "end_time": "2023-12-28T07:30:28.474496Z",
     "start_time": "2023-12-28T07:30:28.359861Z"
    },
    "scrolled": true
   },
   "outputs": [
    {
     "data": {
      "text/html": [
       "<div>\n",
       "<style scoped>\n",
       "    .dataframe tbody tr th:only-of-type {\n",
       "        vertical-align: middle;\n",
       "    }\n",
       "\n",
       "    .dataframe tbody tr th {\n",
       "        vertical-align: top;\n",
       "    }\n",
       "\n",
       "    .dataframe thead th {\n",
       "        text-align: right;\n",
       "    }\n",
       "</style>\n",
       "<table border=\"1\" class=\"dataframe\">\n",
       "  <thead>\n",
       "    <tr style=\"text-align: right;\">\n",
       "      <th></th>\n",
       "      <th>subscription_duration</th>\n",
       "      <th>recent_login_time</th>\n",
       "      <th>average_login_time</th>\n",
       "      <th>average_time_per_learning_session</th>\n",
       "      <th>monthly_active_learning_days</th>\n",
       "      <th>total_completed_courses</th>\n",
       "      <th>recent_learning_achievement</th>\n",
       "      <th>abandoned_learning_sessions</th>\n",
       "      <th>community_engagement_level</th>\n",
       "      <th>customer_inquiry_history</th>\n",
       "      <th>payment_pattern</th>\n",
       "      <th>target</th>\n",
       "    </tr>\n",
       "  </thead>\n",
       "  <tbody>\n",
       "    <tr>\n",
       "      <th>count</th>\n",
       "      <td>10000.000000</td>\n",
       "      <td>10000.000000</td>\n",
       "      <td>10000.000000</td>\n",
       "      <td>10000.000000</td>\n",
       "      <td>10000.000000</td>\n",
       "      <td>10000.000000</td>\n",
       "      <td>10000.000000</td>\n",
       "      <td>10000.000000</td>\n",
       "      <td>10000.000000</td>\n",
       "      <td>10000.000000</td>\n",
       "      <td>10000.000000</td>\n",
       "      <td>10000.000000</td>\n",
       "    </tr>\n",
       "    <tr>\n",
       "      <th>mean</th>\n",
       "      <td>11.897400</td>\n",
       "      <td>15.013200</td>\n",
       "      <td>14.994076</td>\n",
       "      <td>54.917720</td>\n",
       "      <td>12.545400</td>\n",
       "      <td>12.227500</td>\n",
       "      <td>75.029513</td>\n",
       "      <td>3.043600</td>\n",
       "      <td>3.886100</td>\n",
       "      <td>2.010500</td>\n",
       "      <td>3.502900</td>\n",
       "      <td>0.619900</td>\n",
       "    </tr>\n",
       "    <tr>\n",
       "      <th>std</th>\n",
       "      <td>6.600896</td>\n",
       "      <td>8.362573</td>\n",
       "      <td>3.001869</td>\n",
       "      <td>56.024310</td>\n",
       "      <td>6.932239</td>\n",
       "      <td>3.634125</td>\n",
       "      <td>9.968529</td>\n",
       "      <td>1.755052</td>\n",
       "      <td>1.262175</td>\n",
       "      <td>1.420983</td>\n",
       "      <td>2.311261</td>\n",
       "      <td>0.485435</td>\n",
       "    </tr>\n",
       "    <tr>\n",
       "      <th>min</th>\n",
       "      <td>1.000000</td>\n",
       "      <td>1.000000</td>\n",
       "      <td>2.366189</td>\n",
       "      <td>0.011515</td>\n",
       "      <td>1.000000</td>\n",
       "      <td>1.000000</td>\n",
       "      <td>35.941755</td>\n",
       "      <td>0.000000</td>\n",
       "      <td>1.000000</td>\n",
       "      <td>0.000000</td>\n",
       "      <td>0.000000</td>\n",
       "      <td>0.000000</td>\n",
       "    </tr>\n",
       "    <tr>\n",
       "      <th>25%</th>\n",
       "      <td>6.000000</td>\n",
       "      <td>8.000000</td>\n",
       "      <td>13.025597</td>\n",
       "      <td>15.276611</td>\n",
       "      <td>7.000000</td>\n",
       "      <td>10.000000</td>\n",
       "      <td>68.278054</td>\n",
       "      <td>2.000000</td>\n",
       "      <td>3.000000</td>\n",
       "      <td>1.000000</td>\n",
       "      <td>1.000000</td>\n",
       "      <td>0.000000</td>\n",
       "    </tr>\n",
       "    <tr>\n",
       "      <th>50%</th>\n",
       "      <td>12.000000</td>\n",
       "      <td>15.000000</td>\n",
       "      <td>14.979228</td>\n",
       "      <td>37.578818</td>\n",
       "      <td>13.000000</td>\n",
       "      <td>12.000000</td>\n",
       "      <td>75.126061</td>\n",
       "      <td>3.000000</td>\n",
       "      <td>4.000000</td>\n",
       "      <td>2.000000</td>\n",
       "      <td>4.000000</td>\n",
       "      <td>1.000000</td>\n",
       "    </tr>\n",
       "    <tr>\n",
       "      <th>75%</th>\n",
       "      <td>18.000000</td>\n",
       "      <td>22.000000</td>\n",
       "      <td>16.995340</td>\n",
       "      <td>75.584200</td>\n",
       "      <td>19.000000</td>\n",
       "      <td>15.000000</td>\n",
       "      <td>81.718976</td>\n",
       "      <td>4.000000</td>\n",
       "      <td>5.000000</td>\n",
       "      <td>3.000000</td>\n",
       "      <td>6.000000</td>\n",
       "      <td>1.000000</td>\n",
       "    </tr>\n",
       "    <tr>\n",
       "      <th>max</th>\n",
       "      <td>23.000000</td>\n",
       "      <td>29.000000</td>\n",
       "      <td>26.998490</td>\n",
       "      <td>503.372616</td>\n",
       "      <td>24.000000</td>\n",
       "      <td>27.000000</td>\n",
       "      <td>112.643828</td>\n",
       "      <td>12.000000</td>\n",
       "      <td>5.000000</td>\n",
       "      <td>10.000000</td>\n",
       "      <td>7.000000</td>\n",
       "      <td>1.000000</td>\n",
       "    </tr>\n",
       "  </tbody>\n",
       "</table>\n",
       "</div>"
      ],
      "text/plain": [
       "       subscription_duration  recent_login_time  average_login_time  \\\n",
       "count           10000.000000       10000.000000        10000.000000   \n",
       "mean               11.897400          15.013200           14.994076   \n",
       "std                 6.600896           8.362573            3.001869   \n",
       "min                 1.000000           1.000000            2.366189   \n",
       "25%                 6.000000           8.000000           13.025597   \n",
       "50%                12.000000          15.000000           14.979228   \n",
       "75%                18.000000          22.000000           16.995340   \n",
       "max                23.000000          29.000000           26.998490   \n",
       "\n",
       "       average_time_per_learning_session  monthly_active_learning_days  \\\n",
       "count                       10000.000000                  10000.000000   \n",
       "mean                           54.917720                     12.545400   \n",
       "std                            56.024310                      6.932239   \n",
       "min                             0.011515                      1.000000   \n",
       "25%                            15.276611                      7.000000   \n",
       "50%                            37.578818                     13.000000   \n",
       "75%                            75.584200                     19.000000   \n",
       "max                           503.372616                     24.000000   \n",
       "\n",
       "       total_completed_courses  recent_learning_achievement  \\\n",
       "count             10000.000000                 10000.000000   \n",
       "mean                 12.227500                    75.029513   \n",
       "std                   3.634125                     9.968529   \n",
       "min                   1.000000                    35.941755   \n",
       "25%                  10.000000                    68.278054   \n",
       "50%                  12.000000                    75.126061   \n",
       "75%                  15.000000                    81.718976   \n",
       "max                  27.000000                   112.643828   \n",
       "\n",
       "       abandoned_learning_sessions  community_engagement_level  \\\n",
       "count                 10000.000000                10000.000000   \n",
       "mean                      3.043600                    3.886100   \n",
       "std                       1.755052                    1.262175   \n",
       "min                       0.000000                    1.000000   \n",
       "25%                       2.000000                    3.000000   \n",
       "50%                       3.000000                    4.000000   \n",
       "75%                       4.000000                    5.000000   \n",
       "max                      12.000000                    5.000000   \n",
       "\n",
       "       customer_inquiry_history  payment_pattern        target  \n",
       "count              10000.000000     10000.000000  10000.000000  \n",
       "mean                   2.010500         3.502900      0.619900  \n",
       "std                    1.420983         2.311261      0.485435  \n",
       "min                    0.000000         0.000000      0.000000  \n",
       "25%                    1.000000         1.000000      0.000000  \n",
       "50%                    2.000000         4.000000      1.000000  \n",
       "75%                    3.000000         6.000000      1.000000  \n",
       "max                   10.000000         7.000000      1.000000  "
      ]
     },
     "execution_count": 4,
     "metadata": {},
     "output_type": "execute_result"
    }
   ],
   "source": [
    "user_data.describe()"
   ]
  },
  {
   "attachments": {
    "image-2.png": {
     "image/png": "[encoded data removed]"
    }
   },
   "cell_type": "markdown",
   "id": "78985c88",
   "metadata": {},
   "source": [
    "# 데이터 전처리\n",
    "## 만족도에 영향을 미치는 요소가 무엇인지 파악하기\n",
    "지난달 결제한 사용자만 추출해서 각 요소와 비교하기 -> 상관 있는 요소 파악하기\n",
    "\n",
    "- 지난달 결제한 사용자\n",
    "    - payment_pattern : 사용자의 지난 3개월 간의 결제 패턴을 10진수로 표현한 값.\n",
    "![image-2.png](attachment:image-2.png)\n",
    "- '세션 수강 단계'에서 만족도 관련 요소\n",
    "    - average_time_per_learning_session: 각 학습 세션에 소요된 평균 시간 (분)\n",
    "    - monthly_active_learning_days: 월간 활동적인 학습 일수\n",
    "    - total_completed_courses: 완료한 총 코스 수\n",
    "        - 가입 기간이 길 수록 많을 것이니 가공 필요함.\n",
    "        - 총 코스 수/가입 개월수\n",
    "    - recent_learning_achievement: 최근 학습 성취도\n",
    "        - 최근의 범위?\n",
    "    - abandoned_learning_sessions: 중단된 학습 세션 수"
   ]
  },
  {
   "cell_type": "markdown",
   "id": "43d8f673",
   "metadata": {},
   "source": [
    "### 각 단계별 사람 수 추출"
   ]
  },
  {
   "cell_type": "code",
   "execution_count": 30,
   "id": "2fc681f4",
   "metadata": {
    "ExecuteTime": {
     "end_time": "2023-12-28T08:18:45.166015Z",
     "start_time": "2023-12-28T08:18:45.148629Z"
    }
   },
   "outputs": [
    {
     "data": {
      "text/plain": [
       "payment_pattern\n",
       "0    1275\n",
       "1    1285\n",
       "2    1206\n",
       "3    1230\n",
       "4    1214\n",
       "5    1238\n",
       "6    1268\n",
       "7    1284\n",
       "Name: user_id, dtype: int64"
      ]
     },
     "execution_count": 30,
     "metadata": {},
     "output_type": "execute_result"
    }
   ],
   "source": [
    "인원수 = user_data.groupby('payment_pattern')['user_id'].count()\n",
    "인원수"
   ]
  },
  {
   "cell_type": "markdown",
   "id": "ac744883",
   "metadata": {},
   "source": [
    "### 각 요소 넣어보기\n",
    "#### average_time_per_learning_session: 각 학습 세션에 소요된 평균 시간 (분)"
   ]
  },
  {
   "cell_type": "code",
   "execution_count": 29,
   "id": "7fd02d37",
   "metadata": {
    "ExecuteTime": {
     "end_time": "2023-12-28T08:18:23.450669Z",
     "start_time": "2023-12-28T08:18:23.431877Z"
    }
   },
   "outputs": [
    {
     "data": {
      "text/plain": [
       "payment_pattern\n",
       "0    66546.803814\n",
       "1    74236.038080\n",
       "2    65375.055224\n",
       "3    68499.327316\n",
       "4    69576.883099\n",
       "5    67509.511644\n",
       "6    67845.982641\n",
       "7    69587.602743\n",
       "Name: average_time_per_learning_session, dtype: float64"
      ]
     },
     "execution_count": 29,
     "metadata": {},
     "output_type": "execute_result"
    }
   ],
   "source": [
    "평균시간 = user_data.groupby('payment_pattern')['average_time_per_learning_session'].sum()\n",
    "평균시간"
   ]
  },
  {
   "cell_type": "code",
   "execution_count": 32,
   "id": "8eaf68ce",
   "metadata": {
    "ExecuteTime": {
     "end_time": "2023-12-28T08:19:39.790009Z",
     "start_time": "2023-12-28T08:19:39.785218Z"
    }
   },
   "outputs": [],
   "source": [
    "개인평균시간 = 평균시간/인원수"
   ]
  },
  {
   "cell_type": "code",
   "execution_count": 42,
   "id": "9234f17f",
   "metadata": {
    "ExecuteTime": {
     "end_time": "2023-12-28T08:26:34.364549Z",
     "start_time": "2023-12-28T08:26:33.709754Z"
    }
   },
   "outputs": [
    {
     "data": {
      "image/png": "[encoded data removed]",
      "text/plain": [
       "<Figure size 600x600 with 1 Axes>"
      ]
     },
     "metadata": {},
     "output_type": "display_data"
    }
   ],
   "source": [
    "# 바그래프 그리기 \n",
    "\n",
    "plt.figure(figsize=(6,6))\n",
    "plt.bar(개인평균시간.index, 개인평균시간)\n",
    "\n",
    "plt.title('<결제 패턴 별 평균 학습 시간>')\n",
    "plt.xlabel('3개월 간 결제 패턴')\n",
    "plt.ylabel('평균 학습 시간')\n",
    "\n",
    "plt.show()"
   ]
  },
  {
   "cell_type": "markdown",
   "id": "fa24be42",
   "metadata": {},
   "source": [
    "#### monthly_active_learning_days: 월간 활동적인 학습 일수"
   ]
  },
  {
   "cell_type": "code",
   "execution_count": 43,
   "id": "0ac1f33b",
   "metadata": {
    "ExecuteTime": {
     "end_time": "2023-12-28T08:28:54.989567Z",
     "start_time": "2023-12-28T08:28:54.976400Z"
    }
   },
   "outputs": [
    {
     "data": {
      "text/plain": [
       "payment_pattern\n",
       "0    16253\n",
       "1    16337\n",
       "2    14745\n",
       "3    15240\n",
       "4    15235\n",
       "5    15529\n",
       "6    16038\n",
       "7    16077\n",
       "Name: monthly_active_learning_days, dtype: int64"
      ]
     },
     "execution_count": 43,
     "metadata": {},
     "output_type": "execute_result"
    }
   ],
   "source": [
    "평균일수 = user_data.groupby('payment_pattern')['monthly_active_learning_days'].sum()\n",
    "평균일수"
   ]
  },
  {
   "cell_type": "code",
   "execution_count": 44,
   "id": "d69a3010",
   "metadata": {
    "ExecuteTime": {
     "end_time": "2023-12-28T08:29:10.809556Z",
     "start_time": "2023-12-28T08:29:10.804487Z"
    }
   },
   "outputs": [],
   "source": [
    "개인평균일수 = 평균일수/인원수"
   ]
  },
  {
   "cell_type": "code",
   "execution_count": 52,
   "id": "874d6ac4",
   "metadata": {
    "ExecuteTime": {
     "end_time": "2023-12-28T08:44:04.333557Z",
     "start_time": "2023-12-28T08:44:03.839911Z"
    },
    "scrolled": true
   },
   "outputs": [
    {
     "data": {
      "image/png": "[encoded data removed]",
      "text/plain": [
       "<Figure size 640x480 with 1 Axes>"
      ]
     },
     "metadata": {},
     "output_type": "display_data"
    }
   ],
   "source": [
    "# 바그래프 그리기 \n",
    "\n",
    "plt.bar(개인평균일수.index, 개인평균일수)\n",
    "\n",
    "plt.title('<결제 패턴 별 평균 학습 일수>')\n",
    "plt.xlabel('3개월 간 결제 패턴')\n",
    "plt.ylabel('평균 학습 일수')\n",
    "\n",
    "plt.show()"
   ]
  },
  {
   "cell_type": "markdown",
   "id": "0fa8251a",
   "metadata": {},
   "source": [
    "#### total_completed_courses: 완료한 총 코스 수"
   ]
  },
  {
   "cell_type": "code",
   "execution_count": 46,
   "id": "a841a1b3",
   "metadata": {
    "ExecuteTime": {
     "end_time": "2023-12-28T08:30:17.984723Z",
     "start_time": "2023-12-28T08:30:17.971304Z"
    }
   },
   "outputs": [
    {
     "data": {
      "text/plain": [
       "payment_pattern\n",
       "0    15602\n",
       "1    15886\n",
       "2    14736\n",
       "3    15192\n",
       "4    14779\n",
       "5    14986\n",
       "6    15467\n",
       "7    15627\n",
       "Name: total_completed_courses, dtype: int64"
      ]
     },
     "execution_count": 46,
     "metadata": {},
     "output_type": "execute_result"
    }
   ],
   "source": [
    "평균코스수 = user_data.groupby('payment_pattern')['total_completed_courses'].sum()\n",
    "평균코스수"
   ]
  },
  {
   "cell_type": "code",
   "execution_count": 48,
   "id": "b1297b84",
   "metadata": {
    "ExecuteTime": {
     "end_time": "2023-12-28T08:30:50.415134Z",
     "start_time": "2023-12-28T08:30:50.408934Z"
    }
   },
   "outputs": [],
   "source": [
    "개인평균코스수 = 평균코스수/인원수"
   ]
  },
  {
   "cell_type": "code",
   "execution_count": 49,
   "id": "9169d67e",
   "metadata": {
    "ExecuteTime": {
     "end_time": "2023-12-28T08:30:51.844133Z",
     "start_time": "2023-12-28T08:30:51.374039Z"
    },
    "scrolled": false
   },
   "outputs": [
    {
     "data": {
      "image/png": "[encoded data removed]",
      "text/plain": [
       "<Figure size 600x600 with 1 Axes>"
      ]
     },
     "metadata": {},
     "output_type": "display_data"
    }
   ],
   "source": [
    "# 바그래프 그리기 \n",
    "\n",
    "plt.figure(figsize=(6,6))\n",
    "plt.bar(개인평균코스수.index, 개인평균코스수)\n",
    "\n",
    "plt.title('<결제 패턴 별 평균 코스 수>')\n",
    "plt.xlabel('3개월 간 결제 패턴')\n",
    "plt.ylabel('평균 코스 수')\n",
    "\n",
    "plt.show()"
   ]
  },
  {
   "cell_type": "markdown",
   "id": "ef9d8f6a",
   "metadata": {},
   "source": [
    "#### recent_learning_achievement: 최근 학습 성취도"
   ]
  },
  {
   "cell_type": "code",
   "execution_count": 51,
   "id": "db30258e",
   "metadata": {
    "ExecuteTime": {
     "end_time": "2023-12-28T08:40:05.205739Z",
     "start_time": "2023-12-28T08:40:05.193059Z"
    }
   },
   "outputs": [
    {
     "data": {
      "text/plain": [
       "payment_pattern\n",
       "0    3742\n",
       "1    3884\n",
       "2    3817\n",
       "3    3758\n",
       "4    3642\n",
       "5    3816\n",
       "6    3847\n",
       "7    3930\n",
       "Name: abandoned_learning_sessions, dtype: int64"
      ]
     },
     "execution_count": 51,
     "metadata": {},
     "output_type": "execute_result"
    }
   ],
   "source": [
    "평균코스수 = user_data.groupby('payment_pattern')['abandoned_learning_sessions'].sum()\n",
    "평균코스수"
   ]
  },
  {
   "cell_type": "code",
   "execution_count": 48,
   "id": "ecf89420",
   "metadata": {
    "ExecuteTime": {
     "end_time": "2023-12-28T08:30:50.415134Z",
     "start_time": "2023-12-28T08:30:50.408934Z"
    }
   },
   "outputs": [],
   "source": [
    "개인평균코스수 = 평균코스수/인원수"
   ]
  },
  {
   "cell_type": "code",
   "execution_count": 49,
   "id": "2441fe16",
   "metadata": {
    "ExecuteTime": {
     "end_time": "2023-12-28T08:30:51.844133Z",
     "start_time": "2023-12-28T08:30:51.374039Z"
    },
    "scrolled": false
   },
   "outputs": [
    {
     "data": {
      "image/png": "[encoded data removed]",
      "text/plain": [
       "<Figure size 600x600 with 1 Axes>"
      ]
     },
     "metadata": {},
     "output_type": "display_data"
    }
   ],
   "source": [
    "# 바그래프 그리기 \n",
    "\n",
    "plt.figure(figsize=(6,6))\n",
    "plt.bar(개인평균코스수.index, 개인평균코스수)\n",
    "\n",
    "plt.title('<결제 패턴 별 평균 코스 수>')\n",
    "plt.xlabel('3개월 간 결제 패턴')\n",
    "plt.ylabel('평균 코스 수')\n",
    "\n",
    "plt.show()"
   ]
  },
  {
   "cell_type": "markdown",
   "id": "572d5a75",
   "metadata": {},
   "source": [
    "## target과 연관성 있는 요소 찾기"
   ]
  },
  {
   "cell_type": "code",
   "execution_count": 8,
   "id": "1f26cc6b",
   "metadata": {
    "ExecuteTime": {
     "end_time": "2023-12-29T05:49:22.431531Z",
     "start_time": "2023-12-29T05:49:22.419830Z"
    }
   },
   "outputs": [
    {
     "data": {
      "text/plain": [
       "3801"
      ]
     },
     "execution_count": 8,
     "metadata": {},
     "output_type": "execute_result"
    }
   ],
   "source": [
    "타겟0 = user_data[user_data['target'] == 0]['payment_pattern'].count()\n",
    "타겟0"
   ]
  },
  {
   "cell_type": "code",
   "execution_count": 13,
   "id": "cbded9af",
   "metadata": {
    "ExecuteTime": {
     "end_time": "2023-12-29T05:50:49.983639Z",
     "start_time": "2023-12-29T05:50:49.973061Z"
    }
   },
   "outputs": [
    {
     "data": {
      "text/plain": [
       "6199"
      ]
     },
     "execution_count": 13,
     "metadata": {},
     "output_type": "execute_result"
    }
   ],
   "source": [
    "타겟1 = user_data['payment_pattern'][user_data['target'] == 1].count()\n",
    "타겟1"
   ]
  },
  {
   "cell_type": "code",
   "execution_count": 15,
   "id": "666fc422",
   "metadata": {
    "ExecuteTime": {
     "end_time": "2023-12-29T05:51:48.748171Z",
     "start_time": "2023-12-29T05:51:48.701074Z"
    },
    "scrolled": true
   },
   "outputs": [
    {
     "ename": "TypeError",
     "evalue": "list.count() takes exactly one argument (0 given)",
     "output_type": "error",
     "traceback": [
      "\u001b[1;31m---------------------------------------------------------------------------\u001b[0m",
      "\u001b[1;31mTypeError\u001b[0m                                 Traceback (most recent call last)",
      "Cell \u001b[1;32mIn[15], line 1\u001b[0m\n\u001b[1;32m----> 1\u001b[0m [user_data[\u001b[38;5;124m'\u001b[39m\u001b[38;5;124mtarget\u001b[39m\u001b[38;5;124m'\u001b[39m] \u001b[38;5;241m==\u001b[39m \u001b[38;5;241m1\u001b[39m]\u001b[38;5;241m.\u001b[39mcount()\n",
      "\u001b[1;31mTypeError\u001b[0m: list.count() takes exactly one argument (0 given)"
     ]
    }
   ],
   "source": [
    "[user_data['target']].count()"
   ]
  },
  {
   "cell_type": "markdown",
   "id": "adcb9323",
   "metadata": {},
   "source": [
    "# target과 유의미하게 상관 있는 지표 찾기"
   ]
  },
  {
   "cell_type": "code",
   "execution_count": 4,
   "id": "5bfaea0f",
   "metadata": {
    "ExecuteTime": {
     "end_time": "2023-12-30T04:15:52.383145Z",
     "start_time": "2023-12-30T04:15:52.370226Z"
    }
   },
   "outputs": [
    {
     "data": {
      "text/plain": [
       "6199"
      ]
     },
     "execution_count": 4,
     "metadata": {},
     "output_type": "execute_result"
    }
   ],
   "source": [
    "타겟별_인원수 = user_data.groupby('target')['user_id'].count()\n",
    "타겟별_인원수\n",
    "타겟별_인원수[0] #다음달 구독 취소할 인원\n",
    "타겟별_인원수[1] #구독 연장할 인원"
   ]
  },
  {
   "cell_type": "markdown",
   "id": "d069169f",
   "metadata": {},
   "source": [
    "## 타겟과 각 요소 대입해보기"
   ]
  },
  {
   "cell_type": "code",
   "execution_count": 13,
   "id": "dfc58e8c",
   "metadata": {
    "ExecuteTime": {
     "end_time": "2023-12-29T15:31:45.126091Z",
     "start_time": "2023-12-29T15:31:45.116927Z"
    },
    "scrolled": false
   },
   "outputs": [
    {
     "name": "stdout",
     "output_type": "stream",
     "text": [
      "target\n",
      "0    11.953959\n",
      "1    11.862720\n",
      "dtype: float64\n"
     ]
    }
   ],
   "source": [
    "#subscription_duration: 사용자가 서비스에 가입한 기간 (월)\n",
    "\n",
    "타겟별_가입기간 = user_data.groupby('target')['subscription_duration'].sum()\n",
    "타겟별_가입기간\n",
    "\n",
    "print(타겟별_가입기간/타겟별_인원수)"
   ]
  },
  {
   "cell_type": "markdown",
   "id": "8eb4f017",
   "metadata": {},
   "source": [
    "ㄴ 무의미함"
   ]
  },
  {
   "cell_type": "code",
   "execution_count": 15,
   "id": "d0c0c3a5",
   "metadata": {
    "ExecuteTime": {
     "end_time": "2023-12-29T15:35:33.585863Z",
     "start_time": "2023-12-29T15:35:33.575130Z"
    },
    "scrolled": true
   },
   "outputs": [
    {
     "data": {
      "text/plain": [
       "target\n",
       "0    15.057880\n",
       "1    14.985804\n",
       "dtype: float64"
      ]
     },
     "execution_count": 15,
     "metadata": {},
     "output_type": "execute_result"
    }
   ],
   "source": [
    "#recent_login_time: 사용자가 마지막으로 로그인한 시간 (일)\n",
    "\n",
    "타겟별_최근로그인 = user_data.groupby('target')['recent_login_time'].sum()\n",
    "타겟별_최근로그인/타겟별_인원수"
   ]
  },
  {
   "cell_type": "markdown",
   "id": "40d62624",
   "metadata": {},
   "source": [
    "ㄴ무의미함."
   ]
  },
  {
   "cell_type": "code",
   "execution_count": 16,
   "id": "f1ef8a60",
   "metadata": {
    "ExecuteTime": {
     "end_time": "2023-12-29T15:35:45.658103Z",
     "start_time": "2023-12-29T15:35:45.642753Z"
    },
    "scrolled": true
   },
   "outputs": [
    {
     "data": {
      "text/plain": [
       "target\n",
       "0    15.026762\n",
       "1    14.974035\n",
       "dtype: float64"
      ]
     },
     "execution_count": 16,
     "metadata": {},
     "output_type": "execute_result"
    }
   ],
   "source": [
    "#average_login_time: 사용자의 일반적인 로그인 시간\n",
    "\n",
    "타겟별_로그인시간 = user_data.groupby('target')['average_login_time'].sum()\n",
    "타겟별_로그인시간/타겟별_인원수"
   ]
  },
  {
   "cell_type": "markdown",
   "id": "215ca8ca",
   "metadata": {},
   "source": [
    "ㄴ1이 오히려 적게 나왔다."
   ]
  },
  {
   "cell_type": "code",
   "execution_count": 17,
   "id": "f7c8835b",
   "metadata": {
    "ExecuteTime": {
     "end_time": "2023-12-29T15:37:29.503494Z",
     "start_time": "2023-12-29T15:37:29.493135Z"
    },
    "scrolled": true
   },
   "outputs": [
    {
     "data": {
      "text/plain": [
       "target\n",
       "0    46.456986\n",
       "1    60.105533\n",
       "dtype: float64"
      ]
     },
     "execution_count": 17,
     "metadata": {},
     "output_type": "execute_result"
    }
   ],
   "source": [
    "#average_time_per_learning_session: 각 학습 세션에 소요된 평균 시간 (분)\n",
    "#0    46.456986 / 1    60.105533\n",
    "\n",
    "타겟별_소요시간 = user_data.groupby('target')['average_time_per_learning_session'].sum()\n",
    "타겟별_소요시간/타겟별_인원수"
   ]
  },
  {
   "cell_type": "markdown",
   "id": "a0cb16d4",
   "metadata": {},
   "source": [
    "ㄴ드디어 유의미한 발견!"
   ]
  },
  {
   "cell_type": "code",
   "execution_count": 173,
   "id": "de9b2d3b",
   "metadata": {
    "ExecuteTime": {
     "end_time": "2023-12-30T14:07:44.692033Z",
     "start_time": "2023-12-30T14:07:44.680480Z"
    }
   },
   "outputs": [
    {
     "data": {
      "text/plain": [
       "(target\n",
       " 0    47521\n",
       " 1    77933\n",
       " Name: monthly_active_learning_days, dtype: int64,\n",
       " target\n",
       " 0    3801\n",
       " 1    6199\n",
       " Name: user_id, dtype: int64,\n",
       " target\n",
       " 0    12.502236\n",
       " 1    12.571866\n",
       " dtype: float64)"
      ]
     },
     "execution_count": 173,
     "metadata": {},
     "output_type": "execute_result"
    }
   ],
   "source": [
    "#monthly_active_learning_days: 월간 활동적인 학습 일수\n",
    "\n",
    "타겟별_학습일수 = user_data.groupby('target')['monthly_active_learning_days'].sum()\n",
    "타겟별_학습일수, 타겟별_인원수, 타겟별_학습일수/타겟별_인원수"
   ]
  },
  {
   "cell_type": "markdown",
   "id": "81595c7e",
   "metadata": {},
   "source": [
    "ㄴ무의미함"
   ]
  },
  {
   "cell_type": "code",
   "execution_count": 19,
   "id": "aa7cd2ec",
   "metadata": {
    "ExecuteTime": {
     "end_time": "2023-12-29T15:40:07.311295Z",
     "start_time": "2023-12-29T15:40:07.299534Z"
    },
    "scrolled": true
   },
   "outputs": [
    {
     "data": {
      "text/plain": [
       "target\n",
       "0    12.246251\n",
       "1    12.216003\n",
       "dtype: float64"
      ]
     },
     "execution_count": 19,
     "metadata": {},
     "output_type": "execute_result"
    }
   ],
   "source": [
    "#total_completed_courses: 완료한 총 코스 수\n",
    "타겟별_완료코스 = user_data.groupby('target')['total_completed_courses'].sum()\n",
    "타겟별_완료코스/타겟별_인원수"
   ]
  },
  {
   "cell_type": "markdown",
   "id": "12d63575",
   "metadata": {},
   "source": [
    "ㄴ비슷함"
   ]
  },
  {
   "cell_type": "code",
   "execution_count": 16,
   "id": "f1b0f50f",
   "metadata": {
    "ExecuteTime": {
     "end_time": "2023-12-30T04:34:48.107442Z",
     "start_time": "2023-12-30T04:34:48.094665Z"
    },
    "scrolled": true
   },
   "outputs": [
    {
     "data": {
      "text/plain": [
       "target\n",
       "0    75.000310\n",
       "1    75.047419\n",
       "dtype: float64"
      ]
     },
     "execution_count": 16,
     "metadata": {},
     "output_type": "execute_result"
    }
   ],
   "source": [
    "#recent_learning_achievement: 최근 학습 성취도\n",
    "\n",
    "타겟별_학습성취도 = user_data.groupby('target')['recent_learning_achievement'].sum()\n",
    "타겟별_학습성취도/타겟별_인원수"
   ]
  },
  {
   "cell_type": "code",
   "execution_count": 6,
   "id": "1df7a79d",
   "metadata": {
    "ExecuteTime": {
     "end_time": "2023-12-30T04:17:59.175641Z",
     "start_time": "2023-12-30T04:17:59.158933Z"
    }
   },
   "outputs": [
    {
     "data": {
      "text/plain": [
       "target\n",
       "0    3.087609\n",
       "1    3.016616\n",
       "dtype: float64"
      ]
     },
     "execution_count": 6,
     "metadata": {},
     "output_type": "execute_result"
    }
   ],
   "source": [
    "#abandoned_learning_sessions: 중단된 학습 세션 수\n",
    "\n",
    "타겟별_중단세션수 = user_data.groupby('target')['abandoned_learning_sessions'].sum()\n",
    "타겟별_중단세션수/타겟별_인원수"
   ]
  },
  {
   "cell_type": "code",
   "execution_count": 7,
   "id": "3611e4a5",
   "metadata": {
    "ExecuteTime": {
     "end_time": "2023-12-30T04:19:06.002583Z",
     "start_time": "2023-12-30T04:19:05.989472Z"
    },
    "scrolled": true
   },
   "outputs": [
    {
     "data": {
      "text/plain": [
       "target\n",
       "0    3.870560\n",
       "1    3.895628\n",
       "dtype: float64"
      ]
     },
     "execution_count": 7,
     "metadata": {},
     "output_type": "execute_result"
    }
   ],
   "source": [
    "#community_engagement_level: 커뮤니티 참여도\n",
    "타겟별_커뮤니티참여도 = user_data.groupby('target')['community_engagement_level'].sum()\n",
    "타겟별_커뮤니티참여도/타겟별_인원수"
   ]
  },
  {
   "cell_type": "code",
   "execution_count": 17,
   "id": "3cb48ead",
   "metadata": {
    "ExecuteTime": {
     "end_time": "2023-12-30T04:36:42.697294Z",
     "start_time": "2023-12-30T04:36:41.841119Z"
    }
   },
   "outputs": [
    {
     "ename": "KeyError",
     "evalue": "'Column not found: False'",
     "output_type": "error",
     "traceback": [
      "\u001b[1;31m---------------------------------------------------------------------------\u001b[0m",
      "\u001b[1;31mKeyError\u001b[0m                                  Traceback (most recent call last)",
      "Cell \u001b[1;32mIn[17], line 2\u001b[0m\n\u001b[0;32m      1\u001b[0m \u001b[38;5;66;03m#preferred_difficulty_level: 선호하는 난이도\u001b[39;00m\n\u001b[1;32m----> 2\u001b[0m 타겟별_선호난이도 \u001b[38;5;241m=\u001b[39m user_data\u001b[38;5;241m.\u001b[39mgroupby(\u001b[38;5;124m'\u001b[39m\u001b[38;5;124mpreferred_difficulty_level\u001b[39m\u001b[38;5;124m'\u001b[39m)[\u001b[38;5;124m'\u001b[39m\u001b[38;5;124mtarget\u001b[39m\u001b[38;5;124m'\u001b[39m\u001b[38;5;241m==\u001b[39m\u001b[38;5;241m0\u001b[39m]\u001b[38;5;241m.\u001b[39mcount()\n\u001b[0;32m      3\u001b[0m 타겟별_선호난이도\u001b[38;5;241m/\u001b[39m타겟별_인원수\n",
      "File \u001b[1;32m~\\anaconda3\\Lib\\site-packages\\pandas\\core\\groupby\\generic.py:1771\u001b[0m, in \u001b[0;36mDataFrameGroupBy.__getitem__\u001b[1;34m(self, key)\u001b[0m\n\u001b[0;32m   1764\u001b[0m \u001b[38;5;28;01mif\u001b[39;00m \u001b[38;5;28misinstance\u001b[39m(key, \u001b[38;5;28mtuple\u001b[39m) \u001b[38;5;129;01mand\u001b[39;00m \u001b[38;5;28mlen\u001b[39m(key) \u001b[38;5;241m>\u001b[39m \u001b[38;5;241m1\u001b[39m:\n\u001b[0;32m   1765\u001b[0m     \u001b[38;5;66;03m# if len == 1, then it becomes a SeriesGroupBy and this is actually\u001b[39;00m\n\u001b[0;32m   1766\u001b[0m     \u001b[38;5;66;03m# valid syntax, so don't raise\u001b[39;00m\n\u001b[0;32m   1767\u001b[0m     \u001b[38;5;28;01mraise\u001b[39;00m \u001b[38;5;167;01mValueError\u001b[39;00m(\n\u001b[0;32m   1768\u001b[0m         \u001b[38;5;124m\"\u001b[39m\u001b[38;5;124mCannot subset columns with a tuple with more than one element. \u001b[39m\u001b[38;5;124m\"\u001b[39m\n\u001b[0;32m   1769\u001b[0m         \u001b[38;5;124m\"\u001b[39m\u001b[38;5;124mUse a list instead.\u001b[39m\u001b[38;5;124m\"\u001b[39m\n\u001b[0;32m   1770\u001b[0m     )\n\u001b[1;32m-> 1771\u001b[0m \u001b[38;5;28;01mreturn\u001b[39;00m \u001b[38;5;28msuper\u001b[39m()\u001b[38;5;241m.\u001b[39m\u001b[38;5;21m__getitem__\u001b[39m(key)\n",
      "File \u001b[1;32m~\\anaconda3\\Lib\\site-packages\\pandas\\core\\base.py:244\u001b[0m, in \u001b[0;36mSelectionMixin.__getitem__\u001b[1;34m(self, key)\u001b[0m\n\u001b[0;32m    242\u001b[0m \u001b[38;5;28;01melse\u001b[39;00m:\n\u001b[0;32m    243\u001b[0m     \u001b[38;5;28;01mif\u001b[39;00m key \u001b[38;5;129;01mnot\u001b[39;00m \u001b[38;5;129;01min\u001b[39;00m \u001b[38;5;28mself\u001b[39m\u001b[38;5;241m.\u001b[39mobj:\n\u001b[1;32m--> 244\u001b[0m         \u001b[38;5;28;01mraise\u001b[39;00m \u001b[38;5;167;01mKeyError\u001b[39;00m(\u001b[38;5;124mf\u001b[39m\u001b[38;5;124m\"\u001b[39m\u001b[38;5;124mColumn not found: \u001b[39m\u001b[38;5;132;01m{\u001b[39;00mkey\u001b[38;5;132;01m}\u001b[39;00m\u001b[38;5;124m\"\u001b[39m)\n\u001b[0;32m    245\u001b[0m     ndim \u001b[38;5;241m=\u001b[39m \u001b[38;5;28mself\u001b[39m\u001b[38;5;241m.\u001b[39mobj[key]\u001b[38;5;241m.\u001b[39mndim\n\u001b[0;32m    246\u001b[0m     \u001b[38;5;28;01mreturn\u001b[39;00m \u001b[38;5;28mself\u001b[39m\u001b[38;5;241m.\u001b[39m_gotitem(key, ndim\u001b[38;5;241m=\u001b[39mndim)\n",
      "\u001b[1;31mKeyError\u001b[0m: 'Column not found: False'"
     ]
    }
   ],
   "source": [
    "#preferred_difficulty_level: 선호하는 난이도\n",
    "타겟별_선호난이도 = user_data.groupby('preferred_difficulty_level')['target'==0].count()\n",
    "타겟별_선호난이도/타겟별_인원수"
   ]
  },
  {
   "cell_type": "code",
   "execution_count": 33,
   "id": "d96848e9",
   "metadata": {
    "ExecuteTime": {
     "end_time": "2023-12-30T06:46:09.549735Z",
     "start_time": "2023-12-30T06:46:09.537706Z"
    },
    "scrolled": true
   },
   "outputs": [
    {
     "name": "stdout",
     "output_type": "stream",
     "text": [
      "preferred_difficulty_level\n",
      "High       759\n",
      "Low       1945\n",
      "Medium    1097\n",
      "dtype: int64\n",
      "19.968429360694554\n",
      "51.170744540910285\n",
      "28.860826098395158\n"
     ]
    }
   ],
   "source": [
    "타겟별_선호난이도0 = user_data[user_data['target'] == 0].groupby('preferred_difficulty_level').size()\n",
    "print(타겟별_선호난이도0)\n",
    "\n",
    "for i in 타겟별_선호난이도0:\n",
    "    print(i/타겟별_인원수[0]*100)"
   ]
  },
  {
   "cell_type": "code",
   "execution_count": 34,
   "id": "168f932c",
   "metadata": {
    "ExecuteTime": {
     "end_time": "2023-12-30T06:46:24.886314Z",
     "start_time": "2023-12-30T06:46:24.873692Z"
    },
    "scrolled": false
   },
   "outputs": [
    {
     "name": "stdout",
     "output_type": "stream",
     "text": [
      "preferred_difficulty_level\n",
      "High      1241\n",
      "Low       3047\n",
      "Medium    1911\n",
      "dtype: int64\n",
      "20.019357960961447\n",
      "49.15308920793676\n",
      "30.82755283110179\n"
     ]
    }
   ],
   "source": [
    "타겟별_선호난이도1 = user_data[user_data['target'] == 1].groupby('preferred_difficulty_level').size()\n",
    "print(타겟별_선호난이도1)\n",
    "\n",
    "for i in 타겟별_선호난이도1:\n",
    "    print(i/타겟별_인원수[1]*100)"
   ]
  },
  {
   "cell_type": "markdown",
   "id": "0334e3c2",
   "metadata": {},
   "source": [
    "- 난이도별 개수세기"
   ]
  },
  {
   "cell_type": "code",
   "execution_count": 11,
   "id": "f024d3cb",
   "metadata": {
    "ExecuteTime": {
     "end_time": "2023-12-30T04:29:05.071635Z",
     "start_time": "2023-12-30T04:29:05.039243Z"
    }
   },
   "outputs": [
    {
     "data": {
      "text/plain": [
       "user_id                              10000\n",
       "subscription_duration                10000\n",
       "recent_login_time                    10000\n",
       "average_login_time                   10000\n",
       "average_time_per_learning_session    10000\n",
       "monthly_active_learning_days         10000\n",
       "total_completed_courses              10000\n",
       "recent_learning_achievement          10000\n",
       "abandoned_learning_sessions          10000\n",
       "community_engagement_level           10000\n",
       "preferred_difficulty_level           10000\n",
       "subscription_type                    10000\n",
       "customer_inquiry_history             10000\n",
       "payment_pattern                      10000\n",
       "target                               10000\n",
       "dtype: int64"
      ]
     },
     "execution_count": 11,
     "metadata": {},
     "output_type": "execute_result"
    }
   ],
   "source": [
    "user_data.count()"
   ]
  },
  {
   "cell_type": "code",
   "execution_count": 12,
   "id": "4b8916f8",
   "metadata": {
    "ExecuteTime": {
     "end_time": "2023-12-30T04:29:39.110919Z",
     "start_time": "2023-12-30T04:29:39.099219Z"
    }
   },
   "outputs": [
    {
     "data": {
      "text/plain": [
       "10000"
      ]
     },
     "execution_count": 12,
     "metadata": {},
     "output_type": "execute_result"
    }
   ],
   "source": [
    "user_data['preferred_difficulty_level'].count()"
   ]
  },
  {
   "cell_type": "code",
   "execution_count": 13,
   "id": "04e7231d",
   "metadata": {
    "ExecuteTime": {
     "end_time": "2023-12-30T04:30:10.768326Z",
     "start_time": "2023-12-30T04:30:10.757292Z"
    }
   },
   "outputs": [
    {
     "data": {
      "text/plain": [
       "array(['Low', 'Medium', 'High'], dtype=object)"
      ]
     },
     "execution_count": 13,
     "metadata": {},
     "output_type": "execute_result"
    }
   ],
   "source": [
    "user_data['preferred_difficulty_level'].unique()"
   ]
  },
  {
   "cell_type": "code",
   "execution_count": 14,
   "id": "419448b5",
   "metadata": {
    "ExecuteTime": {
     "end_time": "2023-12-30T04:30:32.600926Z",
     "start_time": "2023-12-30T04:30:32.586709Z"
    }
   },
   "outputs": [
    {
     "data": {
      "text/plain": [
       "preferred_difficulty_level\n",
       "Low       4992\n",
       "Medium    3008\n",
       "High      2000\n",
       "Name: count, dtype: int64"
      ]
     },
     "execution_count": 14,
     "metadata": {},
     "output_type": "execute_result"
    }
   ],
   "source": [
    "user_data['preferred_difficulty_level'].value_counts()"
   ]
  },
  {
   "cell_type": "markdown",
   "id": "76c776ab",
   "metadata": {},
   "source": [
    "# (가설1) 몰아듣는 사람 vs 아닌 사람 비교\n",
    "## 주말 총인원, 총일수, 평균일수"
   ]
  },
  {
   "cell_type": "code",
   "execution_count": 122,
   "id": "660781d6",
   "metadata": {
    "ExecuteTime": {
     "end_time": "2023-12-30T11:07:36.008706Z",
     "start_time": "2023-12-30T11:07:35.930476Z"
    }
   },
   "outputs": [
    {
     "data": {
      "text/plain": [
       "3353"
      ]
     },
     "execution_count": 122,
     "metadata": {},
     "output_type": "execute_result"
    }
   ],
   "source": [
    "#몰아듣는 사람: 3353명\n",
    "주말_총인원 = user_data[user_data['monthly_active_learning_days'] <= 8].count()['user_id']\n",
    "주말_총인원"
   ]
  },
  {
   "cell_type": "code",
   "execution_count": 123,
   "id": "23c04874",
   "metadata": {
    "ExecuteTime": {
     "end_time": "2023-12-30T11:07:43.044309Z",
     "start_time": "2023-12-30T11:07:43.001635Z"
    },
    "scrolled": true
   },
   "outputs": [
    {
     "data": {
      "text/plain": [
       "15330"
      ]
     },
     "execution_count": 123,
     "metadata": {},
     "output_type": "execute_result"
    }
   ],
   "source": [
    "#15330일\n",
    "주말_총일수 = user_data[user_data['monthly_active_learning_days'] <= 8].sum()['monthly_active_learning_days']\n",
    "주말_총일수"
   ]
  },
  {
   "cell_type": "code",
   "execution_count": 124,
   "id": "8ad9eec6",
   "metadata": {
    "ExecuteTime": {
     "end_time": "2023-12-30T11:07:49.144634Z",
     "start_time": "2023-12-30T11:07:49.136799Z"
    }
   },
   "outputs": [
    {
     "data": {
      "text/plain": [
       "4.57"
      ]
     },
     "execution_count": 124,
     "metadata": {},
     "output_type": "execute_result"
    }
   ],
   "source": [
    "#4.57일\n",
    "(주말_총일수/주말_총인원).round(2)"
   ]
  },
  {
   "cell_type": "markdown",
   "id": "98a35691",
   "metadata": {},
   "source": [
    "## 꾸준 총인원, 총일수, 평균일수"
   ]
  },
  {
   "cell_type": "code",
   "execution_count": 125,
   "id": "11927f4f",
   "metadata": {
    "ExecuteTime": {
     "end_time": "2023-12-30T11:08:01.364178Z",
     "start_time": "2023-12-30T11:08:01.348267Z"
    },
    "scrolled": true
   },
   "outputs": [
    {
     "data": {
      "text/plain": [
       "6647"
      ]
     },
     "execution_count": 125,
     "metadata": {},
     "output_type": "execute_result"
    }
   ],
   "source": [
    "#꾸준 사람: 6647명\n",
    "꾸준_총인원 = user_data[user_data['monthly_active_learning_days'] > 8].count()['user_id']\n",
    "꾸준_총인원"
   ]
  },
  {
   "cell_type": "code",
   "execution_count": 127,
   "id": "9f7bf1f0",
   "metadata": {
    "ExecuteTime": {
     "end_time": "2023-12-30T11:08:28.320282Z",
     "start_time": "2023-12-30T11:08:28.278547Z"
    }
   },
   "outputs": [
    {
     "data": {
      "text/plain": [
       "110124"
      ]
     },
     "execution_count": 127,
     "metadata": {},
     "output_type": "execute_result"
    }
   ],
   "source": [
    "#꾸준 일수: 110124시간\n",
    "꾸준_총일수 = user_data[user_data['monthly_active_learning_days'] > 8].sum()['monthly_active_learning_days']\n",
    "꾸준_총일수"
   ]
  },
  {
   "cell_type": "code",
   "execution_count": 128,
   "id": "4df7291b",
   "metadata": {
    "ExecuteTime": {
     "end_time": "2023-12-30T11:08:29.227553Z",
     "start_time": "2023-12-30T11:08:29.218252Z"
    }
   },
   "outputs": [
    {
     "data": {
      "text/plain": [
       "16.57"
      ]
     },
     "execution_count": 128,
     "metadata": {},
     "output_type": "execute_result"
    }
   ],
   "source": [
    "#16.57일\n",
    "(꾸준_총일수/꾸준_총인원).round(2)"
   ]
  },
  {
   "cell_type": "markdown",
   "id": "2200d362",
   "metadata": {},
   "source": [
    "# ?"
   ]
  },
  {
   "cell_type": "code",
   "execution_count": 116,
   "id": "448700b7",
   "metadata": {
    "ExecuteTime": {
     "end_time": "2023-12-30T10:58:50.330677Z",
     "start_time": "2023-12-30T10:58:50.326049Z"
    },
    "scrolled": true
   },
   "outputs": [],
   "source": [
    "#average_time_per_learning_session: 각 학습 세션에 소요된 평균 시간 (분)\n",
    "\n",
    "#꾸준_총인원 = user_data[user_data['target'] == 0].count()['user_id']\n",
    "#꾸준_총인원"
   ]
  },
  {
   "cell_type": "markdown",
   "id": "61a77dce",
   "metadata": {},
   "source": [
    "## 꾸준, 타겟 0"
   ]
  },
  {
   "cell_type": "code",
   "execution_count": 111,
   "id": "25028ba4",
   "metadata": {
    "ExecuteTime": {
     "end_time": "2023-12-30T10:56:51.341164Z",
     "start_time": "2023-12-30T10:56:51.327027Z"
    }
   },
   "outputs": [
    {
     "data": {
      "text/plain": [
       "2525"
      ]
     },
     "execution_count": 111,
     "metadata": {},
     "output_type": "execute_result"
    }
   ],
   "source": [
    "#2525명\n",
    "꾸준_타겟0 = user_data[(user_data['target'] == 0) & (user_data['monthly_active_learning_days'] > 8)].count()['user_id']\n",
    "꾸준_타겟0"
   ]
  },
  {
   "cell_type": "code",
   "execution_count": 118,
   "id": "a3ecc2f4",
   "metadata": {
    "ExecuteTime": {
     "end_time": "2023-12-30T10:59:33.394078Z",
     "start_time": "2023-12-30T10:59:33.380652Z"
    }
   },
   "outputs": [
    {
     "data": {
      "text/plain": [
       "37.99"
      ]
     },
     "execution_count": 118,
     "metadata": {},
     "output_type": "execute_result"
    }
   ],
   "source": [
    "#37.99%\n",
    "꾸준_타겟0_비율 = ((꾸준_타겟0/꾸준_총인원)*100).round(2)\n",
    "꾸준_타겟0_비율"
   ]
  },
  {
   "cell_type": "markdown",
   "id": "2fe9d43b",
   "metadata": {},
   "source": [
    "## 꾸준_타겟1"
   ]
  },
  {
   "cell_type": "code",
   "execution_count": 129,
   "id": "722af275",
   "metadata": {
    "ExecuteTime": {
     "end_time": "2023-12-30T11:10:08.575810Z",
     "start_time": "2023-12-30T11:10:08.561412Z"
    }
   },
   "outputs": [
    {
     "data": {
      "text/plain": [
       "4122"
      ]
     },
     "execution_count": 129,
     "metadata": {},
     "output_type": "execute_result"
    }
   ],
   "source": [
    "#4122명\n",
    "꾸준_타겟1 = user_data[(user_data['target'] == 1) & (user_data['monthly_active_learning_days'] > 8)].count()['user_id']\n",
    "꾸준_타겟1"
   ]
  },
  {
   "cell_type": "code",
   "execution_count": 130,
   "id": "5bd5a3d3",
   "metadata": {
    "ExecuteTime": {
     "end_time": "2023-12-30T11:10:09.813434Z",
     "start_time": "2023-12-30T11:10:09.805096Z"
    }
   },
   "outputs": [
    {
     "data": {
      "text/plain": [
       "62.01"
      ]
     },
     "execution_count": 130,
     "metadata": {},
     "output_type": "execute_result"
    }
   ],
   "source": [
    "#62.01%\n",
    "꾸준_타겟1_비율 = ((꾸준_타겟1/꾸준_총인원)*100).round(2)\n",
    "꾸준_타겟1_비율"
   ]
  },
  {
   "cell_type": "markdown",
   "id": "ef18887c",
   "metadata": {},
   "source": [
    "## 주말_타겟0"
   ]
  },
  {
   "cell_type": "code",
   "execution_count": 131,
   "id": "537dacf3",
   "metadata": {
    "ExecuteTime": {
     "end_time": "2023-12-30T11:11:22.057185Z",
     "start_time": "2023-12-30T11:11:22.041613Z"
    }
   },
   "outputs": [
    {
     "data": {
      "text/plain": [
       "1276"
      ]
     },
     "execution_count": 131,
     "metadata": {},
     "output_type": "execute_result"
    }
   ],
   "source": [
    "#1276명\n",
    "주말_타겟0 = user_data[(user_data['target'] == 0) & (user_data['monthly_active_learning_days'] <= 8)].count()['user_id']\n",
    "주말_타겟0"
   ]
  },
  {
   "cell_type": "code",
   "execution_count": 134,
   "id": "06e41fe8",
   "metadata": {
    "ExecuteTime": {
     "end_time": "2023-12-30T11:12:21.894392Z",
     "start_time": "2023-12-30T11:12:21.885462Z"
    }
   },
   "outputs": [
    {
     "data": {
      "text/plain": [
       "37.99"
      ]
     },
     "execution_count": 134,
     "metadata": {},
     "output_type": "execute_result"
    }
   ],
   "source": [
    "#37.99%\n",
    "주말_타겟0_비율 = ((꾸준_타겟0/꾸준_총인원)*100).round(2)\n",
    "주말_타겟0_비율"
   ]
  },
  {
   "cell_type": "markdown",
   "id": "8af57308",
   "metadata": {},
   "source": [
    "## 주말_타겟1"
   ]
  },
  {
   "cell_type": "code",
   "execution_count": 132,
   "id": "7e7620c9",
   "metadata": {
    "ExecuteTime": {
     "end_time": "2023-12-30T11:11:52.414394Z",
     "start_time": "2023-12-30T11:11:52.400033Z"
    },
    "scrolled": true
   },
   "outputs": [
    {
     "data": {
      "text/plain": [
       "2077"
      ]
     },
     "execution_count": 132,
     "metadata": {},
     "output_type": "execute_result"
    }
   ],
   "source": [
    "#2077명\n",
    "주말_타겟1 = user_data[(user_data['target'] == 1) & (user_data['monthly_active_learning_days'] <= 8)].count()['user_id']\n",
    "주말_타겟1"
   ]
  },
  {
   "cell_type": "code",
   "execution_count": 136,
   "id": "aa1e417a",
   "metadata": {
    "ExecuteTime": {
     "end_time": "2023-12-30T11:12:41.345057Z",
     "start_time": "2023-12-30T11:12:41.335891Z"
    }
   },
   "outputs": [
    {
     "data": {
      "text/plain": [
       "62.01"
      ]
     },
     "execution_count": 136,
     "metadata": {},
     "output_type": "execute_result"
    }
   ],
   "source": [
    "#62.01%\n",
    "주말_타겟1_비율 = ((꾸준_타겟1/꾸준_총인원)*100).round(2)\n",
    "주말_타겟1_비율"
   ]
  },
  {
   "cell_type": "markdown",
   "id": "33a82fd8",
   "metadata": {},
   "source": [
    "# 차트 만들기"
   ]
  },
  {
   "cell_type": "code",
   "execution_count": 138,
   "id": "55aee536",
   "metadata": {
    "ExecuteTime": {
     "end_time": "2023-12-30T11:13:37.823792Z",
     "start_time": "2023-12-30T11:13:37.369980Z"
    }
   },
   "outputs": [
    {
     "data": {
      "image/png": "[encoded data removed]",
      "text/plain": [
       "<Figure size 640x480 with 1 Axes>"
      ]
     },
     "metadata": {},
     "output_type": "display_data"
    }
   ],
   "source": [
    "빈도수 = ['꾸준_타겟0', '꾸준_타겟1', '주말_타겟0', '주말_타겟1']\n",
    "타겟수 = [꾸준_타겟0, 꾸준_타겟1, 주말_타겟0, 주말_타겟1]\n",
    "\n",
    "plt.bar(빈도수, 타겟수)\n",
    "plt.show()"
   ]
  },
  {
   "cell_type": "code",
   "execution_count": 140,
   "id": "b2787390",
   "metadata": {
    "ExecuteTime": {
     "end_time": "2023-12-30T11:14:23.575909Z",
     "start_time": "2023-12-30T11:14:23.233870Z"
    }
   },
   "outputs": [
    {
     "data": {
      "image/png": "[encoded data removed]",
      "text/plain": [
       "<Figure size 640x480 with 1 Axes>"
      ]
     },
     "metadata": {},
     "output_type": "display_data"
    }
   ],
   "source": [
    "빈도수 = ['꾸준_타겟0_비율', '꾸준_타겟1_비율', '주말_타겟0_비율', '주말_타겟1_비율']\n",
    "타겟수 = [꾸준_타겟0_비율, 꾸준_타겟1_비율, 주말_타겟0_비율, 주말_타겟1_비율]\n",
    "\n",
    "plt.bar(빈도수, 타겟수)\n",
    "plt.show()"
   ]
  },
  {
   "cell_type": "markdown",
   "id": "7808ba62",
   "metadata": {},
   "source": [
    "# (가설2) 소요시간 낮을수록 연장x"
   ]
  },
  {
   "cell_type": "code",
   "execution_count": 163,
   "id": "7f53ce1b",
   "metadata": {
    "ExecuteTime": {
     "end_time": "2023-12-30T13:54:28.313105Z",
     "start_time": "2023-12-30T13:54:28.299862Z"
    },
    "scrolled": true
   },
   "outputs": [
    {
     "data": {
      "text/plain": [
       "target\n",
       "0    46.456986\n",
       "1    60.105533\n",
       "dtype: float64"
      ]
     },
     "execution_count": 163,
     "metadata": {},
     "output_type": "execute_result"
    }
   ],
   "source": [
    "#average_time_per_learning_session: 각 학습 세션에 소요된 평균 시간 (분)\n",
    "#0    46.456986 / 1    60.105533\n",
    "\n",
    "타겟별_소요시간 = user_data.groupby('target')['average_time_per_learning_session'].sum()\n",
    "타겟별_소요시간/타겟별_인원수"
   ]
  },
  {
   "cell_type": "markdown",
   "id": "cc288a53",
   "metadata": {},
   "source": [
    "# 밑에거 안해도 됐음;\"\n",
    "## 총타겟수"
   ]
  },
  {
   "cell_type": "code",
   "execution_count": 160,
   "id": "1a1afaf4",
   "metadata": {
    "ExecuteTime": {
     "end_time": "2023-12-30T11:43:59.657996Z",
     "start_time": "2023-12-30T11:43:59.647856Z"
    }
   },
   "outputs": [
    {
     "data": {
      "text/plain": [
       "3801"
      ]
     },
     "execution_count": 160,
     "metadata": {},
     "output_type": "execute_result"
    }
   ],
   "source": [
    "#3801\n",
    "총타겟0인원 = user_data[user_data['target'] == 0]['user_id'].count()\n",
    "총타겟0인원"
   ]
  },
  {
   "cell_type": "code",
   "execution_count": 159,
   "id": "7d96d364",
   "metadata": {
    "ExecuteTime": {
     "end_time": "2023-12-30T11:43:58.844330Z",
     "start_time": "2023-12-30T11:43:58.822292Z"
    }
   },
   "outputs": [
    {
     "data": {
      "text/plain": [
       "6199"
      ]
     },
     "execution_count": 159,
     "metadata": {},
     "output_type": "execute_result"
    }
   ],
   "source": [
    "#6199\n",
    "총타겟1인원 = user_data[user_data['target'] == 1]['user_id'].count()\n",
    "총타겟1인원"
   ]
  },
  {
   "cell_type": "markdown",
   "id": "a434eadd",
   "metadata": {},
   "source": [
    "## average_time_per_learning_session: 각 학습 세션에 소요된 평균 시간 (분) / 총타겟0 수"
   ]
  },
  {
   "cell_type": "code",
   "execution_count": 153,
   "id": "9eb92a9d",
   "metadata": {
    "ExecuteTime": {
     "end_time": "2023-12-30T11:40:06.723806Z",
     "start_time": "2023-12-30T11:40:06.704772Z"
    },
    "scrolled": true
   },
   "outputs": [
    {
     "data": {
      "text/plain": [
       "176583.01"
      ]
     },
     "execution_count": 153,
     "metadata": {},
     "output_type": "execute_result"
    }
   ],
   "source": [
    "세션시간_타겟0 = user_data[user_data['target']==0]['average_time_per_learning_session'].sum().round(2)\n",
    "세션시간_타겟0"
   ]
  },
  {
   "cell_type": "code",
   "execution_count": 161,
   "id": "df62aa9a",
   "metadata": {
    "ExecuteTime": {
     "end_time": "2023-12-30T11:44:06.085887Z",
     "start_time": "2023-12-30T11:44:06.068694Z"
    }
   },
   "outputs": [
    {
     "data": {
      "text/plain": [
       "144.48229413312285"
      ]
     },
     "execution_count": 161,
     "metadata": {},
     "output_type": "execute_result"
    }
   ],
   "source": [
    "세션시간_타겟0/총타겟0인원"
   ]
  },
  {
   "cell_type": "markdown",
   "id": "8ca6e74c",
   "metadata": {},
   "source": [
    "## average_time_per_learning_session: 각 학습 세션에 소요된 평균 시간 (분) / 총타겟1 수"
   ]
  },
  {
   "cell_type": "code",
   "execution_count": 154,
   "id": "34652e54",
   "metadata": {
    "ExecuteTime": {
     "end_time": "2023-12-30T11:40:31.330027Z",
     "start_time": "2023-12-30T11:40:31.310888Z"
    }
   },
   "outputs": [
    {
     "data": {
      "text/plain": [
       "372594.2"
      ]
     },
     "execution_count": 154,
     "metadata": {},
     "output_type": "execute_result"
    }
   ],
   "source": [
    "세션시간_타겟1 = user_data[user_data['target']==1]['average_time_per_learning_session'].sum().round(2)\n",
    "세션시간_타겟1"
   ]
  },
  {
   "cell_type": "code",
   "execution_count": 162,
   "id": "acd91949",
   "metadata": {
    "ExecuteTime": {
     "end_time": "2023-12-30T11:44:22.543159Z",
     "start_time": "2023-12-30T11:44:22.525292Z"
    }
   },
   "outputs": [
    {
     "data": {
      "text/plain": [
       "60.10553315050815"
      ]
     },
     "execution_count": 162,
     "metadata": {},
     "output_type": "execute_result"
    }
   ],
   "source": [
    "세션시간_타겟1/총타겟1인원"
   ]
  },
  {
   "cell_type": "code",
   "execution_count": 164,
   "id": "9905658c",
   "metadata": {
    "ExecuteTime": {
     "end_time": "2023-12-30T14:01:02.678644Z",
     "start_time": "2023-12-30T14:01:02.667626Z"
    }
   },
   "outputs": [
    {
     "data": {
      "text/plain": [
       "community_engagement_level\n",
       "1     559\n",
       "2    1219\n",
       "3    1588\n",
       "4    2070\n",
       "5    4564\n",
       "Name: user_id, dtype: int64"
      ]
     },
     "execution_count": 164,
     "metadata": {},
     "output_type": "execute_result"
    }
   ],
   "source": [
    "user_data.groupby('community_engagement_level')['user_id'].count()"
   ]
  },
  {
   "cell_type": "code",
   "execution_count": 169,
   "id": "732971bf",
   "metadata": {
    "ExecuteTime": {
     "end_time": "2023-12-30T14:03:20.753494Z",
     "start_time": "2023-12-30T14:03:20.743575Z"
    }
   },
   "outputs": [
    {
     "data": {
      "text/plain": [
       "target\n",
       "0    46548\n",
       "1    75727\n",
       "Name: total_completed_courses, dtype: int64"
      ]
     },
     "execution_count": 169,
     "metadata": {},
     "output_type": "execute_result"
    }
   ],
   "source": [
    "타겟 = user_data.groupby('target')['total_completed_courses'].sum()\n",
    "타겟"
   ]
  },
  {
   "cell_type": "code",
   "execution_count": 168,
   "id": "e2e50fde",
   "metadata": {
    "ExecuteTime": {
     "end_time": "2023-12-30T14:03:14.910884Z",
     "start_time": "2023-12-30T14:03:14.901569Z"
    }
   },
   "outputs": [
    {
     "data": {
      "text/plain": [
       "target\n",
       "0    3801\n",
       "1    6199\n",
       "Name: user_id, dtype: int64"
      ]
     },
     "execution_count": 168,
     "metadata": {},
     "output_type": "execute_result"
    }
   ],
   "source": [
    "인원 = user_data.groupby('target')['user_id'].count()\n",
    "인원"
   ]
  },
  {
   "cell_type": "code",
   "execution_count": 170,
   "id": "fd22afa8",
   "metadata": {
    "ExecuteTime": {
     "end_time": "2023-12-30T14:03:35.435622Z",
     "start_time": "2023-12-30T14:03:35.427558Z"
    }
   },
   "outputs": [
    {
     "data": {
      "text/plain": [
       "target\n",
       "0    12.246251\n",
       "1    12.216003\n",
       "dtype: float64"
      ]
     },
     "execution_count": 170,
     "metadata": {},
     "output_type": "execute_result"
    }
   ],
   "source": [
    "타겟/인원"
   ]
  },
  {
   "cell_type": "code",
   "execution_count": null,
   "id": "b71e7f0d",
   "metadata": {},
   "outputs": [],
   "source": []
  },
  {
   "cell_type": "markdown",
   "id": "953fa6b6",
   "metadata": {},
   "source": [
    "# 선호 구독 종류"
   ]
  },
  {
   "cell_type": "code",
   "execution_count": 175,
   "id": "43474dac",
   "metadata": {
    "ExecuteTime": {
     "end_time": "2023-12-30T14:19:33.201093Z",
     "start_time": "2023-12-30T14:19:33.188585Z"
    }
   },
   "outputs": [
    {
     "data": {
      "text/plain": [
       "subscription_type\n",
       "Basic      5979\n",
       "Premium    4021\n",
       "Name: user_id, dtype: int64"
      ]
     },
     "execution_count": 175,
     "metadata": {},
     "output_type": "execute_result"
    }
   ],
   "source": [
    "구독 = user_data.groupby('subscription_type')['user_id'].count()\n",
    "구독"
   ]
  },
  {
   "cell_type": "code",
   "execution_count": 182,
   "id": "a9678950",
   "metadata": {
    "ExecuteTime": {
     "end_time": "2023-12-30T14:25:05.387618Z",
     "start_time": "2023-12-30T14:25:05.375755Z"
    }
   },
   "outputs": [
    {
     "data": {
      "text/plain": [
       "5979"
      ]
     },
     "execution_count": 182,
     "metadata": {},
     "output_type": "execute_result"
    }
   ],
   "source": [
    "(user_data[user_data['subscription_type']=='Basic']['preferred_difficulty_level']=='Low').count()"
   ]
  },
  {
   "cell_type": "code",
   "execution_count": 183,
   "id": "4ee0c4fc",
   "metadata": {
    "ExecuteTime": {
     "end_time": "2023-12-30T14:25:20.505188Z",
     "start_time": "2023-12-30T14:25:20.494360Z"
    }
   },
   "outputs": [
    {
     "data": {
      "text/plain": [
       "5979"
      ]
     },
     "execution_count": 183,
     "metadata": {},
     "output_type": "execute_result"
    }
   ],
   "source": [
    "(user_data[user_data['subscription_type']=='Basic']['preferred_difficulty_level']=='Medium').count()"
   ]
  },
  {
   "cell_type": "code",
   "execution_count": 187,
   "id": "42a4a765",
   "metadata": {
    "ExecuteTime": {
     "end_time": "2023-12-30T14:28:19.790455Z",
     "start_time": "2023-12-30T14:28:19.782806Z"
    }
   },
   "outputs": [
    {
     "data": {
      "text/plain": [
       "549177.2045606221"
      ]
     },
     "execution_count": 187,
     "metadata": {},
     "output_type": "execute_result"
    }
   ],
   "source": [
    "user_data['average_time_per_learning_session'].sum()"
   ]
  },
  {
   "cell_type": "code",
   "execution_count": 14,
   "id": "e4cdd943",
   "metadata": {
    "ExecuteTime": {
     "end_time": "2023-12-31T08:57:01.329654Z",
     "start_time": "2023-12-31T08:57:01.306384Z"
    }
   },
   "outputs": [
    {
     "data": {
      "text/plain": [
       "(2296, 3683)"
      ]
     },
     "execution_count": 14,
     "metadata": {},
     "output_type": "execute_result"
    }
   ],
   "source": [
    "a= user_data[user_data['subscription_type']=='Basic']\n",
    "a[a['target']==0]['user_id'].count(), a[a['target']==1]['user_id'].count()"
   ]
  },
  {
   "cell_type": "code",
   "execution_count": 13,
   "id": "1d08351a",
   "metadata": {
    "ExecuteTime": {
     "end_time": "2023-12-31T08:56:50.502427Z",
     "start_time": "2023-12-31T08:56:50.481945Z"
    }
   },
   "outputs": [
    {
     "data": {
      "text/plain": [
       "(1505, 2516)"
      ]
     },
     "execution_count": 13,
     "metadata": {},
     "output_type": "execute_result"
    }
   ],
   "source": [
    "a= user_data[user_data['subscription_type']=='Premium']\n",
    "a[a['target']==0]['user_id'].count(), a[a['target']==1]['user_id'].count()"
   ]
  },
  {
   "cell_type": "code",
   "execution_count": 10,
   "id": "f4ece596",
   "metadata": {
    "ExecuteTime": {
     "end_time": "2023-12-31T08:54:58.423102Z",
     "start_time": "2023-12-31T08:54:58.414133Z"
    }
   },
   "outputs": [
    {
     "data": {
      "text/plain": [
       "(0.3840107041311256,\n",
       " 0.6159892958688744,\n",
       " 0.37428500373041534,\n",
       " 0.6257149962695847)"
      ]
     },
     "execution_count": 10,
     "metadata": {},
     "output_type": "execute_result"
    }
   ],
   "source": [
    "2296/5979, 3683/5979, 1505/4021, 2516/4021"
   ]
  },
  {
   "cell_type": "code",
   "execution_count": null,
   "id": "20f513f6",
   "metadata": {},
   "outputs": [],
   "source": []
  }
 ],
 "metadata": {
  "kernelspec": {
   "display_name": "Python 3 (ipykernel)",
   "language": "python",
   "name": "python3"
  },
  "language_info": {
   "codemirror_mode": {
    "name": "ipython",
    "version": 3
   },
   "file_extension": ".py",
   "mimetype": "text/x-python",
   "name": "python",
   "nbconvert_exporter": "python",
   "pygments_lexer": "ipython3",
   "version": "3.11.5"
  },
  "toc": {
   "base_numbering": 1,
   "nav_menu": {},
   "number_sections": true,
   "sideBar": true,
   "skip_h1_title": false,
   "title_cell": "Table of Contents",
   "title_sidebar": "Contents",
   "toc_cell": false,
   "toc_position": {},
   "toc_section_display": true,
   "toc_window_display": false
  }
 },
 "nbformat": 4,
 "nbformat_minor": 5
}
