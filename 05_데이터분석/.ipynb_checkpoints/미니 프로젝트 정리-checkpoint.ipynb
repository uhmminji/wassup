{
 "cells": [
  {
   "cell_type": "code",
   "execution_count": 73,
   "id": "7503256a",
   "metadata": {
    "ExecuteTime": {
     "end_time": "2024-01-02T02:41:55.125417Z",
     "start_time": "2024-01-02T02:41:55.105383Z"
    }
   },
   "outputs": [],
   "source": [
    "import pandas as pd\n",
    "import numpy as np\n",
    "import matplotlib.pyplot as plt\n",
    "import matplotlib.pylab as plt\n",
    "import koreanize_matplotlib"
   ]
  },
  {
   "cell_type": "code",
   "execution_count": 6,
   "id": "54a8bf5e",
   "metadata": {
    "ExecuteTime": {
     "end_time": "2024-01-02T00:24:31.762335Z",
     "start_time": "2024-01-02T00:24:31.544699Z"
    }
   },
   "outputs": [
    {
     "data": {
      "text/html": [
       "<div>\n",
       "<style scoped>\n",
       "    .dataframe tbody tr th:only-of-type {\n",
       "        vertical-align: middle;\n",
       "    }\n",
       "\n",
       "    .dataframe tbody tr th {\n",
       "        vertical-align: top;\n",
       "    }\n",
       "\n",
       "    .dataframe thead th {\n",
       "        text-align: right;\n",
       "    }\n",
       "</style>\n",
       "<table border=\"1\" class=\"dataframe\">\n",
       "  <thead>\n",
       "    <tr style=\"text-align: right;\">\n",
       "      <th></th>\n",
       "      <th>user_id</th>\n",
       "      <th>subscription_duration</th>\n",
       "      <th>recent_login_time</th>\n",
       "      <th>average_login_time</th>\n",
       "      <th>average_time_per_learning_session</th>\n",
       "      <th>monthly_active_learning_days</th>\n",
       "      <th>total_completed_courses</th>\n",
       "      <th>recent_learning_achievement</th>\n",
       "      <th>abandoned_learning_sessions</th>\n",
       "      <th>community_engagement_level</th>\n",
       "      <th>preferred_difficulty_level</th>\n",
       "      <th>subscription_type</th>\n",
       "      <th>customer_inquiry_history</th>\n",
       "      <th>payment_pattern</th>\n",
       "      <th>target</th>\n",
       "    </tr>\n",
       "  </thead>\n",
       "  <tbody>\n",
       "    <tr>\n",
       "      <th>0</th>\n",
       "      <td>b919c29d</td>\n",
       "      <td>13</td>\n",
       "      <td>14</td>\n",
       "      <td>14.946163</td>\n",
       "      <td>8.427187</td>\n",
       "      <td>18</td>\n",
       "      <td>16</td>\n",
       "      <td>68.360455</td>\n",
       "      <td>3</td>\n",
       "      <td>4</td>\n",
       "      <td>Low</td>\n",
       "      <td>Basic</td>\n",
       "      <td>4</td>\n",
       "      <td>5</td>\n",
       "      <td>0</td>\n",
       "    </tr>\n",
       "    <tr>\n",
       "      <th>1</th>\n",
       "      <td>a0a60abb</td>\n",
       "      <td>16</td>\n",
       "      <td>18</td>\n",
       "      <td>18.453224</td>\n",
       "      <td>72.646087</td>\n",
       "      <td>16</td>\n",
       "      <td>13</td>\n",
       "      <td>97.567322</td>\n",
       "      <td>2</td>\n",
       "      <td>3</td>\n",
       "      <td>Medium</td>\n",
       "      <td>Basic</td>\n",
       "      <td>1</td>\n",
       "      <td>6</td>\n",
       "      <td>1</td>\n",
       "    </tr>\n",
       "    <tr>\n",
       "      <th>2</th>\n",
       "      <td>b9f171ae</td>\n",
       "      <td>22</td>\n",
       "      <td>1</td>\n",
       "      <td>16.195228</td>\n",
       "      <td>21.774492</td>\n",
       "      <td>13</td>\n",
       "      <td>14</td>\n",
       "      <td>94.358763</td>\n",
       "      <td>3</td>\n",
       "      <td>4</td>\n",
       "      <td>Medium</td>\n",
       "      <td>Premium</td>\n",
       "      <td>0</td>\n",
       "      <td>7</td>\n",
       "      <td>1</td>\n",
       "    </tr>\n",
       "    <tr>\n",
       "      <th>3</th>\n",
       "      <td>5dc0ba8b</td>\n",
       "      <td>1</td>\n",
       "      <td>19</td>\n",
       "      <td>17.628656</td>\n",
       "      <td>42.659066</td>\n",
       "      <td>19</td>\n",
       "      <td>18</td>\n",
       "      <td>70.153228</td>\n",
       "      <td>0</td>\n",
       "      <td>3</td>\n",
       "      <td>Low</td>\n",
       "      <td>Basic</td>\n",
       "      <td>1</td>\n",
       "      <td>0</td>\n",
       "      <td>1</td>\n",
       "    </tr>\n",
       "    <tr>\n",
       "      <th>4</th>\n",
       "      <td>65c83654</td>\n",
       "      <td>4</td>\n",
       "      <td>5</td>\n",
       "      <td>21.390656</td>\n",
       "      <td>30.744287</td>\n",
       "      <td>19</td>\n",
       "      <td>10</td>\n",
       "      <td>81.917908</td>\n",
       "      <td>2</td>\n",
       "      <td>4</td>\n",
       "      <td>Medium</td>\n",
       "      <td>Basic</td>\n",
       "      <td>3</td>\n",
       "      <td>0</td>\n",
       "      <td>1</td>\n",
       "    </tr>\n",
       "    <tr>\n",
       "      <th>...</th>\n",
       "      <td>...</td>\n",
       "      <td>...</td>\n",
       "      <td>...</td>\n",
       "      <td>...</td>\n",
       "      <td>...</td>\n",
       "      <td>...</td>\n",
       "      <td>...</td>\n",
       "      <td>...</td>\n",
       "      <td>...</td>\n",
       "      <td>...</td>\n",
       "      <td>...</td>\n",
       "      <td>...</td>\n",
       "      <td>...</td>\n",
       "      <td>...</td>\n",
       "      <td>...</td>\n",
       "    </tr>\n",
       "    <tr>\n",
       "      <th>9995</th>\n",
       "      <td>ae6b76bc</td>\n",
       "      <td>22</td>\n",
       "      <td>29</td>\n",
       "      <td>14.727623</td>\n",
       "      <td>84.053558</td>\n",
       "      <td>18</td>\n",
       "      <td>16</td>\n",
       "      <td>64.966803</td>\n",
       "      <td>2</td>\n",
       "      <td>5</td>\n",
       "      <td>Low</td>\n",
       "      <td>Premium</td>\n",
       "      <td>1</td>\n",
       "      <td>1</td>\n",
       "      <td>1</td>\n",
       "    </tr>\n",
       "    <tr>\n",
       "      <th>9996</th>\n",
       "      <td>24588752</td>\n",
       "      <td>10</td>\n",
       "      <td>11</td>\n",
       "      <td>19.374054</td>\n",
       "      <td>45.464833</td>\n",
       "      <td>9</td>\n",
       "      <td>8</td>\n",
       "      <td>82.750244</td>\n",
       "      <td>3</td>\n",
       "      <td>3</td>\n",
       "      <td>Medium</td>\n",
       "      <td>Basic</td>\n",
       "      <td>2</td>\n",
       "      <td>7</td>\n",
       "      <td>1</td>\n",
       "    </tr>\n",
       "    <tr>\n",
       "      <th>9997</th>\n",
       "      <td>e4622a54</td>\n",
       "      <td>7</td>\n",
       "      <td>27</td>\n",
       "      <td>18.240978</td>\n",
       "      <td>127.302411</td>\n",
       "      <td>24</td>\n",
       "      <td>14</td>\n",
       "      <td>81.567839</td>\n",
       "      <td>3</td>\n",
       "      <td>5</td>\n",
       "      <td>High</td>\n",
       "      <td>Basic</td>\n",
       "      <td>1</td>\n",
       "      <td>6</td>\n",
       "      <td>1</td>\n",
       "    </tr>\n",
       "    <tr>\n",
       "      <th>9998</th>\n",
       "      <td>e07fbad9</td>\n",
       "      <td>11</td>\n",
       "      <td>7</td>\n",
       "      <td>18.783800</td>\n",
       "      <td>5.297234</td>\n",
       "      <td>10</td>\n",
       "      <td>10</td>\n",
       "      <td>89.885656</td>\n",
       "      <td>4</td>\n",
       "      <td>5</td>\n",
       "      <td>Low</td>\n",
       "      <td>Basic</td>\n",
       "      <td>2</td>\n",
       "      <td>0</td>\n",
       "      <td>1</td>\n",
       "    </tr>\n",
       "    <tr>\n",
       "      <th>9999</th>\n",
       "      <td>e12dcb55</td>\n",
       "      <td>10</td>\n",
       "      <td>5</td>\n",
       "      <td>13.073230</td>\n",
       "      <td>28.120031</td>\n",
       "      <td>3</td>\n",
       "      <td>13</td>\n",
       "      <td>64.811297</td>\n",
       "      <td>4</td>\n",
       "      <td>5</td>\n",
       "      <td>Low</td>\n",
       "      <td>Premium</td>\n",
       "      <td>0</td>\n",
       "      <td>3</td>\n",
       "      <td>0</td>\n",
       "    </tr>\n",
       "  </tbody>\n",
       "</table>\n",
       "<p>10000 rows × 15 columns</p>\n",
       "</div>"
      ],
      "text/plain": [
       "       user_id  subscription_duration  recent_login_time  average_login_time  \\\n",
       "0     b919c29d                     13                 14           14.946163   \n",
       "1     a0a60abb                     16                 18           18.453224   \n",
       "2     b9f171ae                     22                  1           16.195228   \n",
       "3     5dc0ba8b                      1                 19           17.628656   \n",
       "4     65c83654                      4                  5           21.390656   \n",
       "...        ...                    ...                ...                 ...   \n",
       "9995  ae6b76bc                     22                 29           14.727623   \n",
       "9996  24588752                     10                 11           19.374054   \n",
       "9997  e4622a54                      7                 27           18.240978   \n",
       "9998  e07fbad9                     11                  7           18.783800   \n",
       "9999  e12dcb55                     10                  5           13.073230   \n",
       "\n",
       "      average_time_per_learning_session  monthly_active_learning_days  \\\n",
       "0                              8.427187                            18   \n",
       "1                             72.646087                            16   \n",
       "2                             21.774492                            13   \n",
       "3                             42.659066                            19   \n",
       "4                             30.744287                            19   \n",
       "...                                 ...                           ...   \n",
       "9995                          84.053558                            18   \n",
       "9996                          45.464833                             9   \n",
       "9997                         127.302411                            24   \n",
       "9998                           5.297234                            10   \n",
       "9999                          28.120031                             3   \n",
       "\n",
       "      total_completed_courses  recent_learning_achievement  \\\n",
       "0                          16                    68.360455   \n",
       "1                          13                    97.567322   \n",
       "2                          14                    94.358763   \n",
       "3                          18                    70.153228   \n",
       "4                          10                    81.917908   \n",
       "...                       ...                          ...   \n",
       "9995                       16                    64.966803   \n",
       "9996                        8                    82.750244   \n",
       "9997                       14                    81.567839   \n",
       "9998                       10                    89.885656   \n",
       "9999                       13                    64.811297   \n",
       "\n",
       "      abandoned_learning_sessions  community_engagement_level  \\\n",
       "0                               3                           4   \n",
       "1                               2                           3   \n",
       "2                               3                           4   \n",
       "3                               0                           3   \n",
       "4                               2                           4   \n",
       "...                           ...                         ...   \n",
       "9995                            2                           5   \n",
       "9996                            3                           3   \n",
       "9997                            3                           5   \n",
       "9998                            4                           5   \n",
       "9999                            4                           5   \n",
       "\n",
       "     preferred_difficulty_level subscription_type  customer_inquiry_history  \\\n",
       "0                           Low             Basic                         4   \n",
       "1                        Medium             Basic                         1   \n",
       "2                        Medium           Premium                         0   \n",
       "3                           Low             Basic                         1   \n",
       "4                        Medium             Basic                         3   \n",
       "...                         ...               ...                       ...   \n",
       "9995                        Low           Premium                         1   \n",
       "9996                     Medium             Basic                         2   \n",
       "9997                       High             Basic                         1   \n",
       "9998                        Low             Basic                         2   \n",
       "9999                        Low           Premium                         0   \n",
       "\n",
       "      payment_pattern  target  \n",
       "0                   5       0  \n",
       "1                   6       1  \n",
       "2                   7       1  \n",
       "3                   0       1  \n",
       "4                   0       1  \n",
       "...               ...     ...  \n",
       "9995                1       1  \n",
       "9996                7       1  \n",
       "9997                6       1  \n",
       "9998                0       1  \n",
       "9999                3       0  \n",
       "\n",
       "[10000 rows x 15 columns]"
      ]
     },
     "execution_count": 6,
     "metadata": {},
     "output_type": "execute_result"
    }
   ],
   "source": [
    "user_data = pd.read_table('data/mini.csv',sep=',')\n",
    "user_data"
   ]
  },
  {
   "cell_type": "markdown",
   "id": "bba179d3",
   "metadata": {},
   "source": [
    "# (가설2) 평균 소요시간 높을 수록, 연장 한다. (검증완)"
   ]
  },
  {
   "cell_type": "code",
   "execution_count": 63,
   "id": "9f6fd8dc",
   "metadata": {
    "ExecuteTime": {
     "end_time": "2024-01-02T02:25:59.539393Z",
     "start_time": "2024-01-02T02:25:59.520587Z"
    }
   },
   "outputs": [
    {
     "data": {
      "text/plain": [
       "6199"
      ]
     },
     "execution_count": 63,
     "metadata": {},
     "output_type": "execute_result"
    }
   ],
   "source": [
    "타겟별_인원수 = user_data.groupby('target')['user_id'].count()\n",
    "타겟별_인원수\n",
    "타겟별_인원수[0] #다음달 구독 취소할 인원\n",
    "타겟별_인원수[1] #구독 연장할 인원"
   ]
  },
  {
   "cell_type": "code",
   "execution_count": 65,
   "id": "8297db8a",
   "metadata": {
    "ExecuteTime": {
     "end_time": "2024-01-02T02:26:11.897321Z",
     "start_time": "2024-01-02T02:26:11.884870Z"
    },
    "scrolled": true
   },
   "outputs": [
    {
     "data": {
      "text/plain": [
       "target\n",
       "0    46.5\n",
       "1    60.1\n",
       "dtype: float64"
      ]
     },
     "execution_count": 65,
     "metadata": {},
     "output_type": "execute_result"
    }
   ],
   "source": [
    "#average_time_per_learning_session: 각 학습 세션에 소요된 평균 시간 (분)\n",
    "#0    46.456986 / 1    60.105533\n",
    "\n",
    "타겟별_소요시간 = user_data.groupby('target')['average_time_per_learning_session'].sum()\n",
    "(타겟별_소요시간/타겟별_인원수).round(1)"
   ]
  },
  {
   "cell_type": "code",
   "execution_count": 69,
   "id": "96b81899",
   "metadata": {
    "ExecuteTime": {
     "end_time": "2024-01-02T02:28:40.310723Z",
     "start_time": "2024-01-02T02:28:40.064888Z"
    },
    "scrolled": true
   },
   "outputs": [
    {
     "data": {
      "image/png": "[encoded data removed]",
      "text/plain": [
       "<Figure size 640x480 with 1 Axes>"
      ]
     },
     "metadata": {},
     "output_type": "display_data"
    }
   ],
   "source": [
    "연장여부 = ['연장O', '연장X']\n",
    "소요시간 = [46.5, 60.1]\n",
    "plt.bar(연장여부, 소요시간)\n",
    "width = 0.2\n",
    "plt.show()"
   ]
  },
  {
   "cell_type": "markdown",
   "id": "f64e068a",
   "metadata": {},
   "source": [
    "# 학습 습관, 학습 패턴\n",
    "## (가설1) 꾸준한 사람일수록 연장율이 높을 것이다. Why? 수업적게 들으면 아까우니까. (검증완> for문으로 변경)\n",
    "### 총 인원"
   ]
  },
  {
   "cell_type": "code",
   "execution_count": 10,
   "id": "b3fb4453",
   "metadata": {
    "ExecuteTime": {
     "end_time": "2024-01-02T00:26:28.499761Z",
     "start_time": "2024-01-02T00:26:28.484623Z"
    }
   },
   "outputs": [
    {
     "data": {
      "text/plain": [
       "6647"
      ]
     },
     "execution_count": 10,
     "metadata": {},
     "output_type": "execute_result"
    }
   ],
   "source": [
    "#꾸준 사람: 6647명\n",
    "꾸준_총인원 = user_data[user_data['monthly_active_learning_days'] > 8].count()['user_id']\n",
    "꾸준_총인원"
   ]
  },
  {
   "cell_type": "code",
   "execution_count": 11,
   "id": "5ac00fe9",
   "metadata": {
    "ExecuteTime": {
     "end_time": "2024-01-02T00:26:29.775138Z",
     "start_time": "2024-01-02T00:26:29.758371Z"
    },
    "scrolled": true
   },
   "outputs": [
    {
     "data": {
      "text/plain": [
       "3353"
      ]
     },
     "execution_count": 11,
     "metadata": {},
     "output_type": "execute_result"
    }
   ],
   "source": [
    "#주말 사람: 3353명\n",
    "주말_총인원 = user_data[user_data['monthly_active_learning_days'] <= 8].count()['user_id']\n",
    "주말_총인원"
   ]
  },
  {
   "cell_type": "markdown",
   "id": "42c2dc41",
   "metadata": {},
   "source": [
    "### for문"
   ]
  },
  {
   "cell_type": "code",
   "execution_count": 7,
   "id": "28146ea2",
   "metadata": {
    "ExecuteTime": {
     "end_time": "2024-01-02T00:26:14.367631Z",
     "start_time": "2024-01-02T00:26:14.231627Z"
    }
   },
   "outputs": [
    {
     "name": "stdout",
     "output_type": "stream",
     "text": [
      "{'꾸준0': 2525, '꾸준1': 4122, '주말0': 1276, '주말1': 2077}\n"
     ]
    }
   ],
   "source": [
    "빈도수 = ['꾸준', '주말']\n",
    "구독여부 = [0, 1]\n",
    "빈도수_구독여부 = {}\n",
    "for i in 빈도수:\n",
    "    for j in 구독여부:\n",
    "        if i == '꾸준':\n",
    "            i_j = user_data[(user_data['target'] == j) & (user_data['monthly_active_learning_days'] > 8)].count()['user_id']\n",
    "            빈도수_구독여부[i+str(j)] = i_j\n",
    "        else:\n",
    "            i_j = user_data[(user_data['target'] == j) & (user_data['monthly_active_learning_days'] <= 8)].count()['user_id']\n",
    "            빈도수_구독여부[i+str(j)] = i_j\n",
    "print(빈도수_구독여부)       "
   ]
  },
  {
   "cell_type": "code",
   "execution_count": 19,
   "id": "f5794aa4",
   "metadata": {
    "ExecuteTime": {
     "end_time": "2024-01-02T01:11:59.457633Z",
     "start_time": "2024-01-02T01:11:59.442931Z"
    }
   },
   "outputs": [
    {
     "data": {
      "text/plain": [
       "{'꾸준0': 38.0, '꾸준1': 62.0, '주말0': 38.1, '주말1': 61.9}"
      ]
     },
     "execution_count": 19,
     "metadata": {},
     "output_type": "execute_result"
    }
   ],
   "source": [
    "빈도수 = ['꾸준', '주말']\n",
    "구독여부 = [0, 1]\n",
    "빈도수_구독여부 = {'꾸준0': 2525, '꾸준1': 4122, '주말0': 1276, '주말1': 2077}\n",
    "빈도수_구독여부_비율 = {}\n",
    "\n",
    "for i in 빈도수:\n",
    "    for j in 구독여부:\n",
    "        if i == '꾸준':\n",
    "            i_j = ((빈도수_구독여부[i+str(j)]/꾸준_총인원)*100).round(1)\n",
    "            빈도수_구독여부_비율[i+str(j)] = i_j\n",
    "        else:\n",
    "            i_j = ((빈도수_구독여부[i+str(j)]/주말_총인원)*100).round(1)\n",
    "            빈도수_구독여부_비율[i+str(j)] = i_j\n",
    "\n",
    "빈도수_구독여부_비율"
   ]
  },
  {
   "cell_type": "markdown",
   "id": "2f10908b",
   "metadata": {},
   "source": [
    "### 차트 만들기"
   ]
  },
  {
   "cell_type": "code",
   "execution_count": 16,
   "id": "91e4f3a9",
   "metadata": {
    "ExecuteTime": {
     "end_time": "2024-01-02T01:04:47.823883Z",
     "start_time": "2024-01-02T01:04:47.320650Z"
    },
    "scrolled": true
   },
   "outputs": [
    {
     "data": {
      "image/png": "[encoded data removed]",
      "text/plain": [
       "<Figure size 640x480 with 1 Axes>"
      ]
     },
     "metadata": {},
     "output_type": "display_data"
    }
   ],
   "source": [
    "빈도수 = ['꾸준0', '꾸준1', '주말0', '주말1']\n",
    "values = [빈도수_구독여부_비율['꾸준0'], 빈도수_구독여부_비율['꾸준1'], 빈도수_구독여부_비율['주말0'], 빈도수_구독여부_비율['주말1']]\n",
    "plt.bar(빈도수, values)\n",
    "plt.show()"
   ]
  },
  {
   "cell_type": "code",
   "execution_count": 16,
   "id": "1884142c",
   "metadata": {
    "ExecuteTime": {
     "end_time": "2024-01-02T01:04:47.823883Z",
     "start_time": "2024-01-02T01:04:47.320650Z"
    },
    "scrolled": true
   },
   "outputs": [
    {
     "data": {
      "image/png": "[encoded data removed]",
      "text/plain": [
       "<Figure size 640x480 with 1 Axes>"
      ]
     },
     "metadata": {},
     "output_type": "display_data"
    }
   ],
   "source": [
    "빈도수1 = ['꾸준0', '주말0', ]\n",
    "values1 = [빈도수_구독여부_비율['꾸준0'], 빈도수_구독여부_비율['주말0']]\n",
    "plt.bar(빈도수1, values1)\n",
    "빈도수1 = ['꾸준1', '주말1']\n",
    "values1 = [빈도수_구독여부_비율['꾸준1'], 빈도수_구독여부_비율['주말1']]\n",
    "plt.bar(빈도수2, values2)\n",
    "\n",
    "plt.show()"
   ]
  },
  {
   "cell_type": "code",
   "execution_count": 82,
   "id": "1072409f",
   "metadata": {
    "ExecuteTime": {
     "end_time": "2024-01-02T02:46:28.700260Z",
     "start_time": "2024-01-02T02:46:28.694711Z"
    }
   },
   "outputs": [],
   "source": [
    "fruits = ['꾸준히수강', '주말에수강']\n",
    "counts = [0.38, 0.381]\n",
    "colors = ['red', 'blue']"
   ]
  },
  {
   "cell_type": "code",
   "execution_count": 83,
   "id": "5b9ed94d",
   "metadata": {
    "ExecuteTime": {
     "end_time": "2024-01-02T02:46:38.235185Z",
     "start_time": "2024-01-02T02:46:37.883324Z"
    }
   },
   "outputs": [
    {
     "data": {
      "image/png": "[encoded data removed]",
      "text/plain": [
       "<Figure size 640x480 with 1 Axes>"
      ]
     },
     "metadata": {},
     "output_type": "display_data"
    }
   ],
   "source": [
    "counts2 = [0.62, 0.619]\n",
    "colors2 = ['tomato', 'cornflowerblue']\n",
    "\n",
    "idx = np.arange(len(counts))\n",
    "\n",
    "width = 0.4\n",
    "\n",
    "plt.bar(idx, counts, width, color=colors)\n",
    "plt.bar(idx + width, counts2, width, color=colors2)\n",
    "\n",
    "plt.xticks(idx + width / 2, fruits)\n",
    "plt.show()"
   ]
  },
  {
   "cell_type": "code",
   "execution_count": 70,
   "id": "0d5be97a",
   "metadata": {
    "ExecuteTime": {
     "end_time": "2024-01-02T02:32:38.357268Z",
     "start_time": "2024-01-02T02:32:38.133222Z"
    }
   },
   "outputs": [
    {
     "data": {
      "image/png": "[encoded data removed]",
      "text/plain": [
       "<Figure size 640x480 with 1 Axes>"
      ]
     },
     "metadata": {},
     "output_type": "display_data"
    }
   ],
   "source": [
    "#{'꾸준0': 38.0, '꾸준1': 62.0, '주말0': 38.1, '주말1': 61.9}\n",
    "plt.axis('equal')\n",
    "ratio = [0.38, 0.62]\n",
    "grade = ['꾸준_연장X', '꾸준_연장O']\n",
    "plt.pie(ratio, labels=grade, autopct='%.1f%%')\n",
    "colors = ['skyblue', 'lightcoral']\n",
    "\n",
    "plt.show()"
   ]
  },
  {
   "cell_type": "markdown",
   "id": "6d99e6c7",
   "metadata": {},
   "source": [
    "# 선호도\n",
    "## 선호난이도 low > medium >high (분석완)"
   ]
  },
  {
   "cell_type": "code",
   "execution_count": 25,
   "id": "457c83b0",
   "metadata": {
    "ExecuteTime": {
     "end_time": "2023-12-31T11:53:16.604760Z",
     "start_time": "2023-12-31T11:53:16.594974Z"
    }
   },
   "outputs": [
    {
     "name": "stdout",
     "output_type": "stream",
     "text": [
      "preferred_difficulty_level\n",
      "High      2000\n",
      "Low       4992\n",
      "Medium    3008\n",
      "Name: user_id, dtype: int64\n"
     ]
    }
   ],
   "source": [
    "#전체\n",
    "타겟별_선호난이도1 = user_data.groupby('preferred_difficulty_level')['user_id'].count()\n",
    "print(타겟별_선호난이도1)"
   ]
  },
  {
   "cell_type": "code",
   "execution_count": 20,
   "id": "728a1844",
   "metadata": {
    "ExecuteTime": {
     "end_time": "2023-12-31T11:50:52.004837Z",
     "start_time": "2023-12-31T11:50:51.989337Z"
    }
   },
   "outputs": [
    {
     "name": "stdout",
     "output_type": "stream",
     "text": [
      "preferred_difficulty_level\n",
      "High       759\n",
      "Low       1945\n",
      "Medium    1097\n",
      "dtype: int64\n",
      "19.968429360694554\n",
      "51.170744540910285\n",
      "28.860826098395158\n"
     ]
    }
   ],
   "source": [
    "#타겟=0\n",
    "타겟별_선호난이도0 = user_data[user_data['target'] == 0].groupby('preferred_difficulty_level').size()\n",
    "print(타겟별_선호난이도0)\n",
    "\n",
    "for i in 타겟별_선호난이도0:\n",
    "    print(i/타겟별_인원수[0]*100)"
   ]
  },
  {
   "cell_type": "code",
   "execution_count": 21,
   "id": "517defa0",
   "metadata": {
    "ExecuteTime": {
     "end_time": "2023-12-31T11:51:40.658344Z",
     "start_time": "2023-12-31T11:51:40.645746Z"
    }
   },
   "outputs": [
    {
     "name": "stdout",
     "output_type": "stream",
     "text": [
      "preferred_difficulty_level\n",
      "High      1241\n",
      "Low       3047\n",
      "Medium    1911\n",
      "dtype: int64\n",
      "20.019357960961447\n",
      "49.15308920793676\n",
      "30.82755283110179\n"
     ]
    }
   ],
   "source": [
    "#타겟=1\n",
    "타겟별_선호난이도1 = user_data[user_data['target'] == 1].groupby('preferred_difficulty_level').size()\n",
    "print(타겟별_선호난이도1)\n",
    "\n",
    "for i in 타겟별_선호난이도1:\n",
    "    print(i/타겟별_인원수[1]*100)"
   ]
  },
  {
   "cell_type": "markdown",
   "id": "659c3077",
   "metadata": {},
   "source": [
    "## 선호 구독 종류: basic >premium (분석완)"
   ]
  },
  {
   "cell_type": "code",
   "execution_count": 26,
   "id": "2080f369",
   "metadata": {
    "ExecuteTime": {
     "end_time": "2023-12-31T11:54:35.523746Z",
     "start_time": "2023-12-31T11:54:35.509662Z"
    }
   },
   "outputs": [
    {
     "data": {
      "text/plain": [
       "subscription_type\n",
       "Basic      5979\n",
       "Premium    4021\n",
       "Name: user_id, dtype: int64"
      ]
     },
     "execution_count": 26,
     "metadata": {},
     "output_type": "execute_result"
    }
   ],
   "source": [
    "구독 = user_data.groupby('subscription_type')['user_id'].count()\n",
    "구독"
   ]
  },
  {
   "cell_type": "code",
   "execution_count": 31,
   "id": "649e7fd5",
   "metadata": {
    "ExecuteTime": {
     "end_time": "2023-12-31T12:00:06.944339Z",
     "start_time": "2023-12-31T12:00:06.932589Z"
    }
   },
   "outputs": [
    {
     "data": {
      "text/plain": [
       "<pandas.core.groupby.generic.DataFrameGroupBy object at 0x00000232B2C0D210>"
      ]
     },
     "execution_count": 31,
     "metadata": {},
     "output_type": "execute_result"
    }
   ],
   "source": [
    "user_data[user_data['subscription_type']=='Basic'].groupby('target')"
   ]
  },
  {
   "cell_type": "markdown",
   "id": "fd9bd350",
   "metadata": {},
   "source": [
    "### 2-1) 선호 나이도에 따라 basic/premium 어떤 것을 더 많이 구독하는가"
   ]
  },
  {
   "cell_type": "code",
   "execution_count": 31,
   "id": "6ca19625",
   "metadata": {
    "ExecuteTime": {
     "end_time": "2024-01-02T01:24:09.163226Z",
     "start_time": "2024-01-02T01:24:09.120342Z"
    },
    "scrolled": false
   },
   "outputs": [
    {
     "data": {
      "text/plain": [
       "{'BasicLow': 3009,\n",
       " 'BasicMedium': 1742,\n",
       " 'BasicHigh': 1228,\n",
       " 'PremiumLow': 1983,\n",
       " 'PremiumMedium': 1266,\n",
       " 'PremiumHigh': 772}"
      ]
     },
     "execution_count": 31,
     "metadata": {},
     "output_type": "execute_result"
    }
   ],
   "source": [
    "선호단계 = ['Low', 'Medium', 'High']\n",
    "구독종류 = ['Basic', 'Premium']\n",
    "선호단계_구독종류 = {}\n",
    "for i in 구독종류:\n",
    "    for j in 선호단계:\n",
    "        i_j = user_data[(user_data['subscription_type']==i) & (user_data['preferred_difficulty_level']==j)]['user_id'].count()\n",
    "        선호단계_구독종류[i+str(j)] = i_j\n",
    "선호단계_구독종류"
   ]
  },
  {
   "cell_type": "code",
   "execution_count": 55,
   "id": "d7e838df",
   "metadata": {
    "ExecuteTime": {
     "end_time": "2024-01-02T02:20:07.456158Z",
     "start_time": "2024-01-02T02:20:07.445295Z"
    }
   },
   "outputs": [
    {
     "data": {
      "text/plain": [
       "{'BasicLow': 50.326141495233315,\n",
       " 'BasicMedium': 29.135306907509616,\n",
       " 'BasicHigh': 20.538551597257065}"
      ]
     },
     "execution_count": 55,
     "metadata": {},
     "output_type": "execute_result"
    }
   ],
   "source": [
    "Basic_선호단계_구독종류 = {'BasicLow': 3009, 'BasicMedium': 1742, 'BasicHigh': 1228}\n",
    "Basic_선호단계_구독종류_비율 = {}\n",
    "Basic_총인원 = 5979\n",
    "\n",
    "for i in Basic_선호단계_구독종류:\n",
    "    비율 = (Basic_선호단계_구독종류[i]/Basic_총인원*100)\n",
    "    Basic_선호단계_구독종류_비율[i] = 비율\n",
    "\n",
    "Basic_선호단계_구독종류_비율"
   ]
  },
  {
   "cell_type": "code",
   "execution_count": 54,
   "id": "8f96d4a1",
   "metadata": {
    "ExecuteTime": {
     "end_time": "2024-01-02T02:18:50.120185Z",
     "start_time": "2024-01-02T02:18:49.864493Z"
    }
   },
   "outputs": [
    {
     "data": {
      "image/png": "[encoded data removed]",
      "text/plain": [
       "<Figure size 640x480 with 1 Axes>"
      ]
     },
     "metadata": {},
     "output_type": "display_data"
    }
   ],
   "source": [
    "#{'Basic_Low': 50.3, 'Basic_Medium': 29.1, 'Basic_High': 20.6}\n",
    "plt.axis('equal')\n",
    "ratio = [0.503, 0.291, 0.206]\n",
    "grade = ['Basic_Low', 'Basic_Medium', 'Basic_High']\n",
    "plt.pie(ratio, labels=grade, autopct='%.1f%%')\n",
    "#colors = ['skyblue', 'lightcoral']\n",
    "\n",
    "plt.show()"
   ]
  },
  {
   "cell_type": "code",
   "execution_count": 59,
   "id": "51a2dd64",
   "metadata": {
    "ExecuteTime": {
     "end_time": "2024-01-02T02:21:25.801872Z",
     "start_time": "2024-01-02T02:21:25.791076Z"
    }
   },
   "outputs": [
    {
     "data": {
      "text/plain": [
       "{'PremiumLow': 49.316090524745086,\n",
       " 'PremiumMedium': 31.484705297189752,\n",
       " 'PremiumHigh': 19.19920417806516}"
      ]
     },
     "execution_count": 59,
     "metadata": {},
     "output_type": "execute_result"
    }
   ],
   "source": [
    "Premium_선호단계_구독종류 = {'PremiumLow': 1983, 'PremiumMedium': 1266, 'PremiumHigh': 772}\n",
    "Premium_선호단계_구독종류_비율 = {}\n",
    "Premium_총인원 = 4021\n",
    "\n",
    "for i in Premium_선호단계_구독종류:\n",
    "    비율 = (Premium_선호단계_구독종류[i]/Premium_총인원*100)\n",
    "    Premium_선호단계_구독종류_비율[i] = 비율\n",
    "\n",
    "Premium_선호단계_구독종류_비율"
   ]
  },
  {
   "cell_type": "code",
   "execution_count": 60,
   "id": "7126efff",
   "metadata": {
    "ExecuteTime": {
     "end_time": "2024-01-02T02:22:42.550390Z",
     "start_time": "2024-01-02T02:22:42.336587Z"
    }
   },
   "outputs": [
    {
     "data": {
      "image/png": "[encoded data removed]",
      "text/plain": [
       "<Figure size 640x480 with 1 Axes>"
      ]
     },
     "metadata": {},
     "output_type": "display_data"
    }
   ],
   "source": [
    "#{'Premium_Low': 49.3, 'Premium_Medium': 31.5, 'Premium_High': 19.2}\n",
    "plt.axis('equal')\n",
    "ratio = [0.493, 0.315, 0.192]\n",
    "grade = ['Premium_Low', 'Premium_Medium', 'Premium_High']\n",
    "plt.pie(ratio, labels=grade, autopct='%.1f%%')\n",
    "#colors = ['skyblue', 'lightcoral']\n",
    "\n",
    "plt.show()"
   ]
  },
  {
   "cell_type": "markdown",
   "id": "ef7f54ac",
   "metadata": {},
   "source": [
    "## 한달에 수강하는 평균 세션 수"
   ]
  },
  {
   "cell_type": "code",
   "execution_count": 59,
   "id": "0f3cf048",
   "metadata": {
    "ExecuteTime": {
     "end_time": "2023-12-31T12:57:20.480723Z",
     "start_time": "2023-12-31T12:57:20.424446Z"
    }
   },
   "outputs": [],
   "source": [
    "user_data['평균코스수'] = user_data['total_completed_courses']/ user_data[\"subscription_duration\"]"
   ]
  },
  {
   "cell_type": "code",
   "execution_count": 60,
   "id": "8bf911dd",
   "metadata": {
    "ExecuteTime": {
     "end_time": "2023-12-31T12:57:22.641534Z",
     "start_time": "2023-12-31T12:57:22.603246Z"
    }
   },
   "outputs": [
    {
     "data": {
      "text/html": [
       "<div>\n",
       "<style scoped>\n",
       "    .dataframe tbody tr th:only-of-type {\n",
       "        vertical-align: middle;\n",
       "    }\n",
       "\n",
       "    .dataframe tbody tr th {\n",
       "        vertical-align: top;\n",
       "    }\n",
       "\n",
       "    .dataframe thead th {\n",
       "        text-align: right;\n",
       "    }\n",
       "</style>\n",
       "<table border=\"1\" class=\"dataframe\">\n",
       "  <thead>\n",
       "    <tr style=\"text-align: right;\">\n",
       "      <th></th>\n",
       "      <th>user_id</th>\n",
       "      <th>subscription_duration</th>\n",
       "      <th>recent_login_time</th>\n",
       "      <th>average_login_time</th>\n",
       "      <th>average_time_per_learning_session</th>\n",
       "      <th>monthly_active_learning_days</th>\n",
       "      <th>total_completed_courses</th>\n",
       "      <th>recent_learning_achievement</th>\n",
       "      <th>abandoned_learning_sessions</th>\n",
       "      <th>community_engagement_level</th>\n",
       "      <th>preferred_difficulty_level</th>\n",
       "      <th>subscription_type</th>\n",
       "      <th>customer_inquiry_history</th>\n",
       "      <th>payment_pattern</th>\n",
       "      <th>target</th>\n",
       "      <th>평균코스수</th>\n",
       "    </tr>\n",
       "  </thead>\n",
       "  <tbody>\n",
       "    <tr>\n",
       "      <th>0</th>\n",
       "      <td>b919c29d</td>\n",
       "      <td>13</td>\n",
       "      <td>14</td>\n",
       "      <td>14.946163</td>\n",
       "      <td>8.427187</td>\n",
       "      <td>18</td>\n",
       "      <td>16</td>\n",
       "      <td>68.360455</td>\n",
       "      <td>3</td>\n",
       "      <td>4</td>\n",
       "      <td>Low</td>\n",
       "      <td>Basic</td>\n",
       "      <td>4</td>\n",
       "      <td>5</td>\n",
       "      <td>0</td>\n",
       "      <td>1.230769</td>\n",
       "    </tr>\n",
       "    <tr>\n",
       "      <th>1</th>\n",
       "      <td>a0a60abb</td>\n",
       "      <td>16</td>\n",
       "      <td>18</td>\n",
       "      <td>18.453224</td>\n",
       "      <td>72.646087</td>\n",
       "      <td>16</td>\n",
       "      <td>13</td>\n",
       "      <td>97.567322</td>\n",
       "      <td>2</td>\n",
       "      <td>3</td>\n",
       "      <td>Medium</td>\n",
       "      <td>Basic</td>\n",
       "      <td>1</td>\n",
       "      <td>6</td>\n",
       "      <td>1</td>\n",
       "      <td>0.812500</td>\n",
       "    </tr>\n",
       "    <tr>\n",
       "      <th>2</th>\n",
       "      <td>b9f171ae</td>\n",
       "      <td>22</td>\n",
       "      <td>1</td>\n",
       "      <td>16.195228</td>\n",
       "      <td>21.774492</td>\n",
       "      <td>13</td>\n",
       "      <td>14</td>\n",
       "      <td>94.358763</td>\n",
       "      <td>3</td>\n",
       "      <td>4</td>\n",
       "      <td>Medium</td>\n",
       "      <td>Premium</td>\n",
       "      <td>0</td>\n",
       "      <td>7</td>\n",
       "      <td>1</td>\n",
       "      <td>0.636364</td>\n",
       "    </tr>\n",
       "    <tr>\n",
       "      <th>3</th>\n",
       "      <td>5dc0ba8b</td>\n",
       "      <td>1</td>\n",
       "      <td>19</td>\n",
       "      <td>17.628656</td>\n",
       "      <td>42.659066</td>\n",
       "      <td>19</td>\n",
       "      <td>18</td>\n",
       "      <td>70.153228</td>\n",
       "      <td>0</td>\n",
       "      <td>3</td>\n",
       "      <td>Low</td>\n",
       "      <td>Basic</td>\n",
       "      <td>1</td>\n",
       "      <td>0</td>\n",
       "      <td>1</td>\n",
       "      <td>18.000000</td>\n",
       "    </tr>\n",
       "    <tr>\n",
       "      <th>4</th>\n",
       "      <td>65c83654</td>\n",
       "      <td>4</td>\n",
       "      <td>5</td>\n",
       "      <td>21.390656</td>\n",
       "      <td>30.744287</td>\n",
       "      <td>19</td>\n",
       "      <td>10</td>\n",
       "      <td>81.917908</td>\n",
       "      <td>2</td>\n",
       "      <td>4</td>\n",
       "      <td>Medium</td>\n",
       "      <td>Basic</td>\n",
       "      <td>3</td>\n",
       "      <td>0</td>\n",
       "      <td>1</td>\n",
       "      <td>2.500000</td>\n",
       "    </tr>\n",
       "  </tbody>\n",
       "</table>\n",
       "</div>"
      ],
      "text/plain": [
       "    user_id  subscription_duration  recent_login_time  average_login_time  \\\n",
       "0  b919c29d                     13                 14           14.946163   \n",
       "1  a0a60abb                     16                 18           18.453224   \n",
       "2  b9f171ae                     22                  1           16.195228   \n",
       "3  5dc0ba8b                      1                 19           17.628656   \n",
       "4  65c83654                      4                  5           21.390656   \n",
       "\n",
       "   average_time_per_learning_session  monthly_active_learning_days  \\\n",
       "0                           8.427187                            18   \n",
       "1                          72.646087                            16   \n",
       "2                          21.774492                            13   \n",
       "3                          42.659066                            19   \n",
       "4                          30.744287                            19   \n",
       "\n",
       "   total_completed_courses  recent_learning_achievement  \\\n",
       "0                       16                    68.360455   \n",
       "1                       13                    97.567322   \n",
       "2                       14                    94.358763   \n",
       "3                       18                    70.153228   \n",
       "4                       10                    81.917908   \n",
       "\n",
       "   abandoned_learning_sessions  community_engagement_level  \\\n",
       "0                            3                           4   \n",
       "1                            2                           3   \n",
       "2                            3                           4   \n",
       "3                            0                           3   \n",
       "4                            2                           4   \n",
       "\n",
       "  preferred_difficulty_level subscription_type  customer_inquiry_history  \\\n",
       "0                        Low             Basic                         4   \n",
       "1                     Medium             Basic                         1   \n",
       "2                     Medium           Premium                         0   \n",
       "3                        Low             Basic                         1   \n",
       "4                     Medium             Basic                         3   \n",
       "\n",
       "   payment_pattern  target      평균코스수  \n",
       "0                5       0   1.230769  \n",
       "1                6       1   0.812500  \n",
       "2                7       1   0.636364  \n",
       "3                0       1  18.000000  \n",
       "4                0       1   2.500000  "
      ]
     },
     "execution_count": 60,
     "metadata": {},
     "output_type": "execute_result"
    }
   ],
   "source": [
    "user_data.head()"
   ]
  },
  {
   "cell_type": "code",
   "execution_count": 63,
   "id": "997e85fc",
   "metadata": {
    "ExecuteTime": {
     "end_time": "2023-12-31T12:58:40.496449Z",
     "start_time": "2023-12-31T12:58:40.485496Z"
    }
   },
   "outputs": [
    {
     "data": {
      "text/plain": [
       "2.0"
      ]
     },
     "execution_count": 63,
     "metadata": {},
     "output_type": "execute_result"
    }
   ],
   "source": [
    "(user_data['평균코스수'].sum()/10000).round(2)"
   ]
  },
  {
   "cell_type": "markdown",
   "id": "c6c1f703",
   "metadata": {},
   "source": [
    "### 구독1개월_평균코스수: 12.3개"
   ]
  },
  {
   "cell_type": "code",
   "execution_count": 88,
   "id": "c8ade06d",
   "metadata": {
    "ExecuteTime": {
     "end_time": "2023-12-31T13:39:42.845064Z",
     "start_time": "2023-12-31T13:39:42.750498Z"
    }
   },
   "outputs": [
    {
     "name": "stdout",
     "output_type": "stream",
     "text": [
      "12.3\n",
      "3.0\n",
      "1.4\n",
      "0.8\n",
      "0.5\n",
      "0.3\n",
      "0.3\n",
      "0.2\n",
      "0.2\n",
      "0.1\n"
     ]
    }
   ],
   "source": [
    "# 10개월\n",
    "for i in range(1, 11):\n",
    "    구독i개월_인원 = user_data[user_data['subscription_duration']==i].count()['user_id']\n",
    "    구독i개월_총코스수 = user_data[user_data['subscription_duration']==i].sum()['평균코스수']\n",
    "    구독i개월_평균코스수 = (구독i개월_총코스수/i/구독i개월_인원).round(1)\n",
    "    print(구독i개월_평균코스수)"
   ]
  },
  {
   "cell_type": "code",
   "execution_count": 72,
   "id": "e2fd166b",
   "metadata": {
    "ExecuteTime": {
     "end_time": "2023-12-31T13:30:26.802142Z",
     "start_time": "2023-12-31T13:30:26.787552Z"
    }
   },
   "outputs": [
    {
     "data": {
      "text/plain": [
       "436"
      ]
     },
     "execution_count": 72,
     "metadata": {},
     "output_type": "execute_result"
    }
   ],
   "source": [
    "#구독1개월_인원: 436명\n",
    "구독1개월_인원 = user_data[user_data['subscription_duration']==1].count()['user_id']\n",
    "구독1개월_인원"
   ]
  },
  {
   "cell_type": "code",
   "execution_count": 75,
   "id": "bc72a191",
   "metadata": {
    "ExecuteTime": {
     "end_time": "2023-12-31T13:31:17.889763Z",
     "start_time": "2023-12-31T13:31:17.877120Z"
    }
   },
   "outputs": [
    {
     "data": {
      "text/plain": [
       "5362.0"
      ]
     },
     "execution_count": 75,
     "metadata": {},
     "output_type": "execute_result"
    }
   ],
   "source": [
    "#구독1개월_총코스수: 5362\n",
    "구독1개월_총코스수 = user_data[user_data['subscription_duration']==1].sum()['평균코스수']\n",
    "구독1개월_총코스수"
   ]
  },
  {
   "cell_type": "code",
   "execution_count": 79,
   "id": "d0417a80",
   "metadata": {
    "ExecuteTime": {
     "end_time": "2023-12-31T13:31:53.686561Z",
     "start_time": "2023-12-31T13:31:53.678398Z"
    }
   },
   "outputs": [
    {
     "data": {
      "text/plain": [
       "12.3"
      ]
     },
     "execution_count": 79,
     "metadata": {},
     "output_type": "execute_result"
    }
   ],
   "source": [
    "#구독1개월_평균코스수: 12.3개\n",
    "구독1개월_평균코스수 = (구독1개월_총코스수/구독1개월_인원).round(1)\n",
    "구독1개월_평균코스수"
   ]
  },
  {
   "cell_type": "code",
   "execution_count": null,
   "id": "3c9abf42",
   "metadata": {},
   "outputs": [],
   "source": []
  }
 ],
 "metadata": {
  "kernelspec": {
   "display_name": "Python 3 (ipykernel)",
   "language": "python",
   "name": "python3"
  },
  "language_info": {
   "codemirror_mode": {
    "name": "ipython",
    "version": 3
   },
   "file_extension": ".py",
   "mimetype": "text/x-python",
   "name": "python",
   "nbconvert_exporter": "python",
   "pygments_lexer": "ipython3",
   "version": "3.11.5"
  },
  "toc": {
   "base_numbering": 1,
   "nav_menu": {},
   "number_sections": true,
   "sideBar": true,
   "skip_h1_title": false,
   "title_cell": "Table of Contents",
   "title_sidebar": "Contents",
   "toc_cell": false,
   "toc_position": {},
   "toc_section_display": true,
   "toc_window_display": false
  }
 },
 "nbformat": 4,
 "nbformat_minor": 5
}
