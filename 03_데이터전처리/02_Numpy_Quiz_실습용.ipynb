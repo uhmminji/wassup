{
 "cells": [
  {
   "cell_type": "markdown",
   "id": "6f17d151",
   "metadata": {},
   "source": [
    "### Quiz"
   ]
  },
  {
   "cell_type": "markdown",
   "id": "822f98fc",
   "metadata": {},
   "source": [
    "#### Q1. 다음과 같은 리스트를 이용하여 넘파이 배열을 만들고\n",
    "전체 갯수, 차원, 데이터형, 구조를 출력하여라\n",
    "```\n",
    "\n",
    "['강아지', '원숭이', '꽃', '45', '100']\n",
    "\n",
    "array(['강아지', '원숭이', '꽃', '45', '100'], dtype='<U3')\n",
    "차원 ? 1\n",
    "전체 갯수 ? 5\n",
    "데이터형 ? <U3\n",
    "전체 구조  ? (5,)\n",
    "```"
   ]
  },
  {
   "cell_type": "code",
   "execution_count": 2,
   "id": "57a5c6c5-660c-4f82-99a1-a578a300f8cd",
   "metadata": {
    "ExecuteTime": {
     "end_time": "2023-12-23T11:43:41.420249Z",
     "start_time": "2023-12-23T11:43:41.106467Z"
    }
   },
   "outputs": [],
   "source": [
    "import numpy as np"
   ]
  },
  {
   "cell_type": "code",
   "execution_count": 4,
   "id": "5695e423",
   "metadata": {
    "ExecuteTime": {
     "end_time": "2023-12-22T01:59:30.238123Z",
     "start_time": "2023-12-22T01:59:30.227213Z"
    }
   },
   "outputs": [
    {
     "data": {
      "text/plain": [
       "(array(['강아지', '원숭이', '꽃', '45', '100'], dtype='<U3'),\n",
       " 1,\n",
       " 5,\n",
       " dtype('<U3'),\n",
       " (5,))"
      ]
     },
     "execution_count": 4,
     "metadata": {},
     "output_type": "execute_result"
    }
   ],
   "source": [
    "#풀기\n",
    "arr = np.array(['강아지', '원숭이', '꽃', '45', '100'])\n",
    "arr, arr.ndim, arr.size, arr.dtype, arr.shape"
   ]
  },
  {
   "cell_type": "code",
   "execution_count": 28,
   "id": "949d9775",
   "metadata": {
    "ExecuteTime": {
     "end_time": "2023-12-18T05:19:51.264625Z",
     "start_time": "2023-12-18T05:19:51.250277Z"
    }
   },
   "outputs": [
    {
     "data": {
      "text/plain": [
       "(array(['강아지', '원숭이', '꽃', '45', '100'], dtype='<U3'),\n",
       " 1,\n",
       " 5,\n",
       " numpy.ndarray,\n",
       " dtype('<U3'),\n",
       " (5,))"
      ]
     },
     "execution_count": 28,
     "metadata": {},
     "output_type": "execute_result"
    }
   ],
   "source": [
    "#답\n",
    "a = np.array(['강아지', '원숭이', '꽃', '45', '100'])\n",
    "a, a.ndim, a.size, type(a), a.dtype, a.shape"
   ]
  },
  {
   "cell_type": "markdown",
   "id": "e1cef698",
   "metadata": {},
   "source": [
    "#### Q2. np.ones()를 이용하여\n",
    "2행 3열의 넘파이 배열을 생성하여라\n",
    "\n",
    "array([[1., 1., 1.],   \n",
    "       [1., 1., 1.]])"
   ]
  },
  {
   "cell_type": "code",
   "execution_count": 5,
   "id": "2d50cc59",
   "metadata": {
    "ExecuteTime": {
     "end_time": "2023-12-22T04:07:26.976005Z",
     "start_time": "2023-12-22T04:07:26.962830Z"
    }
   },
   "outputs": [
    {
     "data": {
      "text/plain": [
       "array([[1., 1., 1.],\n",
       "       [1., 1., 1.]])"
      ]
     },
     "execution_count": 5,
     "metadata": {},
     "output_type": "execute_result"
    }
   ],
   "source": [
    "#풀이\n",
    "np.ones((2, 3))"
   ]
  },
  {
   "cell_type": "markdown",
   "id": "42c9b79e",
   "metadata": {},
   "source": [
    "#### Q3. np.arange(), np.reshape()를 이용하여\n",
    "다음과 같은 넘파이 배열을 생성하여라\n",
    "```\n",
    "array([[51, 52, 53, 54, 55],\n",
    "       [56, 57, 58, 59, 60],\n",
    "       [61, 62, 63, 64, 65],\n",
    "       [66, 67, 68, 69, 70],\n",
    "       [71, 72, 73, 74, 75],\n",
    "       [76, 77, 78, 79, 80]])\n",
    "```"
   ]
  },
  {
   "cell_type": "code",
   "execution_count": 62,
   "id": "26730b8e",
   "metadata": {
    "ExecuteTime": {
     "end_time": "2023-12-22T06:03:01.523634Z",
     "start_time": "2023-12-22T06:03:01.516069Z"
    }
   },
   "outputs": [
    {
     "data": {
      "text/plain": [
       "array([[51, 52, 53, 54, 55],\n",
       "       [56, 57, 58, 59, 60],\n",
       "       [61, 62, 63, 64, 65],\n",
       "       [66, 67, 68, 69, 70],\n",
       "       [71, 72, 73, 74, 75],\n",
       "       [76, 77, 78, 79, 80]])"
      ]
     },
     "execution_count": 62,
     "metadata": {},
     "output_type": "execute_result"
    }
   ],
   "source": [
    "#풀이\n",
    "a = np.arange(51, 81).reshape(6, 5)\n",
    "a\n",
    "# reshape(-1, 5)"
   ]
  },
  {
   "cell_type": "markdown",
   "id": "6b0dd4b5",
   "metadata": {},
   "source": [
    "#### Q4. Q3의 넘파이 배열의 자료형을\n",
    "float로 변경하고 데이터형을 출력하여라\n",
    "```\n",
    "array([[51., 52., 53., 54., 55.],\n",
    "       [56., 57., 58., 59., 60.],\n",
    "       [61., 62., 63., 64., 65.],\n",
    "       [66., 67., 68., 69., 70.],\n",
    "       [71., 72., 73., 74., 75.],\n",
    "       [76., 77., 78., 79., 80.]])\n",
    "```\n",
    "-------------------------------------  \n",
    "\n",
    "dtype('float64')"
   ]
  },
  {
   "cell_type": "code",
   "execution_count": 63,
   "id": "a16db45a",
   "metadata": {
    "ExecuteTime": {
     "end_time": "2023-12-22T06:03:42.043119Z",
     "start_time": "2023-12-22T06:03:42.035990Z"
    }
   },
   "outputs": [
    {
     "data": {
      "text/plain": [
       "(array([[51., 52., 53., 54., 55.],\n",
       "        [56., 57., 58., 59., 60.],\n",
       "        [61., 62., 63., 64., 65.],\n",
       "        [66., 67., 68., 69., 70.],\n",
       "        [71., 72., 73., 74., 75.],\n",
       "        [76., 77., 78., 79., 80.]]),\n",
       " dtype('float64'))"
      ]
     },
     "execution_count": 63,
     "metadata": {},
     "output_type": "execute_result"
    }
   ],
   "source": [
    "#풀이\n",
    "a2 = a.astype(float)\n",
    "a2, a2.dtype"
   ]
  },
  {
   "cell_type": "markdown",
   "id": "906cf1f4",
   "metadata": {},
   "source": [
    "#### Q5. 다음과 같이 넘파이 배열을 생성한 후 1차원 배열로 변경하고 슬라이싱하여라 \n",
    "\n",
    "```\n",
    "array([[ 1,  4,  5,  6],\n",
    "       [56, 23, 45, 67],\n",
    "       [ 8,  4,  6, 10]])\n",
    "       \n",
    "array([ 1,  4,  5,  6, 56, 23, 45, 67,  8,  4,  6, 10])\n",
    "\n",
    "\n",
    "array([23, 45, 67,  8,  4,  6])\n",
    "```       "
   ]
  },
  {
   "cell_type": "code",
   "execution_count": 17,
   "id": "90724111-e79d-4da8-a30f-bfa15e788f7e",
   "metadata": {
    "ExecuteTime": {
     "end_time": "2023-12-22T04:33:10.744265Z",
     "start_time": "2023-12-22T04:33:10.733094Z"
    }
   },
   "outputs": [
    {
     "data": {
      "text/plain": [
       "(array([[13, 92, 20,  4],\n",
       "        [32, 34, 21, 53],\n",
       "        [10, 44, 97,  3]]),\n",
       " array([13, 92, 20,  4, 32, 34, 21, 53, 10, 44, 97,  3]),\n",
       " array([34, 21, 53, 10, 44, 97]))"
      ]
     },
     "execution_count": 17,
     "metadata": {},
     "output_type": "execute_result"
    }
   ],
   "source": [
    "#풀이\n",
    "a = np.array(np.random.randint(1,101, (3, 4)))\n",
    "b = a.flatten()\n",
    "c = b[5:-1]\n",
    "a, b, c"
   ]
  },
  {
   "cell_type": "markdown",
   "id": "46e67feb",
   "metadata": {},
   "source": [
    "#### Q6. 다음과 같은 넘파이 배열을 생성한 후 아이템을 교체하여라 \n",
    "\n",
    "```\n",
    "array([ 1,  2,  3,  4,  5,  6,  7,  8,  9, 10])\n",
    "\n",
    "array([10,  2,  3,  4,  5,  6,  7,  0,  0,  0])\n",
    "\n",
    "```"
   ]
  },
  {
   "cell_type": "code",
   "execution_count": 25,
   "id": "c7cd6fbe-380b-4e29-98f8-902b110a7207",
   "metadata": {
    "ExecuteTime": {
     "end_time": "2023-12-22T04:41:20.806128Z",
     "start_time": "2023-12-22T04:41:20.797280Z"
    }
   },
   "outputs": [
    {
     "data": {
      "text/plain": [
       "array([10,  2,  3,  4,  5,  6,  7,  0,  0,  0])"
      ]
     },
     "execution_count": 25,
     "metadata": {},
     "output_type": "execute_result"
    }
   ],
   "source": [
    "#풀이\n",
    "a = np.arange(1, 11)\n",
    "a[0]=10\n",
    "a[-3:] = 0\n",
    "a"
   ]
  },
  {
   "cell_type": "markdown",
   "id": "cf265b90",
   "metadata": {},
   "source": [
    "#### Q7. 2자리의 숫자로 구성된 넘파이 배열(5행5열)을 만들어라. 숫자는 난수를 이용한다. \n",
    "\n",
    "```\n",
    "[[63 85 71 67 15]\n",
    " [31 81 69 17 97]\n",
    " [25 41 33 23 39]\n",
    " [39 43 59 33 43]\n",
    " [23 51 65 91 23]]\n",
    "\n",
    "```"
   ]
  },
  {
   "cell_type": "code",
   "execution_count": 64,
   "id": "0520d5ad-2e3a-4aca-acc5-3f08a08845aa",
   "metadata": {
    "ExecuteTime": {
     "end_time": "2023-12-22T06:04:39.783647Z",
     "start_time": "2023-12-22T06:04:39.776222Z"
    }
   },
   "outputs": [
    {
     "data": {
      "text/plain": [
       "array([[82, 39, 90, 50, 56],\n",
       "       [13, 87, 24, 86, 55],\n",
       "       [39, 90, 89, 82, 87],\n",
       "       [71, 71, 51, 34, 12],\n",
       "       [12, 58, 97, 64, 53]])"
      ]
     },
     "execution_count": 64,
     "metadata": {},
     "output_type": "execute_result"
    }
   ],
   "source": [
    "#풀이\n",
    "np.random.randint(10, 99, 25).reshape(5, 5)"
   ]
  },
  {
   "cell_type": "markdown",
   "id": "5c5ccecf",
   "metadata": {},
   "source": [
    "#### Q8. 1~100 사이의 정수중 7개의 숫자를 무작위로 추출한 후 가장 큰값과 가장 작은 값을 출력하여라.\n",
    "[91, 65, 14, 66, 65, 98, 34]\n",
    "\n",
    "max = 98\n",
    "min = 14"
   ]
  },
  {
   "cell_type": "code",
   "execution_count": 67,
   "id": "54209548-9daf-4b72-aec9-c6c8c60c7c13",
   "metadata": {
    "ExecuteTime": {
     "end_time": "2023-12-22T06:06:08.870587Z",
     "start_time": "2023-12-22T06:06:08.864932Z"
    }
   },
   "outputs": [
    {
     "name": "stdout",
     "output_type": "stream",
     "text": [
      "max = 86, min = 9\n"
     ]
    }
   ],
   "source": [
    "#풀이\n",
    "a = np.random.randint(1, 100, 7)\n",
    "print(f'max = {np.max(a)}, min = {np.min(a)}')"
   ]
  },
  {
   "cell_type": "markdown",
   "id": "24dcaa28",
   "metadata": {},
   "source": [
    "#### Q9. 다음과 같은 3개의 넘파이 배열을 생성한 후 다음과 같이 합쳐라\n",
    "```\n",
    "[[1, 2, 3],\n",
    " [4, 5, 6],\n",
    " [7, 8, 9]]\n",
    "\n",
    "\n",
    "[[11, 12, 13],\n",
    " [14, 15, 16],\n",
    " [17, 18, 19]]\n",
    "\n",
    "\n",
    "[[21, 22, 23],\n",
    " [24, 25, 26],\n",
    " [27, 28, 29]]\n",
    "```\n",
    " ----------\n",
    "  Result1 \n",
    "```\n",
    " [[ 1,  2,  3, 11, 12, 13, 21, 22, 23],\n",
    "  [ 4,  5,  6, 14, 15, 16, 24, 25, 26],\n",
    "  [ 7,  8,  9, 17, 18, 19, 27, 28, 29]] \n",
    "```\n",
    "\n",
    "  ----------\n",
    "  Result2\n",
    "```\n",
    " [[ 1,  2,  3],\n",
    "  [ 4,  5,  6],\n",
    "  [ 7,  8,  9],\n",
    "  [11, 12, 13],\n",
    "  [14, 15, 16],\n",
    "  [17, 18, 19],\n",
    "  [21, 22, 23],\n",
    "  [24, 25, 26],\n",
    "  [27, 28, 29]]\n",
    "```"
   ]
  },
  {
   "cell_type": "code",
   "execution_count": 36,
   "id": "a0442d46-bff4-4b28-b7ff-65ddffd05292",
   "metadata": {
    "ExecuteTime": {
     "end_time": "2023-12-22T05:03:53.693191Z",
     "start_time": "2023-12-22T05:03:53.682386Z"
    }
   },
   "outputs": [
    {
     "data": {
      "text/plain": [
       "(array([[1, 2, 3],\n",
       "        [4, 5, 6],\n",
       "        [7, 8, 9]]),\n",
       " array([[11, 12, 13],\n",
       "        [14, 15, 16],\n",
       "        [17, 18, 19]]),\n",
       " array([[21, 22, 23],\n",
       "        [24, 25, 26],\n",
       "        [27, 28, 29]]))"
      ]
     },
     "execution_count": 36,
     "metadata": {},
     "output_type": "execute_result"
    }
   ],
   "source": [
    "#풀이\n",
    "a = np.arange(1, 10).reshape(3, 3)\n",
    "b = np.arange(11, 20).reshape(3, 3)\n",
    "c = np.arange(21, 30).reshape(3, 3)\n",
    "a, b, c"
   ]
  },
  {
   "cell_type": "code",
   "execution_count": 40,
   "id": "6cc6ee82",
   "metadata": {
    "ExecuteTime": {
     "end_time": "2023-12-22T05:06:08.024914Z",
     "start_time": "2023-12-22T05:06:08.018150Z"
    }
   },
   "outputs": [
    {
     "data": {
      "text/plain": [
       "array([[ 1,  2,  3, 11, 12, 13, 21, 22, 23],\n",
       "       [ 4,  5,  6, 14, 15, 16, 24, 25, 26],\n",
       "       [ 7,  8,  9, 17, 18, 19, 27, 28, 29]])"
      ]
     },
     "execution_count": 40,
     "metadata": {},
     "output_type": "execute_result"
    }
   ],
   "source": [
    "result1 = np.hstack((a, b, c))\n",
    "result1"
   ]
  },
  {
   "cell_type": "code",
   "execution_count": 39,
   "id": "4227b452",
   "metadata": {
    "ExecuteTime": {
     "end_time": "2023-12-22T05:05:47.003717Z",
     "start_time": "2023-12-22T05:05:46.996065Z"
    }
   },
   "outputs": [
    {
     "data": {
      "text/plain": [
       "array([[ 1,  2,  3],\n",
       "       [ 4,  5,  6],\n",
       "       [ 7,  8,  9],\n",
       "       [11, 12, 13],\n",
       "       [14, 15, 16],\n",
       "       [17, 18, 19],\n",
       "       [21, 22, 23],\n",
       "       [24, 25, 26],\n",
       "       [27, 28, 29]])"
      ]
     },
     "execution_count": 39,
     "metadata": {},
     "output_type": "execute_result"
    }
   ],
   "source": [
    "result2 = np.vstack((a, b, c))\n",
    "result2"
   ]
  },
  {
   "cell_type": "markdown",
   "id": "2d8638be",
   "metadata": {},
   "source": [
    "#### Q10. 아래와 같이 넘파이 배열을 생성한 후 50보다 큰 숫자만 필터링하여라. \n",
    "\n",
    "```\n",
    "arr = np.random.choice(100, 40, replace=False)\n",
    "\n",
    "Before => \n",
    "\n",
    "[40, 63,  8,  2, 35, 84, 72, 48, 78, 86, 87, 58,  0, 49, 14, 55, 11,\n",
    "       73, 39, 26, 75, 27, 99, 46, 25, 22, 34, 83, 24, 47, 31, 57, 62, 19,\n",
    "       36, 15, 17, 10, 98, 90]\n",
    "\n",
    "After =>\n",
    "\n",
    "[63, 84, 72, 78, 86, 87, 58, 55, 73, 75, 99, 83, 57, 62, 98, 90]\n",
    "\n",
    "```"
   ]
  },
  {
   "cell_type": "code",
   "execution_count": 46,
   "id": "03c22039-7e21-48fd-9cba-bec220da6ee2",
   "metadata": {
    "ExecuteTime": {
     "end_time": "2023-12-22T05:23:04.388733Z",
     "start_time": "2023-12-22T05:23:04.380374Z"
    }
   },
   "outputs": [
    {
     "data": {
      "text/plain": [
       "(array([23,  4, 85, 15, 19, 77, 70, 36, 56, 67, 58, 63, 66, 29, 81, 48,  2,\n",
       "        99, 17, 55, 92, 75, 83, 47, 37, 49, 21,  3, 20, 73, 86, 95, 87, 25,\n",
       "        51, 41, 69, 80, 33, 76]),\n",
       " array([85, 77, 70, 56, 67, 58, 63, 66, 81, 99, 55, 92, 75, 83, 73, 86, 95,\n",
       "        87, 51, 69, 80, 76]))"
      ]
     },
     "execution_count": 46,
     "metadata": {},
     "output_type": "execute_result"
    }
   ],
   "source": [
    "# 중복 없이 100까지 40개 추출, replace=True이면 복원 추출 (중복 허용)\n",
    "arr = np.random.choice(100, 40, replace=False)\n",
    "arr, arr[arr > 50]"
   ]
  },
  {
   "cell_type": "markdown",
   "id": "249ef810",
   "metadata": {},
   "source": [
    "#### Quiz 11\n",
    "```\n",
    "kor = np.array( [60,55,70,30,20,90])\n",
    "1. 국어점수가 가장큰값을 구하여라\n",
    "2. 국어점수가 80점이상인 값을 구하여라\n",
    "3. 국어 점수가 50점이상 80점 이하인 값을 구하여라\n",
    "4. 국어점수의 평균을 구하여라\n",
    "5. 국어점수의 총합을 구하여라.\n",
    "6. 국어점수가 40점이하인 데이터를 삭제하여라\n",
    "7. 국어점수가 50점이상인 데이터에 가산점 10%를 부여하여라\n",
    "8. 국어점수 top 3를 구하여라\n",
    "9. 국어점수가 70점이상이면 '합격' , 아니면 '불합격으로' 아래와 같이 출력하시요\n",
    "\n",
    "60 '불합격'\n",
    "55 '불합격'\n",
    "```"
   ]
  },
  {
   "cell_type": "code",
   "execution_count": 3,
   "id": "306a7066-dc57-4935-bfcb-56c3c1bf3080",
   "metadata": {
    "ExecuteTime": {
     "end_time": "2023-12-23T11:43:48.137552Z",
     "start_time": "2023-12-23T11:43:48.116606Z"
    }
   },
   "outputs": [
    {
     "data": {
      "text/plain": [
       "array([60, 55, 70, 30, 20, 90])"
      ]
     },
     "execution_count": 3,
     "metadata": {},
     "output_type": "execute_result"
    }
   ],
   "source": [
    "kor = np.array( [60,55,70,30,20,90])\n",
    "kor"
   ]
  },
  {
   "cell_type": "code",
   "execution_count": 55,
   "id": "70f1d26d",
   "metadata": {
    "ExecuteTime": {
     "end_time": "2023-12-22T05:27:07.593525Z",
     "start_time": "2023-12-22T05:27:07.586339Z"
    }
   },
   "outputs": [
    {
     "data": {
      "text/plain": [
       "90"
      ]
     },
     "execution_count": 55,
     "metadata": {},
     "output_type": "execute_result"
    }
   ],
   "source": [
    "#1. 국어점수가 가장큰값을 구하여라\n",
    "np.max(kor)"
   ]
  },
  {
   "cell_type": "code",
   "execution_count": 50,
   "id": "98d06bff",
   "metadata": {
    "ExecuteTime": {
     "end_time": "2023-12-22T05:24:18.276726Z",
     "start_time": "2023-12-22T05:24:18.269745Z"
    }
   },
   "outputs": [
    {
     "data": {
      "text/plain": [
       "array([90])"
      ]
     },
     "execution_count": 50,
     "metadata": {},
     "output_type": "execute_result"
    }
   ],
   "source": [
    "#2. 국어점수가 80점이상인 값을 구하여라\n",
    "kor[kor>=80]"
   ]
  },
  {
   "cell_type": "code",
   "execution_count": 54,
   "id": "b42d84a5",
   "metadata": {
    "ExecuteTime": {
     "end_time": "2023-12-22T05:26:15.205381Z",
     "start_time": "2023-12-22T05:26:15.198152Z"
    }
   },
   "outputs": [
    {
     "data": {
      "text/plain": [
       "array([60, 55, 70])"
      ]
     },
     "execution_count": 54,
     "metadata": {},
     "output_type": "execute_result"
    }
   ],
   "source": [
    "#3. 국어 점수가 50점이상 80점 이하인 값을 구하여라\n",
    "kor[(kor>=50) & (kor<=80)]"
   ]
  },
  {
   "cell_type": "code",
   "execution_count": 56,
   "id": "fb600fc5",
   "metadata": {
    "ExecuteTime": {
     "end_time": "2023-12-22T05:27:13.086448Z",
     "start_time": "2023-12-22T05:27:13.078959Z"
    }
   },
   "outputs": [
    {
     "data": {
      "text/plain": [
       "54.166666666666664"
      ]
     },
     "execution_count": 56,
     "metadata": {},
     "output_type": "execute_result"
    }
   ],
   "source": [
    "#4. 국어점수의 평균을 구하여라\n",
    "np.mean(kor)"
   ]
  },
  {
   "cell_type": "code",
   "execution_count": 57,
   "id": "9f80ab22",
   "metadata": {
    "ExecuteTime": {
     "end_time": "2023-12-22T05:27:44.888139Z",
     "start_time": "2023-12-22T05:27:44.881214Z"
    }
   },
   "outputs": [
    {
     "data": {
      "text/plain": [
       "325"
      ]
     },
     "execution_count": 57,
     "metadata": {},
     "output_type": "execute_result"
    }
   ],
   "source": [
    "#5. 국어점수의 총합을 구하여라.\n",
    "np.sum(kor)"
   ]
  },
  {
   "cell_type": "code",
   "execution_count": 69,
   "id": "4310e2e4",
   "metadata": {
    "ExecuteTime": {
     "end_time": "2023-12-22T07:00:31.508146Z",
     "start_time": "2023-12-22T07:00:31.497315Z"
    }
   },
   "outputs": [
    {
     "name": "stdout",
     "output_type": "stream",
     "text": [
      "[60 55 70 90]\n",
      "[60 55 70 90]\n"
     ]
    }
   ],
   "source": [
    "#6. 국어점수가 40점이하인 데이터를 삭제하여라\n",
    "kor_ = kor.copy()\n",
    "print(kor_[kor_ > 40]) # 40점 초과인 것들만 남기기\n",
    "print(np.delete(kor_, np.where(kor_<=40))) # np.delete 사용하기"
   ]
  },
  {
   "cell_type": "code",
   "execution_count": 10,
   "id": "60a670e6",
   "metadata": {
    "ExecuteTime": {
     "end_time": "2023-12-23T11:47:04.125118Z",
     "start_time": "2023-12-23T11:47:04.111867Z"
    }
   },
   "outputs": [
    {
     "name": "stdout",
     "output_type": "stream",
     "text": [
      "[66.  60.5 77.  99. ]\n"
     ]
    },
    {
     "data": {
      "text/plain": [
       "array([66. , 60.5, 77. , 30. , 20. , 99. ])"
      ]
     },
     "execution_count": 10,
     "metadata": {},
     "output_type": "execute_result"
    }
   ],
   "source": [
    "#7. 국어점수가 50점이상인 데이터에 가산점 10%를 부여하여라\n",
    "np.where(kor>=50, kor*1.1, kor)"
   ]
  },
  {
   "cell_type": "code",
   "execution_count": 14,
   "id": "ffc733e2",
   "metadata": {
    "ExecuteTime": {
     "end_time": "2023-12-23T11:52:03.358378Z",
     "start_time": "2023-12-23T11:52:03.350529Z"
    }
   },
   "outputs": [
    {
     "data": {
      "text/plain": [
       "array([60, 70, 90])"
      ]
     },
     "execution_count": 14,
     "metadata": {},
     "output_type": "execute_result"
    }
   ],
   "source": [
    "#8. 국어점수 top 3를 구하여라\n",
    "np.sort(kor)[-3:]"
   ]
  },
  {
   "cell_type": "code",
   "execution_count": 19,
   "id": "33c10c34",
   "metadata": {
    "ExecuteTime": {
     "end_time": "2023-12-23T11:54:39.459792Z",
     "start_time": "2023-12-23T11:54:39.452598Z"
    }
   },
   "outputs": [
    {
     "name": "stdout",
     "output_type": "stream",
     "text": [
      "60 합격\n",
      "55 합격\n",
      "70 합격\n",
      "30 합격\n",
      "20 합격\n",
      "90 합격\n",
      "['불합격' '불합격' '합격' '불합격' '불합격' '합격']\n"
     ]
    }
   ],
   "source": [
    "#9. 국어점수가 70점이상이면 '합격' , 아니면 '불합격으로' 아래와 같이 출력하시요\n",
    "# 60 '불합격' 55 '불합격'\n",
    "\n",
    "for a in kor:\n",
    "    if np.where(kor>=70):\n",
    "        print(a, '합격')\n",
    "    else:\n",
    "        print(a, '불합격')\n",
    "\n",
    "print(np.where(kor >=70,\"합격\", \"불합격\"))"
   ]
  },
  {
   "cell_type": "code",
   "execution_count": null,
   "id": "d07c690d",
   "metadata": {},
   "outputs": [],
   "source": []
  }
 ],
 "metadata": {
  "kernelspec": {
   "display_name": "Python 3 (ipykernel)",
   "language": "python",
   "name": "python3"
  },
  "language_info": {
   "codemirror_mode": {
    "name": "ipython",
    "version": 3
   },
   "file_extension": ".py",
   "mimetype": "text/x-python",
   "name": "python",
   "nbconvert_exporter": "python",
   "pygments_lexer": "ipython3",
   "version": "3.11.5"
  },
  "toc": {
   "base_numbering": 1,
   "nav_menu": {},
   "number_sections": true,
   "sideBar": true,
   "skip_h1_title": false,
   "title_cell": "Table of Contents",
   "title_sidebar": "Contents",
   "toc_cell": false,
   "toc_position": {
    "height": "calc(100% - 180px)",
    "left": "10px",
    "top": "150px",
    "width": "165px"
   },
   "toc_section_display": true,
   "toc_window_display": false
  },
  "varInspector": {
   "cols": {
    "lenName": 16,
    "lenType": 16,
    "lenVar": 40
   },
   "kernels_config": {
    "python": {
     "delete_cmd_postfix": "",
     "delete_cmd_prefix": "del ",
     "library": "var_list.py",
     "varRefreshCmd": "print(var_dic_list())"
    },
    "r": {
     "delete_cmd_postfix": ") ",
     "delete_cmd_prefix": "rm(",
     "library": "var_list.r",
     "varRefreshCmd": "cat(var_dic_list()) "
    }
   },
   "types_to_exclude": [
    "module",
    "function",
    "builtin_function_or_method",
    "instance",
    "_Feature"
   ],
   "window_display": false
  }
 },
 "nbformat": 4,
 "nbformat_minor": 5
}
