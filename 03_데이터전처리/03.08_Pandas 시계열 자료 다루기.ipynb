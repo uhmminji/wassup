{
 "cells": [
  {
   "cell_type": "code",
   "execution_count": 1,
   "id": "d8ec6dbc",
   "metadata": {
    "ExecuteTime": {
     "end_time": "2023-12-22T06:08:30.915944Z",
     "start_time": "2023-12-22T06:08:30.906458Z"
    }
   },
   "outputs": [],
   "source": [
    "from datetime import datetime"
   ]
  },
  {
   "cell_type": "code",
   "execution_count": 3,
   "id": "36c80da3",
   "metadata": {
    "ExecuteTime": {
     "end_time": "2023-12-22T06:08:58.698526Z",
     "start_time": "2023-12-22T06:08:58.685402Z"
    }
   },
   "outputs": [
    {
     "data": {
      "text/plain": [
       "datetime.datetime(2023, 12, 22, 15, 30, 45)"
      ]
     },
     "execution_count": 3,
     "metadata": {},
     "output_type": "execute_result"
    }
   ],
   "source": [
    "dt = datetime(2023, 12, 22, 15, 30, 45)\n",
    "dt"
   ]
  },
  {
   "cell_type": "code",
   "execution_count": 4,
   "id": "16a20d20",
   "metadata": {
    "ExecuteTime": {
     "end_time": "2023-12-22T06:09:07.946364Z",
     "start_time": "2023-12-22T06:09:07.939484Z"
    }
   },
   "outputs": [
    {
     "name": "stdout",
     "output_type": "stream",
     "text": [
      "2023 12 22 15 30 45\n"
     ]
    }
   ],
   "source": [
    "print(dt.year, dt.month, dt.day, dt.hour, dt.minute, dt.second)"
   ]
  },
  {
   "cell_type": "code",
   "execution_count": 5,
   "id": "c159d0f7",
   "metadata": {
    "ExecuteTime": {
     "end_time": "2023-12-22T06:09:11.940367Z",
     "start_time": "2023-12-22T06:09:11.933605Z"
    }
   },
   "outputs": [
    {
     "data": {
      "text/plain": [
       "datetime.datetime(2023, 12, 22, 15, 9, 11, 936597)"
      ]
     },
     "execution_count": 5,
     "metadata": {},
     "output_type": "execute_result"
    }
   ],
   "source": [
    "cur = datetime.now()\n",
    "cur"
   ]
  },
  {
   "cell_type": "markdown",
   "id": "6c40b474",
   "metadata": {},
   "source": [
    "# DatetimeIndex 인덱스\n",
    "시계열 자료는 인덱스가 날짜 혹은 시간인 데이터를 말한다.\n",
    "판다스에서 시계열 자료를 생성하려면 인덱스를 DatetimeIndex 자료형으로 만들어야 한다.\n",
    "DatetimeIndex는 특정한 순간에 기록된 타임스탬프(timestamp) 형식의 시계열 자료를 다루기 위한 인덱스이다.\n",
    "타임스탬프 인덱스의 라벨값이 반드시 일정한 간격일 필요는 없다.\n",
    "\n",
    "DatetimeIndex 인덱스는 다음과 같은 보조 함수를 사용하여 생성한다.\n",
    "\n",
    "pd.to_datetime 함수\n",
    "pd.date_range 함수\n",
    "{margin}\n",
    "to_datetime\n",
    "pd.to_datetime 함수를 쓰면 날짜/시간을 나타내는 문자열을 자동으로 datetime 자료형으로 바꾼 후 DatetimeIndex 자료형 인덱스를 생성한다. https://docs.python.org/3/library/datetime.html#strftime-and-strptime-behavior"
   ]
  },
  {
   "cell_type": "code",
   "execution_count": 9,
   "id": "dd7e2428",
   "metadata": {
    "ExecuteTime": {
     "end_time": "2023-12-22T08:34:30.791058Z",
     "start_time": "2023-12-22T08:34:30.786169Z"
    }
   },
   "outputs": [],
   "source": [
    "import pandas as pd"
   ]
  },
  {
   "cell_type": "code",
   "execution_count": 7,
   "id": "c4e94085",
   "metadata": {
    "ExecuteTime": {
     "end_time": "2023-12-22T06:10:48.310184Z",
     "start_time": "2023-12-22T06:10:48.293923Z"
    },
    "scrolled": true
   },
   "outputs": [
    {
     "data": {
      "text/plain": [
       "DatetimeIndex(['2023-01-01', '2023-01-04', '2023-01-05', '2023-01-06'], dtype='datetime64[ns]', freq=None)"
      ]
     },
     "execution_count": 7,
     "metadata": {},
     "output_type": "execute_result"
    }
   ],
   "source": [
    "# format 생략해도 자동으로 잡히긴하지만 포맷을 지정하는게 좋음\n",
    "date_str = [\"2023, 1, 1\", \"2023, 1, 4\", \"2023, 1, 5\", \"2023, 1, 6\"]\n",
    "idx = pd.to_datetime(date_str) \n",
    "idx"
   ]
  },
  {
   "cell_type": "code",
   "execution_count": 12,
   "id": "8d56bd37",
   "metadata": {
    "ExecuteTime": {
     "end_time": "2023-12-22T08:35:01.093899Z",
     "start_time": "2023-12-22T08:35:01.088757Z"
    }
   },
   "outputs": [],
   "source": [
    "import numpy as np"
   ]
  },
  {
   "cell_type": "code",
   "execution_count": 10,
   "id": "483d0586",
   "metadata": {
    "ExecuteTime": {
     "end_time": "2023-12-22T06:12:32.313260Z",
     "start_time": "2023-12-22T06:12:32.302963Z"
    }
   },
   "outputs": [
    {
     "data": {
      "text/plain": [
       "2023-01-01    1.764052\n",
       "2023-01-04    0.400157\n",
       "2023-01-05    0.978738\n",
       "2023-01-06    2.240893\n",
       "dtype: float64"
      ]
     },
     "execution_count": 10,
     "metadata": {},
     "output_type": "execute_result"
    }
   ],
   "source": [
    "np.random.seed(0)\n",
    "s = pd.Series(np.random.randn(4), index=idx)\n",
    "s"
   ]
  },
  {
   "cell_type": "code",
   "execution_count": 11,
   "id": "c9f19cd8",
   "metadata": {
    "ExecuteTime": {
     "end_time": "2023-12-22T06:13:26.906490Z",
     "start_time": "2023-12-22T06:13:26.886018Z"
    }
   },
   "outputs": [
    {
     "name": "stdout",
     "output_type": "stream",
     "text": [
      "<class 'pandas.core.series.Series'>\n",
      "DatetimeIndex: 4 entries, 2023-01-01 to 2023-01-06\n",
      "Series name: None\n",
      "Non-Null Count  Dtype  \n",
      "--------------  -----  \n",
      "4 non-null      float64\n",
      "dtypes: float64(1)\n",
      "memory usage: 64.0 bytes\n"
     ]
    }
   ],
   "source": [
    "s.info()"
   ]
  },
  {
   "cell_type": "code",
   "execution_count": 12,
   "id": "6049f952",
   "metadata": {
    "ExecuteTime": {
     "end_time": "2023-12-22T06:14:08.935918Z",
     "start_time": "2023-12-22T06:14:08.930112Z"
    }
   },
   "outputs": [],
   "source": [
    "data ={'2023년11월19일':[10,20,30],\n",
    "       '2023년11월20일':[40,50,60],\n",
    "       '2023년11월21일':[70,80,90],\n",
    "       '2023년11월22일':[100,120,130]}"
   ]
  },
  {
   "cell_type": "code",
   "execution_count": 13,
   "id": "9e25bbbc",
   "metadata": {
    "ExecuteTime": {
     "end_time": "2023-12-22T06:14:15.835229Z",
     "start_time": "2023-12-22T06:14:15.818342Z"
    }
   },
   "outputs": [
    {
     "data": {
      "text/html": [
       "<div>\n",
       "<style scoped>\n",
       "    .dataframe tbody tr th:only-of-type {\n",
       "        vertical-align: middle;\n",
       "    }\n",
       "\n",
       "    .dataframe tbody tr th {\n",
       "        vertical-align: top;\n",
       "    }\n",
       "\n",
       "    .dataframe thead th {\n",
       "        text-align: right;\n",
       "    }\n",
       "</style>\n",
       "<table border=\"1\" class=\"dataframe\">\n",
       "  <thead>\n",
       "    <tr style=\"text-align: right;\">\n",
       "      <th></th>\n",
       "      <th>2023년11월19일</th>\n",
       "      <th>2023년11월20일</th>\n",
       "      <th>2023년11월21일</th>\n",
       "      <th>2023년11월22일</th>\n",
       "    </tr>\n",
       "  </thead>\n",
       "  <tbody>\n",
       "    <tr>\n",
       "      <th>0</th>\n",
       "      <td>10</td>\n",
       "      <td>40</td>\n",
       "      <td>70</td>\n",
       "      <td>100</td>\n",
       "    </tr>\n",
       "    <tr>\n",
       "      <th>1</th>\n",
       "      <td>20</td>\n",
       "      <td>50</td>\n",
       "      <td>80</td>\n",
       "      <td>120</td>\n",
       "    </tr>\n",
       "    <tr>\n",
       "      <th>2</th>\n",
       "      <td>30</td>\n",
       "      <td>60</td>\n",
       "      <td>90</td>\n",
       "      <td>130</td>\n",
       "    </tr>\n",
       "  </tbody>\n",
       "</table>\n",
       "</div>"
      ],
      "text/plain": [
       "   2023년11월19일  2023년11월20일  2023년11월21일  2023년11월22일\n",
       "0           10           40           70          100\n",
       "1           20           50           80          120\n",
       "2           30           60           90          130"
      ]
     },
     "execution_count": 13,
     "metadata": {},
     "output_type": "execute_result"
    }
   ],
   "source": [
    "df = pd.DataFrame(data)\n",
    "df "
   ]
  },
  {
   "cell_type": "code",
   "execution_count": 14,
   "id": "5d2b3e04",
   "metadata": {
    "ExecuteTime": {
     "end_time": "2023-12-22T06:14:39.471582Z",
     "start_time": "2023-12-22T06:14:39.459119Z"
    }
   },
   "outputs": [
    {
     "data": {
      "text/html": [
       "<div>\n",
       "<style scoped>\n",
       "    .dataframe tbody tr th:only-of-type {\n",
       "        vertical-align: middle;\n",
       "    }\n",
       "\n",
       "    .dataframe tbody tr th {\n",
       "        vertical-align: top;\n",
       "    }\n",
       "\n",
       "    .dataframe thead th {\n",
       "        text-align: right;\n",
       "    }\n",
       "</style>\n",
       "<table border=\"1\" class=\"dataframe\">\n",
       "  <thead>\n",
       "    <tr style=\"text-align: right;\">\n",
       "      <th></th>\n",
       "      <th>0</th>\n",
       "      <th>1</th>\n",
       "      <th>2</th>\n",
       "    </tr>\n",
       "  </thead>\n",
       "  <tbody>\n",
       "    <tr>\n",
       "      <th>2023년11월19일</th>\n",
       "      <td>10</td>\n",
       "      <td>20</td>\n",
       "      <td>30</td>\n",
       "    </tr>\n",
       "    <tr>\n",
       "      <th>2023년11월20일</th>\n",
       "      <td>40</td>\n",
       "      <td>50</td>\n",
       "      <td>60</td>\n",
       "    </tr>\n",
       "    <tr>\n",
       "      <th>2023년11월21일</th>\n",
       "      <td>70</td>\n",
       "      <td>80</td>\n",
       "      <td>90</td>\n",
       "    </tr>\n",
       "    <tr>\n",
       "      <th>2023년11월22일</th>\n",
       "      <td>100</td>\n",
       "      <td>120</td>\n",
       "      <td>130</td>\n",
       "    </tr>\n",
       "  </tbody>\n",
       "</table>\n",
       "</div>"
      ],
      "text/plain": [
       "               0    1    2\n",
       "2023년11월19일   10   20   30\n",
       "2023년11월20일   40   50   60\n",
       "2023년11월21일   70   80   90\n",
       "2023년11월22일  100  120  130"
      ]
     },
     "execution_count": 14,
     "metadata": {},
     "output_type": "execute_result"
    }
   ],
   "source": [
    "df = df.T\n",
    "df"
   ]
  },
  {
   "cell_type": "code",
   "execution_count": 15,
   "id": "5f128fd0",
   "metadata": {
    "ExecuteTime": {
     "end_time": "2023-12-22T06:14:44.429977Z",
     "start_time": "2023-12-22T06:14:44.422727Z"
    }
   },
   "outputs": [
    {
     "data": {
      "text/plain": [
       "(Index(['2023년11월19일', '2023년11월20일', '2023년11월21일', '2023년11월22일'], dtype='object'),\n",
       " str)"
      ]
     },
     "execution_count": 15,
     "metadata": {},
     "output_type": "execute_result"
    }
   ],
   "source": [
    "# object형은 시계열 데이터 아님. 시계열 연산 불가\n",
    "df.index, type(df.index[0])"
   ]
  },
  {
   "cell_type": "code",
   "execution_count": 16,
   "id": "0f3d56fc",
   "metadata": {
    "ExecuteTime": {
     "end_time": "2023-12-22T06:15:39.496274Z",
     "start_time": "2023-12-22T06:15:39.485644Z"
    }
   },
   "outputs": [
    {
     "data": {
      "text/plain": [
       "DatetimeIndex(['2023-11-19', '2023-11-20', '2023-11-21', '2023-11-22'], dtype='datetime64[ns]', freq=None)"
      ]
     },
     "execution_count": 16,
     "metadata": {},
     "output_type": "execute_result"
    }
   ],
   "source": [
    "# 인덱스만 date타입으로 변경 \n",
    "df.index  = pd.to_datetime(df.index, format='%Y년%m월%d일')  \n",
    "# df.index  = pd.to_datetime(df.index, format='mixed') # 가능하긴 한데 권장안함\n",
    "df.index"
   ]
  },
  {
   "cell_type": "markdown",
   "id": "df128ce8",
   "metadata": {},
   "source": [
    "date_range\n",
    "pd.date_range 함수를 쓰면 모든 날짜/시간을 일일히 입력할 필요없이 시작일과 종료일 또는 시작일과 기간을 입력하면 범위 내의 인덱스를 생성해 준다."
   ]
  },
  {
   "cell_type": "code",
   "execution_count": 18,
   "id": "4419d7c8",
   "metadata": {
    "ExecuteTime": {
     "end_time": "2023-12-22T06:19:18.363437Z",
     "start_time": "2023-12-22T06:19:18.354429Z"
    }
   },
   "outputs": [
    {
     "data": {
      "text/plain": [
       "DatetimeIndex(['2023-11-01', '2023-11-02', '2023-11-03', '2023-11-04',\n",
       "               '2023-11-05', '2023-11-06', '2023-11-07', '2023-11-08',\n",
       "               '2023-11-09', '2023-11-10', '2023-11-11', '2023-11-12',\n",
       "               '2023-11-13', '2023-11-14', '2023-11-15', '2023-11-16',\n",
       "               '2023-11-17', '2023-11-18', '2023-11-19', '2023-11-20',\n",
       "               '2023-11-21', '2023-11-22', '2023-11-23', '2023-11-24',\n",
       "               '2023-11-25', '2023-11-26', '2023-11-27', '2023-11-28',\n",
       "               '2023-11-29', '2023-11-30'],\n",
       "              dtype='datetime64[ns]', freq='D')"
      ]
     },
     "execution_count": 18,
     "metadata": {},
     "output_type": "execute_result"
    }
   ],
   "source": [
    "pd.date_range(\"2023-11-1\", \"2023-11-30\")"
   ]
  },
  {
   "cell_type": "code",
   "execution_count": 17,
   "id": "b6cb4599",
   "metadata": {
    "ExecuteTime": {
     "end_time": "2023-12-22T06:19:14.533256Z",
     "start_time": "2023-12-22T06:19:14.521118Z"
    }
   },
   "outputs": [
    {
     "data": {
      "text/plain": [
       "DatetimeIndex(['2023-11-01', '2023-11-02', '2023-11-03', '2023-11-04',\n",
       "               '2023-11-05', '2023-11-06', '2023-11-07', '2023-11-08',\n",
       "               '2023-11-09', '2023-11-10'],\n",
       "              dtype='datetime64[ns]', freq='D')"
      ]
     },
     "execution_count": 17,
     "metadata": {},
     "output_type": "execute_result"
    }
   ],
   "source": [
    "pd.date_range(start=\"2023-11-1\", periods=10)"
   ]
  },
  {
   "cell_type": "code",
   "execution_count": 19,
   "id": "1ad5363a",
   "metadata": {
    "ExecuteTime": {
     "end_time": "2023-12-22T06:19:51.529464Z",
     "start_time": "2023-12-22T06:19:51.520777Z"
    }
   },
   "outputs": [
    {
     "data": {
      "text/plain": [
       "DatetimeIndex(['2023-11-01', '2023-11-02', '2023-11-03', '2023-11-04',\n",
       "               '2023-11-05', '2023-11-06', '2023-11-07', '2023-11-08',\n",
       "               '2023-11-09', '2023-11-10', '2023-11-11', '2023-11-12',\n",
       "               '2023-11-13', '2023-11-14', '2023-11-15', '2023-11-16',\n",
       "               '2023-11-17', '2023-11-18', '2023-11-19', '2023-11-20',\n",
       "               '2023-11-21', '2023-11-22', '2023-11-23', '2023-11-24',\n",
       "               '2023-11-25', '2023-11-26', '2023-11-27', '2023-11-28',\n",
       "               '2023-11-29', '2023-11-30', '2023-12-01', '2023-12-02',\n",
       "               '2023-12-03', '2023-12-04', '2023-12-05', '2023-12-06',\n",
       "               '2023-12-07', '2023-12-08', '2023-12-09', '2023-12-10'],\n",
       "              dtype='datetime64[ns]', freq='D')"
      ]
     },
     "execution_count": 19,
     "metadata": {},
     "output_type": "execute_result"
    }
   ],
   "source": [
    "pd.date_range(start=\"2023-11-1\", periods=40)"
   ]
  },
  {
   "cell_type": "markdown",
   "id": "2acb71b9",
   "metadata": {},
   "source": [
    "freq 인수로 특정한 날짜만 생성되도록 할 수도 있다. 많이 사용되는 freq 인수값은 다음과 같다.\n",
    "\n",
    "s: 초\n",
    "T: 분\n",
    "H: 시간\n",
    "D: 일(day)\n",
    "B: 주말이 아닌 평일\n",
    "W: 주(일요일)\n",
    "W-MON: 주(월요일)\n",
    "M: 각 달(month)의 마지막 날\n",
    "MS: 각 달의 첫날\n",
    "BM: 주말이 아닌 평일 중에서 각 달의 마지막 날\n",
    "BMS: 주말이 아닌 평일 중에서 각 달의 첫날\n",
    "WOM-2THU: 각 달의 두번째 목요일\n",
    "Q-JAN: 각 분기의 첫달의 마지막 날\n",
    "Q-DEC: 각 분기의 마지막 달의 마지막 날\n",
    "보다 자세한 내용은 다음 웹사이트를 참조한다.\n",
    "\n",
    "https://pandas.pydata.org/pandas-docs/stable/user_guide/timeseries.html#dateoffset-objects"
   ]
  },
  {
   "cell_type": "code",
   "execution_count": 20,
   "id": "35d2f26f",
   "metadata": {
    "ExecuteTime": {
     "end_time": "2023-12-22T06:23:23.668712Z",
     "start_time": "2023-12-22T06:23:23.656679Z"
    }
   },
   "outputs": [
    {
     "data": {
      "text/plain": [
       "DatetimeIndex(['2023-11-01', '2023-11-02', '2023-11-03', '2023-11-06',\n",
       "               '2023-11-07', '2023-11-08', '2023-11-09', '2023-11-10',\n",
       "               '2023-11-13', '2023-11-14', '2023-11-15', '2023-11-16',\n",
       "               '2023-11-17', '2023-11-20', '2023-11-21', '2023-11-22',\n",
       "               '2023-11-23', '2023-11-24', '2023-11-27', '2023-11-28',\n",
       "               '2023-11-29', '2023-11-30'],\n",
       "              dtype='datetime64[ns]', freq='B')"
      ]
     },
     "execution_count": 20,
     "metadata": {},
     "output_type": "execute_result"
    }
   ],
   "source": [
    "#B: 주말이 아닌 평일\n",
    "pd.date_range(\"2023-11-1\", \"2023-11-30\", freq=\"B\")"
   ]
  },
  {
   "cell_type": "code",
   "execution_count": 21,
   "id": "108a8719",
   "metadata": {
    "ExecuteTime": {
     "end_time": "2023-12-22T06:23:56.673376Z",
     "start_time": "2023-12-22T06:23:56.663255Z"
    }
   },
   "outputs": [
    {
     "data": {
      "text/plain": [
       "DatetimeIndex(['2023-11-05', '2023-11-12', '2023-11-19', '2023-11-26'], dtype='datetime64[ns]', freq='W-SUN')"
      ]
     },
     "execution_count": 21,
     "metadata": {},
     "output_type": "execute_result"
    }
   ],
   "source": [
    "pd.date_range(\"2023-11-1\", \"2023-11-30\", freq=\"W\")"
   ]
  },
  {
   "cell_type": "code",
   "execution_count": null,
   "id": "5b9bb5af",
   "metadata": {},
   "outputs": [],
   "source": []
  },
  {
   "cell_type": "markdown",
   "id": "f47bc3bb",
   "metadata": {},
   "source": [
    "# shift 연산\n",
    "- 시계열 데이터의 인덱스는 시간이나 날짜를 나타내기 때문에 날짜 이동 등의 다양한 연산이 가능하다.\n",
    "예를 들어 shift 연산을 사용하면 인덱스는 그대로 두고 데이터만 이동할 수도 있다.\n",
    "- 예측에 사용"
   ]
  },
  {
   "cell_type": "code",
   "execution_count": 22,
   "id": "d9dfb71e",
   "metadata": {
    "ExecuteTime": {
     "end_time": "2023-12-22T06:26:08.403274Z",
     "start_time": "2023-12-22T06:26:08.392184Z"
    }
   },
   "outputs": [
    {
     "data": {
      "text/plain": [
       "2018-01-31    1.764052\n",
       "2018-02-28    0.400157\n",
       "2018-03-31    0.978738\n",
       "2018-04-30    2.240893\n",
       "Freq: M, dtype: float64"
      ]
     },
     "execution_count": 22,
     "metadata": {},
     "output_type": "execute_result"
    }
   ],
   "source": [
    "np.random.seed(0)\n",
    "ts = pd.Series(np.random.randn(4), index=pd.date_range(\n",
    "    \"2018-1-1\", periods=4, freq=\"M\"))\n",
    "ts"
   ]
  },
  {
   "cell_type": "code",
   "execution_count": 23,
   "id": "8f3c6ce4",
   "metadata": {
    "ExecuteTime": {
     "end_time": "2023-12-22T06:26:34.207597Z",
     "start_time": "2023-12-22T06:26:34.197720Z"
    }
   },
   "outputs": [
    {
     "data": {
      "text/plain": [
       "2018-01-31         NaN\n",
       "2018-02-28    1.764052\n",
       "2018-03-31    0.400157\n",
       "2018-04-30    0.978738\n",
       "Freq: M, dtype: float64"
      ]
     },
     "execution_count": 23,
     "metadata": {},
     "output_type": "execute_result"
    }
   ],
   "source": [
    "#1만큼 내려감\n",
    "ts.shift(1)"
   ]
  },
  {
   "cell_type": "code",
   "execution_count": 24,
   "id": "5518faf8",
   "metadata": {
    "ExecuteTime": {
     "end_time": "2023-12-22T06:26:52.822095Z",
     "start_time": "2023-12-22T06:26:52.813921Z"
    }
   },
   "outputs": [
    {
     "data": {
      "text/plain": [
       "2018-01-31    0.400157\n",
       "2018-02-28    0.978738\n",
       "2018-03-31    2.240893\n",
       "2018-04-30         NaN\n",
       "Freq: M, dtype: float64"
      ]
     },
     "execution_count": 24,
     "metadata": {},
     "output_type": "execute_result"
    }
   ],
   "source": [
    "#1만큼 올라감\n",
    "ts.shift(-1)"
   ]
  },
  {
   "cell_type": "code",
   "execution_count": 25,
   "id": "c439256e",
   "metadata": {
    "ExecuteTime": {
     "end_time": "2023-12-22T06:27:06.563144Z",
     "start_time": "2023-12-22T06:27:06.553796Z"
    }
   },
   "outputs": [
    {
     "data": {
      "text/plain": [
       "2018-02-28    1.764052\n",
       "2018-03-31    0.400157\n",
       "2018-04-30    0.978738\n",
       "2018-05-31    2.240893\n",
       "Freq: M, dtype: float64"
      ]
     },
     "execution_count": 25,
     "metadata": {},
     "output_type": "execute_result"
    }
   ],
   "source": [
    "ts.shift(1, freq=\"M\")"
   ]
  },
  {
   "cell_type": "code",
   "execution_count": 26,
   "id": "f4413b00",
   "metadata": {
    "ExecuteTime": {
     "end_time": "2023-12-22T06:27:24.251511Z",
     "start_time": "2023-12-22T06:27:24.242582Z"
    }
   },
   "outputs": [
    {
     "data": {
      "text/plain": [
       "2018-02-04    1.764052\n",
       "2018-03-04    0.400157\n",
       "2018-04-01    0.978738\n",
       "2018-05-06    2.240893\n",
       "dtype: float64"
      ]
     },
     "execution_count": 26,
     "metadata": {},
     "output_type": "execute_result"
    }
   ],
   "source": [
    "ts.shift(1, freq=\"W\")"
   ]
  },
  {
   "cell_type": "markdown",
   "id": "355ce226",
   "metadata": {},
   "source": [
    "# resample 연산\n",
    "resample 연산을 쓰면 시간 간격을 재조정하는 리샘플링(resampling)이 가능하다.\n",
    "이 때 시간 구간이 작아지면 데이터 양이 증가한다고 해서 업-샘플링(up-sampling)이라 하고\n",
    "시간 구간이 커지면 데이터 양이 감소한다고 해서 다운-샘플링(down-sampling)이라 부른다."
   ]
  },
  {
   "cell_type": "code",
   "execution_count": 27,
   "id": "7a71ffd2",
   "metadata": {
    "ExecuteTime": {
     "end_time": "2023-12-22T06:30:25.978586Z",
     "start_time": "2023-12-22T06:30:25.967049Z"
    },
    "scrolled": true
   },
   "outputs": [
    {
     "data": {
      "text/plain": [
       "2018-03-22    1.488252\n",
       "2018-03-23    1.895889\n",
       "2018-03-24    1.178780\n",
       "2018-03-25   -0.179925\n",
       "2018-03-26   -1.070753\n",
       "2018-03-27    1.054452\n",
       "2018-03-28   -0.403177\n",
       "2018-03-29    1.222445\n",
       "2018-03-30    0.208275\n",
       "2018-03-31    0.976639\n",
       "2018-04-01    0.356366\n",
       "2018-04-02    0.706573\n",
       "2018-04-03    0.010500\n",
       "2018-04-04    1.785870\n",
       "2018-04-05    0.126912\n",
       "2018-04-06    0.401989\n",
       "2018-04-07    1.883151\n",
       "2018-04-08   -1.347759\n",
       "2018-04-09   -1.270485\n",
       "2018-04-10    0.969397\n",
       "Freq: D, dtype: float64"
      ]
     },
     "execution_count": 27,
     "metadata": {},
     "output_type": "execute_result"
    }
   ],
   "source": [
    "ts = pd.Series(np.random.randn(100), index=pd.date_range(\"2018-1-1\", periods=100, freq=\"D\"))\n",
    "ts.tail(20)"
   ]
  },
  {
   "cell_type": "markdown",
   "id": "2749b413",
   "metadata": {},
   "source": [
    "다운-샘플링의 경우에는 원래의 데이터가 그룹으로 묶이기 때문에 그룹바이(groupby)때와 같이 그룹 연산을 해서 대표값을 구해야 한다."
   ]
  },
  {
   "cell_type": "code",
   "execution_count": 28,
   "id": "b08ce575",
   "metadata": {
    "ExecuteTime": {
     "end_time": "2023-12-22T06:32:00.645356Z",
     "start_time": "2023-12-22T06:32:00.609053Z"
    }
   },
   "outputs": [
    {
     "data": {
      "text/plain": [
       "2018-01-07    0.305776\n",
       "2018-01-14    0.629064\n",
       "2018-01-21   -0.006910\n",
       "2018-01-28    0.277065\n",
       "2018-02-04   -0.144972\n",
       "2018-02-11   -0.496299\n",
       "2018-02-18   -0.474473\n",
       "2018-02-25   -0.201222\n",
       "2018-03-04   -0.775142\n",
       "2018-03-11    0.052868\n",
       "2018-03-18   -0.450379\n",
       "2018-03-25    0.601892\n",
       "2018-04-01    0.334893\n",
       "2018-04-08    0.509605\n",
       "2018-04-15   -0.150544\n",
       "Freq: W-SUN, dtype: float64"
      ]
     },
     "execution_count": 28,
     "metadata": {},
     "output_type": "execute_result"
    }
   ],
   "source": [
    "#일->주 기준을 변경: down(시간의 구간이 7개 중 하나만 보여줘서 데이터 양 감소)\n",
    "ts.resample('W').mean()"
   ]
  },
  {
   "cell_type": "code",
   "execution_count": 29,
   "id": "4c130ff9",
   "metadata": {
    "ExecuteTime": {
     "end_time": "2023-12-22T06:32:05.618873Z",
     "start_time": "2023-12-22T06:32:05.604572Z"
    }
   },
   "outputs": [
    {
     "data": {
      "text/plain": [
       "2018-01-31    1.867558\n",
       "2018-02-28    0.156349\n",
       "2018-03-31   -1.726283\n",
       "2018-04-30    0.356366\n",
       "Freq: M, dtype: float64"
      ]
     },
     "execution_count": 29,
     "metadata": {},
     "output_type": "execute_result"
    }
   ],
   "source": [
    "ts.resample('M').first()"
   ]
  },
  {
   "cell_type": "code",
   "execution_count": 30,
   "id": "8f0cfb9b",
   "metadata": {
    "ExecuteTime": {
     "end_time": "2023-12-22T06:32:42.275040Z",
     "start_time": "2023-12-22T06:32:42.261762Z"
    }
   },
   "outputs": [
    {
     "data": {
      "text/plain": [
       "2018-01-07    0.305776\n",
       "2018-01-14    0.629064\n",
       "2018-01-21   -0.006910\n",
       "2018-01-28    0.277065\n",
       "2018-02-04   -0.144972\n",
       "2018-02-11   -0.496299\n",
       "2018-02-18   -0.474473\n",
       "2018-02-25   -0.201222\n",
       "2018-03-04   -0.775142\n",
       "2018-03-11    0.052868\n",
       "2018-03-18   -0.450379\n",
       "2018-03-25    0.601892\n",
       "2018-04-01    0.334893\n",
       "2018-04-08    0.509605\n",
       "2018-04-15   -0.150544\n",
       "Freq: W-SUN, dtype: float64"
      ]
     },
     "execution_count": 30,
     "metadata": {},
     "output_type": "execute_result"
    }
   ],
   "source": [
    "ts.resample('W').mean()"
   ]
  },
  {
   "cell_type": "code",
   "execution_count": 31,
   "id": "fb7d04cb",
   "metadata": {
    "ExecuteTime": {
     "end_time": "2023-12-22T06:32:50.691260Z",
     "start_time": "2023-12-22T06:32:50.679841Z"
    }
   },
   "outputs": [
    {
     "data": {
      "text/plain": [
       "2018-01-31    1.867558\n",
       "2018-02-28    0.156349\n",
       "2018-03-31   -1.726283\n",
       "2018-04-30    0.356366\n",
       "Freq: M, dtype: float64"
      ]
     },
     "execution_count": 31,
     "metadata": {},
     "output_type": "execute_result"
    }
   ],
   "source": [
    "ts.resample('M').first()"
   ]
  },
  {
   "cell_type": "markdown",
   "id": "dd417a0a",
   "metadata": {},
   "source": [
    "날짜가 아닌 시/분 단위에서는 구간위 왼쪽 한계값(가장 빠른 값)은 포함하고\n",
    "오른쪽 한계값(가장 늦은 값)은 포함하지 않는다.\n",
    "즉, 가장 늦은 값은 다음 구간에 포함된다. 예를 들어 10분 간격으로 구간을 만들면 10의 배수가 되는 시각은 구간의 시작점이 된다.\n",
    "- 0분과 1분 중 무엇을 시작점으로 할지"
   ]
  },
  {
   "cell_type": "code",
   "execution_count": 32,
   "id": "e59f57ec",
   "metadata": {
    "ExecuteTime": {
     "end_time": "2023-12-22T06:34:52.771928Z",
     "start_time": "2023-12-22T06:34:52.760263Z"
    }
   },
   "outputs": [
    {
     "data": {
      "text/plain": [
       "2018-01-01 00:00:00   -1.173123\n",
       "2018-01-01 00:01:00    1.943621\n",
       "2018-01-01 00:02:00   -0.413619\n",
       "2018-01-01 00:03:00   -0.747455\n",
       "2018-01-01 00:04:00    1.922942\n",
       "2018-01-01 00:05:00    1.480515\n",
       "2018-01-01 00:06:00    1.867559\n",
       "2018-01-01 00:07:00    0.906045\n",
       "2018-01-01 00:08:00   -0.861226\n",
       "2018-01-01 00:09:00    1.910065\n",
       "2018-01-01 00:10:00   -0.268003\n",
       "2018-01-01 00:11:00    0.802456\n",
       "2018-01-01 00:12:00    0.947252\n",
       "2018-01-01 00:13:00   -0.155010\n",
       "2018-01-01 00:14:00    0.614079\n",
       "2018-01-01 00:15:00    0.922207\n",
       "2018-01-01 00:16:00    0.376426\n",
       "2018-01-01 00:17:00   -1.099401\n",
       "2018-01-01 00:18:00    0.298238\n",
       "2018-01-01 00:19:00    1.326386\n",
       "Freq: T, dtype: float64"
      ]
     },
     "execution_count": 32,
     "metadata": {},
     "output_type": "execute_result"
    }
   ],
   "source": [
    "ts = pd.Series(np.random.randn(60), index=pd.date_range(\n",
    "    \"2018-1-1\", periods=60, freq=\"T\"))\n",
    "ts.head(20)"
   ]
  },
  {
   "cell_type": "code",
   "execution_count": 33,
   "id": "7987f9e8",
   "metadata": {
    "ExecuteTime": {
     "end_time": "2023-12-22T06:36:37.617256Z",
     "start_time": "2023-12-22T06:36:37.605447Z"
    }
   },
   "outputs": [
    {
     "data": {
      "text/plain": [
       "2018-01-01 00:00:00    6.835324\n",
       "2018-01-01 00:10:00    3.764630\n",
       "2018-01-01 00:20:00    0.776495\n",
       "2018-01-01 00:30:00   -0.538336\n",
       "2018-01-01 00:40:00    1.828234\n",
       "2018-01-01 00:50:00    0.167957\n",
       "Freq: 10T, dtype: float64"
      ]
     },
     "execution_count": 33,
     "metadata": {},
     "output_type": "execute_result"
    }
   ],
   "source": [
    "ts.resample('10T').sum()"
   ]
  },
  {
   "cell_type": "code",
   "execution_count": null,
   "id": "80679e4d",
   "metadata": {},
   "outputs": [],
   "source": []
  },
  {
   "cell_type": "markdown",
   "id": "f0da62fe",
   "metadata": {},
   "source": [
    "- 업-샘플링의 경우에는 실제로 존재하지 않는 데이터를 만들어야 한다.\n",
    "- 이 때는 앞에서 나온 데이터를 뒤에서 그대로 쓰는 forward filling 방식과\n",
    "뒤에서 나올 데이터를 앞에서 미리 쓰는 backward filling 방식을 사용할 수 있다.\n",
    "각각 ffill, bfill 메서드를 이용한다."
   ]
  },
  {
   "cell_type": "code",
   "execution_count": 34,
   "id": "0db0b877",
   "metadata": {
    "ExecuteTime": {
     "end_time": "2023-12-22T06:42:04.055114Z",
     "start_time": "2023-12-22T06:42:04.044813Z"
    }
   },
   "outputs": [
    {
     "data": {
      "text/plain": [
       "2018-01-01 00:00:00   -1.173123\n",
       "2018-01-01 00:00:30   -1.173123\n",
       "2018-01-01 00:01:00    1.943621\n",
       "2018-01-01 00:01:30    1.943621\n",
       "2018-01-01 00:02:00   -0.413619\n",
       "2018-01-01 00:02:30   -0.413619\n",
       "2018-01-01 00:03:00   -0.747455\n",
       "2018-01-01 00:03:30   -0.747455\n",
       "2018-01-01 00:04:00    1.922942\n",
       "2018-01-01 00:04:30    1.922942\n",
       "2018-01-01 00:05:00    1.480515\n",
       "2018-01-01 00:05:30    1.480515\n",
       "2018-01-01 00:06:00    1.867559\n",
       "2018-01-01 00:06:30    1.867559\n",
       "2018-01-01 00:07:00    0.906045\n",
       "2018-01-01 00:07:30    0.906045\n",
       "2018-01-01 00:08:00   -0.861226\n",
       "2018-01-01 00:08:30   -0.861226\n",
       "2018-01-01 00:09:00    1.910065\n",
       "2018-01-01 00:09:30    1.910065\n",
       "Freq: 30S, dtype: float64"
      ]
     },
     "execution_count": 34,
     "metadata": {},
     "output_type": "execute_result"
    }
   ],
   "source": [
    "ts.resample('30s').ffill().head(20)"
   ]
  },
  {
   "cell_type": "code",
   "execution_count": null,
   "id": "2284fcc8",
   "metadata": {},
   "outputs": [],
   "source": [
    "ts.resample('30s').bfill().head(20)"
   ]
  },
  {
   "cell_type": "markdown",
   "id": "f23c699d",
   "metadata": {},
   "source": [
    "# dt 접근자\n",
    "datetime 자료형 시리즈에는 dt 접근자가 있어 datetime 자료형이 가진 몇가지 유용한 속성과 메서드를 사용할 수 있다."
   ]
  },
  {
   "cell_type": "code",
   "execution_count": 35,
   "id": "eaebfa92",
   "metadata": {
    "ExecuteTime": {
     "end_time": "2023-12-22T06:45:38.048170Z",
     "start_time": "2023-12-22T06:45:38.036983Z"
    }
   },
   "outputs": [
    {
     "data": {
      "text/plain": [
       "0    2020-12-25\n",
       "1    2020-12-26\n",
       "2    2020-12-27\n",
       "3    2020-12-28\n",
       "4    2020-12-29\n",
       "        ...    \n",
       "95   2021-03-30\n",
       "96   2021-03-31\n",
       "97   2021-04-01\n",
       "98   2021-04-02\n",
       "99   2021-04-03\n",
       "Length: 100, dtype: datetime64[ns]"
      ]
     },
     "execution_count": 35,
     "metadata": {},
     "output_type": "execute_result"
    }
   ],
   "source": [
    "s = pd.Series(pd.date_range(\"2020-12-25\", periods=100, freq=\"D\"))\n",
    "s"
   ]
  },
  {
   "cell_type": "markdown",
   "id": "22312be7",
   "metadata": {},
   "source": [
    "예를 들어 year, month, day, weekday 등의 속성을 이용하면 년, 월, 일, 요일 정보를 빼낼 수 있다."
   ]
  },
  {
   "cell_type": "code",
   "execution_count": 36,
   "id": "2336be54",
   "metadata": {
    "ExecuteTime": {
     "end_time": "2023-12-22T06:45:49.722594Z",
     "start_time": "2023-12-22T06:45:49.713451Z"
    }
   },
   "outputs": [
    {
     "data": {
      "text/plain": [
       "0     2020\n",
       "1     2020\n",
       "2     2020\n",
       "3     2020\n",
       "4     2020\n",
       "      ... \n",
       "95    2021\n",
       "96    2021\n",
       "97    2021\n",
       "98    2021\n",
       "99    2021\n",
       "Length: 100, dtype: int32"
      ]
     },
     "execution_count": 36,
     "metadata": {},
     "output_type": "execute_result"
    }
   ],
   "source": [
    "s.dt.year"
   ]
  },
  {
   "cell_type": "code",
   "execution_count": 37,
   "id": "17996ac4",
   "metadata": {
    "ExecuteTime": {
     "end_time": "2023-12-22T06:45:54.792866Z",
     "start_time": "2023-12-22T06:45:54.782618Z"
    }
   },
   "outputs": [
    {
     "data": {
      "text/plain": [
       "0     4\n",
       "1     5\n",
       "2     6\n",
       "3     0\n",
       "4     1\n",
       "     ..\n",
       "95    1\n",
       "96    2\n",
       "97    3\n",
       "98    4\n",
       "99    5\n",
       "Length: 100, dtype: int32"
      ]
     },
     "execution_count": 37,
     "metadata": {},
     "output_type": "execute_result"
    }
   ],
   "source": [
    "s.dt.weekday"
   ]
  },
  {
   "cell_type": "markdown",
   "id": "35b7155d",
   "metadata": {},
   "source": [
    "strftime 메서드를 이용하여 문자열을 만드는 것도 가능하다."
   ]
  },
  {
   "cell_type": "code",
   "execution_count": 38,
   "id": "79a26a7e",
   "metadata": {
    "ExecuteTime": {
     "end_time": "2023-12-22T06:46:10.396927Z",
     "start_time": "2023-12-22T06:46:10.382972Z"
    }
   },
   "outputs": [
    {
     "data": {
      "text/plain": [
       "0     2020년 12월 25일\n",
       "1     2020년 12월 26일\n",
       "2     2020년 12월 27일\n",
       "3     2020년 12월 28일\n",
       "4     2020년 12월 29일\n",
       "          ...      \n",
       "95    2021년 03월 30일\n",
       "96    2021년 03월 31일\n",
       "97    2021년 04월 01일\n",
       "98    2021년 04월 02일\n",
       "99    2021년 04월 03일\n",
       "Length: 100, dtype: object"
      ]
     },
     "execution_count": 38,
     "metadata": {},
     "output_type": "execute_result"
    }
   ],
   "source": [
    "s.dt.strftime(\"%Y년 %m월 %d일\")"
   ]
  },
  {
   "cell_type": "markdown",
   "id": "3e83c531",
   "metadata": {},
   "source": [
    "# 연습문제\n",
    "\n",
    "다음 명령으로 만들어진 데이터프레임에 대해 월별 value의 합계를 구하라.\n",
    "(힌트: `groupby` 메서드와 `dt` 접근자를 사용하라)\n",
    "\n",
    "```\n",
    "np.random.seed(0)\n",
    "df = pd.DataFrame({\n",
    "    \"date\": pd.date_range(\"2020-12-25\", periods=100, freq=\"D\"), \n",
    "    \"value\": np.random.randint(100, size=(100,))\n",
    "})\n",
    "```"
   ]
  },
  {
   "cell_type": "code",
   "execution_count": 40,
   "id": "6d66664b",
   "metadata": {
    "ExecuteTime": {
     "end_time": "2023-12-22T06:47:44.471979Z",
     "start_time": "2023-12-22T06:47:44.467875Z"
    }
   },
   "outputs": [],
   "source": [
    "import pandas as pd\n",
    "import numpy as np"
   ]
  },
  {
   "cell_type": "code",
   "execution_count": 43,
   "id": "4a9a8a45",
   "metadata": {
    "ExecuteTime": {
     "end_time": "2023-12-22T06:48:07.300619Z",
     "start_time": "2023-12-22T06:48:07.282791Z"
    }
   },
   "outputs": [
    {
     "data": {
      "text/html": [
       "<div>\n",
       "<style scoped>\n",
       "    .dataframe tbody tr th:only-of-type {\n",
       "        vertical-align: middle;\n",
       "    }\n",
       "\n",
       "    .dataframe tbody tr th {\n",
       "        vertical-align: top;\n",
       "    }\n",
       "\n",
       "    .dataframe thead th {\n",
       "        text-align: right;\n",
       "    }\n",
       "</style>\n",
       "<table border=\"1\" class=\"dataframe\">\n",
       "  <thead>\n",
       "    <tr style=\"text-align: right;\">\n",
       "      <th></th>\n",
       "      <th>date</th>\n",
       "      <th>value</th>\n",
       "    </tr>\n",
       "  </thead>\n",
       "  <tbody>\n",
       "    <tr>\n",
       "      <th>0</th>\n",
       "      <td>2020-12-25</td>\n",
       "      <td>44</td>\n",
       "    </tr>\n",
       "    <tr>\n",
       "      <th>1</th>\n",
       "      <td>2020-12-26</td>\n",
       "      <td>47</td>\n",
       "    </tr>\n",
       "    <tr>\n",
       "      <th>2</th>\n",
       "      <td>2020-12-27</td>\n",
       "      <td>64</td>\n",
       "    </tr>\n",
       "    <tr>\n",
       "      <th>3</th>\n",
       "      <td>2020-12-28</td>\n",
       "      <td>67</td>\n",
       "    </tr>\n",
       "    <tr>\n",
       "      <th>4</th>\n",
       "      <td>2020-12-29</td>\n",
       "      <td>67</td>\n",
       "    </tr>\n",
       "    <tr>\n",
       "      <th>...</th>\n",
       "      <td>...</td>\n",
       "      <td>...</td>\n",
       "    </tr>\n",
       "    <tr>\n",
       "      <th>95</th>\n",
       "      <td>2021-03-30</td>\n",
       "      <td>23</td>\n",
       "    </tr>\n",
       "    <tr>\n",
       "      <th>96</th>\n",
       "      <td>2021-03-31</td>\n",
       "      <td>79</td>\n",
       "    </tr>\n",
       "    <tr>\n",
       "      <th>97</th>\n",
       "      <td>2021-04-01</td>\n",
       "      <td>13</td>\n",
       "    </tr>\n",
       "    <tr>\n",
       "      <th>98</th>\n",
       "      <td>2021-04-02</td>\n",
       "      <td>85</td>\n",
       "    </tr>\n",
       "    <tr>\n",
       "      <th>99</th>\n",
       "      <td>2021-04-03</td>\n",
       "      <td>48</td>\n",
       "    </tr>\n",
       "  </tbody>\n",
       "</table>\n",
       "<p>100 rows × 2 columns</p>\n",
       "</div>"
      ],
      "text/plain": [
       "         date  value\n",
       "0  2020-12-25     44\n",
       "1  2020-12-26     47\n",
       "2  2020-12-27     64\n",
       "3  2020-12-28     67\n",
       "4  2020-12-29     67\n",
       "..        ...    ...\n",
       "95 2021-03-30     23\n",
       "96 2021-03-31     79\n",
       "97 2021-04-01     13\n",
       "98 2021-04-02     85\n",
       "99 2021-04-03     48\n",
       "\n",
       "[100 rows x 2 columns]"
      ]
     },
     "execution_count": 43,
     "metadata": {},
     "output_type": "execute_result"
    }
   ],
   "source": [
    "np.random.seed(0)\n",
    "df = pd.DataFrame({\n",
    "    \"date\": pd.date_range(\"2020-12-25\", periods=100, freq=\"D\"), \n",
    "    \"value\": np.random.randint(100, size=(100,))\n",
    "    })\n",
    "df"
   ]
  },
  {
   "cell_type": "code",
   "execution_count": 44,
   "id": "8659b4e1",
   "metadata": {
    "ExecuteTime": {
     "end_time": "2023-12-22T06:49:43.009779Z",
     "start_time": "2023-12-22T06:49:42.993531Z"
    }
   },
   "outputs": [
    {
     "data": {
      "text/html": [
       "<div>\n",
       "<style scoped>\n",
       "    .dataframe tbody tr th:only-of-type {\n",
       "        vertical-align: middle;\n",
       "    }\n",
       "\n",
       "    .dataframe tbody tr th {\n",
       "        vertical-align: top;\n",
       "    }\n",
       "\n",
       "    .dataframe thead th {\n",
       "        text-align: right;\n",
       "    }\n",
       "</style>\n",
       "<table border=\"1\" class=\"dataframe\">\n",
       "  <thead>\n",
       "    <tr style=\"text-align: right;\">\n",
       "      <th></th>\n",
       "      <th>date</th>\n",
       "      <th>value</th>\n",
       "      <th>month</th>\n",
       "    </tr>\n",
       "  </thead>\n",
       "  <tbody>\n",
       "    <tr>\n",
       "      <th>0</th>\n",
       "      <td>2020-12-25</td>\n",
       "      <td>44</td>\n",
       "      <td>12</td>\n",
       "    </tr>\n",
       "    <tr>\n",
       "      <th>1</th>\n",
       "      <td>2020-12-26</td>\n",
       "      <td>47</td>\n",
       "      <td>12</td>\n",
       "    </tr>\n",
       "    <tr>\n",
       "      <th>2</th>\n",
       "      <td>2020-12-27</td>\n",
       "      <td>64</td>\n",
       "      <td>12</td>\n",
       "    </tr>\n",
       "    <tr>\n",
       "      <th>3</th>\n",
       "      <td>2020-12-28</td>\n",
       "      <td>67</td>\n",
       "      <td>12</td>\n",
       "    </tr>\n",
       "    <tr>\n",
       "      <th>4</th>\n",
       "      <td>2020-12-29</td>\n",
       "      <td>67</td>\n",
       "      <td>12</td>\n",
       "    </tr>\n",
       "    <tr>\n",
       "      <th>...</th>\n",
       "      <td>...</td>\n",
       "      <td>...</td>\n",
       "      <td>...</td>\n",
       "    </tr>\n",
       "    <tr>\n",
       "      <th>95</th>\n",
       "      <td>2021-03-30</td>\n",
       "      <td>23</td>\n",
       "      <td>3</td>\n",
       "    </tr>\n",
       "    <tr>\n",
       "      <th>96</th>\n",
       "      <td>2021-03-31</td>\n",
       "      <td>79</td>\n",
       "      <td>3</td>\n",
       "    </tr>\n",
       "    <tr>\n",
       "      <th>97</th>\n",
       "      <td>2021-04-01</td>\n",
       "      <td>13</td>\n",
       "      <td>4</td>\n",
       "    </tr>\n",
       "    <tr>\n",
       "      <th>98</th>\n",
       "      <td>2021-04-02</td>\n",
       "      <td>85</td>\n",
       "      <td>4</td>\n",
       "    </tr>\n",
       "    <tr>\n",
       "      <th>99</th>\n",
       "      <td>2021-04-03</td>\n",
       "      <td>48</td>\n",
       "      <td>4</td>\n",
       "    </tr>\n",
       "  </tbody>\n",
       "</table>\n",
       "<p>100 rows × 3 columns</p>\n",
       "</div>"
      ],
      "text/plain": [
       "         date  value  month\n",
       "0  2020-12-25     44     12\n",
       "1  2020-12-26     47     12\n",
       "2  2020-12-27     64     12\n",
       "3  2020-12-28     67     12\n",
       "4  2020-12-29     67     12\n",
       "..        ...    ...    ...\n",
       "95 2021-03-30     23      3\n",
       "96 2021-03-31     79      3\n",
       "97 2021-04-01     13      4\n",
       "98 2021-04-02     85      4\n",
       "99 2021-04-03     48      4\n",
       "\n",
       "[100 rows x 3 columns]"
      ]
     },
     "execution_count": 44,
     "metadata": {},
     "output_type": "execute_result"
    }
   ],
   "source": [
    "df['month']=df['date'].dt.month\n",
    "df"
   ]
  },
  {
   "cell_type": "code",
   "execution_count": 45,
   "id": "0606469b",
   "metadata": {
    "ExecuteTime": {
     "end_time": "2023-12-22T06:50:02.836566Z",
     "start_time": "2023-12-22T06:50:02.823368Z"
    }
   },
   "outputs": [
    {
     "data": {
      "text/plain": [
       "month\n",
       "1     1811\n",
       "2      985\n",
       "3     1500\n",
       "4      146\n",
       "12     381\n",
       "Name: value, dtype: int32"
      ]
     },
     "execution_count": 45,
     "metadata": {},
     "output_type": "execute_result"
    }
   ],
   "source": [
    "df.groupby('month')['value'].sum()"
   ]
  },
  {
   "cell_type": "markdown",
   "id": "9ede7952",
   "metadata": {},
   "source": [
    "# 주식 데이터로 연습하기\n",
    "!pip install pandas_datareader\n",
    "!pip install yfinance\n",
    "각종 금융정보를 dataframe으로 제공하는 라이브러리"
   ]
  },
  {
   "cell_type": "code",
   "execution_count": 1,
   "id": "0da59f09",
   "metadata": {
    "ExecuteTime": {
     "end_time": "2023-12-22T08:27:18.875140Z",
     "start_time": "2023-12-22T08:26:56.483615Z"
    }
   },
   "outputs": [
    {
     "name": "stdout",
     "output_type": "stream",
     "text": [
      "Requirement already satisfied: pandas_datareader in c:\\users\\minji\\anaconda3\\lib\\site-packages (0.10.0)\n",
      "Requirement already satisfied: lxml in c:\\users\\minji\\anaconda3\\lib\\site-packages (from pandas_datareader) (4.9.3)\n",
      "Requirement already satisfied: pandas>=0.23 in c:\\users\\minji\\anaconda3\\lib\\site-packages (from pandas_datareader) (2.0.3)\n",
      "Requirement already satisfied: requests>=2.19.0 in c:\\users\\minji\\anaconda3\\lib\\site-packages (from pandas_datareader) (2.31.0)\n",
      "Requirement already satisfied: python-dateutil>=2.8.2 in c:\\users\\minji\\anaconda3\\lib\\site-packages (from pandas>=0.23->pandas_datareader) (2.8.2)\n",
      "Requirement already satisfied: pytz>=2020.1 in c:\\users\\minji\\anaconda3\\lib\\site-packages (from pandas>=0.23->pandas_datareader) (2023.3.post1)\n",
      "Requirement already satisfied: tzdata>=2022.1 in c:\\users\\minji\\anaconda3\\lib\\site-packages (from pandas>=0.23->pandas_datareader) (2023.3)\n",
      "Requirement already satisfied: numpy>=1.21.0 in c:\\users\\minji\\anaconda3\\lib\\site-packages (from pandas>=0.23->pandas_datareader) (1.24.3)\n",
      "Requirement already satisfied: charset-normalizer<4,>=2 in c:\\users\\minji\\anaconda3\\lib\\site-packages (from requests>=2.19.0->pandas_datareader) (2.0.4)\n",
      "Requirement already satisfied: idna<4,>=2.5 in c:\\users\\minji\\anaconda3\\lib\\site-packages (from requests>=2.19.0->pandas_datareader) (3.4)\n",
      "Requirement already satisfied: urllib3<3,>=1.21.1 in c:\\users\\minji\\anaconda3\\lib\\site-packages (from requests>=2.19.0->pandas_datareader) (1.26.16)\n",
      "Requirement already satisfied: certifi>=2017.4.17 in c:\\users\\minji\\anaconda3\\lib\\site-packages (from requests>=2.19.0->pandas_datareader) (2023.7.22)\n",
      "Requirement already satisfied: six>=1.5 in c:\\users\\minji\\anaconda3\\lib\\site-packages (from python-dateutil>=2.8.2->pandas>=0.23->pandas_datareader) (1.16.0)\n"
     ]
    }
   ],
   "source": [
    "!pip install pandas_datareader"
   ]
  },
  {
   "cell_type": "code",
   "execution_count": 2,
   "id": "da55c731",
   "metadata": {
    "ExecuteTime": {
     "end_time": "2023-12-22T08:27:48.068322Z",
     "start_time": "2023-12-22T08:27:26.033846Z"
    },
    "scrolled": true
   },
   "outputs": [
    {
     "name": "stdout",
     "output_type": "stream",
     "text": [
      "Requirement already satisfied: yfinance in c:\\users\\minji\\anaconda3\\lib\\site-packages (0.2.33)\n",
      "Requirement already satisfied: pandas>=1.3.0 in c:\\users\\minji\\anaconda3\\lib\\site-packages (from yfinance) (2.0.3)\n",
      "Requirement already satisfied: numpy>=1.16.5 in c:\\users\\minji\\anaconda3\\lib\\site-packages (from yfinance) (1.24.3)\n",
      "Requirement already satisfied: requests>=2.31 in c:\\users\\minji\\anaconda3\\lib\\site-packages (from yfinance) (2.31.0)\n",
      "Requirement already satisfied: multitasking>=0.0.7 in c:\\users\\minji\\anaconda3\\lib\\site-packages (from yfinance) (0.0.11)\n",
      "Requirement already satisfied: lxml>=4.9.1 in c:\\users\\minji\\anaconda3\\lib\\site-packages (from yfinance) (4.9.3)\n",
      "Requirement already satisfied: appdirs>=1.4.4 in c:\\users\\minji\\anaconda3\\lib\\site-packages (from yfinance) (1.4.4)\n",
      "Requirement already satisfied: pytz>=2022.5 in c:\\users\\minji\\anaconda3\\lib\\site-packages (from yfinance) (2023.3.post1)\n",
      "Requirement already satisfied: frozendict>=2.3.4 in c:\\users\\minji\\anaconda3\\lib\\site-packages (from yfinance) (2.3.10)\n",
      "Requirement already satisfied: peewee>=3.16.2 in c:\\users\\minji\\anaconda3\\lib\\site-packages (from yfinance) (3.17.0)\n",
      "Requirement already satisfied: beautifulsoup4>=4.11.1 in c:\\users\\minji\\anaconda3\\lib\\site-packages (from yfinance) (4.12.2)\n",
      "Requirement already satisfied: html5lib>=1.1 in c:\\users\\minji\\anaconda3\\lib\\site-packages (from yfinance) (1.1)\n",
      "Requirement already satisfied: soupsieve>1.2 in c:\\users\\minji\\anaconda3\\lib\\site-packages (from beautifulsoup4>=4.11.1->yfinance) (2.4)\n",
      "Requirement already satisfied: six>=1.9 in c:\\users\\minji\\anaconda3\\lib\\site-packages (from html5lib>=1.1->yfinance) (1.16.0)\n",
      "Requirement already satisfied: webencodings in c:\\users\\minji\\anaconda3\\lib\\site-packages (from html5lib>=1.1->yfinance) (0.5.1)\n",
      "Requirement already satisfied: python-dateutil>=2.8.2 in c:\\users\\minji\\anaconda3\\lib\\site-packages (from pandas>=1.3.0->yfinance) (2.8.2)\n",
      "Requirement already satisfied: tzdata>=2022.1 in c:\\users\\minji\\anaconda3\\lib\\site-packages (from pandas>=1.3.0->yfinance) (2023.3)\n",
      "Requirement already satisfied: charset-normalizer<4,>=2 in c:\\users\\minji\\anaconda3\\lib\\site-packages (from requests>=2.31->yfinance) (2.0.4)\n",
      "Requirement already satisfied: idna<4,>=2.5 in c:\\users\\minji\\anaconda3\\lib\\site-packages (from requests>=2.31->yfinance) (3.4)\n",
      "Requirement already satisfied: urllib3<3,>=1.21.1 in c:\\users\\minji\\anaconda3\\lib\\site-packages (from requests>=2.31->yfinance) (1.26.16)\n",
      "Requirement already satisfied: certifi>=2017.4.17 in c:\\users\\minji\\anaconda3\\lib\\site-packages (from requests>=2.31->yfinance) (2023.7.22)\n"
     ]
    }
   ],
   "source": [
    "!pip install yfinance"
   ]
  },
  {
   "cell_type": "code",
   "execution_count": 3,
   "id": "3914c5c2",
   "metadata": {
    "ExecuteTime": {
     "end_time": "2023-12-22T08:27:57.444747Z",
     "start_time": "2023-12-22T08:27:55.055906Z"
    }
   },
   "outputs": [],
   "source": [
    "import matplotlib.pyplot as plt\n",
    "plt.style.use(\"ggplot\")\n",
    "\n",
    "# 한글 및 특정 문자 깨짐 문제 해결\n",
    "import matplotlib # 시본의 한글 깨짐은 해결못하지만, - 깨짐 해결\n",
    "from matplotlib import font_manager, rc # 폰트 세팅을 위한 모듈 추가\n",
    "font_path = \"C:/Windows/Fonts/malgun.ttf\" # 사용할 폰트명 경로 삽입\n",
    "font = font_manager.FontProperties(fname = font_path).get_name()\n",
    "rc('font', family = font)"
   ]
  },
  {
   "cell_type": "code",
   "execution_count": 17,
   "id": "83def31f",
   "metadata": {
    "ExecuteTime": {
     "end_time": "2023-12-22T08:39:08.778192Z",
     "start_time": "2023-12-22T08:39:08.773723Z"
    }
   },
   "outputs": [],
   "source": [
    "from pandas_datareader import data\n",
    "import yfinance as yfin\n",
    "yfin.pdr_override()"
   ]
  },
  {
   "cell_type": "code",
   "execution_count": 18,
   "id": "000ffa5d",
   "metadata": {
    "ExecuteTime": {
     "end_time": "2023-12-22T08:39:10.041137Z",
     "start_time": "2023-12-22T08:39:10.033107Z"
    }
   },
   "outputs": [],
   "source": [
    "data.get_data_yahoo?"
   ]
  },
  {
   "cell_type": "code",
   "execution_count": 19,
   "id": "4500cf31",
   "metadata": {
    "ExecuteTime": {
     "end_time": "2023-12-22T08:39:37.410033Z",
     "start_time": "2023-12-22T08:39:11.159572Z"
    }
   },
   "outputs": [
    {
     "name": "stdout",
     "output_type": "stream",
     "text": [
      "[*********************100%%**********************]  1 of 1 completed\n"
     ]
    },
    {
     "data": {
      "text/html": [
       "<div>\n",
       "<style scoped>\n",
       "    .dataframe tbody tr th:only-of-type {\n",
       "        vertical-align: middle;\n",
       "    }\n",
       "\n",
       "    .dataframe tbody tr th {\n",
       "        vertical-align: top;\n",
       "    }\n",
       "\n",
       "    .dataframe thead th {\n",
       "        text-align: right;\n",
       "    }\n",
       "</style>\n",
       "<table border=\"1\" class=\"dataframe\">\n",
       "  <thead>\n",
       "    <tr style=\"text-align: right;\">\n",
       "      <th></th>\n",
       "      <th>Open</th>\n",
       "      <th>High</th>\n",
       "      <th>Low</th>\n",
       "      <th>Close</th>\n",
       "      <th>Adj Close</th>\n",
       "      <th>Volume</th>\n",
       "    </tr>\n",
       "    <tr>\n",
       "      <th>Date</th>\n",
       "      <th></th>\n",
       "      <th></th>\n",
       "      <th></th>\n",
       "      <th></th>\n",
       "      <th></th>\n",
       "      <th></th>\n",
       "    </tr>\n",
       "  </thead>\n",
       "  <tbody>\n",
       "    <tr>\n",
       "      <th>2000-01-04</th>\n",
       "      <td>6000.0</td>\n",
       "      <td>6110.0</td>\n",
       "      <td>5660.0</td>\n",
       "      <td>6110.0</td>\n",
       "      <td>4514.581055</td>\n",
       "      <td>74195000</td>\n",
       "    </tr>\n",
       "    <tr>\n",
       "      <th>2000-01-05</th>\n",
       "      <td>5800.0</td>\n",
       "      <td>6060.0</td>\n",
       "      <td>5520.0</td>\n",
       "      <td>5580.0</td>\n",
       "      <td>4122.972656</td>\n",
       "      <td>74680000</td>\n",
       "    </tr>\n",
       "    <tr>\n",
       "      <th>2000-01-06</th>\n",
       "      <td>5750.0</td>\n",
       "      <td>5780.0</td>\n",
       "      <td>5580.0</td>\n",
       "      <td>5620.0</td>\n",
       "      <td>4152.527832</td>\n",
       "      <td>54390000</td>\n",
       "    </tr>\n",
       "    <tr>\n",
       "      <th>2000-01-07</th>\n",
       "      <td>5560.0</td>\n",
       "      <td>5670.0</td>\n",
       "      <td>5360.0</td>\n",
       "      <td>5540.0</td>\n",
       "      <td>4093.416260</td>\n",
       "      <td>40305000</td>\n",
       "    </tr>\n",
       "    <tr>\n",
       "      <th>2000-01-10</th>\n",
       "      <td>5600.0</td>\n",
       "      <td>5770.0</td>\n",
       "      <td>5580.0</td>\n",
       "      <td>5770.0</td>\n",
       "      <td>4263.359863</td>\n",
       "      <td>46880000</td>\n",
       "    </tr>\n",
       "    <tr>\n",
       "      <th>...</th>\n",
       "      <td>...</td>\n",
       "      <td>...</td>\n",
       "      <td>...</td>\n",
       "      <td>...</td>\n",
       "      <td>...</td>\n",
       "      <td>...</td>\n",
       "    </tr>\n",
       "    <tr>\n",
       "      <th>2023-12-18</th>\n",
       "      <td>73300.0</td>\n",
       "      <td>73400.0</td>\n",
       "      <td>72800.0</td>\n",
       "      <td>72900.0</td>\n",
       "      <td>72900.000000</td>\n",
       "      <td>9690551</td>\n",
       "    </tr>\n",
       "    <tr>\n",
       "      <th>2023-12-19</th>\n",
       "      <td>73000.0</td>\n",
       "      <td>73400.0</td>\n",
       "      <td>72800.0</td>\n",
       "      <td>73400.0</td>\n",
       "      <td>73400.000000</td>\n",
       "      <td>8907632</td>\n",
       "    </tr>\n",
       "    <tr>\n",
       "      <th>2023-12-20</th>\n",
       "      <td>74200.0</td>\n",
       "      <td>74900.0</td>\n",
       "      <td>73800.0</td>\n",
       "      <td>74800.0</td>\n",
       "      <td>74800.000000</td>\n",
       "      <td>16870156</td>\n",
       "    </tr>\n",
       "    <tr>\n",
       "      <th>2023-12-21</th>\n",
       "      <td>74600.0</td>\n",
       "      <td>75000.0</td>\n",
       "      <td>74300.0</td>\n",
       "      <td>75000.0</td>\n",
       "      <td>75000.000000</td>\n",
       "      <td>13478766</td>\n",
       "    </tr>\n",
       "    <tr>\n",
       "      <th>2023-12-22</th>\n",
       "      <td>75800.0</td>\n",
       "      <td>76300.0</td>\n",
       "      <td>75400.0</td>\n",
       "      <td>75900.0</td>\n",
       "      <td>75900.000000</td>\n",
       "      <td>15150099</td>\n",
       "    </tr>\n",
       "  </tbody>\n",
       "</table>\n",
       "<p>6014 rows × 6 columns</p>\n",
       "</div>"
      ],
      "text/plain": [
       "               Open     High      Low    Close     Adj Close    Volume\n",
       "Date                                                                  \n",
       "2000-01-04   6000.0   6110.0   5660.0   6110.0   4514.581055  74195000\n",
       "2000-01-05   5800.0   6060.0   5520.0   5580.0   4122.972656  74680000\n",
       "2000-01-06   5750.0   5780.0   5580.0   5620.0   4152.527832  54390000\n",
       "2000-01-07   5560.0   5670.0   5360.0   5540.0   4093.416260  40305000\n",
       "2000-01-10   5600.0   5770.0   5580.0   5770.0   4263.359863  46880000\n",
       "...             ...      ...      ...      ...           ...       ...\n",
       "2023-12-18  73300.0  73400.0  72800.0  72900.0  72900.000000   9690551\n",
       "2023-12-19  73000.0  73400.0  72800.0  73400.0  73400.000000   8907632\n",
       "2023-12-20  74200.0  74900.0  73800.0  74800.0  74800.000000  16870156\n",
       "2023-12-21  74600.0  75000.0  74300.0  75000.0  75000.000000  13478766\n",
       "2023-12-22  75800.0  76300.0  75400.0  75900.0  75900.000000  15150099\n",
       "\n",
       "[6014 rows x 6 columns]"
      ]
     },
     "execution_count": 19,
     "metadata": {},
     "output_type": "execute_result"
    }
   ],
   "source": [
    "# 삼성전자 주가 읽어오기(종목코드, start, end)\n",
    "sdf = data.get_data_yahoo('005930.KS') # 삼성전자 KOSPI 지수, 끝을 생략하는 오늘까지 가져옴\n",
    "sdf"
   ]
  },
  {
   "cell_type": "code",
   "execution_count": 20,
   "id": "2d6f4264",
   "metadata": {
    "ExecuteTime": {
     "end_time": "2023-12-22T08:41:23.404409Z",
     "start_time": "2023-12-22T08:41:23.394868Z"
    }
   },
   "outputs": [
    {
     "data": {
      "text/plain": [
       "DatetimeIndex(['2000-01-04', '2000-01-05', '2000-01-06', '2000-01-07',\n",
       "               '2000-01-10', '2000-01-11', '2000-01-12', '2000-01-13',\n",
       "               '2000-01-14', '2000-01-17',\n",
       "               ...\n",
       "               '2023-12-11', '2023-12-12', '2023-12-13', '2023-12-14',\n",
       "               '2023-12-15', '2023-12-18', '2023-12-19', '2023-12-20',\n",
       "               '2023-12-21', '2023-12-22'],\n",
       "              dtype='datetime64[ns]', name='Date', length=6014, freq=None)"
      ]
     },
     "execution_count": 20,
     "metadata": {},
     "output_type": "execute_result"
    }
   ],
   "source": [
    "sdf.index"
   ]
  },
  {
   "cell_type": "code",
   "execution_count": 21,
   "id": "5c1eab2d",
   "metadata": {
    "ExecuteTime": {
     "end_time": "2023-12-22T08:41:27.540752Z",
     "start_time": "2023-12-22T08:41:26.858860Z"
    }
   },
   "outputs": [
    {
     "data": {
      "image/png": "[encoded data removed]",
      "text/plain": [
       "<Figure size 640x480 with 1 Axes>"
      ]
     },
     "metadata": {},
     "output_type": "display_data"
    }
   ],
   "source": [
    "plt.plot(sdf['Close'])\n",
    "plt.show()"
   ]
  },
  {
   "cell_type": "markdown",
   "id": "4f0fafd1",
   "metadata": {},
   "source": [
    "# 이동 평균(Move Average)\n",
    "기간별 추세 확인시 사용"
   ]
  },
  {
   "cell_type": "code",
   "execution_count": 22,
   "id": "9a2bcbac",
   "metadata": {
    "ExecuteTime": {
     "end_time": "2023-12-22T08:41:33.408215Z",
     "start_time": "2023-12-22T08:41:33.389862Z"
    }
   },
   "outputs": [
    {
     "data": {
      "text/html": [
       "<div>\n",
       "<style scoped>\n",
       "    .dataframe tbody tr th:only-of-type {\n",
       "        vertical-align: middle;\n",
       "    }\n",
       "\n",
       "    .dataframe tbody tr th {\n",
       "        vertical-align: top;\n",
       "    }\n",
       "\n",
       "    .dataframe thead th {\n",
       "        text-align: right;\n",
       "    }\n",
       "</style>\n",
       "<table border=\"1\" class=\"dataframe\">\n",
       "  <thead>\n",
       "    <tr style=\"text-align: right;\">\n",
       "      <th></th>\n",
       "      <th>A</th>\n",
       "      <th>B</th>\n",
       "    </tr>\n",
       "  </thead>\n",
       "  <tbody>\n",
       "    <tr>\n",
       "      <th>2023-01-01</th>\n",
       "      <td>1</td>\n",
       "      <td>2</td>\n",
       "    </tr>\n",
       "    <tr>\n",
       "      <th>2023-02-01</th>\n",
       "      <td>3</td>\n",
       "      <td>4</td>\n",
       "    </tr>\n",
       "    <tr>\n",
       "      <th>2023-03-01</th>\n",
       "      <td>5</td>\n",
       "      <td>8</td>\n",
       "    </tr>\n",
       "    <tr>\n",
       "      <th>2023-04-01</th>\n",
       "      <td>7</td>\n",
       "      <td>6</td>\n",
       "    </tr>\n",
       "    <tr>\n",
       "      <th>2023-05-01</th>\n",
       "      <td>9</td>\n",
       "      <td>12</td>\n",
       "    </tr>\n",
       "    <tr>\n",
       "      <th>2023-06-01</th>\n",
       "      <td>11</td>\n",
       "      <td>10</td>\n",
       "    </tr>\n",
       "    <tr>\n",
       "      <th>2023-07-01</th>\n",
       "      <td>13</td>\n",
       "      <td>16</td>\n",
       "    </tr>\n",
       "    <tr>\n",
       "      <th>2023-08-01</th>\n",
       "      <td>15</td>\n",
       "      <td>20</td>\n",
       "    </tr>\n",
       "  </tbody>\n",
       "</table>\n",
       "</div>"
      ],
      "text/plain": [
       "             A   B\n",
       "2023-01-01   1   2\n",
       "2023-02-01   3   4\n",
       "2023-03-01   5   8\n",
       "2023-04-01   7   6\n",
       "2023-05-01   9  12\n",
       "2023-06-01  11  10\n",
       "2023-07-01  13  16\n",
       "2023-08-01  15  20"
      ]
     },
     "execution_count": 22,
     "metadata": {},
     "output_type": "execute_result"
    }
   ],
   "source": [
    "data1 = [[1,2],[3,4],[5,8],[7,6],[9,12],[11,10],[13,16],[15,20]]\n",
    "df = pd.DataFrame( data1, columns=['A', 'B'] )\n",
    "\n",
    "df.index=['2023-01-01','2023-02-01','2023-03-01','2023-04-01',\n",
    "          '2023-05-01','2023-06-01','2023-07-01','2023-08-01']\n",
    "df"
   ]
  },
  {
   "cell_type": "code",
   "execution_count": 23,
   "id": "85626209",
   "metadata": {
    "ExecuteTime": {
     "end_time": "2023-12-22T08:41:35.979041Z",
     "start_time": "2023-12-22T08:41:35.956931Z"
    }
   },
   "outputs": [
    {
     "data": {
      "text/html": [
       "<div>\n",
       "<style scoped>\n",
       "    .dataframe tbody tr th:only-of-type {\n",
       "        vertical-align: middle;\n",
       "    }\n",
       "\n",
       "    .dataframe tbody tr th {\n",
       "        vertical-align: top;\n",
       "    }\n",
       "\n",
       "    .dataframe thead th {\n",
       "        text-align: right;\n",
       "    }\n",
       "</style>\n",
       "<table border=\"1\" class=\"dataframe\">\n",
       "  <thead>\n",
       "    <tr style=\"text-align: right;\">\n",
       "      <th></th>\n",
       "      <th>A</th>\n",
       "      <th>B</th>\n",
       "    </tr>\n",
       "  </thead>\n",
       "  <tbody>\n",
       "    <tr>\n",
       "      <th>2023-01-01</th>\n",
       "      <td>NaN</td>\n",
       "      <td>NaN</td>\n",
       "    </tr>\n",
       "    <tr>\n",
       "      <th>2023-02-01</th>\n",
       "      <td>2.0</td>\n",
       "      <td>3.0</td>\n",
       "    </tr>\n",
       "    <tr>\n",
       "      <th>2023-03-01</th>\n",
       "      <td>4.0</td>\n",
       "      <td>6.0</td>\n",
       "    </tr>\n",
       "    <tr>\n",
       "      <th>2023-04-01</th>\n",
       "      <td>6.0</td>\n",
       "      <td>7.0</td>\n",
       "    </tr>\n",
       "    <tr>\n",
       "      <th>2023-05-01</th>\n",
       "      <td>8.0</td>\n",
       "      <td>9.0</td>\n",
       "    </tr>\n",
       "    <tr>\n",
       "      <th>2023-06-01</th>\n",
       "      <td>10.0</td>\n",
       "      <td>11.0</td>\n",
       "    </tr>\n",
       "    <tr>\n",
       "      <th>2023-07-01</th>\n",
       "      <td>12.0</td>\n",
       "      <td>13.0</td>\n",
       "    </tr>\n",
       "    <tr>\n",
       "      <th>2023-08-01</th>\n",
       "      <td>14.0</td>\n",
       "      <td>18.0</td>\n",
       "    </tr>\n",
       "  </tbody>\n",
       "</table>\n",
       "</div>"
      ],
      "text/plain": [
       "               A     B\n",
       "2023-01-01   NaN   NaN\n",
       "2023-02-01   2.0   3.0\n",
       "2023-03-01   4.0   6.0\n",
       "2023-04-01   6.0   7.0\n",
       "2023-05-01   8.0   9.0\n",
       "2023-06-01  10.0  11.0\n",
       "2023-07-01  12.0  13.0\n",
       "2023-08-01  14.0  18.0"
      ]
     },
     "execution_count": 23,
     "metadata": {},
     "output_type": "execute_result"
    }
   ],
   "source": [
    "#rolling 객체의 멤버함수 mean, sum, max, min\n",
    "df.rolling(window=2).mean() \n",
    "# 1행값 nan, 2행값 = 2행 - 1행 ..."
   ]
  },
  {
   "cell_type": "code",
   "execution_count": 24,
   "id": "fa1d8b37",
   "metadata": {
    "ExecuteTime": {
     "end_time": "2023-12-22T08:41:37.998166Z",
     "start_time": "2023-12-22T08:41:37.982262Z"
    }
   },
   "outputs": [
    {
     "data": {
      "text/html": [
       "<div>\n",
       "<style scoped>\n",
       "    .dataframe tbody tr th:only-of-type {\n",
       "        vertical-align: middle;\n",
       "    }\n",
       "\n",
       "    .dataframe tbody tr th {\n",
       "        vertical-align: top;\n",
       "    }\n",
       "\n",
       "    .dataframe thead th {\n",
       "        text-align: right;\n",
       "    }\n",
       "</style>\n",
       "<table border=\"1\" class=\"dataframe\">\n",
       "  <thead>\n",
       "    <tr style=\"text-align: right;\">\n",
       "      <th></th>\n",
       "      <th>A</th>\n",
       "      <th>B</th>\n",
       "    </tr>\n",
       "  </thead>\n",
       "  <tbody>\n",
       "    <tr>\n",
       "      <th>2023-01-01</th>\n",
       "      <td>NaN</td>\n",
       "      <td>NaN</td>\n",
       "    </tr>\n",
       "    <tr>\n",
       "      <th>2023-02-01</th>\n",
       "      <td>NaN</td>\n",
       "      <td>NaN</td>\n",
       "    </tr>\n",
       "    <tr>\n",
       "      <th>2023-03-01</th>\n",
       "      <td>3.0</td>\n",
       "      <td>4.666667</td>\n",
       "    </tr>\n",
       "    <tr>\n",
       "      <th>2023-04-01</th>\n",
       "      <td>5.0</td>\n",
       "      <td>6.000000</td>\n",
       "    </tr>\n",
       "    <tr>\n",
       "      <th>2023-05-01</th>\n",
       "      <td>7.0</td>\n",
       "      <td>8.666667</td>\n",
       "    </tr>\n",
       "    <tr>\n",
       "      <th>2023-06-01</th>\n",
       "      <td>9.0</td>\n",
       "      <td>9.333333</td>\n",
       "    </tr>\n",
       "    <tr>\n",
       "      <th>2023-07-01</th>\n",
       "      <td>11.0</td>\n",
       "      <td>12.666667</td>\n",
       "    </tr>\n",
       "    <tr>\n",
       "      <th>2023-08-01</th>\n",
       "      <td>13.0</td>\n",
       "      <td>15.333333</td>\n",
       "    </tr>\n",
       "  </tbody>\n",
       "</table>\n",
       "</div>"
      ],
      "text/plain": [
       "               A          B\n",
       "2023-01-01   NaN        NaN\n",
       "2023-02-01   NaN        NaN\n",
       "2023-03-01   3.0   4.666667\n",
       "2023-04-01   5.0   6.000000\n",
       "2023-05-01   7.0   8.666667\n",
       "2023-06-01   9.0   9.333333\n",
       "2023-07-01  11.0  12.666667\n",
       "2023-08-01  13.0  15.333333"
      ]
     },
     "execution_count": 24,
     "metadata": {},
     "output_type": "execute_result"
    }
   ],
   "source": [
    "df.rolling(window=3).mean()"
   ]
  },
  {
   "cell_type": "code",
   "execution_count": 25,
   "id": "1a45fa5d",
   "metadata": {
    "ExecuteTime": {
     "end_time": "2023-12-22T08:41:40.243933Z",
     "start_time": "2023-12-22T08:41:39.724278Z"
    }
   },
   "outputs": [
    {
     "data": {
      "image/png": "[encoded data removed]",
      "text/plain": [
       "<Figure size 640x480 with 1 Axes>"
      ]
     },
     "metadata": {},
     "output_type": "display_data"
    }
   ],
   "source": [
    "plt.xticks(rotation=45)\n",
    "plt.plot(df.index, df['B'])\n",
    "plt.plot(df.index, df['B'].rolling(window=2).mean())\n",
    "plt.show()"
   ]
  },
  {
   "cell_type": "code",
   "execution_count": 26,
   "id": "045f00c0",
   "metadata": {
    "ExecuteTime": {
     "end_time": "2023-12-22T08:41:42.666651Z",
     "start_time": "2023-12-22T08:41:42.654563Z"
    }
   },
   "outputs": [
    {
     "data": {
      "text/plain": [
       "Date\n",
       "2000-01-04             NaN\n",
       "2000-01-05             NaN\n",
       "2000-01-06             NaN\n",
       "2000-01-07             NaN\n",
       "2000-01-10             NaN\n",
       "                  ...     \n",
       "2023-12-18    70120.000000\n",
       "2023-12-19    70128.333333\n",
       "2023-12-20    70146.666667\n",
       "2023-12-21    70165.833333\n",
       "2023-12-22    70195.000000\n",
       "Name: Close, Length: 6014, dtype: float64"
      ]
     },
     "execution_count": 26,
     "metadata": {},
     "output_type": "execute_result"
    }
   ],
   "source": [
    "sdf['Close'].rolling(window=120).mean()"
   ]
  },
  {
   "cell_type": "code",
   "execution_count": 27,
   "id": "3950dd4b",
   "metadata": {
    "ExecuteTime": {
     "end_time": "2023-12-22T08:41:45.532440Z",
     "start_time": "2023-12-22T08:41:44.798565Z"
    }
   },
   "outputs": [
    {
     "data": {
      "text/plain": [
       "[<matplotlib.lines.Line2D at 0x17c44eb5d90>]"
      ]
     },
     "execution_count": 27,
     "metadata": {},
     "output_type": "execute_result"
    },
    {
     "data": {
      "image/png": "[encoded data removed]",
      "text/plain": [
       "<Figure size 640x480 with 1 Axes>"
      ]
     },
     "metadata": {},
     "output_type": "display_data"
    }
   ],
   "source": [
    "plt.xticks(rotation=45)\n",
    "plt.plot(sdf.index, sdf['Close'])\n",
    "plt.plot(sdf.index, sdf['Close'].rolling(window=120).mean(), 'b--')"
   ]
  },
  {
   "cell_type": "markdown",
   "id": "5925be2a",
   "metadata": {},
   "source": [
    "# 시계열데이터 인덱싱 슬라이싱\n",
    "인덱스가 datetime형일 경우, 인덱스로 슬라이싱이 가능하다(object는 불가)"
   ]
  },
  {
   "cell_type": "code",
   "execution_count": 28,
   "id": "2aca9635",
   "metadata": {
    "ExecuteTime": {
     "end_time": "2023-12-22T08:41:50.443002Z",
     "start_time": "2023-12-22T08:41:50.433555Z"
    }
   },
   "outputs": [
    {
     "data": {
      "text/plain": [
       "DatetimeIndex(['2000-01-04', '2000-01-05', '2000-01-06', '2000-01-07',\n",
       "               '2000-01-10', '2000-01-11', '2000-01-12', '2000-01-13',\n",
       "               '2000-01-14', '2000-01-17',\n",
       "               ...\n",
       "               '2023-12-11', '2023-12-12', '2023-12-13', '2023-12-14',\n",
       "               '2023-12-15', '2023-12-18', '2023-12-19', '2023-12-20',\n",
       "               '2023-12-21', '2023-12-22'],\n",
       "              dtype='datetime64[ns]', name='Date', length=6014, freq=None)"
      ]
     },
     "execution_count": 28,
     "metadata": {},
     "output_type": "execute_result"
    }
   ],
   "source": [
    "sdf.index"
   ]
  },
  {
   "cell_type": "code",
   "execution_count": 29,
   "id": "f981e15f",
   "metadata": {
    "ExecuteTime": {
     "end_time": "2023-12-22T08:41:52.402743Z",
     "start_time": "2023-12-22T08:41:52.378526Z"
    }
   },
   "outputs": [
    {
     "data": {
      "text/html": [
       "<div>\n",
       "<style scoped>\n",
       "    .dataframe tbody tr th:only-of-type {\n",
       "        vertical-align: middle;\n",
       "    }\n",
       "\n",
       "    .dataframe tbody tr th {\n",
       "        vertical-align: top;\n",
       "    }\n",
       "\n",
       "    .dataframe thead th {\n",
       "        text-align: right;\n",
       "    }\n",
       "</style>\n",
       "<table border=\"1\" class=\"dataframe\">\n",
       "  <thead>\n",
       "    <tr style=\"text-align: right;\">\n",
       "      <th></th>\n",
       "      <th>Open</th>\n",
       "      <th>High</th>\n",
       "      <th>Low</th>\n",
       "      <th>Close</th>\n",
       "      <th>Adj Close</th>\n",
       "      <th>Volume</th>\n",
       "    </tr>\n",
       "    <tr>\n",
       "      <th>Date</th>\n",
       "      <th></th>\n",
       "      <th></th>\n",
       "      <th></th>\n",
       "      <th></th>\n",
       "      <th></th>\n",
       "      <th></th>\n",
       "    </tr>\n",
       "  </thead>\n",
       "  <tbody>\n",
       "    <tr>\n",
       "      <th>2023-01-02</th>\n",
       "      <td>55500.0</td>\n",
       "      <td>56100.0</td>\n",
       "      <td>55200.0</td>\n",
       "      <td>55500.0</td>\n",
       "      <td>54906.453125</td>\n",
       "      <td>10031448</td>\n",
       "    </tr>\n",
       "    <tr>\n",
       "      <th>2023-01-03</th>\n",
       "      <td>55400.0</td>\n",
       "      <td>56000.0</td>\n",
       "      <td>54500.0</td>\n",
       "      <td>55400.0</td>\n",
       "      <td>54807.519531</td>\n",
       "      <td>13547030</td>\n",
       "    </tr>\n",
       "    <tr>\n",
       "      <th>2023-01-04</th>\n",
       "      <td>55700.0</td>\n",
       "      <td>58000.0</td>\n",
       "      <td>55600.0</td>\n",
       "      <td>57800.0</td>\n",
       "      <td>57181.851562</td>\n",
       "      <td>20188071</td>\n",
       "    </tr>\n",
       "    <tr>\n",
       "      <th>2023-01-05</th>\n",
       "      <td>58200.0</td>\n",
       "      <td>58800.0</td>\n",
       "      <td>57600.0</td>\n",
       "      <td>58200.0</td>\n",
       "      <td>57577.574219</td>\n",
       "      <td>15682826</td>\n",
       "    </tr>\n",
       "    <tr>\n",
       "      <th>2023-01-06</th>\n",
       "      <td>58300.0</td>\n",
       "      <td>59400.0</td>\n",
       "      <td>57900.0</td>\n",
       "      <td>59000.0</td>\n",
       "      <td>58369.019531</td>\n",
       "      <td>17334989</td>\n",
       "    </tr>\n",
       "    <tr>\n",
       "      <th>...</th>\n",
       "      <td>...</td>\n",
       "      <td>...</td>\n",
       "      <td>...</td>\n",
       "      <td>...</td>\n",
       "      <td>...</td>\n",
       "      <td>...</td>\n",
       "    </tr>\n",
       "    <tr>\n",
       "      <th>2023-12-18</th>\n",
       "      <td>73300.0</td>\n",
       "      <td>73400.0</td>\n",
       "      <td>72800.0</td>\n",
       "      <td>72900.0</td>\n",
       "      <td>72900.000000</td>\n",
       "      <td>9690551</td>\n",
       "    </tr>\n",
       "    <tr>\n",
       "      <th>2023-12-19</th>\n",
       "      <td>73000.0</td>\n",
       "      <td>73400.0</td>\n",
       "      <td>72800.0</td>\n",
       "      <td>73400.0</td>\n",
       "      <td>73400.000000</td>\n",
       "      <td>8907632</td>\n",
       "    </tr>\n",
       "    <tr>\n",
       "      <th>2023-12-20</th>\n",
       "      <td>74200.0</td>\n",
       "      <td>74900.0</td>\n",
       "      <td>73800.0</td>\n",
       "      <td>74800.0</td>\n",
       "      <td>74800.000000</td>\n",
       "      <td>16870156</td>\n",
       "    </tr>\n",
       "    <tr>\n",
       "      <th>2023-12-21</th>\n",
       "      <td>74600.0</td>\n",
       "      <td>75000.0</td>\n",
       "      <td>74300.0</td>\n",
       "      <td>75000.0</td>\n",
       "      <td>75000.000000</td>\n",
       "      <td>13478766</td>\n",
       "    </tr>\n",
       "    <tr>\n",
       "      <th>2023-12-22</th>\n",
       "      <td>75800.0</td>\n",
       "      <td>76300.0</td>\n",
       "      <td>75400.0</td>\n",
       "      <td>75900.0</td>\n",
       "      <td>75900.000000</td>\n",
       "      <td>15150099</td>\n",
       "    </tr>\n",
       "  </tbody>\n",
       "</table>\n",
       "<p>242 rows × 6 columns</p>\n",
       "</div>"
      ],
      "text/plain": [
       "               Open     High      Low    Close     Adj Close    Volume\n",
       "Date                                                                  \n",
       "2023-01-02  55500.0  56100.0  55200.0  55500.0  54906.453125  10031448\n",
       "2023-01-03  55400.0  56000.0  54500.0  55400.0  54807.519531  13547030\n",
       "2023-01-04  55700.0  58000.0  55600.0  57800.0  57181.851562  20188071\n",
       "2023-01-05  58200.0  58800.0  57600.0  58200.0  57577.574219  15682826\n",
       "2023-01-06  58300.0  59400.0  57900.0  59000.0  58369.019531  17334989\n",
       "...             ...      ...      ...      ...           ...       ...\n",
       "2023-12-18  73300.0  73400.0  72800.0  72900.0  72900.000000   9690551\n",
       "2023-12-19  73000.0  73400.0  72800.0  73400.0  73400.000000   8907632\n",
       "2023-12-20  74200.0  74900.0  73800.0  74800.0  74800.000000  16870156\n",
       "2023-12-21  74600.0  75000.0  74300.0  75000.0  75000.000000  13478766\n",
       "2023-12-22  75800.0  76300.0  75400.0  75900.0  75900.000000  15150099\n",
       "\n",
       "[242 rows x 6 columns]"
      ]
     },
     "execution_count": 29,
     "metadata": {},
     "output_type": "execute_result"
    }
   ],
   "source": [
    "# 2023년 조회하기 # sdf['2023'] 에러남, 칼럼 조회와 헷갈리니 가능하면 loc을 쓰자\n",
    "sdf.loc['2023']"
   ]
  },
  {
   "cell_type": "code",
   "execution_count": 30,
   "id": "b48c890f",
   "metadata": {
    "ExecuteTime": {
     "end_time": "2023-12-22T08:41:54.979703Z",
     "start_time": "2023-12-22T08:41:54.941972Z"
    }
   },
   "outputs": [
    {
     "data": {
      "text/html": [
       "<div>\n",
       "<style scoped>\n",
       "    .dataframe tbody tr th:only-of-type {\n",
       "        vertical-align: middle;\n",
       "    }\n",
       "\n",
       "    .dataframe tbody tr th {\n",
       "        vertical-align: top;\n",
       "    }\n",
       "\n",
       "    .dataframe thead th {\n",
       "        text-align: right;\n",
       "    }\n",
       "</style>\n",
       "<table border=\"1\" class=\"dataframe\">\n",
       "  <thead>\n",
       "    <tr style=\"text-align: right;\">\n",
       "      <th></th>\n",
       "      <th>Open</th>\n",
       "      <th>High</th>\n",
       "      <th>Low</th>\n",
       "      <th>Close</th>\n",
       "      <th>Adj Close</th>\n",
       "      <th>Volume</th>\n",
       "    </tr>\n",
       "    <tr>\n",
       "      <th>Date</th>\n",
       "      <th></th>\n",
       "      <th></th>\n",
       "      <th></th>\n",
       "      <th></th>\n",
       "      <th></th>\n",
       "      <th></th>\n",
       "    </tr>\n",
       "  </thead>\n",
       "  <tbody>\n",
       "    <tr>\n",
       "      <th>2023-11-01</th>\n",
       "      <td>67500.0</td>\n",
       "      <td>68900.0</td>\n",
       "      <td>67300.0</td>\n",
       "      <td>68600.0</td>\n",
       "      <td>68600.0</td>\n",
       "      <td>13775256</td>\n",
       "    </tr>\n",
       "    <tr>\n",
       "      <th>2023-11-02</th>\n",
       "      <td>70000.0</td>\n",
       "      <td>70000.0</td>\n",
       "      <td>69400.0</td>\n",
       "      <td>69700.0</td>\n",
       "      <td>69700.0</td>\n",
       "      <td>16350031</td>\n",
       "    </tr>\n",
       "    <tr>\n",
       "      <th>2023-11-03</th>\n",
       "      <td>69700.0</td>\n",
       "      <td>70200.0</td>\n",
       "      <td>69500.0</td>\n",
       "      <td>69600.0</td>\n",
       "      <td>69600.0</td>\n",
       "      <td>10322234</td>\n",
       "    </tr>\n",
       "    <tr>\n",
       "      <th>2023-11-06</th>\n",
       "      <td>69800.0</td>\n",
       "      <td>70900.0</td>\n",
       "      <td>69300.0</td>\n",
       "      <td>70900.0</td>\n",
       "      <td>70900.0</td>\n",
       "      <td>22228489</td>\n",
       "    </tr>\n",
       "    <tr>\n",
       "      <th>2023-11-07</th>\n",
       "      <td>70600.0</td>\n",
       "      <td>70900.0</td>\n",
       "      <td>70000.0</td>\n",
       "      <td>70900.0</td>\n",
       "      <td>70900.0</td>\n",
       "      <td>17228731</td>\n",
       "    </tr>\n",
       "    <tr>\n",
       "      <th>2023-11-08</th>\n",
       "      <td>71300.0</td>\n",
       "      <td>71400.0</td>\n",
       "      <td>69700.0</td>\n",
       "      <td>69900.0</td>\n",
       "      <td>69900.0</td>\n",
       "      <td>12901310</td>\n",
       "    </tr>\n",
       "    <tr>\n",
       "      <th>2023-11-09</th>\n",
       "      <td>69900.0</td>\n",
       "      <td>70800.0</td>\n",
       "      <td>69600.0</td>\n",
       "      <td>70300.0</td>\n",
       "      <td>70300.0</td>\n",
       "      <td>12301373</td>\n",
       "    </tr>\n",
       "    <tr>\n",
       "      <th>2023-11-10</th>\n",
       "      <td>70000.0</td>\n",
       "      <td>70500.0</td>\n",
       "      <td>69500.0</td>\n",
       "      <td>70500.0</td>\n",
       "      <td>70500.0</td>\n",
       "      <td>9684347</td>\n",
       "    </tr>\n",
       "    <tr>\n",
       "      <th>2023-11-13</th>\n",
       "      <td>71300.0</td>\n",
       "      <td>71300.0</td>\n",
       "      <td>70300.0</td>\n",
       "      <td>70400.0</td>\n",
       "      <td>70400.0</td>\n",
       "      <td>9246919</td>\n",
       "    </tr>\n",
       "    <tr>\n",
       "      <th>2023-11-14</th>\n",
       "      <td>71000.0</td>\n",
       "      <td>71100.0</td>\n",
       "      <td>70600.0</td>\n",
       "      <td>70800.0</td>\n",
       "      <td>70800.0</td>\n",
       "      <td>9567984</td>\n",
       "    </tr>\n",
       "    <tr>\n",
       "      <th>2023-11-15</th>\n",
       "      <td>71600.0</td>\n",
       "      <td>72200.0</td>\n",
       "      <td>71500.0</td>\n",
       "      <td>72200.0</td>\n",
       "      <td>72200.0</td>\n",
       "      <td>20148677</td>\n",
       "    </tr>\n",
       "    <tr>\n",
       "      <th>2023-11-16</th>\n",
       "      <td>72500.0</td>\n",
       "      <td>73000.0</td>\n",
       "      <td>72300.0</td>\n",
       "      <td>72800.0</td>\n",
       "      <td>72800.0</td>\n",
       "      <td>15860451</td>\n",
       "    </tr>\n",
       "    <tr>\n",
       "      <th>2023-11-17</th>\n",
       "      <td>72300.0</td>\n",
       "      <td>73000.0</td>\n",
       "      <td>72300.0</td>\n",
       "      <td>72500.0</td>\n",
       "      <td>72500.0</td>\n",
       "      <td>11494644</td>\n",
       "    </tr>\n",
       "    <tr>\n",
       "      <th>2023-11-20</th>\n",
       "      <td>72100.0</td>\n",
       "      <td>73000.0</td>\n",
       "      <td>72100.0</td>\n",
       "      <td>72700.0</td>\n",
       "      <td>72700.0</td>\n",
       "      <td>10610157</td>\n",
       "    </tr>\n",
       "    <tr>\n",
       "      <th>2023-11-21</th>\n",
       "      <td>73100.0</td>\n",
       "      <td>73400.0</td>\n",
       "      <td>72700.0</td>\n",
       "      <td>72800.0</td>\n",
       "      <td>72800.0</td>\n",
       "      <td>9712881</td>\n",
       "    </tr>\n",
       "    <tr>\n",
       "      <th>2023-11-22</th>\n",
       "      <td>72200.0</td>\n",
       "      <td>73000.0</td>\n",
       "      <td>71900.0</td>\n",
       "      <td>72800.0</td>\n",
       "      <td>72800.0</td>\n",
       "      <td>11105143</td>\n",
       "    </tr>\n",
       "    <tr>\n",
       "      <th>2023-11-23</th>\n",
       "      <td>73000.0</td>\n",
       "      <td>73200.0</td>\n",
       "      <td>72200.0</td>\n",
       "      <td>72400.0</td>\n",
       "      <td>72400.0</td>\n",
       "      <td>6775614</td>\n",
       "    </tr>\n",
       "    <tr>\n",
       "      <th>2023-11-24</th>\n",
       "      <td>72400.0</td>\n",
       "      <td>72600.0</td>\n",
       "      <td>71700.0</td>\n",
       "      <td>71700.0</td>\n",
       "      <td>71700.0</td>\n",
       "      <td>6676685</td>\n",
       "    </tr>\n",
       "    <tr>\n",
       "      <th>2023-11-27</th>\n",
       "      <td>71500.0</td>\n",
       "      <td>72100.0</td>\n",
       "      <td>71100.0</td>\n",
       "      <td>71300.0</td>\n",
       "      <td>71300.0</td>\n",
       "      <td>9113857</td>\n",
       "    </tr>\n",
       "    <tr>\n",
       "      <th>2023-11-28</th>\n",
       "      <td>71400.0</td>\n",
       "      <td>72700.0</td>\n",
       "      <td>71300.0</td>\n",
       "      <td>72700.0</td>\n",
       "      <td>72700.0</td>\n",
       "      <td>13283081</td>\n",
       "    </tr>\n",
       "    <tr>\n",
       "      <th>2023-11-29</th>\n",
       "      <td>72400.0</td>\n",
       "      <td>72800.0</td>\n",
       "      <td>72200.0</td>\n",
       "      <td>72700.0</td>\n",
       "      <td>72700.0</td>\n",
       "      <td>9283933</td>\n",
       "    </tr>\n",
       "    <tr>\n",
       "      <th>2023-11-30</th>\n",
       "      <td>72700.0</td>\n",
       "      <td>72800.0</td>\n",
       "      <td>72200.0</td>\n",
       "      <td>72800.0</td>\n",
       "      <td>72800.0</td>\n",
       "      <td>15783714</td>\n",
       "    </tr>\n",
       "  </tbody>\n",
       "</table>\n",
       "</div>"
      ],
      "text/plain": [
       "               Open     High      Low    Close  Adj Close    Volume\n",
       "Date                                                               \n",
       "2023-11-01  67500.0  68900.0  67300.0  68600.0    68600.0  13775256\n",
       "2023-11-02  70000.0  70000.0  69400.0  69700.0    69700.0  16350031\n",
       "2023-11-03  69700.0  70200.0  69500.0  69600.0    69600.0  10322234\n",
       "2023-11-06  69800.0  70900.0  69300.0  70900.0    70900.0  22228489\n",
       "2023-11-07  70600.0  70900.0  70000.0  70900.0    70900.0  17228731\n",
       "2023-11-08  71300.0  71400.0  69700.0  69900.0    69900.0  12901310\n",
       "2023-11-09  69900.0  70800.0  69600.0  70300.0    70300.0  12301373\n",
       "2023-11-10  70000.0  70500.0  69500.0  70500.0    70500.0   9684347\n",
       "2023-11-13  71300.0  71300.0  70300.0  70400.0    70400.0   9246919\n",
       "2023-11-14  71000.0  71100.0  70600.0  70800.0    70800.0   9567984\n",
       "2023-11-15  71600.0  72200.0  71500.0  72200.0    72200.0  20148677\n",
       "2023-11-16  72500.0  73000.0  72300.0  72800.0    72800.0  15860451\n",
       "2023-11-17  72300.0  73000.0  72300.0  72500.0    72500.0  11494644\n",
       "2023-11-20  72100.0  73000.0  72100.0  72700.0    72700.0  10610157\n",
       "2023-11-21  73100.0  73400.0  72700.0  72800.0    72800.0   9712881\n",
       "2023-11-22  72200.0  73000.0  71900.0  72800.0    72800.0  11105143\n",
       "2023-11-23  73000.0  73200.0  72200.0  72400.0    72400.0   6775614\n",
       "2023-11-24  72400.0  72600.0  71700.0  71700.0    71700.0   6676685\n",
       "2023-11-27  71500.0  72100.0  71100.0  71300.0    71300.0   9113857\n",
       "2023-11-28  71400.0  72700.0  71300.0  72700.0    72700.0  13283081\n",
       "2023-11-29  72400.0  72800.0  72200.0  72700.0    72700.0   9283933\n",
       "2023-11-30  72700.0  72800.0  72200.0  72800.0    72800.0  15783714"
      ]
     },
     "execution_count": 30,
     "metadata": {},
     "output_type": "execute_result"
    }
   ],
   "source": [
    "sdf.loc['2023-11']"
   ]
  },
  {
   "cell_type": "code",
   "execution_count": 31,
   "id": "e2ebb985",
   "metadata": {
    "ExecuteTime": {
     "end_time": "2023-12-22T08:41:57.759941Z",
     "start_time": "2023-12-22T08:41:57.721964Z"
    }
   },
   "outputs": [
    {
     "data": {
      "text/html": [
       "<div>\n",
       "<style scoped>\n",
       "    .dataframe tbody tr th:only-of-type {\n",
       "        vertical-align: middle;\n",
       "    }\n",
       "\n",
       "    .dataframe tbody tr th {\n",
       "        vertical-align: top;\n",
       "    }\n",
       "\n",
       "    .dataframe thead th {\n",
       "        text-align: right;\n",
       "    }\n",
       "</style>\n",
       "<table border=\"1\" class=\"dataframe\">\n",
       "  <thead>\n",
       "    <tr style=\"text-align: right;\">\n",
       "      <th></th>\n",
       "      <th>Open</th>\n",
       "      <th>High</th>\n",
       "      <th>Low</th>\n",
       "      <th>Close</th>\n",
       "      <th>Adj Close</th>\n",
       "      <th>Volume</th>\n",
       "    </tr>\n",
       "    <tr>\n",
       "      <th>Date</th>\n",
       "      <th></th>\n",
       "      <th></th>\n",
       "      <th></th>\n",
       "      <th></th>\n",
       "      <th></th>\n",
       "      <th></th>\n",
       "    </tr>\n",
       "  </thead>\n",
       "  <tbody>\n",
       "    <tr>\n",
       "      <th>2020-01-02</th>\n",
       "      <td>55500.0</td>\n",
       "      <td>56000.0</td>\n",
       "      <td>55000.0</td>\n",
       "      <td>55200.0</td>\n",
       "      <td>50037.414062</td>\n",
       "      <td>12993228</td>\n",
       "    </tr>\n",
       "    <tr>\n",
       "      <th>2020-01-03</th>\n",
       "      <td>56000.0</td>\n",
       "      <td>56600.0</td>\n",
       "      <td>54900.0</td>\n",
       "      <td>55500.0</td>\n",
       "      <td>50309.351562</td>\n",
       "      <td>15422255</td>\n",
       "    </tr>\n",
       "    <tr>\n",
       "      <th>2020-01-06</th>\n",
       "      <td>54900.0</td>\n",
       "      <td>55600.0</td>\n",
       "      <td>54600.0</td>\n",
       "      <td>55500.0</td>\n",
       "      <td>50309.351562</td>\n",
       "      <td>10278951</td>\n",
       "    </tr>\n",
       "    <tr>\n",
       "      <th>2020-01-07</th>\n",
       "      <td>55700.0</td>\n",
       "      <td>56400.0</td>\n",
       "      <td>55600.0</td>\n",
       "      <td>55800.0</td>\n",
       "      <td>50581.292969</td>\n",
       "      <td>10009778</td>\n",
       "    </tr>\n",
       "    <tr>\n",
       "      <th>2020-01-08</th>\n",
       "      <td>56200.0</td>\n",
       "      <td>57400.0</td>\n",
       "      <td>55900.0</td>\n",
       "      <td>56800.0</td>\n",
       "      <td>51487.765625</td>\n",
       "      <td>23501171</td>\n",
       "    </tr>\n",
       "    <tr>\n",
       "      <th>...</th>\n",
       "      <td>...</td>\n",
       "      <td>...</td>\n",
       "      <td>...</td>\n",
       "      <td>...</td>\n",
       "      <td>...</td>\n",
       "      <td>...</td>\n",
       "    </tr>\n",
       "    <tr>\n",
       "      <th>2023-12-18</th>\n",
       "      <td>73300.0</td>\n",
       "      <td>73400.0</td>\n",
       "      <td>72800.0</td>\n",
       "      <td>72900.0</td>\n",
       "      <td>72900.000000</td>\n",
       "      <td>9690551</td>\n",
       "    </tr>\n",
       "    <tr>\n",
       "      <th>2023-12-19</th>\n",
       "      <td>73000.0</td>\n",
       "      <td>73400.0</td>\n",
       "      <td>72800.0</td>\n",
       "      <td>73400.0</td>\n",
       "      <td>73400.000000</td>\n",
       "      <td>8907632</td>\n",
       "    </tr>\n",
       "    <tr>\n",
       "      <th>2023-12-20</th>\n",
       "      <td>74200.0</td>\n",
       "      <td>74900.0</td>\n",
       "      <td>73800.0</td>\n",
       "      <td>74800.0</td>\n",
       "      <td>74800.000000</td>\n",
       "      <td>16870156</td>\n",
       "    </tr>\n",
       "    <tr>\n",
       "      <th>2023-12-21</th>\n",
       "      <td>74600.0</td>\n",
       "      <td>75000.0</td>\n",
       "      <td>74300.0</td>\n",
       "      <td>75000.0</td>\n",
       "      <td>75000.000000</td>\n",
       "      <td>13478766</td>\n",
       "    </tr>\n",
       "    <tr>\n",
       "      <th>2023-12-22</th>\n",
       "      <td>75800.0</td>\n",
       "      <td>76300.0</td>\n",
       "      <td>75400.0</td>\n",
       "      <td>75900.0</td>\n",
       "      <td>75900.000000</td>\n",
       "      <td>15150099</td>\n",
       "    </tr>\n",
       "  </tbody>\n",
       "</table>\n",
       "<p>982 rows × 6 columns</p>\n",
       "</div>"
      ],
      "text/plain": [
       "               Open     High      Low    Close     Adj Close    Volume\n",
       "Date                                                                  \n",
       "2020-01-02  55500.0  56000.0  55000.0  55200.0  50037.414062  12993228\n",
       "2020-01-03  56000.0  56600.0  54900.0  55500.0  50309.351562  15422255\n",
       "2020-01-06  54900.0  55600.0  54600.0  55500.0  50309.351562  10278951\n",
       "2020-01-07  55700.0  56400.0  55600.0  55800.0  50581.292969  10009778\n",
       "2020-01-08  56200.0  57400.0  55900.0  56800.0  51487.765625  23501171\n",
       "...             ...      ...      ...      ...           ...       ...\n",
       "2023-12-18  73300.0  73400.0  72800.0  72900.0  72900.000000   9690551\n",
       "2023-12-19  73000.0  73400.0  72800.0  73400.0  73400.000000   8907632\n",
       "2023-12-20  74200.0  74900.0  73800.0  74800.0  74800.000000  16870156\n",
       "2023-12-21  74600.0  75000.0  74300.0  75000.0  75000.000000  13478766\n",
       "2023-12-22  75800.0  76300.0  75400.0  75900.0  75900.000000  15150099\n",
       "\n",
       "[982 rows x 6 columns]"
      ]
     },
     "execution_count": 31,
     "metadata": {},
     "output_type": "execute_result"
    }
   ],
   "source": [
    "sdf.loc['2020':'2023']"
   ]
  },
  {
   "cell_type": "code",
   "execution_count": 32,
   "id": "a079d3ec",
   "metadata": {
    "ExecuteTime": {
     "end_time": "2023-12-22T08:42:01.526726Z",
     "start_time": "2023-12-22T08:42:01.500208Z"
    }
   },
   "outputs": [
    {
     "data": {
      "text/html": [
       "<div>\n",
       "<style scoped>\n",
       "    .dataframe tbody tr th:only-of-type {\n",
       "        vertical-align: middle;\n",
       "    }\n",
       "\n",
       "    .dataframe tbody tr th {\n",
       "        vertical-align: top;\n",
       "    }\n",
       "\n",
       "    .dataframe thead th {\n",
       "        text-align: right;\n",
       "    }\n",
       "</style>\n",
       "<table border=\"1\" class=\"dataframe\">\n",
       "  <thead>\n",
       "    <tr style=\"text-align: right;\">\n",
       "      <th></th>\n",
       "      <th>Open</th>\n",
       "      <th>High</th>\n",
       "      <th>Low</th>\n",
       "      <th>Close</th>\n",
       "      <th>Adj Close</th>\n",
       "      <th>Volume</th>\n",
       "    </tr>\n",
       "    <tr>\n",
       "      <th>Date</th>\n",
       "      <th></th>\n",
       "      <th></th>\n",
       "      <th></th>\n",
       "      <th></th>\n",
       "      <th></th>\n",
       "      <th></th>\n",
       "    </tr>\n",
       "  </thead>\n",
       "  <tbody>\n",
       "    <tr>\n",
       "      <th>2020-01-02</th>\n",
       "      <td>55500.0</td>\n",
       "      <td>56000.0</td>\n",
       "      <td>55000.0</td>\n",
       "      <td>55200.0</td>\n",
       "      <td>50037.414062</td>\n",
       "      <td>12993228</td>\n",
       "    </tr>\n",
       "    <tr>\n",
       "      <th>2020-01-03</th>\n",
       "      <td>56000.0</td>\n",
       "      <td>56600.0</td>\n",
       "      <td>54900.0</td>\n",
       "      <td>55500.0</td>\n",
       "      <td>50309.351562</td>\n",
       "      <td>15422255</td>\n",
       "    </tr>\n",
       "    <tr>\n",
       "      <th>2020-01-06</th>\n",
       "      <td>54900.0</td>\n",
       "      <td>55600.0</td>\n",
       "      <td>54600.0</td>\n",
       "      <td>55500.0</td>\n",
       "      <td>50309.351562</td>\n",
       "      <td>10278951</td>\n",
       "    </tr>\n",
       "    <tr>\n",
       "      <th>2020-01-07</th>\n",
       "      <td>55700.0</td>\n",
       "      <td>56400.0</td>\n",
       "      <td>55600.0</td>\n",
       "      <td>55800.0</td>\n",
       "      <td>50581.292969</td>\n",
       "      <td>10009778</td>\n",
       "    </tr>\n",
       "    <tr>\n",
       "      <th>2020-01-08</th>\n",
       "      <td>56200.0</td>\n",
       "      <td>57400.0</td>\n",
       "      <td>55900.0</td>\n",
       "      <td>56800.0</td>\n",
       "      <td>51487.765625</td>\n",
       "      <td>23501171</td>\n",
       "    </tr>\n",
       "    <tr>\n",
       "      <th>...</th>\n",
       "      <td>...</td>\n",
       "      <td>...</td>\n",
       "      <td>...</td>\n",
       "      <td>...</td>\n",
       "      <td>...</td>\n",
       "      <td>...</td>\n",
       "    </tr>\n",
       "    <tr>\n",
       "      <th>2022-12-23</th>\n",
       "      <td>58200.0</td>\n",
       "      <td>58400.0</td>\n",
       "      <td>57700.0</td>\n",
       "      <td>58100.0</td>\n",
       "      <td>57121.507812</td>\n",
       "      <td>9829407</td>\n",
       "    </tr>\n",
       "    <tr>\n",
       "      <th>2022-12-26</th>\n",
       "      <td>58000.0</td>\n",
       "      <td>58100.0</td>\n",
       "      <td>57700.0</td>\n",
       "      <td>57900.0</td>\n",
       "      <td>56924.871094</td>\n",
       "      <td>6756411</td>\n",
       "    </tr>\n",
       "    <tr>\n",
       "      <th>2022-12-27</th>\n",
       "      <td>58000.0</td>\n",
       "      <td>58400.0</td>\n",
       "      <td>57900.0</td>\n",
       "      <td>58100.0</td>\n",
       "      <td>57121.507812</td>\n",
       "      <td>10667027</td>\n",
       "    </tr>\n",
       "    <tr>\n",
       "      <th>2022-12-28</th>\n",
       "      <td>57600.0</td>\n",
       "      <td>57600.0</td>\n",
       "      <td>56400.0</td>\n",
       "      <td>56600.0</td>\n",
       "      <td>55994.683594</td>\n",
       "      <td>14665410</td>\n",
       "    </tr>\n",
       "    <tr>\n",
       "      <th>2022-12-29</th>\n",
       "      <td>56000.0</td>\n",
       "      <td>56200.0</td>\n",
       "      <td>55300.0</td>\n",
       "      <td>55300.0</td>\n",
       "      <td>54708.589844</td>\n",
       "      <td>11295935</td>\n",
       "    </tr>\n",
       "  </tbody>\n",
       "</table>\n",
       "<p>740 rows × 6 columns</p>\n",
       "</div>"
      ],
      "text/plain": [
       "               Open     High      Low    Close     Adj Close    Volume\n",
       "Date                                                                  \n",
       "2020-01-02  55500.0  56000.0  55000.0  55200.0  50037.414062  12993228\n",
       "2020-01-03  56000.0  56600.0  54900.0  55500.0  50309.351562  15422255\n",
       "2020-01-06  54900.0  55600.0  54600.0  55500.0  50309.351562  10278951\n",
       "2020-01-07  55700.0  56400.0  55600.0  55800.0  50581.292969  10009778\n",
       "2020-01-08  56200.0  57400.0  55900.0  56800.0  51487.765625  23501171\n",
       "...             ...      ...      ...      ...           ...       ...\n",
       "2022-12-23  58200.0  58400.0  57700.0  58100.0  57121.507812   9829407\n",
       "2022-12-26  58000.0  58100.0  57700.0  57900.0  56924.871094   6756411\n",
       "2022-12-27  58000.0  58400.0  57900.0  58100.0  57121.507812  10667027\n",
       "2022-12-28  57600.0  57600.0  56400.0  56600.0  55994.683594  14665410\n",
       "2022-12-29  56000.0  56200.0  55300.0  55300.0  54708.589844  11295935\n",
       "\n",
       "[740 rows x 6 columns]"
      ]
     },
     "execution_count": 32,
     "metadata": {},
     "output_type": "execute_result"
    }
   ],
   "source": [
    "sdf.loc['2020-01-01':'2022-12-31']"
   ]
  },
  {
   "cell_type": "code",
   "execution_count": 33,
   "id": "074bc82e",
   "metadata": {
    "ExecuteTime": {
     "end_time": "2023-12-22T08:42:04.025738Z",
     "start_time": "2023-12-22T08:42:03.999076Z"
    }
   },
   "outputs": [
    {
     "data": {
      "text/html": [
       "<div>\n",
       "<style scoped>\n",
       "    .dataframe tbody tr th:only-of-type {\n",
       "        vertical-align: middle;\n",
       "    }\n",
       "\n",
       "    .dataframe tbody tr th {\n",
       "        vertical-align: top;\n",
       "    }\n",
       "\n",
       "    .dataframe thead th {\n",
       "        text-align: right;\n",
       "    }\n",
       "</style>\n",
       "<table border=\"1\" class=\"dataframe\">\n",
       "  <thead>\n",
       "    <tr style=\"text-align: right;\">\n",
       "      <th></th>\n",
       "      <th>Open</th>\n",
       "      <th>High</th>\n",
       "      <th>Low</th>\n",
       "      <th>Close</th>\n",
       "      <th>Adj Close</th>\n",
       "      <th>Volume</th>\n",
       "      <th>year</th>\n",
       "    </tr>\n",
       "    <tr>\n",
       "      <th>Date</th>\n",
       "      <th></th>\n",
       "      <th></th>\n",
       "      <th></th>\n",
       "      <th></th>\n",
       "      <th></th>\n",
       "      <th></th>\n",
       "      <th></th>\n",
       "    </tr>\n",
       "  </thead>\n",
       "  <tbody>\n",
       "    <tr>\n",
       "      <th>2000-01-04</th>\n",
       "      <td>6000.0</td>\n",
       "      <td>6110.0</td>\n",
       "      <td>5660.0</td>\n",
       "      <td>6110.0</td>\n",
       "      <td>4514.581055</td>\n",
       "      <td>74195000</td>\n",
       "      <td>2000</td>\n",
       "    </tr>\n",
       "    <tr>\n",
       "      <th>2000-01-05</th>\n",
       "      <td>5800.0</td>\n",
       "      <td>6060.0</td>\n",
       "      <td>5520.0</td>\n",
       "      <td>5580.0</td>\n",
       "      <td>4122.972656</td>\n",
       "      <td>74680000</td>\n",
       "      <td>2000</td>\n",
       "    </tr>\n",
       "    <tr>\n",
       "      <th>2000-01-06</th>\n",
       "      <td>5750.0</td>\n",
       "      <td>5780.0</td>\n",
       "      <td>5580.0</td>\n",
       "      <td>5620.0</td>\n",
       "      <td>4152.527832</td>\n",
       "      <td>54390000</td>\n",
       "      <td>2000</td>\n",
       "    </tr>\n",
       "    <tr>\n",
       "      <th>2000-01-07</th>\n",
       "      <td>5560.0</td>\n",
       "      <td>5670.0</td>\n",
       "      <td>5360.0</td>\n",
       "      <td>5540.0</td>\n",
       "      <td>4093.416260</td>\n",
       "      <td>40305000</td>\n",
       "      <td>2000</td>\n",
       "    </tr>\n",
       "    <tr>\n",
       "      <th>2000-01-10</th>\n",
       "      <td>5600.0</td>\n",
       "      <td>5770.0</td>\n",
       "      <td>5580.0</td>\n",
       "      <td>5770.0</td>\n",
       "      <td>4263.359863</td>\n",
       "      <td>46880000</td>\n",
       "      <td>2000</td>\n",
       "    </tr>\n",
       "    <tr>\n",
       "      <th>...</th>\n",
       "      <td>...</td>\n",
       "      <td>...</td>\n",
       "      <td>...</td>\n",
       "      <td>...</td>\n",
       "      <td>...</td>\n",
       "      <td>...</td>\n",
       "      <td>...</td>\n",
       "    </tr>\n",
       "    <tr>\n",
       "      <th>2023-12-18</th>\n",
       "      <td>73300.0</td>\n",
       "      <td>73400.0</td>\n",
       "      <td>72800.0</td>\n",
       "      <td>72900.0</td>\n",
       "      <td>72900.000000</td>\n",
       "      <td>9690551</td>\n",
       "      <td>2023</td>\n",
       "    </tr>\n",
       "    <tr>\n",
       "      <th>2023-12-19</th>\n",
       "      <td>73000.0</td>\n",
       "      <td>73400.0</td>\n",
       "      <td>72800.0</td>\n",
       "      <td>73400.0</td>\n",
       "      <td>73400.000000</td>\n",
       "      <td>8907632</td>\n",
       "      <td>2023</td>\n",
       "    </tr>\n",
       "    <tr>\n",
       "      <th>2023-12-20</th>\n",
       "      <td>74200.0</td>\n",
       "      <td>74900.0</td>\n",
       "      <td>73800.0</td>\n",
       "      <td>74800.0</td>\n",
       "      <td>74800.000000</td>\n",
       "      <td>16870156</td>\n",
       "      <td>2023</td>\n",
       "    </tr>\n",
       "    <tr>\n",
       "      <th>2023-12-21</th>\n",
       "      <td>74600.0</td>\n",
       "      <td>75000.0</td>\n",
       "      <td>74300.0</td>\n",
       "      <td>75000.0</td>\n",
       "      <td>75000.000000</td>\n",
       "      <td>13478766</td>\n",
       "      <td>2023</td>\n",
       "    </tr>\n",
       "    <tr>\n",
       "      <th>2023-12-22</th>\n",
       "      <td>75800.0</td>\n",
       "      <td>76300.0</td>\n",
       "      <td>75400.0</td>\n",
       "      <td>75900.0</td>\n",
       "      <td>75900.000000</td>\n",
       "      <td>15150099</td>\n",
       "      <td>2023</td>\n",
       "    </tr>\n",
       "  </tbody>\n",
       "</table>\n",
       "<p>6014 rows × 7 columns</p>\n",
       "</div>"
      ],
      "text/plain": [
       "               Open     High      Low    Close     Adj Close    Volume  year\n",
       "Date                                                                        \n",
       "2000-01-04   6000.0   6110.0   5660.0   6110.0   4514.581055  74195000  2000\n",
       "2000-01-05   5800.0   6060.0   5520.0   5580.0   4122.972656  74680000  2000\n",
       "2000-01-06   5750.0   5780.0   5580.0   5620.0   4152.527832  54390000  2000\n",
       "2000-01-07   5560.0   5670.0   5360.0   5540.0   4093.416260  40305000  2000\n",
       "2000-01-10   5600.0   5770.0   5580.0   5770.0   4263.359863  46880000  2000\n",
       "...             ...      ...      ...      ...           ...       ...   ...\n",
       "2023-12-18  73300.0  73400.0  72800.0  72900.0  72900.000000   9690551  2023\n",
       "2023-12-19  73000.0  73400.0  72800.0  73400.0  73400.000000   8907632  2023\n",
       "2023-12-20  74200.0  74900.0  73800.0  74800.0  74800.000000  16870156  2023\n",
       "2023-12-21  74600.0  75000.0  74300.0  75000.0  75000.000000  13478766  2023\n",
       "2023-12-22  75800.0  76300.0  75400.0  75900.0  75900.000000  15150099  2023\n",
       "\n",
       "[6014 rows x 7 columns]"
      ]
     },
     "execution_count": 33,
     "metadata": {},
     "output_type": "execute_result"
    }
   ],
   "source": [
    "sdf['year'] = sdf.index.year\n",
    "sdf"
   ]
  },
  {
   "cell_type": "markdown",
   "id": "514f4eae",
   "metadata": {},
   "source": [
    "# 시계열 데이터의 통계(집계)"
   ]
  },
  {
   "cell_type": "code",
   "execution_count": 34,
   "id": "8d57d570",
   "metadata": {
    "ExecuteTime": {
     "end_time": "2023-12-22T08:42:07.439331Z",
     "start_time": "2023-12-22T08:42:07.397302Z"
    }
   },
   "outputs": [
    {
     "data": {
      "text/html": [
       "<div>\n",
       "<style scoped>\n",
       "    .dataframe tbody tr th:only-of-type {\n",
       "        vertical-align: middle;\n",
       "    }\n",
       "\n",
       "    .dataframe tbody tr th {\n",
       "        vertical-align: top;\n",
       "    }\n",
       "\n",
       "    .dataframe thead th {\n",
       "        text-align: right;\n",
       "    }\n",
       "</style>\n",
       "<table border=\"1\" class=\"dataframe\">\n",
       "  <thead>\n",
       "    <tr style=\"text-align: right;\">\n",
       "      <th></th>\n",
       "      <th>Open</th>\n",
       "      <th>High</th>\n",
       "      <th>Low</th>\n",
       "      <th>Close</th>\n",
       "      <th>Adj Close</th>\n",
       "      <th>Volume</th>\n",
       "    </tr>\n",
       "    <tr>\n",
       "      <th>year</th>\n",
       "      <th></th>\n",
       "      <th></th>\n",
       "      <th></th>\n",
       "      <th></th>\n",
       "      <th></th>\n",
       "      <th></th>\n",
       "    </tr>\n",
       "  </thead>\n",
       "  <tbody>\n",
       "    <tr>\n",
       "      <th>2000</th>\n",
       "      <td>5370.0</td>\n",
       "      <td>5494.0</td>\n",
       "      <td>5248.0</td>\n",
       "      <td>5362.0</td>\n",
       "      <td>3962.0</td>\n",
       "      <td>50783205.0</td>\n",
       "    </tr>\n",
       "    <tr>\n",
       "      <th>2001</th>\n",
       "      <td>3989.0</td>\n",
       "      <td>4062.0</td>\n",
       "      <td>3928.0</td>\n",
       "      <td>3999.0</td>\n",
       "      <td>2955.0</td>\n",
       "      <td>33614195.0</td>\n",
       "    </tr>\n",
       "    <tr>\n",
       "      <th>2002</th>\n",
       "      <td>6850.0</td>\n",
       "      <td>6955.0</td>\n",
       "      <td>6752.0</td>\n",
       "      <td>6857.0</td>\n",
       "      <td>5066.0</td>\n",
       "      <td>39264176.0</td>\n",
       "    </tr>\n",
       "    <tr>\n",
       "      <th>2003</th>\n",
       "      <td>7461.0</td>\n",
       "      <td>7554.0</td>\n",
       "      <td>7372.0</td>\n",
       "      <td>7468.0</td>\n",
       "      <td>5518.0</td>\n",
       "      <td>29283123.0</td>\n",
       "    </tr>\n",
       "    <tr>\n",
       "      <th>2004</th>\n",
       "      <td>9675.0</td>\n",
       "      <td>9787.0</td>\n",
       "      <td>9557.0</td>\n",
       "      <td>9675.0</td>\n",
       "      <td>7148.0</td>\n",
       "      <td>27187061.0</td>\n",
       "    </tr>\n",
       "    <tr>\n",
       "      <th>2005</th>\n",
       "      <td>10723.0</td>\n",
       "      <td>10825.0</td>\n",
       "      <td>10632.0</td>\n",
       "      <td>10733.0</td>\n",
       "      <td>7931.0</td>\n",
       "      <td>20577988.0</td>\n",
       "    </tr>\n",
       "    <tr>\n",
       "      <th>2006</th>\n",
       "      <td>12768.0</td>\n",
       "      <td>12893.0</td>\n",
       "      <td>12638.0</td>\n",
       "      <td>12762.0</td>\n",
       "      <td>9435.0</td>\n",
       "      <td>19283371.0</td>\n",
       "    </tr>\n",
       "    <tr>\n",
       "      <th>2007</th>\n",
       "      <td>11556.0</td>\n",
       "      <td>11681.0</td>\n",
       "      <td>11418.0</td>\n",
       "      <td>11546.0</td>\n",
       "      <td>8614.0</td>\n",
       "      <td>27934642.0</td>\n",
       "    </tr>\n",
       "    <tr>\n",
       "      <th>2008</th>\n",
       "      <td>11486.0</td>\n",
       "      <td>11670.0</td>\n",
       "      <td>11315.0</td>\n",
       "      <td>11494.0</td>\n",
       "      <td>8696.0</td>\n",
       "      <td>27783142.0</td>\n",
       "    </tr>\n",
       "    <tr>\n",
       "      <th>2009</th>\n",
       "      <td>12835.0</td>\n",
       "      <td>13003.0</td>\n",
       "      <td>12665.0</td>\n",
       "      <td>12840.0</td>\n",
       "      <td>9830.0</td>\n",
       "      <td>24055224.0</td>\n",
       "    </tr>\n",
       "    <tr>\n",
       "      <th>2010</th>\n",
       "      <td>16081.0</td>\n",
       "      <td>16223.0</td>\n",
       "      <td>15914.0</td>\n",
       "      <td>16071.0</td>\n",
       "      <td>12466.0</td>\n",
       "      <td>17372052.0</td>\n",
       "    </tr>\n",
       "    <tr>\n",
       "      <th>2011</th>\n",
       "      <td>17932.0</td>\n",
       "      <td>18148.0</td>\n",
       "      <td>17705.0</td>\n",
       "      <td>17926.0</td>\n",
       "      <td>14026.0</td>\n",
       "      <td>19757473.0</td>\n",
       "    </tr>\n",
       "    <tr>\n",
       "      <th>2012</th>\n",
       "      <td>25183.0</td>\n",
       "      <td>25454.0</td>\n",
       "      <td>24928.0</td>\n",
       "      <td>25215.0</td>\n",
       "      <td>19832.0</td>\n",
       "      <td>16173437.0</td>\n",
       "    </tr>\n",
       "    <tr>\n",
       "      <th>2013</th>\n",
       "      <td>28617.0</td>\n",
       "      <td>28848.0</td>\n",
       "      <td>28320.0</td>\n",
       "      <td>28579.0</td>\n",
       "      <td>22603.0</td>\n",
       "      <td>12883379.0</td>\n",
       "    </tr>\n",
       "    <tr>\n",
       "      <th>2014</th>\n",
       "      <td>25873.0</td>\n",
       "      <td>26082.0</td>\n",
       "      <td>25613.0</td>\n",
       "      <td>25836.0</td>\n",
       "      <td>20645.0</td>\n",
       "      <td>12487455.0</td>\n",
       "    </tr>\n",
       "    <tr>\n",
       "      <th>2015</th>\n",
       "      <td>25986.0</td>\n",
       "      <td>26246.0</td>\n",
       "      <td>25711.0</td>\n",
       "      <td>25971.0</td>\n",
       "      <td>21069.0</td>\n",
       "      <td>11929520.0</td>\n",
       "    </tr>\n",
       "    <tr>\n",
       "      <th>2016</th>\n",
       "      <td>28734.0</td>\n",
       "      <td>29054.0</td>\n",
       "      <td>28489.0</td>\n",
       "      <td>28800.0</td>\n",
       "      <td>23759.0</td>\n",
       "      <td>12082143.0</td>\n",
       "    </tr>\n",
       "    <tr>\n",
       "      <th>2017</th>\n",
       "      <td>46363.0</td>\n",
       "      <td>46790.0</td>\n",
       "      <td>45965.0</td>\n",
       "      <td>46377.0</td>\n",
       "      <td>39058.0</td>\n",
       "      <td>11449286.0</td>\n",
       "    </tr>\n",
       "    <tr>\n",
       "      <th>2018</th>\n",
       "      <td>46868.0</td>\n",
       "      <td>47351.0</td>\n",
       "      <td>46342.0</td>\n",
       "      <td>46830.0</td>\n",
       "      <td>40388.0</td>\n",
       "      <td>12553307.0</td>\n",
       "    </tr>\n",
       "    <tr>\n",
       "      <th>2019</th>\n",
       "      <td>46563.0</td>\n",
       "      <td>46989.0</td>\n",
       "      <td>46122.0</td>\n",
       "      <td>46583.0</td>\n",
       "      <td>41526.0</td>\n",
       "      <td>10896526.0</td>\n",
       "    </tr>\n",
       "    <tr>\n",
       "      <th>2020</th>\n",
       "      <td>57145.0</td>\n",
       "      <td>57828.0</td>\n",
       "      <td>56499.0</td>\n",
       "      <td>57168.0</td>\n",
       "      <td>52412.0</td>\n",
       "      <td>21747329.0</td>\n",
       "    </tr>\n",
       "    <tr>\n",
       "      <th>2021</th>\n",
       "      <td>79258.0</td>\n",
       "      <td>79912.0</td>\n",
       "      <td>78568.0</td>\n",
       "      <td>79156.0</td>\n",
       "      <td>75560.0</td>\n",
       "      <td>18784212.0</td>\n",
       "    </tr>\n",
       "    <tr>\n",
       "      <th>2022</th>\n",
       "      <td>63925.0</td>\n",
       "      <td>64401.0</td>\n",
       "      <td>63414.0</td>\n",
       "      <td>63867.0</td>\n",
       "      <td>62188.0</td>\n",
       "      <td>13895826.0</td>\n",
       "    </tr>\n",
       "    <tr>\n",
       "      <th>2023</th>\n",
       "      <td>67390.0</td>\n",
       "      <td>67861.0</td>\n",
       "      <td>66817.0</td>\n",
       "      <td>67329.0</td>\n",
       "      <td>67082.0</td>\n",
       "      <td>12162133.0</td>\n",
       "    </tr>\n",
       "  </tbody>\n",
       "</table>\n",
       "</div>"
      ],
      "text/plain": [
       "         Open     High      Low    Close  Adj Close      Volume\n",
       "year                                                           \n",
       "2000   5370.0   5494.0   5248.0   5362.0     3962.0  50783205.0\n",
       "2001   3989.0   4062.0   3928.0   3999.0     2955.0  33614195.0\n",
       "2002   6850.0   6955.0   6752.0   6857.0     5066.0  39264176.0\n",
       "2003   7461.0   7554.0   7372.0   7468.0     5518.0  29283123.0\n",
       "2004   9675.0   9787.0   9557.0   9675.0     7148.0  27187061.0\n",
       "2005  10723.0  10825.0  10632.0  10733.0     7931.0  20577988.0\n",
       "2006  12768.0  12893.0  12638.0  12762.0     9435.0  19283371.0\n",
       "2007  11556.0  11681.0  11418.0  11546.0     8614.0  27934642.0\n",
       "2008  11486.0  11670.0  11315.0  11494.0     8696.0  27783142.0\n",
       "2009  12835.0  13003.0  12665.0  12840.0     9830.0  24055224.0\n",
       "2010  16081.0  16223.0  15914.0  16071.0    12466.0  17372052.0\n",
       "2011  17932.0  18148.0  17705.0  17926.0    14026.0  19757473.0\n",
       "2012  25183.0  25454.0  24928.0  25215.0    19832.0  16173437.0\n",
       "2013  28617.0  28848.0  28320.0  28579.0    22603.0  12883379.0\n",
       "2014  25873.0  26082.0  25613.0  25836.0    20645.0  12487455.0\n",
       "2015  25986.0  26246.0  25711.0  25971.0    21069.0  11929520.0\n",
       "2016  28734.0  29054.0  28489.0  28800.0    23759.0  12082143.0\n",
       "2017  46363.0  46790.0  45965.0  46377.0    39058.0  11449286.0\n",
       "2018  46868.0  47351.0  46342.0  46830.0    40388.0  12553307.0\n",
       "2019  46563.0  46989.0  46122.0  46583.0    41526.0  10896526.0\n",
       "2020  57145.0  57828.0  56499.0  57168.0    52412.0  21747329.0\n",
       "2021  79258.0  79912.0  78568.0  79156.0    75560.0  18784212.0\n",
       "2022  63925.0  64401.0  63414.0  63867.0    62188.0  13895826.0\n",
       "2023  67390.0  67861.0  66817.0  67329.0    67082.0  12162133.0"
      ]
     },
     "execution_count": 34,
     "metadata": {},
     "output_type": "execute_result"
    }
   ],
   "source": [
    "# 년도별 평균(수치데이터 칼럼 전체 적용 ), 년도 칼럼 활용\n",
    "round(sdf.groupby('year').mean()) # groupby객체 멤버함수 sum mean max min agg"
   ]
  },
  {
   "cell_type": "code",
   "execution_count": 35,
   "id": "c49587ac",
   "metadata": {
    "ExecuteTime": {
     "end_time": "2023-12-22T08:42:11.752763Z",
     "start_time": "2023-12-22T08:42:11.657953Z"
    }
   },
   "outputs": [
    {
     "data": {
      "text/html": [
       "<div>\n",
       "<style scoped>\n",
       "    .dataframe tbody tr th:only-of-type {\n",
       "        vertical-align: middle;\n",
       "    }\n",
       "\n",
       "    .dataframe tbody tr th {\n",
       "        vertical-align: top;\n",
       "    }\n",
       "\n",
       "    .dataframe thead th {\n",
       "        text-align: right;\n",
       "    }\n",
       "</style>\n",
       "<table border=\"1\" class=\"dataframe\">\n",
       "  <thead>\n",
       "    <tr style=\"text-align: right;\">\n",
       "      <th></th>\n",
       "      <th>Open</th>\n",
       "      <th>High</th>\n",
       "      <th>Low</th>\n",
       "      <th>Close</th>\n",
       "      <th>Adj Close</th>\n",
       "      <th>Volume</th>\n",
       "      <th>year</th>\n",
       "    </tr>\n",
       "    <tr>\n",
       "      <th>Date</th>\n",
       "      <th></th>\n",
       "      <th></th>\n",
       "      <th></th>\n",
       "      <th></th>\n",
       "      <th></th>\n",
       "      <th></th>\n",
       "      <th></th>\n",
       "    </tr>\n",
       "  </thead>\n",
       "  <tbody>\n",
       "    <tr>\n",
       "      <th>2000</th>\n",
       "      <td>5370.0</td>\n",
       "      <td>5494.0</td>\n",
       "      <td>5248.0</td>\n",
       "      <td>5362.0</td>\n",
       "      <td>3962.0</td>\n",
       "      <td>50783205.0</td>\n",
       "      <td>2000.0</td>\n",
       "    </tr>\n",
       "    <tr>\n",
       "      <th>2001</th>\n",
       "      <td>3989.0</td>\n",
       "      <td>4062.0</td>\n",
       "      <td>3928.0</td>\n",
       "      <td>3999.0</td>\n",
       "      <td>2955.0</td>\n",
       "      <td>33614195.0</td>\n",
       "      <td>2001.0</td>\n",
       "    </tr>\n",
       "    <tr>\n",
       "      <th>2002</th>\n",
       "      <td>6850.0</td>\n",
       "      <td>6955.0</td>\n",
       "      <td>6752.0</td>\n",
       "      <td>6857.0</td>\n",
       "      <td>5066.0</td>\n",
       "      <td>39264176.0</td>\n",
       "      <td>2002.0</td>\n",
       "    </tr>\n",
       "    <tr>\n",
       "      <th>2003</th>\n",
       "      <td>7461.0</td>\n",
       "      <td>7554.0</td>\n",
       "      <td>7372.0</td>\n",
       "      <td>7468.0</td>\n",
       "      <td>5518.0</td>\n",
       "      <td>29283123.0</td>\n",
       "      <td>2003.0</td>\n",
       "    </tr>\n",
       "    <tr>\n",
       "      <th>2004</th>\n",
       "      <td>9675.0</td>\n",
       "      <td>9787.0</td>\n",
       "      <td>9557.0</td>\n",
       "      <td>9675.0</td>\n",
       "      <td>7148.0</td>\n",
       "      <td>27187061.0</td>\n",
       "      <td>2004.0</td>\n",
       "    </tr>\n",
       "    <tr>\n",
       "      <th>2005</th>\n",
       "      <td>10723.0</td>\n",
       "      <td>10825.0</td>\n",
       "      <td>10632.0</td>\n",
       "      <td>10733.0</td>\n",
       "      <td>7931.0</td>\n",
       "      <td>20577988.0</td>\n",
       "      <td>2005.0</td>\n",
       "    </tr>\n",
       "    <tr>\n",
       "      <th>2006</th>\n",
       "      <td>12768.0</td>\n",
       "      <td>12893.0</td>\n",
       "      <td>12638.0</td>\n",
       "      <td>12762.0</td>\n",
       "      <td>9435.0</td>\n",
       "      <td>19283371.0</td>\n",
       "      <td>2006.0</td>\n",
       "    </tr>\n",
       "    <tr>\n",
       "      <th>2007</th>\n",
       "      <td>11556.0</td>\n",
       "      <td>11681.0</td>\n",
       "      <td>11418.0</td>\n",
       "      <td>11546.0</td>\n",
       "      <td>8614.0</td>\n",
       "      <td>27934642.0</td>\n",
       "      <td>2007.0</td>\n",
       "    </tr>\n",
       "    <tr>\n",
       "      <th>2008</th>\n",
       "      <td>11486.0</td>\n",
       "      <td>11670.0</td>\n",
       "      <td>11315.0</td>\n",
       "      <td>11494.0</td>\n",
       "      <td>8696.0</td>\n",
       "      <td>27783142.0</td>\n",
       "      <td>2008.0</td>\n",
       "    </tr>\n",
       "    <tr>\n",
       "      <th>2009</th>\n",
       "      <td>12835.0</td>\n",
       "      <td>13003.0</td>\n",
       "      <td>12665.0</td>\n",
       "      <td>12840.0</td>\n",
       "      <td>9830.0</td>\n",
       "      <td>24055224.0</td>\n",
       "      <td>2009.0</td>\n",
       "    </tr>\n",
       "    <tr>\n",
       "      <th>2010</th>\n",
       "      <td>16081.0</td>\n",
       "      <td>16223.0</td>\n",
       "      <td>15914.0</td>\n",
       "      <td>16071.0</td>\n",
       "      <td>12466.0</td>\n",
       "      <td>17372052.0</td>\n",
       "      <td>2010.0</td>\n",
       "    </tr>\n",
       "    <tr>\n",
       "      <th>2011</th>\n",
       "      <td>17932.0</td>\n",
       "      <td>18148.0</td>\n",
       "      <td>17705.0</td>\n",
       "      <td>17926.0</td>\n",
       "      <td>14026.0</td>\n",
       "      <td>19757473.0</td>\n",
       "      <td>2011.0</td>\n",
       "    </tr>\n",
       "    <tr>\n",
       "      <th>2012</th>\n",
       "      <td>25183.0</td>\n",
       "      <td>25454.0</td>\n",
       "      <td>24928.0</td>\n",
       "      <td>25215.0</td>\n",
       "      <td>19832.0</td>\n",
       "      <td>16173437.0</td>\n",
       "      <td>2012.0</td>\n",
       "    </tr>\n",
       "    <tr>\n",
       "      <th>2013</th>\n",
       "      <td>28617.0</td>\n",
       "      <td>28848.0</td>\n",
       "      <td>28320.0</td>\n",
       "      <td>28579.0</td>\n",
       "      <td>22603.0</td>\n",
       "      <td>12883379.0</td>\n",
       "      <td>2013.0</td>\n",
       "    </tr>\n",
       "    <tr>\n",
       "      <th>2014</th>\n",
       "      <td>25873.0</td>\n",
       "      <td>26082.0</td>\n",
       "      <td>25613.0</td>\n",
       "      <td>25836.0</td>\n",
       "      <td>20645.0</td>\n",
       "      <td>12487455.0</td>\n",
       "      <td>2014.0</td>\n",
       "    </tr>\n",
       "    <tr>\n",
       "      <th>2015</th>\n",
       "      <td>25986.0</td>\n",
       "      <td>26246.0</td>\n",
       "      <td>25711.0</td>\n",
       "      <td>25971.0</td>\n",
       "      <td>21069.0</td>\n",
       "      <td>11929520.0</td>\n",
       "      <td>2015.0</td>\n",
       "    </tr>\n",
       "    <tr>\n",
       "      <th>2016</th>\n",
       "      <td>28734.0</td>\n",
       "      <td>29054.0</td>\n",
       "      <td>28489.0</td>\n",
       "      <td>28800.0</td>\n",
       "      <td>23759.0</td>\n",
       "      <td>12082143.0</td>\n",
       "      <td>2016.0</td>\n",
       "    </tr>\n",
       "    <tr>\n",
       "      <th>2017</th>\n",
       "      <td>46363.0</td>\n",
       "      <td>46790.0</td>\n",
       "      <td>45965.0</td>\n",
       "      <td>46377.0</td>\n",
       "      <td>39058.0</td>\n",
       "      <td>11449286.0</td>\n",
       "      <td>2017.0</td>\n",
       "    </tr>\n",
       "    <tr>\n",
       "      <th>2018</th>\n",
       "      <td>46868.0</td>\n",
       "      <td>47351.0</td>\n",
       "      <td>46342.0</td>\n",
       "      <td>46830.0</td>\n",
       "      <td>40388.0</td>\n",
       "      <td>12553307.0</td>\n",
       "      <td>2018.0</td>\n",
       "    </tr>\n",
       "    <tr>\n",
       "      <th>2019</th>\n",
       "      <td>46563.0</td>\n",
       "      <td>46989.0</td>\n",
       "      <td>46122.0</td>\n",
       "      <td>46583.0</td>\n",
       "      <td>41526.0</td>\n",
       "      <td>10896526.0</td>\n",
       "      <td>2019.0</td>\n",
       "    </tr>\n",
       "    <tr>\n",
       "      <th>2020</th>\n",
       "      <td>57145.0</td>\n",
       "      <td>57828.0</td>\n",
       "      <td>56499.0</td>\n",
       "      <td>57168.0</td>\n",
       "      <td>52412.0</td>\n",
       "      <td>21747329.0</td>\n",
       "      <td>2020.0</td>\n",
       "    </tr>\n",
       "    <tr>\n",
       "      <th>2021</th>\n",
       "      <td>79258.0</td>\n",
       "      <td>79912.0</td>\n",
       "      <td>78568.0</td>\n",
       "      <td>79156.0</td>\n",
       "      <td>75560.0</td>\n",
       "      <td>18784212.0</td>\n",
       "      <td>2021.0</td>\n",
       "    </tr>\n",
       "    <tr>\n",
       "      <th>2022</th>\n",
       "      <td>63925.0</td>\n",
       "      <td>64401.0</td>\n",
       "      <td>63414.0</td>\n",
       "      <td>63867.0</td>\n",
       "      <td>62188.0</td>\n",
       "      <td>13895826.0</td>\n",
       "      <td>2022.0</td>\n",
       "    </tr>\n",
       "    <tr>\n",
       "      <th>2023</th>\n",
       "      <td>67390.0</td>\n",
       "      <td>67861.0</td>\n",
       "      <td>66817.0</td>\n",
       "      <td>67329.0</td>\n",
       "      <td>67082.0</td>\n",
       "      <td>12162133.0</td>\n",
       "      <td>2023.0</td>\n",
       "    </tr>\n",
       "  </tbody>\n",
       "</table>\n",
       "</div>"
      ],
      "text/plain": [
       "         Open     High      Low    Close  Adj Close      Volume    year\n",
       "Date                                                                   \n",
       "2000   5370.0   5494.0   5248.0   5362.0     3962.0  50783205.0  2000.0\n",
       "2001   3989.0   4062.0   3928.0   3999.0     2955.0  33614195.0  2001.0\n",
       "2002   6850.0   6955.0   6752.0   6857.0     5066.0  39264176.0  2002.0\n",
       "2003   7461.0   7554.0   7372.0   7468.0     5518.0  29283123.0  2003.0\n",
       "2004   9675.0   9787.0   9557.0   9675.0     7148.0  27187061.0  2004.0\n",
       "2005  10723.0  10825.0  10632.0  10733.0     7931.0  20577988.0  2005.0\n",
       "2006  12768.0  12893.0  12638.0  12762.0     9435.0  19283371.0  2006.0\n",
       "2007  11556.0  11681.0  11418.0  11546.0     8614.0  27934642.0  2007.0\n",
       "2008  11486.0  11670.0  11315.0  11494.0     8696.0  27783142.0  2008.0\n",
       "2009  12835.0  13003.0  12665.0  12840.0     9830.0  24055224.0  2009.0\n",
       "2010  16081.0  16223.0  15914.0  16071.0    12466.0  17372052.0  2010.0\n",
       "2011  17932.0  18148.0  17705.0  17926.0    14026.0  19757473.0  2011.0\n",
       "2012  25183.0  25454.0  24928.0  25215.0    19832.0  16173437.0  2012.0\n",
       "2013  28617.0  28848.0  28320.0  28579.0    22603.0  12883379.0  2013.0\n",
       "2014  25873.0  26082.0  25613.0  25836.0    20645.0  12487455.0  2014.0\n",
       "2015  25986.0  26246.0  25711.0  25971.0    21069.0  11929520.0  2015.0\n",
       "2016  28734.0  29054.0  28489.0  28800.0    23759.0  12082143.0  2016.0\n",
       "2017  46363.0  46790.0  45965.0  46377.0    39058.0  11449286.0  2017.0\n",
       "2018  46868.0  47351.0  46342.0  46830.0    40388.0  12553307.0  2018.0\n",
       "2019  46563.0  46989.0  46122.0  46583.0    41526.0  10896526.0  2019.0\n",
       "2020  57145.0  57828.0  56499.0  57168.0    52412.0  21747329.0  2020.0\n",
       "2021  79258.0  79912.0  78568.0  79156.0    75560.0  18784212.0  2021.0\n",
       "2022  63925.0  64401.0  63414.0  63867.0    62188.0  13895826.0  2022.0\n",
       "2023  67390.0  67861.0  66817.0  67329.0    67082.0  12162133.0  2023.0"
      ]
     },
     "execution_count": 35,
     "metadata": {},
     "output_type": "execute_result"
    }
   ],
   "source": [
    "# 인덱스의 연도만 추출해서 그루핑\n",
    "round(sdf.groupby(sdf.index.year).mean())"
   ]
  },
  {
   "cell_type": "code",
   "execution_count": 36,
   "id": "d7df2b57",
   "metadata": {
    "ExecuteTime": {
     "end_time": "2023-12-22T08:42:14.495539Z",
     "start_time": "2023-12-22T08:42:14.453163Z"
    }
   },
   "outputs": [
    {
     "data": {
      "text/html": [
       "<div>\n",
       "<style scoped>\n",
       "    .dataframe tbody tr th:only-of-type {\n",
       "        vertical-align: middle;\n",
       "    }\n",
       "\n",
       "    .dataframe tbody tr th {\n",
       "        vertical-align: top;\n",
       "    }\n",
       "\n",
       "    .dataframe thead th {\n",
       "        text-align: right;\n",
       "    }\n",
       "</style>\n",
       "<table border=\"1\" class=\"dataframe\">\n",
       "  <thead>\n",
       "    <tr style=\"text-align: right;\">\n",
       "      <th></th>\n",
       "      <th></th>\n",
       "      <th>Open</th>\n",
       "      <th>High</th>\n",
       "      <th>Low</th>\n",
       "      <th>Close</th>\n",
       "      <th>Adj Close</th>\n",
       "      <th>Volume</th>\n",
       "      <th>year</th>\n",
       "    </tr>\n",
       "    <tr>\n",
       "      <th>Date</th>\n",
       "      <th>Date</th>\n",
       "      <th></th>\n",
       "      <th></th>\n",
       "      <th></th>\n",
       "      <th></th>\n",
       "      <th></th>\n",
       "      <th></th>\n",
       "      <th></th>\n",
       "    </tr>\n",
       "  </thead>\n",
       "  <tbody>\n",
       "    <tr>\n",
       "      <th rowspan=\"5\" valign=\"top\">2000</th>\n",
       "      <th>1</th>\n",
       "      <td>5750.500000</td>\n",
       "      <td>5877.000000</td>\n",
       "      <td>5647.500000</td>\n",
       "      <td>5763.500000</td>\n",
       "      <td>4258.557642</td>\n",
       "      <td>4.512675e+07</td>\n",
       "      <td>2000.0</td>\n",
       "    </tr>\n",
       "    <tr>\n",
       "      <th>2</th>\n",
       "      <td>5278.571429</td>\n",
       "      <td>5398.095238</td>\n",
       "      <td>5129.523810</td>\n",
       "      <td>5241.904762</td>\n",
       "      <td>3873.159610</td>\n",
       "      <td>5.201405e+07</td>\n",
       "      <td>2000.0</td>\n",
       "    </tr>\n",
       "    <tr>\n",
       "      <th>3</th>\n",
       "      <td>6009.565217</td>\n",
       "      <td>6188.260870</td>\n",
       "      <td>5827.826087</td>\n",
       "      <td>5999.565217</td>\n",
       "      <td>4432.982369</td>\n",
       "      <td>5.558217e+07</td>\n",
       "      <td>2000.0</td>\n",
       "    </tr>\n",
       "    <tr>\n",
       "      <th>4</th>\n",
       "      <td>6399.000000</td>\n",
       "      <td>6559.500000</td>\n",
       "      <td>6232.500000</td>\n",
       "      <td>6356.500000</td>\n",
       "      <td>4696.715906</td>\n",
       "      <td>4.375625e+07</td>\n",
       "      <td>2000.0</td>\n",
       "    </tr>\n",
       "    <tr>\n",
       "      <th>5</th>\n",
       "      <td>6282.608696</td>\n",
       "      <td>6436.521739</td>\n",
       "      <td>6181.739130</td>\n",
       "      <td>6286.521739</td>\n",
       "      <td>4645.010020</td>\n",
       "      <td>4.119413e+07</td>\n",
       "      <td>2000.0</td>\n",
       "    </tr>\n",
       "    <tr>\n",
       "      <th>...</th>\n",
       "      <th>...</th>\n",
       "      <td>...</td>\n",
       "      <td>...</td>\n",
       "      <td>...</td>\n",
       "      <td>...</td>\n",
       "      <td>...</td>\n",
       "      <td>...</td>\n",
       "      <td>...</td>\n",
       "    </tr>\n",
       "    <tr>\n",
       "      <th rowspan=\"5\" valign=\"top\">2023</th>\n",
       "      <th>8</th>\n",
       "      <td>67790.909091</td>\n",
       "      <td>68286.363636</td>\n",
       "      <td>67277.272727</td>\n",
       "      <td>67686.363636</td>\n",
       "      <td>67686.363636</td>\n",
       "      <td>1.174840e+07</td>\n",
       "      <td>2023.0</td>\n",
       "    </tr>\n",
       "    <tr>\n",
       "      <th>9</th>\n",
       "      <td>70157.894737</td>\n",
       "      <td>70784.210526</td>\n",
       "      <td>69521.052632</td>\n",
       "      <td>70168.421053</td>\n",
       "      <td>70168.421053</td>\n",
       "      <td>1.492286e+07</td>\n",
       "      <td>2023.0</td>\n",
       "    </tr>\n",
       "    <tr>\n",
       "      <th>10</th>\n",
       "      <td>67947.368421</td>\n",
       "      <td>68615.789474</td>\n",
       "      <td>67405.263158</td>\n",
       "      <td>67910.526316</td>\n",
       "      <td>67910.526316</td>\n",
       "      <td>1.526738e+07</td>\n",
       "      <td>2023.0</td>\n",
       "    </tr>\n",
       "    <tr>\n",
       "      <th>11</th>\n",
       "      <td>71286.363636</td>\n",
       "      <td>71809.090909</td>\n",
       "      <td>70850.000000</td>\n",
       "      <td>71409.090909</td>\n",
       "      <td>71409.090909</td>\n",
       "      <td>1.242980e+07</td>\n",
       "      <td>2023.0</td>\n",
       "    </tr>\n",
       "    <tr>\n",
       "      <th>12</th>\n",
       "      <td>73212.500000</td>\n",
       "      <td>73493.750000</td>\n",
       "      <td>72675.000000</td>\n",
       "      <td>73081.250000</td>\n",
       "      <td>73081.250000</td>\n",
       "      <td>1.274355e+07</td>\n",
       "      <td>2023.0</td>\n",
       "    </tr>\n",
       "  </tbody>\n",
       "</table>\n",
       "<p>288 rows × 7 columns</p>\n",
       "</div>"
      ],
      "text/plain": [
       "                   Open          High           Low         Close  \\\n",
       "Date Date                                                           \n",
       "2000 1      5750.500000   5877.000000   5647.500000   5763.500000   \n",
       "     2      5278.571429   5398.095238   5129.523810   5241.904762   \n",
       "     3      6009.565217   6188.260870   5827.826087   5999.565217   \n",
       "     4      6399.000000   6559.500000   6232.500000   6356.500000   \n",
       "     5      6282.608696   6436.521739   6181.739130   6286.521739   \n",
       "...                 ...           ...           ...           ...   \n",
       "2023 8     67790.909091  68286.363636  67277.272727  67686.363636   \n",
       "     9     70157.894737  70784.210526  69521.052632  70168.421053   \n",
       "     10    67947.368421  68615.789474  67405.263158  67910.526316   \n",
       "     11    71286.363636  71809.090909  70850.000000  71409.090909   \n",
       "     12    73212.500000  73493.750000  72675.000000  73081.250000   \n",
       "\n",
       "              Adj Close        Volume    year  \n",
       "Date Date                                      \n",
       "2000 1      4258.557642  4.512675e+07  2000.0  \n",
       "     2      3873.159610  5.201405e+07  2000.0  \n",
       "     3      4432.982369  5.558217e+07  2000.0  \n",
       "     4      4696.715906  4.375625e+07  2000.0  \n",
       "     5      4645.010020  4.119413e+07  2000.0  \n",
       "...                 ...           ...     ...  \n",
       "2023 8     67686.363636  1.174840e+07  2023.0  \n",
       "     9     70168.421053  1.492286e+07  2023.0  \n",
       "     10    67910.526316  1.526738e+07  2023.0  \n",
       "     11    71409.090909  1.242980e+07  2023.0  \n",
       "     12    73081.250000  1.274355e+07  2023.0  \n",
       "\n",
       "[288 rows x 7 columns]"
      ]
     },
     "execution_count": 36,
     "metadata": {},
     "output_type": "execute_result"
    }
   ],
   "source": [
    "# 연도 및 월별\n",
    "sdf.groupby([sdf.index.year, sdf.index.month]).mean()"
   ]
  },
  {
   "cell_type": "markdown",
   "id": "04e4b39b",
   "metadata": {},
   "source": [
    "# resample : 시계열데이터 전용 집계함수\n",
    "resample rule http://pandas.pydata.org/pandas-docs/stable/user_guide/timeseries.html"
   ]
  },
  {
   "cell_type": "code",
   "execution_count": null,
   "id": "5b33e1b4",
   "metadata": {},
   "outputs": [],
   "source": [
    "sdf.resample?"
   ]
  },
  {
   "cell_type": "code",
   "execution_count": 37,
   "id": "9bbbd5a5",
   "metadata": {
    "ExecuteTime": {
     "end_time": "2023-12-22T08:42:29.102207Z",
     "start_time": "2023-12-22T08:42:29.042635Z"
    }
   },
   "outputs": [
    {
     "data": {
      "text/html": [
       "<div>\n",
       "<style scoped>\n",
       "    .dataframe tbody tr th:only-of-type {\n",
       "        vertical-align: middle;\n",
       "    }\n",
       "\n",
       "    .dataframe tbody tr th {\n",
       "        vertical-align: top;\n",
       "    }\n",
       "\n",
       "    .dataframe thead th {\n",
       "        text-align: right;\n",
       "    }\n",
       "</style>\n",
       "<table border=\"1\" class=\"dataframe\">\n",
       "  <thead>\n",
       "    <tr style=\"text-align: right;\">\n",
       "      <th></th>\n",
       "      <th>Open</th>\n",
       "      <th>High</th>\n",
       "      <th>Low</th>\n",
       "      <th>Close</th>\n",
       "      <th>Adj Close</th>\n",
       "      <th>Volume</th>\n",
       "      <th>year</th>\n",
       "    </tr>\n",
       "    <tr>\n",
       "      <th>Date</th>\n",
       "      <th></th>\n",
       "      <th></th>\n",
       "      <th></th>\n",
       "      <th></th>\n",
       "      <th></th>\n",
       "      <th></th>\n",
       "      <th></th>\n",
       "    </tr>\n",
       "  </thead>\n",
       "  <tbody>\n",
       "    <tr>\n",
       "      <th>2000-12-31</th>\n",
       "      <td>5370.115830</td>\n",
       "      <td>5493.513514</td>\n",
       "      <td>5248.108108</td>\n",
       "      <td>5361.583012</td>\n",
       "      <td>3961.587643</td>\n",
       "      <td>5.078320e+07</td>\n",
       "      <td>2000.0</td>\n",
       "    </tr>\n",
       "    <tr>\n",
       "      <th>2001-12-31</th>\n",
       "      <td>3989.233716</td>\n",
       "      <td>4061.570881</td>\n",
       "      <td>3928.352490</td>\n",
       "      <td>3998.735632</td>\n",
       "      <td>2954.601573</td>\n",
       "      <td>3.361420e+07</td>\n",
       "      <td>2001.0</td>\n",
       "    </tr>\n",
       "    <tr>\n",
       "      <th>2002-12-31</th>\n",
       "      <td>6850.344828</td>\n",
       "      <td>6955.172414</td>\n",
       "      <td>6752.183908</td>\n",
       "      <td>6856.896552</td>\n",
       "      <td>5066.450820</td>\n",
       "      <td>3.926418e+07</td>\n",
       "      <td>2002.0</td>\n",
       "    </tr>\n",
       "    <tr>\n",
       "      <th>2003-12-31</th>\n",
       "      <td>7460.689655</td>\n",
       "      <td>7554.022989</td>\n",
       "      <td>7371.609195</td>\n",
       "      <td>7468.237548</td>\n",
       "      <td>5518.160951</td>\n",
       "      <td>2.928312e+07</td>\n",
       "      <td>2003.0</td>\n",
       "    </tr>\n",
       "    <tr>\n",
       "      <th>2004-12-31</th>\n",
       "      <td>9675.000000</td>\n",
       "      <td>9787.251908</td>\n",
       "      <td>9556.946565</td>\n",
       "      <td>9674.694656</td>\n",
       "      <td>7148.476788</td>\n",
       "      <td>2.718706e+07</td>\n",
       "      <td>2004.0</td>\n",
       "    </tr>\n",
       "    <tr>\n",
       "      <th>2005-12-31</th>\n",
       "      <td>10722.934363</td>\n",
       "      <td>10825.366795</td>\n",
       "      <td>10631.814672</td>\n",
       "      <td>10733.359073</td>\n",
       "      <td>7930.706762</td>\n",
       "      <td>2.057799e+07</td>\n",
       "      <td>2005.0</td>\n",
       "    </tr>\n",
       "    <tr>\n",
       "      <th>2006-12-31</th>\n",
       "      <td>12768.467742</td>\n",
       "      <td>12892.822581</td>\n",
       "      <td>12637.580645</td>\n",
       "      <td>12762.419355</td>\n",
       "      <td>9434.595156</td>\n",
       "      <td>1.928337e+07</td>\n",
       "      <td>2006.0</td>\n",
       "    </tr>\n",
       "    <tr>\n",
       "      <th>2007-12-31</th>\n",
       "      <td>11555.609756</td>\n",
       "      <td>11681.463415</td>\n",
       "      <td>11418.455285</td>\n",
       "      <td>11546.422764</td>\n",
       "      <td>8614.364869</td>\n",
       "      <td>2.793464e+07</td>\n",
       "      <td>2007.0</td>\n",
       "    </tr>\n",
       "    <tr>\n",
       "      <th>2008-12-31</th>\n",
       "      <td>11485.758755</td>\n",
       "      <td>11669.883268</td>\n",
       "      <td>11314.747082</td>\n",
       "      <td>11494.435798</td>\n",
       "      <td>8695.527728</td>\n",
       "      <td>2.778314e+07</td>\n",
       "      <td>2008.0</td>\n",
       "    </tr>\n",
       "    <tr>\n",
       "      <th>2009-12-31</th>\n",
       "      <td>12834.664032</td>\n",
       "      <td>13002.964427</td>\n",
       "      <td>12665.217391</td>\n",
       "      <td>12840.355731</td>\n",
       "      <td>9830.116329</td>\n",
       "      <td>2.405522e+07</td>\n",
       "      <td>2009.0</td>\n",
       "    </tr>\n",
       "    <tr>\n",
       "      <th>2010-12-31</th>\n",
       "      <td>16081.434263</td>\n",
       "      <td>16222.549801</td>\n",
       "      <td>15914.103586</td>\n",
       "      <td>16070.996016</td>\n",
       "      <td>12466.196425</td>\n",
       "      <td>1.737205e+07</td>\n",
       "      <td>2010.0</td>\n",
       "    </tr>\n",
       "    <tr>\n",
       "      <th>2011-12-31</th>\n",
       "      <td>17931.612903</td>\n",
       "      <td>18147.822581</td>\n",
       "      <td>17704.516129</td>\n",
       "      <td>17926.209677</td>\n",
       "      <td>14026.381316</td>\n",
       "      <td>1.975747e+07</td>\n",
       "      <td>2011.0</td>\n",
       "    </tr>\n",
       "    <tr>\n",
       "      <th>2012-12-31</th>\n",
       "      <td>25182.741935</td>\n",
       "      <td>25454.112903</td>\n",
       "      <td>24927.500000</td>\n",
       "      <td>25214.596774</td>\n",
       "      <td>19832.022741</td>\n",
       "      <td>1.617344e+07</td>\n",
       "      <td>2012.0</td>\n",
       "    </tr>\n",
       "    <tr>\n",
       "      <th>2013-12-31</th>\n",
       "      <td>28617.327935</td>\n",
       "      <td>28847.611336</td>\n",
       "      <td>28320.242915</td>\n",
       "      <td>28578.542510</td>\n",
       "      <td>22602.703710</td>\n",
       "      <td>1.288338e+07</td>\n",
       "      <td>2013.0</td>\n",
       "    </tr>\n",
       "    <tr>\n",
       "      <th>2014-12-31</th>\n",
       "      <td>25872.653061</td>\n",
       "      <td>26082.285714</td>\n",
       "      <td>25613.469388</td>\n",
       "      <td>25835.918367</td>\n",
       "      <td>20644.772154</td>\n",
       "      <td>1.248746e+07</td>\n",
       "      <td>2014.0</td>\n",
       "    </tr>\n",
       "    <tr>\n",
       "      <th>2015-12-31</th>\n",
       "      <td>25985.702811</td>\n",
       "      <td>26245.943775</td>\n",
       "      <td>25710.682731</td>\n",
       "      <td>25971.405622</td>\n",
       "      <td>21068.866944</td>\n",
       "      <td>1.192952e+07</td>\n",
       "      <td>2015.0</td>\n",
       "    </tr>\n",
       "    <tr>\n",
       "      <th>2016-12-31</th>\n",
       "      <td>28733.739837</td>\n",
       "      <td>29054.146341</td>\n",
       "      <td>28488.861789</td>\n",
       "      <td>28800.081301</td>\n",
       "      <td>23758.673796</td>\n",
       "      <td>1.208214e+07</td>\n",
       "      <td>2016.0</td>\n",
       "    </tr>\n",
       "    <tr>\n",
       "      <th>2017-12-31</th>\n",
       "      <td>46363.485477</td>\n",
       "      <td>46790.207469</td>\n",
       "      <td>45965.311203</td>\n",
       "      <td>46377.178423</td>\n",
       "      <td>39057.600339</td>\n",
       "      <td>1.144929e+07</td>\n",
       "      <td>2017.0</td>\n",
       "    </tr>\n",
       "    <tr>\n",
       "      <th>2018-12-31</th>\n",
       "      <td>46867.786885</td>\n",
       "      <td>47351.270492</td>\n",
       "      <td>46341.762295</td>\n",
       "      <td>46830.122951</td>\n",
       "      <td>40387.965596</td>\n",
       "      <td>1.255331e+07</td>\n",
       "      <td>2018.0</td>\n",
       "    </tr>\n",
       "    <tr>\n",
       "      <th>2019-12-31</th>\n",
       "      <td>46563.414634</td>\n",
       "      <td>46989.024390</td>\n",
       "      <td>46122.154472</td>\n",
       "      <td>46583.333333</td>\n",
       "      <td>41525.924114</td>\n",
       "      <td>1.089653e+07</td>\n",
       "      <td>2019.0</td>\n",
       "    </tr>\n",
       "    <tr>\n",
       "      <th>2020-12-31</th>\n",
       "      <td>57144.758065</td>\n",
       "      <td>57828.225806</td>\n",
       "      <td>56498.588710</td>\n",
       "      <td>57167.741935</td>\n",
       "      <td>52412.400013</td>\n",
       "      <td>2.174733e+07</td>\n",
       "      <td>2020.0</td>\n",
       "    </tr>\n",
       "    <tr>\n",
       "      <th>2021-12-31</th>\n",
       "      <td>79257.661290</td>\n",
       "      <td>79912.500000</td>\n",
       "      <td>78567.741935</td>\n",
       "      <td>79155.645161</td>\n",
       "      <td>75560.239730</td>\n",
       "      <td>1.878421e+07</td>\n",
       "      <td>2021.0</td>\n",
       "    </tr>\n",
       "    <tr>\n",
       "      <th>2022-12-31</th>\n",
       "      <td>63924.590164</td>\n",
       "      <td>64400.819672</td>\n",
       "      <td>63413.934426</td>\n",
       "      <td>63867.213115</td>\n",
       "      <td>62187.845863</td>\n",
       "      <td>1.389583e+07</td>\n",
       "      <td>2022.0</td>\n",
       "    </tr>\n",
       "    <tr>\n",
       "      <th>2023-12-31</th>\n",
       "      <td>67390.082645</td>\n",
       "      <td>67860.743802</td>\n",
       "      <td>66817.355372</td>\n",
       "      <td>67328.512397</td>\n",
       "      <td>67081.516109</td>\n",
       "      <td>1.216213e+07</td>\n",
       "      <td>2023.0</td>\n",
       "    </tr>\n",
       "  </tbody>\n",
       "</table>\n",
       "</div>"
      ],
      "text/plain": [
       "                    Open          High           Low         Close  \\\n",
       "Date                                                                 \n",
       "2000-12-31   5370.115830   5493.513514   5248.108108   5361.583012   \n",
       "2001-12-31   3989.233716   4061.570881   3928.352490   3998.735632   \n",
       "2002-12-31   6850.344828   6955.172414   6752.183908   6856.896552   \n",
       "2003-12-31   7460.689655   7554.022989   7371.609195   7468.237548   \n",
       "2004-12-31   9675.000000   9787.251908   9556.946565   9674.694656   \n",
       "2005-12-31  10722.934363  10825.366795  10631.814672  10733.359073   \n",
       "2006-12-31  12768.467742  12892.822581  12637.580645  12762.419355   \n",
       "2007-12-31  11555.609756  11681.463415  11418.455285  11546.422764   \n",
       "2008-12-31  11485.758755  11669.883268  11314.747082  11494.435798   \n",
       "2009-12-31  12834.664032  13002.964427  12665.217391  12840.355731   \n",
       "2010-12-31  16081.434263  16222.549801  15914.103586  16070.996016   \n",
       "2011-12-31  17931.612903  18147.822581  17704.516129  17926.209677   \n",
       "2012-12-31  25182.741935  25454.112903  24927.500000  25214.596774   \n",
       "2013-12-31  28617.327935  28847.611336  28320.242915  28578.542510   \n",
       "2014-12-31  25872.653061  26082.285714  25613.469388  25835.918367   \n",
       "2015-12-31  25985.702811  26245.943775  25710.682731  25971.405622   \n",
       "2016-12-31  28733.739837  29054.146341  28488.861789  28800.081301   \n",
       "2017-12-31  46363.485477  46790.207469  45965.311203  46377.178423   \n",
       "2018-12-31  46867.786885  47351.270492  46341.762295  46830.122951   \n",
       "2019-12-31  46563.414634  46989.024390  46122.154472  46583.333333   \n",
       "2020-12-31  57144.758065  57828.225806  56498.588710  57167.741935   \n",
       "2021-12-31  79257.661290  79912.500000  78567.741935  79155.645161   \n",
       "2022-12-31  63924.590164  64400.819672  63413.934426  63867.213115   \n",
       "2023-12-31  67390.082645  67860.743802  66817.355372  67328.512397   \n",
       "\n",
       "               Adj Close        Volume    year  \n",
       "Date                                            \n",
       "2000-12-31   3961.587643  5.078320e+07  2000.0  \n",
       "2001-12-31   2954.601573  3.361420e+07  2001.0  \n",
       "2002-12-31   5066.450820  3.926418e+07  2002.0  \n",
       "2003-12-31   5518.160951  2.928312e+07  2003.0  \n",
       "2004-12-31   7148.476788  2.718706e+07  2004.0  \n",
       "2005-12-31   7930.706762  2.057799e+07  2005.0  \n",
       "2006-12-31   9434.595156  1.928337e+07  2006.0  \n",
       "2007-12-31   8614.364869  2.793464e+07  2007.0  \n",
       "2008-12-31   8695.527728  2.778314e+07  2008.0  \n",
       "2009-12-31   9830.116329  2.405522e+07  2009.0  \n",
       "2010-12-31  12466.196425  1.737205e+07  2010.0  \n",
       "2011-12-31  14026.381316  1.975747e+07  2011.0  \n",
       "2012-12-31  19832.022741  1.617344e+07  2012.0  \n",
       "2013-12-31  22602.703710  1.288338e+07  2013.0  \n",
       "2014-12-31  20644.772154  1.248746e+07  2014.0  \n",
       "2015-12-31  21068.866944  1.192952e+07  2015.0  \n",
       "2016-12-31  23758.673796  1.208214e+07  2016.0  \n",
       "2017-12-31  39057.600339  1.144929e+07  2017.0  \n",
       "2018-12-31  40387.965596  1.255331e+07  2018.0  \n",
       "2019-12-31  41525.924114  1.089653e+07  2019.0  \n",
       "2020-12-31  52412.400013  2.174733e+07  2020.0  \n",
       "2021-12-31  75560.239730  1.878421e+07  2021.0  \n",
       "2022-12-31  62187.845863  1.389583e+07  2022.0  \n",
       "2023-12-31  67081.516109  1.216213e+07  2023.0  "
      ]
     },
     "execution_count": 37,
     "metadata": {},
     "output_type": "execute_result"
    }
   ],
   "source": [
    "# DatetimeIndexResample : sum, mean, max, min\n",
    "sdf.resample(rule='Y').mean()"
   ]
  },
  {
   "cell_type": "code",
   "execution_count": 38,
   "id": "53ab18c5",
   "metadata": {
    "ExecuteTime": {
     "end_time": "2023-12-22T08:42:32.380748Z",
     "start_time": "2023-12-22T08:42:32.338836Z"
    }
   },
   "outputs": [
    {
     "data": {
      "text/html": [
       "<div>\n",
       "<style scoped>\n",
       "    .dataframe tbody tr th:only-of-type {\n",
       "        vertical-align: middle;\n",
       "    }\n",
       "\n",
       "    .dataframe tbody tr th {\n",
       "        vertical-align: top;\n",
       "    }\n",
       "\n",
       "    .dataframe thead th {\n",
       "        text-align: right;\n",
       "    }\n",
       "</style>\n",
       "<table border=\"1\" class=\"dataframe\">\n",
       "  <thead>\n",
       "    <tr style=\"text-align: right;\">\n",
       "      <th></th>\n",
       "      <th>Open</th>\n",
       "      <th>High</th>\n",
       "      <th>Low</th>\n",
       "      <th>Close</th>\n",
       "      <th>Adj Close</th>\n",
       "      <th>Volume</th>\n",
       "      <th>year</th>\n",
       "    </tr>\n",
       "    <tr>\n",
       "      <th>Date</th>\n",
       "      <th></th>\n",
       "      <th></th>\n",
       "      <th></th>\n",
       "      <th></th>\n",
       "      <th></th>\n",
       "      <th></th>\n",
       "      <th></th>\n",
       "    </tr>\n",
       "  </thead>\n",
       "  <tbody>\n",
       "    <tr>\n",
       "      <th>2000-03-31</th>\n",
       "      <td>5688.750000</td>\n",
       "      <td>5831.718750</td>\n",
       "      <td>5542.343750</td>\n",
       "      <td>5677.187500</td>\n",
       "      <td>4194.782799</td>\n",
       "      <td>5.114406e+07</td>\n",
       "      <td>2000.0</td>\n",
       "    </tr>\n",
       "    <tr>\n",
       "      <th>2000-06-30</th>\n",
       "      <td>6562.769231</td>\n",
       "      <td>6726.000000</td>\n",
       "      <td>6422.923077</td>\n",
       "      <td>6553.384615</td>\n",
       "      <td>4842.190734</td>\n",
       "      <td>4.471792e+07</td>\n",
       "      <td>2000.0</td>\n",
       "    </tr>\n",
       "    <tr>\n",
       "      <th>2000-09-30</th>\n",
       "      <td>5934.000000</td>\n",
       "      <td>6033.692308</td>\n",
       "      <td>5807.692308</td>\n",
       "      <td>5910.923077</td>\n",
       "      <td>4367.486103</td>\n",
       "      <td>4.556308e+07</td>\n",
       "      <td>2000.0</td>\n",
       "    </tr>\n",
       "    <tr>\n",
       "      <th>2000-12-31</th>\n",
       "      <td>3299.846154</td>\n",
       "      <td>3387.846154</td>\n",
       "      <td>3224.000000</td>\n",
       "      <td>3309.692308</td>\n",
       "      <td>2445.478555</td>\n",
       "      <td>6.171331e+07</td>\n",
       "      <td>2000.0</td>\n",
       "    </tr>\n",
       "    <tr>\n",
       "      <th>2001-03-31</th>\n",
       "      <td>3975.538462</td>\n",
       "      <td>4055.538462</td>\n",
       "      <td>3912.615385</td>\n",
       "      <td>3990.000000</td>\n",
       "      <td>2948.147014</td>\n",
       "      <td>3.713292e+07</td>\n",
       "      <td>2001.0</td>\n",
       "    </tr>\n",
       "    <tr>\n",
       "      <th>...</th>\n",
       "      <td>...</td>\n",
       "      <td>...</td>\n",
       "      <td>...</td>\n",
       "      <td>...</td>\n",
       "      <td>...</td>\n",
       "      <td>...</td>\n",
       "      <td>...</td>\n",
       "    </tr>\n",
       "    <tr>\n",
       "      <th>2022-12-31</th>\n",
       "      <td>59040.322581</td>\n",
       "      <td>59601.612903</td>\n",
       "      <td>58514.516129</td>\n",
       "      <td>59067.741935</td>\n",
       "      <td>58084.043410</td>\n",
       "      <td>1.373811e+07</td>\n",
       "      <td>2022.0</td>\n",
       "    </tr>\n",
       "    <tr>\n",
       "      <th>2023-03-31</th>\n",
       "      <td>61414.516129</td>\n",
       "      <td>61846.774194</td>\n",
       "      <td>60827.419355</td>\n",
       "      <td>61322.580645</td>\n",
       "      <td>60678.515310</td>\n",
       "      <td>8.145096e+06</td>\n",
       "      <td>2023.0</td>\n",
       "    </tr>\n",
       "    <tr>\n",
       "      <th>2023-06-30</th>\n",
       "      <td>67936.065574</td>\n",
       "      <td>68337.704918</td>\n",
       "      <td>67354.098361</td>\n",
       "      <td>67873.770492</td>\n",
       "      <td>67548.507364</td>\n",
       "      <td>1.353320e+07</td>\n",
       "      <td>2023.0</td>\n",
       "    </tr>\n",
       "    <tr>\n",
       "      <th>2023-09-30</th>\n",
       "      <td>69772.580645</td>\n",
       "      <td>70319.354839</td>\n",
       "      <td>69156.451613</td>\n",
       "      <td>69687.096774</td>\n",
       "      <td>69687.096774</td>\n",
       "      <td>1.363359e+07</td>\n",
       "      <td>2023.0</td>\n",
       "    </tr>\n",
       "    <tr>\n",
       "      <th>2023-12-31</th>\n",
       "      <td>70714.035088</td>\n",
       "      <td>71217.543860</td>\n",
       "      <td>70214.035088</td>\n",
       "      <td>70712.280702</td>\n",
       "      <td>70712.280702</td>\n",
       "      <td>1.346373e+07</td>\n",
       "      <td>2023.0</td>\n",
       "    </tr>\n",
       "  </tbody>\n",
       "</table>\n",
       "<p>96 rows × 7 columns</p>\n",
       "</div>"
      ],
      "text/plain": [
       "                    Open          High           Low         Close  \\\n",
       "Date                                                                 \n",
       "2000-03-31   5688.750000   5831.718750   5542.343750   5677.187500   \n",
       "2000-06-30   6562.769231   6726.000000   6422.923077   6553.384615   \n",
       "2000-09-30   5934.000000   6033.692308   5807.692308   5910.923077   \n",
       "2000-12-31   3299.846154   3387.846154   3224.000000   3309.692308   \n",
       "2001-03-31   3975.538462   4055.538462   3912.615385   3990.000000   \n",
       "...                  ...           ...           ...           ...   \n",
       "2022-12-31  59040.322581  59601.612903  58514.516129  59067.741935   \n",
       "2023-03-31  61414.516129  61846.774194  60827.419355  61322.580645   \n",
       "2023-06-30  67936.065574  68337.704918  67354.098361  67873.770492   \n",
       "2023-09-30  69772.580645  70319.354839  69156.451613  69687.096774   \n",
       "2023-12-31  70714.035088  71217.543860  70214.035088  70712.280702   \n",
       "\n",
       "               Adj Close        Volume    year  \n",
       "Date                                            \n",
       "2000-03-31   4194.782799  5.114406e+07  2000.0  \n",
       "2000-06-30   4842.190734  4.471792e+07  2000.0  \n",
       "2000-09-30   4367.486103  4.556308e+07  2000.0  \n",
       "2000-12-31   2445.478555  6.171331e+07  2000.0  \n",
       "2001-03-31   2948.147014  3.713292e+07  2001.0  \n",
       "...                  ...           ...     ...  \n",
       "2022-12-31  58084.043410  1.373811e+07  2022.0  \n",
       "2023-03-31  60678.515310  8.145096e+06  2023.0  \n",
       "2023-06-30  67548.507364  1.353320e+07  2023.0  \n",
       "2023-09-30  69687.096774  1.363359e+07  2023.0  \n",
       "2023-12-31  70712.280702  1.346373e+07  2023.0  \n",
       "\n",
       "[96 rows x 7 columns]"
      ]
     },
     "execution_count": 38,
     "metadata": {},
     "output_type": "execute_result"
    }
   ],
   "source": [
    "sdf.resample(rule='Q').mean()"
   ]
  },
  {
   "cell_type": "code",
   "execution_count": 39,
   "id": "fdeeef8e",
   "metadata": {
    "ExecuteTime": {
     "end_time": "2023-12-22T08:42:36.060434Z",
     "start_time": "2023-12-22T08:42:36.027389Z"
    }
   },
   "outputs": [
    {
     "data": {
      "text/html": [
       "<div>\n",
       "<style scoped>\n",
       "    .dataframe tbody tr th:only-of-type {\n",
       "        vertical-align: middle;\n",
       "    }\n",
       "\n",
       "    .dataframe tbody tr th {\n",
       "        vertical-align: top;\n",
       "    }\n",
       "\n",
       "    .dataframe thead th {\n",
       "        text-align: right;\n",
       "    }\n",
       "</style>\n",
       "<table border=\"1\" class=\"dataframe\">\n",
       "  <thead>\n",
       "    <tr style=\"text-align: right;\">\n",
       "      <th></th>\n",
       "      <th>Open</th>\n",
       "      <th>High</th>\n",
       "      <th>Low</th>\n",
       "      <th>Close</th>\n",
       "      <th>Adj Close</th>\n",
       "      <th>Volume</th>\n",
       "      <th>year</th>\n",
       "    </tr>\n",
       "    <tr>\n",
       "      <th>Date</th>\n",
       "      <th></th>\n",
       "      <th></th>\n",
       "      <th></th>\n",
       "      <th></th>\n",
       "      <th></th>\n",
       "      <th></th>\n",
       "      <th></th>\n",
       "    </tr>\n",
       "  </thead>\n",
       "  <tbody>\n",
       "    <tr>\n",
       "      <th>2000-01-31</th>\n",
       "      <td>5750.500000</td>\n",
       "      <td>5877.000000</td>\n",
       "      <td>5647.500000</td>\n",
       "      <td>5763.500000</td>\n",
       "      <td>4258.557642</td>\n",
       "      <td>4.512675e+07</td>\n",
       "      <td>2000.0</td>\n",
       "    </tr>\n",
       "    <tr>\n",
       "      <th>2000-02-29</th>\n",
       "      <td>5278.571429</td>\n",
       "      <td>5398.095238</td>\n",
       "      <td>5129.523810</td>\n",
       "      <td>5241.904762</td>\n",
       "      <td>3873.159610</td>\n",
       "      <td>5.201405e+07</td>\n",
       "      <td>2000.0</td>\n",
       "    </tr>\n",
       "    <tr>\n",
       "      <th>2000-03-31</th>\n",
       "      <td>6009.565217</td>\n",
       "      <td>6188.260870</td>\n",
       "      <td>5827.826087</td>\n",
       "      <td>5999.565217</td>\n",
       "      <td>4432.982369</td>\n",
       "      <td>5.558217e+07</td>\n",
       "      <td>2000.0</td>\n",
       "    </tr>\n",
       "    <tr>\n",
       "      <th>2000-04-30</th>\n",
       "      <td>6399.000000</td>\n",
       "      <td>6559.500000</td>\n",
       "      <td>6232.500000</td>\n",
       "      <td>6356.500000</td>\n",
       "      <td>4696.715906</td>\n",
       "      <td>4.375625e+07</td>\n",
       "      <td>2000.0</td>\n",
       "    </tr>\n",
       "    <tr>\n",
       "      <th>2000-05-31</th>\n",
       "      <td>6282.608696</td>\n",
       "      <td>6436.521739</td>\n",
       "      <td>6181.739130</td>\n",
       "      <td>6286.521739</td>\n",
       "      <td>4645.010020</td>\n",
       "      <td>4.119413e+07</td>\n",
       "      <td>2000.0</td>\n",
       "    </tr>\n",
       "    <tr>\n",
       "      <th>...</th>\n",
       "      <td>...</td>\n",
       "      <td>...</td>\n",
       "      <td>...</td>\n",
       "      <td>...</td>\n",
       "      <td>...</td>\n",
       "      <td>...</td>\n",
       "      <td>...</td>\n",
       "    </tr>\n",
       "    <tr>\n",
       "      <th>2023-08-31</th>\n",
       "      <td>67790.909091</td>\n",
       "      <td>68286.363636</td>\n",
       "      <td>67277.272727</td>\n",
       "      <td>67686.363636</td>\n",
       "      <td>67686.363636</td>\n",
       "      <td>1.174840e+07</td>\n",
       "      <td>2023.0</td>\n",
       "    </tr>\n",
       "    <tr>\n",
       "      <th>2023-09-30</th>\n",
       "      <td>70157.894737</td>\n",
       "      <td>70784.210526</td>\n",
       "      <td>69521.052632</td>\n",
       "      <td>70168.421053</td>\n",
       "      <td>70168.421053</td>\n",
       "      <td>1.492286e+07</td>\n",
       "      <td>2023.0</td>\n",
       "    </tr>\n",
       "    <tr>\n",
       "      <th>2023-10-31</th>\n",
       "      <td>67947.368421</td>\n",
       "      <td>68615.789474</td>\n",
       "      <td>67405.263158</td>\n",
       "      <td>67910.526316</td>\n",
       "      <td>67910.526316</td>\n",
       "      <td>1.526738e+07</td>\n",
       "      <td>2023.0</td>\n",
       "    </tr>\n",
       "    <tr>\n",
       "      <th>2023-11-30</th>\n",
       "      <td>71286.363636</td>\n",
       "      <td>71809.090909</td>\n",
       "      <td>70850.000000</td>\n",
       "      <td>71409.090909</td>\n",
       "      <td>71409.090909</td>\n",
       "      <td>1.242980e+07</td>\n",
       "      <td>2023.0</td>\n",
       "    </tr>\n",
       "    <tr>\n",
       "      <th>2023-12-31</th>\n",
       "      <td>73212.500000</td>\n",
       "      <td>73493.750000</td>\n",
       "      <td>72675.000000</td>\n",
       "      <td>73081.250000</td>\n",
       "      <td>73081.250000</td>\n",
       "      <td>1.274355e+07</td>\n",
       "      <td>2023.0</td>\n",
       "    </tr>\n",
       "  </tbody>\n",
       "</table>\n",
       "<p>288 rows × 7 columns</p>\n",
       "</div>"
      ],
      "text/plain": [
       "                    Open          High           Low         Close  \\\n",
       "Date                                                                 \n",
       "2000-01-31   5750.500000   5877.000000   5647.500000   5763.500000   \n",
       "2000-02-29   5278.571429   5398.095238   5129.523810   5241.904762   \n",
       "2000-03-31   6009.565217   6188.260870   5827.826087   5999.565217   \n",
       "2000-04-30   6399.000000   6559.500000   6232.500000   6356.500000   \n",
       "2000-05-31   6282.608696   6436.521739   6181.739130   6286.521739   \n",
       "...                  ...           ...           ...           ...   \n",
       "2023-08-31  67790.909091  68286.363636  67277.272727  67686.363636   \n",
       "2023-09-30  70157.894737  70784.210526  69521.052632  70168.421053   \n",
       "2023-10-31  67947.368421  68615.789474  67405.263158  67910.526316   \n",
       "2023-11-30  71286.363636  71809.090909  70850.000000  71409.090909   \n",
       "2023-12-31  73212.500000  73493.750000  72675.000000  73081.250000   \n",
       "\n",
       "               Adj Close        Volume    year  \n",
       "Date                                            \n",
       "2000-01-31   4258.557642  4.512675e+07  2000.0  \n",
       "2000-02-29   3873.159610  5.201405e+07  2000.0  \n",
       "2000-03-31   4432.982369  5.558217e+07  2000.0  \n",
       "2000-04-30   4696.715906  4.375625e+07  2000.0  \n",
       "2000-05-31   4645.010020  4.119413e+07  2000.0  \n",
       "...                  ...           ...     ...  \n",
       "2023-08-31  67686.363636  1.174840e+07  2023.0  \n",
       "2023-09-30  70168.421053  1.492286e+07  2023.0  \n",
       "2023-10-31  67910.526316  1.526738e+07  2023.0  \n",
       "2023-11-30  71409.090909  1.242980e+07  2023.0  \n",
       "2023-12-31  73081.250000  1.274355e+07  2023.0  \n",
       "\n",
       "[288 rows x 7 columns]"
      ]
     },
     "execution_count": 39,
     "metadata": {},
     "output_type": "execute_result"
    }
   ],
   "source": [
    "sdf.resample(rule='M').mean()"
   ]
  },
  {
   "cell_type": "code",
   "execution_count": null,
   "id": "31db0ff4",
   "metadata": {},
   "outputs": [],
   "source": [
    "# 주별, default 월-일, 요일구간을 정할 수 있다\n",
    "sdf.resample(rule='W').mean()"
   ]
  },
  {
   "cell_type": "code",
   "execution_count": null,
   "id": "62478803",
   "metadata": {},
   "outputs": [],
   "source": [
    "sdf.resample(rule='D').mean()"
   ]
  },
  {
   "cell_type": "code",
   "execution_count": null,
   "id": "3df6ab2c",
   "metadata": {},
   "outputs": [],
   "source": [
    "sdf.loc['2023-11'].resample(rule='H').mean()"
   ]
  },
  {
   "cell_type": "code",
   "execution_count": null,
   "id": "887f079b",
   "metadata": {},
   "outputs": [],
   "source": [
    "sdf.loc['2023-11'].resample(rule='T').mean()"
   ]
  },
  {
   "cell_type": "code",
   "execution_count": null,
   "id": "dd0341a5",
   "metadata": {},
   "outputs": [],
   "source": [
    "sdf.loc['2023-11'].resample(rule='S').mean()"
   ]
  },
  {
   "cell_type": "markdown",
   "id": "61581129",
   "metadata": {},
   "source": [
    "# 연습문제 : 교통사고 데이터 분석\n",
    "3개의 데이터를 병합하시오.\n",
    "====이후문제는 병합한 데이터프레임을 이용 ===========\n",
    "\n",
    "인덱스를 datetime 으로 만드시오.\n",
    "\n",
    "년도 및 월별, 분기별, 평균 사망자를 보여주시오.\n",
    "\n",
    "2016년 사고대비 사망율을 구하시오.\n",
    "\n",
    "2014년도 월별 사망, 부상 데이터를 그래프로 보여주시오.\n",
    "\n",
    "2015년 대비 사망이 가장 많이 증가한 2016년 도 월을 구하시오."
   ]
  },
  {
   "cell_type": "code",
   "execution_count": 71,
   "id": "7a51ecf4",
   "metadata": {
    "ExecuteTime": {
     "end_time": "2023-12-22T07:44:59.798392Z",
     "start_time": "2023-12-22T07:44:59.767930Z"
    }
   },
   "outputs": [
    {
     "data": {
      "text/html": [
       "<div>\n",
       "<style scoped>\n",
       "    .dataframe tbody tr th:only-of-type {\n",
       "        vertical-align: middle;\n",
       "    }\n",
       "\n",
       "    .dataframe tbody tr th {\n",
       "        vertical-align: top;\n",
       "    }\n",
       "\n",
       "    .dataframe thead th {\n",
       "        text-align: right;\n",
       "    }\n",
       "</style>\n",
       "<table border=\"1\" class=\"dataframe\">\n",
       "  <thead>\n",
       "    <tr style=\"text-align: right;\">\n",
       "      <th></th>\n",
       "      <th>사고(건)</th>\n",
       "      <th>사망(명)</th>\n",
       "      <th>부상(명)</th>\n",
       "    </tr>\n",
       "    <tr>\n",
       "      <th>구분</th>\n",
       "      <th></th>\n",
       "      <th></th>\n",
       "      <th></th>\n",
       "    </tr>\n",
       "  </thead>\n",
       "  <tbody>\n",
       "    <tr>\n",
       "      <th>2014년1월</th>\n",
       "      <td>169</td>\n",
       "      <td>7</td>\n",
       "      <td>347</td>\n",
       "    </tr>\n",
       "    <tr>\n",
       "      <th>2014년2월</th>\n",
       "      <td>145</td>\n",
       "      <td>3</td>\n",
       "      <td>268</td>\n",
       "    </tr>\n",
       "    <tr>\n",
       "      <th>2014년3월</th>\n",
       "      <td>206</td>\n",
       "      <td>12</td>\n",
       "      <td>358</td>\n",
       "    </tr>\n",
       "    <tr>\n",
       "      <th>2014년4월</th>\n",
       "      <td>182</td>\n",
       "      <td>4</td>\n",
       "      <td>360</td>\n",
       "    </tr>\n",
       "    <tr>\n",
       "      <th>2014년5월</th>\n",
       "      <td>218</td>\n",
       "      <td>17</td>\n",
       "      <td>474</td>\n",
       "    </tr>\n",
       "  </tbody>\n",
       "</table>\n",
       "</div>"
      ],
      "text/plain": [
       "         사고(건)  사망(명)  부상(명)\n",
       "구분                          \n",
       "2014년1월    169      7    347\n",
       "2014년2월    145      3    268\n",
       "2014년3월    206     12    358\n",
       "2014년4월    182      4    360\n",
       "2014년5월    218     17    474"
      ]
     },
     "execution_count": 71,
     "metadata": {},
     "output_type": "execute_result"
    }
   ],
   "source": [
    "# 1. 3개 데이터 병합\n",
    "data_2014 = pd.read_csv('data/2014년 졸음운전 교통사고.csv', encoding='ANSI', index_col='구분')\n",
    "data_2015 = pd.read_csv('data/2015년 졸음운전 교통사고.csv', encoding='ANSI', index_col='구분')\n",
    "data_2016 = pd.read_csv('data/2016년 졸음운전 교통사고.csv', encoding='ANSI', index_col='구분')\n",
    "data_2014.head()"
   ]
  },
  {
   "cell_type": "code",
   "execution_count": 72,
   "id": "0f754298",
   "metadata": {
    "ExecuteTime": {
     "end_time": "2023-12-22T07:48:10.185097Z",
     "start_time": "2023-12-22T07:48:10.153358Z"
    }
   },
   "outputs": [
    {
     "name": "stdout",
     "output_type": "stream",
     "text": [
      "<class 'pandas.core.frame.DataFrame'>\n",
      "Index: 12 entries, 2014년1월 to 2014년12월\n",
      "Data columns (total 3 columns):\n",
      " #   Column  Non-Null Count  Dtype\n",
      "---  ------  --------------  -----\n",
      " 0   사고(건)   12 non-null     int64\n",
      " 1   사망(명)   12 non-null     int64\n",
      " 2   부상(명)   12 non-null     int64\n",
      "dtypes: int64(3)\n",
      "memory usage: 384.0+ bytes\n",
      "<class 'pandas.core.frame.DataFrame'>\n",
      "Index: 12 entries, 2015년1월 to 2015년12월\n",
      "Data columns (total 3 columns):\n",
      " #   Column  Non-Null Count  Dtype\n",
      "---  ------  --------------  -----\n",
      " 0   사고(건)   12 non-null     int64\n",
      " 1   사망(명)   12 non-null     int64\n",
      " 2   부상(명)   12 non-null     int64\n",
      "dtypes: int64(3)\n",
      "memory usage: 384.0+ bytes\n",
      "<class 'pandas.core.frame.DataFrame'>\n",
      "Index: 12 entries, 2016년1월 to 2016년12월\n",
      "Data columns (total 3 columns):\n",
      " #   Column  Non-Null Count  Dtype\n",
      "---  ------  --------------  -----\n",
      " 0   사고(건)   12 non-null     int64\n",
      " 1   사망(명)   12 non-null     int64\n",
      " 2   부상(명)   12 non-null     int64\n",
      "dtypes: int64(3)\n",
      "memory usage: 384.0+ bytes\n"
     ]
    },
    {
     "data": {
      "text/plain": [
       "(None, None, None)"
      ]
     },
     "execution_count": 72,
     "metadata": {},
     "output_type": "execute_result"
    }
   ],
   "source": [
    "data_2014.info(), data_2015.info(), data_2016.info()"
   ]
  },
  {
   "cell_type": "code",
   "execution_count": 73,
   "id": "22bf0f8a",
   "metadata": {
    "ExecuteTime": {
     "end_time": "2023-12-22T07:48:39.702426Z",
     "start_time": "2023-12-22T07:48:39.687644Z"
    }
   },
   "outputs": [
    {
     "data": {
      "text/html": [
       "<div>\n",
       "<style scoped>\n",
       "    .dataframe tbody tr th:only-of-type {\n",
       "        vertical-align: middle;\n",
       "    }\n",
       "\n",
       "    .dataframe tbody tr th {\n",
       "        vertical-align: top;\n",
       "    }\n",
       "\n",
       "    .dataframe thead th {\n",
       "        text-align: right;\n",
       "    }\n",
       "</style>\n",
       "<table border=\"1\" class=\"dataframe\">\n",
       "  <thead>\n",
       "    <tr style=\"text-align: right;\">\n",
       "      <th></th>\n",
       "      <th>사고(건)</th>\n",
       "      <th>사망(명)</th>\n",
       "      <th>부상(명)</th>\n",
       "    </tr>\n",
       "    <tr>\n",
       "      <th>구분</th>\n",
       "      <th></th>\n",
       "      <th></th>\n",
       "      <th></th>\n",
       "    </tr>\n",
       "  </thead>\n",
       "  <tbody>\n",
       "    <tr>\n",
       "      <th>2014년1월</th>\n",
       "      <td>169</td>\n",
       "      <td>7</td>\n",
       "      <td>347</td>\n",
       "    </tr>\n",
       "    <tr>\n",
       "      <th>2014년2월</th>\n",
       "      <td>145</td>\n",
       "      <td>3</td>\n",
       "      <td>268</td>\n",
       "    </tr>\n",
       "    <tr>\n",
       "      <th>2014년3월</th>\n",
       "      <td>206</td>\n",
       "      <td>12</td>\n",
       "      <td>358</td>\n",
       "    </tr>\n",
       "    <tr>\n",
       "      <th>2014년4월</th>\n",
       "      <td>182</td>\n",
       "      <td>4</td>\n",
       "      <td>360</td>\n",
       "    </tr>\n",
       "    <tr>\n",
       "      <th>2014년5월</th>\n",
       "      <td>218</td>\n",
       "      <td>17</td>\n",
       "      <td>474</td>\n",
       "    </tr>\n",
       "    <tr>\n",
       "      <th>2014년6월</th>\n",
       "      <td>233</td>\n",
       "      <td>13</td>\n",
       "      <td>457</td>\n",
       "    </tr>\n",
       "    <tr>\n",
       "      <th>2014년7월</th>\n",
       "      <td>229</td>\n",
       "      <td>14</td>\n",
       "      <td>431</td>\n",
       "    </tr>\n",
       "    <tr>\n",
       "      <th>2014년8월</th>\n",
       "      <td>222</td>\n",
       "      <td>9</td>\n",
       "      <td>447</td>\n",
       "    </tr>\n",
       "    <tr>\n",
       "      <th>2014년9월</th>\n",
       "      <td>225</td>\n",
       "      <td>15</td>\n",
       "      <td>430</td>\n",
       "    </tr>\n",
       "    <tr>\n",
       "      <th>2014년10월</th>\n",
       "      <td>210</td>\n",
       "      <td>14</td>\n",
       "      <td>392</td>\n",
       "    </tr>\n",
       "    <tr>\n",
       "      <th>2014년11월</th>\n",
       "      <td>209</td>\n",
       "      <td>10</td>\n",
       "      <td>386</td>\n",
       "    </tr>\n",
       "    <tr>\n",
       "      <th>2014년12월</th>\n",
       "      <td>178</td>\n",
       "      <td>12</td>\n",
       "      <td>329</td>\n",
       "    </tr>\n",
       "    <tr>\n",
       "      <th>2015년1월</th>\n",
       "      <td>205</td>\n",
       "      <td>8</td>\n",
       "      <td>375</td>\n",
       "    </tr>\n",
       "    <tr>\n",
       "      <th>2015년2월</th>\n",
       "      <td>175</td>\n",
       "      <td>8</td>\n",
       "      <td>375</td>\n",
       "    </tr>\n",
       "    <tr>\n",
       "      <th>2015년3월</th>\n",
       "      <td>237</td>\n",
       "      <td>4</td>\n",
       "      <td>492</td>\n",
       "    </tr>\n",
       "    <tr>\n",
       "      <th>2015년4월</th>\n",
       "      <td>227</td>\n",
       "      <td>10</td>\n",
       "      <td>486</td>\n",
       "    </tr>\n",
       "    <tr>\n",
       "      <th>2015년5월</th>\n",
       "      <td>231</td>\n",
       "      <td>9</td>\n",
       "      <td>504</td>\n",
       "    </tr>\n",
       "    <tr>\n",
       "      <th>2015년6월</th>\n",
       "      <td>207</td>\n",
       "      <td>8</td>\n",
       "      <td>401</td>\n",
       "    </tr>\n",
       "    <tr>\n",
       "      <th>2015년7월</th>\n",
       "      <td>273</td>\n",
       "      <td>7</td>\n",
       "      <td>556</td>\n",
       "    </tr>\n",
       "    <tr>\n",
       "      <th>2015년8월</th>\n",
       "      <td>268</td>\n",
       "      <td>19</td>\n",
       "      <td>534</td>\n",
       "    </tr>\n",
       "    <tr>\n",
       "      <th>2015년9월</th>\n",
       "      <td>252</td>\n",
       "      <td>10</td>\n",
       "      <td>501</td>\n",
       "    </tr>\n",
       "    <tr>\n",
       "      <th>2015년10월</th>\n",
       "      <td>214</td>\n",
       "      <td>14</td>\n",
       "      <td>475</td>\n",
       "    </tr>\n",
       "    <tr>\n",
       "      <th>2015년11월</th>\n",
       "      <td>199</td>\n",
       "      <td>3</td>\n",
       "      <td>398</td>\n",
       "    </tr>\n",
       "    <tr>\n",
       "      <th>2015년12월</th>\n",
       "      <td>213</td>\n",
       "      <td>8</td>\n",
       "      <td>428</td>\n",
       "    </tr>\n",
       "    <tr>\n",
       "      <th>2016년1월</th>\n",
       "      <td>192</td>\n",
       "      <td>5</td>\n",
       "      <td>387</td>\n",
       "    </tr>\n",
       "    <tr>\n",
       "      <th>2016년2월</th>\n",
       "      <td>174</td>\n",
       "      <td>6</td>\n",
       "      <td>328</td>\n",
       "    </tr>\n",
       "    <tr>\n",
       "      <th>2016년3월</th>\n",
       "      <td>217</td>\n",
       "      <td>7</td>\n",
       "      <td>435</td>\n",
       "    </tr>\n",
       "    <tr>\n",
       "      <th>2016년4월</th>\n",
       "      <td>216</td>\n",
       "      <td>7</td>\n",
       "      <td>419</td>\n",
       "    </tr>\n",
       "    <tr>\n",
       "      <th>2016년5월</th>\n",
       "      <td>239</td>\n",
       "      <td>13</td>\n",
       "      <td>522</td>\n",
       "    </tr>\n",
       "    <tr>\n",
       "      <th>2016년6월</th>\n",
       "      <td>200</td>\n",
       "      <td>12</td>\n",
       "      <td>362</td>\n",
       "    </tr>\n",
       "    <tr>\n",
       "      <th>2016년7월</th>\n",
       "      <td>227</td>\n",
       "      <td>9</td>\n",
       "      <td>460</td>\n",
       "    </tr>\n",
       "    <tr>\n",
       "      <th>2016년8월</th>\n",
       "      <td>230</td>\n",
       "      <td>7</td>\n",
       "      <td>490</td>\n",
       "    </tr>\n",
       "    <tr>\n",
       "      <th>2016년9월</th>\n",
       "      <td>187</td>\n",
       "      <td>13</td>\n",
       "      <td>347</td>\n",
       "    </tr>\n",
       "    <tr>\n",
       "      <th>2016년10월</th>\n",
       "      <td>183</td>\n",
       "      <td>10</td>\n",
       "      <td>367</td>\n",
       "    </tr>\n",
       "    <tr>\n",
       "      <th>2016년11월</th>\n",
       "      <td>200</td>\n",
       "      <td>5</td>\n",
       "      <td>418</td>\n",
       "    </tr>\n",
       "    <tr>\n",
       "      <th>2016년12월</th>\n",
       "      <td>168</td>\n",
       "      <td>4</td>\n",
       "      <td>364</td>\n",
       "    </tr>\n",
       "  </tbody>\n",
       "</table>\n",
       "</div>"
      ],
      "text/plain": [
       "          사고(건)  사망(명)  부상(명)\n",
       "구분                           \n",
       "2014년1월     169      7    347\n",
       "2014년2월     145      3    268\n",
       "2014년3월     206     12    358\n",
       "2014년4월     182      4    360\n",
       "2014년5월     218     17    474\n",
       "2014년6월     233     13    457\n",
       "2014년7월     229     14    431\n",
       "2014년8월     222      9    447\n",
       "2014년9월     225     15    430\n",
       "2014년10월    210     14    392\n",
       "2014년11월    209     10    386\n",
       "2014년12월    178     12    329\n",
       "2015년1월     205      8    375\n",
       "2015년2월     175      8    375\n",
       "2015년3월     237      4    492\n",
       "2015년4월     227     10    486\n",
       "2015년5월     231      9    504\n",
       "2015년6월     207      8    401\n",
       "2015년7월     273      7    556\n",
       "2015년8월     268     19    534\n",
       "2015년9월     252     10    501\n",
       "2015년10월    214     14    475\n",
       "2015년11월    199      3    398\n",
       "2015년12월    213      8    428\n",
       "2016년1월     192      5    387\n",
       "2016년2월     174      6    328\n",
       "2016년3월     217      7    435\n",
       "2016년4월     216      7    419\n",
       "2016년5월     239     13    522\n",
       "2016년6월     200     12    362\n",
       "2016년7월     227      9    460\n",
       "2016년8월     230      7    490\n",
       "2016년9월     187     13    347\n",
       "2016년10월    183     10    367\n",
       "2016년11월    200      5    418\n",
       "2016년12월    168      4    364"
      ]
     },
     "execution_count": 73,
     "metadata": {},
     "output_type": "execute_result"
    }
   ],
   "source": [
    "data_total = pd.concat([data_2014, data_2015, data_2016], axis=0)\n",
    "data_total"
   ]
  },
  {
   "cell_type": "code",
   "execution_count": 74,
   "id": "190f57f6",
   "metadata": {
    "ExecuteTime": {
     "end_time": "2023-12-22T07:48:46.857151Z",
     "start_time": "2023-12-22T07:48:46.849391Z"
    }
   },
   "outputs": [
    {
     "data": {
      "text/plain": [
       "Index(['2014년1월', '2014년2월', '2014년3월', '2014년4월', '2014년5월', '2014년6월',\n",
       "       '2014년7월', '2014년8월', '2014년9월', '2014년10월', '2014년11월', '2014년12월',\n",
       "       '2015년1월', '2015년2월', '2015년3월', '2015년4월', '2015년5월', '2015년6월',\n",
       "       '2015년7월', '2015년8월', '2015년9월', '2015년10월', '2015년11월', '2015년12월',\n",
       "       '2016년1월', '2016년2월', '2016년3월', '2016년4월', '2016년5월', '2016년6월',\n",
       "       '2016년7월', '2016년8월', '2016년9월', '2016년10월', '2016년11월', '2016년12월'],\n",
       "      dtype='object', name='구분')"
      ]
     },
     "execution_count": 74,
     "metadata": {},
     "output_type": "execute_result"
    }
   ],
   "source": [
    "# 2. 인덱스를 datetime 으로 만드시요\n",
    "data_total.index"
   ]
  },
  {
   "cell_type": "code",
   "execution_count": 75,
   "id": "7317b017",
   "metadata": {
    "ExecuteTime": {
     "end_time": "2023-12-22T07:49:03.118161Z",
     "start_time": "2023-12-22T07:49:03.102875Z"
    }
   },
   "outputs": [
    {
     "data": {
      "text/plain": [
       "DatetimeIndex(['2014-01-01', '2014-02-01', '2014-03-01', '2014-04-01',\n",
       "               '2014-05-01', '2014-06-01', '2014-07-01', '2014-08-01',\n",
       "               '2014-09-01', '2014-10-01', '2014-11-01', '2014-12-01',\n",
       "               '2015-01-01', '2015-02-01', '2015-03-01', '2015-04-01',\n",
       "               '2015-05-01', '2015-06-01', '2015-07-01', '2015-08-01',\n",
       "               '2015-09-01', '2015-10-01', '2015-11-01', '2015-12-01',\n",
       "               '2016-01-01', '2016-02-01', '2016-03-01', '2016-04-01',\n",
       "               '2016-05-01', '2016-06-01', '2016-07-01', '2016-08-01',\n",
       "               '2016-09-01', '2016-10-01', '2016-11-01', '2016-12-01'],\n",
       "              dtype='datetime64[ns]', name='구분', freq=None)"
      ]
     },
     "execution_count": 75,
     "metadata": {},
     "output_type": "execute_result"
    }
   ],
   "source": [
    "data_total.index  = pd.to_datetime(data_total.index, format= '%Y년%m월')\n",
    "data_total.index"
   ]
  },
  {
   "cell_type": "code",
   "execution_count": 76,
   "id": "a8c7d855",
   "metadata": {
    "ExecuteTime": {
     "end_time": "2023-12-22T07:49:21.191691Z",
     "start_time": "2023-12-22T07:49:21.163046Z"
    }
   },
   "outputs": [
    {
     "data": {
      "text/html": [
       "<div>\n",
       "<style scoped>\n",
       "    .dataframe tbody tr th:only-of-type {\n",
       "        vertical-align: middle;\n",
       "    }\n",
       "\n",
       "    .dataframe tbody tr th {\n",
       "        vertical-align: top;\n",
       "    }\n",
       "\n",
       "    .dataframe thead th {\n",
       "        text-align: right;\n",
       "    }\n",
       "</style>\n",
       "<table border=\"1\" class=\"dataframe\">\n",
       "  <thead>\n",
       "    <tr style=\"text-align: right;\">\n",
       "      <th></th>\n",
       "      <th></th>\n",
       "      <th>사망(명)</th>\n",
       "    </tr>\n",
       "    <tr>\n",
       "      <th>구분</th>\n",
       "      <th>구분</th>\n",
       "      <th></th>\n",
       "    </tr>\n",
       "  </thead>\n",
       "  <tbody>\n",
       "    <tr>\n",
       "      <th rowspan=\"12\" valign=\"top\">2014</th>\n",
       "      <th>1</th>\n",
       "      <td>7.0</td>\n",
       "    </tr>\n",
       "    <tr>\n",
       "      <th>2</th>\n",
       "      <td>3.0</td>\n",
       "    </tr>\n",
       "    <tr>\n",
       "      <th>3</th>\n",
       "      <td>12.0</td>\n",
       "    </tr>\n",
       "    <tr>\n",
       "      <th>4</th>\n",
       "      <td>4.0</td>\n",
       "    </tr>\n",
       "    <tr>\n",
       "      <th>5</th>\n",
       "      <td>17.0</td>\n",
       "    </tr>\n",
       "    <tr>\n",
       "      <th>6</th>\n",
       "      <td>13.0</td>\n",
       "    </tr>\n",
       "    <tr>\n",
       "      <th>7</th>\n",
       "      <td>14.0</td>\n",
       "    </tr>\n",
       "    <tr>\n",
       "      <th>8</th>\n",
       "      <td>9.0</td>\n",
       "    </tr>\n",
       "    <tr>\n",
       "      <th>9</th>\n",
       "      <td>15.0</td>\n",
       "    </tr>\n",
       "    <tr>\n",
       "      <th>10</th>\n",
       "      <td>14.0</td>\n",
       "    </tr>\n",
       "    <tr>\n",
       "      <th>11</th>\n",
       "      <td>10.0</td>\n",
       "    </tr>\n",
       "    <tr>\n",
       "      <th>12</th>\n",
       "      <td>12.0</td>\n",
       "    </tr>\n",
       "    <tr>\n",
       "      <th rowspan=\"12\" valign=\"top\">2015</th>\n",
       "      <th>1</th>\n",
       "      <td>8.0</td>\n",
       "    </tr>\n",
       "    <tr>\n",
       "      <th>2</th>\n",
       "      <td>8.0</td>\n",
       "    </tr>\n",
       "    <tr>\n",
       "      <th>3</th>\n",
       "      <td>4.0</td>\n",
       "    </tr>\n",
       "    <tr>\n",
       "      <th>4</th>\n",
       "      <td>10.0</td>\n",
       "    </tr>\n",
       "    <tr>\n",
       "      <th>5</th>\n",
       "      <td>9.0</td>\n",
       "    </tr>\n",
       "    <tr>\n",
       "      <th>6</th>\n",
       "      <td>8.0</td>\n",
       "    </tr>\n",
       "    <tr>\n",
       "      <th>7</th>\n",
       "      <td>7.0</td>\n",
       "    </tr>\n",
       "    <tr>\n",
       "      <th>8</th>\n",
       "      <td>19.0</td>\n",
       "    </tr>\n",
       "    <tr>\n",
       "      <th>9</th>\n",
       "      <td>10.0</td>\n",
       "    </tr>\n",
       "    <tr>\n",
       "      <th>10</th>\n",
       "      <td>14.0</td>\n",
       "    </tr>\n",
       "    <tr>\n",
       "      <th>11</th>\n",
       "      <td>3.0</td>\n",
       "    </tr>\n",
       "    <tr>\n",
       "      <th>12</th>\n",
       "      <td>8.0</td>\n",
       "    </tr>\n",
       "    <tr>\n",
       "      <th rowspan=\"12\" valign=\"top\">2016</th>\n",
       "      <th>1</th>\n",
       "      <td>5.0</td>\n",
       "    </tr>\n",
       "    <tr>\n",
       "      <th>2</th>\n",
       "      <td>6.0</td>\n",
       "    </tr>\n",
       "    <tr>\n",
       "      <th>3</th>\n",
       "      <td>7.0</td>\n",
       "    </tr>\n",
       "    <tr>\n",
       "      <th>4</th>\n",
       "      <td>7.0</td>\n",
       "    </tr>\n",
       "    <tr>\n",
       "      <th>5</th>\n",
       "      <td>13.0</td>\n",
       "    </tr>\n",
       "    <tr>\n",
       "      <th>6</th>\n",
       "      <td>12.0</td>\n",
       "    </tr>\n",
       "    <tr>\n",
       "      <th>7</th>\n",
       "      <td>9.0</td>\n",
       "    </tr>\n",
       "    <tr>\n",
       "      <th>8</th>\n",
       "      <td>7.0</td>\n",
       "    </tr>\n",
       "    <tr>\n",
       "      <th>9</th>\n",
       "      <td>13.0</td>\n",
       "    </tr>\n",
       "    <tr>\n",
       "      <th>10</th>\n",
       "      <td>10.0</td>\n",
       "    </tr>\n",
       "    <tr>\n",
       "      <th>11</th>\n",
       "      <td>5.0</td>\n",
       "    </tr>\n",
       "    <tr>\n",
       "      <th>12</th>\n",
       "      <td>4.0</td>\n",
       "    </tr>\n",
       "  </tbody>\n",
       "</table>\n",
       "</div>"
      ],
      "text/plain": [
       "         사망(명)\n",
       "구분   구분       \n",
       "2014 1     7.0\n",
       "     2     3.0\n",
       "     3    12.0\n",
       "     4     4.0\n",
       "     5    17.0\n",
       "     6    13.0\n",
       "     7    14.0\n",
       "     8     9.0\n",
       "     9    15.0\n",
       "     10   14.0\n",
       "     11   10.0\n",
       "     12   12.0\n",
       "2015 1     8.0\n",
       "     2     8.0\n",
       "     3     4.0\n",
       "     4    10.0\n",
       "     5     9.0\n",
       "     6     8.0\n",
       "     7     7.0\n",
       "     8    19.0\n",
       "     9    10.0\n",
       "     10   14.0\n",
       "     11    3.0\n",
       "     12    8.0\n",
       "2016 1     5.0\n",
       "     2     6.0\n",
       "     3     7.0\n",
       "     4     7.0\n",
       "     5    13.0\n",
       "     6    12.0\n",
       "     7     9.0\n",
       "     8     7.0\n",
       "     9    13.0\n",
       "     10   10.0\n",
       "     11    5.0\n",
       "     12    4.0"
      ]
     },
     "execution_count": 76,
     "metadata": {},
     "output_type": "execute_result"
    }
   ],
   "source": [
    "# 3. 년도 및 월별, 분기별, 평균 사망자를 보여주시요\n",
    "data_total[['사망(명)']].groupby([data_total.index.year, data_total.index.month]).mean()"
   ]
  },
  {
   "cell_type": "code",
   "execution_count": 77,
   "id": "8f61b745",
   "metadata": {
    "ExecuteTime": {
     "end_time": "2023-12-22T07:49:58.784819Z",
     "start_time": "2023-12-22T07:49:58.762809Z"
    }
   },
   "outputs": [
    {
     "data": {
      "text/html": [
       "<div>\n",
       "<style scoped>\n",
       "    .dataframe tbody tr th:only-of-type {\n",
       "        vertical-align: middle;\n",
       "    }\n",
       "\n",
       "    .dataframe tbody tr th {\n",
       "        vertical-align: top;\n",
       "    }\n",
       "\n",
       "    .dataframe thead th {\n",
       "        text-align: right;\n",
       "    }\n",
       "</style>\n",
       "<table border=\"1\" class=\"dataframe\">\n",
       "  <thead>\n",
       "    <tr style=\"text-align: right;\">\n",
       "      <th></th>\n",
       "      <th>사망(명)</th>\n",
       "    </tr>\n",
       "    <tr>\n",
       "      <th>구분</th>\n",
       "      <th></th>\n",
       "    </tr>\n",
       "  </thead>\n",
       "  <tbody>\n",
       "    <tr>\n",
       "      <th>2014-03-31</th>\n",
       "      <td>7.333333</td>\n",
       "    </tr>\n",
       "    <tr>\n",
       "      <th>2014-06-30</th>\n",
       "      <td>11.333333</td>\n",
       "    </tr>\n",
       "    <tr>\n",
       "      <th>2014-09-30</th>\n",
       "      <td>12.666667</td>\n",
       "    </tr>\n",
       "    <tr>\n",
       "      <th>2014-12-31</th>\n",
       "      <td>12.000000</td>\n",
       "    </tr>\n",
       "    <tr>\n",
       "      <th>2015-03-31</th>\n",
       "      <td>6.666667</td>\n",
       "    </tr>\n",
       "    <tr>\n",
       "      <th>2015-06-30</th>\n",
       "      <td>9.000000</td>\n",
       "    </tr>\n",
       "    <tr>\n",
       "      <th>2015-09-30</th>\n",
       "      <td>12.000000</td>\n",
       "    </tr>\n",
       "    <tr>\n",
       "      <th>2015-12-31</th>\n",
       "      <td>8.333333</td>\n",
       "    </tr>\n",
       "    <tr>\n",
       "      <th>2016-03-31</th>\n",
       "      <td>6.000000</td>\n",
       "    </tr>\n",
       "    <tr>\n",
       "      <th>2016-06-30</th>\n",
       "      <td>10.666667</td>\n",
       "    </tr>\n",
       "    <tr>\n",
       "      <th>2016-09-30</th>\n",
       "      <td>9.666667</td>\n",
       "    </tr>\n",
       "    <tr>\n",
       "      <th>2016-12-31</th>\n",
       "      <td>6.333333</td>\n",
       "    </tr>\n",
       "  </tbody>\n",
       "</table>\n",
       "</div>"
      ],
      "text/plain": [
       "                사망(명)\n",
       "구분                   \n",
       "2014-03-31   7.333333\n",
       "2014-06-30  11.333333\n",
       "2014-09-30  12.666667\n",
       "2014-12-31  12.000000\n",
       "2015-03-31   6.666667\n",
       "2015-06-30   9.000000\n",
       "2015-09-30  12.000000\n",
       "2015-12-31   8.333333\n",
       "2016-03-31   6.000000\n",
       "2016-06-30  10.666667\n",
       "2016-09-30   9.666667\n",
       "2016-12-31   6.333333"
      ]
     },
     "execution_count": 77,
     "metadata": {},
     "output_type": "execute_result"
    }
   ],
   "source": [
    "data_total[['사망(명)']].resample(rule='Q').mean()"
   ]
  },
  {
   "cell_type": "code",
   "execution_count": 78,
   "id": "8e0b940e",
   "metadata": {
    "ExecuteTime": {
     "end_time": "2023-12-22T07:50:10.515700Z",
     "start_time": "2023-12-22T07:50:10.496699Z"
    }
   },
   "outputs": [
    {
     "data": {
      "text/plain": [
       "구분\n",
       "2016-01-01    0.026042\n",
       "2016-02-01    0.034483\n",
       "2016-03-01    0.032258\n",
       "2016-04-01    0.032407\n",
       "2016-05-01    0.054393\n",
       "2016-06-01    0.060000\n",
       "2016-07-01    0.039648\n",
       "2016-08-01    0.030435\n",
       "2016-09-01    0.069519\n",
       "2016-10-01    0.054645\n",
       "2016-11-01    0.025000\n",
       "2016-12-01    0.023810\n",
       "dtype: float64"
      ]
     },
     "execution_count": 78,
     "metadata": {},
     "output_type": "execute_result"
    }
   ],
   "source": [
    "# 4.  2016년 사고대비 사망율을 구하시요\n",
    "data_total.loc['2016']['사망(명)']/ data_total.loc['2016']['사고(건)']"
   ]
  },
  {
   "cell_type": "code",
   "execution_count": 79,
   "id": "40811819",
   "metadata": {
    "ExecuteTime": {
     "end_time": "2023-12-22T07:50:41.166251Z",
     "start_time": "2023-12-22T07:50:41.153725Z"
    }
   },
   "outputs": [
    {
     "data": {
      "text/plain": [
       "0.04"
      ]
     },
     "execution_count": 79,
     "metadata": {},
     "output_type": "execute_result"
    }
   ],
   "source": [
    "round ( data_total.loc['2016']['사망(명)'].sum()/ data_total.loc['2016']['사고(건)'].sum(), 2 )"
   ]
  },
  {
   "cell_type": "code",
   "execution_count": 80,
   "id": "cc852da1",
   "metadata": {
    "ExecuteTime": {
     "end_time": "2023-12-22T07:51:16.305120Z",
     "start_time": "2023-12-22T07:51:14.844668Z"
    }
   },
   "outputs": [
    {
     "data": {
      "text/plain": [
       "<Axes: xlabel='구분'>"
      ]
     },
     "execution_count": 80,
     "metadata": {},
     "output_type": "execute_result"
    },
    {
     "data": {
      "image/png": "[encoded data removed]",
      "text/plain": [
       "<Figure size 640x480 with 1 Axes>"
      ]
     },
     "metadata": {},
     "output_type": "display_data"
    }
   ],
   "source": [
    "# 5. 2014년도 월별 사망, 부상 데이터를 그래프로 보여주시요\n",
    "#plot: 판다스용 \n",
    "data_total.loc['2014'][['사망(명)','부상(명)']].plot(kind='bar') # 보기 힘들다 이중축으로 만들어 보면어떨까?  바+꺾은선\n",
    "# plt.xticks(rotation=45)\n",
    "# plt.plot(temp_2014.index, temp_2014)"
   ]
  },
  {
   "cell_type": "code",
   "execution_count": 81,
   "id": "93e643e4",
   "metadata": {
    "ExecuteTime": {
     "end_time": "2023-12-22T07:51:47.007439Z",
     "start_time": "2023-12-22T07:51:46.990534Z"
    }
   },
   "outputs": [
    {
     "data": {
      "text/html": [
       "<div>\n",
       "<style scoped>\n",
       "    .dataframe tbody tr th:only-of-type {\n",
       "        vertical-align: middle;\n",
       "    }\n",
       "\n",
       "    .dataframe tbody tr th {\n",
       "        vertical-align: top;\n",
       "    }\n",
       "\n",
       "    .dataframe thead th {\n",
       "        text-align: right;\n",
       "    }\n",
       "</style>\n",
       "<table border=\"1\" class=\"dataframe\">\n",
       "  <thead>\n",
       "    <tr style=\"text-align: right;\">\n",
       "      <th></th>\n",
       "      <th>사고(건)</th>\n",
       "      <th>사망(명)</th>\n",
       "      <th>부상(명)</th>\n",
       "    </tr>\n",
       "    <tr>\n",
       "      <th>구분</th>\n",
       "      <th></th>\n",
       "      <th></th>\n",
       "      <th></th>\n",
       "    </tr>\n",
       "  </thead>\n",
       "  <tbody>\n",
       "    <tr>\n",
       "      <th>2016-01-01</th>\n",
       "      <td>192</td>\n",
       "      <td>5</td>\n",
       "      <td>387</td>\n",
       "    </tr>\n",
       "    <tr>\n",
       "      <th>2016-02-01</th>\n",
       "      <td>174</td>\n",
       "      <td>6</td>\n",
       "      <td>328</td>\n",
       "    </tr>\n",
       "    <tr>\n",
       "      <th>2016-03-01</th>\n",
       "      <td>217</td>\n",
       "      <td>7</td>\n",
       "      <td>435</td>\n",
       "    </tr>\n",
       "    <tr>\n",
       "      <th>2016-04-01</th>\n",
       "      <td>216</td>\n",
       "      <td>7</td>\n",
       "      <td>419</td>\n",
       "    </tr>\n",
       "    <tr>\n",
       "      <th>2016-05-01</th>\n",
       "      <td>239</td>\n",
       "      <td>13</td>\n",
       "      <td>522</td>\n",
       "    </tr>\n",
       "    <tr>\n",
       "      <th>2016-06-01</th>\n",
       "      <td>200</td>\n",
       "      <td>12</td>\n",
       "      <td>362</td>\n",
       "    </tr>\n",
       "    <tr>\n",
       "      <th>2016-07-01</th>\n",
       "      <td>227</td>\n",
       "      <td>9</td>\n",
       "      <td>460</td>\n",
       "    </tr>\n",
       "    <tr>\n",
       "      <th>2016-08-01</th>\n",
       "      <td>230</td>\n",
       "      <td>7</td>\n",
       "      <td>490</td>\n",
       "    </tr>\n",
       "    <tr>\n",
       "      <th>2016-09-01</th>\n",
       "      <td>187</td>\n",
       "      <td>13</td>\n",
       "      <td>347</td>\n",
       "    </tr>\n",
       "    <tr>\n",
       "      <th>2016-10-01</th>\n",
       "      <td>183</td>\n",
       "      <td>10</td>\n",
       "      <td>367</td>\n",
       "    </tr>\n",
       "    <tr>\n",
       "      <th>2016-11-01</th>\n",
       "      <td>200</td>\n",
       "      <td>5</td>\n",
       "      <td>418</td>\n",
       "    </tr>\n",
       "    <tr>\n",
       "      <th>2016-12-01</th>\n",
       "      <td>168</td>\n",
       "      <td>4</td>\n",
       "      <td>364</td>\n",
       "    </tr>\n",
       "  </tbody>\n",
       "</table>\n",
       "</div>"
      ],
      "text/plain": [
       "            사고(건)  사망(명)  부상(명)\n",
       "구분                             \n",
       "2016-01-01    192      5    387\n",
       "2016-02-01    174      6    328\n",
       "2016-03-01    217      7    435\n",
       "2016-04-01    216      7    419\n",
       "2016-05-01    239     13    522\n",
       "2016-06-01    200     12    362\n",
       "2016-07-01    227      9    460\n",
       "2016-08-01    230      7    490\n",
       "2016-09-01    187     13    347\n",
       "2016-10-01    183     10    367\n",
       "2016-11-01    200      5    418\n",
       "2016-12-01    168      4    364"
      ]
     },
     "execution_count": 81,
     "metadata": {},
     "output_type": "execute_result"
    }
   ],
   "source": [
    "data_total.loc['2016']"
   ]
  },
  {
   "cell_type": "code",
   "execution_count": 82,
   "id": "5a6e6e41",
   "metadata": {
    "ExecuteTime": {
     "end_time": "2023-12-22T07:51:55.925654Z",
     "start_time": "2023-12-22T07:51:55.914075Z"
    }
   },
   "outputs": [
    {
     "data": {
      "text/plain": [
       "4"
      ]
     },
     "execution_count": 82,
     "metadata": {},
     "output_type": "execute_result"
    }
   ],
   "source": [
    "# 6. 2015년 대비  사망이 가장 많이 증가한 2016년 도 월을 구하시요\n",
    "(data_total.loc['2016', '사망(명)'].values\n",
    " - data_total.loc['2015', '사망(명)'].values).argmax() # 가장 높은 값의 인덱스를 반환\n",
    "# 과연 맞을까?\n",
    "#인덱스를 반환해줌"
   ]
  },
  {
   "cell_type": "code",
   "execution_count": 83,
   "id": "5ed70920",
   "metadata": {
    "ExecuteTime": {
     "end_time": "2023-12-22T07:52:31.461935Z",
     "start_time": "2023-12-22T07:52:31.447560Z"
    }
   },
   "outputs": [
    {
     "data": {
      "text/plain": [
       "array([ -3,  -2,   3,  -3,   4,   4,   2, -12,   3,  -4,   2,  -4],\n",
       "      dtype=int64)"
      ]
     },
     "execution_count": 83,
     "metadata": {},
     "output_type": "execute_result"
    }
   ],
   "source": [
    "result = (data_total.loc['2016', '사망(명)'].values \n",
    "                     - data_total.loc['2015', '사망(명)'].values)\n",
    "result"
   ]
  },
  {
   "cell_type": "code",
   "execution_count": 84,
   "id": "2eac34ad",
   "metadata": {
    "ExecuteTime": {
     "end_time": "2023-12-22T07:53:36.225418Z",
     "start_time": "2023-12-22T07:53:36.206549Z"
    }
   },
   "outputs": [
    {
     "data": {
      "text/plain": [
       "5    4\n",
       "6    4\n",
       "dtype: int64"
      ]
     },
     "execution_count": 84,
     "metadata": {},
     "output_type": "execute_result"
    }
   ],
   "source": [
    "sr = pd.Series( result, index= range(1,13))\n",
    "sr.nlargest( 1, keep='all') # nlargest: 상위 n개의 값을  반환,  keep (first 동등하면 첫번째것, all은 전체, )\n",
    "# 5월과 6월이 해당함"
   ]
  },
  {
   "cell_type": "code",
   "execution_count": null,
   "id": "5cb36071",
   "metadata": {},
   "outputs": [],
   "source": []
  }
 ],
 "metadata": {
  "kernelspec": {
   "display_name": "Python 3 (ipykernel)",
   "language": "python",
   "name": "python3"
  },
  "language_info": {
   "codemirror_mode": {
    "name": "ipython",
    "version": 3
   },
   "file_extension": ".py",
   "mimetype": "text/x-python",
   "name": "python",
   "nbconvert_exporter": "python",
   "pygments_lexer": "ipython3",
   "version": "3.11.5"
  },
  "toc": {
   "base_numbering": 1,
   "nav_menu": {},
   "number_sections": true,
   "sideBar": true,
   "skip_h1_title": false,
   "title_cell": "Table of Contents",
   "title_sidebar": "Contents",
   "toc_cell": false,
   "toc_position": {},
   "toc_section_display": true,
   "toc_window_display": false
  }
 },
 "nbformat": 4,
 "nbformat_minor": 5
}
