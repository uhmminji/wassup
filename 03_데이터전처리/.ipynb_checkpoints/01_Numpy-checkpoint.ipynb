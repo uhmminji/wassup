{
 "cells": [
  {
   "cell_type": "code",
   "execution_count": 1,
   "id": "1a3b72b2",
   "metadata": {
    "ExecuteTime": {
     "end_time": "2023-12-21T06:31:08.386686Z",
     "start_time": "2023-12-21T06:31:08.359524Z"
    }
   },
   "outputs": [
    {
     "name": "stderr",
     "output_type": "stream",
     "text": [
      "C:\\Users\\minji\\AppData\\Local\\Temp\\ipykernel_2972\\2458149073.py:2: DeprecationWarning: Importing display from IPython.core.display is deprecated since IPython 7.14, please import from IPython display\n",
      "  from IPython.core.display import display, HTML\n"
     ]
    },
    {
     "data": {
      "text/html": [
       "<style>.container { width: 100% !important; }</style>"
      ],
      "text/plain": [
       "<IPython.core.display.HTML object>"
      ]
     },
     "metadata": {},
     "output_type": "display_data"
    }
   ],
   "source": [
    "# 주피터노트북 셀 스타일 조절\n",
    "from IPython.core.display import display, HTML\n",
    "# display(HTML(\"<style>.container { font-weight: bold !important; }</style>\"))\n",
    "display(HTML(\"<style>.container { width: 100% !important; }</style>\"))\n",
    "\n",
    "# 경고메시지 숨기기\n",
    "# import warnings\\\n",
    "\n",
    "# warnings.filterwarnings(action='ignore')"
   ]
  },
  {
   "cell_type": "markdown",
   "id": "1dc45e69",
   "metadata": {},
   "source": [
    "# Numpy 개요\n",
    "- Numeric + Python = Numpy\n",
    "- 수학 및 과학 연산을 위한 파이썬 패키지\n",
    "- 배열이나 행렬 계산에 용이한 메서드를 제공\n",
    "- 한글로 넘파이로 주로 통칭, 넘피/늄파이라고\n",
    "부르기도 함\n",
    "\n",
    "- 관련 사이트 : http://www.numpy.org\n",
    "- 일반 List에 비해 빠르고, 메모리 효율적\n",
    "\n",
    "- 반복문 없이 데이터 배열에 대한 처리를 지원함\n",
    "- 선형대수와 관련된 다양한 기능을 제공함\n",
    "- Reference Site\n",
    "- cs231 : http://cs231n.github.io/python-numpy-- tutorial/#numpy\n",
    "- https://docs.scipy.org/doc/numpy-dev/user/quickstart.html\n",
    "데이터사이언스스쿨(파이썬버전) - https://goo.gl/3hsjbS"
   ]
  },
  {
   "cell_type": "markdown",
   "id": "4b41fe5e",
   "metadata": {},
   "source": [
    "# 설치 및 임포트\n",
    "- 넘파이는 외부 라이브러리이므로 설치 필요.(아나콘다는 사전 설치됨)\n",
    "- pip install numpy"
   ]
  },
  {
   "cell_type": "code",
   "execution_count": 2,
   "id": "1b6fa91c",
   "metadata": {
    "ExecuteTime": {
     "end_time": "2023-12-21T06:32:46.619858Z",
     "start_time": "2023-12-21T06:32:46.328284Z"
    }
   },
   "outputs": [
    {
     "data": {
      "text/plain": [
       "'1.24.3'"
      ]
     },
     "execution_count": 2,
     "metadata": {},
     "output_type": "execute_result"
    }
   ],
   "source": [
    "import numpy as np\n",
    "np.__version__"
   ]
  },
  {
   "cell_type": "code",
   "execution_count": 3,
   "id": "019c386d",
   "metadata": {
    "ExecuteTime": {
     "end_time": "2023-12-21T06:33:01.438537Z",
     "start_time": "2023-12-21T06:33:01.408335Z"
    }
   },
   "outputs": [
    {
     "data": {
      "text/plain": [
       "['ALLOW_THREADS',\n",
       " 'AxisError',\n",
       " 'BUFSIZE',\n",
       " 'CLIP',\n",
       " 'ComplexWarning',\n",
       " 'DataSource',\n",
       " 'ERR_CALL',\n",
       " 'ERR_DEFAULT',\n",
       " 'ERR_IGNORE',\n",
       " 'ERR_LOG',\n",
       " 'ERR_PRINT',\n",
       " 'ERR_RAISE',\n",
       " 'ERR_WARN',\n",
       " 'FLOATING_POINT_SUPPORT',\n",
       " 'FPE_DIVIDEBYZERO',\n",
       " 'FPE_INVALID',\n",
       " 'FPE_OVERFLOW',\n",
       " 'FPE_UNDERFLOW',\n",
       " 'False_',\n",
       " 'Inf',\n",
       " 'Infinity',\n",
       " 'MAXDIMS',\n",
       " 'MAY_SHARE_BOUNDS',\n",
       " 'MAY_SHARE_EXACT',\n",
       " 'ModuleDeprecationWarning',\n",
       " 'NAN',\n",
       " 'NINF',\n",
       " 'NZERO',\n",
       " 'NaN',\n",
       " 'PINF',\n",
       " 'PZERO',\n",
       " 'RAISE',\n",
       " 'RankWarning',\n",
       " 'SHIFT_DIVIDEBYZERO',\n",
       " 'SHIFT_INVALID',\n",
       " 'SHIFT_OVERFLOW',\n",
       " 'SHIFT_UNDERFLOW',\n",
       " 'ScalarType',\n",
       " 'Tester',\n",
       " 'TooHardError',\n",
       " 'True_',\n",
       " 'UFUNC_BUFSIZE_DEFAULT',\n",
       " 'UFUNC_PYVALS_NAME',\n",
       " 'VisibleDeprecationWarning',\n",
       " 'WRAP',\n",
       " '_CopyMode',\n",
       " '_NoValue',\n",
       " '_UFUNC_API',\n",
       " '__NUMPY_SETUP__',\n",
       " '__all__',\n",
       " '__builtins__',\n",
       " '__cached__',\n",
       " '__config__',\n",
       " '__deprecated_attrs__',\n",
       " '__dir__',\n",
       " '__doc__',\n",
       " '__expired_functions__',\n",
       " '__file__',\n",
       " '__former_attrs__',\n",
       " '__future_scalars__',\n",
       " '__getattr__',\n",
       " '__git_version__',\n",
       " '__loader__',\n",
       " '__mkl_version__',\n",
       " '__name__',\n",
       " '__package__',\n",
       " '__path__',\n",
       " '__spec__',\n",
       " '__version__',\n",
       " '_add_newdoc_ufunc',\n",
       " '_builtins',\n",
       " '_distributor_init',\n",
       " '_financial_names',\n",
       " '_get_promotion_state',\n",
       " '_globals',\n",
       " '_int_extended_msg',\n",
       " '_mat',\n",
       " '_no_nep50_warning',\n",
       " '_pyinstaller_hooks_dir',\n",
       " '_pytesttester',\n",
       " '_set_promotion_state',\n",
       " '_specific_msg',\n",
       " '_version',\n",
       " 'abs',\n",
       " 'absolute',\n",
       " 'add',\n",
       " 'add_docstring',\n",
       " 'add_newdoc',\n",
       " 'add_newdoc_ufunc',\n",
       " 'all',\n",
       " 'allclose',\n",
       " 'alltrue',\n",
       " 'amax',\n",
       " 'amin',\n",
       " 'angle',\n",
       " 'any',\n",
       " 'append',\n",
       " 'apply_along_axis',\n",
       " 'apply_over_axes',\n",
       " 'arange',\n",
       " 'arccos',\n",
       " 'arccosh',\n",
       " 'arcsin',\n",
       " 'arcsinh',\n",
       " 'arctan',\n",
       " 'arctan2',\n",
       " 'arctanh',\n",
       " 'argmax',\n",
       " 'argmin',\n",
       " 'argpartition',\n",
       " 'argsort',\n",
       " 'argwhere',\n",
       " 'around',\n",
       " 'array',\n",
       " 'array2string',\n",
       " 'array_equal',\n",
       " 'array_equiv',\n",
       " 'array_repr',\n",
       " 'array_split',\n",
       " 'array_str',\n",
       " 'asanyarray',\n",
       " 'asarray',\n",
       " 'asarray_chkfinite',\n",
       " 'ascontiguousarray',\n",
       " 'asfarray',\n",
       " 'asfortranarray',\n",
       " 'asmatrix',\n",
       " 'atleast_1d',\n",
       " 'atleast_2d',\n",
       " 'atleast_3d',\n",
       " 'average',\n",
       " 'bartlett',\n",
       " 'base_repr',\n",
       " 'binary_repr',\n",
       " 'bincount',\n",
       " 'bitwise_and',\n",
       " 'bitwise_not',\n",
       " 'bitwise_or',\n",
       " 'bitwise_xor',\n",
       " 'blackman',\n",
       " 'block',\n",
       " 'bmat',\n",
       " 'bool_',\n",
       " 'broadcast',\n",
       " 'broadcast_arrays',\n",
       " 'broadcast_shapes',\n",
       " 'broadcast_to',\n",
       " 'busday_count',\n",
       " 'busday_offset',\n",
       " 'busdaycalendar',\n",
       " 'byte',\n",
       " 'byte_bounds',\n",
       " 'bytes_',\n",
       " 'c_',\n",
       " 'can_cast',\n",
       " 'cast',\n",
       " 'cbrt',\n",
       " 'cdouble',\n",
       " 'ceil',\n",
       " 'cfloat',\n",
       " 'char',\n",
       " 'character',\n",
       " 'chararray',\n",
       " 'choose',\n",
       " 'clip',\n",
       " 'clongdouble',\n",
       " 'clongfloat',\n",
       " 'column_stack',\n",
       " 'common_type',\n",
       " 'compare_chararrays',\n",
       " 'compat',\n",
       " 'complex128',\n",
       " 'complex64',\n",
       " 'complex_',\n",
       " 'complexfloating',\n",
       " 'compress',\n",
       " 'concatenate',\n",
       " 'conj',\n",
       " 'conjugate',\n",
       " 'convolve',\n",
       " 'copy',\n",
       " 'copysign',\n",
       " 'copyto',\n",
       " 'corrcoef',\n",
       " 'correlate',\n",
       " 'cos',\n",
       " 'cosh',\n",
       " 'count_nonzero',\n",
       " 'cov',\n",
       " 'cross',\n",
       " 'csingle',\n",
       " 'ctypeslib',\n",
       " 'cumprod',\n",
       " 'cumproduct',\n",
       " 'cumsum',\n",
       " 'datetime64',\n",
       " 'datetime_as_string',\n",
       " 'datetime_data',\n",
       " 'deg2rad',\n",
       " 'degrees',\n",
       " 'delete',\n",
       " 'deprecate',\n",
       " 'deprecate_with_doc',\n",
       " 'diag',\n",
       " 'diag_indices',\n",
       " 'diag_indices_from',\n",
       " 'diagflat',\n",
       " 'diagonal',\n",
       " 'diff',\n",
       " 'digitize',\n",
       " 'disp',\n",
       " 'divide',\n",
       " 'divmod',\n",
       " 'dot',\n",
       " 'double',\n",
       " 'dsplit',\n",
       " 'dstack',\n",
       " 'dtype',\n",
       " 'e',\n",
       " 'ediff1d',\n",
       " 'einsum',\n",
       " 'einsum_path',\n",
       " 'emath',\n",
       " 'empty',\n",
       " 'empty_like',\n",
       " 'equal',\n",
       " 'errstate',\n",
       " 'euler_gamma',\n",
       " 'exp',\n",
       " 'exp2',\n",
       " 'expand_dims',\n",
       " 'expm1',\n",
       " 'extract',\n",
       " 'eye',\n",
       " 'fabs',\n",
       " 'fastCopyAndTranspose',\n",
       " 'fft',\n",
       " 'fill_diagonal',\n",
       " 'find_common_type',\n",
       " 'finfo',\n",
       " 'fix',\n",
       " 'flatiter',\n",
       " 'flatnonzero',\n",
       " 'flexible',\n",
       " 'flip',\n",
       " 'fliplr',\n",
       " 'flipud',\n",
       " 'float16',\n",
       " 'float32',\n",
       " 'float64',\n",
       " 'float_',\n",
       " 'float_power',\n",
       " 'floating',\n",
       " 'floor',\n",
       " 'floor_divide',\n",
       " 'fmax',\n",
       " 'fmin',\n",
       " 'fmod',\n",
       " 'format_float_positional',\n",
       " 'format_float_scientific',\n",
       " 'format_parser',\n",
       " 'frexp',\n",
       " 'from_dlpack',\n",
       " 'frombuffer',\n",
       " 'fromfile',\n",
       " 'fromfunction',\n",
       " 'fromiter',\n",
       " 'frompyfunc',\n",
       " 'fromregex',\n",
       " 'fromstring',\n",
       " 'full',\n",
       " 'full_like',\n",
       " 'gcd',\n",
       " 'generic',\n",
       " 'genfromtxt',\n",
       " 'geomspace',\n",
       " 'get_array_wrap',\n",
       " 'get_include',\n",
       " 'get_printoptions',\n",
       " 'getbufsize',\n",
       " 'geterr',\n",
       " 'geterrcall',\n",
       " 'geterrobj',\n",
       " 'gradient',\n",
       " 'greater',\n",
       " 'greater_equal',\n",
       " 'half',\n",
       " 'hamming',\n",
       " 'hanning',\n",
       " 'heaviside',\n",
       " 'histogram',\n",
       " 'histogram2d',\n",
       " 'histogram_bin_edges',\n",
       " 'histogramdd',\n",
       " 'hsplit',\n",
       " 'hstack',\n",
       " 'hypot',\n",
       " 'i0',\n",
       " 'identity',\n",
       " 'iinfo',\n",
       " 'imag',\n",
       " 'in1d',\n",
       " 'index_exp',\n",
       " 'indices',\n",
       " 'inexact',\n",
       " 'inf',\n",
       " 'info',\n",
       " 'infty',\n",
       " 'inner',\n",
       " 'insert',\n",
       " 'int16',\n",
       " 'int32',\n",
       " 'int64',\n",
       " 'int8',\n",
       " 'int_',\n",
       " 'intc',\n",
       " 'integer',\n",
       " 'interp',\n",
       " 'intersect1d',\n",
       " 'intp',\n",
       " 'invert',\n",
       " 'is_busday',\n",
       " 'isclose',\n",
       " 'iscomplex',\n",
       " 'iscomplexobj',\n",
       " 'isfinite',\n",
       " 'isfortran',\n",
       " 'isin',\n",
       " 'isinf',\n",
       " 'isnan',\n",
       " 'isnat',\n",
       " 'isneginf',\n",
       " 'isposinf',\n",
       " 'isreal',\n",
       " 'isrealobj',\n",
       " 'isscalar',\n",
       " 'issctype',\n",
       " 'issubclass_',\n",
       " 'issubdtype',\n",
       " 'issubsctype',\n",
       " 'iterable',\n",
       " 'ix_',\n",
       " 'kaiser',\n",
       " 'kron',\n",
       " 'lcm',\n",
       " 'ldexp',\n",
       " 'left_shift',\n",
       " 'less',\n",
       " 'less_equal',\n",
       " 'lexsort',\n",
       " 'lib',\n",
       " 'linalg',\n",
       " 'linspace',\n",
       " 'little_endian',\n",
       " 'load',\n",
       " 'loadtxt',\n",
       " 'log',\n",
       " 'log10',\n",
       " 'log1p',\n",
       " 'log2',\n",
       " 'logaddexp',\n",
       " 'logaddexp2',\n",
       " 'logical_and',\n",
       " 'logical_not',\n",
       " 'logical_or',\n",
       " 'logical_xor',\n",
       " 'logspace',\n",
       " 'longcomplex',\n",
       " 'longdouble',\n",
       " 'longfloat',\n",
       " 'longlong',\n",
       " 'lookfor',\n",
       " 'ma',\n",
       " 'mask_indices',\n",
       " 'mat',\n",
       " 'math',\n",
       " 'matmul',\n",
       " 'matrix',\n",
       " 'max',\n",
       " 'maximum',\n",
       " 'maximum_sctype',\n",
       " 'may_share_memory',\n",
       " 'mean',\n",
       " 'median',\n",
       " 'memmap',\n",
       " 'meshgrid',\n",
       " 'mgrid',\n",
       " 'min',\n",
       " 'min_scalar_type',\n",
       " 'minimum',\n",
       " 'mintypecode',\n",
       " 'mkl',\n",
       " 'mod',\n",
       " 'modf',\n",
       " 'moveaxis',\n",
       " 'msort',\n",
       " 'multiply',\n",
       " 'nan',\n",
       " 'nan_to_num',\n",
       " 'nanargmax',\n",
       " 'nanargmin',\n",
       " 'nancumprod',\n",
       " 'nancumsum',\n",
       " 'nanmax',\n",
       " 'nanmean',\n",
       " 'nanmedian',\n",
       " 'nanmin',\n",
       " 'nanpercentile',\n",
       " 'nanprod',\n",
       " 'nanquantile',\n",
       " 'nanstd',\n",
       " 'nansum',\n",
       " 'nanvar',\n",
       " 'nbytes',\n",
       " 'ndarray',\n",
       " 'ndenumerate',\n",
       " 'ndim',\n",
       " 'ndindex',\n",
       " 'nditer',\n",
       " 'negative',\n",
       " 'nested_iters',\n",
       " 'newaxis',\n",
       " 'nextafter',\n",
       " 'nonzero',\n",
       " 'not_equal',\n",
       " 'numarray',\n",
       " 'number',\n",
       " 'obj2sctype',\n",
       " 'object_',\n",
       " 'ogrid',\n",
       " 'oldnumeric',\n",
       " 'ones',\n",
       " 'ones_like',\n",
       " 'outer',\n",
       " 'packbits',\n",
       " 'pad',\n",
       " 'partition',\n",
       " 'percentile',\n",
       " 'pi',\n",
       " 'piecewise',\n",
       " 'place',\n",
       " 'poly',\n",
       " 'poly1d',\n",
       " 'polyadd',\n",
       " 'polyder',\n",
       " 'polydiv',\n",
       " 'polyfit',\n",
       " 'polyint',\n",
       " 'polymul',\n",
       " 'polynomial',\n",
       " 'polysub',\n",
       " 'polyval',\n",
       " 'positive',\n",
       " 'power',\n",
       " 'printoptions',\n",
       " 'prod',\n",
       " 'product',\n",
       " 'promote_types',\n",
       " 'ptp',\n",
       " 'put',\n",
       " 'put_along_axis',\n",
       " 'putmask',\n",
       " 'quantile',\n",
       " 'r_',\n",
       " 'rad2deg',\n",
       " 'radians',\n",
       " 'random',\n",
       " 'ravel',\n",
       " 'ravel_multi_index',\n",
       " 'real',\n",
       " 'real_if_close',\n",
       " 'rec',\n",
       " 'recarray',\n",
       " 'recfromcsv',\n",
       " 'recfromtxt',\n",
       " 'reciprocal',\n",
       " 'record',\n",
       " 'remainder',\n",
       " 'repeat',\n",
       " 'require',\n",
       " 'reshape',\n",
       " 'resize',\n",
       " 'result_type',\n",
       " 'right_shift',\n",
       " 'rint',\n",
       " 'roll',\n",
       " 'rollaxis',\n",
       " 'roots',\n",
       " 'rot90',\n",
       " 'round',\n",
       " 'round_',\n",
       " 'row_stack',\n",
       " 's_',\n",
       " 'safe_eval',\n",
       " 'save',\n",
       " 'savetxt',\n",
       " 'savez',\n",
       " 'savez_compressed',\n",
       " 'sctype2char',\n",
       " 'sctypeDict',\n",
       " 'sctypes',\n",
       " 'searchsorted',\n",
       " 'select',\n",
       " 'set_numeric_ops',\n",
       " 'set_printoptions',\n",
       " 'set_string_function',\n",
       " 'setbufsize',\n",
       " 'setdiff1d',\n",
       " 'seterr',\n",
       " 'seterrcall',\n",
       " 'seterrobj',\n",
       " 'setxor1d',\n",
       " 'shape',\n",
       " 'shares_memory',\n",
       " 'short',\n",
       " 'show_config',\n",
       " 'show_runtime',\n",
       " 'sign',\n",
       " 'signbit',\n",
       " 'signedinteger',\n",
       " 'sin',\n",
       " 'sinc',\n",
       " 'single',\n",
       " 'singlecomplex',\n",
       " 'sinh',\n",
       " 'size',\n",
       " 'sometrue',\n",
       " 'sort',\n",
       " 'sort_complex',\n",
       " 'source',\n",
       " 'spacing',\n",
       " 'split',\n",
       " 'sqrt',\n",
       " 'square',\n",
       " 'squeeze',\n",
       " 'stack',\n",
       " 'std',\n",
       " 'str_',\n",
       " 'string_',\n",
       " 'subtract',\n",
       " 'sum',\n",
       " 'swapaxes',\n",
       " 'take',\n",
       " 'take_along_axis',\n",
       " 'tan',\n",
       " 'tanh',\n",
       " 'tensordot',\n",
       " 'test',\n",
       " 'testing',\n",
       " 'tile',\n",
       " 'timedelta64',\n",
       " 'trace',\n",
       " 'tracemalloc_domain',\n",
       " 'transpose',\n",
       " 'trapz',\n",
       " 'tri',\n",
       " 'tril',\n",
       " 'tril_indices',\n",
       " 'tril_indices_from',\n",
       " 'trim_zeros',\n",
       " 'triu',\n",
       " 'triu_indices',\n",
       " 'triu_indices_from',\n",
       " 'true_divide',\n",
       " 'trunc',\n",
       " 'typecodes',\n",
       " 'typename',\n",
       " 'ubyte',\n",
       " 'ufunc',\n",
       " 'uint',\n",
       " 'uint16',\n",
       " 'uint32',\n",
       " 'uint64',\n",
       " 'uint8',\n",
       " 'uintc',\n",
       " 'uintp',\n",
       " 'ulonglong',\n",
       " 'unicode_',\n",
       " 'union1d',\n",
       " 'unique',\n",
       " 'unpackbits',\n",
       " 'unravel_index',\n",
       " 'unsignedinteger',\n",
       " 'unwrap',\n",
       " 'use_hugepage',\n",
       " 'ushort',\n",
       " 'vander',\n",
       " 'var',\n",
       " 'vdot',\n",
       " 'vectorize',\n",
       " 'version',\n",
       " 'void',\n",
       " 'vsplit',\n",
       " 'vstack',\n",
       " 'where',\n",
       " 'who',\n",
       " 'zeros',\n",
       " 'zeros_like']"
      ]
     },
     "execution_count": 3,
     "metadata": {},
     "output_type": "execute_result"
    }
   ],
   "source": [
    "# 메소드와 속성\n",
    "dir(np)"
   ]
  },
  {
   "attachments": {
    "image.png": {
     "image/png": "[encoded data removed]"
    }
   },
   "cell_type": "markdown",
   "id": "56cbcb7e",
   "metadata": {},
   "source": [
    "# 넘파이 배열 이해하기\n",
    "![image.png](attachment:image.png)\n",
    "- axis 0=행 '방향'\n",
    "- axis 1=열 '방향'\n",
    "\n",
    "----\n",
    "- 0D: 스칼라   \n",
    "- 1D: 벡터\n",
    "- 2D: 매트릭스 (2, 3) 2행 3열\n",
    "- 3D: 텐서 (4, 3, 2) 4행 3열 깊이가 2"
   ]
  },
  {
   "cell_type": "markdown",
   "id": "c6e7b849",
   "metadata": {},
   "source": [
    "# ndim(dimention, rank)\n",
    "- 몇 차원인지 반환"
   ]
  },
  {
   "cell_type": "code",
   "execution_count": 5,
   "id": "1395b309",
   "metadata": {
    "ExecuteTime": {
     "end_time": "2023-12-21T06:34:43.968396Z",
     "start_time": "2023-12-21T06:34:43.957712Z"
    }
   },
   "outputs": [
    {
     "data": {
      "text/plain": [
       "(array(0), 0, numpy.ndarray)"
      ]
     },
     "execution_count": 5,
     "metadata": {},
     "output_type": "execute_result"
    }
   ],
   "source": [
    "# 가운데: 차원이 없어서 0\n",
    "a = np.array(0)\n",
    "a, a.ndim, type(a)"
   ]
  },
  {
   "cell_type": "code",
   "execution_count": 7,
   "id": "ecfdfd8c",
   "metadata": {
    "ExecuteTime": {
     "end_time": "2023-12-14T06:19:25.440281Z",
     "start_time": "2023-12-14T06:19:25.431753Z"
    }
   },
   "outputs": [
    {
     "data": {
      "text/plain": [
       "(array([2, 4, 6]), 1, numpy.ndarray)"
      ]
     },
     "execution_count": 7,
     "metadata": {},
     "output_type": "execute_result"
    }
   ],
   "source": [
    "#1차원\n",
    "a = np.array([2, 4, 6])\n",
    "a, a.ndim, type(a)"
   ]
  },
  {
   "cell_type": "code",
   "execution_count": 8,
   "id": "185213fc",
   "metadata": {
    "ExecuteTime": {
     "end_time": "2023-12-14T06:19:52.190163Z",
     "start_time": "2023-12-14T06:19:52.179398Z"
    }
   },
   "outputs": [
    {
     "data": {
      "text/plain": [
       "(array([[1, 2, 3],\n",
       "        [4, 5, 6]]),\n",
       " 2,\n",
       " numpy.ndarray)"
      ]
     },
     "execution_count": 8,
     "metadata": {},
     "output_type": "execute_result"
    }
   ],
   "source": [
    "#2차원: 대괄호 개수보기\n",
    "a = np.array( [[1,2,3], [4,5,6]] )\n",
    "a, a.ndim, type(a)"
   ]
  },
  {
   "cell_type": "code",
   "execution_count": 6,
   "id": "cfce0084",
   "metadata": {
    "ExecuteTime": {
     "end_time": "2023-12-21T06:40:16.877304Z",
     "start_time": "2023-12-21T06:40:16.864356Z"
    },
    "scrolled": true
   },
   "outputs": [
    {
     "data": {
      "text/plain": [
       "(array([[[1, 2, 3],\n",
       "         [4, 5, 6]],\n",
       " \n",
       "        [[1, 2, 3],\n",
       "         [4, 5, 6]]]),\n",
       " 3,\n",
       " numpy.ndarray)"
      ]
     },
     "execution_count": 6,
     "metadata": {},
     "output_type": "execute_result"
    }
   ],
   "source": [
    "#3차원\n",
    "a = np.array( [ [[1,2,3], [4,5,6]], [[1,2,3], [4,5,6]] ] )\n",
    "a, a.ndim, type(a)"
   ]
  },
  {
   "attachments": {
    "image.png": {
     "image/png": "[encoded data removed]"
    }
   },
   "cell_type": "markdown",
   "id": "50195c4b",
   "metadata": {},
   "source": [
    "# shape\n",
    "- 행렬의 차원으로, 몇행 몇열인지 반환\n",
    "- 아래의 경우 1차원에 4, 2차원에 2로 (4,2)로 표현됨\n",
    "![image.png](attachment:image.png)"
   ]
  },
  {
   "cell_type": "code",
   "execution_count": 7,
   "id": "e1f7aa8b",
   "metadata": {
    "ExecuteTime": {
     "end_time": "2023-12-21T06:42:02.067149Z",
     "start_time": "2023-12-21T06:42:02.061497Z"
    }
   },
   "outputs": [],
   "source": [
    "a.shape?"
   ]
  },
  {
   "cell_type": "code",
   "execution_count": 10,
   "id": "59068d0d",
   "metadata": {
    "ExecuteTime": {
     "end_time": "2023-12-14T06:21:58.518892Z",
     "start_time": "2023-12-14T06:21:58.511005Z"
    }
   },
   "outputs": [
    {
     "data": {
      "text/plain": [
       "(2, 2, 3)"
      ]
     },
     "execution_count": 10,
     "metadata": {},
     "output_type": "execute_result"
    }
   ],
   "source": [
    "a.shape\n",
    "# 깊이가 2개, 2행 3열"
   ]
  },
  {
   "cell_type": "code",
   "execution_count": 11,
   "id": "1d673cc4",
   "metadata": {
    "ExecuteTime": {
     "end_time": "2023-12-14T06:24:54.561253Z",
     "start_time": "2023-12-14T06:24:54.553079Z"
    }
   },
   "outputs": [
    {
     "data": {
      "text/plain": [
       "(array(3), ())"
      ]
     },
     "execution_count": 11,
     "metadata": {},
     "output_type": "execute_result"
    }
   ],
   "source": [
    "a = np.array(3)\n",
    "a, a.shape # 행렬아님"
   ]
  },
  {
   "cell_type": "code",
   "execution_count": 12,
   "id": "8a149eb5",
   "metadata": {
    "ExecuteTime": {
     "end_time": "2023-12-14T06:25:07.893704Z",
     "start_time": "2023-12-14T06:25:07.885644Z"
    }
   },
   "outputs": [
    {
     "data": {
      "text/plain": [
       "(array([1, 3, 5, 7, 9]), (5,))"
      ]
     },
     "execution_count": 12,
     "metadata": {},
     "output_type": "execute_result"
    }
   ],
   "source": [
    "a = np.array([ 1, 3, 5, 7, 9 ])\n",
    "a, a.shape"
   ]
  },
  {
   "cell_type": "code",
   "execution_count": 13,
   "id": "5cfb5acc",
   "metadata": {
    "ExecuteTime": {
     "end_time": "2023-12-14T06:25:33.692987Z",
     "start_time": "2023-12-14T06:25:33.683554Z"
    }
   },
   "outputs": [
    {
     "data": {
      "text/plain": [
       "(array([[1, 2, 3],\n",
       "        [4, 5, 6]]),\n",
       " (2, 3))"
      ]
     },
     "execution_count": 13,
     "metadata": {},
     "output_type": "execute_result"
    }
   ],
   "source": [
    "#2차원: 2행 3열\n",
    "a = np.array([[1,2,3], [4,5,6]])\n",
    "a, a.shape"
   ]
  },
  {
   "cell_type": "code",
   "execution_count": 14,
   "id": "d33ca8d9",
   "metadata": {
    "ExecuteTime": {
     "end_time": "2023-12-14T06:26:12.555876Z",
     "start_time": "2023-12-14T06:26:12.546222Z"
    }
   },
   "outputs": [
    {
     "data": {
      "text/plain": [
       "(array([[[0, 0, 0, 0],\n",
       "         [0, 0, 0, 0],\n",
       "         [0, 0, 0, 0]],\n",
       " \n",
       "        [[0, 0, 0, 0],\n",
       "         [0, 0, 0, 0],\n",
       "         [0, 0, 0, 0]]]),\n",
       " (2, 3, 4))"
      ]
     },
     "execution_count": 14,
     "metadata": {},
     "output_type": "execute_result"
    }
   ],
   "source": [
    "#3차원\n",
    "# 2개의 3행 4열\n",
    "a = np.array([[[0, 0, 0, 0], [0, 0, 0, 0], [0, 0, 0, 0]], [[0, 0, 0, 0], [0, 0, 0, 0], [0, 0, 0, 0]]])\n",
    "a, a.shape "
   ]
  },
  {
   "cell_type": "markdown",
   "id": "b4405131",
   "metadata": {},
   "source": [
    "# size\n",
    "- 요소의 수. 차원과 무관하게 들어있는 모든 요소의 개수\n",
    "- len: 요소의 길이 / size: 개별 개수 다 셈\n",
    "    - ex.[][][] len: 3개, size: 개별값 전체"
   ]
  },
  {
   "cell_type": "code",
   "execution_count": 15,
   "id": "37b53788",
   "metadata": {
    "ExecuteTime": {
     "end_time": "2023-12-14T06:31:17.794755Z",
     "start_time": "2023-12-14T06:31:17.787626Z"
    }
   },
   "outputs": [
    {
     "data": {
      "text/plain": [
       "5"
      ]
     },
     "execution_count": 15,
     "metadata": {},
     "output_type": "execute_result"
    }
   ],
   "source": [
    "a= np.array([1, 3, 5, 7, 9])\n",
    "a.size"
   ]
  },
  {
   "cell_type": "code",
   "execution_count": 16,
   "id": "bd15421b",
   "metadata": {
    "ExecuteTime": {
     "end_time": "2023-12-14T06:31:48.355351Z",
     "start_time": "2023-12-14T06:31:48.348193Z"
    }
   },
   "outputs": [
    {
     "data": {
      "text/plain": [
       "6"
      ]
     },
     "execution_count": 16,
     "metadata": {},
     "output_type": "execute_result"
    }
   ],
   "source": [
    "a = np.array([[1,2,3], [4,5,6]])\n",
    "a.size"
   ]
  },
  {
   "cell_type": "markdown",
   "id": "69e1afdb",
   "metadata": {},
   "source": [
    "# 넘파이 배열: np.array(리스트)\n",
    "- 리스트를 넘파이 배열로 생성 \n",
    "- 관련 속성 : ndim 차원 반환 int , size 전체 길이 반환 int, shape 구조 반환 tuple"
   ]
  },
  {
   "cell_type": "code",
   "execution_count": 17,
   "id": "132e35d0",
   "metadata": {
    "ExecuteTime": {
     "end_time": "2023-12-14T06:32:22.140366Z",
     "start_time": "2023-12-14T06:32:22.134149Z"
    }
   },
   "outputs": [
    {
     "name": "stdout",
     "output_type": "stream",
     "text": [
      "[10, 56, 77, 23, 44] <class 'list'> 5\n"
     ]
    }
   ],
   "source": [
    "# 1차원 리스트 객체(이터러블)\n",
    "myList = [10, 56, 77, 23, 44]\n",
    "print(myList, type(myList), len(myList))"
   ]
  },
  {
   "cell_type": "code",
   "execution_count": 24,
   "id": "59ecfe53",
   "metadata": {
    "ExecuteTime": {
     "end_time": "2023-12-14T06:35:44.623006Z",
     "start_time": "2023-12-14T06:35:44.615073Z"
    }
   },
   "outputs": [
    {
     "name": "stdout",
     "output_type": "stream",
     "text": [
      "[10 56 77 23 44] <class 'numpy.ndarray'> 5\n",
      "차원=1, 구조=(5,), size=5, 5\n"
     ]
    }
   ],
   "source": [
    "myArr = np.array(myList)\n",
    "print(myArr, type(myArr), len(myArr))\n",
    "print(f'차원={myArr.ndim}, 구조={myArr.shape}, size={myArr.size}, {len(myArr)}')"
   ]
  },
  {
   "cell_type": "code",
   "execution_count": 20,
   "id": "756c4905",
   "metadata": {
    "ExecuteTime": {
     "end_time": "2023-12-14T06:34:23.589860Z",
     "start_time": "2023-12-14T06:34:23.583095Z"
    }
   },
   "outputs": [
    {
     "data": {
      "text/plain": [
       "array([10, 56, 77, 23, 44])"
      ]
     },
     "execution_count": 20,
     "metadata": {},
     "output_type": "execute_result"
    }
   ],
   "source": [
    "myArr"
   ]
  },
  {
   "cell_type": "code",
   "execution_count": 25,
   "id": "8379f27b",
   "metadata": {
    "ExecuteTime": {
     "end_time": "2023-12-14T06:35:56.902950Z",
     "start_time": "2023-12-14T06:35:56.893983Z"
    }
   },
   "outputs": [
    {
     "data": {
      "text/plain": [
       "([[1, 2, 3], [10, 20, 30], [100, 200, 300]], 3)"
      ]
     },
     "execution_count": 25,
     "metadata": {},
     "output_type": "execute_result"
    }
   ],
   "source": [
    "# 2차원 리스트 객체(이터러블)\n",
    "myList2 = [[1,2,3 ],[10,20,30],[100,200,300]]\n",
    "myList2, len(myList2)"
   ]
  },
  {
   "cell_type": "code",
   "execution_count": 26,
   "id": "29fea36f",
   "metadata": {
    "ExecuteTime": {
     "end_time": "2023-12-14T06:36:08.088452Z",
     "start_time": "2023-12-14T06:36:08.082008Z"
    }
   },
   "outputs": [
    {
     "name": "stdout",
     "output_type": "stream",
     "text": [
      "[[  1   2   3]\n",
      " [ 10  20  30]\n",
      " [100 200 300]] <class 'numpy.ndarray'> 3\n",
      "차원= 2, 구조 = (3, 3) 구조타입 = <class 'tuple'>, size = 9\n"
     ]
    }
   ],
   "source": [
    "myArr2 = np.array(myList2)\n",
    "print(myArr2, type(myArr2), len(myArr2))\n",
    "print(f'차원= {myArr2.ndim}, 구조 = {myArr2.shape} 구조타입 = {type(myArr2.shape)}, size = {myArr2.size}')"
   ]
  },
  {
   "cell_type": "code",
   "execution_count": 27,
   "id": "d0942f83",
   "metadata": {
    "ExecuteTime": {
     "end_time": "2023-12-14T06:36:52.161838Z",
     "start_time": "2023-12-14T06:36:52.154061Z"
    }
   },
   "outputs": [
    {
     "name": "stdout",
     "output_type": "stream",
     "text": [
      "[[1, 2, 3, 4], [10, 20, 30, 40, 50], [100, 200]] <class 'list'> 3\n"
     ]
    }
   ],
   "source": [
    "# 2차원 리스트에서 각 행의 수가 다를 경우?\n",
    "myList21 = [ [1,2,3,4 ],[10,20 ,30,40,50],[100,200,]]\n",
    "print(myList21, type(myList21), len(myList21))"
   ]
  },
  {
   "cell_type": "code",
   "execution_count": 28,
   "id": "68fffc44",
   "metadata": {
    "ExecuteTime": {
     "end_time": "2023-12-14T06:37:00.551416Z",
     "start_time": "2023-12-14T06:36:59.022929Z"
    }
   },
   "outputs": [
    {
     "ename": "ValueError",
     "evalue": "setting an array element with a sequence. The requested array has an inhomogeneous shape after 1 dimensions. The detected shape was (3,) + inhomogeneous part.",
     "output_type": "error",
     "traceback": [
      "\u001b[1;31m---------------------------------------------------------------------------\u001b[0m",
      "\u001b[1;31mValueError\u001b[0m                                Traceback (most recent call last)",
      "Cell \u001b[1;32mIn[28], line 2\u001b[0m\n\u001b[0;32m      1\u001b[0m \u001b[38;5;66;03m# 길이가 달라 에러 리턴\u001b[39;00m\n\u001b[1;32m----> 2\u001b[0m myArr21 \u001b[38;5;241m=\u001b[39m np\u001b[38;5;241m.\u001b[39marray(myList21)\n\u001b[0;32m      3\u001b[0m \u001b[38;5;28mprint\u001b[39m(myArr21, \u001b[38;5;28mtype\u001b[39m(myArr21), \u001b[38;5;28mlen\u001b[39m(myArr21))\n\u001b[0;32m      4\u001b[0m \u001b[38;5;28mprint\u001b[39m(\u001b[38;5;124mf\u001b[39m\u001b[38;5;124m'\u001b[39m\u001b[38;5;124m차원= \u001b[39m\u001b[38;5;132;01m{\u001b[39;00mmyArr21\u001b[38;5;241m.\u001b[39mndim\u001b[38;5;132;01m}\u001b[39;00m\u001b[38;5;124m, 구조 = \u001b[39m\u001b[38;5;132;01m{\u001b[39;00mmyArr21\u001b[38;5;241m.\u001b[39mshape\u001b[38;5;132;01m}\u001b[39;00m\u001b[38;5;124m 구조타입 = \u001b[39m\u001b[38;5;132;01m{\u001b[39;00m\u001b[38;5;28mtype\u001b[39m(myArr21\u001b[38;5;241m.\u001b[39mshape)\u001b[38;5;132;01m}\u001b[39;00m\u001b[38;5;124m, size = \u001b[39m\u001b[38;5;132;01m{\u001b[39;00mmyArr21\u001b[38;5;241m.\u001b[39msize\u001b[38;5;132;01m}\u001b[39;00m\u001b[38;5;124m'\u001b[39m)\n",
      "\u001b[1;31mValueError\u001b[0m: setting an array element with a sequence. The requested array has an inhomogeneous shape after 1 dimensions. The detected shape was (3,) + inhomogeneous part."
     ]
    }
   ],
   "source": [
    "# 길이가 달라 에러 리턴\n",
    "myArr21 = np.array(myList21)\n",
    "print(myArr21, type(myArr21), len(myArr21))\n",
    "print(f'차원= {myArr21.ndim}, 구조 = {myArr21.shape} 구조타입 = {type(myArr21.shape)}, size = {myArr21.size}')"
   ]
  },
  {
   "cell_type": "markdown",
   "id": "1fd57da1",
   "metadata": {},
   "source": [
    "# 넘파이 배열과 리스트와의 차이점\n",
    "- 배열간의 연산 가능 \"브로드캐스팅\", 요소별 연산(element-wise)\n",
    "- 넘파이 메서드 사용 가능 : 평균, 상관계수, 분산, 표준편차 등\n",
    "- 리스트는 자료형 혼합 가능, 넘파이배열은 하나의 자료형만 가능"
   ]
  },
  {
   "cell_type": "code",
   "execution_count": 29,
   "id": "52072424",
   "metadata": {
    "ExecuteTime": {
     "end_time": "2023-12-14T06:39:10.977494Z",
     "start_time": "2023-12-14T06:39:10.939180Z"
    }
   },
   "outputs": [
    {
     "name": "stdout",
     "output_type": "stream",
     "text": [
      "[10, 30, 50, 1, 2, 3]\n"
     ]
    },
    {
     "ename": "TypeError",
     "evalue": "can only concatenate list (not \"int\") to list",
     "output_type": "error",
     "traceback": [
      "\u001b[1;31m---------------------------------------------------------------------------\u001b[0m",
      "\u001b[1;31mTypeError\u001b[0m                                 Traceback (most recent call last)",
      "Cell \u001b[1;32mIn[29], line 5\u001b[0m\n\u001b[0;32m      3\u001b[0m listB \u001b[38;5;241m=\u001b[39m [\u001b[38;5;241m1\u001b[39m, \u001b[38;5;241m2\u001b[39m, \u001b[38;5;241m3\u001b[39m]\n\u001b[0;32m      4\u001b[0m \u001b[38;5;28mprint\u001b[39m(listA \u001b[38;5;241m+\u001b[39m listB) \u001b[38;5;66;03m# 리스트의 + 연산자는 조인역할\u001b[39;00m\n\u001b[1;32m----> 5\u001b[0m \u001b[38;5;28mprint\u001b[39m(listA \u001b[38;5;241m+\u001b[39m \u001b[38;5;241m2\u001b[39m)\n",
      "\u001b[1;31mTypeError\u001b[0m: can only concatenate list (not \"int\") to list"
     ]
    }
   ],
   "source": [
    "# 리스트의 산술연산자 +, * \n",
    "listA = [10, 30, 50]\n",
    "listB = [1, 2, 3]\n",
    "print(listA + listB) # 리스트의 + 연산자는 조인역할\n",
    "print(listA + 2) # 불가"
   ]
  },
  {
   "cell_type": "code",
   "execution_count": 30,
   "id": "02deb34e",
   "metadata": {
    "ExecuteTime": {
     "end_time": "2023-12-14T06:39:56.298906Z",
     "start_time": "2023-12-14T06:39:56.271678Z"
    }
   },
   "outputs": [
    {
     "name": "stdout",
     "output_type": "stream",
     "text": [
      "[10, 30, 50, 10, 30, 50]\n"
     ]
    },
    {
     "ename": "TypeError",
     "evalue": "can't multiply sequence by non-int of type 'list'",
     "output_type": "error",
     "traceback": [
      "\u001b[1;31m---------------------------------------------------------------------------\u001b[0m",
      "\u001b[1;31mTypeError\u001b[0m                                 Traceback (most recent call last)",
      "Cell \u001b[1;32mIn[30], line 2\u001b[0m\n\u001b[0;32m      1\u001b[0m \u001b[38;5;28mprint\u001b[39m(listA \u001b[38;5;241m*\u001b[39m \u001b[38;5;241m2\u001b[39m) \u001b[38;5;66;03m# 해당 리스트의 반복\u001b[39;00m\n\u001b[1;32m----> 2\u001b[0m \u001b[38;5;28mprint\u001b[39m(listA \u001b[38;5;241m*\u001b[39m listB)\n",
      "\u001b[1;31mTypeError\u001b[0m: can't multiply sequence by non-int of type 'list'"
     ]
    }
   ],
   "source": [
    "print(listA * 2) # 해당 리스트의 반복\n",
    "print(listA * listB) # 불가"
   ]
  },
  {
   "cell_type": "code",
   "execution_count": 31,
   "id": "6518b8c5",
   "metadata": {
    "ExecuteTime": {
     "end_time": "2023-12-14T06:40:12.717576Z",
     "start_time": "2023-12-14T06:40:12.706934Z"
    }
   },
   "outputs": [
    {
     "name": "stdout",
     "output_type": "stream",
     "text": [
      "[3 4 5]\n",
      "[2 4 6]\n"
     ]
    }
   ],
   "source": [
    "# 넘파이의 산술연산\n",
    "arrA = np.array([1, 2, 3])\n",
    "print(arrA + 2) #각요소마다 계산\n",
    "print(arrA * 2)"
   ]
  },
  {
   "cell_type": "code",
   "execution_count": 32,
   "id": "005aafdf",
   "metadata": {
    "ExecuteTime": {
     "end_time": "2023-12-14T06:41:20.387649Z",
     "start_time": "2023-12-14T06:41:20.371844Z"
    }
   },
   "outputs": [
    {
     "name": "stdout",
     "output_type": "stream",
     "text": [
      "[5 7 9]\n",
      "[ 4 10 18]\n",
      "[0.25 0.4  0.5 ]\n",
      "[0 0 0]\n",
      "[1 2 3]\n"
     ]
    }
   ],
   "source": [
    "arrB = np.array([4, 5, 6])\n",
    "print(arrA + arrB)\n",
    "print(arrA * arrB)\n",
    "print(arrA / arrB)\n",
    "print(arrA // arrB) # 몫\n",
    "print(arrA % arrB) # 나머지"
   ]
  },
  {
   "attachments": {
    "image.png": {
     "image/png": "[encoded data removed]"
    }
   },
   "cell_type": "markdown",
   "id": "3acd41c8",
   "metadata": {},
   "source": [
    "# dtype\n",
    "https://numpy.org/doc/stable/reference/arrays.dtypes.html   \n",
    "데이터 U유형은 각 유니코드 문자를 32비트 정수(예: 4바이트)로 저장합니다. (유니코드 스트링 dtype 인수로 지정할 자료형은 다음 표에 보인것과 같은 “dtype 접두사”로 시작하는 문자열이고 이 글자 뒤에 오는 숫자는 바이트 수 혹은 글자 수를 의미한다.\n",
    "예를 들어 f8은 8바이트(64비트) 부동소수점 실수를 뜻하고 U4 는 4글자 유니코드 문자열을 뜻한다\n",
    "숫자를 생략하면 운영체제에 따라 알맞은 크기를 지정한다.\n",
    "![image.png](attachment:image.png)"
   ]
  },
  {
   "cell_type": "code",
   "execution_count": 1,
   "id": "751c5ee4",
   "metadata": {
    "ExecuteTime": {
     "end_time": "2023-12-15T04:27:54.440330Z",
     "start_time": "2023-12-15T04:27:54.349746Z"
    }
   },
   "outputs": [
    {
     "name": "stdout",
     "output_type": "stream",
     "text": [
      "['안녕', 100, 3.14, True, False]\n"
     ]
    }
   ],
   "source": [
    "# 자료형 테스트\n",
    "myList_c = ['안녕', 100, 3.14, True, False] # 리스트는 혼합된 형 그대로 유지\n",
    "print(myList_c)"
   ]
  },
  {
   "cell_type": "code",
   "execution_count": 6,
   "id": "8e561c1e",
   "metadata": {
    "ExecuteTime": {
     "end_time": "2023-12-15T04:29:42.140772Z",
     "start_time": "2023-12-15T04:29:42.132887Z"
    }
   },
   "outputs": [
    {
     "name": "stdout",
     "output_type": "stream",
     "text": [
      "['안녕' '100' '3.14' 'True' 'False'] <class 'numpy.ndarray'> <U32\n"
     ]
    }
   ],
   "source": [
    "myArr_c = np.array(myList_c) # 넘파이배열은 '문자열'로 통일 자동형변환\n",
    "print(myArr_c, type(myArr_c), myArr_c.dtype)"
   ]
  },
  {
   "cell_type": "code",
   "execution_count": 7,
   "id": "a6f69ceb",
   "metadata": {
    "ExecuteTime": {
     "end_time": "2023-12-15T04:29:52.675889Z",
     "start_time": "2023-12-15T04:29:52.661591Z"
    }
   },
   "outputs": [
    {
     "name": "stdout",
     "output_type": "stream",
     "text": [
      "[100.     3.14  23.5    0.  ] <class 'numpy.ndarray'> float64\n"
     ]
    }
   ],
   "source": [
    "# 정수와 실수가 혼합된 넘파이 배열\n",
    "myArr_d = np.array([100, 3.14, 23.5, 0])\n",
    "print(myArr_d, type(myArr_d), myArr_d.dtype) # 정수와 실수 혼합시, 더 큰 실수형으로 통일 자동형변환"
   ]
  },
  {
   "cell_type": "markdown",
   "id": "bff0539a",
   "metadata": {},
   "source": [
    "# Inf와 NaN\n",
    "- 넘파이에서는 무한대를 표현하기 위한 np.inf(infinity)와 정의할 수 없는 숫자를 나타내는 np.nan(not a number)을 사용할 수 있다.\n",
    "- np.inf: 1/0, 0에 대한 로그 값을 계산\n",
    "- np.nan: 0/0"
   ]
  },
  {
   "cell_type": "code",
   "execution_count": 8,
   "id": "a730be66",
   "metadata": {
    "ExecuteTime": {
     "end_time": "2023-12-21T07:37:46.342664Z",
     "start_time": "2023-12-21T07:37:46.323918Z"
    }
   },
   "outputs": [
    {
     "name": "stderr",
     "output_type": "stream",
     "text": [
      "C:\\Users\\minji\\AppData\\Local\\Temp\\ipykernel_2972\\2068585620.py:1: RuntimeWarning: divide by zero encountered in divide\n",
      "  np.array([0, 1, -1, 0]) / np.array([1, 0, 0, 0])\n",
      "C:\\Users\\minji\\AppData\\Local\\Temp\\ipykernel_2972\\2068585620.py:1: RuntimeWarning: invalid value encountered in divide\n",
      "  np.array([0, 1, -1, 0]) / np.array([1, 0, 0, 0])\n"
     ]
    },
    {
     "data": {
      "text/plain": [
       "array([  0.,  inf, -inf,  nan])"
      ]
     },
     "execution_count": 8,
     "metadata": {},
     "output_type": "execute_result"
    }
   ],
   "source": [
    "np.array([0, 1, -1, 0]) / np.array([1, 0, 0, 0])"
   ]
  },
  {
   "cell_type": "code",
   "execution_count": 9,
   "id": "59881bb6",
   "metadata": {
    "ExecuteTime": {
     "end_time": "2023-12-21T07:38:09.932977Z",
     "start_time": "2023-12-21T07:38:09.925411Z"
    }
   },
   "outputs": [
    {
     "name": "stderr",
     "output_type": "stream",
     "text": [
      "C:\\Users\\minji\\AppData\\Local\\Temp\\ipykernel_2972\\2933082444.py:1: RuntimeWarning: divide by zero encountered in log\n",
      "  np.log(0)\n"
     ]
    },
    {
     "data": {
      "text/plain": [
       "-inf"
      ]
     },
     "execution_count": 9,
     "metadata": {},
     "output_type": "execute_result"
    }
   ],
   "source": [
    "np.log(0)"
   ]
  },
  {
   "cell_type": "code",
   "execution_count": 10,
   "id": "37370222",
   "metadata": {
    "ExecuteTime": {
     "end_time": "2023-12-21T07:38:28.423141Z",
     "start_time": "2023-12-21T07:38:28.414916Z"
    }
   },
   "outputs": [
    {
     "data": {
      "text/plain": [
       "0.0"
      ]
     },
     "execution_count": 10,
     "metadata": {},
     "output_type": "execute_result"
    }
   ],
   "source": [
    "np.exp(-np.inf)"
   ]
  },
  {
   "cell_type": "markdown",
   "id": "73cd271e",
   "metadata": {},
   "source": [
    "# 기술통계"
   ]
  },
  {
   "cell_type": "code",
   "execution_count": 11,
   "id": "58250adf",
   "metadata": {
    "ExecuteTime": {
     "end_time": "2023-12-15T04:35:15.790749Z",
     "start_time": "2023-12-15T04:35:15.786073Z"
    }
   },
   "outputs": [],
   "source": [
    "x = np.array([18,   5,  10,  23,  19,  -8,  10,   0,   0,   5,   2,  15,   8,\n",
    "              2,   5,   4,  15,  -1,   4,  -7, -24,   7,   9,  -6,  23, -13])"
   ]
  },
  {
   "cell_type": "code",
   "execution_count": 12,
   "id": "f7c118a4",
   "metadata": {
    "ExecuteTime": {
     "end_time": "2023-12-15T04:35:16.529166Z",
     "start_time": "2023-12-15T04:35:16.520872Z"
    }
   },
   "outputs": [
    {
     "data": {
      "text/plain": [
       "4.8076923076923075"
      ]
     },
     "execution_count": 12,
     "metadata": {},
     "output_type": "execute_result"
    }
   ],
   "source": [
    "np.mean(x)  # 평균"
   ]
  },
  {
   "cell_type": "code",
   "execution_count": 13,
   "id": "ef6419d2",
   "metadata": {
    "ExecuteTime": {
     "end_time": "2023-12-15T04:35:17.883210Z",
     "start_time": "2023-12-15T04:35:17.874464Z"
    }
   },
   "outputs": [
    {
     "data": {
      "text/plain": [
       "115.23224852071006"
      ]
     },
     "execution_count": 13,
     "metadata": {},
     "output_type": "execute_result"
    }
   ],
   "source": [
    "np.var(x)  # 분산"
   ]
  },
  {
   "cell_type": "code",
   "execution_count": 14,
   "id": "28f36f84",
   "metadata": {
    "ExecuteTime": {
     "end_time": "2023-12-15T04:35:22.448649Z",
     "start_time": "2023-12-15T04:35:22.441491Z"
    }
   },
   "outputs": [
    {
     "data": {
      "text/plain": [
       "10.734628476137871"
      ]
     },
     "execution_count": 14,
     "metadata": {},
     "output_type": "execute_result"
    }
   ],
   "source": [
    "np.std(x)  # 표준 편차"
   ]
  },
  {
   "cell_type": "code",
   "execution_count": 15,
   "id": "73872673",
   "metadata": {
    "ExecuteTime": {
     "end_time": "2023-12-15T04:35:27.486428Z",
     "start_time": "2023-12-15T04:35:27.477798Z"
    }
   },
   "outputs": [
    {
     "data": {
      "text/plain": [
       "23"
      ]
     },
     "execution_count": 15,
     "metadata": {},
     "output_type": "execute_result"
    }
   ],
   "source": [
    "np.max(x)  # 최댓값"
   ]
  },
  {
   "cell_type": "code",
   "execution_count": 16,
   "id": "da39c9bf",
   "metadata": {
    "ExecuteTime": {
     "end_time": "2023-12-15T04:35:31.275631Z",
     "start_time": "2023-12-15T04:35:31.269322Z"
    }
   },
   "outputs": [
    {
     "data": {
      "text/plain": [
       "-24"
      ]
     },
     "execution_count": 16,
     "metadata": {},
     "output_type": "execute_result"
    }
   ],
   "source": [
    "np.min(x)  # 최소값"
   ]
  },
  {
   "cell_type": "code",
   "execution_count": 17,
   "id": "080865ec",
   "metadata": {
    "ExecuteTime": {
     "end_time": "2023-12-15T04:35:35.535664Z",
     "start_time": "2023-12-15T04:35:35.523423Z"
    }
   },
   "outputs": [
    {
     "data": {
      "text/plain": [
       "5.0"
      ]
     },
     "execution_count": 17,
     "metadata": {},
     "output_type": "execute_result"
    }
   ],
   "source": [
    "np.median(x)  # 중앙값"
   ]
  },
  {
   "cell_type": "markdown",
   "id": "34a169ae",
   "metadata": {},
   "source": [
    "# 사분위수\n",
    "사분위수(quartile)는 데이터를 가장 작은 수부터 가장 큰 수까지 크기가 커지는 순서대로 정렬하였을 때 1/4, 2/4, 3/4 위치에 있는 수를 말한다.   \n",
    "각각 1사분위수, 2사분위수, 3사분위수라고 한다.   \n",
    "1/4의 위치란 전체 데이터의 수가 만약 100개이면 25번째 순서, 즉 하위 25%를 말한다. 따라서 2사분위수는 중앙값과 같다.   \n",
    "\n",
    "때로는 위치를 1/100 단위로 나눈 백분위수(percentile)을 사용하기도 한다. 1사분위수는 25% 백분위수와 같다."
   ]
  },
  {
   "cell_type": "code",
   "execution_count": 11,
   "id": "7081bbac",
   "metadata": {
    "ExecuteTime": {
     "end_time": "2023-12-21T07:43:17.767224Z",
     "start_time": "2023-12-21T07:43:17.756746Z"
    }
   },
   "outputs": [
    {
     "data": {
      "text/plain": [
       "array([ 18,   5,  10,  23,  19,  -8,  10,   0,   0,   5,   2,  15,   8,\n",
       "         2,   5,   4,  15,  -1,   4,  -7, -24,   7,   9,  -6,  23, -13])"
      ]
     },
     "execution_count": 11,
     "metadata": {},
     "output_type": "execute_result"
    }
   ],
   "source": [
    "x = np.array([18,   5,  10,  23,  19,  -8,  10,   0,   0,   5,   2,  15,   8,\n",
    "              2,   5,   4,  15,  -1,   4,  -7, -24,   7,   9,  -6,  23, -13])\n",
    "x"
   ]
  },
  {
   "cell_type": "code",
   "execution_count": 18,
   "id": "21553c42",
   "metadata": {
    "ExecuteTime": {
     "end_time": "2023-12-15T04:40:13.235829Z",
     "start_time": "2023-12-15T04:40:13.222752Z"
    }
   },
   "outputs": [
    {
     "data": {
      "text/plain": [
       "-24.0"
      ]
     },
     "execution_count": 18,
     "metadata": {},
     "output_type": "execute_result"
    }
   ],
   "source": [
    "np.percentile(x, 0)  # 최소값"
   ]
  },
  {
   "cell_type": "code",
   "execution_count": 19,
   "id": "c348eee9",
   "metadata": {
    "ExecuteTime": {
     "end_time": "2023-12-15T04:40:16.721144Z",
     "start_time": "2023-12-15T04:40:16.712066Z"
    }
   },
   "outputs": [
    {
     "data": {
      "text/plain": [
       "0.0"
      ]
     },
     "execution_count": 19,
     "metadata": {},
     "output_type": "execute_result"
    }
   ],
   "source": [
    "np.percentile(x, 25)  # 1사분위 수"
   ]
  },
  {
   "cell_type": "code",
   "execution_count": 20,
   "id": "cfeac7d2",
   "metadata": {
    "ExecuteTime": {
     "end_time": "2023-12-15T04:40:20.748391Z",
     "start_time": "2023-12-15T04:40:20.738543Z"
    }
   },
   "outputs": [
    {
     "data": {
      "text/plain": [
       "5.0"
      ]
     },
     "execution_count": 20,
     "metadata": {},
     "output_type": "execute_result"
    }
   ],
   "source": [
    "np.percentile(x, 50)  # 2사분위 수"
   ]
  },
  {
   "cell_type": "code",
   "execution_count": 21,
   "id": "628318de",
   "metadata": {
    "ExecuteTime": {
     "end_time": "2023-12-15T04:40:23.916804Z",
     "start_time": "2023-12-15T04:40:23.907476Z"
    }
   },
   "outputs": [
    {
     "data": {
      "text/plain": [
       "10.0"
      ]
     },
     "execution_count": 21,
     "metadata": {},
     "output_type": "execute_result"
    }
   ],
   "source": [
    "np.percentile(x, 75)  # 3사분위 수"
   ]
  },
  {
   "cell_type": "code",
   "execution_count": 23,
   "id": "844819c6",
   "metadata": {
    "ExecuteTime": {
     "end_time": "2023-12-15T04:40:57.361279Z",
     "start_time": "2023-12-15T04:40:57.354672Z"
    }
   },
   "outputs": [
    {
     "data": {
      "text/plain": [
       "23.0"
      ]
     },
     "execution_count": 23,
     "metadata": {},
     "output_type": "execute_result"
    }
   ],
   "source": [
    "np.percentile(x, 100)  # 최댓값"
   ]
  },
  {
   "cell_type": "markdown",
   "id": "78781109",
   "metadata": {},
   "source": [
    "# 넘파이 함수로 배열 만들기\n",
    "np.ones(n) , np.ones((x, y))   \n",
    "np.zeros(n) , np.zeros((x, y))   \n",
    "np.empty(n) , np.empty((x, y))   \n",
    "np.aranges(start, end step)   \n",
    "            \n",
    "reshape(x, y) # 차원 확대   \n",
    "flatten(x, y) # 차원 축소   "
   ]
  },
  {
   "cell_type": "markdown",
   "id": "6f0e4c78",
   "metadata": {},
   "source": [
    "## np.ones(n) , np.ones((x, y))"
   ]
  },
  {
   "cell_type": "code",
   "execution_count": 24,
   "id": "904d9256",
   "metadata": {
    "ExecuteTime": {
     "end_time": "2023-12-15T04:41:54.532522Z",
     "start_time": "2023-12-15T04:41:54.526203Z"
    }
   },
   "outputs": [
    {
     "name": "stdout",
     "output_type": "stream",
     "text": [
      "[1. 1. 1. 1. 1. 1. 1. 1. 1. 1.] float64\n"
     ]
    }
   ],
   "source": [
    "# 넘파이 함수로 배열을 만들때에는 디폴트가 실수형. 실수라 .이 찍혀있음\n",
    "#ones: 필터 이후 특정 값을 유지해주기 위해 필요함\n",
    "print(np.ones(10), np.ones(10).dtype) "
   ]
  },
  {
   "cell_type": "code",
   "execution_count": 25,
   "id": "957bc765",
   "metadata": {
    "ExecuteTime": {
     "end_time": "2023-12-15T04:42:27.817402Z",
     "start_time": "2023-12-15T04:42:27.810614Z"
    }
   },
   "outputs": [
    {
     "name": "stdout",
     "output_type": "stream",
     "text": [
      "[[1. 1. 1. 1.]\n",
      " [1. 1. 1. 1.]] float64\n"
     ]
    }
   ],
   "source": [
    "print(np.ones((2,4)), np.ones((2,4)).dtype) #2행 4열"
   ]
  },
  {
   "cell_type": "markdown",
   "id": "1c271e86",
   "metadata": {},
   "source": [
    "- 정수로 지정"
   ]
  },
  {
   "cell_type": "code",
   "execution_count": 26,
   "id": "8b108178",
   "metadata": {
    "ExecuteTime": {
     "end_time": "2023-12-15T04:44:14.574118Z",
     "start_time": "2023-12-15T04:44:14.568174Z"
    }
   },
   "outputs": [
    {
     "name": "stdout",
     "output_type": "stream",
     "text": [
      "[1 1 1 1 1 1 1 1 1 1] int32\n"
     ]
    }
   ],
   "source": [
    "print(np.ones(10, dtype = int), np.ones(10, dtype = int).dtype) #ones는 기본이 실수. 타입 지정해주기"
   ]
  },
  {
   "cell_type": "markdown",
   "id": "579702e8",
   "metadata": {},
   "source": [
    "## np.zeros(n) , np.zeros((x, y))"
   ]
  },
  {
   "cell_type": "code",
   "execution_count": 27,
   "id": "de6afd7c",
   "metadata": {
    "ExecuteTime": {
     "end_time": "2023-12-15T04:44:45.154279Z",
     "start_time": "2023-12-15T04:44:45.147268Z"
    }
   },
   "outputs": [
    {
     "name": "stdout",
     "output_type": "stream",
     "text": [
      "[0. 0. 0. 0. 0. 0. 0. 0. 0. 0.] float64\n"
     ]
    }
   ],
   "source": [
    "#zeros: 해당 값을 날리기 위해, 무의미한 공간을 채울 때\n",
    "print(np.zeros(10), np.zeros(10).dtype)"
   ]
  },
  {
   "cell_type": "code",
   "execution_count": 28,
   "id": "5873fc9f",
   "metadata": {
    "ExecuteTime": {
     "end_time": "2023-12-15T04:44:56.339239Z",
     "start_time": "2023-12-15T04:44:56.331905Z"
    }
   },
   "outputs": [
    {
     "name": "stdout",
     "output_type": "stream",
     "text": [
      "[[0. 0. 0.]\n",
      " [0. 0. 0.]\n",
      " [0. 0. 0.]] float64\n"
     ]
    }
   ],
   "source": [
    "#3행 3열\n",
    "print(np.zeros((3,3)), np.zeros((3,3)).dtype)"
   ]
  },
  {
   "cell_type": "markdown",
   "id": "41f6b618",
   "metadata": {},
   "source": [
    "## np.empty(n) , np.empty((x, y))"
   ]
  },
  {
   "cell_type": "code",
   "execution_count": 29,
   "id": "157fa4b3",
   "metadata": {
    "ExecuteTime": {
     "end_time": "2023-12-15T04:48:31.136556Z",
     "start_time": "2023-12-15T04:48:31.126228Z"
    },
    "scrolled": true
   },
   "outputs": [
    {
     "name": "stdout",
     "output_type": "stream",
     "text": [
      "[0. 0. 0. 0. 0. 0. 0. 0. 0. 0.] float64\n",
      "[[0. 0. 0.]\n",
      " [0. 0. 0.]\n",
      " [0. 0. 0.]] float64\n",
      "[[0. 0. 0.]\n",
      " [0. 0. 0.]\n",
      " [0. 0. 0.]]\n",
      "[[-291882080      32767          0]\n",
      " [       630        868          0]\n",
      " [       768      32760 1735289198]]\n"
     ]
    }
   ],
   "source": [
    "# 메모리가 비어있음\n",
    "print(np.empty(10), np.empty(10).dtype)\n",
    "print(np.empty((3,3)), np.empty((3,3)).dtype)\n",
    "print(np.empty((3,3)))\n",
    "print(np.empty((3,3), dtype=int))"
   ]
  },
  {
   "cell_type": "markdown",
   "id": "b7d768ab",
   "metadata": {},
   "source": [
    "## np.aranges(start, end step)"
   ]
  },
  {
   "cell_type": "code",
   "execution_count": 30,
   "id": "d2357628",
   "metadata": {
    "ExecuteTime": {
     "end_time": "2023-12-15T04:49:02.045403Z",
     "start_time": "2023-12-15T04:49:02.040855Z"
    }
   },
   "outputs": [
    {
     "name": "stdout",
     "output_type": "stream",
     "text": [
      "[1, 2, 3, 4, 5, 6, 7, 8, 9, 10, 11, 12, 13, 14, 15, 16, 17, 18, 19, 20] <class 'list'>\n"
     ]
    }
   ],
   "source": [
    "# 리스트+레인지\n",
    "print( list(range(1,21)), type(list(range(1,21))) )"
   ]
  },
  {
   "cell_type": "code",
   "execution_count": 31,
   "id": "7d027016",
   "metadata": {
    "ExecuteTime": {
     "end_time": "2023-12-15T05:02:22.767595Z",
     "start_time": "2023-12-15T05:02:22.722200Z"
    }
   },
   "outputs": [
    {
     "name": "stdout",
     "output_type": "stream",
     "text": [
      "[ 0  1  2  3  4  5  6  7  8  9 10 11 12 13 14 15 16 17 18 19] <class 'numpy.ndarray'>\n",
      "[ 1  2  3  4  5  6  7  8  9 10 11 12 13 14 15 16 17 18 19] <class 'numpy.ndarray'>\n",
      "[ 1  3  5  7  9 11 13 15 17 19] <class 'numpy.ndarray'>\n"
     ]
    }
   ],
   "source": [
    "# 1~20으로 구성된 4행 5열의 넘파이 배열print(np.array(list(range(1,21))), type(list(range(1,21))))\n",
    "print(np.arange(20), type(np.arange(20)))\n",
    "print(np.arange(1, 20), type(np.arange(1, 20)))\n",
    "print(np.arange(1, 20, 2), type(np.arange(1, 20,2)))"
   ]
  },
  {
   "cell_type": "code",
   "execution_count": 32,
   "id": "c8879a8b",
   "metadata": {
    "ExecuteTime": {
     "end_time": "2023-12-15T05:03:37.236800Z",
     "start_time": "2023-12-15T05:03:37.228573Z"
    },
    "scrolled": true
   },
   "outputs": [
    {
     "name": "stdout",
     "output_type": "stream",
     "text": [
      "[ 0  1  2  3  4  5  6  7  8  9 10 11 12 13 14 15 16 17 18 19 20 21 22 23\n",
      " 24 25 26 27 28 29 30 31 32 33 34 35 36 37 38 39 40 41 42 43 44 45 46 47\n",
      " 48 49] 50 50\n"
     ]
    }
   ],
   "source": [
    "# 0~49까지 구성된 넘파이 배열\n",
    "arr = np.arange(50)\n",
    "print(arr, len(arr), arr.size)"
   ]
  },
  {
   "cell_type": "markdown",
   "id": "02379760",
   "metadata": {},
   "source": [
    "## np.linspace(시작, 끝(포함), 개수)"
   ]
  },
  {
   "cell_type": "code",
   "execution_count": 33,
   "id": "3fd32565",
   "metadata": {
    "ExecuteTime": {
     "end_time": "2023-12-15T05:03:42.490735Z",
     "start_time": "2023-12-15T05:03:42.480117Z"
    }
   },
   "outputs": [
    {
     "data": {
      "text/plain": [
       "array([  0.,  25.,  50.,  75., 100.])"
      ]
     },
     "execution_count": 33,
     "metadata": {},
     "output_type": "execute_result"
    }
   ],
   "source": [
    "# linspace 명령이나 logspace 명령은 선형 구간 혹은 로그 구간을 지정한 구간의 수만큼 분할한다.\n",
    "np.linspace(0, 100, 5)  # 시작, 끝(포함), 갯수"
   ]
  },
  {
   "cell_type": "markdown",
   "id": "3d320e66",
   "metadata": {},
   "source": [
    "## np.logspace()"
   ]
  },
  {
   "cell_type": "code",
   "execution_count": 34,
   "id": "45a5e9e5",
   "metadata": {
    "ExecuteTime": {
     "end_time": "2023-12-15T05:04:47.932234Z",
     "start_time": "2023-12-15T05:04:47.923214Z"
    }
   },
   "outputs": [
    {
     "data": {
      "text/plain": [
       "array([ 1.25892541,  1.58489319,  1.99526231,  2.51188643,  3.16227766,\n",
       "        3.98107171,  5.01187234,  6.30957344,  7.94328235, 10.        ])"
      ]
     },
     "execution_count": 34,
     "metadata": {},
     "output_type": "execute_result"
    }
   ],
   "source": [
    "np.logspace(0.1, 1, 10) #로그값"
   ]
  },
  {
   "cell_type": "markdown",
   "id": "cfe8013a",
   "metadata": {},
   "source": [
    "## reshape 구조의 재배열\n",
    "reshape함수는 np.reshape(변경할 배열, 차원) 또는 배열.reshape(차원)으로 사용 할 수 있으며,\n",
    "현재의 배열의 차원(1차원,2차원,3차원)을 변경하여 행렬을 반환하거나 하는 경우에 많이 이용되는 함수이다."
   ]
  },
  {
   "cell_type": "code",
   "execution_count": 35,
   "id": "ff658b01",
   "metadata": {
    "ExecuteTime": {
     "end_time": "2023-12-15T05:06:47.579195Z",
     "start_time": "2023-12-15T05:06:47.570759Z"
    }
   },
   "outputs": [
    {
     "data": {
      "text/plain": [
       "(array([ 0,  1,  2,  3,  4,  5,  6,  7,  8,  9, 10, 11, 12, 13, 14, 15, 16,\n",
       "        17, 18, 19, 20, 21, 22, 23, 24, 25, 26, 27, 28, 29, 30, 31, 32, 33,\n",
       "        34, 35, 36, 37, 38, 39, 40, 41, 42, 43, 44, 45, 46, 47, 48, 49]),\n",
       " 1,\n",
       " (50,))"
      ]
     },
     "execution_count": 35,
     "metadata": {},
     "output_type": "execute_result"
    }
   ],
   "source": [
    "arr, arr.ndim, arr.shape"
   ]
  },
  {
   "cell_type": "code",
   "execution_count": 37,
   "id": "faa9697c",
   "metadata": {
    "ExecuteTime": {
     "end_time": "2023-12-15T05:07:28.833284Z",
     "start_time": "2023-12-15T05:07:28.824425Z"
    }
   },
   "outputs": [
    {
     "data": {
      "text/plain": [
       "(array([[ 0,  1,  2,  3,  4],\n",
       "        [ 5,  6,  7,  8,  9],\n",
       "        [10, 11, 12, 13, 14],\n",
       "        [15, 16, 17, 18, 19],\n",
       "        [20, 21, 22, 23, 24],\n",
       "        [25, 26, 27, 28, 29],\n",
       "        [30, 31, 32, 33, 34],\n",
       "        [35, 36, 37, 38, 39],\n",
       "        [40, 41, 42, 43, 44],\n",
       "        [45, 46, 47, 48, 49]]),\n",
       " 2,\n",
       " (10, 5))"
      ]
     },
     "execution_count": 37,
     "metadata": {},
     "output_type": "execute_result"
    }
   ],
   "source": [
    "arr = arr.reshape(10,5) #행렬 형태로 쉽게 바꿔줌. 10열 5행\n",
    "arr, arr.ndim, arr.shape"
   ]
  },
  {
   "cell_type": "code",
   "execution_count": 38,
   "id": "a65de11a",
   "metadata": {
    "ExecuteTime": {
     "end_time": "2023-12-15T05:08:36.033460Z",
     "start_time": "2023-12-15T05:08:36.025477Z"
    },
    "scrolled": false
   },
   "outputs": [
    {
     "data": {
      "text/plain": [
       "(array([[ 0,  1,  2,  3,  4,  5,  6,  7,  8,  9],\n",
       "        [10, 11, 12, 13, 14, 15, 16, 17, 18, 19],\n",
       "        [20, 21, 22, 23, 24, 25, 26, 27, 28, 29],\n",
       "        [30, 31, 32, 33, 34, 35, 36, 37, 38, 39],\n",
       "        [40, 41, 42, 43, 44, 45, 46, 47, 48, 49]]),\n",
       " 2,\n",
       " (5, 10))"
      ]
     },
     "execution_count": 38,
     "metadata": {},
     "output_type": "execute_result"
    }
   ],
   "source": [
    "arr2 = arr.reshape(5,10) #5행 10열\n",
    "arr2, arr2.ndim, arr2.shape"
   ]
  },
  {
   "cell_type": "markdown",
   "id": "306ca9c4",
   "metadata": {},
   "source": [
    "## flatten(x, y)"
   ]
  },
  {
   "cell_type": "code",
   "execution_count": 39,
   "id": "52271908",
   "metadata": {
    "ExecuteTime": {
     "end_time": "2023-12-15T05:10:00.627731Z",
     "start_time": "2023-12-15T05:10:00.618370Z"
    }
   },
   "outputs": [
    {
     "data": {
      "text/plain": [
       "(array([ 0,  1,  2,  3,  4,  5,  6,  7,  8,  9, 10, 11, 12, 13, 14, 15, 16,\n",
       "        17, 18, 19, 20, 21, 22, 23, 24, 25, 26, 27, 28, 29, 30, 31, 32, 33,\n",
       "        34, 35, 36, 37, 38, 39, 40, 41, 42, 43, 44, 45, 46, 47, 48, 49]),\n",
       " (50,),\n",
       " 1)"
      ]
     },
     "execution_count": 39,
     "metadata": {},
     "output_type": "execute_result"
    }
   ],
   "source": [
    "# 2차원 -> 1차원\n",
    "# 넘파이배열.flatten()\n",
    "arr3 = arr2.flatten()\n",
    "arr3, arr3.shape, arr3.ndim"
   ]
  },
  {
   "cell_type": "code",
   "execution_count": 40,
   "id": "aec32cab",
   "metadata": {
    "ExecuteTime": {
     "end_time": "2023-12-15T05:11:27.061873Z",
     "start_time": "2023-12-15T05:11:27.053684Z"
    }
   },
   "outputs": [
    {
     "data": {
      "text/plain": [
       "array([  2,   4,   6,   8,  10,  12,  14,  16,  18,  20,  22,  24,  26,\n",
       "        28,  30,  32,  34,  36,  38,  40,  42,  44,  46,  48,  50,  52,\n",
       "        54,  56,  58,  60,  62,  64,  66,  68,  70,  72,  74,  76,  78,\n",
       "        80,  82,  84,  86,  88,  90,  92,  94,  96,  98, 100])"
      ]
     },
     "execution_count": 40,
     "metadata": {},
     "output_type": "execute_result"
    }
   ],
   "source": [
    "# 1~100 사이의 짝수로 된 넘파이 배열 생성\n",
    "np.arange(2,101,2)"
   ]
  },
  {
   "cell_type": "code",
   "execution_count": 41,
   "id": "65dee148",
   "metadata": {
    "ExecuteTime": {
     "end_time": "2023-12-15T05:14:39.501991Z",
     "start_time": "2023-12-15T05:14:39.495482Z"
    },
    "scrolled": true
   },
   "outputs": [
    {
     "name": "stdout",
     "output_type": "stream",
     "text": [
      "[[  2   4   6   8  10  12  14  16  18  20]\n",
      " [ 22  24  26  28  30  32  34  36  38  40]\n",
      " [ 42  44  46  48  50  52  54  56  58  60]\n",
      " [ 62  64  66  68  70  72  74  76  78  80]\n",
      " [ 82  84  86  88  90  92  94  96  98 100]]\n"
     ]
    }
   ],
   "source": [
    "print(np.arange(2,101,2).reshape(5,10))"
   ]
  },
  {
   "cell_type": "markdown",
   "id": "ad6d6ccc",
   "metadata": {},
   "source": [
    "## reshape(-1, 1)"
   ]
  },
  {
   "cell_type": "code",
   "execution_count": 42,
   "id": "07a5840b",
   "metadata": {
    "ExecuteTime": {
     "end_time": "2023-12-15T05:14:48.696567Z",
     "start_time": "2023-12-15T05:14:48.686548Z"
    }
   },
   "outputs": [
    {
     "data": {
      "text/plain": [
       "(array([[ 1],\n",
       "        [ 2],\n",
       "        [ 3],\n",
       "        [ 4],\n",
       "        [ 5],\n",
       "        [ 6],\n",
       "        [ 7],\n",
       "        [ 8],\n",
       "        [ 9],\n",
       "        [10],\n",
       "        [11],\n",
       "        [12],\n",
       "        [13],\n",
       "        [14],\n",
       "        [15],\n",
       "        [16],\n",
       "        [17],\n",
       "        [18],\n",
       "        [19],\n",
       "        [20],\n",
       "        [21],\n",
       "        [22],\n",
       "        [23],\n",
       "        [24],\n",
       "        [25],\n",
       "        [26],\n",
       "        [27],\n",
       "        [28],\n",
       "        [29],\n",
       "        [30]]),\n",
       " 2,\n",
       " (30, 1))"
      ]
     },
     "execution_count": 42,
     "metadata": {},
     "output_type": "execute_result"
    }
   ],
   "source": [
    "# 2차원인데 1개 칼럼의 모형을 만들어보자\n",
    "# reshape(-1, n) : 2차원 n개의 컬럼으로 구성, -1을 넣으면 자동으로 사이즈를 맞춰준다.\n",
    "arr4 = np.arange(1, 31).reshape(-1, 1)\n",
    "arr4, arr4.ndim, arr4.shape\n",
    "\n",
    "#대괄호가 2개"
   ]
  },
  {
   "cell_type": "code",
   "execution_count": 52,
   "id": "a4d7cf7e",
   "metadata": {
    "ExecuteTime": {
     "end_time": "2023-12-15T05:21:15.896553Z",
     "start_time": "2023-12-15T05:21:15.887947Z"
    }
   },
   "outputs": [
    {
     "data": {
      "text/plain": [
       "array([[ 1,  2,  3,  4],\n",
       "       [ 5,  6,  7,  8],\n",
       "       [ 9, 10, 11, 12],\n",
       "       [13, 14, 15, 16],\n",
       "       [17, 18, 19, 20]])"
      ]
     },
     "execution_count": 52,
     "metadata": {},
     "output_type": "execute_result"
    }
   ],
   "source": [
    "# 4개 칼럼으로 배열 모형을 만들자\n",
    "np.arange(1, 21).reshape(5, 4) #5행 4열"
   ]
  },
  {
   "cell_type": "code",
   "execution_count": 12,
   "id": "84d87140",
   "metadata": {
    "ExecuteTime": {
     "end_time": "2023-12-21T08:12:45.692523Z",
     "start_time": "2023-12-21T08:12:45.679268Z"
    }
   },
   "outputs": [
    {
     "data": {
      "text/plain": [
       "array([[ 1,  2,  3,  4],\n",
       "       [ 5,  6,  7,  8],\n",
       "       [ 9, 10, 11, 12],\n",
       "       [13, 14, 15, 16],\n",
       "       [17, 18, 19, 20]])"
      ]
     },
     "execution_count": 12,
     "metadata": {},
     "output_type": "execute_result"
    }
   ],
   "source": [
    "# 4개 칼럼으로 배열 모형을 만들자\n",
    "np.arange(1, 21).reshape(-1, 4) # 5열\n",
    "# rehsape -1은, 행무관하고 n개의 컬럼을 만든다"
   ]
  },
  {
   "cell_type": "code",
   "execution_count": 13,
   "id": "a96f0df2",
   "metadata": {
    "ExecuteTime": {
     "end_time": "2023-12-21T08:14:02.921493Z",
     "start_time": "2023-12-21T08:14:02.917476Z"
    }
   },
   "outputs": [],
   "source": [
    "# 사이즈가 맞아야 한다.\n",
    "# np.arange(1, 21).reshape(-1, 7)"
   ]
  },
  {
   "cell_type": "code",
   "execution_count": 14,
   "id": "3a0a2cec",
   "metadata": {
    "ExecuteTime": {
     "end_time": "2023-12-21T08:14:43.754093Z",
     "start_time": "2023-12-21T08:14:43.745535Z"
    },
    "scrolled": true
   },
   "outputs": [
    {
     "data": {
      "text/plain": [
       "(array([ 0,  1,  2,  3,  4,  5,  6,  7,  8,  9, 10, 11]), (12,))"
      ]
     },
     "execution_count": 14,
     "metadata": {},
     "output_type": "execute_result"
    }
   ],
   "source": [
    "a = np.arange(12)\n",
    "a, a.shape"
   ]
  },
  {
   "cell_type": "markdown",
   "id": "7087b523",
   "metadata": {},
   "source": [
    "## a.shape = 2, -1"
   ]
  },
  {
   "cell_type": "code",
   "execution_count": 15,
   "id": "a510d141",
   "metadata": {
    "ExecuteTime": {
     "end_time": "2023-12-21T08:15:10.412634Z",
     "start_time": "2023-12-21T08:15:10.404647Z"
    }
   },
   "outputs": [
    {
     "data": {
      "text/plain": [
       "(array([[ 0,  1,  2,  3,  4,  5],\n",
       "        [ 6,  7,  8,  9, 10, 11]]),\n",
       " (2, 6))"
      ]
     },
     "execution_count": 15,
     "metadata": {},
     "output_type": "execute_result"
    }
   ],
   "source": [
    "# 원본 값이 바뀜\n",
    "a.shape = 2, -1\n",
    "a, a.shape"
   ]
  },
  {
   "cell_type": "code",
   "execution_count": 16,
   "id": "afc19523",
   "metadata": {
    "ExecuteTime": {
     "end_time": "2023-12-21T08:16:13.564826Z",
     "start_time": "2023-12-21T08:16:13.557272Z"
    },
    "scrolled": true
   },
   "outputs": [
    {
     "data": {
      "text/plain": [
       "(array([[ 0,  1,  2,  3],\n",
       "        [ 4,  5,  6,  7],\n",
       "        [ 8,  9, 10, 11]]),\n",
       " (3, 4))"
      ]
     },
     "execution_count": 16,
     "metadata": {},
     "output_type": "execute_result"
    }
   ],
   "source": [
    "a.shape = 3, -1\n",
    "a, a.shape"
   ]
  },
  {
   "cell_type": "code",
   "execution_count": 17,
   "id": "dc2e1623",
   "metadata": {
    "ExecuteTime": {
     "end_time": "2023-12-21T08:16:25.015012Z",
     "start_time": "2023-12-21T08:16:25.006053Z"
    },
    "scrolled": true
   },
   "outputs": [
    {
     "data": {
      "text/plain": [
       "(array([[ 0],\n",
       "        [ 1],\n",
       "        [ 2],\n",
       "        [ 3],\n",
       "        [ 4],\n",
       "        [ 5],\n",
       "        [ 6],\n",
       "        [ 7],\n",
       "        [ 8],\n",
       "        [ 9],\n",
       "        [10],\n",
       "        [11]]),\n",
       " (12, 1))"
      ]
     },
     "execution_count": 17,
     "metadata": {},
     "output_type": "execute_result"
    }
   ],
   "source": [
    "a.shape = -1, 1\n",
    "a, a.shape"
   ]
  },
  {
   "cell_type": "code",
   "execution_count": 18,
   "id": "d5faf8df",
   "metadata": {
    "ExecuteTime": {
     "end_time": "2023-12-21T08:17:37.145319Z",
     "start_time": "2023-12-21T08:17:37.137466Z"
    }
   },
   "outputs": [
    {
     "data": {
      "text/plain": [
       "(array([ 0,  1,  2,  3,  4,  5,  6,  7,  8,  9, 10, 11]), (12,))"
      ]
     },
     "execution_count": 18,
     "metadata": {},
     "output_type": "execute_result"
    }
   ],
   "source": [
    "# flatten\n",
    "a.shape = -1\n",
    "a, a.shape"
   ]
  },
  {
   "cell_type": "markdown",
   "id": "f9dc55af",
   "metadata": {},
   "source": [
    "# 넘파이배열의 자료형 형변환\n",
    "배열명2 = 배열명1.astype(자료형)   \n",
    "자료형 = np.float64, np.int32"
   ]
  },
  {
   "cell_type": "code",
   "execution_count": 53,
   "id": "41a9828d",
   "metadata": {
    "ExecuteTime": {
     "end_time": "2023-12-15T05:22:59.708596Z",
     "start_time": "2023-12-15T05:22:59.700300Z"
    }
   },
   "outputs": [
    {
     "data": {
      "text/plain": [
       "(array([1, 2, 3, 4, 5, 6, 7, 8, 9]), dtype('int32'))"
      ]
     },
     "execution_count": 53,
     "metadata": {},
     "output_type": "execute_result"
    }
   ],
   "source": [
    "matrix1 = np.arange(1, 10)\n",
    "matrix1, matrix1.dtype"
   ]
  },
  {
   "cell_type": "code",
   "execution_count": 54,
   "id": "b1156b84",
   "metadata": {
    "ExecuteTime": {
     "end_time": "2023-12-15T05:23:21.041101Z",
     "start_time": "2023-12-15T05:23:21.033940Z"
    }
   },
   "outputs": [
    {
     "data": {
      "text/plain": [
       "(array([[1, 2, 3],\n",
       "        [4, 5, 6],\n",
       "        [7, 8, 9]]),\n",
       " dtype('int32'))"
      ]
     },
     "execution_count": 54,
     "metadata": {},
     "output_type": "execute_result"
    }
   ],
   "source": [
    "# 정수형, 3행 3열\n",
    "matrix = np.arange(1, 10).reshape(3,3)\n",
    "matrix, matrix.dtype"
   ]
  },
  {
   "cell_type": "code",
   "execution_count": 19,
   "id": "e4df177d",
   "metadata": {
    "ExecuteTime": {
     "end_time": "2023-12-21T08:27:21.584672Z",
     "start_time": "2023-12-21T08:27:21.570802Z"
    }
   },
   "outputs": [
    {
     "data": {
      "text/plain": [
       "(array([[1., 2., 3.],\n",
       "        [4., 5., 6.],\n",
       "        [7., 8., 9.]]),\n",
       " dtype('float64'))"
      ]
     },
     "execution_count": 19,
     "metadata": {},
     "output_type": "execute_result"
    }
   ],
   "source": [
    "# 실수형, 3행 3열\n",
    "matrix = np.arange(1, 10, dtype=float).reshape(3,3)\n",
    "matrix, matrix.dtype"
   ]
  },
  {
   "cell_type": "code",
   "execution_count": 20,
   "id": "fba68710",
   "metadata": {
    "ExecuteTime": {
     "end_time": "2023-12-21T08:27:29.994681Z",
     "start_time": "2023-12-21T08:27:27.679862Z"
    }
   },
   "outputs": [
    {
     "ename": "TypeError",
     "evalue": "arange() not supported for inputs with DType <class 'numpy.dtype[str_]'>.",
     "output_type": "error",
     "traceback": [
      "\u001b[1;31m---------------------------------------------------------------------------\u001b[0m",
      "\u001b[1;31mTypeError\u001b[0m                                 Traceback (most recent call last)",
      "Cell \u001b[1;32mIn[20], line 2\u001b[0m\n\u001b[0;32m      1\u001b[0m \u001b[38;5;66;03m# 문자열형, 3행 3열 -> 불가\u001b[39;00m\n\u001b[1;32m----> 2\u001b[0m matrix \u001b[38;5;241m=\u001b[39m np\u001b[38;5;241m.\u001b[39marange(\u001b[38;5;241m1\u001b[39m, \u001b[38;5;241m10\u001b[39m, dtype\u001b[38;5;241m=\u001b[39m\u001b[38;5;124m'\u001b[39m\u001b[38;5;124mstr\u001b[39m\u001b[38;5;124m'\u001b[39m)\u001b[38;5;241m.\u001b[39mreshape(\u001b[38;5;241m3\u001b[39m,\u001b[38;5;241m3\u001b[39m)\n\u001b[0;32m      3\u001b[0m matrix, matrix\u001b[38;5;241m.\u001b[39mdtype\n",
      "\u001b[1;31mTypeError\u001b[0m: arange() not supported for inputs with DType <class 'numpy.dtype[str_]'>."
     ]
    }
   ],
   "source": [
    "# 문자열형, 3행 3열 -> 불가\n",
    "matrix = np.arange(1, 10, dtype='str').reshape(3,3)\n",
    "matrix, matrix.dtype"
   ]
  },
  {
   "cell_type": "code",
   "execution_count": 21,
   "id": "37df461e",
   "metadata": {
    "ExecuteTime": {
     "end_time": "2023-12-21T08:27:40.846373Z",
     "start_time": "2023-12-21T08:27:40.835269Z"
    }
   },
   "outputs": [
    {
     "data": {
      "text/plain": [
       "array([['1.0', '2.0', '3.0'],\n",
       "       ['4.0', '5.0', '6.0'],\n",
       "       ['7.0', '8.0', '9.0']], dtype='<U5')"
      ]
     },
     "execution_count": 21,
     "metadata": {},
     "output_type": "execute_result"
    }
   ],
   "source": [
    "# 정수형 => 문자열\n",
    "matrix.astype('<U5')"
   ]
  },
  {
   "cell_type": "code",
   "execution_count": 22,
   "id": "46fbf3e3",
   "metadata": {
    "ExecuteTime": {
     "end_time": "2023-12-21T08:30:12.470360Z",
     "start_time": "2023-12-21T08:30:12.460530Z"
    }
   },
   "outputs": [
    {
     "data": {
      "text/plain": [
       "(array([ True, False,  True,  True]), dtype('bool'))"
      ]
     },
     "execution_count": 22,
     "metadata": {},
     "output_type": "execute_result"
    }
   ],
   "source": [
    "# 논리형으로 구성된 넘파이 배열 생성\n",
    "matrix2 = np.array([True, False, True, True])\n",
    "matrix2, matrix2.dtype"
   ]
  },
  {
   "cell_type": "code",
   "execution_count": 25,
   "id": "3beaecec",
   "metadata": {
    "ExecuteTime": {
     "end_time": "2023-12-21T08:30:48.149658Z",
     "start_time": "2023-12-21T08:30:48.142163Z"
    }
   },
   "outputs": [
    {
     "data": {
      "text/plain": [
       "(array([1, 0, 1, 1]), dtype('int32'))"
      ]
     },
     "execution_count": 25,
     "metadata": {},
     "output_type": "execute_result"
    }
   ],
   "source": [
    "# 불린 -> 정수\n",
    "matrix2.astype(int), matrix2.astype(int).dtype"
   ]
  },
  {
   "cell_type": "code",
   "execution_count": 26,
   "id": "721d2be4",
   "metadata": {
    "ExecuteTime": {
     "end_time": "2023-12-21T08:31:02.229141Z",
     "start_time": "2023-12-21T08:31:02.220991Z"
    }
   },
   "outputs": [
    {
     "data": {
      "text/plain": [
       "array(['True', 'False', 'True', 'True'], dtype='<U5')"
      ]
     },
     "execution_count": 26,
     "metadata": {},
     "output_type": "execute_result"
    }
   ],
   "source": [
    "# 불린형 -> 문자열\n",
    "matrix2.astype('<U5')"
   ]
  },
  {
   "cell_type": "code",
   "execution_count": 27,
   "id": "d36849fd",
   "metadata": {
    "ExecuteTime": {
     "end_time": "2023-12-21T08:34:31.286882Z",
     "start_time": "2023-12-21T08:34:31.279065Z"
    }
   },
   "outputs": [
    {
     "data": {
      "text/plain": [
       "(array(['3.14', '5.5', '0.78'], dtype='<U4'), dtype('<U4'))"
      ]
     },
     "execution_count": 27,
     "metadata": {},
     "output_type": "execute_result"
    }
   ],
   "source": [
    "# 문자열 숫자 => 정수 , 실수\n",
    "matrix3 = np.array(['3.14', '5.5', '0.78'])\n",
    "matrix3, matrix3.dtype"
   ]
  },
  {
   "cell_type": "code",
   "execution_count": 28,
   "id": "d36dafc9",
   "metadata": {
    "ExecuteTime": {
     "end_time": "2023-12-21T08:35:03.248833Z",
     "start_time": "2023-12-21T08:35:03.210099Z"
    }
   },
   "outputs": [
    {
     "name": "stdout",
     "output_type": "stream",
     "text": [
      "[3.14 5.5  0.78]\n"
     ]
    },
    {
     "ename": "ValueError",
     "evalue": "invalid literal for int() with base 10: '3.14'",
     "output_type": "error",
     "traceback": [
      "\u001b[1;31m---------------------------------------------------------------------------\u001b[0m",
      "\u001b[1;31mValueError\u001b[0m                                Traceback (most recent call last)",
      "Cell \u001b[1;32mIn[28], line 3\u001b[0m\n\u001b[0;32m      1\u001b[0m \u001b[38;5;28mprint\u001b[39m(matrix3\u001b[38;5;241m.\u001b[39mastype(\u001b[38;5;28mfloat\u001b[39m))\n\u001b[1;32m----> 3\u001b[0m \u001b[38;5;28mprint\u001b[39m(matrix3\u001b[38;5;241m.\u001b[39mastype(\u001b[38;5;28mint\u001b[39m)) \u001b[38;5;66;03m# 불가\u001b[39;00m\n\u001b[0;32m      4\u001b[0m \u001b[38;5;28mprint\u001b[39m(matrix3\u001b[38;5;241m.\u001b[39mastype(\u001b[38;5;28mbool\u001b[39m))\n",
      "\u001b[1;31mValueError\u001b[0m: invalid literal for int() with base 10: '3.14'"
     ]
    }
   ],
   "source": [
    "print(matrix3.astype(float))\n",
    "\n",
    "print(matrix3.astype(int)) # 불가\n",
    "print(matrix3.astype(bool)) # 불가"
   ]
  },
  {
   "cell_type": "code",
   "execution_count": 29,
   "id": "e0c50dd3",
   "metadata": {
    "ExecuteTime": {
     "end_time": "2023-12-21T08:35:18.460170Z",
     "start_time": "2023-12-21T08:35:18.453093Z"
    }
   },
   "outputs": [
    {
     "data": {
      "text/plain": [
       "array([3, 5, 7])"
      ]
     },
     "execution_count": 29,
     "metadata": {},
     "output_type": "execute_result"
    }
   ],
   "source": [
    "matrix4 = np.array(['3', '5', '7'])\n",
    "matrix4.astype(int)  # 가능, 값이 유효하기 때문"
   ]
  },
  {
   "cell_type": "markdown",
   "id": "aff9f17d",
   "metadata": {},
   "source": [
    "# 넘파이 배열의 인덱싱\n",
    "넘파이배열[index] 넘파이배열[i, j], 넘파이배열[i][j] : i행 j 열\n",
    "## 1D array"
   ]
  },
  {
   "cell_type": "code",
   "execution_count": 32,
   "id": "2ee9b63a",
   "metadata": {
    "ExecuteTime": {
     "end_time": "2023-12-21T08:41:11.263375Z",
     "start_time": "2023-12-21T08:41:11.253957Z"
    }
   },
   "outputs": [
    {
     "data": {
      "text/plain": [
       "(array([1, 3, 5, 7, 9]), 1, (5,), 5)"
      ]
     },
     "execution_count": 32,
     "metadata": {},
     "output_type": "execute_result"
    }
   ],
   "source": [
    "a = np.array([1, 3, 5, 7, 9])\n",
    "a, a.ndim, a.shape, a.size"
   ]
  },
  {
   "cell_type": "code",
   "execution_count": 57,
   "id": "5a1337f2",
   "metadata": {
    "ExecuteTime": {
     "end_time": "2023-12-15T05:29:57.250232Z",
     "start_time": "2023-12-15T05:29:57.242922Z"
    }
   },
   "outputs": [
    {
     "data": {
      "text/plain": [
       "1"
      ]
     },
     "execution_count": 57,
     "metadata": {},
     "output_type": "execute_result"
    }
   ],
   "source": [
    "a[0]"
   ]
  },
  {
   "cell_type": "code",
   "execution_count": 59,
   "id": "b95a6e8f",
   "metadata": {
    "ExecuteTime": {
     "end_time": "2023-12-15T05:30:04.767867Z",
     "start_time": "2023-12-15T05:30:04.761212Z"
    }
   },
   "outputs": [
    {
     "data": {
      "text/plain": [
       "9"
      ]
     },
     "execution_count": 59,
     "metadata": {},
     "output_type": "execute_result"
    }
   ],
   "source": [
    "a[4]"
   ]
  },
  {
   "cell_type": "code",
   "execution_count": 60,
   "id": "7ebcb085",
   "metadata": {
    "ExecuteTime": {
     "end_time": "2023-12-15T05:30:07.914456Z",
     "start_time": "2023-12-15T05:30:07.907971Z"
    }
   },
   "outputs": [
    {
     "data": {
      "text/plain": [
       "9"
      ]
     },
     "execution_count": 60,
     "metadata": {},
     "output_type": "execute_result"
    }
   ],
   "source": [
    "a[-1]"
   ]
  },
  {
   "cell_type": "code",
   "execution_count": 61,
   "id": "6b905a85",
   "metadata": {
    "ExecuteTime": {
     "end_time": "2023-12-15T05:30:11.473183Z",
     "start_time": "2023-12-15T05:30:11.467154Z"
    }
   },
   "outputs": [
    {
     "data": {
      "text/plain": [
       "5"
      ]
     },
     "execution_count": 61,
     "metadata": {},
     "output_type": "execute_result"
    }
   ],
   "source": [
    "a[-3]"
   ]
  },
  {
   "cell_type": "code",
   "execution_count": 33,
   "id": "c303a874",
   "metadata": {
    "ExecuteTime": {
     "end_time": "2023-12-21T08:41:13.894641Z",
     "start_time": "2023-12-21T08:41:13.886838Z"
    }
   },
   "outputs": [
    {
     "data": {
      "text/plain": [
       "array([1, 5, 9])"
      ]
     },
     "execution_count": 33,
     "metadata": {},
     "output_type": "execute_result"
    }
   ],
   "source": [
    "#a의 0, 2, 4번째 값\n",
    "a[[0, 2, 4]]"
   ]
  },
  {
   "cell_type": "code",
   "execution_count": 34,
   "id": "6cc3579b",
   "metadata": {
    "ExecuteTime": {
     "end_time": "2023-12-21T08:41:15.140701Z",
     "start_time": "2023-12-21T08:41:15.133186Z"
    }
   },
   "outputs": [
    {
     "data": {
      "text/plain": [
       "array([1, 3, 5, 7, 9])"
      ]
     },
     "execution_count": 34,
     "metadata": {},
     "output_type": "execute_result"
    }
   ],
   "source": [
    "a"
   ]
  },
  {
   "cell_type": "code",
   "execution_count": 65,
   "id": "6dd94513",
   "metadata": {
    "ExecuteTime": {
     "end_time": "2023-12-15T05:31:13.686643Z",
     "start_time": "2023-12-15T05:31:13.679226Z"
    }
   },
   "outputs": [
    {
     "data": {
      "text/plain": [
       "array([[1, 3],\n",
       "       [4, 2]])"
      ]
     },
     "execution_count": 65,
     "metadata": {},
     "output_type": "execute_result"
    }
   ],
   "source": [
    "# 행렬 구조로 인덱싱도 가능하다\n",
    "i = np.array([[1,3], [4,2]])\n",
    "i"
   ]
  },
  {
   "cell_type": "code",
   "execution_count": 67,
   "id": "f5e2730e",
   "metadata": {
    "ExecuteTime": {
     "end_time": "2023-12-15T05:32:24.024256Z",
     "start_time": "2023-12-15T05:32:24.017337Z"
    }
   },
   "outputs": [
    {
     "data": {
      "text/plain": [
       "array([[3, 7],\n",
       "       [9, 5]])"
      ]
     },
     "execution_count": 67,
     "metadata": {},
     "output_type": "execute_result"
    }
   ],
   "source": [
    "#a의 1,3번째, 4,2번째 값\n",
    "# 넘파이배열1을 넘파이배열2로 인덱싱하는 경우. 넘파이배열2는 인덱스 번호로 인식\n",
    "a[i]"
   ]
  },
  {
   "cell_type": "code",
   "execution_count": 68,
   "id": "cc40e163",
   "metadata": {
    "ExecuteTime": {
     "end_time": "2023-12-15T05:34:09.342898Z",
     "start_time": "2023-12-15T05:34:09.335641Z"
    }
   },
   "outputs": [
    {
     "data": {
      "text/plain": [
       "array([1, 3, 0, 7, 9])"
      ]
     },
     "execution_count": 68,
     "metadata": {},
     "output_type": "execute_result"
    }
   ],
   "source": [
    "#a의 2번째 값을 0으로 바꿈\n",
    "a[2] = 0\n",
    "a"
   ]
  },
  {
   "cell_type": "code",
   "execution_count": 69,
   "id": "cb7ee325",
   "metadata": {
    "ExecuteTime": {
     "end_time": "2023-12-15T05:34:17.881026Z",
     "start_time": "2023-12-15T05:34:17.874179Z"
    }
   },
   "outputs": [
    {
     "data": {
      "text/plain": [
       "array([1, 5, 0, 7, 9])"
      ]
     },
     "execution_count": 69,
     "metadata": {},
     "output_type": "execute_result"
    }
   ],
   "source": [
    "#a의 1번째에 2를 더함\n",
    "a[1] += 2\n",
    "a"
   ]
  },
  {
   "cell_type": "code",
   "execution_count": 70,
   "id": "4ab6ec94",
   "metadata": {
    "ExecuteTime": {
     "end_time": "2023-12-15T05:34:49.674049Z",
     "start_time": "2023-12-15T05:34:49.666725Z"
    }
   },
   "outputs": [
    {
     "data": {
      "text/plain": [
       "array([6, 5, 0, 7, 9])"
      ]
     },
     "execution_count": 70,
     "metadata": {},
     "output_type": "execute_result"
    }
   ],
   "source": [
    "#a의 0번째에 6을 곱함\n",
    "a[0] *= 6\n",
    "a"
   ]
  },
  {
   "cell_type": "markdown",
   "id": "c67df606",
   "metadata": {},
   "source": [
    "# 2D array"
   ]
  },
  {
   "cell_type": "code",
   "execution_count": 35,
   "id": "6914e2ca",
   "metadata": {
    "ExecuteTime": {
     "end_time": "2023-12-21T11:10:04.965327Z",
     "start_time": "2023-12-21T11:10:04.955587Z"
    }
   },
   "outputs": [
    {
     "data": {
      "text/plain": [
       "(array([[ 0,  1,  2,  3,  4],\n",
       "        [ 5,  6,  7,  8,  9],\n",
       "        [10, 11, 12, 13, 14]]),\n",
       " 2,\n",
       " (3, 5),\n",
       " 15)"
      ]
     },
     "execution_count": 35,
     "metadata": {},
     "output_type": "execute_result"
    }
   ],
   "source": [
    "a = np.arange(15).reshape(3, 5)\n",
    "a, a.ndim, a.shape, a.size"
   ]
  },
  {
   "cell_type": "code",
   "execution_count": 36,
   "id": "d5ab1463",
   "metadata": {
    "ExecuteTime": {
     "end_time": "2023-12-21T11:11:03.178309Z",
     "start_time": "2023-12-21T11:11:03.170820Z"
    }
   },
   "outputs": [
    {
     "data": {
      "text/plain": [
       "array([0, 1, 2, 3, 4])"
      ]
     },
     "execution_count": 36,
     "metadata": {},
     "output_type": "execute_result"
    }
   ],
   "source": [
    "#2차원 인덱싱할 때 값을 하나만 넣으면 행 인덱싱\n",
    "a[0]"
   ]
  },
  {
   "cell_type": "code",
   "execution_count": 74,
   "id": "a4904072",
   "metadata": {
    "ExecuteTime": {
     "end_time": "2023-12-15T05:39:00.270214Z",
     "start_time": "2023-12-15T05:39:00.263218Z"
    }
   },
   "outputs": [
    {
     "data": {
      "text/plain": [
       "array([10, 11, 12, 13, 14])"
      ]
     },
     "execution_count": 74,
     "metadata": {},
     "output_type": "execute_result"
    }
   ],
   "source": [
    "a[2]"
   ]
  },
  {
   "cell_type": "code",
   "execution_count": 75,
   "id": "34c2475a",
   "metadata": {
    "ExecuteTime": {
     "end_time": "2023-12-15T05:39:04.644966Z",
     "start_time": "2023-12-15T05:39:04.638226Z"
    }
   },
   "outputs": [
    {
     "data": {
      "text/plain": [
       "array([10, 11, 12, 13, 14])"
      ]
     },
     "execution_count": 75,
     "metadata": {},
     "output_type": "execute_result"
    }
   ],
   "source": [
    "a[-1]"
   ]
  },
  {
   "cell_type": "code",
   "execution_count": 77,
   "id": "8d64ed48",
   "metadata": {
    "ExecuteTime": {
     "end_time": "2023-12-15T05:39:32.856667Z",
     "start_time": "2023-12-15T05:39:32.850422Z"
    },
    "scrolled": true
   },
   "outputs": [
    {
     "data": {
      "text/plain": [
       "array([0, 1, 2, 3, 4])"
      ]
     },
     "execution_count": 77,
     "metadata": {},
     "output_type": "execute_result"
    }
   ],
   "source": [
    "a[-3]"
   ]
  },
  {
   "cell_type": "markdown",
   "id": "c0730789",
   "metadata": {},
   "source": [
    "- a[0, 0]"
   ]
  },
  {
   "cell_type": "code",
   "execution_count": 78,
   "id": "6ae9b1cc",
   "metadata": {
    "ExecuteTime": {
     "end_time": "2023-12-15T05:40:18.776147Z",
     "start_time": "2023-12-15T05:40:18.768088Z"
    }
   },
   "outputs": [
    {
     "data": {
      "text/plain": [
       "array([[ 0,  1,  2,  3,  4],\n",
       "       [ 5,  6,  7,  8,  9],\n",
       "       [10, 11, 12, 13, 14]])"
      ]
     },
     "execution_count": 78,
     "metadata": {},
     "output_type": "execute_result"
    }
   ],
   "source": [
    "a"
   ]
  },
  {
   "cell_type": "code",
   "execution_count": 79,
   "id": "a967fba5",
   "metadata": {
    "ExecuteTime": {
     "end_time": "2023-12-15T05:40:34.790293Z",
     "start_time": "2023-12-15T05:40:34.782556Z"
    }
   },
   "outputs": [
    {
     "data": {
      "text/plain": [
       "0"
      ]
     },
     "execution_count": 79,
     "metadata": {},
     "output_type": "execute_result"
    }
   ],
   "source": [
    "a[0, 0] #0번째 행의 0번"
   ]
  },
  {
   "cell_type": "code",
   "execution_count": 81,
   "id": "2788ffa2",
   "metadata": {
    "ExecuteTime": {
     "end_time": "2023-12-15T05:40:50.230815Z",
     "start_time": "2023-12-15T05:40:50.223382Z"
    },
    "scrolled": true
   },
   "outputs": [
    {
     "data": {
      "text/plain": [
       "2"
      ]
     },
     "execution_count": 81,
     "metadata": {},
     "output_type": "execute_result"
    }
   ],
   "source": [
    "a[0, 2]"
   ]
  },
  {
   "cell_type": "code",
   "execution_count": 82,
   "id": "0a6508de",
   "metadata": {
    "ExecuteTime": {
     "end_time": "2023-12-15T05:40:56.116206Z",
     "start_time": "2023-12-15T05:40:56.108991Z"
    }
   },
   "outputs": [
    {
     "data": {
      "text/plain": [
       "5"
      ]
     },
     "execution_count": 82,
     "metadata": {},
     "output_type": "execute_result"
    }
   ],
   "source": [
    "a[1, 0] #1행 0열"
   ]
  },
  {
   "cell_type": "markdown",
   "id": "d14be9e3",
   "metadata": {},
   "source": [
    "- 값 변경"
   ]
  },
  {
   "cell_type": "code",
   "execution_count": 83,
   "id": "cdd65aaa",
   "metadata": {
    "ExecuteTime": {
     "end_time": "2023-12-15T05:43:58.787330Z",
     "start_time": "2023-12-15T05:43:58.779607Z"
    }
   },
   "outputs": [
    {
     "data": {
      "text/plain": [
       "array([[ 0,  1,  2,  3,  4],\n",
       "       [ 1,  3,  5,  7,  9],\n",
       "       [10, 11, 12, 13, 14]])"
      ]
     },
     "execution_count": 83,
     "metadata": {},
     "output_type": "execute_result"
    }
   ],
   "source": [
    "a[1] = [1, 3, 5, 7, 9] #1째 행 리스트 값 변경\n",
    "a"
   ]
  },
  {
   "cell_type": "code",
   "execution_count": 37,
   "id": "7af11e57",
   "metadata": {
    "ExecuteTime": {
     "end_time": "2023-12-21T11:25:38.861847Z",
     "start_time": "2023-12-21T11:25:38.853167Z"
    }
   },
   "outputs": [
    {
     "data": {
      "text/plain": [
       "array([[ 0,  1,  2,  3,  4],\n",
       "       [ 5,  6,  7,  8,  9],\n",
       "       [10, 10, 10, 10, 10]])"
      ]
     },
     "execution_count": 37,
     "metadata": {},
     "output_type": "execute_result"
    }
   ],
   "source": [
    "a[-1] = 10 #-1행 전부 10 값 대입\n",
    "a"
   ]
  },
  {
   "cell_type": "code",
   "execution_count": 38,
   "id": "e9a84478",
   "metadata": {
    "ExecuteTime": {
     "end_time": "2023-12-21T11:25:45.256908Z",
     "start_time": "2023-12-21T11:25:45.249454Z"
    }
   },
   "outputs": [
    {
     "data": {
      "text/plain": [
       "array([[ 1,  3,  5,  7,  9],\n",
       "       [ 5,  6,  7,  8,  9],\n",
       "       [10, 10, 10, 10, 10]])"
      ]
     },
     "execution_count": 38,
     "metadata": {},
     "output_type": "execute_result"
    }
   ],
   "source": [
    "a[0] += [1, 2, 3, 4, 5]#0행에 각 값 더해줌\n",
    "a"
   ]
  },
  {
   "cell_type": "code",
   "execution_count": 88,
   "id": "98ceb07d",
   "metadata": {
    "ExecuteTime": {
     "end_time": "2023-12-15T05:46:15.227318Z",
     "start_time": "2023-12-15T05:46:15.220187Z"
    }
   },
   "outputs": [
    {
     "data": {
      "text/plain": [
       "(array([0, 1, 2, 3, 4, 5, 6, 7, 8, 9]),\n",
       " array([[ 0,  1,  2,  3],\n",
       "        [ 4,  5,  6,  7],\n",
       "        [ 8,  9, 10, 11]]))"
      ]
     },
     "execution_count": 88,
     "metadata": {},
     "output_type": "execute_result"
    }
   ],
   "source": [
    "matrix_a = np.arange(10)\n",
    "matrix_b = np.arange(12).reshape(3,4)\n",
    "\n",
    "matrix_a, matrix_b"
   ]
  },
  {
   "cell_type": "code",
   "execution_count": 89,
   "id": "52d18afd",
   "metadata": {
    "ExecuteTime": {
     "end_time": "2023-12-15T05:46:56.217660Z",
     "start_time": "2023-12-15T05:46:56.211086Z"
    }
   },
   "outputs": [
    {
     "data": {
      "text/plain": [
       "(0, 9)"
      ]
     },
     "execution_count": 89,
     "metadata": {},
     "output_type": "execute_result"
    }
   ],
   "source": [
    "# 1차원에서 첫 요소와 마지막 요소\n",
    "matrix_a[0], matrix_a[-1]"
   ]
  },
  {
   "cell_type": "code",
   "execution_count": 90,
   "id": "f885826a",
   "metadata": {
    "ExecuteTime": {
     "end_time": "2023-12-15T05:47:35.946857Z",
     "start_time": "2023-12-15T05:47:35.939705Z"
    }
   },
   "outputs": [
    {
     "data": {
      "text/plain": [
       "0"
      ]
     },
     "execution_count": 90,
     "metadata": {},
     "output_type": "execute_result"
    }
   ],
   "source": [
    "# 2차원에서 1번째행 1번째열\n",
    "matrix_b[0, 0]"
   ]
  },
  {
   "cell_type": "code",
   "execution_count": 92,
   "id": "5d06ba0b",
   "metadata": {
    "ExecuteTime": {
     "end_time": "2023-12-15T05:48:08.848382Z",
     "start_time": "2023-12-15T05:48:08.840733Z"
    }
   },
   "outputs": [
    {
     "data": {
      "text/plain": [
       "array([[ 0,  1,  2,  3],\n",
       "       [ 4,  5,  6,  7],\n",
       "       [ 8,  9, 10, 11]])"
      ]
     },
     "execution_count": 92,
     "metadata": {},
     "output_type": "execute_result"
    }
   ],
   "source": [
    "matrix_b"
   ]
  },
  {
   "cell_type": "code",
   "execution_count": 93,
   "id": "fb350dfe",
   "metadata": {
    "ExecuteTime": {
     "end_time": "2023-12-15T05:48:13.707304Z",
     "start_time": "2023-12-15T05:48:13.700166Z"
    }
   },
   "outputs": [
    {
     "data": {
      "text/plain": [
       "11"
      ]
     },
     "execution_count": 93,
     "metadata": {},
     "output_type": "execute_result"
    }
   ],
   "source": [
    "# 2차원 마지막행 마지막열 -> 3행 4열\n",
    "matrix_b[-1,-1]"
   ]
  },
  {
   "cell_type": "code",
   "execution_count": 97,
   "id": "22afe741",
   "metadata": {
    "ExecuteTime": {
     "end_time": "2023-12-15T05:49:01.781495Z",
     "start_time": "2023-12-15T05:49:01.774513Z"
    }
   },
   "outputs": [
    {
     "data": {
      "text/plain": [
       "11"
      ]
     },
     "execution_count": 97,
     "metadata": {},
     "output_type": "execute_result"
    }
   ],
   "source": [
    "matrix_b[2][3]"
   ]
  },
  {
   "cell_type": "code",
   "execution_count": 98,
   "id": "234ae81d",
   "metadata": {
    "ExecuteTime": {
     "end_time": "2023-12-15T05:49:08.239366Z",
     "start_time": "2023-12-15T05:49:08.232150Z"
    }
   },
   "outputs": [
    {
     "data": {
      "text/plain": [
       "array([[  0,   1,   2,   3],\n",
       "       [  4,   5,   6,   7],\n",
       "       [100,   9,  10,  11]])"
      ]
     },
     "execution_count": 98,
     "metadata": {},
     "output_type": "execute_result"
    }
   ],
   "source": [
    "# matrix_b에서 3번째행 1번째열의값을 100으로 변경해보자\n",
    "matrix_b[2,0] = 100\n",
    "matrix_b"
   ]
  },
  {
   "cell_type": "markdown",
   "id": "efcd2abd",
   "metadata": {},
   "source": [
    "# 넘파이배열 슬라이싱\n",
    "- 1차원   \n",
    "    - 넘파이배열[:end]   \n",
    "    - 넘파이배열[start:]   \n",
    "    - 넘파이배열[start:end]   \n",
    "    - 넘파이배열[start:end:step]   \n",
    "- 2차원   \n",
    "    - 넘파이배열[행, 열] = [start:end:step, start2:end2:step2]   "
   ]
  },
  {
   "cell_type": "code",
   "execution_count": 41,
   "id": "b785b075",
   "metadata": {
    "ExecuteTime": {
     "end_time": "2023-12-21T11:35:13.361100Z",
     "start_time": "2023-12-21T11:35:13.352516Z"
    }
   },
   "outputs": [
    {
     "data": {
      "text/plain": [
       "(array([1, 3, 5, 7, 9]), 1, (5,), 5)"
      ]
     },
     "execution_count": 41,
     "metadata": {},
     "output_type": "execute_result"
    }
   ],
   "source": [
    "a = np.array([1, 3, 5, 7, 9])\n",
    "a, a.ndim, a.shape, a.size"
   ]
  },
  {
   "cell_type": "code",
   "execution_count": 42,
   "id": "34f70bc5",
   "metadata": {
    "ExecuteTime": {
     "end_time": "2023-12-21T11:35:24.184480Z",
     "start_time": "2023-12-21T11:35:24.177478Z"
    }
   },
   "outputs": [
    {
     "data": {
      "text/plain": [
       "array([1, 3, 5, 7, 9])"
      ]
     },
     "execution_count": 42,
     "metadata": {},
     "output_type": "execute_result"
    }
   ],
   "source": [
    "a[:]"
   ]
  },
  {
   "cell_type": "code",
   "execution_count": 43,
   "id": "e6f6badd",
   "metadata": {
    "ExecuteTime": {
     "end_time": "2023-12-21T11:35:26.501930Z",
     "start_time": "2023-12-21T11:35:26.494684Z"
    }
   },
   "outputs": [
    {
     "data": {
      "text/plain": [
       "array([3, 5, 7, 9])"
      ]
     },
     "execution_count": 43,
     "metadata": {},
     "output_type": "execute_result"
    }
   ],
   "source": [
    "a[1:]"
   ]
  },
  {
   "cell_type": "code",
   "execution_count": 44,
   "id": "75e23409",
   "metadata": {
    "ExecuteTime": {
     "end_time": "2023-12-21T11:35:33.472412Z",
     "start_time": "2023-12-21T11:35:33.463484Z"
    }
   },
   "outputs": [
    {
     "data": {
      "text/plain": [
       "array([9])"
      ]
     },
     "execution_count": 44,
     "metadata": {},
     "output_type": "execute_result"
    }
   ],
   "source": [
    "a[-1:]"
   ]
  },
  {
   "cell_type": "code",
   "execution_count": 45,
   "id": "1908b4b5",
   "metadata": {
    "ExecuteTime": {
     "end_time": "2023-12-21T11:35:38.031189Z",
     "start_time": "2023-12-21T11:35:38.022836Z"
    }
   },
   "outputs": [
    {
     "data": {
      "text/plain": [
       "array([3, 5, 7])"
      ]
     },
     "execution_count": 45,
     "metadata": {},
     "output_type": "execute_result"
    }
   ],
   "source": [
    "a[1:-1]"
   ]
  },
  {
   "cell_type": "code",
   "execution_count": 47,
   "id": "43e62ab5",
   "metadata": {
    "ExecuteTime": {
     "end_time": "2023-12-21T11:36:06.582968Z",
     "start_time": "2023-12-21T11:36:06.575122Z"
    }
   },
   "outputs": [
    {
     "data": {
      "text/plain": [
       "array([0, 1, 2, 3, 4, 5, 6, 7, 8, 9])"
      ]
     },
     "execution_count": 47,
     "metadata": {},
     "output_type": "execute_result"
    }
   ],
   "source": [
    "a = np.arange(10)\n",
    "a"
   ]
  },
  {
   "cell_type": "code",
   "execution_count": 48,
   "id": "de6e1c42",
   "metadata": {
    "ExecuteTime": {
     "end_time": "2023-12-21T11:36:07.603180Z",
     "start_time": "2023-12-21T11:36:07.595767Z"
    }
   },
   "outputs": [
    {
     "data": {
      "text/plain": [
       "array([0, 2, 4, 6, 8])"
      ]
     },
     "execution_count": 48,
     "metadata": {},
     "output_type": "execute_result"
    }
   ],
   "source": [
    "a[::2]"
   ]
  },
  {
   "cell_type": "code",
   "execution_count": 49,
   "id": "2e876ec0",
   "metadata": {
    "ExecuteTime": {
     "end_time": "2023-12-21T11:36:17.353950Z",
     "start_time": "2023-12-21T11:36:17.346332Z"
    }
   },
   "outputs": [
    {
     "data": {
      "text/plain": [
       "array([9, 8, 7, 6, 5, 4, 3, 2, 1, 0])"
      ]
     },
     "execution_count": 49,
     "metadata": {},
     "output_type": "execute_result"
    }
   ],
   "source": [
    "a[::-1]"
   ]
  },
  {
   "cell_type": "code",
   "execution_count": 50,
   "id": "b0bf6007",
   "metadata": {
    "ExecuteTime": {
     "end_time": "2023-12-21T11:36:57.418614Z",
     "start_time": "2023-12-21T11:36:57.408381Z"
    }
   },
   "outputs": [
    {
     "data": {
      "text/plain": [
       "array([1, 3, 5, 7, 9])"
      ]
     },
     "execution_count": 50,
     "metadata": {},
     "output_type": "execute_result"
    }
   ],
   "source": [
    "# 홀수\n",
    "a[1::2]"
   ]
  },
  {
   "cell_type": "code",
   "execution_count": 51,
   "id": "b7a10c44",
   "metadata": {
    "ExecuteTime": {
     "end_time": "2023-12-21T11:37:15.486696Z",
     "start_time": "2023-12-21T11:37:15.479400Z"
    }
   },
   "outputs": [
    {
     "data": {
      "text/plain": [
       "array([3, 5, 7, 9])"
      ]
     },
     "execution_count": 51,
     "metadata": {},
     "output_type": "execute_result"
    }
   ],
   "source": [
    "a[3::2]"
   ]
  },
  {
   "cell_type": "code",
   "execution_count": 52,
   "id": "466bce50",
   "metadata": {
    "ExecuteTime": {
     "end_time": "2023-12-21T11:37:39.262759Z",
     "start_time": "2023-12-21T11:37:39.255604Z"
    }
   },
   "outputs": [
    {
     "data": {
      "text/plain": [
       "array([0, 2, 4, 6])"
      ]
     },
     "execution_count": 52,
     "metadata": {},
     "output_type": "execute_result"
    }
   ],
   "source": [
    "a[:-2:2]"
   ]
  },
  {
   "cell_type": "markdown",
   "id": "d4487815",
   "metadata": {},
   "source": [
    "# 2D array"
   ]
  },
  {
   "cell_type": "code",
   "execution_count": 54,
   "id": "4dd0d98c",
   "metadata": {
    "ExecuteTime": {
     "end_time": "2023-12-21T11:42:10.581264Z",
     "start_time": "2023-12-21T11:42:10.571308Z"
    }
   },
   "outputs": [
    {
     "data": {
      "text/plain": [
       "(array([[10, 11, 12, 13, 14],\n",
       "        [15, 16, 17, 18, 19],\n",
       "        [20, 21, 22, 23, 24]]),\n",
       " 2,\n",
       " (3, 5),\n",
       " 15)"
      ]
     },
     "execution_count": 54,
     "metadata": {},
     "output_type": "execute_result"
    }
   ],
   "source": [
    "a = np.arange(10, 25).reshape(3, 5)\n",
    "a, a.ndim, a.shape, a.size"
   ]
  },
  {
   "cell_type": "code",
   "execution_count": 55,
   "id": "23045ce1",
   "metadata": {
    "ExecuteTime": {
     "end_time": "2023-12-21T11:42:12.088776Z",
     "start_time": "2023-12-21T11:42:12.080073Z"
    }
   },
   "outputs": [
    {
     "data": {
      "text/plain": [
       "array([[10, 11, 12, 13, 14],\n",
       "       [15, 16, 17, 18, 19],\n",
       "       [20, 21, 22, 23, 24]])"
      ]
     },
     "execution_count": 55,
     "metadata": {},
     "output_type": "execute_result"
    }
   ],
   "source": [
    "a[:]"
   ]
  },
  {
   "cell_type": "code",
   "execution_count": 56,
   "id": "f75a5a96",
   "metadata": {
    "ExecuteTime": {
     "end_time": "2023-12-21T11:42:14.405710Z",
     "start_time": "2023-12-21T11:42:14.399324Z"
    }
   },
   "outputs": [
    {
     "data": {
      "text/plain": [
       "array([[15, 16, 17, 18, 19],\n",
       "       [20, 21, 22, 23, 24]])"
      ]
     },
     "execution_count": 56,
     "metadata": {},
     "output_type": "execute_result"
    }
   ],
   "source": [
    "a[1:] #1행부터"
   ]
  },
  {
   "cell_type": "code",
   "execution_count": 57,
   "id": "7fa4e8b9",
   "metadata": {
    "ExecuteTime": {
     "end_time": "2023-12-21T11:42:17.348482Z",
     "start_time": "2023-12-21T11:42:17.341091Z"
    }
   },
   "outputs": [
    {
     "data": {
      "text/plain": [
       "array([], shape=(0, 5), dtype=int32)"
      ]
     },
     "execution_count": 57,
     "metadata": {},
     "output_type": "execute_result"
    }
   ],
   "source": [
    "a[3:]"
   ]
  },
  {
   "cell_type": "code",
   "execution_count": 58,
   "id": "3d525d38",
   "metadata": {
    "ExecuteTime": {
     "end_time": "2023-12-21T11:46:08.008504Z",
     "start_time": "2023-12-21T11:46:08.001676Z"
    }
   },
   "outputs": [
    {
     "data": {
      "text/plain": [
       "array([[20, 21, 22, 23, 24]])"
      ]
     },
     "execution_count": 58,
     "metadata": {},
     "output_type": "execute_result"
    }
   ],
   "source": [
    "a[-1:]"
   ]
  },
  {
   "cell_type": "code",
   "execution_count": 59,
   "id": "679bff4b",
   "metadata": {
    "ExecuteTime": {
     "end_time": "2023-12-21T11:46:14.486495Z",
     "start_time": "2023-12-21T11:46:14.478208Z"
    }
   },
   "outputs": [
    {
     "data": {
      "text/plain": [
       "array([[10, 11, 12, 13, 14],\n",
       "       [15, 16, 17, 18, 19],\n",
       "       [20, 21, 22, 23, 24]])"
      ]
     },
     "execution_count": 59,
     "metadata": {},
     "output_type": "execute_result"
    }
   ],
   "source": [
    "a[-3:]"
   ]
  },
  {
   "cell_type": "code",
   "execution_count": 60,
   "id": "84c343e8",
   "metadata": {
    "ExecuteTime": {
     "end_time": "2023-12-21T11:46:29.175232Z",
     "start_time": "2023-12-21T11:46:29.166520Z"
    }
   },
   "outputs": [
    {
     "data": {
      "text/plain": [
       "array([], shape=(0, 5), dtype=int32)"
      ]
     },
     "execution_count": 60,
     "metadata": {},
     "output_type": "execute_result"
    }
   ],
   "source": [
    "a[:0] #-1을 해야함"
   ]
  },
  {
   "cell_type": "code",
   "execution_count": 61,
   "id": "f97860ce",
   "metadata": {
    "ExecuteTime": {
     "end_time": "2023-12-21T11:46:39.554825Z",
     "start_time": "2023-12-21T11:46:39.546953Z"
    },
    "scrolled": true
   },
   "outputs": [
    {
     "data": {
      "text/plain": [
       "array([[15, 16, 17, 18, 19]])"
      ]
     },
     "execution_count": 61,
     "metadata": {},
     "output_type": "execute_result"
    }
   ],
   "source": [
    "a[1:-1]"
   ]
  },
  {
   "cell_type": "markdown",
   "id": "a4580e1a",
   "metadata": {},
   "source": [
    "- 행과 열 각각 지정"
   ]
  },
  {
   "cell_type": "code",
   "execution_count": 118,
   "id": "152ecb52",
   "metadata": {
    "ExecuteTime": {
     "end_time": "2023-12-15T06:13:58.994989Z",
     "start_time": "2023-12-15T06:13:58.986436Z"
    }
   },
   "outputs": [
    {
     "data": {
      "text/plain": [
       "array([[10, 11, 12, 13, 14],\n",
       "       [15, 16, 17, 18, 19],\n",
       "       [20, 21, 22, 23, 24]])"
      ]
     },
     "execution_count": 118,
     "metadata": {},
     "output_type": "execute_result"
    }
   ],
   "source": [
    "a[:, :] # 행의 범위, 열의 범위"
   ]
  },
  {
   "cell_type": "code",
   "execution_count": 62,
   "id": "f5754ea0",
   "metadata": {
    "ExecuteTime": {
     "end_time": "2023-12-21T11:48:15.272076Z",
     "start_time": "2023-12-21T11:48:15.263967Z"
    }
   },
   "outputs": [
    {
     "data": {
      "text/plain": [
       "array([[11, 12, 13, 14],\n",
       "       [16, 17, 18, 19],\n",
       "       [21, 22, 23, 24]])"
      ]
     },
     "execution_count": 62,
     "metadata": {},
     "output_type": "execute_result"
    }
   ],
   "source": [
    "a[:, 1:] #모든 행, 각 행의 1째열 부터"
   ]
  },
  {
   "cell_type": "code",
   "execution_count": 120,
   "id": "09961fd5",
   "metadata": {
    "ExecuteTime": {
     "end_time": "2023-12-15T06:14:40.622143Z",
     "start_time": "2023-12-15T06:14:40.612661Z"
    }
   },
   "outputs": [
    {
     "data": {
      "text/plain": [
       "array([[13, 14],\n",
       "       [18, 19],\n",
       "       [23, 24]])"
      ]
     },
     "execution_count": 120,
     "metadata": {},
     "output_type": "execute_result"
    }
   ],
   "source": [
    "a[:, 3:]"
   ]
  },
  {
   "cell_type": "code",
   "execution_count": 121,
   "id": "1aabdd62",
   "metadata": {
    "ExecuteTime": {
     "end_time": "2023-12-15T06:16:09.354950Z",
     "start_time": "2023-12-15T06:16:09.346884Z"
    }
   },
   "outputs": [
    {
     "data": {
      "text/plain": [
       "array([[14],\n",
       "       [19],\n",
       "       [24]])"
      ]
     },
     "execution_count": 121,
     "metadata": {},
     "output_type": "execute_result"
    }
   ],
   "source": [
    "a[:, -1:] #각 행의 마지막 열"
   ]
  },
  {
   "cell_type": "code",
   "execution_count": 122,
   "id": "c5e7c385",
   "metadata": {
    "ExecuteTime": {
     "end_time": "2023-12-15T06:16:13.281666Z",
     "start_time": "2023-12-15T06:16:13.272398Z"
    }
   },
   "outputs": [
    {
     "data": {
      "text/plain": [
       "array([[11, 12, 13, 14],\n",
       "       [16, 17, 18, 19],\n",
       "       [21, 22, 23, 24]])"
      ]
     },
     "execution_count": 122,
     "metadata": {},
     "output_type": "execute_result"
    }
   ],
   "source": [
    "a[:, -4:]"
   ]
  },
  {
   "cell_type": "code",
   "execution_count": 123,
   "id": "166e4b0d",
   "metadata": {
    "ExecuteTime": {
     "end_time": "2023-12-15T06:16:50.614602Z",
     "start_time": "2023-12-15T06:16:50.606635Z"
    }
   },
   "outputs": [
    {
     "data": {
      "text/plain": [
       "array([[10],\n",
       "       [15],\n",
       "       [20]])"
      ]
     },
     "execution_count": 123,
     "metadata": {},
     "output_type": "execute_result"
    }
   ],
   "source": [
    "a[:, :1]"
   ]
  },
  {
   "cell_type": "code",
   "execution_count": 124,
   "id": "6b3b4397",
   "metadata": {
    "ExecuteTime": {
     "end_time": "2023-12-15T06:16:55.733888Z",
     "start_time": "2023-12-15T06:16:55.724452Z"
    }
   },
   "outputs": [
    {
     "data": {
      "text/plain": [
       "array([[10, 11, 12, 13, 14],\n",
       "       [15, 16, 17, 18, 19],\n",
       "       [20, 21, 22, 23, 24]])"
      ]
     },
     "execution_count": 124,
     "metadata": {},
     "output_type": "execute_result"
    }
   ],
   "source": [
    "a[:, :5]"
   ]
  },
  {
   "cell_type": "code",
   "execution_count": 126,
   "id": "ac71b156",
   "metadata": {
    "ExecuteTime": {
     "end_time": "2023-12-15T06:18:04.146254Z",
     "start_time": "2023-12-15T06:18:04.136731Z"
    }
   },
   "outputs": [
    {
     "data": {
      "text/plain": [
       "array([[10, 11, 12, 13, 14, 15, 16, 17, 18, 19],\n",
       "       [20, 21, 22, 23, 24, 25, 26, 27, 28, 29],\n",
       "       [30, 31, 32, 33, 34, 35, 36, 37, 38, 39],\n",
       "       [40, 41, 42, 43, 44, 45, 46, 47, 48, 49],\n",
       "       [50, 51, 52, 53, 54, 55, 56, 57, 58, 59],\n",
       "       [60, 61, 62, 63, 64, 65, 66, 67, 68, 69],\n",
       "       [70, 71, 72, 73, 74, 75, 76, 77, 78, 79],\n",
       "       [80, 81, 82, 83, 84, 85, 86, 87, 88, 89],\n",
       "       [90, 91, 92, 93, 94, 95, 96, 97, 98, 99]])"
      ]
     },
     "execution_count": 126,
     "metadata": {},
     "output_type": "execute_result"
    }
   ],
   "source": [
    "a = np.arange(10, 100).reshape(9, 10)\n",
    "a"
   ]
  },
  {
   "cell_type": "code",
   "execution_count": 127,
   "id": "b0a2810f",
   "metadata": {
    "ExecuteTime": {
     "end_time": "2023-12-15T06:18:37.201264Z",
     "start_time": "2023-12-15T06:18:37.190533Z"
    }
   },
   "outputs": [
    {
     "data": {
      "text/plain": [
       "array([[30, 31, 32, 33, 34, 35, 36, 37, 38, 39],\n",
       "       [40, 41, 42, 43, 44, 45, 46, 47, 48, 49],\n",
       "       [50, 51, 52, 53, 54, 55, 56, 57, 58, 59]])"
      ]
     },
     "execution_count": 127,
     "metadata": {},
     "output_type": "execute_result"
    }
   ],
   "source": [
    "a[2:5, :]"
   ]
  },
  {
   "cell_type": "code",
   "execution_count": 128,
   "id": "70d1f57c",
   "metadata": {
    "ExecuteTime": {
     "end_time": "2023-12-15T06:20:09.564784Z",
     "start_time": "2023-12-15T06:20:09.553843Z"
    }
   },
   "outputs": [
    {
     "data": {
      "text/plain": [
       "array([[32, 33, 34],\n",
       "       [42, 43, 44],\n",
       "       [52, 53, 54]])"
      ]
     },
     "execution_count": 128,
     "metadata": {},
     "output_type": "execute_result"
    }
   ],
   "source": [
    "a[2:5, 2:5]"
   ]
  },
  {
   "cell_type": "code",
   "execution_count": 129,
   "id": "787186bd",
   "metadata": {
    "ExecuteTime": {
     "end_time": "2023-12-15T06:21:17.796153Z",
     "start_time": "2023-12-15T06:21:17.787834Z"
    }
   },
   "outputs": [
    {
     "data": {
      "text/plain": [
       "array([[10, 12, 14, 16, 18],\n",
       "       [30, 32, 34, 36, 38],\n",
       "       [50, 52, 54, 56, 58],\n",
       "       [70, 72, 74, 76, 78],\n",
       "       [90, 92, 94, 96, 98]])"
      ]
     },
     "execution_count": 129,
     "metadata": {},
     "output_type": "execute_result"
    }
   ],
   "source": [
    "a[::2, ::2]"
   ]
  },
  {
   "cell_type": "code",
   "execution_count": 130,
   "id": "3688b04c",
   "metadata": {
    "ExecuteTime": {
     "end_time": "2023-12-15T06:21:31.012165Z",
     "start_time": "2023-12-15T06:21:31.001194Z"
    }
   },
   "outputs": [
    {
     "data": {
      "text/plain": [
       "array([[99, 98, 97, 96, 95, 94, 93, 92, 91, 90],\n",
       "       [89, 88, 87, 86, 85, 84, 83, 82, 81, 80],\n",
       "       [79, 78, 77, 76, 75, 74, 73, 72, 71, 70],\n",
       "       [69, 68, 67, 66, 65, 64, 63, 62, 61, 60],\n",
       "       [59, 58, 57, 56, 55, 54, 53, 52, 51, 50],\n",
       "       [49, 48, 47, 46, 45, 44, 43, 42, 41, 40],\n",
       "       [39, 38, 37, 36, 35, 34, 33, 32, 31, 30],\n",
       "       [29, 28, 27, 26, 25, 24, 23, 22, 21, 20],\n",
       "       [19, 18, 17, 16, 15, 14, 13, 12, 11, 10]])"
      ]
     },
     "execution_count": 130,
     "metadata": {},
     "output_type": "execute_result"
    }
   ],
   "source": [
    "a[::-1, ::-1]"
   ]
  },
  {
   "attachments": {
    "image.png": {
     "image/png": "[encoded data removed]"
    }
   },
   "cell_type": "markdown",
   "id": "7732673e",
   "metadata": {
    "ExecuteTime": {
     "end_time": "2023-12-15T06:22:27.238537Z",
     "start_time": "2023-12-15T06:22:27.226010Z"
    }
   },
   "source": [
    "# 전치행렬: 행<->열\n",
    "![image.png](attachment:image.png)\n",
    "## 넘파이배열.T : 행과 열 구조 변경 \n",
    "- reshape: 전부 나열하고 바꿈\n",
    "- transpose: 순서를 바꿈"
   ]
  },
  {
   "cell_type": "code",
   "execution_count": 132,
   "id": "f3017b04",
   "metadata": {
    "ExecuteTime": {
     "end_time": "2023-12-15T06:24:04.460170Z",
     "start_time": "2023-12-15T06:24:04.450800Z"
    }
   },
   "outputs": [
    {
     "data": {
      "text/plain": [
       "array([[1, 2],\n",
       "       [3, 4],\n",
       "       [5, 6]])"
      ]
     },
     "execution_count": 132,
     "metadata": {},
     "output_type": "execute_result"
    }
   ],
   "source": [
    "# 3행 2열\n",
    "matrix_d = np.arange(1,7).reshape(3,2)\n",
    "matrix_d"
   ]
  },
  {
   "cell_type": "code",
   "execution_count": 133,
   "id": "f2204f8c",
   "metadata": {
    "ExecuteTime": {
     "end_time": "2023-12-15T06:24:15.639824Z",
     "start_time": "2023-12-15T06:24:15.633533Z"
    }
   },
   "outputs": [
    {
     "name": "stdout",
     "output_type": "stream",
     "text": [
      "[[1 3 5]\n",
      " [2 4 6]]\n"
     ]
    }
   ],
   "source": [
    "# 2행 3열로 변환\n",
    "print(matrix_d.T)"
   ]
  },
  {
   "cell_type": "code",
   "execution_count": 134,
   "id": "42cc09d2",
   "metadata": {
    "ExecuteTime": {
     "end_time": "2023-12-15T06:26:14.097216Z",
     "start_time": "2023-12-15T06:26:14.089615Z"
    }
   },
   "outputs": [
    {
     "name": "stdout",
     "output_type": "stream",
     "text": [
      "[[1 2 3]\n",
      " [4 5 6]]\n"
     ]
    }
   ],
   "source": [
    "# reshape과 transpose은 값이 다름을 유의\n",
    "print(matrix_d.reshape(2,3)) "
   ]
  },
  {
   "cell_type": "markdown",
   "id": "18fb221c",
   "metadata": {},
   "source": [
    "# 난수로 구성된 넘파이 배열\n",
    "- np.random.randint(start, end, n) : 정수 난수\n",
    "- np.random.randint(start, end, (i, j))"
   ]
  },
  {
   "cell_type": "code",
   "execution_count": null,
   "id": "c01b8a76",
   "metadata": {},
   "outputs": [],
   "source": [
    "np.random?"
   ]
  },
  {
   "cell_type": "code",
   "execution_count": 135,
   "id": "2799edff",
   "metadata": {
    "ExecuteTime": {
     "end_time": "2023-12-15T06:27:45.140869Z",
     "start_time": "2023-12-15T06:27:45.122507Z"
    }
   },
   "outputs": [
    {
     "data": {
      "text/plain": [
       "array([6, 4, 5, 9, 6, 1, 1, 6, 1, 8])"
      ]
     },
     "execution_count": 135,
     "metadata": {},
     "output_type": "execute_result"
    }
   ],
   "source": [
    "# 1~10 사이의 숫자중에서 10개 출력\n",
    "np.random.randint(1, 10, 10)"
   ]
  },
  {
   "cell_type": "code",
   "execution_count": 136,
   "id": "bfcf3a97",
   "metadata": {
    "ExecuteTime": {
     "end_time": "2023-12-15T06:27:47.415275Z",
     "start_time": "2023-12-15T06:27:47.406050Z"
    },
    "scrolled": true
   },
   "outputs": [
    {
     "data": {
      "text/plain": [
       "array([[2, 2, 9, 9, 4],\n",
       "       [6, 5, 6, 7, 4]])"
      ]
     },
     "execution_count": 136,
     "metadata": {},
     "output_type": "execute_result"
    }
   ],
   "source": [
    "# 2행 5열로 랜덤하게 츨력\n",
    "np.random.randint(1, 10, (2,5))"
   ]
  },
  {
   "cell_type": "markdown",
   "id": "dc05b8c6",
   "metadata": {},
   "source": [
    "## Quiz : 1~46까지 구성된 숫자 중에서 6개를 뽑아서 로또 번호를 생성하라"
   ]
  },
  {
   "cell_type": "code",
   "execution_count": 63,
   "id": "58bbef4c",
   "metadata": {
    "ExecuteTime": {
     "end_time": "2023-12-21T12:06:35.252790Z",
     "start_time": "2023-12-21T12:06:35.238826Z"
    }
   },
   "outputs": [
    {
     "data": {
      "text/plain": [
       "array([ 9, 23, 20, 33, 11, 32])"
      ]
     },
     "execution_count": 63,
     "metadata": {},
     "output_type": "execute_result"
    }
   ],
   "source": [
    "np.random.randint(1,47,6)"
   ]
  },
  {
   "cell_type": "markdown",
   "id": "43a0906d",
   "metadata": {},
   "source": [
    "# 실수 난수\n",
    "- np.random.randn(n)\n",
    "- np.random.randn(i, j)"
   ]
  },
  {
   "cell_type": "code",
   "execution_count": null,
   "id": "3bc459de",
   "metadata": {},
   "outputs": [],
   "source": [
    "np.random.randn?"
   ]
  },
  {
   "cell_type": "code",
   "execution_count": 139,
   "id": "0e7a1ca8",
   "metadata": {
    "ExecuteTime": {
     "end_time": "2023-12-15T06:34:40.778296Z",
     "start_time": "2023-12-15T06:34:40.763977Z"
    }
   },
   "outputs": [
    {
     "data": {
      "text/plain": [
       "array([ 0.79410449, -1.32886232, -1.31190127, -0.53727726, -0.21645936,\n",
       "        0.93815454,  1.00637552,  0.77838587, -1.60000421, -0.14404167])"
      ]
     },
     "execution_count": 139,
     "metadata": {},
     "output_type": "execute_result"
    }
   ],
   "source": [
    "matrix1 = np.random.randn(10) # 표준정규분포 0 ~ 분산1\n",
    "matrix1"
   ]
  },
  {
   "cell_type": "code",
   "execution_count": 140,
   "id": "6156736c",
   "metadata": {
    "ExecuteTime": {
     "end_time": "2023-12-15T06:34:43.372362Z",
     "start_time": "2023-12-15T06:34:43.361017Z"
    }
   },
   "outputs": [
    {
     "data": {
      "text/plain": [
       "array([[ 0.28434457,  0.94842992, -0.33526561,  0.23157713],\n",
       "       [ 0.8068606 ,  0.25960589, -0.34562249, -0.24976302],\n",
       "       [-2.8067734 , -1.0219785 ,  0.76265831, -0.82173099],\n",
       "       [ 0.67836753, -0.7312078 ,  0.50494374, -0.46796778]])"
      ]
     },
     "execution_count": 140,
     "metadata": {},
     "output_type": "execute_result"
    }
   ],
   "source": [
    "matrix2 = np.random.randn(4, 4)\n",
    "matrix2"
   ]
  },
  {
   "cell_type": "code",
   "execution_count": 141,
   "id": "f8894be9",
   "metadata": {
    "ExecuteTime": {
     "end_time": "2023-12-15T06:34:46.331124Z",
     "start_time": "2023-12-15T06:34:46.317423Z"
    }
   },
   "outputs": [
    {
     "data": {
      "text/plain": [
       "(1.0063755204478475, -1.600004213308762)"
      ]
     },
     "execution_count": 141,
     "metadata": {},
     "output_type": "execute_result"
    }
   ],
   "source": [
    "matrix1.max(), matrix1.min()"
   ]
  },
  {
   "cell_type": "markdown",
   "id": "8a874573",
   "metadata": {},
   "source": [
    "# 집계함수에서의 축\n",
    "- 2차원에서의 집계합수(sum, mean)\n",
    "- axis = 0, 1\n",
    "- np.sum(넘파이배열, axis=0/1)\n",
    "- np.mean(넘파이배열, axis=0/1)\n",
    "- np.sort(넘파이배열, axis=0/1)"
   ]
  },
  {
   "cell_type": "code",
   "execution_count": 64,
   "id": "bc6577ad",
   "metadata": {
    "ExecuteTime": {
     "end_time": "2023-12-21T12:16:28.175239Z",
     "start_time": "2023-12-21T12:16:28.168109Z"
    }
   },
   "outputs": [
    {
     "data": {
      "text/plain": [
       "array([[32, 30, 45, 42,  3],\n",
       "       [20,  6, 20, 10, 36],\n",
       "       [32, 43,  8, 39, 17],\n",
       "       [42, 48, 25,  7, 44],\n",
       "       [ 1, 17, 42, 21, 36]])"
      ]
     },
     "execution_count": 64,
     "metadata": {},
     "output_type": "execute_result"
    }
   ],
   "source": [
    "m1 = np.random.randint(1, 50, (5,5))\n",
    "m1"
   ]
  },
  {
   "cell_type": "code",
   "execution_count": 65,
   "id": "dd1b8b91",
   "metadata": {
    "ExecuteTime": {
     "end_time": "2023-12-21T12:16:30.684853Z",
     "start_time": "2023-12-21T12:16:30.676938Z"
    }
   },
   "outputs": [
    {
     "data": {
      "text/plain": [
       "array([127, 144, 140, 119, 136])"
      ]
     },
     "execution_count": 65,
     "metadata": {},
     "output_type": "execute_result"
    }
   ],
   "source": [
    "np.sum(m1, axis=0) # 행(x) 합계"
   ]
  },
  {
   "cell_type": "code",
   "execution_count": 66,
   "id": "47f460a6",
   "metadata": {
    "ExecuteTime": {
     "end_time": "2023-12-21T12:16:33.165417Z",
     "start_time": "2023-12-21T12:16:33.158021Z"
    }
   },
   "outputs": [
    {
     "data": {
      "text/plain": [
       "array([152,  92, 139, 166, 117])"
      ]
     },
     "execution_count": 66,
     "metadata": {},
     "output_type": "execute_result"
    }
   ],
   "source": [
    "np.sum(m1, axis=1) # 열(y) 합계"
   ]
  },
  {
   "cell_type": "code",
   "execution_count": 144,
   "id": "f9f1a582",
   "metadata": {
    "ExecuteTime": {
     "end_time": "2023-12-15T06:39:49.489423Z",
     "start_time": "2023-12-15T06:39:49.480499Z"
    }
   },
   "outputs": [
    {
     "data": {
      "text/plain": [
       "153"
      ]
     },
     "execution_count": 144,
     "metadata": {},
     "output_type": "execute_result"
    }
   ],
   "source": [
    "# 1번째행의 합계는\n",
    "np.sum(m1[0,:], axis=0) # x축(행 방향) 합계"
   ]
  },
  {
   "cell_type": "markdown",
   "id": "a770e61e",
   "metadata": {},
   "source": [
    "# np.sort()\n",
    "- sorted: 원본을 바꿈"
   ]
  },
  {
   "cell_type": "code",
   "execution_count": 145,
   "id": "00085f9f",
   "metadata": {
    "ExecuteTime": {
     "end_time": "2023-12-15T06:40:59.718116Z",
     "start_time": "2023-12-15T06:40:59.709825Z"
    }
   },
   "outputs": [
    {
     "data": {
      "text/plain": [
       "array([[33, 45, 36],\n",
       "       [35, 13, 34],\n",
       "       [19, 12, 12],\n",
       "       [33, 42, 37]])"
      ]
     },
     "execution_count": 145,
     "metadata": {},
     "output_type": "execute_result"
    }
   ],
   "source": [
    "# 정수 난수로 구성된 4x3\n",
    "m2 = np.random.randint(1, 50,(4,3))\n",
    "m2"
   ]
  },
  {
   "cell_type": "code",
   "execution_count": 147,
   "id": "4bed0d48",
   "metadata": {
    "ExecuteTime": {
     "end_time": "2023-12-15T06:42:06.604654Z",
     "start_time": "2023-12-15T06:42:06.595711Z"
    }
   },
   "outputs": [
    {
     "data": {
      "text/plain": [
       "array([[33, 36, 45],\n",
       "       [13, 34, 35],\n",
       "       [12, 12, 19],\n",
       "       [33, 37, 42]])"
      ]
     },
     "execution_count": 147,
     "metadata": {},
     "output_type": "execute_result"
    }
   ],
   "source": [
    "np.sort(m2) #행 안에서 열 정렬"
   ]
  },
  {
   "cell_type": "code",
   "execution_count": 146,
   "id": "7d6dfcf6",
   "metadata": {
    "ExecuteTime": {
     "end_time": "2023-12-15T06:41:37.398999Z",
     "start_time": "2023-12-15T06:41:37.385891Z"
    }
   },
   "outputs": [
    {
     "data": {
      "text/plain": [
       "array([[19, 12, 12],\n",
       "       [33, 13, 34],\n",
       "       [33, 42, 36],\n",
       "       [35, 45, 37]])"
      ]
     },
     "execution_count": 146,
     "metadata": {},
     "output_type": "execute_result"
    }
   ],
   "source": [
    "np.sort(m2, axis=0) # 행방향 오름차순(요소별로): 행 방향으로 요소들이 움직일 거야"
   ]
  },
  {
   "cell_type": "code",
   "execution_count": 148,
   "id": "ca364fac",
   "metadata": {
    "ExecuteTime": {
     "end_time": "2023-12-15T06:44:26.995194Z",
     "start_time": "2023-12-15T06:44:26.986637Z"
    }
   },
   "outputs": [
    {
     "data": {
      "text/plain": [
       "array([[33, 42, 37],\n",
       "       [19, 12, 12],\n",
       "       [35, 13, 34],\n",
       "       [33, 45, 36]])"
      ]
     },
     "execution_count": 148,
     "metadata": {},
     "output_type": "execute_result"
    }
   ],
   "source": [
    "m2[::-1, ::] # 행전체가 역순으로 바뀌는 것과는 다르다"
   ]
  },
  {
   "cell_type": "code",
   "execution_count": 149,
   "id": "faf4a47e",
   "metadata": {
    "ExecuteTime": {
     "end_time": "2023-12-15T06:44:36.136289Z",
     "start_time": "2023-12-15T06:44:36.127753Z"
    }
   },
   "outputs": [
    {
     "data": {
      "text/plain": [
       "array([[33, 36, 45],\n",
       "       [13, 34, 35],\n",
       "       [12, 12, 19],\n",
       "       [33, 37, 42]])"
      ]
     },
     "execution_count": 149,
     "metadata": {},
     "output_type": "execute_result"
    }
   ],
   "source": [
    "np.sort(m2, axis=1) # 열방향 오름차순"
   ]
  },
  {
   "cell_type": "markdown",
   "id": "26210fdd",
   "metadata": {},
   "source": [
    "# 인덱스 소팅\n",
    "- np.argsort(넘파이배열, axis=0,1)\n",
    "- 정렬값을 인덱스로 반환 (np.sort()를 인덱스로)"
   ]
  },
  {
   "cell_type": "code",
   "execution_count": 150,
   "id": "09ad4bf3",
   "metadata": {
    "ExecuteTime": {
     "end_time": "2023-12-15T06:47:09.554415Z",
     "start_time": "2023-12-15T06:47:09.539910Z"
    }
   },
   "outputs": [
    {
     "data": {
      "text/plain": [
       "array([2, 1, 0], dtype=int64)"
      ]
     },
     "execution_count": 150,
     "metadata": {},
     "output_type": "execute_result"
    }
   ],
   "source": [
    "x = np.array([9,5,4])\n",
    "np.argsort(x) # 오름차순 정렬 4 5 9 의 인덱스 값 "
   ]
  },
  {
   "cell_type": "code",
   "execution_count": 151,
   "id": "9ac18df1",
   "metadata": {
    "ExecuteTime": {
     "end_time": "2023-12-15T06:47:55.103467Z",
     "start_time": "2023-12-15T06:47:55.094731Z"
    }
   },
   "outputs": [
    {
     "data": {
      "text/plain": [
       "array([4, 5, 9])"
      ]
     },
     "execution_count": 151,
     "metadata": {},
     "output_type": "execute_result"
    }
   ],
   "source": [
    "x[np.argsort(x)] # 인덱스값으로 실제 값 출력"
   ]
  },
  {
   "cell_type": "markdown",
   "id": "8da6e063",
   "metadata": {},
   "source": [
    "# 넘파이 배열 요소 추가와 삭제\n",
    "- 삽입\n",
    "    - np.insert(배열, 위치인덱스, 값, axis=0/1)\n",
    "    - 2차원인 경우 axis를 설정하지 않으면 1차원 배열로 변경되어 삽입출력\n",
    "- 삭제\n",
    "    - np.delete(배열명, 위치인덱스, axis=0/1)"
   ]
  },
  {
   "cell_type": "code",
   "execution_count": 67,
   "id": "f6cb58e3",
   "metadata": {
    "ExecuteTime": {
     "end_time": "2023-12-21T12:38:12.973605Z",
     "start_time": "2023-12-21T12:38:12.965886Z"
    }
   },
   "outputs": [
    {
     "data": {
      "text/plain": [
       "array([ 1,  2,  3,  4,  5,  6,  7,  8,  9, 10])"
      ]
     },
     "execution_count": 67,
     "metadata": {},
     "output_type": "execute_result"
    }
   ],
   "source": [
    "m3 = np.arange(1,11)\n",
    "m3"
   ]
  },
  {
   "cell_type": "code",
   "execution_count": 69,
   "id": "54153f2c",
   "metadata": {
    "ExecuteTime": {
     "end_time": "2023-12-21T12:38:20.262282Z",
     "start_time": "2023-12-21T12:38:20.254608Z"
    }
   },
   "outputs": [
    {
     "data": {
      "text/plain": [
       "array([100,   1,   2,   3,   4,   5,   6,   7,   8,   9,  10])"
      ]
     },
     "execution_count": 69,
     "metadata": {},
     "output_type": "execute_result"
    }
   ],
   "source": [
    "#m3의 0번째에 100을 넣기\n",
    "np.insert(m3, 0, 100)"
   ]
  },
  {
   "cell_type": "code",
   "execution_count": 70,
   "id": "46d7c534",
   "metadata": {
    "ExecuteTime": {
     "end_time": "2023-12-21T12:38:23.975494Z",
     "start_time": "2023-12-21T12:38:23.968003Z"
    }
   },
   "outputs": [
    {
     "data": {
      "text/plain": [
       "10"
      ]
     },
     "execution_count": 70,
     "metadata": {},
     "output_type": "execute_result"
    }
   ],
   "source": [
    "m3[-1]"
   ]
  },
  {
   "cell_type": "code",
   "execution_count": 6,
   "id": "aa866bce",
   "metadata": {
    "ExecuteTime": {
     "end_time": "2023-12-18T04:24:49.450019Z",
     "start_time": "2023-12-18T04:24:49.441050Z"
    }
   },
   "outputs": [],
   "source": [
    "np.insert?"
   ]
  },
  {
   "cell_type": "code",
   "execution_count": 71,
   "id": "73ad9cd2",
   "metadata": {
    "ExecuteTime": {
     "end_time": "2023-12-21T12:38:26.849252Z",
     "start_time": "2023-12-21T12:38:26.842146Z"
    }
   },
   "outputs": [
    {
     "data": {
      "text/plain": [
       "array([  1,   2,   3,   4,   5,   6,   7,   8,   9, 500,  10])"
      ]
     },
     "execution_count": 71,
     "metadata": {},
     "output_type": "execute_result"
    }
   ],
   "source": [
    "np.insert(m3, -1, 500)  # 인덱싱/슬라이싱 end처럼 인식"
   ]
  },
  {
   "cell_type": "code",
   "execution_count": 72,
   "id": "54a213fe",
   "metadata": {
    "ExecuteTime": {
     "end_time": "2023-12-21T12:38:59.998336Z",
     "start_time": "2023-12-21T12:38:59.989293Z"
    }
   },
   "outputs": [
    {
     "data": {
      "text/plain": [
       "array([  1,   2,   3,   4,   5,   6,   7,   8,   9,  10, 500])"
      ]
     },
     "execution_count": 72,
     "metadata": {},
     "output_type": "execute_result"
    }
   ],
   "source": [
    "np.insert(m3, len(m3), 500) "
   ]
  },
  {
   "cell_type": "code",
   "execution_count": 76,
   "id": "f26ed14e",
   "metadata": {
    "ExecuteTime": {
     "end_time": "2023-12-21T12:50:57.004387Z",
     "start_time": "2023-12-21T12:50:56.996365Z"
    }
   },
   "outputs": [
    {
     "data": {
      "text/plain": [
       "array([[1, 2, 3],\n",
       "       [4, 5, 6],\n",
       "       [7, 8, 9]])"
      ]
     },
     "execution_count": 76,
     "metadata": {},
     "output_type": "execute_result"
    }
   ],
   "source": [
    "m4 = np.arange(1,10).reshape(3,3)\n",
    "m4"
   ]
  },
  {
   "cell_type": "code",
   "execution_count": 77,
   "id": "2dfdebd1",
   "metadata": {
    "ExecuteTime": {
     "end_time": "2023-12-21T12:50:59.009820Z",
     "start_time": "2023-12-21T12:50:59.001810Z"
    }
   },
   "outputs": [
    {
     "data": {
      "text/plain": [
       "array([100,   1,   2,   3,   4,   5,   6,   7,   8,   9])"
      ]
     },
     "execution_count": 77,
     "metadata": {},
     "output_type": "execute_result"
    }
   ],
   "source": [
    "np.insert(m4, 0, 100) # 2차원배열의 경우 axis 미설정시 1차원으로 변경되어 삽입"
   ]
  },
  {
   "cell_type": "code",
   "execution_count": 78,
   "id": "3e892455",
   "metadata": {
    "ExecuteTime": {
     "end_time": "2023-12-21T12:51:00.866895Z",
     "start_time": "2023-12-21T12:51:00.859267Z"
    }
   },
   "outputs": [
    {
     "data": {
      "text/plain": [
       "array([[100,   1,   2,   3],\n",
       "       [100,   4,   5,   6],\n",
       "       [100,   7,   8,   9]])"
      ]
     },
     "execution_count": 78,
     "metadata": {},
     "output_type": "execute_result"
    }
   ],
   "source": [
    "# 1열으로 [100,100,100] 삽입\n",
    "# m4의 0번째에 100을 삽입. 열방향의\n",
    "np.insert(m4, 0, 100, axis=1)"
   ]
  },
  {
   "cell_type": "code",
   "execution_count": 79,
   "id": "09ba4fec",
   "metadata": {
    "ExecuteTime": {
     "end_time": "2023-12-21T12:51:02.756109Z",
     "start_time": "2023-12-21T12:51:02.748478Z"
    }
   },
   "outputs": [
    {
     "data": {
      "text/plain": [
       "array([[100,   1,   2,   3],\n",
       "       [200,   4,   5,   6],\n",
       "       [300,   7,   8,   9]])"
      ]
     },
     "execution_count": 79,
     "metadata": {},
     "output_type": "execute_result"
    }
   ],
   "source": [
    "# 리스트로 삽입\n",
    "np.insert(m4, 0, [100,200,300], axis=1)"
   ]
  },
  {
   "cell_type": "code",
   "execution_count": 81,
   "id": "0c132b74",
   "metadata": {
    "ExecuteTime": {
     "end_time": "2023-12-21T12:51:13.895305Z",
     "start_time": "2023-12-21T12:51:13.888164Z"
    }
   },
   "outputs": [
    {
     "data": {
      "text/plain": [
       "((3, 3), 3, 3)"
      ]
     },
     "execution_count": 81,
     "metadata": {},
     "output_type": "execute_result"
    }
   ],
   "source": [
    "m4.shape, m4.shape[1], len(m4)"
   ]
  },
  {
   "cell_type": "code",
   "execution_count": 14,
   "id": "8eb7896d",
   "metadata": {
    "ExecuteTime": {
     "end_time": "2023-12-18T04:26:18.063245Z",
     "start_time": "2023-12-18T04:26:18.055049Z"
    }
   },
   "outputs": [
    {
     "data": {
      "text/plain": [
       "array([[  1,   2,   3, 100],\n",
       "       [  4,   5,   6, 200],\n",
       "       [  7,   8,   9, 300]])"
      ]
     },
     "execution_count": 14,
     "metadata": {},
     "output_type": "execute_result"
    }
   ],
   "source": [
    "# 마지막 컬럼으로 삽입\n",
    "# 배열명.shape[1] 칼럼 길이 = 끝에\n",
    "np.insert(m4, m4.shape[1], [100,200,300], axis=1)"
   ]
  },
  {
   "cell_type": "code",
   "execution_count": 15,
   "id": "731a79c6",
   "metadata": {
    "ExecuteTime": {
     "end_time": "2023-12-18T04:26:25.668357Z",
     "start_time": "2023-12-18T04:26:25.659261Z"
    }
   },
   "outputs": [
    {
     "data": {
      "text/plain": [
       "array([[  1,   2,   3],\n",
       "       [  4,   5,   6],\n",
       "       [  7,   8,   9],\n",
       "       [100, 200, 300]])"
      ]
     },
     "execution_count": 15,
     "metadata": {},
     "output_type": "execute_result"
    }
   ],
   "source": [
    "# 마지막 행에 삽입\n",
    "np.insert(m4, m4.shape[0], [100,200,300], axis=0)"
   ]
  },
  {
   "cell_type": "code",
   "execution_count": 16,
   "id": "40bf12e2",
   "metadata": {
    "ExecuteTime": {
     "end_time": "2023-12-18T04:27:25.558581Z",
     "start_time": "2023-12-18T04:27:25.547836Z"
    }
   },
   "outputs": [
    {
     "data": {
      "text/plain": [
       "array([[4, 5, 6],\n",
       "       [7, 8, 9]])"
      ]
     },
     "execution_count": 16,
     "metadata": {},
     "output_type": "execute_result"
    }
   ],
   "source": [
    "np.delete(m4, 0, axis=0)"
   ]
  },
  {
   "cell_type": "markdown",
   "id": "fcfb2664",
   "metadata": {},
   "source": [
    "# 배열 합치기\n",
    "- np.vstack((배열1,배열2....)) : 세로 합치기\n",
    "- np.hstack((배열1,배열2....)) : 가로 합치기\n",
    "- np.concatenate((배열1, 배열2), axis=0/1 ) 2차원만 가능\n",
    "## np.vstack"
   ]
  },
  {
   "cell_type": "code",
   "execution_count": 17,
   "id": "da1bff9f",
   "metadata": {
    "ExecuteTime": {
     "end_time": "2023-12-18T04:27:43.177762Z",
     "start_time": "2023-12-18T04:27:43.169406Z"
    }
   },
   "outputs": [
    {
     "data": {
      "text/plain": [
       "array([[1, 2, 3],\n",
       "       [4, 5, 6]])"
      ]
     },
     "execution_count": 17,
     "metadata": {},
     "output_type": "execute_result"
    }
   ],
   "source": [
    "a = np.array([1,2,3])\n",
    "b = np.array([4,5,6])\n",
    "np.vstack((a,b))"
   ]
  },
  {
   "cell_type": "markdown",
   "id": "0d5185c9",
   "metadata": {},
   "source": [
    "## np.hstack"
   ]
  },
  {
   "cell_type": "code",
   "execution_count": 18,
   "id": "101a1780",
   "metadata": {
    "ExecuteTime": {
     "end_time": "2023-12-18T04:27:48.228142Z",
     "start_time": "2023-12-18T04:27:48.219372Z"
    }
   },
   "outputs": [
    {
     "data": {
      "text/plain": [
       "array([1, 2, 3, 4, 5, 6])"
      ]
     },
     "execution_count": 18,
     "metadata": {},
     "output_type": "execute_result"
    }
   ],
   "source": [
    "np.hstack((a,b))"
   ]
  },
  {
   "cell_type": "code",
   "execution_count": 19,
   "id": "3fa2e3ca",
   "metadata": {
    "ExecuteTime": {
     "end_time": "2023-12-18T04:27:53.028482Z",
     "start_time": "2023-12-18T04:27:53.019460Z"
    }
   },
   "outputs": [
    {
     "data": {
      "text/plain": [
       "(array([[1, 2, 3]]), 2, (1, 3))"
      ]
     },
     "execution_count": 19,
     "metadata": {},
     "output_type": "execute_result"
    }
   ],
   "source": [
    "c = np.array([[1,2,3]]) # 2차원\n",
    "c, c.ndim, c.shape"
   ]
  },
  {
   "cell_type": "code",
   "execution_count": 20,
   "id": "d9cb43bf",
   "metadata": {
    "ExecuteTime": {
     "end_time": "2023-12-18T04:27:57.515647Z",
     "start_time": "2023-12-18T04:27:57.507420Z"
    }
   },
   "outputs": [
    {
     "data": {
      "text/plain": [
       "(array([[4, 5, 6]]), 2, (1, 3))"
      ]
     },
     "execution_count": 20,
     "metadata": {},
     "output_type": "execute_result"
    }
   ],
   "source": [
    "d = np.array([[4,5,6]]) # 2차원\n",
    "d, d.ndim, d.shape"
   ]
  },
  {
   "cell_type": "markdown",
   "id": "fef855dd",
   "metadata": {},
   "source": [
    "## np.concatenate: 2차원만 가능"
   ]
  },
  {
   "cell_type": "code",
   "execution_count": 21,
   "id": "57746dba",
   "metadata": {
    "ExecuteTime": {
     "end_time": "2023-12-18T04:28:05.195478Z",
     "start_time": "2023-12-18T04:28:05.186449Z"
    }
   },
   "outputs": [
    {
     "data": {
      "text/plain": [
       "(array([[1, 2, 3],\n",
       "        [4, 5, 6]]),\n",
       " 2,\n",
       " (2, 3))"
      ]
     },
     "execution_count": 21,
     "metadata": {},
     "output_type": "execute_result"
    }
   ],
   "source": [
    "f = np.concatenate((c,d), axis=0)\n",
    "f, f.ndim, f.shape"
   ]
  },
  {
   "cell_type": "code",
   "execution_count": 22,
   "id": "ffd7957c",
   "metadata": {
    "ExecuteTime": {
     "end_time": "2023-12-18T04:28:10.172973Z",
     "start_time": "2023-12-18T04:28:10.164247Z"
    }
   },
   "outputs": [
    {
     "data": {
      "text/plain": [
       "(array([[1, 2, 3, 4, 5, 6]]), 2, (1, 6))"
      ]
     },
     "execution_count": 22,
     "metadata": {},
     "output_type": "execute_result"
    }
   ],
   "source": [
    "f = np.concatenate((c,d), axis=1) #\n",
    "f, f.ndim, f.shape"
   ]
  },
  {
   "cell_type": "markdown",
   "id": "c8a29056",
   "metadata": {},
   "source": [
    "# boolean indexing, mask\n",
    "- 조건절의 결과는 True, False로 반환\n",
    "- True인 결과의 데이터 반환\n",
    "- 넘파이배열[조건절] : ==, !=, <=, >=, &, |, ~"
   ]
  },
  {
   "cell_type": "code",
   "execution_count": 23,
   "id": "1efc6f72",
   "metadata": {
    "ExecuteTime": {
     "end_time": "2023-12-18T04:32:42.013808Z",
     "start_time": "2023-12-18T04:32:42.005313Z"
    }
   },
   "outputs": [
    {
     "data": {
      "text/plain": [
       "array([ 1,  2,  3,  4,  5,  6,  7,  8,  9, 10, 11, 12, 13, 14, 15, 16, 17,\n",
       "       18, 19, 20])"
      ]
     },
     "execution_count": 23,
     "metadata": {},
     "output_type": "execute_result"
    }
   ],
   "source": [
    "matrix = np.arange(1, 21)\n",
    "matrix"
   ]
  },
  {
   "cell_type": "code",
   "execution_count": 24,
   "id": "6b458341",
   "metadata": {
    "ExecuteTime": {
     "end_time": "2023-12-18T04:32:54.868422Z",
     "start_time": "2023-12-18T04:32:54.861559Z"
    }
   },
   "outputs": [
    {
     "data": {
      "text/plain": [
       "array([False, False, False, False, False, False, False, False, False,\n",
       "       False,  True,  True,  True,  True,  True,  True,  True,  True,\n",
       "        True,  True])"
      ]
     },
     "execution_count": 24,
     "metadata": {},
     "output_type": "execute_result"
    }
   ],
   "source": [
    "matrix > 10"
   ]
  },
  {
   "cell_type": "code",
   "execution_count": 25,
   "id": "880addbd",
   "metadata": {
    "ExecuteTime": {
     "end_time": "2023-12-18T04:33:16.314473Z",
     "start_time": "2023-12-18T04:33:16.307125Z"
    }
   },
   "outputs": [
    {
     "data": {
      "text/plain": [
       "array([11, 12, 13, 14, 15, 16, 17, 18, 19, 20])"
      ]
     },
     "execution_count": 25,
     "metadata": {},
     "output_type": "execute_result"
    }
   ],
   "source": [
    "matrix[matrix > 10]"
   ]
  },
  {
   "cell_type": "code",
   "execution_count": 26,
   "id": "787023e1",
   "metadata": {
    "ExecuteTime": {
     "end_time": "2023-12-18T04:34:31.378325Z",
     "start_time": "2023-12-18T04:34:31.368656Z"
    }
   },
   "outputs": [
    {
     "data": {
      "text/plain": [
       "10"
      ]
     },
     "execution_count": 26,
     "metadata": {},
     "output_type": "execute_result"
    }
   ],
   "source": [
    "(matrix > 10).sum() \n",
    "#True=1, False=0이라서 길이에 sum을 많이 씀"
   ]
  },
  {
   "cell_type": "markdown",
   "id": "7e34e166",
   "metadata": {},
   "source": [
    "## Quiz : 1~100사이 난수 30개를 추출하여 넘파이 배열을 생성하고, 30보다 크거나 70보다 작은 수를 출력하라"
   ]
  },
  {
   "cell_type": "code",
   "execution_count": 27,
   "id": "c8d60821",
   "metadata": {
    "ExecuteTime": {
     "end_time": "2023-12-18T04:41:05.486328Z",
     "start_time": "2023-12-18T04:41:05.476445Z"
    }
   },
   "outputs": [
    {
     "data": {
      "text/plain": [
       "array([False, False,  True, False, False,  True, False,  True,  True,\n",
       "        True,  True,  True, False, False, False,  True,  True, False,\n",
       "        True,  True, False, False, False,  True,  True, False, False,\n",
       "       False, False,  True])"
      ]
     },
     "execution_count": 27,
     "metadata": {},
     "output_type": "execute_result"
    }
   ],
   "source": [
    "num = np.random.randint(1,100,30)\n",
    "(num > 30) & (num < 70)"
   ]
  },
  {
   "cell_type": "code",
   "execution_count": 28,
   "id": "75acc602",
   "metadata": {
    "ExecuteTime": {
     "end_time": "2023-12-18T04:41:50.061282Z",
     "start_time": "2023-12-18T04:41:50.052086Z"
    },
    "scrolled": true
   },
   "outputs": [
    {
     "data": {
      "text/plain": [
       "(array([55, 84, 70, 69, 95, 88, 60, 15, 34,  2, 57, 78,  2, 10, 82,  2, 19,\n",
       "        70, 92,  6, 18, 40, 86, 39, 84, 35, 27, 52, 64,  1]),\n",
       " array([55, 69, 60, 34, 57, 40, 39, 35, 52, 64]))"
      ]
     },
     "execution_count": 28,
     "metadata": {},
     "output_type": "execute_result"
    }
   ],
   "source": [
    "num = np.random.randint(1,100,30)\n",
    "num, num[(num > 30) & (num < 70)]"
   ]
  },
  {
   "cell_type": "code",
   "execution_count": 29,
   "id": "33c221b5",
   "metadata": {
    "ExecuteTime": {
     "end_time": "2023-12-18T04:41:59.277550Z",
     "start_time": "2023-12-18T04:41:59.270717Z"
    }
   },
   "outputs": [
    {
     "data": {
      "text/plain": [
       "array([15,  2,  2, 10,  2, 19,  6, 18, 27,  1])"
      ]
     },
     "execution_count": 29,
     "metadata": {},
     "output_type": "execute_result"
    }
   ],
   "source": [
    "# ~ 은 reverse를 의미\n",
    "num[~(num > 30) & (num < 70)]"
   ]
  },
  {
   "cell_type": "code",
   "execution_count": 30,
   "id": "db464db6",
   "metadata": {
    "ExecuteTime": {
     "end_time": "2023-12-18T04:42:11.226248Z",
     "start_time": "2023-12-18T04:42:11.218396Z"
    }
   },
   "outputs": [
    {
     "data": {
      "text/plain": [
       "array([95,  2,  2,  2, 92,  6,  1])"
      ]
     },
     "execution_count": 30,
     "metadata": {},
     "output_type": "execute_result"
    }
   ],
   "source": [
    "# 10보다 작거나 90보다 큰 수,\n",
    "num[(num < 10) | (num > 90)]"
   ]
  },
  {
   "cell_type": "code",
   "execution_count": 31,
   "id": "64c0f26b",
   "metadata": {
    "ExecuteTime": {
     "end_time": "2023-12-18T04:42:15.148130Z",
     "start_time": "2023-12-18T04:42:15.140954Z"
    }
   },
   "outputs": [
    {
     "data": {
      "text/plain": [
       "array([55, 84, 70, 69, 95, 88, 60, 15, 34, 57, 78, 10, 82, 19, 70, 92, 18,\n",
       "       40, 86, 39, 84, 35, 27, 52, 64])"
      ]
     },
     "execution_count": 31,
     "metadata": {},
     "output_type": "execute_result"
    }
   ],
   "source": [
    " num[~(num < 10) | (num > 90)]"
   ]
  },
  {
   "cell_type": "markdown",
   "id": "957a8758",
   "metadata": {},
   "source": [
    "# fancy indexing(filtering)\n",
    "넘파이 배열에 배열로 인덱싱하면 인덱스 번호로 인식한다.\n",
    "\n",
    "- 넘파이배열1[넘파이배열2]\n",
    "- 넘파이배열2 : 인덱스 역할 (only 정수형)"
   ]
  },
  {
   "cell_type": "code",
   "execution_count": 32,
   "id": "967e0ba9",
   "metadata": {
    "ExecuteTime": {
     "end_time": "2023-12-18T04:42:36.547202Z",
     "start_time": "2023-12-18T04:42:36.537260Z"
    }
   },
   "outputs": [
    {
     "data": {
      "text/plain": [
       "(array([10, 32,  3, 65, 58, 84,  2, 13, 44,  3, 81, 80, 77, 38, 56, 68, 76,\n",
       "        53, 65, 90, 61, 70, 32, 89,  1, 91, 93,  6, 90, 36]),\n",
       " array([10,  3, 65, 81, 61]))"
      ]
     },
     "execution_count": 32,
     "metadata": {},
     "output_type": "execute_result"
    }
   ],
   "source": [
    "n = np.random.randint(1,100,30)\n",
    "i = np.array([0, 2, 3, 10, 20])\n",
    "n, n[i] #i의 숫자가 인덱싱 역할을 함"
   ]
  },
  {
   "cell_type": "markdown",
   "id": "81318076",
   "metadata": {},
   "source": [
    "# np.where()를 이용한 필터링\n",
    "- np.where(조건식) : 조건식 만족하는 인덱스 반환\n",
    "- np.where(조건식, T, F) : 조건식 만족하면 T값, 아니면F값\n",
    "- 배열[np.where(조건식)] : 조건식 만족하는 실제 배열값"
   ]
  },
  {
   "cell_type": "code",
   "execution_count": 33,
   "id": "a9bfa31a",
   "metadata": {
    "ExecuteTime": {
     "end_time": "2023-12-18T04:45:07.730212Z",
     "start_time": "2023-12-18T04:45:07.723566Z"
    }
   },
   "outputs": [],
   "source": [
    "np.where?"
   ]
  },
  {
   "cell_type": "code",
   "execution_count": 34,
   "id": "f32e1787",
   "metadata": {
    "ExecuteTime": {
     "end_time": "2023-12-18T04:45:13.674945Z",
     "start_time": "2023-12-18T04:45:13.664413Z"
    }
   },
   "outputs": [
    {
     "data": {
      "text/plain": [
       "(array([0, 1, 2, 3, 4, 5, 6, 7, 8, 9]),\n",
       " array([ 0,  1,  2,  3,  4, 50, 60, 70, 80, 90]))"
      ]
     },
     "execution_count": 34,
     "metadata": {},
     "output_type": "execute_result"
    }
   ],
   "source": [
    "a = np.arange(10)\n",
    "a, np.where(a < 5, a, 10*a)\n",
    "# a가 5보다 작으면 a를, 아니면 10을 곱하여 출력"
   ]
  },
  {
   "cell_type": "code",
   "execution_count": 35,
   "id": "2cfd513e",
   "metadata": {
    "ExecuteTime": {
     "end_time": "2023-12-18T04:45:17.156873Z",
     "start_time": "2023-12-18T04:45:17.149006Z"
    }
   },
   "outputs": [
    {
     "data": {
      "text/plain": [
       "(array([20, 21, 22, 23, 24, 25, 26, 27, 28, 29, 30]),\n",
       " (array([0, 1, 2, 3, 4], dtype=int64),))"
      ]
     },
     "execution_count": 35,
     "metadata": {},
     "output_type": "execute_result"
    }
   ],
   "source": [
    "b = np.arange(20, 31)\n",
    "b, np.where(b<25) # 조건을 하나만 주면 인덱스를 반환함"
   ]
  },
  {
   "cell_type": "code",
   "execution_count": null,
   "id": "19a9e7ec",
   "metadata": {},
   "outputs": [],
   "source": []
  }
 ],
 "metadata": {
  "kernelspec": {
   "display_name": "Python 3 (ipykernel)",
   "language": "python",
   "name": "python3"
  },
  "language_info": {
   "codemirror_mode": {
    "name": "ipython",
    "version": 3
   },
   "file_extension": ".py",
   "mimetype": "text/x-python",
   "name": "python",
   "nbconvert_exporter": "python",
   "pygments_lexer": "ipython3",
   "version": "3.11.5"
  },
  "toc": {
   "base_numbering": 1,
   "nav_menu": {},
   "number_sections": true,
   "sideBar": true,
   "skip_h1_title": false,
   "title_cell": "Table of Contents",
   "title_sidebar": "Contents",
   "toc_cell": false,
   "toc_position": {},
   "toc_section_display": true,
   "toc_window_display": false
  }
 },
 "nbformat": 4,
 "nbformat_minor": 5
}
