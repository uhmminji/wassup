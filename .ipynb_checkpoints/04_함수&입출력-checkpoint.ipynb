{
 "cells": [
  {
   "cell_type": "markdown",
   "id": "496a47c6",
   "metadata": {
    "ExecuteTime": {
     "end_time": "2023-12-04T04:44:14.221008Z",
     "start_time": "2023-12-04T04:44:14.105350Z"
    }
   },
   "source": [
    "# 함수\n",
    "## 파이썬 함수의 구조"
   ]
  },
  {
   "cell_type": "code",
   "execution_count": null,
   "id": "fe637d45",
   "metadata": {},
   "outputs": [],
   "source": [
    "def 함수_이름(매개변수):\n",
    "    수행할_문장1\n",
    "    수행할_문장2\n",
    "    ..."
   ]
  },
  {
   "cell_type": "markdown",
   "id": "ccde5f0b",
   "metadata": {},
   "source": [
    "- def: 함수를 만들 때 사용하는 예약어\n",
    "- 함수 이름: 임의로 만들 수 있음\n",
    "- 매개변수: 이 함수에 입력으로 전달되는 값을 받는 변수"
   ]
  },
  {
   "cell_type": "code",
   "execution_count": 7,
   "id": "5ad6ef3f",
   "metadata": {
    "ExecuteTime": {
     "end_time": "2023-12-04T05:34:57.904921Z",
     "start_time": "2023-12-04T05:34:57.894170Z"
    },
    "scrolled": true
   },
   "outputs": [
    {
     "name": "stdout",
     "output_type": "stream",
     "text": [
      "7\n"
     ]
    }
   ],
   "source": [
    "def add(a, b): \n",
    "    return a + b\n",
    "\n",
    "a = 3\n",
    "b = 4\n",
    "c = add(a, b)\n",
    "print(c)"
   ]
  },
  {
   "cell_type": "markdown",
   "id": "bda18ec2",
   "metadata": {},
   "source": [
    "## 매개변수와 인수\n",
    "- 매개변수: 함수에 입력으로 전달된 값을 받는 변수\n",
    "- 인수: 함수를 호출할 때 전달하는 입력값"
   ]
  },
  {
   "cell_type": "code",
   "execution_count": null,
   "id": "f3077619",
   "metadata": {},
   "outputs": [],
   "source": [
    "def add(a, b):  # a, b는 매개변수\n",
    "    return a + b\n",
    "\n",
    "print(add(3, 4))  # 3, 4는 인수"
   ]
  },
  {
   "cell_type": "markdown",
   "id": "19165905",
   "metadata": {},
   "source": [
    "## 입력값과 리턴값에 따른 함수의 4가지 형태\n",
    "### 일반적인 함수: 매개변수 O, return O\n",
    "- 리턴값을 받을 변수 = 함수이름(입력인수1, 입력인수2, ...)"
   ]
  },
  {
   "cell_type": "code",
   "execution_count": null,
   "id": "728a9917",
   "metadata": {},
   "outputs": [],
   "source": [
    "def 함수_이름(매개변수):\n",
    "    수행할_문장\n",
    "    ...\n",
    "    return 리턴값"
   ]
  },
  {
   "cell_type": "code",
   "execution_count": 10,
   "id": "57c311c5",
   "metadata": {
    "ExecuteTime": {
     "end_time": "2023-12-04T05:55:54.473543Z",
     "start_time": "2023-12-04T05:55:54.465669Z"
    }
   },
   "outputs": [
    {
     "name": "stdout",
     "output_type": "stream",
     "text": [
      "7\n"
     ]
    }
   ],
   "source": [
    "def add(a, b):\n",
    "    result = a + b\n",
    "    return result\n",
    "    \n",
    "a = add(3, 4)\n",
    "print(a)"
   ]
  },
  {
   "cell_type": "markdown",
   "id": "7403bc14",
   "metadata": {},
   "source": [
    "### 입력값이 없는 함수:  매개변수 X, return O\n",
    "- 리턴값을 받을 변수 = 함수 이름()"
   ]
  },
  {
   "cell_type": "code",
   "execution_count": 11,
   "id": "c702b40e",
   "metadata": {
    "ExecuteTime": {
     "end_time": "2023-12-04T06:05:19.239584Z",
     "start_time": "2023-12-04T06:05:19.231482Z"
    }
   },
   "outputs": [
    {
     "name": "stdout",
     "output_type": "stream",
     "text": [
      "Hi\n"
     ]
    }
   ],
   "source": [
    "def say():\n",
    "    return 'Hi'\n",
    "\n",
    "a = say()\n",
    "print(a)"
   ]
  },
  {
   "cell_type": "markdown",
   "id": "3a543296",
   "metadata": {},
   "source": [
    "### 리턴값이 없는 함수:  매개변수 O, return X\n",
    "- 함수이름(입력인수1, 입력인수2, ...)"
   ]
  },
  {
   "cell_type": "code",
   "execution_count": 15,
   "id": "a0cf1cac",
   "metadata": {
    "ExecuteTime": {
     "end_time": "2023-12-04T06:15:27.639327Z",
     "start_time": "2023-12-04T06:15:27.620117Z"
    }
   },
   "outputs": [
    {
     "name": "stdout",
     "output_type": "stream",
     "text": [
      "3, 4의 합은 7입니다.\n",
      "None\n"
     ]
    }
   ],
   "source": [
    "def add(a, b):\n",
    "    print('%d, %d의 합은 %d입니다.' %(a, b, a+b))\n",
    "          \n",
    "a = add(3, 4)\n",
    "print(a) #return이 없어서"
   ]
  },
  {
   "cell_type": "markdown",
   "id": "e2a20fbb",
   "metadata": {},
   "source": [
    "### 입력값도, 리턴값도 없는 함수:  매개변수 X, return X\n",
    "- 함수이름()"
   ]
  },
  {
   "cell_type": "code",
   "execution_count": 16,
   "id": "18e489b8",
   "metadata": {
    "ExecuteTime": {
     "end_time": "2023-12-04T06:17:35.310430Z",
     "start_time": "2023-12-04T06:17:35.302967Z"
    }
   },
   "outputs": [
    {
     "name": "stdout",
     "output_type": "stream",
     "text": [
      "Hi\n"
     ]
    }
   ],
   "source": [
    "def say():\n",
    "    print('Hi')\n",
    "    \n",
    "say()"
   ]
  },
  {
   "cell_type": "markdown",
   "id": "ccb1e821",
   "metadata": {},
   "source": [
    "## 매개변수를 지정하여 호출하기\n",
    "- 장점: 순서 상관 없이 사용 가능"
   ]
  },
  {
   "cell_type": "code",
   "execution_count": 17,
   "id": "d3a91a9c",
   "metadata": {
    "ExecuteTime": {
     "end_time": "2023-12-04T06:25:48.396285Z",
     "start_time": "2023-12-04T06:25:48.390273Z"
    },
    "scrolled": true
   },
   "outputs": [
    {
     "name": "stdout",
     "output_type": "stream",
     "text": [
      "4\n"
     ]
    }
   ],
   "source": [
    "def sub(a, b):\n",
    "    return a - b\n",
    "\n",
    "result = sub(a=7, b=3)\n",
    "print(result)"
   ]
  },
  {
   "cell_type": "code",
   "execution_count": 18,
   "id": "58c30bb1",
   "metadata": {
    "ExecuteTime": {
     "end_time": "2023-12-04T06:27:37.490567Z",
     "start_time": "2023-12-04T06:27:37.484894Z"
    }
   },
   "outputs": [
    {
     "name": "stdout",
     "output_type": "stream",
     "text": [
      "-2\n"
     ]
    }
   ],
   "source": [
    "result = sub(b=5, a=3)\n",
    "print(result)"
   ]
  },
  {
   "cell_type": "markdown",
   "id": "100a4d9d",
   "metadata": {},
   "source": [
    "## 입력값이 몇 개가 될지 모를 때"
   ]
  },
  {
   "cell_type": "code",
   "execution_count": null,
   "id": "8f319b86",
   "metadata": {},
   "outputs": [],
   "source": [
    "def 함수_이름(*매개변수):\n",
    "    수행할_문장"
   ]
  },
  {
   "cell_type": "markdown",
   "id": "df723d3a",
   "metadata": {},
   "source": [
    "### 여러 개의 입력값을 받는 함수 만들기: (* 매개변수)"
   ]
  },
  {
   "cell_type": "code",
   "execution_count": 20,
   "id": "ffb58cd5",
   "metadata": {
    "ExecuteTime": {
     "end_time": "2023-12-04T08:24:07.847069Z",
     "start_time": "2023-12-04T08:24:07.834905Z"
    }
   },
   "outputs": [
    {
     "name": "stdout",
     "output_type": "stream",
     "text": [
      "6\n",
      "55\n"
     ]
    }
   ],
   "source": [
    "def add_many(*args): #*: 매개 변수를 투플로 만듦/args: 이름 상관 x\n",
    "    result = 0\n",
    "    for i in args: #args에서 하나씩 빼서 i에 입력\n",
    "        result = result + i # *args에 입력받은 모든 값을 더한다.\n",
    "    return result\n",
    "\n",
    "print(add_many(1, 2, 3))\n",
    "\n",
    "print(add_many(1,2,3,4,5,6,7,8,9,10))"
   ]
  },
  {
   "cell_type": "markdown",
   "id": "a8c0596a",
   "metadata": {},
   "source": [
    "#### (choice, * 매개변수-튜플)"
   ]
  },
  {
   "cell_type": "code",
   "execution_count": 28,
   "id": "59cc8333",
   "metadata": {
    "ExecuteTime": {
     "end_time": "2023-12-05T04:46:44.378147Z",
     "start_time": "2023-12-05T04:46:44.370738Z"
    }
   },
   "outputs": [],
   "source": [
    "def add_mul(choice, *args):\n",
    "    if choice == 'add': # 매개변수 choice에 \"add\"를 입력받았을 때\n",
    "        result = 0\n",
    "        for i in args:\n",
    "            result = result + i\n",
    "    elif choice == 'mul': # 매개변수 choice에 \"mul\"을 입력받았을 때\n",
    "        result = 1\n",
    "        for i in args:\n",
    "            result = result * i\n",
    "    return result"
   ]
  },
  {
   "cell_type": "code",
   "execution_count": 29,
   "id": "ed2bb697",
   "metadata": {
    "ExecuteTime": {
     "end_time": "2023-12-05T04:46:46.262382Z",
     "start_time": "2023-12-05T04:46:46.256131Z"
    }
   },
   "outputs": [
    {
     "name": "stdout",
     "output_type": "stream",
     "text": [
      "15\n",
      "120\n"
     ]
    }
   ],
   "source": [
    "result = add_mul('add', 1, 2, 3, 4, 5)\n",
    "print(result)\n",
    "\n",
    "result = add_mul('mul', 1,2,3,4,5)\n",
    "print(result)"
   ]
  },
  {
   "cell_type": "markdown",
   "id": "bc230c39",
   "metadata": {},
   "source": [
    "### 키워드 매개변수: (** kwargs)\n",
    "- 딕셔너리로 만듦\n",
    "- key = value"
   ]
  },
  {
   "cell_type": "code",
   "execution_count": 32,
   "id": "15d560b5",
   "metadata": {
    "ExecuteTime": {
     "end_time": "2023-12-05T05:07:02.881668Z",
     "start_time": "2023-12-05T05:07:02.872710Z"
    },
    "scrolled": true
   },
   "outputs": [
    {
     "name": "stdout",
     "output_type": "stream",
     "text": [
      "{'a': 1}\n",
      "{'name': 'foo', 'age': 3}\n"
     ]
    }
   ],
   "source": [
    "def print_kwargs(**kwargs):\n",
    "    print(kwargs)\n",
    "\n",
    "print_kwargs(a=1) #딕셔너리가 됨\n",
    "print_kwargs(name='foo', age=3)"
   ]
  },
  {
   "cell_type": "markdown",
   "id": "ca757bb6",
   "metadata": {},
   "source": [
    "## 함수의 리턴값은 언제나 하나\n",
    "- return a+b, a * b: 튜플로 리턴됨\n",
    "- return 2개: 첫번째만 리턴함"
   ]
  },
  {
   "cell_type": "code",
   "execution_count": 36,
   "id": "b71e77e9",
   "metadata": {
    "ExecuteTime": {
     "end_time": "2023-12-05T05:19:20.564012Z",
     "start_time": "2023-12-05T05:19:20.555704Z"
    },
    "scrolled": true
   },
   "outputs": [
    {
     "name": "stdout",
     "output_type": "stream",
     "text": [
      "(7, 12)\n",
      "7\n",
      "12\n"
     ]
    }
   ],
   "source": [
    "def add_and_mul(a, b):\n",
    "    return a+b, a*b\n",
    "\n",
    "result = add_and_mul(3,4)\n",
    "print(result)\n",
    "\n",
    "result1, result2 = add_and_mul(3, 4)\n",
    "print(result1)\n",
    "print(result2)"
   ]
  },
  {
   "cell_type": "code",
   "execution_count": 37,
   "id": "6ab8fc1e",
   "metadata": {
    "ExecuteTime": {
     "end_time": "2023-12-05T05:23:53.205642Z",
     "start_time": "2023-12-05T05:23:53.197801Z"
    }
   },
   "outputs": [
    {
     "name": "stdout",
     "output_type": "stream",
     "text": [
      "5\n"
     ]
    }
   ],
   "source": [
    "def add_and_mul(a,b): \n",
    "     return a+b \n",
    "     return a*b \n",
    "\n",
    "result = add_and_mul(2, 3)\n",
    "print(result)"
   ]
  },
  {
   "cell_type": "markdown",
   "id": "ae4c1941",
   "metadata": {},
   "source": [
    "### return: 함수를 빠져나가고 싶을 때 사용 가능"
   ]
  },
  {
   "cell_type": "code",
   "execution_count": 40,
   "id": "fe4975fa",
   "metadata": {
    "ExecuteTime": {
     "end_time": "2023-12-05T05:29:18.876042Z",
     "start_time": "2023-12-05T05:29:18.868418Z"
    },
    "scrolled": true
   },
   "outputs": [
    {
     "name": "stdout",
     "output_type": "stream",
     "text": [
      "나의 별명은 야호 입니다.\n"
     ]
    }
   ],
   "source": [
    "def say_nick(nick):\n",
    "    if nick == '바보': #바보 값이 들어오면 함수를 빠져나감\n",
    "        return\n",
    "    print('나의 별명은 %s 입니다.' %nick)\n",
    "\n",
    "say_nick('야호')\n",
    "say_nick('바보')"
   ]
  },
  {
   "cell_type": "markdown",
   "id": "65f4af29",
   "metadata": {},
   "source": [
    "## 매개변수에 초깃값 미리 설정하기: (매개변수, 초깃값)"
   ]
  },
  {
   "cell_type": "code",
   "execution_count": 45,
   "id": "199de223",
   "metadata": {
    "ExecuteTime": {
     "end_time": "2023-12-05T05:44:53.752339Z",
     "start_time": "2023-12-05T05:44:53.742305Z"
    }
   },
   "outputs": [
    {
     "name": "stdout",
     "output_type": "stream",
     "text": [
      "나의 이름은 박응용 입니다.\n",
      "나의 이름은 27살 입니다.\n",
      "남자입니다.\n",
      "나의 이름은 박응용 입니다.\n",
      "나의 이름은 27살 입니다.\n",
      "남자입니다.\n",
      "나의 이름은 박응용 입니다.\n",
      "나의 이름은 27살 입니다.\n",
      "여자입니다.\n"
     ]
    }
   ],
   "source": [
    "# default1.py\n",
    "\n",
    "def say_myself(name, age, man=True): #man=True: 매개변수에 초깃값 설정\n",
    "    print('나의 이름은 %s 입니다.' %name)\n",
    "    print('나의 이름은 %d살 입니다.' %age)\n",
    "    if man:\n",
    "        print('남자입니다.')\n",
    "    else:\n",
    "        print('여자입니다.')\n",
    "    \n",
    "say_myself('박응용', 27)\n",
    "\n",
    "say_myself(\"박응용\", 27, True)\n",
    "\n",
    "say_myself(\"박응용\", 27, False)"
   ]
  },
  {
   "cell_type": "code",
   "execution_count": 46,
   "id": "84756b79",
   "metadata": {
    "ExecuteTime": {
     "end_time": "2023-12-05T05:46:03.968808Z",
     "start_time": "2023-12-05T05:46:03.955612Z"
    }
   },
   "outputs": [
    {
     "ename": "SyntaxError",
     "evalue": "non-default argument follows default argument (3700785654.py, line 2)",
     "output_type": "error",
     "traceback": [
      "\u001b[1;36m  Cell \u001b[1;32mIn[46], line 2\u001b[1;36m\u001b[0m\n\u001b[1;33m    def say_myself(name, man=True, age):\u001b[0m\n\u001b[1;37m                                   ^\u001b[0m\n\u001b[1;31mSyntaxError\u001b[0m\u001b[1;31m:\u001b[0m non-default argument follows default argument\n"
     ]
    }
   ],
   "source": [
    "# default2.py\n",
    "def say_myself(name, man=True, age): \n",
    "    print(\"나의 이름은 %s 입니다.\" % name) \n",
    "    print(\"나이는 %d살입니다.\" % age) \n",
    "    if man: \n",
    "        print(\"남자입니다.\") \n",
    "    else: \n",
    "        print(\"여자입니다.\")\n",
    "        \n",
    "say_myself(\"박응용\", 27)"
   ]
  },
  {
   "cell_type": "markdown",
   "id": "0b7fc05d",
   "metadata": {},
   "source": [
    "## 함수 안에서 선언한 변수의 효력 범위(지역vs전역)"
   ]
  },
  {
   "cell_type": "code",
   "execution_count": 47,
   "id": "ae15ffa9",
   "metadata": {
    "ExecuteTime": {
     "end_time": "2023-12-05T06:04:32.221835Z",
     "start_time": "2023-12-05T06:04:32.214237Z"
    },
    "scrolled": true
   },
   "outputs": [
    {
     "name": "stdout",
     "output_type": "stream",
     "text": [
      "1\n"
     ]
    }
   ],
   "source": [
    "# vartest.py\n",
    "a = 1\n",
    "def vartest(a):\n",
    "    a = a +1\n",
    "\n",
    "vartest(a)\n",
    "print(a)\n",
    "\n",
    "#1이 나온이유: 함수 매개변수는 함수안에서만 사용하는 \"지역\"변수이기 때문"
   ]
  },
  {
   "cell_type": "code",
   "execution_count": null,
   "id": "857322e0",
   "metadata": {},
   "outputs": [],
   "source": [
    "# vartest_error.py\n",
    "def vartest(a):\n",
    "    a = a + 1\n",
    "\n",
    "vartest(3)\n",
    "print(a)"
   ]
  },
  {
   "cell_type": "markdown",
   "id": "32a5a2c4",
   "metadata": {},
   "source": [
    "## 함수 안에서 함수 밖의 변수를 변경하는 방법\n",
    "### return 사용하기"
   ]
  },
  {
   "cell_type": "code",
   "execution_count": 48,
   "id": "90b96be2",
   "metadata": {
    "ExecuteTime": {
     "end_time": "2023-12-05T06:21:05.978318Z",
     "start_time": "2023-12-05T06:21:05.970281Z"
    }
   },
   "outputs": [
    {
     "name": "stdout",
     "output_type": "stream",
     "text": [
      "2\n"
     ]
    }
   ],
   "source": [
    "# vartest_return.py\n",
    "\n",
    "a = 1\n",
    "def vartest(a):\n",
    "    a = a + 1\n",
    "    return a\n",
    "\n",
    "a = vartest(a)\n",
    "print(a)"
   ]
  },
  {
   "cell_type": "markdown",
   "id": "00023914",
   "metadata": {},
   "source": [
    "### global 명령어 사용하기\n",
    "- global a: 함수 안에서 함수 밖의 a 변수를 직접 사용하겠다는 뜻\n",
    "- 사용하지 않는 것이 좋음"
   ]
  },
  {
   "cell_type": "code",
   "execution_count": null,
   "id": "a1231b76",
   "metadata": {},
   "outputs": [],
   "source": [
    "# vartest_global.py\n",
    "\n",
    "a = 1 \n",
    "def vartest(): \n",
    "    global a \n",
    "    a = a+1\n",
    "\n",
    "vartest() \n",
    "print(a)"
   ]
  },
  {
   "cell_type": "markdown",
   "id": "6e39d95f",
   "metadata": {},
   "source": [
    "## lambda 예약어 = def\n",
    "-  함수를 생성할 때 사용하는 예약어\n",
    "- 함수를 한 줄로 간결하게 만들 때 사용\n",
    "- def를 사용해야 할 정도로 복잡하지 않거나 def를 사용할 수 없는 곳\n",
    "### 기본 형태"
   ]
  },
  {
   "cell_type": "code",
   "execution_count": null,
   "id": "92e05c37",
   "metadata": {},
   "outputs": [],
   "source": [
    "함수이름 = lambda 매개변수1, 매개변수2, ... : 매개변수를 이용한 표현식"
   ]
  },
  {
   "cell_type": "code",
   "execution_count": 49,
   "id": "f0325559",
   "metadata": {
    "ExecuteTime": {
     "end_time": "2023-12-05T06:31:45.087893Z",
     "start_time": "2023-12-05T06:31:45.078219Z"
    }
   },
   "outputs": [
    {
     "name": "stdout",
     "output_type": "stream",
     "text": [
      "7\n"
     ]
    }
   ],
   "source": [
    "add = lambda a, b: a+b #return 없어도 리턴함\n",
    "\n",
    "result = add(3, 4)\n",
    "print(result)"
   ]
  },
  {
   "cell_type": "code",
   "execution_count": 50,
   "id": "3c62ac4a",
   "metadata": {
    "ExecuteTime": {
     "end_time": "2023-12-05T06:33:38.860335Z",
     "start_time": "2023-12-05T06:33:38.854032Z"
    }
   },
   "outputs": [
    {
     "name": "stdout",
     "output_type": "stream",
     "text": [
      "7\n"
     ]
    }
   ],
   "source": [
    "def add(a, b):\n",
    "    return a+b\n",
    "\n",
    "result = add(3, 4)\n",
    "print(result)"
   ]
  },
  {
   "cell_type": "markdown",
   "id": "1bffdde5",
   "metadata": {},
   "source": [
    "# 사용자 입출력"
   ]
  },
  {
   "cell_type": "markdown",
   "id": "1af37880",
   "metadata": {},
   "source": [
    "## 사용자 입력 활용하기\n",
    "- 사용자가 입력한 값을 어떤 변수에 대입하고 싶을 때\n",
    "### input 사용하기: 사용자가 키보드로 입력한 모든 것을 문자열로 저장"
   ]
  },
  {
   "cell_type": "code",
   "execution_count": 64,
   "id": "1214d5fc",
   "metadata": {
    "ExecuteTime": {
     "end_time": "2023-12-05T06:43:33.191984Z",
     "start_time": "2023-12-05T06:43:18.142970Z"
    },
    "scrolled": true
   },
   "outputs": [
    {
     "name": "stdout",
     "output_type": "stream",
     "text": [
      "Life is too short, you need python\n"
     ]
    }
   ],
   "source": [
    "a = input()"
   ]
  },
  {
   "cell_type": "code",
   "execution_count": 58,
   "id": "56597157",
   "metadata": {
    "ExecuteTime": {
     "end_time": "2023-12-05T06:41:10.451636Z",
     "start_time": "2023-12-05T06:41:10.432845Z"
    }
   },
   "outputs": [
    {
     "data": {
      "text/plain": [
       "'Life is too short, you need python'"
      ]
     },
     "execution_count": 58,
     "metadata": {},
     "output_type": "execute_result"
    }
   ],
   "source": [
    "a"
   ]
  },
  {
   "cell_type": "markdown",
   "id": "36f24fdb",
   "metadata": {},
   "source": [
    "### 프롬프트를 띄워 사용자 입력받기"
   ]
  },
  {
   "cell_type": "code",
   "execution_count": 66,
   "id": "a8eeb892",
   "metadata": {
    "ExecuteTime": {
     "end_time": "2023-12-05T06:47:28.643464Z",
     "start_time": "2023-12-05T06:47:21.769693Z"
    },
    "scrolled": true
   },
   "outputs": [
    {
     "name": "stdout",
     "output_type": "stream",
     "text": [
      "안내_문구 \n"
     ]
    },
    {
     "data": {
      "text/plain": [
       "' '"
      ]
     },
     "execution_count": 66,
     "metadata": {},
     "output_type": "execute_result"
    }
   ],
   "source": [
    "input(\"안내_문구\")"
   ]
  },
  {
   "cell_type": "code",
   "execution_count": 67,
   "id": "c2932fe6",
   "metadata": {
    "ExecuteTime": {
     "end_time": "2023-12-05T06:47:36.425923Z",
     "start_time": "2023-12-05T06:47:28.649453Z"
    },
    "scrolled": true
   },
   "outputs": [
    {
     "name": "stdout",
     "output_type": "stream",
     "text": [
      "숫자를 입력하세요: 3\n"
     ]
    }
   ],
   "source": [
    "number = input(\"숫자를 입력하세요: \")"
   ]
  },
  {
   "cell_type": "code",
   "execution_count": 68,
   "id": "167bd8f1",
   "metadata": {
    "ExecuteTime": {
     "end_time": "2023-12-05T06:47:53.931018Z",
     "start_time": "2023-12-05T06:47:53.925030Z"
    }
   },
   "outputs": [
    {
     "name": "stdout",
     "output_type": "stream",
     "text": [
      "3\n"
     ]
    }
   ],
   "source": [
    "print(number) #input 입력되는 모든 것은 문자열로 취급"
   ]
  },
  {
   "cell_type": "code",
   "execution_count": 69,
   "id": "af5f9455",
   "metadata": {
    "ExecuteTime": {
     "end_time": "2023-12-05T06:48:22.141676Z",
     "start_time": "2023-12-05T06:48:22.133963Z"
    },
    "scrolled": true
   },
   "outputs": [
    {
     "data": {
      "text/plain": [
       "str"
      ]
     },
     "execution_count": 69,
     "metadata": {},
     "output_type": "execute_result"
    }
   ],
   "source": [
    "type(number)"
   ]
  },
  {
   "cell_type": "markdown",
   "id": "58cd9c1a",
   "metadata": {},
   "source": [
    "## print 자세히 알기\n",
    "### 데이터 출력"
   ]
  },
  {
   "cell_type": "code",
   "execution_count": 70,
   "id": "94cdba15",
   "metadata": {
    "ExecuteTime": {
     "end_time": "2023-12-05T06:49:11.821808Z",
     "start_time": "2023-12-05T06:49:11.815239Z"
    }
   },
   "outputs": [
    {
     "name": "stdout",
     "output_type": "stream",
     "text": [
      "123\n"
     ]
    }
   ],
   "source": [
    "a = 123\n",
    "print(a)"
   ]
  },
  {
   "cell_type": "code",
   "execution_count": 71,
   "id": "d9062493",
   "metadata": {
    "ExecuteTime": {
     "end_time": "2023-12-05T06:49:20.618623Z",
     "start_time": "2023-12-05T06:49:20.612658Z"
    },
    "scrolled": true
   },
   "outputs": [
    {
     "name": "stdout",
     "output_type": "stream",
     "text": [
      "Python\n"
     ]
    }
   ],
   "source": [
    "a = \"Python\"\n",
    "print(a)"
   ]
  },
  {
   "cell_type": "code",
   "execution_count": 72,
   "id": "a2e04a94",
   "metadata": {
    "ExecuteTime": {
     "end_time": "2023-12-05T06:49:29.765522Z",
     "start_time": "2023-12-05T06:49:29.757760Z"
    }
   },
   "outputs": [
    {
     "name": "stdout",
     "output_type": "stream",
     "text": [
      "[1, 2, 3]\n"
     ]
    }
   ],
   "source": [
    "a = [1, 2, 3]\n",
    "print(a)"
   ]
  },
  {
   "cell_type": "markdown",
   "id": "56c1bc0b",
   "metadata": {},
   "source": [
    "### 큰따옴표로 둘러싸인 문자열은 + 연산과 동일하다"
   ]
  },
  {
   "cell_type": "code",
   "execution_count": 73,
   "id": "33e6ddd3",
   "metadata": {
    "ExecuteTime": {
     "end_time": "2023-12-05T06:50:13.217970Z",
     "start_time": "2023-12-05T06:50:13.209949Z"
    }
   },
   "outputs": [
    {
     "name": "stdout",
     "output_type": "stream",
     "text": [
      "lifeistoo short\n",
      "lifeistoo short\n"
     ]
    }
   ],
   "source": [
    "print(\"life\" \"is\" \"too short\")\n",
    "print(\"life\"+\"is\"+\"too short\")"
   ]
  },
  {
   "cell_type": "markdown",
   "id": "44db50ec",
   "metadata": {},
   "source": [
    "### 문자열 띄어쓰기는 쉼표로 한다"
   ]
  },
  {
   "cell_type": "code",
   "execution_count": 74,
   "id": "58f63c89",
   "metadata": {
    "ExecuteTime": {
     "end_time": "2023-12-05T06:50:46.768851Z",
     "start_time": "2023-12-05T06:50:46.763009Z"
    },
    "scrolled": true
   },
   "outputs": [
    {
     "name": "stdout",
     "output_type": "stream",
     "text": [
      "life is too short\n"
     ]
    }
   ],
   "source": [
    "print(\"life\", \"is\", \"too short\")"
   ]
  },
  {
   "cell_type": "markdown",
   "id": "806a8fdb",
   "metadata": {},
   "source": [
    "### 한 줄에 결괏값 출력하기"
   ]
  },
  {
   "cell_type": "code",
   "execution_count": 75,
   "id": "fd5b23c6",
   "metadata": {
    "ExecuteTime": {
     "end_time": "2023-12-05T06:52:56.108047Z",
     "start_time": "2023-12-05T06:52:56.100895Z"
    }
   },
   "outputs": [
    {
     "name": "stdout",
     "output_type": "stream",
     "text": [
      "0 1 2 3 4 5 6 7 8 9 "
     ]
    }
   ],
   "source": [
    "for i in range(10):\n",
    "    print(i, end=' ')"
   ]
  },
  {
   "cell_type": "markdown",
   "id": "1187e98c",
   "metadata": {},
   "source": [
    "# 파일 읽고 쓰기\n",
    "- 파일을 새로 만든 다음 프로그램이 만든 결괏값을 새 파일에 적어보기\n",
    "## 파일 생성하기: 'w'\n",
    "파일객체 = open(파일이름, 파일열기모드)\n",
    "\n",
    "|파일열기모드|\t설명|\n",
    "|:--|:--|\n",
    "|r\t|읽기 모드: 파일을 읽기만 할 때 사용한다.|\n",
    "|w\t|쓰기 모드: 파일에 내용을 쓸 때 사용한다.   해당 파일이 이미 존재할 경우 원래 있던 내용이 모두 사라지고 해당 파일이 존재하지 않으면 새로운 파일이 생성됨|\n",
    "|a\t|추가 모드: 파일의 마지막에 새로운 내용을 추가할 때 사용한다.|"
   ]
  },
  {
   "cell_type": "markdown",
   "id": "1e9d0117",
   "metadata": {},
   "source": [
    "### 파일 생성: 경로지정X 현재 경로에 생성됨"
   ]
  },
  {
   "cell_type": "code",
   "execution_count": null,
   "id": "e3617744",
   "metadata": {},
   "outputs": [],
   "source": [
    "\n",
    "f = open('새파일.txt', 'w')\n",
    "f.close() # 열려 있는 파일 객체를 닫아 주는 역할\n",
    "\n",
    "#  디렉터리에 파일이 없는 상태에서‘쓰기 모드인 'w'로 열었기 때문에 \n",
    "#‘새파일.txt’라는 이름의 새로운 파일이 현재 디렉터리에 생성"
   ]
  },
  {
   "cell_type": "markdown",
   "id": "f4e096ee",
   "metadata": {},
   "source": [
    "### 파일 생성: 경로지정O"
   ]
  },
  {
   "cell_type": "code",
   "execution_count": 87,
   "id": "23a452af",
   "metadata": {
    "ExecuteTime": {
     "end_time": "2023-12-05T08:20:05.380371Z",
     "start_time": "2023-12-05T08:20:05.372914Z"
    }
   },
   "outputs": [],
   "source": [
    "f = open(\"C:\\workspace\\python\\wassup/새파일.txt\", 'w')\n",
    "f.close()"
   ]
  },
  {
   "cell_type": "markdown",
   "id": "27b6ee17",
   "metadata": {},
   "source": [
    "### 파일을 쓰기 모드로 열어 내용 쓰기\n",
    "#### 파일에 데이터 적기: f.write()"
   ]
  },
  {
   "cell_type": "code",
   "execution_count": 88,
   "id": "5c0a971e",
   "metadata": {
    "ExecuteTime": {
     "end_time": "2023-12-05T08:21:04.579992Z",
     "start_time": "2023-12-05T08:21:04.571811Z"
    }
   },
   "outputs": [],
   "source": [
    "f = open(\"새파일.txt\", 'w')\n",
    "for i in range(1, 11):\n",
    "    data = \"%d번째 줄입니다.\\n\" % i\n",
    "    f.write(data)\n",
    "f.close()"
   ]
  },
  {
   "cell_type": "markdown",
   "id": "ca3b63ee",
   "metadata": {},
   "source": [
    "#### 모니터에 데이터 출력하기: print()"
   ]
  },
  {
   "cell_type": "code",
   "execution_count": 89,
   "id": "f72353c1",
   "metadata": {
    "ExecuteTime": {
     "end_time": "2023-12-05T08:21:12.584620Z",
     "start_time": "2023-12-05T08:21:12.577601Z"
    }
   },
   "outputs": [
    {
     "name": "stdout",
     "output_type": "stream",
     "text": [
      "1번째 줄입니다.\n",
      "\n",
      "2번째 줄입니다.\n",
      "\n",
      "3번째 줄입니다.\n",
      "\n",
      "4번째 줄입니다.\n",
      "\n",
      "5번째 줄입니다.\n",
      "\n",
      "6번째 줄입니다.\n",
      "\n",
      "7번째 줄입니다.\n",
      "\n",
      "8번째 줄입니다.\n",
      "\n",
      "9번째 줄입니다.\n",
      "\n",
      "10번째 줄입니다.\n",
      "\n"
     ]
    }
   ],
   "source": [
    "for i in range(1, 11):\n",
    "    data = \"%d번째 줄입니다.\\n\" % i\n",
    "    print(data)"
   ]
  },
  {
   "cell_type": "markdown",
   "id": "8b9b4190",
   "metadata": {},
   "source": [
    "## 파일을 읽는 여러 가지 방법: 'r'로 열기\n",
    "### readline 함수 이용하기: f.readline()\n",
    "#### 첫번째 줄 출력하기: line = f.readline()"
   ]
  },
  {
   "cell_type": "code",
   "execution_count": 90,
   "id": "c8fdc2ca",
   "metadata": {
    "ExecuteTime": {
     "end_time": "2023-12-05T08:21:27.715862Z",
     "start_time": "2023-12-05T08:21:27.708688Z"
    }
   },
   "outputs": [
    {
     "name": "stdout",
     "output_type": "stream",
     "text": [
      "1번째 줄입니다.\n",
      "\n"
     ]
    }
   ],
   "source": [
    "# readline_test.py\n",
    "\n",
    "f = open(\"새파일.txt\", 'r') # 읽기 모드로 열기\n",
    "line = f.readline() # 파일의 첫번째 줄 읽기\n",
    "print(line) # 출력하기\n",
    "f.close()"
   ]
  },
  {
   "cell_type": "markdown",
   "id": "fcae34de",
   "metadata": {},
   "source": [
    "#### 모든 줄 출력하기: while 무한 루프"
   ]
  },
  {
   "cell_type": "code",
   "execution_count": 91,
   "id": "f334d452",
   "metadata": {
    "ExecuteTime": {
     "end_time": "2023-12-05T08:21:29.970355Z",
     "start_time": "2023-12-05T08:21:29.961624Z"
    }
   },
   "outputs": [
    {
     "name": "stdout",
     "output_type": "stream",
     "text": [
      "1번째 줄입니다.\n",
      "\n",
      "2번째 줄입니다.\n",
      "\n",
      "3번째 줄입니다.\n",
      "\n",
      "4번째 줄입니다.\n",
      "\n",
      "5번째 줄입니다.\n",
      "\n",
      "6번째 줄입니다.\n",
      "\n",
      "7번째 줄입니다.\n",
      "\n",
      "8번째 줄입니다.\n",
      "\n",
      "9번째 줄입니다.\n",
      "\n",
      "10번째 줄입니다.\n",
      "\n"
     ]
    }
   ],
   "source": [
    "# readline_all.py\n",
    "\n",
    "f = open(\"새파일.txt\", 'r')\n",
    "while True: # 무한 루프\n",
    "    line = f.readline()\n",
    "    if not line: break # 더 읽을 줄이 없으면 멈춤\n",
    "    print(line)\n",
    "f.close()\n",
    "\n",
    "# readline()은 더 이상 읽을 줄이 없을 경우, 빈 문자열('')을 리턴한다.\n",
    "# 한 줄씩 읽어 출력할 때 줄 끝에 \\n 문자가 있으므로 빈 줄도 같이 출력된다."
   ]
  },
  {
   "cell_type": "markdown",
   "id": "17823347",
   "metadata": {},
   "source": [
    "### readlines 함수 사용하기: f.readlines()\n",
    "- 파일의 모든 줄을 읽어서 각각의 줄을 요소로 가지는 리스트를 리턴한다"
   ]
  },
  {
   "cell_type": "code",
   "execution_count": 92,
   "id": "be63e5d4",
   "metadata": {
    "ExecuteTime": {
     "end_time": "2023-12-05T08:28:51.926926Z",
     "start_time": "2023-12-05T08:28:51.919153Z"
    },
    "scrolled": true
   },
   "outputs": [
    {
     "name": "stdout",
     "output_type": "stream",
     "text": [
      "1번째 줄입니다.\n",
      "\n",
      "2번째 줄입니다.\n",
      "\n",
      "3번째 줄입니다.\n",
      "\n",
      "4번째 줄입니다.\n",
      "\n",
      "5번째 줄입니다.\n",
      "\n",
      "6번째 줄입니다.\n",
      "\n",
      "7번째 줄입니다.\n",
      "\n",
      "8번째 줄입니다.\n",
      "\n",
      "9번째 줄입니다.\n",
      "\n",
      "10번째 줄입니다.\n",
      "\n"
     ]
    }
   ],
   "source": [
    "f = open(\"새파일.txt\", 'r')\n",
    "lines = f.readlines()\n",
    "for line in lines:\n",
    "    print(line)\n",
    "f.close()"
   ]
  },
  {
   "cell_type": "code",
   "execution_count": 93,
   "id": "152f160e",
   "metadata": {
    "ExecuteTime": {
     "end_time": "2023-12-05T08:29:40.734517Z",
     "start_time": "2023-12-05T08:29:40.726569Z"
    }
   },
   "outputs": [
    {
     "name": "stdout",
     "output_type": "stream",
     "text": [
      "['1번째 줄입니다.\\n', '2번째 줄입니다.\\n', '3번째 줄입니다.\\n', '4번째 줄입니다.\\n', '5번째 줄입니다.\\n', '6번째 줄입니다.\\n', '7번째 줄입니다.\\n', '8번째 줄입니다.\\n', '9번째 줄입니다.\\n', '10번째 줄입니다.\\n']\n"
     ]
    }
   ],
   "source": [
    "f = open(\"새파일.txt\", 'r')\n",
    "print(f.readlines())"
   ]
  },
  {
   "cell_type": "markdown",
   "id": "63534041",
   "metadata": {},
   "source": [
    "#### 줄 바꿈(\\n) 문자 제거하기: .strip()"
   ]
  },
  {
   "cell_type": "code",
   "execution_count": 94,
   "id": "6fcf6bde",
   "metadata": {
    "ExecuteTime": {
     "end_time": "2023-12-05T08:33:17.196043Z",
     "start_time": "2023-12-05T08:33:17.190001Z"
    }
   },
   "outputs": [
    {
     "name": "stdout",
     "output_type": "stream",
     "text": [
      "1번째 줄입니다.\n",
      "2번째 줄입니다.\n",
      "3번째 줄입니다.\n",
      "4번째 줄입니다.\n",
      "5번째 줄입니다.\n",
      "6번째 줄입니다.\n",
      "7번째 줄입니다.\n",
      "8번째 줄입니다.\n",
      "9번째 줄입니다.\n",
      "10번째 줄입니다.\n"
     ]
    }
   ],
   "source": [
    "f = open('새파일.txt', 'r')\n",
    "lines = f.readlines()\n",
    "for line in lines:\n",
    "    line = line.strip()  # 줄 끝의 줄 바꿈 문자를 제거한다.\n",
    "    print(line)"
   ]
  },
  {
   "cell_type": "markdown",
   "id": "40dd077a",
   "metadata": {},
   "source": [
    "### read 함수 사용하기: f.read()\n",
    "- 파일의 내용 전체를 문자열로 리턴"
   ]
  },
  {
   "cell_type": "code",
   "execution_count": 96,
   "id": "05529caf",
   "metadata": {
    "ExecuteTime": {
     "end_time": "2023-12-05T08:37:38.543967Z",
     "start_time": "2023-12-05T08:37:38.537582Z"
    },
    "scrolled": true
   },
   "outputs": [
    {
     "name": "stdout",
     "output_type": "stream",
     "text": [
      "1번째 줄입니다.\n",
      "2번째 줄입니다.\n",
      "3번째 줄입니다.\n",
      "4번째 줄입니다.\n",
      "5번째 줄입니다.\n",
      "6번째 줄입니다.\n",
      "7번째 줄입니다.\n",
      "8번째 줄입니다.\n",
      "9번째 줄입니다.\n",
      "10번째 줄입니다.\n",
      "\n"
     ]
    }
   ],
   "source": [
    "f = open('새파일.txt', 'r')\n",
    "data = f.read()\n",
    "print(data)\n",
    "f.close()"
   ]
  },
  {
   "cell_type": "markdown",
   "id": "5698a12f",
   "metadata": {},
   "source": [
    "### 파일 객체를 for 문과 함께 사용하기: for line in f\n",
    "- 파일을 줄 단위로 읽기"
   ]
  },
  {
   "cell_type": "code",
   "execution_count": 99,
   "id": "f87123c3",
   "metadata": {
    "ExecuteTime": {
     "end_time": "2023-12-05T08:51:48.524056Z",
     "start_time": "2023-12-05T08:51:48.516992Z"
    }
   },
   "outputs": [
    {
     "name": "stdout",
     "output_type": "stream",
     "text": [
      "1번째 줄입니다.\n",
      "\n",
      "2번째 줄입니다.\n",
      "\n",
      "3번째 줄입니다.\n",
      "\n",
      "4번째 줄입니다.\n",
      "\n",
      "5번째 줄입니다.\n",
      "\n",
      "6번째 줄입니다.\n",
      "\n",
      "7번째 줄입니다.\n",
      "\n",
      "8번째 줄입니다.\n",
      "\n",
      "9번째 줄입니다.\n",
      "\n",
      "10번째 줄입니다.\n",
      "\n",
      "11번째 줄입니다.12번째 줄입니다.13번째 줄입니다.14번째 줄입니다.15번째 줄입니다.16번째 줄입니다.17번째 줄입니다.18번째 줄입니다.19번째 줄입니다.11번째 줄입니다.\n",
      "\n",
      "12번째 줄입니다.\n",
      "\n",
      "13번째 줄입니다.\n",
      "\n",
      "14번째 줄입니다.\n",
      "\n",
      "15번째 줄입니다.\n",
      "\n",
      "16번째 줄입니다.\n",
      "\n",
      "17번째 줄입니다.\n",
      "\n",
      "18번째 줄입니다.\n",
      "\n",
      "19번째 줄입니다.\n",
      "\n"
     ]
    }
   ],
   "source": [
    "f = open('새파일.txt', 'r')\n",
    "for line in f:\n",
    "    print(line)\n",
    "f.close()"
   ]
  },
  {
   "cell_type": "code",
   "execution_count": 100,
   "id": "8a3f6c1f",
   "metadata": {
    "ExecuteTime": {
     "end_time": "2023-12-05T08:53:45.401041Z",
     "start_time": "2023-12-05T08:53:45.394531Z"
    }
   },
   "outputs": [],
   "source": [
    "mylist = ['apple\\n', 'pear\\n', 'grape\\n', 'melon\\n']\n",
    "with open('fruit.txt', 'wt') as f:\n",
    "    f.writelines(mylist)"
   ]
  },
  {
   "cell_type": "code",
   "execution_count": 101,
   "id": "58ae1a2a",
   "metadata": {
    "ExecuteTime": {
     "end_time": "2023-12-05T08:55:39.422183Z",
     "start_time": "2023-12-05T08:55:39.410922Z"
    }
   },
   "outputs": [],
   "source": [
    "f?"
   ]
  },
  {
   "cell_type": "markdown",
   "id": "204d945a",
   "metadata": {},
   "source": [
    "## 파일에 새로운 내용 추가하기: 'a'로 열기"
   ]
  },
  {
   "cell_type": "code",
   "execution_count": 98,
   "id": "8ca68319",
   "metadata": {
    "ExecuteTime": {
     "end_time": "2023-12-05T08:45:20.268361Z",
     "start_time": "2023-12-05T08:45:20.262401Z"
    }
   },
   "outputs": [],
   "source": [
    "f = open('새파일.txt', 'a')\n",
    "for i in range(11, 20):\n",
    "    data = '%d번째 줄입니다.\\n' %i\n",
    "    f.write(data)\n",
    "f.close()"
   ]
  },
  {
   "cell_type": "markdown",
   "id": "1af48a08",
   "metadata": {},
   "source": [
    "## with 문과 함께 사용하기\n",
    "- 자동으로 열고 닫기"
   ]
  },
  {
   "cell_type": "code",
   "execution_count": null,
   "id": "3742fc1d",
   "metadata": {},
   "outputs": [],
   "source": [
    "f = open('foo.txt', 'w')\n",
    "f.write('Life is too short, you need python')\n",
    "f.close()"
   ]
  },
  {
   "cell_type": "code",
   "execution_count": null,
   "id": "ff2b4f4b",
   "metadata": {},
   "outputs": [],
   "source": [
    "with open('foo.txt', 'w') as f:\n",
    "    f.write('Life is too short, you need python')"
   ]
  },
  {
   "cell_type": "code",
   "execution_count": null,
   "id": "eb919a54",
   "metadata": {},
   "outputs": [],
   "source": [
    "help\n",
    "?"
   ]
  }
 ],
 "metadata": {
  "kernelspec": {
   "display_name": "Python 3 (ipykernel)",
   "language": "python",
   "name": "python3"
  },
  "language_info": {
   "codemirror_mode": {
    "name": "ipython",
    "version": 3
   },
   "file_extension": ".py",
   "mimetype": "text/x-python",
   "name": "python",
   "nbconvert_exporter": "python",
   "pygments_lexer": "ipython3",
   "version": "3.11.5"
  },
  "toc": {
   "base_numbering": 1,
   "nav_menu": {},
   "number_sections": true,
   "sideBar": true,
   "skip_h1_title": false,
   "title_cell": "Table of Contents",
   "title_sidebar": "Contents",
   "toc_cell": false,
   "toc_position": {},
   "toc_section_display": true,
   "toc_window_display": false
  }
 },
 "nbformat": 4,
 "nbformat_minor": 5
}
