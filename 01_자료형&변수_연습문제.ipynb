{
 "cells": [
  {
   "cell_type": "markdown",
   "id": "34cdaa12",
   "metadata": {
    "ExecuteTime": {
     "end_time": "2023-11-30T01:33:06.993007Z",
     "start_time": "2023-11-30T01:33:06.961214Z"
    }
   },
   "source": [
    "# 홍길동 씨의 과목별 점수는 다음과 같다. 홍길동 씨의 평균 점수를 구해보자.\n",
    "\n",
    "|과목|점수|\n",
    "|----|:---:|\n",
    "|국어|80|\n",
    "|영어|75|\n",
    "|수학|55|"
   ]
  },
  {
   "cell_type": "code",
   "execution_count": 2,
   "id": "b48c941b",
   "metadata": {
    "ExecuteTime": {
     "end_time": "2023-11-30T01:39:02.851654Z",
     "start_time": "2023-11-30T01:39:02.836107Z"
    },
    "scrolled": true
   },
   "outputs": [
    {
     "data": {
      "text/plain": [
       "70.0"
      ]
     },
     "execution_count": 2,
     "metadata": {},
     "output_type": "execute_result"
    }
   ],
   "source": [
    "# 첫번째 풀이\n",
    "\n",
    "국어=80\n",
    "영어=75\n",
    "수학=55\n",
    "(국어+영어+수학)/3"
   ]
  },
  {
   "cell_type": "code",
   "execution_count": 40,
   "id": "bd6dd8b4",
   "metadata": {
    "ExecuteTime": {
     "end_time": "2023-11-30T02:45:50.708405Z",
     "start_time": "2023-11-30T02:45:50.698468Z"
    }
   },
   "outputs": [
    {
     "name": "stdout",
     "output_type": "stream",
     "text": [
      "70.0\n"
     ]
    }
   ],
   "source": [
    "# 답 확인하고 다시 풀기\n",
    "\n",
    "국어 = 80\n",
    "영어 = 75\n",
    "수학 = 55\n",
    "과목 = [국어, 영어, 수학]\n",
    "과목총합 = 국어 + 영어 + 수학\n",
    "과목평균 = 과목총합/len(과목)\n",
    "print(과목평균)"
   ]
  },
  {
   "cell_type": "code",
   "execution_count": null,
   "id": "c9bb39a1",
   "metadata": {},
   "outputs": [],
   "source": [
    "# A1\n",
    "\n",
    "국어 = 80\n",
    "영어 = 75\n",
    "수학 = 55\n",
    "과목 = [국어, 영어, 수학]\n",
    "과목점수합계 = 국어 + 영어 + 수학\n",
    "과목점수평균 = 과목점수합계/len(과목)\n",
    "print(과목점수평균)"
   ]
  },
  {
   "cell_type": "markdown",
   "id": "e36b28a1",
   "metadata": {},
   "source": [
    "# 자연수 13이 홀수인지 짝수인지 판별할 수 있는 방법에 대해 말해보자."
   ]
  },
  {
   "cell_type": "code",
   "execution_count": 43,
   "id": "d53c3a43",
   "metadata": {
    "ExecuteTime": {
     "end_time": "2023-11-30T02:47:29.788277Z",
     "start_time": "2023-11-30T02:47:29.782855Z"
    }
   },
   "outputs": [],
   "source": [
    "# 첫번째 풀이\n",
    "\n",
    "13%2\n",
    "# 나머지가 1이면 홀수, 0이면 짝수"
   ]
  },
  {
   "cell_type": "code",
   "execution_count": 42,
   "id": "b1f0ea3c",
   "metadata": {
    "ExecuteTime": {
     "end_time": "2023-11-30T02:47:22.978771Z",
     "start_time": "2023-11-30T02:47:22.973306Z"
    }
   },
   "outputs": [
    {
     "name": "stdout",
     "output_type": "stream",
     "text": [
      "1 1이면 홀수\n"
     ]
    }
   ],
   "source": [
    "# 답 확인하고 다시 풀기\n",
    "\n",
    "print(13%2, '1이면 홀수')"
   ]
  },
  {
   "cell_type": "code",
   "execution_count": 36,
   "id": "6df79084",
   "metadata": {
    "ExecuteTime": {
     "end_time": "2023-11-30T02:39:08.168701Z",
     "start_time": "2023-11-30T02:39:08.162648Z"
    }
   },
   "outputs": [
    {
     "name": "stdout",
     "output_type": "stream",
     "text": [
      "1 나머지가 있으면 홀수\n"
     ]
    }
   ],
   "source": [
    "# A2\n",
    "\n",
    "print(13%2,'나머지가 있으면 홀수')"
   ]
  },
  {
   "cell_type": "markdown",
   "id": "1b0580d7",
   "metadata": {},
   "source": [
    "# 홍길동 씨의 주민등록번호는 881120-1068234이다.   \n",
    "홍길동씨의 주민등록번호를 연월일(YYYYMMDD)부분과 그 뒤의 숫자 부분으로 나누어 출력해보자.\n",
    "```\n",
    "pin = '881120-1068234'\n",
    "yyyymmdd = # 입력\n",
    "num =  # 입력\n",
    "print() # 연월일 부분 출력\n",
    "print() # 숫자부분 출력\n",
    "```"
   ]
  },
  {
   "cell_type": "code",
   "execution_count": 44,
   "id": "0524746f",
   "metadata": {
    "ExecuteTime": {
     "end_time": "2023-11-30T02:49:00.049393Z",
     "start_time": "2023-11-30T02:49:00.041821Z"
    },
    "scrolled": true
   },
   "outputs": [
    {
     "name": "stdout",
     "output_type": "stream",
     "text": [
      "881120\n",
      "1068234\n"
     ]
    }
   ],
   "source": [
    "# 첫번째 풀이: 맞음\n",
    "\n",
    "pin = '881120-1068234'\n",
    "# 연월일, 뒷번호 = 주민번호.split('-')\n",
    "# print(연월일, 뒷번호)\n",
    "yyyymmdd = pin[:6]\n",
    "num = pin[7:]\n",
    "print(yyyymmdd)\n",
    "print(num)"
   ]
  },
  {
   "cell_type": "markdown",
   "id": "381d544f",
   "metadata": {},
   "source": [
    "# 주민등록번호 뒷자리의 맨 첫 번째 숫자는 성별을 나타낸다.   \n",
    "주민등록번호에서 성별을 나타내는 숫자를 출력해보자.\n",
    "```\n",
    "pin = \"881120-1068234\"\n",
    "print( )\n",
    "```"
   ]
  },
  {
   "cell_type": "code",
   "execution_count": 8,
   "id": "2928763d",
   "metadata": {
    "ExecuteTime": {
     "end_time": "2023-11-30T01:45:50.480205Z",
     "start_time": "2023-11-30T01:45:50.474802Z"
    }
   },
   "outputs": [
    {
     "name": "stdout",
     "output_type": "stream",
     "text": [
      "1\n"
     ]
    }
   ],
   "source": [
    "# 첫번째 풀이: 맞음\n",
    "\n",
    "pin = \"881120-1068234\"\n",
    "print(pin[7])"
   ]
  },
  {
   "cell_type": "markdown",
   "id": "218abfca",
   "metadata": {},
   "source": [
    "# 다음과 같은 문자열 a:b:c:d가 있다.   \n",
    "문자열의 replace 함수를 사용하여 a#b#c#d로 바꿔서 출력해보자.\n",
    "```\n",
    "a = \"a:b:c:d\"\n",
    "b =\n",
    "print(b)\n",
    "```"
   ]
  },
  {
   "cell_type": "code",
   "execution_count": 9,
   "id": "77aa9766",
   "metadata": {
    "ExecuteTime": {
     "end_time": "2023-11-30T01:47:07.320664Z",
     "start_time": "2023-11-30T01:47:07.314972Z"
    }
   },
   "outputs": [
    {
     "name": "stdout",
     "output_type": "stream",
     "text": [
      "a#b#c#d\n"
     ]
    }
   ],
   "source": [
    "# 첫번째 풀이: 맞음\n",
    "\n",
    "a = \"a:b:c:d\"\n",
    "b = a.replace(':', '#')\n",
    "print(b)"
   ]
  },
  {
   "cell_type": "markdown",
   "id": "f448901b",
   "metadata": {},
   "source": [
    "# [1, 3, 5, 4, 2] 리스트를 [5, 4, 3, 2, 1]로 만들어 보자.\n",
    "```\n",
    "a = [1, 3, 5, 4, 2]\n",
    "a.\n",
    "a.\n",
    "print()\n",
    "```"
   ]
  },
  {
   "cell_type": "code",
   "execution_count": 14,
   "id": "4c6970c5",
   "metadata": {
    "ExecuteTime": {
     "end_time": "2023-11-30T01:49:01.340888Z",
     "start_time": "2023-11-30T01:49:01.334476Z"
    }
   },
   "outputs": [
    {
     "name": "stdout",
     "output_type": "stream",
     "text": [
      "[5, 4, 3, 2, 1]\n"
     ]
    }
   ],
   "source": [
    "# 첫번째 풀이: 맞음\n",
    "\n",
    "a = [1, 3, 5, 4, 2]\n",
    "a.sort()\n",
    "a.reverse()\n",
    "print(a)"
   ]
  },
  {
   "cell_type": "markdown",
   "id": "893ffead",
   "metadata": {},
   "source": [
    "# ['Life', 'is', 'too', 'short'] 리스트를 Life is too short 문자열로 만들어 출력해보자.\n",
    "```\n",
    "a = ['Life', 'is', 'too', 'short']\n",
    "result =\n",
    "print(result)\n",
    "```"
   ]
  },
  {
   "cell_type": "code",
   "execution_count": 15,
   "id": "5160fbb2",
   "metadata": {
    "ExecuteTime": {
     "end_time": "2023-11-30T02:05:32.050910Z",
     "start_time": "2023-11-30T02:05:32.033524Z"
    }
   },
   "outputs": [
    {
     "name": "stdout",
     "output_type": "stream",
     "text": [
      "Life is too short\n"
     ]
    }
   ],
   "source": [
    "# 첫번째 풀이: 맞음\n",
    "\n",
    "a = ['Life', 'is', 'too', 'short']\n",
    "result =' '.join(a)\n",
    "print(result)"
   ]
  },
  {
   "cell_type": "markdown",
   "id": "43de75ef",
   "metadata": {},
   "source": [
    "# (1,2,3) 튜플에 값 4를 추가하여 (1,2,3,4)를 만들어 출력해 보자.\n",
    "```\n",
    "a = (1, 2, 3)\n",
    "a =\n",
    "print(a)\n",
    "```"
   ]
  },
  {
   "cell_type": "code",
   "execution_count": 35,
   "id": "6818dec5",
   "metadata": {
    "ExecuteTime": {
     "end_time": "2023-11-30T02:32:07.849872Z",
     "start_time": "2023-11-30T02:32:07.841204Z"
    }
   },
   "outputs": [
    {
     "name": "stdout",
     "output_type": "stream",
     "text": [
      "(1, 2, 3, 4)\n"
     ]
    }
   ],
   "source": [
    "# 첫번째 풀이\n",
    "\n",
    "a = (1, 2, 3)\n",
    "a = list(a)\n",
    "a.append(4)\n",
    "print(tuple(a))"
   ]
  },
  {
   "cell_type": "code",
   "execution_count": 47,
   "id": "4812142e",
   "metadata": {
    "ExecuteTime": {
     "end_time": "2023-11-30T03:24:24.616073Z",
     "start_time": "2023-11-30T03:24:24.609293Z"
    }
   },
   "outputs": [
    {
     "name": "stdout",
     "output_type": "stream",
     "text": [
      "(1, 2, 3, 4)\n"
     ]
    }
   ],
   "source": [
    "# 답 확인하고 다시 풀기\n",
    "\n",
    "a = (1, 2, 3)\n",
    "a = a + (4,)\n",
    "print(a)"
   ]
  },
  {
   "cell_type": "code",
   "execution_count": null,
   "id": "b9810899",
   "metadata": {},
   "outputs": [],
   "source": [
    "# A8\n",
    "\n",
    "a = (1, 2, 3)\n",
    "a = a + (4,)\n",
    "print(a)"
   ]
  },
  {
   "cell_type": "markdown",
   "id": "24bbbd4e",
   "metadata": {},
   "source": [
    "# 다음과 같은 딕셔너리 a가 있다.\n",
    "```\n",
    ">>> a = dict()\n",
    ">>> a\n",
    "{}\n",
    "```\n",
    "다음 중 오류가 발생하는 경우를 고르고, 그 이유를 설명해 보자.   \n",
    "1. a['name'] = 'python'\n",
    "2. a[('a',)] = 'python'\n",
    "3. a[[1]] = 'python'\n",
    "4. a[250] = 'python'"
   ]
  },
  {
   "cell_type": "code",
   "execution_count": null,
   "id": "4f861032",
   "metadata": {},
   "outputs": [],
   "source": [
    "# 첫번째 풀이\n",
    "\n",
    "2번. 딕셔너리 안에는 튜플을 넣을 수 없음"
   ]
  },
  {
   "cell_type": "code",
   "execution_count": 49,
   "id": "080ee15a",
   "metadata": {
    "ExecuteTime": {
     "end_time": "2023-11-30T03:25:26.825050Z",
     "start_time": "2023-11-30T03:25:26.745115Z"
    }
   },
   "outputs": [
    {
     "ename": "TypeError",
     "evalue": "unhashable type: 'list'",
     "output_type": "error",
     "traceback": [
      "\u001b[1;31m---------------------------------------------------------------------------\u001b[0m",
      "\u001b[1;31mTypeError\u001b[0m                                 Traceback (most recent call last)",
      "Cell \u001b[1;32mIn[49], line 6\u001b[0m\n\u001b[0;32m      4\u001b[0m a[\u001b[38;5;124m'\u001b[39m\u001b[38;5;124mname\u001b[39m\u001b[38;5;124m'\u001b[39m] \u001b[38;5;241m=\u001b[39m \u001b[38;5;124m'\u001b[39m\u001b[38;5;124mpython\u001b[39m\u001b[38;5;124m'\u001b[39m\n\u001b[0;32m      5\u001b[0m a[(\u001b[38;5;124m'\u001b[39m\u001b[38;5;124ma\u001b[39m\u001b[38;5;124m'\u001b[39m,)] \u001b[38;5;241m=\u001b[39m \u001b[38;5;124m'\u001b[39m\u001b[38;5;124mpython\u001b[39m\u001b[38;5;124m'\u001b[39m\n\u001b[1;32m----> 6\u001b[0m a[[\u001b[38;5;241m1\u001b[39m]] \u001b[38;5;241m=\u001b[39m \u001b[38;5;124m'\u001b[39m\u001b[38;5;124mpython\u001b[39m\u001b[38;5;124m'\u001b[39m\n\u001b[0;32m      7\u001b[0m a[\u001b[38;5;241m250\u001b[39m] \u001b[38;5;241m=\u001b[39m \u001b[38;5;124m'\u001b[39m\u001b[38;5;124mpython\u001b[39m\u001b[38;5;124m'\u001b[39m\n",
      "\u001b[1;31mTypeError\u001b[0m: unhashable type: 'list'"
     ]
    }
   ],
   "source": [
    "# A9\n",
    "# 딕셔너리의 키로는 변하는(mutable)값을 사용할 수 없다. 리스트는 수정 가능\n",
    "\n",
    "a = dict()\n",
    "a['name'] = 'python'\n",
    "print(a)\n",
    "a[('a',)] = 'python'\n",
    "print(a)\n",
    "a[250] = 'python'\n",
    "print(a)\n",
    "a[[1]] = 'python' \n",
    "print(a)"
   ]
  },
  {
   "cell_type": "markdown",
   "id": "922c0215",
   "metadata": {},
   "source": [
    "# 딕셔너리 a에서 'B'에 해당되는 값을 추출해 보자.\n",
    "```\n",
    "a = {'A':90, 'B':80, 'C':70}\n",
    "result =\n",
    "print(a)\n",
    "print(result)\n",
    "```"
   ]
  },
  {
   "cell_type": "code",
   "execution_count": 26,
   "id": "e5a3f234",
   "metadata": {
    "ExecuteTime": {
     "end_time": "2023-11-30T02:28:38.462708Z",
     "start_time": "2023-11-30T02:28:38.453857Z"
    }
   },
   "outputs": [
    {
     "name": "stdout",
     "output_type": "stream",
     "text": [
      "{'A': 90, 'B': 80, 'C': 70}\n",
      "80\n"
     ]
    }
   ],
   "source": [
    "# 첫번째 풀이: 맞음\n",
    "\n",
    "a = {'A':90, 'B':80, 'C':70}\n",
    "result = a['B'] # a.pop('B')\n",
    "print(a)\n",
    "print(result)"
   ]
  },
  {
   "cell_type": "markdown",
   "id": "8768f657",
   "metadata": {},
   "source": [
    "# a 리스트에서 중복 숫자를 제거해 보자.\n",
    "```\n",
    "a = [1, 1, 1, 2, 2, 3, 3, 3, 4, 4, 5]\n",
    "aSet =\n",
    "b =\n",
    "print(b)\n",
    "```"
   ]
  },
  {
   "cell_type": "code",
   "execution_count": 22,
   "id": "8eaf0cdf",
   "metadata": {
    "ExecuteTime": {
     "end_time": "2023-11-30T02:26:58.464908Z",
     "start_time": "2023-11-30T02:26:58.455390Z"
    }
   },
   "outputs": [
    {
     "name": "stdout",
     "output_type": "stream",
     "text": [
      "[1, 2, 3, 4, 5]\n"
     ]
    }
   ],
   "source": [
    "# 첫번째 풀이: 맞음\n",
    "\n",
    "a = [1, 1, 1, 2, 2, 3, 3, 3, 4, 4, 5]\n",
    "aSet = set(a)\n",
    "b=list(aSet)\n",
    "print(b)"
   ]
  },
  {
   "cell_type": "markdown",
   "id": "14684cb2",
   "metadata": {},
   "source": [
    "# 파이썬은 다음처럼 동일한 값에 여러 개의 변수를 선언할 수 있다.   \n",
    "다음과 같이 a, b 변수를 선언한 후 a의 두 번째 요솟값을 변경하면 b 값은 어떻게될까?   \n",
    "그리고 이런 결과가 나오는 이유에 대해 설명해보자.\n",
    "```\n",
    ">>> a = b = [1, 2, 3]\n",
    ">>> a[1] = 4\n",
    ">>> print(b)\n",
    "```"
   ]
  },
  {
   "cell_type": "code",
   "execution_count": 21,
   "id": "03af0ec8",
   "metadata": {
    "ExecuteTime": {
     "end_time": "2023-11-30T02:26:09.443566Z",
     "start_time": "2023-11-30T02:26:09.434388Z"
    }
   },
   "outputs": [
    {
     "name": "stdout",
     "output_type": "stream",
     "text": [
      "[1, 4, 3]\n"
     ]
    }
   ],
   "source": [
    ">>> a = b = [1, 2, 3]\n",
    ">>> a[1] = 4\n",
    ">>> print(b)"
   ]
  },
  {
   "cell_type": "code",
   "execution_count": null,
   "id": "eca262e3",
   "metadata": {},
   "outputs": [],
   "source": [
    "b = [1, 4, 3]\n",
    "a와 b의 주소가 같기 때문에 a 변경 시 함께 변경됨"
   ]
  }
 ],
 "metadata": {
  "kernelspec": {
   "display_name": "Python 3 (ipykernel)",
   "language": "python",
   "name": "python3"
  },
  "language_info": {
   "codemirror_mode": {
    "name": "ipython",
    "version": 3
   },
   "file_extension": ".py",
   "mimetype": "text/x-python",
   "name": "python",
   "nbconvert_exporter": "python",
   "pygments_lexer": "ipython3",
   "version": "3.11.5"
  },
  "toc": {
   "base_numbering": 1,
   "nav_menu": {},
   "number_sections": true,
   "sideBar": true,
   "skip_h1_title": false,
   "title_cell": "Table of Contents",
   "title_sidebar": "Contents",
   "toc_cell": false,
   "toc_position": {},
   "toc_section_display": true,
   "toc_window_display": false
  }
 },
 "nbformat": 4,
 "nbformat_minor": 5
}
