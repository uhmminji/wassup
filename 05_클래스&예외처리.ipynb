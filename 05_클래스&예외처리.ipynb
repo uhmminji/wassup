{
 "cells": [
  {
   "cell_type": "markdown",
   "id": "101cbf3b",
   "metadata": {},
   "source": [
    "# 클래스\n",
    "## 클래스는 왜 필요한가?\n",
    "### 계산기 프로그램을 만들며 클래스 알아보기\n",
    "- 계산기는 이전에 계산한 결괏값을 항상 메모리 어딘가에 저장하고 있어야 한다.\n",
    "#### 계산기 1개"
   ]
  },
  {
   "cell_type": "code",
   "execution_count": 1,
   "id": "77dc84c6",
   "metadata": {
    "ExecuteTime": {
     "end_time": "2023-12-06T03:17:40.418435Z",
     "start_time": "2023-12-06T03:17:40.312842Z"
    }
   },
   "outputs": [
    {
     "name": "stdout",
     "output_type": "stream",
     "text": [
      "3\n",
      "7\n"
     ]
    }
   ],
   "source": [
    "result = 0\n",
    "\n",
    "def add(num):\n",
    "    global result # 전역변수:이전에 계산한 결괏값을 유지\n",
    "    result += num # 결괏값(result)에 입력값(num) 더하기\n",
    "    return result # 결괏값 리턴\n",
    "\n",
    "print(add(3))\n",
    "print(add(4))"
   ]
  },
  {
   "cell_type": "markdown",
   "id": "d5fc7b9b",
   "metadata": {},
   "source": [
    "#### 계산기 2개: 함수도 2개\n",
    "- 계산기1과 2는 서로 영향을 미치지 않음"
   ]
  },
  {
   "cell_type": "code",
   "execution_count": 2,
   "id": "83151fe9",
   "metadata": {
    "ExecuteTime": {
     "end_time": "2023-12-06T03:53:42.739125Z",
     "start_time": "2023-12-06T03:53:42.716380Z"
    }
   },
   "outputs": [
    {
     "name": "stdout",
     "output_type": "stream",
     "text": [
      "3\n",
      "7\n",
      "3\n",
      "10\n"
     ]
    }
   ],
   "source": [
    "result1 = 0\n",
    "result2 = 0\n",
    "\n",
    "def add1(num): # 계산기1\n",
    "    global result1\n",
    "    result1 += num\n",
    "    return result1\n",
    "\n",
    "def add2(num):  # 계산기2\n",
    "    global result2\n",
    "    result2 += num\n",
    "    return result2\n",
    "\n",
    "print(add1(3))\n",
    "print(add1(4))\n",
    "print(add2(3))\n",
    "print(add2(7))"
   ]
  },
  {
   "cell_type": "markdown",
   "id": "863320b2",
   "metadata": {},
   "source": [
    "#### 계산기 클래스"
   ]
  },
  {
   "cell_type": "code",
   "execution_count": null,
   "id": "a296d508",
   "metadata": {
    "ExecuteTime": {
     "end_time": "2023-12-06T04:07:39.653234Z",
     "start_time": "2023-12-06T04:07:39.637242Z"
    }
   },
   "outputs": [],
   "source": [
    "class Calculator: # 항상 대문자\n",
    "    def __init__(self):\n",
    "        self.result = 0\n",
    "        \n",
    "    def add(self, num):\n",
    "        self.result += num\n",
    "        return self.result\n",
    "\n",
    "    def sub(self, num):\n",
    "        self.result -= num\n",
    "        return self.result\n",
    "\n",
    "cal1 = Calculator()\n",
    "cal2 = Calculator()\n",
    "\n",
    "print(cal1.add(3))\n",
    "print(cal1.add(4))\n",
    "print(cal2.add(3))\n",
    "print(cal2.add(7))"
   ]
  },
  {
   "cell_type": "markdown",
   "id": "a3e189c6",
   "metadata": {},
   "source": [
    "## 클래스와 객체\n",
    "- a는 객체 = a는 Cookie의 '인스턴스'\n",
    "   \n",
    "- 인스턴스: 객체와 클래스의 관계를 설명. 객체가 메모리에 적재되어 할당된 객체를 인스턴스라고 함.\n",
    "- 객체: 붕어빵, TV\n",
    "    - 객체마다 고유한 성격을 가짐\n",
    "    - 객체 서로 영향을 주지 않음\n",
    "- 클래스: 붕어빵 틀, TV 설계도면"
   ]
  },
  {
   "cell_type": "code",
   "execution_count": null,
   "id": "0d85b3f5",
   "metadata": {},
   "outputs": [],
   "source": [
    "class Cookie: # Cookie라는 클래스 생성됨\n",
    "    pass\n",
    "\n",
    "a = Cookie() # a 객체를 만드는 방법. a는 객체 = a는 Cookie의 '인스턴스'\n",
    "b = Cookie() # b 객체를 만드는 방법"
   ]
  },
  {
   "cell_type": "markdown",
   "id": "a41e9592",
   "metadata": {},
   "source": [
    "## 사칙 연산 클래스 만들기\n",
    "### 클래스를 어떻게 만들지 먼저 구상하기"
   ]
  },
  {
   "cell_type": "code",
   "execution_count": null,
   "id": "be8de8c3",
   "metadata": {},
   "outputs": [],
   "source": [
    "a = FourCal()   # 먼저 a = FourCal()를 입력해서 a라는 객체를 만든다.\n",
    "a.setdata(4, 2) # 그런 다음 a.setdata(4, 2)처럼 입력해서 숫자 4와 2를 a에 지정해 준다.\n",
    "a.add()         # a.add()를 수행하면 두 수를 합한 결과(4 + 2)를 리턴한다.\n",
    "a.mul()         # a.mul()을 수행하면 두 수를 곱한 결과(4 * 2)를 리턴한다.\n",
    "a.sub()         # a.sub()를 수행하면 두 수를 뺀 결과(4 - 2)를 리턴한다.\n",
    "a.div()         # a.div()를 수행하면 두 수를 나눈 결과(4 / 2)를 리턴한다."
   ]
  },
  {
   "cell_type": "markdown",
   "id": "a24a823d",
   "metadata": {},
   "source": [
    "### 클래스 구조 만들기\n",
    "- FourCal 클래스를 만들기"
   ]
  },
  {
   "cell_type": "code",
   "execution_count": 4,
   "id": "d0a816e0",
   "metadata": {
    "ExecuteTime": {
     "end_time": "2023-12-06T04:35:36.816747Z",
     "start_time": "2023-12-06T04:35:36.811769Z"
    }
   },
   "outputs": [],
   "source": [
    "class ForCal:\n",
    "    pass"
   ]
  },
  {
   "cell_type": "code",
   "execution_count": 7,
   "id": "1796e2f0",
   "metadata": {
    "ExecuteTime": {
     "end_time": "2023-12-06T04:36:26.587830Z",
     "start_time": "2023-12-06T04:36:26.581548Z"
    }
   },
   "outputs": [
    {
     "data": {
      "text/plain": [
       "__main__.ForCal"
      ]
     },
     "execution_count": 7,
     "metadata": {},
     "output_type": "execute_result"
    }
   ],
   "source": [
    "# FourCal 클래스의 인스턴스\n",
    "\n",
    "a = ForCal()\n",
    "type(a)"
   ]
  },
  {
   "cell_type": "markdown",
   "id": "4a4ddccd",
   "metadata": {},
   "source": [
    "### 객체에 연산할 숫자 지정하기"
   ]
  },
  {
   "cell_type": "code",
   "execution_count": null,
   "id": "a36856ef",
   "metadata": {},
   "outputs": [],
   "source": [
    "a.setdata(4, 2)"
   ]
  },
  {
   "cell_type": "markdown",
   "id": "f7609cb4",
   "metadata": {},
   "source": [
    "- FourCal 클래스 다시 정의하기   \n",
    "클래스 안의 함수 = 메서드(method)"
   ]
  },
  {
   "cell_type": "code",
   "execution_count": 10,
   "id": "eabc5f12",
   "metadata": {
    "ExecuteTime": {
     "end_time": "2023-12-06T07:30:01.668936Z",
     "start_time": "2023-12-06T07:30:01.628306Z"
    }
   },
   "outputs": [],
   "source": [
    "class FourCal:\n",
    "    def setdata(self, first, second): # 메서드의 매개변수\n",
    "        self.first = first            # 메서드의 수행문\n",
    "        self.second = second          # 메서드의 수행문"
   ]
  },
  {
   "attachments": {
    "image.png": {
     "image/png": "[encoded data removed]"
    }
   },
   "cell_type": "markdown",
   "id": "d03fa86f",
   "metadata": {},
   "source": [
    "### setdata 메서드의 매개변수\n",
    "- setdata 호출하기\n",
    "![image.png](attachment:image.png)"
   ]
  },
  {
   "cell_type": "code",
   "execution_count": 11,
   "id": "e6b4c975",
   "metadata": {
    "ExecuteTime": {
     "end_time": "2023-12-06T07:30:04.699908Z",
     "start_time": "2023-12-06T07:30:04.693341Z"
    }
   },
   "outputs": [],
   "source": [
    "a = FourCal()   # a객체를 생성\n",
    "a.setdata(4, 2) # a객체 통해 setdata 메서드 호출. self에는 호출한 자신이 전달됨"
   ]
  },
  {
   "cell_type": "markdown",
   "id": "e1f66205",
   "metadata": {},
   "source": [
    "### setdata 메서드의 수행문"
   ]
  },
  {
   "cell_type": "code",
   "execution_count": 12,
   "id": "ab9a0817",
   "metadata": {
    "ExecuteTime": {
     "end_time": "2023-12-06T07:30:06.408388Z",
     "start_time": "2023-12-06T07:30:06.401896Z"
    }
   },
   "outputs": [],
   "source": [
    "def setdata(self, first, second):   # 메서드의 매개변수   \n",
    "    self.first = first              # 메서드의 수행문   \n",
    "    self.second = second            # 메서드의 수행문   "
   ]
  },
  {
   "cell_type": "markdown",
   "id": "34ab05d3",
   "metadata": {},
   "source": [
    "- a.setdata(4, 2)를 호출하면   \n",
    "위 메서드에서 first, second에는 각각 값 4와 2가 전달   \n",
    "self는 객체 a가 대입됨"
   ]
  },
  {
   "cell_type": "code",
   "execution_count": 13,
   "id": "3a020a93",
   "metadata": {
    "ExecuteTime": {
     "end_time": "2023-12-06T07:30:09.480587Z",
     "start_time": "2023-12-06T07:30:09.475739Z"
    }
   },
   "outputs": [],
   "source": [
    "a.first = 4 # first, second = 객체변수(속성):객체에 생성되는 객체만의 변수\n",
    "a.second = 2"
   ]
  },
  {
   "cell_type": "code",
   "execution_count": 17,
   "id": "31175eef",
   "metadata": {
    "ExecuteTime": {
     "end_time": "2023-12-06T07:34:14.593180Z",
     "start_time": "2023-12-06T07:34:14.586135Z"
    },
    "scrolled": true
   },
   "outputs": [
    {
     "name": "stdout",
     "output_type": "stream",
     "text": [
      "4 2\n"
     ]
    }
   ],
   "source": [
    "print(a.first, a.second)"
   ]
  },
  {
   "cell_type": "code",
   "execution_count": 18,
   "id": "210f2c40",
   "metadata": {
    "ExecuteTime": {
     "end_time": "2023-12-06T07:36:11.812688Z",
     "start_time": "2023-12-06T07:36:11.803717Z"
    },
    "scrolled": true
   },
   "outputs": [
    {
     "name": "stdout",
     "output_type": "stream",
     "text": [
      "4 2\n",
      "3 7\n"
     ]
    }
   ],
   "source": [
    "a = FourCal() # a 객체를 생성\n",
    "b = FourCal() # b 객체를 생성\n",
    "a.setdata(4, 2) # a 객체 통해 setdata 메서드 호출\n",
    "print(a.first, a.second)\n",
    "\n",
    "b.setdata(3, 7) # b 객체 통해 sestdata 메서드 호출\n",
    "print(b.first, b.second) # a 객체와 b 객체는 서로 영향 주지X"
   ]
  },
  {
   "cell_type": "markdown",
   "id": "602e5cf4",
   "metadata": {},
   "source": [
    "### 더하기 기능 만들기"
   ]
  },
  {
   "cell_type": "code",
   "execution_count": null,
   "id": "c2ec7eda",
   "metadata": {},
   "outputs": [],
   "source": [
    "class FourCal:\n",
    "    def setdata(self, first, second): # 메서드의 매개변수, self=객체가 대입\n",
    "        self.first = first # 메서드 수행문, self 객체의 first 값이 대입\n",
    "        self.second = second # 메서드 수행문, self 객체의 second 값이 대입\n",
    "    def add(self):\n",
    "        result = self.first + self.second\n",
    "        return result\n",
    "a = FourCal() # 객체 a\n",
    "a.setdata(4, 2) # setdata 호출\n",
    "a.add()"
   ]
  },
  {
   "cell_type": "code",
   "execution_count": 19,
   "id": "6095c927",
   "metadata": {
    "ExecuteTime": {
     "end_time": "2023-12-06T07:48:57.791918Z",
     "start_time": "2023-12-06T07:48:57.622746Z"
    }
   },
   "outputs": [
    {
     "ename": "AttributeError",
     "evalue": "'FourCal' object has no attribute 'add'",
     "output_type": "error",
     "traceback": [
      "\u001b[1;31m---------------------------------------------------------------------------\u001b[0m",
      "\u001b[1;31mAttributeError\u001b[0m                            Traceback (most recent call last)",
      "Cell \u001b[1;32mIn[19], line 3\u001b[0m\n\u001b[0;32m      1\u001b[0m a \u001b[38;5;241m=\u001b[39m FourCal()\n\u001b[0;32m      2\u001b[0m a\u001b[38;5;241m.\u001b[39msetdata(\u001b[38;5;241m4\u001b[39m, \u001b[38;5;241m2\u001b[39m)\n\u001b[1;32m----> 3\u001b[0m a\u001b[38;5;241m.\u001b[39madd()\n",
      "\u001b[1;31mAttributeError\u001b[0m: 'FourCal' object has no attribute 'add'"
     ]
    }
   ],
   "source": [
    "a = FourCal()\n",
    "a.setdata(4, 2)\n",
    "a.add()"
   ]
  },
  {
   "cell_type": "markdown",
   "id": "fda40f83",
   "metadata": {},
   "source": [
    "### 곱하기, 빼기, 나누기 기능 만들기"
   ]
  },
  {
   "cell_type": "code",
   "execution_count": 24,
   "id": "22310e90",
   "metadata": {
    "ExecuteTime": {
     "end_time": "2023-12-06T08:25:28.989734Z",
     "start_time": "2023-12-06T08:25:28.979305Z"
    }
   },
   "outputs": [],
   "source": [
    "class FourCal:\n",
    "    def setdata(self, first, second):\n",
    "        self.first = first\n",
    "        self.second = second\n",
    "    def add(self):\n",
    "        result = self.first + self. second\n",
    "        return result\n",
    "    def sub(self):\n",
    "        result = self.first - self.second\n",
    "        return result\n",
    "    def mul(self):\n",
    "        result = self.first * self.second\n",
    "        return result\n",
    "    def div(self):\n",
    "        result = self.first / self.second\n",
    "        return result"
   ]
  },
  {
   "cell_type": "code",
   "execution_count": 22,
   "id": "0858383b",
   "metadata": {
    "ExecuteTime": {
     "end_time": "2023-12-06T08:05:41.233682Z",
     "start_time": "2023-12-06T08:05:41.225660Z"
    },
    "scrolled": true
   },
   "outputs": [
    {
     "name": "stdout",
     "output_type": "stream",
     "text": [
      "6\n",
      "8\n",
      "2\n",
      "2.0\n",
      "11\n",
      "24\n",
      "-5\n",
      "0.375\n"
     ]
    }
   ],
   "source": [
    "a = FourCal()\n",
    "b = FourCal()\n",
    "a.setdata(4, 2)\n",
    "b.setdata(3, 8)\n",
    "\n",
    "print(a.add())\n",
    "print(a.mul())\n",
    "print(a.sub())\n",
    "print(a.div())\n",
    "\n",
    "print(b.add())\n",
    "print(b.mul())\n",
    "print(b.sub())\n",
    "print(b.div())"
   ]
  },
  {
   "cell_type": "markdown",
   "id": "afa0e52c",
   "metadata": {},
   "source": [
    "## 생성자: 생성될 때 자동으로 호출되는 메서드 \n",
    "- 메서드명 : __init__\n",
    "- 초깃값을 설정해야 하는 경우 사용\n",
    "- 생성자로 인식되어 객체가 생성되는 시점에 자동으로 호출"
   ]
  },
  {
   "cell_type": "code",
   "execution_count": 23,
   "id": "24c0b9a0",
   "metadata": {
    "ExecuteTime": {
     "end_time": "2023-12-06T08:20:13.899579Z",
     "start_time": "2023-12-06T08:20:13.775908Z"
    },
    "scrolled": true
   },
   "outputs": [
    {
     "ename": "AttributeError",
     "evalue": "'FourCal' object has no attribute 'first'",
     "output_type": "error",
     "traceback": [
      "\u001b[1;31m---------------------------------------------------------------------------\u001b[0m",
      "\u001b[1;31mAttributeError\u001b[0m                            Traceback (most recent call last)",
      "Cell \u001b[1;32mIn[23], line 2\u001b[0m\n\u001b[0;32m      1\u001b[0m a \u001b[38;5;241m=\u001b[39m FourCal()\n\u001b[1;32m----> 2\u001b[0m a\u001b[38;5;241m.\u001b[39madd()\n",
      "Cell \u001b[1;32mIn[21], line 6\u001b[0m, in \u001b[0;36mFourCal.add\u001b[1;34m(self)\u001b[0m\n\u001b[0;32m      5\u001b[0m \u001b[38;5;28;01mdef\u001b[39;00m \u001b[38;5;21madd\u001b[39m(\u001b[38;5;28mself\u001b[39m):\n\u001b[1;32m----> 6\u001b[0m     result \u001b[38;5;241m=\u001b[39m \u001b[38;5;28mself\u001b[39m\u001b[38;5;241m.\u001b[39mfirst \u001b[38;5;241m+\u001b[39m \u001b[38;5;28mself\u001b[39m\u001b[38;5;241m.\u001b[39m second\n\u001b[0;32m      7\u001b[0m     \u001b[38;5;28;01mreturn\u001b[39;00m result\n",
      "\u001b[1;31mAttributeError\u001b[0m: 'FourCal' object has no attribute 'first'"
     ]
    }
   ],
   "source": [
    "a = FourCal()\n",
    "# a.setdata(4, 2) 메서드를 수행해야, first, second가 생성되기 때문에 오류남 \n",
    "a.add()"
   ]
  },
  {
   "cell_type": "markdown",
   "id": "b93b7443",
   "metadata": {},
   "source": [
    "- __init__ 메서드 넣기"
   ]
  },
  {
   "cell_type": "code",
   "execution_count": 2,
   "id": "cd5602b5",
   "metadata": {
    "ExecuteTime": {
     "end_time": "2023-12-08T13:38:14.513725Z",
     "start_time": "2023-12-08T13:38:14.503319Z"
    }
   },
   "outputs": [],
   "source": [
    "class FourCal:\n",
    "    def __init__(self, first, second): #메서드명 외에 setdata와 동일\n",
    "        self.first = first\n",
    "        self.second = second\n",
    "        \n",
    "    def setdata(self, first, second):\n",
    "        self.first = first\n",
    "        self.second = second\n",
    "    def add(self):\n",
    "        result = self.first + self. second\n",
    "        return result\n",
    "    def sub(self):\n",
    "        result = self.first - self.second\n",
    "        return result\n",
    "    def mul(self):\n",
    "        result = self.first * self.second\n",
    "        return result\n",
    "    def div(self):\n",
    "        result = self.first / self.second\n",
    "        return result"
   ]
  },
  {
   "cell_type": "markdown",
   "id": "12169e60",
   "metadata": {},
   "source": [
    "- 호출방법: 해당값을 함께 전달해야함   \n",
    "기존방법: a = FourCal()   \n",
    "생성자 후: a = FourCal(4, 2)"
   ]
  },
  {
   "cell_type": "code",
   "execution_count": 31,
   "id": "97726c61",
   "metadata": {
    "ExecuteTime": {
     "end_time": "2023-12-06T08:36:47.362081Z",
     "start_time": "2023-12-06T08:36:47.355786Z"
    }
   },
   "outputs": [
    {
     "name": "stdout",
     "output_type": "stream",
     "text": [
      "4 2\n"
     ]
    }
   ],
   "source": [
    "a = FourCal(4, 2)\n",
    "print(a.first, a.second)"
   ]
  },
  {
   "cell_type": "code",
   "execution_count": 30,
   "id": "5e172ce0",
   "metadata": {
    "ExecuteTime": {
     "end_time": "2023-12-06T08:35:57.307299Z",
     "start_time": "2023-12-06T08:35:57.301800Z"
    }
   },
   "outputs": [
    {
     "name": "stdout",
     "output_type": "stream",
     "text": [
      "6 2.0\n"
     ]
    }
   ],
   "source": [
    "print(a.add(), a.div())"
   ]
  },
  {
   "cell_type": "markdown",
   "id": "0dfa8218",
   "metadata": {},
   "source": [
    "## del: 소멸자"
   ]
  },
  {
   "cell_type": "code",
   "execution_count": 1,
   "id": "821ae74c",
   "metadata": {
    "ExecuteTime": {
     "end_time": "2023-12-16T13:11:59.912185Z",
     "start_time": "2023-12-16T13:11:59.749095Z"
    }
   },
   "outputs": [
    {
     "name": "stdout",
     "output_type": "stream",
     "text": [
      "나의 죽음을 알리지 말라\n"
     ]
    }
   ],
   "source": [
    "#259번\n",
    "class Human:\n",
    "    def __init__(self, name, age, sex):\n",
    "        self.name = name\n",
    "        self.age = age\n",
    "        self.sex = sex\n",
    "        \n",
    "    def __del__(slef):\n",
    "        print('나의 죽음을 알리지 말라')\n",
    "\n",
    "areum = Human(\"아름\", 25, \"여자\")\n",
    "del areum"
   ]
  },
  {
   "cell_type": "markdown",
   "id": "da9de149",
   "metadata": {},
   "source": [
    "## 예제: 은행 예금 출금 클래스를 만들어보자\n",
    "1. input : 계좌번호, 계좌소유자명, 잔액\n",
    "2. 기능1 : 입금\n",
    "3. 기능2 : 출금\n",
    "4. 기능3 : 조회"
   ]
  },
  {
   "cell_type": "code",
   "execution_count": 32,
   "id": "74f5ddc6",
   "metadata": {
    "ExecuteTime": {
     "end_time": "2023-12-06T08:59:24.570148Z",
     "start_time": "2023-12-06T08:59:24.554948Z"
    }
   },
   "outputs": [],
   "source": [
    "class input:\n",
    "    def setdata(self, 금액, 잔액):\n",
    "        self.금액 = 금액\n",
    "        self.잔액 = 잔액\n",
    "    def 입금(self):\n",
    "        result = self.잔액 + self.금액\n",
    "        return result\n",
    "    def 출금(self):\n",
    "        result = self.잔액 - self.금액\n",
    "        return result\n",
    "    def 조회(self):\n",
    "        return self.잔액"
   ]
  },
  {
   "cell_type": "code",
   "execution_count": null,
   "id": "caaf4aab",
   "metadata": {},
   "outputs": [],
   "source": [
    "a = FourCal()"
   ]
  },
  {
   "cell_type": "markdown",
   "id": "3e298323",
   "metadata": {},
   "source": [
    "## 클래스의 상속: class 클래스명(상속할클래스명)\n",
    "- 상속(Inheritance): 다른클래스의 기능을 물려받는 것\n",
    "- 기존 클래스를 변경하지 않고 기능을 추가하거나 기존 기능을 변경하려고 할 때 사용"
   ]
  },
  {
   "cell_type": "code",
   "execution_count": null,
   "id": "fa6e892c",
   "metadata": {},
   "outputs": [],
   "source": [
    "class MoreFourCal(FourCal):\n",
    "    pass"
   ]
  },
  {
   "cell_type": "markdown",
   "id": "9c5a0db2",
   "metadata": {},
   "source": [
    "### 예제"
   ]
  },
  {
   "cell_type": "code",
   "execution_count": 5,
   "id": "dd36cfa6",
   "metadata": {
    "ExecuteTime": {
     "end_time": "2023-12-08T13:40:04.634090Z",
     "start_time": "2023-12-08T13:40:04.624463Z"
    }
   },
   "outputs": [
    {
     "data": {
      "text/plain": [
       "16"
      ]
     },
     "execution_count": 5,
     "metadata": {},
     "output_type": "execute_result"
    }
   ],
   "source": [
    "class MoreFourCal(FourCal):\n",
    "    def pow(self):\n",
    "        result = self.first ** self.second\n",
    "        return result\n",
    "\n",
    "a = MoreFourCal(4, 2)\n",
    "a.pow()"
   ]
  },
  {
   "cell_type": "code",
   "execution_count": 6,
   "id": "b399a519",
   "metadata": {
    "ExecuteTime": {
     "end_time": "2023-12-08T13:40:07.492080Z",
     "start_time": "2023-12-08T13:40:07.483471Z"
    },
    "scrolled": true
   },
   "outputs": [
    {
     "data": {
      "text/plain": [
       "6"
      ]
     },
     "execution_count": 6,
     "metadata": {},
     "output_type": "execute_result"
    }
   ],
   "source": [
    "a.add() #기존 기능도 사용 가능"
   ]
  },
  {
   "cell_type": "markdown",
   "id": "3cf865e8",
   "metadata": {},
   "source": [
    "## 메서드 오버라이딩\n",
    "- 부모 클래스의 메서드 이름으로 다시 만드는 것. 부모 클래스 메서드 대신 오버라이딩한 메서드가 호출됨"
   ]
  },
  {
   "cell_type": "code",
   "execution_count": 7,
   "id": "2e0e1180",
   "metadata": {
    "ExecuteTime": {
     "end_time": "2023-12-08T13:41:23.713837Z",
     "start_time": "2023-12-08T13:41:23.577949Z"
    }
   },
   "outputs": [
    {
     "ename": "ZeroDivisionError",
     "evalue": "division by zero",
     "output_type": "error",
     "traceback": [
      "\u001b[1;31m---------------------------------------------------------------------------\u001b[0m",
      "\u001b[1;31mZeroDivisionError\u001b[0m                         Traceback (most recent call last)",
      "Cell \u001b[1;32mIn[7], line 2\u001b[0m\n\u001b[0;32m      1\u001b[0m a \u001b[38;5;241m=\u001b[39m FourCal(\u001b[38;5;241m4\u001b[39m, \u001b[38;5;241m0\u001b[39m)\n\u001b[1;32m----> 2\u001b[0m a\u001b[38;5;241m.\u001b[39mdiv()\n",
      "Cell \u001b[1;32mIn[2], line 19\u001b[0m, in \u001b[0;36mFourCal.div\u001b[1;34m(self)\u001b[0m\n\u001b[0;32m     18\u001b[0m \u001b[38;5;28;01mdef\u001b[39;00m \u001b[38;5;21mdiv\u001b[39m(\u001b[38;5;28mself\u001b[39m):\n\u001b[1;32m---> 19\u001b[0m     result \u001b[38;5;241m=\u001b[39m \u001b[38;5;28mself\u001b[39m\u001b[38;5;241m.\u001b[39mfirst \u001b[38;5;241m/\u001b[39m \u001b[38;5;28mself\u001b[39m\u001b[38;5;241m.\u001b[39msecond\n\u001b[0;32m     20\u001b[0m     \u001b[38;5;28;01mreturn\u001b[39;00m result\n",
      "\u001b[1;31mZeroDivisionError\u001b[0m: division by zero"
     ]
    }
   ],
   "source": [
    "a = FourCal(4, 0)\n",
    "a.div()"
   ]
  },
  {
   "cell_type": "markdown",
   "id": "119b3a4e",
   "metadata": {},
   "source": [
    "- 0으로 나눌 때 오류가 아닌 0을 리턴받게 하기"
   ]
  },
  {
   "cell_type": "code",
   "execution_count": 8,
   "id": "c6a40faf",
   "metadata": {
    "ExecuteTime": {
     "end_time": "2023-12-08T13:45:18.011779Z",
     "start_time": "2023-12-08T13:45:18.005526Z"
    }
   },
   "outputs": [],
   "source": [
    "class SafeFourCal(FourCal):\n",
    "    def div(self):\n",
    "        if self.second == 0: # 나누는 값이 0인 경우 0을 리턴하도록 수정\n",
    "            return 0\n",
    "        else:\n",
    "            return self.first/self.second"
   ]
  },
  {
   "cell_type": "code",
   "execution_count": 9,
   "id": "65b5de8a",
   "metadata": {
    "ExecuteTime": {
     "end_time": "2023-12-08T13:45:31.369510Z",
     "start_time": "2023-12-08T13:45:31.361241Z"
    }
   },
   "outputs": [
    {
     "data": {
      "text/plain": [
       "0"
      ]
     },
     "execution_count": 9,
     "metadata": {},
     "output_type": "execute_result"
    }
   ],
   "source": [
    "a = SafeFourCal(4, 0)\n",
    "a.div()"
   ]
  },
  {
   "cell_type": "markdown",
   "id": "526bf17b",
   "metadata": {},
   "source": [
    "## 클래스변수\n",
    "- 객체변수: a = FourCal()   \n",
    "클래스 밖에서 변수 선언   \n",
    "다른 객체와 독립적   \n",
    "- 클래스변수: Family.lastname   \n",
    "클래스 안에 변수를 선언하여 생성   \n",
    "수정하면 모든 객체도 수정\n",
    "### 클래스이름.클래스변수"
   ]
  },
  {
   "cell_type": "code",
   "execution_count": 10,
   "id": "ec1c6db6",
   "metadata": {
    "ExecuteTime": {
     "end_time": "2023-12-08T13:50:00.475335Z",
     "start_time": "2023-12-08T13:50:00.468905Z"
    }
   },
   "outputs": [],
   "source": [
    "class Family:\n",
    "    lastname = '김' #lastname=클래스변수"
   ]
  },
  {
   "cell_type": "code",
   "execution_count": 11,
   "id": "8bc38c49",
   "metadata": {
    "ExecuteTime": {
     "end_time": "2023-12-08T13:50:11.063423Z",
     "start_time": "2023-12-08T13:50:11.053427Z"
    }
   },
   "outputs": [
    {
     "data": {
      "text/plain": [
       "'김'"
      ]
     },
     "execution_count": 11,
     "metadata": {},
     "output_type": "execute_result"
    }
   ],
   "source": [
    "Family.lastname"
   ]
  },
  {
   "cell_type": "markdown",
   "id": "9bb2b66a",
   "metadata": {},
   "source": [
    "### 객체 통해 호출 가능"
   ]
  },
  {
   "cell_type": "code",
   "execution_count": 12,
   "id": "9d27e761",
   "metadata": {
    "ExecuteTime": {
     "end_time": "2023-12-08T13:54:02.389139Z",
     "start_time": "2023-12-08T13:54:02.380342Z"
    },
    "scrolled": true
   },
   "outputs": [
    {
     "data": {
      "text/plain": [
       "'김'"
      ]
     },
     "execution_count": 12,
     "metadata": {},
     "output_type": "execute_result"
    }
   ],
   "source": [
    "a = Family()\n",
    "a.lastname"
   ]
  },
  {
   "cell_type": "markdown",
   "id": "32d9b85c",
   "metadata": {
    "ExecuteTime": {
     "end_time": "2023-12-08T13:54:34.132794Z",
     "start_time": "2023-12-08T13:54:34.125911Z"
    }
   },
   "source": [
    "- 김을 박으로 바꾸기"
   ]
  },
  {
   "cell_type": "code",
   "execution_count": 14,
   "id": "97454ae1",
   "metadata": {
    "ExecuteTime": {
     "end_time": "2023-12-08T13:54:56.314747Z",
     "start_time": "2023-12-08T13:54:56.306708Z"
    }
   },
   "outputs": [
    {
     "data": {
      "text/plain": [
       "'박'"
      ]
     },
     "execution_count": 14,
     "metadata": {},
     "output_type": "execute_result"
    }
   ],
   "source": [
    "Family.lastname = \"박\"\n",
    "a.lastname"
   ]
  },
  {
   "cell_type": "markdown",
   "id": "8c9188b7",
   "metadata": {},
   "source": [
    "# 예외 처리\n",
    "## 오류 예외 처리 기법\n",
    "### try-except\n",
    "- try에서 오류 발생O except 수행O\n",
    "- try에서 오류 발생X except 수행X"
   ]
  },
  {
   "cell_type": "code",
   "execution_count": null,
   "id": "680f076b",
   "metadata": {},
   "outputs": [],
   "source": [
    "try:\n",
    "    ...\n",
    "except [발생오류 [as 오류변수]]:\n",
    "    ..."
   ]
  },
  {
   "cell_type": "markdown",
   "id": "aa2ad533",
   "metadata": {},
   "source": [
    "#### try-except만 쓰는 방법\n",
    "- 모든 오류 발생 시 except 블록 수행"
   ]
  },
  {
   "cell_type": "code",
   "execution_count": null,
   "id": "2c7e22a3",
   "metadata": {},
   "outputs": [],
   "source": [
    "try:\n",
    "    ...\n",
    "except:\n",
    "    ..."
   ]
  },
  {
   "cell_type": "markdown",
   "id": "56a8c957",
   "metadata": {},
   "source": [
    "#### 발생 오류만 포함한 except 문\n",
    "- 동일한 오류일 경우에만 except 블록 수행"
   ]
  },
  {
   "cell_type": "code",
   "execution_count": null,
   "id": "fde14c28",
   "metadata": {},
   "outputs": [],
   "source": [
    "try:\n",
    "    ...\n",
    "except 발생오류:\n",
    "    ..."
   ]
  },
  {
   "cell_type": "markdown",
   "id": "09b810ae",
   "metadata": {},
   "source": [
    "#### 발생 오류와 오류 변수까지 포함한 except 문\n",
    "- 오류의 내용까지 알고 싶을 때 사용"
   ]
  },
  {
   "cell_type": "code",
   "execution_count": null,
   "id": "0bd388b2",
   "metadata": {},
   "outputs": [],
   "source": [
    "try:\n",
    "    ...\n",
    "except 발생오류 as 오류변수:\n",
    "    ..."
   ]
  },
  {
   "cell_type": "code",
   "execution_count": 1,
   "id": "56510234",
   "metadata": {
    "ExecuteTime": {
     "end_time": "2023-12-10T05:59:57.913707Z",
     "start_time": "2023-12-10T05:59:57.890717Z"
    }
   },
   "outputs": [
    {
     "name": "stdout",
     "output_type": "stream",
     "text": [
      "division by zero\n"
     ]
    }
   ],
   "source": [
    "# 오류 변수 e에 담기는 오류 메시지를 출력\n",
    "try:\n",
    "    4 / 0\n",
    "except ZeroDivisionError as e:\n",
    "    print(e)"
   ]
  },
  {
   "cell_type": "markdown",
   "id": "12cde576",
   "metadata": {},
   "source": [
    "### try-finally\n",
    "- finally: try 수행 도중 항상 수행\n",
    "- 사용한 리소스를 close해야 할 때 많이 사용"
   ]
  },
  {
   "cell_type": "code",
   "execution_count": null,
   "id": "1444cf74",
   "metadata": {},
   "outputs": [],
   "source": [
    "try:\n",
    "    f = open('foo.txt', 'w')\n",
    "    # 무언가를 수행한다.\n",
    "\n",
    "    (... 생략 ...)\n",
    "\n",
    "finally:\n",
    "    f.close()  # 중간에 오류가 발생하더라도 무조건 실행된다."
   ]
  },
  {
   "cell_type": "markdown",
   "id": "c5567bc2",
   "metadata": {},
   "source": [
    "### 여러 개의 오류 처리하기"
   ]
  },
  {
   "cell_type": "code",
   "execution_count": null,
   "id": "c89d5184",
   "metadata": {},
   "outputs": [],
   "source": [
    "try:\n",
    "    ...\n",
    "except 발생오류1:\n",
    "   ... \n",
    "except 발생오류2:\n",
    "   ..."
   ]
  },
  {
   "cell_type": "code",
   "execution_count": 2,
   "id": "5c7037e1",
   "metadata": {
    "ExecuteTime": {
     "end_time": "2023-12-10T06:04:38.232173Z",
     "start_time": "2023-12-10T06:04:38.224410Z"
    }
   },
   "outputs": [
    {
     "name": "stdout",
     "output_type": "stream",
     "text": [
      "인덱싱 할 수 없습니다.\n"
     ]
    }
   ],
   "source": [
    "try:\n",
    "    a = [1,2]\n",
    "    print(a[3]) # 인덱싱 오류가 먼저 발생했으므로\n",
    "    4/0         # eroDivisionError 오류는 발생하지 않는다.\n",
    "except ZeroDivisionError:\n",
    "    print(\"0으로 나눌 수 없습니다.\")\n",
    "except IndexError:\n",
    "    print(\"인덱싱 할 수 없습니다.\")"
   ]
  },
  {
   "cell_type": "code",
   "execution_count": 3,
   "id": "4c466393",
   "metadata": {
    "ExecuteTime": {
     "end_time": "2023-12-10T06:05:06.645676Z",
     "start_time": "2023-12-10T06:05:06.639364Z"
    }
   },
   "outputs": [
    {
     "name": "stdout",
     "output_type": "stream",
     "text": [
      "list index out of range\n"
     ]
    }
   ],
   "source": [
    "try:\n",
    "    a = [1,2]\n",
    "    print(a[3])\n",
    "    4/0\n",
    "except ZeroDivisionError as e:\n",
    "    print(e)\n",
    "except IndexError as e:\n",
    "    print(e)"
   ]
  },
  {
   "cell_type": "markdown",
   "id": "c56f6984",
   "metadata": {},
   "source": [
    "- 2개 이상의 오류 동일하게 처리: 괄호로 묶기"
   ]
  },
  {
   "cell_type": "code",
   "execution_count": null,
   "id": "15882917",
   "metadata": {},
   "outputs": [],
   "source": [
    "try:\n",
    "    a = [1,2]\n",
    "    print(a[3])\n",
    "    4/0\n",
    "except (ZeroDivisionError, IndexError) as e:\n",
    "    print(e)"
   ]
  },
  {
   "cell_type": "markdown",
   "id": "df39b18c",
   "metadata": {},
   "source": [
    "### try-else\n",
    "- 오류가 없을 경우에 esle절이 수행됨"
   ]
  },
  {
   "cell_type": "code",
   "execution_count": null,
   "id": "b95df0e9",
   "metadata": {},
   "outputs": [],
   "source": [
    "try:\n",
    "    age=int(input('나이를 입력하세요: '))\n",
    "except:\n",
    "    print('입력이 정확하지 않습니다.')\n",
    "else:\n",
    "    if age <= 18:\n",
    "        print('미성년자는 출입금지입니다.')\n",
    "    else:\n",
    "        print('환영합니다.')"
   ]
  },
  {
   "cell_type": "markdown",
   "id": "e83862d4",
   "metadata": {},
   "source": [
    "## 오류 회피하기: except: pass\n",
    "- 특정 오류를 통과시켜야 할 때"
   ]
  },
  {
   "cell_type": "code",
   "execution_count": null,
   "id": "6dbfebed",
   "metadata": {},
   "outputs": [],
   "source": [
    "try:\n",
    "    f = open(\"나없는파일\", 'r')\n",
    "except FileNotFoundError:\n",
    "    pass"
   ]
  }
 ],
 "metadata": {
  "kernelspec": {
   "display_name": "Python 3 (ipykernel)",
   "language": "python",
   "name": "python3"
  },
  "language_info": {
   "codemirror_mode": {
    "name": "ipython",
    "version": 3
   },
   "file_extension": ".py",
   "mimetype": "text/x-python",
   "name": "python",
   "nbconvert_exporter": "python",
   "pygments_lexer": "ipython3",
   "version": "3.11.5"
  },
  "toc": {
   "base_numbering": 1,
   "nav_menu": {},
   "number_sections": true,
   "sideBar": true,
   "skip_h1_title": false,
   "title_cell": "Table of Contents",
   "title_sidebar": "Contents",
   "toc_cell": false,
   "toc_position": {},
   "toc_section_display": true,
   "toc_window_display": false
  }
 },
 "nbformat": 4,
 "nbformat_minor": 5
}
